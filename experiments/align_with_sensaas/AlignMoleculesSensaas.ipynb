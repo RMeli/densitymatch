{
 "cells": [
  {
   "cell_type": "markdown",
   "metadata": {},
   "source": [
    "# Align Molecules"
   ]
  },
  {
   "cell_type": "markdown",
   "metadata": {},
   "source": [
    "In this notebook we explire if we can use SENSAAS with point clouds from `libmolgrid`-generated densities in order to align molecules (as opposed to the molecular surfaces SENSAAS computes)."
   ]
  },
  {
   "cell_type": "code",
   "execution_count": 1,
   "metadata": {},
   "outputs": [
    {
     "data": {
      "text/html": [
       "\n",
       "                <script type=\"application/javascript\" id=\"jupyter_black\">\n",
       "                (function() {\n",
       "                    if (window.IPython === undefined) {\n",
       "                        return\n",
       "                    }\n",
       "                    var msg = \"WARNING: it looks like you might have loaded \" +\n",
       "                        \"jupyter_black in a non-lab notebook with \" +\n",
       "                        \"`is_lab=True`. Please double check, and if \" +\n",
       "                        \"loading with `%load_ext` please review the README!\"\n",
       "                    console.log(msg)\n",
       "                    alert(msg)\n",
       "                })()\n",
       "                </script>\n",
       "                "
      ],
      "text/plain": [
       "<IPython.core.display.HTML object>"
      ]
     },
     "metadata": {},
     "output_type": "display_data"
    }
   ],
   "source": [
    "%load_ext autoreload\n",
    "%autoreload 2\n",
    "%load_ext jupyter_black"
   ]
  },
  {
   "cell_type": "code",
   "execution_count": 2,
   "metadata": {},
   "outputs": [],
   "source": [
    "# sensaas: sensaas coloring method for PCDs\n",
    "# libmolgrid: libmolgrid coloring method for PCDs\n",
    "method = \"sensaas\"\n",
    "\n",
    "# Repeat alignment for each scaffold to get some statistics\n",
    "repeats = 25"
   ]
  },
  {
   "cell_type": "code",
   "execution_count": 3,
   "metadata": {},
   "outputs": [],
   "source": [
    "dir = f\"failed-{method}/\"\n",
    "for f in os.listdir(dir):\n",
    "    os.remove(os.path.join(dir, f))"
   ]
  },
  {
   "cell_type": "markdown",
   "metadata": {},
   "source": [
    "### Libraries"
   ]
  },
  {
   "cell_type": "code",
   "execution_count": 4,
   "metadata": {},
   "outputs": [],
   "source": [
    "import sys\n",
    "\n",
    "sys.path.append(\"../../\")\n",
    "sys.path.append(\"../\")"
   ]
  },
  {
   "cell_type": "code",
   "execution_count": 5,
   "metadata": {},
   "outputs": [
    {
     "name": "stdout",
     "output_type": "stream",
     "text": [
      "Jupyter environment detected. Enabling Open3D WebVisualizer.\n",
      "[Open3D INFO] WebRTC GUI backend enabled.\n",
      "[Open3D INFO] WebRTCWindowSystem: HTTP handshake server disabled.\n"
     ]
    }
   ],
   "source": [
    "import open3d as o3d\n",
    "import pandas as pd\n",
    "from collections import defaultdict\n",
    "\n",
    "import re, os\n",
    "from rdkit import Chem"
   ]
  },
  {
   "cell_type": "code",
   "execution_count": 6,
   "metadata": {},
   "outputs": [],
   "source": [
    "from utils import align_and_show"
   ]
  },
  {
   "cell_type": "markdown",
   "metadata": {},
   "source": [
    "Store RMSD before and after alignment (for both BRD4 and CDK2)"
   ]
  },
  {
   "cell_type": "code",
   "execution_count": 7,
   "metadata": {},
   "outputs": [],
   "source": [
    "rmsds = defaultdict(list)\n",
    "rmsdreps = defaultdict(list)"
   ]
  },
  {
   "cell_type": "markdown",
   "metadata": {},
   "source": [
    "## BRD4 Inhibitors"
   ]
  },
  {
   "cell_type": "code",
   "execution_count": 8,
   "metadata": {},
   "outputs": [],
   "source": [
    "path = \"../ligands/BRD4\""
   ]
  },
  {
   "cell_type": "markdown",
   "metadata": {},
   "source": [
    "Loda original BRD4 inhibitors together with their point cloud representation (pre-computed):"
   ]
  },
  {
   "cell_type": "code",
   "execution_count": 9,
   "metadata": {},
   "outputs": [
    {
     "name": "stdout",
     "output_type": "stream",
     "text": [
      "['../ligands/BRD4/ligand-1_sensaas.pcd', '../ligands/BRD4/ligand-2_sensaas.pcd', '../ligands/BRD4/ligand-3_sensaas.pcd', '../ligands/BRD4/ligand-4_sensaas.pcd', '../ligands/BRD4/ligand-5_sensaas.pcd', '../ligands/BRD4/ligand-6_sensaas.pcd', '../ligands/BRD4/ligand-7_sensaas.pcd', '../ligands/BRD4/ligand-8_sensaas.pcd', '../ligands/BRD4/ligand-9_sensaas.pcd', '../ligands/BRD4/ligand-10_sensaas.pcd']\n"
     ]
    }
   ],
   "source": [
    "files = []\n",
    "for f in os.listdir(path):\n",
    "    fname, ext = os.path.splitext(f)\n",
    "    if ext == \".pcd\" and method in f and not \"tran\" in f:\n",
    "        files.append(os.path.join(path, f))\n",
    "\n",
    "# Sort BRD4 ligand files by number\n",
    "r = re.compile(\"\\d{1,2}\")\n",
    "files.sort(key=lambda f: int(r.search(os.path.basename(f)).group()))\n",
    "\n",
    "print(files)\n",
    "\n",
    "pcds = []\n",
    "mols = []\n",
    "for f in files:\n",
    "    pcd = o3d.io.read_point_cloud(f)\n",
    "    pcds.append(pcd)\n",
    "\n",
    "    s = Chem.SDMolSupplier(f.replace(\".pcd\", \".sdf\").replace(f\"_{method}\", \"\"))\n",
    "    mol = next(s)\n",
    "    mols.append(mol)"
   ]
  },
  {
   "cell_type": "markdown",
   "metadata": {},
   "source": [
    "Load translated and rotated BRD4 inhibitors with their point-cloud representation (pre-computed):"
   ]
  },
  {
   "cell_type": "code",
   "execution_count": 10,
   "metadata": {},
   "outputs": [
    {
     "name": "stdout",
     "output_type": "stream",
     "text": [
      "['../ligands/BRD4/ligand-1_tran_sensaas.pcd', '../ligands/BRD4/ligand-2_tran_sensaas.pcd', '../ligands/BRD4/ligand-3_tran_sensaas.pcd', '../ligands/BRD4/ligand-4_tran_sensaas.pcd', '../ligands/BRD4/ligand-5_tran_sensaas.pcd', '../ligands/BRD4/ligand-6_tran_sensaas.pcd', '../ligands/BRD4/ligand-7_tran_sensaas.pcd', '../ligands/BRD4/ligand-8_tran_sensaas.pcd', '../ligands/BRD4/ligand-9_tran_sensaas.pcd', '../ligands/BRD4/ligand-10_tran_sensaas.pcd']\n"
     ]
    }
   ],
   "source": [
    "files = []\n",
    "for f in os.listdir(path):\n",
    "    fname, ext = os.path.splitext(f)\n",
    "    if ext == \".pcd\" and f\"tran_{method}\" in fname:\n",
    "        files.append(os.path.join(path, f))\n",
    "\n",
    "# Sort BRD4 ligand files by number\n",
    "r = re.compile(\"\\d{1,2}\")\n",
    "files.sort(key=lambda f: int(r.search(os.path.basename(f)).group()))\n",
    "\n",
    "print(files)\n",
    "\n",
    "tpcds = []\n",
    "tmols = []\n",
    "for f in files:\n",
    "    pcd = o3d.io.read_point_cloud(f)\n",
    "    tpcds.append(pcd)\n",
    "\n",
    "    s = Chem.SDMolSupplier(f.replace(\".pcd\", \".sdf\").replace(f\"_{method}\", \"\"))\n",
    "    mol = next(s)\n",
    "    tmols.append(mol)"
   ]
  },
  {
   "cell_type": "code",
   "execution_count": 11,
   "metadata": {},
   "outputs": [],
   "source": [
    "for i, f in enumerate(files):\n",
    "    rmsd_i, rmsd_f, _, _ = align_and_show(mols[i], pcds[i], tmols[i], tpcds[i])\n",
    "    rmsds[\"system\"].append(\"BRD4\")\n",
    "    rmsds[\"lig\"].append(\n",
    "        os.path.splitext(os.path.basename(f))[0].replace(f\"_tran_{method}\", \"\")\n",
    "    )\n",
    "    rmsds[\"RMSDi\"].append(rmsd_i)\n",
    "    rmsds[\"RMSDf\"].append(rmsd_f)\n",
    "    rmsds[\"idx\"].append(i)"
   ]
  },
  {
   "cell_type": "markdown",
   "metadata": {},
   "source": [
    "### Failures"
   ]
  },
  {
   "cell_type": "code",
   "execution_count": 12,
   "metadata": {},
   "outputs": [],
   "source": [
    "df = pd.DataFrame(rmsds)"
   ]
  },
  {
   "cell_type": "code",
   "execution_count": 13,
   "metadata": {},
   "outputs": [
    {
     "data": {
      "text/html": [
       "<div>\n",
       "<style scoped>\n",
       "    .dataframe tbody tr th:only-of-type {\n",
       "        vertical-align: middle;\n",
       "    }\n",
       "\n",
       "    .dataframe tbody tr th {\n",
       "        vertical-align: top;\n",
       "    }\n",
       "\n",
       "    .dataframe thead th {\n",
       "        text-align: right;\n",
       "    }\n",
       "</style>\n",
       "<table border=\"1\" class=\"dataframe\">\n",
       "  <thead>\n",
       "    <tr style=\"text-align: right;\">\n",
       "      <th></th>\n",
       "      <th>system</th>\n",
       "      <th>lig</th>\n",
       "      <th>RMSDi</th>\n",
       "      <th>RMSDf</th>\n",
       "      <th>idx</th>\n",
       "    </tr>\n",
       "  </thead>\n",
       "  <tbody>\n",
       "  </tbody>\n",
       "</table>\n",
       "</div>"
      ],
      "text/plain": [
       "Empty DataFrame\n",
       "Columns: [system, lig, RMSDi, RMSDf, idx]\n",
       "Index: []"
      ]
     },
     "execution_count": 13,
     "metadata": {},
     "output_type": "execute_result"
    }
   ],
   "source": [
    "df[df.RMSDf > 2.0]"
   ]
  },
  {
   "cell_type": "code",
   "execution_count": 14,
   "metadata": {},
   "outputs": [],
   "source": [
    "for _, (i, lig) in df[df.RMSDf > 0.1][[\"idx\", \"lig\"]].iterrows():\n",
    "    _, _, p, tmol = align_and_show(mols[i], pcds[i], tmols[i], tpcds[i])\n",
    "\n",
    "    with Chem.SDWriter(f\"failed-{method}/{lig}_alignfail.sdf\") as w:\n",
    "        w.write(tmol, confId=1)\n",
    "\n",
    "    display(p)"
   ]
  },
  {
   "cell_type": "markdown",
   "metadata": {},
   "source": [
    "### Repeats"
   ]
  },
  {
   "cell_type": "code",
   "execution_count": 15,
   "metadata": {},
   "outputs": [],
   "source": [
    "for _ in range(repeats):\n",
    "    for i, f in enumerate(files):\n",
    "        rmsd_i, rmsd_f, _, _ = align_and_show(mols[i], pcds[i], tmols[i], tpcds[i])\n",
    "        rmsdreps[\"system\"].append(\"BRD4\")\n",
    "        rmsdreps[\"lig\"].append(\n",
    "            os.path.splitext(os.path.basename(f))[0].replace(f\"_tran_{method}\", \"\")\n",
    "        )\n",
    "        rmsdreps[\"RMSDi\"].append(rmsd_i)\n",
    "        rmsdreps[\"RMSDf\"].append(rmsd_f)\n",
    "        rmsdreps[\"idx\"].append(i)"
   ]
  },
  {
   "cell_type": "markdown",
   "metadata": {},
   "source": [
    "## CDK2 Inhibitors"
   ]
  },
  {
   "cell_type": "code",
   "execution_count": 16,
   "metadata": {},
   "outputs": [],
   "source": [
    "path = \"../ligands/CDK2\""
   ]
  },
  {
   "cell_type": "code",
   "execution_count": 17,
   "metadata": {},
   "outputs": [
    {
     "name": "stdout",
     "output_type": "stream",
     "text": [
      "['../ligands/CDK2/4ek4_B_1CK_sensaas.pcd', '../ligands/CDK2/4ek5_B_03K_sensaas.pcd', '../ligands/CDK2/4fkg_B_4CK_sensaas.pcd', '../ligands/CDK2/4fki_B_09K_sensaas.pcd', '../ligands/CDK2/4fkj_B_11K_sensaas.pcd', '../ligands/CDK2/3sw4_B_18K_sensaas.pcd', '../ligands/CDK2/3sw7_B_19K_sensaas.pcd', '../ligands/CDK2/4fko_B_20K_sensaas.pcd', '../ligands/CDK2/4fkp_B_LS5_sensaas.pcd', '../ligands/CDK2/4fkq_B_42K_sensaas.pcd', '../ligands/CDK2/4fkr_B_45K_sensaas.pcd', '../ligands/CDK2/4fks_B_46K_sensaas.pcd', '../ligands/CDK2/4fkt_B_48K_sensaas.pcd', '../ligands/CDK2/4fku_D_60K_sensaas.pcd', '../ligands/CDK2/4fkv_B_61K_sensaas.pcd', '../ligands/CDK2/4fkw_B_62K_sensaas.pcd']\n"
     ]
    }
   ],
   "source": [
    "files = []\n",
    "for f in os.listdir(path):\n",
    "    fname, ext = os.path.splitext(f)\n",
    "    if ext == \".pcd\" and method in f and not \"tran\" in f:\n",
    "        files.append(os.path.join(path, f))\n",
    "\n",
    "# Order ligands\n",
    "# This should make the three chemical series pop-up in the PCD fit\n",
    "names = {\n",
    "    \"4ek4_B_1CK\": \"CS1\",\n",
    "    \"4ek5_B_03K\": \"CS3\",\n",
    "    \"4fkg_B_4CK\": \"CS4\",\n",
    "    \"4fki_B_09K\": \"CS9\",\n",
    "    \"4fkj_B_11K\": \"CS11\",\n",
    "    \"3sw4_B_18K\": \"CS18\",\n",
    "    \"3sw7_B_19K\": \"CS19\",\n",
    "    \"4fko_B_20K\": \"CS20\",\n",
    "    \"4fkp_B_LS5\": \"CS241\",\n",
    "    \"4fkq_B_42K\": \"CS242\",\n",
    "    \"4fkr_B_45K\": \"CS245\",\n",
    "    \"4fks_B_46K\": \"CS246\",\n",
    "    \"4fkt_B_48K\": \"CS248\",\n",
    "    \"4fku_D_60K\": \"CS260\",\n",
    "    \"4fkv_B_61K\": \"CS261\",\n",
    "    \"4fkw_B_62K\": \"CS262\",\n",
    "}\n",
    "\n",
    "files.sort(\n",
    "    key=lambda f: int(\n",
    "        names[\n",
    "            os.path.splitext(os.path.basename(f))[0].replace(f\"_{method}\", \"\")\n",
    "        ].replace(\"CS\", \"\")\n",
    "    )\n",
    ")\n",
    "\n",
    "print(files)\n",
    "\n",
    "pcds = []\n",
    "mols = []\n",
    "for f in files:\n",
    "    pcd = o3d.io.read_point_cloud(f)\n",
    "    pcds.append(pcd)\n",
    "\n",
    "    s = Chem.SDMolSupplier(f.replace(\".pcd\", \".sdf\").replace(f\"_{method}\", \"\"))\n",
    "    mol = next(s)\n",
    "    mols.append(mol)"
   ]
  },
  {
   "cell_type": "code",
   "execution_count": 18,
   "metadata": {},
   "outputs": [
    {
     "name": "stdout",
     "output_type": "stream",
     "text": [
      "['../ligands/CDK2/4ek4_B_1CK_tran_sensaas.pcd', '../ligands/CDK2/4ek5_B_03K_tran_sensaas.pcd', '../ligands/CDK2/4fkg_B_4CK_tran_sensaas.pcd', '../ligands/CDK2/4fki_B_09K_tran_sensaas.pcd', '../ligands/CDK2/4fkj_B_11K_tran_sensaas.pcd', '../ligands/CDK2/3sw4_B_18K_tran_sensaas.pcd', '../ligands/CDK2/3sw7_B_19K_tran_sensaas.pcd', '../ligands/CDK2/4fko_B_20K_tran_sensaas.pcd', '../ligands/CDK2/4fkp_B_LS5_tran_sensaas.pcd', '../ligands/CDK2/4fkq_B_42K_tran_sensaas.pcd', '../ligands/CDK2/4fkr_B_45K_tran_sensaas.pcd', '../ligands/CDK2/4fks_B_46K_tran_sensaas.pcd', '../ligands/CDK2/4fkt_B_48K_tran_sensaas.pcd', '../ligands/CDK2/4fku_D_60K_tran_sensaas.pcd', '../ligands/CDK2/4fkv_B_61K_tran_sensaas.pcd', '../ligands/CDK2/4fkw_B_62K_tran_sensaas.pcd']\n"
     ]
    }
   ],
   "source": [
    "files = []\n",
    "for f in os.listdir(path):\n",
    "    fname, ext = os.path.splitext(f)\n",
    "    if ext == \".pcd\" and f\"tran_{method}\" in fname:\n",
    "        files.append(os.path.join(path, f))\n",
    "\n",
    "# Order ligands\n",
    "# This should make the three chemical series pop-up in the PCD fit\n",
    "names = {\n",
    "    \"4ek4_B_1CK\": \"CS1\",\n",
    "    \"4ek5_B_03K\": \"CS3\",\n",
    "    \"4fkg_B_4CK\": \"CS4\",\n",
    "    \"4fki_B_09K\": \"CS9\",\n",
    "    \"4fkj_B_11K\": \"CS11\",\n",
    "    \"3sw4_B_18K\": \"CS18\",\n",
    "    \"3sw7_B_19K\": \"CS19\",\n",
    "    \"4fko_B_20K\": \"CS20\",\n",
    "    \"4fkp_B_LS5\": \"CS241\",\n",
    "    \"4fkq_B_42K\": \"CS242\",\n",
    "    \"4fkr_B_45K\": \"CS245\",\n",
    "    \"4fks_B_46K\": \"CS246\",\n",
    "    \"4fkt_B_48K\": \"CS248\",\n",
    "    \"4fku_D_60K\": \"CS260\",\n",
    "    \"4fkv_B_61K\": \"CS261\",\n",
    "    \"4fkw_B_62K\": \"CS262\",\n",
    "}\n",
    "\n",
    "files.sort(\n",
    "    key=lambda f: int(\n",
    "        names[\n",
    "            os.path.splitext(os.path.basename(f))[0].replace(f\"_tran_{method}\", \"\")\n",
    "        ].replace(\"CS\", \"\")\n",
    "    )\n",
    ")\n",
    "\n",
    "print(files)\n",
    "\n",
    "tpcds = []\n",
    "tmols = []\n",
    "for f in files:\n",
    "    pcd = o3d.io.read_point_cloud(f)\n",
    "    tpcds.append(pcd)\n",
    "\n",
    "    s = Chem.SDMolSupplier(f.replace(\".pcd\", \".sdf\").replace(f\"_{method}\", \"\"))\n",
    "    mol = next(s)\n",
    "    tmols.append(mol)"
   ]
  },
  {
   "cell_type": "code",
   "execution_count": 19,
   "metadata": {},
   "outputs": [],
   "source": [
    "for i, f in enumerate(files):\n",
    "    rmsd_i, rmsd_f, _, _ = align_and_show(mols[i], pcds[i], tmols[i], tpcds[i])\n",
    "    rmsds[\"system\"].append(\"CDK2\")\n",
    "    rmsds[\"lig\"].append(\n",
    "        names[os.path.splitext(os.path.basename(f))[0].replace(f\"_tran_{method}\", \"\")]\n",
    "    )\n",
    "    rmsds[\"RMSDi\"].append(rmsd_i)\n",
    "    rmsds[\"RMSDf\"].append(rmsd_f)\n",
    "    rmsds[\"idx\"].append(i)"
   ]
  },
  {
   "cell_type": "markdown",
   "metadata": {},
   "source": [
    "### Failures"
   ]
  },
  {
   "cell_type": "code",
   "execution_count": 20,
   "metadata": {},
   "outputs": [],
   "source": [
    "df = pd.DataFrame(rmsds)\n",
    "df = df[df.system == \"CDK2\"]"
   ]
  },
  {
   "cell_type": "code",
   "execution_count": 21,
   "metadata": {},
   "outputs": [
    {
     "data": {
      "application/3dmoljs_load.v0": "<div id=\"3dmolviewer_16498464715729337\"  style=\"position: relative; width: 640px; height: 480px\">\n        <p id=\"3dmolwarning_16498464715729337\" style=\"background-color:#ffcccc;color:black\">You appear to be running in JupyterLab (or JavaScript failed to load for some other reason).  You need to install the 3dmol extension: <br>\n        <tt>jupyter labextension install jupyterlab_3dmol</tt></p>\n        </div>\n<script>\n\nvar loadScriptAsync = function(uri){\n  return new Promise((resolve, reject) => {\n    var tag = document.createElement('script');\n    tag.src = uri;\n    tag.async = true;\n    tag.onload = () => {\n      resolve();\n    };\n  var firstScriptTag = document.getElementsByTagName('script')[0];\n  firstScriptTag.parentNode.insertBefore(tag, firstScriptTag);\n});\n};\n\nif(typeof $3Dmolpromise === 'undefined') {\n$3Dmolpromise = null;\n  $3Dmolpromise = loadScriptAsync('https://3dmol.org/build/3Dmol.js');\n}\n\nvar viewer_16498464715729337 = null;\nvar warn = document.getElementById(\"3dmolwarning_16498464715729337\");\nif(warn) {\n    warn.parentNode.removeChild(warn);\n}\n$3Dmolpromise.then(function() {\nviewer_16498464715729337 = $3Dmol.createViewer($(\"#3dmolviewer_16498464715729337\"),{backgroundColor:\"white\"});\nviewer_16498464715729337.zoomTo();\n\tviewer_16498464715729337.addModel(\"4fks_B_46K.pdb\\n     RDKit          3D\\n\\n 28 31  0  0  1  0  0  0  0  0999 V2000\\n   -4.8870  -12.9650   30.6370 C   0  0  0  0  0  0  0  0  0  0  0  0\\n   -6.1420  -12.7230   28.4380 N   0  0  0  0  0  0  0  0  0  0  0  0\\n   -4.6880  -14.4690   28.7620 O   0  0  0  0  0  0  0  0  0  0  0  0\\n   -6.9400  -11.3180   28.8710 S   0  0  0  0  0  0  0  0  0  0  0  0\\n   -5.1970  -13.4560   29.2450 C   0  0  0  0  0  0  0  0  0  0  0  0\\n   -2.7620   -7.1720   29.1110 N   0  0  0  0  0  0  0  0  0  0  0  0\\n   -7.5660  -11.4110   30.1560 O   0  0  0  0  0  0  0  0  0  0  0  0\\n    0.6630   -8.0440   25.8280 S   0  0  0  0  0  0  0  0  0  0  0  0\\n   -5.6870  -10.2160   28.9910 C   0  0  0  0  0  0  0  0  0  0  0  0\\n   -0.0460   -3.9280   28.7610 N   0  0  0  0  0  0  0  0  0  0  0  0\\n   -7.7360  -10.8560   27.7810 O   0  0  0  0  0  0  0  0  0  0  0  0\\n   -5.5880   -9.3650   30.1270 C   0  0  0  0  0  0  0  0  0  0  0  0\\n    2.7690   -6.7270   24.9500 N   0  0  0  0  0  0  0  0  0  0  0  0\\n   -1.9200   -4.6810   29.9430 O   0  0  0  0  0  0  0  0  0  0  0  0\\n   -4.6210   -8.3680   30.1690 C   0  0  0  0  0  0  0  0  0  0  0  0\\n   -3.7160   -8.2090   29.1110 C   0  0  0  0  0  0  0  0  0  0  0  0\\n   -1.7070   -7.0400   28.2500 C   0  0  0  0  0  0  0  0  0  0  0  0\\n   -0.8840   -6.0110   28.2670 C   0  0  0  0  0  0  0  0  0  0  0  0\\n   -1.0400   -4.8180   29.0980 C   0  0  0  0  0  0  0  0  0  0  0  0\\n    0.7840   -4.4900   27.7660 C   0  0  0  0  0  0  0  0  0  0  0  0\\n    1.8540   -3.8970   27.1580 C   0  0  0  0  0  0  0  0  0  0  0  0\\n    2.5860   -4.6360   26.2010 C   0  0  0  0  0  0  0  0  0  0  0  0\\n    2.1390   -5.8990   25.9080 C   0  0  0  0  0  0  0  0  0  0  0  0\\n    2.0900   -7.8220   24.8350 C   0  0  0  0  0  0  0  0  0  0  0  0\\n    0.9960   -6.4860   26.4900 C   0  0  0  0  0  0  0  0  0  0  0  0\\n    0.2980   -5.7920   27.4450 C   0  0  0  0  0  0  0  0  0  0  0  0\\n   -3.8300   -9.0460   27.9710 C   0  0  0  0  0  0  0  0  0  0  0  0\\n   -4.7910  -10.0370   27.9520 C   0  0  0  0  0  0  0  0  0  0  0  0\\n  1  5  1  0\\n  2  4  1  0\\n  2  5  1  0\\n  3  5  2  0\\n  4 11  2  0\\n  4  7  2  0\\n  4  9  1  0\\n  6 17  1  0\\n  6 16  1  0\\n  8 24  1  0\\n  8 25  1  0\\n  9 28  2  0\\n  9 12  1  0\\n 10 20  1  0\\n 10 19  1  0\\n 12 15  2  0\\n 13 24  2  0\\n 13 23  1  0\\n 14 19  2  0\\n 15 16  1  0\\n 16 27  2  0\\n 18 17  2  0\\n 18 26  1  0\\n 18 19  1  0\\n 20 26  2  0\\n 20 21  1  0\\n 21 22  2  0\\n 22 23  1  0\\n 23 25  2  0\\n 25 26  1  0\\n 27 28  1  0\\nM  END\\n\",\"sdf\");\n\tviewer_16498464715729337.addModel(\"4fks_B_46K.pdb\\n     RDKit          3D\\n\\n 28 31  0  0  1  0  0  0  0  0999 V2000\\n   26.3981  -16.7519  -11.7402 C   0  0  0  0  0  0  0  0  0  0  0  0\\n   24.5506  -17.0341  -10.0150 N   0  0  0  0  0  0  0  0  0  0  0  0\\n   24.1034  -17.2907  -12.2515 O   0  0  0  0  0  0  0  0  0  0  0  0\\n   25.5224  -16.7024   -8.6944 S   0  0  0  0  0  0  0  0  0  0  0  0\\n   24.9571  -17.0384  -11.3993 C   0  0  0  0  0  0  0  0  0  0  0  0\\n   26.8245  -10.9735   -9.1265 N   0  0  0  0  0  0  0  0  0  0  0  0\\n   26.7437  -17.4508   -8.7045 O   0  0  0  0  0  0  0  0  0  0  0  0\\n   23.1456   -8.5570  -11.1001 S   0  0  0  0  0  0  0  0  0  0  0  0\\n   25.9078  -15.0913   -8.9281 C   0  0  0  0  0  0  0  0  0  0  0  0\\n   27.3932   -6.7723   -8.9048 N   0  0  0  0  0  0  0  0  0  0  0  0\\n   24.7431  -16.7270   -7.4997 O   0  0  0  0  0  0  0  0  0  0  0  0\\n   27.2567  -14.6535   -8.8126 C   0  0  0  0  0  0  0  0  0  0  0  0\\n   22.5992   -6.0105  -11.4969 N   0  0  0  0  0  0  0  0  0  0  0  0\\n   28.4004   -8.8261   -8.4113 O   0  0  0  0  0  0  0  0  0  0  0  0\\n   27.5586  -13.2991   -8.8848 C   0  0  0  0  0  0  0  0  0  0  0  0\\n   26.5464  -12.3546   -9.1018 C   0  0  0  0  0  0  0  0  0  0  0  0\\n   25.9725   -9.9813   -9.5281 C   0  0  0  0  0  0  0  0  0  0  0  0\\n   26.2756   -8.7002   -9.4700 C   0  0  0  0  0  0  0  0  0  0  0  0\\n   27.4844   -8.1447   -8.8630 C   0  0  0  0  0  0  0  0  0  0  0  0\\n   26.1924   -6.3905   -9.5428 C   0  0  0  0  0  0  0  0  0  0  0  0\\n   25.7371   -5.1181   -9.7424 C   0  0  0  0  0  0  0  0  0  0  0  0\\n   24.5182   -4.9343  -10.4340 C   0  0  0  0  0  0  0  0  0  0  0  0\\n   23.8410   -6.0619  -10.8221 C   0  0  0  0  0  0  0  0  0  0  0  0\\n   22.1683   -7.2180  -11.6690 C   0  0  0  0  0  0  0  0  0  0  0  0\\n   24.2809   -7.3761  -10.5587 C   0  0  0  0  0  0  0  0  0  0  0  0\\n   25.4790   -7.5669   -9.9191 C   0  0  0  0  0  0  0  0  0  0  0  0\\n   25.2001  -12.7924   -9.1965 C   0  0  0  0  0  0  0  0  0  0  0  0\\n   24.9211  -14.1429   -9.1319 C   0  0  0  0  0  0  0  0  0  0  0  0\\n  1  5  1  0\\n  2  4  1  0\\n  2  5  1  0\\n  3  5  2  0\\n  4 11  2  0\\n  4  7  2  0\\n  4  9  1  0\\n  6 17  1  0\\n  6 16  1  0\\n  8 24  1  0\\n  8 25  1  0\\n  9 28  2  0\\n  9 12  1  0\\n 10 20  1  0\\n 10 19  1  0\\n 12 15  2  0\\n 13 24  2  0\\n 13 23  1  0\\n 14 19  2  0\\n 15 16  1  0\\n 16 27  2  0\\n 18 17  2  0\\n 18 26  1  0\\n 18 19  1  0\\n 20 26  2  0\\n 20 21  1  0\\n 21 22  2  0\\n 22 23  1  0\\n 23 25  2  0\\n 25 26  1  0\\n 27 28  1  0\\nM  END\\n\",\"sdf\");\n\tviewer_16498464715729337.addModel(\"4fks_B_46K.pdb\\n     RDKit          3D\\n\\n 28 31  0  0  1  0  0  0  0  0999 V2000\\n   26.3643  -16.7382  -11.6976 C   0  0  0  0  0  0  0  0  0  0  0  0\\n   24.5172  -17.0060   -9.9698 N   0  0  0  0  0  0  0  0  0  0  0  0\\n   24.0687  -17.2775  -12.2043 O   0  0  0  0  0  0  0  0  0  0  0  0\\n   25.4899  -16.6666   -8.6519 S   0  0  0  0  0  0  0  0  0  0  0  0\\n   24.9231  -17.0204  -11.3542 C   0  0  0  0  0  0  0  0  0  0  0  0\\n   26.7995  -10.9425   -9.1239 N   0  0  0  0  0  0  0  0  0  0  0  0\\n   26.7102  -17.4166   -8.6574 O   0  0  0  0  0  0  0  0  0  0  0  0\\n   23.1230   -8.5347  -11.1126 S   0  0  0  0  0  0  0  0  0  0  0  0\\n   25.8774  -15.0576   -8.8968 C   0  0  0  0  0  0  0  0  0  0  0  0\\n   27.3740   -6.7406   -8.9314 N   0  0  0  0  0  0  0  0  0  0  0  0\\n   24.7112  -16.6819   -7.4567 O   0  0  0  0  0  0  0  0  0  0  0  0\\n   27.2269  -14.6208   -8.7848 C   0  0  0  0  0  0  0  0  0  0  0  0\\n   22.5798   -5.9903  -11.5267 N   0  0  0  0  0  0  0  0  0  0  0  0\\n   28.3786   -8.7923   -8.4241 O   0  0  0  0  0  0  0  0  0  0  0  0\\n   27.5306  -13.2673   -8.8665 C   0  0  0  0  0  0  0  0  0  0  0  0\\n   26.5196  -12.3231   -9.0895 C   0  0  0  0  0  0  0  0  0  0  0  0\\n   25.9487   -9.9519   -9.5320 C   0  0  0  0  0  0  0  0  0  0  0  0\\n   26.2535   -8.6709   -9.4828 C   0  0  0  0  0  0  0  0  0  0  0  0\\n   27.4633   -8.1129   -8.8801 C   0  0  0  0  0  0  0  0  0  0  0  0\\n   26.1733   -6.3617   -9.5714 C   0  0  0  0  0  0  0  0  0  0  0  0\\n   25.7197   -5.0900   -9.7796 C   0  0  0  0  0  0  0  0  0  0  0  0\\n   24.5007   -4.9094  -10.4719 C   0  0  0  0  0  0  0  0  0  0  0  0\\n   23.8219   -6.0387  -10.8520 C   0  0  0  0  0  0  0  0  0  0  0  0\\n   22.1473   -7.1983  -11.6902 C   0  0  0  0  0  0  0  0  0  0  0  0\\n   24.2601   -7.3516  -10.5798 C   0  0  0  0  0  0  0  0  0  0  0  0\\n   25.4582   -7.5397   -9.9394 C   0  0  0  0  0  0  0  0  0  0  0  0\\n   25.1726  -12.7597   -9.1807 C   0  0  0  0  0  0  0  0  0  0  0  0\\n   24.8919  -14.1094   -9.1067 C   0  0  0  0  0  0  0  0  0  0  0  0\\n  1  5  1  0\\n  2  4  1  0\\n  2  5  1  0\\n  3  5  2  0\\n  4 11  2  0\\n  4  7  2  0\\n  4  9  1  0\\n  6 17  1  0\\n  6 16  1  0\\n  8 24  1  0\\n  8 25  1  0\\n  9 28  2  0\\n  9 12  1  0\\n 10 20  1  0\\n 10 19  1  0\\n 12 15  2  0\\n 13 24  2  0\\n 13 23  1  0\\n 14 19  2  0\\n 15 16  1  0\\n 16 27  2  0\\n 18 17  2  0\\n 18 26  1  0\\n 18 19  1  0\\n 20 26  2  0\\n 20 21  1  0\\n 21 22  2  0\\n 22 23  1  0\\n 23 25  2  0\\n 25 26  1  0\\n 27 28  1  0\\nM  END\\n\",\"sdf\");\n\tviewer_16498464715729337.setStyle({\"model\": 0},{\"stick\": {\"colorscheme\": \"lightgreyCarbon\"}});\n\tviewer_16498464715729337.setStyle({\"model\": 1},{\"stick\": {\"colorscheme\": \"purpleCarbon\"}});\n\tviewer_16498464715729337.setStyle({\"model\": 2},{\"stick\": {\"colorscheme\": \"greyCarbon\"}});\n\tviewer_16498464715729337.zoomTo();\nviewer_16498464715729337.render();\n});\n</script>",
      "text/html": [
       "<div id=\"3dmolviewer_16498464715729337\"  style=\"position: relative; width: 640px; height: 480px\">\n",
       "        <p id=\"3dmolwarning_16498464715729337\" style=\"background-color:#ffcccc;color:black\">You appear to be running in JupyterLab (or JavaScript failed to load for some other reason).  You need to install the 3dmol extension: <br>\n",
       "        <tt>jupyter labextension install jupyterlab_3dmol</tt></p>\n",
       "        </div>\n",
       "<script>\n",
       "\n",
       "var loadScriptAsync = function(uri){\n",
       "  return new Promise((resolve, reject) => {\n",
       "    var tag = document.createElement('script');\n",
       "    tag.src = uri;\n",
       "    tag.async = true;\n",
       "    tag.onload = () => {\n",
       "      resolve();\n",
       "    };\n",
       "  var firstScriptTag = document.getElementsByTagName('script')[0];\n",
       "  firstScriptTag.parentNode.insertBefore(tag, firstScriptTag);\n",
       "});\n",
       "};\n",
       "\n",
       "if(typeof $3Dmolpromise === 'undefined') {\n",
       "$3Dmolpromise = null;\n",
       "  $3Dmolpromise = loadScriptAsync('https://3dmol.org/build/3Dmol.js');\n",
       "}\n",
       "\n",
       "var viewer_16498464715729337 = null;\n",
       "var warn = document.getElementById(\"3dmolwarning_16498464715729337\");\n",
       "if(warn) {\n",
       "    warn.parentNode.removeChild(warn);\n",
       "}\n",
       "$3Dmolpromise.then(function() {\n",
       "viewer_16498464715729337 = $3Dmol.createViewer($(\"#3dmolviewer_16498464715729337\"),{backgroundColor:\"white\"});\n",
       "viewer_16498464715729337.zoomTo();\n",
       "\tviewer_16498464715729337.addModel(\"4fks_B_46K.pdb\\n     RDKit          3D\\n\\n 28 31  0  0  1  0  0  0  0  0999 V2000\\n   -4.8870  -12.9650   30.6370 C   0  0  0  0  0  0  0  0  0  0  0  0\\n   -6.1420  -12.7230   28.4380 N   0  0  0  0  0  0  0  0  0  0  0  0\\n   -4.6880  -14.4690   28.7620 O   0  0  0  0  0  0  0  0  0  0  0  0\\n   -6.9400  -11.3180   28.8710 S   0  0  0  0  0  0  0  0  0  0  0  0\\n   -5.1970  -13.4560   29.2450 C   0  0  0  0  0  0  0  0  0  0  0  0\\n   -2.7620   -7.1720   29.1110 N   0  0  0  0  0  0  0  0  0  0  0  0\\n   -7.5660  -11.4110   30.1560 O   0  0  0  0  0  0  0  0  0  0  0  0\\n    0.6630   -8.0440   25.8280 S   0  0  0  0  0  0  0  0  0  0  0  0\\n   -5.6870  -10.2160   28.9910 C   0  0  0  0  0  0  0  0  0  0  0  0\\n   -0.0460   -3.9280   28.7610 N   0  0  0  0  0  0  0  0  0  0  0  0\\n   -7.7360  -10.8560   27.7810 O   0  0  0  0  0  0  0  0  0  0  0  0\\n   -5.5880   -9.3650   30.1270 C   0  0  0  0  0  0  0  0  0  0  0  0\\n    2.7690   -6.7270   24.9500 N   0  0  0  0  0  0  0  0  0  0  0  0\\n   -1.9200   -4.6810   29.9430 O   0  0  0  0  0  0  0  0  0  0  0  0\\n   -4.6210   -8.3680   30.1690 C   0  0  0  0  0  0  0  0  0  0  0  0\\n   -3.7160   -8.2090   29.1110 C   0  0  0  0  0  0  0  0  0  0  0  0\\n   -1.7070   -7.0400   28.2500 C   0  0  0  0  0  0  0  0  0  0  0  0\\n   -0.8840   -6.0110   28.2670 C   0  0  0  0  0  0  0  0  0  0  0  0\\n   -1.0400   -4.8180   29.0980 C   0  0  0  0  0  0  0  0  0  0  0  0\\n    0.7840   -4.4900   27.7660 C   0  0  0  0  0  0  0  0  0  0  0  0\\n    1.8540   -3.8970   27.1580 C   0  0  0  0  0  0  0  0  0  0  0  0\\n    2.5860   -4.6360   26.2010 C   0  0  0  0  0  0  0  0  0  0  0  0\\n    2.1390   -5.8990   25.9080 C   0  0  0  0  0  0  0  0  0  0  0  0\\n    2.0900   -7.8220   24.8350 C   0  0  0  0  0  0  0  0  0  0  0  0\\n    0.9960   -6.4860   26.4900 C   0  0  0  0  0  0  0  0  0  0  0  0\\n    0.2980   -5.7920   27.4450 C   0  0  0  0  0  0  0  0  0  0  0  0\\n   -3.8300   -9.0460   27.9710 C   0  0  0  0  0  0  0  0  0  0  0  0\\n   -4.7910  -10.0370   27.9520 C   0  0  0  0  0  0  0  0  0  0  0  0\\n  1  5  1  0\\n  2  4  1  0\\n  2  5  1  0\\n  3  5  2  0\\n  4 11  2  0\\n  4  7  2  0\\n  4  9  1  0\\n  6 17  1  0\\n  6 16  1  0\\n  8 24  1  0\\n  8 25  1  0\\n  9 28  2  0\\n  9 12  1  0\\n 10 20  1  0\\n 10 19  1  0\\n 12 15  2  0\\n 13 24  2  0\\n 13 23  1  0\\n 14 19  2  0\\n 15 16  1  0\\n 16 27  2  0\\n 18 17  2  0\\n 18 26  1  0\\n 18 19  1  0\\n 20 26  2  0\\n 20 21  1  0\\n 21 22  2  0\\n 22 23  1  0\\n 23 25  2  0\\n 25 26  1  0\\n 27 28  1  0\\nM  END\\n\",\"sdf\");\n",
       "\tviewer_16498464715729337.addModel(\"4fks_B_46K.pdb\\n     RDKit          3D\\n\\n 28 31  0  0  1  0  0  0  0  0999 V2000\\n   26.3981  -16.7519  -11.7402 C   0  0  0  0  0  0  0  0  0  0  0  0\\n   24.5506  -17.0341  -10.0150 N   0  0  0  0  0  0  0  0  0  0  0  0\\n   24.1034  -17.2907  -12.2515 O   0  0  0  0  0  0  0  0  0  0  0  0\\n   25.5224  -16.7024   -8.6944 S   0  0  0  0  0  0  0  0  0  0  0  0\\n   24.9571  -17.0384  -11.3993 C   0  0  0  0  0  0  0  0  0  0  0  0\\n   26.8245  -10.9735   -9.1265 N   0  0  0  0  0  0  0  0  0  0  0  0\\n   26.7437  -17.4508   -8.7045 O   0  0  0  0  0  0  0  0  0  0  0  0\\n   23.1456   -8.5570  -11.1001 S   0  0  0  0  0  0  0  0  0  0  0  0\\n   25.9078  -15.0913   -8.9281 C   0  0  0  0  0  0  0  0  0  0  0  0\\n   27.3932   -6.7723   -8.9048 N   0  0  0  0  0  0  0  0  0  0  0  0\\n   24.7431  -16.7270   -7.4997 O   0  0  0  0  0  0  0  0  0  0  0  0\\n   27.2567  -14.6535   -8.8126 C   0  0  0  0  0  0  0  0  0  0  0  0\\n   22.5992   -6.0105  -11.4969 N   0  0  0  0  0  0  0  0  0  0  0  0\\n   28.4004   -8.8261   -8.4113 O   0  0  0  0  0  0  0  0  0  0  0  0\\n   27.5586  -13.2991   -8.8848 C   0  0  0  0  0  0  0  0  0  0  0  0\\n   26.5464  -12.3546   -9.1018 C   0  0  0  0  0  0  0  0  0  0  0  0\\n   25.9725   -9.9813   -9.5281 C   0  0  0  0  0  0  0  0  0  0  0  0\\n   26.2756   -8.7002   -9.4700 C   0  0  0  0  0  0  0  0  0  0  0  0\\n   27.4844   -8.1447   -8.8630 C   0  0  0  0  0  0  0  0  0  0  0  0\\n   26.1924   -6.3905   -9.5428 C   0  0  0  0  0  0  0  0  0  0  0  0\\n   25.7371   -5.1181   -9.7424 C   0  0  0  0  0  0  0  0  0  0  0  0\\n   24.5182   -4.9343  -10.4340 C   0  0  0  0  0  0  0  0  0  0  0  0\\n   23.8410   -6.0619  -10.8221 C   0  0  0  0  0  0  0  0  0  0  0  0\\n   22.1683   -7.2180  -11.6690 C   0  0  0  0  0  0  0  0  0  0  0  0\\n   24.2809   -7.3761  -10.5587 C   0  0  0  0  0  0  0  0  0  0  0  0\\n   25.4790   -7.5669   -9.9191 C   0  0  0  0  0  0  0  0  0  0  0  0\\n   25.2001  -12.7924   -9.1965 C   0  0  0  0  0  0  0  0  0  0  0  0\\n   24.9211  -14.1429   -9.1319 C   0  0  0  0  0  0  0  0  0  0  0  0\\n  1  5  1  0\\n  2  4  1  0\\n  2  5  1  0\\n  3  5  2  0\\n  4 11  2  0\\n  4  7  2  0\\n  4  9  1  0\\n  6 17  1  0\\n  6 16  1  0\\n  8 24  1  0\\n  8 25  1  0\\n  9 28  2  0\\n  9 12  1  0\\n 10 20  1  0\\n 10 19  1  0\\n 12 15  2  0\\n 13 24  2  0\\n 13 23  1  0\\n 14 19  2  0\\n 15 16  1  0\\n 16 27  2  0\\n 18 17  2  0\\n 18 26  1  0\\n 18 19  1  0\\n 20 26  2  0\\n 20 21  1  0\\n 21 22  2  0\\n 22 23  1  0\\n 23 25  2  0\\n 25 26  1  0\\n 27 28  1  0\\nM  END\\n\",\"sdf\");\n",
       "\tviewer_16498464715729337.addModel(\"4fks_B_46K.pdb\\n     RDKit          3D\\n\\n 28 31  0  0  1  0  0  0  0  0999 V2000\\n   26.3643  -16.7382  -11.6976 C   0  0  0  0  0  0  0  0  0  0  0  0\\n   24.5172  -17.0060   -9.9698 N   0  0  0  0  0  0  0  0  0  0  0  0\\n   24.0687  -17.2775  -12.2043 O   0  0  0  0  0  0  0  0  0  0  0  0\\n   25.4899  -16.6666   -8.6519 S   0  0  0  0  0  0  0  0  0  0  0  0\\n   24.9231  -17.0204  -11.3542 C   0  0  0  0  0  0  0  0  0  0  0  0\\n   26.7995  -10.9425   -9.1239 N   0  0  0  0  0  0  0  0  0  0  0  0\\n   26.7102  -17.4166   -8.6574 O   0  0  0  0  0  0  0  0  0  0  0  0\\n   23.1230   -8.5347  -11.1126 S   0  0  0  0  0  0  0  0  0  0  0  0\\n   25.8774  -15.0576   -8.8968 C   0  0  0  0  0  0  0  0  0  0  0  0\\n   27.3740   -6.7406   -8.9314 N   0  0  0  0  0  0  0  0  0  0  0  0\\n   24.7112  -16.6819   -7.4567 O   0  0  0  0  0  0  0  0  0  0  0  0\\n   27.2269  -14.6208   -8.7848 C   0  0  0  0  0  0  0  0  0  0  0  0\\n   22.5798   -5.9903  -11.5267 N   0  0  0  0  0  0  0  0  0  0  0  0\\n   28.3786   -8.7923   -8.4241 O   0  0  0  0  0  0  0  0  0  0  0  0\\n   27.5306  -13.2673   -8.8665 C   0  0  0  0  0  0  0  0  0  0  0  0\\n   26.5196  -12.3231   -9.0895 C   0  0  0  0  0  0  0  0  0  0  0  0\\n   25.9487   -9.9519   -9.5320 C   0  0  0  0  0  0  0  0  0  0  0  0\\n   26.2535   -8.6709   -9.4828 C   0  0  0  0  0  0  0  0  0  0  0  0\\n   27.4633   -8.1129   -8.8801 C   0  0  0  0  0  0  0  0  0  0  0  0\\n   26.1733   -6.3617   -9.5714 C   0  0  0  0  0  0  0  0  0  0  0  0\\n   25.7197   -5.0900   -9.7796 C   0  0  0  0  0  0  0  0  0  0  0  0\\n   24.5007   -4.9094  -10.4719 C   0  0  0  0  0  0  0  0  0  0  0  0\\n   23.8219   -6.0387  -10.8520 C   0  0  0  0  0  0  0  0  0  0  0  0\\n   22.1473   -7.1983  -11.6902 C   0  0  0  0  0  0  0  0  0  0  0  0\\n   24.2601   -7.3516  -10.5798 C   0  0  0  0  0  0  0  0  0  0  0  0\\n   25.4582   -7.5397   -9.9394 C   0  0  0  0  0  0  0  0  0  0  0  0\\n   25.1726  -12.7597   -9.1807 C   0  0  0  0  0  0  0  0  0  0  0  0\\n   24.8919  -14.1094   -9.1067 C   0  0  0  0  0  0  0  0  0  0  0  0\\n  1  5  1  0\\n  2  4  1  0\\n  2  5  1  0\\n  3  5  2  0\\n  4 11  2  0\\n  4  7  2  0\\n  4  9  1  0\\n  6 17  1  0\\n  6 16  1  0\\n  8 24  1  0\\n  8 25  1  0\\n  9 28  2  0\\n  9 12  1  0\\n 10 20  1  0\\n 10 19  1  0\\n 12 15  2  0\\n 13 24  2  0\\n 13 23  1  0\\n 14 19  2  0\\n 15 16  1  0\\n 16 27  2  0\\n 18 17  2  0\\n 18 26  1  0\\n 18 19  1  0\\n 20 26  2  0\\n 20 21  1  0\\n 21 22  2  0\\n 22 23  1  0\\n 23 25  2  0\\n 25 26  1  0\\n 27 28  1  0\\nM  END\\n\",\"sdf\");\n",
       "\tviewer_16498464715729337.setStyle({\"model\": 0},{\"stick\": {\"colorscheme\": \"lightgreyCarbon\"}});\n",
       "\tviewer_16498464715729337.setStyle({\"model\": 1},{\"stick\": {\"colorscheme\": \"purpleCarbon\"}});\n",
       "\tviewer_16498464715729337.setStyle({\"model\": 2},{\"stick\": {\"colorscheme\": \"greyCarbon\"}});\n",
       "\tviewer_16498464715729337.zoomTo();\n",
       "viewer_16498464715729337.render();\n",
       "});\n",
       "</script>"
      ]
     },
     "metadata": {},
     "output_type": "display_data"
    },
    {
     "data": {
      "text/plain": [
       "<py3Dmol.view at 0x7fbe34321a00>"
      ]
     },
     "metadata": {},
     "output_type": "display_data"
    }
   ],
   "source": [
    "for _, (i, lig) in df[df.RMSDf > 0.1][[\"idx\", \"lig\"]].iterrows():\n",
    "    _, _, p, tmol = align_and_show(mols[i], pcds[i], tmols[i], tpcds[i])\n",
    "\n",
    "    with Chem.SDWriter(f\"failed-{method}/{lig}_alignfail.sdf\") as w:\n",
    "        w.write(tmol, confId=1)\n",
    "\n",
    "    display(p)"
   ]
  },
  {
   "cell_type": "markdown",
   "metadata": {},
   "source": [
    "### Repeats"
   ]
  },
  {
   "cell_type": "code",
   "execution_count": 22,
   "metadata": {},
   "outputs": [],
   "source": [
    "for _ in range(repeats):\n",
    "    for i, f in enumerate(files):\n",
    "        rmsd_i, rmsd_f, _, _ = align_and_show(mols[i], pcds[i], tmols[i], tpcds[i])\n",
    "        rmsdreps[\"system\"].append(\"CDK2\")\n",
    "        rmsdreps[\"lig\"].append(\n",
    "            names[\n",
    "                os.path.splitext(os.path.basename(f))[0].replace(f\"_tran_{method}\", \"\")\n",
    "            ]\n",
    "        )\n",
    "        rmsdreps[\"RMSDi\"].append(rmsd_i)\n",
    "        rmsdreps[\"RMSDf\"].append(rmsd_f)\n",
    "        rmsdreps[\"idx\"].append(i)"
   ]
  },
  {
   "cell_type": "markdown",
   "metadata": {},
   "source": [
    "## Show Results"
   ]
  },
  {
   "cell_type": "code",
   "execution_count": 23,
   "metadata": {},
   "outputs": [
    {
     "data": {
      "text/html": [
       "<div>\n",
       "<style scoped>\n",
       "    .dataframe tbody tr th:only-of-type {\n",
       "        vertical-align: middle;\n",
       "    }\n",
       "\n",
       "    .dataframe tbody tr th {\n",
       "        vertical-align: top;\n",
       "    }\n",
       "\n",
       "    .dataframe thead th {\n",
       "        text-align: right;\n",
       "    }\n",
       "</style>\n",
       "<table border=\"1\" class=\"dataframe\">\n",
       "  <thead>\n",
       "    <tr style=\"text-align: right;\">\n",
       "      <th></th>\n",
       "      <th>system</th>\n",
       "      <th>lig</th>\n",
       "      <th>RMSDi</th>\n",
       "      <th>RMSDf</th>\n",
       "      <th>idx</th>\n",
       "    </tr>\n",
       "  </thead>\n",
       "  <tbody>\n",
       "    <tr>\n",
       "      <th>0</th>\n",
       "      <td>BRD4</td>\n",
       "      <td>ligand-1</td>\n",
       "      <td>14.533324</td>\n",
       "      <td>0.095448</td>\n",
       "      <td>0</td>\n",
       "    </tr>\n",
       "    <tr>\n",
       "      <th>1</th>\n",
       "      <td>BRD4</td>\n",
       "      <td>ligand-2</td>\n",
       "      <td>3.482161</td>\n",
       "      <td>0.060450</td>\n",
       "      <td>1</td>\n",
       "    </tr>\n",
       "    <tr>\n",
       "      <th>2</th>\n",
       "      <td>BRD4</td>\n",
       "      <td>ligand-3</td>\n",
       "      <td>16.627933</td>\n",
       "      <td>0.024121</td>\n",
       "      <td>2</td>\n",
       "    </tr>\n",
       "    <tr>\n",
       "      <th>3</th>\n",
       "      <td>BRD4</td>\n",
       "      <td>ligand-4</td>\n",
       "      <td>16.260454</td>\n",
       "      <td>0.089247</td>\n",
       "      <td>3</td>\n",
       "    </tr>\n",
       "    <tr>\n",
       "      <th>4</th>\n",
       "      <td>BRD4</td>\n",
       "      <td>ligand-5</td>\n",
       "      <td>7.331523</td>\n",
       "      <td>0.035889</td>\n",
       "      <td>4</td>\n",
       "    </tr>\n",
       "    <tr>\n",
       "      <th>5</th>\n",
       "      <td>BRD4</td>\n",
       "      <td>ligand-6</td>\n",
       "      <td>19.503197</td>\n",
       "      <td>0.034171</td>\n",
       "      <td>5</td>\n",
       "    </tr>\n",
       "    <tr>\n",
       "      <th>6</th>\n",
       "      <td>BRD4</td>\n",
       "      <td>ligand-7</td>\n",
       "      <td>21.968921</td>\n",
       "      <td>0.019183</td>\n",
       "      <td>6</td>\n",
       "    </tr>\n",
       "    <tr>\n",
       "      <th>7</th>\n",
       "      <td>BRD4</td>\n",
       "      <td>ligand-8</td>\n",
       "      <td>3.888344</td>\n",
       "      <td>0.033460</td>\n",
       "      <td>7</td>\n",
       "    </tr>\n",
       "    <tr>\n",
       "      <th>8</th>\n",
       "      <td>BRD4</td>\n",
       "      <td>ligand-9</td>\n",
       "      <td>7.502592</td>\n",
       "      <td>0.040503</td>\n",
       "      <td>8</td>\n",
       "    </tr>\n",
       "    <tr>\n",
       "      <th>9</th>\n",
       "      <td>BRD4</td>\n",
       "      <td>ligand-10</td>\n",
       "      <td>23.961168</td>\n",
       "      <td>0.035424</td>\n",
       "      <td>9</td>\n",
       "    </tr>\n",
       "    <tr>\n",
       "      <th>10</th>\n",
       "      <td>CDK2</td>\n",
       "      <td>CS1</td>\n",
       "      <td>7.760494</td>\n",
       "      <td>0.023249</td>\n",
       "      <td>0</td>\n",
       "    </tr>\n",
       "    <tr>\n",
       "      <th>11</th>\n",
       "      <td>CDK2</td>\n",
       "      <td>CS3</td>\n",
       "      <td>33.737529</td>\n",
       "      <td>0.065926</td>\n",
       "      <td>1</td>\n",
       "    </tr>\n",
       "    <tr>\n",
       "      <th>12</th>\n",
       "      <td>CDK2</td>\n",
       "      <td>CS4</td>\n",
       "      <td>45.846264</td>\n",
       "      <td>0.040905</td>\n",
       "      <td>2</td>\n",
       "    </tr>\n",
       "    <tr>\n",
       "      <th>13</th>\n",
       "      <td>CDK2</td>\n",
       "      <td>CS9</td>\n",
       "      <td>21.323958</td>\n",
       "      <td>0.034745</td>\n",
       "      <td>3</td>\n",
       "    </tr>\n",
       "    <tr>\n",
       "      <th>14</th>\n",
       "      <td>CDK2</td>\n",
       "      <td>CS11</td>\n",
       "      <td>45.383193</td>\n",
       "      <td>0.036503</td>\n",
       "      <td>4</td>\n",
       "    </tr>\n",
       "    <tr>\n",
       "      <th>15</th>\n",
       "      <td>CDK2</td>\n",
       "      <td>CS18</td>\n",
       "      <td>52.592470</td>\n",
       "      <td>0.035423</td>\n",
       "      <td>5</td>\n",
       "    </tr>\n",
       "    <tr>\n",
       "      <th>16</th>\n",
       "      <td>CDK2</td>\n",
       "      <td>CS19</td>\n",
       "      <td>40.704179</td>\n",
       "      <td>0.036871</td>\n",
       "      <td>6</td>\n",
       "    </tr>\n",
       "    <tr>\n",
       "      <th>17</th>\n",
       "      <td>CDK2</td>\n",
       "      <td>CS20</td>\n",
       "      <td>53.752687</td>\n",
       "      <td>0.022322</td>\n",
       "      <td>7</td>\n",
       "    </tr>\n",
       "    <tr>\n",
       "      <th>18</th>\n",
       "      <td>CDK2</td>\n",
       "      <td>CS241</td>\n",
       "      <td>9.984236</td>\n",
       "      <td>0.050370</td>\n",
       "      <td>8</td>\n",
       "    </tr>\n",
       "    <tr>\n",
       "      <th>19</th>\n",
       "      <td>CDK2</td>\n",
       "      <td>CS242</td>\n",
       "      <td>18.092393</td>\n",
       "      <td>0.036347</td>\n",
       "      <td>9</td>\n",
       "    </tr>\n",
       "    <tr>\n",
       "      <th>20</th>\n",
       "      <td>CDK2</td>\n",
       "      <td>CS245</td>\n",
       "      <td>8.534871</td>\n",
       "      <td>0.051865</td>\n",
       "      <td>10</td>\n",
       "    </tr>\n",
       "    <tr>\n",
       "      <th>21</th>\n",
       "      <td>CDK2</td>\n",
       "      <td>CS246</td>\n",
       "      <td>47.377596</td>\n",
       "      <td>3.655407</td>\n",
       "      <td>11</td>\n",
       "    </tr>\n",
       "    <tr>\n",
       "      <th>22</th>\n",
       "      <td>CDK2</td>\n",
       "      <td>CS248</td>\n",
       "      <td>22.949335</td>\n",
       "      <td>0.045616</td>\n",
       "      <td>12</td>\n",
       "    </tr>\n",
       "    <tr>\n",
       "      <th>23</th>\n",
       "      <td>CDK2</td>\n",
       "      <td>CS260</td>\n",
       "      <td>19.277600</td>\n",
       "      <td>0.043631</td>\n",
       "      <td>13</td>\n",
       "    </tr>\n",
       "    <tr>\n",
       "      <th>24</th>\n",
       "      <td>CDK2</td>\n",
       "      <td>CS261</td>\n",
       "      <td>52.709319</td>\n",
       "      <td>0.047337</td>\n",
       "      <td>14</td>\n",
       "    </tr>\n",
       "    <tr>\n",
       "      <th>25</th>\n",
       "      <td>CDK2</td>\n",
       "      <td>CS262</td>\n",
       "      <td>8.985574</td>\n",
       "      <td>0.022426</td>\n",
       "      <td>15</td>\n",
       "    </tr>\n",
       "  </tbody>\n",
       "</table>\n",
       "</div>"
      ],
      "text/plain": [
       "   system        lig      RMSDi     RMSDf  idx\n",
       "0    BRD4   ligand-1  14.533324  0.095448    0\n",
       "1    BRD4   ligand-2   3.482161  0.060450    1\n",
       "2    BRD4   ligand-3  16.627933  0.024121    2\n",
       "3    BRD4   ligand-4  16.260454  0.089247    3\n",
       "4    BRD4   ligand-5   7.331523  0.035889    4\n",
       "5    BRD4   ligand-6  19.503197  0.034171    5\n",
       "6    BRD4   ligand-7  21.968921  0.019183    6\n",
       "7    BRD4   ligand-8   3.888344  0.033460    7\n",
       "8    BRD4   ligand-9   7.502592  0.040503    8\n",
       "9    BRD4  ligand-10  23.961168  0.035424    9\n",
       "10   CDK2        CS1   7.760494  0.023249    0\n",
       "11   CDK2        CS3  33.737529  0.065926    1\n",
       "12   CDK2        CS4  45.846264  0.040905    2\n",
       "13   CDK2        CS9  21.323958  0.034745    3\n",
       "14   CDK2       CS11  45.383193  0.036503    4\n",
       "15   CDK2       CS18  52.592470  0.035423    5\n",
       "16   CDK2       CS19  40.704179  0.036871    6\n",
       "17   CDK2       CS20  53.752687  0.022322    7\n",
       "18   CDK2      CS241   9.984236  0.050370    8\n",
       "19   CDK2      CS242  18.092393  0.036347    9\n",
       "20   CDK2      CS245   8.534871  0.051865   10\n",
       "21   CDK2      CS246  47.377596  3.655407   11\n",
       "22   CDK2      CS248  22.949335  0.045616   12\n",
       "23   CDK2      CS260  19.277600  0.043631   13\n",
       "24   CDK2      CS261  52.709319  0.047337   14\n",
       "25   CDK2      CS262   8.985574  0.022426   15"
      ]
     },
     "execution_count": 23,
     "metadata": {},
     "output_type": "execute_result"
    }
   ],
   "source": [
    "df = pd.DataFrame(rmsds)\n",
    "df"
   ]
  },
  {
   "cell_type": "code",
   "execution_count": 24,
   "metadata": {},
   "outputs": [
    {
     "data": {
      "text/html": [
       "<div>\n",
       "<style scoped>\n",
       "    .dataframe tbody tr th:only-of-type {\n",
       "        vertical-align: middle;\n",
       "    }\n",
       "\n",
       "    .dataframe tbody tr th {\n",
       "        vertical-align: top;\n",
       "    }\n",
       "\n",
       "    .dataframe thead th {\n",
       "        text-align: right;\n",
       "    }\n",
       "</style>\n",
       "<table border=\"1\" class=\"dataframe\">\n",
       "  <thead>\n",
       "    <tr style=\"text-align: right;\">\n",
       "      <th></th>\n",
       "      <th>system</th>\n",
       "      <th>lig</th>\n",
       "      <th>RMSDi</th>\n",
       "      <th>RMSDf</th>\n",
       "      <th>idx</th>\n",
       "    </tr>\n",
       "  </thead>\n",
       "  <tbody>\n",
       "    <tr>\n",
       "      <th>21</th>\n",
       "      <td>CDK2</td>\n",
       "      <td>CS246</td>\n",
       "      <td>47.377596</td>\n",
       "      <td>3.655407</td>\n",
       "      <td>11</td>\n",
       "    </tr>\n",
       "  </tbody>\n",
       "</table>\n",
       "</div>"
      ],
      "text/plain": [
       "   system    lig      RMSDi     RMSDf  idx\n",
       "21   CDK2  CS246  47.377596  3.655407   11"
      ]
     },
     "execution_count": 24,
     "metadata": {},
     "output_type": "execute_result"
    }
   ],
   "source": [
    "df[df.RMSDf > 2.0]"
   ]
  },
  {
   "cell_type": "code",
   "execution_count": 25,
   "metadata": {},
   "outputs": [],
   "source": [
    "df.to_csv(f\"alig_mol_rmsds_{method}.csv\", index=False, float_format=\"%.5f\")"
   ]
  },
  {
   "cell_type": "code",
   "execution_count": 26,
   "metadata": {},
   "outputs": [],
   "source": [
    "df = pd.DataFrame(rmsdreps)\n",
    "df.to_csv(f\"alig_mol_rmsds_{method}_repeats.csv\", index=False, float_format=\"%.5f\")"
   ]
  }
 ],
 "metadata": {
  "interpreter": {
   "hash": "2170310d8da5d5d0ced416f072c764c73705bd667e97df15cd83672f4e754559"
  },
  "kernelspec": {
   "display_name": "Python 3",
   "language": "python",
   "name": "python3"
  },
  "language_info": {
   "codemirror_mode": {
    "name": "ipython",
    "version": 3
   },
   "file_extension": ".py",
   "mimetype": "text/x-python",
   "name": "python",
   "nbconvert_exporter": "python",
   "pygments_lexer": "ipython3",
   "version": "3.9.12"
  }
 },
 "nbformat": 4,
 "nbformat_minor": 2
}
