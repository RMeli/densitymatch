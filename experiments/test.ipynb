{
 "cells": [
  {
   "cell_type": "code",
   "execution_count": 1,
   "metadata": {},
   "outputs": [
    {
     "data": {
      "text/html": [
       "\n",
       "                <script type=\"application/javascript\" id=\"jupyter_black\">\n",
       "                (function() {\n",
       "                    if (window.IPython === undefined) {\n",
       "                        return\n",
       "                    }\n",
       "                    var msg = \"WARNING: it looks like you might have loaded \" +\n",
       "                        \"jupyter_black in a non-lab notebook with \" +\n",
       "                        \"`is_lab=True`. Please double check, and if \" +\n",
       "                        \"loading with `%load_ext` please review the README!\"\n",
       "                    console.log(msg)\n",
       "                    alert(msg)\n",
       "                })()\n",
       "                </script>\n",
       "                "
      ],
      "text/plain": [
       "<IPython.core.display.HTML object>"
      ]
     },
     "metadata": {},
     "output_type": "display_data"
    }
   ],
   "source": [
    "%load_ext autoreload\n",
    "%autoreload 2\n",
    "%load_ext jupyter_black"
   ]
  },
  {
   "cell_type": "code",
   "execution_count": 2,
   "metadata": {},
   "outputs": [
    {
     "name": "stdout",
     "output_type": "stream",
     "text": [
      "Jupyter environment detected. Enabling Open3D WebVisualizer.\n",
      "[Open3D INFO] WebRTC GUI backend enabled.\n",
      "[Open3D INFO] WebRTCWindowSystem: HTTP handshake server disabled.\n"
     ]
    }
   ],
   "source": [
    "import open3d as o3d\n",
    "from rdkit import Chem\n",
    "import sys"
   ]
  },
  {
   "cell_type": "code",
   "execution_count": 3,
   "metadata": {},
   "outputs": [],
   "source": [
    "sys.path.extend([\".\", \"../\"])"
   ]
  },
  {
   "cell_type": "code",
   "execution_count": 4,
   "metadata": {},
   "outputs": [],
   "source": [
    "from score_pcd import fit_and_score\n",
    "from utils import align_and_show_scaffold"
   ]
  },
  {
   "cell_type": "code",
   "execution_count": 5,
   "metadata": {},
   "outputs": [],
   "source": [
    "pcdref = o3d.io.read_point_cloud(\"ligands/BRD4/ligand-4_molgrid.pcd\")\n",
    "pcd = o3d.io.read_point_cloud(\"ligands/BRD4/ligand-4_murcko_tran_molgrid.pcd\")\n",
    "\n",
    "molref = next(Chem.SDMolSupplier(\"ligands/BRD4/ligand-4.sdf\"))\n",
    "mol = next(Chem.SDMolSupplier(\"ligands/BRD4/ligand-4_murcko_tran.sdf\"))\n",
    "scaffoldref = next(Chem.SDMolSupplier(\"ligands/BRD4/ligand-4_murcko.sdf\"))"
   ]
  },
  {
   "cell_type": "code",
   "execution_count": 6,
   "metadata": {},
   "outputs": [
    {
     "name": "stdout",
     "output_type": "stream",
     "text": [
      "0.30033\n",
      "0.30479\n",
      "0.33437\n",
      "0.33323\n",
      "0.30033\n",
      "0.30033\n",
      "0.30479\n",
      "0.30008\n",
      "0.30350\n",
      "0.30008\n"
     ]
    }
   ],
   "source": [
    "for _ in range(10):\n",
    "    fit, cfit, tran = fit_and_score((pcd, pcdref), voxel_size=0.5, threshold=0.5)\n",
    "    print(f\"{cfit.inlier_rmse:.5f}\")"
   ]
  },
  {
   "cell_type": "code",
   "execution_count": 7,
   "metadata": {},
   "outputs": [
    {
     "name": "stdout",
     "output_type": "stream",
     "text": [
      "0.25707\n",
      "0.21341\n",
      "0.25707\n",
      "3.85652\n",
      "0.16924\n",
      "0.16924\n",
      "0.21341\n",
      "0.14095\n",
      "0.16924\n",
      "0.14095\n"
     ]
    }
   ],
   "source": [
    "for _ in range(10):\n",
    "    ri, rf, _, _ = align_and_show_scaffold(molref, pcdref, mol, pcd, scaffoldref)\n",
    "    print(f\"{rf:.5f}\")"
   ]
  },
  {
   "cell_type": "code",
   "execution_count": 9,
   "metadata": {},
   "outputs": [
    {
     "name": "stdout",
     "output_type": "stream",
     "text": [
      "molh(0)\n",
      " [-0.70870826 -0.00343504  0.02374574]\n",
      "molh(1)\n",
      " [-0.74559093 -0.04608781  0.04707924]\n",
      "cmol(0)\n",
      " [-0.70870826 -0.00343504  0.02374574]\n",
      "cmol(0)\n",
      " [-0.70870826 -0.00343504  0.02374574]\n"
     ]
    }
   ],
   "source": [
    "from rdkit.Chem import AllChem\n",
    "\n",
    "mol = Chem.MolFromSmiles(\"COO\")\n",
    "molh = Chem.AddHs(mol)\n",
    "ids = AllChem.EmbedMultipleConfs(molh, numConfs=2)\n",
    "list(ids)\n",
    "\n",
    "print(\"molh(0)\\n\", molh.GetConformer(0).GetPositions()[0])\n",
    "print(\"molh(1)\\n\", molh.GetConformer(1).GetPositions()[0])\n",
    "\n",
    "# Copy original molecule without conformers\n",
    "cmolh = Chem.Mol(molh, True)\n",
    "\n",
    "conf = molh.GetConformer(0)\n",
    "conf.SetId(0)\n",
    "cmolh.AddConformer(conf, assignId=False)\n",
    "print(\"cmol(0)\\n\", cmolh.GetConformer(0).GetPositions()[0])\n",
    "\n",
    "conf = molh.GetConformer(1)\n",
    "conf.SetId(0)  # Same ID; trying to overwrite...\n",
    "# Need to explicitly add RemoveConformer() to remove the old conformer\n",
    "cmolh.AddConformer(conf, assignId=False)\n",
    "print(\"cmol(0)\\n\", cmolh.GetConformer(0).GetPositions()[0])"
   ]
  }
 ],
 "metadata": {
  "interpreter": {
   "hash": "396549d0d80549071e1871f25904236f25b7276c7340ecdf496245f78763dd5d"
  },
  "kernelspec": {
   "display_name": "Python 3.9.12",
   "language": "python",
   "name": "python3"
  },
  "language_info": {
   "codemirror_mode": {
    "name": "ipython",
    "version": 3
   },
   "file_extension": ".py",
   "mimetype": "text/x-python",
   "name": "python",
   "nbconvert_exporter": "python",
   "pygments_lexer": "ipython3",
   "version": "3.9.12"
  },
  "orig_nbformat": 4
 },
 "nbformat": 4,
 "nbformat_minor": 2
}
