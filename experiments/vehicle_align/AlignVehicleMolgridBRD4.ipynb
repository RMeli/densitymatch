{
 "cells": [
  {
   "cell_type": "markdown",
   "metadata": {},
   "source": [
    "# Align VEHICLe Fragments to BRD4 Inhibitors"
   ]
  },
  {
   "cell_type": "code",
   "execution_count": 1,
   "metadata": {},
   "outputs": [
    {
     "data": {
      "text/html": [
       "\n",
       "                <script type=\"application/javascript\" id=\"jupyter_black\">\n",
       "                (function() {\n",
       "                    if (window.IPython === undefined) {\n",
       "                        return\n",
       "                    }\n",
       "                    var msg = \"WARNING: it looks like you might have loaded \" +\n",
       "                        \"jupyter_black in a non-lab notebook with \" +\n",
       "                        \"`is_lab=True`. Please double check, and if \" +\n",
       "                        \"loading with `%load_ext` please review the README!\"\n",
       "                    console.log(msg)\n",
       "                    alert(msg)\n",
       "                })()\n",
       "                </script>\n",
       "                "
      ],
      "text/plain": [
       "<IPython.core.display.HTML object>"
      ]
     },
     "metadata": {},
     "output_type": "display_data"
    }
   ],
   "source": [
    "%load_ext autoreload\n",
    "%autoreload 2\n",
    "%load_ext jupyter_black"
   ]
  },
  {
   "cell_type": "code",
   "execution_count": 2,
   "metadata": {},
   "outputs": [],
   "source": [
    "method = \"molgrid\""
   ]
  },
  {
   "cell_type": "code",
   "execution_count": 3,
   "metadata": {},
   "outputs": [
    {
     "name": "stdout",
     "output_type": "stream",
     "text": [
      "Jupyter environment detected. Enabling Open3D WebVisualizer.\n",
      "[Open3D INFO] WebRTC GUI backend enabled.\n",
      "[Open3D INFO] WebRTCWindowSystem: HTTP handshake server disabled.\n"
     ]
    }
   ],
   "source": [
    "import open3d as o3d\n",
    "from rdkit import Chem\n",
    "import numpy as np\n",
    "\n",
    "from collections import defaultdict\n",
    "\n",
    "import tqdm\n",
    "import os, sys, re\n",
    "\n",
    "import pickle"
   ]
  },
  {
   "cell_type": "code",
   "execution_count": 4,
   "metadata": {},
   "outputs": [],
   "source": [
    "sys.path.append(\"../../\")\n",
    "sys.path.append(\"../\")"
   ]
  },
  {
   "cell_type": "code",
   "execution_count": 5,
   "metadata": {},
   "outputs": [],
   "source": [
    "from utils import align, show"
   ]
  },
  {
   "cell_type": "markdown",
   "metadata": {},
   "source": [
    "## Load BRD4 Inhibitors"
   ]
  },
  {
   "cell_type": "code",
   "execution_count": 6,
   "metadata": {},
   "outputs": [],
   "source": [
    "path = \"../ligands/BRD4\""
   ]
  },
  {
   "cell_type": "code",
   "execution_count": 7,
   "metadata": {},
   "outputs": [
    {
     "name": "stdout",
     "output_type": "stream",
     "text": [
      "['../ligands/BRD4/ligand-1_molgrid.pcd', '../ligands/BRD4/ligand-2_molgrid.pcd', '../ligands/BRD4/ligand-3_molgrid.pcd', '../ligands/BRD4/ligand-4_molgrid.pcd', '../ligands/BRD4/ligand-5_molgrid.pcd', '../ligands/BRD4/ligand-6_molgrid.pcd', '../ligands/BRD4/ligand-7_molgrid.pcd', '../ligands/BRD4/ligand-8_molgrid.pcd', '../ligands/BRD4/ligand-9_molgrid.pcd', '../ligands/BRD4/ligand-10_molgrid.pcd']\n"
     ]
    }
   ],
   "source": [
    "files = []\n",
    "for f in os.listdir(path):\n",
    "    fname, ext = os.path.splitext(f)\n",
    "    if (\n",
    "        ext == \".pcd\"\n",
    "        and method in fname\n",
    "        and not \"tran\" in fname\n",
    "        and not \"murcko\" in fname\n",
    "    ):\n",
    "        files.append(os.path.join(path, f))\n",
    "\n",
    "# Sort BRD4 ligand files by number\n",
    "r = re.compile(\"\\d{1,2}\")\n",
    "files.sort(key=lambda f: int(r.search(os.path.basename(f)).group()))\n",
    "\n",
    "print(files)\n",
    "\n",
    "pcds = []\n",
    "mols = []\n",
    "for f in files:\n",
    "    pcd = o3d.io.read_point_cloud(f)\n",
    "    pcds.append(pcd)\n",
    "\n",
    "    s = Chem.SDMolSupplier(f.replace(\".pcd\", \".sdf\").replace(f\"_{method}\", \"\"))\n",
    "    mol = next(s)\n",
    "    mols.append(mol)"
   ]
  },
  {
   "cell_type": "markdown",
   "metadata": {},
   "source": [
    "## Load Fragments"
   ]
  },
  {
   "cell_type": "markdown",
   "metadata": {},
   "source": [
    "Load fragments. Only fragments that are considered to be synthetically accessible are considered here, in order to reduce computational resources:"
   ]
  },
  {
   "cell_type": "code",
   "execution_count": 8,
   "metadata": {},
   "outputs": [
    {
     "name": "stdout",
     "output_type": "stream",
     "text": [
      "['../../fragments/VEHICLe-good/fragment_1046.pcd', '../../fragments/VEHICLe-good/fragment_0.pcd', '../../fragments/VEHICLe-good/fragment_1.pcd', '../../fragments/VEHICLe-good/fragment_1047.pcd', '../../fragments/VEHICLe-good/fragment_10.pcd']\n"
     ]
    },
    {
     "name": "stderr",
     "output_type": "stream",
     "text": [
      "100%|██████████| 5419/5419 [00:06<00:00, 873.68it/s] \n"
     ]
    }
   ],
   "source": [
    "fragpath = path = \"../../fragments/VEHICLe-good/\"\n",
    "fragfiles = [\n",
    "    os.path.join(fragpath, f)\n",
    "    for f in os.listdir(fragpath)\n",
    "    if os.path.splitext(f)[-1] == \".pcd\"\n",
    "]\n",
    "\n",
    "print(fragfiles[:5])\n",
    "\n",
    "fragpcds = []\n",
    "fragmols = []\n",
    "for ff in tqdm.tqdm(fragfiles):\n",
    "    pcd = o3d.io.read_point_cloud(ff)\n",
    "    fragpcds.append(pcd)\n",
    "\n",
    "    s = Chem.SDMolSupplier(ff.replace(\".pcd\", \".sdf\"))\n",
    "    mol = next(s)\n",
    "    fragmols.append(mol)"
   ]
  },
  {
   "cell_type": "markdown",
   "metadata": {},
   "source": [
    "## Align Fragments to CDK2 Inhibitors"
   ]
  },
  {
   "cell_type": "code",
   "execution_count": 9,
   "metadata": {},
   "outputs": [
    {
     "name": "stderr",
     "output_type": "stream",
     "text": [
      "Fragments ligand-1: 100%|██████████| 5419/5419 [48:57<00:00,  1.84it/s] \n",
      "Fragments ligand-2: 100%|██████████| 5419/5419 [47:40<00:00,  1.89it/s]\n",
      "Fragments ligand-3: 100%|██████████| 5419/5419 [48:05<00:00,  1.88it/s]\n",
      "Fragments ligand-4: 100%|██████████| 5419/5419 [46:45<00:00,  1.93it/s]\n",
      "Fragments ligand-5: 100%|██████████| 5419/5419 [47:35<00:00,  1.90it/s] \n",
      "Fragments ligand-6: 100%|██████████| 5419/5419 [47:05<00:00,  1.92it/s] \n",
      "Fragments ligand-7: 100%|██████████| 5419/5419 [47:32<00:00,  1.90it/s]\n",
      "Fragments ligand-8: 100%|██████████| 5419/5419 [45:08<00:00,  2.00it/s]\n",
      "Fragments ligand-9: 100%|██████████| 5419/5419 [19:13<00:00,  4.70it/s]\n",
      "Fragments ligand-10: 100%|██████████| 5419/5419 [18:40<00:00,  4.84it/s]\n"
     ]
    }
   ],
   "source": [
    "alignments = {}\n",
    "\n",
    "for i, f in enumerate(files):\n",
    "    name = os.path.splitext(os.path.basename(f))[0].replace(f\"_{method}\", \"\")\n",
    "\n",
    "    alignments[name] = defaultdict(list)\n",
    "\n",
    "    for j, ff in enumerate(tqdm.tqdm(fragfiles, desc=\"Fragments \" + name)):\n",
    "        fidx = os.path.splitext(os.path.basename(ff))[0].replace(f\"fragment_\", \"\")\n",
    "\n",
    "        gfit, cfit = align(fragmols[j], fragpcds[j], pcds[i])\n",
    "\n",
    "        alignments[name][\"fragment\"].append(int(fidx))\n",
    "        alignments[name][\"gfit\"].append(gfit.fitness)\n",
    "        alignments[name][\"cfit\"].append(cfit.fitness)\n",
    "        alignments[name][\"mol\"].append(mols[i])\n",
    "        alignments[name][\"fragmol\"].append(fragmols[j])"
   ]
  },
  {
   "cell_type": "code",
   "execution_count": 10,
   "metadata": {},
   "outputs": [],
   "source": [
    "def showbest(name):\n",
    "    bestidx = np.argmax(alignments[name][\"cfit\"])\n",
    "    print(alignments[name][\"cfit\"][bestidx])\n",
    "    return show(alignments[name][\"fragmol\"][bestidx], alignments[name][\"mol\"][bestidx])"
   ]
  },
  {
   "cell_type": "code",
   "execution_count": 11,
   "metadata": {},
   "outputs": [
    {
     "name": "stdout",
     "output_type": "stream",
     "text": [
      "0.9782608695652174\n"
     ]
    },
    {
     "data": {
      "application/3dmoljs_load.v0": "<div id=\"3dmolviewer_1650672668856566\"  style=\"position: relative; width: 640px; height: 480px\">\n        <p id=\"3dmolwarning_1650672668856566\" style=\"background-color:#ffcccc;color:black\">You appear to be running in JupyterLab (or JavaScript failed to load for some other reason).  You need to install the 3dmol extension: <br>\n        <tt>jupyter labextension install jupyterlab_3dmol</tt></p>\n        </div>\n<script>\n\nvar loadScriptAsync = function(uri){\n  return new Promise((resolve, reject) => {\n    var tag = document.createElement('script');\n    tag.src = uri;\n    tag.async = true;\n    tag.onload = () => {\n      resolve();\n    };\n  var firstScriptTag = document.getElementsByTagName('script')[0];\n  firstScriptTag.parentNode.insertBefore(tag, firstScriptTag);\n});\n};\n\nif(typeof $3Dmolpromise === 'undefined') {\n$3Dmolpromise = null;\n  $3Dmolpromise = loadScriptAsync('https://3dmol.org/build/3Dmol.js');\n}\n\nvar viewer_1650672668856566 = null;\nvar warn = document.getElementById(\"3dmolwarning_1650672668856566\");\nif(warn) {\n    warn.parentNode.removeChild(warn);\n}\n$3Dmolpromise.then(function() {\nviewer_1650672668856566 = $3Dmol.createViewer($(\"#3dmolviewer_1650672668856566\"),{backgroundColor:\"white\"});\nviewer_1650672668856566.zoomTo();\n\tviewer_1650672668856566.addModel(\"\\n     RDKit          3D\\n\\n  5  5  0  0  0  0  0  0  0  0999 V2000\\n    1.3137   -0.0150    0.0016 C   0  0  0  0  0  0  0  0  0  0  0  0\\n    0.5243   -1.0781    0.0407 N   0  0  0  0  0  0  0  0  0  0  0  0\\n   -0.7507   -0.6682    0.0243 C   0  0  0  0  0  0  0  0  0  0  0  0\\n   -0.7341    0.6945   -0.0265 N   0  0  0  0  0  0  0  0  0  0  0  0\\n    0.5128    1.0631   -0.0393 N   0  0  0  0  0  0  0  0  0  0  0  0\\n  1  2  1  0\\n  2  3  2  0\\n  3  4  1  0\\n  4  5  1  0\\n  5  1  2  0\\nM  END\\n\",\"sdf\");\n\tviewer_1650672668856566.addModel(\"\\n     RDKit          3D\\n\\n  5  5  0  0  0  0  0  0  0  0999 V2000\\n    3.5950   -5.0378   13.8203 C   0  0  0  0  0  0  0  0  0  0  0  0\\n    2.8743   -4.1609   13.1373 N   0  0  0  0  0  0  0  0  0  0  0  0\\n    2.6727   -3.0803   13.9026 C   0  0  0  0  0  0  0  0  0  0  0  0\\n    3.2942   -3.3104   15.0944 N   0  0  0  0  0  0  0  0  0  0  0  0\\n    3.8396   -4.4886   15.0219 N   0  0  0  0  0  0  0  0  0  0  0  0\\n  1  2  1  0\\n  2  3  2  0\\n  3  4  1  0\\n  4  5  1  0\\n  5  1  2  0\\nM  END\\n\",\"sdf\");\n\tviewer_1650672668856566.addModel(\"BRD4, Ligand 1\\n     RDKit          3D\\n\\n 16 18  0  0  0  0  0  0  0  0999 V2000\\n    2.7960   -3.1170   11.5320 N   0  0  0  0  0  0  0  0  0  0  0  0\\n    2.5010   -4.1570    9.3850 N   0  0  0  0  0  0  0  0  0  0  0  0\\n    3.1660   -3.4780   12.7880 N   0  0  0  0  0  0  0  0  0  0  0  0\\n    3.1910   -5.2940   11.4140 N   0  0  0  0  0  0  0  0  0  0  0  0\\n    2.4400   -1.8530   11.0440 C   0  0  0  0  0  0  0  0  0  0  0  0\\n    2.1160   -1.7280    9.7460 C   0  0  0  0  0  0  0  0  0  0  0  0\\n    2.8220   -4.2440   10.7070 C   0  0  0  0  0  0  0  0  0  0  0  0\\n    2.1730   -2.9820    8.9350 C   0  0  0  0  0  0  0  0  0  0  0  0\\n    1.8140   -2.8670    7.4750 C   0  0  0  0  0  0  0  0  0  0  0  0\\n    3.3840   -4.7830   12.6560 C   0  0  0  0  0  0  0  0  0  0  0  0\\n    2.4000   -0.6670   11.9180 C   0  0  0  0  0  0  0  0  0  0  0  0\\n    3.0530    0.5050   11.5340 C   0  0  0  0  0  0  0  0  0  0  0  0\\n    3.0160    1.6280   12.3610 C   0  0  0  0  0  0  0  0  0  0  0  0\\n    2.3260    1.5790   13.5730 C   0  0  0  0  0  0  0  0  0  0  0  0\\n    1.6740    0.4080   13.9570 C   0  0  0  0  0  0  0  0  0  0  0  0\\n    1.7100   -0.7140   13.1300 C   0  0  0  0  0  0  0  0  0  0  0  0\\n  1  3  1  0\\n  1  5  1  0\\n  1  7  1  0\\n  2  7  1  0\\n  2  8  2  0\\n  3 10  2  0\\n  4  7  2  0\\n  4 10  1  0\\n  5  6  2  0\\n  5 11  1  0\\n  6  8  1  0\\n  8  9  1  0\\n 11 12  2  0\\n 11 16  1  0\\n 12 13  1  0\\n 13 14  2  0\\n 14 15  1  0\\n 15 16  2  0\\nM  END\\n\",\"sdf\");\n\tviewer_1650672668856566.setStyle({\"model\": 0},{\"stick\": {\"colorscheme\": \"lightgreyCarbon\"}});\n\tviewer_1650672668856566.setStyle({\"model\": 1},{\"stick\": {\"colorscheme\": \"purpleCarbon\"}});\n\tviewer_1650672668856566.setStyle({\"model\": 2},{\"stick\": {\"colorscheme\": \"greyCarbon\"}});\n\tviewer_1650672668856566.zoomTo();\nviewer_1650672668856566.render();\n});\n</script>",
      "text/html": [
       "<div id=\"3dmolviewer_1650672668856566\"  style=\"position: relative; width: 640px; height: 480px\">\n",
       "        <p id=\"3dmolwarning_1650672668856566\" style=\"background-color:#ffcccc;color:black\">You appear to be running in JupyterLab (or JavaScript failed to load for some other reason).  You need to install the 3dmol extension: <br>\n",
       "        <tt>jupyter labextension install jupyterlab_3dmol</tt></p>\n",
       "        </div>\n",
       "<script>\n",
       "\n",
       "var loadScriptAsync = function(uri){\n",
       "  return new Promise((resolve, reject) => {\n",
       "    var tag = document.createElement('script');\n",
       "    tag.src = uri;\n",
       "    tag.async = true;\n",
       "    tag.onload = () => {\n",
       "      resolve();\n",
       "    };\n",
       "  var firstScriptTag = document.getElementsByTagName('script')[0];\n",
       "  firstScriptTag.parentNode.insertBefore(tag, firstScriptTag);\n",
       "});\n",
       "};\n",
       "\n",
       "if(typeof $3Dmolpromise === 'undefined') {\n",
       "$3Dmolpromise = null;\n",
       "  $3Dmolpromise = loadScriptAsync('https://3dmol.org/build/3Dmol.js');\n",
       "}\n",
       "\n",
       "var viewer_1650672668856566 = null;\n",
       "var warn = document.getElementById(\"3dmolwarning_1650672668856566\");\n",
       "if(warn) {\n",
       "    warn.parentNode.removeChild(warn);\n",
       "}\n",
       "$3Dmolpromise.then(function() {\n",
       "viewer_1650672668856566 = $3Dmol.createViewer($(\"#3dmolviewer_1650672668856566\"),{backgroundColor:\"white\"});\n",
       "viewer_1650672668856566.zoomTo();\n",
       "\tviewer_1650672668856566.addModel(\"\\n     RDKit          3D\\n\\n  5  5  0  0  0  0  0  0  0  0999 V2000\\n    1.3137   -0.0150    0.0016 C   0  0  0  0  0  0  0  0  0  0  0  0\\n    0.5243   -1.0781    0.0407 N   0  0  0  0  0  0  0  0  0  0  0  0\\n   -0.7507   -0.6682    0.0243 C   0  0  0  0  0  0  0  0  0  0  0  0\\n   -0.7341    0.6945   -0.0265 N   0  0  0  0  0  0  0  0  0  0  0  0\\n    0.5128    1.0631   -0.0393 N   0  0  0  0  0  0  0  0  0  0  0  0\\n  1  2  1  0\\n  2  3  2  0\\n  3  4  1  0\\n  4  5  1  0\\n  5  1  2  0\\nM  END\\n\",\"sdf\");\n",
       "\tviewer_1650672668856566.addModel(\"\\n     RDKit          3D\\n\\n  5  5  0  0  0  0  0  0  0  0999 V2000\\n    3.5950   -5.0378   13.8203 C   0  0  0  0  0  0  0  0  0  0  0  0\\n    2.8743   -4.1609   13.1373 N   0  0  0  0  0  0  0  0  0  0  0  0\\n    2.6727   -3.0803   13.9026 C   0  0  0  0  0  0  0  0  0  0  0  0\\n    3.2942   -3.3104   15.0944 N   0  0  0  0  0  0  0  0  0  0  0  0\\n    3.8396   -4.4886   15.0219 N   0  0  0  0  0  0  0  0  0  0  0  0\\n  1  2  1  0\\n  2  3  2  0\\n  3  4  1  0\\n  4  5  1  0\\n  5  1  2  0\\nM  END\\n\",\"sdf\");\n",
       "\tviewer_1650672668856566.addModel(\"BRD4, Ligand 1\\n     RDKit          3D\\n\\n 16 18  0  0  0  0  0  0  0  0999 V2000\\n    2.7960   -3.1170   11.5320 N   0  0  0  0  0  0  0  0  0  0  0  0\\n    2.5010   -4.1570    9.3850 N   0  0  0  0  0  0  0  0  0  0  0  0\\n    3.1660   -3.4780   12.7880 N   0  0  0  0  0  0  0  0  0  0  0  0\\n    3.1910   -5.2940   11.4140 N   0  0  0  0  0  0  0  0  0  0  0  0\\n    2.4400   -1.8530   11.0440 C   0  0  0  0  0  0  0  0  0  0  0  0\\n    2.1160   -1.7280    9.7460 C   0  0  0  0  0  0  0  0  0  0  0  0\\n    2.8220   -4.2440   10.7070 C   0  0  0  0  0  0  0  0  0  0  0  0\\n    2.1730   -2.9820    8.9350 C   0  0  0  0  0  0  0  0  0  0  0  0\\n    1.8140   -2.8670    7.4750 C   0  0  0  0  0  0  0  0  0  0  0  0\\n    3.3840   -4.7830   12.6560 C   0  0  0  0  0  0  0  0  0  0  0  0\\n    2.4000   -0.6670   11.9180 C   0  0  0  0  0  0  0  0  0  0  0  0\\n    3.0530    0.5050   11.5340 C   0  0  0  0  0  0  0  0  0  0  0  0\\n    3.0160    1.6280   12.3610 C   0  0  0  0  0  0  0  0  0  0  0  0\\n    2.3260    1.5790   13.5730 C   0  0  0  0  0  0  0  0  0  0  0  0\\n    1.6740    0.4080   13.9570 C   0  0  0  0  0  0  0  0  0  0  0  0\\n    1.7100   -0.7140   13.1300 C   0  0  0  0  0  0  0  0  0  0  0  0\\n  1  3  1  0\\n  1  5  1  0\\n  1  7  1  0\\n  2  7  1  0\\n  2  8  2  0\\n  3 10  2  0\\n  4  7  2  0\\n  4 10  1  0\\n  5  6  2  0\\n  5 11  1  0\\n  6  8  1  0\\n  8  9  1  0\\n 11 12  2  0\\n 11 16  1  0\\n 12 13  1  0\\n 13 14  2  0\\n 14 15  1  0\\n 15 16  2  0\\nM  END\\n\",\"sdf\");\n",
       "\tviewer_1650672668856566.setStyle({\"model\": 0},{\"stick\": {\"colorscheme\": \"lightgreyCarbon\"}});\n",
       "\tviewer_1650672668856566.setStyle({\"model\": 1},{\"stick\": {\"colorscheme\": \"purpleCarbon\"}});\n",
       "\tviewer_1650672668856566.setStyle({\"model\": 2},{\"stick\": {\"colorscheme\": \"greyCarbon\"}});\n",
       "\tviewer_1650672668856566.zoomTo();\n",
       "viewer_1650672668856566.render();\n",
       "});\n",
       "</script>"
      ]
     },
     "metadata": {},
     "output_type": "display_data"
    },
    {
     "data": {
      "text/plain": [
       "<py3Dmol.view at 0x7f0ecef03b80>"
      ]
     },
     "execution_count": 11,
     "metadata": {},
     "output_type": "execute_result"
    }
   ],
   "source": [
    "showbest(\"ligand-1\")"
   ]
  },
  {
   "cell_type": "code",
   "execution_count": 12,
   "metadata": {},
   "outputs": [],
   "source": [
    "with open(\"BRD4-VEHICLe.pkl\", \"wb\") as f:\n",
    "    pickle.dump(alignments, f)"
   ]
  }
 ],
 "metadata": {
  "interpreter": {
   "hash": "396549d0d80549071e1871f25904236f25b7276c7340ecdf496245f78763dd5d"
  },
  "kernelspec": {
   "display_name": "Python 3.9.12",
   "language": "python",
   "name": "python3"
  },
  "language_info": {
   "codemirror_mode": {
    "name": "ipython",
    "version": 3
   },
   "file_extension": ".py",
   "mimetype": "text/x-python",
   "name": "python",
   "nbconvert_exporter": "python",
   "pygments_lexer": "ipython3",
   "version": "3.9.12"
  },
  "orig_nbformat": 4
 },
 "nbformat": 4,
 "nbformat_minor": 2
}
