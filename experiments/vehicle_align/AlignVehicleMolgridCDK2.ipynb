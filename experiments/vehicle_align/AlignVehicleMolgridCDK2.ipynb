{
 "cells": [
  {
   "cell_type": "markdown",
   "metadata": {},
   "source": [
    "# Align VEHICLe Fragments to CDK2 Inhibitors"
   ]
  },
  {
   "cell_type": "code",
   "execution_count": 1,
   "metadata": {},
   "outputs": [
    {
     "data": {
      "text/html": [
       "\n",
       "                <script type=\"application/javascript\" id=\"jupyter_black\">\n",
       "                (function() {\n",
       "                    if (window.IPython === undefined) {\n",
       "                        return\n",
       "                    }\n",
       "                    var msg = \"WARNING: it looks like you might have loaded \" +\n",
       "                        \"jupyter_black in a non-lab notebook with \" +\n",
       "                        \"`is_lab=True`. Please double check, and if \" +\n",
       "                        \"loading with `%load_ext` please review the README!\"\n",
       "                    console.log(msg)\n",
       "                    alert(msg)\n",
       "                })()\n",
       "                </script>\n",
       "                "
      ],
      "text/plain": [
       "<IPython.core.display.HTML object>"
      ]
     },
     "metadata": {},
     "output_type": "display_data"
    }
   ],
   "source": [
    "%load_ext autoreload\n",
    "%autoreload 2\n",
    "%load_ext jupyter_black"
   ]
  },
  {
   "cell_type": "code",
   "execution_count": 2,
   "metadata": {},
   "outputs": [],
   "source": [
    "method = \"molgrid\""
   ]
  },
  {
   "cell_type": "code",
   "execution_count": 3,
   "metadata": {},
   "outputs": [
    {
     "name": "stdout",
     "output_type": "stream",
     "text": [
      "Jupyter environment detected. Enabling Open3D WebVisualizer.\n",
      "[Open3D INFO] WebRTC GUI backend enabled.\n",
      "[Open3D INFO] WebRTCWindowSystem: HTTP handshake server disabled.\n"
     ]
    }
   ],
   "source": [
    "import open3d as o3d\n",
    "from rdkit import Chem\n",
    "import numpy as np\n",
    "\n",
    "from collections import defaultdict\n",
    "\n",
    "import tqdm\n",
    "import os, sys"
   ]
  },
  {
   "cell_type": "code",
   "execution_count": 4,
   "metadata": {},
   "outputs": [],
   "source": [
    "sys.path.append(\"../../\")\n",
    "sys.path.append(\"../\")"
   ]
  },
  {
   "cell_type": "code",
   "execution_count": 5,
   "metadata": {},
   "outputs": [],
   "source": [
    "from utils import align, show"
   ]
  },
  {
   "cell_type": "markdown",
   "metadata": {},
   "source": [
    "## Load CDK2 Inhibitors"
   ]
  },
  {
   "cell_type": "code",
   "execution_count": 6,
   "metadata": {},
   "outputs": [],
   "source": [
    "path = \"../ligands/CDK2\""
   ]
  },
  {
   "cell_type": "code",
   "execution_count": 7,
   "metadata": {},
   "outputs": [
    {
     "name": "stdout",
     "output_type": "stream",
     "text": [
      "['../ligands/CDK2/4ek4_B_1CK_molgrid.pcd', '../ligands/CDK2/4ek5_B_03K_molgrid.pcd', '../ligands/CDK2/4fkg_B_4CK_molgrid.pcd', '../ligands/CDK2/4fki_B_09K_molgrid.pcd', '../ligands/CDK2/4fkj_B_11K_molgrid.pcd', '../ligands/CDK2/3sw4_B_18K_molgrid.pcd', '../ligands/CDK2/3sw7_B_19K_molgrid.pcd', '../ligands/CDK2/4fko_B_20K_molgrid.pcd', '../ligands/CDK2/4fkp_B_LS5_molgrid.pcd', '../ligands/CDK2/4fkq_B_42K_molgrid.pcd', '../ligands/CDK2/4fkr_B_45K_molgrid.pcd', '../ligands/CDK2/4fks_B_46K_molgrid.pcd', '../ligands/CDK2/4fkt_B_48K_molgrid.pcd', '../ligands/CDK2/4fku_D_60K_molgrid.pcd', '../ligands/CDK2/4fkv_B_61K_molgrid.pcd', '../ligands/CDK2/4fkw_B_62K_molgrid.pcd']\n"
     ]
    }
   ],
   "source": [
    "files = []\n",
    "for f in os.listdir(path):\n",
    "    fname, ext = os.path.splitext(f)\n",
    "    if ext == \".pcd\" and method in f and not \"tran\" in f:\n",
    "        files.append(os.path.join(path, f))\n",
    "\n",
    "# Order ligands\n",
    "# This should make the three chemical series pop-up in the PCD fit\n",
    "names = {\n",
    "    \"4ek4_B_1CK\": \"CS1\",\n",
    "    \"4ek5_B_03K\": \"CS3\",\n",
    "    \"4fkg_B_4CK\": \"CS4\",\n",
    "    \"4fki_B_09K\": \"CS9\",\n",
    "    \"4fkj_B_11K\": \"CS11\",\n",
    "    \"3sw4_B_18K\": \"CS18\",\n",
    "    \"3sw7_B_19K\": \"CS19\",\n",
    "    \"4fko_B_20K\": \"CS20\",\n",
    "    \"4fkp_B_LS5\": \"CS241\",\n",
    "    \"4fkq_B_42K\": \"CS242\",\n",
    "    \"4fkr_B_45K\": \"CS245\",\n",
    "    \"4fks_B_46K\": \"CS246\",\n",
    "    \"4fkt_B_48K\": \"CS248\",\n",
    "    \"4fku_D_60K\": \"CS260\",\n",
    "    \"4fkv_B_61K\": \"CS261\",\n",
    "    \"4fkw_B_62K\": \"CS262\",\n",
    "}\n",
    "\n",
    "files.sort(\n",
    "    key=lambda f: int(\n",
    "        names[\n",
    "            os.path.splitext(os.path.basename(f))[0].replace(f\"_{method}\", \"\")\n",
    "        ].replace(\"CS\", \"\")\n",
    "    )\n",
    ")\n",
    "\n",
    "print(files)\n",
    "\n",
    "pcds = []\n",
    "mols = []\n",
    "for f in files:\n",
    "    pcd = o3d.io.read_point_cloud(f)\n",
    "    pcds.append(pcd)\n",
    "\n",
    "    s = Chem.SDMolSupplier(f.replace(\".pcd\", \".sdf\").replace(f\"_{method}\", \"\"))\n",
    "    mol = next(s)\n",
    "    mols.append(mol)"
   ]
  },
  {
   "cell_type": "markdown",
   "metadata": {},
   "source": [
    "## Load Fragments"
   ]
  },
  {
   "cell_type": "markdown",
   "metadata": {},
   "source": [
    "Load fragments. Only fragments that are considered to be synthetically accessible are considered here, in order to reduce computational resources:"
   ]
  },
  {
   "cell_type": "code",
   "execution_count": 8,
   "metadata": {},
   "outputs": [
    {
     "name": "stdout",
     "output_type": "stream",
     "text": [
      "['../../fragments/VEHICLe-good/fragment_1046.pcd', '../../fragments/VEHICLe-good/fragment_0.pcd', '../../fragments/VEHICLe-good/fragment_1.pcd', '../../fragments/VEHICLe-good/fragment_1047.pcd', '../../fragments/VEHICLe-good/fragment_10.pcd']\n"
     ]
    },
    {
     "name": "stderr",
     "output_type": "stream",
     "text": [
      "100%|██████████| 5419/5419 [00:05<00:00, 933.98it/s] \n"
     ]
    }
   ],
   "source": [
    "fragpath = path = \"../../fragments/VEHICLe-good/\"\n",
    "fragfiles = [\n",
    "    os.path.join(fragpath, f)\n",
    "    for f in os.listdir(fragpath)\n",
    "    if os.path.splitext(f)[-1] == \".pcd\"\n",
    "]\n",
    "\n",
    "print(fragfiles[:5])\n",
    "\n",
    "fragpcds = []\n",
    "fragmols = []\n",
    "for ff in tqdm.tqdm(fragfiles):\n",
    "    pcd = o3d.io.read_point_cloud(ff)\n",
    "    fragpcds.append(pcd)\n",
    "\n",
    "    s = Chem.SDMolSupplier(ff.replace(\".pcd\", \".sdf\"))\n",
    "    mol = next(s)\n",
    "    fragmols.append(mol)"
   ]
  },
  {
   "cell_type": "markdown",
   "metadata": {},
   "source": [
    "## Align Fragments to CDK2 Inhibitors"
   ]
  },
  {
   "cell_type": "code",
   "execution_count": 9,
   "metadata": {},
   "outputs": [
    {
     "name": "stderr",
     "output_type": "stream",
     "text": [
      "Fragments CS1: 100%|██████████| 5419/5419 [24:34<00:00,  3.67it/s]\n",
      "Fragments CS3: 100%|██████████| 5419/5419 [27:35<00:00,  3.27it/s]\n",
      "Fragments CS4: 100%|██████████| 5419/5419 [29:31<00:00,  3.06it/s]\n",
      "Fragments CS9: 100%|██████████| 5419/5419 [27:18<00:00,  3.31it/s]\n",
      "Fragments CS11: 100%|██████████| 5419/5419 [38:18<00:00,  2.36it/s]\n",
      "Fragments CS18: 100%|██████████| 5419/5419 [49:25<00:00,  1.83it/s] \n",
      "Fragments CS19: 100%|██████████| 5419/5419 [49:24<00:00,  1.83it/s]\n",
      "Fragments CS20: 100%|██████████| 5419/5419 [49:37<00:00,  1.82it/s]\n",
      "Fragments CS241: 100%|██████████| 5419/5419 [50:17<00:00,  1.80it/s] \n",
      "Fragments CS242: 100%|██████████| 5419/5419 [48:45<00:00,  1.85it/s]\n",
      "Fragments CS245: 100%|██████████| 5419/5419 [48:55<00:00,  1.85it/s]\n",
      "Fragments CS246: 100%|██████████| 5419/5419 [49:32<00:00,  1.82it/s] \n",
      "Fragments CS248: 100%|██████████| 5419/5419 [50:02<00:00,  1.80it/s] \n",
      "Fragments CS260: 100%|██████████| 5419/5419 [49:37<00:00,  1.82it/s] \n",
      "Fragments CS261: 100%|██████████| 5419/5419 [33:17<00:00,  2.71it/s] \n",
      "Fragments CS262: 100%|██████████| 5419/5419 [19:38<00:00,  4.60it/s]\n"
     ]
    }
   ],
   "source": [
    "alignments = {}\n",
    "\n",
    "for i, f in enumerate(files):\n",
    "    name = os.path.splitext(os.path.basename(f))[0].replace(f\"_{method}\", \"\")\n",
    "\n",
    "    alignments[names[name]] = defaultdict(list)\n",
    "\n",
    "    for j, ff in enumerate(tqdm.tqdm(fragfiles, desc=\"Fragments \" + names[name])):\n",
    "        fidx = os.path.splitext(os.path.basename(ff))[0].replace(f\"fragment_\", \"\")\n",
    "\n",
    "        gfit, cfit = align(fragmols[j], fragpcds[j], pcds[i])\n",
    "\n",
    "        alignments[names[name]][\"fragment\"].append(int(fidx))\n",
    "        alignments[names[name]][\"gfit\"].append(gfit.fitness)\n",
    "        alignments[names[name]][\"cfit\"].append(cfit.fitness)\n",
    "        alignments[names[name]][\"mol\"].append(mols[i])\n",
    "        alignments[names[name]][\"fragmol\"].append(fragmols[j])"
   ]
  },
  {
   "cell_type": "code",
   "execution_count": 10,
   "metadata": {},
   "outputs": [],
   "source": [
    "def showbest(name):\n",
    "    bestidx = np.argmax(alignments[name][\"cfit\"])\n",
    "    print(alignments[name][\"cfit\"][bestidx])\n",
    "    return show(alignments[name][\"fragmol\"][bestidx], alignments[name][\"mol\"][bestidx])"
   ]
  },
  {
   "cell_type": "code",
   "execution_count": 11,
   "metadata": {},
   "outputs": [
    {
     "name": "stdout",
     "output_type": "stream",
     "text": [
      "0.9629629629629629\n"
     ]
    },
    {
     "data": {
      "application/3dmoljs_load.v0": "<div id=\"3dmolviewer_16499843243715727\"  style=\"position: relative; width: 640px; height: 480px\">\n        <p id=\"3dmolwarning_16499843243715727\" style=\"background-color:#ffcccc;color:black\">You appear to be running in JupyterLab (or JavaScript failed to load for some other reason).  You need to install the 3dmol extension: <br>\n        <tt>jupyter labextension install jupyterlab_3dmol</tt></p>\n        </div>\n<script>\n\nvar loadScriptAsync = function(uri){\n  return new Promise((resolve, reject) => {\n    var tag = document.createElement('script');\n    tag.src = uri;\n    tag.async = true;\n    tag.onload = () => {\n      resolve();\n    };\n  var firstScriptTag = document.getElementsByTagName('script')[0];\n  firstScriptTag.parentNode.insertBefore(tag, firstScriptTag);\n});\n};\n\nif(typeof $3Dmolpromise === 'undefined') {\n$3Dmolpromise = null;\n  $3Dmolpromise = loadScriptAsync('https://3dmol.org/build/3Dmol.js');\n}\n\nvar viewer_16499843243715727 = null;\nvar warn = document.getElementById(\"3dmolwarning_16499843243715727\");\nif(warn) {\n    warn.parentNode.removeChild(warn);\n}\n$3Dmolpromise.then(function() {\nviewer_16499843243715727 = $3Dmol.createViewer($(\"#3dmolviewer_16499843243715727\"),{backgroundColor:\"white\"});\nviewer_16499843243715727.zoomTo();\n\tviewer_16499843243715727.addModel(\"\\n     RDKit          3D\\n\\n  5  5  0  0  0  0  0  0  0  0999 V2000\\n    1.0936   -0.1353   -0.0160 C   0  0  0  0  0  0  0  0  0  0  0  0\\n    0.6221    1.0744   -0.3663 N   0  0  0  0  0  0  0  0  0  0  0  0\\n   -0.6976    1.0323   -0.2833 N   0  0  0  0  0  0  0  0  0  0  0  0\\n   -1.0904   -0.1681    0.1099 N   0  0  0  0  0  0  0  0  0  0  0  0\\n    0.0126   -0.8812    0.2727 N   0  0  0  0  0  0  0  0  0  0  0  0\\n  1  2  1  0\\n  2  3  2  0\\n  3  4  1  0\\n  4  5  1  0\\n  5  1  2  0\\nM  END\\n\",\"sdf\");\n\tviewer_16499843243715727.addModel(\"\\n     RDKit          3D\\n\\n  5  5  0  0  0  0  0  0  0  0999 V2000\\n   -3.8619   -8.6271   29.0125 C   0  0  0  0  0  0  0  0  0  0  0  0\\n   -4.6077   -8.0741   29.9853 N   0  0  0  0  0  0  0  0  0  0  0  0\\n   -5.7111   -8.7939   30.1060 N   0  0  0  0  0  0  0  0  0  0  0  0\\n   -5.6985   -9.7940   29.2402 N   0  0  0  0  0  0  0  0  0  0  0  0\\n   -4.5615   -9.6874   28.5713 N   0  0  0  0  0  0  0  0  0  0  0  0\\n  1  2  1  0\\n  2  3  2  0\\n  3  4  1  0\\n  4  5  1  0\\n  5  1  2  0\\nM  END\\n\",\"sdf\");\n\tviewer_16499843243715727.addModel(\"4ek4_B_1CK.pdb\\n     RDKit          3D\\n\\n 16 17  0  0  0  0  0  0  0  0999 V2000\\n   -1.8650   -4.2850   29.7160 N   0  0  0  0  0  0  0  0  0  0  0  0\\n   -2.8640   -6.3850   29.7000 N   0  0  0  0  0  0  0  0  0  0  0  0\\n   -0.7980   -3.6980   29.1830 N   0  0  0  0  0  0  0  0  0  0  0  0\\n    1.2300   -4.1860   27.7680 C   0  0  0  0  0  0  0  0  0  0  0  0\\n   -2.4320   -8.0900   28.2790 O   0  0  0  0  0  0  0  0  0  0  0  0\\n   -7.9160  -10.8760   31.2190 Br  0  0  0  0  0  0  0  0  0  0  0  0\\n   -6.0950   -9.9460   29.2720 C   0  0  0  0  0  0  0  0  0  0  0  0\\n   -5.7070   -9.0320   31.4960 C   0  0  0  0  0  0  0  0  0  0  0  0\\n   -5.0030   -9.2060   28.7980 C   0  0  0  0  0  0  0  0  0  0  0  0\\n   -4.6190   -8.3030   30.9970 C   0  0  0  0  0  0  0  0  0  0  0  0\\n   -0.7460   -5.7410   28.5340 C   0  0  0  0  0  0  0  0  0  0  0  0\\n   -3.1320   -7.6050   29.1650 C   0  0  0  0  0  0  0  0  0  0  0  0\\n   -0.0800   -4.5530   28.4830 C   0  0  0  0  0  0  0  0  0  0  0  0\\n   -6.4430   -9.8680   30.6280 C   0  0  0  0  0  0  0  0  0  0  0  0\\n   -4.2500   -8.3510   29.6500 C   0  0  0  0  0  0  0  0  0  0  0  0\\n   -1.8480   -5.5500   29.3130 C   0  0  0  0  0  0  0  0  0  0  0  0\\n  1  3  1  0\\n  1 16  2  0\\n  2 12  1  0\\n  2 16  1  0\\n  3 13  2  0\\n  4 13  1  0\\n  5 12  2  0\\n  6 14  1  0\\n  7 14  2  0\\n  7  9  1  0\\n  8 10  2  0\\n  8 14  1  0\\n  9 15  2  0\\n 10 15  1  0\\n 11 16  1  0\\n 11 13  1  0\\n 12 15  1  0\\nM  END\\n\",\"sdf\");\n\tviewer_16499843243715727.setStyle({\"model\": 0},{\"stick\": {\"colorscheme\": \"lightgreyCarbon\"}});\n\tviewer_16499843243715727.setStyle({\"model\": 1},{\"stick\": {\"colorscheme\": \"purpleCarbon\"}});\n\tviewer_16499843243715727.setStyle({\"model\": 2},{\"stick\": {\"colorscheme\": \"greyCarbon\"}});\n\tviewer_16499843243715727.zoomTo();\nviewer_16499843243715727.render();\n});\n</script>",
      "text/html": [
       "<div id=\"3dmolviewer_16499843243715727\"  style=\"position: relative; width: 640px; height: 480px\">\n",
       "        <p id=\"3dmolwarning_16499843243715727\" style=\"background-color:#ffcccc;color:black\">You appear to be running in JupyterLab (or JavaScript failed to load for some other reason).  You need to install the 3dmol extension: <br>\n",
       "        <tt>jupyter labextension install jupyterlab_3dmol</tt></p>\n",
       "        </div>\n",
       "<script>\n",
       "\n",
       "var loadScriptAsync = function(uri){\n",
       "  return new Promise((resolve, reject) => {\n",
       "    var tag = document.createElement('script');\n",
       "    tag.src = uri;\n",
       "    tag.async = true;\n",
       "    tag.onload = () => {\n",
       "      resolve();\n",
       "    };\n",
       "  var firstScriptTag = document.getElementsByTagName('script')[0];\n",
       "  firstScriptTag.parentNode.insertBefore(tag, firstScriptTag);\n",
       "});\n",
       "};\n",
       "\n",
       "if(typeof $3Dmolpromise === 'undefined') {\n",
       "$3Dmolpromise = null;\n",
       "  $3Dmolpromise = loadScriptAsync('https://3dmol.org/build/3Dmol.js');\n",
       "}\n",
       "\n",
       "var viewer_16499843243715727 = null;\n",
       "var warn = document.getElementById(\"3dmolwarning_16499843243715727\");\n",
       "if(warn) {\n",
       "    warn.parentNode.removeChild(warn);\n",
       "}\n",
       "$3Dmolpromise.then(function() {\n",
       "viewer_16499843243715727 = $3Dmol.createViewer($(\"#3dmolviewer_16499843243715727\"),{backgroundColor:\"white\"});\n",
       "viewer_16499843243715727.zoomTo();\n",
       "\tviewer_16499843243715727.addModel(\"\\n     RDKit          3D\\n\\n  5  5  0  0  0  0  0  0  0  0999 V2000\\n    1.0936   -0.1353   -0.0160 C   0  0  0  0  0  0  0  0  0  0  0  0\\n    0.6221    1.0744   -0.3663 N   0  0  0  0  0  0  0  0  0  0  0  0\\n   -0.6976    1.0323   -0.2833 N   0  0  0  0  0  0  0  0  0  0  0  0\\n   -1.0904   -0.1681    0.1099 N   0  0  0  0  0  0  0  0  0  0  0  0\\n    0.0126   -0.8812    0.2727 N   0  0  0  0  0  0  0  0  0  0  0  0\\n  1  2  1  0\\n  2  3  2  0\\n  3  4  1  0\\n  4  5  1  0\\n  5  1  2  0\\nM  END\\n\",\"sdf\");\n",
       "\tviewer_16499843243715727.addModel(\"\\n     RDKit          3D\\n\\n  5  5  0  0  0  0  0  0  0  0999 V2000\\n   -3.8619   -8.6271   29.0125 C   0  0  0  0  0  0  0  0  0  0  0  0\\n   -4.6077   -8.0741   29.9853 N   0  0  0  0  0  0  0  0  0  0  0  0\\n   -5.7111   -8.7939   30.1060 N   0  0  0  0  0  0  0  0  0  0  0  0\\n   -5.6985   -9.7940   29.2402 N   0  0  0  0  0  0  0  0  0  0  0  0\\n   -4.5615   -9.6874   28.5713 N   0  0  0  0  0  0  0  0  0  0  0  0\\n  1  2  1  0\\n  2  3  2  0\\n  3  4  1  0\\n  4  5  1  0\\n  5  1  2  0\\nM  END\\n\",\"sdf\");\n",
       "\tviewer_16499843243715727.addModel(\"4ek4_B_1CK.pdb\\n     RDKit          3D\\n\\n 16 17  0  0  0  0  0  0  0  0999 V2000\\n   -1.8650   -4.2850   29.7160 N   0  0  0  0  0  0  0  0  0  0  0  0\\n   -2.8640   -6.3850   29.7000 N   0  0  0  0  0  0  0  0  0  0  0  0\\n   -0.7980   -3.6980   29.1830 N   0  0  0  0  0  0  0  0  0  0  0  0\\n    1.2300   -4.1860   27.7680 C   0  0  0  0  0  0  0  0  0  0  0  0\\n   -2.4320   -8.0900   28.2790 O   0  0  0  0  0  0  0  0  0  0  0  0\\n   -7.9160  -10.8760   31.2190 Br  0  0  0  0  0  0  0  0  0  0  0  0\\n   -6.0950   -9.9460   29.2720 C   0  0  0  0  0  0  0  0  0  0  0  0\\n   -5.7070   -9.0320   31.4960 C   0  0  0  0  0  0  0  0  0  0  0  0\\n   -5.0030   -9.2060   28.7980 C   0  0  0  0  0  0  0  0  0  0  0  0\\n   -4.6190   -8.3030   30.9970 C   0  0  0  0  0  0  0  0  0  0  0  0\\n   -0.7460   -5.7410   28.5340 C   0  0  0  0  0  0  0  0  0  0  0  0\\n   -3.1320   -7.6050   29.1650 C   0  0  0  0  0  0  0  0  0  0  0  0\\n   -0.0800   -4.5530   28.4830 C   0  0  0  0  0  0  0  0  0  0  0  0\\n   -6.4430   -9.8680   30.6280 C   0  0  0  0  0  0  0  0  0  0  0  0\\n   -4.2500   -8.3510   29.6500 C   0  0  0  0  0  0  0  0  0  0  0  0\\n   -1.8480   -5.5500   29.3130 C   0  0  0  0  0  0  0  0  0  0  0  0\\n  1  3  1  0\\n  1 16  2  0\\n  2 12  1  0\\n  2 16  1  0\\n  3 13  2  0\\n  4 13  1  0\\n  5 12  2  0\\n  6 14  1  0\\n  7 14  2  0\\n  7  9  1  0\\n  8 10  2  0\\n  8 14  1  0\\n  9 15  2  0\\n 10 15  1  0\\n 11 16  1  0\\n 11 13  1  0\\n 12 15  1  0\\nM  END\\n\",\"sdf\");\n",
       "\tviewer_16499843243715727.setStyle({\"model\": 0},{\"stick\": {\"colorscheme\": \"lightgreyCarbon\"}});\n",
       "\tviewer_16499843243715727.setStyle({\"model\": 1},{\"stick\": {\"colorscheme\": \"purpleCarbon\"}});\n",
       "\tviewer_16499843243715727.setStyle({\"model\": 2},{\"stick\": {\"colorscheme\": \"greyCarbon\"}});\n",
       "\tviewer_16499843243715727.zoomTo();\n",
       "viewer_16499843243715727.render();\n",
       "});\n",
       "</script>"
      ]
     },
     "metadata": {},
     "output_type": "display_data"
    },
    {
     "data": {
      "text/plain": [
       "<py3Dmol.view at 0x7ff410c85cd0>"
      ]
     },
     "execution_count": 11,
     "metadata": {},
     "output_type": "execute_result"
    }
   ],
   "source": [
    "showbest(\"CS1\")"
   ]
  },
  {
   "cell_type": "code",
   "execution_count": 12,
   "metadata": {},
   "outputs": [
    {
     "ename": "NameError",
     "evalue": "name 'pickle' is not defined",
     "output_type": "error",
     "traceback": [
      "\u001b[0;31m---------------------------------------------------------------------------\u001b[0m",
      "\u001b[0;31mNameError\u001b[0m                                 Traceback (most recent call last)",
      "\u001b[0;32m/tmp/ipykernel_28939/1941937663.py\u001b[0m in \u001b[0;36m<cell line: 1>\u001b[0;34m()\u001b[0m\n\u001b[1;32m      1\u001b[0m \u001b[0;32mwith\u001b[0m \u001b[0mopen\u001b[0m\u001b[0;34m(\u001b[0m\u001b[0;34m\"CDK2-VEHICLe.pkl\"\u001b[0m\u001b[0;34m,\u001b[0m \u001b[0;34m\"wb\"\u001b[0m\u001b[0;34m)\u001b[0m \u001b[0;32mas\u001b[0m \u001b[0mf\u001b[0m\u001b[0;34m:\u001b[0m\u001b[0;34m\u001b[0m\u001b[0;34m\u001b[0m\u001b[0m\n\u001b[0;32m----> 2\u001b[0;31m     \u001b[0mpickle\u001b[0m\u001b[0;34m.\u001b[0m\u001b[0mdump\u001b[0m\u001b[0;34m(\u001b[0m\u001b[0malignments\u001b[0m\u001b[0;34m,\u001b[0m \u001b[0mf\u001b[0m\u001b[0;34m)\u001b[0m\u001b[0;34m\u001b[0m\u001b[0;34m\u001b[0m\u001b[0m\n\u001b[0m",
      "\u001b[0;31mNameError\u001b[0m: name 'pickle' is not defined"
     ]
    }
   ],
   "source": [
    "with open(\"CDK2-VEHICLe.pkl\", \"wb\") as f:\n",
    "    pickle.dump(alignments, f)"
   ]
  },
  {
   "cell_type": "code",
   "execution_count": null,
   "metadata": {},
   "outputs": [],
   "source": []
  }
 ],
 "metadata": {
  "interpreter": {
   "hash": "396549d0d80549071e1871f25904236f25b7276c7340ecdf496245f78763dd5d"
  },
  "kernelspec": {
   "display_name": "Python 3.9.12",
   "language": "python",
   "name": "python3"
  },
  "language_info": {
   "codemirror_mode": {
    "name": "ipython",
    "version": 3
   },
   "file_extension": ".py",
   "mimetype": "text/x-python",
   "name": "python",
   "nbconvert_exporter": "python",
   "pygments_lexer": "ipython3",
   "version": "3.9.12"
  },
  "orig_nbformat": 4
 },
 "nbformat": 4,
 "nbformat_minor": 2
}
