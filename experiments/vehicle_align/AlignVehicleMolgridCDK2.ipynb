{
 "cells": [
  {
   "cell_type": "markdown",
   "metadata": {},
   "source": [
    "# Align VEHICLe Fragments to CDK2 Inhibitors"
   ]
  },
  {
   "cell_type": "code",
   "execution_count": 16,
   "metadata": {},
   "outputs": [
    {
     "name": "stdout",
     "output_type": "stream",
     "text": [
      "The autoreload extension is already loaded. To reload it, use:\n",
      "  %reload_ext autoreload\n",
      "The jupyter_black extension is already loaded. To reload it, use:\n",
      "  %reload_ext jupyter_black\n"
     ]
    }
   ],
   "source": [
    "%load_ext autoreload\n",
    "%autoreload 2\n",
    "%load_ext jupyter_black"
   ]
  },
  {
   "cell_type": "code",
   "execution_count": 17,
   "metadata": {},
   "outputs": [],
   "source": [
    "method = \"molgrid\""
   ]
  },
  {
   "cell_type": "code",
   "execution_count": 18,
   "metadata": {},
   "outputs": [],
   "source": [
    "import open3d as o3d\n",
    "from rdkit import Chem\n",
    "import numpy as np\n",
    "\n",
    "from collections import defaultdict\n",
    "\n",
    "import tqdm\n",
    "import os, sys\n",
    "\n",
    "import pickle"
   ]
  },
  {
   "cell_type": "code",
   "execution_count": 19,
   "metadata": {},
   "outputs": [],
   "source": [
    "sys.path.append(\"../../\")\n",
    "sys.path.append(\"../\")"
   ]
  },
  {
   "cell_type": "code",
   "execution_count": 20,
   "metadata": {},
   "outputs": [],
   "source": [
    "from utils import align, show"
   ]
  },
  {
   "cell_type": "markdown",
   "metadata": {},
   "source": [
    "## Load CDK2 Inhibitors"
   ]
  },
  {
   "cell_type": "code",
   "execution_count": 21,
   "metadata": {},
   "outputs": [],
   "source": [
    "path = \"../ligands/CDK2\""
   ]
  },
  {
   "cell_type": "code",
   "execution_count": 22,
   "metadata": {},
   "outputs": [
    {
     "name": "stdout",
     "output_type": "stream",
     "text": [
      "['../ligands/CDK2/4ek4_B_1CK_molgrid.pcd', '../ligands/CDK2/4ek5_B_03K_molgrid.pcd', '../ligands/CDK2/4fkg_B_4CK_molgrid.pcd', '../ligands/CDK2/4fki_B_09K_molgrid.pcd', '../ligands/CDK2/4fkj_B_11K_molgrid.pcd', '../ligands/CDK2/3sw4_B_18K_molgrid.pcd', '../ligands/CDK2/3sw7_B_19K_molgrid.pcd', '../ligands/CDK2/4fko_B_20K_molgrid.pcd', '../ligands/CDK2/4fkp_B_LS5_molgrid.pcd', '../ligands/CDK2/4fkq_B_42K_molgrid.pcd', '../ligands/CDK2/4fkr_B_45K_molgrid.pcd', '../ligands/CDK2/4fks_B_46K_molgrid.pcd', '../ligands/CDK2/4fkt_B_48K_molgrid.pcd', '../ligands/CDK2/4fku_D_60K_molgrid.pcd', '../ligands/CDK2/4fkv_B_61K_molgrid.pcd', '../ligands/CDK2/4fkw_B_62K_molgrid.pcd']\n"
     ]
    }
   ],
   "source": [
    "files = []\n",
    "for f in os.listdir(path):\n",
    "    fname, ext = os.path.splitext(f)\n",
    "    if ext == \".pcd\" and method in f and not \"tran\" in f:\n",
    "        files.append(os.path.join(path, f))\n",
    "\n",
    "# Order ligands\n",
    "# This should make the three chemical series pop-up in the PCD fit\n",
    "names = {\n",
    "    \"4ek4_B_1CK\": \"CS1\",\n",
    "    \"4ek5_B_03K\": \"CS3\",\n",
    "    \"4fkg_B_4CK\": \"CS4\",\n",
    "    \"4fki_B_09K\": \"CS9\",\n",
    "    \"4fkj_B_11K\": \"CS11\",\n",
    "    \"3sw4_B_18K\": \"CS18\",\n",
    "    \"3sw7_B_19K\": \"CS19\",\n",
    "    \"4fko_B_20K\": \"CS20\",\n",
    "    \"4fkp_B_LS5\": \"CS241\",\n",
    "    \"4fkq_B_42K\": \"CS242\",\n",
    "    \"4fkr_B_45K\": \"CS245\",\n",
    "    \"4fks_B_46K\": \"CS246\",\n",
    "    \"4fkt_B_48K\": \"CS248\",\n",
    "    \"4fku_D_60K\": \"CS260\",\n",
    "    \"4fkv_B_61K\": \"CS261\",\n",
    "    \"4fkw_B_62K\": \"CS262\",\n",
    "}\n",
    "\n",
    "files.sort(\n",
    "    key=lambda f: int(\n",
    "        names[\n",
    "            os.path.splitext(os.path.basename(f))[0].replace(f\"_{method}\", \"\")\n",
    "        ].replace(\"CS\", \"\")\n",
    "    )\n",
    ")\n",
    "\n",
    "print(files)\n",
    "\n",
    "pcds = []\n",
    "mols = []\n",
    "for f in files:\n",
    "    pcd = o3d.io.read_point_cloud(f)\n",
    "    pcds.append(pcd)\n",
    "\n",
    "    s = Chem.SDMolSupplier(f.replace(\".pcd\", \".sdf\").replace(f\"_{method}\", \"\"))\n",
    "    mol = next(s)\n",
    "    mols.append(mol)"
   ]
  },
  {
   "cell_type": "markdown",
   "metadata": {},
   "source": [
    "## Load Fragments"
   ]
  },
  {
   "cell_type": "markdown",
   "metadata": {},
   "source": [
    "Load fragments. Only fragments that are considered to be synthetically accessible are considered here, in order to reduce computational resources:"
   ]
  },
  {
   "cell_type": "code",
   "execution_count": 23,
   "metadata": {},
   "outputs": [
    {
     "name": "stdout",
     "output_type": "stream",
     "text": [
      "['../../fragments/VEHICLe-good/fragment_1046.pcd', '../../fragments/VEHICLe-good/fragment_0.pcd', '../../fragments/VEHICLe-good/fragment_1.pcd', '../../fragments/VEHICLe-good/fragment_1047.pcd', '../../fragments/VEHICLe-good/fragment_10.pcd']\n"
     ]
    },
    {
     "name": "stderr",
     "output_type": "stream",
     "text": [
      "100%|██████████| 5419/5419 [00:05<00:00, 976.74it/s] \n"
     ]
    }
   ],
   "source": [
    "fragpath = path = \"../../fragments/VEHICLe-good/\"\n",
    "fragfiles = [\n",
    "    os.path.join(fragpath, f)\n",
    "    for f in os.listdir(fragpath)\n",
    "    if os.path.splitext(f)[-1] == \".pcd\"\n",
    "]\n",
    "\n",
    "print(fragfiles[:5])\n",
    "\n",
    "fragpcds = []\n",
    "fragmols = []\n",
    "for ff in tqdm.tqdm(fragfiles):\n",
    "    pcd = o3d.io.read_point_cloud(ff)\n",
    "    fragpcds.append(pcd)\n",
    "\n",
    "    s = Chem.SDMolSupplier(ff.replace(\".pcd\", \".sdf\"))\n",
    "    mol = next(s)\n",
    "    fragmols.append(mol)"
   ]
  },
  {
   "cell_type": "markdown",
   "metadata": {},
   "source": [
    "## Align Fragments to CDK2 Inhibitors"
   ]
  },
  {
   "cell_type": "code",
   "execution_count": 25,
   "metadata": {},
   "outputs": [
    {
     "name": "stderr",
     "output_type": "stream",
     "text": [
      "Fragments CS1: 100%|██████████| 5419/5419 [22:46<00:00,  3.97it/s]\n",
      "Fragments CS3: 100%|██████████| 5419/5419 [23:01<00:00,  3.92it/s]\n",
      "Fragments CS4: 100%|██████████| 5419/5419 [22:38<00:00,  3.99it/s]\n",
      "Fragments CS9: 100%|██████████| 5419/5419 [23:54<00:00,  3.78it/s]\n",
      "Fragments CS11: 100%|██████████| 5419/5419 [23:28<00:00,  3.85it/s]\n",
      "Fragments CS18: 100%|██████████| 5419/5419 [24:04<00:00,  3.75it/s]\n",
      "Fragments CS19: 100%|██████████| 5419/5419 [24:15<00:00,  3.72it/s]\n",
      "Fragments CS20: 100%|██████████| 5419/5419 [23:47<00:00,  3.80it/s]\n",
      "Fragments CS241: 100%|██████████| 5419/5419 [20:31<00:00,  4.40it/s]\n",
      "Fragments CS242: 100%|██████████| 5419/5419 [19:24<00:00,  4.65it/s]\n",
      "Fragments CS245: 100%|██████████| 5419/5419 [19:45<00:00,  4.57it/s]\n",
      "Fragments CS246: 100%|██████████| 5419/5419 [19:57<00:00,  4.53it/s]\n",
      "Fragments CS248: 100%|██████████| 5419/5419 [19:39<00:00,  4.60it/s]\n",
      "Fragments CS260: 100%|██████████| 5419/5419 [19:14<00:00,  4.69it/s]\n",
      "Fragments CS261: 100%|██████████| 5419/5419 [20:08<00:00,  4.48it/s]\n",
      "Fragments CS262: 100%|██████████| 5419/5419 [19:40<00:00,  4.59it/s]\n"
     ]
    }
   ],
   "source": [
    "alignments = {}\n",
    "\n",
    "for i, f in enumerate(files):\n",
    "    name = os.path.splitext(os.path.basename(f))[0].replace(f\"_{method}\", \"\")\n",
    "\n",
    "    alignments[names[name]] = defaultdict(list)\n",
    "\n",
    "    for j, ff in enumerate(tqdm.tqdm(fragfiles, desc=\"Fragments \" + names[name])):\n",
    "        fidx = os.path.splitext(os.path.basename(ff))[0].replace(f\"fragment_\", \"\")\n",
    "\n",
    "        try:\n",
    "            gfit, cfit = align(fragmols[j], fragpcds[j], pcds[i])\n",
    "        except RuntimeError:  # No alignment found\n",
    "            gfit, cfit = np.nan\n",
    "\n",
    "        alignments[names[name]][\"fragment\"].append(int(fidx))\n",
    "        alignments[names[name]][\"gfit\"].append(gfit.fitness)\n",
    "        alignments[names[name]][\"cfit\"].append(cfit.fitness)\n",
    "        alignments[names[name]][\"mol\"].append(mols[i])\n",
    "        alignments[names[name]][\"fragmol\"].append(fragmols[j])"
   ]
  },
  {
   "cell_type": "code",
   "execution_count": 26,
   "metadata": {},
   "outputs": [],
   "source": [
    "def showbest(name):\n",
    "    bestidx = np.argmax(alignments[name][\"cfit\"])\n",
    "    print(alignments[name][\"cfit\"][bestidx])\n",
    "    return show(alignments[name][\"fragmol\"][bestidx], alignments[name][\"mol\"][bestidx])"
   ]
  },
  {
   "cell_type": "code",
   "execution_count": 27,
   "metadata": {},
   "outputs": [],
   "source": [
    "def showworst(name):\n",
    "    bestidx = np.argmin(alignments[name][\"cfit\"])\n",
    "    print(alignments[name][\"cfit\"][bestidx])\n",
    "    return show(alignments[name][\"fragmol\"][bestidx], alignments[name][\"mol\"][bestidx])"
   ]
  },
  {
   "cell_type": "code",
   "execution_count": 28,
   "metadata": {},
   "outputs": [
    {
     "name": "stdout",
     "output_type": "stream",
     "text": [
      "0.9691358024691358\n"
     ]
    },
    {
     "data": {
      "application/3dmoljs_load.v0": "<div id=\"3dmolviewer_16508783475995884\"  style=\"position: relative; width: 640px; height: 480px\">\n        <p id=\"3dmolwarning_16508783475995884\" style=\"background-color:#ffcccc;color:black\">You appear to be running in JupyterLab (or JavaScript failed to load for some other reason).  You need to install the 3dmol extension: <br>\n        <tt>jupyter labextension install jupyterlab_3dmol</tt></p>\n        </div>\n<script>\n\nvar loadScriptAsync = function(uri){\n  return new Promise((resolve, reject) => {\n    var tag = document.createElement('script');\n    tag.src = uri;\n    tag.async = true;\n    tag.onload = () => {\n      resolve();\n    };\n  var firstScriptTag = document.getElementsByTagName('script')[0];\n  firstScriptTag.parentNode.insertBefore(tag, firstScriptTag);\n});\n};\n\nif(typeof $3Dmolpromise === 'undefined') {\n$3Dmolpromise = null;\n  $3Dmolpromise = loadScriptAsync('https://3dmol.org/build/3Dmol.js');\n}\n\nvar viewer_16508783475995884 = null;\nvar warn = document.getElementById(\"3dmolwarning_16508783475995884\");\nif(warn) {\n    warn.parentNode.removeChild(warn);\n}\n$3Dmolpromise.then(function() {\nviewer_16508783475995884 = $3Dmol.createViewer($(\"#3dmolviewer_16508783475995884\"),{backgroundColor:\"white\"});\nviewer_16508783475995884.zoomTo();\n\tviewer_16508783475995884.addModel(\"\\n     RDKit          3D\\n\\n  5  5  0  0  0  0  0  0  0  0999 V2000\\n    1.0936   -0.1353   -0.0160 C   0  0  0  0  0  0  0  0  0  0  0  0\\n    0.6221    1.0744   -0.3663 N   0  0  0  0  0  0  0  0  0  0  0  0\\n   -0.6976    1.0323   -0.2833 N   0  0  0  0  0  0  0  0  0  0  0  0\\n   -1.0904   -0.1681    0.1099 N   0  0  0  0  0  0  0  0  0  0  0  0\\n    0.0126   -0.8812    0.2727 N   0  0  0  0  0  0  0  0  0  0  0  0\\n  1  2  1  0\\n  2  3  2  0\\n  3  4  1  0\\n  4  5  1  0\\n  5  1  2  0\\nM  END\\n\",\"sdf\");\n\tviewer_16508783475995884.addModel(\"\\n     RDKit          3D\\n\\n  5  5  0  0  0  0  0  0  0  0999 V2000\\n   -3.7332   -8.5410   29.0217 C   0  0  0  0  0  0  0  0  0  0  0  0\\n   -4.6675   -8.0830   29.8736 N   0  0  0  0  0  0  0  0  0  0  0  0\\n   -5.6591   -8.9585   29.8933 N   0  0  0  0  0  0  0  0  0  0  0  0\\n   -5.3917   -9.9667   29.0798 N   0  0  0  0  0  0  0  0  0  0  0  0\\n   -4.2086   -9.7059   28.5471 N   0  0  0  0  0  0  0  0  0  0  0  0\\n  1  2  1  0\\n  2  3  2  0\\n  3  4  1  0\\n  4  5  1  0\\n  5  1  2  0\\nM  END\\n\",\"sdf\");\n\tviewer_16508783475995884.addModel(\"4ek4_B_1CK.pdb\\n     RDKit          3D\\n\\n 16 17  0  0  0  0  0  0  0  0999 V2000\\n   -1.8650   -4.2850   29.7160 N   0  0  0  0  0  0  0  0  0  0  0  0\\n   -2.8640   -6.3850   29.7000 N   0  0  0  0  0  0  0  0  0  0  0  0\\n   -0.7980   -3.6980   29.1830 N   0  0  0  0  0  0  0  0  0  0  0  0\\n    1.2300   -4.1860   27.7680 C   0  0  0  0  0  0  0  0  0  0  0  0\\n   -2.4320   -8.0900   28.2790 O   0  0  0  0  0  0  0  0  0  0  0  0\\n   -7.9160  -10.8760   31.2190 Br  0  0  0  0  0  0  0  0  0  0  0  0\\n   -6.0950   -9.9460   29.2720 C   0  0  0  0  0  0  0  0  0  0  0  0\\n   -5.7070   -9.0320   31.4960 C   0  0  0  0  0  0  0  0  0  0  0  0\\n   -5.0030   -9.2060   28.7980 C   0  0  0  0  0  0  0  0  0  0  0  0\\n   -4.6190   -8.3030   30.9970 C   0  0  0  0  0  0  0  0  0  0  0  0\\n   -0.7460   -5.7410   28.5340 C   0  0  0  0  0  0  0  0  0  0  0  0\\n   -3.1320   -7.6050   29.1650 C   0  0  0  0  0  0  0  0  0  0  0  0\\n   -0.0800   -4.5530   28.4830 C   0  0  0  0  0  0  0  0  0  0  0  0\\n   -6.4430   -9.8680   30.6280 C   0  0  0  0  0  0  0  0  0  0  0  0\\n   -4.2500   -8.3510   29.6500 C   0  0  0  0  0  0  0  0  0  0  0  0\\n   -1.8480   -5.5500   29.3130 C   0  0  0  0  0  0  0  0  0  0  0  0\\n  1  3  1  0\\n  1 16  2  0\\n  2 12  1  0\\n  2 16  1  0\\n  3 13  2  0\\n  4 13  1  0\\n  5 12  2  0\\n  6 14  1  0\\n  7 14  2  0\\n  7  9  1  0\\n  8 10  2  0\\n  8 14  1  0\\n  9 15  2  0\\n 10 15  1  0\\n 11 16  1  0\\n 11 13  1  0\\n 12 15  1  0\\nM  END\\n\",\"sdf\");\n\tviewer_16508783475995884.setStyle({\"model\": 0},{\"stick\": {\"colorscheme\": \"lightgreyCarbon\"}});\n\tviewer_16508783475995884.setStyle({\"model\": 1},{\"stick\": {\"colorscheme\": \"purpleCarbon\"}});\n\tviewer_16508783475995884.setStyle({\"model\": 2},{\"stick\": {\"colorscheme\": \"greyCarbon\"}});\n\tviewer_16508783475995884.zoomTo();\nviewer_16508783475995884.render();\n});\n</script>",
      "text/html": [
       "<div id=\"3dmolviewer_16508783475995884\"  style=\"position: relative; width: 640px; height: 480px\">\n",
       "        <p id=\"3dmolwarning_16508783475995884\" style=\"background-color:#ffcccc;color:black\">You appear to be running in JupyterLab (or JavaScript failed to load for some other reason).  You need to install the 3dmol extension: <br>\n",
       "        <tt>jupyter labextension install jupyterlab_3dmol</tt></p>\n",
       "        </div>\n",
       "<script>\n",
       "\n",
       "var loadScriptAsync = function(uri){\n",
       "  return new Promise((resolve, reject) => {\n",
       "    var tag = document.createElement('script');\n",
       "    tag.src = uri;\n",
       "    tag.async = true;\n",
       "    tag.onload = () => {\n",
       "      resolve();\n",
       "    };\n",
       "  var firstScriptTag = document.getElementsByTagName('script')[0];\n",
       "  firstScriptTag.parentNode.insertBefore(tag, firstScriptTag);\n",
       "});\n",
       "};\n",
       "\n",
       "if(typeof $3Dmolpromise === 'undefined') {\n",
       "$3Dmolpromise = null;\n",
       "  $3Dmolpromise = loadScriptAsync('https://3dmol.org/build/3Dmol.js');\n",
       "}\n",
       "\n",
       "var viewer_16508783475995884 = null;\n",
       "var warn = document.getElementById(\"3dmolwarning_16508783475995884\");\n",
       "if(warn) {\n",
       "    warn.parentNode.removeChild(warn);\n",
       "}\n",
       "$3Dmolpromise.then(function() {\n",
       "viewer_16508783475995884 = $3Dmol.createViewer($(\"#3dmolviewer_16508783475995884\"),{backgroundColor:\"white\"});\n",
       "viewer_16508783475995884.zoomTo();\n",
       "\tviewer_16508783475995884.addModel(\"\\n     RDKit          3D\\n\\n  5  5  0  0  0  0  0  0  0  0999 V2000\\n    1.0936   -0.1353   -0.0160 C   0  0  0  0  0  0  0  0  0  0  0  0\\n    0.6221    1.0744   -0.3663 N   0  0  0  0  0  0  0  0  0  0  0  0\\n   -0.6976    1.0323   -0.2833 N   0  0  0  0  0  0  0  0  0  0  0  0\\n   -1.0904   -0.1681    0.1099 N   0  0  0  0  0  0  0  0  0  0  0  0\\n    0.0126   -0.8812    0.2727 N   0  0  0  0  0  0  0  0  0  0  0  0\\n  1  2  1  0\\n  2  3  2  0\\n  3  4  1  0\\n  4  5  1  0\\n  5  1  2  0\\nM  END\\n\",\"sdf\");\n",
       "\tviewer_16508783475995884.addModel(\"\\n     RDKit          3D\\n\\n  5  5  0  0  0  0  0  0  0  0999 V2000\\n   -3.7332   -8.5410   29.0217 C   0  0  0  0  0  0  0  0  0  0  0  0\\n   -4.6675   -8.0830   29.8736 N   0  0  0  0  0  0  0  0  0  0  0  0\\n   -5.6591   -8.9585   29.8933 N   0  0  0  0  0  0  0  0  0  0  0  0\\n   -5.3917   -9.9667   29.0798 N   0  0  0  0  0  0  0  0  0  0  0  0\\n   -4.2086   -9.7059   28.5471 N   0  0  0  0  0  0  0  0  0  0  0  0\\n  1  2  1  0\\n  2  3  2  0\\n  3  4  1  0\\n  4  5  1  0\\n  5  1  2  0\\nM  END\\n\",\"sdf\");\n",
       "\tviewer_16508783475995884.addModel(\"4ek4_B_1CK.pdb\\n     RDKit          3D\\n\\n 16 17  0  0  0  0  0  0  0  0999 V2000\\n   -1.8650   -4.2850   29.7160 N   0  0  0  0  0  0  0  0  0  0  0  0\\n   -2.8640   -6.3850   29.7000 N   0  0  0  0  0  0  0  0  0  0  0  0\\n   -0.7980   -3.6980   29.1830 N   0  0  0  0  0  0  0  0  0  0  0  0\\n    1.2300   -4.1860   27.7680 C   0  0  0  0  0  0  0  0  0  0  0  0\\n   -2.4320   -8.0900   28.2790 O   0  0  0  0  0  0  0  0  0  0  0  0\\n   -7.9160  -10.8760   31.2190 Br  0  0  0  0  0  0  0  0  0  0  0  0\\n   -6.0950   -9.9460   29.2720 C   0  0  0  0  0  0  0  0  0  0  0  0\\n   -5.7070   -9.0320   31.4960 C   0  0  0  0  0  0  0  0  0  0  0  0\\n   -5.0030   -9.2060   28.7980 C   0  0  0  0  0  0  0  0  0  0  0  0\\n   -4.6190   -8.3030   30.9970 C   0  0  0  0  0  0  0  0  0  0  0  0\\n   -0.7460   -5.7410   28.5340 C   0  0  0  0  0  0  0  0  0  0  0  0\\n   -3.1320   -7.6050   29.1650 C   0  0  0  0  0  0  0  0  0  0  0  0\\n   -0.0800   -4.5530   28.4830 C   0  0  0  0  0  0  0  0  0  0  0  0\\n   -6.4430   -9.8680   30.6280 C   0  0  0  0  0  0  0  0  0  0  0  0\\n   -4.2500   -8.3510   29.6500 C   0  0  0  0  0  0  0  0  0  0  0  0\\n   -1.8480   -5.5500   29.3130 C   0  0  0  0  0  0  0  0  0  0  0  0\\n  1  3  1  0\\n  1 16  2  0\\n  2 12  1  0\\n  2 16  1  0\\n  3 13  2  0\\n  4 13  1  0\\n  5 12  2  0\\n  6 14  1  0\\n  7 14  2  0\\n  7  9  1  0\\n  8 10  2  0\\n  8 14  1  0\\n  9 15  2  0\\n 10 15  1  0\\n 11 16  1  0\\n 11 13  1  0\\n 12 15  1  0\\nM  END\\n\",\"sdf\");\n",
       "\tviewer_16508783475995884.setStyle({\"model\": 0},{\"stick\": {\"colorscheme\": \"lightgreyCarbon\"}});\n",
       "\tviewer_16508783475995884.setStyle({\"model\": 1},{\"stick\": {\"colorscheme\": \"purpleCarbon\"}});\n",
       "\tviewer_16508783475995884.setStyle({\"model\": 2},{\"stick\": {\"colorscheme\": \"greyCarbon\"}});\n",
       "\tviewer_16508783475995884.zoomTo();\n",
       "viewer_16508783475995884.render();\n",
       "});\n",
       "</script>"
      ]
     },
     "metadata": {},
     "output_type": "display_data"
    },
    {
     "data": {
      "text/plain": [
       "<py3Dmol.view at 0x7fd90e87b880>"
      ]
     },
     "execution_count": 28,
     "metadata": {},
     "output_type": "execute_result"
    }
   ],
   "source": [
    "showbest(\"CS1\")"
   ]
  },
  {
   "cell_type": "code",
   "execution_count": 29,
   "metadata": {},
   "outputs": [
    {
     "name": "stdout",
     "output_type": "stream",
     "text": [
      "0.579250720461095\n"
     ]
    },
    {
     "data": {
      "application/3dmoljs_load.v0": "<div id=\"3dmolviewer_16508783477497156\"  style=\"position: relative; width: 640px; height: 480px\">\n        <p id=\"3dmolwarning_16508783477497156\" style=\"background-color:#ffcccc;color:black\">You appear to be running in JupyterLab (or JavaScript failed to load for some other reason).  You need to install the 3dmol extension: <br>\n        <tt>jupyter labextension install jupyterlab_3dmol</tt></p>\n        </div>\n<script>\n\nvar loadScriptAsync = function(uri){\n  return new Promise((resolve, reject) => {\n    var tag = document.createElement('script');\n    tag.src = uri;\n    tag.async = true;\n    tag.onload = () => {\n      resolve();\n    };\n  var firstScriptTag = document.getElementsByTagName('script')[0];\n  firstScriptTag.parentNode.insertBefore(tag, firstScriptTag);\n});\n};\n\nif(typeof $3Dmolpromise === 'undefined') {\n$3Dmolpromise = null;\n  $3Dmolpromise = loadScriptAsync('https://3dmol.org/build/3Dmol.js');\n}\n\nvar viewer_16508783477497156 = null;\nvar warn = document.getElementById(\"3dmolwarning_16508783477497156\");\nif(warn) {\n    warn.parentNode.removeChild(warn);\n}\n$3Dmolpromise.then(function() {\nviewer_16508783477497156 = $3Dmol.createViewer($(\"#3dmolviewer_16508783477497156\"),{backgroundColor:\"white\"});\nviewer_16508783477497156.zoomTo();\n\tviewer_16508783477497156.addModel(\"\\n     RDKit          3D\\n\\n 14 15  0  0  0  0  0  0  0  0999 V2000\\n   -2.8077   -1.3109   -0.2755 O   0  0  0  0  0  0  0  0  0  0  0  0\\n   -1.7025   -0.7119   -0.1617 C   0  0  0  0  0  0  0  0  0  0  0  0\\n   -1.6872    0.6734   -0.0713 C   0  0  0  0  0  0  0  0  0  0  0  0\\n   -2.8151    1.2691   -0.1096 O   0  0  0  0  0  0  0  0  0  0  0  0\\n   -0.5101    1.3722    0.0538 C   0  0  0  0  0  0  0  0  0  0  0  0\\n   -0.5209    2.6278    0.1341 O   0  0  0  0  0  0  0  0  0  0  0  0\\n    0.6794    0.6553    0.0885 C   0  0  0  0  0  0  0  0  0  0  0  0\\n    1.8143    1.3908    0.2131 N   0  0  0  0  0  0  0  0  0  0  0  0\\n    2.9489    0.7105    0.2464 N   0  0  0  0  0  0  0  0  0  0  0  0\\n    2.9839   -0.6209    0.1629 N   0  0  0  0  0  0  0  0  0  0  0  0\\n    1.8806   -1.3450    0.0411 N   0  0  0  0  0  0  0  0  0  0  0  0\\n    0.7013   -0.7186    0.0013 C   0  0  0  0  0  0  0  0  0  0  0  0\\n   -0.4984   -1.3667   -0.1221 C   0  0  0  0  0  0  0  0  0  0  0  0\\n   -0.4665   -2.6249   -0.2010 O   0  0  0  0  0  0  0  0  0  0  0  0\\n  1  2  2  0\\n  2  3  1  0\\n  3  4  2  0\\n  3  5  1  0\\n  5  6  2  0\\n  5  7  1  0\\n  7  8  2  0\\n  8  9  1  0\\n  9 10  2  0\\n 10 11  1  0\\n 11 12  2  0\\n 12 13  1  0\\n 13 14  2  0\\n 13  2  1  0\\n 12  7  1  0\\nM  END\\n\",\"sdf\");\n\tviewer_16508783477497156.addModel(\"\\n     RDKit          3D\\n\\n 14 15  0  0  0  0  0  0  0  0999 V2000\\n   -0.3477   -3.3443   29.2942 O   0  0  0  0  0  0  0  0  0  0  0  0\\n   -0.7160   -4.5030   28.9552 C   0  0  0  0  0  0  0  0  0  0  0  0\\n    0.0228   -5.2007   28.0092 C   0  0  0  0  0  0  0  0  0  0  0  0\\n    1.0508   -4.6157   27.5301 O   0  0  0  0  0  0  0  0  0  0  0  0\\n   -0.3367   -6.4649   27.6066 C   0  0  0  0  0  0  0  0  0  0  0  0\\n    0.3484   -7.0780   26.7476 O   0  0  0  0  0  0  0  0  0  0  0  0\\n   -1.4687   -7.0380   28.1725 C   0  0  0  0  0  0  0  0  0  0  0  0\\n   -1.7819   -8.2874   27.7420 N   0  0  0  0  0  0  0  0  0  0  0  0\\n   -2.8597   -8.8358   28.2794 N   0  0  0  0  0  0  0  0  0  0  0  0\\n   -3.6009   -8.2040   29.1917 N   0  0  0  0  0  0  0  0  0  0  0  0\\n   -3.3014   -6.9848   29.6163 N   0  0  0  0  0  0  0  0  0  0  0  0\\n   -2.2246   -6.3749   29.1130 C   0  0  0  0  0  0  0  0  0  0  0  0\\n   -1.8236   -5.1182   29.4795 C   0  0  0  0  0  0  0  0  0  0  0  0\\n   -2.5233   -4.5203   30.3417 O   0  0  0  0  0  0  0  0  0  0  0  0\\n  1  2  2  0\\n  2  3  1  0\\n  3  4  2  0\\n  3  5  1  0\\n  5  6  2  0\\n  5  7  1  0\\n  7  8  2  0\\n  8  9  1  0\\n  9 10  2  0\\n 10 11  1  0\\n 11 12  2  0\\n 12 13  1  0\\n 13 14  2  0\\n 13  2  1  0\\n 12  7  1  0\\nM  END\\n\",\"sdf\");\n\tviewer_16508783477497156.addModel(\"4ek4_B_1CK.pdb\\n     RDKit          3D\\n\\n 16 17  0  0  0  0  0  0  0  0999 V2000\\n   -1.8650   -4.2850   29.7160 N   0  0  0  0  0  0  0  0  0  0  0  0\\n   -2.8640   -6.3850   29.7000 N   0  0  0  0  0  0  0  0  0  0  0  0\\n   -0.7980   -3.6980   29.1830 N   0  0  0  0  0  0  0  0  0  0  0  0\\n    1.2300   -4.1860   27.7680 C   0  0  0  0  0  0  0  0  0  0  0  0\\n   -2.4320   -8.0900   28.2790 O   0  0  0  0  0  0  0  0  0  0  0  0\\n   -7.9160  -10.8760   31.2190 Br  0  0  0  0  0  0  0  0  0  0  0  0\\n   -6.0950   -9.9460   29.2720 C   0  0  0  0  0  0  0  0  0  0  0  0\\n   -5.7070   -9.0320   31.4960 C   0  0  0  0  0  0  0  0  0  0  0  0\\n   -5.0030   -9.2060   28.7980 C   0  0  0  0  0  0  0  0  0  0  0  0\\n   -4.6190   -8.3030   30.9970 C   0  0  0  0  0  0  0  0  0  0  0  0\\n   -0.7460   -5.7410   28.5340 C   0  0  0  0  0  0  0  0  0  0  0  0\\n   -3.1320   -7.6050   29.1650 C   0  0  0  0  0  0  0  0  0  0  0  0\\n   -0.0800   -4.5530   28.4830 C   0  0  0  0  0  0  0  0  0  0  0  0\\n   -6.4430   -9.8680   30.6280 C   0  0  0  0  0  0  0  0  0  0  0  0\\n   -4.2500   -8.3510   29.6500 C   0  0  0  0  0  0  0  0  0  0  0  0\\n   -1.8480   -5.5500   29.3130 C   0  0  0  0  0  0  0  0  0  0  0  0\\n  1  3  1  0\\n  1 16  2  0\\n  2 12  1  0\\n  2 16  1  0\\n  3 13  2  0\\n  4 13  1  0\\n  5 12  2  0\\n  6 14  1  0\\n  7 14  2  0\\n  7  9  1  0\\n  8 10  2  0\\n  8 14  1  0\\n  9 15  2  0\\n 10 15  1  0\\n 11 16  1  0\\n 11 13  1  0\\n 12 15  1  0\\nM  END\\n\",\"sdf\");\n\tviewer_16508783477497156.setStyle({\"model\": 0},{\"stick\": {\"colorscheme\": \"lightgreyCarbon\"}});\n\tviewer_16508783477497156.setStyle({\"model\": 1},{\"stick\": {\"colorscheme\": \"purpleCarbon\"}});\n\tviewer_16508783477497156.setStyle({\"model\": 2},{\"stick\": {\"colorscheme\": \"greyCarbon\"}});\n\tviewer_16508783477497156.zoomTo();\nviewer_16508783477497156.render();\n});\n</script>",
      "text/html": [
       "<div id=\"3dmolviewer_16508783477497156\"  style=\"position: relative; width: 640px; height: 480px\">\n",
       "        <p id=\"3dmolwarning_16508783477497156\" style=\"background-color:#ffcccc;color:black\">You appear to be running in JupyterLab (or JavaScript failed to load for some other reason).  You need to install the 3dmol extension: <br>\n",
       "        <tt>jupyter labextension install jupyterlab_3dmol</tt></p>\n",
       "        </div>\n",
       "<script>\n",
       "\n",
       "var loadScriptAsync = function(uri){\n",
       "  return new Promise((resolve, reject) => {\n",
       "    var tag = document.createElement('script');\n",
       "    tag.src = uri;\n",
       "    tag.async = true;\n",
       "    tag.onload = () => {\n",
       "      resolve();\n",
       "    };\n",
       "  var firstScriptTag = document.getElementsByTagName('script')[0];\n",
       "  firstScriptTag.parentNode.insertBefore(tag, firstScriptTag);\n",
       "});\n",
       "};\n",
       "\n",
       "if(typeof $3Dmolpromise === 'undefined') {\n",
       "$3Dmolpromise = null;\n",
       "  $3Dmolpromise = loadScriptAsync('https://3dmol.org/build/3Dmol.js');\n",
       "}\n",
       "\n",
       "var viewer_16508783477497156 = null;\n",
       "var warn = document.getElementById(\"3dmolwarning_16508783477497156\");\n",
       "if(warn) {\n",
       "    warn.parentNode.removeChild(warn);\n",
       "}\n",
       "$3Dmolpromise.then(function() {\n",
       "viewer_16508783477497156 = $3Dmol.createViewer($(\"#3dmolviewer_16508783477497156\"),{backgroundColor:\"white\"});\n",
       "viewer_16508783477497156.zoomTo();\n",
       "\tviewer_16508783477497156.addModel(\"\\n     RDKit          3D\\n\\n 14 15  0  0  0  0  0  0  0  0999 V2000\\n   -2.8077   -1.3109   -0.2755 O   0  0  0  0  0  0  0  0  0  0  0  0\\n   -1.7025   -0.7119   -0.1617 C   0  0  0  0  0  0  0  0  0  0  0  0\\n   -1.6872    0.6734   -0.0713 C   0  0  0  0  0  0  0  0  0  0  0  0\\n   -2.8151    1.2691   -0.1096 O   0  0  0  0  0  0  0  0  0  0  0  0\\n   -0.5101    1.3722    0.0538 C   0  0  0  0  0  0  0  0  0  0  0  0\\n   -0.5209    2.6278    0.1341 O   0  0  0  0  0  0  0  0  0  0  0  0\\n    0.6794    0.6553    0.0885 C   0  0  0  0  0  0  0  0  0  0  0  0\\n    1.8143    1.3908    0.2131 N   0  0  0  0  0  0  0  0  0  0  0  0\\n    2.9489    0.7105    0.2464 N   0  0  0  0  0  0  0  0  0  0  0  0\\n    2.9839   -0.6209    0.1629 N   0  0  0  0  0  0  0  0  0  0  0  0\\n    1.8806   -1.3450    0.0411 N   0  0  0  0  0  0  0  0  0  0  0  0\\n    0.7013   -0.7186    0.0013 C   0  0  0  0  0  0  0  0  0  0  0  0\\n   -0.4984   -1.3667   -0.1221 C   0  0  0  0  0  0  0  0  0  0  0  0\\n   -0.4665   -2.6249   -0.2010 O   0  0  0  0  0  0  0  0  0  0  0  0\\n  1  2  2  0\\n  2  3  1  0\\n  3  4  2  0\\n  3  5  1  0\\n  5  6  2  0\\n  5  7  1  0\\n  7  8  2  0\\n  8  9  1  0\\n  9 10  2  0\\n 10 11  1  0\\n 11 12  2  0\\n 12 13  1  0\\n 13 14  2  0\\n 13  2  1  0\\n 12  7  1  0\\nM  END\\n\",\"sdf\");\n",
       "\tviewer_16508783477497156.addModel(\"\\n     RDKit          3D\\n\\n 14 15  0  0  0  0  0  0  0  0999 V2000\\n   -0.3477   -3.3443   29.2942 O   0  0  0  0  0  0  0  0  0  0  0  0\\n   -0.7160   -4.5030   28.9552 C   0  0  0  0  0  0  0  0  0  0  0  0\\n    0.0228   -5.2007   28.0092 C   0  0  0  0  0  0  0  0  0  0  0  0\\n    1.0508   -4.6157   27.5301 O   0  0  0  0  0  0  0  0  0  0  0  0\\n   -0.3367   -6.4649   27.6066 C   0  0  0  0  0  0  0  0  0  0  0  0\\n    0.3484   -7.0780   26.7476 O   0  0  0  0  0  0  0  0  0  0  0  0\\n   -1.4687   -7.0380   28.1725 C   0  0  0  0  0  0  0  0  0  0  0  0\\n   -1.7819   -8.2874   27.7420 N   0  0  0  0  0  0  0  0  0  0  0  0\\n   -2.8597   -8.8358   28.2794 N   0  0  0  0  0  0  0  0  0  0  0  0\\n   -3.6009   -8.2040   29.1917 N   0  0  0  0  0  0  0  0  0  0  0  0\\n   -3.3014   -6.9848   29.6163 N   0  0  0  0  0  0  0  0  0  0  0  0\\n   -2.2246   -6.3749   29.1130 C   0  0  0  0  0  0  0  0  0  0  0  0\\n   -1.8236   -5.1182   29.4795 C   0  0  0  0  0  0  0  0  0  0  0  0\\n   -2.5233   -4.5203   30.3417 O   0  0  0  0  0  0  0  0  0  0  0  0\\n  1  2  2  0\\n  2  3  1  0\\n  3  4  2  0\\n  3  5  1  0\\n  5  6  2  0\\n  5  7  1  0\\n  7  8  2  0\\n  8  9  1  0\\n  9 10  2  0\\n 10 11  1  0\\n 11 12  2  0\\n 12 13  1  0\\n 13 14  2  0\\n 13  2  1  0\\n 12  7  1  0\\nM  END\\n\",\"sdf\");\n",
       "\tviewer_16508783477497156.addModel(\"4ek4_B_1CK.pdb\\n     RDKit          3D\\n\\n 16 17  0  0  0  0  0  0  0  0999 V2000\\n   -1.8650   -4.2850   29.7160 N   0  0  0  0  0  0  0  0  0  0  0  0\\n   -2.8640   -6.3850   29.7000 N   0  0  0  0  0  0  0  0  0  0  0  0\\n   -0.7980   -3.6980   29.1830 N   0  0  0  0  0  0  0  0  0  0  0  0\\n    1.2300   -4.1860   27.7680 C   0  0  0  0  0  0  0  0  0  0  0  0\\n   -2.4320   -8.0900   28.2790 O   0  0  0  0  0  0  0  0  0  0  0  0\\n   -7.9160  -10.8760   31.2190 Br  0  0  0  0  0  0  0  0  0  0  0  0\\n   -6.0950   -9.9460   29.2720 C   0  0  0  0  0  0  0  0  0  0  0  0\\n   -5.7070   -9.0320   31.4960 C   0  0  0  0  0  0  0  0  0  0  0  0\\n   -5.0030   -9.2060   28.7980 C   0  0  0  0  0  0  0  0  0  0  0  0\\n   -4.6190   -8.3030   30.9970 C   0  0  0  0  0  0  0  0  0  0  0  0\\n   -0.7460   -5.7410   28.5340 C   0  0  0  0  0  0  0  0  0  0  0  0\\n   -3.1320   -7.6050   29.1650 C   0  0  0  0  0  0  0  0  0  0  0  0\\n   -0.0800   -4.5530   28.4830 C   0  0  0  0  0  0  0  0  0  0  0  0\\n   -6.4430   -9.8680   30.6280 C   0  0  0  0  0  0  0  0  0  0  0  0\\n   -4.2500   -8.3510   29.6500 C   0  0  0  0  0  0  0  0  0  0  0  0\\n   -1.8480   -5.5500   29.3130 C   0  0  0  0  0  0  0  0  0  0  0  0\\n  1  3  1  0\\n  1 16  2  0\\n  2 12  1  0\\n  2 16  1  0\\n  3 13  2  0\\n  4 13  1  0\\n  5 12  2  0\\n  6 14  1  0\\n  7 14  2  0\\n  7  9  1  0\\n  8 10  2  0\\n  8 14  1  0\\n  9 15  2  0\\n 10 15  1  0\\n 11 16  1  0\\n 11 13  1  0\\n 12 15  1  0\\nM  END\\n\",\"sdf\");\n",
       "\tviewer_16508783477497156.setStyle({\"model\": 0},{\"stick\": {\"colorscheme\": \"lightgreyCarbon\"}});\n",
       "\tviewer_16508783477497156.setStyle({\"model\": 1},{\"stick\": {\"colorscheme\": \"purpleCarbon\"}});\n",
       "\tviewer_16508783477497156.setStyle({\"model\": 2},{\"stick\": {\"colorscheme\": \"greyCarbon\"}});\n",
       "\tviewer_16508783477497156.zoomTo();\n",
       "viewer_16508783477497156.render();\n",
       "});\n",
       "</script>"
      ]
     },
     "metadata": {},
     "output_type": "display_data"
    },
    {
     "data": {
      "text/plain": [
       "<py3Dmol.view at 0x7fd90e87bc10>"
      ]
     },
     "execution_count": 29,
     "metadata": {},
     "output_type": "execute_result"
    }
   ],
   "source": [
    "showworst(\"CS1\")"
   ]
  },
  {
   "cell_type": "code",
   "execution_count": 30,
   "metadata": {},
   "outputs": [],
   "source": [
    "with open(\"CDK2-VEHICLe.pkl\", \"wb\") as f:\n",
    "    pickle.dump(alignments, f)"
   ]
  }
 ],
 "metadata": {
  "interpreter": {
   "hash": "396549d0d80549071e1871f25904236f25b7276c7340ecdf496245f78763dd5d"
  },
  "kernelspec": {
   "display_name": "Python 3.9.12",
   "language": "python",
   "name": "python3"
  },
  "language_info": {
   "codemirror_mode": {
    "name": "ipython",
    "version": 3
   },
   "file_extension": ".py",
   "mimetype": "text/x-python",
   "name": "python",
   "nbconvert_exporter": "python",
   "pygments_lexer": "ipython3",
   "version": "3.9.12"
  },
  "orig_nbformat": 4
 },
 "nbformat": 4,
 "nbformat_minor": 2
}
