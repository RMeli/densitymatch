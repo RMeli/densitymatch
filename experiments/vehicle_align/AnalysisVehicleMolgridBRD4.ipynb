{
 "cells": [
  {
   "cell_type": "markdown",
   "metadata": {},
   "source": [
    "# Analysis of VEHICLe Fragments Aligned to BRD4"
   ]
  },
  {
   "cell_type": "code",
   "execution_count": 1,
   "metadata": {},
   "outputs": [
    {
     "data": {
      "text/html": [
       "\n",
       "                <script type=\"application/javascript\" id=\"jupyter_black\">\n",
       "                (function() {\n",
       "                    if (window.IPython === undefined) {\n",
       "                        return\n",
       "                    }\n",
       "                    var msg = \"WARNING: it looks like you might have loaded \" +\n",
       "                        \"jupyter_black in a non-lab notebook with \" +\n",
       "                        \"`is_lab=True`. Please double check, and if \" +\n",
       "                        \"loading with `%load_ext` please review the README!\"\n",
       "                    console.log(msg)\n",
       "                    alert(msg)\n",
       "                })()\n",
       "                </script>\n",
       "                "
      ],
      "text/plain": [
       "<IPython.core.display.HTML object>"
      ]
     },
     "metadata": {},
     "output_type": "display_data"
    }
   ],
   "source": [
    "%load_ext autoreload\n",
    "%autoreload 2\n",
    "%load_ext jupyter_black"
   ]
  },
  {
   "cell_type": "code",
   "execution_count": 2,
   "metadata": {},
   "outputs": [],
   "source": [
    "import sys\n",
    "\n",
    "sys.path.append(\"../\")\n",
    "sys.path.append(\"../../\")"
   ]
  },
  {
   "cell_type": "code",
   "execution_count": 3,
   "metadata": {},
   "outputs": [],
   "source": [
    "import pickle\n",
    "import pandas as pd\n",
    "\n",
    "import seaborn as sns\n",
    "\n",
    "from rdkit import Chem"
   ]
  },
  {
   "cell_type": "code",
   "execution_count": 4,
   "metadata": {},
   "outputs": [
    {
     "name": "stdout",
     "output_type": "stream",
     "text": [
      "Jupyter environment detected. Enabling Open3D WebVisualizer.\n",
      "[Open3D INFO] WebRTC GUI backend enabled.\n",
      "[Open3D INFO] WebRTCWindowSystem: HTTP handshake server disabled.\n"
     ]
    }
   ],
   "source": [
    "from utils import show"
   ]
  },
  {
   "cell_type": "markdown",
   "metadata": {},
   "source": [
    "Load alignement data:"
   ]
  },
  {
   "cell_type": "code",
   "execution_count": 5,
   "metadata": {},
   "outputs": [],
   "source": [
    "with open(\"BRD4-VEHICLe.pkl\", \"br\") as fin:\n",
    "    alignments = pickle.load(fin)"
   ]
  },
  {
   "cell_type": "markdown",
   "metadata": {},
   "source": [
    "Convert nested index values into tuples:"
   ]
  },
  {
   "cell_type": "code",
   "execution_count": 6,
   "metadata": {},
   "outputs": [],
   "source": [
    "d = {}\n",
    "for outerKey, innerDict in alignments.items():\n",
    "    for innerKey, values in innerDict.items():\n",
    "        d[(outerKey, innerKey)] = values"
   ]
  },
  {
   "cell_type": "code",
   "execution_count": 7,
   "metadata": {},
   "outputs": [
    {
     "data": {
      "text/html": [
       "<div>\n",
       "<style scoped>\n",
       "    .dataframe tbody tr th:only-of-type {\n",
       "        vertical-align: middle;\n",
       "    }\n",
       "\n",
       "    .dataframe tbody tr th {\n",
       "        vertical-align: top;\n",
       "    }\n",
       "\n",
       "    .dataframe thead th {\n",
       "        text-align: right;\n",
       "    }\n",
       "</style>\n",
       "<table border=\"1\" class=\"dataframe\">\n",
       "  <thead>\n",
       "    <tr style=\"text-align: right;\">\n",
       "      <th></th>\n",
       "      <th></th>\n",
       "      <th>cfit</th>\n",
       "      <th>fragment</th>\n",
       "      <th>fragmol</th>\n",
       "      <th>gfit</th>\n",
       "      <th>mol</th>\n",
       "    </tr>\n",
       "    <tr>\n",
       "      <th>lig</th>\n",
       "      <th>idx</th>\n",
       "      <th></th>\n",
       "      <th></th>\n",
       "      <th></th>\n",
       "      <th></th>\n",
       "      <th></th>\n",
       "    </tr>\n",
       "  </thead>\n",
       "  <tbody>\n",
       "    <tr>\n",
       "      <th rowspan=\"5\" valign=\"top\">ligand-1</th>\n",
       "      <th>0</th>\n",
       "      <td>0.867435</td>\n",
       "      <td>1046</td>\n",
       "      <td>&lt;rdkit.Chem.rdchem.Mol object at 0x7fac87e53090&gt;</td>\n",
       "      <td>0.841499</td>\n",
       "      <td>&lt;rdkit.Chem.rdchem.Mol object at 0x7fac87e530e0&gt;</td>\n",
       "    </tr>\n",
       "    <tr>\n",
       "      <th>1</th>\n",
       "      <td>0.898396</td>\n",
       "      <td>0</td>\n",
       "      <td>&lt;rdkit.Chem.rdchem.Mol object at 0x7fac87e53130&gt;</td>\n",
       "      <td>0.401070</td>\n",
       "      <td>&lt;rdkit.Chem.rdchem.Mol object at 0x7fac87e530e0&gt;</td>\n",
       "    </tr>\n",
       "    <tr>\n",
       "      <th>2</th>\n",
       "      <td>0.779141</td>\n",
       "      <td>1</td>\n",
       "      <td>&lt;rdkit.Chem.rdchem.Mol object at 0x7fac87e53180&gt;</td>\n",
       "      <td>0.699387</td>\n",
       "      <td>&lt;rdkit.Chem.rdchem.Mol object at 0x7fac87e530e0&gt;</td>\n",
       "    </tr>\n",
       "    <tr>\n",
       "      <th>3</th>\n",
       "      <td>0.809783</td>\n",
       "      <td>1047</td>\n",
       "      <td>&lt;rdkit.Chem.rdchem.Mol object at 0x7fac87e531d0&gt;</td>\n",
       "      <td>0.760870</td>\n",
       "      <td>&lt;rdkit.Chem.rdchem.Mol object at 0x7fac87e530e0&gt;</td>\n",
       "    </tr>\n",
       "    <tr>\n",
       "      <th>4</th>\n",
       "      <td>0.883582</td>\n",
       "      <td>10</td>\n",
       "      <td>&lt;rdkit.Chem.rdchem.Mol object at 0x7fac87e53220&gt;</td>\n",
       "      <td>0.761194</td>\n",
       "      <td>&lt;rdkit.Chem.rdchem.Mol object at 0x7fac87e530e0&gt;</td>\n",
       "    </tr>\n",
       "    <tr>\n",
       "      <th>...</th>\n",
       "      <th>...</th>\n",
       "      <td>...</td>\n",
       "      <td>...</td>\n",
       "      <td>...</td>\n",
       "      <td>...</td>\n",
       "      <td>...</td>\n",
       "    </tr>\n",
       "    <tr>\n",
       "      <th rowspan=\"5\" valign=\"top\">ligand-9</th>\n",
       "      <th>5414</th>\n",
       "      <td>0.817647</td>\n",
       "      <td>995</td>\n",
       "      <td>&lt;rdkit.Chem.rdchem.Mol object at 0x7fac87b8eef0&gt;</td>\n",
       "      <td>0.708824</td>\n",
       "      <td>&lt;rdkit.Chem.rdchem.Mol object at 0x7fac87b91540&gt;</td>\n",
       "    </tr>\n",
       "    <tr>\n",
       "      <th>5415</th>\n",
       "      <td>0.822034</td>\n",
       "      <td>996</td>\n",
       "      <td>&lt;rdkit.Chem.rdchem.Mol object at 0x7fac87b8ef40&gt;</td>\n",
       "      <td>0.728814</td>\n",
       "      <td>&lt;rdkit.Chem.rdchem.Mol object at 0x7fac87b91540&gt;</td>\n",
       "    </tr>\n",
       "    <tr>\n",
       "      <th>5416</th>\n",
       "      <td>0.748428</td>\n",
       "      <td>997</td>\n",
       "      <td>&lt;rdkit.Chem.rdchem.Mol object at 0x7fac87b8ef90&gt;</td>\n",
       "      <td>0.742138</td>\n",
       "      <td>&lt;rdkit.Chem.rdchem.Mol object at 0x7fac87b91540&gt;</td>\n",
       "    </tr>\n",
       "    <tr>\n",
       "      <th>5417</th>\n",
       "      <td>0.854795</td>\n",
       "      <td>998</td>\n",
       "      <td>&lt;rdkit.Chem.rdchem.Mol object at 0x7fac87b91040&gt;</td>\n",
       "      <td>0.769863</td>\n",
       "      <td>&lt;rdkit.Chem.rdchem.Mol object at 0x7fac87b91540&gt;</td>\n",
       "    </tr>\n",
       "    <tr>\n",
       "      <th>5418</th>\n",
       "      <td>0.916427</td>\n",
       "      <td>999</td>\n",
       "      <td>&lt;rdkit.Chem.rdchem.Mol object at 0x7fac87b91090&gt;</td>\n",
       "      <td>0.752161</td>\n",
       "      <td>&lt;rdkit.Chem.rdchem.Mol object at 0x7fac87b91540&gt;</td>\n",
       "    </tr>\n",
       "  </tbody>\n",
       "</table>\n",
       "<p>54190 rows × 5 columns</p>\n",
       "</div>"
      ],
      "text/plain": [
       "                   cfit  fragment  \\\n",
       "lig      idx                        \n",
       "ligand-1 0     0.867435      1046   \n",
       "         1     0.898396         0   \n",
       "         2     0.779141         1   \n",
       "         3     0.809783      1047   \n",
       "         4     0.883582        10   \n",
       "...                 ...       ...   \n",
       "ligand-9 5414  0.817647       995   \n",
       "         5415  0.822034       996   \n",
       "         5416  0.748428       997   \n",
       "         5417  0.854795       998   \n",
       "         5418  0.916427       999   \n",
       "\n",
       "                                                        fragmol      gfit  \\\n",
       "lig      idx                                                                \n",
       "ligand-1 0     <rdkit.Chem.rdchem.Mol object at 0x7fac87e53090>  0.841499   \n",
       "         1     <rdkit.Chem.rdchem.Mol object at 0x7fac87e53130>  0.401070   \n",
       "         2     <rdkit.Chem.rdchem.Mol object at 0x7fac87e53180>  0.699387   \n",
       "         3     <rdkit.Chem.rdchem.Mol object at 0x7fac87e531d0>  0.760870   \n",
       "         4     <rdkit.Chem.rdchem.Mol object at 0x7fac87e53220>  0.761194   \n",
       "...                                                         ...       ...   \n",
       "ligand-9 5414  <rdkit.Chem.rdchem.Mol object at 0x7fac87b8eef0>  0.708824   \n",
       "         5415  <rdkit.Chem.rdchem.Mol object at 0x7fac87b8ef40>  0.728814   \n",
       "         5416  <rdkit.Chem.rdchem.Mol object at 0x7fac87b8ef90>  0.742138   \n",
       "         5417  <rdkit.Chem.rdchem.Mol object at 0x7fac87b91040>  0.769863   \n",
       "         5418  <rdkit.Chem.rdchem.Mol object at 0x7fac87b91090>  0.752161   \n",
       "\n",
       "                                                            mol  \n",
       "lig      idx                                                     \n",
       "ligand-1 0     <rdkit.Chem.rdchem.Mol object at 0x7fac87e530e0>  \n",
       "         1     <rdkit.Chem.rdchem.Mol object at 0x7fac87e530e0>  \n",
       "         2     <rdkit.Chem.rdchem.Mol object at 0x7fac87e530e0>  \n",
       "         3     <rdkit.Chem.rdchem.Mol object at 0x7fac87e530e0>  \n",
       "         4     <rdkit.Chem.rdchem.Mol object at 0x7fac87e530e0>  \n",
       "...                                                         ...  \n",
       "ligand-9 5414  <rdkit.Chem.rdchem.Mol object at 0x7fac87b91540>  \n",
       "         5415  <rdkit.Chem.rdchem.Mol object at 0x7fac87b91540>  \n",
       "         5416  <rdkit.Chem.rdchem.Mol object at 0x7fac87b91540>  \n",
       "         5417  <rdkit.Chem.rdchem.Mol object at 0x7fac87b91540>  \n",
       "         5418  <rdkit.Chem.rdchem.Mol object at 0x7fac87b91540>  \n",
       "\n",
       "[54190 rows x 5 columns]"
      ]
     },
     "execution_count": 7,
     "metadata": {},
     "output_type": "execute_result"
    }
   ],
   "source": [
    "df = pd.DataFrame.from_dict(d)\n",
    "df = df.stack(level=0).swaplevel().sort_index()\n",
    "df.index.names = [\"lig\", \"idx\"]\n",
    "df"
   ]
  },
  {
   "cell_type": "code",
   "execution_count": 8,
   "metadata": {},
   "outputs": [
    {
     "data": {
      "text/plain": [
       "<seaborn.axisgrid.FacetGrid at 0x7fad27733eb0>"
      ]
     },
     "execution_count": 8,
     "metadata": {},
     "output_type": "execute_result"
    },
    {
     "data": {
      "image/png": "[encoded data removed]",
      "text/plain": [
       "<Figure size 443.375x360 with 1 Axes>"
      ]
     },
     "metadata": {
      "needs_background": "light"
     },
     "output_type": "display_data"
    }
   ],
   "source": [
    "sns.displot(df, x=\"gfit\", hue=\"lig\", element=\"step\", fill=False)"
   ]
  },
  {
   "cell_type": "code",
   "execution_count": 9,
   "metadata": {},
   "outputs": [
    {
     "data": {
      "text/plain": [
       "<seaborn.axisgrid.FacetGrid at 0x7fac87d6efd0>"
      ]
     },
     "execution_count": 9,
     "metadata": {},
     "output_type": "execute_result"
    },
    {
     "data": {
      "image/png": "[encoded data removed]",
      "text/plain": [
       "<Figure size 443.375x360 with 1 Axes>"
      ]
     },
     "metadata": {
      "needs_background": "light"
     },
     "output_type": "display_data"
    }
   ],
   "source": [
    "sns.displot(df, x=\"cfit\", hue=\"lig\", element=\"step\", fill=False)"
   ]
  },
  {
   "cell_type": "code",
   "execution_count": 10,
   "metadata": {},
   "outputs": [],
   "source": [
    "def getbest(df, lig, criteria=\"cfit\", k=10):\n",
    "    return df.query(\"lig == @lig\").sort_values(criteria, ascending=False).head(k)\n",
    "\n",
    "\n",
    "def showbest(df, lig, criteria=\"cfit\", k=10):\n",
    "    best = getbest(df, lig, criteria, k)\n",
    "\n",
    "    for idx, row in best.iterrows():\n",
    "        p = show(row.fragmol, row.mol)\n",
    "        print(row[criteria])\n",
    "        display(p)"
   ]
  },
  {
   "cell_type": "code",
   "execution_count": 11,
   "metadata": {},
   "outputs": [
    {
     "name": "stdout",
     "output_type": "stream",
     "text": [
      "0.979381443298969\n"
     ]
    },
    {
     "data": {
      "application/3dmoljs_load.v0": "<div id=\"3dmolviewer_16507313240075233\"  style=\"position: relative; width: 640px; height: 480px\">\n        <p id=\"3dmolwarning_16507313240075233\" style=\"background-color:#ffcccc;color:black\">You appear to be running in JupyterLab (or JavaScript failed to load for some other reason).  You need to install the 3dmol extension: <br>\n        <tt>jupyter labextension install jupyterlab_3dmol</tt></p>\n        </div>\n<script>\n\nvar loadScriptAsync = function(uri){\n  return new Promise((resolve, reject) => {\n    var tag = document.createElement('script');\n    tag.src = uri;\n    tag.async = true;\n    tag.onload = () => {\n      resolve();\n    };\n  var firstScriptTag = document.getElementsByTagName('script')[0];\n  firstScriptTag.parentNode.insertBefore(tag, firstScriptTag);\n});\n};\n\nif(typeof $3Dmolpromise === 'undefined') {\n$3Dmolpromise = null;\n  $3Dmolpromise = loadScriptAsync('https://3dmol.org/build/3Dmol.js');\n}\n\nvar viewer_16507313240075233 = null;\nvar warn = document.getElementById(\"3dmolwarning_16507313240075233\");\nif(warn) {\n    warn.parentNode.removeChild(warn);\n}\n$3Dmolpromise.then(function() {\nviewer_16507313240075233 = $3Dmol.createViewer($(\"#3dmolviewer_16507313240075233\"),{backgroundColor:\"white\"});\nviewer_16507313240075233.zoomTo();\n\tviewer_16507313240075233.addModel(\"\\n     RDKit          3D\\n\\n  6  6  0  0  0  0  0  0  0  0999 V2000\\n   -0.7858   -1.1417   -0.0213 C   0  0  0  0  0  0  0  0  0  0  0  0\\n   -1.3547    0.1172   -0.0141 C   0  0  0  0  0  0  0  0  0  0  0  0\\n   -0.5839    1.2745    0.0072 C   0  0  0  0  0  0  0  0  0  0  0  0\\n    0.7884    1.1413    0.0213 C   0  0  0  0  0  0  0  0  0  0  0  0\\n    1.3402   -0.1088    0.0140 C   0  0  0  0  0  0  0  0  0  0  0  0\\n    0.5873   -1.2788   -0.0072 C   0  0  0  0  0  0  0  0  0  0  0  0\\n  1  2  2  0\\n  2  3  1  0\\n  3  4  2  0\\n  4  5  1  0\\n  5  6  2  0\\n  6  1  1  0\\nM  END\\n\",\"sdf\");\n\tviewer_16507313240075233.addModel(\"\\n     RDKit          3D\\n\\n  6  6  0  0  0  0  0  0  0  0999 V2000\\n   -0.6024   -0.4286   14.6267 C   0  0  0  0  0  0  0  0  0  0  0  0\\n    0.5185   -1.2355   14.5957 C   0  0  0  0  0  0  0  0  0  0  0  0\\n    0.7162   -2.2586   15.5167 C   0  0  0  0  0  0  0  0  0  0  0  0\\n   -0.2470   -2.4585   16.4829 C   0  0  0  0  0  0  0  0  0  0  0  0\\n   -1.3516   -1.6544   16.5040 C   0  0  0  0  0  0  0  0  0  0  0  0\\n   -1.5684   -0.6258   15.5923 C   0  0  0  0  0  0  0  0  0  0  0  0\\n  1  2  2  0\\n  2  3  1  0\\n  3  4  2  0\\n  4  5  1  0\\n  5  6  2  0\\n  6  1  1  0\\nM  END\\n\",\"sdf\");\n\tviewer_16507313240075233.addModel(\"\\n     RDKit          3D\\n\\n 24 26  0  0  0  0  0  0  0  0999 V2000\\n    3.3590    6.0150   13.0690 O   0  0  0  0  0  0  0  0  0  0  0  0\\n    3.4800    6.2060   11.6760 C   0  0  0  0  0  0  0  0  0  0  0  0\\n    3.2320    4.7640   13.6200 C   0  0  0  0  0  0  0  0  0  0  0  0\\n    3.2490    4.6200   15.0170 C   0  0  0  0  0  0  0  0  0  0  0  0\\n    3.1460    3.4130   15.6180 C   0  0  0  0  0  0  0  0  0  0  0  0\\n    2.8600   -0.1910   14.5760 N   0  0  0  0  0  0  0  0  0  0  0  0\\n    3.1640    4.4600   17.8150 C   0  0  0  0  0  0  0  0  0  0  0  0\\n    3.1130    3.2650   17.0000 O   0  0  0  0  0  0  0  0  0  0  0  0\\n    3.0390    2.2280   14.8720 C   0  0  0  0  0  0  0  0  0  0  0  0\\n    2.2700   -4.7190   10.2560 O   0  0  0  0  0  0  0  0  0  0  0  0\\n    2.9640    1.2430   12.6620 N   0  0  0  0  0  0  0  0  0  0  0  0\\n    2.9420    0.9190   15.4510 C   0  0  0  0  0  0  0  0  0  0  0  0\\n    2.8810    0.0150   13.2310 C   0  0  0  0  0  0  0  0  0  0  0  0\\n    2.9580    0.6740   16.6750 O   0  0  0  0  0  0  0  0  0  0  0  0\\n    2.7950   -1.1630   12.3520 C   0  0  0  0  0  0  0  0  0  0  0  0\\n    2.2000   -1.1600   11.0730 C   0  0  0  0  0  0  0  0  0  0  0  0\\n    2.0370   -2.3470   10.3720 C   0  0  0  0  0  0  0  0  0  0  0  0\\n    1.3240   -2.2540    9.0610 C   0  0  0  0  0  0  0  0  0  0  0  0\\n    2.5090   -3.5740   10.9120 C   0  0  0  0  0  0  0  0  0  0  0  0\\n    3.1500   -3.5880   12.1430 C   0  0  0  0  0  0  0  0  0  0  0  0\\n    3.6620   -4.8880   12.6860 C   0  0  0  0  0  0  0  0  0  0  0  0\\n    3.2880   -2.4170   12.8540 C   0  0  0  0  0  0  0  0  0  0  0  0\\n    3.0310    2.4050   13.4570 C   0  0  0  0  0  0  0  0  0  0  0  0\\n    3.1180    3.6350   12.8260 C   0  0  0  0  0  0  0  0  0  0  0  0\\n  1  2  1  0\\n  1  3  1  0\\n  3  4  2  0\\n  3 24  1  0\\n  4  5  1  0\\n  5  8  1  0\\n  5  9  2  0\\n  6 12  1  0\\n  6 13  1  0\\n  7  8  1  0\\n  9 12  1  0\\n  9 23  1  0\\n 10 19  1  0\\n 11 13  2  0\\n 11 23  1  0\\n 12 14  2  0\\n 13 15  1  0\\n 15 16  2  0\\n 15 22  1  0\\n 16 17  1  0\\n 17 18  1  0\\n 17 19  2  0\\n 19 20  1  0\\n 20 21  1  0\\n 20 22  2  0\\n 23 24  2  0\\nM  END\\n\",\"sdf\");\n\tviewer_16507313240075233.setStyle({\"model\": 0},{\"stick\": {\"colorscheme\": \"lightgreyCarbon\"}});\n\tviewer_16507313240075233.setStyle({\"model\": 1},{\"stick\": {\"colorscheme\": \"purpleCarbon\"}});\n\tviewer_16507313240075233.setStyle({\"model\": 2},{\"stick\": {\"colorscheme\": \"greyCarbon\"}});\n\tviewer_16507313240075233.zoomTo();\nviewer_16507313240075233.render();\n});\n</script>",
      "text/html": [
       "<div id=\"3dmolviewer_16507313240075233\"  style=\"position: relative; width: 640px; height: 480px\">\n",
       "        <p id=\"3dmolwarning_16507313240075233\" style=\"background-color:#ffcccc;color:black\">You appear to be running in JupyterLab (or JavaScript failed to load for some other reason).  You need to install the 3dmol extension: <br>\n",
       "        <tt>jupyter labextension install jupyterlab_3dmol</tt></p>\n",
       "        </div>\n",
       "<script>\n",
       "\n",
       "var loadScriptAsync = function(uri){\n",
       "  return new Promise((resolve, reject) => {\n",
       "    var tag = document.createElement('script');\n",
       "    tag.src = uri;\n",
       "    tag.async = true;\n",
       "    tag.onload = () => {\n",
       "      resolve();\n",
       "    };\n",
       "  var firstScriptTag = document.getElementsByTagName('script')[0];\n",
       "  firstScriptTag.parentNode.insertBefore(tag, firstScriptTag);\n",
       "});\n",
       "};\n",
       "\n",
       "if(typeof $3Dmolpromise === 'undefined') {\n",
       "$3Dmolpromise = null;\n",
       "  $3Dmolpromise = loadScriptAsync('https://3dmol.org/build/3Dmol.js');\n",
       "}\n",
       "\n",
       "var viewer_16507313240075233 = null;\n",
       "var warn = document.getElementById(\"3dmolwarning_16507313240075233\");\n",
       "if(warn) {\n",
       "    warn.parentNode.removeChild(warn);\n",
       "}\n",
       "$3Dmolpromise.then(function() {\n",
       "viewer_16507313240075233 = $3Dmol.createViewer($(\"#3dmolviewer_16507313240075233\"),{backgroundColor:\"white\"});\n",
       "viewer_16507313240075233.zoomTo();\n",
       "\tviewer_16507313240075233.addModel(\"\\n     RDKit          3D\\n\\n  6  6  0  0  0  0  0  0  0  0999 V2000\\n   -0.7858   -1.1417   -0.0213 C   0  0  0  0  0  0  0  0  0  0  0  0\\n   -1.3547    0.1172   -0.0141 C   0  0  0  0  0  0  0  0  0  0  0  0\\n   -0.5839    1.2745    0.0072 C   0  0  0  0  0  0  0  0  0  0  0  0\\n    0.7884    1.1413    0.0213 C   0  0  0  0  0  0  0  0  0  0  0  0\\n    1.3402   -0.1088    0.0140 C   0  0  0  0  0  0  0  0  0  0  0  0\\n    0.5873   -1.2788   -0.0072 C   0  0  0  0  0  0  0  0  0  0  0  0\\n  1  2  2  0\\n  2  3  1  0\\n  3  4  2  0\\n  4  5  1  0\\n  5  6  2  0\\n  6  1  1  0\\nM  END\\n\",\"sdf\");\n",
       "\tviewer_16507313240075233.addModel(\"\\n     RDKit          3D\\n\\n  6  6  0  0  0  0  0  0  0  0999 V2000\\n   -0.6024   -0.4286   14.6267 C   0  0  0  0  0  0  0  0  0  0  0  0\\n    0.5185   -1.2355   14.5957 C   0  0  0  0  0  0  0  0  0  0  0  0\\n    0.7162   -2.2586   15.5167 C   0  0  0  0  0  0  0  0  0  0  0  0\\n   -0.2470   -2.4585   16.4829 C   0  0  0  0  0  0  0  0  0  0  0  0\\n   -1.3516   -1.6544   16.5040 C   0  0  0  0  0  0  0  0  0  0  0  0\\n   -1.5684   -0.6258   15.5923 C   0  0  0  0  0  0  0  0  0  0  0  0\\n  1  2  2  0\\n  2  3  1  0\\n  3  4  2  0\\n  4  5  1  0\\n  5  6  2  0\\n  6  1  1  0\\nM  END\\n\",\"sdf\");\n",
       "\tviewer_16507313240075233.addModel(\"\\n     RDKit          3D\\n\\n 24 26  0  0  0  0  0  0  0  0999 V2000\\n    3.3590    6.0150   13.0690 O   0  0  0  0  0  0  0  0  0  0  0  0\\n    3.4800    6.2060   11.6760 C   0  0  0  0  0  0  0  0  0  0  0  0\\n    3.2320    4.7640   13.6200 C   0  0  0  0  0  0  0  0  0  0  0  0\\n    3.2490    4.6200   15.0170 C   0  0  0  0  0  0  0  0  0  0  0  0\\n    3.1460    3.4130   15.6180 C   0  0  0  0  0  0  0  0  0  0  0  0\\n    2.8600   -0.1910   14.5760 N   0  0  0  0  0  0  0  0  0  0  0  0\\n    3.1640    4.4600   17.8150 C   0  0  0  0  0  0  0  0  0  0  0  0\\n    3.1130    3.2650   17.0000 O   0  0  0  0  0  0  0  0  0  0  0  0\\n    3.0390    2.2280   14.8720 C   0  0  0  0  0  0  0  0  0  0  0  0\\n    2.2700   -4.7190   10.2560 O   0  0  0  0  0  0  0  0  0  0  0  0\\n    2.9640    1.2430   12.6620 N   0  0  0  0  0  0  0  0  0  0  0  0\\n    2.9420    0.9190   15.4510 C   0  0  0  0  0  0  0  0  0  0  0  0\\n    2.8810    0.0150   13.2310 C   0  0  0  0  0  0  0  0  0  0  0  0\\n    2.9580    0.6740   16.6750 O   0  0  0  0  0  0  0  0  0  0  0  0\\n    2.7950   -1.1630   12.3520 C   0  0  0  0  0  0  0  0  0  0  0  0\\n    2.2000   -1.1600   11.0730 C   0  0  0  0  0  0  0  0  0  0  0  0\\n    2.0370   -2.3470   10.3720 C   0  0  0  0  0  0  0  0  0  0  0  0\\n    1.3240   -2.2540    9.0610 C   0  0  0  0  0  0  0  0  0  0  0  0\\n    2.5090   -3.5740   10.9120 C   0  0  0  0  0  0  0  0  0  0  0  0\\n    3.1500   -3.5880   12.1430 C   0  0  0  0  0  0  0  0  0  0  0  0\\n    3.6620   -4.8880   12.6860 C   0  0  0  0  0  0  0  0  0  0  0  0\\n    3.2880   -2.4170   12.8540 C   0  0  0  0  0  0  0  0  0  0  0  0\\n    3.0310    2.4050   13.4570 C   0  0  0  0  0  0  0  0  0  0  0  0\\n    3.1180    3.6350   12.8260 C   0  0  0  0  0  0  0  0  0  0  0  0\\n  1  2  1  0\\n  1  3  1  0\\n  3  4  2  0\\n  3 24  1  0\\n  4  5  1  0\\n  5  8  1  0\\n  5  9  2  0\\n  6 12  1  0\\n  6 13  1  0\\n  7  8  1  0\\n  9 12  1  0\\n  9 23  1  0\\n 10 19  1  0\\n 11 13  2  0\\n 11 23  1  0\\n 12 14  2  0\\n 13 15  1  0\\n 15 16  2  0\\n 15 22  1  0\\n 16 17  1  0\\n 17 18  1  0\\n 17 19  2  0\\n 19 20  1  0\\n 20 21  1  0\\n 20 22  2  0\\n 23 24  2  0\\nM  END\\n\",\"sdf\");\n",
       "\tviewer_16507313240075233.setStyle({\"model\": 0},{\"stick\": {\"colorscheme\": \"lightgreyCarbon\"}});\n",
       "\tviewer_16507313240075233.setStyle({\"model\": 1},{\"stick\": {\"colorscheme\": \"purpleCarbon\"}});\n",
       "\tviewer_16507313240075233.setStyle({\"model\": 2},{\"stick\": {\"colorscheme\": \"greyCarbon\"}});\n",
       "\tviewer_16507313240075233.zoomTo();\n",
       "viewer_16507313240075233.render();\n",
       "});\n",
       "</script>"
      ]
     },
     "metadata": {},
     "output_type": "display_data"
    },
    {
     "data": {
      "text/plain": [
       "<py3Dmol.view at 0x7fac8730df40>"
      ]
     },
     "metadata": {},
     "output_type": "display_data"
    },
    {
     "name": "stdout",
     "output_type": "stream",
     "text": [
      "0.9760765550239234\n"
     ]
    },
    {
     "data": {
      "application/3dmoljs_load.v0": "<div id=\"3dmolviewer_16507313240135849\"  style=\"position: relative; width: 640px; height: 480px\">\n        <p id=\"3dmolwarning_16507313240135849\" style=\"background-color:#ffcccc;color:black\">You appear to be running in JupyterLab (or JavaScript failed to load for some other reason).  You need to install the 3dmol extension: <br>\n        <tt>jupyter labextension install jupyterlab_3dmol</tt></p>\n        </div>\n<script>\n\nvar loadScriptAsync = function(uri){\n  return new Promise((resolve, reject) => {\n    var tag = document.createElement('script');\n    tag.src = uri;\n    tag.async = true;\n    tag.onload = () => {\n      resolve();\n    };\n  var firstScriptTag = document.getElementsByTagName('script')[0];\n  firstScriptTag.parentNode.insertBefore(tag, firstScriptTag);\n});\n};\n\nif(typeof $3Dmolpromise === 'undefined') {\n$3Dmolpromise = null;\n  $3Dmolpromise = loadScriptAsync('https://3dmol.org/build/3Dmol.js');\n}\n\nvar viewer_16507313240135849 = null;\nvar warn = document.getElementById(\"3dmolwarning_16507313240135849\");\nif(warn) {\n    warn.parentNode.removeChild(warn);\n}\n$3Dmolpromise.then(function() {\nviewer_16507313240135849 = $3Dmol.createViewer($(\"#3dmolviewer_16507313240135849\"),{backgroundColor:\"white\"});\nviewer_16507313240135849.zoomTo();\n\tviewer_16507313240135849.addModel(\"\\n     RDKit          3D\\n\\n  6  6  0  0  0  0  0  0  0  0999 V2000\\n    1.2139   -0.6083    0.1942 C   0  0  0  0  0  0  0  0  0  0  0  0\\n    0.0793   -1.3306    0.0812 N   0  0  0  0  0  0  0  0  0  0  0  0\\n   -1.1264   -0.7530   -0.0094 C   0  0  0  0  0  0  0  0  0  0  0  0\\n   -1.1818    0.5927    0.0154 N   0  0  0  0  0  0  0  0  0  0  0  0\\n   -0.0877    1.3700    0.1261 C   0  0  0  0  0  0  0  0  0  0  0  0\\n    1.1051    0.7365    0.2144 N   0  0  0  0  0  0  0  0  0  0  0  0\\n  1  2  2  0\\n  2  3  1  0\\n  3  4  2  0\\n  4  5  1  0\\n  5  6  2  0\\n  6  1  1  0\\nM  END\\n\",\"sdf\");\n\tviewer_16507313240135849.addModel(\"\\n     RDKit          3D\\n\\n  6  6  0  0  0  0  0  0  0  0999 V2000\\n    1.8324   -2.0189   14.0560 C   0  0  0  0  0  0  0  0  0  0  0  0\\n    1.7300   -0.8581   14.7371 N   0  0  0  0  0  0  0  0  0  0  0  0\\n    2.1799    0.3017   14.2391 C   0  0  0  0  0  0  0  0  0  0  0  0\\n    2.7486    0.2826   13.0181 N   0  0  0  0  0  0  0  0  0  0  0  0\\n    2.8808   -0.8411   12.2879 C   0  0  0  0  0  0  0  0  0  0  0  0\\n    2.4100   -1.9851   12.8370 N   0  0  0  0  0  0  0  0  0  0  0  0\\n  1  2  2  0\\n  2  3  1  0\\n  3  4  2  0\\n  4  5  1  0\\n  5  6  2  0\\n  6  1  1  0\\nM  END\\n\",\"sdf\");\n\tviewer_16507313240135849.addModel(\"\\n     RDKit          3D\\n\\n 24 26  0  0  0  0  0  0  0  0999 V2000\\n    3.3590    6.0150   13.0690 O   0  0  0  0  0  0  0  0  0  0  0  0\\n    3.4800    6.2060   11.6760 C   0  0  0  0  0  0  0  0  0  0  0  0\\n    3.2320    4.7640   13.6200 C   0  0  0  0  0  0  0  0  0  0  0  0\\n    3.2490    4.6200   15.0170 C   0  0  0  0  0  0  0  0  0  0  0  0\\n    3.1460    3.4130   15.6180 C   0  0  0  0  0  0  0  0  0  0  0  0\\n    2.8600   -0.1910   14.5760 N   0  0  0  0  0  0  0  0  0  0  0  0\\n    3.1640    4.4600   17.8150 C   0  0  0  0  0  0  0  0  0  0  0  0\\n    3.1130    3.2650   17.0000 O   0  0  0  0  0  0  0  0  0  0  0  0\\n    3.0390    2.2280   14.8720 C   0  0  0  0  0  0  0  0  0  0  0  0\\n    2.2700   -4.7190   10.2560 O   0  0  0  0  0  0  0  0  0  0  0  0\\n    2.9640    1.2430   12.6620 N   0  0  0  0  0  0  0  0  0  0  0  0\\n    2.9420    0.9190   15.4510 C   0  0  0  0  0  0  0  0  0  0  0  0\\n    2.8810    0.0150   13.2310 C   0  0  0  0  0  0  0  0  0  0  0  0\\n    2.9580    0.6740   16.6750 O   0  0  0  0  0  0  0  0  0  0  0  0\\n    2.7950   -1.1630   12.3520 C   0  0  0  0  0  0  0  0  0  0  0  0\\n    2.2000   -1.1600   11.0730 C   0  0  0  0  0  0  0  0  0  0  0  0\\n    2.0370   -2.3470   10.3720 C   0  0  0  0  0  0  0  0  0  0  0  0\\n    1.3240   -2.2540    9.0610 C   0  0  0  0  0  0  0  0  0  0  0  0\\n    2.5090   -3.5740   10.9120 C   0  0  0  0  0  0  0  0  0  0  0  0\\n    3.1500   -3.5880   12.1430 C   0  0  0  0  0  0  0  0  0  0  0  0\\n    3.6620   -4.8880   12.6860 C   0  0  0  0  0  0  0  0  0  0  0  0\\n    3.2880   -2.4170   12.8540 C   0  0  0  0  0  0  0  0  0  0  0  0\\n    3.0310    2.4050   13.4570 C   0  0  0  0  0  0  0  0  0  0  0  0\\n    3.1180    3.6350   12.8260 C   0  0  0  0  0  0  0  0  0  0  0  0\\n  1  2  1  0\\n  1  3  1  0\\n  3  4  2  0\\n  3 24  1  0\\n  4  5  1  0\\n  5  8  1  0\\n  5  9  2  0\\n  6 12  1  0\\n  6 13  1  0\\n  7  8  1  0\\n  9 12  1  0\\n  9 23  1  0\\n 10 19  1  0\\n 11 13  2  0\\n 11 23  1  0\\n 12 14  2  0\\n 13 15  1  0\\n 15 16  2  0\\n 15 22  1  0\\n 16 17  1  0\\n 17 18  1  0\\n 17 19  2  0\\n 19 20  1  0\\n 20 21  1  0\\n 20 22  2  0\\n 23 24  2  0\\nM  END\\n\",\"sdf\");\n\tviewer_16507313240135849.setStyle({\"model\": 0},{\"stick\": {\"colorscheme\": \"lightgreyCarbon\"}});\n\tviewer_16507313240135849.setStyle({\"model\": 1},{\"stick\": {\"colorscheme\": \"purpleCarbon\"}});\n\tviewer_16507313240135849.setStyle({\"model\": 2},{\"stick\": {\"colorscheme\": \"greyCarbon\"}});\n\tviewer_16507313240135849.zoomTo();\nviewer_16507313240135849.render();\n});\n</script>",
      "text/html": [
       "<div id=\"3dmolviewer_16507313240135849\"  style=\"position: relative; width: 640px; height: 480px\">\n",
       "        <p id=\"3dmolwarning_16507313240135849\" style=\"background-color:#ffcccc;color:black\">You appear to be running in JupyterLab (or JavaScript failed to load for some other reason).  You need to install the 3dmol extension: <br>\n",
       "        <tt>jupyter labextension install jupyterlab_3dmol</tt></p>\n",
       "        </div>\n",
       "<script>\n",
       "\n",
       "var loadScriptAsync = function(uri){\n",
       "  return new Promise((resolve, reject) => {\n",
       "    var tag = document.createElement('script');\n",
       "    tag.src = uri;\n",
       "    tag.async = true;\n",
       "    tag.onload = () => {\n",
       "      resolve();\n",
       "    };\n",
       "  var firstScriptTag = document.getElementsByTagName('script')[0];\n",
       "  firstScriptTag.parentNode.insertBefore(tag, firstScriptTag);\n",
       "});\n",
       "};\n",
       "\n",
       "if(typeof $3Dmolpromise === 'undefined') {\n",
       "$3Dmolpromise = null;\n",
       "  $3Dmolpromise = loadScriptAsync('https://3dmol.org/build/3Dmol.js');\n",
       "}\n",
       "\n",
       "var viewer_16507313240135849 = null;\n",
       "var warn = document.getElementById(\"3dmolwarning_16507313240135849\");\n",
       "if(warn) {\n",
       "    warn.parentNode.removeChild(warn);\n",
       "}\n",
       "$3Dmolpromise.then(function() {\n",
       "viewer_16507313240135849 = $3Dmol.createViewer($(\"#3dmolviewer_16507313240135849\"),{backgroundColor:\"white\"});\n",
       "viewer_16507313240135849.zoomTo();\n",
       "\tviewer_16507313240135849.addModel(\"\\n     RDKit          3D\\n\\n  6  6  0  0  0  0  0  0  0  0999 V2000\\n    1.2139   -0.6083    0.1942 C   0  0  0  0  0  0  0  0  0  0  0  0\\n    0.0793   -1.3306    0.0812 N   0  0  0  0  0  0  0  0  0  0  0  0\\n   -1.1264   -0.7530   -0.0094 C   0  0  0  0  0  0  0  0  0  0  0  0\\n   -1.1818    0.5927    0.0154 N   0  0  0  0  0  0  0  0  0  0  0  0\\n   -0.0877    1.3700    0.1261 C   0  0  0  0  0  0  0  0  0  0  0  0\\n    1.1051    0.7365    0.2144 N   0  0  0  0  0  0  0  0  0  0  0  0\\n  1  2  2  0\\n  2  3  1  0\\n  3  4  2  0\\n  4  5  1  0\\n  5  6  2  0\\n  6  1  1  0\\nM  END\\n\",\"sdf\");\n",
       "\tviewer_16507313240135849.addModel(\"\\n     RDKit          3D\\n\\n  6  6  0  0  0  0  0  0  0  0999 V2000\\n    1.8324   -2.0189   14.0560 C   0  0  0  0  0  0  0  0  0  0  0  0\\n    1.7300   -0.8581   14.7371 N   0  0  0  0  0  0  0  0  0  0  0  0\\n    2.1799    0.3017   14.2391 C   0  0  0  0  0  0  0  0  0  0  0  0\\n    2.7486    0.2826   13.0181 N   0  0  0  0  0  0  0  0  0  0  0  0\\n    2.8808   -0.8411   12.2879 C   0  0  0  0  0  0  0  0  0  0  0  0\\n    2.4100   -1.9851   12.8370 N   0  0  0  0  0  0  0  0  0  0  0  0\\n  1  2  2  0\\n  2  3  1  0\\n  3  4  2  0\\n  4  5  1  0\\n  5  6  2  0\\n  6  1  1  0\\nM  END\\n\",\"sdf\");\n",
       "\tviewer_16507313240135849.addModel(\"\\n     RDKit          3D\\n\\n 24 26  0  0  0  0  0  0  0  0999 V2000\\n    3.3590    6.0150   13.0690 O   0  0  0  0  0  0  0  0  0  0  0  0\\n    3.4800    6.2060   11.6760 C   0  0  0  0  0  0  0  0  0  0  0  0\\n    3.2320    4.7640   13.6200 C   0  0  0  0  0  0  0  0  0  0  0  0\\n    3.2490    4.6200   15.0170 C   0  0  0  0  0  0  0  0  0  0  0  0\\n    3.1460    3.4130   15.6180 C   0  0  0  0  0  0  0  0  0  0  0  0\\n    2.8600   -0.1910   14.5760 N   0  0  0  0  0  0  0  0  0  0  0  0\\n    3.1640    4.4600   17.8150 C   0  0  0  0  0  0  0  0  0  0  0  0\\n    3.1130    3.2650   17.0000 O   0  0  0  0  0  0  0  0  0  0  0  0\\n    3.0390    2.2280   14.8720 C   0  0  0  0  0  0  0  0  0  0  0  0\\n    2.2700   -4.7190   10.2560 O   0  0  0  0  0  0  0  0  0  0  0  0\\n    2.9640    1.2430   12.6620 N   0  0  0  0  0  0  0  0  0  0  0  0\\n    2.9420    0.9190   15.4510 C   0  0  0  0  0  0  0  0  0  0  0  0\\n    2.8810    0.0150   13.2310 C   0  0  0  0  0  0  0  0  0  0  0  0\\n    2.9580    0.6740   16.6750 O   0  0  0  0  0  0  0  0  0  0  0  0\\n    2.7950   -1.1630   12.3520 C   0  0  0  0  0  0  0  0  0  0  0  0\\n    2.2000   -1.1600   11.0730 C   0  0  0  0  0  0  0  0  0  0  0  0\\n    2.0370   -2.3470   10.3720 C   0  0  0  0  0  0  0  0  0  0  0  0\\n    1.3240   -2.2540    9.0610 C   0  0  0  0  0  0  0  0  0  0  0  0\\n    2.5090   -3.5740   10.9120 C   0  0  0  0  0  0  0  0  0  0  0  0\\n    3.1500   -3.5880   12.1430 C   0  0  0  0  0  0  0  0  0  0  0  0\\n    3.6620   -4.8880   12.6860 C   0  0  0  0  0  0  0  0  0  0  0  0\\n    3.2880   -2.4170   12.8540 C   0  0  0  0  0  0  0  0  0  0  0  0\\n    3.0310    2.4050   13.4570 C   0  0  0  0  0  0  0  0  0  0  0  0\\n    3.1180    3.6350   12.8260 C   0  0  0  0  0  0  0  0  0  0  0  0\\n  1  2  1  0\\n  1  3  1  0\\n  3  4  2  0\\n  3 24  1  0\\n  4  5  1  0\\n  5  8  1  0\\n  5  9  2  0\\n  6 12  1  0\\n  6 13  1  0\\n  7  8  1  0\\n  9 12  1  0\\n  9 23  1  0\\n 10 19  1  0\\n 11 13  2  0\\n 11 23  1  0\\n 12 14  2  0\\n 13 15  1  0\\n 15 16  2  0\\n 15 22  1  0\\n 16 17  1  0\\n 17 18  1  0\\n 17 19  2  0\\n 19 20  1  0\\n 20 21  1  0\\n 20 22  2  0\\n 23 24  2  0\\nM  END\\n\",\"sdf\");\n",
       "\tviewer_16507313240135849.setStyle({\"model\": 0},{\"stick\": {\"colorscheme\": \"lightgreyCarbon\"}});\n",
       "\tviewer_16507313240135849.setStyle({\"model\": 1},{\"stick\": {\"colorscheme\": \"purpleCarbon\"}});\n",
       "\tviewer_16507313240135849.setStyle({\"model\": 2},{\"stick\": {\"colorscheme\": \"greyCarbon\"}});\n",
       "\tviewer_16507313240135849.zoomTo();\n",
       "viewer_16507313240135849.render();\n",
       "});\n",
       "</script>"
      ]
     },
     "metadata": {},
     "output_type": "display_data"
    },
    {
     "data": {
      "text/plain": [
       "<py3Dmol.view at 0x7fac8730d2e0>"
      ]
     },
     "metadata": {},
     "output_type": "display_data"
    },
    {
     "name": "stdout",
     "output_type": "stream",
     "text": [
      "0.9540229885057471\n"
     ]
    },
    {
     "data": {
      "application/3dmoljs_load.v0": "<div id=\"3dmolviewer_16507313240193613\"  style=\"position: relative; width: 640px; height: 480px\">\n        <p id=\"3dmolwarning_16507313240193613\" style=\"background-color:#ffcccc;color:black\">You appear to be running in JupyterLab (or JavaScript failed to load for some other reason).  You need to install the 3dmol extension: <br>\n        <tt>jupyter labextension install jupyterlab_3dmol</tt></p>\n        </div>\n<script>\n\nvar loadScriptAsync = function(uri){\n  return new Promise((resolve, reject) => {\n    var tag = document.createElement('script');\n    tag.src = uri;\n    tag.async = true;\n    tag.onload = () => {\n      resolve();\n    };\n  var firstScriptTag = document.getElementsByTagName('script')[0];\n  firstScriptTag.parentNode.insertBefore(tag, firstScriptTag);\n});\n};\n\nif(typeof $3Dmolpromise === 'undefined') {\n$3Dmolpromise = null;\n  $3Dmolpromise = loadScriptAsync('https://3dmol.org/build/3Dmol.js');\n}\n\nvar viewer_16507313240193613 = null;\nvar warn = document.getElementById(\"3dmolwarning_16507313240193613\");\nif(warn) {\n    warn.parentNode.removeChild(warn);\n}\n$3Dmolpromise.then(function() {\nviewer_16507313240193613 = $3Dmol.createViewer($(\"#3dmolviewer_16507313240193613\"),{backgroundColor:\"white\"});\nviewer_16507313240193613.zoomTo();\n\tviewer_16507313240193613.addModel(\"\\n     RDKit          3D\\n\\n  9 10  0  0  0  0  0  0  0  0999 V2000\\n    1.8809   -1.0366    0.0376 O   0  0  0  0  0  0  0  0  0  0  0  0\\n    2.6864   -0.0074   -0.0741 C   0  0  0  0  0  0  0  0  0  0  0  0\\n    1.8945    1.0741   -0.1459 N   0  0  0  0  0  0  0  0  0  0  0  0\\n    0.6036    0.7161   -0.0789 C   0  0  0  0  0  0  0  0  0  0  0  0\\n   -0.6134    1.3560   -0.1006 C   0  0  0  0  0  0  0  0  0  0  0  0\\n   -1.8225    0.7006   -0.0101 C   0  0  0  0  0  0  0  0  0  0  0  0\\n   -1.7967   -0.6853    0.1095 C   0  0  0  0  0  0  0  0  0  0  0  0\\n   -0.5844   -1.3438    0.1329 C   0  0  0  0  0  0  0  0  0  0  0  0\\n    0.6310   -0.6726    0.0408 C   0  0  0  0  0  0  0  0  0  0  0  0\\n  1  2  1  0\\n  2  3  2  0\\n  3  4  1  0\\n  4  5  2  0\\n  5  6  1  0\\n  6  7  2  0\\n  7  8  1  0\\n  8  9  2  0\\n  9  1  1  0\\n  9  4  1  0\\nM  END\\n\",\"sdf\");\n\tviewer_16507313240193613.addModel(\"\\n     RDKit          3D\\n\\n  9 10  0  0  0  0  0  0  0  0999 V2000\\n    2.2331   -3.9797   14.6575 O   0  0  0  0  0  0  0  0  0  0  0  0\\n    3.0801   -3.6584   13.7088 C   0  0  0  0  0  0  0  0  0  0  0  0\\n    2.7978   -2.3885   13.3777 N   0  0  0  0  0  0  0  0  0  0  0  0\\n    1.7801   -1.9252   14.1183 C   0  0  0  0  0  0  0  0  0  0  0  0\\n    1.0775   -0.7480   14.2264 C   0  0  0  0  0  0  0  0  0  0  0  0\\n    0.0400   -0.5566   15.1134 C   0  0  0  0  0  0  0  0  0  0  0  0\\n   -0.3058   -1.6212   15.9397 C   0  0  0  0  0  0  0  0  0  0  0  0\\n    0.3884   -2.8098   15.8447 C   0  0  0  0  0  0  0  0  0  0  0  0\\n    1.4345   -2.9928   14.9456 C   0  0  0  0  0  0  0  0  0  0  0  0\\n  1  2  1  0\\n  2  3  2  0\\n  3  4  1  0\\n  4  5  2  0\\n  5  6  1  0\\n  6  7  2  0\\n  7  8  1  0\\n  8  9  2  0\\n  9  1  1  0\\n  9  4  1  0\\nM  END\\n\",\"sdf\");\n\tviewer_16507313240193613.addModel(\"\\n     RDKit          3D\\n\\n 24 26  0  0  0  0  0  0  0  0999 V2000\\n    3.3590    6.0150   13.0690 O   0  0  0  0  0  0  0  0  0  0  0  0\\n    3.4800    6.2060   11.6760 C   0  0  0  0  0  0  0  0  0  0  0  0\\n    3.2320    4.7640   13.6200 C   0  0  0  0  0  0  0  0  0  0  0  0\\n    3.2490    4.6200   15.0170 C   0  0  0  0  0  0  0  0  0  0  0  0\\n    3.1460    3.4130   15.6180 C   0  0  0  0  0  0  0  0  0  0  0  0\\n    2.8600   -0.1910   14.5760 N   0  0  0  0  0  0  0  0  0  0  0  0\\n    3.1640    4.4600   17.8150 C   0  0  0  0  0  0  0  0  0  0  0  0\\n    3.1130    3.2650   17.0000 O   0  0  0  0  0  0  0  0  0  0  0  0\\n    3.0390    2.2280   14.8720 C   0  0  0  0  0  0  0  0  0  0  0  0\\n    2.2700   -4.7190   10.2560 O   0  0  0  0  0  0  0  0  0  0  0  0\\n    2.9640    1.2430   12.6620 N   0  0  0  0  0  0  0  0  0  0  0  0\\n    2.9420    0.9190   15.4510 C   0  0  0  0  0  0  0  0  0  0  0  0\\n    2.8810    0.0150   13.2310 C   0  0  0  0  0  0  0  0  0  0  0  0\\n    2.9580    0.6740   16.6750 O   0  0  0  0  0  0  0  0  0  0  0  0\\n    2.7950   -1.1630   12.3520 C   0  0  0  0  0  0  0  0  0  0  0  0\\n    2.2000   -1.1600   11.0730 C   0  0  0  0  0  0  0  0  0  0  0  0\\n    2.0370   -2.3470   10.3720 C   0  0  0  0  0  0  0  0  0  0  0  0\\n    1.3240   -2.2540    9.0610 C   0  0  0  0  0  0  0  0  0  0  0  0\\n    2.5090   -3.5740   10.9120 C   0  0  0  0  0  0  0  0  0  0  0  0\\n    3.1500   -3.5880   12.1430 C   0  0  0  0  0  0  0  0  0  0  0  0\\n    3.6620   -4.8880   12.6860 C   0  0  0  0  0  0  0  0  0  0  0  0\\n    3.2880   -2.4170   12.8540 C   0  0  0  0  0  0  0  0  0  0  0  0\\n    3.0310    2.4050   13.4570 C   0  0  0  0  0  0  0  0  0  0  0  0\\n    3.1180    3.6350   12.8260 C   0  0  0  0  0  0  0  0  0  0  0  0\\n  1  2  1  0\\n  1  3  1  0\\n  3  4  2  0\\n  3 24  1  0\\n  4  5  1  0\\n  5  8  1  0\\n  5  9  2  0\\n  6 12  1  0\\n  6 13  1  0\\n  7  8  1  0\\n  9 12  1  0\\n  9 23  1  0\\n 10 19  1  0\\n 11 13  2  0\\n 11 23  1  0\\n 12 14  2  0\\n 13 15  1  0\\n 15 16  2  0\\n 15 22  1  0\\n 16 17  1  0\\n 17 18  1  0\\n 17 19  2  0\\n 19 20  1  0\\n 20 21  1  0\\n 20 22  2  0\\n 23 24  2  0\\nM  END\\n\",\"sdf\");\n\tviewer_16507313240193613.setStyle({\"model\": 0},{\"stick\": {\"colorscheme\": \"lightgreyCarbon\"}});\n\tviewer_16507313240193613.setStyle({\"model\": 1},{\"stick\": {\"colorscheme\": \"purpleCarbon\"}});\n\tviewer_16507313240193613.setStyle({\"model\": 2},{\"stick\": {\"colorscheme\": \"greyCarbon\"}});\n\tviewer_16507313240193613.zoomTo();\nviewer_16507313240193613.render();\n});\n</script>",
      "text/html": [
       "<div id=\"3dmolviewer_16507313240193613\"  style=\"position: relative; width: 640px; height: 480px\">\n",
       "        <p id=\"3dmolwarning_16507313240193613\" style=\"background-color:#ffcccc;color:black\">You appear to be running in JupyterLab (or JavaScript failed to load for some other reason).  You need to install the 3dmol extension: <br>\n",
       "        <tt>jupyter labextension install jupyterlab_3dmol</tt></p>\n",
       "        </div>\n",
       "<script>\n",
       "\n",
       "var loadScriptAsync = function(uri){\n",
       "  return new Promise((resolve, reject) => {\n",
       "    var tag = document.createElement('script');\n",
       "    tag.src = uri;\n",
       "    tag.async = true;\n",
       "    tag.onload = () => {\n",
       "      resolve();\n",
       "    };\n",
       "  var firstScriptTag = document.getElementsByTagName('script')[0];\n",
       "  firstScriptTag.parentNode.insertBefore(tag, firstScriptTag);\n",
       "});\n",
       "};\n",
       "\n",
       "if(typeof $3Dmolpromise === 'undefined') {\n",
       "$3Dmolpromise = null;\n",
       "  $3Dmolpromise = loadScriptAsync('https://3dmol.org/build/3Dmol.js');\n",
       "}\n",
       "\n",
       "var viewer_16507313240193613 = null;\n",
       "var warn = document.getElementById(\"3dmolwarning_16507313240193613\");\n",
       "if(warn) {\n",
       "    warn.parentNode.removeChild(warn);\n",
       "}\n",
       "$3Dmolpromise.then(function() {\n",
       "viewer_16507313240193613 = $3Dmol.createViewer($(\"#3dmolviewer_16507313240193613\"),{backgroundColor:\"white\"});\n",
       "viewer_16507313240193613.zoomTo();\n",
       "\tviewer_16507313240193613.addModel(\"\\n     RDKit          3D\\n\\n  9 10  0  0  0  0  0  0  0  0999 V2000\\n    1.8809   -1.0366    0.0376 O   0  0  0  0  0  0  0  0  0  0  0  0\\n    2.6864   -0.0074   -0.0741 C   0  0  0  0  0  0  0  0  0  0  0  0\\n    1.8945    1.0741   -0.1459 N   0  0  0  0  0  0  0  0  0  0  0  0\\n    0.6036    0.7161   -0.0789 C   0  0  0  0  0  0  0  0  0  0  0  0\\n   -0.6134    1.3560   -0.1006 C   0  0  0  0  0  0  0  0  0  0  0  0\\n   -1.8225    0.7006   -0.0101 C   0  0  0  0  0  0  0  0  0  0  0  0\\n   -1.7967   -0.6853    0.1095 C   0  0  0  0  0  0  0  0  0  0  0  0\\n   -0.5844   -1.3438    0.1329 C   0  0  0  0  0  0  0  0  0  0  0  0\\n    0.6310   -0.6726    0.0408 C   0  0  0  0  0  0  0  0  0  0  0  0\\n  1  2  1  0\\n  2  3  2  0\\n  3  4  1  0\\n  4  5  2  0\\n  5  6  1  0\\n  6  7  2  0\\n  7  8  1  0\\n  8  9  2  0\\n  9  1  1  0\\n  9  4  1  0\\nM  END\\n\",\"sdf\");\n",
       "\tviewer_16507313240193613.addModel(\"\\n     RDKit          3D\\n\\n  9 10  0  0  0  0  0  0  0  0999 V2000\\n    2.2331   -3.9797   14.6575 O   0  0  0  0  0  0  0  0  0  0  0  0\\n    3.0801   -3.6584   13.7088 C   0  0  0  0  0  0  0  0  0  0  0  0\\n    2.7978   -2.3885   13.3777 N   0  0  0  0  0  0  0  0  0  0  0  0\\n    1.7801   -1.9252   14.1183 C   0  0  0  0  0  0  0  0  0  0  0  0\\n    1.0775   -0.7480   14.2264 C   0  0  0  0  0  0  0  0  0  0  0  0\\n    0.0400   -0.5566   15.1134 C   0  0  0  0  0  0  0  0  0  0  0  0\\n   -0.3058   -1.6212   15.9397 C   0  0  0  0  0  0  0  0  0  0  0  0\\n    0.3884   -2.8098   15.8447 C   0  0  0  0  0  0  0  0  0  0  0  0\\n    1.4345   -2.9928   14.9456 C   0  0  0  0  0  0  0  0  0  0  0  0\\n  1  2  1  0\\n  2  3  2  0\\n  3  4  1  0\\n  4  5  2  0\\n  5  6  1  0\\n  6  7  2  0\\n  7  8  1  0\\n  8  9  2  0\\n  9  1  1  0\\n  9  4  1  0\\nM  END\\n\",\"sdf\");\n",
       "\tviewer_16507313240193613.addModel(\"\\n     RDKit          3D\\n\\n 24 26  0  0  0  0  0  0  0  0999 V2000\\n    3.3590    6.0150   13.0690 O   0  0  0  0  0  0  0  0  0  0  0  0\\n    3.4800    6.2060   11.6760 C   0  0  0  0  0  0  0  0  0  0  0  0\\n    3.2320    4.7640   13.6200 C   0  0  0  0  0  0  0  0  0  0  0  0\\n    3.2490    4.6200   15.0170 C   0  0  0  0  0  0  0  0  0  0  0  0\\n    3.1460    3.4130   15.6180 C   0  0  0  0  0  0  0  0  0  0  0  0\\n    2.8600   -0.1910   14.5760 N   0  0  0  0  0  0  0  0  0  0  0  0\\n    3.1640    4.4600   17.8150 C   0  0  0  0  0  0  0  0  0  0  0  0\\n    3.1130    3.2650   17.0000 O   0  0  0  0  0  0  0  0  0  0  0  0\\n    3.0390    2.2280   14.8720 C   0  0  0  0  0  0  0  0  0  0  0  0\\n    2.2700   -4.7190   10.2560 O   0  0  0  0  0  0  0  0  0  0  0  0\\n    2.9640    1.2430   12.6620 N   0  0  0  0  0  0  0  0  0  0  0  0\\n    2.9420    0.9190   15.4510 C   0  0  0  0  0  0  0  0  0  0  0  0\\n    2.8810    0.0150   13.2310 C   0  0  0  0  0  0  0  0  0  0  0  0\\n    2.9580    0.6740   16.6750 O   0  0  0  0  0  0  0  0  0  0  0  0\\n    2.7950   -1.1630   12.3520 C   0  0  0  0  0  0  0  0  0  0  0  0\\n    2.2000   -1.1600   11.0730 C   0  0  0  0  0  0  0  0  0  0  0  0\\n    2.0370   -2.3470   10.3720 C   0  0  0  0  0  0  0  0  0  0  0  0\\n    1.3240   -2.2540    9.0610 C   0  0  0  0  0  0  0  0  0  0  0  0\\n    2.5090   -3.5740   10.9120 C   0  0  0  0  0  0  0  0  0  0  0  0\\n    3.1500   -3.5880   12.1430 C   0  0  0  0  0  0  0  0  0  0  0  0\\n    3.6620   -4.8880   12.6860 C   0  0  0  0  0  0  0  0  0  0  0  0\\n    3.2880   -2.4170   12.8540 C   0  0  0  0  0  0  0  0  0  0  0  0\\n    3.0310    2.4050   13.4570 C   0  0  0  0  0  0  0  0  0  0  0  0\\n    3.1180    3.6350   12.8260 C   0  0  0  0  0  0  0  0  0  0  0  0\\n  1  2  1  0\\n  1  3  1  0\\n  3  4  2  0\\n  3 24  1  0\\n  4  5  1  0\\n  5  8  1  0\\n  5  9  2  0\\n  6 12  1  0\\n  6 13  1  0\\n  7  8  1  0\\n  9 12  1  0\\n  9 23  1  0\\n 10 19  1  0\\n 11 13  2  0\\n 11 23  1  0\\n 12 14  2  0\\n 13 15  1  0\\n 15 16  2  0\\n 15 22  1  0\\n 16 17  1  0\\n 17 18  1  0\\n 17 19  2  0\\n 19 20  1  0\\n 20 21  1  0\\n 20 22  2  0\\n 23 24  2  0\\nM  END\\n\",\"sdf\");\n",
       "\tviewer_16507313240193613.setStyle({\"model\": 0},{\"stick\": {\"colorscheme\": \"lightgreyCarbon\"}});\n",
       "\tviewer_16507313240193613.setStyle({\"model\": 1},{\"stick\": {\"colorscheme\": \"purpleCarbon\"}});\n",
       "\tviewer_16507313240193613.setStyle({\"model\": 2},{\"stick\": {\"colorscheme\": \"greyCarbon\"}});\n",
       "\tviewer_16507313240193613.zoomTo();\n",
       "viewer_16507313240193613.render();\n",
       "});\n",
       "</script>"
      ]
     },
     "metadata": {},
     "output_type": "display_data"
    },
    {
     "data": {
      "text/plain": [
       "<py3Dmol.view at 0x7fac8730df70>"
      ]
     },
     "metadata": {},
     "output_type": "display_data"
    },
    {
     "name": "stdout",
     "output_type": "stream",
     "text": [
      "0.9526462395543176\n"
     ]
    },
    {
     "data": {
      "application/3dmoljs_load.v0": "<div id=\"3dmolviewer_16507313240254006\"  style=\"position: relative; width: 640px; height: 480px\">\n        <p id=\"3dmolwarning_16507313240254006\" style=\"background-color:#ffcccc;color:black\">You appear to be running in JupyterLab (or JavaScript failed to load for some other reason).  You need to install the 3dmol extension: <br>\n        <tt>jupyter labextension install jupyterlab_3dmol</tt></p>\n        </div>\n<script>\n\nvar loadScriptAsync = function(uri){\n  return new Promise((resolve, reject) => {\n    var tag = document.createElement('script');\n    tag.src = uri;\n    tag.async = true;\n    tag.onload = () => {\n      resolve();\n    };\n  var firstScriptTag = document.getElementsByTagName('script')[0];\n  firstScriptTag.parentNode.insertBefore(tag, firstScriptTag);\n});\n};\n\nif(typeof $3Dmolpromise === 'undefined') {\n$3Dmolpromise = null;\n  $3Dmolpromise = loadScriptAsync('https://3dmol.org/build/3Dmol.js');\n}\n\nvar viewer_16507313240254006 = null;\nvar warn = document.getElementById(\"3dmolwarning_16507313240254006\");\nif(warn) {\n    warn.parentNode.removeChild(warn);\n}\n$3Dmolpromise.then(function() {\nviewer_16507313240254006 = $3Dmol.createViewer($(\"#3dmolviewer_16507313240254006\"),{backgroundColor:\"white\"});\nviewer_16507313240254006.zoomTo();\n\tviewer_16507313240254006.addModel(\"\\n     RDKit          3D\\n\\n 12 13  0  0  0  0  0  0  0  0999 V2000\\n   -3.3329   -1.3523   -0.0264 O   0  0  0  0  0  0  0  0  0  0  0  0\\n   -2.2732   -0.6663   -0.0390 C   0  0  0  0  0  0  0  0  0  0  0  0\\n   -2.3396    0.6905   -0.1529 N   0  0  0  0  0  0  0  0  0  0  0  0\\n   -1.2027    1.4092   -0.1650 C   0  0  0  0  0  0  0  0  0  0  0  0\\n   -1.2793    2.6599   -0.2707 O   0  0  0  0  0  0  0  0  0  0  0  0\\n    0.0409    0.8261   -0.0660 C   0  0  0  0  0  0  0  0  0  0  0  0\\n    1.1847    1.5309   -0.0767 N   0  0  0  0  0  0  0  0  0  0  0  0\\n    2.4060    0.9516    0.0211 C   0  0  0  0  0  0  0  0  0  0  0  0\\n    2.5142   -0.4166    0.1377 C   0  0  0  0  0  0  0  0  0  0  0  0\\n    1.3433   -1.1457    0.1492 C   0  0  0  0  0  0  0  0  0  0  0  0\\n    0.0964   -0.5582    0.0497 C   0  0  0  0  0  0  0  0  0  0  0  0\\n   -1.0542   -1.2260    0.0571 N   0  0  0  0  0  0  0  0  0  0  0  0\\n  1  2  2  0\\n  2  3  1  0\\n  3  4  1  0\\n  4  5  2  0\\n  4  6  1  0\\n  6  7  2  0\\n  7  8  1  0\\n  8  9  2  0\\n  9 10  1  0\\n 10 11  2  0\\n 11 12  1  0\\n 12  2  1  0\\n 11  6  1  0\\nM  END\\n\",\"sdf\");\n\tviewer_16507313240254006.addModel(\"\\n     RDKit          3D\\n\\n 12 13  0  0  0  0  0  0  0  0999 V2000\\n    2.5843   -4.4760   11.2703 O   0  0  0  0  0  0  0  0  0  0  0  0\\n    2.5040   -3.4602   12.0156 C   0  0  0  0  0  0  0  0  0  0  0  0\\n    2.1210   -3.5968   13.3167 N   0  0  0  0  0  0  0  0  0  0  0  0\\n    2.0396   -2.5061   14.0997 C   0  0  0  0  0  0  0  0  0  0  0  0\\n    1.6849   -2.6473   15.2978 O   0  0  0  0  0  0  0  0  0  0  0  0\\n    2.3301   -1.2418   13.6377 C   0  0  0  0  0  0  0  0  0  0  0  0\\n    2.2532   -0.1436   14.4078 N   0  0  0  0  0  0  0  0  0  0  0  0\\n    2.5404    1.0984   13.9478 C   0  0  0  0  0  0  0  0  0  0  0  0\\n    2.9309    1.2770   12.6390 C   0  0  0  0  0  0  0  0  0  0  0  0\\n    3.0117    0.1532   11.8433 C   0  0  0  0  0  0  0  0  0  0  0  0\\n    2.7196   -1.1146   12.3092 C   0  0  0  0  0  0  0  0  0  0  0  0\\n    2.7855   -2.2216   11.5742 N   0  0  0  0  0  0  0  0  0  0  0  0\\n  1  2  2  0\\n  2  3  1  0\\n  3  4  1  0\\n  4  5  2  0\\n  4  6  1  0\\n  6  7  2  0\\n  7  8  1  0\\n  8  9  2  0\\n  9 10  1  0\\n 10 11  2  0\\n 11 12  1  0\\n 12  2  1  0\\n 11  6  1  0\\nM  END\\n\",\"sdf\");\n\tviewer_16507313240254006.addModel(\"\\n     RDKit          3D\\n\\n 24 26  0  0  0  0  0  0  0  0999 V2000\\n    3.3590    6.0150   13.0690 O   0  0  0  0  0  0  0  0  0  0  0  0\\n    3.4800    6.2060   11.6760 C   0  0  0  0  0  0  0  0  0  0  0  0\\n    3.2320    4.7640   13.6200 C   0  0  0  0  0  0  0  0  0  0  0  0\\n    3.2490    4.6200   15.0170 C   0  0  0  0  0  0  0  0  0  0  0  0\\n    3.1460    3.4130   15.6180 C   0  0  0  0  0  0  0  0  0  0  0  0\\n    2.8600   -0.1910   14.5760 N   0  0  0  0  0  0  0  0  0  0  0  0\\n    3.1640    4.4600   17.8150 C   0  0  0  0  0  0  0  0  0  0  0  0\\n    3.1130    3.2650   17.0000 O   0  0  0  0  0  0  0  0  0  0  0  0\\n    3.0390    2.2280   14.8720 C   0  0  0  0  0  0  0  0  0  0  0  0\\n    2.2700   -4.7190   10.2560 O   0  0  0  0  0  0  0  0  0  0  0  0\\n    2.9640    1.2430   12.6620 N   0  0  0  0  0  0  0  0  0  0  0  0\\n    2.9420    0.9190   15.4510 C   0  0  0  0  0  0  0  0  0  0  0  0\\n    2.8810    0.0150   13.2310 C   0  0  0  0  0  0  0  0  0  0  0  0\\n    2.9580    0.6740   16.6750 O   0  0  0  0  0  0  0  0  0  0  0  0\\n    2.7950   -1.1630   12.3520 C   0  0  0  0  0  0  0  0  0  0  0  0\\n    2.2000   -1.1600   11.0730 C   0  0  0  0  0  0  0  0  0  0  0  0\\n    2.0370   -2.3470   10.3720 C   0  0  0  0  0  0  0  0  0  0  0  0\\n    1.3240   -2.2540    9.0610 C   0  0  0  0  0  0  0  0  0  0  0  0\\n    2.5090   -3.5740   10.9120 C   0  0  0  0  0  0  0  0  0  0  0  0\\n    3.1500   -3.5880   12.1430 C   0  0  0  0  0  0  0  0  0  0  0  0\\n    3.6620   -4.8880   12.6860 C   0  0  0  0  0  0  0  0  0  0  0  0\\n    3.2880   -2.4170   12.8540 C   0  0  0  0  0  0  0  0  0  0  0  0\\n    3.0310    2.4050   13.4570 C   0  0  0  0  0  0  0  0  0  0  0  0\\n    3.1180    3.6350   12.8260 C   0  0  0  0  0  0  0  0  0  0  0  0\\n  1  2  1  0\\n  1  3  1  0\\n  3  4  2  0\\n  3 24  1  0\\n  4  5  1  0\\n  5  8  1  0\\n  5  9  2  0\\n  6 12  1  0\\n  6 13  1  0\\n  7  8  1  0\\n  9 12  1  0\\n  9 23  1  0\\n 10 19  1  0\\n 11 13  2  0\\n 11 23  1  0\\n 12 14  2  0\\n 13 15  1  0\\n 15 16  2  0\\n 15 22  1  0\\n 16 17  1  0\\n 17 18  1  0\\n 17 19  2  0\\n 19 20  1  0\\n 20 21  1  0\\n 20 22  2  0\\n 23 24  2  0\\nM  END\\n\",\"sdf\");\n\tviewer_16507313240254006.setStyle({\"model\": 0},{\"stick\": {\"colorscheme\": \"lightgreyCarbon\"}});\n\tviewer_16507313240254006.setStyle({\"model\": 1},{\"stick\": {\"colorscheme\": \"purpleCarbon\"}});\n\tviewer_16507313240254006.setStyle({\"model\": 2},{\"stick\": {\"colorscheme\": \"greyCarbon\"}});\n\tviewer_16507313240254006.zoomTo();\nviewer_16507313240254006.render();\n});\n</script>",
      "text/html": [
       "<div id=\"3dmolviewer_16507313240254006\"  style=\"position: relative; width: 640px; height: 480px\">\n",
       "        <p id=\"3dmolwarning_16507313240254006\" style=\"background-color:#ffcccc;color:black\">You appear to be running in JupyterLab (or JavaScript failed to load for some other reason).  You need to install the 3dmol extension: <br>\n",
       "        <tt>jupyter labextension install jupyterlab_3dmol</tt></p>\n",
       "        </div>\n",
       "<script>\n",
       "\n",
       "var loadScriptAsync = function(uri){\n",
       "  return new Promise((resolve, reject) => {\n",
       "    var tag = document.createElement('script');\n",
       "    tag.src = uri;\n",
       "    tag.async = true;\n",
       "    tag.onload = () => {\n",
       "      resolve();\n",
       "    };\n",
       "  var firstScriptTag = document.getElementsByTagName('script')[0];\n",
       "  firstScriptTag.parentNode.insertBefore(tag, firstScriptTag);\n",
       "});\n",
       "};\n",
       "\n",
       "if(typeof $3Dmolpromise === 'undefined') {\n",
       "$3Dmolpromise = null;\n",
       "  $3Dmolpromise = loadScriptAsync('https://3dmol.org/build/3Dmol.js');\n",
       "}\n",
       "\n",
       "var viewer_16507313240254006 = null;\n",
       "var warn = document.getElementById(\"3dmolwarning_16507313240254006\");\n",
       "if(warn) {\n",
       "    warn.parentNode.removeChild(warn);\n",
       "}\n",
       "$3Dmolpromise.then(function() {\n",
       "viewer_16507313240254006 = $3Dmol.createViewer($(\"#3dmolviewer_16507313240254006\"),{backgroundColor:\"white\"});\n",
       "viewer_16507313240254006.zoomTo();\n",
       "\tviewer_16507313240254006.addModel(\"\\n     RDKit          3D\\n\\n 12 13  0  0  0  0  0  0  0  0999 V2000\\n   -3.3329   -1.3523   -0.0264 O   0  0  0  0  0  0  0  0  0  0  0  0\\n   -2.2732   -0.6663   -0.0390 C   0  0  0  0  0  0  0  0  0  0  0  0\\n   -2.3396    0.6905   -0.1529 N   0  0  0  0  0  0  0  0  0  0  0  0\\n   -1.2027    1.4092   -0.1650 C   0  0  0  0  0  0  0  0  0  0  0  0\\n   -1.2793    2.6599   -0.2707 O   0  0  0  0  0  0  0  0  0  0  0  0\\n    0.0409    0.8261   -0.0660 C   0  0  0  0  0  0  0  0  0  0  0  0\\n    1.1847    1.5309   -0.0767 N   0  0  0  0  0  0  0  0  0  0  0  0\\n    2.4060    0.9516    0.0211 C   0  0  0  0  0  0  0  0  0  0  0  0\\n    2.5142   -0.4166    0.1377 C   0  0  0  0  0  0  0  0  0  0  0  0\\n    1.3433   -1.1457    0.1492 C   0  0  0  0  0  0  0  0  0  0  0  0\\n    0.0964   -0.5582    0.0497 C   0  0  0  0  0  0  0  0  0  0  0  0\\n   -1.0542   -1.2260    0.0571 N   0  0  0  0  0  0  0  0  0  0  0  0\\n  1  2  2  0\\n  2  3  1  0\\n  3  4  1  0\\n  4  5  2  0\\n  4  6  1  0\\n  6  7  2  0\\n  7  8  1  0\\n  8  9  2  0\\n  9 10  1  0\\n 10 11  2  0\\n 11 12  1  0\\n 12  2  1  0\\n 11  6  1  0\\nM  END\\n\",\"sdf\");\n",
       "\tviewer_16507313240254006.addModel(\"\\n     RDKit          3D\\n\\n 12 13  0  0  0  0  0  0  0  0999 V2000\\n    2.5843   -4.4760   11.2703 O   0  0  0  0  0  0  0  0  0  0  0  0\\n    2.5040   -3.4602   12.0156 C   0  0  0  0  0  0  0  0  0  0  0  0\\n    2.1210   -3.5968   13.3167 N   0  0  0  0  0  0  0  0  0  0  0  0\\n    2.0396   -2.5061   14.0997 C   0  0  0  0  0  0  0  0  0  0  0  0\\n    1.6849   -2.6473   15.2978 O   0  0  0  0  0  0  0  0  0  0  0  0\\n    2.3301   -1.2418   13.6377 C   0  0  0  0  0  0  0  0  0  0  0  0\\n    2.2532   -0.1436   14.4078 N   0  0  0  0  0  0  0  0  0  0  0  0\\n    2.5404    1.0984   13.9478 C   0  0  0  0  0  0  0  0  0  0  0  0\\n    2.9309    1.2770   12.6390 C   0  0  0  0  0  0  0  0  0  0  0  0\\n    3.0117    0.1532   11.8433 C   0  0  0  0  0  0  0  0  0  0  0  0\\n    2.7196   -1.1146   12.3092 C   0  0  0  0  0  0  0  0  0  0  0  0\\n    2.7855   -2.2216   11.5742 N   0  0  0  0  0  0  0  0  0  0  0  0\\n  1  2  2  0\\n  2  3  1  0\\n  3  4  1  0\\n  4  5  2  0\\n  4  6  1  0\\n  6  7  2  0\\n  7  8  1  0\\n  8  9  2  0\\n  9 10  1  0\\n 10 11  2  0\\n 11 12  1  0\\n 12  2  1  0\\n 11  6  1  0\\nM  END\\n\",\"sdf\");\n",
       "\tviewer_16507313240254006.addModel(\"\\n     RDKit          3D\\n\\n 24 26  0  0  0  0  0  0  0  0999 V2000\\n    3.3590    6.0150   13.0690 O   0  0  0  0  0  0  0  0  0  0  0  0\\n    3.4800    6.2060   11.6760 C   0  0  0  0  0  0  0  0  0  0  0  0\\n    3.2320    4.7640   13.6200 C   0  0  0  0  0  0  0  0  0  0  0  0\\n    3.2490    4.6200   15.0170 C   0  0  0  0  0  0  0  0  0  0  0  0\\n    3.1460    3.4130   15.6180 C   0  0  0  0  0  0  0  0  0  0  0  0\\n    2.8600   -0.1910   14.5760 N   0  0  0  0  0  0  0  0  0  0  0  0\\n    3.1640    4.4600   17.8150 C   0  0  0  0  0  0  0  0  0  0  0  0\\n    3.1130    3.2650   17.0000 O   0  0  0  0  0  0  0  0  0  0  0  0\\n    3.0390    2.2280   14.8720 C   0  0  0  0  0  0  0  0  0  0  0  0\\n    2.2700   -4.7190   10.2560 O   0  0  0  0  0  0  0  0  0  0  0  0\\n    2.9640    1.2430   12.6620 N   0  0  0  0  0  0  0  0  0  0  0  0\\n    2.9420    0.9190   15.4510 C   0  0  0  0  0  0  0  0  0  0  0  0\\n    2.8810    0.0150   13.2310 C   0  0  0  0  0  0  0  0  0  0  0  0\\n    2.9580    0.6740   16.6750 O   0  0  0  0  0  0  0  0  0  0  0  0\\n    2.7950   -1.1630   12.3520 C   0  0  0  0  0  0  0  0  0  0  0  0\\n    2.2000   -1.1600   11.0730 C   0  0  0  0  0  0  0  0  0  0  0  0\\n    2.0370   -2.3470   10.3720 C   0  0  0  0  0  0  0  0  0  0  0  0\\n    1.3240   -2.2540    9.0610 C   0  0  0  0  0  0  0  0  0  0  0  0\\n    2.5090   -3.5740   10.9120 C   0  0  0  0  0  0  0  0  0  0  0  0\\n    3.1500   -3.5880   12.1430 C   0  0  0  0  0  0  0  0  0  0  0  0\\n    3.6620   -4.8880   12.6860 C   0  0  0  0  0  0  0  0  0  0  0  0\\n    3.2880   -2.4170   12.8540 C   0  0  0  0  0  0  0  0  0  0  0  0\\n    3.0310    2.4050   13.4570 C   0  0  0  0  0  0  0  0  0  0  0  0\\n    3.1180    3.6350   12.8260 C   0  0  0  0  0  0  0  0  0  0  0  0\\n  1  2  1  0\\n  1  3  1  0\\n  3  4  2  0\\n  3 24  1  0\\n  4  5  1  0\\n  5  8  1  0\\n  5  9  2  0\\n  6 12  1  0\\n  6 13  1  0\\n  7  8  1  0\\n  9 12  1  0\\n  9 23  1  0\\n 10 19  1  0\\n 11 13  2  0\\n 11 23  1  0\\n 12 14  2  0\\n 13 15  1  0\\n 15 16  2  0\\n 15 22  1  0\\n 16 17  1  0\\n 17 18  1  0\\n 17 19  2  0\\n 19 20  1  0\\n 20 21  1  0\\n 20 22  2  0\\n 23 24  2  0\\nM  END\\n\",\"sdf\");\n",
       "\tviewer_16507313240254006.setStyle({\"model\": 0},{\"stick\": {\"colorscheme\": \"lightgreyCarbon\"}});\n",
       "\tviewer_16507313240254006.setStyle({\"model\": 1},{\"stick\": {\"colorscheme\": \"purpleCarbon\"}});\n",
       "\tviewer_16507313240254006.setStyle({\"model\": 2},{\"stick\": {\"colorscheme\": \"greyCarbon\"}});\n",
       "\tviewer_16507313240254006.zoomTo();\n",
       "viewer_16507313240254006.render();\n",
       "});\n",
       "</script>"
      ]
     },
     "metadata": {},
     "output_type": "display_data"
    },
    {
     "data": {
      "text/plain": [
       "<py3Dmol.view at 0x7fac8730df40>"
      ]
     },
     "metadata": {},
     "output_type": "display_data"
    },
    {
     "name": "stdout",
     "output_type": "stream",
     "text": [
      "0.950354609929078\n"
     ]
    },
    {
     "data": {
      "application/3dmoljs_load.v0": "<div id=\"3dmolviewer_16507313240313115\"  style=\"position: relative; width: 640px; height: 480px\">\n        <p id=\"3dmolwarning_16507313240313115\" style=\"background-color:#ffcccc;color:black\">You appear to be running in JupyterLab (or JavaScript failed to load for some other reason).  You need to install the 3dmol extension: <br>\n        <tt>jupyter labextension install jupyterlab_3dmol</tt></p>\n        </div>\n<script>\n\nvar loadScriptAsync = function(uri){\n  return new Promise((resolve, reject) => {\n    var tag = document.createElement('script');\n    tag.src = uri;\n    tag.async = true;\n    tag.onload = () => {\n      resolve();\n    };\n  var firstScriptTag = document.getElementsByTagName('script')[0];\n  firstScriptTag.parentNode.insertBefore(tag, firstScriptTag);\n});\n};\n\nif(typeof $3Dmolpromise === 'undefined') {\n$3Dmolpromise = null;\n  $3Dmolpromise = loadScriptAsync('https://3dmol.org/build/3Dmol.js');\n}\n\nvar viewer_16507313240313115 = null;\nvar warn = document.getElementById(\"3dmolwarning_16507313240313115\");\nif(warn) {\n    warn.parentNode.removeChild(warn);\n}\n$3Dmolpromise.then(function() {\nviewer_16507313240313115 = $3Dmol.createViewer($(\"#3dmolviewer_16507313240313115\"),{backgroundColor:\"white\"});\nviewer_16507313240313115.zoomTo();\n\tviewer_16507313240313115.addModel(\"\\n     RDKit          3D\\n\\n 11 12  0  0  0  0  0  0  0  0999 V2000\\n    3.0416   -1.7406   -0.3997 O   0  0  0  0  0  0  0  0  0  0  0  0\\n    2.0528   -0.9799   -0.2580 C   0  0  0  0  0  0  0  0  0  0  0  0\\n    2.2852    0.3762   -0.1988 C   0  0  0  0  0  0  0  0  0  0  0  0\\n    1.1969    1.2025   -0.0435 C   0  0  0  0  0  0  0  0  0  0  0  0\\n   -0.0706    0.7547    0.0524 N   0  0  0  0  0  0  0  0  0  0  0  0\\n   -1.0998    1.6144    0.2040 C   0  0  0  0  0  0  0  0  0  0  0  0\\n   -2.3754    1.2009    0.3026 N   0  0  0  0  0  0  0  0  0  0  0  0\\n   -2.6813   -0.1267    0.2522 C   0  0  0  0  0  0  0  0  0  0  0  0\\n   -1.6188   -0.9921    0.0970 C   0  0  0  0  0  0  0  0  0  0  0  0\\n   -0.3095   -0.5757   -0.0047 C   0  0  0  0  0  0  0  0  0  0  0  0\\n    0.7541   -1.4424   -0.1601 C   0  0  0  0  0  0  0  0  0  0  0  0\\n  1  2  2  0\\n  2  3  1  0\\n  3  4  2  0\\n  4  5  1  0\\n  5  6  1  0\\n  6  7  2  0\\n  7  8  1  0\\n  8  9  2  0\\n  9 10  1  0\\n 10 11  2  0\\n 11  2  1  0\\n 10  5  1  0\\nM  END\\n\",\"sdf\");\n\tviewer_16507313240313115.addModel(\"\\n     RDKit          3D\\n\\n 11 12  0  0  0  0  0  0  0  0999 V2000\\n    2.1248   -2.7687    9.5515 O   0  0  0  0  0  0  0  0  0  0  0  0\\n    2.3364   -2.8773   10.7843 C   0  0  0  0  0  0  0  0  0  0  0  0\\n    2.1932   -1.7520   11.5652 C   0  0  0  0  0  0  0  0  0  0  0  0\\n    2.4268   -1.8794   12.9144 C   0  0  0  0  0  0  0  0  0  0  0  0\\n    2.7847   -3.0381   13.5022 N   0  0  0  0  0  0  0  0  0  0  0  0\\n    3.0008   -3.1025   14.8328 C   0  0  0  0  0  0  0  0  0  0  0  0\\n    3.3585   -4.2420   15.4503 N   0  0  0  0  0  0  0  0  0  0  0  0\\n    3.5191   -5.3955   14.7415 C   0  0  0  0  0  0  0  0  0  0  0  0\\n    3.2946   -5.3132   13.3833 C   0  0  0  0  0  0  0  0  0  0  0  0\\n    2.9279   -4.1493   12.7439 C   0  0  0  0  0  0  0  0  0  0  0  0\\n    2.7032   -4.0672   11.3840 C   0  0  0  0  0  0  0  0  0  0  0  0\\n  1  2  2  0\\n  2  3  1  0\\n  3  4  2  0\\n  4  5  1  0\\n  5  6  1  0\\n  6  7  2  0\\n  7  8  1  0\\n  8  9  2  0\\n  9 10  1  0\\n 10 11  2  0\\n 11  2  1  0\\n 10  5  1  0\\nM  END\\n\",\"sdf\");\n\tviewer_16507313240313115.addModel(\"\\n     RDKit          3D\\n\\n 24 26  0  0  0  0  0  0  0  0999 V2000\\n    3.3590    6.0150   13.0690 O   0  0  0  0  0  0  0  0  0  0  0  0\\n    3.4800    6.2060   11.6760 C   0  0  0  0  0  0  0  0  0  0  0  0\\n    3.2320    4.7640   13.6200 C   0  0  0  0  0  0  0  0  0  0  0  0\\n    3.2490    4.6200   15.0170 C   0  0  0  0  0  0  0  0  0  0  0  0\\n    3.1460    3.4130   15.6180 C   0  0  0  0  0  0  0  0  0  0  0  0\\n    2.8600   -0.1910   14.5760 N   0  0  0  0  0  0  0  0  0  0  0  0\\n    3.1640    4.4600   17.8150 C   0  0  0  0  0  0  0  0  0  0  0  0\\n    3.1130    3.2650   17.0000 O   0  0  0  0  0  0  0  0  0  0  0  0\\n    3.0390    2.2280   14.8720 C   0  0  0  0  0  0  0  0  0  0  0  0\\n    2.2700   -4.7190   10.2560 O   0  0  0  0  0  0  0  0  0  0  0  0\\n    2.9640    1.2430   12.6620 N   0  0  0  0  0  0  0  0  0  0  0  0\\n    2.9420    0.9190   15.4510 C   0  0  0  0  0  0  0  0  0  0  0  0\\n    2.8810    0.0150   13.2310 C   0  0  0  0  0  0  0  0  0  0  0  0\\n    2.9580    0.6740   16.6750 O   0  0  0  0  0  0  0  0  0  0  0  0\\n    2.7950   -1.1630   12.3520 C   0  0  0  0  0  0  0  0  0  0  0  0\\n    2.2000   -1.1600   11.0730 C   0  0  0  0  0  0  0  0  0  0  0  0\\n    2.0370   -2.3470   10.3720 C   0  0  0  0  0  0  0  0  0  0  0  0\\n    1.3240   -2.2540    9.0610 C   0  0  0  0  0  0  0  0  0  0  0  0\\n    2.5090   -3.5740   10.9120 C   0  0  0  0  0  0  0  0  0  0  0  0\\n    3.1500   -3.5880   12.1430 C   0  0  0  0  0  0  0  0  0  0  0  0\\n    3.6620   -4.8880   12.6860 C   0  0  0  0  0  0  0  0  0  0  0  0\\n    3.2880   -2.4170   12.8540 C   0  0  0  0  0  0  0  0  0  0  0  0\\n    3.0310    2.4050   13.4570 C   0  0  0  0  0  0  0  0  0  0  0  0\\n    3.1180    3.6350   12.8260 C   0  0  0  0  0  0  0  0  0  0  0  0\\n  1  2  1  0\\n  1  3  1  0\\n  3  4  2  0\\n  3 24  1  0\\n  4  5  1  0\\n  5  8  1  0\\n  5  9  2  0\\n  6 12  1  0\\n  6 13  1  0\\n  7  8  1  0\\n  9 12  1  0\\n  9 23  1  0\\n 10 19  1  0\\n 11 13  2  0\\n 11 23  1  0\\n 12 14  2  0\\n 13 15  1  0\\n 15 16  2  0\\n 15 22  1  0\\n 16 17  1  0\\n 17 18  1  0\\n 17 19  2  0\\n 19 20  1  0\\n 20 21  1  0\\n 20 22  2  0\\n 23 24  2  0\\nM  END\\n\",\"sdf\");\n\tviewer_16507313240313115.setStyle({\"model\": 0},{\"stick\": {\"colorscheme\": \"lightgreyCarbon\"}});\n\tviewer_16507313240313115.setStyle({\"model\": 1},{\"stick\": {\"colorscheme\": \"purpleCarbon\"}});\n\tviewer_16507313240313115.setStyle({\"model\": 2},{\"stick\": {\"colorscheme\": \"greyCarbon\"}});\n\tviewer_16507313240313115.zoomTo();\nviewer_16507313240313115.render();\n});\n</script>",
      "text/html": [
       "<div id=\"3dmolviewer_16507313240313115\"  style=\"position: relative; width: 640px; height: 480px\">\n",
       "        <p id=\"3dmolwarning_16507313240313115\" style=\"background-color:#ffcccc;color:black\">You appear to be running in JupyterLab (or JavaScript failed to load for some other reason).  You need to install the 3dmol extension: <br>\n",
       "        <tt>jupyter labextension install jupyterlab_3dmol</tt></p>\n",
       "        </div>\n",
       "<script>\n",
       "\n",
       "var loadScriptAsync = function(uri){\n",
       "  return new Promise((resolve, reject) => {\n",
       "    var tag = document.createElement('script');\n",
       "    tag.src = uri;\n",
       "    tag.async = true;\n",
       "    tag.onload = () => {\n",
       "      resolve();\n",
       "    };\n",
       "  var firstScriptTag = document.getElementsByTagName('script')[0];\n",
       "  firstScriptTag.parentNode.insertBefore(tag, firstScriptTag);\n",
       "});\n",
       "};\n",
       "\n",
       "if(typeof $3Dmolpromise === 'undefined') {\n",
       "$3Dmolpromise = null;\n",
       "  $3Dmolpromise = loadScriptAsync('https://3dmol.org/build/3Dmol.js');\n",
       "}\n",
       "\n",
       "var viewer_16507313240313115 = null;\n",
       "var warn = document.getElementById(\"3dmolwarning_16507313240313115\");\n",
       "if(warn) {\n",
       "    warn.parentNode.removeChild(warn);\n",
       "}\n",
       "$3Dmolpromise.then(function() {\n",
       "viewer_16507313240313115 = $3Dmol.createViewer($(\"#3dmolviewer_16507313240313115\"),{backgroundColor:\"white\"});\n",
       "viewer_16507313240313115.zoomTo();\n",
       "\tviewer_16507313240313115.addModel(\"\\n     RDKit          3D\\n\\n 11 12  0  0  0  0  0  0  0  0999 V2000\\n    3.0416   -1.7406   -0.3997 O   0  0  0  0  0  0  0  0  0  0  0  0\\n    2.0528   -0.9799   -0.2580 C   0  0  0  0  0  0  0  0  0  0  0  0\\n    2.2852    0.3762   -0.1988 C   0  0  0  0  0  0  0  0  0  0  0  0\\n    1.1969    1.2025   -0.0435 C   0  0  0  0  0  0  0  0  0  0  0  0\\n   -0.0706    0.7547    0.0524 N   0  0  0  0  0  0  0  0  0  0  0  0\\n   -1.0998    1.6144    0.2040 C   0  0  0  0  0  0  0  0  0  0  0  0\\n   -2.3754    1.2009    0.3026 N   0  0  0  0  0  0  0  0  0  0  0  0\\n   -2.6813   -0.1267    0.2522 C   0  0  0  0  0  0  0  0  0  0  0  0\\n   -1.6188   -0.9921    0.0970 C   0  0  0  0  0  0  0  0  0  0  0  0\\n   -0.3095   -0.5757   -0.0047 C   0  0  0  0  0  0  0  0  0  0  0  0\\n    0.7541   -1.4424   -0.1601 C   0  0  0  0  0  0  0  0  0  0  0  0\\n  1  2  2  0\\n  2  3  1  0\\n  3  4  2  0\\n  4  5  1  0\\n  5  6  1  0\\n  6  7  2  0\\n  7  8  1  0\\n  8  9  2  0\\n  9 10  1  0\\n 10 11  2  0\\n 11  2  1  0\\n 10  5  1  0\\nM  END\\n\",\"sdf\");\n",
       "\tviewer_16507313240313115.addModel(\"\\n     RDKit          3D\\n\\n 11 12  0  0  0  0  0  0  0  0999 V2000\\n    2.1248   -2.7687    9.5515 O   0  0  0  0  0  0  0  0  0  0  0  0\\n    2.3364   -2.8773   10.7843 C   0  0  0  0  0  0  0  0  0  0  0  0\\n    2.1932   -1.7520   11.5652 C   0  0  0  0  0  0  0  0  0  0  0  0\\n    2.4268   -1.8794   12.9144 C   0  0  0  0  0  0  0  0  0  0  0  0\\n    2.7847   -3.0381   13.5022 N   0  0  0  0  0  0  0  0  0  0  0  0\\n    3.0008   -3.1025   14.8328 C   0  0  0  0  0  0  0  0  0  0  0  0\\n    3.3585   -4.2420   15.4503 N   0  0  0  0  0  0  0  0  0  0  0  0\\n    3.5191   -5.3955   14.7415 C   0  0  0  0  0  0  0  0  0  0  0  0\\n    3.2946   -5.3132   13.3833 C   0  0  0  0  0  0  0  0  0  0  0  0\\n    2.9279   -4.1493   12.7439 C   0  0  0  0  0  0  0  0  0  0  0  0\\n    2.7032   -4.0672   11.3840 C   0  0  0  0  0  0  0  0  0  0  0  0\\n  1  2  2  0\\n  2  3  1  0\\n  3  4  2  0\\n  4  5  1  0\\n  5  6  1  0\\n  6  7  2  0\\n  7  8  1  0\\n  8  9  2  0\\n  9 10  1  0\\n 10 11  2  0\\n 11  2  1  0\\n 10  5  1  0\\nM  END\\n\",\"sdf\");\n",
       "\tviewer_16507313240313115.addModel(\"\\n     RDKit          3D\\n\\n 24 26  0  0  0  0  0  0  0  0999 V2000\\n    3.3590    6.0150   13.0690 O   0  0  0  0  0  0  0  0  0  0  0  0\\n    3.4800    6.2060   11.6760 C   0  0  0  0  0  0  0  0  0  0  0  0\\n    3.2320    4.7640   13.6200 C   0  0  0  0  0  0  0  0  0  0  0  0\\n    3.2490    4.6200   15.0170 C   0  0  0  0  0  0  0  0  0  0  0  0\\n    3.1460    3.4130   15.6180 C   0  0  0  0  0  0  0  0  0  0  0  0\\n    2.8600   -0.1910   14.5760 N   0  0  0  0  0  0  0  0  0  0  0  0\\n    3.1640    4.4600   17.8150 C   0  0  0  0  0  0  0  0  0  0  0  0\\n    3.1130    3.2650   17.0000 O   0  0  0  0  0  0  0  0  0  0  0  0\\n    3.0390    2.2280   14.8720 C   0  0  0  0  0  0  0  0  0  0  0  0\\n    2.2700   -4.7190   10.2560 O   0  0  0  0  0  0  0  0  0  0  0  0\\n    2.9640    1.2430   12.6620 N   0  0  0  0  0  0  0  0  0  0  0  0\\n    2.9420    0.9190   15.4510 C   0  0  0  0  0  0  0  0  0  0  0  0\\n    2.8810    0.0150   13.2310 C   0  0  0  0  0  0  0  0  0  0  0  0\\n    2.9580    0.6740   16.6750 O   0  0  0  0  0  0  0  0  0  0  0  0\\n    2.7950   -1.1630   12.3520 C   0  0  0  0  0  0  0  0  0  0  0  0\\n    2.2000   -1.1600   11.0730 C   0  0  0  0  0  0  0  0  0  0  0  0\\n    2.0370   -2.3470   10.3720 C   0  0  0  0  0  0  0  0  0  0  0  0\\n    1.3240   -2.2540    9.0610 C   0  0  0  0  0  0  0  0  0  0  0  0\\n    2.5090   -3.5740   10.9120 C   0  0  0  0  0  0  0  0  0  0  0  0\\n    3.1500   -3.5880   12.1430 C   0  0  0  0  0  0  0  0  0  0  0  0\\n    3.6620   -4.8880   12.6860 C   0  0  0  0  0  0  0  0  0  0  0  0\\n    3.2880   -2.4170   12.8540 C   0  0  0  0  0  0  0  0  0  0  0  0\\n    3.0310    2.4050   13.4570 C   0  0  0  0  0  0  0  0  0  0  0  0\\n    3.1180    3.6350   12.8260 C   0  0  0  0  0  0  0  0  0  0  0  0\\n  1  2  1  0\\n  1  3  1  0\\n  3  4  2  0\\n  3 24  1  0\\n  4  5  1  0\\n  5  8  1  0\\n  5  9  2  0\\n  6 12  1  0\\n  6 13  1  0\\n  7  8  1  0\\n  9 12  1  0\\n  9 23  1  0\\n 10 19  1  0\\n 11 13  2  0\\n 11 23  1  0\\n 12 14  2  0\\n 13 15  1  0\\n 15 16  2  0\\n 15 22  1  0\\n 16 17  1  0\\n 17 18  1  0\\n 17 19  2  0\\n 19 20  1  0\\n 20 21  1  0\\n 20 22  2  0\\n 23 24  2  0\\nM  END\\n\",\"sdf\");\n",
       "\tviewer_16507313240313115.setStyle({\"model\": 0},{\"stick\": {\"colorscheme\": \"lightgreyCarbon\"}});\n",
       "\tviewer_16507313240313115.setStyle({\"model\": 1},{\"stick\": {\"colorscheme\": \"purpleCarbon\"}});\n",
       "\tviewer_16507313240313115.setStyle({\"model\": 2},{\"stick\": {\"colorscheme\": \"greyCarbon\"}});\n",
       "\tviewer_16507313240313115.zoomTo();\n",
       "viewer_16507313240313115.render();\n",
       "});\n",
       "</script>"
      ]
     },
     "metadata": {},
     "output_type": "display_data"
    },
    {
     "data": {
      "text/plain": [
       "<py3Dmol.view at 0x7fac8730d2e0>"
      ]
     },
     "metadata": {},
     "output_type": "display_data"
    },
    {
     "name": "stdout",
     "output_type": "stream",
     "text": [
      "0.95\n"
     ]
    },
    {
     "data": {
      "application/3dmoljs_load.v0": "<div id=\"3dmolviewer_1650731324037418\"  style=\"position: relative; width: 640px; height: 480px\">\n        <p id=\"3dmolwarning_1650731324037418\" style=\"background-color:#ffcccc;color:black\">You appear to be running in JupyterLab (or JavaScript failed to load for some other reason).  You need to install the 3dmol extension: <br>\n        <tt>jupyter labextension install jupyterlab_3dmol</tt></p>\n        </div>\n<script>\n\nvar loadScriptAsync = function(uri){\n  return new Promise((resolve, reject) => {\n    var tag = document.createElement('script');\n    tag.src = uri;\n    tag.async = true;\n    tag.onload = () => {\n      resolve();\n    };\n  var firstScriptTag = document.getElementsByTagName('script')[0];\n  firstScriptTag.parentNode.insertBefore(tag, firstScriptTag);\n});\n};\n\nif(typeof $3Dmolpromise === 'undefined') {\n$3Dmolpromise = null;\n  $3Dmolpromise = loadScriptAsync('https://3dmol.org/build/3Dmol.js');\n}\n\nvar viewer_1650731324037418 = null;\nvar warn = document.getElementById(\"3dmolwarning_1650731324037418\");\nif(warn) {\n    warn.parentNode.removeChild(warn);\n}\n$3Dmolpromise.then(function() {\nviewer_1650731324037418 = $3Dmol.createViewer($(\"#3dmolviewer_1650731324037418\"),{backgroundColor:\"white\"});\nviewer_1650731324037418.zoomTo();\n\tviewer_1650731324037418.addModel(\"\\n     RDKit          3D\\n\\n  9 10  0  0  0  0  0  0  0  0999 V2000\\n   -1.0341   -1.0126    0.1653 C   0  0  0  0  0  0  0  0  0  0  0  0\\n   -1.7509    0.1125   -0.0047 N   0  0  0  0  0  0  0  0  0  0  0  0\\n   -0.9169    1.1553   -0.1733 C   0  0  0  0  0  0  0  0  0  0  0  0\\n    0.3872    0.6488   -0.1039 C   0  0  0  0  0  0  0  0  0  0  0  0\\n    1.6026    1.2004   -0.1987 N   0  0  0  0  0  0  0  0  0  0  0  0\\n    2.6774    0.4480   -0.0894 N   0  0  0  0  0  0  0  0  0  0  0  0\\n    2.6551   -0.8602    0.1146 N   0  0  0  0  0  0  0  0  0  0  0  0\\n    1.4533   -1.4068    0.2085 N   0  0  0  0  0  0  0  0  0  0  0  0\\n    0.3077   -0.7100    0.1084 C   0  0  0  0  0  0  0  0  0  0  0  0\\n  1  2  1  0\\n  2  3  1  0\\n  3  4  2  0\\n  4  5  1  0\\n  5  6  2  0\\n  6  7  1  0\\n  7  8  2  0\\n  8  9  1  0\\n  9  1  2  0\\n  9  4  1  0\\nM  END\\n\",\"sdf\");\n\tviewer_1650731324037418.addModel(\"\\n     RDKit          3D\\n\\n  9 10  0  0  0  0  0  0  0  0999 V2000\\n    2.5097    0.3668   14.1044 C   0  0  0  0  0  0  0  0  0  0  0  0\\n    2.7892    1.1539   13.0504 N   0  0  0  0  0  0  0  0  0  0  0  0\\n    2.8756    0.4010   11.9380 C   0  0  0  0  0  0  0  0  0  0  0  0\\n    2.6368   -0.9241   12.3239 C   0  0  0  0  0  0  0  0  0  0  0  0\\n    2.5934   -2.0883   11.6656 N   0  0  0  0  0  0  0  0  0  0  0  0\\n    2.3378   -3.2036   12.3167 N   0  0  0  0  0  0  0  0  0  0  0  0\\n    2.1115   -3.2722   13.6196 N   0  0  0  0  0  0  0  0  0  0  0  0\\n    2.1542   -2.1212   14.2717 N   0  0  0  0  0  0  0  0  0  0  0  0\\n    2.4082   -0.9396   13.6823 C   0  0  0  0  0  0  0  0  0  0  0  0\\n  1  2  1  0\\n  2  3  1  0\\n  3  4  2  0\\n  4  5  1  0\\n  5  6  2  0\\n  6  7  1  0\\n  7  8  2  0\\n  8  9  1  0\\n  9  1  2  0\\n  9  4  1  0\\nM  END\\n\",\"sdf\");\n\tviewer_1650731324037418.addModel(\"\\n     RDKit          3D\\n\\n 24 26  0  0  0  0  0  0  0  0999 V2000\\n    3.3590    6.0150   13.0690 O   0  0  0  0  0  0  0  0  0  0  0  0\\n    3.4800    6.2060   11.6760 C   0  0  0  0  0  0  0  0  0  0  0  0\\n    3.2320    4.7640   13.6200 C   0  0  0  0  0  0  0  0  0  0  0  0\\n    3.2490    4.6200   15.0170 C   0  0  0  0  0  0  0  0  0  0  0  0\\n    3.1460    3.4130   15.6180 C   0  0  0  0  0  0  0  0  0  0  0  0\\n    2.8600   -0.1910   14.5760 N   0  0  0  0  0  0  0  0  0  0  0  0\\n    3.1640    4.4600   17.8150 C   0  0  0  0  0  0  0  0  0  0  0  0\\n    3.1130    3.2650   17.0000 O   0  0  0  0  0  0  0  0  0  0  0  0\\n    3.0390    2.2280   14.8720 C   0  0  0  0  0  0  0  0  0  0  0  0\\n    2.2700   -4.7190   10.2560 O   0  0  0  0  0  0  0  0  0  0  0  0\\n    2.9640    1.2430   12.6620 N   0  0  0  0  0  0  0  0  0  0  0  0\\n    2.9420    0.9190   15.4510 C   0  0  0  0  0  0  0  0  0  0  0  0\\n    2.8810    0.0150   13.2310 C   0  0  0  0  0  0  0  0  0  0  0  0\\n    2.9580    0.6740   16.6750 O   0  0  0  0  0  0  0  0  0  0  0  0\\n    2.7950   -1.1630   12.3520 C   0  0  0  0  0  0  0  0  0  0  0  0\\n    2.2000   -1.1600   11.0730 C   0  0  0  0  0  0  0  0  0  0  0  0\\n    2.0370   -2.3470   10.3720 C   0  0  0  0  0  0  0  0  0  0  0  0\\n    1.3240   -2.2540    9.0610 C   0  0  0  0  0  0  0  0  0  0  0  0\\n    2.5090   -3.5740   10.9120 C   0  0  0  0  0  0  0  0  0  0  0  0\\n    3.1500   -3.5880   12.1430 C   0  0  0  0  0  0  0  0  0  0  0  0\\n    3.6620   -4.8880   12.6860 C   0  0  0  0  0  0  0  0  0  0  0  0\\n    3.2880   -2.4170   12.8540 C   0  0  0  0  0  0  0  0  0  0  0  0\\n    3.0310    2.4050   13.4570 C   0  0  0  0  0  0  0  0  0  0  0  0\\n    3.1180    3.6350   12.8260 C   0  0  0  0  0  0  0  0  0  0  0  0\\n  1  2  1  0\\n  1  3  1  0\\n  3  4  2  0\\n  3 24  1  0\\n  4  5  1  0\\n  5  8  1  0\\n  5  9  2  0\\n  6 12  1  0\\n  6 13  1  0\\n  7  8  1  0\\n  9 12  1  0\\n  9 23  1  0\\n 10 19  1  0\\n 11 13  2  0\\n 11 23  1  0\\n 12 14  2  0\\n 13 15  1  0\\n 15 16  2  0\\n 15 22  1  0\\n 16 17  1  0\\n 17 18  1  0\\n 17 19  2  0\\n 19 20  1  0\\n 20 21  1  0\\n 20 22  2  0\\n 23 24  2  0\\nM  END\\n\",\"sdf\");\n\tviewer_1650731324037418.setStyle({\"model\": 0},{\"stick\": {\"colorscheme\": \"lightgreyCarbon\"}});\n\tviewer_1650731324037418.setStyle({\"model\": 1},{\"stick\": {\"colorscheme\": \"purpleCarbon\"}});\n\tviewer_1650731324037418.setStyle({\"model\": 2},{\"stick\": {\"colorscheme\": \"greyCarbon\"}});\n\tviewer_1650731324037418.zoomTo();\nviewer_1650731324037418.render();\n});\n</script>",
      "text/html": [
       "<div id=\"3dmolviewer_1650731324037418\"  style=\"position: relative; width: 640px; height: 480px\">\n",
       "        <p id=\"3dmolwarning_1650731324037418\" style=\"background-color:#ffcccc;color:black\">You appear to be running in JupyterLab (or JavaScript failed to load for some other reason).  You need to install the 3dmol extension: <br>\n",
       "        <tt>jupyter labextension install jupyterlab_3dmol</tt></p>\n",
       "        </div>\n",
       "<script>\n",
       "\n",
       "var loadScriptAsync = function(uri){\n",
       "  return new Promise((resolve, reject) => {\n",
       "    var tag = document.createElement('script');\n",
       "    tag.src = uri;\n",
       "    tag.async = true;\n",
       "    tag.onload = () => {\n",
       "      resolve();\n",
       "    };\n",
       "  var firstScriptTag = document.getElementsByTagName('script')[0];\n",
       "  firstScriptTag.parentNode.insertBefore(tag, firstScriptTag);\n",
       "});\n",
       "};\n",
       "\n",
       "if(typeof $3Dmolpromise === 'undefined') {\n",
       "$3Dmolpromise = null;\n",
       "  $3Dmolpromise = loadScriptAsync('https://3dmol.org/build/3Dmol.js');\n",
       "}\n",
       "\n",
       "var viewer_1650731324037418 = null;\n",
       "var warn = document.getElementById(\"3dmolwarning_1650731324037418\");\n",
       "if(warn) {\n",
       "    warn.parentNode.removeChild(warn);\n",
       "}\n",
       "$3Dmolpromise.then(function() {\n",
       "viewer_1650731324037418 = $3Dmol.createViewer($(\"#3dmolviewer_1650731324037418\"),{backgroundColor:\"white\"});\n",
       "viewer_1650731324037418.zoomTo();\n",
       "\tviewer_1650731324037418.addModel(\"\\n     RDKit          3D\\n\\n  9 10  0  0  0  0  0  0  0  0999 V2000\\n   -1.0341   -1.0126    0.1653 C   0  0  0  0  0  0  0  0  0  0  0  0\\n   -1.7509    0.1125   -0.0047 N   0  0  0  0  0  0  0  0  0  0  0  0\\n   -0.9169    1.1553   -0.1733 C   0  0  0  0  0  0  0  0  0  0  0  0\\n    0.3872    0.6488   -0.1039 C   0  0  0  0  0  0  0  0  0  0  0  0\\n    1.6026    1.2004   -0.1987 N   0  0  0  0  0  0  0  0  0  0  0  0\\n    2.6774    0.4480   -0.0894 N   0  0  0  0  0  0  0  0  0  0  0  0\\n    2.6551   -0.8602    0.1146 N   0  0  0  0  0  0  0  0  0  0  0  0\\n    1.4533   -1.4068    0.2085 N   0  0  0  0  0  0  0  0  0  0  0  0\\n    0.3077   -0.7100    0.1084 C   0  0  0  0  0  0  0  0  0  0  0  0\\n  1  2  1  0\\n  2  3  1  0\\n  3  4  2  0\\n  4  5  1  0\\n  5  6  2  0\\n  6  7  1  0\\n  7  8  2  0\\n  8  9  1  0\\n  9  1  2  0\\n  9  4  1  0\\nM  END\\n\",\"sdf\");\n",
       "\tviewer_1650731324037418.addModel(\"\\n     RDKit          3D\\n\\n  9 10  0  0  0  0  0  0  0  0999 V2000\\n    2.5097    0.3668   14.1044 C   0  0  0  0  0  0  0  0  0  0  0  0\\n    2.7892    1.1539   13.0504 N   0  0  0  0  0  0  0  0  0  0  0  0\\n    2.8756    0.4010   11.9380 C   0  0  0  0  0  0  0  0  0  0  0  0\\n    2.6368   -0.9241   12.3239 C   0  0  0  0  0  0  0  0  0  0  0  0\\n    2.5934   -2.0883   11.6656 N   0  0  0  0  0  0  0  0  0  0  0  0\\n    2.3378   -3.2036   12.3167 N   0  0  0  0  0  0  0  0  0  0  0  0\\n    2.1115   -3.2722   13.6196 N   0  0  0  0  0  0  0  0  0  0  0  0\\n    2.1542   -2.1212   14.2717 N   0  0  0  0  0  0  0  0  0  0  0  0\\n    2.4082   -0.9396   13.6823 C   0  0  0  0  0  0  0  0  0  0  0  0\\n  1  2  1  0\\n  2  3  1  0\\n  3  4  2  0\\n  4  5  1  0\\n  5  6  2  0\\n  6  7  1  0\\n  7  8  2  0\\n  8  9  1  0\\n  9  1  2  0\\n  9  4  1  0\\nM  END\\n\",\"sdf\");\n",
       "\tviewer_1650731324037418.addModel(\"\\n     RDKit          3D\\n\\n 24 26  0  0  0  0  0  0  0  0999 V2000\\n    3.3590    6.0150   13.0690 O   0  0  0  0  0  0  0  0  0  0  0  0\\n    3.4800    6.2060   11.6760 C   0  0  0  0  0  0  0  0  0  0  0  0\\n    3.2320    4.7640   13.6200 C   0  0  0  0  0  0  0  0  0  0  0  0\\n    3.2490    4.6200   15.0170 C   0  0  0  0  0  0  0  0  0  0  0  0\\n    3.1460    3.4130   15.6180 C   0  0  0  0  0  0  0  0  0  0  0  0\\n    2.8600   -0.1910   14.5760 N   0  0  0  0  0  0  0  0  0  0  0  0\\n    3.1640    4.4600   17.8150 C   0  0  0  0  0  0  0  0  0  0  0  0\\n    3.1130    3.2650   17.0000 O   0  0  0  0  0  0  0  0  0  0  0  0\\n    3.0390    2.2280   14.8720 C   0  0  0  0  0  0  0  0  0  0  0  0\\n    2.2700   -4.7190   10.2560 O   0  0  0  0  0  0  0  0  0  0  0  0\\n    2.9640    1.2430   12.6620 N   0  0  0  0  0  0  0  0  0  0  0  0\\n    2.9420    0.9190   15.4510 C   0  0  0  0  0  0  0  0  0  0  0  0\\n    2.8810    0.0150   13.2310 C   0  0  0  0  0  0  0  0  0  0  0  0\\n    2.9580    0.6740   16.6750 O   0  0  0  0  0  0  0  0  0  0  0  0\\n    2.7950   -1.1630   12.3520 C   0  0  0  0  0  0  0  0  0  0  0  0\\n    2.2000   -1.1600   11.0730 C   0  0  0  0  0  0  0  0  0  0  0  0\\n    2.0370   -2.3470   10.3720 C   0  0  0  0  0  0  0  0  0  0  0  0\\n    1.3240   -2.2540    9.0610 C   0  0  0  0  0  0  0  0  0  0  0  0\\n    2.5090   -3.5740   10.9120 C   0  0  0  0  0  0  0  0  0  0  0  0\\n    3.1500   -3.5880   12.1430 C   0  0  0  0  0  0  0  0  0  0  0  0\\n    3.6620   -4.8880   12.6860 C   0  0  0  0  0  0  0  0  0  0  0  0\\n    3.2880   -2.4170   12.8540 C   0  0  0  0  0  0  0  0  0  0  0  0\\n    3.0310    2.4050   13.4570 C   0  0  0  0  0  0  0  0  0  0  0  0\\n    3.1180    3.6350   12.8260 C   0  0  0  0  0  0  0  0  0  0  0  0\\n  1  2  1  0\\n  1  3  1  0\\n  3  4  2  0\\n  3 24  1  0\\n  4  5  1  0\\n  5  8  1  0\\n  5  9  2  0\\n  6 12  1  0\\n  6 13  1  0\\n  7  8  1  0\\n  9 12  1  0\\n  9 23  1  0\\n 10 19  1  0\\n 11 13  2  0\\n 11 23  1  0\\n 12 14  2  0\\n 13 15  1  0\\n 15 16  2  0\\n 15 22  1  0\\n 16 17  1  0\\n 17 18  1  0\\n 17 19  2  0\\n 19 20  1  0\\n 20 21  1  0\\n 20 22  2  0\\n 23 24  2  0\\nM  END\\n\",\"sdf\");\n",
       "\tviewer_1650731324037418.setStyle({\"model\": 0},{\"stick\": {\"colorscheme\": \"lightgreyCarbon\"}});\n",
       "\tviewer_1650731324037418.setStyle({\"model\": 1},{\"stick\": {\"colorscheme\": \"purpleCarbon\"}});\n",
       "\tviewer_1650731324037418.setStyle({\"model\": 2},{\"stick\": {\"colorscheme\": \"greyCarbon\"}});\n",
       "\tviewer_1650731324037418.zoomTo();\n",
       "viewer_1650731324037418.render();\n",
       "});\n",
       "</script>"
      ]
     },
     "metadata": {},
     "output_type": "display_data"
    },
    {
     "data": {
      "text/plain": [
       "<py3Dmol.view at 0x7fac8730df70>"
      ]
     },
     "metadata": {},
     "output_type": "display_data"
    },
    {
     "name": "stdout",
     "output_type": "stream",
     "text": [
      "0.9498327759197325\n"
     ]
    },
    {
     "data": {
      "application/3dmoljs_load.v0": "<div id=\"3dmolviewer_16507313240430646\"  style=\"position: relative; width: 640px; height: 480px\">\n        <p id=\"3dmolwarning_16507313240430646\" style=\"background-color:#ffcccc;color:black\">You appear to be running in JupyterLab (or JavaScript failed to load for some other reason).  You need to install the 3dmol extension: <br>\n        <tt>jupyter labextension install jupyterlab_3dmol</tt></p>\n        </div>\n<script>\n\nvar loadScriptAsync = function(uri){\n  return new Promise((resolve, reject) => {\n    var tag = document.createElement('script');\n    tag.src = uri;\n    tag.async = true;\n    tag.onload = () => {\n      resolve();\n    };\n  var firstScriptTag = document.getElementsByTagName('script')[0];\n  firstScriptTag.parentNode.insertBefore(tag, firstScriptTag);\n});\n};\n\nif(typeof $3Dmolpromise === 'undefined') {\n$3Dmolpromise = null;\n  $3Dmolpromise = loadScriptAsync('https://3dmol.org/build/3Dmol.js');\n}\n\nvar viewer_16507313240430646 = null;\nvar warn = document.getElementById(\"3dmolwarning_16507313240430646\");\nif(warn) {\n    warn.parentNode.removeChild(warn);\n}\n$3Dmolpromise.then(function() {\nviewer_16507313240430646 = $3Dmol.createViewer($(\"#3dmolviewer_16507313240430646\"),{backgroundColor:\"white\"});\nviewer_16507313240430646.zoomTo();\n\tviewer_16507313240430646.addModel(\"\\n     RDKit          3D\\n\\n 10 11  0  0  0  0  0  0  0  0999 V2000\\n    3.2461   -0.1259    0.0173 O   0  0  0  0  0  0  0  0  0  0  0  0\\n    1.9963   -0.0118    0.0066 C   0  0  0  0  0  0  0  0  0  0  0  0\\n    1.1590   -1.0655    0.0701 N   0  0  0  0  0  0  0  0  0  0  0  0\\n   -0.1783   -0.8959    0.0556 C   0  0  0  0  0  0  0  0  0  0  0  0\\n   -1.2487   -1.7252    0.1043 N   0  0  0  0  0  0  0  0  0  0  0  0\\n   -2.3561   -1.0020    0.0559 N   0  0  0  0  0  0  0  0  0  0  0  0\\n   -2.0750    0.2873   -0.0240 N   0  0  0  0  0  0  0  0  0  0  0  0\\n   -0.7299    0.3713   -0.0254 C   0  0  0  0  0  0  0  0  0  0  0  0\\n    0.1531    1.4329   -0.0892 C   0  0  0  0  0  0  0  0  0  0  0  0\\n    1.4991    1.2353   -0.0730 N   0  0  0  0  0  0  0  0  0  0  0  0\\n  1  2  2  0\\n  2  3  1  0\\n  3  4  1  0\\n  4  5  1  0\\n  5  6  2  0\\n  6  7  1  0\\n  7  8  1  0\\n  8  9  1  0\\n  9 10  2  0\\n 10  2  1  0\\n  8  4  2  0\\nM  END\\n\",\"sdf\");\n\tviewer_16507313240430646.addModel(\"\\n     RDKit          3D\\n\\n 10 11  0  0  0  0  0  0  0  0999 V2000\\n    2.3095   -3.6048    9.5181 O   0  0  0  0  0  0  0  0  0  0  0  0\\n    2.3094   -3.1066   10.6701 C   0  0  0  0  0  0  0  0  0  0  0  0\\n    2.2630   -3.8480   11.7942 N   0  0  0  0  0  0  0  0  0  0  0  0\\n    2.2646   -3.2697   13.0119 C   0  0  0  0  0  0  0  0  0  0  0  0\\n    2.2264   -3.7249   14.2875 N   0  0  0  0  0  0  0  0  0  0  0  0\\n    2.2517   -2.6916   15.1142 N   0  0  0  0  0  0  0  0  0  0  0  0\\n    2.3055   -1.5527   14.4452 N   0  0  0  0  0  0  0  0  0  0  0  0\\n    2.3142   -1.8922   13.1409 C   0  0  0  0  0  0  0  0  0  0  0  0\\n    2.3612   -1.1576   11.9709 C   0  0  0  0  0  0  0  0  0  0  0  0\\n    2.3583   -1.7652   10.7536 N   0  0  0  0  0  0  0  0  0  0  0  0\\n  1  2  2  0\\n  2  3  1  0\\n  3  4  1  0\\n  4  5  1  0\\n  5  6  2  0\\n  6  7  1  0\\n  7  8  1  0\\n  8  9  1  0\\n  9 10  2  0\\n 10  2  1  0\\n  8  4  2  0\\nM  END\\n\",\"sdf\");\n\tviewer_16507313240430646.addModel(\"\\n     RDKit          3D\\n\\n 24 26  0  0  0  0  0  0  0  0999 V2000\\n    3.3590    6.0150   13.0690 O   0  0  0  0  0  0  0  0  0  0  0  0\\n    3.4800    6.2060   11.6760 C   0  0  0  0  0  0  0  0  0  0  0  0\\n    3.2320    4.7640   13.6200 C   0  0  0  0  0  0  0  0  0  0  0  0\\n    3.2490    4.6200   15.0170 C   0  0  0  0  0  0  0  0  0  0  0  0\\n    3.1460    3.4130   15.6180 C   0  0  0  0  0  0  0  0  0  0  0  0\\n    2.8600   -0.1910   14.5760 N   0  0  0  0  0  0  0  0  0  0  0  0\\n    3.1640    4.4600   17.8150 C   0  0  0  0  0  0  0  0  0  0  0  0\\n    3.1130    3.2650   17.0000 O   0  0  0  0  0  0  0  0  0  0  0  0\\n    3.0390    2.2280   14.8720 C   0  0  0  0  0  0  0  0  0  0  0  0\\n    2.2700   -4.7190   10.2560 O   0  0  0  0  0  0  0  0  0  0  0  0\\n    2.9640    1.2430   12.6620 N   0  0  0  0  0  0  0  0  0  0  0  0\\n    2.9420    0.9190   15.4510 C   0  0  0  0  0  0  0  0  0  0  0  0\\n    2.8810    0.0150   13.2310 C   0  0  0  0  0  0  0  0  0  0  0  0\\n    2.9580    0.6740   16.6750 O   0  0  0  0  0  0  0  0  0  0  0  0\\n    2.7950   -1.1630   12.3520 C   0  0  0  0  0  0  0  0  0  0  0  0\\n    2.2000   -1.1600   11.0730 C   0  0  0  0  0  0  0  0  0  0  0  0\\n    2.0370   -2.3470   10.3720 C   0  0  0  0  0  0  0  0  0  0  0  0\\n    1.3240   -2.2540    9.0610 C   0  0  0  0  0  0  0  0  0  0  0  0\\n    2.5090   -3.5740   10.9120 C   0  0  0  0  0  0  0  0  0  0  0  0\\n    3.1500   -3.5880   12.1430 C   0  0  0  0  0  0  0  0  0  0  0  0\\n    3.6620   -4.8880   12.6860 C   0  0  0  0  0  0  0  0  0  0  0  0\\n    3.2880   -2.4170   12.8540 C   0  0  0  0  0  0  0  0  0  0  0  0\\n    3.0310    2.4050   13.4570 C   0  0  0  0  0  0  0  0  0  0  0  0\\n    3.1180    3.6350   12.8260 C   0  0  0  0  0  0  0  0  0  0  0  0\\n  1  2  1  0\\n  1  3  1  0\\n  3  4  2  0\\n  3 24  1  0\\n  4  5  1  0\\n  5  8  1  0\\n  5  9  2  0\\n  6 12  1  0\\n  6 13  1  0\\n  7  8  1  0\\n  9 12  1  0\\n  9 23  1  0\\n 10 19  1  0\\n 11 13  2  0\\n 11 23  1  0\\n 12 14  2  0\\n 13 15  1  0\\n 15 16  2  0\\n 15 22  1  0\\n 16 17  1  0\\n 17 18  1  0\\n 17 19  2  0\\n 19 20  1  0\\n 20 21  1  0\\n 20 22  2  0\\n 23 24  2  0\\nM  END\\n\",\"sdf\");\n\tviewer_16507313240430646.setStyle({\"model\": 0},{\"stick\": {\"colorscheme\": \"lightgreyCarbon\"}});\n\tviewer_16507313240430646.setStyle({\"model\": 1},{\"stick\": {\"colorscheme\": \"purpleCarbon\"}});\n\tviewer_16507313240430646.setStyle({\"model\": 2},{\"stick\": {\"colorscheme\": \"greyCarbon\"}});\n\tviewer_16507313240430646.zoomTo();\nviewer_16507313240430646.render();\n});\n</script>",
      "text/html": [
       "<div id=\"3dmolviewer_16507313240430646\"  style=\"position: relative; width: 640px; height: 480px\">\n",
       "        <p id=\"3dmolwarning_16507313240430646\" style=\"background-color:#ffcccc;color:black\">You appear to be running in JupyterLab (or JavaScript failed to load for some other reason).  You need to install the 3dmol extension: <br>\n",
       "        <tt>jupyter labextension install jupyterlab_3dmol</tt></p>\n",
       "        </div>\n",
       "<script>\n",
       "\n",
       "var loadScriptAsync = function(uri){\n",
       "  return new Promise((resolve, reject) => {\n",
       "    var tag = document.createElement('script');\n",
       "    tag.src = uri;\n",
       "    tag.async = true;\n",
       "    tag.onload = () => {\n",
       "      resolve();\n",
       "    };\n",
       "  var firstScriptTag = document.getElementsByTagName('script')[0];\n",
       "  firstScriptTag.parentNode.insertBefore(tag, firstScriptTag);\n",
       "});\n",
       "};\n",
       "\n",
       "if(typeof $3Dmolpromise === 'undefined') {\n",
       "$3Dmolpromise = null;\n",
       "  $3Dmolpromise = loadScriptAsync('https://3dmol.org/build/3Dmol.js');\n",
       "}\n",
       "\n",
       "var viewer_16507313240430646 = null;\n",
       "var warn = document.getElementById(\"3dmolwarning_16507313240430646\");\n",
       "if(warn) {\n",
       "    warn.parentNode.removeChild(warn);\n",
       "}\n",
       "$3Dmolpromise.then(function() {\n",
       "viewer_16507313240430646 = $3Dmol.createViewer($(\"#3dmolviewer_16507313240430646\"),{backgroundColor:\"white\"});\n",
       "viewer_16507313240430646.zoomTo();\n",
       "\tviewer_16507313240430646.addModel(\"\\n     RDKit          3D\\n\\n 10 11  0  0  0  0  0  0  0  0999 V2000\\n    3.2461   -0.1259    0.0173 O   0  0  0  0  0  0  0  0  0  0  0  0\\n    1.9963   -0.0118    0.0066 C   0  0  0  0  0  0  0  0  0  0  0  0\\n    1.1590   -1.0655    0.0701 N   0  0  0  0  0  0  0  0  0  0  0  0\\n   -0.1783   -0.8959    0.0556 C   0  0  0  0  0  0  0  0  0  0  0  0\\n   -1.2487   -1.7252    0.1043 N   0  0  0  0  0  0  0  0  0  0  0  0\\n   -2.3561   -1.0020    0.0559 N   0  0  0  0  0  0  0  0  0  0  0  0\\n   -2.0750    0.2873   -0.0240 N   0  0  0  0  0  0  0  0  0  0  0  0\\n   -0.7299    0.3713   -0.0254 C   0  0  0  0  0  0  0  0  0  0  0  0\\n    0.1531    1.4329   -0.0892 C   0  0  0  0  0  0  0  0  0  0  0  0\\n    1.4991    1.2353   -0.0730 N   0  0  0  0  0  0  0  0  0  0  0  0\\n  1  2  2  0\\n  2  3  1  0\\n  3  4  1  0\\n  4  5  1  0\\n  5  6  2  0\\n  6  7  1  0\\n  7  8  1  0\\n  8  9  1  0\\n  9 10  2  0\\n 10  2  1  0\\n  8  4  2  0\\nM  END\\n\",\"sdf\");\n",
       "\tviewer_16507313240430646.addModel(\"\\n     RDKit          3D\\n\\n 10 11  0  0  0  0  0  0  0  0999 V2000\\n    2.3095   -3.6048    9.5181 O   0  0  0  0  0  0  0  0  0  0  0  0\\n    2.3094   -3.1066   10.6701 C   0  0  0  0  0  0  0  0  0  0  0  0\\n    2.2630   -3.8480   11.7942 N   0  0  0  0  0  0  0  0  0  0  0  0\\n    2.2646   -3.2697   13.0119 C   0  0  0  0  0  0  0  0  0  0  0  0\\n    2.2264   -3.7249   14.2875 N   0  0  0  0  0  0  0  0  0  0  0  0\\n    2.2517   -2.6916   15.1142 N   0  0  0  0  0  0  0  0  0  0  0  0\\n    2.3055   -1.5527   14.4452 N   0  0  0  0  0  0  0  0  0  0  0  0\\n    2.3142   -1.8922   13.1409 C   0  0  0  0  0  0  0  0  0  0  0  0\\n    2.3612   -1.1576   11.9709 C   0  0  0  0  0  0  0  0  0  0  0  0\\n    2.3583   -1.7652   10.7536 N   0  0  0  0  0  0  0  0  0  0  0  0\\n  1  2  2  0\\n  2  3  1  0\\n  3  4  1  0\\n  4  5  1  0\\n  5  6  2  0\\n  6  7  1  0\\n  7  8  1  0\\n  8  9  1  0\\n  9 10  2  0\\n 10  2  1  0\\n  8  4  2  0\\nM  END\\n\",\"sdf\");\n",
       "\tviewer_16507313240430646.addModel(\"\\n     RDKit          3D\\n\\n 24 26  0  0  0  0  0  0  0  0999 V2000\\n    3.3590    6.0150   13.0690 O   0  0  0  0  0  0  0  0  0  0  0  0\\n    3.4800    6.2060   11.6760 C   0  0  0  0  0  0  0  0  0  0  0  0\\n    3.2320    4.7640   13.6200 C   0  0  0  0  0  0  0  0  0  0  0  0\\n    3.2490    4.6200   15.0170 C   0  0  0  0  0  0  0  0  0  0  0  0\\n    3.1460    3.4130   15.6180 C   0  0  0  0  0  0  0  0  0  0  0  0\\n    2.8600   -0.1910   14.5760 N   0  0  0  0  0  0  0  0  0  0  0  0\\n    3.1640    4.4600   17.8150 C   0  0  0  0  0  0  0  0  0  0  0  0\\n    3.1130    3.2650   17.0000 O   0  0  0  0  0  0  0  0  0  0  0  0\\n    3.0390    2.2280   14.8720 C   0  0  0  0  0  0  0  0  0  0  0  0\\n    2.2700   -4.7190   10.2560 O   0  0  0  0  0  0  0  0  0  0  0  0\\n    2.9640    1.2430   12.6620 N   0  0  0  0  0  0  0  0  0  0  0  0\\n    2.9420    0.9190   15.4510 C   0  0  0  0  0  0  0  0  0  0  0  0\\n    2.8810    0.0150   13.2310 C   0  0  0  0  0  0  0  0  0  0  0  0\\n    2.9580    0.6740   16.6750 O   0  0  0  0  0  0  0  0  0  0  0  0\\n    2.7950   -1.1630   12.3520 C   0  0  0  0  0  0  0  0  0  0  0  0\\n    2.2000   -1.1600   11.0730 C   0  0  0  0  0  0  0  0  0  0  0  0\\n    2.0370   -2.3470   10.3720 C   0  0  0  0  0  0  0  0  0  0  0  0\\n    1.3240   -2.2540    9.0610 C   0  0  0  0  0  0  0  0  0  0  0  0\\n    2.5090   -3.5740   10.9120 C   0  0  0  0  0  0  0  0  0  0  0  0\\n    3.1500   -3.5880   12.1430 C   0  0  0  0  0  0  0  0  0  0  0  0\\n    3.6620   -4.8880   12.6860 C   0  0  0  0  0  0  0  0  0  0  0  0\\n    3.2880   -2.4170   12.8540 C   0  0  0  0  0  0  0  0  0  0  0  0\\n    3.0310    2.4050   13.4570 C   0  0  0  0  0  0  0  0  0  0  0  0\\n    3.1180    3.6350   12.8260 C   0  0  0  0  0  0  0  0  0  0  0  0\\n  1  2  1  0\\n  1  3  1  0\\n  3  4  2  0\\n  3 24  1  0\\n  4  5  1  0\\n  5  8  1  0\\n  5  9  2  0\\n  6 12  1  0\\n  6 13  1  0\\n  7  8  1  0\\n  9 12  1  0\\n  9 23  1  0\\n 10 19  1  0\\n 11 13  2  0\\n 11 23  1  0\\n 12 14  2  0\\n 13 15  1  0\\n 15 16  2  0\\n 15 22  1  0\\n 16 17  1  0\\n 17 18  1  0\\n 17 19  2  0\\n 19 20  1  0\\n 20 21  1  0\\n 20 22  2  0\\n 23 24  2  0\\nM  END\\n\",\"sdf\");\n",
       "\tviewer_16507313240430646.setStyle({\"model\": 0},{\"stick\": {\"colorscheme\": \"lightgreyCarbon\"}});\n",
       "\tviewer_16507313240430646.setStyle({\"model\": 1},{\"stick\": {\"colorscheme\": \"purpleCarbon\"}});\n",
       "\tviewer_16507313240430646.setStyle({\"model\": 2},{\"stick\": {\"colorscheme\": \"greyCarbon\"}});\n",
       "\tviewer_16507313240430646.zoomTo();\n",
       "viewer_16507313240430646.render();\n",
       "});\n",
       "</script>"
      ]
     },
     "metadata": {},
     "output_type": "display_data"
    },
    {
     "data": {
      "text/plain": [
       "<py3Dmol.view at 0x7fac8730df40>"
      ]
     },
     "metadata": {},
     "output_type": "display_data"
    },
    {
     "name": "stdout",
     "output_type": "stream",
     "text": [
      "0.9491525423728814\n"
     ]
    },
    {
     "data": {
      "application/3dmoljs_load.v0": "<div id=\"3dmolviewer_16507313240493565\"  style=\"position: relative; width: 640px; height: 480px\">\n        <p id=\"3dmolwarning_16507313240493565\" style=\"background-color:#ffcccc;color:black\">You appear to be running in JupyterLab (or JavaScript failed to load for some other reason).  You need to install the 3dmol extension: <br>\n        <tt>jupyter labextension install jupyterlab_3dmol</tt></p>\n        </div>\n<script>\n\nvar loadScriptAsync = function(uri){\n  return new Promise((resolve, reject) => {\n    var tag = document.createElement('script');\n    tag.src = uri;\n    tag.async = true;\n    tag.onload = () => {\n      resolve();\n    };\n  var firstScriptTag = document.getElementsByTagName('script')[0];\n  firstScriptTag.parentNode.insertBefore(tag, firstScriptTag);\n});\n};\n\nif(typeof $3Dmolpromise === 'undefined') {\n$3Dmolpromise = null;\n  $3Dmolpromise = loadScriptAsync('https://3dmol.org/build/3Dmol.js');\n}\n\nvar viewer_16507313240493565 = null;\nvar warn = document.getElementById(\"3dmolwarning_16507313240493565\");\nif(warn) {\n    warn.parentNode.removeChild(warn);\n}\n$3Dmolpromise.then(function() {\nviewer_16507313240493565 = $3Dmol.createViewer($(\"#3dmolviewer_16507313240493565\"),{backgroundColor:\"white\"});\nviewer_16507313240493565.zoomTo();\n\tviewer_16507313240493565.addModel(\"\\n     RDKit          3D\\n\\n  9 10  0  0  0  0  0  0  0  0999 V2000\\n    2.6038   -0.0416    0.1151 O   0  0  0  0  0  0  0  0  0  0  0  0\\n    1.7864   -1.0489    0.0082 N   0  0  0  0  0  0  0  0  0  0  0  0\\n    0.5164   -0.6061   -0.0186 C   0  0  0  0  0  0  0  0  0  0  0  0\\n   -0.6943   -1.2096   -0.1153 N   0  0  0  0  0  0  0  0  0  0  0  0\\n   -1.7859   -0.4291   -0.1107 C   0  0  0  0  0  0  0  0  0  0  0  0\\n   -1.7045    0.9126   -0.0140 N   0  0  0  0  0  0  0  0  0  0  0  0\\n   -0.5125    1.4883    0.0800 N   0  0  0  0  0  0  0  0  0  0  0  0\\n    0.6072    0.7663    0.0806 C   0  0  0  0  0  0  0  0  0  0  0  0\\n    1.9345    1.0730    0.1621 N   0  0  0  0  0  0  0  0  0  0  0  0\\n  1  2  1  0\\n  2  3  2  0\\n  3  4  1  0\\n  4  5  2  0\\n  5  6  1  0\\n  6  7  2  0\\n  7  8  1  0\\n  8  9  2  0\\n  9  1  1  0\\n  8  3  1  0\\nM  END\\n\",\"sdf\");\n\tviewer_16507313240493565.addModel(\"\\n     RDKit          3D\\n\\n  9 10  0  0  0  0  0  0  0  0999 V2000\\n    2.2517   -4.2873   10.0569 O   0  0  0  0  0  0  0  0  0  0  0  0\\n    2.4992   -4.6205   11.2906 N   0  0  0  0  0  0  0  0  0  0  0  0\\n    2.5476   -3.5185   12.0607 C   0  0  0  0  0  0  0  0  0  0  0  0\\n    2.7654   -3.2953   13.3806 N   0  0  0  0  0  0  0  0  0  0  0  0\\n    2.7399   -2.0256   13.8142 C   0  0  0  0  0  0  0  0  0  0  0  0\\n    2.5073   -0.9911   12.9824 N   0  0  0  0  0  0  0  0  0  0  0  0\\n    2.2960   -1.2258   11.6934 N   0  0  0  0  0  0  0  0  0  0  0  0\\n    2.3089   -2.4648   11.2038 C   0  0  0  0  0  0  0  0  0  0  0  0\\n    2.1296   -2.9958    9.9595 N   0  0  0  0  0  0  0  0  0  0  0  0\\n  1  2  1  0\\n  2  3  2  0\\n  3  4  1  0\\n  4  5  2  0\\n  5  6  1  0\\n  6  7  2  0\\n  7  8  1  0\\n  8  9  2  0\\n  9  1  1  0\\n  8  3  1  0\\nM  END\\n\",\"sdf\");\n\tviewer_16507313240493565.addModel(\"\\n     RDKit          3D\\n\\n 24 26  0  0  0  0  0  0  0  0999 V2000\\n    3.3590    6.0150   13.0690 O   0  0  0  0  0  0  0  0  0  0  0  0\\n    3.4800    6.2060   11.6760 C   0  0  0  0  0  0  0  0  0  0  0  0\\n    3.2320    4.7640   13.6200 C   0  0  0  0  0  0  0  0  0  0  0  0\\n    3.2490    4.6200   15.0170 C   0  0  0  0  0  0  0  0  0  0  0  0\\n    3.1460    3.4130   15.6180 C   0  0  0  0  0  0  0  0  0  0  0  0\\n    2.8600   -0.1910   14.5760 N   0  0  0  0  0  0  0  0  0  0  0  0\\n    3.1640    4.4600   17.8150 C   0  0  0  0  0  0  0  0  0  0  0  0\\n    3.1130    3.2650   17.0000 O   0  0  0  0  0  0  0  0  0  0  0  0\\n    3.0390    2.2280   14.8720 C   0  0  0  0  0  0  0  0  0  0  0  0\\n    2.2700   -4.7190   10.2560 O   0  0  0  0  0  0  0  0  0  0  0  0\\n    2.9640    1.2430   12.6620 N   0  0  0  0  0  0  0  0  0  0  0  0\\n    2.9420    0.9190   15.4510 C   0  0  0  0  0  0  0  0  0  0  0  0\\n    2.8810    0.0150   13.2310 C   0  0  0  0  0  0  0  0  0  0  0  0\\n    2.9580    0.6740   16.6750 O   0  0  0  0  0  0  0  0  0  0  0  0\\n    2.7950   -1.1630   12.3520 C   0  0  0  0  0  0  0  0  0  0  0  0\\n    2.2000   -1.1600   11.0730 C   0  0  0  0  0  0  0  0  0  0  0  0\\n    2.0370   -2.3470   10.3720 C   0  0  0  0  0  0  0  0  0  0  0  0\\n    1.3240   -2.2540    9.0610 C   0  0  0  0  0  0  0  0  0  0  0  0\\n    2.5090   -3.5740   10.9120 C   0  0  0  0  0  0  0  0  0  0  0  0\\n    3.1500   -3.5880   12.1430 C   0  0  0  0  0  0  0  0  0  0  0  0\\n    3.6620   -4.8880   12.6860 C   0  0  0  0  0  0  0  0  0  0  0  0\\n    3.2880   -2.4170   12.8540 C   0  0  0  0  0  0  0  0  0  0  0  0\\n    3.0310    2.4050   13.4570 C   0  0  0  0  0  0  0  0  0  0  0  0\\n    3.1180    3.6350   12.8260 C   0  0  0  0  0  0  0  0  0  0  0  0\\n  1  2  1  0\\n  1  3  1  0\\n  3  4  2  0\\n  3 24  1  0\\n  4  5  1  0\\n  5  8  1  0\\n  5  9  2  0\\n  6 12  1  0\\n  6 13  1  0\\n  7  8  1  0\\n  9 12  1  0\\n  9 23  1  0\\n 10 19  1  0\\n 11 13  2  0\\n 11 23  1  0\\n 12 14  2  0\\n 13 15  1  0\\n 15 16  2  0\\n 15 22  1  0\\n 16 17  1  0\\n 17 18  1  0\\n 17 19  2  0\\n 19 20  1  0\\n 20 21  1  0\\n 20 22  2  0\\n 23 24  2  0\\nM  END\\n\",\"sdf\");\n\tviewer_16507313240493565.setStyle({\"model\": 0},{\"stick\": {\"colorscheme\": \"lightgreyCarbon\"}});\n\tviewer_16507313240493565.setStyle({\"model\": 1},{\"stick\": {\"colorscheme\": \"purpleCarbon\"}});\n\tviewer_16507313240493565.setStyle({\"model\": 2},{\"stick\": {\"colorscheme\": \"greyCarbon\"}});\n\tviewer_16507313240493565.zoomTo();\nviewer_16507313240493565.render();\n});\n</script>",
      "text/html": [
       "<div id=\"3dmolviewer_16507313240493565\"  style=\"position: relative; width: 640px; height: 480px\">\n",
       "        <p id=\"3dmolwarning_16507313240493565\" style=\"background-color:#ffcccc;color:black\">You appear to be running in JupyterLab (or JavaScript failed to load for some other reason).  You need to install the 3dmol extension: <br>\n",
       "        <tt>jupyter labextension install jupyterlab_3dmol</tt></p>\n",
       "        </div>\n",
       "<script>\n",
       "\n",
       "var loadScriptAsync = function(uri){\n",
       "  return new Promise((resolve, reject) => {\n",
       "    var tag = document.createElement('script');\n",
       "    tag.src = uri;\n",
       "    tag.async = true;\n",
       "    tag.onload = () => {\n",
       "      resolve();\n",
       "    };\n",
       "  var firstScriptTag = document.getElementsByTagName('script')[0];\n",
       "  firstScriptTag.parentNode.insertBefore(tag, firstScriptTag);\n",
       "});\n",
       "};\n",
       "\n",
       "if(typeof $3Dmolpromise === 'undefined') {\n",
       "$3Dmolpromise = null;\n",
       "  $3Dmolpromise = loadScriptAsync('https://3dmol.org/build/3Dmol.js');\n",
       "}\n",
       "\n",
       "var viewer_16507313240493565 = null;\n",
       "var warn = document.getElementById(\"3dmolwarning_16507313240493565\");\n",
       "if(warn) {\n",
       "    warn.parentNode.removeChild(warn);\n",
       "}\n",
       "$3Dmolpromise.then(function() {\n",
       "viewer_16507313240493565 = $3Dmol.createViewer($(\"#3dmolviewer_16507313240493565\"),{backgroundColor:\"white\"});\n",
       "viewer_16507313240493565.zoomTo();\n",
       "\tviewer_16507313240493565.addModel(\"\\n     RDKit          3D\\n\\n  9 10  0  0  0  0  0  0  0  0999 V2000\\n    2.6038   -0.0416    0.1151 O   0  0  0  0  0  0  0  0  0  0  0  0\\n    1.7864   -1.0489    0.0082 N   0  0  0  0  0  0  0  0  0  0  0  0\\n    0.5164   -0.6061   -0.0186 C   0  0  0  0  0  0  0  0  0  0  0  0\\n   -0.6943   -1.2096   -0.1153 N   0  0  0  0  0  0  0  0  0  0  0  0\\n   -1.7859   -0.4291   -0.1107 C   0  0  0  0  0  0  0  0  0  0  0  0\\n   -1.7045    0.9126   -0.0140 N   0  0  0  0  0  0  0  0  0  0  0  0\\n   -0.5125    1.4883    0.0800 N   0  0  0  0  0  0  0  0  0  0  0  0\\n    0.6072    0.7663    0.0806 C   0  0  0  0  0  0  0  0  0  0  0  0\\n    1.9345    1.0730    0.1621 N   0  0  0  0  0  0  0  0  0  0  0  0\\n  1  2  1  0\\n  2  3  2  0\\n  3  4  1  0\\n  4  5  2  0\\n  5  6  1  0\\n  6  7  2  0\\n  7  8  1  0\\n  8  9  2  0\\n  9  1  1  0\\n  8  3  1  0\\nM  END\\n\",\"sdf\");\n",
       "\tviewer_16507313240493565.addModel(\"\\n     RDKit          3D\\n\\n  9 10  0  0  0  0  0  0  0  0999 V2000\\n    2.2517   -4.2873   10.0569 O   0  0  0  0  0  0  0  0  0  0  0  0\\n    2.4992   -4.6205   11.2906 N   0  0  0  0  0  0  0  0  0  0  0  0\\n    2.5476   -3.5185   12.0607 C   0  0  0  0  0  0  0  0  0  0  0  0\\n    2.7654   -3.2953   13.3806 N   0  0  0  0  0  0  0  0  0  0  0  0\\n    2.7399   -2.0256   13.8142 C   0  0  0  0  0  0  0  0  0  0  0  0\\n    2.5073   -0.9911   12.9824 N   0  0  0  0  0  0  0  0  0  0  0  0\\n    2.2960   -1.2258   11.6934 N   0  0  0  0  0  0  0  0  0  0  0  0\\n    2.3089   -2.4648   11.2038 C   0  0  0  0  0  0  0  0  0  0  0  0\\n    2.1296   -2.9958    9.9595 N   0  0  0  0  0  0  0  0  0  0  0  0\\n  1  2  1  0\\n  2  3  2  0\\n  3  4  1  0\\n  4  5  2  0\\n  5  6  1  0\\n  6  7  2  0\\n  7  8  1  0\\n  8  9  2  0\\n  9  1  1  0\\n  8  3  1  0\\nM  END\\n\",\"sdf\");\n",
       "\tviewer_16507313240493565.addModel(\"\\n     RDKit          3D\\n\\n 24 26  0  0  0  0  0  0  0  0999 V2000\\n    3.3590    6.0150   13.0690 O   0  0  0  0  0  0  0  0  0  0  0  0\\n    3.4800    6.2060   11.6760 C   0  0  0  0  0  0  0  0  0  0  0  0\\n    3.2320    4.7640   13.6200 C   0  0  0  0  0  0  0  0  0  0  0  0\\n    3.2490    4.6200   15.0170 C   0  0  0  0  0  0  0  0  0  0  0  0\\n    3.1460    3.4130   15.6180 C   0  0  0  0  0  0  0  0  0  0  0  0\\n    2.8600   -0.1910   14.5760 N   0  0  0  0  0  0  0  0  0  0  0  0\\n    3.1640    4.4600   17.8150 C   0  0  0  0  0  0  0  0  0  0  0  0\\n    3.1130    3.2650   17.0000 O   0  0  0  0  0  0  0  0  0  0  0  0\\n    3.0390    2.2280   14.8720 C   0  0  0  0  0  0  0  0  0  0  0  0\\n    2.2700   -4.7190   10.2560 O   0  0  0  0  0  0  0  0  0  0  0  0\\n    2.9640    1.2430   12.6620 N   0  0  0  0  0  0  0  0  0  0  0  0\\n    2.9420    0.9190   15.4510 C   0  0  0  0  0  0  0  0  0  0  0  0\\n    2.8810    0.0150   13.2310 C   0  0  0  0  0  0  0  0  0  0  0  0\\n    2.9580    0.6740   16.6750 O   0  0  0  0  0  0  0  0  0  0  0  0\\n    2.7950   -1.1630   12.3520 C   0  0  0  0  0  0  0  0  0  0  0  0\\n    2.2000   -1.1600   11.0730 C   0  0  0  0  0  0  0  0  0  0  0  0\\n    2.0370   -2.3470   10.3720 C   0  0  0  0  0  0  0  0  0  0  0  0\\n    1.3240   -2.2540    9.0610 C   0  0  0  0  0  0  0  0  0  0  0  0\\n    2.5090   -3.5740   10.9120 C   0  0  0  0  0  0  0  0  0  0  0  0\\n    3.1500   -3.5880   12.1430 C   0  0  0  0  0  0  0  0  0  0  0  0\\n    3.6620   -4.8880   12.6860 C   0  0  0  0  0  0  0  0  0  0  0  0\\n    3.2880   -2.4170   12.8540 C   0  0  0  0  0  0  0  0  0  0  0  0\\n    3.0310    2.4050   13.4570 C   0  0  0  0  0  0  0  0  0  0  0  0\\n    3.1180    3.6350   12.8260 C   0  0  0  0  0  0  0  0  0  0  0  0\\n  1  2  1  0\\n  1  3  1  0\\n  3  4  2  0\\n  3 24  1  0\\n  4  5  1  0\\n  5  8  1  0\\n  5  9  2  0\\n  6 12  1  0\\n  6 13  1  0\\n  7  8  1  0\\n  9 12  1  0\\n  9 23  1  0\\n 10 19  1  0\\n 11 13  2  0\\n 11 23  1  0\\n 12 14  2  0\\n 13 15  1  0\\n 15 16  2  0\\n 15 22  1  0\\n 16 17  1  0\\n 17 18  1  0\\n 17 19  2  0\\n 19 20  1  0\\n 20 21  1  0\\n 20 22  2  0\\n 23 24  2  0\\nM  END\\n\",\"sdf\");\n",
       "\tviewer_16507313240493565.setStyle({\"model\": 0},{\"stick\": {\"colorscheme\": \"lightgreyCarbon\"}});\n",
       "\tviewer_16507313240493565.setStyle({\"model\": 1},{\"stick\": {\"colorscheme\": \"purpleCarbon\"}});\n",
       "\tviewer_16507313240493565.setStyle({\"model\": 2},{\"stick\": {\"colorscheme\": \"greyCarbon\"}});\n",
       "\tviewer_16507313240493565.zoomTo();\n",
       "viewer_16507313240493565.render();\n",
       "});\n",
       "</script>"
      ]
     },
     "metadata": {},
     "output_type": "display_data"
    },
    {
     "data": {
      "text/plain": [
       "<py3Dmol.view at 0x7fac8730d2e0>"
      ]
     },
     "metadata": {},
     "output_type": "display_data"
    },
    {
     "name": "stdout",
     "output_type": "stream",
     "text": [
      "0.9491525423728814\n"
     ]
    },
    {
     "data": {
      "application/3dmoljs_load.v0": "<div id=\"3dmolviewer_16507313240548608\"  style=\"position: relative; width: 640px; height: 480px\">\n        <p id=\"3dmolwarning_16507313240548608\" style=\"background-color:#ffcccc;color:black\">You appear to be running in JupyterLab (or JavaScript failed to load for some other reason).  You need to install the 3dmol extension: <br>\n        <tt>jupyter labextension install jupyterlab_3dmol</tt></p>\n        </div>\n<script>\n\nvar loadScriptAsync = function(uri){\n  return new Promise((resolve, reject) => {\n    var tag = document.createElement('script');\n    tag.src = uri;\n    tag.async = true;\n    tag.onload = () => {\n      resolve();\n    };\n  var firstScriptTag = document.getElementsByTagName('script')[0];\n  firstScriptTag.parentNode.insertBefore(tag, firstScriptTag);\n});\n};\n\nif(typeof $3Dmolpromise === 'undefined') {\n$3Dmolpromise = null;\n  $3Dmolpromise = loadScriptAsync('https://3dmol.org/build/3Dmol.js');\n}\n\nvar viewer_16507313240548608 = null;\nvar warn = document.getElementById(\"3dmolwarning_16507313240548608\");\nif(warn) {\n    warn.parentNode.removeChild(warn);\n}\n$3Dmolpromise.then(function() {\nviewer_16507313240548608 = $3Dmol.createViewer($(\"#3dmolviewer_16507313240548608\"),{backgroundColor:\"white\"});\nviewer_16507313240548608.zoomTo();\n\tviewer_16507313240548608.addModel(\"\\n     RDKit          3D\\n\\n 11 12  0  0  0  0  0  0  0  0999 V2000\\n   -0.7851    2.8722    0.0689 O   0  0  0  0  0  0  0  0  0  0  0  0\\n   -0.9481    1.6166    0.0869 C   0  0  0  0  0  0  0  0  0  0  0  0\\n   -2.1558    1.0382    0.2031 N   0  0  0  0  0  0  0  0  0  0  0  0\\n   -2.3130   -0.3043    0.2207 C   0  0  0  0  0  0  0  0  0  0  0  0\\n   -1.2202   -1.0840    0.1183 N   0  0  0  0  0  0  0  0  0  0  0  0\\n    0.0046   -0.5370    0.0006 C   0  0  0  0  0  0  0  0  0  0  0  0\\n    1.1408   -1.3151   -0.1059 C   0  0  0  0  0  0  0  0  0  0  0  0\\n    2.3785   -0.7833   -0.2248 N   0  0  0  0  0  0  0  0  0  0  0  0\\n    2.4971    0.5591   -0.2388 C   0  0  0  0  0  0  0  0  0  0  0  0\\n    1.4212    1.3607   -0.1380 N   0  0  0  0  0  0  0  0  0  0  0  0\\n    0.1865    0.8323   -0.0194 C   0  0  0  0  0  0  0  0  0  0  0  0\\n  1  2  2  0\\n  2  3  1  0\\n  3  4  2  0\\n  4  5  1  0\\n  5  6  1  0\\n  6  7  2  0\\n  7  8  1  0\\n  8  9  2  0\\n  9 10  1  0\\n 10 11  2  0\\n 11  2  1  0\\n 11  6  1  0\\nM  END\\n\",\"sdf\");\n\tviewer_16507313240548608.addModel(\"\\n     RDKit          3D\\n\\n 11 12  0  0  0  0  0  0  0  0999 V2000\\n   -0.9500   -3.2863   16.9932 O   0  0  0  0  0  0  0  0  0  0  0  0\\n   -0.9845   -2.1645   16.4069 C   0  0  0  0  0  0  0  0  0  0  0  0\\n   -1.9821   -1.2804   16.5791 N   0  0  0  0  0  0  0  0  0  0  0  0\\n   -2.0042   -0.0865   15.9455 C   0  0  0  0  0  0  0  0  0  0  0  0\\n   -0.9907    0.2228   15.1149 N   0  0  0  0  0  0  0  0  0  0  0  0\\n    0.0244   -0.6402   14.9197 C   0  0  0  0  0  0  0  0  0  0  0  0\\n    1.0753   -0.3463   14.0729 C   0  0  0  0  0  0  0  0  0  0  0  0\\n    2.1029   -1.2005   13.8648 N   0  0  0  0  0  0  0  0  0  0  0  0\\n    2.0915   -2.3818   14.5135 C   0  0  0  0  0  0  0  0  0  0  0  0\\n    1.0908   -2.7152   15.3487 N   0  0  0  0  0  0  0  0  0  0  0  0\\n    0.0656   -1.8649   15.5575 C   0  0  0  0  0  0  0  0  0  0  0  0\\n  1  2  2  0\\n  2  3  1  0\\n  3  4  2  0\\n  4  5  1  0\\n  5  6  1  0\\n  6  7  2  0\\n  7  8  1  0\\n  8  9  2  0\\n  9 10  1  0\\n 10 11  2  0\\n 11  2  1  0\\n 11  6  1  0\\nM  END\\n\",\"sdf\");\n\tviewer_16507313240548608.addModel(\"\\n     RDKit          3D\\n\\n 24 26  0  0  0  0  0  0  0  0999 V2000\\n    3.3590    6.0150   13.0690 O   0  0  0  0  0  0  0  0  0  0  0  0\\n    3.4800    6.2060   11.6760 C   0  0  0  0  0  0  0  0  0  0  0  0\\n    3.2320    4.7640   13.6200 C   0  0  0  0  0  0  0  0  0  0  0  0\\n    3.2490    4.6200   15.0170 C   0  0  0  0  0  0  0  0  0  0  0  0\\n    3.1460    3.4130   15.6180 C   0  0  0  0  0  0  0  0  0  0  0  0\\n    2.8600   -0.1910   14.5760 N   0  0  0  0  0  0  0  0  0  0  0  0\\n    3.1640    4.4600   17.8150 C   0  0  0  0  0  0  0  0  0  0  0  0\\n    3.1130    3.2650   17.0000 O   0  0  0  0  0  0  0  0  0  0  0  0\\n    3.0390    2.2280   14.8720 C   0  0  0  0  0  0  0  0  0  0  0  0\\n    2.2700   -4.7190   10.2560 O   0  0  0  0  0  0  0  0  0  0  0  0\\n    2.9640    1.2430   12.6620 N   0  0  0  0  0  0  0  0  0  0  0  0\\n    2.9420    0.9190   15.4510 C   0  0  0  0  0  0  0  0  0  0  0  0\\n    2.8810    0.0150   13.2310 C   0  0  0  0  0  0  0  0  0  0  0  0\\n    2.9580    0.6740   16.6750 O   0  0  0  0  0  0  0  0  0  0  0  0\\n    2.7950   -1.1630   12.3520 C   0  0  0  0  0  0  0  0  0  0  0  0\\n    2.2000   -1.1600   11.0730 C   0  0  0  0  0  0  0  0  0  0  0  0\\n    2.0370   -2.3470   10.3720 C   0  0  0  0  0  0  0  0  0  0  0  0\\n    1.3240   -2.2540    9.0610 C   0  0  0  0  0  0  0  0  0  0  0  0\\n    2.5090   -3.5740   10.9120 C   0  0  0  0  0  0  0  0  0  0  0  0\\n    3.1500   -3.5880   12.1430 C   0  0  0  0  0  0  0  0  0  0  0  0\\n    3.6620   -4.8880   12.6860 C   0  0  0  0  0  0  0  0  0  0  0  0\\n    3.2880   -2.4170   12.8540 C   0  0  0  0  0  0  0  0  0  0  0  0\\n    3.0310    2.4050   13.4570 C   0  0  0  0  0  0  0  0  0  0  0  0\\n    3.1180    3.6350   12.8260 C   0  0  0  0  0  0  0  0  0  0  0  0\\n  1  2  1  0\\n  1  3  1  0\\n  3  4  2  0\\n  3 24  1  0\\n  4  5  1  0\\n  5  8  1  0\\n  5  9  2  0\\n  6 12  1  0\\n  6 13  1  0\\n  7  8  1  0\\n  9 12  1  0\\n  9 23  1  0\\n 10 19  1  0\\n 11 13  2  0\\n 11 23  1  0\\n 12 14  2  0\\n 13 15  1  0\\n 15 16  2  0\\n 15 22  1  0\\n 16 17  1  0\\n 17 18  1  0\\n 17 19  2  0\\n 19 20  1  0\\n 20 21  1  0\\n 20 22  2  0\\n 23 24  2  0\\nM  END\\n\",\"sdf\");\n\tviewer_16507313240548608.setStyle({\"model\": 0},{\"stick\": {\"colorscheme\": \"lightgreyCarbon\"}});\n\tviewer_16507313240548608.setStyle({\"model\": 1},{\"stick\": {\"colorscheme\": \"purpleCarbon\"}});\n\tviewer_16507313240548608.setStyle({\"model\": 2},{\"stick\": {\"colorscheme\": \"greyCarbon\"}});\n\tviewer_16507313240548608.zoomTo();\nviewer_16507313240548608.render();\n});\n</script>",
      "text/html": [
       "<div id=\"3dmolviewer_16507313240548608\"  style=\"position: relative; width: 640px; height: 480px\">\n",
       "        <p id=\"3dmolwarning_16507313240548608\" style=\"background-color:#ffcccc;color:black\">You appear to be running in JupyterLab (or JavaScript failed to load for some other reason).  You need to install the 3dmol extension: <br>\n",
       "        <tt>jupyter labextension install jupyterlab_3dmol</tt></p>\n",
       "        </div>\n",
       "<script>\n",
       "\n",
       "var loadScriptAsync = function(uri){\n",
       "  return new Promise((resolve, reject) => {\n",
       "    var tag = document.createElement('script');\n",
       "    tag.src = uri;\n",
       "    tag.async = true;\n",
       "    tag.onload = () => {\n",
       "      resolve();\n",
       "    };\n",
       "  var firstScriptTag = document.getElementsByTagName('script')[0];\n",
       "  firstScriptTag.parentNode.insertBefore(tag, firstScriptTag);\n",
       "});\n",
       "};\n",
       "\n",
       "if(typeof $3Dmolpromise === 'undefined') {\n",
       "$3Dmolpromise = null;\n",
       "  $3Dmolpromise = loadScriptAsync('https://3dmol.org/build/3Dmol.js');\n",
       "}\n",
       "\n",
       "var viewer_16507313240548608 = null;\n",
       "var warn = document.getElementById(\"3dmolwarning_16507313240548608\");\n",
       "if(warn) {\n",
       "    warn.parentNode.removeChild(warn);\n",
       "}\n",
       "$3Dmolpromise.then(function() {\n",
       "viewer_16507313240548608 = $3Dmol.createViewer($(\"#3dmolviewer_16507313240548608\"),{backgroundColor:\"white\"});\n",
       "viewer_16507313240548608.zoomTo();\n",
       "\tviewer_16507313240548608.addModel(\"\\n     RDKit          3D\\n\\n 11 12  0  0  0  0  0  0  0  0999 V2000\\n   -0.7851    2.8722    0.0689 O   0  0  0  0  0  0  0  0  0  0  0  0\\n   -0.9481    1.6166    0.0869 C   0  0  0  0  0  0  0  0  0  0  0  0\\n   -2.1558    1.0382    0.2031 N   0  0  0  0  0  0  0  0  0  0  0  0\\n   -2.3130   -0.3043    0.2207 C   0  0  0  0  0  0  0  0  0  0  0  0\\n   -1.2202   -1.0840    0.1183 N   0  0  0  0  0  0  0  0  0  0  0  0\\n    0.0046   -0.5370    0.0006 C   0  0  0  0  0  0  0  0  0  0  0  0\\n    1.1408   -1.3151   -0.1059 C   0  0  0  0  0  0  0  0  0  0  0  0\\n    2.3785   -0.7833   -0.2248 N   0  0  0  0  0  0  0  0  0  0  0  0\\n    2.4971    0.5591   -0.2388 C   0  0  0  0  0  0  0  0  0  0  0  0\\n    1.4212    1.3607   -0.1380 N   0  0  0  0  0  0  0  0  0  0  0  0\\n    0.1865    0.8323   -0.0194 C   0  0  0  0  0  0  0  0  0  0  0  0\\n  1  2  2  0\\n  2  3  1  0\\n  3  4  2  0\\n  4  5  1  0\\n  5  6  1  0\\n  6  7  2  0\\n  7  8  1  0\\n  8  9  2  0\\n  9 10  1  0\\n 10 11  2  0\\n 11  2  1  0\\n 11  6  1  0\\nM  END\\n\",\"sdf\");\n",
       "\tviewer_16507313240548608.addModel(\"\\n     RDKit          3D\\n\\n 11 12  0  0  0  0  0  0  0  0999 V2000\\n   -0.9500   -3.2863   16.9932 O   0  0  0  0  0  0  0  0  0  0  0  0\\n   -0.9845   -2.1645   16.4069 C   0  0  0  0  0  0  0  0  0  0  0  0\\n   -1.9821   -1.2804   16.5791 N   0  0  0  0  0  0  0  0  0  0  0  0\\n   -2.0042   -0.0865   15.9455 C   0  0  0  0  0  0  0  0  0  0  0  0\\n   -0.9907    0.2228   15.1149 N   0  0  0  0  0  0  0  0  0  0  0  0\\n    0.0244   -0.6402   14.9197 C   0  0  0  0  0  0  0  0  0  0  0  0\\n    1.0753   -0.3463   14.0729 C   0  0  0  0  0  0  0  0  0  0  0  0\\n    2.1029   -1.2005   13.8648 N   0  0  0  0  0  0  0  0  0  0  0  0\\n    2.0915   -2.3818   14.5135 C   0  0  0  0  0  0  0  0  0  0  0  0\\n    1.0908   -2.7152   15.3487 N   0  0  0  0  0  0  0  0  0  0  0  0\\n    0.0656   -1.8649   15.5575 C   0  0  0  0  0  0  0  0  0  0  0  0\\n  1  2  2  0\\n  2  3  1  0\\n  3  4  2  0\\n  4  5  1  0\\n  5  6  1  0\\n  6  7  2  0\\n  7  8  1  0\\n  8  9  2  0\\n  9 10  1  0\\n 10 11  2  0\\n 11  2  1  0\\n 11  6  1  0\\nM  END\\n\",\"sdf\");\n",
       "\tviewer_16507313240548608.addModel(\"\\n     RDKit          3D\\n\\n 24 26  0  0  0  0  0  0  0  0999 V2000\\n    3.3590    6.0150   13.0690 O   0  0  0  0  0  0  0  0  0  0  0  0\\n    3.4800    6.2060   11.6760 C   0  0  0  0  0  0  0  0  0  0  0  0\\n    3.2320    4.7640   13.6200 C   0  0  0  0  0  0  0  0  0  0  0  0\\n    3.2490    4.6200   15.0170 C   0  0  0  0  0  0  0  0  0  0  0  0\\n    3.1460    3.4130   15.6180 C   0  0  0  0  0  0  0  0  0  0  0  0\\n    2.8600   -0.1910   14.5760 N   0  0  0  0  0  0  0  0  0  0  0  0\\n    3.1640    4.4600   17.8150 C   0  0  0  0  0  0  0  0  0  0  0  0\\n    3.1130    3.2650   17.0000 O   0  0  0  0  0  0  0  0  0  0  0  0\\n    3.0390    2.2280   14.8720 C   0  0  0  0  0  0  0  0  0  0  0  0\\n    2.2700   -4.7190   10.2560 O   0  0  0  0  0  0  0  0  0  0  0  0\\n    2.9640    1.2430   12.6620 N   0  0  0  0  0  0  0  0  0  0  0  0\\n    2.9420    0.9190   15.4510 C   0  0  0  0  0  0  0  0  0  0  0  0\\n    2.8810    0.0150   13.2310 C   0  0  0  0  0  0  0  0  0  0  0  0\\n    2.9580    0.6740   16.6750 O   0  0  0  0  0  0  0  0  0  0  0  0\\n    2.7950   -1.1630   12.3520 C   0  0  0  0  0  0  0  0  0  0  0  0\\n    2.2000   -1.1600   11.0730 C   0  0  0  0  0  0  0  0  0  0  0  0\\n    2.0370   -2.3470   10.3720 C   0  0  0  0  0  0  0  0  0  0  0  0\\n    1.3240   -2.2540    9.0610 C   0  0  0  0  0  0  0  0  0  0  0  0\\n    2.5090   -3.5740   10.9120 C   0  0  0  0  0  0  0  0  0  0  0  0\\n    3.1500   -3.5880   12.1430 C   0  0  0  0  0  0  0  0  0  0  0  0\\n    3.6620   -4.8880   12.6860 C   0  0  0  0  0  0  0  0  0  0  0  0\\n    3.2880   -2.4170   12.8540 C   0  0  0  0  0  0  0  0  0  0  0  0\\n    3.0310    2.4050   13.4570 C   0  0  0  0  0  0  0  0  0  0  0  0\\n    3.1180    3.6350   12.8260 C   0  0  0  0  0  0  0  0  0  0  0  0\\n  1  2  1  0\\n  1  3  1  0\\n  3  4  2  0\\n  3 24  1  0\\n  4  5  1  0\\n  5  8  1  0\\n  5  9  2  0\\n  6 12  1  0\\n  6 13  1  0\\n  7  8  1  0\\n  9 12  1  0\\n  9 23  1  0\\n 10 19  1  0\\n 11 13  2  0\\n 11 23  1  0\\n 12 14  2  0\\n 13 15  1  0\\n 15 16  2  0\\n 15 22  1  0\\n 16 17  1  0\\n 17 18  1  0\\n 17 19  2  0\\n 19 20  1  0\\n 20 21  1  0\\n 20 22  2  0\\n 23 24  2  0\\nM  END\\n\",\"sdf\");\n",
       "\tviewer_16507313240548608.setStyle({\"model\": 0},{\"stick\": {\"colorscheme\": \"lightgreyCarbon\"}});\n",
       "\tviewer_16507313240548608.setStyle({\"model\": 1},{\"stick\": {\"colorscheme\": \"purpleCarbon\"}});\n",
       "\tviewer_16507313240548608.setStyle({\"model\": 2},{\"stick\": {\"colorscheme\": \"greyCarbon\"}});\n",
       "\tviewer_16507313240548608.zoomTo();\n",
       "viewer_16507313240548608.render();\n",
       "});\n",
       "</script>"
      ]
     },
     "metadata": {},
     "output_type": "display_data"
    },
    {
     "data": {
      "text/plain": [
       "<py3Dmol.view at 0x7fac8730df70>"
      ]
     },
     "metadata": {},
     "output_type": "display_data"
    },
    {
     "name": "stdout",
     "output_type": "stream",
     "text": [
      "0.9473684210526315\n"
     ]
    },
    {
     "data": {
      "application/3dmoljs_load.v0": "<div id=\"3dmolviewer_16507313240620723\"  style=\"position: relative; width: 640px; height: 480px\">\n        <p id=\"3dmolwarning_16507313240620723\" style=\"background-color:#ffcccc;color:black\">You appear to be running in JupyterLab (or JavaScript failed to load for some other reason).  You need to install the 3dmol extension: <br>\n        <tt>jupyter labextension install jupyterlab_3dmol</tt></p>\n        </div>\n<script>\n\nvar loadScriptAsync = function(uri){\n  return new Promise((resolve, reject) => {\n    var tag = document.createElement('script');\n    tag.src = uri;\n    tag.async = true;\n    tag.onload = () => {\n      resolve();\n    };\n  var firstScriptTag = document.getElementsByTagName('script')[0];\n  firstScriptTag.parentNode.insertBefore(tag, firstScriptTag);\n});\n};\n\nif(typeof $3Dmolpromise === 'undefined') {\n$3Dmolpromise = null;\n  $3Dmolpromise = loadScriptAsync('https://3dmol.org/build/3Dmol.js');\n}\n\nvar viewer_16507313240620723 = null;\nvar warn = document.getElementById(\"3dmolwarning_16507313240620723\");\nif(warn) {\n    warn.parentNode.removeChild(warn);\n}\n$3Dmolpromise.then(function() {\nviewer_16507313240620723 = $3Dmol.createViewer($(\"#3dmolviewer_16507313240620723\"),{backgroundColor:\"white\"});\nviewer_16507313240620723.zoomTo();\n\tviewer_16507313240620723.addModel(\"\\n     RDKit          3D\\n\\n 10 11  0  0  0  0  0  0  0  0999 V2000\\n    0.0772    2.3758    0.1275 O   0  0  0  0  0  0  0  0  0  0  0  0\\n    0.3791    1.1583    0.0706 C   0  0  0  0  0  0  0  0  0  0  0  0\\n    1.6876    0.8753    0.0880 N   0  0  0  0  0  0  0  0  0  0  0  0\\n    2.2003   -0.3620    0.0352 C   0  0  0  0  0  0  0  0  0  0  0  0\\n    1.2813   -1.3426   -0.0393 N   0  0  0  0  0  0  0  0  0  0  0  0\\n   -0.0545   -1.0669   -0.0578 C   0  0  0  0  0  0  0  0  0  0  0  0\\n   -1.4560   -2.0488   -0.1443 S   0  0  0  0  0  0  0  0  0  0  0  0\\n   -2.6006   -0.7941   -0.1063 N   0  0  0  0  0  0  0  0  0  0  0  0\\n   -1.8462    0.2899   -0.0303 C   0  0  0  0  0  0  0  0  0  0  0  0\\n   -0.5385    0.1566   -0.0050 N   0  0  0  0  0  0  0  0  0  0  0  0\\n  1  2  2  0\\n  2  3  1  0\\n  3  4  2  0\\n  4  5  1  0\\n  5  6  2  0\\n  6  7  1  0\\n  7  8  1  0\\n  8  9  2  0\\n  9 10  1  0\\n 10  2  1  0\\n 10  6  1  0\\nM  END\\n\",\"sdf\");\n\tviewer_16507313240620723.addModel(\"\\n     RDKit          3D\\n\\n 10 11  0  0  0  0  0  0  0  0999 V2000\\n    2.8856    0.2043   11.3038 O   0  0  0  0  0  0  0  0  0  0  0  0\\n    2.6339   -1.0021   11.5444 C   0  0  0  0  0  0  0  0  0  0  0  0\\n    2.5490   -1.8091   10.4794 N   0  0  0  0  0  0  0  0  0  0  0  0\\n    2.2888   -3.1226   10.5376 C   0  0  0  0  0  0  0  0  0  0  0  0\\n    2.1109   -3.6002   11.7834 N   0  0  0  0  0  0  0  0  0  0  0  0\\n    2.1950   -2.7881   12.8762 C   0  0  0  0  0  0  0  0  0  0  0  0\\n    2.0272   -3.0616   14.5593 S   0  0  0  0  0  0  0  0  0  0  0  0\\n    2.3043   -1.4639   15.0657 N   0  0  0  0  0  0  0  0  0  0  0  0\\n    2.5066   -0.8249   13.9253 C   0  0  0  0  0  0  0  0  0  0  0  0\\n    2.4518   -1.4989   12.7978 N   0  0  0  0  0  0  0  0  0  0  0  0\\n  1  2  2  0\\n  2  3  1  0\\n  3  4  2  0\\n  4  5  1  0\\n  5  6  2  0\\n  6  7  1  0\\n  7  8  1  0\\n  8  9  2  0\\n  9 10  1  0\\n 10  2  1  0\\n 10  6  1  0\\nM  END\\n\",\"sdf\");\n\tviewer_16507313240620723.addModel(\"\\n     RDKit          3D\\n\\n 24 26  0  0  0  0  0  0  0  0999 V2000\\n    3.3590    6.0150   13.0690 O   0  0  0  0  0  0  0  0  0  0  0  0\\n    3.4800    6.2060   11.6760 C   0  0  0  0  0  0  0  0  0  0  0  0\\n    3.2320    4.7640   13.6200 C   0  0  0  0  0  0  0  0  0  0  0  0\\n    3.2490    4.6200   15.0170 C   0  0  0  0  0  0  0  0  0  0  0  0\\n    3.1460    3.4130   15.6180 C   0  0  0  0  0  0  0  0  0  0  0  0\\n    2.8600   -0.1910   14.5760 N   0  0  0  0  0  0  0  0  0  0  0  0\\n    3.1640    4.4600   17.8150 C   0  0  0  0  0  0  0  0  0  0  0  0\\n    3.1130    3.2650   17.0000 O   0  0  0  0  0  0  0  0  0  0  0  0\\n    3.0390    2.2280   14.8720 C   0  0  0  0  0  0  0  0  0  0  0  0\\n    2.2700   -4.7190   10.2560 O   0  0  0  0  0  0  0  0  0  0  0  0\\n    2.9640    1.2430   12.6620 N   0  0  0  0  0  0  0  0  0  0  0  0\\n    2.9420    0.9190   15.4510 C   0  0  0  0  0  0  0  0  0  0  0  0\\n    2.8810    0.0150   13.2310 C   0  0  0  0  0  0  0  0  0  0  0  0\\n    2.9580    0.6740   16.6750 O   0  0  0  0  0  0  0  0  0  0  0  0\\n    2.7950   -1.1630   12.3520 C   0  0  0  0  0  0  0  0  0  0  0  0\\n    2.2000   -1.1600   11.0730 C   0  0  0  0  0  0  0  0  0  0  0  0\\n    2.0370   -2.3470   10.3720 C   0  0  0  0  0  0  0  0  0  0  0  0\\n    1.3240   -2.2540    9.0610 C   0  0  0  0  0  0  0  0  0  0  0  0\\n    2.5090   -3.5740   10.9120 C   0  0  0  0  0  0  0  0  0  0  0  0\\n    3.1500   -3.5880   12.1430 C   0  0  0  0  0  0  0  0  0  0  0  0\\n    3.6620   -4.8880   12.6860 C   0  0  0  0  0  0  0  0  0  0  0  0\\n    3.2880   -2.4170   12.8540 C   0  0  0  0  0  0  0  0  0  0  0  0\\n    3.0310    2.4050   13.4570 C   0  0  0  0  0  0  0  0  0  0  0  0\\n    3.1180    3.6350   12.8260 C   0  0  0  0  0  0  0  0  0  0  0  0\\n  1  2  1  0\\n  1  3  1  0\\n  3  4  2  0\\n  3 24  1  0\\n  4  5  1  0\\n  5  8  1  0\\n  5  9  2  0\\n  6 12  1  0\\n  6 13  1  0\\n  7  8  1  0\\n  9 12  1  0\\n  9 23  1  0\\n 10 19  1  0\\n 11 13  2  0\\n 11 23  1  0\\n 12 14  2  0\\n 13 15  1  0\\n 15 16  2  0\\n 15 22  1  0\\n 16 17  1  0\\n 17 18  1  0\\n 17 19  2  0\\n 19 20  1  0\\n 20 21  1  0\\n 20 22  2  0\\n 23 24  2  0\\nM  END\\n\",\"sdf\");\n\tviewer_16507313240620723.setStyle({\"model\": 0},{\"stick\": {\"colorscheme\": \"lightgreyCarbon\"}});\n\tviewer_16507313240620723.setStyle({\"model\": 1},{\"stick\": {\"colorscheme\": \"purpleCarbon\"}});\n\tviewer_16507313240620723.setStyle({\"model\": 2},{\"stick\": {\"colorscheme\": \"greyCarbon\"}});\n\tviewer_16507313240620723.zoomTo();\nviewer_16507313240620723.render();\n});\n</script>",
      "text/html": [
       "<div id=\"3dmolviewer_16507313240620723\"  style=\"position: relative; width: 640px; height: 480px\">\n",
       "        <p id=\"3dmolwarning_16507313240620723\" style=\"background-color:#ffcccc;color:black\">You appear to be running in JupyterLab (or JavaScript failed to load for some other reason).  You need to install the 3dmol extension: <br>\n",
       "        <tt>jupyter labextension install jupyterlab_3dmol</tt></p>\n",
       "        </div>\n",
       "<script>\n",
       "\n",
       "var loadScriptAsync = function(uri){\n",
       "  return new Promise((resolve, reject) => {\n",
       "    var tag = document.createElement('script');\n",
       "    tag.src = uri;\n",
       "    tag.async = true;\n",
       "    tag.onload = () => {\n",
       "      resolve();\n",
       "    };\n",
       "  var firstScriptTag = document.getElementsByTagName('script')[0];\n",
       "  firstScriptTag.parentNode.insertBefore(tag, firstScriptTag);\n",
       "});\n",
       "};\n",
       "\n",
       "if(typeof $3Dmolpromise === 'undefined') {\n",
       "$3Dmolpromise = null;\n",
       "  $3Dmolpromise = loadScriptAsync('https://3dmol.org/build/3Dmol.js');\n",
       "}\n",
       "\n",
       "var viewer_16507313240620723 = null;\n",
       "var warn = document.getElementById(\"3dmolwarning_16507313240620723\");\n",
       "if(warn) {\n",
       "    warn.parentNode.removeChild(warn);\n",
       "}\n",
       "$3Dmolpromise.then(function() {\n",
       "viewer_16507313240620723 = $3Dmol.createViewer($(\"#3dmolviewer_16507313240620723\"),{backgroundColor:\"white\"});\n",
       "viewer_16507313240620723.zoomTo();\n",
       "\tviewer_16507313240620723.addModel(\"\\n     RDKit          3D\\n\\n 10 11  0  0  0  0  0  0  0  0999 V2000\\n    0.0772    2.3758    0.1275 O   0  0  0  0  0  0  0  0  0  0  0  0\\n    0.3791    1.1583    0.0706 C   0  0  0  0  0  0  0  0  0  0  0  0\\n    1.6876    0.8753    0.0880 N   0  0  0  0  0  0  0  0  0  0  0  0\\n    2.2003   -0.3620    0.0352 C   0  0  0  0  0  0  0  0  0  0  0  0\\n    1.2813   -1.3426   -0.0393 N   0  0  0  0  0  0  0  0  0  0  0  0\\n   -0.0545   -1.0669   -0.0578 C   0  0  0  0  0  0  0  0  0  0  0  0\\n   -1.4560   -2.0488   -0.1443 S   0  0  0  0  0  0  0  0  0  0  0  0\\n   -2.6006   -0.7941   -0.1063 N   0  0  0  0  0  0  0  0  0  0  0  0\\n   -1.8462    0.2899   -0.0303 C   0  0  0  0  0  0  0  0  0  0  0  0\\n   -0.5385    0.1566   -0.0050 N   0  0  0  0  0  0  0  0  0  0  0  0\\n  1  2  2  0\\n  2  3  1  0\\n  3  4  2  0\\n  4  5  1  0\\n  5  6  2  0\\n  6  7  1  0\\n  7  8  1  0\\n  8  9  2  0\\n  9 10  1  0\\n 10  2  1  0\\n 10  6  1  0\\nM  END\\n\",\"sdf\");\n",
       "\tviewer_16507313240620723.addModel(\"\\n     RDKit          3D\\n\\n 10 11  0  0  0  0  0  0  0  0999 V2000\\n    2.8856    0.2043   11.3038 O   0  0  0  0  0  0  0  0  0  0  0  0\\n    2.6339   -1.0021   11.5444 C   0  0  0  0  0  0  0  0  0  0  0  0\\n    2.5490   -1.8091   10.4794 N   0  0  0  0  0  0  0  0  0  0  0  0\\n    2.2888   -3.1226   10.5376 C   0  0  0  0  0  0  0  0  0  0  0  0\\n    2.1109   -3.6002   11.7834 N   0  0  0  0  0  0  0  0  0  0  0  0\\n    2.1950   -2.7881   12.8762 C   0  0  0  0  0  0  0  0  0  0  0  0\\n    2.0272   -3.0616   14.5593 S   0  0  0  0  0  0  0  0  0  0  0  0\\n    2.3043   -1.4639   15.0657 N   0  0  0  0  0  0  0  0  0  0  0  0\\n    2.5066   -0.8249   13.9253 C   0  0  0  0  0  0  0  0  0  0  0  0\\n    2.4518   -1.4989   12.7978 N   0  0  0  0  0  0  0  0  0  0  0  0\\n  1  2  2  0\\n  2  3  1  0\\n  3  4  2  0\\n  4  5  1  0\\n  5  6  2  0\\n  6  7  1  0\\n  7  8  1  0\\n  8  9  2  0\\n  9 10  1  0\\n 10  2  1  0\\n 10  6  1  0\\nM  END\\n\",\"sdf\");\n",
       "\tviewer_16507313240620723.addModel(\"\\n     RDKit          3D\\n\\n 24 26  0  0  0  0  0  0  0  0999 V2000\\n    3.3590    6.0150   13.0690 O   0  0  0  0  0  0  0  0  0  0  0  0\\n    3.4800    6.2060   11.6760 C   0  0  0  0  0  0  0  0  0  0  0  0\\n    3.2320    4.7640   13.6200 C   0  0  0  0  0  0  0  0  0  0  0  0\\n    3.2490    4.6200   15.0170 C   0  0  0  0  0  0  0  0  0  0  0  0\\n    3.1460    3.4130   15.6180 C   0  0  0  0  0  0  0  0  0  0  0  0\\n    2.8600   -0.1910   14.5760 N   0  0  0  0  0  0  0  0  0  0  0  0\\n    3.1640    4.4600   17.8150 C   0  0  0  0  0  0  0  0  0  0  0  0\\n    3.1130    3.2650   17.0000 O   0  0  0  0  0  0  0  0  0  0  0  0\\n    3.0390    2.2280   14.8720 C   0  0  0  0  0  0  0  0  0  0  0  0\\n    2.2700   -4.7190   10.2560 O   0  0  0  0  0  0  0  0  0  0  0  0\\n    2.9640    1.2430   12.6620 N   0  0  0  0  0  0  0  0  0  0  0  0\\n    2.9420    0.9190   15.4510 C   0  0  0  0  0  0  0  0  0  0  0  0\\n    2.8810    0.0150   13.2310 C   0  0  0  0  0  0  0  0  0  0  0  0\\n    2.9580    0.6740   16.6750 O   0  0  0  0  0  0  0  0  0  0  0  0\\n    2.7950   -1.1630   12.3520 C   0  0  0  0  0  0  0  0  0  0  0  0\\n    2.2000   -1.1600   11.0730 C   0  0  0  0  0  0  0  0  0  0  0  0\\n    2.0370   -2.3470   10.3720 C   0  0  0  0  0  0  0  0  0  0  0  0\\n    1.3240   -2.2540    9.0610 C   0  0  0  0  0  0  0  0  0  0  0  0\\n    2.5090   -3.5740   10.9120 C   0  0  0  0  0  0  0  0  0  0  0  0\\n    3.1500   -3.5880   12.1430 C   0  0  0  0  0  0  0  0  0  0  0  0\\n    3.6620   -4.8880   12.6860 C   0  0  0  0  0  0  0  0  0  0  0  0\\n    3.2880   -2.4170   12.8540 C   0  0  0  0  0  0  0  0  0  0  0  0\\n    3.0310    2.4050   13.4570 C   0  0  0  0  0  0  0  0  0  0  0  0\\n    3.1180    3.6350   12.8260 C   0  0  0  0  0  0  0  0  0  0  0  0\\n  1  2  1  0\\n  1  3  1  0\\n  3  4  2  0\\n  3 24  1  0\\n  4  5  1  0\\n  5  8  1  0\\n  5  9  2  0\\n  6 12  1  0\\n  6 13  1  0\\n  7  8  1  0\\n  9 12  1  0\\n  9 23  1  0\\n 10 19  1  0\\n 11 13  2  0\\n 11 23  1  0\\n 12 14  2  0\\n 13 15  1  0\\n 15 16  2  0\\n 15 22  1  0\\n 16 17  1  0\\n 17 18  1  0\\n 17 19  2  0\\n 19 20  1  0\\n 20 21  1  0\\n 20 22  2  0\\n 23 24  2  0\\nM  END\\n\",\"sdf\");\n",
       "\tviewer_16507313240620723.setStyle({\"model\": 0},{\"stick\": {\"colorscheme\": \"lightgreyCarbon\"}});\n",
       "\tviewer_16507313240620723.setStyle({\"model\": 1},{\"stick\": {\"colorscheme\": \"purpleCarbon\"}});\n",
       "\tviewer_16507313240620723.setStyle({\"model\": 2},{\"stick\": {\"colorscheme\": \"greyCarbon\"}});\n",
       "\tviewer_16507313240620723.zoomTo();\n",
       "viewer_16507313240620723.render();\n",
       "});\n",
       "</script>"
      ]
     },
     "metadata": {},
     "output_type": "display_data"
    },
    {
     "data": {
      "text/plain": [
       "<py3Dmol.view at 0x7fac8730df40>"
      ]
     },
     "metadata": {},
     "output_type": "display_data"
    }
   ],
   "source": [
    "showbest(df, \"ligand-8\", \"cfit\")"
   ]
  }
 ],
 "metadata": {
  "interpreter": {
   "hash": "396549d0d80549071e1871f25904236f25b7276c7340ecdf496245f78763dd5d"
  },
  "kernelspec": {
   "display_name": "Python 3.9.12",
   "language": "python",
   "name": "python3"
  },
  "language_info": {
   "codemirror_mode": {
    "name": "ipython",
    "version": 3
   },
   "file_extension": ".py",
   "mimetype": "text/x-python",
   "name": "python",
   "nbconvert_exporter": "python",
   "pygments_lexer": "ipython3",
   "version": "3.9.12"
  },
  "orig_nbformat": 4
 },
 "nbformat": 4,
 "nbformat_minor": 2
}
