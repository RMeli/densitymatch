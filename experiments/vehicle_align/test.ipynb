{
 "cells": [
  {
   "cell_type": "code",
   "execution_count": 1,
   "metadata": {},
   "outputs": [
    {
     "data": {
      "text/html": [
       "\n",
       "                <script type=\"application/javascript\" id=\"jupyter_black\">\n",
       "                (function() {\n",
       "                    if (window.IPython === undefined) {\n",
       "                        return\n",
       "                    }\n",
       "                    var msg = \"WARNING: it looks like you might have loaded \" +\n",
       "                        \"jupyter_black in a non-lab notebook with \" +\n",
       "                        \"`is_lab=True`. Please double check, and if \" +\n",
       "                        \"loading with `%load_ext` please review the README!\"\n",
       "                    console.log(msg)\n",
       "                    alert(msg)\n",
       "                })()\n",
       "                </script>\n",
       "                "
      ],
      "text/plain": [
       "<IPython.core.display.HTML object>"
      ]
     },
     "metadata": {},
     "output_type": "display_data"
    }
   ],
   "source": [
    "%load_ext autoreload\n",
    "%autoreload 2\n",
    "%load_ext jupyter_black"
   ]
  },
  {
   "cell_type": "code",
   "execution_count": 2,
   "metadata": {},
   "outputs": [],
   "source": [
    "method = \"molgrid\"\n",
    "\n",
    "n_frags = 25"
   ]
  },
  {
   "cell_type": "code",
   "execution_count": 3,
   "metadata": {},
   "outputs": [
    {
     "name": "stdout",
     "output_type": "stream",
     "text": [
      "Jupyter environment detected. Enabling Open3D WebVisualizer.\n",
      "[Open3D INFO] WebRTC GUI backend enabled.\n",
      "[Open3D INFO] WebRTCWindowSystem: HTTP handshake server disabled.\n"
     ]
    }
   ],
   "source": [
    "import open3d as o3d\n",
    "from rdkit import Chem\n",
    "import numpy as np\n",
    "\n",
    "from collections import defaultdict\n",
    "\n",
    "import tqdm\n",
    "import os, sys, re"
   ]
  },
  {
   "cell_type": "code",
   "execution_count": 4,
   "metadata": {},
   "outputs": [],
   "source": [
    "sys.path.append(\"../../\")\n",
    "sys.path.append(\"../\")"
   ]
  },
  {
   "cell_type": "code",
   "execution_count": 5,
   "metadata": {},
   "outputs": [
    {
     "name": "stdout",
     "output_type": "stream",
     "text": [
      "[[(0.2, 1.0, 1.0), (0.0, 0.0, 1.0), (0.0, 0.0, 1.0), (0.0, 0.0, 1.0), (0.0, 0.0, 1.0), (0.6, 0.0, 0.0), (0.6, 0.0, 0.0), (0.6, 0.0, 0.0), (0.6, 0.6, 0.0), (0.6, 0.6, 0.0)], [(0.3764705882352941, 0.3764705882352941, 0.3764705882352941), (0.3764705882352941, 0.3764705882352941, 0.3764705882352941), (0.7529411764705882, 0.7529411764705882, 0.7529411764705882), (0.7529411764705882, 0.7529411764705882, 0.7529411764705882), (0.6, 0.2980392156862745, 0.0), (0.6, 0.2980392156862745, 0.0)]]\n"
     ]
    }
   ],
   "source": [
    "from utils import show, transform_and_add_conformer\n",
    "from score_pcd import fit_and_score\n",
    "from molgrid_to_pcd import sensaas_color_groups_rgb_molgrid\n",
    "\n",
    "print(sensaas_color_groups_rgb_molgrid)\n",
    "\n",
    "\n",
    "def align(mol1, pcd1, pcd2):\n",
    "    gfit, cfit, hfit, tran = fit_and_score(\n",
    "        (pcd1, pcd2),\n",
    "        voxel_size=0.5,\n",
    "        threshold=0.5,\n",
    "        color_groups=sensaas_color_groups_rgb_molgrid,\n",
    "    )\n",
    "    transform_and_add_conformer(mol1, tran, fromConfId=0, toConfId=1)\n",
    "    return gfit, cfit, hfit"
   ]
  },
  {
   "cell_type": "markdown",
   "metadata": {},
   "source": [
    "## Load BRD4 Inhibitors"
   ]
  },
  {
   "cell_type": "code",
   "execution_count": 6,
   "metadata": {},
   "outputs": [],
   "source": [
    "path = \"../ligands/BRD4\""
   ]
  },
  {
   "cell_type": "code",
   "execution_count": 7,
   "metadata": {},
   "outputs": [
    {
     "name": "stdout",
     "output_type": "stream",
     "text": [
      "['../ligands/BRD4/ligand-1_molgrid.pcd', '../ligands/BRD4/ligand-2_molgrid.pcd', '../ligands/BRD4/ligand-3_molgrid.pcd', '../ligands/BRD4/ligand-4_molgrid.pcd', '../ligands/BRD4/ligand-5_molgrid.pcd', '../ligands/BRD4/ligand-6_molgrid.pcd', '../ligands/BRD4/ligand-7_molgrid.pcd', '../ligands/BRD4/ligand-8_molgrid.pcd', '../ligands/BRD4/ligand-9_molgrid.pcd', '../ligands/BRD4/ligand-10_molgrid.pcd']\n"
     ]
    }
   ],
   "source": [
    "files = []\n",
    "for f in os.listdir(path):\n",
    "    fname, ext = os.path.splitext(f)\n",
    "    if (\n",
    "        ext == \".pcd\"\n",
    "        and method in fname\n",
    "        and not \"tran\" in fname\n",
    "        and not \"murcko\" in fname\n",
    "    ):\n",
    "        files.append(os.path.join(path, f))\n",
    "\n",
    "# Sort BRD4 ligand files by number\n",
    "r = re.compile(\"\\d{1,2}\")\n",
    "files.sort(key=lambda f: int(r.search(os.path.basename(f)).group()))\n",
    "\n",
    "print(files)\n",
    "\n",
    "pcds = []\n",
    "mols = []\n",
    "for f in files:\n",
    "    pcd = o3d.io.read_point_cloud(f)\n",
    "    pcds.append(pcd)\n",
    "\n",
    "    s = Chem.SDMolSupplier(f.replace(\".pcd\", \".sdf\").replace(f\"_{method}\", \"\"))\n",
    "    mol = next(s)\n",
    "    mols.append(mol)"
   ]
  },
  {
   "cell_type": "markdown",
   "metadata": {},
   "source": [
    "## Load Fragments"
   ]
  },
  {
   "cell_type": "markdown",
   "metadata": {},
   "source": [
    "Load fragments. Only fragments that are considered to be synthetically accessible are considered here, in order to reduce computational resources:"
   ]
  },
  {
   "cell_type": "code",
   "execution_count": 8,
   "metadata": {},
   "outputs": [
    {
     "name": "stderr",
     "output_type": "stream",
     "text": [
      "100%|██████████| 25/25 [00:00<00:00, 1131.91it/s]\n"
     ]
    }
   ],
   "source": [
    "fragpath = path = \"../../fragments/VEHICLe-good/\"\n",
    "fragfiles = [\n",
    "    os.path.join(fragpath, f)\n",
    "    for f in os.listdir(fragpath)\n",
    "    if os.path.splitext(f)[-1] == \".pcd\"\n",
    "]\n",
    "\n",
    "fragfiles = fragfiles[:n_frags]\n",
    "\n",
    "fragpcds = []\n",
    "fragmols = []\n",
    "for ff in tqdm.tqdm(fragfiles):\n",
    "    pcd = o3d.io.read_point_cloud(ff)\n",
    "    fragpcds.append(pcd)\n",
    "\n",
    "    s = Chem.SDMolSupplier(ff.replace(\".pcd\", \".sdf\"))\n",
    "    mol = next(s)\n",
    "    fragmols.append(mol)"
   ]
  },
  {
   "cell_type": "markdown",
   "metadata": {},
   "source": [
    "## Align Fragments to CDK2 Inhibitors"
   ]
  },
  {
   "cell_type": "code",
   "execution_count": 9,
   "metadata": {},
   "outputs": [
    {
     "name": "stderr",
     "output_type": "stream",
     "text": [
      "Fragments ligand-1: 100%|██████████| 25/25 [00:07<00:00,  3.34it/s]\n",
      "Fragments ligand-2: 100%|██████████| 25/25 [00:06<00:00,  4.02it/s]\n",
      "Fragments ligand-3: 100%|██████████| 25/25 [00:07<00:00,  3.42it/s]\n",
      "Fragments ligand-4: 100%|██████████| 25/25 [00:07<00:00,  3.42it/s]\n",
      "Fragments ligand-5: 100%|██████████| 25/25 [00:06<00:00,  3.70it/s]\n",
      "Fragments ligand-6: 100%|██████████| 25/25 [00:07<00:00,  3.29it/s]\n",
      "Fragments ligand-7: 100%|██████████| 25/25 [00:07<00:00,  3.56it/s]\n",
      "Fragments ligand-8: 100%|██████████| 25/25 [00:07<00:00,  3.51it/s]\n",
      "Fragments ligand-9: 100%|██████████| 25/25 [00:07<00:00,  3.37it/s]\n",
      "Fragments ligand-10: 100%|██████████| 25/25 [00:07<00:00,  3.24it/s]\n"
     ]
    }
   ],
   "source": [
    "alignments = {}\n",
    "\n",
    "for i, f in enumerate(files):\n",
    "    name = os.path.splitext(os.path.basename(f))[0].replace(f\"_{method}\", \"\")\n",
    "\n",
    "    alignments[name] = defaultdict(list)\n",
    "\n",
    "    for j, ff in enumerate(tqdm.tqdm(fragfiles, desc=\"Fragments \" + name)):\n",
    "        fidx = os.path.splitext(os.path.basename(ff))[0].replace(f\"fragment_\", \"\")\n",
    "\n",
    "        gfit, cfit, hfit = align(fragmols[j], fragpcds[j], pcds[i])\n",
    "\n",
    "        alignments[name][\"fragment\"].append(int(fidx))\n",
    "        alignments[name][\"gfit\"].append(gfit.fitness)\n",
    "        alignments[name][\"cfit\"].append(cfit.fitness)\n",
    "        alignments[name][\"hfit\"].append(hfit)\n",
    "        alignments[name][\"mol\"].append(mols[i])\n",
    "        alignments[name][\"fragmol\"].append(fragmols[j])"
   ]
  },
  {
   "cell_type": "code",
   "execution_count": 10,
   "metadata": {},
   "outputs": [],
   "source": [
    "import pandas as pd\n",
    "\n",
    "d = {}\n",
    "for outerKey, innerDict in alignments.items():\n",
    "    for innerKey, values in innerDict.items():\n",
    "        d[(outerKey, innerKey)] = values\n",
    "\n",
    "df = pd.DataFrame.from_dict(d)\n",
    "df = df.stack(level=0).swaplevel().sort_index()\n",
    "df.index.names = [\"lig\", \"idx\"]"
   ]
  },
  {
   "cell_type": "code",
   "execution_count": 11,
   "metadata": {},
   "outputs": [
    {
     "data": {
      "text/html": [
       "<div>\n",
       "<style scoped>\n",
       "    .dataframe tbody tr th:only-of-type {\n",
       "        vertical-align: middle;\n",
       "    }\n",
       "\n",
       "    .dataframe tbody tr th {\n",
       "        vertical-align: top;\n",
       "    }\n",
       "\n",
       "    .dataframe thead th {\n",
       "        text-align: right;\n",
       "    }\n",
       "</style>\n",
       "<table border=\"1\" class=\"dataframe\">\n",
       "  <thead>\n",
       "    <tr style=\"text-align: right;\">\n",
       "      <th></th>\n",
       "      <th></th>\n",
       "      <th>cfit</th>\n",
       "      <th>fragment</th>\n",
       "      <th>fragmol</th>\n",
       "      <th>gfit</th>\n",
       "      <th>hfit</th>\n",
       "      <th>mol</th>\n",
       "      <th>cfit + hfit</th>\n",
       "    </tr>\n",
       "    <tr>\n",
       "      <th>lig</th>\n",
       "      <th>idx</th>\n",
       "      <th></th>\n",
       "      <th></th>\n",
       "      <th></th>\n",
       "      <th></th>\n",
       "      <th></th>\n",
       "      <th></th>\n",
       "      <th></th>\n",
       "    </tr>\n",
       "  </thead>\n",
       "  <tbody>\n",
       "    <tr>\n",
       "      <th rowspan=\"5\" valign=\"top\">ligand-1</th>\n",
       "      <th>0</th>\n",
       "      <td>0.867435</td>\n",
       "      <td>1046</td>\n",
       "      <td>&lt;rdkit.Chem.rdchem.Mol object at 0x7fdd75a0bb80&gt;</td>\n",
       "      <td>0.841499</td>\n",
       "      <td>0.645533</td>\n",
       "      <td>&lt;rdkit.Chem.rdchem.Mol object at 0x7fdd759fe9a0&gt;</td>\n",
       "      <td>1.512968</td>\n",
       "    </tr>\n",
       "    <tr>\n",
       "      <th>1</th>\n",
       "      <td>0.941176</td>\n",
       "      <td>0</td>\n",
       "      <td>&lt;rdkit.Chem.rdchem.Mol object at 0x7fdd75a0bbe0&gt;</td>\n",
       "      <td>0.818182</td>\n",
       "      <td>0.716578</td>\n",
       "      <td>&lt;rdkit.Chem.rdchem.Mol object at 0x7fdd759fe9a0&gt;</td>\n",
       "      <td>1.657754</td>\n",
       "    </tr>\n",
       "    <tr>\n",
       "      <th>2</th>\n",
       "      <td>0.926380</td>\n",
       "      <td>1</td>\n",
       "      <td>&lt;rdkit.Chem.rdchem.Mol object at 0x7fdd75a0b940&gt;</td>\n",
       "      <td>0.447853</td>\n",
       "      <td>0.625767</td>\n",
       "      <td>&lt;rdkit.Chem.rdchem.Mol object at 0x7fdd759fe9a0&gt;</td>\n",
       "      <td>1.552147</td>\n",
       "    </tr>\n",
       "    <tr>\n",
       "      <th>3</th>\n",
       "      <td>0.809783</td>\n",
       "      <td>1047</td>\n",
       "      <td>&lt;rdkit.Chem.rdchem.Mol object at 0x7fdd75a0b9a0&gt;</td>\n",
       "      <td>0.760870</td>\n",
       "      <td>0.581522</td>\n",
       "      <td>&lt;rdkit.Chem.rdchem.Mol object at 0x7fdd759fe9a0&gt;</td>\n",
       "      <td>1.391304</td>\n",
       "    </tr>\n",
       "    <tr>\n",
       "      <th>4</th>\n",
       "      <td>0.883582</td>\n",
       "      <td>10</td>\n",
       "      <td>&lt;rdkit.Chem.rdchem.Mol object at 0x7fdd75a0bb20&gt;</td>\n",
       "      <td>0.782090</td>\n",
       "      <td>0.540299</td>\n",
       "      <td>&lt;rdkit.Chem.rdchem.Mol object at 0x7fdd759fe9a0&gt;</td>\n",
       "      <td>1.423881</td>\n",
       "    </tr>\n",
       "    <tr>\n",
       "      <th>...</th>\n",
       "      <th>...</th>\n",
       "      <td>...</td>\n",
       "      <td>...</td>\n",
       "      <td>...</td>\n",
       "      <td>...</td>\n",
       "      <td>...</td>\n",
       "      <td>...</td>\n",
       "      <td>...</td>\n",
       "    </tr>\n",
       "    <tr>\n",
       "      <th rowspan=\"5\" valign=\"top\">ligand-9</th>\n",
       "      <th>20</th>\n",
       "      <td>0.807786</td>\n",
       "      <td>1006</td>\n",
       "      <td>&lt;rdkit.Chem.rdchem.Mol object at 0x7fdd75a0d220&gt;</td>\n",
       "      <td>0.749392</td>\n",
       "      <td>0.576642</td>\n",
       "      <td>&lt;rdkit.Chem.rdchem.Mol object at 0x7fdd759feb20&gt;</td>\n",
       "      <td>1.384428</td>\n",
       "    </tr>\n",
       "    <tr>\n",
       "      <th>21</th>\n",
       "      <td>0.863636</td>\n",
       "      <td>1055</td>\n",
       "      <td>&lt;rdkit.Chem.rdchem.Mol object at 0x7fdd75a0d280&gt;</td>\n",
       "      <td>0.766667</td>\n",
       "      <td>0.524242</td>\n",
       "      <td>&lt;rdkit.Chem.rdchem.Mol object at 0x7fdd759feb20&gt;</td>\n",
       "      <td>1.387879</td>\n",
       "    </tr>\n",
       "    <tr>\n",
       "      <th>22</th>\n",
       "      <td>0.834568</td>\n",
       "      <td>1007</td>\n",
       "      <td>&lt;rdkit.Chem.rdchem.Mol object at 0x7fdd75a0d460&gt;</td>\n",
       "      <td>0.765432</td>\n",
       "      <td>0.592593</td>\n",
       "      <td>&lt;rdkit.Chem.rdchem.Mol object at 0x7fdd759feb20&gt;</td>\n",
       "      <td>1.427160</td>\n",
       "    </tr>\n",
       "    <tr>\n",
       "      <th>23</th>\n",
       "      <td>0.900568</td>\n",
       "      <td>1056</td>\n",
       "      <td>&lt;rdkit.Chem.rdchem.Mol object at 0x7fdd75a0d4c0&gt;</td>\n",
       "      <td>0.698864</td>\n",
       "      <td>0.659091</td>\n",
       "      <td>&lt;rdkit.Chem.rdchem.Mol object at 0x7fdd759feb20&gt;</td>\n",
       "      <td>1.559659</td>\n",
       "    </tr>\n",
       "    <tr>\n",
       "      <th>24</th>\n",
       "      <td>0.826471</td>\n",
       "      <td>1008</td>\n",
       "      <td>&lt;rdkit.Chem.rdchem.Mol object at 0x7fdd75a0d520&gt;</td>\n",
       "      <td>0.761765</td>\n",
       "      <td>0.567647</td>\n",
       "      <td>&lt;rdkit.Chem.rdchem.Mol object at 0x7fdd759feb20&gt;</td>\n",
       "      <td>1.394118</td>\n",
       "    </tr>\n",
       "  </tbody>\n",
       "</table>\n",
       "<p>250 rows × 7 columns</p>\n",
       "</div>"
      ],
      "text/plain": [
       "                  cfit  fragment  \\\n",
       "lig      idx                       \n",
       "ligand-1 0    0.867435      1046   \n",
       "         1    0.941176         0   \n",
       "         2    0.926380         1   \n",
       "         3    0.809783      1047   \n",
       "         4    0.883582        10   \n",
       "...                ...       ...   \n",
       "ligand-9 20   0.807786      1006   \n",
       "         21   0.863636      1055   \n",
       "         22   0.834568      1007   \n",
       "         23   0.900568      1056   \n",
       "         24   0.826471      1008   \n",
       "\n",
       "                                                       fragmol      gfit  \\\n",
       "lig      idx                                                               \n",
       "ligand-1 0    <rdkit.Chem.rdchem.Mol object at 0x7fdd75a0bb80>  0.841499   \n",
       "         1    <rdkit.Chem.rdchem.Mol object at 0x7fdd75a0bbe0>  0.818182   \n",
       "         2    <rdkit.Chem.rdchem.Mol object at 0x7fdd75a0b940>  0.447853   \n",
       "         3    <rdkit.Chem.rdchem.Mol object at 0x7fdd75a0b9a0>  0.760870   \n",
       "         4    <rdkit.Chem.rdchem.Mol object at 0x7fdd75a0bb20>  0.782090   \n",
       "...                                                        ...       ...   \n",
       "ligand-9 20   <rdkit.Chem.rdchem.Mol object at 0x7fdd75a0d220>  0.749392   \n",
       "         21   <rdkit.Chem.rdchem.Mol object at 0x7fdd75a0d280>  0.766667   \n",
       "         22   <rdkit.Chem.rdchem.Mol object at 0x7fdd75a0d460>  0.765432   \n",
       "         23   <rdkit.Chem.rdchem.Mol object at 0x7fdd75a0d4c0>  0.698864   \n",
       "         24   <rdkit.Chem.rdchem.Mol object at 0x7fdd75a0d520>  0.761765   \n",
       "\n",
       "                  hfit                                               mol  \\\n",
       "lig      idx                                                               \n",
       "ligand-1 0    0.645533  <rdkit.Chem.rdchem.Mol object at 0x7fdd759fe9a0>   \n",
       "         1    0.716578  <rdkit.Chem.rdchem.Mol object at 0x7fdd759fe9a0>   \n",
       "         2    0.625767  <rdkit.Chem.rdchem.Mol object at 0x7fdd759fe9a0>   \n",
       "         3    0.581522  <rdkit.Chem.rdchem.Mol object at 0x7fdd759fe9a0>   \n",
       "         4    0.540299  <rdkit.Chem.rdchem.Mol object at 0x7fdd759fe9a0>   \n",
       "...                ...                                               ...   \n",
       "ligand-9 20   0.576642  <rdkit.Chem.rdchem.Mol object at 0x7fdd759feb20>   \n",
       "         21   0.524242  <rdkit.Chem.rdchem.Mol object at 0x7fdd759feb20>   \n",
       "         22   0.592593  <rdkit.Chem.rdchem.Mol object at 0x7fdd759feb20>   \n",
       "         23   0.659091  <rdkit.Chem.rdchem.Mol object at 0x7fdd759feb20>   \n",
       "         24   0.567647  <rdkit.Chem.rdchem.Mol object at 0x7fdd759feb20>   \n",
       "\n",
       "              cfit + hfit  \n",
       "lig      idx               \n",
       "ligand-1 0       1.512968  \n",
       "         1       1.657754  \n",
       "         2       1.552147  \n",
       "         3       1.391304  \n",
       "         4       1.423881  \n",
       "...                   ...  \n",
       "ligand-9 20      1.384428  \n",
       "         21      1.387879  \n",
       "         22      1.427160  \n",
       "         23      1.559659  \n",
       "         24      1.394118  \n",
       "\n",
       "[250 rows x 7 columns]"
      ]
     },
     "execution_count": 11,
     "metadata": {},
     "output_type": "execute_result"
    }
   ],
   "source": [
    "df[\"cfit + hfit\"] = df[\"cfit\"] + df[\"hfit\"]\n",
    "df"
   ]
  },
  {
   "cell_type": "code",
   "execution_count": 12,
   "metadata": {},
   "outputs": [],
   "source": [
    "def getbest(df, lig, criteria=\"cfit\", k=3):\n",
    "    return df.query(\"lig == @lig\").sort_values(criteria, ascending=False).head(k)\n",
    "\n",
    "\n",
    "def showbest(df, lig, criteria=\"cfit\", k=10):\n",
    "    best = getbest(df, lig, criteria, k)\n",
    "\n",
    "    for idx, row in best.iterrows():\n",
    "        p = show(row.fragmol, row.mol)\n",
    "        print(row[criteria])\n",
    "        display(p)"
   ]
  },
  {
   "cell_type": "code",
   "execution_count": 13,
   "metadata": {},
   "outputs": [
    {
     "name": "stdout",
     "output_type": "stream",
     "text": [
      "1.4919354838709677\n"
     ]
    },
    {
     "data": {
      "application/3dmoljs_load.v0": "<div id=\"3dmolviewer_16509009321113098\"  style=\"position: relative; width: 640px; height: 480px\">\n        <p id=\"3dmolwarning_16509009321113098\" style=\"background-color:#ffcccc;color:black\">You appear to be running in JupyterLab (or JavaScript failed to load for some other reason).  You need to install the 3dmol extension: <br>\n        <tt>jupyter labextension install jupyterlab_3dmol</tt></p>\n        </div>\n<script>\n\nvar loadScriptAsync = function(uri){\n  return new Promise((resolve, reject) => {\n    var tag = document.createElement('script');\n    tag.src = uri;\n    tag.async = true;\n    tag.onload = () => {\n      resolve();\n    };\n  var firstScriptTag = document.getElementsByTagName('script')[0];\n  firstScriptTag.parentNode.insertBefore(tag, firstScriptTag);\n});\n};\n\nif(typeof $3Dmolpromise === 'undefined') {\n$3Dmolpromise = null;\n  $3Dmolpromise = loadScriptAsync('https://3dmol.org/build/3Dmol.js');\n}\n\nvar viewer_16509009321113098 = null;\nvar warn = document.getElementById(\"3dmolwarning_16509009321113098\");\nif(warn) {\n    warn.parentNode.removeChild(warn);\n}\n$3Dmolpromise.then(function() {\nviewer_16509009321113098 = $3Dmol.createViewer($(\"#3dmolviewer_16509009321113098\"),{backgroundColor:\"white\"});\nviewer_16509009321113098.zoomTo();\n\tviewer_16509009321113098.addModel(\"\\n     RDKit          3D\\n\\n 10 11  0  0  0  0  0  0  0  0999 V2000\\n    0.2346    2.5020   -0.0056 O   0  0  0  0  0  0  0  0  0  0  0  0\\n   -0.1277    1.2888    0.0189 C   0  0  0  0  0  0  0  0  0  0  0  0\\n   -1.4373    0.9526    0.1319 N   0  0  0  0  0  0  0  0  0  0  0  0\\n   -1.8711   -0.3164    0.1624 C   0  0  0  0  0  0  0  0  0  0  0  0\\n   -0.9364   -1.3261    0.0743 C   0  0  0  0  0  0  0  0  0  0  0  0\\n    0.4092   -1.0092   -0.0420 C   0  0  0  0  0  0  0  0  0  0  0  0\\n    1.5058   -1.7341   -0.1426 O   0  0  0  0  0  0  0  0  0  0  0  0\\n    2.5631   -0.9738   -0.2308 N   0  0  0  0  0  0  0  0  0  0  0  0\\n    2.2034    0.3208   -0.1915 C   0  0  0  0  0  0  0  0  0  0  0  0\\n    0.8307    0.3048   -0.0711 C   0  0  0  0  0  0  0  0  0  0  0  0\\n  1  2  2  0\\n  2  3  1  0\\n  3  4  1  0\\n  4  5  2  0\\n  5  6  1  0\\n  6  7  1  0\\n  7  8  1  0\\n  8  9  2  0\\n  9 10  1  0\\n 10  2  1  0\\n 10  6  2  0\\nM  END\\n\",\"sdf\");\n\tviewer_16509009321113098.addModel(\"\\n     RDKit          3D\\n\\n 10 11  0  0  0  0  0  0  0  0999 V2000\\n    2.3816    0.8243   15.2246 O   0  0  0  0  0  0  0  0  0  0  0  0\\n    2.3176   -0.2122   14.4999 C   0  0  0  0  0  0  0  0  0  0  0  0\\n    1.9031   -1.3984   15.0117 N   0  0  0  0  0  0  0  0  0  0  0  0\\n    1.8182   -2.5234   14.2859 C   0  0  0  0  0  0  0  0  0  0  0  0\\n    2.1706   -2.4669   12.9542 C   0  0  0  0  0  0  0  0  0  0  0  0\\n    2.5977   -1.2661   12.4062 C   0  0  0  0  0  0  0  0  0  0  0  0\\n    2.9903   -0.9093   11.1993 O   0  0  0  0  0  0  0  0  0  0  0  0\\n    3.3029    0.3575   11.1642 N   0  0  0  0  0  0  0  0  0  0  0  0\\n    3.1263    0.9088   12.3774 C   0  0  0  0  0  0  0  0  0  0  0  0\\n    2.6766   -0.1219   13.1740 C   0  0  0  0  0  0  0  0  0  0  0  0\\n  1  2  2  0\\n  2  3  1  0\\n  3  4  1  0\\n  4  5  2  0\\n  5  6  1  0\\n  6  7  1  0\\n  7  8  1  0\\n  8  9  2  0\\n  9 10  1  0\\n 10  2  1  0\\n 10  6  2  0\\nM  END\\n\",\"sdf\");\n\tviewer_16509009321113098.addModel(\"BRD4, Ligand 7\\n     RDKit          3D\\n\\n 23 26  0  0  0  0  0  0  0  0999 V2000\\n    3.2590    2.9010   13.4290 Cl  0  0  0  0  0  0  0  0  0  0  0  0\\n    2.9360    1.2890   12.8120 C   0  0  0  0  0  0  0  0  0  0  0  0\\n    2.3430    0.3620   13.6330 C   0  0  0  0  0  0  0  0  0  0  0  0\\n    2.0690   -0.9160   13.1160 C   0  0  0  0  0  0  0  0  0  0  0  0\\n    1.4040   -1.9100   14.0170 C   0  0  0  0  0  0  0  0  0  0  0  0\\n    0.2390   -1.4510   14.8530 C   0  0  0  0  0  0  0  0  0  0  0  0\\n   -0.5130   -0.3110   14.5260 C   0  0  0  0  0  0  0  0  0  0  0  0\\n   -1.6410    0.0420   15.2720 C   0  0  0  0  0  0  0  0  0  0  0  0\\n   -2.0370   -0.7510   16.3420 C   0  0  0  0  0  0  0  0  0  0  0  0\\n   -1.3100   -1.9100   16.6370 C   0  0  0  0  0  0  0  0  0  0  0  0\\n   -0.1850   -2.2490   15.9160 C   0  0  0  0  0  0  0  0  0  0  0  0\\n    1.7010   -3.1700   13.9680 N   0  0  0  0  0  0  0  0  0  0  0  0\\n    2.7470   -3.7670   13.1430 N   0  0  0  0  0  0  0  0  0  0  0  0\\n    3.4820   -4.9110   13.6300 C   0  0  0  0  0  0  0  0  0  0  0  0\\n    2.4970   -3.6210   11.8170 C   0  0  0  0  0  0  0  0  0  0  0  0\\n    2.1950   -2.4930   11.2130 N   0  0  0  0  0  0  0  0  0  0  0  0\\n    1.8170   -2.7700    9.9500 C   0  0  0  0  0  0  0  0  0  0  0  0\\n    1.4340   -1.8400    8.8530 C   0  0  0  0  0  0  0  0  0  0  0  0\\n    1.8190   -4.0880    9.8010 N   0  0  0  0  0  0  0  0  0  0  0  0\\n    2.2650   -4.6660   11.0030 N   0  0  0  0  0  0  0  0  0  0  0  0\\n    2.4030   -1.2480   11.7870 C   0  0  0  0  0  0  0  0  0  0  0  0\\n    3.0600   -0.2560   11.0340 C   0  0  0  0  0  0  0  0  0  0  0  0\\n    3.3050    1.0110   11.5140 C   0  0  0  0  0  0  0  0  0  0  0  0\\n  1  2  1  0\\n  2  3  2  0\\n  2 23  1  0\\n  3  4  1  0\\n  4  5  1  0\\n  4 21  2  0\\n  5  6  1  0\\n  5 12  2  0\\n  6  7  2  0\\n  6 11  1  0\\n  7  8  1  0\\n  8  9  2  0\\n  9 10  1  0\\n 10 11  2  0\\n 12 13  1  0\\n 13 14  1  0\\n 13 15  1  0\\n 15 16  1  0\\n 15 20  2  0\\n 16 17  1  0\\n 16 21  1  0\\n 17 18  1  0\\n 17 19  2  0\\n 19 20  1  0\\n 21 22  1  0\\n 22 23  2  0\\nM  END\\n\",\"sdf\");\n\tviewer_16509009321113098.setStyle({\"model\": 0},{\"stick\": {\"colorscheme\": \"lightgreyCarbon\"}});\n\tviewer_16509009321113098.setStyle({\"model\": 1},{\"stick\": {\"colorscheme\": \"purpleCarbon\"}});\n\tviewer_16509009321113098.setStyle({\"model\": 2},{\"stick\": {\"colorscheme\": \"greyCarbon\"}});\n\tviewer_16509009321113098.zoomTo();\nviewer_16509009321113098.render();\n});\n</script>",
      "text/html": [
       "<div id=\"3dmolviewer_16509009321113098\"  style=\"position: relative; width: 640px; height: 480px\">\n",
       "        <p id=\"3dmolwarning_16509009321113098\" style=\"background-color:#ffcccc;color:black\">You appear to be running in JupyterLab (or JavaScript failed to load for some other reason).  You need to install the 3dmol extension: <br>\n",
       "        <tt>jupyter labextension install jupyterlab_3dmol</tt></p>\n",
       "        </div>\n",
       "<script>\n",
       "\n",
       "var loadScriptAsync = function(uri){\n",
       "  return new Promise((resolve, reject) => {\n",
       "    var tag = document.createElement('script');\n",
       "    tag.src = uri;\n",
       "    tag.async = true;\n",
       "    tag.onload = () => {\n",
       "      resolve();\n",
       "    };\n",
       "  var firstScriptTag = document.getElementsByTagName('script')[0];\n",
       "  firstScriptTag.parentNode.insertBefore(tag, firstScriptTag);\n",
       "});\n",
       "};\n",
       "\n",
       "if(typeof $3Dmolpromise === 'undefined') {\n",
       "$3Dmolpromise = null;\n",
       "  $3Dmolpromise = loadScriptAsync('https://3dmol.org/build/3Dmol.js');\n",
       "}\n",
       "\n",
       "var viewer_16509009321113098 = null;\n",
       "var warn = document.getElementById(\"3dmolwarning_16509009321113098\");\n",
       "if(warn) {\n",
       "    warn.parentNode.removeChild(warn);\n",
       "}\n",
       "$3Dmolpromise.then(function() {\n",
       "viewer_16509009321113098 = $3Dmol.createViewer($(\"#3dmolviewer_16509009321113098\"),{backgroundColor:\"white\"});\n",
       "viewer_16509009321113098.zoomTo();\n",
       "\tviewer_16509009321113098.addModel(\"\\n     RDKit          3D\\n\\n 10 11  0  0  0  0  0  0  0  0999 V2000\\n    0.2346    2.5020   -0.0056 O   0  0  0  0  0  0  0  0  0  0  0  0\\n   -0.1277    1.2888    0.0189 C   0  0  0  0  0  0  0  0  0  0  0  0\\n   -1.4373    0.9526    0.1319 N   0  0  0  0  0  0  0  0  0  0  0  0\\n   -1.8711   -0.3164    0.1624 C   0  0  0  0  0  0  0  0  0  0  0  0\\n   -0.9364   -1.3261    0.0743 C   0  0  0  0  0  0  0  0  0  0  0  0\\n    0.4092   -1.0092   -0.0420 C   0  0  0  0  0  0  0  0  0  0  0  0\\n    1.5058   -1.7341   -0.1426 O   0  0  0  0  0  0  0  0  0  0  0  0\\n    2.5631   -0.9738   -0.2308 N   0  0  0  0  0  0  0  0  0  0  0  0\\n    2.2034    0.3208   -0.1915 C   0  0  0  0  0  0  0  0  0  0  0  0\\n    0.8307    0.3048   -0.0711 C   0  0  0  0  0  0  0  0  0  0  0  0\\n  1  2  2  0\\n  2  3  1  0\\n  3  4  1  0\\n  4  5  2  0\\n  5  6  1  0\\n  6  7  1  0\\n  7  8  1  0\\n  8  9  2  0\\n  9 10  1  0\\n 10  2  1  0\\n 10  6  2  0\\nM  END\\n\",\"sdf\");\n",
       "\tviewer_16509009321113098.addModel(\"\\n     RDKit          3D\\n\\n 10 11  0  0  0  0  0  0  0  0999 V2000\\n    2.3816    0.8243   15.2246 O   0  0  0  0  0  0  0  0  0  0  0  0\\n    2.3176   -0.2122   14.4999 C   0  0  0  0  0  0  0  0  0  0  0  0\\n    1.9031   -1.3984   15.0117 N   0  0  0  0  0  0  0  0  0  0  0  0\\n    1.8182   -2.5234   14.2859 C   0  0  0  0  0  0  0  0  0  0  0  0\\n    2.1706   -2.4669   12.9542 C   0  0  0  0  0  0  0  0  0  0  0  0\\n    2.5977   -1.2661   12.4062 C   0  0  0  0  0  0  0  0  0  0  0  0\\n    2.9903   -0.9093   11.1993 O   0  0  0  0  0  0  0  0  0  0  0  0\\n    3.3029    0.3575   11.1642 N   0  0  0  0  0  0  0  0  0  0  0  0\\n    3.1263    0.9088   12.3774 C   0  0  0  0  0  0  0  0  0  0  0  0\\n    2.6766   -0.1219   13.1740 C   0  0  0  0  0  0  0  0  0  0  0  0\\n  1  2  2  0\\n  2  3  1  0\\n  3  4  1  0\\n  4  5  2  0\\n  5  6  1  0\\n  6  7  1  0\\n  7  8  1  0\\n  8  9  2  0\\n  9 10  1  0\\n 10  2  1  0\\n 10  6  2  0\\nM  END\\n\",\"sdf\");\n",
       "\tviewer_16509009321113098.addModel(\"BRD4, Ligand 7\\n     RDKit          3D\\n\\n 23 26  0  0  0  0  0  0  0  0999 V2000\\n    3.2590    2.9010   13.4290 Cl  0  0  0  0  0  0  0  0  0  0  0  0\\n    2.9360    1.2890   12.8120 C   0  0  0  0  0  0  0  0  0  0  0  0\\n    2.3430    0.3620   13.6330 C   0  0  0  0  0  0  0  0  0  0  0  0\\n    2.0690   -0.9160   13.1160 C   0  0  0  0  0  0  0  0  0  0  0  0\\n    1.4040   -1.9100   14.0170 C   0  0  0  0  0  0  0  0  0  0  0  0\\n    0.2390   -1.4510   14.8530 C   0  0  0  0  0  0  0  0  0  0  0  0\\n   -0.5130   -0.3110   14.5260 C   0  0  0  0  0  0  0  0  0  0  0  0\\n   -1.6410    0.0420   15.2720 C   0  0  0  0  0  0  0  0  0  0  0  0\\n   -2.0370   -0.7510   16.3420 C   0  0  0  0  0  0  0  0  0  0  0  0\\n   -1.3100   -1.9100   16.6370 C   0  0  0  0  0  0  0  0  0  0  0  0\\n   -0.1850   -2.2490   15.9160 C   0  0  0  0  0  0  0  0  0  0  0  0\\n    1.7010   -3.1700   13.9680 N   0  0  0  0  0  0  0  0  0  0  0  0\\n    2.7470   -3.7670   13.1430 N   0  0  0  0  0  0  0  0  0  0  0  0\\n    3.4820   -4.9110   13.6300 C   0  0  0  0  0  0  0  0  0  0  0  0\\n    2.4970   -3.6210   11.8170 C   0  0  0  0  0  0  0  0  0  0  0  0\\n    2.1950   -2.4930   11.2130 N   0  0  0  0  0  0  0  0  0  0  0  0\\n    1.8170   -2.7700    9.9500 C   0  0  0  0  0  0  0  0  0  0  0  0\\n    1.4340   -1.8400    8.8530 C   0  0  0  0  0  0  0  0  0  0  0  0\\n    1.8190   -4.0880    9.8010 N   0  0  0  0  0  0  0  0  0  0  0  0\\n    2.2650   -4.6660   11.0030 N   0  0  0  0  0  0  0  0  0  0  0  0\\n    2.4030   -1.2480   11.7870 C   0  0  0  0  0  0  0  0  0  0  0  0\\n    3.0600   -0.2560   11.0340 C   0  0  0  0  0  0  0  0  0  0  0  0\\n    3.3050    1.0110   11.5140 C   0  0  0  0  0  0  0  0  0  0  0  0\\n  1  2  1  0\\n  2  3  2  0\\n  2 23  1  0\\n  3  4  1  0\\n  4  5  1  0\\n  4 21  2  0\\n  5  6  1  0\\n  5 12  2  0\\n  6  7  2  0\\n  6 11  1  0\\n  7  8  1  0\\n  8  9  2  0\\n  9 10  1  0\\n 10 11  2  0\\n 12 13  1  0\\n 13 14  1  0\\n 13 15  1  0\\n 15 16  1  0\\n 15 20  2  0\\n 16 17  1  0\\n 16 21  1  0\\n 17 18  1  0\\n 17 19  2  0\\n 19 20  1  0\\n 21 22  1  0\\n 22 23  2  0\\nM  END\\n\",\"sdf\");\n",
       "\tviewer_16509009321113098.setStyle({\"model\": 0},{\"stick\": {\"colorscheme\": \"lightgreyCarbon\"}});\n",
       "\tviewer_16509009321113098.setStyle({\"model\": 1},{\"stick\": {\"colorscheme\": \"purpleCarbon\"}});\n",
       "\tviewer_16509009321113098.setStyle({\"model\": 2},{\"stick\": {\"colorscheme\": \"greyCarbon\"}});\n",
       "\tviewer_16509009321113098.zoomTo();\n",
       "viewer_16509009321113098.render();\n",
       "});\n",
       "</script>"
      ]
     },
     "metadata": {},
     "output_type": "display_data"
    },
    {
     "data": {
      "text/plain": [
       "<py3Dmol.view at 0x7fdd72cf8760>"
      ]
     },
     "metadata": {},
     "output_type": "display_data"
    },
    {
     "name": "stdout",
     "output_type": "stream",
     "text": [
      "1.4764705882352942\n"
     ]
    },
    {
     "data": {
      "application/3dmoljs_load.v0": "<div id=\"3dmolviewer_16509009321149998\"  style=\"position: relative; width: 640px; height: 480px\">\n        <p id=\"3dmolwarning_16509009321149998\" style=\"background-color:#ffcccc;color:black\">You appear to be running in JupyterLab (or JavaScript failed to load for some other reason).  You need to install the 3dmol extension: <br>\n        <tt>jupyter labextension install jupyterlab_3dmol</tt></p>\n        </div>\n<script>\n\nvar loadScriptAsync = function(uri){\n  return new Promise((resolve, reject) => {\n    var tag = document.createElement('script');\n    tag.src = uri;\n    tag.async = true;\n    tag.onload = () => {\n      resolve();\n    };\n  var firstScriptTag = document.getElementsByTagName('script')[0];\n  firstScriptTag.parentNode.insertBefore(tag, firstScriptTag);\n});\n};\n\nif(typeof $3Dmolpromise === 'undefined') {\n$3Dmolpromise = null;\n  $3Dmolpromise = loadScriptAsync('https://3dmol.org/build/3Dmol.js');\n}\n\nvar viewer_16509009321149998 = null;\nvar warn = document.getElementById(\"3dmolwarning_16509009321149998\");\nif(warn) {\n    warn.parentNode.removeChild(warn);\n}\n$3Dmolpromise.then(function() {\nviewer_16509009321149998 = $3Dmol.createViewer($(\"#3dmolviewer_16509009321149998\"),{backgroundColor:\"white\"});\nviewer_16509009321149998.zoomTo();\n\tviewer_16509009321149998.addModel(\"\\n     RDKit          3D\\n\\n 10 11  0  0  0  0  0  0  0  0999 V2000\\n   -0.9983   -2.6327   -0.1081 O   0  0  0  0  0  0  0  0  0  0  0  0\\n   -0.7394   -1.4027   -0.0535 C   0  0  0  0  0  0  0  0  0  0  0  0\\n   -1.7794   -0.5533    0.0080 N   0  0  0  0  0  0  0  0  0  0  0  0\\n   -1.5585    0.7834    0.0685 C   0  0  0  0  0  0  0  0  0  0  0  0\\n   -0.2706    1.3018    0.0684 C   0  0  0  0  0  0  0  0  0  0  0  0\\n    0.7940    0.4209    0.0049 C   0  0  0  0  0  0  0  0  0  0  0  0\\n    2.1602    0.6053   -0.0130 C   0  0  0  0  0  0  0  0  0  0  0  0\\n    2.6878   -0.6286   -0.0831 N   0  0  0  0  0  0  0  0  0  0  0  0\\n    1.7371   -1.5142   -0.1074 O   0  0  0  0  0  0  0  0  0  0  0  0\\n    0.5601   -0.9372   -0.0564 C   0  0  0  0  0  0  0  0  0  0  0  0\\n  1  2  2  0\\n  2  3  1  0\\n  3  4  1  0\\n  4  5  2  0\\n  5  6  1  0\\n  6  7  1  0\\n  7  8  2  0\\n  8  9  1  0\\n  9 10  1  0\\n 10  2  1  0\\n 10  6  2  0\\nM  END\\n\",\"sdf\");\n\tviewer_16509009321149998.addModel(\"\\n     RDKit          3D\\n\\n 10 11  0  0  0  0  0  0  0  0999 V2000\\n    2.8113   -0.7258   10.7839 O   0  0  0  0  0  0  0  0  0  0  0  0\\n    2.5559   -1.4390   11.7884 C   0  0  0  0  0  0  0  0  0  0  0  0\\n    2.5827   -2.7728   11.6237 N   0  0  0  0  0  0  0  0  0  0  0  0\\n    2.3151   -3.5895   12.6727 C   0  0  0  0  0  0  0  0  0  0  0  0\\n    2.0108   -3.0764   13.9263 C   0  0  0  0  0  0  0  0  0  0  0  0\\n    1.9853   -1.7028   14.0874 C   0  0  0  0  0  0  0  0  0  0  0  0\\n    1.7255   -0.8935   15.1729 C   0  0  0  0  0  0  0  0  0  0  0  0\\n    1.8506    0.3654   14.7197 N   0  0  0  0  0  0  0  0  0  0  0  0\\n    2.1620    0.3513   13.4582 O   0  0  0  0  0  0  0  0  0  0  0  0\\n    2.2587   -0.8795   13.0149 C   0  0  0  0  0  0  0  0  0  0  0  0\\n  1  2  2  0\\n  2  3  1  0\\n  3  4  1  0\\n  4  5  2  0\\n  5  6  1  0\\n  6  7  1  0\\n  7  8  2  0\\n  8  9  1  0\\n  9 10  1  0\\n 10  2  1  0\\n 10  6  2  0\\nM  END\\n\",\"sdf\");\n\tviewer_16509009321149998.addModel(\"BRD4, Ligand 7\\n     RDKit          3D\\n\\n 23 26  0  0  0  0  0  0  0  0999 V2000\\n    3.2590    2.9010   13.4290 Cl  0  0  0  0  0  0  0  0  0  0  0  0\\n    2.9360    1.2890   12.8120 C   0  0  0  0  0  0  0  0  0  0  0  0\\n    2.3430    0.3620   13.6330 C   0  0  0  0  0  0  0  0  0  0  0  0\\n    2.0690   -0.9160   13.1160 C   0  0  0  0  0  0  0  0  0  0  0  0\\n    1.4040   -1.9100   14.0170 C   0  0  0  0  0  0  0  0  0  0  0  0\\n    0.2390   -1.4510   14.8530 C   0  0  0  0  0  0  0  0  0  0  0  0\\n   -0.5130   -0.3110   14.5260 C   0  0  0  0  0  0  0  0  0  0  0  0\\n   -1.6410    0.0420   15.2720 C   0  0  0  0  0  0  0  0  0  0  0  0\\n   -2.0370   -0.7510   16.3420 C   0  0  0  0  0  0  0  0  0  0  0  0\\n   -1.3100   -1.9100   16.6370 C   0  0  0  0  0  0  0  0  0  0  0  0\\n   -0.1850   -2.2490   15.9160 C   0  0  0  0  0  0  0  0  0  0  0  0\\n    1.7010   -3.1700   13.9680 N   0  0  0  0  0  0  0  0  0  0  0  0\\n    2.7470   -3.7670   13.1430 N   0  0  0  0  0  0  0  0  0  0  0  0\\n    3.4820   -4.9110   13.6300 C   0  0  0  0  0  0  0  0  0  0  0  0\\n    2.4970   -3.6210   11.8170 C   0  0  0  0  0  0  0  0  0  0  0  0\\n    2.1950   -2.4930   11.2130 N   0  0  0  0  0  0  0  0  0  0  0  0\\n    1.8170   -2.7700    9.9500 C   0  0  0  0  0  0  0  0  0  0  0  0\\n    1.4340   -1.8400    8.8530 C   0  0  0  0  0  0  0  0  0  0  0  0\\n    1.8190   -4.0880    9.8010 N   0  0  0  0  0  0  0  0  0  0  0  0\\n    2.2650   -4.6660   11.0030 N   0  0  0  0  0  0  0  0  0  0  0  0\\n    2.4030   -1.2480   11.7870 C   0  0  0  0  0  0  0  0  0  0  0  0\\n    3.0600   -0.2560   11.0340 C   0  0  0  0  0  0  0  0  0  0  0  0\\n    3.3050    1.0110   11.5140 C   0  0  0  0  0  0  0  0  0  0  0  0\\n  1  2  1  0\\n  2  3  2  0\\n  2 23  1  0\\n  3  4  1  0\\n  4  5  1  0\\n  4 21  2  0\\n  5  6  1  0\\n  5 12  2  0\\n  6  7  2  0\\n  6 11  1  0\\n  7  8  1  0\\n  8  9  2  0\\n  9 10  1  0\\n 10 11  2  0\\n 12 13  1  0\\n 13 14  1  0\\n 13 15  1  0\\n 15 16  1  0\\n 15 20  2  0\\n 16 17  1  0\\n 16 21  1  0\\n 17 18  1  0\\n 17 19  2  0\\n 19 20  1  0\\n 21 22  1  0\\n 22 23  2  0\\nM  END\\n\",\"sdf\");\n\tviewer_16509009321149998.setStyle({\"model\": 0},{\"stick\": {\"colorscheme\": \"lightgreyCarbon\"}});\n\tviewer_16509009321149998.setStyle({\"model\": 1},{\"stick\": {\"colorscheme\": \"purpleCarbon\"}});\n\tviewer_16509009321149998.setStyle({\"model\": 2},{\"stick\": {\"colorscheme\": \"greyCarbon\"}});\n\tviewer_16509009321149998.zoomTo();\nviewer_16509009321149998.render();\n});\n</script>",
      "text/html": [
       "<div id=\"3dmolviewer_16509009321149998\"  style=\"position: relative; width: 640px; height: 480px\">\n",
       "        <p id=\"3dmolwarning_16509009321149998\" style=\"background-color:#ffcccc;color:black\">You appear to be running in JupyterLab (or JavaScript failed to load for some other reason).  You need to install the 3dmol extension: <br>\n",
       "        <tt>jupyter labextension install jupyterlab_3dmol</tt></p>\n",
       "        </div>\n",
       "<script>\n",
       "\n",
       "var loadScriptAsync = function(uri){\n",
       "  return new Promise((resolve, reject) => {\n",
       "    var tag = document.createElement('script');\n",
       "    tag.src = uri;\n",
       "    tag.async = true;\n",
       "    tag.onload = () => {\n",
       "      resolve();\n",
       "    };\n",
       "  var firstScriptTag = document.getElementsByTagName('script')[0];\n",
       "  firstScriptTag.parentNode.insertBefore(tag, firstScriptTag);\n",
       "});\n",
       "};\n",
       "\n",
       "if(typeof $3Dmolpromise === 'undefined') {\n",
       "$3Dmolpromise = null;\n",
       "  $3Dmolpromise = loadScriptAsync('https://3dmol.org/build/3Dmol.js');\n",
       "}\n",
       "\n",
       "var viewer_16509009321149998 = null;\n",
       "var warn = document.getElementById(\"3dmolwarning_16509009321149998\");\n",
       "if(warn) {\n",
       "    warn.parentNode.removeChild(warn);\n",
       "}\n",
       "$3Dmolpromise.then(function() {\n",
       "viewer_16509009321149998 = $3Dmol.createViewer($(\"#3dmolviewer_16509009321149998\"),{backgroundColor:\"white\"});\n",
       "viewer_16509009321149998.zoomTo();\n",
       "\tviewer_16509009321149998.addModel(\"\\n     RDKit          3D\\n\\n 10 11  0  0  0  0  0  0  0  0999 V2000\\n   -0.9983   -2.6327   -0.1081 O   0  0  0  0  0  0  0  0  0  0  0  0\\n   -0.7394   -1.4027   -0.0535 C   0  0  0  0  0  0  0  0  0  0  0  0\\n   -1.7794   -0.5533    0.0080 N   0  0  0  0  0  0  0  0  0  0  0  0\\n   -1.5585    0.7834    0.0685 C   0  0  0  0  0  0  0  0  0  0  0  0\\n   -0.2706    1.3018    0.0684 C   0  0  0  0  0  0  0  0  0  0  0  0\\n    0.7940    0.4209    0.0049 C   0  0  0  0  0  0  0  0  0  0  0  0\\n    2.1602    0.6053   -0.0130 C   0  0  0  0  0  0  0  0  0  0  0  0\\n    2.6878   -0.6286   -0.0831 N   0  0  0  0  0  0  0  0  0  0  0  0\\n    1.7371   -1.5142   -0.1074 O   0  0  0  0  0  0  0  0  0  0  0  0\\n    0.5601   -0.9372   -0.0564 C   0  0  0  0  0  0  0  0  0  0  0  0\\n  1  2  2  0\\n  2  3  1  0\\n  3  4  1  0\\n  4  5  2  0\\n  5  6  1  0\\n  6  7  1  0\\n  7  8  2  0\\n  8  9  1  0\\n  9 10  1  0\\n 10  2  1  0\\n 10  6  2  0\\nM  END\\n\",\"sdf\");\n",
       "\tviewer_16509009321149998.addModel(\"\\n     RDKit          3D\\n\\n 10 11  0  0  0  0  0  0  0  0999 V2000\\n    2.8113   -0.7258   10.7839 O   0  0  0  0  0  0  0  0  0  0  0  0\\n    2.5559   -1.4390   11.7884 C   0  0  0  0  0  0  0  0  0  0  0  0\\n    2.5827   -2.7728   11.6237 N   0  0  0  0  0  0  0  0  0  0  0  0\\n    2.3151   -3.5895   12.6727 C   0  0  0  0  0  0  0  0  0  0  0  0\\n    2.0108   -3.0764   13.9263 C   0  0  0  0  0  0  0  0  0  0  0  0\\n    1.9853   -1.7028   14.0874 C   0  0  0  0  0  0  0  0  0  0  0  0\\n    1.7255   -0.8935   15.1729 C   0  0  0  0  0  0  0  0  0  0  0  0\\n    1.8506    0.3654   14.7197 N   0  0  0  0  0  0  0  0  0  0  0  0\\n    2.1620    0.3513   13.4582 O   0  0  0  0  0  0  0  0  0  0  0  0\\n    2.2587   -0.8795   13.0149 C   0  0  0  0  0  0  0  0  0  0  0  0\\n  1  2  2  0\\n  2  3  1  0\\n  3  4  1  0\\n  4  5  2  0\\n  5  6  1  0\\n  6  7  1  0\\n  7  8  2  0\\n  8  9  1  0\\n  9 10  1  0\\n 10  2  1  0\\n 10  6  2  0\\nM  END\\n\",\"sdf\");\n",
       "\tviewer_16509009321149998.addModel(\"BRD4, Ligand 7\\n     RDKit          3D\\n\\n 23 26  0  0  0  0  0  0  0  0999 V2000\\n    3.2590    2.9010   13.4290 Cl  0  0  0  0  0  0  0  0  0  0  0  0\\n    2.9360    1.2890   12.8120 C   0  0  0  0  0  0  0  0  0  0  0  0\\n    2.3430    0.3620   13.6330 C   0  0  0  0  0  0  0  0  0  0  0  0\\n    2.0690   -0.9160   13.1160 C   0  0  0  0  0  0  0  0  0  0  0  0\\n    1.4040   -1.9100   14.0170 C   0  0  0  0  0  0  0  0  0  0  0  0\\n    0.2390   -1.4510   14.8530 C   0  0  0  0  0  0  0  0  0  0  0  0\\n   -0.5130   -0.3110   14.5260 C   0  0  0  0  0  0  0  0  0  0  0  0\\n   -1.6410    0.0420   15.2720 C   0  0  0  0  0  0  0  0  0  0  0  0\\n   -2.0370   -0.7510   16.3420 C   0  0  0  0  0  0  0  0  0  0  0  0\\n   -1.3100   -1.9100   16.6370 C   0  0  0  0  0  0  0  0  0  0  0  0\\n   -0.1850   -2.2490   15.9160 C   0  0  0  0  0  0  0  0  0  0  0  0\\n    1.7010   -3.1700   13.9680 N   0  0  0  0  0  0  0  0  0  0  0  0\\n    2.7470   -3.7670   13.1430 N   0  0  0  0  0  0  0  0  0  0  0  0\\n    3.4820   -4.9110   13.6300 C   0  0  0  0  0  0  0  0  0  0  0  0\\n    2.4970   -3.6210   11.8170 C   0  0  0  0  0  0  0  0  0  0  0  0\\n    2.1950   -2.4930   11.2130 N   0  0  0  0  0  0  0  0  0  0  0  0\\n    1.8170   -2.7700    9.9500 C   0  0  0  0  0  0  0  0  0  0  0  0\\n    1.4340   -1.8400    8.8530 C   0  0  0  0  0  0  0  0  0  0  0  0\\n    1.8190   -4.0880    9.8010 N   0  0  0  0  0  0  0  0  0  0  0  0\\n    2.2650   -4.6660   11.0030 N   0  0  0  0  0  0  0  0  0  0  0  0\\n    2.4030   -1.2480   11.7870 C   0  0  0  0  0  0  0  0  0  0  0  0\\n    3.0600   -0.2560   11.0340 C   0  0  0  0  0  0  0  0  0  0  0  0\\n    3.3050    1.0110   11.5140 C   0  0  0  0  0  0  0  0  0  0  0  0\\n  1  2  1  0\\n  2  3  2  0\\n  2 23  1  0\\n  3  4  1  0\\n  4  5  1  0\\n  4 21  2  0\\n  5  6  1  0\\n  5 12  2  0\\n  6  7  2  0\\n  6 11  1  0\\n  7  8  1  0\\n  8  9  2  0\\n  9 10  1  0\\n 10 11  2  0\\n 12 13  1  0\\n 13 14  1  0\\n 13 15  1  0\\n 15 16  1  0\\n 15 20  2  0\\n 16 17  1  0\\n 16 21  1  0\\n 17 18  1  0\\n 17 19  2  0\\n 19 20  1  0\\n 21 22  1  0\\n 22 23  2  0\\nM  END\\n\",\"sdf\");\n",
       "\tviewer_16509009321149998.setStyle({\"model\": 0},{\"stick\": {\"colorscheme\": \"lightgreyCarbon\"}});\n",
       "\tviewer_16509009321149998.setStyle({\"model\": 1},{\"stick\": {\"colorscheme\": \"purpleCarbon\"}});\n",
       "\tviewer_16509009321149998.setStyle({\"model\": 2},{\"stick\": {\"colorscheme\": \"greyCarbon\"}});\n",
       "\tviewer_16509009321149998.zoomTo();\n",
       "viewer_16509009321149998.render();\n",
       "});\n",
       "</script>"
      ]
     },
     "metadata": {},
     "output_type": "display_data"
    },
    {
     "data": {
      "text/plain": [
       "<py3Dmol.view at 0x7fdd72cf8b50>"
      ]
     },
     "metadata": {},
     "output_type": "display_data"
    },
    {
     "name": "stdout",
     "output_type": "stream",
     "text": [
      "1.4696969696969697\n"
     ]
    },
    {
     "data": {
      "application/3dmoljs_load.v0": "<div id=\"3dmolviewer_16509009321196961\"  style=\"position: relative; width: 640px; height: 480px\">\n        <p id=\"3dmolwarning_16509009321196961\" style=\"background-color:#ffcccc;color:black\">You appear to be running in JupyterLab (or JavaScript failed to load for some other reason).  You need to install the 3dmol extension: <br>\n        <tt>jupyter labextension install jupyterlab_3dmol</tt></p>\n        </div>\n<script>\n\nvar loadScriptAsync = function(uri){\n  return new Promise((resolve, reject) => {\n    var tag = document.createElement('script');\n    tag.src = uri;\n    tag.async = true;\n    tag.onload = () => {\n      resolve();\n    };\n  var firstScriptTag = document.getElementsByTagName('script')[0];\n  firstScriptTag.parentNode.insertBefore(tag, firstScriptTag);\n});\n};\n\nif(typeof $3Dmolpromise === 'undefined') {\n$3Dmolpromise = null;\n  $3Dmolpromise = loadScriptAsync('https://3dmol.org/build/3Dmol.js');\n}\n\nvar viewer_16509009321196961 = null;\nvar warn = document.getElementById(\"3dmolwarning_16509009321196961\");\nif(warn) {\n    warn.parentNode.removeChild(warn);\n}\n$3Dmolpromise.then(function() {\nviewer_16509009321196961 = $3Dmol.createViewer($(\"#3dmolviewer_16509009321196961\"),{backgroundColor:\"white\"});\nviewer_16509009321196961.zoomTo();\n\tviewer_16509009321196961.addModel(\"\\n     RDKit          3D\\n\\n 10 11  0  0  0  0  0  0  0  0999 V2000\\n   -0.9665   -1.0597   -0.0412 N   0  0  0  0  0  0  0  0  0  0  0  0\\n   -2.0068   -0.2080    0.0297 C   0  0  0  0  0  0  0  0  0  0  0  0\\n   -1.7000    1.1062    0.0993 N   0  0  0  0  0  0  0  0  0  0  0  0\\n   -0.4334    1.5012    0.0958 N   0  0  0  0  0  0  0  0  0  0  0  0\\n    0.5990    0.6322    0.0241 C   0  0  0  0  0  0  0  0  0  0  0  0\\n    0.3173   -0.6595   -0.0447 C   0  0  0  0  0  0  0  0  0  0  0  0\\n    1.3248   -1.4914   -0.1137 O   0  0  0  0  0  0  0  0  0  0  0  0\\n    2.5524   -1.0544   -0.1140 N   0  0  0  0  0  0  0  0  0  0  0  0\\n    2.8451    0.2417   -0.0451 N   0  0  0  0  0  0  0  0  0  0  0  0\\n    1.8404    1.0785    0.0241 O   0  0  0  0  0  0  0  0  0  0  0  0\\n  1  2  1  0\\n  2  3  2  0\\n  3  4  1  0\\n  4  5  1  0\\n  5  6  2  0\\n  6  7  1  0\\n  7  8  1  0\\n  8  9  2  0\\n  9 10  1  0\\n  6  1  1  0\\n 10  5  1  0\\nM  END\\n\",\"sdf\");\n\tviewer_16509009321196961.addModel(\"\\n     RDKit          3D\\n\\n 10 11  0  0  0  0  0  0  0  0999 V2000\\n    2.6722   -2.3053   13.5046 N   0  0  0  0  0  0  0  0  0  0  0  0\\n    2.9743   -3.3660   14.2767 C   0  0  0  0  0  0  0  0  0  0  0  0\\n    3.0244   -4.5642   13.6538 N   0  0  0  0  0  0  0  0  0  0  0  0\\n    2.7837   -4.6549   12.3522 N   0  0  0  0  0  0  0  0  0  0  0  0\\n    2.4817   -3.5793   11.5920 C   0  0  0  0  0  0  0  0  0  0  0  0\\n    2.4282   -2.3971   12.1854 C   0  0  0  0  0  0  0  0  0  0  0  0\\n    2.1348   -1.3630   11.4394 O   0  0  0  0  0  0  0  0  0  0  0  0\\n    1.9064   -1.5033   10.1642 N   0  0  0  0  0  0  0  0  0  0  0  0\\n    1.9579   -2.6872    9.5592 N   0  0  0  0  0  0  0  0  0  0  0  0\\n    2.2511   -3.7253   10.3013 O   0  0  0  0  0  0  0  0  0  0  0  0\\n  1  2  1  0\\n  2  3  2  0\\n  3  4  1  0\\n  4  5  1  0\\n  5  6  2  0\\n  6  7  1  0\\n  7  8  1  0\\n  8  9  2  0\\n  9 10  1  0\\n  6  1  1  0\\n 10  5  1  0\\nM  END\\n\",\"sdf\");\n\tviewer_16509009321196961.addModel(\"BRD4, Ligand 7\\n     RDKit          3D\\n\\n 23 26  0  0  0  0  0  0  0  0999 V2000\\n    3.2590    2.9010   13.4290 Cl  0  0  0  0  0  0  0  0  0  0  0  0\\n    2.9360    1.2890   12.8120 C   0  0  0  0  0  0  0  0  0  0  0  0\\n    2.3430    0.3620   13.6330 C   0  0  0  0  0  0  0  0  0  0  0  0\\n    2.0690   -0.9160   13.1160 C   0  0  0  0  0  0  0  0  0  0  0  0\\n    1.4040   -1.9100   14.0170 C   0  0  0  0  0  0  0  0  0  0  0  0\\n    0.2390   -1.4510   14.8530 C   0  0  0  0  0  0  0  0  0  0  0  0\\n   -0.5130   -0.3110   14.5260 C   0  0  0  0  0  0  0  0  0  0  0  0\\n   -1.6410    0.0420   15.2720 C   0  0  0  0  0  0  0  0  0  0  0  0\\n   -2.0370   -0.7510   16.3420 C   0  0  0  0  0  0  0  0  0  0  0  0\\n   -1.3100   -1.9100   16.6370 C   0  0  0  0  0  0  0  0  0  0  0  0\\n   -0.1850   -2.2490   15.9160 C   0  0  0  0  0  0  0  0  0  0  0  0\\n    1.7010   -3.1700   13.9680 N   0  0  0  0  0  0  0  0  0  0  0  0\\n    2.7470   -3.7670   13.1430 N   0  0  0  0  0  0  0  0  0  0  0  0\\n    3.4820   -4.9110   13.6300 C   0  0  0  0  0  0  0  0  0  0  0  0\\n    2.4970   -3.6210   11.8170 C   0  0  0  0  0  0  0  0  0  0  0  0\\n    2.1950   -2.4930   11.2130 N   0  0  0  0  0  0  0  0  0  0  0  0\\n    1.8170   -2.7700    9.9500 C   0  0  0  0  0  0  0  0  0  0  0  0\\n    1.4340   -1.8400    8.8530 C   0  0  0  0  0  0  0  0  0  0  0  0\\n    1.8190   -4.0880    9.8010 N   0  0  0  0  0  0  0  0  0  0  0  0\\n    2.2650   -4.6660   11.0030 N   0  0  0  0  0  0  0  0  0  0  0  0\\n    2.4030   -1.2480   11.7870 C   0  0  0  0  0  0  0  0  0  0  0  0\\n    3.0600   -0.2560   11.0340 C   0  0  0  0  0  0  0  0  0  0  0  0\\n    3.3050    1.0110   11.5140 C   0  0  0  0  0  0  0  0  0  0  0  0\\n  1  2  1  0\\n  2  3  2  0\\n  2 23  1  0\\n  3  4  1  0\\n  4  5  1  0\\n  4 21  2  0\\n  5  6  1  0\\n  5 12  2  0\\n  6  7  2  0\\n  6 11  1  0\\n  7  8  1  0\\n  8  9  2  0\\n  9 10  1  0\\n 10 11  2  0\\n 12 13  1  0\\n 13 14  1  0\\n 13 15  1  0\\n 15 16  1  0\\n 15 20  2  0\\n 16 17  1  0\\n 16 21  1  0\\n 17 18  1  0\\n 17 19  2  0\\n 19 20  1  0\\n 21 22  1  0\\n 22 23  2  0\\nM  END\\n\",\"sdf\");\n\tviewer_16509009321196961.setStyle({\"model\": 0},{\"stick\": {\"colorscheme\": \"lightgreyCarbon\"}});\n\tviewer_16509009321196961.setStyle({\"model\": 1},{\"stick\": {\"colorscheme\": \"purpleCarbon\"}});\n\tviewer_16509009321196961.setStyle({\"model\": 2},{\"stick\": {\"colorscheme\": \"greyCarbon\"}});\n\tviewer_16509009321196961.zoomTo();\nviewer_16509009321196961.render();\n});\n</script>",
      "text/html": [
       "<div id=\"3dmolviewer_16509009321196961\"  style=\"position: relative; width: 640px; height: 480px\">\n",
       "        <p id=\"3dmolwarning_16509009321196961\" style=\"background-color:#ffcccc;color:black\">You appear to be running in JupyterLab (or JavaScript failed to load for some other reason).  You need to install the 3dmol extension: <br>\n",
       "        <tt>jupyter labextension install jupyterlab_3dmol</tt></p>\n",
       "        </div>\n",
       "<script>\n",
       "\n",
       "var loadScriptAsync = function(uri){\n",
       "  return new Promise((resolve, reject) => {\n",
       "    var tag = document.createElement('script');\n",
       "    tag.src = uri;\n",
       "    tag.async = true;\n",
       "    tag.onload = () => {\n",
       "      resolve();\n",
       "    };\n",
       "  var firstScriptTag = document.getElementsByTagName('script')[0];\n",
       "  firstScriptTag.parentNode.insertBefore(tag, firstScriptTag);\n",
       "});\n",
       "};\n",
       "\n",
       "if(typeof $3Dmolpromise === 'undefined') {\n",
       "$3Dmolpromise = null;\n",
       "  $3Dmolpromise = loadScriptAsync('https://3dmol.org/build/3Dmol.js');\n",
       "}\n",
       "\n",
       "var viewer_16509009321196961 = null;\n",
       "var warn = document.getElementById(\"3dmolwarning_16509009321196961\");\n",
       "if(warn) {\n",
       "    warn.parentNode.removeChild(warn);\n",
       "}\n",
       "$3Dmolpromise.then(function() {\n",
       "viewer_16509009321196961 = $3Dmol.createViewer($(\"#3dmolviewer_16509009321196961\"),{backgroundColor:\"white\"});\n",
       "viewer_16509009321196961.zoomTo();\n",
       "\tviewer_16509009321196961.addModel(\"\\n     RDKit          3D\\n\\n 10 11  0  0  0  0  0  0  0  0999 V2000\\n   -0.9665   -1.0597   -0.0412 N   0  0  0  0  0  0  0  0  0  0  0  0\\n   -2.0068   -0.2080    0.0297 C   0  0  0  0  0  0  0  0  0  0  0  0\\n   -1.7000    1.1062    0.0993 N   0  0  0  0  0  0  0  0  0  0  0  0\\n   -0.4334    1.5012    0.0958 N   0  0  0  0  0  0  0  0  0  0  0  0\\n    0.5990    0.6322    0.0241 C   0  0  0  0  0  0  0  0  0  0  0  0\\n    0.3173   -0.6595   -0.0447 C   0  0  0  0  0  0  0  0  0  0  0  0\\n    1.3248   -1.4914   -0.1137 O   0  0  0  0  0  0  0  0  0  0  0  0\\n    2.5524   -1.0544   -0.1140 N   0  0  0  0  0  0  0  0  0  0  0  0\\n    2.8451    0.2417   -0.0451 N   0  0  0  0  0  0  0  0  0  0  0  0\\n    1.8404    1.0785    0.0241 O   0  0  0  0  0  0  0  0  0  0  0  0\\n  1  2  1  0\\n  2  3  2  0\\n  3  4  1  0\\n  4  5  1  0\\n  5  6  2  0\\n  6  7  1  0\\n  7  8  1  0\\n  8  9  2  0\\n  9 10  1  0\\n  6  1  1  0\\n 10  5  1  0\\nM  END\\n\",\"sdf\");\n",
       "\tviewer_16509009321196961.addModel(\"\\n     RDKit          3D\\n\\n 10 11  0  0  0  0  0  0  0  0999 V2000\\n    2.6722   -2.3053   13.5046 N   0  0  0  0  0  0  0  0  0  0  0  0\\n    2.9743   -3.3660   14.2767 C   0  0  0  0  0  0  0  0  0  0  0  0\\n    3.0244   -4.5642   13.6538 N   0  0  0  0  0  0  0  0  0  0  0  0\\n    2.7837   -4.6549   12.3522 N   0  0  0  0  0  0  0  0  0  0  0  0\\n    2.4817   -3.5793   11.5920 C   0  0  0  0  0  0  0  0  0  0  0  0\\n    2.4282   -2.3971   12.1854 C   0  0  0  0  0  0  0  0  0  0  0  0\\n    2.1348   -1.3630   11.4394 O   0  0  0  0  0  0  0  0  0  0  0  0\\n    1.9064   -1.5033   10.1642 N   0  0  0  0  0  0  0  0  0  0  0  0\\n    1.9579   -2.6872    9.5592 N   0  0  0  0  0  0  0  0  0  0  0  0\\n    2.2511   -3.7253   10.3013 O   0  0  0  0  0  0  0  0  0  0  0  0\\n  1  2  1  0\\n  2  3  2  0\\n  3  4  1  0\\n  4  5  1  0\\n  5  6  2  0\\n  6  7  1  0\\n  7  8  1  0\\n  8  9  2  0\\n  9 10  1  0\\n  6  1  1  0\\n 10  5  1  0\\nM  END\\n\",\"sdf\");\n",
       "\tviewer_16509009321196961.addModel(\"BRD4, Ligand 7\\n     RDKit          3D\\n\\n 23 26  0  0  0  0  0  0  0  0999 V2000\\n    3.2590    2.9010   13.4290 Cl  0  0  0  0  0  0  0  0  0  0  0  0\\n    2.9360    1.2890   12.8120 C   0  0  0  0  0  0  0  0  0  0  0  0\\n    2.3430    0.3620   13.6330 C   0  0  0  0  0  0  0  0  0  0  0  0\\n    2.0690   -0.9160   13.1160 C   0  0  0  0  0  0  0  0  0  0  0  0\\n    1.4040   -1.9100   14.0170 C   0  0  0  0  0  0  0  0  0  0  0  0\\n    0.2390   -1.4510   14.8530 C   0  0  0  0  0  0  0  0  0  0  0  0\\n   -0.5130   -0.3110   14.5260 C   0  0  0  0  0  0  0  0  0  0  0  0\\n   -1.6410    0.0420   15.2720 C   0  0  0  0  0  0  0  0  0  0  0  0\\n   -2.0370   -0.7510   16.3420 C   0  0  0  0  0  0  0  0  0  0  0  0\\n   -1.3100   -1.9100   16.6370 C   0  0  0  0  0  0  0  0  0  0  0  0\\n   -0.1850   -2.2490   15.9160 C   0  0  0  0  0  0  0  0  0  0  0  0\\n    1.7010   -3.1700   13.9680 N   0  0  0  0  0  0  0  0  0  0  0  0\\n    2.7470   -3.7670   13.1430 N   0  0  0  0  0  0  0  0  0  0  0  0\\n    3.4820   -4.9110   13.6300 C   0  0  0  0  0  0  0  0  0  0  0  0\\n    2.4970   -3.6210   11.8170 C   0  0  0  0  0  0  0  0  0  0  0  0\\n    2.1950   -2.4930   11.2130 N   0  0  0  0  0  0  0  0  0  0  0  0\\n    1.8170   -2.7700    9.9500 C   0  0  0  0  0  0  0  0  0  0  0  0\\n    1.4340   -1.8400    8.8530 C   0  0  0  0  0  0  0  0  0  0  0  0\\n    1.8190   -4.0880    9.8010 N   0  0  0  0  0  0  0  0  0  0  0  0\\n    2.2650   -4.6660   11.0030 N   0  0  0  0  0  0  0  0  0  0  0  0\\n    2.4030   -1.2480   11.7870 C   0  0  0  0  0  0  0  0  0  0  0  0\\n    3.0600   -0.2560   11.0340 C   0  0  0  0  0  0  0  0  0  0  0  0\\n    3.3050    1.0110   11.5140 C   0  0  0  0  0  0  0  0  0  0  0  0\\n  1  2  1  0\\n  2  3  2  0\\n  2 23  1  0\\n  3  4  1  0\\n  4  5  1  0\\n  4 21  2  0\\n  5  6  1  0\\n  5 12  2  0\\n  6  7  2  0\\n  6 11  1  0\\n  7  8  1  0\\n  8  9  2  0\\n  9 10  1  0\\n 10 11  2  0\\n 12 13  1  0\\n 13 14  1  0\\n 13 15  1  0\\n 15 16  1  0\\n 15 20  2  0\\n 16 17  1  0\\n 16 21  1  0\\n 17 18  1  0\\n 17 19  2  0\\n 19 20  1  0\\n 21 22  1  0\\n 22 23  2  0\\nM  END\\n\",\"sdf\");\n",
       "\tviewer_16509009321196961.setStyle({\"model\": 0},{\"stick\": {\"colorscheme\": \"lightgreyCarbon\"}});\n",
       "\tviewer_16509009321196961.setStyle({\"model\": 1},{\"stick\": {\"colorscheme\": \"purpleCarbon\"}});\n",
       "\tviewer_16509009321196961.setStyle({\"model\": 2},{\"stick\": {\"colorscheme\": \"greyCarbon\"}});\n",
       "\tviewer_16509009321196961.zoomTo();\n",
       "viewer_16509009321196961.render();\n",
       "});\n",
       "</script>"
      ]
     },
     "metadata": {},
     "output_type": "display_data"
    },
    {
     "data": {
      "text/plain": [
       "<py3Dmol.view at 0x7fde48b602b0>"
      ]
     },
     "metadata": {},
     "output_type": "display_data"
    },
    {
     "name": "stdout",
     "output_type": "stream",
     "text": [
      "1.4539877300613497\n"
     ]
    },
    {
     "data": {
      "application/3dmoljs_load.v0": "<div id=\"3dmolviewer_16509009321245906\"  style=\"position: relative; width: 640px; height: 480px\">\n        <p id=\"3dmolwarning_16509009321245906\" style=\"background-color:#ffcccc;color:black\">You appear to be running in JupyterLab (or JavaScript failed to load for some other reason).  You need to install the 3dmol extension: <br>\n        <tt>jupyter labextension install jupyterlab_3dmol</tt></p>\n        </div>\n<script>\n\nvar loadScriptAsync = function(uri){\n  return new Promise((resolve, reject) => {\n    var tag = document.createElement('script');\n    tag.src = uri;\n    tag.async = true;\n    tag.onload = () => {\n      resolve();\n    };\n  var firstScriptTag = document.getElementsByTagName('script')[0];\n  firstScriptTag.parentNode.insertBefore(tag, firstScriptTag);\n});\n};\n\nif(typeof $3Dmolpromise === 'undefined') {\n$3Dmolpromise = null;\n  $3Dmolpromise = loadScriptAsync('https://3dmol.org/build/3Dmol.js');\n}\n\nvar viewer_16509009321245906 = null;\nvar warn = document.getElementById(\"3dmolwarning_16509009321245906\");\nif(warn) {\n    warn.parentNode.removeChild(warn);\n}\n$3Dmolpromise.then(function() {\nviewer_16509009321245906 = $3Dmol.createViewer($(\"#3dmolviewer_16509009321245906\"),{backgroundColor:\"white\"});\nviewer_16509009321245906.zoomTo();\n\tviewer_16509009321245906.addModel(\"\\n     RDKit          3D\\n\\n  5  5  0  0  0  0  0  0  0  0999 V2000\\n    1.1026   -0.0992    0.0664 C   0  0  0  0  0  0  0  0  0  0  0  0\\n    0.0062    0.6887   -0.2293 C   0  0  0  0  0  0  0  0  0  0  0  0\\n   -1.0772   -0.1003   -0.3406 N   0  0  0  0  0  0  0  0  0  0  0  0\\n   -0.6838   -1.3586   -0.1219 N   0  0  0  0  0  0  0  0  0  0  0  0\\n    0.6269   -1.3592    0.1230 N   0  0  0  0  0  0  0  0  0  0  0  0\\n  1  2  2  0\\n  2  3  1  0\\n  3  4  1  0\\n  4  5  2  0\\n  5  1  1  0\\nM  END\\n\",\"sdf\");\n\tviewer_16509009321245906.addModel(\"\\n     RDKit          3D\\n\\n  5  5  0  0  0  0  0  0  0  0999 V2000\\n   -1.1168   -1.4638   14.8646 C   0  0  0  0  0  0  0  0  0  0  0  0\\n   -0.9391   -0.0931   14.8685 C   0  0  0  0  0  0  0  0  0  0  0  0\\n   -1.6180    0.4291   15.9054 N   0  0  0  0  0  0  0  0  0  0  0  0\\n   -2.2135   -0.5807   16.5470 N   0  0  0  0  0  0  0  0  0  0  0  0\\n   -1.9128   -1.7195   15.9220 N   0  0  0  0  0  0  0  0  0  0  0  0\\n  1  2  2  0\\n  2  3  1  0\\n  3  4  1  0\\n  4  5  2  0\\n  5  1  1  0\\nM  END\\n\",\"sdf\");\n\tviewer_16509009321245906.addModel(\"BRD4, Ligand 7\\n     RDKit          3D\\n\\n 23 26  0  0  0  0  0  0  0  0999 V2000\\n    3.2590    2.9010   13.4290 Cl  0  0  0  0  0  0  0  0  0  0  0  0\\n    2.9360    1.2890   12.8120 C   0  0  0  0  0  0  0  0  0  0  0  0\\n    2.3430    0.3620   13.6330 C   0  0  0  0  0  0  0  0  0  0  0  0\\n    2.0690   -0.9160   13.1160 C   0  0  0  0  0  0  0  0  0  0  0  0\\n    1.4040   -1.9100   14.0170 C   0  0  0  0  0  0  0  0  0  0  0  0\\n    0.2390   -1.4510   14.8530 C   0  0  0  0  0  0  0  0  0  0  0  0\\n   -0.5130   -0.3110   14.5260 C   0  0  0  0  0  0  0  0  0  0  0  0\\n   -1.6410    0.0420   15.2720 C   0  0  0  0  0  0  0  0  0  0  0  0\\n   -2.0370   -0.7510   16.3420 C   0  0  0  0  0  0  0  0  0  0  0  0\\n   -1.3100   -1.9100   16.6370 C   0  0  0  0  0  0  0  0  0  0  0  0\\n   -0.1850   -2.2490   15.9160 C   0  0  0  0  0  0  0  0  0  0  0  0\\n    1.7010   -3.1700   13.9680 N   0  0  0  0  0  0  0  0  0  0  0  0\\n    2.7470   -3.7670   13.1430 N   0  0  0  0  0  0  0  0  0  0  0  0\\n    3.4820   -4.9110   13.6300 C   0  0  0  0  0  0  0  0  0  0  0  0\\n    2.4970   -3.6210   11.8170 C   0  0  0  0  0  0  0  0  0  0  0  0\\n    2.1950   -2.4930   11.2130 N   0  0  0  0  0  0  0  0  0  0  0  0\\n    1.8170   -2.7700    9.9500 C   0  0  0  0  0  0  0  0  0  0  0  0\\n    1.4340   -1.8400    8.8530 C   0  0  0  0  0  0  0  0  0  0  0  0\\n    1.8190   -4.0880    9.8010 N   0  0  0  0  0  0  0  0  0  0  0  0\\n    2.2650   -4.6660   11.0030 N   0  0  0  0  0  0  0  0  0  0  0  0\\n    2.4030   -1.2480   11.7870 C   0  0  0  0  0  0  0  0  0  0  0  0\\n    3.0600   -0.2560   11.0340 C   0  0  0  0  0  0  0  0  0  0  0  0\\n    3.3050    1.0110   11.5140 C   0  0  0  0  0  0  0  0  0  0  0  0\\n  1  2  1  0\\n  2  3  2  0\\n  2 23  1  0\\n  3  4  1  0\\n  4  5  1  0\\n  4 21  2  0\\n  5  6  1  0\\n  5 12  2  0\\n  6  7  2  0\\n  6 11  1  0\\n  7  8  1  0\\n  8  9  2  0\\n  9 10  1  0\\n 10 11  2  0\\n 12 13  1  0\\n 13 14  1  0\\n 13 15  1  0\\n 15 16  1  0\\n 15 20  2  0\\n 16 17  1  0\\n 16 21  1  0\\n 17 18  1  0\\n 17 19  2  0\\n 19 20  1  0\\n 21 22  1  0\\n 22 23  2  0\\nM  END\\n\",\"sdf\");\n\tviewer_16509009321245906.setStyle({\"model\": 0},{\"stick\": {\"colorscheme\": \"lightgreyCarbon\"}});\n\tviewer_16509009321245906.setStyle({\"model\": 1},{\"stick\": {\"colorscheme\": \"purpleCarbon\"}});\n\tviewer_16509009321245906.setStyle({\"model\": 2},{\"stick\": {\"colorscheme\": \"greyCarbon\"}});\n\tviewer_16509009321245906.zoomTo();\nviewer_16509009321245906.render();\n});\n</script>",
      "text/html": [
       "<div id=\"3dmolviewer_16509009321245906\"  style=\"position: relative; width: 640px; height: 480px\">\n",
       "        <p id=\"3dmolwarning_16509009321245906\" style=\"background-color:#ffcccc;color:black\">You appear to be running in JupyterLab (or JavaScript failed to load for some other reason).  You need to install the 3dmol extension: <br>\n",
       "        <tt>jupyter labextension install jupyterlab_3dmol</tt></p>\n",
       "        </div>\n",
       "<script>\n",
       "\n",
       "var loadScriptAsync = function(uri){\n",
       "  return new Promise((resolve, reject) => {\n",
       "    var tag = document.createElement('script');\n",
       "    tag.src = uri;\n",
       "    tag.async = true;\n",
       "    tag.onload = () => {\n",
       "      resolve();\n",
       "    };\n",
       "  var firstScriptTag = document.getElementsByTagName('script')[0];\n",
       "  firstScriptTag.parentNode.insertBefore(tag, firstScriptTag);\n",
       "});\n",
       "};\n",
       "\n",
       "if(typeof $3Dmolpromise === 'undefined') {\n",
       "$3Dmolpromise = null;\n",
       "  $3Dmolpromise = loadScriptAsync('https://3dmol.org/build/3Dmol.js');\n",
       "}\n",
       "\n",
       "var viewer_16509009321245906 = null;\n",
       "var warn = document.getElementById(\"3dmolwarning_16509009321245906\");\n",
       "if(warn) {\n",
       "    warn.parentNode.removeChild(warn);\n",
       "}\n",
       "$3Dmolpromise.then(function() {\n",
       "viewer_16509009321245906 = $3Dmol.createViewer($(\"#3dmolviewer_16509009321245906\"),{backgroundColor:\"white\"});\n",
       "viewer_16509009321245906.zoomTo();\n",
       "\tviewer_16509009321245906.addModel(\"\\n     RDKit          3D\\n\\n  5  5  0  0  0  0  0  0  0  0999 V2000\\n    1.1026   -0.0992    0.0664 C   0  0  0  0  0  0  0  0  0  0  0  0\\n    0.0062    0.6887   -0.2293 C   0  0  0  0  0  0  0  0  0  0  0  0\\n   -1.0772   -0.1003   -0.3406 N   0  0  0  0  0  0  0  0  0  0  0  0\\n   -0.6838   -1.3586   -0.1219 N   0  0  0  0  0  0  0  0  0  0  0  0\\n    0.6269   -1.3592    0.1230 N   0  0  0  0  0  0  0  0  0  0  0  0\\n  1  2  2  0\\n  2  3  1  0\\n  3  4  1  0\\n  4  5  2  0\\n  5  1  1  0\\nM  END\\n\",\"sdf\");\n",
       "\tviewer_16509009321245906.addModel(\"\\n     RDKit          3D\\n\\n  5  5  0  0  0  0  0  0  0  0999 V2000\\n   -1.1168   -1.4638   14.8646 C   0  0  0  0  0  0  0  0  0  0  0  0\\n   -0.9391   -0.0931   14.8685 C   0  0  0  0  0  0  0  0  0  0  0  0\\n   -1.6180    0.4291   15.9054 N   0  0  0  0  0  0  0  0  0  0  0  0\\n   -2.2135   -0.5807   16.5470 N   0  0  0  0  0  0  0  0  0  0  0  0\\n   -1.9128   -1.7195   15.9220 N   0  0  0  0  0  0  0  0  0  0  0  0\\n  1  2  2  0\\n  2  3  1  0\\n  3  4  1  0\\n  4  5  2  0\\n  5  1  1  0\\nM  END\\n\",\"sdf\");\n",
       "\tviewer_16509009321245906.addModel(\"BRD4, Ligand 7\\n     RDKit          3D\\n\\n 23 26  0  0  0  0  0  0  0  0999 V2000\\n    3.2590    2.9010   13.4290 Cl  0  0  0  0  0  0  0  0  0  0  0  0\\n    2.9360    1.2890   12.8120 C   0  0  0  0  0  0  0  0  0  0  0  0\\n    2.3430    0.3620   13.6330 C   0  0  0  0  0  0  0  0  0  0  0  0\\n    2.0690   -0.9160   13.1160 C   0  0  0  0  0  0  0  0  0  0  0  0\\n    1.4040   -1.9100   14.0170 C   0  0  0  0  0  0  0  0  0  0  0  0\\n    0.2390   -1.4510   14.8530 C   0  0  0  0  0  0  0  0  0  0  0  0\\n   -0.5130   -0.3110   14.5260 C   0  0  0  0  0  0  0  0  0  0  0  0\\n   -1.6410    0.0420   15.2720 C   0  0  0  0  0  0  0  0  0  0  0  0\\n   -2.0370   -0.7510   16.3420 C   0  0  0  0  0  0  0  0  0  0  0  0\\n   -1.3100   -1.9100   16.6370 C   0  0  0  0  0  0  0  0  0  0  0  0\\n   -0.1850   -2.2490   15.9160 C   0  0  0  0  0  0  0  0  0  0  0  0\\n    1.7010   -3.1700   13.9680 N   0  0  0  0  0  0  0  0  0  0  0  0\\n    2.7470   -3.7670   13.1430 N   0  0  0  0  0  0  0  0  0  0  0  0\\n    3.4820   -4.9110   13.6300 C   0  0  0  0  0  0  0  0  0  0  0  0\\n    2.4970   -3.6210   11.8170 C   0  0  0  0  0  0  0  0  0  0  0  0\\n    2.1950   -2.4930   11.2130 N   0  0  0  0  0  0  0  0  0  0  0  0\\n    1.8170   -2.7700    9.9500 C   0  0  0  0  0  0  0  0  0  0  0  0\\n    1.4340   -1.8400    8.8530 C   0  0  0  0  0  0  0  0  0  0  0  0\\n    1.8190   -4.0880    9.8010 N   0  0  0  0  0  0  0  0  0  0  0  0\\n    2.2650   -4.6660   11.0030 N   0  0  0  0  0  0  0  0  0  0  0  0\\n    2.4030   -1.2480   11.7870 C   0  0  0  0  0  0  0  0  0  0  0  0\\n    3.0600   -0.2560   11.0340 C   0  0  0  0  0  0  0  0  0  0  0  0\\n    3.3050    1.0110   11.5140 C   0  0  0  0  0  0  0  0  0  0  0  0\\n  1  2  1  0\\n  2  3  2  0\\n  2 23  1  0\\n  3  4  1  0\\n  4  5  1  0\\n  4 21  2  0\\n  5  6  1  0\\n  5 12  2  0\\n  6  7  2  0\\n  6 11  1  0\\n  7  8  1  0\\n  8  9  2  0\\n  9 10  1  0\\n 10 11  2  0\\n 12 13  1  0\\n 13 14  1  0\\n 13 15  1  0\\n 15 16  1  0\\n 15 20  2  0\\n 16 17  1  0\\n 16 21  1  0\\n 17 18  1  0\\n 17 19  2  0\\n 19 20  1  0\\n 21 22  1  0\\n 22 23  2  0\\nM  END\\n\",\"sdf\");\n",
       "\tviewer_16509009321245906.setStyle({\"model\": 0},{\"stick\": {\"colorscheme\": \"lightgreyCarbon\"}});\n",
       "\tviewer_16509009321245906.setStyle({\"model\": 1},{\"stick\": {\"colorscheme\": \"purpleCarbon\"}});\n",
       "\tviewer_16509009321245906.setStyle({\"model\": 2},{\"stick\": {\"colorscheme\": \"greyCarbon\"}});\n",
       "\tviewer_16509009321245906.zoomTo();\n",
       "viewer_16509009321245906.render();\n",
       "});\n",
       "</script>"
      ]
     },
     "metadata": {},
     "output_type": "display_data"
    },
    {
     "data": {
      "text/plain": [
       "<py3Dmol.view at 0x7fdd72cf8250>"
      ]
     },
     "metadata": {},
     "output_type": "display_data"
    },
    {
     "name": "stdout",
     "output_type": "stream",
     "text": [
      "1.4441176470588235\n"
     ]
    },
    {
     "data": {
      "application/3dmoljs_load.v0": "<div id=\"3dmolviewer_16509009321290104\"  style=\"position: relative; width: 640px; height: 480px\">\n        <p id=\"3dmolwarning_16509009321290104\" style=\"background-color:#ffcccc;color:black\">You appear to be running in JupyterLab (or JavaScript failed to load for some other reason).  You need to install the 3dmol extension: <br>\n        <tt>jupyter labextension install jupyterlab_3dmol</tt></p>\n        </div>\n<script>\n\nvar loadScriptAsync = function(uri){\n  return new Promise((resolve, reject) => {\n    var tag = document.createElement('script');\n    tag.src = uri;\n    tag.async = true;\n    tag.onload = () => {\n      resolve();\n    };\n  var firstScriptTag = document.getElementsByTagName('script')[0];\n  firstScriptTag.parentNode.insertBefore(tag, firstScriptTag);\n});\n};\n\nif(typeof $3Dmolpromise === 'undefined') {\n$3Dmolpromise = null;\n  $3Dmolpromise = loadScriptAsync('https://3dmol.org/build/3Dmol.js');\n}\n\nvar viewer_16509009321290104 = null;\nvar warn = document.getElementById(\"3dmolwarning_16509009321290104\");\nif(warn) {\n    warn.parentNode.removeChild(warn);\n}\n$3Dmolpromise.then(function() {\nviewer_16509009321290104 = $3Dmol.createViewer($(\"#3dmolviewer_16509009321290104\"),{backgroundColor:\"white\"});\nviewer_16509009321290104.zoomTo();\n\tviewer_16509009321290104.addModel(\"\\n     RDKit          3D\\n\\n 10 11  0  0  0  0  0  0  0  0999 V2000\\n   -3.0141   -0.7622    0.1657 O   0  0  0  0  0  0  0  0  0  0  0  0\\n   -1.8026   -0.4020    0.0987 C   0  0  0  0  0  0  0  0  0  0  0  0\\n   -0.8451   -1.3464    0.0549 N   0  0  0  0  0  0  0  0  0  0  0  0\\n    0.4719   -0.9928   -0.0177 C   0  0  0  0  0  0  0  0  0  0  0  0\\n    1.5888   -1.6562   -0.0721 O   0  0  0  0  0  0  0  0  0  0  0  0\\n    2.6099   -0.8574   -0.1322 N   0  0  0  0  0  0  0  0  0  0  0  0\\n    2.1986    0.4280   -0.1199 C   0  0  0  0  0  0  0  0  0  0  0  0\\n    0.8138    0.3428   -0.0458 C   0  0  0  0  0  0  0  0  0  0  0  0\\n   -0.1627    1.3016   -0.0010 C   0  0  0  0  0  0  0  0  0  0  0  0\\n   -1.5042    0.9487    0.0728 C   0  0  0  0  0  0  0  0  0  0  0  0\\n  1  2  2  0\\n  2  3  1  0\\n  3  4  1  0\\n  4  5  1  0\\n  5  6  1  0\\n  6  7  2  0\\n  7  8  1  0\\n  8  9  1  0\\n  9 10  2  0\\n 10  2  1  0\\n  8  4  2  0\\nM  END\\n\",\"sdf\");\n\tviewer_16509009321290104.addModel(\"\\n     RDKit          3D\\n\\n 10 11  0  0  0  0  0  0  0  0999 V2000\\n    2.1250   -3.4522    9.9842 O   0  0  0  0  0  0  0  0  0  0  0  0\\n    2.4353   -3.4730   11.2111 C   0  0  0  0  0  0  0  0  0  0  0  0\\n    2.8305   -4.6352   11.7621 N   0  0  0  0  0  0  0  0  0  0  0  0\\n    3.1725   -4.6932   13.0829 C   0  0  0  0  0  0  0  0  0  0  0  0\\n    3.5801   -5.6403   13.8748 O   0  0  0  0  0  0  0  0  0  0  0  0\\n    3.7811   -5.1962   15.0776 N   0  0  0  0  0  0  0  0  0  0  0  0\\n    3.5039   -3.8768   15.1406 C   0  0  0  0  0  0  0  0  0  0  0  0\\n    3.1094   -3.5487   13.8494 C   0  0  0  0  0  0  0  0  0  0  0  0\\n    2.7068   -2.3674   13.2860 C   0  0  0  0  0  0  0  0  0  0  0  0\\n    2.3577   -2.3016   11.9431 C   0  0  0  0  0  0  0  0  0  0  0  0\\n  1  2  2  0\\n  2  3  1  0\\n  3  4  1  0\\n  4  5  1  0\\n  5  6  1  0\\n  6  7  2  0\\n  7  8  1  0\\n  8  9  1  0\\n  9 10  2  0\\n 10  2  1  0\\n  8  4  2  0\\nM  END\\n\",\"sdf\");\n\tviewer_16509009321290104.addModel(\"BRD4, Ligand 7\\n     RDKit          3D\\n\\n 23 26  0  0  0  0  0  0  0  0999 V2000\\n    3.2590    2.9010   13.4290 Cl  0  0  0  0  0  0  0  0  0  0  0  0\\n    2.9360    1.2890   12.8120 C   0  0  0  0  0  0  0  0  0  0  0  0\\n    2.3430    0.3620   13.6330 C   0  0  0  0  0  0  0  0  0  0  0  0\\n    2.0690   -0.9160   13.1160 C   0  0  0  0  0  0  0  0  0  0  0  0\\n    1.4040   -1.9100   14.0170 C   0  0  0  0  0  0  0  0  0  0  0  0\\n    0.2390   -1.4510   14.8530 C   0  0  0  0  0  0  0  0  0  0  0  0\\n   -0.5130   -0.3110   14.5260 C   0  0  0  0  0  0  0  0  0  0  0  0\\n   -1.6410    0.0420   15.2720 C   0  0  0  0  0  0  0  0  0  0  0  0\\n   -2.0370   -0.7510   16.3420 C   0  0  0  0  0  0  0  0  0  0  0  0\\n   -1.3100   -1.9100   16.6370 C   0  0  0  0  0  0  0  0  0  0  0  0\\n   -0.1850   -2.2490   15.9160 C   0  0  0  0  0  0  0  0  0  0  0  0\\n    1.7010   -3.1700   13.9680 N   0  0  0  0  0  0  0  0  0  0  0  0\\n    2.7470   -3.7670   13.1430 N   0  0  0  0  0  0  0  0  0  0  0  0\\n    3.4820   -4.9110   13.6300 C   0  0  0  0  0  0  0  0  0  0  0  0\\n    2.4970   -3.6210   11.8170 C   0  0  0  0  0  0  0  0  0  0  0  0\\n    2.1950   -2.4930   11.2130 N   0  0  0  0  0  0  0  0  0  0  0  0\\n    1.8170   -2.7700    9.9500 C   0  0  0  0  0  0  0  0  0  0  0  0\\n    1.4340   -1.8400    8.8530 C   0  0  0  0  0  0  0  0  0  0  0  0\\n    1.8190   -4.0880    9.8010 N   0  0  0  0  0  0  0  0  0  0  0  0\\n    2.2650   -4.6660   11.0030 N   0  0  0  0  0  0  0  0  0  0  0  0\\n    2.4030   -1.2480   11.7870 C   0  0  0  0  0  0  0  0  0  0  0  0\\n    3.0600   -0.2560   11.0340 C   0  0  0  0  0  0  0  0  0  0  0  0\\n    3.3050    1.0110   11.5140 C   0  0  0  0  0  0  0  0  0  0  0  0\\n  1  2  1  0\\n  2  3  2  0\\n  2 23  1  0\\n  3  4  1  0\\n  4  5  1  0\\n  4 21  2  0\\n  5  6  1  0\\n  5 12  2  0\\n  6  7  2  0\\n  6 11  1  0\\n  7  8  1  0\\n  8  9  2  0\\n  9 10  1  0\\n 10 11  2  0\\n 12 13  1  0\\n 13 14  1  0\\n 13 15  1  0\\n 15 16  1  0\\n 15 20  2  0\\n 16 17  1  0\\n 16 21  1  0\\n 17 18  1  0\\n 17 19  2  0\\n 19 20  1  0\\n 21 22  1  0\\n 22 23  2  0\\nM  END\\n\",\"sdf\");\n\tviewer_16509009321290104.setStyle({\"model\": 0},{\"stick\": {\"colorscheme\": \"lightgreyCarbon\"}});\n\tviewer_16509009321290104.setStyle({\"model\": 1},{\"stick\": {\"colorscheme\": \"purpleCarbon\"}});\n\tviewer_16509009321290104.setStyle({\"model\": 2},{\"stick\": {\"colorscheme\": \"greyCarbon\"}});\n\tviewer_16509009321290104.zoomTo();\nviewer_16509009321290104.render();\n});\n</script>",
      "text/html": [
       "<div id=\"3dmolviewer_16509009321290104\"  style=\"position: relative; width: 640px; height: 480px\">\n",
       "        <p id=\"3dmolwarning_16509009321290104\" style=\"background-color:#ffcccc;color:black\">You appear to be running in JupyterLab (or JavaScript failed to load for some other reason).  You need to install the 3dmol extension: <br>\n",
       "        <tt>jupyter labextension install jupyterlab_3dmol</tt></p>\n",
       "        </div>\n",
       "<script>\n",
       "\n",
       "var loadScriptAsync = function(uri){\n",
       "  return new Promise((resolve, reject) => {\n",
       "    var tag = document.createElement('script');\n",
       "    tag.src = uri;\n",
       "    tag.async = true;\n",
       "    tag.onload = () => {\n",
       "      resolve();\n",
       "    };\n",
       "  var firstScriptTag = document.getElementsByTagName('script')[0];\n",
       "  firstScriptTag.parentNode.insertBefore(tag, firstScriptTag);\n",
       "});\n",
       "};\n",
       "\n",
       "if(typeof $3Dmolpromise === 'undefined') {\n",
       "$3Dmolpromise = null;\n",
       "  $3Dmolpromise = loadScriptAsync('https://3dmol.org/build/3Dmol.js');\n",
       "}\n",
       "\n",
       "var viewer_16509009321290104 = null;\n",
       "var warn = document.getElementById(\"3dmolwarning_16509009321290104\");\n",
       "if(warn) {\n",
       "    warn.parentNode.removeChild(warn);\n",
       "}\n",
       "$3Dmolpromise.then(function() {\n",
       "viewer_16509009321290104 = $3Dmol.createViewer($(\"#3dmolviewer_16509009321290104\"),{backgroundColor:\"white\"});\n",
       "viewer_16509009321290104.zoomTo();\n",
       "\tviewer_16509009321290104.addModel(\"\\n     RDKit          3D\\n\\n 10 11  0  0  0  0  0  0  0  0999 V2000\\n   -3.0141   -0.7622    0.1657 O   0  0  0  0  0  0  0  0  0  0  0  0\\n   -1.8026   -0.4020    0.0987 C   0  0  0  0  0  0  0  0  0  0  0  0\\n   -0.8451   -1.3464    0.0549 N   0  0  0  0  0  0  0  0  0  0  0  0\\n    0.4719   -0.9928   -0.0177 C   0  0  0  0  0  0  0  0  0  0  0  0\\n    1.5888   -1.6562   -0.0721 O   0  0  0  0  0  0  0  0  0  0  0  0\\n    2.6099   -0.8574   -0.1322 N   0  0  0  0  0  0  0  0  0  0  0  0\\n    2.1986    0.4280   -0.1199 C   0  0  0  0  0  0  0  0  0  0  0  0\\n    0.8138    0.3428   -0.0458 C   0  0  0  0  0  0  0  0  0  0  0  0\\n   -0.1627    1.3016   -0.0010 C   0  0  0  0  0  0  0  0  0  0  0  0\\n   -1.5042    0.9487    0.0728 C   0  0  0  0  0  0  0  0  0  0  0  0\\n  1  2  2  0\\n  2  3  1  0\\n  3  4  1  0\\n  4  5  1  0\\n  5  6  1  0\\n  6  7  2  0\\n  7  8  1  0\\n  8  9  1  0\\n  9 10  2  0\\n 10  2  1  0\\n  8  4  2  0\\nM  END\\n\",\"sdf\");\n",
       "\tviewer_16509009321290104.addModel(\"\\n     RDKit          3D\\n\\n 10 11  0  0  0  0  0  0  0  0999 V2000\\n    2.1250   -3.4522    9.9842 O   0  0  0  0  0  0  0  0  0  0  0  0\\n    2.4353   -3.4730   11.2111 C   0  0  0  0  0  0  0  0  0  0  0  0\\n    2.8305   -4.6352   11.7621 N   0  0  0  0  0  0  0  0  0  0  0  0\\n    3.1725   -4.6932   13.0829 C   0  0  0  0  0  0  0  0  0  0  0  0\\n    3.5801   -5.6403   13.8748 O   0  0  0  0  0  0  0  0  0  0  0  0\\n    3.7811   -5.1962   15.0776 N   0  0  0  0  0  0  0  0  0  0  0  0\\n    3.5039   -3.8768   15.1406 C   0  0  0  0  0  0  0  0  0  0  0  0\\n    3.1094   -3.5487   13.8494 C   0  0  0  0  0  0  0  0  0  0  0  0\\n    2.7068   -2.3674   13.2860 C   0  0  0  0  0  0  0  0  0  0  0  0\\n    2.3577   -2.3016   11.9431 C   0  0  0  0  0  0  0  0  0  0  0  0\\n  1  2  2  0\\n  2  3  1  0\\n  3  4  1  0\\n  4  5  1  0\\n  5  6  1  0\\n  6  7  2  0\\n  7  8  1  0\\n  8  9  1  0\\n  9 10  2  0\\n 10  2  1  0\\n  8  4  2  0\\nM  END\\n\",\"sdf\");\n",
       "\tviewer_16509009321290104.addModel(\"BRD4, Ligand 7\\n     RDKit          3D\\n\\n 23 26  0  0  0  0  0  0  0  0999 V2000\\n    3.2590    2.9010   13.4290 Cl  0  0  0  0  0  0  0  0  0  0  0  0\\n    2.9360    1.2890   12.8120 C   0  0  0  0  0  0  0  0  0  0  0  0\\n    2.3430    0.3620   13.6330 C   0  0  0  0  0  0  0  0  0  0  0  0\\n    2.0690   -0.9160   13.1160 C   0  0  0  0  0  0  0  0  0  0  0  0\\n    1.4040   -1.9100   14.0170 C   0  0  0  0  0  0  0  0  0  0  0  0\\n    0.2390   -1.4510   14.8530 C   0  0  0  0  0  0  0  0  0  0  0  0\\n   -0.5130   -0.3110   14.5260 C   0  0  0  0  0  0  0  0  0  0  0  0\\n   -1.6410    0.0420   15.2720 C   0  0  0  0  0  0  0  0  0  0  0  0\\n   -2.0370   -0.7510   16.3420 C   0  0  0  0  0  0  0  0  0  0  0  0\\n   -1.3100   -1.9100   16.6370 C   0  0  0  0  0  0  0  0  0  0  0  0\\n   -0.1850   -2.2490   15.9160 C   0  0  0  0  0  0  0  0  0  0  0  0\\n    1.7010   -3.1700   13.9680 N   0  0  0  0  0  0  0  0  0  0  0  0\\n    2.7470   -3.7670   13.1430 N   0  0  0  0  0  0  0  0  0  0  0  0\\n    3.4820   -4.9110   13.6300 C   0  0  0  0  0  0  0  0  0  0  0  0\\n    2.4970   -3.6210   11.8170 C   0  0  0  0  0  0  0  0  0  0  0  0\\n    2.1950   -2.4930   11.2130 N   0  0  0  0  0  0  0  0  0  0  0  0\\n    1.8170   -2.7700    9.9500 C   0  0  0  0  0  0  0  0  0  0  0  0\\n    1.4340   -1.8400    8.8530 C   0  0  0  0  0  0  0  0  0  0  0  0\\n    1.8190   -4.0880    9.8010 N   0  0  0  0  0  0  0  0  0  0  0  0\\n    2.2650   -4.6660   11.0030 N   0  0  0  0  0  0  0  0  0  0  0  0\\n    2.4030   -1.2480   11.7870 C   0  0  0  0  0  0  0  0  0  0  0  0\\n    3.0600   -0.2560   11.0340 C   0  0  0  0  0  0  0  0  0  0  0  0\\n    3.3050    1.0110   11.5140 C   0  0  0  0  0  0  0  0  0  0  0  0\\n  1  2  1  0\\n  2  3  2  0\\n  2 23  1  0\\n  3  4  1  0\\n  4  5  1  0\\n  4 21  2  0\\n  5  6  1  0\\n  5 12  2  0\\n  6  7  2  0\\n  6 11  1  0\\n  7  8  1  0\\n  8  9  2  0\\n  9 10  1  0\\n 10 11  2  0\\n 12 13  1  0\\n 13 14  1  0\\n 13 15  1  0\\n 15 16  1  0\\n 15 20  2  0\\n 16 17  1  0\\n 16 21  1  0\\n 17 18  1  0\\n 17 19  2  0\\n 19 20  1  0\\n 21 22  1  0\\n 22 23  2  0\\nM  END\\n\",\"sdf\");\n",
       "\tviewer_16509009321290104.setStyle({\"model\": 0},{\"stick\": {\"colorscheme\": \"lightgreyCarbon\"}});\n",
       "\tviewer_16509009321290104.setStyle({\"model\": 1},{\"stick\": {\"colorscheme\": \"purpleCarbon\"}});\n",
       "\tviewer_16509009321290104.setStyle({\"model\": 2},{\"stick\": {\"colorscheme\": \"greyCarbon\"}});\n",
       "\tviewer_16509009321290104.zoomTo();\n",
       "viewer_16509009321290104.render();\n",
       "});\n",
       "</script>"
      ]
     },
     "metadata": {},
     "output_type": "display_data"
    },
    {
     "data": {
      "text/plain": [
       "<py3Dmol.view at 0x7fdd72cf8a30>"
      ]
     },
     "metadata": {},
     "output_type": "display_data"
    },
    {
     "name": "stdout",
     "output_type": "stream",
     "text": [
      "1.4440677966101694\n"
     ]
    },
    {
     "data": {
      "application/3dmoljs_load.v0": "<div id=\"3dmolviewer_16509009321339228\"  style=\"position: relative; width: 640px; height: 480px\">\n        <p id=\"3dmolwarning_16509009321339228\" style=\"background-color:#ffcccc;color:black\">You appear to be running in JupyterLab (or JavaScript failed to load for some other reason).  You need to install the 3dmol extension: <br>\n        <tt>jupyter labextension install jupyterlab_3dmol</tt></p>\n        </div>\n<script>\n\nvar loadScriptAsync = function(uri){\n  return new Promise((resolve, reject) => {\n    var tag = document.createElement('script');\n    tag.src = uri;\n    tag.async = true;\n    tag.onload = () => {\n      resolve();\n    };\n  var firstScriptTag = document.getElementsByTagName('script')[0];\n  firstScriptTag.parentNode.insertBefore(tag, firstScriptTag);\n});\n};\n\nif(typeof $3Dmolpromise === 'undefined') {\n$3Dmolpromise = null;\n  $3Dmolpromise = loadScriptAsync('https://3dmol.org/build/3Dmol.js');\n}\n\nvar viewer_16509009321339228 = null;\nvar warn = document.getElementById(\"3dmolwarning_16509009321339228\");\nif(warn) {\n    warn.parentNode.removeChild(warn);\n}\n$3Dmolpromise.then(function() {\nviewer_16509009321339228 = $3Dmol.createViewer($(\"#3dmolviewer_16509009321339228\"),{backgroundColor:\"white\"});\nviewer_16509009321339228.zoomTo();\n\tviewer_16509009321339228.addModel(\"\\n     RDKit          3D\\n\\n 10 11  0  0  0  0  0  0  0  0999 V2000\\n   -2.6237    1.8109   -0.2495 O   0  0  0  0  0  0  0  0  0  0  0  0\\n   -1.7221    0.9548   -0.1298 C   0  0  0  0  0  0  0  0  0  0  0  0\\n   -0.4702    1.3167   -0.1891 O   0  0  0  0  0  0  0  0  0  0  0  0\\n    0.5349    0.4908   -0.0742 C   0  0  0  0  0  0  0  0  0  0  0  0\\n    1.9031    0.6233   -0.1008 C   0  0  0  0  0  0  0  0  0  0  0  0\\n    2.4258   -0.5915    0.0732 N   0  0  0  0  0  0  0  0  0  0  0  0\\n    1.4659   -1.4356    0.2011 O   0  0  0  0  0  0  0  0  0  0  0  0\\n    0.3032   -0.8485    0.1218 C   0  0  0  0  0  0  0  0  0  0  0  0\\n   -1.0095   -1.2587    0.1885 C   0  0  0  0  0  0  0  0  0  0  0  0\\n   -2.0014   -0.3390    0.0599 N   0  0  0  0  0  0  0  0  0  0  0  0\\n  1  2  2  0\\n  2  3  1  0\\n  3  4  1  0\\n  4  5  1  0\\n  5  6  2  0\\n  6  7  1  0\\n  7  8  1  0\\n  8  9  1  0\\n  9 10  2  0\\n 10  2  1  0\\n  8  4  2  0\\nM  END\\n\",\"sdf\");\n\tviewer_16509009321339228.addModel(\"\\n     RDKit          3D\\n\\n 10 11  0  0  0  0  0  0  0  0999 V2000\\n    3.3990    2.3493   12.9986 O   0  0  0  0  0  0  0  0  0  0  0  0\\n    3.0168    1.1812   13.2217 C   0  0  0  0  0  0  0  0  0  0  0  0\\n    3.0228    0.3004   12.2595 O   0  0  0  0  0  0  0  0  0  0  0  0\\n    2.6414   -0.9404   12.4030 C   0  0  0  0  0  0  0  0  0  0  0  0\\n    2.5569   -2.0287   11.5672 C   0  0  0  0  0  0  0  0  0  0  0  0\\n    2.0868   -3.0492   12.2860 N   0  0  0  0  0  0  0  0  0  0  0  0\\n    1.8861   -2.6446   13.4886 O   0  0  0  0  0  0  0  0  0  0  0  0\\n    2.1999   -1.3853   13.6248 C   0  0  0  0  0  0  0  0  0  0  0  0\\n    2.1830   -0.4764   14.6590 C   0  0  0  0  0  0  0  0  0  0  0  0\\n    2.5956    0.7981   14.4316 N   0  0  0  0  0  0  0  0  0  0  0  0\\n  1  2  2  0\\n  2  3  1  0\\n  3  4  1  0\\n  4  5  1  0\\n  5  6  2  0\\n  6  7  1  0\\n  7  8  1  0\\n  8  9  1  0\\n  9 10  2  0\\n 10  2  1  0\\n  8  4  2  0\\nM  END\\n\",\"sdf\");\n\tviewer_16509009321339228.addModel(\"BRD4, Ligand 7\\n     RDKit          3D\\n\\n 23 26  0  0  0  0  0  0  0  0999 V2000\\n    3.2590    2.9010   13.4290 Cl  0  0  0  0  0  0  0  0  0  0  0  0\\n    2.9360    1.2890   12.8120 C   0  0  0  0  0  0  0  0  0  0  0  0\\n    2.3430    0.3620   13.6330 C   0  0  0  0  0  0  0  0  0  0  0  0\\n    2.0690   -0.9160   13.1160 C   0  0  0  0  0  0  0  0  0  0  0  0\\n    1.4040   -1.9100   14.0170 C   0  0  0  0  0  0  0  0  0  0  0  0\\n    0.2390   -1.4510   14.8530 C   0  0  0  0  0  0  0  0  0  0  0  0\\n   -0.5130   -0.3110   14.5260 C   0  0  0  0  0  0  0  0  0  0  0  0\\n   -1.6410    0.0420   15.2720 C   0  0  0  0  0  0  0  0  0  0  0  0\\n   -2.0370   -0.7510   16.3420 C   0  0  0  0  0  0  0  0  0  0  0  0\\n   -1.3100   -1.9100   16.6370 C   0  0  0  0  0  0  0  0  0  0  0  0\\n   -0.1850   -2.2490   15.9160 C   0  0  0  0  0  0  0  0  0  0  0  0\\n    1.7010   -3.1700   13.9680 N   0  0  0  0  0  0  0  0  0  0  0  0\\n    2.7470   -3.7670   13.1430 N   0  0  0  0  0  0  0  0  0  0  0  0\\n    3.4820   -4.9110   13.6300 C   0  0  0  0  0  0  0  0  0  0  0  0\\n    2.4970   -3.6210   11.8170 C   0  0  0  0  0  0  0  0  0  0  0  0\\n    2.1950   -2.4930   11.2130 N   0  0  0  0  0  0  0  0  0  0  0  0\\n    1.8170   -2.7700    9.9500 C   0  0  0  0  0  0  0  0  0  0  0  0\\n    1.4340   -1.8400    8.8530 C   0  0  0  0  0  0  0  0  0  0  0  0\\n    1.8190   -4.0880    9.8010 N   0  0  0  0  0  0  0  0  0  0  0  0\\n    2.2650   -4.6660   11.0030 N   0  0  0  0  0  0  0  0  0  0  0  0\\n    2.4030   -1.2480   11.7870 C   0  0  0  0  0  0  0  0  0  0  0  0\\n    3.0600   -0.2560   11.0340 C   0  0  0  0  0  0  0  0  0  0  0  0\\n    3.3050    1.0110   11.5140 C   0  0  0  0  0  0  0  0  0  0  0  0\\n  1  2  1  0\\n  2  3  2  0\\n  2 23  1  0\\n  3  4  1  0\\n  4  5  1  0\\n  4 21  2  0\\n  5  6  1  0\\n  5 12  2  0\\n  6  7  2  0\\n  6 11  1  0\\n  7  8  1  0\\n  8  9  2  0\\n  9 10  1  0\\n 10 11  2  0\\n 12 13  1  0\\n 13 14  1  0\\n 13 15  1  0\\n 15 16  1  0\\n 15 20  2  0\\n 16 17  1  0\\n 16 21  1  0\\n 17 18  1  0\\n 17 19  2  0\\n 19 20  1  0\\n 21 22  1  0\\n 22 23  2  0\\nM  END\\n\",\"sdf\");\n\tviewer_16509009321339228.setStyle({\"model\": 0},{\"stick\": {\"colorscheme\": \"lightgreyCarbon\"}});\n\tviewer_16509009321339228.setStyle({\"model\": 1},{\"stick\": {\"colorscheme\": \"purpleCarbon\"}});\n\tviewer_16509009321339228.setStyle({\"model\": 2},{\"stick\": {\"colorscheme\": \"greyCarbon\"}});\n\tviewer_16509009321339228.zoomTo();\nviewer_16509009321339228.render();\n});\n</script>",
      "text/html": [
       "<div id=\"3dmolviewer_16509009321339228\"  style=\"position: relative; width: 640px; height: 480px\">\n",
       "        <p id=\"3dmolwarning_16509009321339228\" style=\"background-color:#ffcccc;color:black\">You appear to be running in JupyterLab (or JavaScript failed to load for some other reason).  You need to install the 3dmol extension: <br>\n",
       "        <tt>jupyter labextension install jupyterlab_3dmol</tt></p>\n",
       "        </div>\n",
       "<script>\n",
       "\n",
       "var loadScriptAsync = function(uri){\n",
       "  return new Promise((resolve, reject) => {\n",
       "    var tag = document.createElement('script');\n",
       "    tag.src = uri;\n",
       "    tag.async = true;\n",
       "    tag.onload = () => {\n",
       "      resolve();\n",
       "    };\n",
       "  var firstScriptTag = document.getElementsByTagName('script')[0];\n",
       "  firstScriptTag.parentNode.insertBefore(tag, firstScriptTag);\n",
       "});\n",
       "};\n",
       "\n",
       "if(typeof $3Dmolpromise === 'undefined') {\n",
       "$3Dmolpromise = null;\n",
       "  $3Dmolpromise = loadScriptAsync('https://3dmol.org/build/3Dmol.js');\n",
       "}\n",
       "\n",
       "var viewer_16509009321339228 = null;\n",
       "var warn = document.getElementById(\"3dmolwarning_16509009321339228\");\n",
       "if(warn) {\n",
       "    warn.parentNode.removeChild(warn);\n",
       "}\n",
       "$3Dmolpromise.then(function() {\n",
       "viewer_16509009321339228 = $3Dmol.createViewer($(\"#3dmolviewer_16509009321339228\"),{backgroundColor:\"white\"});\n",
       "viewer_16509009321339228.zoomTo();\n",
       "\tviewer_16509009321339228.addModel(\"\\n     RDKit          3D\\n\\n 10 11  0  0  0  0  0  0  0  0999 V2000\\n   -2.6237    1.8109   -0.2495 O   0  0  0  0  0  0  0  0  0  0  0  0\\n   -1.7221    0.9548   -0.1298 C   0  0  0  0  0  0  0  0  0  0  0  0\\n   -0.4702    1.3167   -0.1891 O   0  0  0  0  0  0  0  0  0  0  0  0\\n    0.5349    0.4908   -0.0742 C   0  0  0  0  0  0  0  0  0  0  0  0\\n    1.9031    0.6233   -0.1008 C   0  0  0  0  0  0  0  0  0  0  0  0\\n    2.4258   -0.5915    0.0732 N   0  0  0  0  0  0  0  0  0  0  0  0\\n    1.4659   -1.4356    0.2011 O   0  0  0  0  0  0  0  0  0  0  0  0\\n    0.3032   -0.8485    0.1218 C   0  0  0  0  0  0  0  0  0  0  0  0\\n   -1.0095   -1.2587    0.1885 C   0  0  0  0  0  0  0  0  0  0  0  0\\n   -2.0014   -0.3390    0.0599 N   0  0  0  0  0  0  0  0  0  0  0  0\\n  1  2  2  0\\n  2  3  1  0\\n  3  4  1  0\\n  4  5  1  0\\n  5  6  2  0\\n  6  7  1  0\\n  7  8  1  0\\n  8  9  1  0\\n  9 10  2  0\\n 10  2  1  0\\n  8  4  2  0\\nM  END\\n\",\"sdf\");\n",
       "\tviewer_16509009321339228.addModel(\"\\n     RDKit          3D\\n\\n 10 11  0  0  0  0  0  0  0  0999 V2000\\n    3.3990    2.3493   12.9986 O   0  0  0  0  0  0  0  0  0  0  0  0\\n    3.0168    1.1812   13.2217 C   0  0  0  0  0  0  0  0  0  0  0  0\\n    3.0228    0.3004   12.2595 O   0  0  0  0  0  0  0  0  0  0  0  0\\n    2.6414   -0.9404   12.4030 C   0  0  0  0  0  0  0  0  0  0  0  0\\n    2.5569   -2.0287   11.5672 C   0  0  0  0  0  0  0  0  0  0  0  0\\n    2.0868   -3.0492   12.2860 N   0  0  0  0  0  0  0  0  0  0  0  0\\n    1.8861   -2.6446   13.4886 O   0  0  0  0  0  0  0  0  0  0  0  0\\n    2.1999   -1.3853   13.6248 C   0  0  0  0  0  0  0  0  0  0  0  0\\n    2.1830   -0.4764   14.6590 C   0  0  0  0  0  0  0  0  0  0  0  0\\n    2.5956    0.7981   14.4316 N   0  0  0  0  0  0  0  0  0  0  0  0\\n  1  2  2  0\\n  2  3  1  0\\n  3  4  1  0\\n  4  5  1  0\\n  5  6  2  0\\n  6  7  1  0\\n  7  8  1  0\\n  8  9  1  0\\n  9 10  2  0\\n 10  2  1  0\\n  8  4  2  0\\nM  END\\n\",\"sdf\");\n",
       "\tviewer_16509009321339228.addModel(\"BRD4, Ligand 7\\n     RDKit          3D\\n\\n 23 26  0  0  0  0  0  0  0  0999 V2000\\n    3.2590    2.9010   13.4290 Cl  0  0  0  0  0  0  0  0  0  0  0  0\\n    2.9360    1.2890   12.8120 C   0  0  0  0  0  0  0  0  0  0  0  0\\n    2.3430    0.3620   13.6330 C   0  0  0  0  0  0  0  0  0  0  0  0\\n    2.0690   -0.9160   13.1160 C   0  0  0  0  0  0  0  0  0  0  0  0\\n    1.4040   -1.9100   14.0170 C   0  0  0  0  0  0  0  0  0  0  0  0\\n    0.2390   -1.4510   14.8530 C   0  0  0  0  0  0  0  0  0  0  0  0\\n   -0.5130   -0.3110   14.5260 C   0  0  0  0  0  0  0  0  0  0  0  0\\n   -1.6410    0.0420   15.2720 C   0  0  0  0  0  0  0  0  0  0  0  0\\n   -2.0370   -0.7510   16.3420 C   0  0  0  0  0  0  0  0  0  0  0  0\\n   -1.3100   -1.9100   16.6370 C   0  0  0  0  0  0  0  0  0  0  0  0\\n   -0.1850   -2.2490   15.9160 C   0  0  0  0  0  0  0  0  0  0  0  0\\n    1.7010   -3.1700   13.9680 N   0  0  0  0  0  0  0  0  0  0  0  0\\n    2.7470   -3.7670   13.1430 N   0  0  0  0  0  0  0  0  0  0  0  0\\n    3.4820   -4.9110   13.6300 C   0  0  0  0  0  0  0  0  0  0  0  0\\n    2.4970   -3.6210   11.8170 C   0  0  0  0  0  0  0  0  0  0  0  0\\n    2.1950   -2.4930   11.2130 N   0  0  0  0  0  0  0  0  0  0  0  0\\n    1.8170   -2.7700    9.9500 C   0  0  0  0  0  0  0  0  0  0  0  0\\n    1.4340   -1.8400    8.8530 C   0  0  0  0  0  0  0  0  0  0  0  0\\n    1.8190   -4.0880    9.8010 N   0  0  0  0  0  0  0  0  0  0  0  0\\n    2.2650   -4.6660   11.0030 N   0  0  0  0  0  0  0  0  0  0  0  0\\n    2.4030   -1.2480   11.7870 C   0  0  0  0  0  0  0  0  0  0  0  0\\n    3.0600   -0.2560   11.0340 C   0  0  0  0  0  0  0  0  0  0  0  0\\n    3.3050    1.0110   11.5140 C   0  0  0  0  0  0  0  0  0  0  0  0\\n  1  2  1  0\\n  2  3  2  0\\n  2 23  1  0\\n  3  4  1  0\\n  4  5  1  0\\n  4 21  2  0\\n  5  6  1  0\\n  5 12  2  0\\n  6  7  2  0\\n  6 11  1  0\\n  7  8  1  0\\n  8  9  2  0\\n  9 10  1  0\\n 10 11  2  0\\n 12 13  1  0\\n 13 14  1  0\\n 13 15  1  0\\n 15 16  1  0\\n 15 20  2  0\\n 16 17  1  0\\n 16 21  1  0\\n 17 18  1  0\\n 17 19  2  0\\n 19 20  1  0\\n 21 22  1  0\\n 22 23  2  0\\nM  END\\n\",\"sdf\");\n",
       "\tviewer_16509009321339228.setStyle({\"model\": 0},{\"stick\": {\"colorscheme\": \"lightgreyCarbon\"}});\n",
       "\tviewer_16509009321339228.setStyle({\"model\": 1},{\"stick\": {\"colorscheme\": \"purpleCarbon\"}});\n",
       "\tviewer_16509009321339228.setStyle({\"model\": 2},{\"stick\": {\"colorscheme\": \"greyCarbon\"}});\n",
       "\tviewer_16509009321339228.zoomTo();\n",
       "viewer_16509009321339228.render();\n",
       "});\n",
       "</script>"
      ]
     },
     "metadata": {},
     "output_type": "display_data"
    },
    {
     "data": {
      "text/plain": [
       "<py3Dmol.view at 0x7fde48b602b0>"
      ]
     },
     "metadata": {},
     "output_type": "display_data"
    },
    {
     "name": "stdout",
     "output_type": "stream",
     "text": [
      "1.440922190201729\n"
     ]
    },
    {
     "data": {
      "application/3dmoljs_load.v0": "<div id=\"3dmolviewer_16509009321392863\"  style=\"position: relative; width: 640px; height: 480px\">\n        <p id=\"3dmolwarning_16509009321392863\" style=\"background-color:#ffcccc;color:black\">You appear to be running in JupyterLab (or JavaScript failed to load for some other reason).  You need to install the 3dmol extension: <br>\n        <tt>jupyter labextension install jupyterlab_3dmol</tt></p>\n        </div>\n<script>\n\nvar loadScriptAsync = function(uri){\n  return new Promise((resolve, reject) => {\n    var tag = document.createElement('script');\n    tag.src = uri;\n    tag.async = true;\n    tag.onload = () => {\n      resolve();\n    };\n  var firstScriptTag = document.getElementsByTagName('script')[0];\n  firstScriptTag.parentNode.insertBefore(tag, firstScriptTag);\n});\n};\n\nif(typeof $3Dmolpromise === 'undefined') {\n$3Dmolpromise = null;\n  $3Dmolpromise = loadScriptAsync('https://3dmol.org/build/3Dmol.js');\n}\n\nvar viewer_16509009321392863 = null;\nvar warn = document.getElementById(\"3dmolwarning_16509009321392863\");\nif(warn) {\n    warn.parentNode.removeChild(warn);\n}\n$3Dmolpromise.then(function() {\nviewer_16509009321392863 = $3Dmol.createViewer($(\"#3dmolviewer_16509009321392863\"),{backgroundColor:\"white\"});\nviewer_16509009321392863.zoomTo();\n\tviewer_16509009321392863.addModel(\"\\n     RDKit          3D\\n\\n 10 11  0  0  0  0  0  0  0  0999 V2000\\n   -3.2477   -0.2303    0.0507 O   0  0  0  0  0  0  0  0  0  0  0  0\\n   -1.9952   -0.0667    0.0295 C   0  0  0  0  0  0  0  0  0  0  0  0\\n   -1.1184   -1.0747    0.0393 N   0  0  0  0  0  0  0  0  0  0  0  0\\n    0.2259   -0.8919    0.0164 C   0  0  0  0  0  0  0  0  0  0  0  0\\n    1.2688   -1.6733    0.0188 O   0  0  0  0  0  0  0  0  0  0  0  0\\n    2.3718   -0.9853   -0.0118 N   0  0  0  0  0  0  0  0  0  0  0  0\\n    2.0897    0.3310   -0.0366 C   0  0  0  0  0  0  0  0  0  0  0  0\\n    0.7090    0.3996   -0.0187 C   0  0  0  0  0  0  0  0  0  0  0  0\\n   -0.2169    1.4222   -0.0281 C   0  0  0  0  0  0  0  0  0  0  0  0\\n   -1.5496    1.2071   -0.0047 N   0  0  0  0  0  0  0  0  0  0  0  0\\n  1  2  2  0\\n  2  3  1  0\\n  3  4  1  0\\n  4  5  1  0\\n  5  6  1  0\\n  6  7  2  0\\n  7  8  1  0\\n  8  9  1  0\\n  9 10  2  0\\n 10  2  1  0\\n  8  4  2  0\\nM  END\\n\",\"sdf\");\n\tviewer_16509009321392863.addModel(\"\\n     RDKit          3D\\n\\n 10 11  0  0  0  0  0  0  0  0999 V2000\\n    1.2123   -3.0958   14.9973 O   0  0  0  0  0  0  0  0  0  0  0  0\\n    1.7011   -2.1534   14.3126 C   0  0  0  0  0  0  0  0  0  0  0  0\\n    1.8157   -0.8991   14.7581 N   0  0  0  0  0  0  0  0  0  0  0  0\\n    2.3417    0.1086   14.0172 C   0  0  0  0  0  0  0  0  0  0  0  0\\n    2.5628    1.3794   14.2031 O   0  0  0  0  0  0  0  0  0  0  0  0\\n    3.1034    1.9213   13.1520 N   0  0  0  0  0  0  0  0  0  0  0  0\\n    3.2675    0.9923   12.1912 C   0  0  0  0  0  0  0  0  0  0  0  0\\n    2.7792   -0.1785   12.7410 C   0  0  0  0  0  0  0  0  0  0  0  0\\n    2.6496   -1.4809   12.3050 C   0  0  0  0  0  0  0  0  0  0  0  0\\n    2.1213   -2.4619   13.0674 N   0  0  0  0  0  0  0  0  0  0  0  0\\n  1  2  2  0\\n  2  3  1  0\\n  3  4  1  0\\n  4  5  1  0\\n  5  6  1  0\\n  6  7  2  0\\n  7  8  1  0\\n  8  9  1  0\\n  9 10  2  0\\n 10  2  1  0\\n  8  4  2  0\\nM  END\\n\",\"sdf\");\n\tviewer_16509009321392863.addModel(\"BRD4, Ligand 7\\n     RDKit          3D\\n\\n 23 26  0  0  0  0  0  0  0  0999 V2000\\n    3.2590    2.9010   13.4290 Cl  0  0  0  0  0  0  0  0  0  0  0  0\\n    2.9360    1.2890   12.8120 C   0  0  0  0  0  0  0  0  0  0  0  0\\n    2.3430    0.3620   13.6330 C   0  0  0  0  0  0  0  0  0  0  0  0\\n    2.0690   -0.9160   13.1160 C   0  0  0  0  0  0  0  0  0  0  0  0\\n    1.4040   -1.9100   14.0170 C   0  0  0  0  0  0  0  0  0  0  0  0\\n    0.2390   -1.4510   14.8530 C   0  0  0  0  0  0  0  0  0  0  0  0\\n   -0.5130   -0.3110   14.5260 C   0  0  0  0  0  0  0  0  0  0  0  0\\n   -1.6410    0.0420   15.2720 C   0  0  0  0  0  0  0  0  0  0  0  0\\n   -2.0370   -0.7510   16.3420 C   0  0  0  0  0  0  0  0  0  0  0  0\\n   -1.3100   -1.9100   16.6370 C   0  0  0  0  0  0  0  0  0  0  0  0\\n   -0.1850   -2.2490   15.9160 C   0  0  0  0  0  0  0  0  0  0  0  0\\n    1.7010   -3.1700   13.9680 N   0  0  0  0  0  0  0  0  0  0  0  0\\n    2.7470   -3.7670   13.1430 N   0  0  0  0  0  0  0  0  0  0  0  0\\n    3.4820   -4.9110   13.6300 C   0  0  0  0  0  0  0  0  0  0  0  0\\n    2.4970   -3.6210   11.8170 C   0  0  0  0  0  0  0  0  0  0  0  0\\n    2.1950   -2.4930   11.2130 N   0  0  0  0  0  0  0  0  0  0  0  0\\n    1.8170   -2.7700    9.9500 C   0  0  0  0  0  0  0  0  0  0  0  0\\n    1.4340   -1.8400    8.8530 C   0  0  0  0  0  0  0  0  0  0  0  0\\n    1.8190   -4.0880    9.8010 N   0  0  0  0  0  0  0  0  0  0  0  0\\n    2.2650   -4.6660   11.0030 N   0  0  0  0  0  0  0  0  0  0  0  0\\n    2.4030   -1.2480   11.7870 C   0  0  0  0  0  0  0  0  0  0  0  0\\n    3.0600   -0.2560   11.0340 C   0  0  0  0  0  0  0  0  0  0  0  0\\n    3.3050    1.0110   11.5140 C   0  0  0  0  0  0  0  0  0  0  0  0\\n  1  2  1  0\\n  2  3  2  0\\n  2 23  1  0\\n  3  4  1  0\\n  4  5  1  0\\n  4 21  2  0\\n  5  6  1  0\\n  5 12  2  0\\n  6  7  2  0\\n  6 11  1  0\\n  7  8  1  0\\n  8  9  2  0\\n  9 10  1  0\\n 10 11  2  0\\n 12 13  1  0\\n 13 14  1  0\\n 13 15  1  0\\n 15 16  1  0\\n 15 20  2  0\\n 16 17  1  0\\n 16 21  1  0\\n 17 18  1  0\\n 17 19  2  0\\n 19 20  1  0\\n 21 22  1  0\\n 22 23  2  0\\nM  END\\n\",\"sdf\");\n\tviewer_16509009321392863.setStyle({\"model\": 0},{\"stick\": {\"colorscheme\": \"lightgreyCarbon\"}});\n\tviewer_16509009321392863.setStyle({\"model\": 1},{\"stick\": {\"colorscheme\": \"purpleCarbon\"}});\n\tviewer_16509009321392863.setStyle({\"model\": 2},{\"stick\": {\"colorscheme\": \"greyCarbon\"}});\n\tviewer_16509009321392863.zoomTo();\nviewer_16509009321392863.render();\n});\n</script>",
      "text/html": [
       "<div id=\"3dmolviewer_16509009321392863\"  style=\"position: relative; width: 640px; height: 480px\">\n",
       "        <p id=\"3dmolwarning_16509009321392863\" style=\"background-color:#ffcccc;color:black\">You appear to be running in JupyterLab (or JavaScript failed to load for some other reason).  You need to install the 3dmol extension: <br>\n",
       "        <tt>jupyter labextension install jupyterlab_3dmol</tt></p>\n",
       "        </div>\n",
       "<script>\n",
       "\n",
       "var loadScriptAsync = function(uri){\n",
       "  return new Promise((resolve, reject) => {\n",
       "    var tag = document.createElement('script');\n",
       "    tag.src = uri;\n",
       "    tag.async = true;\n",
       "    tag.onload = () => {\n",
       "      resolve();\n",
       "    };\n",
       "  var firstScriptTag = document.getElementsByTagName('script')[0];\n",
       "  firstScriptTag.parentNode.insertBefore(tag, firstScriptTag);\n",
       "});\n",
       "};\n",
       "\n",
       "if(typeof $3Dmolpromise === 'undefined') {\n",
       "$3Dmolpromise = null;\n",
       "  $3Dmolpromise = loadScriptAsync('https://3dmol.org/build/3Dmol.js');\n",
       "}\n",
       "\n",
       "var viewer_16509009321392863 = null;\n",
       "var warn = document.getElementById(\"3dmolwarning_16509009321392863\");\n",
       "if(warn) {\n",
       "    warn.parentNode.removeChild(warn);\n",
       "}\n",
       "$3Dmolpromise.then(function() {\n",
       "viewer_16509009321392863 = $3Dmol.createViewer($(\"#3dmolviewer_16509009321392863\"),{backgroundColor:\"white\"});\n",
       "viewer_16509009321392863.zoomTo();\n",
       "\tviewer_16509009321392863.addModel(\"\\n     RDKit          3D\\n\\n 10 11  0  0  0  0  0  0  0  0999 V2000\\n   -3.2477   -0.2303    0.0507 O   0  0  0  0  0  0  0  0  0  0  0  0\\n   -1.9952   -0.0667    0.0295 C   0  0  0  0  0  0  0  0  0  0  0  0\\n   -1.1184   -1.0747    0.0393 N   0  0  0  0  0  0  0  0  0  0  0  0\\n    0.2259   -0.8919    0.0164 C   0  0  0  0  0  0  0  0  0  0  0  0\\n    1.2688   -1.6733    0.0188 O   0  0  0  0  0  0  0  0  0  0  0  0\\n    2.3718   -0.9853   -0.0118 N   0  0  0  0  0  0  0  0  0  0  0  0\\n    2.0897    0.3310   -0.0366 C   0  0  0  0  0  0  0  0  0  0  0  0\\n    0.7090    0.3996   -0.0187 C   0  0  0  0  0  0  0  0  0  0  0  0\\n   -0.2169    1.4222   -0.0281 C   0  0  0  0  0  0  0  0  0  0  0  0\\n   -1.5496    1.2071   -0.0047 N   0  0  0  0  0  0  0  0  0  0  0  0\\n  1  2  2  0\\n  2  3  1  0\\n  3  4  1  0\\n  4  5  1  0\\n  5  6  1  0\\n  6  7  2  0\\n  7  8  1  0\\n  8  9  1  0\\n  9 10  2  0\\n 10  2  1  0\\n  8  4  2  0\\nM  END\\n\",\"sdf\");\n",
       "\tviewer_16509009321392863.addModel(\"\\n     RDKit          3D\\n\\n 10 11  0  0  0  0  0  0  0  0999 V2000\\n    1.2123   -3.0958   14.9973 O   0  0  0  0  0  0  0  0  0  0  0  0\\n    1.7011   -2.1534   14.3126 C   0  0  0  0  0  0  0  0  0  0  0  0\\n    1.8157   -0.8991   14.7581 N   0  0  0  0  0  0  0  0  0  0  0  0\\n    2.3417    0.1086   14.0172 C   0  0  0  0  0  0  0  0  0  0  0  0\\n    2.5628    1.3794   14.2031 O   0  0  0  0  0  0  0  0  0  0  0  0\\n    3.1034    1.9213   13.1520 N   0  0  0  0  0  0  0  0  0  0  0  0\\n    3.2675    0.9923   12.1912 C   0  0  0  0  0  0  0  0  0  0  0  0\\n    2.7792   -0.1785   12.7410 C   0  0  0  0  0  0  0  0  0  0  0  0\\n    2.6496   -1.4809   12.3050 C   0  0  0  0  0  0  0  0  0  0  0  0\\n    2.1213   -2.4619   13.0674 N   0  0  0  0  0  0  0  0  0  0  0  0\\n  1  2  2  0\\n  2  3  1  0\\n  3  4  1  0\\n  4  5  1  0\\n  5  6  1  0\\n  6  7  2  0\\n  7  8  1  0\\n  8  9  1  0\\n  9 10  2  0\\n 10  2  1  0\\n  8  4  2  0\\nM  END\\n\",\"sdf\");\n",
       "\tviewer_16509009321392863.addModel(\"BRD4, Ligand 7\\n     RDKit          3D\\n\\n 23 26  0  0  0  0  0  0  0  0999 V2000\\n    3.2590    2.9010   13.4290 Cl  0  0  0  0  0  0  0  0  0  0  0  0\\n    2.9360    1.2890   12.8120 C   0  0  0  0  0  0  0  0  0  0  0  0\\n    2.3430    0.3620   13.6330 C   0  0  0  0  0  0  0  0  0  0  0  0\\n    2.0690   -0.9160   13.1160 C   0  0  0  0  0  0  0  0  0  0  0  0\\n    1.4040   -1.9100   14.0170 C   0  0  0  0  0  0  0  0  0  0  0  0\\n    0.2390   -1.4510   14.8530 C   0  0  0  0  0  0  0  0  0  0  0  0\\n   -0.5130   -0.3110   14.5260 C   0  0  0  0  0  0  0  0  0  0  0  0\\n   -1.6410    0.0420   15.2720 C   0  0  0  0  0  0  0  0  0  0  0  0\\n   -2.0370   -0.7510   16.3420 C   0  0  0  0  0  0  0  0  0  0  0  0\\n   -1.3100   -1.9100   16.6370 C   0  0  0  0  0  0  0  0  0  0  0  0\\n   -0.1850   -2.2490   15.9160 C   0  0  0  0  0  0  0  0  0  0  0  0\\n    1.7010   -3.1700   13.9680 N   0  0  0  0  0  0  0  0  0  0  0  0\\n    2.7470   -3.7670   13.1430 N   0  0  0  0  0  0  0  0  0  0  0  0\\n    3.4820   -4.9110   13.6300 C   0  0  0  0  0  0  0  0  0  0  0  0\\n    2.4970   -3.6210   11.8170 C   0  0  0  0  0  0  0  0  0  0  0  0\\n    2.1950   -2.4930   11.2130 N   0  0  0  0  0  0  0  0  0  0  0  0\\n    1.8170   -2.7700    9.9500 C   0  0  0  0  0  0  0  0  0  0  0  0\\n    1.4340   -1.8400    8.8530 C   0  0  0  0  0  0  0  0  0  0  0  0\\n    1.8190   -4.0880    9.8010 N   0  0  0  0  0  0  0  0  0  0  0  0\\n    2.2650   -4.6660   11.0030 N   0  0  0  0  0  0  0  0  0  0  0  0\\n    2.4030   -1.2480   11.7870 C   0  0  0  0  0  0  0  0  0  0  0  0\\n    3.0600   -0.2560   11.0340 C   0  0  0  0  0  0  0  0  0  0  0  0\\n    3.3050    1.0110   11.5140 C   0  0  0  0  0  0  0  0  0  0  0  0\\n  1  2  1  0\\n  2  3  2  0\\n  2 23  1  0\\n  3  4  1  0\\n  4  5  1  0\\n  4 21  2  0\\n  5  6  1  0\\n  5 12  2  0\\n  6  7  2  0\\n  6 11  1  0\\n  7  8  1  0\\n  8  9  2  0\\n  9 10  1  0\\n 10 11  2  0\\n 12 13  1  0\\n 13 14  1  0\\n 13 15  1  0\\n 15 16  1  0\\n 15 20  2  0\\n 16 17  1  0\\n 16 21  1  0\\n 17 18  1  0\\n 17 19  2  0\\n 19 20  1  0\\n 21 22  1  0\\n 22 23  2  0\\nM  END\\n\",\"sdf\");\n",
       "\tviewer_16509009321392863.setStyle({\"model\": 0},{\"stick\": {\"colorscheme\": \"lightgreyCarbon\"}});\n",
       "\tviewer_16509009321392863.setStyle({\"model\": 1},{\"stick\": {\"colorscheme\": \"purpleCarbon\"}});\n",
       "\tviewer_16509009321392863.setStyle({\"model\": 2},{\"stick\": {\"colorscheme\": \"greyCarbon\"}});\n",
       "\tviewer_16509009321392863.zoomTo();\n",
       "viewer_16509009321392863.render();\n",
       "});\n",
       "</script>"
      ]
     },
     "metadata": {},
     "output_type": "display_data"
    },
    {
     "data": {
      "text/plain": [
       "<py3Dmol.view at 0x7fdd72cf8430>"
      ]
     },
     "metadata": {},
     "output_type": "display_data"
    },
    {
     "name": "stdout",
     "output_type": "stream",
     "text": [
      "1.4375\n"
     ]
    },
    {
     "data": {
      "application/3dmoljs_load.v0": "<div id=\"3dmolviewer_16509009321443536\"  style=\"position: relative; width: 640px; height: 480px\">\n        <p id=\"3dmolwarning_16509009321443536\" style=\"background-color:#ffcccc;color:black\">You appear to be running in JupyterLab (or JavaScript failed to load for some other reason).  You need to install the 3dmol extension: <br>\n        <tt>jupyter labextension install jupyterlab_3dmol</tt></p>\n        </div>\n<script>\n\nvar loadScriptAsync = function(uri){\n  return new Promise((resolve, reject) => {\n    var tag = document.createElement('script');\n    tag.src = uri;\n    tag.async = true;\n    tag.onload = () => {\n      resolve();\n    };\n  var firstScriptTag = document.getElementsByTagName('script')[0];\n  firstScriptTag.parentNode.insertBefore(tag, firstScriptTag);\n});\n};\n\nif(typeof $3Dmolpromise === 'undefined') {\n$3Dmolpromise = null;\n  $3Dmolpromise = loadScriptAsync('https://3dmol.org/build/3Dmol.js');\n}\n\nvar viewer_16509009321443536 = null;\nvar warn = document.getElementById(\"3dmolwarning_16509009321443536\");\nif(warn) {\n    warn.parentNode.removeChild(warn);\n}\n$3Dmolpromise.then(function() {\nviewer_16509009321443536 = $3Dmol.createViewer($(\"#3dmolviewer_16509009321443536\"),{backgroundColor:\"white\"});\nviewer_16509009321443536.zoomTo();\n\tviewer_16509009321443536.addModel(\"\\n     RDKit          3D\\n\\n 10 11  0  0  0  0  0  0  0  0999 V2000\\n    3.3798   -0.0203   -0.3514 O   0  0  0  0  0  0  0  0  0  0  0  0\\n    2.1324    0.0742   -0.2776 C   0  0  0  0  0  0  0  0  0  0  0  0\\n    1.2520   -1.0087   -0.2662 C   0  0  0  0  0  0  0  0  0  0  0  0\\n   -0.0342   -0.5018   -0.1757 C   0  0  0  0  0  0  0  0  0  0  0  0\\n   -1.2789   -0.9992   -0.1230 N   0  0  0  0  0  0  0  0  0  0  0  0\\n   -2.3547   -0.2067   -0.0342 C   0  0  0  0  0  0  0  0  0  0  0  0\\n   -2.1797    1.1474    0.0037 N   0  0  0  0  0  0  0  0  0  0  0  0\\n   -1.0010    1.6989   -0.0434 O   0  0  0  0  0  0  0  0  0  0  0  0\\n    0.0711    0.9641   -0.1299 C   0  0  0  0  0  0  0  0  0  0  0  0\\n    1.4030    1.2642   -0.1944 C   0  0  0  0  0  0  0  0  0  0  0  0\\n  1  2  2  0\\n  2  3  1  0\\n  3  4  2  0\\n  4  5  1  0\\n  5  6  1  0\\n  6  7  2  0\\n  7  8  1  0\\n  8  9  1  0\\n  9 10  2  0\\n 10  2  1  0\\n  9  4  1  0\\nM  END\\n\",\"sdf\");\n\tviewer_16509009321443536.addModel(\"\\n     RDKit          3D\\n\\n 10 11  0  0  0  0  0  0  0  0999 V2000\\n    1.8798   -1.8921    9.3405 O   0  0  0  0  0  0  0  0  0  0  0  0\\n    2.1337   -2.3903   10.4620 C   0  0  0  0  0  0  0  0  0  0  0  0\\n    2.6705   -3.6627   10.6639 C   0  0  0  0  0  0  0  0  0  0  0  0\\n    2.8049   -3.8486   12.0302 C   0  0  0  0  0  0  0  0  0  0  0  0\\n    3.2423   -4.8197   12.8458 N   0  0  0  0  0  0  0  0  0  0  0  0\\n    3.2401   -4.6799   14.1776 C   0  0  0  0  0  0  0  0  0  0  0  0\\n    2.7791   -3.5149   14.7215 N   0  0  0  0  0  0  0  0  0  0  0  0\\n    2.3398   -2.5309   13.9905 O   0  0  0  0  0  0  0  0  0  0  0  0\\n    2.3249   -2.6261   12.6914 C   0  0  0  0  0  0  0  0  0  0  0  0\\n    1.9291   -1.7729   11.6997 C   0  0  0  0  0  0  0  0  0  0  0  0\\n  1  2  2  0\\n  2  3  1  0\\n  3  4  2  0\\n  4  5  1  0\\n  5  6  1  0\\n  6  7  2  0\\n  7  8  1  0\\n  8  9  1  0\\n  9 10  2  0\\n 10  2  1  0\\n  9  4  1  0\\nM  END\\n\",\"sdf\");\n\tviewer_16509009321443536.addModel(\"BRD4, Ligand 7\\n     RDKit          3D\\n\\n 23 26  0  0  0  0  0  0  0  0999 V2000\\n    3.2590    2.9010   13.4290 Cl  0  0  0  0  0  0  0  0  0  0  0  0\\n    2.9360    1.2890   12.8120 C   0  0  0  0  0  0  0  0  0  0  0  0\\n    2.3430    0.3620   13.6330 C   0  0  0  0  0  0  0  0  0  0  0  0\\n    2.0690   -0.9160   13.1160 C   0  0  0  0  0  0  0  0  0  0  0  0\\n    1.4040   -1.9100   14.0170 C   0  0  0  0  0  0  0  0  0  0  0  0\\n    0.2390   -1.4510   14.8530 C   0  0  0  0  0  0  0  0  0  0  0  0\\n   -0.5130   -0.3110   14.5260 C   0  0  0  0  0  0  0  0  0  0  0  0\\n   -1.6410    0.0420   15.2720 C   0  0  0  0  0  0  0  0  0  0  0  0\\n   -2.0370   -0.7510   16.3420 C   0  0  0  0  0  0  0  0  0  0  0  0\\n   -1.3100   -1.9100   16.6370 C   0  0  0  0  0  0  0  0  0  0  0  0\\n   -0.1850   -2.2490   15.9160 C   0  0  0  0  0  0  0  0  0  0  0  0\\n    1.7010   -3.1700   13.9680 N   0  0  0  0  0  0  0  0  0  0  0  0\\n    2.7470   -3.7670   13.1430 N   0  0  0  0  0  0  0  0  0  0  0  0\\n    3.4820   -4.9110   13.6300 C   0  0  0  0  0  0  0  0  0  0  0  0\\n    2.4970   -3.6210   11.8170 C   0  0  0  0  0  0  0  0  0  0  0  0\\n    2.1950   -2.4930   11.2130 N   0  0  0  0  0  0  0  0  0  0  0  0\\n    1.8170   -2.7700    9.9500 C   0  0  0  0  0  0  0  0  0  0  0  0\\n    1.4340   -1.8400    8.8530 C   0  0  0  0  0  0  0  0  0  0  0  0\\n    1.8190   -4.0880    9.8010 N   0  0  0  0  0  0  0  0  0  0  0  0\\n    2.2650   -4.6660   11.0030 N   0  0  0  0  0  0  0  0  0  0  0  0\\n    2.4030   -1.2480   11.7870 C   0  0  0  0  0  0  0  0  0  0  0  0\\n    3.0600   -0.2560   11.0340 C   0  0  0  0  0  0  0  0  0  0  0  0\\n    3.3050    1.0110   11.5140 C   0  0  0  0  0  0  0  0  0  0  0  0\\n  1  2  1  0\\n  2  3  2  0\\n  2 23  1  0\\n  3  4  1  0\\n  4  5  1  0\\n  4 21  2  0\\n  5  6  1  0\\n  5 12  2  0\\n  6  7  2  0\\n  6 11  1  0\\n  7  8  1  0\\n  8  9  2  0\\n  9 10  1  0\\n 10 11  2  0\\n 12 13  1  0\\n 13 14  1  0\\n 13 15  1  0\\n 15 16  1  0\\n 15 20  2  0\\n 16 17  1  0\\n 16 21  1  0\\n 17 18  1  0\\n 17 19  2  0\\n 19 20  1  0\\n 21 22  1  0\\n 22 23  2  0\\nM  END\\n\",\"sdf\");\n\tviewer_16509009321443536.setStyle({\"model\": 0},{\"stick\": {\"colorscheme\": \"lightgreyCarbon\"}});\n\tviewer_16509009321443536.setStyle({\"model\": 1},{\"stick\": {\"colorscheme\": \"purpleCarbon\"}});\n\tviewer_16509009321443536.setStyle({\"model\": 2},{\"stick\": {\"colorscheme\": \"greyCarbon\"}});\n\tviewer_16509009321443536.zoomTo();\nviewer_16509009321443536.render();\n});\n</script>",
      "text/html": [
       "<div id=\"3dmolviewer_16509009321443536\"  style=\"position: relative; width: 640px; height: 480px\">\n",
       "        <p id=\"3dmolwarning_16509009321443536\" style=\"background-color:#ffcccc;color:black\">You appear to be running in JupyterLab (or JavaScript failed to load for some other reason).  You need to install the 3dmol extension: <br>\n",
       "        <tt>jupyter labextension install jupyterlab_3dmol</tt></p>\n",
       "        </div>\n",
       "<script>\n",
       "\n",
       "var loadScriptAsync = function(uri){\n",
       "  return new Promise((resolve, reject) => {\n",
       "    var tag = document.createElement('script');\n",
       "    tag.src = uri;\n",
       "    tag.async = true;\n",
       "    tag.onload = () => {\n",
       "      resolve();\n",
       "    };\n",
       "  var firstScriptTag = document.getElementsByTagName('script')[0];\n",
       "  firstScriptTag.parentNode.insertBefore(tag, firstScriptTag);\n",
       "});\n",
       "};\n",
       "\n",
       "if(typeof $3Dmolpromise === 'undefined') {\n",
       "$3Dmolpromise = null;\n",
       "  $3Dmolpromise = loadScriptAsync('https://3dmol.org/build/3Dmol.js');\n",
       "}\n",
       "\n",
       "var viewer_16509009321443536 = null;\n",
       "var warn = document.getElementById(\"3dmolwarning_16509009321443536\");\n",
       "if(warn) {\n",
       "    warn.parentNode.removeChild(warn);\n",
       "}\n",
       "$3Dmolpromise.then(function() {\n",
       "viewer_16509009321443536 = $3Dmol.createViewer($(\"#3dmolviewer_16509009321443536\"),{backgroundColor:\"white\"});\n",
       "viewer_16509009321443536.zoomTo();\n",
       "\tviewer_16509009321443536.addModel(\"\\n     RDKit          3D\\n\\n 10 11  0  0  0  0  0  0  0  0999 V2000\\n    3.3798   -0.0203   -0.3514 O   0  0  0  0  0  0  0  0  0  0  0  0\\n    2.1324    0.0742   -0.2776 C   0  0  0  0  0  0  0  0  0  0  0  0\\n    1.2520   -1.0087   -0.2662 C   0  0  0  0  0  0  0  0  0  0  0  0\\n   -0.0342   -0.5018   -0.1757 C   0  0  0  0  0  0  0  0  0  0  0  0\\n   -1.2789   -0.9992   -0.1230 N   0  0  0  0  0  0  0  0  0  0  0  0\\n   -2.3547   -0.2067   -0.0342 C   0  0  0  0  0  0  0  0  0  0  0  0\\n   -2.1797    1.1474    0.0037 N   0  0  0  0  0  0  0  0  0  0  0  0\\n   -1.0010    1.6989   -0.0434 O   0  0  0  0  0  0  0  0  0  0  0  0\\n    0.0711    0.9641   -0.1299 C   0  0  0  0  0  0  0  0  0  0  0  0\\n    1.4030    1.2642   -0.1944 C   0  0  0  0  0  0  0  0  0  0  0  0\\n  1  2  2  0\\n  2  3  1  0\\n  3  4  2  0\\n  4  5  1  0\\n  5  6  1  0\\n  6  7  2  0\\n  7  8  1  0\\n  8  9  1  0\\n  9 10  2  0\\n 10  2  1  0\\n  9  4  1  0\\nM  END\\n\",\"sdf\");\n",
       "\tviewer_16509009321443536.addModel(\"\\n     RDKit          3D\\n\\n 10 11  0  0  0  0  0  0  0  0999 V2000\\n    1.8798   -1.8921    9.3405 O   0  0  0  0  0  0  0  0  0  0  0  0\\n    2.1337   -2.3903   10.4620 C   0  0  0  0  0  0  0  0  0  0  0  0\\n    2.6705   -3.6627   10.6639 C   0  0  0  0  0  0  0  0  0  0  0  0\\n    2.8049   -3.8486   12.0302 C   0  0  0  0  0  0  0  0  0  0  0  0\\n    3.2423   -4.8197   12.8458 N   0  0  0  0  0  0  0  0  0  0  0  0\\n    3.2401   -4.6799   14.1776 C   0  0  0  0  0  0  0  0  0  0  0  0\\n    2.7791   -3.5149   14.7215 N   0  0  0  0  0  0  0  0  0  0  0  0\\n    2.3398   -2.5309   13.9905 O   0  0  0  0  0  0  0  0  0  0  0  0\\n    2.3249   -2.6261   12.6914 C   0  0  0  0  0  0  0  0  0  0  0  0\\n    1.9291   -1.7729   11.6997 C   0  0  0  0  0  0  0  0  0  0  0  0\\n  1  2  2  0\\n  2  3  1  0\\n  3  4  2  0\\n  4  5  1  0\\n  5  6  1  0\\n  6  7  2  0\\n  7  8  1  0\\n  8  9  1  0\\n  9 10  2  0\\n 10  2  1  0\\n  9  4  1  0\\nM  END\\n\",\"sdf\");\n",
       "\tviewer_16509009321443536.addModel(\"BRD4, Ligand 7\\n     RDKit          3D\\n\\n 23 26  0  0  0  0  0  0  0  0999 V2000\\n    3.2590    2.9010   13.4290 Cl  0  0  0  0  0  0  0  0  0  0  0  0\\n    2.9360    1.2890   12.8120 C   0  0  0  0  0  0  0  0  0  0  0  0\\n    2.3430    0.3620   13.6330 C   0  0  0  0  0  0  0  0  0  0  0  0\\n    2.0690   -0.9160   13.1160 C   0  0  0  0  0  0  0  0  0  0  0  0\\n    1.4040   -1.9100   14.0170 C   0  0  0  0  0  0  0  0  0  0  0  0\\n    0.2390   -1.4510   14.8530 C   0  0  0  0  0  0  0  0  0  0  0  0\\n   -0.5130   -0.3110   14.5260 C   0  0  0  0  0  0  0  0  0  0  0  0\\n   -1.6410    0.0420   15.2720 C   0  0  0  0  0  0  0  0  0  0  0  0\\n   -2.0370   -0.7510   16.3420 C   0  0  0  0  0  0  0  0  0  0  0  0\\n   -1.3100   -1.9100   16.6370 C   0  0  0  0  0  0  0  0  0  0  0  0\\n   -0.1850   -2.2490   15.9160 C   0  0  0  0  0  0  0  0  0  0  0  0\\n    1.7010   -3.1700   13.9680 N   0  0  0  0  0  0  0  0  0  0  0  0\\n    2.7470   -3.7670   13.1430 N   0  0  0  0  0  0  0  0  0  0  0  0\\n    3.4820   -4.9110   13.6300 C   0  0  0  0  0  0  0  0  0  0  0  0\\n    2.4970   -3.6210   11.8170 C   0  0  0  0  0  0  0  0  0  0  0  0\\n    2.1950   -2.4930   11.2130 N   0  0  0  0  0  0  0  0  0  0  0  0\\n    1.8170   -2.7700    9.9500 C   0  0  0  0  0  0  0  0  0  0  0  0\\n    1.4340   -1.8400    8.8530 C   0  0  0  0  0  0  0  0  0  0  0  0\\n    1.8190   -4.0880    9.8010 N   0  0  0  0  0  0  0  0  0  0  0  0\\n    2.2650   -4.6660   11.0030 N   0  0  0  0  0  0  0  0  0  0  0  0\\n    2.4030   -1.2480   11.7870 C   0  0  0  0  0  0  0  0  0  0  0  0\\n    3.0600   -0.2560   11.0340 C   0  0  0  0  0  0  0  0  0  0  0  0\\n    3.3050    1.0110   11.5140 C   0  0  0  0  0  0  0  0  0  0  0  0\\n  1  2  1  0\\n  2  3  2  0\\n  2 23  1  0\\n  3  4  1  0\\n  4  5  1  0\\n  4 21  2  0\\n  5  6  1  0\\n  5 12  2  0\\n  6  7  2  0\\n  6 11  1  0\\n  7  8  1  0\\n  8  9  2  0\\n  9 10  1  0\\n 10 11  2  0\\n 12 13  1  0\\n 13 14  1  0\\n 13 15  1  0\\n 15 16  1  0\\n 15 20  2  0\\n 16 17  1  0\\n 16 21  1  0\\n 17 18  1  0\\n 17 19  2  0\\n 19 20  1  0\\n 21 22  1  0\\n 22 23  2  0\\nM  END\\n\",\"sdf\");\n",
       "\tviewer_16509009321443536.setStyle({\"model\": 0},{\"stick\": {\"colorscheme\": \"lightgreyCarbon\"}});\n",
       "\tviewer_16509009321443536.setStyle({\"model\": 1},{\"stick\": {\"colorscheme\": \"purpleCarbon\"}});\n",
       "\tviewer_16509009321443536.setStyle({\"model\": 2},{\"stick\": {\"colorscheme\": \"greyCarbon\"}});\n",
       "\tviewer_16509009321443536.zoomTo();\n",
       "viewer_16509009321443536.render();\n",
       "});\n",
       "</script>"
      ]
     },
     "metadata": {},
     "output_type": "display_data"
    },
    {
     "data": {
      "text/plain": [
       "<py3Dmol.view at 0x7fdd72cf8a90>"
      ]
     },
     "metadata": {},
     "output_type": "display_data"
    },
    {
     "name": "stdout",
     "output_type": "stream",
     "text": [
      "1.4289340101522843\n"
     ]
    },
    {
     "data": {
      "application/3dmoljs_load.v0": "<div id=\"3dmolviewer_16509009321485715\"  style=\"position: relative; width: 640px; height: 480px\">\n        <p id=\"3dmolwarning_16509009321485715\" style=\"background-color:#ffcccc;color:black\">You appear to be running in JupyterLab (or JavaScript failed to load for some other reason).  You need to install the 3dmol extension: <br>\n        <tt>jupyter labextension install jupyterlab_3dmol</tt></p>\n        </div>\n<script>\n\nvar loadScriptAsync = function(uri){\n  return new Promise((resolve, reject) => {\n    var tag = document.createElement('script');\n    tag.src = uri;\n    tag.async = true;\n    tag.onload = () => {\n      resolve();\n    };\n  var firstScriptTag = document.getElementsByTagName('script')[0];\n  firstScriptTag.parentNode.insertBefore(tag, firstScriptTag);\n});\n};\n\nif(typeof $3Dmolpromise === 'undefined') {\n$3Dmolpromise = null;\n  $3Dmolpromise = loadScriptAsync('https://3dmol.org/build/3Dmol.js');\n}\n\nvar viewer_16509009321485715 = null;\nvar warn = document.getElementById(\"3dmolwarning_16509009321485715\");\nif(warn) {\n    warn.parentNode.removeChild(warn);\n}\n$3Dmolpromise.then(function() {\nviewer_16509009321485715 = $3Dmol.createViewer($(\"#3dmolviewer_16509009321485715\"),{backgroundColor:\"white\"});\nviewer_16509009321485715.zoomTo();\n\tviewer_16509009321485715.addModel(\"\\n     RDKit          3D\\n\\n 10 11  0  0  0  0  0  0  0  0999 V2000\\n   -2.1829    1.0631    0.3381 N   0  0  0  0  0  0  0  0  0  0  0  0\\n   -2.1976   -0.2463    0.0733 C   0  0  0  0  0  0  0  0  0  0  0  0\\n   -1.0687   -1.0097   -0.1448 C   0  0  0  0  0  0  0  0  0  0  0  0\\n    0.1579   -0.4058   -0.0912 N   0  0  0  0  0  0  0  0  0  0  0  0\\n    1.2523   -1.0946   -0.2922 N   0  0  0  0  0  0  0  0  0  0  0  0\\n    2.4812   -0.6859   -0.2783 N   0  0  0  0  0  0  0  0  0  0  0  0\\n    2.9420    0.5437   -0.0548 C   0  0  0  0  0  0  0  0  0  0  0  0\\n    1.7075    1.6876    0.2464 S   0  0  0  0  0  0  0  0  0  0  0  0\\n    0.1325    0.9888    0.1931 C   0  0  0  0  0  0  0  0  0  0  0  0\\n   -1.0099    1.6697    0.3952 N   0  0  0  0  0  0  0  0  0  0  0  0\\n  1  2  1  0\\n  2  3  2  0\\n  3  4  1  0\\n  4  5  1  0\\n  5  6  1  0\\n  6  7  2  0\\n  7  8  1  0\\n  8  9  1  0\\n  9 10  2  0\\n 10  1  1  0\\n  9  4  1  0\\nM  END\\n\",\"sdf\");\n\tviewer_16509009321485715.addModel(\"\\n     RDKit          3D\\n\\n 10 11  0  0  0  0  0  0  0  0999 V2000\\n    2.1458   -3.2570   13.1826 N   0  0  0  0  0  0  0  0  0  0  0  0\\n    2.2692   -2.8141   11.9282 C   0  0  0  0  0  0  0  0  0  0  0  0\\n    2.4994   -1.4969   11.5862 C   0  0  0  0  0  0  0  0  0  0  0  0\\n    2.6120   -0.5656   12.5822 N   0  0  0  0  0  0  0  0  0  0  0  0\\n    2.8303    0.6934   12.2997 N   0  0  0  0  0  0  0  0  0  0  0  0\\n    2.9619    1.6949   13.1102 N   0  0  0  0  0  0  0  0  0  0  0  0\\n    2.9081    1.6952   14.4411 C   0  0  0  0  0  0  0  0  0  0  0  0\\n    2.6268    0.1470   15.1100 S   0  0  0  0  0  0  0  0  0  0  0  0\\n    2.4748   -1.0755   13.9042 C   0  0  0  0  0  0  0  0  0  0  0  0\\n    2.2507   -2.3765   14.1628 N   0  0  0  0  0  0  0  0  0  0  0  0\\n  1  2  1  0\\n  2  3  2  0\\n  3  4  1  0\\n  4  5  1  0\\n  5  6  1  0\\n  6  7  2  0\\n  7  8  1  0\\n  8  9  1  0\\n  9 10  2  0\\n 10  1  1  0\\n  9  4  1  0\\nM  END\\n\",\"sdf\");\n\tviewer_16509009321485715.addModel(\"BRD4, Ligand 7\\n     RDKit          3D\\n\\n 23 26  0  0  0  0  0  0  0  0999 V2000\\n    3.2590    2.9010   13.4290 Cl  0  0  0  0  0  0  0  0  0  0  0  0\\n    2.9360    1.2890   12.8120 C   0  0  0  0  0  0  0  0  0  0  0  0\\n    2.3430    0.3620   13.6330 C   0  0  0  0  0  0  0  0  0  0  0  0\\n    2.0690   -0.9160   13.1160 C   0  0  0  0  0  0  0  0  0  0  0  0\\n    1.4040   -1.9100   14.0170 C   0  0  0  0  0  0  0  0  0  0  0  0\\n    0.2390   -1.4510   14.8530 C   0  0  0  0  0  0  0  0  0  0  0  0\\n   -0.5130   -0.3110   14.5260 C   0  0  0  0  0  0  0  0  0  0  0  0\\n   -1.6410    0.0420   15.2720 C   0  0  0  0  0  0  0  0  0  0  0  0\\n   -2.0370   -0.7510   16.3420 C   0  0  0  0  0  0  0  0  0  0  0  0\\n   -1.3100   -1.9100   16.6370 C   0  0  0  0  0  0  0  0  0  0  0  0\\n   -0.1850   -2.2490   15.9160 C   0  0  0  0  0  0  0  0  0  0  0  0\\n    1.7010   -3.1700   13.9680 N   0  0  0  0  0  0  0  0  0  0  0  0\\n    2.7470   -3.7670   13.1430 N   0  0  0  0  0  0  0  0  0  0  0  0\\n    3.4820   -4.9110   13.6300 C   0  0  0  0  0  0  0  0  0  0  0  0\\n    2.4970   -3.6210   11.8170 C   0  0  0  0  0  0  0  0  0  0  0  0\\n    2.1950   -2.4930   11.2130 N   0  0  0  0  0  0  0  0  0  0  0  0\\n    1.8170   -2.7700    9.9500 C   0  0  0  0  0  0  0  0  0  0  0  0\\n    1.4340   -1.8400    8.8530 C   0  0  0  0  0  0  0  0  0  0  0  0\\n    1.8190   -4.0880    9.8010 N   0  0  0  0  0  0  0  0  0  0  0  0\\n    2.2650   -4.6660   11.0030 N   0  0  0  0  0  0  0  0  0  0  0  0\\n    2.4030   -1.2480   11.7870 C   0  0  0  0  0  0  0  0  0  0  0  0\\n    3.0600   -0.2560   11.0340 C   0  0  0  0  0  0  0  0  0  0  0  0\\n    3.3050    1.0110   11.5140 C   0  0  0  0  0  0  0  0  0  0  0  0\\n  1  2  1  0\\n  2  3  2  0\\n  2 23  1  0\\n  3  4  1  0\\n  4  5  1  0\\n  4 21  2  0\\n  5  6  1  0\\n  5 12  2  0\\n  6  7  2  0\\n  6 11  1  0\\n  7  8  1  0\\n  8  9  2  0\\n  9 10  1  0\\n 10 11  2  0\\n 12 13  1  0\\n 13 14  1  0\\n 13 15  1  0\\n 15 16  1  0\\n 15 20  2  0\\n 16 17  1  0\\n 16 21  1  0\\n 17 18  1  0\\n 17 19  2  0\\n 19 20  1  0\\n 21 22  1  0\\n 22 23  2  0\\nM  END\\n\",\"sdf\");\n\tviewer_16509009321485715.setStyle({\"model\": 0},{\"stick\": {\"colorscheme\": \"lightgreyCarbon\"}});\n\tviewer_16509009321485715.setStyle({\"model\": 1},{\"stick\": {\"colorscheme\": \"purpleCarbon\"}});\n\tviewer_16509009321485715.setStyle({\"model\": 2},{\"stick\": {\"colorscheme\": \"greyCarbon\"}});\n\tviewer_16509009321485715.zoomTo();\nviewer_16509009321485715.render();\n});\n</script>",
      "text/html": [
       "<div id=\"3dmolviewer_16509009321485715\"  style=\"position: relative; width: 640px; height: 480px\">\n",
       "        <p id=\"3dmolwarning_16509009321485715\" style=\"background-color:#ffcccc;color:black\">You appear to be running in JupyterLab (or JavaScript failed to load for some other reason).  You need to install the 3dmol extension: <br>\n",
       "        <tt>jupyter labextension install jupyterlab_3dmol</tt></p>\n",
       "        </div>\n",
       "<script>\n",
       "\n",
       "var loadScriptAsync = function(uri){\n",
       "  return new Promise((resolve, reject) => {\n",
       "    var tag = document.createElement('script');\n",
       "    tag.src = uri;\n",
       "    tag.async = true;\n",
       "    tag.onload = () => {\n",
       "      resolve();\n",
       "    };\n",
       "  var firstScriptTag = document.getElementsByTagName('script')[0];\n",
       "  firstScriptTag.parentNode.insertBefore(tag, firstScriptTag);\n",
       "});\n",
       "};\n",
       "\n",
       "if(typeof $3Dmolpromise === 'undefined') {\n",
       "$3Dmolpromise = null;\n",
       "  $3Dmolpromise = loadScriptAsync('https://3dmol.org/build/3Dmol.js');\n",
       "}\n",
       "\n",
       "var viewer_16509009321485715 = null;\n",
       "var warn = document.getElementById(\"3dmolwarning_16509009321485715\");\n",
       "if(warn) {\n",
       "    warn.parentNode.removeChild(warn);\n",
       "}\n",
       "$3Dmolpromise.then(function() {\n",
       "viewer_16509009321485715 = $3Dmol.createViewer($(\"#3dmolviewer_16509009321485715\"),{backgroundColor:\"white\"});\n",
       "viewer_16509009321485715.zoomTo();\n",
       "\tviewer_16509009321485715.addModel(\"\\n     RDKit          3D\\n\\n 10 11  0  0  0  0  0  0  0  0999 V2000\\n   -2.1829    1.0631    0.3381 N   0  0  0  0  0  0  0  0  0  0  0  0\\n   -2.1976   -0.2463    0.0733 C   0  0  0  0  0  0  0  0  0  0  0  0\\n   -1.0687   -1.0097   -0.1448 C   0  0  0  0  0  0  0  0  0  0  0  0\\n    0.1579   -0.4058   -0.0912 N   0  0  0  0  0  0  0  0  0  0  0  0\\n    1.2523   -1.0946   -0.2922 N   0  0  0  0  0  0  0  0  0  0  0  0\\n    2.4812   -0.6859   -0.2783 N   0  0  0  0  0  0  0  0  0  0  0  0\\n    2.9420    0.5437   -0.0548 C   0  0  0  0  0  0  0  0  0  0  0  0\\n    1.7075    1.6876    0.2464 S   0  0  0  0  0  0  0  0  0  0  0  0\\n    0.1325    0.9888    0.1931 C   0  0  0  0  0  0  0  0  0  0  0  0\\n   -1.0099    1.6697    0.3952 N   0  0  0  0  0  0  0  0  0  0  0  0\\n  1  2  1  0\\n  2  3  2  0\\n  3  4  1  0\\n  4  5  1  0\\n  5  6  1  0\\n  6  7  2  0\\n  7  8  1  0\\n  8  9  1  0\\n  9 10  2  0\\n 10  1  1  0\\n  9  4  1  0\\nM  END\\n\",\"sdf\");\n",
       "\tviewer_16509009321485715.addModel(\"\\n     RDKit          3D\\n\\n 10 11  0  0  0  0  0  0  0  0999 V2000\\n    2.1458   -3.2570   13.1826 N   0  0  0  0  0  0  0  0  0  0  0  0\\n    2.2692   -2.8141   11.9282 C   0  0  0  0  0  0  0  0  0  0  0  0\\n    2.4994   -1.4969   11.5862 C   0  0  0  0  0  0  0  0  0  0  0  0\\n    2.6120   -0.5656   12.5822 N   0  0  0  0  0  0  0  0  0  0  0  0\\n    2.8303    0.6934   12.2997 N   0  0  0  0  0  0  0  0  0  0  0  0\\n    2.9619    1.6949   13.1102 N   0  0  0  0  0  0  0  0  0  0  0  0\\n    2.9081    1.6952   14.4411 C   0  0  0  0  0  0  0  0  0  0  0  0\\n    2.6268    0.1470   15.1100 S   0  0  0  0  0  0  0  0  0  0  0  0\\n    2.4748   -1.0755   13.9042 C   0  0  0  0  0  0  0  0  0  0  0  0\\n    2.2507   -2.3765   14.1628 N   0  0  0  0  0  0  0  0  0  0  0  0\\n  1  2  1  0\\n  2  3  2  0\\n  3  4  1  0\\n  4  5  1  0\\n  5  6  1  0\\n  6  7  2  0\\n  7  8  1  0\\n  8  9  1  0\\n  9 10  2  0\\n 10  1  1  0\\n  9  4  1  0\\nM  END\\n\",\"sdf\");\n",
       "\tviewer_16509009321485715.addModel(\"BRD4, Ligand 7\\n     RDKit          3D\\n\\n 23 26  0  0  0  0  0  0  0  0999 V2000\\n    3.2590    2.9010   13.4290 Cl  0  0  0  0  0  0  0  0  0  0  0  0\\n    2.9360    1.2890   12.8120 C   0  0  0  0  0  0  0  0  0  0  0  0\\n    2.3430    0.3620   13.6330 C   0  0  0  0  0  0  0  0  0  0  0  0\\n    2.0690   -0.9160   13.1160 C   0  0  0  0  0  0  0  0  0  0  0  0\\n    1.4040   -1.9100   14.0170 C   0  0  0  0  0  0  0  0  0  0  0  0\\n    0.2390   -1.4510   14.8530 C   0  0  0  0  0  0  0  0  0  0  0  0\\n   -0.5130   -0.3110   14.5260 C   0  0  0  0  0  0  0  0  0  0  0  0\\n   -1.6410    0.0420   15.2720 C   0  0  0  0  0  0  0  0  0  0  0  0\\n   -2.0370   -0.7510   16.3420 C   0  0  0  0  0  0  0  0  0  0  0  0\\n   -1.3100   -1.9100   16.6370 C   0  0  0  0  0  0  0  0  0  0  0  0\\n   -0.1850   -2.2490   15.9160 C   0  0  0  0  0  0  0  0  0  0  0  0\\n    1.7010   -3.1700   13.9680 N   0  0  0  0  0  0  0  0  0  0  0  0\\n    2.7470   -3.7670   13.1430 N   0  0  0  0  0  0  0  0  0  0  0  0\\n    3.4820   -4.9110   13.6300 C   0  0  0  0  0  0  0  0  0  0  0  0\\n    2.4970   -3.6210   11.8170 C   0  0  0  0  0  0  0  0  0  0  0  0\\n    2.1950   -2.4930   11.2130 N   0  0  0  0  0  0  0  0  0  0  0  0\\n    1.8170   -2.7700    9.9500 C   0  0  0  0  0  0  0  0  0  0  0  0\\n    1.4340   -1.8400    8.8530 C   0  0  0  0  0  0  0  0  0  0  0  0\\n    1.8190   -4.0880    9.8010 N   0  0  0  0  0  0  0  0  0  0  0  0\\n    2.2650   -4.6660   11.0030 N   0  0  0  0  0  0  0  0  0  0  0  0\\n    2.4030   -1.2480   11.7870 C   0  0  0  0  0  0  0  0  0  0  0  0\\n    3.0600   -0.2560   11.0340 C   0  0  0  0  0  0  0  0  0  0  0  0\\n    3.3050    1.0110   11.5140 C   0  0  0  0  0  0  0  0  0  0  0  0\\n  1  2  1  0\\n  2  3  2  0\\n  2 23  1  0\\n  3  4  1  0\\n  4  5  1  0\\n  4 21  2  0\\n  5  6  1  0\\n  5 12  2  0\\n  6  7  2  0\\n  6 11  1  0\\n  7  8  1  0\\n  8  9  2  0\\n  9 10  1  0\\n 10 11  2  0\\n 12 13  1  0\\n 13 14  1  0\\n 13 15  1  0\\n 15 16  1  0\\n 15 20  2  0\\n 16 17  1  0\\n 16 21  1  0\\n 17 18  1  0\\n 17 19  2  0\\n 19 20  1  0\\n 21 22  1  0\\n 22 23  2  0\\nM  END\\n\",\"sdf\");\n",
       "\tviewer_16509009321485715.setStyle({\"model\": 0},{\"stick\": {\"colorscheme\": \"lightgreyCarbon\"}});\n",
       "\tviewer_16509009321485715.setStyle({\"model\": 1},{\"stick\": {\"colorscheme\": \"purpleCarbon\"}});\n",
       "\tviewer_16509009321485715.setStyle({\"model\": 2},{\"stick\": {\"colorscheme\": \"greyCarbon\"}});\n",
       "\tviewer_16509009321485715.zoomTo();\n",
       "viewer_16509009321485715.render();\n",
       "});\n",
       "</script>"
      ]
     },
     "metadata": {},
     "output_type": "display_data"
    },
    {
     "data": {
      "text/plain": [
       "<py3Dmol.view at 0x7fde48b602b0>"
      ]
     },
     "metadata": {},
     "output_type": "display_data"
    },
    {
     "name": "stdout",
     "output_type": "stream",
     "text": [
      "1.4236842105263157\n"
     ]
    },
    {
     "data": {
      "application/3dmoljs_load.v0": "<div id=\"3dmolviewer_16509009321530545\"  style=\"position: relative; width: 640px; height: 480px\">\n        <p id=\"3dmolwarning_16509009321530545\" style=\"background-color:#ffcccc;color:black\">You appear to be running in JupyterLab (or JavaScript failed to load for some other reason).  You need to install the 3dmol extension: <br>\n        <tt>jupyter labextension install jupyterlab_3dmol</tt></p>\n        </div>\n<script>\n\nvar loadScriptAsync = function(uri){\n  return new Promise((resolve, reject) => {\n    var tag = document.createElement('script');\n    tag.src = uri;\n    tag.async = true;\n    tag.onload = () => {\n      resolve();\n    };\n  var firstScriptTag = document.getElementsByTagName('script')[0];\n  firstScriptTag.parentNode.insertBefore(tag, firstScriptTag);\n});\n};\n\nif(typeof $3Dmolpromise === 'undefined') {\n$3Dmolpromise = null;\n  $3Dmolpromise = loadScriptAsync('https://3dmol.org/build/3Dmol.js');\n}\n\nvar viewer_16509009321530545 = null;\nvar warn = document.getElementById(\"3dmolwarning_16509009321530545\");\nif(warn) {\n    warn.parentNode.removeChild(warn);\n}\n$3Dmolpromise.then(function() {\nviewer_16509009321530545 = $3Dmol.createViewer($(\"#3dmolviewer_16509009321530545\"),{backgroundColor:\"white\"});\nviewer_16509009321530545.zoomTo();\n\tviewer_16509009321530545.addModel(\"\\n     RDKit          3D\\n\\n 11 12  0  0  0  0  0  0  0  0999 V2000\\n   -0.9068    2.7741    0.4093 O   0  0  0  0  0  0  0  0  0  0  0  0\\n   -1.1341    1.5575    0.1637 C   0  0  0  0  0  0  0  0  0  0  0  0\\n   -2.3986    1.1329   -0.0472 N   0  0  0  0  0  0  0  0  0  0  0  0\\n   -2.6692   -0.1597   -0.3112 C   0  0  0  0  0  0  0  0  0  0  0  0\\n   -1.5816   -1.0108   -0.3512 C   0  0  0  0  0  0  0  0  0  0  0  0\\n   -0.3047   -0.5723   -0.1364 C   0  0  0  0  0  0  0  0  0  0  0  0\\n    0.7846   -1.4225   -0.1761 C   0  0  0  0  0  0  0  0  0  0  0  0\\n    2.0739   -0.9604    0.0443 C   0  0  0  0  0  0  0  0  0  0  0  0\\n    2.2946    0.3753    0.3109 C   0  0  0  0  0  0  0  0  0  0  0  0\\n    1.1818    1.1905    0.3417 C   0  0  0  0  0  0  0  0  0  0  0  0\\n   -0.0713    0.7290    0.1252 N   0  0  0  0  0  0  0  0  0  0  0  0\\n  1  2  2  0\\n  2  3  1  0\\n  3  4  2  0\\n  4  5  1  0\\n  5  6  2  0\\n  6  7  1  0\\n  7  8  2  0\\n  8  9  1  0\\n  9 10  2  0\\n 10 11  1  0\\n 11  2  1  0\\n 11  6  1  0\\nM  END\\n\",\"sdf\");\n\tviewer_16509009321530545.addModel(\"\\n     RDKit          3D\\n\\n 11 12  0  0  0  0  0  0  0  0999 V2000\\n    1.6028   -1.5985   15.6983 O   0  0  0  0  0  0  0  0  0  0  0  0\\n    1.8845   -1.9944   14.5338 C   0  0  0  0  0  0  0  0  0  0  0  0\\n    1.7890   -3.3047   14.2212 N   0  0  0  0  0  0  0  0  0  0  0  0\\n    2.0835   -3.7541   12.9863 C   0  0  0  0  0  0  0  0  0  0  0  0\\n    2.4846   -2.7981   12.0730 C   0  0  0  0  0  0  0  0  0  0  0  0\\n    2.5785   -1.4736   12.3981 C   0  0  0  0  0  0  0  0  0  0  0  0\\n    2.9796   -0.5158   11.4856 C   0  0  0  0  0  0  0  0  0  0  0  0\\n    3.0694    0.8243   11.8327 C   0  0  0  0  0  0  0  0  0  0  0  0\\n    2.7554    1.2304   13.1134 C   0  0  0  0  0  0  0  0  0  0  0  0\\n    2.3596    0.2444   13.9938 C   0  0  0  0  0  0  0  0  0  0  0  0\\n    2.2756   -1.0598   13.6444 N   0  0  0  0  0  0  0  0  0  0  0  0\\n  1  2  2  0\\n  2  3  1  0\\n  3  4  2  0\\n  4  5  1  0\\n  5  6  2  0\\n  6  7  1  0\\n  7  8  2  0\\n  8  9  1  0\\n  9 10  2  0\\n 10 11  1  0\\n 11  2  1  0\\n 11  6  1  0\\nM  END\\n\",\"sdf\");\n\tviewer_16509009321530545.addModel(\"BRD4, Ligand 7\\n     RDKit          3D\\n\\n 23 26  0  0  0  0  0  0  0  0999 V2000\\n    3.2590    2.9010   13.4290 Cl  0  0  0  0  0  0  0  0  0  0  0  0\\n    2.9360    1.2890   12.8120 C   0  0  0  0  0  0  0  0  0  0  0  0\\n    2.3430    0.3620   13.6330 C   0  0  0  0  0  0  0  0  0  0  0  0\\n    2.0690   -0.9160   13.1160 C   0  0  0  0  0  0  0  0  0  0  0  0\\n    1.4040   -1.9100   14.0170 C   0  0  0  0  0  0  0  0  0  0  0  0\\n    0.2390   -1.4510   14.8530 C   0  0  0  0  0  0  0  0  0  0  0  0\\n   -0.5130   -0.3110   14.5260 C   0  0  0  0  0  0  0  0  0  0  0  0\\n   -1.6410    0.0420   15.2720 C   0  0  0  0  0  0  0  0  0  0  0  0\\n   -2.0370   -0.7510   16.3420 C   0  0  0  0  0  0  0  0  0  0  0  0\\n   -1.3100   -1.9100   16.6370 C   0  0  0  0  0  0  0  0  0  0  0  0\\n   -0.1850   -2.2490   15.9160 C   0  0  0  0  0  0  0  0  0  0  0  0\\n    1.7010   -3.1700   13.9680 N   0  0  0  0  0  0  0  0  0  0  0  0\\n    2.7470   -3.7670   13.1430 N   0  0  0  0  0  0  0  0  0  0  0  0\\n    3.4820   -4.9110   13.6300 C   0  0  0  0  0  0  0  0  0  0  0  0\\n    2.4970   -3.6210   11.8170 C   0  0  0  0  0  0  0  0  0  0  0  0\\n    2.1950   -2.4930   11.2130 N   0  0  0  0  0  0  0  0  0  0  0  0\\n    1.8170   -2.7700    9.9500 C   0  0  0  0  0  0  0  0  0  0  0  0\\n    1.4340   -1.8400    8.8530 C   0  0  0  0  0  0  0  0  0  0  0  0\\n    1.8190   -4.0880    9.8010 N   0  0  0  0  0  0  0  0  0  0  0  0\\n    2.2650   -4.6660   11.0030 N   0  0  0  0  0  0  0  0  0  0  0  0\\n    2.4030   -1.2480   11.7870 C   0  0  0  0  0  0  0  0  0  0  0  0\\n    3.0600   -0.2560   11.0340 C   0  0  0  0  0  0  0  0  0  0  0  0\\n    3.3050    1.0110   11.5140 C   0  0  0  0  0  0  0  0  0  0  0  0\\n  1  2  1  0\\n  2  3  2  0\\n  2 23  1  0\\n  3  4  1  0\\n  4  5  1  0\\n  4 21  2  0\\n  5  6  1  0\\n  5 12  2  0\\n  6  7  2  0\\n  6 11  1  0\\n  7  8  1  0\\n  8  9  2  0\\n  9 10  1  0\\n 10 11  2  0\\n 12 13  1  0\\n 13 14  1  0\\n 13 15  1  0\\n 15 16  1  0\\n 15 20  2  0\\n 16 17  1  0\\n 16 21  1  0\\n 17 18  1  0\\n 17 19  2  0\\n 19 20  1  0\\n 21 22  1  0\\n 22 23  2  0\\nM  END\\n\",\"sdf\");\n\tviewer_16509009321530545.setStyle({\"model\": 0},{\"stick\": {\"colorscheme\": \"lightgreyCarbon\"}});\n\tviewer_16509009321530545.setStyle({\"model\": 1},{\"stick\": {\"colorscheme\": \"purpleCarbon\"}});\n\tviewer_16509009321530545.setStyle({\"model\": 2},{\"stick\": {\"colorscheme\": \"greyCarbon\"}});\n\tviewer_16509009321530545.zoomTo();\nviewer_16509009321530545.render();\n});\n</script>",
      "text/html": [
       "<div id=\"3dmolviewer_16509009321530545\"  style=\"position: relative; width: 640px; height: 480px\">\n",
       "        <p id=\"3dmolwarning_16509009321530545\" style=\"background-color:#ffcccc;color:black\">You appear to be running in JupyterLab (or JavaScript failed to load for some other reason).  You need to install the 3dmol extension: <br>\n",
       "        <tt>jupyter labextension install jupyterlab_3dmol</tt></p>\n",
       "        </div>\n",
       "<script>\n",
       "\n",
       "var loadScriptAsync = function(uri){\n",
       "  return new Promise((resolve, reject) => {\n",
       "    var tag = document.createElement('script');\n",
       "    tag.src = uri;\n",
       "    tag.async = true;\n",
       "    tag.onload = () => {\n",
       "      resolve();\n",
       "    };\n",
       "  var firstScriptTag = document.getElementsByTagName('script')[0];\n",
       "  firstScriptTag.parentNode.insertBefore(tag, firstScriptTag);\n",
       "});\n",
       "};\n",
       "\n",
       "if(typeof $3Dmolpromise === 'undefined') {\n",
       "$3Dmolpromise = null;\n",
       "  $3Dmolpromise = loadScriptAsync('https://3dmol.org/build/3Dmol.js');\n",
       "}\n",
       "\n",
       "var viewer_16509009321530545 = null;\n",
       "var warn = document.getElementById(\"3dmolwarning_16509009321530545\");\n",
       "if(warn) {\n",
       "    warn.parentNode.removeChild(warn);\n",
       "}\n",
       "$3Dmolpromise.then(function() {\n",
       "viewer_16509009321530545 = $3Dmol.createViewer($(\"#3dmolviewer_16509009321530545\"),{backgroundColor:\"white\"});\n",
       "viewer_16509009321530545.zoomTo();\n",
       "\tviewer_16509009321530545.addModel(\"\\n     RDKit          3D\\n\\n 11 12  0  0  0  0  0  0  0  0999 V2000\\n   -0.9068    2.7741    0.4093 O   0  0  0  0  0  0  0  0  0  0  0  0\\n   -1.1341    1.5575    0.1637 C   0  0  0  0  0  0  0  0  0  0  0  0\\n   -2.3986    1.1329   -0.0472 N   0  0  0  0  0  0  0  0  0  0  0  0\\n   -2.6692   -0.1597   -0.3112 C   0  0  0  0  0  0  0  0  0  0  0  0\\n   -1.5816   -1.0108   -0.3512 C   0  0  0  0  0  0  0  0  0  0  0  0\\n   -0.3047   -0.5723   -0.1364 C   0  0  0  0  0  0  0  0  0  0  0  0\\n    0.7846   -1.4225   -0.1761 C   0  0  0  0  0  0  0  0  0  0  0  0\\n    2.0739   -0.9604    0.0443 C   0  0  0  0  0  0  0  0  0  0  0  0\\n    2.2946    0.3753    0.3109 C   0  0  0  0  0  0  0  0  0  0  0  0\\n    1.1818    1.1905    0.3417 C   0  0  0  0  0  0  0  0  0  0  0  0\\n   -0.0713    0.7290    0.1252 N   0  0  0  0  0  0  0  0  0  0  0  0\\n  1  2  2  0\\n  2  3  1  0\\n  3  4  2  0\\n  4  5  1  0\\n  5  6  2  0\\n  6  7  1  0\\n  7  8  2  0\\n  8  9  1  0\\n  9 10  2  0\\n 10 11  1  0\\n 11  2  1  0\\n 11  6  1  0\\nM  END\\n\",\"sdf\");\n",
       "\tviewer_16509009321530545.addModel(\"\\n     RDKit          3D\\n\\n 11 12  0  0  0  0  0  0  0  0999 V2000\\n    1.6028   -1.5985   15.6983 O   0  0  0  0  0  0  0  0  0  0  0  0\\n    1.8845   -1.9944   14.5338 C   0  0  0  0  0  0  0  0  0  0  0  0\\n    1.7890   -3.3047   14.2212 N   0  0  0  0  0  0  0  0  0  0  0  0\\n    2.0835   -3.7541   12.9863 C   0  0  0  0  0  0  0  0  0  0  0  0\\n    2.4846   -2.7981   12.0730 C   0  0  0  0  0  0  0  0  0  0  0  0\\n    2.5785   -1.4736   12.3981 C   0  0  0  0  0  0  0  0  0  0  0  0\\n    2.9796   -0.5158   11.4856 C   0  0  0  0  0  0  0  0  0  0  0  0\\n    3.0694    0.8243   11.8327 C   0  0  0  0  0  0  0  0  0  0  0  0\\n    2.7554    1.2304   13.1134 C   0  0  0  0  0  0  0  0  0  0  0  0\\n    2.3596    0.2444   13.9938 C   0  0  0  0  0  0  0  0  0  0  0  0\\n    2.2756   -1.0598   13.6444 N   0  0  0  0  0  0  0  0  0  0  0  0\\n  1  2  2  0\\n  2  3  1  0\\n  3  4  2  0\\n  4  5  1  0\\n  5  6  2  0\\n  6  7  1  0\\n  7  8  2  0\\n  8  9  1  0\\n  9 10  2  0\\n 10 11  1  0\\n 11  2  1  0\\n 11  6  1  0\\nM  END\\n\",\"sdf\");\n",
       "\tviewer_16509009321530545.addModel(\"BRD4, Ligand 7\\n     RDKit          3D\\n\\n 23 26  0  0  0  0  0  0  0  0999 V2000\\n    3.2590    2.9010   13.4290 Cl  0  0  0  0  0  0  0  0  0  0  0  0\\n    2.9360    1.2890   12.8120 C   0  0  0  0  0  0  0  0  0  0  0  0\\n    2.3430    0.3620   13.6330 C   0  0  0  0  0  0  0  0  0  0  0  0\\n    2.0690   -0.9160   13.1160 C   0  0  0  0  0  0  0  0  0  0  0  0\\n    1.4040   -1.9100   14.0170 C   0  0  0  0  0  0  0  0  0  0  0  0\\n    0.2390   -1.4510   14.8530 C   0  0  0  0  0  0  0  0  0  0  0  0\\n   -0.5130   -0.3110   14.5260 C   0  0  0  0  0  0  0  0  0  0  0  0\\n   -1.6410    0.0420   15.2720 C   0  0  0  0  0  0  0  0  0  0  0  0\\n   -2.0370   -0.7510   16.3420 C   0  0  0  0  0  0  0  0  0  0  0  0\\n   -1.3100   -1.9100   16.6370 C   0  0  0  0  0  0  0  0  0  0  0  0\\n   -0.1850   -2.2490   15.9160 C   0  0  0  0  0  0  0  0  0  0  0  0\\n    1.7010   -3.1700   13.9680 N   0  0  0  0  0  0  0  0  0  0  0  0\\n    2.7470   -3.7670   13.1430 N   0  0  0  0  0  0  0  0  0  0  0  0\\n    3.4820   -4.9110   13.6300 C   0  0  0  0  0  0  0  0  0  0  0  0\\n    2.4970   -3.6210   11.8170 C   0  0  0  0  0  0  0  0  0  0  0  0\\n    2.1950   -2.4930   11.2130 N   0  0  0  0  0  0  0  0  0  0  0  0\\n    1.8170   -2.7700    9.9500 C   0  0  0  0  0  0  0  0  0  0  0  0\\n    1.4340   -1.8400    8.8530 C   0  0  0  0  0  0  0  0  0  0  0  0\\n    1.8190   -4.0880    9.8010 N   0  0  0  0  0  0  0  0  0  0  0  0\\n    2.2650   -4.6660   11.0030 N   0  0  0  0  0  0  0  0  0  0  0  0\\n    2.4030   -1.2480   11.7870 C   0  0  0  0  0  0  0  0  0  0  0  0\\n    3.0600   -0.2560   11.0340 C   0  0  0  0  0  0  0  0  0  0  0  0\\n    3.3050    1.0110   11.5140 C   0  0  0  0  0  0  0  0  0  0  0  0\\n  1  2  1  0\\n  2  3  2  0\\n  2 23  1  0\\n  3  4  1  0\\n  4  5  1  0\\n  4 21  2  0\\n  5  6  1  0\\n  5 12  2  0\\n  6  7  2  0\\n  6 11  1  0\\n  7  8  1  0\\n  8  9  2  0\\n  9 10  1  0\\n 10 11  2  0\\n 12 13  1  0\\n 13 14  1  0\\n 13 15  1  0\\n 15 16  1  0\\n 15 20  2  0\\n 16 17  1  0\\n 16 21  1  0\\n 17 18  1  0\\n 17 19  2  0\\n 19 20  1  0\\n 21 22  1  0\\n 22 23  2  0\\nM  END\\n\",\"sdf\");\n",
       "\tviewer_16509009321530545.setStyle({\"model\": 0},{\"stick\": {\"colorscheme\": \"lightgreyCarbon\"}});\n",
       "\tviewer_16509009321530545.setStyle({\"model\": 1},{\"stick\": {\"colorscheme\": \"purpleCarbon\"}});\n",
       "\tviewer_16509009321530545.setStyle({\"model\": 2},{\"stick\": {\"colorscheme\": \"greyCarbon\"}});\n",
       "\tviewer_16509009321530545.zoomTo();\n",
       "viewer_16509009321530545.render();\n",
       "});\n",
       "</script>"
      ]
     },
     "metadata": {},
     "output_type": "display_data"
    },
    {
     "data": {
      "text/plain": [
       "<py3Dmol.view at 0x7fdd72cf8400>"
      ]
     },
     "metadata": {},
     "output_type": "display_data"
    }
   ],
   "source": [
    "showbest(df, \"ligand-7\", criteria=\"cfit + hfit\")"
   ]
  },
  {
   "cell_type": "code",
   "execution_count": null,
   "metadata": {},
   "outputs": [],
   "source": []
  }
 ],
 "metadata": {
  "interpreter": {
   "hash": "396549d0d80549071e1871f25904236f25b7276c7340ecdf496245f78763dd5d"
  },
  "kernelspec": {
   "display_name": "Python 3.9.12",
   "language": "python",
   "name": "python3"
  },
  "language_info": {
   "codemirror_mode": {
    "name": "ipython",
    "version": 3
   },
   "file_extension": ".py",
   "mimetype": "text/x-python",
   "name": "python",
   "nbconvert_exporter": "python",
   "pygments_lexer": "ipython3",
   "version": "3.9.12"
  },
  "orig_nbformat": 4
 },
 "nbformat": 4,
 "nbformat_minor": 2
}
