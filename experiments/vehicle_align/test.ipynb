{
 "cells": [
  {
   "cell_type": "code",
   "execution_count": 1,
   "metadata": {},
   "outputs": [
    {
     "data": {
      "text/html": [
       "\n",
       "                <script type=\"application/javascript\" id=\"jupyter_black\">\n",
       "                (function() {\n",
       "                    if (window.IPython === undefined) {\n",
       "                        return\n",
       "                    }\n",
       "                    var msg = \"WARNING: it looks like you might have loaded \" +\n",
       "                        \"jupyter_black in a non-lab notebook with \" +\n",
       "                        \"`is_lab=True`. Please double check, and if \" +\n",
       "                        \"loading with `%load_ext` please review the README!\"\n",
       "                    console.log(msg)\n",
       "                    alert(msg)\n",
       "                })()\n",
       "                </script>\n",
       "                "
      ],
      "text/plain": [
       "<IPython.core.display.HTML object>"
      ]
     },
     "metadata": {},
     "output_type": "display_data"
    }
   ],
   "source": [
    "%load_ext autoreload\n",
    "%autoreload 2\n",
    "%load_ext jupyter_black"
   ]
  },
  {
   "cell_type": "code",
   "execution_count": 2,
   "metadata": {},
   "outputs": [],
   "source": [
    "method = \"molgrid\"\n",
    "\n",
    "n_frags = 25"
   ]
  },
  {
   "cell_type": "code",
   "execution_count": 3,
   "metadata": {},
   "outputs": [
    {
     "name": "stdout",
     "output_type": "stream",
     "text": [
      "Jupyter environment detected. Enabling Open3D WebVisualizer.\n",
      "[Open3D INFO] WebRTC GUI backend enabled.\n",
      "[Open3D INFO] WebRTCWindowSystem: HTTP handshake server disabled.\n"
     ]
    }
   ],
   "source": [
    "import open3d as o3d\n",
    "from rdkit import Chem\n",
    "import numpy as np\n",
    "\n",
    "from collections import defaultdict\n",
    "\n",
    "import tqdm\n",
    "import os, sys, re"
   ]
  },
  {
   "cell_type": "code",
   "execution_count": 4,
   "metadata": {},
   "outputs": [],
   "source": [
    "sys.path.append(\"../../\")\n",
    "sys.path.append(\"../\")"
   ]
  },
  {
   "cell_type": "code",
   "execution_count": 5,
   "metadata": {},
   "outputs": [],
   "source": [
    "from utils import show, align"
   ]
  },
  {
   "cell_type": "markdown",
   "metadata": {},
   "source": [
    "## Load BRD4 Inhibitors"
   ]
  },
  {
   "cell_type": "code",
   "execution_count": 6,
   "metadata": {},
   "outputs": [],
   "source": [
    "path = \"../ligands/BRD4\""
   ]
  },
  {
   "cell_type": "code",
   "execution_count": 7,
   "metadata": {},
   "outputs": [
    {
     "name": "stdout",
     "output_type": "stream",
     "text": [
      "['../ligands/BRD4/ligand-1_molgrid.pcd', '../ligands/BRD4/ligand-2_molgrid.pcd', '../ligands/BRD4/ligand-3_molgrid.pcd', '../ligands/BRD4/ligand-4_molgrid.pcd', '../ligands/BRD4/ligand-5_molgrid.pcd', '../ligands/BRD4/ligand-6_molgrid.pcd', '../ligands/BRD4/ligand-7_molgrid.pcd', '../ligands/BRD4/ligand-8_molgrid.pcd', '../ligands/BRD4/ligand-9_molgrid.pcd', '../ligands/BRD4/ligand-10_molgrid.pcd']\n"
     ]
    }
   ],
   "source": [
    "files = []\n",
    "for f in os.listdir(path):\n",
    "    fname, ext = os.path.splitext(f)\n",
    "    if (\n",
    "        ext == \".pcd\"\n",
    "        and method in fname\n",
    "        and not \"tran\" in fname\n",
    "        and not \"murcko\" in fname\n",
    "    ):\n",
    "        files.append(os.path.join(path, f))\n",
    "\n",
    "# Sort BRD4 ligand files by number\n",
    "r = re.compile(\"\\d{1,2}\")\n",
    "files.sort(key=lambda f: int(r.search(os.path.basename(f)).group()))\n",
    "\n",
    "print(files)\n",
    "\n",
    "pcds = []\n",
    "mols = []\n",
    "for f in files:\n",
    "    pcd = o3d.io.read_point_cloud(f)\n",
    "    pcds.append(pcd)\n",
    "\n",
    "    s = Chem.SDMolSupplier(f.replace(\".pcd\", \".sdf\").replace(f\"_{method}\", \"\"))\n",
    "    mol = next(s)\n",
    "    mols.append(mol)"
   ]
  },
  {
   "cell_type": "markdown",
   "metadata": {},
   "source": [
    "## Load Fragments"
   ]
  },
  {
   "cell_type": "markdown",
   "metadata": {},
   "source": [
    "Load fragments. Only fragments that are considered to be synthetically accessible are considered here, in order to reduce computational resources:"
   ]
  },
  {
   "cell_type": "code",
   "execution_count": 8,
   "metadata": {},
   "outputs": [
    {
     "name": "stderr",
     "output_type": "stream",
     "text": [
      "100%|██████████| 25/25 [00:00<00:00, 1043.06it/s]\n"
     ]
    }
   ],
   "source": [
    "fragpath = path = \"../../fragments/VEHICLe-good/\"\n",
    "fragfiles = [\n",
    "    os.path.join(fragpath, f)\n",
    "    for f in os.listdir(fragpath)\n",
    "    if os.path.splitext(f)[-1] == \".pcd\"\n",
    "]\n",
    "\n",
    "fragfiles = fragfiles[:n_frags]\n",
    "\n",
    "fragpcds = []\n",
    "fragmols = []\n",
    "for ff in tqdm.tqdm(fragfiles):\n",
    "    pcd = o3d.io.read_point_cloud(ff)\n",
    "    fragpcds.append(pcd)\n",
    "\n",
    "    s = Chem.SDMolSupplier(ff.replace(\".pcd\", \".sdf\"))\n",
    "    mol = next(s)\n",
    "    fragmols.append(mol)"
   ]
  },
  {
   "cell_type": "markdown",
   "metadata": {},
   "source": [
    "## Align Fragments to CDK2 Inhibitors"
   ]
  },
  {
   "cell_type": "code",
   "execution_count": 9,
   "metadata": {},
   "outputs": [
    {
     "name": "stderr",
     "output_type": "stream",
     "text": [
      "Fragments ligand-1: 100%|██████████| 25/25 [00:07<00:00,  3.46it/s]\n",
      "Fragments ligand-2: 100%|██████████| 25/25 [00:06<00:00,  3.66it/s]\n",
      "Fragments ligand-3: 100%|██████████| 25/25 [00:07<00:00,  3.51it/s]\n",
      "Fragments ligand-4: 100%|██████████| 25/25 [00:06<00:00,  3.61it/s]\n",
      "Fragments ligand-5: 100%|██████████| 25/25 [00:07<00:00,  3.46it/s]\n",
      "Fragments ligand-6: 100%|██████████| 25/25 [00:06<00:00,  3.77it/s]\n",
      "Fragments ligand-7: 100%|██████████| 25/25 [00:06<00:00,  3.77it/s]\n",
      "Fragments ligand-8: 100%|██████████| 25/25 [00:07<00:00,  3.52it/s]\n",
      "Fragments ligand-9: 100%|██████████| 25/25 [00:07<00:00,  3.39it/s]\n",
      "Fragments ligand-10: 100%|██████████| 25/25 [00:07<00:00,  3.49it/s]\n"
     ]
    }
   ],
   "source": [
    "alignments = {}\n",
    "\n",
    "for i, f in enumerate(files):\n",
    "    name = os.path.splitext(os.path.basename(f))[0].replace(f\"_{method}\", \"\")\n",
    "\n",
    "    alignments[name] = defaultdict(list)\n",
    "\n",
    "    for j, ff in enumerate(tqdm.tqdm(fragfiles, desc=\"Fragments \" + name)):\n",
    "        fidx = os.path.splitext(os.path.basename(ff))[0].replace(f\"fragment_\", \"\")\n",
    "\n",
    "        gfit, cfit, hfit = align(fragmols[j], fragpcds[j], pcds[i], hfit=True)\n",
    "\n",
    "        alignments[name][\"fragment\"].append(int(fidx))\n",
    "        alignments[name][\"gfit\"].append(gfit.fitness)\n",
    "        alignments[name][\"cfit\"].append(cfit.fitness)\n",
    "        alignments[name][\"hfit\"].append(hfit)\n",
    "        alignments[name][\"mol\"].append(mols[i])\n",
    "        alignments[name][\"fragmol\"].append(fragmols[j])"
   ]
  },
  {
   "cell_type": "code",
   "execution_count": 10,
   "metadata": {},
   "outputs": [],
   "source": [
    "import pandas as pd\n",
    "\n",
    "d = {}\n",
    "for outerKey, innerDict in alignments.items():\n",
    "    for innerKey, values in innerDict.items():\n",
    "        d[(outerKey, innerKey)] = values\n",
    "\n",
    "df = pd.DataFrame.from_dict(d)\n",
    "df = df.stack(level=0).swaplevel().sort_index()\n",
    "df.index.names = [\"lig\", \"idx\"]"
   ]
  },
  {
   "cell_type": "code",
   "execution_count": 11,
   "metadata": {},
   "outputs": [
    {
     "data": {
      "text/html": [
       "<div>\n",
       "<style scoped>\n",
       "    .dataframe tbody tr th:only-of-type {\n",
       "        vertical-align: middle;\n",
       "    }\n",
       "\n",
       "    .dataframe tbody tr th {\n",
       "        vertical-align: top;\n",
       "    }\n",
       "\n",
       "    .dataframe thead th {\n",
       "        text-align: right;\n",
       "    }\n",
       "</style>\n",
       "<table border=\"1\" class=\"dataframe\">\n",
       "  <thead>\n",
       "    <tr style=\"text-align: right;\">\n",
       "      <th></th>\n",
       "      <th></th>\n",
       "      <th>cfit</th>\n",
       "      <th>fragment</th>\n",
       "      <th>fragmol</th>\n",
       "      <th>gfit</th>\n",
       "      <th>hfit</th>\n",
       "      <th>mol</th>\n",
       "      <th>cfit + hfit</th>\n",
       "    </tr>\n",
       "    <tr>\n",
       "      <th>lig</th>\n",
       "      <th>idx</th>\n",
       "      <th></th>\n",
       "      <th></th>\n",
       "      <th></th>\n",
       "      <th></th>\n",
       "      <th></th>\n",
       "      <th></th>\n",
       "      <th></th>\n",
       "    </tr>\n",
       "  </thead>\n",
       "  <tbody>\n",
       "    <tr>\n",
       "      <th rowspan=\"5\" valign=\"top\">ligand-1</th>\n",
       "      <th>0</th>\n",
       "      <td>0.867435</td>\n",
       "      <td>1046</td>\n",
       "      <td>&lt;rdkit.Chem.rdchem.Mol object at 0x7fa871e6ffa0&gt;</td>\n",
       "      <td>0.841499</td>\n",
       "      <td>0.645533</td>\n",
       "      <td>&lt;rdkit.Chem.rdchem.Mol object at 0x7fa871e827c0&gt;</td>\n",
       "      <td>1.512968</td>\n",
       "    </tr>\n",
       "    <tr>\n",
       "      <th>1</th>\n",
       "      <td>0.898396</td>\n",
       "      <td>0</td>\n",
       "      <td>&lt;rdkit.Chem.rdchem.Mol object at 0x7fa871dbd040&gt;</td>\n",
       "      <td>0.401070</td>\n",
       "      <td>0.807487</td>\n",
       "      <td>&lt;rdkit.Chem.rdchem.Mol object at 0x7fa871e827c0&gt;</td>\n",
       "      <td>1.705882</td>\n",
       "    </tr>\n",
       "    <tr>\n",
       "      <th>2</th>\n",
       "      <td>0.779141</td>\n",
       "      <td>1</td>\n",
       "      <td>&lt;rdkit.Chem.rdchem.Mol object at 0x7fa871dbd0a0&gt;</td>\n",
       "      <td>0.699387</td>\n",
       "      <td>0.650307</td>\n",
       "      <td>&lt;rdkit.Chem.rdchem.Mol object at 0x7fa871e827c0&gt;</td>\n",
       "      <td>1.429448</td>\n",
       "    </tr>\n",
       "    <tr>\n",
       "      <th>3</th>\n",
       "      <td>0.812500</td>\n",
       "      <td>1047</td>\n",
       "      <td>&lt;rdkit.Chem.rdchem.Mol object at 0x7fa871dbd100&gt;</td>\n",
       "      <td>0.771739</td>\n",
       "      <td>0.581522</td>\n",
       "      <td>&lt;rdkit.Chem.rdchem.Mol object at 0x7fa871e827c0&gt;</td>\n",
       "      <td>1.394022</td>\n",
       "    </tr>\n",
       "    <tr>\n",
       "      <th>4</th>\n",
       "      <td>0.862687</td>\n",
       "      <td>10</td>\n",
       "      <td>&lt;rdkit.Chem.rdchem.Mol object at 0x7fa871dbd160&gt;</td>\n",
       "      <td>0.785075</td>\n",
       "      <td>0.531343</td>\n",
       "      <td>&lt;rdkit.Chem.rdchem.Mol object at 0x7fa871e827c0&gt;</td>\n",
       "      <td>1.394030</td>\n",
       "    </tr>\n",
       "    <tr>\n",
       "      <th>...</th>\n",
       "      <th>...</th>\n",
       "      <td>...</td>\n",
       "      <td>...</td>\n",
       "      <td>...</td>\n",
       "      <td>...</td>\n",
       "      <td>...</td>\n",
       "      <td>...</td>\n",
       "      <td>...</td>\n",
       "    </tr>\n",
       "    <tr>\n",
       "      <th rowspan=\"5\" valign=\"top\">ligand-9</th>\n",
       "      <th>20</th>\n",
       "      <td>0.720195</td>\n",
       "      <td>1006</td>\n",
       "      <td>&lt;rdkit.Chem.rdchem.Mol object at 0x7fa871dbd760&gt;</td>\n",
       "      <td>0.625304</td>\n",
       "      <td>0.420925</td>\n",
       "      <td>&lt;rdkit.Chem.rdchem.Mol object at 0x7fa871e82880&gt;</td>\n",
       "      <td>1.141119</td>\n",
       "    </tr>\n",
       "    <tr>\n",
       "      <th>21</th>\n",
       "      <td>0.818182</td>\n",
       "      <td>1055</td>\n",
       "      <td>&lt;rdkit.Chem.rdchem.Mol object at 0x7fa871dbd7c0&gt;</td>\n",
       "      <td>0.727273</td>\n",
       "      <td>0.433333</td>\n",
       "      <td>&lt;rdkit.Chem.rdchem.Mol object at 0x7fa871e82880&gt;</td>\n",
       "      <td>1.251515</td>\n",
       "    </tr>\n",
       "    <tr>\n",
       "      <th>22</th>\n",
       "      <td>0.827160</td>\n",
       "      <td>1007</td>\n",
       "      <td>&lt;rdkit.Chem.rdchem.Mol object at 0x7fa871dbd820&gt;</td>\n",
       "      <td>0.728395</td>\n",
       "      <td>0.617284</td>\n",
       "      <td>&lt;rdkit.Chem.rdchem.Mol object at 0x7fa871e82880&gt;</td>\n",
       "      <td>1.444444</td>\n",
       "    </tr>\n",
       "    <tr>\n",
       "      <th>23</th>\n",
       "      <td>0.778409</td>\n",
       "      <td>1056</td>\n",
       "      <td>&lt;rdkit.Chem.rdchem.Mol object at 0x7fa871dbd880&gt;</td>\n",
       "      <td>0.767045</td>\n",
       "      <td>0.551136</td>\n",
       "      <td>&lt;rdkit.Chem.rdchem.Mol object at 0x7fa871e82880&gt;</td>\n",
       "      <td>1.329545</td>\n",
       "    </tr>\n",
       "    <tr>\n",
       "      <th>24</th>\n",
       "      <td>0.941176</td>\n",
       "      <td>1008</td>\n",
       "      <td>&lt;rdkit.Chem.rdchem.Mol object at 0x7fa871dbd8e0&gt;</td>\n",
       "      <td>0.823529</td>\n",
       "      <td>0.573529</td>\n",
       "      <td>&lt;rdkit.Chem.rdchem.Mol object at 0x7fa871e82880&gt;</td>\n",
       "      <td>1.514706</td>\n",
       "    </tr>\n",
       "  </tbody>\n",
       "</table>\n",
       "<p>250 rows × 7 columns</p>\n",
       "</div>"
      ],
      "text/plain": [
       "                  cfit  fragment  \\\n",
       "lig      idx                       \n",
       "ligand-1 0    0.867435      1046   \n",
       "         1    0.898396         0   \n",
       "         2    0.779141         1   \n",
       "         3    0.812500      1047   \n",
       "         4    0.862687        10   \n",
       "...                ...       ...   \n",
       "ligand-9 20   0.720195      1006   \n",
       "         21   0.818182      1055   \n",
       "         22   0.827160      1007   \n",
       "         23   0.778409      1056   \n",
       "         24   0.941176      1008   \n",
       "\n",
       "                                                       fragmol      gfit  \\\n",
       "lig      idx                                                               \n",
       "ligand-1 0    <rdkit.Chem.rdchem.Mol object at 0x7fa871e6ffa0>  0.841499   \n",
       "         1    <rdkit.Chem.rdchem.Mol object at 0x7fa871dbd040>  0.401070   \n",
       "         2    <rdkit.Chem.rdchem.Mol object at 0x7fa871dbd0a0>  0.699387   \n",
       "         3    <rdkit.Chem.rdchem.Mol object at 0x7fa871dbd100>  0.771739   \n",
       "         4    <rdkit.Chem.rdchem.Mol object at 0x7fa871dbd160>  0.785075   \n",
       "...                                                        ...       ...   \n",
       "ligand-9 20   <rdkit.Chem.rdchem.Mol object at 0x7fa871dbd760>  0.625304   \n",
       "         21   <rdkit.Chem.rdchem.Mol object at 0x7fa871dbd7c0>  0.727273   \n",
       "         22   <rdkit.Chem.rdchem.Mol object at 0x7fa871dbd820>  0.728395   \n",
       "         23   <rdkit.Chem.rdchem.Mol object at 0x7fa871dbd880>  0.767045   \n",
       "         24   <rdkit.Chem.rdchem.Mol object at 0x7fa871dbd8e0>  0.823529   \n",
       "\n",
       "                  hfit                                               mol  \\\n",
       "lig      idx                                                               \n",
       "ligand-1 0    0.645533  <rdkit.Chem.rdchem.Mol object at 0x7fa871e827c0>   \n",
       "         1    0.807487  <rdkit.Chem.rdchem.Mol object at 0x7fa871e827c0>   \n",
       "         2    0.650307  <rdkit.Chem.rdchem.Mol object at 0x7fa871e827c0>   \n",
       "         3    0.581522  <rdkit.Chem.rdchem.Mol object at 0x7fa871e827c0>   \n",
       "         4    0.531343  <rdkit.Chem.rdchem.Mol object at 0x7fa871e827c0>   \n",
       "...                ...                                               ...   \n",
       "ligand-9 20   0.420925  <rdkit.Chem.rdchem.Mol object at 0x7fa871e82880>   \n",
       "         21   0.433333  <rdkit.Chem.rdchem.Mol object at 0x7fa871e82880>   \n",
       "         22   0.617284  <rdkit.Chem.rdchem.Mol object at 0x7fa871e82880>   \n",
       "         23   0.551136  <rdkit.Chem.rdchem.Mol object at 0x7fa871e82880>   \n",
       "         24   0.573529  <rdkit.Chem.rdchem.Mol object at 0x7fa871e82880>   \n",
       "\n",
       "              cfit + hfit  \n",
       "lig      idx               \n",
       "ligand-1 0       1.512968  \n",
       "         1       1.705882  \n",
       "         2       1.429448  \n",
       "         3       1.394022  \n",
       "         4       1.394030  \n",
       "...                   ...  \n",
       "ligand-9 20      1.141119  \n",
       "         21      1.251515  \n",
       "         22      1.444444  \n",
       "         23      1.329545  \n",
       "         24      1.514706  \n",
       "\n",
       "[250 rows x 7 columns]"
      ]
     },
     "execution_count": 11,
     "metadata": {},
     "output_type": "execute_result"
    }
   ],
   "source": [
    "df[\"cfit + hfit\"] = df[\"cfit\"] + df[\"hfit\"]\n",
    "df"
   ]
  },
  {
   "cell_type": "code",
   "execution_count": 12,
   "metadata": {},
   "outputs": [],
   "source": [
    "def getbest(df, lig, criteria=\"cfit\", k=3):\n",
    "    return df.query(\"lig == @lig\").sort_values(criteria, ascending=False).head(k)\n",
    "\n",
    "\n",
    "def showbest(df, lig, criteria=\"cfit\", k=10):\n",
    "    best = getbest(df, lig, criteria, k)\n",
    "\n",
    "    for idx, row in best.iterrows():\n",
    "        p = show(row.fragmol, row.mol)\n",
    "        print(row[criteria])\n",
    "        display(p)"
   ]
  },
  {
   "cell_type": "code",
   "execution_count": 13,
   "metadata": {},
   "outputs": [
    {
     "name": "stdout",
     "output_type": "stream",
     "text": [
      "1.5738636363636362\n"
     ]
    },
    {
     "data": {
      "application/3dmoljs_load.v0": "<div id=\"3dmolviewer_16509019259435859\"  style=\"position: relative; width: 640px; height: 480px\">\n        <p id=\"3dmolwarning_16509019259435859\" style=\"background-color:#ffcccc;color:black\">You appear to be running in JupyterLab (or JavaScript failed to load for some other reason).  You need to install the 3dmol extension: <br>\n        <tt>jupyter labextension install jupyterlab_3dmol</tt></p>\n        </div>\n<script>\n\nvar loadScriptAsync = function(uri){\n  return new Promise((resolve, reject) => {\n    var tag = document.createElement('script');\n    tag.src = uri;\n    tag.async = true;\n    tag.onload = () => {\n      resolve();\n    };\n  var firstScriptTag = document.getElementsByTagName('script')[0];\n  firstScriptTag.parentNode.insertBefore(tag, firstScriptTag);\n});\n};\n\nif(typeof $3Dmolpromise === 'undefined') {\n$3Dmolpromise = null;\n  $3Dmolpromise = loadScriptAsync('https://3dmol.org/build/3Dmol.js');\n}\n\nvar viewer_16509019259435859 = null;\nvar warn = document.getElementById(\"3dmolwarning_16509019259435859\");\nif(warn) {\n    warn.parentNode.removeChild(warn);\n}\n$3Dmolpromise.then(function() {\nviewer_16509019259435859 = $3Dmol.createViewer($(\"#3dmolviewer_16509019259435859\"),{backgroundColor:\"white\"});\nviewer_16509019259435859.zoomTo();\n\tviewer_16509019259435859.addModel(\"\\n     RDKit          3D\\n\\n 10 11  0  0  0  0  0  0  0  0999 V2000\\n    3.3798   -0.0203   -0.3514 O   0  0  0  0  0  0  0  0  0  0  0  0\\n    2.1324    0.0742   -0.2776 C   0  0  0  0  0  0  0  0  0  0  0  0\\n    1.2520   -1.0087   -0.2662 C   0  0  0  0  0  0  0  0  0  0  0  0\\n   -0.0342   -0.5018   -0.1757 C   0  0  0  0  0  0  0  0  0  0  0  0\\n   -1.2789   -0.9992   -0.1230 N   0  0  0  0  0  0  0  0  0  0  0  0\\n   -2.3547   -0.2067   -0.0342 C   0  0  0  0  0  0  0  0  0  0  0  0\\n   -2.1797    1.1474    0.0037 N   0  0  0  0  0  0  0  0  0  0  0  0\\n   -1.0010    1.6989   -0.0434 O   0  0  0  0  0  0  0  0  0  0  0  0\\n    0.0711    0.9641   -0.1299 C   0  0  0  0  0  0  0  0  0  0  0  0\\n    1.4030    1.2642   -0.1944 C   0  0  0  0  0  0  0  0  0  0  0  0\\n  1  2  2  0\\n  2  3  1  0\\n  3  4  2  0\\n  4  5  1  0\\n  5  6  1  0\\n  6  7  2  0\\n  7  8  1  0\\n  8  9  1  0\\n  9 10  2  0\\n 10  2  1  0\\n  9  4  1  0\\nM  END\\n\",\"sdf\");\n\tviewer_16509019259435859.addModel(\"\\n     RDKit          3D\\n\\n 10 11  0  0  0  0  0  0  0  0999 V2000\\n    1.8596   -1.8905    9.3395 O   0  0  0  0  0  0  0  0  0  0  0  0\\n    2.1239   -2.3872   10.4593 C   0  0  0  0  0  0  0  0  0  0  0  0\\n    2.6664   -3.6577   10.6578 C   0  0  0  0  0  0  0  0  0  0  0  0\\n    2.8120   -3.8423   12.0231 C   0  0  0  0  0  0  0  0  0  0  0  0\\n    3.2590   -4.8114   12.8358 N   0  0  0  0  0  0  0  0  0  0  0  0\\n    3.2667   -4.6708   14.1676 C   0  0  0  0  0  0  0  0  0  0  0  0\\n    2.8060   -3.5070   14.7144 N   0  0  0  0  0  0  0  0  0  0  0  0\\n    2.3577   -2.5249   13.9862 O   0  0  0  0  0  0  0  0  0  0  0  0\\n    2.3331   -2.6210   12.6874 C   0  0  0  0  0  0  0  0  0  0  0  0\\n    1.9268   -1.7697   11.6982 C   0  0  0  0  0  0  0  0  0  0  0  0\\n  1  2  2  0\\n  2  3  1  0\\n  3  4  2  0\\n  4  5  1  0\\n  5  6  1  0\\n  6  7  2  0\\n  7  8  1  0\\n  8  9  1  0\\n  9 10  2  0\\n 10  2  1  0\\n  9  4  1  0\\nM  END\\n\",\"sdf\");\n\tviewer_16509019259435859.addModel(\"BRD4, Ligand 7\\n     RDKit          3D\\n\\n 23 26  0  0  0  0  0  0  0  0999 V2000\\n    3.2590    2.9010   13.4290 Cl  0  0  0  0  0  0  0  0  0  0  0  0\\n    2.9360    1.2890   12.8120 C   0  0  0  0  0  0  0  0  0  0  0  0\\n    2.3430    0.3620   13.6330 C   0  0  0  0  0  0  0  0  0  0  0  0\\n    2.0690   -0.9160   13.1160 C   0  0  0  0  0  0  0  0  0  0  0  0\\n    1.4040   -1.9100   14.0170 C   0  0  0  0  0  0  0  0  0  0  0  0\\n    0.2390   -1.4510   14.8530 C   0  0  0  0  0  0  0  0  0  0  0  0\\n   -0.5130   -0.3110   14.5260 C   0  0  0  0  0  0  0  0  0  0  0  0\\n   -1.6410    0.0420   15.2720 C   0  0  0  0  0  0  0  0  0  0  0  0\\n   -2.0370   -0.7510   16.3420 C   0  0  0  0  0  0  0  0  0  0  0  0\\n   -1.3100   -1.9100   16.6370 C   0  0  0  0  0  0  0  0  0  0  0  0\\n   -0.1850   -2.2490   15.9160 C   0  0  0  0  0  0  0  0  0  0  0  0\\n    1.7010   -3.1700   13.9680 N   0  0  0  0  0  0  0  0  0  0  0  0\\n    2.7470   -3.7670   13.1430 N   0  0  0  0  0  0  0  0  0  0  0  0\\n    3.4820   -4.9110   13.6300 C   0  0  0  0  0  0  0  0  0  0  0  0\\n    2.4970   -3.6210   11.8170 C   0  0  0  0  0  0  0  0  0  0  0  0\\n    2.1950   -2.4930   11.2130 N   0  0  0  0  0  0  0  0  0  0  0  0\\n    1.8170   -2.7700    9.9500 C   0  0  0  0  0  0  0  0  0  0  0  0\\n    1.4340   -1.8400    8.8530 C   0  0  0  0  0  0  0  0  0  0  0  0\\n    1.8190   -4.0880    9.8010 N   0  0  0  0  0  0  0  0  0  0  0  0\\n    2.2650   -4.6660   11.0030 N   0  0  0  0  0  0  0  0  0  0  0  0\\n    2.4030   -1.2480   11.7870 C   0  0  0  0  0  0  0  0  0  0  0  0\\n    3.0600   -0.2560   11.0340 C   0  0  0  0  0  0  0  0  0  0  0  0\\n    3.3050    1.0110   11.5140 C   0  0  0  0  0  0  0  0  0  0  0  0\\n  1  2  1  0\\n  2  3  2  0\\n  2 23  1  0\\n  3  4  1  0\\n  4  5  1  0\\n  4 21  2  0\\n  5  6  1  0\\n  5 12  2  0\\n  6  7  2  0\\n  6 11  1  0\\n  7  8  1  0\\n  8  9  2  0\\n  9 10  1  0\\n 10 11  2  0\\n 12 13  1  0\\n 13 14  1  0\\n 13 15  1  0\\n 15 16  1  0\\n 15 20  2  0\\n 16 17  1  0\\n 16 21  1  0\\n 17 18  1  0\\n 17 19  2  0\\n 19 20  1  0\\n 21 22  1  0\\n 22 23  2  0\\nM  END\\n\",\"sdf\");\n\tviewer_16509019259435859.setStyle({\"model\": 0},{\"stick\": {\"colorscheme\": \"lightgreyCarbon\"}});\n\tviewer_16509019259435859.setStyle({\"model\": 1},{\"stick\": {\"colorscheme\": \"purpleCarbon\"}});\n\tviewer_16509019259435859.setStyle({\"model\": 2},{\"stick\": {\"colorscheme\": \"greyCarbon\"}});\n\tviewer_16509019259435859.zoomTo();\nviewer_16509019259435859.render();\n});\n</script>",
      "text/html": [
       "<div id=\"3dmolviewer_16509019259435859\"  style=\"position: relative; width: 640px; height: 480px\">\n",
       "        <p id=\"3dmolwarning_16509019259435859\" style=\"background-color:#ffcccc;color:black\">You appear to be running in JupyterLab (or JavaScript failed to load for some other reason).  You need to install the 3dmol extension: <br>\n",
       "        <tt>jupyter labextension install jupyterlab_3dmol</tt></p>\n",
       "        </div>\n",
       "<script>\n",
       "\n",
       "var loadScriptAsync = function(uri){\n",
       "  return new Promise((resolve, reject) => {\n",
       "    var tag = document.createElement('script');\n",
       "    tag.src = uri;\n",
       "    tag.async = true;\n",
       "    tag.onload = () => {\n",
       "      resolve();\n",
       "    };\n",
       "  var firstScriptTag = document.getElementsByTagName('script')[0];\n",
       "  firstScriptTag.parentNode.insertBefore(tag, firstScriptTag);\n",
       "});\n",
       "};\n",
       "\n",
       "if(typeof $3Dmolpromise === 'undefined') {\n",
       "$3Dmolpromise = null;\n",
       "  $3Dmolpromise = loadScriptAsync('https://3dmol.org/build/3Dmol.js');\n",
       "}\n",
       "\n",
       "var viewer_16509019259435859 = null;\n",
       "var warn = document.getElementById(\"3dmolwarning_16509019259435859\");\n",
       "if(warn) {\n",
       "    warn.parentNode.removeChild(warn);\n",
       "}\n",
       "$3Dmolpromise.then(function() {\n",
       "viewer_16509019259435859 = $3Dmol.createViewer($(\"#3dmolviewer_16509019259435859\"),{backgroundColor:\"white\"});\n",
       "viewer_16509019259435859.zoomTo();\n",
       "\tviewer_16509019259435859.addModel(\"\\n     RDKit          3D\\n\\n 10 11  0  0  0  0  0  0  0  0999 V2000\\n    3.3798   -0.0203   -0.3514 O   0  0  0  0  0  0  0  0  0  0  0  0\\n    2.1324    0.0742   -0.2776 C   0  0  0  0  0  0  0  0  0  0  0  0\\n    1.2520   -1.0087   -0.2662 C   0  0  0  0  0  0  0  0  0  0  0  0\\n   -0.0342   -0.5018   -0.1757 C   0  0  0  0  0  0  0  0  0  0  0  0\\n   -1.2789   -0.9992   -0.1230 N   0  0  0  0  0  0  0  0  0  0  0  0\\n   -2.3547   -0.2067   -0.0342 C   0  0  0  0  0  0  0  0  0  0  0  0\\n   -2.1797    1.1474    0.0037 N   0  0  0  0  0  0  0  0  0  0  0  0\\n   -1.0010    1.6989   -0.0434 O   0  0  0  0  0  0  0  0  0  0  0  0\\n    0.0711    0.9641   -0.1299 C   0  0  0  0  0  0  0  0  0  0  0  0\\n    1.4030    1.2642   -0.1944 C   0  0  0  0  0  0  0  0  0  0  0  0\\n  1  2  2  0\\n  2  3  1  0\\n  3  4  2  0\\n  4  5  1  0\\n  5  6  1  0\\n  6  7  2  0\\n  7  8  1  0\\n  8  9  1  0\\n  9 10  2  0\\n 10  2  1  0\\n  9  4  1  0\\nM  END\\n\",\"sdf\");\n",
       "\tviewer_16509019259435859.addModel(\"\\n     RDKit          3D\\n\\n 10 11  0  0  0  0  0  0  0  0999 V2000\\n    1.8596   -1.8905    9.3395 O   0  0  0  0  0  0  0  0  0  0  0  0\\n    2.1239   -2.3872   10.4593 C   0  0  0  0  0  0  0  0  0  0  0  0\\n    2.6664   -3.6577   10.6578 C   0  0  0  0  0  0  0  0  0  0  0  0\\n    2.8120   -3.8423   12.0231 C   0  0  0  0  0  0  0  0  0  0  0  0\\n    3.2590   -4.8114   12.8358 N   0  0  0  0  0  0  0  0  0  0  0  0\\n    3.2667   -4.6708   14.1676 C   0  0  0  0  0  0  0  0  0  0  0  0\\n    2.8060   -3.5070   14.7144 N   0  0  0  0  0  0  0  0  0  0  0  0\\n    2.3577   -2.5249   13.9862 O   0  0  0  0  0  0  0  0  0  0  0  0\\n    2.3331   -2.6210   12.6874 C   0  0  0  0  0  0  0  0  0  0  0  0\\n    1.9268   -1.7697   11.6982 C   0  0  0  0  0  0  0  0  0  0  0  0\\n  1  2  2  0\\n  2  3  1  0\\n  3  4  2  0\\n  4  5  1  0\\n  5  6  1  0\\n  6  7  2  0\\n  7  8  1  0\\n  8  9  1  0\\n  9 10  2  0\\n 10  2  1  0\\n  9  4  1  0\\nM  END\\n\",\"sdf\");\n",
       "\tviewer_16509019259435859.addModel(\"BRD4, Ligand 7\\n     RDKit          3D\\n\\n 23 26  0  0  0  0  0  0  0  0999 V2000\\n    3.2590    2.9010   13.4290 Cl  0  0  0  0  0  0  0  0  0  0  0  0\\n    2.9360    1.2890   12.8120 C   0  0  0  0  0  0  0  0  0  0  0  0\\n    2.3430    0.3620   13.6330 C   0  0  0  0  0  0  0  0  0  0  0  0\\n    2.0690   -0.9160   13.1160 C   0  0  0  0  0  0  0  0  0  0  0  0\\n    1.4040   -1.9100   14.0170 C   0  0  0  0  0  0  0  0  0  0  0  0\\n    0.2390   -1.4510   14.8530 C   0  0  0  0  0  0  0  0  0  0  0  0\\n   -0.5130   -0.3110   14.5260 C   0  0  0  0  0  0  0  0  0  0  0  0\\n   -1.6410    0.0420   15.2720 C   0  0  0  0  0  0  0  0  0  0  0  0\\n   -2.0370   -0.7510   16.3420 C   0  0  0  0  0  0  0  0  0  0  0  0\\n   -1.3100   -1.9100   16.6370 C   0  0  0  0  0  0  0  0  0  0  0  0\\n   -0.1850   -2.2490   15.9160 C   0  0  0  0  0  0  0  0  0  0  0  0\\n    1.7010   -3.1700   13.9680 N   0  0  0  0  0  0  0  0  0  0  0  0\\n    2.7470   -3.7670   13.1430 N   0  0  0  0  0  0  0  0  0  0  0  0\\n    3.4820   -4.9110   13.6300 C   0  0  0  0  0  0  0  0  0  0  0  0\\n    2.4970   -3.6210   11.8170 C   0  0  0  0  0  0  0  0  0  0  0  0\\n    2.1950   -2.4930   11.2130 N   0  0  0  0  0  0  0  0  0  0  0  0\\n    1.8170   -2.7700    9.9500 C   0  0  0  0  0  0  0  0  0  0  0  0\\n    1.4340   -1.8400    8.8530 C   0  0  0  0  0  0  0  0  0  0  0  0\\n    1.8190   -4.0880    9.8010 N   0  0  0  0  0  0  0  0  0  0  0  0\\n    2.2650   -4.6660   11.0030 N   0  0  0  0  0  0  0  0  0  0  0  0\\n    2.4030   -1.2480   11.7870 C   0  0  0  0  0  0  0  0  0  0  0  0\\n    3.0600   -0.2560   11.0340 C   0  0  0  0  0  0  0  0  0  0  0  0\\n    3.3050    1.0110   11.5140 C   0  0  0  0  0  0  0  0  0  0  0  0\\n  1  2  1  0\\n  2  3  2  0\\n  2 23  1  0\\n  3  4  1  0\\n  4  5  1  0\\n  4 21  2  0\\n  5  6  1  0\\n  5 12  2  0\\n  6  7  2  0\\n  6 11  1  0\\n  7  8  1  0\\n  8  9  2  0\\n  9 10  1  0\\n 10 11  2  0\\n 12 13  1  0\\n 13 14  1  0\\n 13 15  1  0\\n 15 16  1  0\\n 15 20  2  0\\n 16 17  1  0\\n 16 21  1  0\\n 17 18  1  0\\n 17 19  2  0\\n 19 20  1  0\\n 21 22  1  0\\n 22 23  2  0\\nM  END\\n\",\"sdf\");\n",
       "\tviewer_16509019259435859.setStyle({\"model\": 0},{\"stick\": {\"colorscheme\": \"lightgreyCarbon\"}});\n",
       "\tviewer_16509019259435859.setStyle({\"model\": 1},{\"stick\": {\"colorscheme\": \"purpleCarbon\"}});\n",
       "\tviewer_16509019259435859.setStyle({\"model\": 2},{\"stick\": {\"colorscheme\": \"greyCarbon\"}});\n",
       "\tviewer_16509019259435859.zoomTo();\n",
       "viewer_16509019259435859.render();\n",
       "});\n",
       "</script>"
      ]
     },
     "metadata": {},
     "output_type": "display_data"
    },
    {
     "data": {
      "text/plain": [
       "<py3Dmol.view at 0x7fa871e6bca0>"
      ]
     },
     "metadata": {},
     "output_type": "display_data"
    },
    {
     "name": "stdout",
     "output_type": "stream",
     "text": [
      "1.555263157894737\n"
     ]
    },
    {
     "data": {
      "application/3dmoljs_load.v0": "<div id=\"3dmolviewer_16509019259480526\"  style=\"position: relative; width: 640px; height: 480px\">\n        <p id=\"3dmolwarning_16509019259480526\" style=\"background-color:#ffcccc;color:black\">You appear to be running in JupyterLab (or JavaScript failed to load for some other reason).  You need to install the 3dmol extension: <br>\n        <tt>jupyter labextension install jupyterlab_3dmol</tt></p>\n        </div>\n<script>\n\nvar loadScriptAsync = function(uri){\n  return new Promise((resolve, reject) => {\n    var tag = document.createElement('script');\n    tag.src = uri;\n    tag.async = true;\n    tag.onload = () => {\n      resolve();\n    };\n  var firstScriptTag = document.getElementsByTagName('script')[0];\n  firstScriptTag.parentNode.insertBefore(tag, firstScriptTag);\n});\n};\n\nif(typeof $3Dmolpromise === 'undefined') {\n$3Dmolpromise = null;\n  $3Dmolpromise = loadScriptAsync('https://3dmol.org/build/3Dmol.js');\n}\n\nvar viewer_16509019259480526 = null;\nvar warn = document.getElementById(\"3dmolwarning_16509019259480526\");\nif(warn) {\n    warn.parentNode.removeChild(warn);\n}\n$3Dmolpromise.then(function() {\nviewer_16509019259480526 = $3Dmol.createViewer($(\"#3dmolviewer_16509019259480526\"),{backgroundColor:\"white\"});\nviewer_16509019259480526.zoomTo();\n\tviewer_16509019259480526.addModel(\"\\n     RDKit          3D\\n\\n 11 12  0  0  0  0  0  0  0  0999 V2000\\n   -0.9068    2.7741    0.4093 O   0  0  0  0  0  0  0  0  0  0  0  0\\n   -1.1341    1.5575    0.1637 C   0  0  0  0  0  0  0  0  0  0  0  0\\n   -2.3986    1.1329   -0.0472 N   0  0  0  0  0  0  0  0  0  0  0  0\\n   -2.6692   -0.1597   -0.3112 C   0  0  0  0  0  0  0  0  0  0  0  0\\n   -1.5816   -1.0108   -0.3512 C   0  0  0  0  0  0  0  0  0  0  0  0\\n   -0.3047   -0.5723   -0.1364 C   0  0  0  0  0  0  0  0  0  0  0  0\\n    0.7846   -1.4225   -0.1761 C   0  0  0  0  0  0  0  0  0  0  0  0\\n    2.0739   -0.9604    0.0443 C   0  0  0  0  0  0  0  0  0  0  0  0\\n    2.2946    0.3753    0.3109 C   0  0  0  0  0  0  0  0  0  0  0  0\\n    1.1818    1.1905    0.3417 C   0  0  0  0  0  0  0  0  0  0  0  0\\n   -0.0713    0.7290    0.1252 N   0  0  0  0  0  0  0  0  0  0  0  0\\n  1  2  2  0\\n  2  3  1  0\\n  3  4  2  0\\n  4  5  1  0\\n  5  6  2  0\\n  6  7  1  0\\n  7  8  2  0\\n  8  9  1  0\\n  9 10  2  0\\n 10 11  1  0\\n 11  2  1  0\\n 11  6  1  0\\nM  END\\n\",\"sdf\");\n\tviewer_16509019259480526.addModel(\"\\n     RDKit          3D\\n\\n 11 12  0  0  0  0  0  0  0  0999 V2000\\n    1.5497   -1.1865   15.7416 O   0  0  0  0  0  0  0  0  0  0  0  0\\n    1.7991   -1.9086   14.7374 C   0  0  0  0  0  0  0  0  0  0  0  0\\n    1.6660   -3.2502   14.8168 N   0  0  0  0  0  0  0  0  0  0  0  0\\n    1.9256   -4.0441   13.7604 C   0  0  0  0  0  0  0  0  0  0  0  0\\n    2.3317   -3.4033   12.6058 C   0  0  0  0  0  0  0  0  0  0  0  0\\n    2.4638   -2.0445   12.5343 C   0  0  0  0  0  0  0  0  0  0  0  0\\n    2.8700   -1.4017   11.3798 C   0  0  0  0  0  0  0  0  0  0  0  0\\n    2.9988   -0.0215   11.3249 C   0  0  0  0  0  0  0  0  0  0  0  0\\n    2.7196    0.7447   12.4379 C   0  0  0  0  0  0  0  0  0  0  0  0\\n    2.3174    0.0656   13.5696 C   0  0  0  0  0  0  0  0  0  0  0  0\\n    2.1952   -1.2810   13.6119 N   0  0  0  0  0  0  0  0  0  0  0  0\\n  1  2  2  0\\n  2  3  1  0\\n  3  4  2  0\\n  4  5  1  0\\n  5  6  2  0\\n  6  7  1  0\\n  7  8  2  0\\n  8  9  1  0\\n  9 10  2  0\\n 10 11  1  0\\n 11  2  1  0\\n 11  6  1  0\\nM  END\\n\",\"sdf\");\n\tviewer_16509019259480526.addModel(\"BRD4, Ligand 7\\n     RDKit          3D\\n\\n 23 26  0  0  0  0  0  0  0  0999 V2000\\n    3.2590    2.9010   13.4290 Cl  0  0  0  0  0  0  0  0  0  0  0  0\\n    2.9360    1.2890   12.8120 C   0  0  0  0  0  0  0  0  0  0  0  0\\n    2.3430    0.3620   13.6330 C   0  0  0  0  0  0  0  0  0  0  0  0\\n    2.0690   -0.9160   13.1160 C   0  0  0  0  0  0  0  0  0  0  0  0\\n    1.4040   -1.9100   14.0170 C   0  0  0  0  0  0  0  0  0  0  0  0\\n    0.2390   -1.4510   14.8530 C   0  0  0  0  0  0  0  0  0  0  0  0\\n   -0.5130   -0.3110   14.5260 C   0  0  0  0  0  0  0  0  0  0  0  0\\n   -1.6410    0.0420   15.2720 C   0  0  0  0  0  0  0  0  0  0  0  0\\n   -2.0370   -0.7510   16.3420 C   0  0  0  0  0  0  0  0  0  0  0  0\\n   -1.3100   -1.9100   16.6370 C   0  0  0  0  0  0  0  0  0  0  0  0\\n   -0.1850   -2.2490   15.9160 C   0  0  0  0  0  0  0  0  0  0  0  0\\n    1.7010   -3.1700   13.9680 N   0  0  0  0  0  0  0  0  0  0  0  0\\n    2.7470   -3.7670   13.1430 N   0  0  0  0  0  0  0  0  0  0  0  0\\n    3.4820   -4.9110   13.6300 C   0  0  0  0  0  0  0  0  0  0  0  0\\n    2.4970   -3.6210   11.8170 C   0  0  0  0  0  0  0  0  0  0  0  0\\n    2.1950   -2.4930   11.2130 N   0  0  0  0  0  0  0  0  0  0  0  0\\n    1.8170   -2.7700    9.9500 C   0  0  0  0  0  0  0  0  0  0  0  0\\n    1.4340   -1.8400    8.8530 C   0  0  0  0  0  0  0  0  0  0  0  0\\n    1.8190   -4.0880    9.8010 N   0  0  0  0  0  0  0  0  0  0  0  0\\n    2.2650   -4.6660   11.0030 N   0  0  0  0  0  0  0  0  0  0  0  0\\n    2.4030   -1.2480   11.7870 C   0  0  0  0  0  0  0  0  0  0  0  0\\n    3.0600   -0.2560   11.0340 C   0  0  0  0  0  0  0  0  0  0  0  0\\n    3.3050    1.0110   11.5140 C   0  0  0  0  0  0  0  0  0  0  0  0\\n  1  2  1  0\\n  2  3  2  0\\n  2 23  1  0\\n  3  4  1  0\\n  4  5  1  0\\n  4 21  2  0\\n  5  6  1  0\\n  5 12  2  0\\n  6  7  2  0\\n  6 11  1  0\\n  7  8  1  0\\n  8  9  2  0\\n  9 10  1  0\\n 10 11  2  0\\n 12 13  1  0\\n 13 14  1  0\\n 13 15  1  0\\n 15 16  1  0\\n 15 20  2  0\\n 16 17  1  0\\n 16 21  1  0\\n 17 18  1  0\\n 17 19  2  0\\n 19 20  1  0\\n 21 22  1  0\\n 22 23  2  0\\nM  END\\n\",\"sdf\");\n\tviewer_16509019259480526.setStyle({\"model\": 0},{\"stick\": {\"colorscheme\": \"lightgreyCarbon\"}});\n\tviewer_16509019259480526.setStyle({\"model\": 1},{\"stick\": {\"colorscheme\": \"purpleCarbon\"}});\n\tviewer_16509019259480526.setStyle({\"model\": 2},{\"stick\": {\"colorscheme\": \"greyCarbon\"}});\n\tviewer_16509019259480526.zoomTo();\nviewer_16509019259480526.render();\n});\n</script>",
      "text/html": [
       "<div id=\"3dmolviewer_16509019259480526\"  style=\"position: relative; width: 640px; height: 480px\">\n",
       "        <p id=\"3dmolwarning_16509019259480526\" style=\"background-color:#ffcccc;color:black\">You appear to be running in JupyterLab (or JavaScript failed to load for some other reason).  You need to install the 3dmol extension: <br>\n",
       "        <tt>jupyter labextension install jupyterlab_3dmol</tt></p>\n",
       "        </div>\n",
       "<script>\n",
       "\n",
       "var loadScriptAsync = function(uri){\n",
       "  return new Promise((resolve, reject) => {\n",
       "    var tag = document.createElement('script');\n",
       "    tag.src = uri;\n",
       "    tag.async = true;\n",
       "    tag.onload = () => {\n",
       "      resolve();\n",
       "    };\n",
       "  var firstScriptTag = document.getElementsByTagName('script')[0];\n",
       "  firstScriptTag.parentNode.insertBefore(tag, firstScriptTag);\n",
       "});\n",
       "};\n",
       "\n",
       "if(typeof $3Dmolpromise === 'undefined') {\n",
       "$3Dmolpromise = null;\n",
       "  $3Dmolpromise = loadScriptAsync('https://3dmol.org/build/3Dmol.js');\n",
       "}\n",
       "\n",
       "var viewer_16509019259480526 = null;\n",
       "var warn = document.getElementById(\"3dmolwarning_16509019259480526\");\n",
       "if(warn) {\n",
       "    warn.parentNode.removeChild(warn);\n",
       "}\n",
       "$3Dmolpromise.then(function() {\n",
       "viewer_16509019259480526 = $3Dmol.createViewer($(\"#3dmolviewer_16509019259480526\"),{backgroundColor:\"white\"});\n",
       "viewer_16509019259480526.zoomTo();\n",
       "\tviewer_16509019259480526.addModel(\"\\n     RDKit          3D\\n\\n 11 12  0  0  0  0  0  0  0  0999 V2000\\n   -0.9068    2.7741    0.4093 O   0  0  0  0  0  0  0  0  0  0  0  0\\n   -1.1341    1.5575    0.1637 C   0  0  0  0  0  0  0  0  0  0  0  0\\n   -2.3986    1.1329   -0.0472 N   0  0  0  0  0  0  0  0  0  0  0  0\\n   -2.6692   -0.1597   -0.3112 C   0  0  0  0  0  0  0  0  0  0  0  0\\n   -1.5816   -1.0108   -0.3512 C   0  0  0  0  0  0  0  0  0  0  0  0\\n   -0.3047   -0.5723   -0.1364 C   0  0  0  0  0  0  0  0  0  0  0  0\\n    0.7846   -1.4225   -0.1761 C   0  0  0  0  0  0  0  0  0  0  0  0\\n    2.0739   -0.9604    0.0443 C   0  0  0  0  0  0  0  0  0  0  0  0\\n    2.2946    0.3753    0.3109 C   0  0  0  0  0  0  0  0  0  0  0  0\\n    1.1818    1.1905    0.3417 C   0  0  0  0  0  0  0  0  0  0  0  0\\n   -0.0713    0.7290    0.1252 N   0  0  0  0  0  0  0  0  0  0  0  0\\n  1  2  2  0\\n  2  3  1  0\\n  3  4  2  0\\n  4  5  1  0\\n  5  6  2  0\\n  6  7  1  0\\n  7  8  2  0\\n  8  9  1  0\\n  9 10  2  0\\n 10 11  1  0\\n 11  2  1  0\\n 11  6  1  0\\nM  END\\n\",\"sdf\");\n",
       "\tviewer_16509019259480526.addModel(\"\\n     RDKit          3D\\n\\n 11 12  0  0  0  0  0  0  0  0999 V2000\\n    1.5497   -1.1865   15.7416 O   0  0  0  0  0  0  0  0  0  0  0  0\\n    1.7991   -1.9086   14.7374 C   0  0  0  0  0  0  0  0  0  0  0  0\\n    1.6660   -3.2502   14.8168 N   0  0  0  0  0  0  0  0  0  0  0  0\\n    1.9256   -4.0441   13.7604 C   0  0  0  0  0  0  0  0  0  0  0  0\\n    2.3317   -3.4033   12.6058 C   0  0  0  0  0  0  0  0  0  0  0  0\\n    2.4638   -2.0445   12.5343 C   0  0  0  0  0  0  0  0  0  0  0  0\\n    2.8700   -1.4017   11.3798 C   0  0  0  0  0  0  0  0  0  0  0  0\\n    2.9988   -0.0215   11.3249 C   0  0  0  0  0  0  0  0  0  0  0  0\\n    2.7196    0.7447   12.4379 C   0  0  0  0  0  0  0  0  0  0  0  0\\n    2.3174    0.0656   13.5696 C   0  0  0  0  0  0  0  0  0  0  0  0\\n    2.1952   -1.2810   13.6119 N   0  0  0  0  0  0  0  0  0  0  0  0\\n  1  2  2  0\\n  2  3  1  0\\n  3  4  2  0\\n  4  5  1  0\\n  5  6  2  0\\n  6  7  1  0\\n  7  8  2  0\\n  8  9  1  0\\n  9 10  2  0\\n 10 11  1  0\\n 11  2  1  0\\n 11  6  1  0\\nM  END\\n\",\"sdf\");\n",
       "\tviewer_16509019259480526.addModel(\"BRD4, Ligand 7\\n     RDKit          3D\\n\\n 23 26  0  0  0  0  0  0  0  0999 V2000\\n    3.2590    2.9010   13.4290 Cl  0  0  0  0  0  0  0  0  0  0  0  0\\n    2.9360    1.2890   12.8120 C   0  0  0  0  0  0  0  0  0  0  0  0\\n    2.3430    0.3620   13.6330 C   0  0  0  0  0  0  0  0  0  0  0  0\\n    2.0690   -0.9160   13.1160 C   0  0  0  0  0  0  0  0  0  0  0  0\\n    1.4040   -1.9100   14.0170 C   0  0  0  0  0  0  0  0  0  0  0  0\\n    0.2390   -1.4510   14.8530 C   0  0  0  0  0  0  0  0  0  0  0  0\\n   -0.5130   -0.3110   14.5260 C   0  0  0  0  0  0  0  0  0  0  0  0\\n   -1.6410    0.0420   15.2720 C   0  0  0  0  0  0  0  0  0  0  0  0\\n   -2.0370   -0.7510   16.3420 C   0  0  0  0  0  0  0  0  0  0  0  0\\n   -1.3100   -1.9100   16.6370 C   0  0  0  0  0  0  0  0  0  0  0  0\\n   -0.1850   -2.2490   15.9160 C   0  0  0  0  0  0  0  0  0  0  0  0\\n    1.7010   -3.1700   13.9680 N   0  0  0  0  0  0  0  0  0  0  0  0\\n    2.7470   -3.7670   13.1430 N   0  0  0  0  0  0  0  0  0  0  0  0\\n    3.4820   -4.9110   13.6300 C   0  0  0  0  0  0  0  0  0  0  0  0\\n    2.4970   -3.6210   11.8170 C   0  0  0  0  0  0  0  0  0  0  0  0\\n    2.1950   -2.4930   11.2130 N   0  0  0  0  0  0  0  0  0  0  0  0\\n    1.8170   -2.7700    9.9500 C   0  0  0  0  0  0  0  0  0  0  0  0\\n    1.4340   -1.8400    8.8530 C   0  0  0  0  0  0  0  0  0  0  0  0\\n    1.8190   -4.0880    9.8010 N   0  0  0  0  0  0  0  0  0  0  0  0\\n    2.2650   -4.6660   11.0030 N   0  0  0  0  0  0  0  0  0  0  0  0\\n    2.4030   -1.2480   11.7870 C   0  0  0  0  0  0  0  0  0  0  0  0\\n    3.0600   -0.2560   11.0340 C   0  0  0  0  0  0  0  0  0  0  0  0\\n    3.3050    1.0110   11.5140 C   0  0  0  0  0  0  0  0  0  0  0  0\\n  1  2  1  0\\n  2  3  2  0\\n  2 23  1  0\\n  3  4  1  0\\n  4  5  1  0\\n  4 21  2  0\\n  5  6  1  0\\n  5 12  2  0\\n  6  7  2  0\\n  6 11  1  0\\n  7  8  1  0\\n  8  9  2  0\\n  9 10  1  0\\n 10 11  2  0\\n 12 13  1  0\\n 13 14  1  0\\n 13 15  1  0\\n 15 16  1  0\\n 15 20  2  0\\n 16 17  1  0\\n 16 21  1  0\\n 17 18  1  0\\n 17 19  2  0\\n 19 20  1  0\\n 21 22  1  0\\n 22 23  2  0\\nM  END\\n\",\"sdf\");\n",
       "\tviewer_16509019259480526.setStyle({\"model\": 0},{\"stick\": {\"colorscheme\": \"lightgreyCarbon\"}});\n",
       "\tviewer_16509019259480526.setStyle({\"model\": 1},{\"stick\": {\"colorscheme\": \"purpleCarbon\"}});\n",
       "\tviewer_16509019259480526.setStyle({\"model\": 2},{\"stick\": {\"colorscheme\": \"greyCarbon\"}});\n",
       "\tviewer_16509019259480526.zoomTo();\n",
       "viewer_16509019259480526.render();\n",
       "});\n",
       "</script>"
      ]
     },
     "metadata": {},
     "output_type": "display_data"
    },
    {
     "data": {
      "text/plain": [
       "<py3Dmol.view at 0x7fa871e6b7f0>"
      ]
     },
     "metadata": {},
     "output_type": "display_data"
    },
    {
     "name": "stdout",
     "output_type": "stream",
     "text": [
      "1.5236768802228413\n"
     ]
    },
    {
     "data": {
      "application/3dmoljs_load.v0": "<div id=\"3dmolviewer_16509019259532707\"  style=\"position: relative; width: 640px; height: 480px\">\n        <p id=\"3dmolwarning_16509019259532707\" style=\"background-color:#ffcccc;color:black\">You appear to be running in JupyterLab (or JavaScript failed to load for some other reason).  You need to install the 3dmol extension: <br>\n        <tt>jupyter labextension install jupyterlab_3dmol</tt></p>\n        </div>\n<script>\n\nvar loadScriptAsync = function(uri){\n  return new Promise((resolve, reject) => {\n    var tag = document.createElement('script');\n    tag.src = uri;\n    tag.async = true;\n    tag.onload = () => {\n      resolve();\n    };\n  var firstScriptTag = document.getElementsByTagName('script')[0];\n  firstScriptTag.parentNode.insertBefore(tag, firstScriptTag);\n});\n};\n\nif(typeof $3Dmolpromise === 'undefined') {\n$3Dmolpromise = null;\n  $3Dmolpromise = loadScriptAsync('https://3dmol.org/build/3Dmol.js');\n}\n\nvar viewer_16509019259532707 = null;\nvar warn = document.getElementById(\"3dmolwarning_16509019259532707\");\nif(warn) {\n    warn.parentNode.removeChild(warn);\n}\n$3Dmolpromise.then(function() {\nviewer_16509019259532707 = $3Dmol.createViewer($(\"#3dmolviewer_16509019259532707\"),{backgroundColor:\"white\"});\nviewer_16509019259532707.zoomTo();\n\tviewer_16509019259532707.addModel(\"\\n     RDKit          3D\\n\\n 10 11  0  0  0  0  0  0  0  0999 V2000\\n   -0.3049    2.6865   -0.1284 O   0  0  0  0  0  0  0  0  0  0  0  0\\n    0.2913    1.5737   -0.0842 C   0  0  0  0  0  0  0  0  0  0  0  0\\n    1.9872    1.3819   -0.1068 S   0  0  0  0  0  0  0  0  0  0  0  0\\n    2.4496   -0.2238   -0.0353 N   0  0  0  0  0  0  0  0  0  0  0  0\\n    1.4703   -1.1324    0.0287 C   0  0  0  0  0  0  0  0  0  0  0  0\\n    0.1169   -0.8627    0.0409 C   0  0  0  0  0  0  0  0  0  0  0  0\\n   -0.9016   -1.7341    0.1038 O   0  0  0  0  0  0  0  0  0  0  0  0\\n   -2.0328   -1.1074    0.0939 N   0  0  0  0  0  0  0  0  0  0  0  0\\n   -1.8285    0.2173    0.0239 C   0  0  0  0  0  0  0  0  0  0  0  0\\n   -0.4414    0.3924   -0.0112 C   0  0  0  0  0  0  0  0  0  0  0  0\\n  1  2  2  0\\n  2  3  1  0\\n  3  4  1  0\\n  4  5  2  0\\n  5  6  1  0\\n  6  7  1  0\\n  7  8  1  0\\n  8  9  2  0\\n  9 10  1  0\\n 10  2  1  0\\n 10  6  2  0\\nM  END\\n\",\"sdf\");\n\tviewer_16509019259532707.addModel(\"\\n     RDKit          3D\\n\\n 10 11  0  0  0  0  0  0  0  0999 V2000\\n    1.9659    0.4245   15.6824 O   0  0  0  0  0  0  0  0  0  0  0  0\\n    2.0527   -0.4074   14.7358 C   0  0  0  0  0  0  0  0  0  0  0  0\\n    1.5781   -2.0437   14.8378 S   0  0  0  0  0  0  0  0  0  0  0  0\\n    1.8255   -2.8712   13.4056 N   0  0  0  0  0  0  0  0  0  0  0  0\\n    2.3469   -2.1765   12.3886 C   0  0  0  0  0  0  0  0  0  0  0  0\\n    2.6973   -0.8420   12.4168 C   0  0  0  0  0  0  0  0  0  0  0  0\\n    3.2216   -0.1014   11.4282 O   0  0  0  0  0  0  0  0  0  0  0  0\\n    3.4172    1.1125   11.8290 N   0  0  0  0  0  0  0  0  0  0  0  0\\n    3.0330    1.2463   13.1081 C   0  0  0  0  0  0  0  0  0  0  0  0\\n    2.5644   -0.0107   13.5035 C   0  0  0  0  0  0  0  0  0  0  0  0\\n  1  2  2  0\\n  2  3  1  0\\n  3  4  1  0\\n  4  5  2  0\\n  5  6  1  0\\n  6  7  1  0\\n  7  8  1  0\\n  8  9  2  0\\n  9 10  1  0\\n 10  2  1  0\\n 10  6  2  0\\nM  END\\n\",\"sdf\");\n\tviewer_16509019259532707.addModel(\"BRD4, Ligand 7\\n     RDKit          3D\\n\\n 23 26  0  0  0  0  0  0  0  0999 V2000\\n    3.2590    2.9010   13.4290 Cl  0  0  0  0  0  0  0  0  0  0  0  0\\n    2.9360    1.2890   12.8120 C   0  0  0  0  0  0  0  0  0  0  0  0\\n    2.3430    0.3620   13.6330 C   0  0  0  0  0  0  0  0  0  0  0  0\\n    2.0690   -0.9160   13.1160 C   0  0  0  0  0  0  0  0  0  0  0  0\\n    1.4040   -1.9100   14.0170 C   0  0  0  0  0  0  0  0  0  0  0  0\\n    0.2390   -1.4510   14.8530 C   0  0  0  0  0  0  0  0  0  0  0  0\\n   -0.5130   -0.3110   14.5260 C   0  0  0  0  0  0  0  0  0  0  0  0\\n   -1.6410    0.0420   15.2720 C   0  0  0  0  0  0  0  0  0  0  0  0\\n   -2.0370   -0.7510   16.3420 C   0  0  0  0  0  0  0  0  0  0  0  0\\n   -1.3100   -1.9100   16.6370 C   0  0  0  0  0  0  0  0  0  0  0  0\\n   -0.1850   -2.2490   15.9160 C   0  0  0  0  0  0  0  0  0  0  0  0\\n    1.7010   -3.1700   13.9680 N   0  0  0  0  0  0  0  0  0  0  0  0\\n    2.7470   -3.7670   13.1430 N   0  0  0  0  0  0  0  0  0  0  0  0\\n    3.4820   -4.9110   13.6300 C   0  0  0  0  0  0  0  0  0  0  0  0\\n    2.4970   -3.6210   11.8170 C   0  0  0  0  0  0  0  0  0  0  0  0\\n    2.1950   -2.4930   11.2130 N   0  0  0  0  0  0  0  0  0  0  0  0\\n    1.8170   -2.7700    9.9500 C   0  0  0  0  0  0  0  0  0  0  0  0\\n    1.4340   -1.8400    8.8530 C   0  0  0  0  0  0  0  0  0  0  0  0\\n    1.8190   -4.0880    9.8010 N   0  0  0  0  0  0  0  0  0  0  0  0\\n    2.2650   -4.6660   11.0030 N   0  0  0  0  0  0  0  0  0  0  0  0\\n    2.4030   -1.2480   11.7870 C   0  0  0  0  0  0  0  0  0  0  0  0\\n    3.0600   -0.2560   11.0340 C   0  0  0  0  0  0  0  0  0  0  0  0\\n    3.3050    1.0110   11.5140 C   0  0  0  0  0  0  0  0  0  0  0  0\\n  1  2  1  0\\n  2  3  2  0\\n  2 23  1  0\\n  3  4  1  0\\n  4  5  1  0\\n  4 21  2  0\\n  5  6  1  0\\n  5 12  2  0\\n  6  7  2  0\\n  6 11  1  0\\n  7  8  1  0\\n  8  9  2  0\\n  9 10  1  0\\n 10 11  2  0\\n 12 13  1  0\\n 13 14  1  0\\n 13 15  1  0\\n 15 16  1  0\\n 15 20  2  0\\n 16 17  1  0\\n 16 21  1  0\\n 17 18  1  0\\n 17 19  2  0\\n 19 20  1  0\\n 21 22  1  0\\n 22 23  2  0\\nM  END\\n\",\"sdf\");\n\tviewer_16509019259532707.setStyle({\"model\": 0},{\"stick\": {\"colorscheme\": \"lightgreyCarbon\"}});\n\tviewer_16509019259532707.setStyle({\"model\": 1},{\"stick\": {\"colorscheme\": \"purpleCarbon\"}});\n\tviewer_16509019259532707.setStyle({\"model\": 2},{\"stick\": {\"colorscheme\": \"greyCarbon\"}});\n\tviewer_16509019259532707.zoomTo();\nviewer_16509019259532707.render();\n});\n</script>",
      "text/html": [
       "<div id=\"3dmolviewer_16509019259532707\"  style=\"position: relative; width: 640px; height: 480px\">\n",
       "        <p id=\"3dmolwarning_16509019259532707\" style=\"background-color:#ffcccc;color:black\">You appear to be running in JupyterLab (or JavaScript failed to load for some other reason).  You need to install the 3dmol extension: <br>\n",
       "        <tt>jupyter labextension install jupyterlab_3dmol</tt></p>\n",
       "        </div>\n",
       "<script>\n",
       "\n",
       "var loadScriptAsync = function(uri){\n",
       "  return new Promise((resolve, reject) => {\n",
       "    var tag = document.createElement('script');\n",
       "    tag.src = uri;\n",
       "    tag.async = true;\n",
       "    tag.onload = () => {\n",
       "      resolve();\n",
       "    };\n",
       "  var firstScriptTag = document.getElementsByTagName('script')[0];\n",
       "  firstScriptTag.parentNode.insertBefore(tag, firstScriptTag);\n",
       "});\n",
       "};\n",
       "\n",
       "if(typeof $3Dmolpromise === 'undefined') {\n",
       "$3Dmolpromise = null;\n",
       "  $3Dmolpromise = loadScriptAsync('https://3dmol.org/build/3Dmol.js');\n",
       "}\n",
       "\n",
       "var viewer_16509019259532707 = null;\n",
       "var warn = document.getElementById(\"3dmolwarning_16509019259532707\");\n",
       "if(warn) {\n",
       "    warn.parentNode.removeChild(warn);\n",
       "}\n",
       "$3Dmolpromise.then(function() {\n",
       "viewer_16509019259532707 = $3Dmol.createViewer($(\"#3dmolviewer_16509019259532707\"),{backgroundColor:\"white\"});\n",
       "viewer_16509019259532707.zoomTo();\n",
       "\tviewer_16509019259532707.addModel(\"\\n     RDKit          3D\\n\\n 10 11  0  0  0  0  0  0  0  0999 V2000\\n   -0.3049    2.6865   -0.1284 O   0  0  0  0  0  0  0  0  0  0  0  0\\n    0.2913    1.5737   -0.0842 C   0  0  0  0  0  0  0  0  0  0  0  0\\n    1.9872    1.3819   -0.1068 S   0  0  0  0  0  0  0  0  0  0  0  0\\n    2.4496   -0.2238   -0.0353 N   0  0  0  0  0  0  0  0  0  0  0  0\\n    1.4703   -1.1324    0.0287 C   0  0  0  0  0  0  0  0  0  0  0  0\\n    0.1169   -0.8627    0.0409 C   0  0  0  0  0  0  0  0  0  0  0  0\\n   -0.9016   -1.7341    0.1038 O   0  0  0  0  0  0  0  0  0  0  0  0\\n   -2.0328   -1.1074    0.0939 N   0  0  0  0  0  0  0  0  0  0  0  0\\n   -1.8285    0.2173    0.0239 C   0  0  0  0  0  0  0  0  0  0  0  0\\n   -0.4414    0.3924   -0.0112 C   0  0  0  0  0  0  0  0  0  0  0  0\\n  1  2  2  0\\n  2  3  1  0\\n  3  4  1  0\\n  4  5  2  0\\n  5  6  1  0\\n  6  7  1  0\\n  7  8  1  0\\n  8  9  2  0\\n  9 10  1  0\\n 10  2  1  0\\n 10  6  2  0\\nM  END\\n\",\"sdf\");\n",
       "\tviewer_16509019259532707.addModel(\"\\n     RDKit          3D\\n\\n 10 11  0  0  0  0  0  0  0  0999 V2000\\n    1.9659    0.4245   15.6824 O   0  0  0  0  0  0  0  0  0  0  0  0\\n    2.0527   -0.4074   14.7358 C   0  0  0  0  0  0  0  0  0  0  0  0\\n    1.5781   -2.0437   14.8378 S   0  0  0  0  0  0  0  0  0  0  0  0\\n    1.8255   -2.8712   13.4056 N   0  0  0  0  0  0  0  0  0  0  0  0\\n    2.3469   -2.1765   12.3886 C   0  0  0  0  0  0  0  0  0  0  0  0\\n    2.6973   -0.8420   12.4168 C   0  0  0  0  0  0  0  0  0  0  0  0\\n    3.2216   -0.1014   11.4282 O   0  0  0  0  0  0  0  0  0  0  0  0\\n    3.4172    1.1125   11.8290 N   0  0  0  0  0  0  0  0  0  0  0  0\\n    3.0330    1.2463   13.1081 C   0  0  0  0  0  0  0  0  0  0  0  0\\n    2.5644   -0.0107   13.5035 C   0  0  0  0  0  0  0  0  0  0  0  0\\n  1  2  2  0\\n  2  3  1  0\\n  3  4  1  0\\n  4  5  2  0\\n  5  6  1  0\\n  6  7  1  0\\n  7  8  1  0\\n  8  9  2  0\\n  9 10  1  0\\n 10  2  1  0\\n 10  6  2  0\\nM  END\\n\",\"sdf\");\n",
       "\tviewer_16509019259532707.addModel(\"BRD4, Ligand 7\\n     RDKit          3D\\n\\n 23 26  0  0  0  0  0  0  0  0999 V2000\\n    3.2590    2.9010   13.4290 Cl  0  0  0  0  0  0  0  0  0  0  0  0\\n    2.9360    1.2890   12.8120 C   0  0  0  0  0  0  0  0  0  0  0  0\\n    2.3430    0.3620   13.6330 C   0  0  0  0  0  0  0  0  0  0  0  0\\n    2.0690   -0.9160   13.1160 C   0  0  0  0  0  0  0  0  0  0  0  0\\n    1.4040   -1.9100   14.0170 C   0  0  0  0  0  0  0  0  0  0  0  0\\n    0.2390   -1.4510   14.8530 C   0  0  0  0  0  0  0  0  0  0  0  0\\n   -0.5130   -0.3110   14.5260 C   0  0  0  0  0  0  0  0  0  0  0  0\\n   -1.6410    0.0420   15.2720 C   0  0  0  0  0  0  0  0  0  0  0  0\\n   -2.0370   -0.7510   16.3420 C   0  0  0  0  0  0  0  0  0  0  0  0\\n   -1.3100   -1.9100   16.6370 C   0  0  0  0  0  0  0  0  0  0  0  0\\n   -0.1850   -2.2490   15.9160 C   0  0  0  0  0  0  0  0  0  0  0  0\\n    1.7010   -3.1700   13.9680 N   0  0  0  0  0  0  0  0  0  0  0  0\\n    2.7470   -3.7670   13.1430 N   0  0  0  0  0  0  0  0  0  0  0  0\\n    3.4820   -4.9110   13.6300 C   0  0  0  0  0  0  0  0  0  0  0  0\\n    2.4970   -3.6210   11.8170 C   0  0  0  0  0  0  0  0  0  0  0  0\\n    2.1950   -2.4930   11.2130 N   0  0  0  0  0  0  0  0  0  0  0  0\\n    1.8170   -2.7700    9.9500 C   0  0  0  0  0  0  0  0  0  0  0  0\\n    1.4340   -1.8400    8.8530 C   0  0  0  0  0  0  0  0  0  0  0  0\\n    1.8190   -4.0880    9.8010 N   0  0  0  0  0  0  0  0  0  0  0  0\\n    2.2650   -4.6660   11.0030 N   0  0  0  0  0  0  0  0  0  0  0  0\\n    2.4030   -1.2480   11.7870 C   0  0  0  0  0  0  0  0  0  0  0  0\\n    3.0600   -0.2560   11.0340 C   0  0  0  0  0  0  0  0  0  0  0  0\\n    3.3050    1.0110   11.5140 C   0  0  0  0  0  0  0  0  0  0  0  0\\n  1  2  1  0\\n  2  3  2  0\\n  2 23  1  0\\n  3  4  1  0\\n  4  5  1  0\\n  4 21  2  0\\n  5  6  1  0\\n  5 12  2  0\\n  6  7  2  0\\n  6 11  1  0\\n  7  8  1  0\\n  8  9  2  0\\n  9 10  1  0\\n 10 11  2  0\\n 12 13  1  0\\n 13 14  1  0\\n 13 15  1  0\\n 15 16  1  0\\n 15 20  2  0\\n 16 17  1  0\\n 16 21  1  0\\n 17 18  1  0\\n 17 19  2  0\\n 19 20  1  0\\n 21 22  1  0\\n 22 23  2  0\\nM  END\\n\",\"sdf\");\n",
       "\tviewer_16509019259532707.setStyle({\"model\": 0},{\"stick\": {\"colorscheme\": \"lightgreyCarbon\"}});\n",
       "\tviewer_16509019259532707.setStyle({\"model\": 1},{\"stick\": {\"colorscheme\": \"purpleCarbon\"}});\n",
       "\tviewer_16509019259532707.setStyle({\"model\": 2},{\"stick\": {\"colorscheme\": \"greyCarbon\"}});\n",
       "\tviewer_16509019259532707.zoomTo();\n",
       "viewer_16509019259532707.render();\n",
       "});\n",
       "</script>"
      ]
     },
     "metadata": {},
     "output_type": "display_data"
    },
    {
     "data": {
      "text/plain": [
       "<py3Dmol.view at 0x7fa871e6bd00>"
      ]
     },
     "metadata": {},
     "output_type": "display_data"
    },
    {
     "name": "stdout",
     "output_type": "stream",
     "text": [
      "1.5188172043010753\n"
     ]
    },
    {
     "data": {
      "application/3dmoljs_load.v0": "<div id=\"3dmolviewer_16509019259587162\"  style=\"position: relative; width: 640px; height: 480px\">\n        <p id=\"3dmolwarning_16509019259587162\" style=\"background-color:#ffcccc;color:black\">You appear to be running in JupyterLab (or JavaScript failed to load for some other reason).  You need to install the 3dmol extension: <br>\n        <tt>jupyter labextension install jupyterlab_3dmol</tt></p>\n        </div>\n<script>\n\nvar loadScriptAsync = function(uri){\n  return new Promise((resolve, reject) => {\n    var tag = document.createElement('script');\n    tag.src = uri;\n    tag.async = true;\n    tag.onload = () => {\n      resolve();\n    };\n  var firstScriptTag = document.getElementsByTagName('script')[0];\n  firstScriptTag.parentNode.insertBefore(tag, firstScriptTag);\n});\n};\n\nif(typeof $3Dmolpromise === 'undefined') {\n$3Dmolpromise = null;\n  $3Dmolpromise = loadScriptAsync('https://3dmol.org/build/3Dmol.js');\n}\n\nvar viewer_16509019259587162 = null;\nvar warn = document.getElementById(\"3dmolwarning_16509019259587162\");\nif(warn) {\n    warn.parentNode.removeChild(warn);\n}\n$3Dmolpromise.then(function() {\nviewer_16509019259587162 = $3Dmol.createViewer($(\"#3dmolviewer_16509019259587162\"),{backgroundColor:\"white\"});\nviewer_16509019259587162.zoomTo();\n\tviewer_16509019259587162.addModel(\"\\n     RDKit          3D\\n\\n 10 11  0  0  0  0  0  0  0  0999 V2000\\n    0.2346    2.5020   -0.0056 O   0  0  0  0  0  0  0  0  0  0  0  0\\n   -0.1277    1.2888    0.0189 C   0  0  0  0  0  0  0  0  0  0  0  0\\n   -1.4373    0.9526    0.1319 N   0  0  0  0  0  0  0  0  0  0  0  0\\n   -1.8711   -0.3164    0.1624 C   0  0  0  0  0  0  0  0  0  0  0  0\\n   -0.9364   -1.3261    0.0743 C   0  0  0  0  0  0  0  0  0  0  0  0\\n    0.4092   -1.0092   -0.0420 C   0  0  0  0  0  0  0  0  0  0  0  0\\n    1.5058   -1.7341   -0.1426 O   0  0  0  0  0  0  0  0  0  0  0  0\\n    2.5631   -0.9738   -0.2308 N   0  0  0  0  0  0  0  0  0  0  0  0\\n    2.2034    0.3208   -0.1915 C   0  0  0  0  0  0  0  0  0  0  0  0\\n    0.8307    0.3048   -0.0711 C   0  0  0  0  0  0  0  0  0  0  0  0\\n  1  2  2  0\\n  2  3  1  0\\n  3  4  1  0\\n  4  5  2  0\\n  5  6  1  0\\n  6  7  1  0\\n  7  8  1  0\\n  8  9  2  0\\n  9 10  1  0\\n 10  2  1  0\\n 10  6  2  0\\nM  END\\n\",\"sdf\");\n\tviewer_16509019259587162.addModel(\"\\n     RDKit          3D\\n\\n 10 11  0  0  0  0  0  0  0  0999 V2000\\n    2.4127   -3.1442   14.5710 O   0  0  0  0  0  0  0  0  0  0  0  0\\n    2.4221   -2.8776   13.3330 C   0  0  0  0  0  0  0  0  0  0  0  0\\n    2.2749   -3.8572   12.4059 N   0  0  0  0  0  0  0  0  0  0  0  0\\n    2.2780   -3.6261   11.0846 C   0  0  0  0  0  0  0  0  0  0  0  0\\n    2.4391   -2.3272   10.6513 C   0  0  0  0  0  0  0  0  0  0  0  0\\n    2.5917   -1.3069   11.5789 C   0  0  0  0  0  0  0  0  0  0  0  0\\n    2.7601   -0.0036   11.4734 O   0  0  0  0  0  0  0  0  0  0  0  0\\n    2.8572    0.5527   12.6502 N   0  0  0  0  0  0  0  0  0  0  0  0\\n    2.7546   -0.3820   13.6107 C   0  0  0  0  0  0  0  0  0  0  0  0\\n    2.5851   -1.5703   12.9337 C   0  0  0  0  0  0  0  0  0  0  0  0\\n  1  2  2  0\\n  2  3  1  0\\n  3  4  1  0\\n  4  5  2  0\\n  5  6  1  0\\n  6  7  1  0\\n  7  8  1  0\\n  8  9  2  0\\n  9 10  1  0\\n 10  2  1  0\\n 10  6  2  0\\nM  END\\n\",\"sdf\");\n\tviewer_16509019259587162.addModel(\"BRD4, Ligand 7\\n     RDKit          3D\\n\\n 23 26  0  0  0  0  0  0  0  0999 V2000\\n    3.2590    2.9010   13.4290 Cl  0  0  0  0  0  0  0  0  0  0  0  0\\n    2.9360    1.2890   12.8120 C   0  0  0  0  0  0  0  0  0  0  0  0\\n    2.3430    0.3620   13.6330 C   0  0  0  0  0  0  0  0  0  0  0  0\\n    2.0690   -0.9160   13.1160 C   0  0  0  0  0  0  0  0  0  0  0  0\\n    1.4040   -1.9100   14.0170 C   0  0  0  0  0  0  0  0  0  0  0  0\\n    0.2390   -1.4510   14.8530 C   0  0  0  0  0  0  0  0  0  0  0  0\\n   -0.5130   -0.3110   14.5260 C   0  0  0  0  0  0  0  0  0  0  0  0\\n   -1.6410    0.0420   15.2720 C   0  0  0  0  0  0  0  0  0  0  0  0\\n   -2.0370   -0.7510   16.3420 C   0  0  0  0  0  0  0  0  0  0  0  0\\n   -1.3100   -1.9100   16.6370 C   0  0  0  0  0  0  0  0  0  0  0  0\\n   -0.1850   -2.2490   15.9160 C   0  0  0  0  0  0  0  0  0  0  0  0\\n    1.7010   -3.1700   13.9680 N   0  0  0  0  0  0  0  0  0  0  0  0\\n    2.7470   -3.7670   13.1430 N   0  0  0  0  0  0  0  0  0  0  0  0\\n    3.4820   -4.9110   13.6300 C   0  0  0  0  0  0  0  0  0  0  0  0\\n    2.4970   -3.6210   11.8170 C   0  0  0  0  0  0  0  0  0  0  0  0\\n    2.1950   -2.4930   11.2130 N   0  0  0  0  0  0  0  0  0  0  0  0\\n    1.8170   -2.7700    9.9500 C   0  0  0  0  0  0  0  0  0  0  0  0\\n    1.4340   -1.8400    8.8530 C   0  0  0  0  0  0  0  0  0  0  0  0\\n    1.8190   -4.0880    9.8010 N   0  0  0  0  0  0  0  0  0  0  0  0\\n    2.2650   -4.6660   11.0030 N   0  0  0  0  0  0  0  0  0  0  0  0\\n    2.4030   -1.2480   11.7870 C   0  0  0  0  0  0  0  0  0  0  0  0\\n    3.0600   -0.2560   11.0340 C   0  0  0  0  0  0  0  0  0  0  0  0\\n    3.3050    1.0110   11.5140 C   0  0  0  0  0  0  0  0  0  0  0  0\\n  1  2  1  0\\n  2  3  2  0\\n  2 23  1  0\\n  3  4  1  0\\n  4  5  1  0\\n  4 21  2  0\\n  5  6  1  0\\n  5 12  2  0\\n  6  7  2  0\\n  6 11  1  0\\n  7  8  1  0\\n  8  9  2  0\\n  9 10  1  0\\n 10 11  2  0\\n 12 13  1  0\\n 13 14  1  0\\n 13 15  1  0\\n 15 16  1  0\\n 15 20  2  0\\n 16 17  1  0\\n 16 21  1  0\\n 17 18  1  0\\n 17 19  2  0\\n 19 20  1  0\\n 21 22  1  0\\n 22 23  2  0\\nM  END\\n\",\"sdf\");\n\tviewer_16509019259587162.setStyle({\"model\": 0},{\"stick\": {\"colorscheme\": \"lightgreyCarbon\"}});\n\tviewer_16509019259587162.setStyle({\"model\": 1},{\"stick\": {\"colorscheme\": \"purpleCarbon\"}});\n\tviewer_16509019259587162.setStyle({\"model\": 2},{\"stick\": {\"colorscheme\": \"greyCarbon\"}});\n\tviewer_16509019259587162.zoomTo();\nviewer_16509019259587162.render();\n});\n</script>",
      "text/html": [
       "<div id=\"3dmolviewer_16509019259587162\"  style=\"position: relative; width: 640px; height: 480px\">\n",
       "        <p id=\"3dmolwarning_16509019259587162\" style=\"background-color:#ffcccc;color:black\">You appear to be running in JupyterLab (or JavaScript failed to load for some other reason).  You need to install the 3dmol extension: <br>\n",
       "        <tt>jupyter labextension install jupyterlab_3dmol</tt></p>\n",
       "        </div>\n",
       "<script>\n",
       "\n",
       "var loadScriptAsync = function(uri){\n",
       "  return new Promise((resolve, reject) => {\n",
       "    var tag = document.createElement('script');\n",
       "    tag.src = uri;\n",
       "    tag.async = true;\n",
       "    tag.onload = () => {\n",
       "      resolve();\n",
       "    };\n",
       "  var firstScriptTag = document.getElementsByTagName('script')[0];\n",
       "  firstScriptTag.parentNode.insertBefore(tag, firstScriptTag);\n",
       "});\n",
       "};\n",
       "\n",
       "if(typeof $3Dmolpromise === 'undefined') {\n",
       "$3Dmolpromise = null;\n",
       "  $3Dmolpromise = loadScriptAsync('https://3dmol.org/build/3Dmol.js');\n",
       "}\n",
       "\n",
       "var viewer_16509019259587162 = null;\n",
       "var warn = document.getElementById(\"3dmolwarning_16509019259587162\");\n",
       "if(warn) {\n",
       "    warn.parentNode.removeChild(warn);\n",
       "}\n",
       "$3Dmolpromise.then(function() {\n",
       "viewer_16509019259587162 = $3Dmol.createViewer($(\"#3dmolviewer_16509019259587162\"),{backgroundColor:\"white\"});\n",
       "viewer_16509019259587162.zoomTo();\n",
       "\tviewer_16509019259587162.addModel(\"\\n     RDKit          3D\\n\\n 10 11  0  0  0  0  0  0  0  0999 V2000\\n    0.2346    2.5020   -0.0056 O   0  0  0  0  0  0  0  0  0  0  0  0\\n   -0.1277    1.2888    0.0189 C   0  0  0  0  0  0  0  0  0  0  0  0\\n   -1.4373    0.9526    0.1319 N   0  0  0  0  0  0  0  0  0  0  0  0\\n   -1.8711   -0.3164    0.1624 C   0  0  0  0  0  0  0  0  0  0  0  0\\n   -0.9364   -1.3261    0.0743 C   0  0  0  0  0  0  0  0  0  0  0  0\\n    0.4092   -1.0092   -0.0420 C   0  0  0  0  0  0  0  0  0  0  0  0\\n    1.5058   -1.7341   -0.1426 O   0  0  0  0  0  0  0  0  0  0  0  0\\n    2.5631   -0.9738   -0.2308 N   0  0  0  0  0  0  0  0  0  0  0  0\\n    2.2034    0.3208   -0.1915 C   0  0  0  0  0  0  0  0  0  0  0  0\\n    0.8307    0.3048   -0.0711 C   0  0  0  0  0  0  0  0  0  0  0  0\\n  1  2  2  0\\n  2  3  1  0\\n  3  4  1  0\\n  4  5  2  0\\n  5  6  1  0\\n  6  7  1  0\\n  7  8  1  0\\n  8  9  2  0\\n  9 10  1  0\\n 10  2  1  0\\n 10  6  2  0\\nM  END\\n\",\"sdf\");\n",
       "\tviewer_16509019259587162.addModel(\"\\n     RDKit          3D\\n\\n 10 11  0  0  0  0  0  0  0  0999 V2000\\n    2.4127   -3.1442   14.5710 O   0  0  0  0  0  0  0  0  0  0  0  0\\n    2.4221   -2.8776   13.3330 C   0  0  0  0  0  0  0  0  0  0  0  0\\n    2.2749   -3.8572   12.4059 N   0  0  0  0  0  0  0  0  0  0  0  0\\n    2.2780   -3.6261   11.0846 C   0  0  0  0  0  0  0  0  0  0  0  0\\n    2.4391   -2.3272   10.6513 C   0  0  0  0  0  0  0  0  0  0  0  0\\n    2.5917   -1.3069   11.5789 C   0  0  0  0  0  0  0  0  0  0  0  0\\n    2.7601   -0.0036   11.4734 O   0  0  0  0  0  0  0  0  0  0  0  0\\n    2.8572    0.5527   12.6502 N   0  0  0  0  0  0  0  0  0  0  0  0\\n    2.7546   -0.3820   13.6107 C   0  0  0  0  0  0  0  0  0  0  0  0\\n    2.5851   -1.5703   12.9337 C   0  0  0  0  0  0  0  0  0  0  0  0\\n  1  2  2  0\\n  2  3  1  0\\n  3  4  1  0\\n  4  5  2  0\\n  5  6  1  0\\n  6  7  1  0\\n  7  8  1  0\\n  8  9  2  0\\n  9 10  1  0\\n 10  2  1  0\\n 10  6  2  0\\nM  END\\n\",\"sdf\");\n",
       "\tviewer_16509019259587162.addModel(\"BRD4, Ligand 7\\n     RDKit          3D\\n\\n 23 26  0  0  0  0  0  0  0  0999 V2000\\n    3.2590    2.9010   13.4290 Cl  0  0  0  0  0  0  0  0  0  0  0  0\\n    2.9360    1.2890   12.8120 C   0  0  0  0  0  0  0  0  0  0  0  0\\n    2.3430    0.3620   13.6330 C   0  0  0  0  0  0  0  0  0  0  0  0\\n    2.0690   -0.9160   13.1160 C   0  0  0  0  0  0  0  0  0  0  0  0\\n    1.4040   -1.9100   14.0170 C   0  0  0  0  0  0  0  0  0  0  0  0\\n    0.2390   -1.4510   14.8530 C   0  0  0  0  0  0  0  0  0  0  0  0\\n   -0.5130   -0.3110   14.5260 C   0  0  0  0  0  0  0  0  0  0  0  0\\n   -1.6410    0.0420   15.2720 C   0  0  0  0  0  0  0  0  0  0  0  0\\n   -2.0370   -0.7510   16.3420 C   0  0  0  0  0  0  0  0  0  0  0  0\\n   -1.3100   -1.9100   16.6370 C   0  0  0  0  0  0  0  0  0  0  0  0\\n   -0.1850   -2.2490   15.9160 C   0  0  0  0  0  0  0  0  0  0  0  0\\n    1.7010   -3.1700   13.9680 N   0  0  0  0  0  0  0  0  0  0  0  0\\n    2.7470   -3.7670   13.1430 N   0  0  0  0  0  0  0  0  0  0  0  0\\n    3.4820   -4.9110   13.6300 C   0  0  0  0  0  0  0  0  0  0  0  0\\n    2.4970   -3.6210   11.8170 C   0  0  0  0  0  0  0  0  0  0  0  0\\n    2.1950   -2.4930   11.2130 N   0  0  0  0  0  0  0  0  0  0  0  0\\n    1.8170   -2.7700    9.9500 C   0  0  0  0  0  0  0  0  0  0  0  0\\n    1.4340   -1.8400    8.8530 C   0  0  0  0  0  0  0  0  0  0  0  0\\n    1.8190   -4.0880    9.8010 N   0  0  0  0  0  0  0  0  0  0  0  0\\n    2.2650   -4.6660   11.0030 N   0  0  0  0  0  0  0  0  0  0  0  0\\n    2.4030   -1.2480   11.7870 C   0  0  0  0  0  0  0  0  0  0  0  0\\n    3.0600   -0.2560   11.0340 C   0  0  0  0  0  0  0  0  0  0  0  0\\n    3.3050    1.0110   11.5140 C   0  0  0  0  0  0  0  0  0  0  0  0\\n  1  2  1  0\\n  2  3  2  0\\n  2 23  1  0\\n  3  4  1  0\\n  4  5  1  0\\n  4 21  2  0\\n  5  6  1  0\\n  5 12  2  0\\n  6  7  2  0\\n  6 11  1  0\\n  7  8  1  0\\n  8  9  2  0\\n  9 10  1  0\\n 10 11  2  0\\n 12 13  1  0\\n 13 14  1  0\\n 13 15  1  0\\n 15 16  1  0\\n 15 20  2  0\\n 16 17  1  0\\n 16 21  1  0\\n 17 18  1  0\\n 17 19  2  0\\n 19 20  1  0\\n 21 22  1  0\\n 22 23  2  0\\nM  END\\n\",\"sdf\");\n",
       "\tviewer_16509019259587162.setStyle({\"model\": 0},{\"stick\": {\"colorscheme\": \"lightgreyCarbon\"}});\n",
       "\tviewer_16509019259587162.setStyle({\"model\": 1},{\"stick\": {\"colorscheme\": \"purpleCarbon\"}});\n",
       "\tviewer_16509019259587162.setStyle({\"model\": 2},{\"stick\": {\"colorscheme\": \"greyCarbon\"}});\n",
       "\tviewer_16509019259587162.zoomTo();\n",
       "viewer_16509019259587162.render();\n",
       "});\n",
       "</script>"
      ]
     },
     "metadata": {},
     "output_type": "display_data"
    },
    {
     "data": {
      "text/plain": [
       "<py3Dmol.view at 0x7fa871e6b190>"
      ]
     },
     "metadata": {},
     "output_type": "display_data"
    },
    {
     "name": "stdout",
     "output_type": "stream",
     "text": [
      "1.507163323782235\n"
     ]
    },
    {
     "data": {
      "application/3dmoljs_load.v0": "<div id=\"3dmolviewer_16509019259639578\"  style=\"position: relative; width: 640px; height: 480px\">\n        <p id=\"3dmolwarning_16509019259639578\" style=\"background-color:#ffcccc;color:black\">You appear to be running in JupyterLab (or JavaScript failed to load for some other reason).  You need to install the 3dmol extension: <br>\n        <tt>jupyter labextension install jupyterlab_3dmol</tt></p>\n        </div>\n<script>\n\nvar loadScriptAsync = function(uri){\n  return new Promise((resolve, reject) => {\n    var tag = document.createElement('script');\n    tag.src = uri;\n    tag.async = true;\n    tag.onload = () => {\n      resolve();\n    };\n  var firstScriptTag = document.getElementsByTagName('script')[0];\n  firstScriptTag.parentNode.insertBefore(tag, firstScriptTag);\n});\n};\n\nif(typeof $3Dmolpromise === 'undefined') {\n$3Dmolpromise = null;\n  $3Dmolpromise = loadScriptAsync('https://3dmol.org/build/3Dmol.js');\n}\n\nvar viewer_16509019259639578 = null;\nvar warn = document.getElementById(\"3dmolwarning_16509019259639578\");\nif(warn) {\n    warn.parentNode.removeChild(warn);\n}\n$3Dmolpromise.then(function() {\nviewer_16509019259639578 = $3Dmol.createViewer($(\"#3dmolviewer_16509019259639578\"),{backgroundColor:\"white\"});\nviewer_16509019259639578.zoomTo();\n\tviewer_16509019259639578.addModel(\"\\n     RDKit          3D\\n\\n 10 11  0  0  0  0  0  0  0  0999 V2000\\n   -1.8740   -0.9042    0.3897 N   0  0  0  0  0  0  0  0  0  0  0  0\\n   -1.9927    0.3066   -0.1534 C   0  0  0  0  0  0  0  0  0  0  0  0\\n   -0.9065    1.0871   -0.4941 C   0  0  0  0  0  0  0  0  0  0  0  0\\n    0.3069    0.5587   -0.2477 N   0  0  0  0  0  0  0  0  0  0  0  0\\n    1.4254    1.1949   -0.5235 N   0  0  0  0  0  0  0  0  0  0  0  0\\n    2.5868    0.6176   -0.2557 N   0  0  0  0  0  0  0  0  0  0  0  0\\n    2.6801   -0.5865    0.2843 N   0  0  0  0  0  0  0  0  0  0  0  0\\n    1.6162   -1.3015    0.5958 N   0  0  0  0  0  0  0  0  0  0  0  0\\n    0.4175   -0.7548    0.3413 C   0  0  0  0  0  0  0  0  0  0  0  0\\n   -0.6842   -1.4220    0.6312 N   0  0  0  0  0  0  0  0  0  0  0  0\\n  1  2  1  0\\n  2  3  2  0\\n  3  4  1  0\\n  4  5  1  0\\n  5  6  1  0\\n  6  7  2  0\\n  7  8  1  0\\n  8  9  1  0\\n  9 10  2  0\\n 10  1  1  0\\n  9  4  1  0\\nM  END\\n\",\"sdf\");\n\tviewer_16509019259639578.addModel(\"\\n     RDKit          3D\\n\\n 10 11  0  0  0  0  0  0  0  0999 V2000\\n    2.8066    1.6104   13.0826 N   0  0  0  0  0  0  0  0  0  0  0  0\\n    2.4770    1.7053   14.3701 C   0  0  0  0  0  0  0  0  0  0  0  0\\n    2.1287    0.6133   15.1390 C   0  0  0  0  0  0  0  0  0  0  0  0\\n    2.1368   -0.5802   14.5163 N   0  0  0  0  0  0  0  0  0  0  0  0\\n    1.8256   -1.7015   15.1309 N   0  0  0  0  0  0  0  0  0  0  0  0\\n    1.8537   -2.8425   14.4592 N   0  0  0  0  0  0  0  0  0  0  0  0\\n    2.1842   -2.9123   13.1801 N   0  0  0  0  0  0  0  0  0  0  0  0\\n    2.5113   -1.8437   12.4793 N   0  0  0  0  0  0  0  0  0  0  0  0\\n    2.4964   -0.6651   13.1206 C   0  0  0  0  0  0  0  0  0  0  0  0\\n    2.8143    0.4401   12.4723 N   0  0  0  0  0  0  0  0  0  0  0  0\\n  1  2  1  0\\n  2  3  2  0\\n  3  4  1  0\\n  4  5  1  0\\n  5  6  1  0\\n  6  7  2  0\\n  7  8  1  0\\n  8  9  1  0\\n  9 10  2  0\\n 10  1  1  0\\n  9  4  1  0\\nM  END\\n\",\"sdf\");\n\tviewer_16509019259639578.addModel(\"BRD4, Ligand 7\\n     RDKit          3D\\n\\n 23 26  0  0  0  0  0  0  0  0999 V2000\\n    3.2590    2.9010   13.4290 Cl  0  0  0  0  0  0  0  0  0  0  0  0\\n    2.9360    1.2890   12.8120 C   0  0  0  0  0  0  0  0  0  0  0  0\\n    2.3430    0.3620   13.6330 C   0  0  0  0  0  0  0  0  0  0  0  0\\n    2.0690   -0.9160   13.1160 C   0  0  0  0  0  0  0  0  0  0  0  0\\n    1.4040   -1.9100   14.0170 C   0  0  0  0  0  0  0  0  0  0  0  0\\n    0.2390   -1.4510   14.8530 C   0  0  0  0  0  0  0  0  0  0  0  0\\n   -0.5130   -0.3110   14.5260 C   0  0  0  0  0  0  0  0  0  0  0  0\\n   -1.6410    0.0420   15.2720 C   0  0  0  0  0  0  0  0  0  0  0  0\\n   -2.0370   -0.7510   16.3420 C   0  0  0  0  0  0  0  0  0  0  0  0\\n   -1.3100   -1.9100   16.6370 C   0  0  0  0  0  0  0  0  0  0  0  0\\n   -0.1850   -2.2490   15.9160 C   0  0  0  0  0  0  0  0  0  0  0  0\\n    1.7010   -3.1700   13.9680 N   0  0  0  0  0  0  0  0  0  0  0  0\\n    2.7470   -3.7670   13.1430 N   0  0  0  0  0  0  0  0  0  0  0  0\\n    3.4820   -4.9110   13.6300 C   0  0  0  0  0  0  0  0  0  0  0  0\\n    2.4970   -3.6210   11.8170 C   0  0  0  0  0  0  0  0  0  0  0  0\\n    2.1950   -2.4930   11.2130 N   0  0  0  0  0  0  0  0  0  0  0  0\\n    1.8170   -2.7700    9.9500 C   0  0  0  0  0  0  0  0  0  0  0  0\\n    1.4340   -1.8400    8.8530 C   0  0  0  0  0  0  0  0  0  0  0  0\\n    1.8190   -4.0880    9.8010 N   0  0  0  0  0  0  0  0  0  0  0  0\\n    2.2650   -4.6660   11.0030 N   0  0  0  0  0  0  0  0  0  0  0  0\\n    2.4030   -1.2480   11.7870 C   0  0  0  0  0  0  0  0  0  0  0  0\\n    3.0600   -0.2560   11.0340 C   0  0  0  0  0  0  0  0  0  0  0  0\\n    3.3050    1.0110   11.5140 C   0  0  0  0  0  0  0  0  0  0  0  0\\n  1  2  1  0\\n  2  3  2  0\\n  2 23  1  0\\n  3  4  1  0\\n  4  5  1  0\\n  4 21  2  0\\n  5  6  1  0\\n  5 12  2  0\\n  6  7  2  0\\n  6 11  1  0\\n  7  8  1  0\\n  8  9  2  0\\n  9 10  1  0\\n 10 11  2  0\\n 12 13  1  0\\n 13 14  1  0\\n 13 15  1  0\\n 15 16  1  0\\n 15 20  2  0\\n 16 17  1  0\\n 16 21  1  0\\n 17 18  1  0\\n 17 19  2  0\\n 19 20  1  0\\n 21 22  1  0\\n 22 23  2  0\\nM  END\\n\",\"sdf\");\n\tviewer_16509019259639578.setStyle({\"model\": 0},{\"stick\": {\"colorscheme\": \"lightgreyCarbon\"}});\n\tviewer_16509019259639578.setStyle({\"model\": 1},{\"stick\": {\"colorscheme\": \"purpleCarbon\"}});\n\tviewer_16509019259639578.setStyle({\"model\": 2},{\"stick\": {\"colorscheme\": \"greyCarbon\"}});\n\tviewer_16509019259639578.zoomTo();\nviewer_16509019259639578.render();\n});\n</script>",
      "text/html": [
       "<div id=\"3dmolviewer_16509019259639578\"  style=\"position: relative; width: 640px; height: 480px\">\n",
       "        <p id=\"3dmolwarning_16509019259639578\" style=\"background-color:#ffcccc;color:black\">You appear to be running in JupyterLab (or JavaScript failed to load for some other reason).  You need to install the 3dmol extension: <br>\n",
       "        <tt>jupyter labextension install jupyterlab_3dmol</tt></p>\n",
       "        </div>\n",
       "<script>\n",
       "\n",
       "var loadScriptAsync = function(uri){\n",
       "  return new Promise((resolve, reject) => {\n",
       "    var tag = document.createElement('script');\n",
       "    tag.src = uri;\n",
       "    tag.async = true;\n",
       "    tag.onload = () => {\n",
       "      resolve();\n",
       "    };\n",
       "  var firstScriptTag = document.getElementsByTagName('script')[0];\n",
       "  firstScriptTag.parentNode.insertBefore(tag, firstScriptTag);\n",
       "});\n",
       "};\n",
       "\n",
       "if(typeof $3Dmolpromise === 'undefined') {\n",
       "$3Dmolpromise = null;\n",
       "  $3Dmolpromise = loadScriptAsync('https://3dmol.org/build/3Dmol.js');\n",
       "}\n",
       "\n",
       "var viewer_16509019259639578 = null;\n",
       "var warn = document.getElementById(\"3dmolwarning_16509019259639578\");\n",
       "if(warn) {\n",
       "    warn.parentNode.removeChild(warn);\n",
       "}\n",
       "$3Dmolpromise.then(function() {\n",
       "viewer_16509019259639578 = $3Dmol.createViewer($(\"#3dmolviewer_16509019259639578\"),{backgroundColor:\"white\"});\n",
       "viewer_16509019259639578.zoomTo();\n",
       "\tviewer_16509019259639578.addModel(\"\\n     RDKit          3D\\n\\n 10 11  0  0  0  0  0  0  0  0999 V2000\\n   -1.8740   -0.9042    0.3897 N   0  0  0  0  0  0  0  0  0  0  0  0\\n   -1.9927    0.3066   -0.1534 C   0  0  0  0  0  0  0  0  0  0  0  0\\n   -0.9065    1.0871   -0.4941 C   0  0  0  0  0  0  0  0  0  0  0  0\\n    0.3069    0.5587   -0.2477 N   0  0  0  0  0  0  0  0  0  0  0  0\\n    1.4254    1.1949   -0.5235 N   0  0  0  0  0  0  0  0  0  0  0  0\\n    2.5868    0.6176   -0.2557 N   0  0  0  0  0  0  0  0  0  0  0  0\\n    2.6801   -0.5865    0.2843 N   0  0  0  0  0  0  0  0  0  0  0  0\\n    1.6162   -1.3015    0.5958 N   0  0  0  0  0  0  0  0  0  0  0  0\\n    0.4175   -0.7548    0.3413 C   0  0  0  0  0  0  0  0  0  0  0  0\\n   -0.6842   -1.4220    0.6312 N   0  0  0  0  0  0  0  0  0  0  0  0\\n  1  2  1  0\\n  2  3  2  0\\n  3  4  1  0\\n  4  5  1  0\\n  5  6  1  0\\n  6  7  2  0\\n  7  8  1  0\\n  8  9  1  0\\n  9 10  2  0\\n 10  1  1  0\\n  9  4  1  0\\nM  END\\n\",\"sdf\");\n",
       "\tviewer_16509019259639578.addModel(\"\\n     RDKit          3D\\n\\n 10 11  0  0  0  0  0  0  0  0999 V2000\\n    2.8066    1.6104   13.0826 N   0  0  0  0  0  0  0  0  0  0  0  0\\n    2.4770    1.7053   14.3701 C   0  0  0  0  0  0  0  0  0  0  0  0\\n    2.1287    0.6133   15.1390 C   0  0  0  0  0  0  0  0  0  0  0  0\\n    2.1368   -0.5802   14.5163 N   0  0  0  0  0  0  0  0  0  0  0  0\\n    1.8256   -1.7015   15.1309 N   0  0  0  0  0  0  0  0  0  0  0  0\\n    1.8537   -2.8425   14.4592 N   0  0  0  0  0  0  0  0  0  0  0  0\\n    2.1842   -2.9123   13.1801 N   0  0  0  0  0  0  0  0  0  0  0  0\\n    2.5113   -1.8437   12.4793 N   0  0  0  0  0  0  0  0  0  0  0  0\\n    2.4964   -0.6651   13.1206 C   0  0  0  0  0  0  0  0  0  0  0  0\\n    2.8143    0.4401   12.4723 N   0  0  0  0  0  0  0  0  0  0  0  0\\n  1  2  1  0\\n  2  3  2  0\\n  3  4  1  0\\n  4  5  1  0\\n  5  6  1  0\\n  6  7  2  0\\n  7  8  1  0\\n  8  9  1  0\\n  9 10  2  0\\n 10  1  1  0\\n  9  4  1  0\\nM  END\\n\",\"sdf\");\n",
       "\tviewer_16509019259639578.addModel(\"BRD4, Ligand 7\\n     RDKit          3D\\n\\n 23 26  0  0  0  0  0  0  0  0999 V2000\\n    3.2590    2.9010   13.4290 Cl  0  0  0  0  0  0  0  0  0  0  0  0\\n    2.9360    1.2890   12.8120 C   0  0  0  0  0  0  0  0  0  0  0  0\\n    2.3430    0.3620   13.6330 C   0  0  0  0  0  0  0  0  0  0  0  0\\n    2.0690   -0.9160   13.1160 C   0  0  0  0  0  0  0  0  0  0  0  0\\n    1.4040   -1.9100   14.0170 C   0  0  0  0  0  0  0  0  0  0  0  0\\n    0.2390   -1.4510   14.8530 C   0  0  0  0  0  0  0  0  0  0  0  0\\n   -0.5130   -0.3110   14.5260 C   0  0  0  0  0  0  0  0  0  0  0  0\\n   -1.6410    0.0420   15.2720 C   0  0  0  0  0  0  0  0  0  0  0  0\\n   -2.0370   -0.7510   16.3420 C   0  0  0  0  0  0  0  0  0  0  0  0\\n   -1.3100   -1.9100   16.6370 C   0  0  0  0  0  0  0  0  0  0  0  0\\n   -0.1850   -2.2490   15.9160 C   0  0  0  0  0  0  0  0  0  0  0  0\\n    1.7010   -3.1700   13.9680 N   0  0  0  0  0  0  0  0  0  0  0  0\\n    2.7470   -3.7670   13.1430 N   0  0  0  0  0  0  0  0  0  0  0  0\\n    3.4820   -4.9110   13.6300 C   0  0  0  0  0  0  0  0  0  0  0  0\\n    2.4970   -3.6210   11.8170 C   0  0  0  0  0  0  0  0  0  0  0  0\\n    2.1950   -2.4930   11.2130 N   0  0  0  0  0  0  0  0  0  0  0  0\\n    1.8170   -2.7700    9.9500 C   0  0  0  0  0  0  0  0  0  0  0  0\\n    1.4340   -1.8400    8.8530 C   0  0  0  0  0  0  0  0  0  0  0  0\\n    1.8190   -4.0880    9.8010 N   0  0  0  0  0  0  0  0  0  0  0  0\\n    2.2650   -4.6660   11.0030 N   0  0  0  0  0  0  0  0  0  0  0  0\\n    2.4030   -1.2480   11.7870 C   0  0  0  0  0  0  0  0  0  0  0  0\\n    3.0600   -0.2560   11.0340 C   0  0  0  0  0  0  0  0  0  0  0  0\\n    3.3050    1.0110   11.5140 C   0  0  0  0  0  0  0  0  0  0  0  0\\n  1  2  1  0\\n  2  3  2  0\\n  2 23  1  0\\n  3  4  1  0\\n  4  5  1  0\\n  4 21  2  0\\n  5  6  1  0\\n  5 12  2  0\\n  6  7  2  0\\n  6 11  1  0\\n  7  8  1  0\\n  8  9  2  0\\n  9 10  1  0\\n 10 11  2  0\\n 12 13  1  0\\n 13 14  1  0\\n 13 15  1  0\\n 15 16  1  0\\n 15 20  2  0\\n 16 17  1  0\\n 16 21  1  0\\n 17 18  1  0\\n 17 19  2  0\\n 19 20  1  0\\n 21 22  1  0\\n 22 23  2  0\\nM  END\\n\",\"sdf\");\n",
       "\tviewer_16509019259639578.setStyle({\"model\": 0},{\"stick\": {\"colorscheme\": \"lightgreyCarbon\"}});\n",
       "\tviewer_16509019259639578.setStyle({\"model\": 1},{\"stick\": {\"colorscheme\": \"purpleCarbon\"}});\n",
       "\tviewer_16509019259639578.setStyle({\"model\": 2},{\"stick\": {\"colorscheme\": \"greyCarbon\"}});\n",
       "\tviewer_16509019259639578.zoomTo();\n",
       "viewer_16509019259639578.render();\n",
       "});\n",
       "</script>"
      ]
     },
     "metadata": {},
     "output_type": "display_data"
    },
    {
     "data": {
      "text/plain": [
       "<py3Dmol.view at 0x7fa871e6b2e0>"
      ]
     },
     "metadata": {},
     "output_type": "display_data"
    },
    {
     "name": "stdout",
     "output_type": "stream",
     "text": [
      "1.5\n"
     ]
    },
    {
     "data": {
      "application/3dmoljs_load.v0": "<div id=\"3dmolviewer_16509019259691057\"  style=\"position: relative; width: 640px; height: 480px\">\n        <p id=\"3dmolwarning_16509019259691057\" style=\"background-color:#ffcccc;color:black\">You appear to be running in JupyterLab (or JavaScript failed to load for some other reason).  You need to install the 3dmol extension: <br>\n        <tt>jupyter labextension install jupyterlab_3dmol</tt></p>\n        </div>\n<script>\n\nvar loadScriptAsync = function(uri){\n  return new Promise((resolve, reject) => {\n    var tag = document.createElement('script');\n    tag.src = uri;\n    tag.async = true;\n    tag.onload = () => {\n      resolve();\n    };\n  var firstScriptTag = document.getElementsByTagName('script')[0];\n  firstScriptTag.parentNode.insertBefore(tag, firstScriptTag);\n});\n};\n\nif(typeof $3Dmolpromise === 'undefined') {\n$3Dmolpromise = null;\n  $3Dmolpromise = loadScriptAsync('https://3dmol.org/build/3Dmol.js');\n}\n\nvar viewer_16509019259691057 = null;\nvar warn = document.getElementById(\"3dmolwarning_16509019259691057\");\nif(warn) {\n    warn.parentNode.removeChild(warn);\n}\n$3Dmolpromise.then(function() {\nviewer_16509019259691057 = $3Dmol.createViewer($(\"#3dmolviewer_16509019259691057\"),{backgroundColor:\"white\"});\nviewer_16509019259691057.zoomTo();\n\tviewer_16509019259691057.addModel(\"\\n     RDKit          3D\\n\\n 10 11  0  0  0  0  0  0  0  0999 V2000\\n   -3.0141   -0.7622    0.1657 O   0  0  0  0  0  0  0  0  0  0  0  0\\n   -1.8026   -0.4020    0.0987 C   0  0  0  0  0  0  0  0  0  0  0  0\\n   -0.8451   -1.3464    0.0549 N   0  0  0  0  0  0  0  0  0  0  0  0\\n    0.4719   -0.9928   -0.0177 C   0  0  0  0  0  0  0  0  0  0  0  0\\n    1.5888   -1.6562   -0.0721 O   0  0  0  0  0  0  0  0  0  0  0  0\\n    2.6099   -0.8574   -0.1322 N   0  0  0  0  0  0  0  0  0  0  0  0\\n    2.1986    0.4280   -0.1199 C   0  0  0  0  0  0  0  0  0  0  0  0\\n    0.8138    0.3428   -0.0458 C   0  0  0  0  0  0  0  0  0  0  0  0\\n   -0.1627    1.3016   -0.0010 C   0  0  0  0  0  0  0  0  0  0  0  0\\n   -1.5042    0.9487    0.0728 C   0  0  0  0  0  0  0  0  0  0  0  0\\n  1  2  2  0\\n  2  3  1  0\\n  3  4  1  0\\n  4  5  1  0\\n  5  6  1  0\\n  6  7  2  0\\n  7  8  1  0\\n  8  9  1  0\\n  9 10  2  0\\n 10  2  1  0\\n  8  4  2  0\\nM  END\\n\",\"sdf\");\n\tviewer_16509019259691057.addModel(\"\\n     RDKit          3D\\n\\n 10 11  0  0  0  0  0  0  0  0999 V2000\\n    3.5147   -4.6381   15.0999 O   0  0  0  0  0  0  0  0  0  0  0  0\\n    3.1407   -4.0011   14.0721 C   0  0  0  0  0  0  0  0  0  0  0  0\\n    3.0725   -4.6491   12.8948 N   0  0  0  0  0  0  0  0  0  0  0  0\\n    2.6730   -3.9922   11.7662 C   0  0  0  0  0  0  0  0  0  0  0  0\\n    2.5124   -4.3376   10.5230 O   0  0  0  0  0  0  0  0  0  0  0  0\\n    2.1056   -3.3368    9.8038 N   0  0  0  0  0  0  0  0  0  0  0  0\\n    1.9722   -2.2343   10.5708 C   0  0  0  0  0  0  0  0  0  0  0  0\\n    2.3392   -2.6565   11.8426 C   0  0  0  0  0  0  0  0  0  0  0  0\\n    2.4096   -1.9997   13.0419 C   0  0  0  0  0  0  0  0  0  0  0  0\\n    2.8152   -2.6619   14.1937 C   0  0  0  0  0  0  0  0  0  0  0  0\\n  1  2  2  0\\n  2  3  1  0\\n  3  4  1  0\\n  4  5  1  0\\n  5  6  1  0\\n  6  7  2  0\\n  7  8  1  0\\n  8  9  1  0\\n  9 10  2  0\\n 10  2  1  0\\n  8  4  2  0\\nM  END\\n\",\"sdf\");\n\tviewer_16509019259691057.addModel(\"BRD4, Ligand 7\\n     RDKit          3D\\n\\n 23 26  0  0  0  0  0  0  0  0999 V2000\\n    3.2590    2.9010   13.4290 Cl  0  0  0  0  0  0  0  0  0  0  0  0\\n    2.9360    1.2890   12.8120 C   0  0  0  0  0  0  0  0  0  0  0  0\\n    2.3430    0.3620   13.6330 C   0  0  0  0  0  0  0  0  0  0  0  0\\n    2.0690   -0.9160   13.1160 C   0  0  0  0  0  0  0  0  0  0  0  0\\n    1.4040   -1.9100   14.0170 C   0  0  0  0  0  0  0  0  0  0  0  0\\n    0.2390   -1.4510   14.8530 C   0  0  0  0  0  0  0  0  0  0  0  0\\n   -0.5130   -0.3110   14.5260 C   0  0  0  0  0  0  0  0  0  0  0  0\\n   -1.6410    0.0420   15.2720 C   0  0  0  0  0  0  0  0  0  0  0  0\\n   -2.0370   -0.7510   16.3420 C   0  0  0  0  0  0  0  0  0  0  0  0\\n   -1.3100   -1.9100   16.6370 C   0  0  0  0  0  0  0  0  0  0  0  0\\n   -0.1850   -2.2490   15.9160 C   0  0  0  0  0  0  0  0  0  0  0  0\\n    1.7010   -3.1700   13.9680 N   0  0  0  0  0  0  0  0  0  0  0  0\\n    2.7470   -3.7670   13.1430 N   0  0  0  0  0  0  0  0  0  0  0  0\\n    3.4820   -4.9110   13.6300 C   0  0  0  0  0  0  0  0  0  0  0  0\\n    2.4970   -3.6210   11.8170 C   0  0  0  0  0  0  0  0  0  0  0  0\\n    2.1950   -2.4930   11.2130 N   0  0  0  0  0  0  0  0  0  0  0  0\\n    1.8170   -2.7700    9.9500 C   0  0  0  0  0  0  0  0  0  0  0  0\\n    1.4340   -1.8400    8.8530 C   0  0  0  0  0  0  0  0  0  0  0  0\\n    1.8190   -4.0880    9.8010 N   0  0  0  0  0  0  0  0  0  0  0  0\\n    2.2650   -4.6660   11.0030 N   0  0  0  0  0  0  0  0  0  0  0  0\\n    2.4030   -1.2480   11.7870 C   0  0  0  0  0  0  0  0  0  0  0  0\\n    3.0600   -0.2560   11.0340 C   0  0  0  0  0  0  0  0  0  0  0  0\\n    3.3050    1.0110   11.5140 C   0  0  0  0  0  0  0  0  0  0  0  0\\n  1  2  1  0\\n  2  3  2  0\\n  2 23  1  0\\n  3  4  1  0\\n  4  5  1  0\\n  4 21  2  0\\n  5  6  1  0\\n  5 12  2  0\\n  6  7  2  0\\n  6 11  1  0\\n  7  8  1  0\\n  8  9  2  0\\n  9 10  1  0\\n 10 11  2  0\\n 12 13  1  0\\n 13 14  1  0\\n 13 15  1  0\\n 15 16  1  0\\n 15 20  2  0\\n 16 17  1  0\\n 16 21  1  0\\n 17 18  1  0\\n 17 19  2  0\\n 19 20  1  0\\n 21 22  1  0\\n 22 23  2  0\\nM  END\\n\",\"sdf\");\n\tviewer_16509019259691057.setStyle({\"model\": 0},{\"stick\": {\"colorscheme\": \"lightgreyCarbon\"}});\n\tviewer_16509019259691057.setStyle({\"model\": 1},{\"stick\": {\"colorscheme\": \"purpleCarbon\"}});\n\tviewer_16509019259691057.setStyle({\"model\": 2},{\"stick\": {\"colorscheme\": \"greyCarbon\"}});\n\tviewer_16509019259691057.zoomTo();\nviewer_16509019259691057.render();\n});\n</script>",
      "text/html": [
       "<div id=\"3dmolviewer_16509019259691057\"  style=\"position: relative; width: 640px; height: 480px\">\n",
       "        <p id=\"3dmolwarning_16509019259691057\" style=\"background-color:#ffcccc;color:black\">You appear to be running in JupyterLab (or JavaScript failed to load for some other reason).  You need to install the 3dmol extension: <br>\n",
       "        <tt>jupyter labextension install jupyterlab_3dmol</tt></p>\n",
       "        </div>\n",
       "<script>\n",
       "\n",
       "var loadScriptAsync = function(uri){\n",
       "  return new Promise((resolve, reject) => {\n",
       "    var tag = document.createElement('script');\n",
       "    tag.src = uri;\n",
       "    tag.async = true;\n",
       "    tag.onload = () => {\n",
       "      resolve();\n",
       "    };\n",
       "  var firstScriptTag = document.getElementsByTagName('script')[0];\n",
       "  firstScriptTag.parentNode.insertBefore(tag, firstScriptTag);\n",
       "});\n",
       "};\n",
       "\n",
       "if(typeof $3Dmolpromise === 'undefined') {\n",
       "$3Dmolpromise = null;\n",
       "  $3Dmolpromise = loadScriptAsync('https://3dmol.org/build/3Dmol.js');\n",
       "}\n",
       "\n",
       "var viewer_16509019259691057 = null;\n",
       "var warn = document.getElementById(\"3dmolwarning_16509019259691057\");\n",
       "if(warn) {\n",
       "    warn.parentNode.removeChild(warn);\n",
       "}\n",
       "$3Dmolpromise.then(function() {\n",
       "viewer_16509019259691057 = $3Dmol.createViewer($(\"#3dmolviewer_16509019259691057\"),{backgroundColor:\"white\"});\n",
       "viewer_16509019259691057.zoomTo();\n",
       "\tviewer_16509019259691057.addModel(\"\\n     RDKit          3D\\n\\n 10 11  0  0  0  0  0  0  0  0999 V2000\\n   -3.0141   -0.7622    0.1657 O   0  0  0  0  0  0  0  0  0  0  0  0\\n   -1.8026   -0.4020    0.0987 C   0  0  0  0  0  0  0  0  0  0  0  0\\n   -0.8451   -1.3464    0.0549 N   0  0  0  0  0  0  0  0  0  0  0  0\\n    0.4719   -0.9928   -0.0177 C   0  0  0  0  0  0  0  0  0  0  0  0\\n    1.5888   -1.6562   -0.0721 O   0  0  0  0  0  0  0  0  0  0  0  0\\n    2.6099   -0.8574   -0.1322 N   0  0  0  0  0  0  0  0  0  0  0  0\\n    2.1986    0.4280   -0.1199 C   0  0  0  0  0  0  0  0  0  0  0  0\\n    0.8138    0.3428   -0.0458 C   0  0  0  0  0  0  0  0  0  0  0  0\\n   -0.1627    1.3016   -0.0010 C   0  0  0  0  0  0  0  0  0  0  0  0\\n   -1.5042    0.9487    0.0728 C   0  0  0  0  0  0  0  0  0  0  0  0\\n  1  2  2  0\\n  2  3  1  0\\n  3  4  1  0\\n  4  5  1  0\\n  5  6  1  0\\n  6  7  2  0\\n  7  8  1  0\\n  8  9  1  0\\n  9 10  2  0\\n 10  2  1  0\\n  8  4  2  0\\nM  END\\n\",\"sdf\");\n",
       "\tviewer_16509019259691057.addModel(\"\\n     RDKit          3D\\n\\n 10 11  0  0  0  0  0  0  0  0999 V2000\\n    3.5147   -4.6381   15.0999 O   0  0  0  0  0  0  0  0  0  0  0  0\\n    3.1407   -4.0011   14.0721 C   0  0  0  0  0  0  0  0  0  0  0  0\\n    3.0725   -4.6491   12.8948 N   0  0  0  0  0  0  0  0  0  0  0  0\\n    2.6730   -3.9922   11.7662 C   0  0  0  0  0  0  0  0  0  0  0  0\\n    2.5124   -4.3376   10.5230 O   0  0  0  0  0  0  0  0  0  0  0  0\\n    2.1056   -3.3368    9.8038 N   0  0  0  0  0  0  0  0  0  0  0  0\\n    1.9722   -2.2343   10.5708 C   0  0  0  0  0  0  0  0  0  0  0  0\\n    2.3392   -2.6565   11.8426 C   0  0  0  0  0  0  0  0  0  0  0  0\\n    2.4096   -1.9997   13.0419 C   0  0  0  0  0  0  0  0  0  0  0  0\\n    2.8152   -2.6619   14.1937 C   0  0  0  0  0  0  0  0  0  0  0  0\\n  1  2  2  0\\n  2  3  1  0\\n  3  4  1  0\\n  4  5  1  0\\n  5  6  1  0\\n  6  7  2  0\\n  7  8  1  0\\n  8  9  1  0\\n  9 10  2  0\\n 10  2  1  0\\n  8  4  2  0\\nM  END\\n\",\"sdf\");\n",
       "\tviewer_16509019259691057.addModel(\"BRD4, Ligand 7\\n     RDKit          3D\\n\\n 23 26  0  0  0  0  0  0  0  0999 V2000\\n    3.2590    2.9010   13.4290 Cl  0  0  0  0  0  0  0  0  0  0  0  0\\n    2.9360    1.2890   12.8120 C   0  0  0  0  0  0  0  0  0  0  0  0\\n    2.3430    0.3620   13.6330 C   0  0  0  0  0  0  0  0  0  0  0  0\\n    2.0690   -0.9160   13.1160 C   0  0  0  0  0  0  0  0  0  0  0  0\\n    1.4040   -1.9100   14.0170 C   0  0  0  0  0  0  0  0  0  0  0  0\\n    0.2390   -1.4510   14.8530 C   0  0  0  0  0  0  0  0  0  0  0  0\\n   -0.5130   -0.3110   14.5260 C   0  0  0  0  0  0  0  0  0  0  0  0\\n   -1.6410    0.0420   15.2720 C   0  0  0  0  0  0  0  0  0  0  0  0\\n   -2.0370   -0.7510   16.3420 C   0  0  0  0  0  0  0  0  0  0  0  0\\n   -1.3100   -1.9100   16.6370 C   0  0  0  0  0  0  0  0  0  0  0  0\\n   -0.1850   -2.2490   15.9160 C   0  0  0  0  0  0  0  0  0  0  0  0\\n    1.7010   -3.1700   13.9680 N   0  0  0  0  0  0  0  0  0  0  0  0\\n    2.7470   -3.7670   13.1430 N   0  0  0  0  0  0  0  0  0  0  0  0\\n    3.4820   -4.9110   13.6300 C   0  0  0  0  0  0  0  0  0  0  0  0\\n    2.4970   -3.6210   11.8170 C   0  0  0  0  0  0  0  0  0  0  0  0\\n    2.1950   -2.4930   11.2130 N   0  0  0  0  0  0  0  0  0  0  0  0\\n    1.8170   -2.7700    9.9500 C   0  0  0  0  0  0  0  0  0  0  0  0\\n    1.4340   -1.8400    8.8530 C   0  0  0  0  0  0  0  0  0  0  0  0\\n    1.8190   -4.0880    9.8010 N   0  0  0  0  0  0  0  0  0  0  0  0\\n    2.2650   -4.6660   11.0030 N   0  0  0  0  0  0  0  0  0  0  0  0\\n    2.4030   -1.2480   11.7870 C   0  0  0  0  0  0  0  0  0  0  0  0\\n    3.0600   -0.2560   11.0340 C   0  0  0  0  0  0  0  0  0  0  0  0\\n    3.3050    1.0110   11.5140 C   0  0  0  0  0  0  0  0  0  0  0  0\\n  1  2  1  0\\n  2  3  2  0\\n  2 23  1  0\\n  3  4  1  0\\n  4  5  1  0\\n  4 21  2  0\\n  5  6  1  0\\n  5 12  2  0\\n  6  7  2  0\\n  6 11  1  0\\n  7  8  1  0\\n  8  9  2  0\\n  9 10  1  0\\n 10 11  2  0\\n 12 13  1  0\\n 13 14  1  0\\n 13 15  1  0\\n 15 16  1  0\\n 15 20  2  0\\n 16 17  1  0\\n 16 21  1  0\\n 17 18  1  0\\n 17 19  2  0\\n 19 20  1  0\\n 21 22  1  0\\n 22 23  2  0\\nM  END\\n\",\"sdf\");\n",
       "\tviewer_16509019259691057.setStyle({\"model\": 0},{\"stick\": {\"colorscheme\": \"lightgreyCarbon\"}});\n",
       "\tviewer_16509019259691057.setStyle({\"model\": 1},{\"stick\": {\"colorscheme\": \"purpleCarbon\"}});\n",
       "\tviewer_16509019259691057.setStyle({\"model\": 2},{\"stick\": {\"colorscheme\": \"greyCarbon\"}});\n",
       "\tviewer_16509019259691057.zoomTo();\n",
       "viewer_16509019259691057.render();\n",
       "});\n",
       "</script>"
      ]
     },
     "metadata": {},
     "output_type": "display_data"
    },
    {
     "data": {
      "text/plain": [
       "<py3Dmol.view at 0x7fa871e6b3d0>"
      ]
     },
     "metadata": {},
     "output_type": "display_data"
    },
    {
     "name": "stdout",
     "output_type": "stream",
     "text": [
      "1.484771573604061\n"
     ]
    },
    {
     "data": {
      "application/3dmoljs_load.v0": "<div id=\"3dmolviewer_1650901925974395\"  style=\"position: relative; width: 640px; height: 480px\">\n        <p id=\"3dmolwarning_1650901925974395\" style=\"background-color:#ffcccc;color:black\">You appear to be running in JupyterLab (or JavaScript failed to load for some other reason).  You need to install the 3dmol extension: <br>\n        <tt>jupyter labextension install jupyterlab_3dmol</tt></p>\n        </div>\n<script>\n\nvar loadScriptAsync = function(uri){\n  return new Promise((resolve, reject) => {\n    var tag = document.createElement('script');\n    tag.src = uri;\n    tag.async = true;\n    tag.onload = () => {\n      resolve();\n    };\n  var firstScriptTag = document.getElementsByTagName('script')[0];\n  firstScriptTag.parentNode.insertBefore(tag, firstScriptTag);\n});\n};\n\nif(typeof $3Dmolpromise === 'undefined') {\n$3Dmolpromise = null;\n  $3Dmolpromise = loadScriptAsync('https://3dmol.org/build/3Dmol.js');\n}\n\nvar viewer_1650901925974395 = null;\nvar warn = document.getElementById(\"3dmolwarning_1650901925974395\");\nif(warn) {\n    warn.parentNode.removeChild(warn);\n}\n$3Dmolpromise.then(function() {\nviewer_1650901925974395 = $3Dmol.createViewer($(\"#3dmolviewer_1650901925974395\"),{backgroundColor:\"white\"});\nviewer_1650901925974395.zoomTo();\n\tviewer_1650901925974395.addModel(\"\\n     RDKit          3D\\n\\n 10 11  0  0  0  0  0  0  0  0999 V2000\\n   -2.1829    1.0631    0.3381 N   0  0  0  0  0  0  0  0  0  0  0  0\\n   -2.1976   -0.2463    0.0733 C   0  0  0  0  0  0  0  0  0  0  0  0\\n   -1.0687   -1.0097   -0.1448 C   0  0  0  0  0  0  0  0  0  0  0  0\\n    0.1579   -0.4058   -0.0912 N   0  0  0  0  0  0  0  0  0  0  0  0\\n    1.2523   -1.0946   -0.2922 N   0  0  0  0  0  0  0  0  0  0  0  0\\n    2.4812   -0.6859   -0.2783 N   0  0  0  0  0  0  0  0  0  0  0  0\\n    2.9420    0.5437   -0.0548 C   0  0  0  0  0  0  0  0  0  0  0  0\\n    1.7075    1.6876    0.2464 S   0  0  0  0  0  0  0  0  0  0  0  0\\n    0.1325    0.9888    0.1931 C   0  0  0  0  0  0  0  0  0  0  0  0\\n   -1.0099    1.6697    0.3952 N   0  0  0  0  0  0  0  0  0  0  0  0\\n  1  2  1  0\\n  2  3  2  0\\n  3  4  1  0\\n  4  5  1  0\\n  5  6  1  0\\n  6  7  2  0\\n  7  8  1  0\\n  8  9  1  0\\n  9 10  2  0\\n 10  1  1  0\\n  9  4  1  0\\nM  END\\n\",\"sdf\");\n\tviewer_1650901925974395.addModel(\"\\n     RDKit          3D\\n\\n 10 11  0  0  0  0  0  0  0  0999 V2000\\n   -0.7097    0.3623   15.6502 N   0  0  0  0  0  0  0  0  0  0  0  0\\n   -1.0525   -0.8137   15.1170 C   0  0  0  0  0  0  0  0  0  0  0  0\\n   -0.2984   -1.4951   14.1833 C   0  0  0  0  0  0  0  0  0  0  0  0\\n    0.8826   -0.9482   13.7611 N   0  0  0  0  0  0  0  0  0  0  0  0\\n    1.6266   -1.5627   12.8772 N   0  0  0  0  0  0  0  0  0  0  0  0\\n    2.7602   -1.1911   12.3731 N   0  0  0  0  0  0  0  0  0  0  0  0\\n    3.4569   -0.0850   12.6289 C   0  0  0  0  0  0  0  0  0  0  0  0\\n    2.7103    0.9377   13.7777 S   0  0  0  0  0  0  0  0  0  0  0  0\\n    1.2132    0.3042   14.3515 C   0  0  0  0  0  0  0  0  0  0  0  0\\n    0.4270    0.9115   15.2584 N   0  0  0  0  0  0  0  0  0  0  0  0\\n  1  2  1  0\\n  2  3  2  0\\n  3  4  1  0\\n  4  5  1  0\\n  5  6  1  0\\n  6  7  2  0\\n  7  8  1  0\\n  8  9  1  0\\n  9 10  2  0\\n 10  1  1  0\\n  9  4  1  0\\nM  END\\n\",\"sdf\");\n\tviewer_1650901925974395.addModel(\"BRD4, Ligand 7\\n     RDKit          3D\\n\\n 23 26  0  0  0  0  0  0  0  0999 V2000\\n    3.2590    2.9010   13.4290 Cl  0  0  0  0  0  0  0  0  0  0  0  0\\n    2.9360    1.2890   12.8120 C   0  0  0  0  0  0  0  0  0  0  0  0\\n    2.3430    0.3620   13.6330 C   0  0  0  0  0  0  0  0  0  0  0  0\\n    2.0690   -0.9160   13.1160 C   0  0  0  0  0  0  0  0  0  0  0  0\\n    1.4040   -1.9100   14.0170 C   0  0  0  0  0  0  0  0  0  0  0  0\\n    0.2390   -1.4510   14.8530 C   0  0  0  0  0  0  0  0  0  0  0  0\\n   -0.5130   -0.3110   14.5260 C   0  0  0  0  0  0  0  0  0  0  0  0\\n   -1.6410    0.0420   15.2720 C   0  0  0  0  0  0  0  0  0  0  0  0\\n   -2.0370   -0.7510   16.3420 C   0  0  0  0  0  0  0  0  0  0  0  0\\n   -1.3100   -1.9100   16.6370 C   0  0  0  0  0  0  0  0  0  0  0  0\\n   -0.1850   -2.2490   15.9160 C   0  0  0  0  0  0  0  0  0  0  0  0\\n    1.7010   -3.1700   13.9680 N   0  0  0  0  0  0  0  0  0  0  0  0\\n    2.7470   -3.7670   13.1430 N   0  0  0  0  0  0  0  0  0  0  0  0\\n    3.4820   -4.9110   13.6300 C   0  0  0  0  0  0  0  0  0  0  0  0\\n    2.4970   -3.6210   11.8170 C   0  0  0  0  0  0  0  0  0  0  0  0\\n    2.1950   -2.4930   11.2130 N   0  0  0  0  0  0  0  0  0  0  0  0\\n    1.8170   -2.7700    9.9500 C   0  0  0  0  0  0  0  0  0  0  0  0\\n    1.4340   -1.8400    8.8530 C   0  0  0  0  0  0  0  0  0  0  0  0\\n    1.8190   -4.0880    9.8010 N   0  0  0  0  0  0  0  0  0  0  0  0\\n    2.2650   -4.6660   11.0030 N   0  0  0  0  0  0  0  0  0  0  0  0\\n    2.4030   -1.2480   11.7870 C   0  0  0  0  0  0  0  0  0  0  0  0\\n    3.0600   -0.2560   11.0340 C   0  0  0  0  0  0  0  0  0  0  0  0\\n    3.3050    1.0110   11.5140 C   0  0  0  0  0  0  0  0  0  0  0  0\\n  1  2  1  0\\n  2  3  2  0\\n  2 23  1  0\\n  3  4  1  0\\n  4  5  1  0\\n  4 21  2  0\\n  5  6  1  0\\n  5 12  2  0\\n  6  7  2  0\\n  6 11  1  0\\n  7  8  1  0\\n  8  9  2  0\\n  9 10  1  0\\n 10 11  2  0\\n 12 13  1  0\\n 13 14  1  0\\n 13 15  1  0\\n 15 16  1  0\\n 15 20  2  0\\n 16 17  1  0\\n 16 21  1  0\\n 17 18  1  0\\n 17 19  2  0\\n 19 20  1  0\\n 21 22  1  0\\n 22 23  2  0\\nM  END\\n\",\"sdf\");\n\tviewer_1650901925974395.setStyle({\"model\": 0},{\"stick\": {\"colorscheme\": \"lightgreyCarbon\"}});\n\tviewer_1650901925974395.setStyle({\"model\": 1},{\"stick\": {\"colorscheme\": \"purpleCarbon\"}});\n\tviewer_1650901925974395.setStyle({\"model\": 2},{\"stick\": {\"colorscheme\": \"greyCarbon\"}});\n\tviewer_1650901925974395.zoomTo();\nviewer_1650901925974395.render();\n});\n</script>",
      "text/html": [
       "<div id=\"3dmolviewer_1650901925974395\"  style=\"position: relative; width: 640px; height: 480px\">\n",
       "        <p id=\"3dmolwarning_1650901925974395\" style=\"background-color:#ffcccc;color:black\">You appear to be running in JupyterLab (or JavaScript failed to load for some other reason).  You need to install the 3dmol extension: <br>\n",
       "        <tt>jupyter labextension install jupyterlab_3dmol</tt></p>\n",
       "        </div>\n",
       "<script>\n",
       "\n",
       "var loadScriptAsync = function(uri){\n",
       "  return new Promise((resolve, reject) => {\n",
       "    var tag = document.createElement('script');\n",
       "    tag.src = uri;\n",
       "    tag.async = true;\n",
       "    tag.onload = () => {\n",
       "      resolve();\n",
       "    };\n",
       "  var firstScriptTag = document.getElementsByTagName('script')[0];\n",
       "  firstScriptTag.parentNode.insertBefore(tag, firstScriptTag);\n",
       "});\n",
       "};\n",
       "\n",
       "if(typeof $3Dmolpromise === 'undefined') {\n",
       "$3Dmolpromise = null;\n",
       "  $3Dmolpromise = loadScriptAsync('https://3dmol.org/build/3Dmol.js');\n",
       "}\n",
       "\n",
       "var viewer_1650901925974395 = null;\n",
       "var warn = document.getElementById(\"3dmolwarning_1650901925974395\");\n",
       "if(warn) {\n",
       "    warn.parentNode.removeChild(warn);\n",
       "}\n",
       "$3Dmolpromise.then(function() {\n",
       "viewer_1650901925974395 = $3Dmol.createViewer($(\"#3dmolviewer_1650901925974395\"),{backgroundColor:\"white\"});\n",
       "viewer_1650901925974395.zoomTo();\n",
       "\tviewer_1650901925974395.addModel(\"\\n     RDKit          3D\\n\\n 10 11  0  0  0  0  0  0  0  0999 V2000\\n   -2.1829    1.0631    0.3381 N   0  0  0  0  0  0  0  0  0  0  0  0\\n   -2.1976   -0.2463    0.0733 C   0  0  0  0  0  0  0  0  0  0  0  0\\n   -1.0687   -1.0097   -0.1448 C   0  0  0  0  0  0  0  0  0  0  0  0\\n    0.1579   -0.4058   -0.0912 N   0  0  0  0  0  0  0  0  0  0  0  0\\n    1.2523   -1.0946   -0.2922 N   0  0  0  0  0  0  0  0  0  0  0  0\\n    2.4812   -0.6859   -0.2783 N   0  0  0  0  0  0  0  0  0  0  0  0\\n    2.9420    0.5437   -0.0548 C   0  0  0  0  0  0  0  0  0  0  0  0\\n    1.7075    1.6876    0.2464 S   0  0  0  0  0  0  0  0  0  0  0  0\\n    0.1325    0.9888    0.1931 C   0  0  0  0  0  0  0  0  0  0  0  0\\n   -1.0099    1.6697    0.3952 N   0  0  0  0  0  0  0  0  0  0  0  0\\n  1  2  1  0\\n  2  3  2  0\\n  3  4  1  0\\n  4  5  1  0\\n  5  6  1  0\\n  6  7  2  0\\n  7  8  1  0\\n  8  9  1  0\\n  9 10  2  0\\n 10  1  1  0\\n  9  4  1  0\\nM  END\\n\",\"sdf\");\n",
       "\tviewer_1650901925974395.addModel(\"\\n     RDKit          3D\\n\\n 10 11  0  0  0  0  0  0  0  0999 V2000\\n   -0.7097    0.3623   15.6502 N   0  0  0  0  0  0  0  0  0  0  0  0\\n   -1.0525   -0.8137   15.1170 C   0  0  0  0  0  0  0  0  0  0  0  0\\n   -0.2984   -1.4951   14.1833 C   0  0  0  0  0  0  0  0  0  0  0  0\\n    0.8826   -0.9482   13.7611 N   0  0  0  0  0  0  0  0  0  0  0  0\\n    1.6266   -1.5627   12.8772 N   0  0  0  0  0  0  0  0  0  0  0  0\\n    2.7602   -1.1911   12.3731 N   0  0  0  0  0  0  0  0  0  0  0  0\\n    3.4569   -0.0850   12.6289 C   0  0  0  0  0  0  0  0  0  0  0  0\\n    2.7103    0.9377   13.7777 S   0  0  0  0  0  0  0  0  0  0  0  0\\n    1.2132    0.3042   14.3515 C   0  0  0  0  0  0  0  0  0  0  0  0\\n    0.4270    0.9115   15.2584 N   0  0  0  0  0  0  0  0  0  0  0  0\\n  1  2  1  0\\n  2  3  2  0\\n  3  4  1  0\\n  4  5  1  0\\n  5  6  1  0\\n  6  7  2  0\\n  7  8  1  0\\n  8  9  1  0\\n  9 10  2  0\\n 10  1  1  0\\n  9  4  1  0\\nM  END\\n\",\"sdf\");\n",
       "\tviewer_1650901925974395.addModel(\"BRD4, Ligand 7\\n     RDKit          3D\\n\\n 23 26  0  0  0  0  0  0  0  0999 V2000\\n    3.2590    2.9010   13.4290 Cl  0  0  0  0  0  0  0  0  0  0  0  0\\n    2.9360    1.2890   12.8120 C   0  0  0  0  0  0  0  0  0  0  0  0\\n    2.3430    0.3620   13.6330 C   0  0  0  0  0  0  0  0  0  0  0  0\\n    2.0690   -0.9160   13.1160 C   0  0  0  0  0  0  0  0  0  0  0  0\\n    1.4040   -1.9100   14.0170 C   0  0  0  0  0  0  0  0  0  0  0  0\\n    0.2390   -1.4510   14.8530 C   0  0  0  0  0  0  0  0  0  0  0  0\\n   -0.5130   -0.3110   14.5260 C   0  0  0  0  0  0  0  0  0  0  0  0\\n   -1.6410    0.0420   15.2720 C   0  0  0  0  0  0  0  0  0  0  0  0\\n   -2.0370   -0.7510   16.3420 C   0  0  0  0  0  0  0  0  0  0  0  0\\n   -1.3100   -1.9100   16.6370 C   0  0  0  0  0  0  0  0  0  0  0  0\\n   -0.1850   -2.2490   15.9160 C   0  0  0  0  0  0  0  0  0  0  0  0\\n    1.7010   -3.1700   13.9680 N   0  0  0  0  0  0  0  0  0  0  0  0\\n    2.7470   -3.7670   13.1430 N   0  0  0  0  0  0  0  0  0  0  0  0\\n    3.4820   -4.9110   13.6300 C   0  0  0  0  0  0  0  0  0  0  0  0\\n    2.4970   -3.6210   11.8170 C   0  0  0  0  0  0  0  0  0  0  0  0\\n    2.1950   -2.4930   11.2130 N   0  0  0  0  0  0  0  0  0  0  0  0\\n    1.8170   -2.7700    9.9500 C   0  0  0  0  0  0  0  0  0  0  0  0\\n    1.4340   -1.8400    8.8530 C   0  0  0  0  0  0  0  0  0  0  0  0\\n    1.8190   -4.0880    9.8010 N   0  0  0  0  0  0  0  0  0  0  0  0\\n    2.2650   -4.6660   11.0030 N   0  0  0  0  0  0  0  0  0  0  0  0\\n    2.4030   -1.2480   11.7870 C   0  0  0  0  0  0  0  0  0  0  0  0\\n    3.0600   -0.2560   11.0340 C   0  0  0  0  0  0  0  0  0  0  0  0\\n    3.3050    1.0110   11.5140 C   0  0  0  0  0  0  0  0  0  0  0  0\\n  1  2  1  0\\n  2  3  2  0\\n  2 23  1  0\\n  3  4  1  0\\n  4  5  1  0\\n  4 21  2  0\\n  5  6  1  0\\n  5 12  2  0\\n  6  7  2  0\\n  6 11  1  0\\n  7  8  1  0\\n  8  9  2  0\\n  9 10  1  0\\n 10 11  2  0\\n 12 13  1  0\\n 13 14  1  0\\n 13 15  1  0\\n 15 16  1  0\\n 15 20  2  0\\n 16 17  1  0\\n 16 21  1  0\\n 17 18  1  0\\n 17 19  2  0\\n 19 20  1  0\\n 21 22  1  0\\n 22 23  2  0\\nM  END\\n\",\"sdf\");\n",
       "\tviewer_1650901925974395.setStyle({\"model\": 0},{\"stick\": {\"colorscheme\": \"lightgreyCarbon\"}});\n",
       "\tviewer_1650901925974395.setStyle({\"model\": 1},{\"stick\": {\"colorscheme\": \"purpleCarbon\"}});\n",
       "\tviewer_1650901925974395.setStyle({\"model\": 2},{\"stick\": {\"colorscheme\": \"greyCarbon\"}});\n",
       "\tviewer_1650901925974395.zoomTo();\n",
       "viewer_1650901925974395.render();\n",
       "});\n",
       "</script>"
      ]
     },
     "metadata": {},
     "output_type": "display_data"
    },
    {
     "data": {
      "text/plain": [
       "<py3Dmol.view at 0x7fa871e6bf10>"
      ]
     },
     "metadata": {},
     "output_type": "display_data"
    },
    {
     "name": "stdout",
     "output_type": "stream",
     "text": [
      "1.4746268656716417\n"
     ]
    },
    {
     "data": {
      "application/3dmoljs_load.v0": "<div id=\"3dmolviewer_16509019259795985\"  style=\"position: relative; width: 640px; height: 480px\">\n        <p id=\"3dmolwarning_16509019259795985\" style=\"background-color:#ffcccc;color:black\">You appear to be running in JupyterLab (or JavaScript failed to load for some other reason).  You need to install the 3dmol extension: <br>\n        <tt>jupyter labextension install jupyterlab_3dmol</tt></p>\n        </div>\n<script>\n\nvar loadScriptAsync = function(uri){\n  return new Promise((resolve, reject) => {\n    var tag = document.createElement('script');\n    tag.src = uri;\n    tag.async = true;\n    tag.onload = () => {\n      resolve();\n    };\n  var firstScriptTag = document.getElementsByTagName('script')[0];\n  firstScriptTag.parentNode.insertBefore(tag, firstScriptTag);\n});\n};\n\nif(typeof $3Dmolpromise === 'undefined') {\n$3Dmolpromise = null;\n  $3Dmolpromise = loadScriptAsync('https://3dmol.org/build/3Dmol.js');\n}\n\nvar viewer_16509019259795985 = null;\nvar warn = document.getElementById(\"3dmolwarning_16509019259795985\");\nif(warn) {\n    warn.parentNode.removeChild(warn);\n}\n$3Dmolpromise.then(function() {\nviewer_16509019259795985 = $3Dmol.createViewer($(\"#3dmolviewer_16509019259795985\"),{backgroundColor:\"white\"});\nviewer_16509019259795985.zoomTo();\n\tviewer_16509019259795985.addModel(\"\\n     RDKit          3D\\n\\n 10 11  0  0  0  0  0  0  0  0999 V2000\\n    1.5615   -2.3331   -0.2031 O   0  0  0  0  0  0  0  0  0  0  0  0\\n    1.2693   -1.1229   -0.1016 C   0  0  0  0  0  0  0  0  0  0  0  0\\n    2.2579   -0.2221   -0.0352 N   0  0  0  0  0  0  0  0  0  0  0  0\\n    1.9080    1.0460    0.0714 N   0  0  0  0  0  0  0  0  0  0  0  0\\n    0.6444    1.4771    0.1163 C   0  0  0  0  0  0  0  0  0  0  0  0\\n   -0.3806    0.5592    0.0487 C   0  0  0  0  0  0  0  0  0  0  0  0\\n   -1.7764    0.6432    0.0661 C   0  0  0  0  0  0  0  0  0  0  0  0\\n   -2.2536   -0.6120   -0.0333 N   0  0  0  0  0  0  0  0  0  0  0  0\\n   -1.2299   -1.4436   -0.1091 N   0  0  0  0  0  0  0  0  0  0  0  0\\n   -0.0617   -0.7790   -0.0634 C   0  0  0  0  0  0  0  0  0  0  0  0\\n  1  2  2  0\\n  2  3  1  0\\n  3  4  1  0\\n  4  5  2  0\\n  5  6  1  0\\n  6  7  2  0\\n  7  8  1  0\\n  8  9  1  0\\n  9 10  2  0\\n 10  2  1  0\\n 10  6  1  0\\nM  END\\n\",\"sdf\");\n\tviewer_16509019259795985.addModel(\"\\n     RDKit          3D\\n\\n 10 11  0  0  0  0  0  0  0  0999 V2000\\n    2.1044   -3.4189   10.4169 O   0  0  0  0  0  0  0  0  0  0  0  0\\n    2.2324   -2.6000   11.3514 C   0  0  0  0  0  0  0  0  0  0  0  0\\n    2.2052   -1.2905   11.0724 N   0  0  0  0  0  0  0  0  0  0  0  0\\n    2.3437   -0.4578   12.0869 N   0  0  0  0  0  0  0  0  0  0  0  0\\n    2.5070   -0.8390   13.3568 C   0  0  0  0  0  0  0  0  0  0  0  0\\n    2.5365   -2.1835   13.6554 C   0  0  0  0  0  0  0  0  0  0  0  0\\n    2.6851   -2.9248   14.8318 C   0  0  0  0  0  0  0  0  0  0  0  0\\n    2.6315   -4.2270   14.4931 N   0  0  0  0  0  0  0  0  0  0  0  0\\n    2.4602   -4.3121   13.1859 N   0  0  0  0  0  0  0  0  0  0  0  0\\n    2.3955   -3.0914   12.6254 C   0  0  0  0  0  0  0  0  0  0  0  0\\n  1  2  2  0\\n  2  3  1  0\\n  3  4  1  0\\n  4  5  2  0\\n  5  6  1  0\\n  6  7  2  0\\n  7  8  1  0\\n  8  9  1  0\\n  9 10  2  0\\n 10  2  1  0\\n 10  6  1  0\\nM  END\\n\",\"sdf\");\n\tviewer_16509019259795985.addModel(\"BRD4, Ligand 7\\n     RDKit          3D\\n\\n 23 26  0  0  0  0  0  0  0  0999 V2000\\n    3.2590    2.9010   13.4290 Cl  0  0  0  0  0  0  0  0  0  0  0  0\\n    2.9360    1.2890   12.8120 C   0  0  0  0  0  0  0  0  0  0  0  0\\n    2.3430    0.3620   13.6330 C   0  0  0  0  0  0  0  0  0  0  0  0\\n    2.0690   -0.9160   13.1160 C   0  0  0  0  0  0  0  0  0  0  0  0\\n    1.4040   -1.9100   14.0170 C   0  0  0  0  0  0  0  0  0  0  0  0\\n    0.2390   -1.4510   14.8530 C   0  0  0  0  0  0  0  0  0  0  0  0\\n   -0.5130   -0.3110   14.5260 C   0  0  0  0  0  0  0  0  0  0  0  0\\n   -1.6410    0.0420   15.2720 C   0  0  0  0  0  0  0  0  0  0  0  0\\n   -2.0370   -0.7510   16.3420 C   0  0  0  0  0  0  0  0  0  0  0  0\\n   -1.3100   -1.9100   16.6370 C   0  0  0  0  0  0  0  0  0  0  0  0\\n   -0.1850   -2.2490   15.9160 C   0  0  0  0  0  0  0  0  0  0  0  0\\n    1.7010   -3.1700   13.9680 N   0  0  0  0  0  0  0  0  0  0  0  0\\n    2.7470   -3.7670   13.1430 N   0  0  0  0  0  0  0  0  0  0  0  0\\n    3.4820   -4.9110   13.6300 C   0  0  0  0  0  0  0  0  0  0  0  0\\n    2.4970   -3.6210   11.8170 C   0  0  0  0  0  0  0  0  0  0  0  0\\n    2.1950   -2.4930   11.2130 N   0  0  0  0  0  0  0  0  0  0  0  0\\n    1.8170   -2.7700    9.9500 C   0  0  0  0  0  0  0  0  0  0  0  0\\n    1.4340   -1.8400    8.8530 C   0  0  0  0  0  0  0  0  0  0  0  0\\n    1.8190   -4.0880    9.8010 N   0  0  0  0  0  0  0  0  0  0  0  0\\n    2.2650   -4.6660   11.0030 N   0  0  0  0  0  0  0  0  0  0  0  0\\n    2.4030   -1.2480   11.7870 C   0  0  0  0  0  0  0  0  0  0  0  0\\n    3.0600   -0.2560   11.0340 C   0  0  0  0  0  0  0  0  0  0  0  0\\n    3.3050    1.0110   11.5140 C   0  0  0  0  0  0  0  0  0  0  0  0\\n  1  2  1  0\\n  2  3  2  0\\n  2 23  1  0\\n  3  4  1  0\\n  4  5  1  0\\n  4 21  2  0\\n  5  6  1  0\\n  5 12  2  0\\n  6  7  2  0\\n  6 11  1  0\\n  7  8  1  0\\n  8  9  2  0\\n  9 10  1  0\\n 10 11  2  0\\n 12 13  1  0\\n 13 14  1  0\\n 13 15  1  0\\n 15 16  1  0\\n 15 20  2  0\\n 16 17  1  0\\n 16 21  1  0\\n 17 18  1  0\\n 17 19  2  0\\n 19 20  1  0\\n 21 22  1  0\\n 22 23  2  0\\nM  END\\n\",\"sdf\");\n\tviewer_16509019259795985.setStyle({\"model\": 0},{\"stick\": {\"colorscheme\": \"lightgreyCarbon\"}});\n\tviewer_16509019259795985.setStyle({\"model\": 1},{\"stick\": {\"colorscheme\": \"purpleCarbon\"}});\n\tviewer_16509019259795985.setStyle({\"model\": 2},{\"stick\": {\"colorscheme\": \"greyCarbon\"}});\n\tviewer_16509019259795985.zoomTo();\nviewer_16509019259795985.render();\n});\n</script>",
      "text/html": [
       "<div id=\"3dmolviewer_16509019259795985\"  style=\"position: relative; width: 640px; height: 480px\">\n",
       "        <p id=\"3dmolwarning_16509019259795985\" style=\"background-color:#ffcccc;color:black\">You appear to be running in JupyterLab (or JavaScript failed to load for some other reason).  You need to install the 3dmol extension: <br>\n",
       "        <tt>jupyter labextension install jupyterlab_3dmol</tt></p>\n",
       "        </div>\n",
       "<script>\n",
       "\n",
       "var loadScriptAsync = function(uri){\n",
       "  return new Promise((resolve, reject) => {\n",
       "    var tag = document.createElement('script');\n",
       "    tag.src = uri;\n",
       "    tag.async = true;\n",
       "    tag.onload = () => {\n",
       "      resolve();\n",
       "    };\n",
       "  var firstScriptTag = document.getElementsByTagName('script')[0];\n",
       "  firstScriptTag.parentNode.insertBefore(tag, firstScriptTag);\n",
       "});\n",
       "};\n",
       "\n",
       "if(typeof $3Dmolpromise === 'undefined') {\n",
       "$3Dmolpromise = null;\n",
       "  $3Dmolpromise = loadScriptAsync('https://3dmol.org/build/3Dmol.js');\n",
       "}\n",
       "\n",
       "var viewer_16509019259795985 = null;\n",
       "var warn = document.getElementById(\"3dmolwarning_16509019259795985\");\n",
       "if(warn) {\n",
       "    warn.parentNode.removeChild(warn);\n",
       "}\n",
       "$3Dmolpromise.then(function() {\n",
       "viewer_16509019259795985 = $3Dmol.createViewer($(\"#3dmolviewer_16509019259795985\"),{backgroundColor:\"white\"});\n",
       "viewer_16509019259795985.zoomTo();\n",
       "\tviewer_16509019259795985.addModel(\"\\n     RDKit          3D\\n\\n 10 11  0  0  0  0  0  0  0  0999 V2000\\n    1.5615   -2.3331   -0.2031 O   0  0  0  0  0  0  0  0  0  0  0  0\\n    1.2693   -1.1229   -0.1016 C   0  0  0  0  0  0  0  0  0  0  0  0\\n    2.2579   -0.2221   -0.0352 N   0  0  0  0  0  0  0  0  0  0  0  0\\n    1.9080    1.0460    0.0714 N   0  0  0  0  0  0  0  0  0  0  0  0\\n    0.6444    1.4771    0.1163 C   0  0  0  0  0  0  0  0  0  0  0  0\\n   -0.3806    0.5592    0.0487 C   0  0  0  0  0  0  0  0  0  0  0  0\\n   -1.7764    0.6432    0.0661 C   0  0  0  0  0  0  0  0  0  0  0  0\\n   -2.2536   -0.6120   -0.0333 N   0  0  0  0  0  0  0  0  0  0  0  0\\n   -1.2299   -1.4436   -0.1091 N   0  0  0  0  0  0  0  0  0  0  0  0\\n   -0.0617   -0.7790   -0.0634 C   0  0  0  0  0  0  0  0  0  0  0  0\\n  1  2  2  0\\n  2  3  1  0\\n  3  4  1  0\\n  4  5  2  0\\n  5  6  1  0\\n  6  7  2  0\\n  7  8  1  0\\n  8  9  1  0\\n  9 10  2  0\\n 10  2  1  0\\n 10  6  1  0\\nM  END\\n\",\"sdf\");\n",
       "\tviewer_16509019259795985.addModel(\"\\n     RDKit          3D\\n\\n 10 11  0  0  0  0  0  0  0  0999 V2000\\n    2.1044   -3.4189   10.4169 O   0  0  0  0  0  0  0  0  0  0  0  0\\n    2.2324   -2.6000   11.3514 C   0  0  0  0  0  0  0  0  0  0  0  0\\n    2.2052   -1.2905   11.0724 N   0  0  0  0  0  0  0  0  0  0  0  0\\n    2.3437   -0.4578   12.0869 N   0  0  0  0  0  0  0  0  0  0  0  0\\n    2.5070   -0.8390   13.3568 C   0  0  0  0  0  0  0  0  0  0  0  0\\n    2.5365   -2.1835   13.6554 C   0  0  0  0  0  0  0  0  0  0  0  0\\n    2.6851   -2.9248   14.8318 C   0  0  0  0  0  0  0  0  0  0  0  0\\n    2.6315   -4.2270   14.4931 N   0  0  0  0  0  0  0  0  0  0  0  0\\n    2.4602   -4.3121   13.1859 N   0  0  0  0  0  0  0  0  0  0  0  0\\n    2.3955   -3.0914   12.6254 C   0  0  0  0  0  0  0  0  0  0  0  0\\n  1  2  2  0\\n  2  3  1  0\\n  3  4  1  0\\n  4  5  2  0\\n  5  6  1  0\\n  6  7  2  0\\n  7  8  1  0\\n  8  9  1  0\\n  9 10  2  0\\n 10  2  1  0\\n 10  6  1  0\\nM  END\\n\",\"sdf\");\n",
       "\tviewer_16509019259795985.addModel(\"BRD4, Ligand 7\\n     RDKit          3D\\n\\n 23 26  0  0  0  0  0  0  0  0999 V2000\\n    3.2590    2.9010   13.4290 Cl  0  0  0  0  0  0  0  0  0  0  0  0\\n    2.9360    1.2890   12.8120 C   0  0  0  0  0  0  0  0  0  0  0  0\\n    2.3430    0.3620   13.6330 C   0  0  0  0  0  0  0  0  0  0  0  0\\n    2.0690   -0.9160   13.1160 C   0  0  0  0  0  0  0  0  0  0  0  0\\n    1.4040   -1.9100   14.0170 C   0  0  0  0  0  0  0  0  0  0  0  0\\n    0.2390   -1.4510   14.8530 C   0  0  0  0  0  0  0  0  0  0  0  0\\n   -0.5130   -0.3110   14.5260 C   0  0  0  0  0  0  0  0  0  0  0  0\\n   -1.6410    0.0420   15.2720 C   0  0  0  0  0  0  0  0  0  0  0  0\\n   -2.0370   -0.7510   16.3420 C   0  0  0  0  0  0  0  0  0  0  0  0\\n   -1.3100   -1.9100   16.6370 C   0  0  0  0  0  0  0  0  0  0  0  0\\n   -0.1850   -2.2490   15.9160 C   0  0  0  0  0  0  0  0  0  0  0  0\\n    1.7010   -3.1700   13.9680 N   0  0  0  0  0  0  0  0  0  0  0  0\\n    2.7470   -3.7670   13.1430 N   0  0  0  0  0  0  0  0  0  0  0  0\\n    3.4820   -4.9110   13.6300 C   0  0  0  0  0  0  0  0  0  0  0  0\\n    2.4970   -3.6210   11.8170 C   0  0  0  0  0  0  0  0  0  0  0  0\\n    2.1950   -2.4930   11.2130 N   0  0  0  0  0  0  0  0  0  0  0  0\\n    1.8170   -2.7700    9.9500 C   0  0  0  0  0  0  0  0  0  0  0  0\\n    1.4340   -1.8400    8.8530 C   0  0  0  0  0  0  0  0  0  0  0  0\\n    1.8190   -4.0880    9.8010 N   0  0  0  0  0  0  0  0  0  0  0  0\\n    2.2650   -4.6660   11.0030 N   0  0  0  0  0  0  0  0  0  0  0  0\\n    2.4030   -1.2480   11.7870 C   0  0  0  0  0  0  0  0  0  0  0  0\\n    3.0600   -0.2560   11.0340 C   0  0  0  0  0  0  0  0  0  0  0  0\\n    3.3050    1.0110   11.5140 C   0  0  0  0  0  0  0  0  0  0  0  0\\n  1  2  1  0\\n  2  3  2  0\\n  2 23  1  0\\n  3  4  1  0\\n  4  5  1  0\\n  4 21  2  0\\n  5  6  1  0\\n  5 12  2  0\\n  6  7  2  0\\n  6 11  1  0\\n  7  8  1  0\\n  8  9  2  0\\n  9 10  1  0\\n 10 11  2  0\\n 12 13  1  0\\n 13 14  1  0\\n 13 15  1  0\\n 15 16  1  0\\n 15 20  2  0\\n 16 17  1  0\\n 16 21  1  0\\n 17 18  1  0\\n 17 19  2  0\\n 19 20  1  0\\n 21 22  1  0\\n 22 23  2  0\\nM  END\\n\",\"sdf\");\n",
       "\tviewer_16509019259795985.setStyle({\"model\": 0},{\"stick\": {\"colorscheme\": \"lightgreyCarbon\"}});\n",
       "\tviewer_16509019259795985.setStyle({\"model\": 1},{\"stick\": {\"colorscheme\": \"purpleCarbon\"}});\n",
       "\tviewer_16509019259795985.setStyle({\"model\": 2},{\"stick\": {\"colorscheme\": \"greyCarbon\"}});\n",
       "\tviewer_16509019259795985.zoomTo();\n",
       "viewer_16509019259795985.render();\n",
       "});\n",
       "</script>"
      ]
     },
     "metadata": {},
     "output_type": "display_data"
    },
    {
     "data": {
      "text/plain": [
       "<py3Dmol.view at 0x7fa871e6b6a0>"
      ]
     },
     "metadata": {},
     "output_type": "display_data"
    },
    {
     "name": "stdout",
     "output_type": "stream",
     "text": [
      "1.4697406340057637\n"
     ]
    },
    {
     "data": {
      "application/3dmoljs_load.v0": "<div id=\"3dmolviewer_16509019259837425\"  style=\"position: relative; width: 640px; height: 480px\">\n        <p id=\"3dmolwarning_16509019259837425\" style=\"background-color:#ffcccc;color:black\">You appear to be running in JupyterLab (or JavaScript failed to load for some other reason).  You need to install the 3dmol extension: <br>\n        <tt>jupyter labextension install jupyterlab_3dmol</tt></p>\n        </div>\n<script>\n\nvar loadScriptAsync = function(uri){\n  return new Promise((resolve, reject) => {\n    var tag = document.createElement('script');\n    tag.src = uri;\n    tag.async = true;\n    tag.onload = () => {\n      resolve();\n    };\n  var firstScriptTag = document.getElementsByTagName('script')[0];\n  firstScriptTag.parentNode.insertBefore(tag, firstScriptTag);\n});\n};\n\nif(typeof $3Dmolpromise === 'undefined') {\n$3Dmolpromise = null;\n  $3Dmolpromise = loadScriptAsync('https://3dmol.org/build/3Dmol.js');\n}\n\nvar viewer_16509019259837425 = null;\nvar warn = document.getElementById(\"3dmolwarning_16509019259837425\");\nif(warn) {\n    warn.parentNode.removeChild(warn);\n}\n$3Dmolpromise.then(function() {\nviewer_16509019259837425 = $3Dmol.createViewer($(\"#3dmolviewer_16509019259837425\"),{backgroundColor:\"white\"});\nviewer_16509019259837425.zoomTo();\n\tviewer_16509019259837425.addModel(\"\\n     RDKit          3D\\n\\n 10 11  0  0  0  0  0  0  0  0999 V2000\\n   -3.2477   -0.2303    0.0507 O   0  0  0  0  0  0  0  0  0  0  0  0\\n   -1.9952   -0.0667    0.0295 C   0  0  0  0  0  0  0  0  0  0  0  0\\n   -1.1184   -1.0747    0.0393 N   0  0  0  0  0  0  0  0  0  0  0  0\\n    0.2259   -0.8919    0.0164 C   0  0  0  0  0  0  0  0  0  0  0  0\\n    1.2688   -1.6733    0.0188 O   0  0  0  0  0  0  0  0  0  0  0  0\\n    2.3718   -0.9853   -0.0118 N   0  0  0  0  0  0  0  0  0  0  0  0\\n    2.0897    0.3310   -0.0366 C   0  0  0  0  0  0  0  0  0  0  0  0\\n    0.7090    0.3996   -0.0187 C   0  0  0  0  0  0  0  0  0  0  0  0\\n   -0.2169    1.4222   -0.0281 C   0  0  0  0  0  0  0  0  0  0  0  0\\n   -1.5496    1.2071   -0.0047 N   0  0  0  0  0  0  0  0  0  0  0  0\\n  1  2  2  0\\n  2  3  1  0\\n  3  4  1  0\\n  4  5  1  0\\n  5  6  1  0\\n  6  7  2  0\\n  7  8  1  0\\n  8  9  1  0\\n  9 10  2  0\\n 10  2  1  0\\n  8  4  2  0\\nM  END\\n\",\"sdf\");\n\tviewer_16509019259837425.addModel(\"\\n     RDKit          3D\\n\\n 10 11  0  0  0  0  0  0  0  0999 V2000\\n    2.0716   -4.1106   13.1085 O   0  0  0  0  0  0  0  0  0  0  0  0\\n    2.2742   -2.8790   12.9134 C   0  0  0  0  0  0  0  0  0  0  0  0\\n    2.3965   -1.9854   13.8991 N   0  0  0  0  0  0  0  0  0  0  0  0\\n    2.6140   -0.6637   13.6825 C   0  0  0  0  0  0  0  0  0  0  0  0\\n    2.7669    0.3874   14.4375 O   0  0  0  0  0  0  0  0  0  0  0  0\\n    2.9547    1.4568   13.7220 N   0  0  0  0  0  0  0  0  0  0  0  0\\n    2.9324    1.1416   12.4132 C   0  0  0  0  0  0  0  0  0  0  0  0\\n    2.7134   -0.2230   12.3793 C   0  0  0  0  0  0  0  0  0  0  0  0\\n    2.5834   -1.1654   11.3803 C   0  0  0  0  0  0  0  0  0  0  0  0\\n    2.3672   -2.4748   11.6288 N   0  0  0  0  0  0  0  0  0  0  0  0\\n  1  2  2  0\\n  2  3  1  0\\n  3  4  1  0\\n  4  5  1  0\\n  5  6  1  0\\n  6  7  2  0\\n  7  8  1  0\\n  8  9  1  0\\n  9 10  2  0\\n 10  2  1  0\\n  8  4  2  0\\nM  END\\n\",\"sdf\");\n\tviewer_16509019259837425.addModel(\"BRD4, Ligand 7\\n     RDKit          3D\\n\\n 23 26  0  0  0  0  0  0  0  0999 V2000\\n    3.2590    2.9010   13.4290 Cl  0  0  0  0  0  0  0  0  0  0  0  0\\n    2.9360    1.2890   12.8120 C   0  0  0  0  0  0  0  0  0  0  0  0\\n    2.3430    0.3620   13.6330 C   0  0  0  0  0  0  0  0  0  0  0  0\\n    2.0690   -0.9160   13.1160 C   0  0  0  0  0  0  0  0  0  0  0  0\\n    1.4040   -1.9100   14.0170 C   0  0  0  0  0  0  0  0  0  0  0  0\\n    0.2390   -1.4510   14.8530 C   0  0  0  0  0  0  0  0  0  0  0  0\\n   -0.5130   -0.3110   14.5260 C   0  0  0  0  0  0  0  0  0  0  0  0\\n   -1.6410    0.0420   15.2720 C   0  0  0  0  0  0  0  0  0  0  0  0\\n   -2.0370   -0.7510   16.3420 C   0  0  0  0  0  0  0  0  0  0  0  0\\n   -1.3100   -1.9100   16.6370 C   0  0  0  0  0  0  0  0  0  0  0  0\\n   -0.1850   -2.2490   15.9160 C   0  0  0  0  0  0  0  0  0  0  0  0\\n    1.7010   -3.1700   13.9680 N   0  0  0  0  0  0  0  0  0  0  0  0\\n    2.7470   -3.7670   13.1430 N   0  0  0  0  0  0  0  0  0  0  0  0\\n    3.4820   -4.9110   13.6300 C   0  0  0  0  0  0  0  0  0  0  0  0\\n    2.4970   -3.6210   11.8170 C   0  0  0  0  0  0  0  0  0  0  0  0\\n    2.1950   -2.4930   11.2130 N   0  0  0  0  0  0  0  0  0  0  0  0\\n    1.8170   -2.7700    9.9500 C   0  0  0  0  0  0  0  0  0  0  0  0\\n    1.4340   -1.8400    8.8530 C   0  0  0  0  0  0  0  0  0  0  0  0\\n    1.8190   -4.0880    9.8010 N   0  0  0  0  0  0  0  0  0  0  0  0\\n    2.2650   -4.6660   11.0030 N   0  0  0  0  0  0  0  0  0  0  0  0\\n    2.4030   -1.2480   11.7870 C   0  0  0  0  0  0  0  0  0  0  0  0\\n    3.0600   -0.2560   11.0340 C   0  0  0  0  0  0  0  0  0  0  0  0\\n    3.3050    1.0110   11.5140 C   0  0  0  0  0  0  0  0  0  0  0  0\\n  1  2  1  0\\n  2  3  2  0\\n  2 23  1  0\\n  3  4  1  0\\n  4  5  1  0\\n  4 21  2  0\\n  5  6  1  0\\n  5 12  2  0\\n  6  7  2  0\\n  6 11  1  0\\n  7  8  1  0\\n  8  9  2  0\\n  9 10  1  0\\n 10 11  2  0\\n 12 13  1  0\\n 13 14  1  0\\n 13 15  1  0\\n 15 16  1  0\\n 15 20  2  0\\n 16 17  1  0\\n 16 21  1  0\\n 17 18  1  0\\n 17 19  2  0\\n 19 20  1  0\\n 21 22  1  0\\n 22 23  2  0\\nM  END\\n\",\"sdf\");\n\tviewer_16509019259837425.setStyle({\"model\": 0},{\"stick\": {\"colorscheme\": \"lightgreyCarbon\"}});\n\tviewer_16509019259837425.setStyle({\"model\": 1},{\"stick\": {\"colorscheme\": \"purpleCarbon\"}});\n\tviewer_16509019259837425.setStyle({\"model\": 2},{\"stick\": {\"colorscheme\": \"greyCarbon\"}});\n\tviewer_16509019259837425.zoomTo();\nviewer_16509019259837425.render();\n});\n</script>",
      "text/html": [
       "<div id=\"3dmolviewer_16509019259837425\"  style=\"position: relative; width: 640px; height: 480px\">\n",
       "        <p id=\"3dmolwarning_16509019259837425\" style=\"background-color:#ffcccc;color:black\">You appear to be running in JupyterLab (or JavaScript failed to load for some other reason).  You need to install the 3dmol extension: <br>\n",
       "        <tt>jupyter labextension install jupyterlab_3dmol</tt></p>\n",
       "        </div>\n",
       "<script>\n",
       "\n",
       "var loadScriptAsync = function(uri){\n",
       "  return new Promise((resolve, reject) => {\n",
       "    var tag = document.createElement('script');\n",
       "    tag.src = uri;\n",
       "    tag.async = true;\n",
       "    tag.onload = () => {\n",
       "      resolve();\n",
       "    };\n",
       "  var firstScriptTag = document.getElementsByTagName('script')[0];\n",
       "  firstScriptTag.parentNode.insertBefore(tag, firstScriptTag);\n",
       "});\n",
       "};\n",
       "\n",
       "if(typeof $3Dmolpromise === 'undefined') {\n",
       "$3Dmolpromise = null;\n",
       "  $3Dmolpromise = loadScriptAsync('https://3dmol.org/build/3Dmol.js');\n",
       "}\n",
       "\n",
       "var viewer_16509019259837425 = null;\n",
       "var warn = document.getElementById(\"3dmolwarning_16509019259837425\");\n",
       "if(warn) {\n",
       "    warn.parentNode.removeChild(warn);\n",
       "}\n",
       "$3Dmolpromise.then(function() {\n",
       "viewer_16509019259837425 = $3Dmol.createViewer($(\"#3dmolviewer_16509019259837425\"),{backgroundColor:\"white\"});\n",
       "viewer_16509019259837425.zoomTo();\n",
       "\tviewer_16509019259837425.addModel(\"\\n     RDKit          3D\\n\\n 10 11  0  0  0  0  0  0  0  0999 V2000\\n   -3.2477   -0.2303    0.0507 O   0  0  0  0  0  0  0  0  0  0  0  0\\n   -1.9952   -0.0667    0.0295 C   0  0  0  0  0  0  0  0  0  0  0  0\\n   -1.1184   -1.0747    0.0393 N   0  0  0  0  0  0  0  0  0  0  0  0\\n    0.2259   -0.8919    0.0164 C   0  0  0  0  0  0  0  0  0  0  0  0\\n    1.2688   -1.6733    0.0188 O   0  0  0  0  0  0  0  0  0  0  0  0\\n    2.3718   -0.9853   -0.0118 N   0  0  0  0  0  0  0  0  0  0  0  0\\n    2.0897    0.3310   -0.0366 C   0  0  0  0  0  0  0  0  0  0  0  0\\n    0.7090    0.3996   -0.0187 C   0  0  0  0  0  0  0  0  0  0  0  0\\n   -0.2169    1.4222   -0.0281 C   0  0  0  0  0  0  0  0  0  0  0  0\\n   -1.5496    1.2071   -0.0047 N   0  0  0  0  0  0  0  0  0  0  0  0\\n  1  2  2  0\\n  2  3  1  0\\n  3  4  1  0\\n  4  5  1  0\\n  5  6  1  0\\n  6  7  2  0\\n  7  8  1  0\\n  8  9  1  0\\n  9 10  2  0\\n 10  2  1  0\\n  8  4  2  0\\nM  END\\n\",\"sdf\");\n",
       "\tviewer_16509019259837425.addModel(\"\\n     RDKit          3D\\n\\n 10 11  0  0  0  0  0  0  0  0999 V2000\\n    2.0716   -4.1106   13.1085 O   0  0  0  0  0  0  0  0  0  0  0  0\\n    2.2742   -2.8790   12.9134 C   0  0  0  0  0  0  0  0  0  0  0  0\\n    2.3965   -1.9854   13.8991 N   0  0  0  0  0  0  0  0  0  0  0  0\\n    2.6140   -0.6637   13.6825 C   0  0  0  0  0  0  0  0  0  0  0  0\\n    2.7669    0.3874   14.4375 O   0  0  0  0  0  0  0  0  0  0  0  0\\n    2.9547    1.4568   13.7220 N   0  0  0  0  0  0  0  0  0  0  0  0\\n    2.9324    1.1416   12.4132 C   0  0  0  0  0  0  0  0  0  0  0  0\\n    2.7134   -0.2230   12.3793 C   0  0  0  0  0  0  0  0  0  0  0  0\\n    2.5834   -1.1654   11.3803 C   0  0  0  0  0  0  0  0  0  0  0  0\\n    2.3672   -2.4748   11.6288 N   0  0  0  0  0  0  0  0  0  0  0  0\\n  1  2  2  0\\n  2  3  1  0\\n  3  4  1  0\\n  4  5  1  0\\n  5  6  1  0\\n  6  7  2  0\\n  7  8  1  0\\n  8  9  1  0\\n  9 10  2  0\\n 10  2  1  0\\n  8  4  2  0\\nM  END\\n\",\"sdf\");\n",
       "\tviewer_16509019259837425.addModel(\"BRD4, Ligand 7\\n     RDKit          3D\\n\\n 23 26  0  0  0  0  0  0  0  0999 V2000\\n    3.2590    2.9010   13.4290 Cl  0  0  0  0  0  0  0  0  0  0  0  0\\n    2.9360    1.2890   12.8120 C   0  0  0  0  0  0  0  0  0  0  0  0\\n    2.3430    0.3620   13.6330 C   0  0  0  0  0  0  0  0  0  0  0  0\\n    2.0690   -0.9160   13.1160 C   0  0  0  0  0  0  0  0  0  0  0  0\\n    1.4040   -1.9100   14.0170 C   0  0  0  0  0  0  0  0  0  0  0  0\\n    0.2390   -1.4510   14.8530 C   0  0  0  0  0  0  0  0  0  0  0  0\\n   -0.5130   -0.3110   14.5260 C   0  0  0  0  0  0  0  0  0  0  0  0\\n   -1.6410    0.0420   15.2720 C   0  0  0  0  0  0  0  0  0  0  0  0\\n   -2.0370   -0.7510   16.3420 C   0  0  0  0  0  0  0  0  0  0  0  0\\n   -1.3100   -1.9100   16.6370 C   0  0  0  0  0  0  0  0  0  0  0  0\\n   -0.1850   -2.2490   15.9160 C   0  0  0  0  0  0  0  0  0  0  0  0\\n    1.7010   -3.1700   13.9680 N   0  0  0  0  0  0  0  0  0  0  0  0\\n    2.7470   -3.7670   13.1430 N   0  0  0  0  0  0  0  0  0  0  0  0\\n    3.4820   -4.9110   13.6300 C   0  0  0  0  0  0  0  0  0  0  0  0\\n    2.4970   -3.6210   11.8170 C   0  0  0  0  0  0  0  0  0  0  0  0\\n    2.1950   -2.4930   11.2130 N   0  0  0  0  0  0  0  0  0  0  0  0\\n    1.8170   -2.7700    9.9500 C   0  0  0  0  0  0  0  0  0  0  0  0\\n    1.4340   -1.8400    8.8530 C   0  0  0  0  0  0  0  0  0  0  0  0\\n    1.8190   -4.0880    9.8010 N   0  0  0  0  0  0  0  0  0  0  0  0\\n    2.2650   -4.6660   11.0030 N   0  0  0  0  0  0  0  0  0  0  0  0\\n    2.4030   -1.2480   11.7870 C   0  0  0  0  0  0  0  0  0  0  0  0\\n    3.0600   -0.2560   11.0340 C   0  0  0  0  0  0  0  0  0  0  0  0\\n    3.3050    1.0110   11.5140 C   0  0  0  0  0  0  0  0  0  0  0  0\\n  1  2  1  0\\n  2  3  2  0\\n  2 23  1  0\\n  3  4  1  0\\n  4  5  1  0\\n  4 21  2  0\\n  5  6  1  0\\n  5 12  2  0\\n  6  7  2  0\\n  6 11  1  0\\n  7  8  1  0\\n  8  9  2  0\\n  9 10  1  0\\n 10 11  2  0\\n 12 13  1  0\\n 13 14  1  0\\n 13 15  1  0\\n 15 16  1  0\\n 15 20  2  0\\n 16 17  1  0\\n 16 21  1  0\\n 17 18  1  0\\n 17 19  2  0\\n 19 20  1  0\\n 21 22  1  0\\n 22 23  2  0\\nM  END\\n\",\"sdf\");\n",
       "\tviewer_16509019259837425.setStyle({\"model\": 0},{\"stick\": {\"colorscheme\": \"lightgreyCarbon\"}});\n",
       "\tviewer_16509019259837425.setStyle({\"model\": 1},{\"stick\": {\"colorscheme\": \"purpleCarbon\"}});\n",
       "\tviewer_16509019259837425.setStyle({\"model\": 2},{\"stick\": {\"colorscheme\": \"greyCarbon\"}});\n",
       "\tviewer_16509019259837425.zoomTo();\n",
       "viewer_16509019259837425.render();\n",
       "});\n",
       "</script>"
      ]
     },
     "metadata": {},
     "output_type": "display_data"
    },
    {
     "data": {
      "text/plain": [
       "<py3Dmol.view at 0x7fa871e6b100>"
      ]
     },
     "metadata": {},
     "output_type": "display_data"
    },
    {
     "name": "stdout",
     "output_type": "stream",
     "text": [
      "1.4598765432098766\n"
     ]
    },
    {
     "data": {
      "application/3dmoljs_load.v0": "<div id=\"3dmolviewer_16509019259874985\"  style=\"position: relative; width: 640px; height: 480px\">\n        <p id=\"3dmolwarning_16509019259874985\" style=\"background-color:#ffcccc;color:black\">You appear to be running in JupyterLab (or JavaScript failed to load for some other reason).  You need to install the 3dmol extension: <br>\n        <tt>jupyter labextension install jupyterlab_3dmol</tt></p>\n        </div>\n<script>\n\nvar loadScriptAsync = function(uri){\n  return new Promise((resolve, reject) => {\n    var tag = document.createElement('script');\n    tag.src = uri;\n    tag.async = true;\n    tag.onload = () => {\n      resolve();\n    };\n  var firstScriptTag = document.getElementsByTagName('script')[0];\n  firstScriptTag.parentNode.insertBefore(tag, firstScriptTag);\n});\n};\n\nif(typeof $3Dmolpromise === 'undefined') {\n$3Dmolpromise = null;\n  $3Dmolpromise = loadScriptAsync('https://3dmol.org/build/3Dmol.js');\n}\n\nvar viewer_16509019259874985 = null;\nvar warn = document.getElementById(\"3dmolwarning_16509019259874985\");\nif(warn) {\n    warn.parentNode.removeChild(warn);\n}\n$3Dmolpromise.then(function() {\nviewer_16509019259874985 = $3Dmol.createViewer($(\"#3dmolviewer_16509019259874985\"),{backgroundColor:\"white\"});\nviewer_16509019259874985.zoomTo();\n\tviewer_16509019259874985.addModel(\"\\n     RDKit          3D\\n\\n 10 11  0  0  0  0  0  0  0  0999 V2000\\n    1.6520   -2.2219    0.1796 O   0  0  0  0  0  0  0  0  0  0  0  0\\n    1.3826   -0.9828    0.0910 C   0  0  0  0  0  0  0  0  0  0  0  0\\n    2.3339   -0.0098    0.0422 C   0  0  0  0  0  0  0  0  0  0  0  0\\n    1.7091    1.1679   -0.0485 N   0  0  0  0  0  0  0  0  0  0  0  0\\n    0.3553    0.9646   -0.0589 C   0  0  0  0  0  0  0  0  0  0  0  0\\n   -0.6471    1.9240   -0.1415 C   0  0  0  0  0  0  0  0  0  0  0  0\\n   -2.2321    1.3065   -0.1280 S   0  0  0  0  0  0  0  0  0  0  0  0\\n   -2.2938   -0.3897   -0.0145 C   0  0  0  0  0  0  0  0  0  0  0  0\\n   -1.0793   -1.0238    0.0500 C   0  0  0  0  0  0  0  0  0  0  0  0\\n    0.1247   -0.4299    0.0313 N   0  0  0  0  0  0  0  0  0  0  0  0\\n  1  2  2  0\\n  2  3  1  0\\n  3  4  2  0\\n  4  5  1  0\\n  5  6  2  0\\n  6  7  1  0\\n  7  8  1  0\\n  8  9  2  0\\n  9 10  1  0\\n 10  2  1  0\\n 10  5  1  0\\nM  END\\n\",\"sdf\");\n\tviewer_16509019259874985.addModel(\"\\n     RDKit          3D\\n\\n 10 11  0  0  0  0  0  0  0  0999 V2000\\n    2.3603   -0.5864   12.9626 O   0  0  0  0  0  0  0  0  0  0  0  0\\n    1.8574   -1.3364   13.8573 C   0  0  0  0  0  0  0  0  0  0  0  0\\n    2.4702   -2.4577   14.3277 C   0  0  0  0  0  0  0  0  0  0  0  0\\n    1.6727   -3.0018   15.2515 N   0  0  0  0  0  0  0  0  0  0  0  0\\n    0.5437   -2.2388   15.3837 C   0  0  0  0  0  0  0  0  0  0  0  0\\n   -0.5336   -2.4563   16.2347 C   0  0  0  0  0  0  0  0  0  0  0  0\\n   -1.7729   -1.2956   16.1319 S   0  0  0  0  0  0  0  0  0  0  0  0\\n   -1.4575   -0.0717   14.9932 C   0  0  0  0  0  0  0  0  0  0  0  0\\n   -0.2672   -0.1807   14.3206 C   0  0  0  0  0  0  0  0  0  0  0  0\\n    0.6471   -1.1504   14.4834 N   0  0  0  0  0  0  0  0  0  0  0  0\\n  1  2  2  0\\n  2  3  1  0\\n  3  4  2  0\\n  4  5  1  0\\n  5  6  2  0\\n  6  7  1  0\\n  7  8  1  0\\n  8  9  2  0\\n  9 10  1  0\\n 10  2  1  0\\n 10  5  1  0\\nM  END\\n\",\"sdf\");\n\tviewer_16509019259874985.addModel(\"BRD4, Ligand 7\\n     RDKit          3D\\n\\n 23 26  0  0  0  0  0  0  0  0999 V2000\\n    3.2590    2.9010   13.4290 Cl  0  0  0  0  0  0  0  0  0  0  0  0\\n    2.9360    1.2890   12.8120 C   0  0  0  0  0  0  0  0  0  0  0  0\\n    2.3430    0.3620   13.6330 C   0  0  0  0  0  0  0  0  0  0  0  0\\n    2.0690   -0.9160   13.1160 C   0  0  0  0  0  0  0  0  0  0  0  0\\n    1.4040   -1.9100   14.0170 C   0  0  0  0  0  0  0  0  0  0  0  0\\n    0.2390   -1.4510   14.8530 C   0  0  0  0  0  0  0  0  0  0  0  0\\n   -0.5130   -0.3110   14.5260 C   0  0  0  0  0  0  0  0  0  0  0  0\\n   -1.6410    0.0420   15.2720 C   0  0  0  0  0  0  0  0  0  0  0  0\\n   -2.0370   -0.7510   16.3420 C   0  0  0  0  0  0  0  0  0  0  0  0\\n   -1.3100   -1.9100   16.6370 C   0  0  0  0  0  0  0  0  0  0  0  0\\n   -0.1850   -2.2490   15.9160 C   0  0  0  0  0  0  0  0  0  0  0  0\\n    1.7010   -3.1700   13.9680 N   0  0  0  0  0  0  0  0  0  0  0  0\\n    2.7470   -3.7670   13.1430 N   0  0  0  0  0  0  0  0  0  0  0  0\\n    3.4820   -4.9110   13.6300 C   0  0  0  0  0  0  0  0  0  0  0  0\\n    2.4970   -3.6210   11.8170 C   0  0  0  0  0  0  0  0  0  0  0  0\\n    2.1950   -2.4930   11.2130 N   0  0  0  0  0  0  0  0  0  0  0  0\\n    1.8170   -2.7700    9.9500 C   0  0  0  0  0  0  0  0  0  0  0  0\\n    1.4340   -1.8400    8.8530 C   0  0  0  0  0  0  0  0  0  0  0  0\\n    1.8190   -4.0880    9.8010 N   0  0  0  0  0  0  0  0  0  0  0  0\\n    2.2650   -4.6660   11.0030 N   0  0  0  0  0  0  0  0  0  0  0  0\\n    2.4030   -1.2480   11.7870 C   0  0  0  0  0  0  0  0  0  0  0  0\\n    3.0600   -0.2560   11.0340 C   0  0  0  0  0  0  0  0  0  0  0  0\\n    3.3050    1.0110   11.5140 C   0  0  0  0  0  0  0  0  0  0  0  0\\n  1  2  1  0\\n  2  3  2  0\\n  2 23  1  0\\n  3  4  1  0\\n  4  5  1  0\\n  4 21  2  0\\n  5  6  1  0\\n  5 12  2  0\\n  6  7  2  0\\n  6 11  1  0\\n  7  8  1  0\\n  8  9  2  0\\n  9 10  1  0\\n 10 11  2  0\\n 12 13  1  0\\n 13 14  1  0\\n 13 15  1  0\\n 15 16  1  0\\n 15 20  2  0\\n 16 17  1  0\\n 16 21  1  0\\n 17 18  1  0\\n 17 19  2  0\\n 19 20  1  0\\n 21 22  1  0\\n 22 23  2  0\\nM  END\\n\",\"sdf\");\n\tviewer_16509019259874985.setStyle({\"model\": 0},{\"stick\": {\"colorscheme\": \"lightgreyCarbon\"}});\n\tviewer_16509019259874985.setStyle({\"model\": 1},{\"stick\": {\"colorscheme\": \"purpleCarbon\"}});\n\tviewer_16509019259874985.setStyle({\"model\": 2},{\"stick\": {\"colorscheme\": \"greyCarbon\"}});\n\tviewer_16509019259874985.zoomTo();\nviewer_16509019259874985.render();\n});\n</script>",
      "text/html": [
       "<div id=\"3dmolviewer_16509019259874985\"  style=\"position: relative; width: 640px; height: 480px\">\n",
       "        <p id=\"3dmolwarning_16509019259874985\" style=\"background-color:#ffcccc;color:black\">You appear to be running in JupyterLab (or JavaScript failed to load for some other reason).  You need to install the 3dmol extension: <br>\n",
       "        <tt>jupyter labextension install jupyterlab_3dmol</tt></p>\n",
       "        </div>\n",
       "<script>\n",
       "\n",
       "var loadScriptAsync = function(uri){\n",
       "  return new Promise((resolve, reject) => {\n",
       "    var tag = document.createElement('script');\n",
       "    tag.src = uri;\n",
       "    tag.async = true;\n",
       "    tag.onload = () => {\n",
       "      resolve();\n",
       "    };\n",
       "  var firstScriptTag = document.getElementsByTagName('script')[0];\n",
       "  firstScriptTag.parentNode.insertBefore(tag, firstScriptTag);\n",
       "});\n",
       "};\n",
       "\n",
       "if(typeof $3Dmolpromise === 'undefined') {\n",
       "$3Dmolpromise = null;\n",
       "  $3Dmolpromise = loadScriptAsync('https://3dmol.org/build/3Dmol.js');\n",
       "}\n",
       "\n",
       "var viewer_16509019259874985 = null;\n",
       "var warn = document.getElementById(\"3dmolwarning_16509019259874985\");\n",
       "if(warn) {\n",
       "    warn.parentNode.removeChild(warn);\n",
       "}\n",
       "$3Dmolpromise.then(function() {\n",
       "viewer_16509019259874985 = $3Dmol.createViewer($(\"#3dmolviewer_16509019259874985\"),{backgroundColor:\"white\"});\n",
       "viewer_16509019259874985.zoomTo();\n",
       "\tviewer_16509019259874985.addModel(\"\\n     RDKit          3D\\n\\n 10 11  0  0  0  0  0  0  0  0999 V2000\\n    1.6520   -2.2219    0.1796 O   0  0  0  0  0  0  0  0  0  0  0  0\\n    1.3826   -0.9828    0.0910 C   0  0  0  0  0  0  0  0  0  0  0  0\\n    2.3339   -0.0098    0.0422 C   0  0  0  0  0  0  0  0  0  0  0  0\\n    1.7091    1.1679   -0.0485 N   0  0  0  0  0  0  0  0  0  0  0  0\\n    0.3553    0.9646   -0.0589 C   0  0  0  0  0  0  0  0  0  0  0  0\\n   -0.6471    1.9240   -0.1415 C   0  0  0  0  0  0  0  0  0  0  0  0\\n   -2.2321    1.3065   -0.1280 S   0  0  0  0  0  0  0  0  0  0  0  0\\n   -2.2938   -0.3897   -0.0145 C   0  0  0  0  0  0  0  0  0  0  0  0\\n   -1.0793   -1.0238    0.0500 C   0  0  0  0  0  0  0  0  0  0  0  0\\n    0.1247   -0.4299    0.0313 N   0  0  0  0  0  0  0  0  0  0  0  0\\n  1  2  2  0\\n  2  3  1  0\\n  3  4  2  0\\n  4  5  1  0\\n  5  6  2  0\\n  6  7  1  0\\n  7  8  1  0\\n  8  9  2  0\\n  9 10  1  0\\n 10  2  1  0\\n 10  5  1  0\\nM  END\\n\",\"sdf\");\n",
       "\tviewer_16509019259874985.addModel(\"\\n     RDKit          3D\\n\\n 10 11  0  0  0  0  0  0  0  0999 V2000\\n    2.3603   -0.5864   12.9626 O   0  0  0  0  0  0  0  0  0  0  0  0\\n    1.8574   -1.3364   13.8573 C   0  0  0  0  0  0  0  0  0  0  0  0\\n    2.4702   -2.4577   14.3277 C   0  0  0  0  0  0  0  0  0  0  0  0\\n    1.6727   -3.0018   15.2515 N   0  0  0  0  0  0  0  0  0  0  0  0\\n    0.5437   -2.2388   15.3837 C   0  0  0  0  0  0  0  0  0  0  0  0\\n   -0.5336   -2.4563   16.2347 C   0  0  0  0  0  0  0  0  0  0  0  0\\n   -1.7729   -1.2956   16.1319 S   0  0  0  0  0  0  0  0  0  0  0  0\\n   -1.4575   -0.0717   14.9932 C   0  0  0  0  0  0  0  0  0  0  0  0\\n   -0.2672   -0.1807   14.3206 C   0  0  0  0  0  0  0  0  0  0  0  0\\n    0.6471   -1.1504   14.4834 N   0  0  0  0  0  0  0  0  0  0  0  0\\n  1  2  2  0\\n  2  3  1  0\\n  3  4  2  0\\n  4  5  1  0\\n  5  6  2  0\\n  6  7  1  0\\n  7  8  1  0\\n  8  9  2  0\\n  9 10  1  0\\n 10  2  1  0\\n 10  5  1  0\\nM  END\\n\",\"sdf\");\n",
       "\tviewer_16509019259874985.addModel(\"BRD4, Ligand 7\\n     RDKit          3D\\n\\n 23 26  0  0  0  0  0  0  0  0999 V2000\\n    3.2590    2.9010   13.4290 Cl  0  0  0  0  0  0  0  0  0  0  0  0\\n    2.9360    1.2890   12.8120 C   0  0  0  0  0  0  0  0  0  0  0  0\\n    2.3430    0.3620   13.6330 C   0  0  0  0  0  0  0  0  0  0  0  0\\n    2.0690   -0.9160   13.1160 C   0  0  0  0  0  0  0  0  0  0  0  0\\n    1.4040   -1.9100   14.0170 C   0  0  0  0  0  0  0  0  0  0  0  0\\n    0.2390   -1.4510   14.8530 C   0  0  0  0  0  0  0  0  0  0  0  0\\n   -0.5130   -0.3110   14.5260 C   0  0  0  0  0  0  0  0  0  0  0  0\\n   -1.6410    0.0420   15.2720 C   0  0  0  0  0  0  0  0  0  0  0  0\\n   -2.0370   -0.7510   16.3420 C   0  0  0  0  0  0  0  0  0  0  0  0\\n   -1.3100   -1.9100   16.6370 C   0  0  0  0  0  0  0  0  0  0  0  0\\n   -0.1850   -2.2490   15.9160 C   0  0  0  0  0  0  0  0  0  0  0  0\\n    1.7010   -3.1700   13.9680 N   0  0  0  0  0  0  0  0  0  0  0  0\\n    2.7470   -3.7670   13.1430 N   0  0  0  0  0  0  0  0  0  0  0  0\\n    3.4820   -4.9110   13.6300 C   0  0  0  0  0  0  0  0  0  0  0  0\\n    2.4970   -3.6210   11.8170 C   0  0  0  0  0  0  0  0  0  0  0  0\\n    2.1950   -2.4930   11.2130 N   0  0  0  0  0  0  0  0  0  0  0  0\\n    1.8170   -2.7700    9.9500 C   0  0  0  0  0  0  0  0  0  0  0  0\\n    1.4340   -1.8400    8.8530 C   0  0  0  0  0  0  0  0  0  0  0  0\\n    1.8190   -4.0880    9.8010 N   0  0  0  0  0  0  0  0  0  0  0  0\\n    2.2650   -4.6660   11.0030 N   0  0  0  0  0  0  0  0  0  0  0  0\\n    2.4030   -1.2480   11.7870 C   0  0  0  0  0  0  0  0  0  0  0  0\\n    3.0600   -0.2560   11.0340 C   0  0  0  0  0  0  0  0  0  0  0  0\\n    3.3050    1.0110   11.5140 C   0  0  0  0  0  0  0  0  0  0  0  0\\n  1  2  1  0\\n  2  3  2  0\\n  2 23  1  0\\n  3  4  1  0\\n  4  5  1  0\\n  4 21  2  0\\n  5  6  1  0\\n  5 12  2  0\\n  6  7  2  0\\n  6 11  1  0\\n  7  8  1  0\\n  8  9  2  0\\n  9 10  1  0\\n 10 11  2  0\\n 12 13  1  0\\n 13 14  1  0\\n 13 15  1  0\\n 15 16  1  0\\n 15 20  2  0\\n 16 17  1  0\\n 16 21  1  0\\n 17 18  1  0\\n 17 19  2  0\\n 19 20  1  0\\n 21 22  1  0\\n 22 23  2  0\\nM  END\\n\",\"sdf\");\n",
       "\tviewer_16509019259874985.setStyle({\"model\": 0},{\"stick\": {\"colorscheme\": \"lightgreyCarbon\"}});\n",
       "\tviewer_16509019259874985.setStyle({\"model\": 1},{\"stick\": {\"colorscheme\": \"purpleCarbon\"}});\n",
       "\tviewer_16509019259874985.setStyle({\"model\": 2},{\"stick\": {\"colorscheme\": \"greyCarbon\"}});\n",
       "\tviewer_16509019259874985.zoomTo();\n",
       "viewer_16509019259874985.render();\n",
       "});\n",
       "</script>"
      ]
     },
     "metadata": {},
     "output_type": "display_data"
    },
    {
     "data": {
      "text/plain": [
       "<py3Dmol.view at 0x7fa871e6b190>"
      ]
     },
     "metadata": {},
     "output_type": "display_data"
    }
   ],
   "source": [
    "showbest(df, \"ligand-7\", criteria=\"cfit + hfit\")"
   ]
  }
 ],
 "metadata": {
  "interpreter": {
   "hash": "396549d0d80549071e1871f25904236f25b7276c7340ecdf496245f78763dd5d"
  },
  "kernelspec": {
   "display_name": "Python 3.9.12",
   "language": "python",
   "name": "python3"
  },
  "language_info": {
   "codemirror_mode": {
    "name": "ipython",
    "version": 3
   },
   "file_extension": ".py",
   "mimetype": "text/x-python",
   "name": "python",
   "nbconvert_exporter": "python",
   "pygments_lexer": "ipython3",
   "version": "3.9.12"
  },
  "orig_nbformat": 4
 },
 "nbformat": 4,
 "nbformat_minor": 2
}
