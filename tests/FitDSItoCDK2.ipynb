{
 "cells": [
  {
   "cell_type": "markdown",
   "id": "c5e80556",
   "metadata": {},
   "source": [
    "# Fit Fragments to BRD4 Ligands"
   ]
  },
  {
   "cell_type": "code",
   "execution_count": 1,
   "id": "7efc0d04",
   "metadata": {},
   "outputs": [],
   "source": [
    "%load_ext autoreload\n",
    "%autoreload 2"
   ]
  },
  {
   "cell_type": "code",
   "execution_count": 2,
   "id": "8274c97a",
   "metadata": {},
   "outputs": [
    {
     "name": "stdout",
     "output_type": "stream",
     "text": [
      "Jupyter environment detected. Enabling Open3D WebVisualizer.\n",
      "[Open3D INFO] WebRTC GUI backend enabled.\n",
      "[Open3D INFO] WebRTCWindowSystem: HTTP handshake server disabled.\n"
     ]
    }
   ],
   "source": [
    "from rdkit import Chem\n",
    "\n",
    "import open3d as o3d\n",
    "import molgrid\n",
    "\n",
    "from openbabel import pybel\n",
    "\n",
    "import os\n",
    "import tqdm"
   ]
  },
  {
   "cell_type": "code",
   "execution_count": 3,
   "id": "c4eae3ae",
   "metadata": {},
   "outputs": [],
   "source": [
    "import sys\n",
    "sys.path.append(\"..\")\n",
    "sys.path.append(\"../../ligan-EVOTEC\")\n",
    "\n",
    "from utils import show_molecule_idx, show_two_mols, transform_and_add_conformer, show_conformer_idx\n",
    "\n",
    "from score_pcd import fit_and_score\n",
    "from molgrid_diff import grid_diff\n",
    "from fit_to_grid import molgrid_diff_to_mol"
   ]
  },
  {
   "cell_type": "code",
   "execution_count": 4,
   "id": "e4a22b56",
   "metadata": {},
   "outputs": [],
   "source": [
    "from molecules import rd_mol_to_ob_mol "
   ]
  },
  {
   "cell_type": "markdown",
   "id": "8ca13a8b",
   "metadata": {},
   "source": [
    "Load CDK2 inhibitors:"
   ]
  },
  {
   "cell_type": "code",
   "execution_count": 5,
   "id": "ce7ccf54",
   "metadata": {},
   "outputs": [
    {
     "name": "stdout",
     "output_type": "stream",
     "text": [
      "['ligands/CDK2/4ek4_B_1CK_tran.pcd', 'ligands/CDK2/4ek5_B_03K_tran.pcd', 'ligands/CDK2/4fkg_B_4CK_tran.pcd', 'ligands/CDK2/4fki_B_09K_tran.pcd', 'ligands/CDK2/4fkj_B_11K_tran.pcd', 'ligands/CDK2/3sw4_B_18K_tran.pcd', 'ligands/CDK2/3sw7_B_19K_tran.pcd', 'ligands/CDK2/4fko_B_20K_tran.pcd', 'ligands/CDK2/4fkp_B_LS5_tran.pcd', 'ligands/CDK2/4fkq_B_42K_tran.pcd', 'ligands/CDK2/4fkr_B_45K_tran.pcd', 'ligands/CDK2/4fks_B_46K_tran.pcd', 'ligands/CDK2/4fkt_B_48K_tran.pcd', 'ligands/CDK2/4fku_D_60K_tran.pcd', 'ligands/CDK2/4fkv_B_61K_tran.pcd', 'ligands/CDK2/4fkw_B_62K_tran.pcd']\n"
     ]
    }
   ],
   "source": [
    "path = \"ligands/CDK2\"\n",
    "files = [os.path.join(path, f) for f in os.listdir(path) if os.path.splitext(f)[-1] == \".pcd\" and os.path.splitext(f)[0][-4:] == \"tran\"]\n",
    "\n",
    "# Order ligands\n",
    "# This should make the three chemical series pop-up in the PCD fit\n",
    "names = {\n",
    "    \"4ek4_B_1CK\": \"CS1\",\n",
    "    \"4ek5_B_03K\": \"CS3\",\n",
    "    \"4fkg_B_4CK\": \"CS4\",\n",
    "    \"4fki_B_09K\": \"CS9\",\n",
    "    \"4fkj_B_11K\": \"CS11\",\n",
    "    \"3sw4_B_18K\": \"CS18\",\n",
    "    \"3sw7_B_19K\": \"CS19\",\n",
    "    \"4fko_B_20K\": \"CS20\",\n",
    "    \"4fkp_B_LS5\": \"CS241\",\n",
    "    \"4fkq_B_42K\": \"CS242\",\n",
    "    \"4fkr_B_45K\": \"CS245\",\n",
    "    \"4fks_B_46K\": \"CS246\",\n",
    "    \"4fkt_B_48K\": \"CS248\",\n",
    "    \"4fku_D_60K\": \"CS260\",\n",
    "    \"4fkv_B_61K\": \"CS261\",\n",
    "    \"4fkw_B_62K\": \"CS262\",\n",
    "}\n",
    "\n",
    "files.sort(key=lambda f: int(names[os.path.splitext(os.path.basename(f))[0].replace(\"_tran\", \"\")].replace(\"CS\", \"\")))\n",
    "\n",
    "print(files)\n",
    "\n",
    "pcds = []\n",
    "mols = []\n",
    "for f in files:\n",
    "    pcd = o3d.io.read_point_cloud(f)\n",
    "    pcds.append(pcd)\n",
    "\n",
    "    s = Chem.SDMolSupplier(f.replace(\".pcd\", \".sdf\"))\n",
    "    mol = next(s)\n",
    "    mols.append(mol)"
   ]
  },
  {
   "cell_type": "markdown",
   "id": "e555b191",
   "metadata": {},
   "source": [
    "Load fragments from DSI Poised library:"
   ]
  },
  {
   "cell_type": "code",
   "execution_count": 6,
   "id": "3ff08911",
   "metadata": {},
   "outputs": [
    {
     "name": "stdout",
     "output_type": "stream",
     "text": [
      "['../fragments/DSIpoised/fragment_0.pcd', '../fragments/DSIpoised/fragment_100.pcd', '../fragments/DSIpoised/fragment_101.pcd', '../fragments/DSIpoised/fragment_102.pcd', '../fragments/DSIpoised/fragment_103.pcd']\n"
     ]
    },
    {
     "name": "stderr",
     "output_type": "stream",
     "text": [
      "100%|██████████| 860/860 [00:06<00:00, 131.23it/s]\n"
     ]
    }
   ],
   "source": [
    "fragpath=path = \"../fragments/DSIpoised\"\n",
    "fragfiles = [os.path.join(fragpath, f) for f in os.listdir(fragpath) if os.path.splitext(f)[-1] == \".pcd\"]\n",
    "\n",
    "print(fragfiles[:5])\n",
    "\n",
    "fragpcds = []\n",
    "fragmols = []\n",
    "for ff in tqdm.tqdm(fragfiles):\n",
    "    pcd = o3d.io.read_point_cloud(ff)\n",
    "    fragpcds.append(pcd)\n",
    "\n",
    "    s = Chem.SDMolSupplier(ff.replace(\".pcd\", \".sdf\"))\n",
    "    mol = next(s)\n",
    "    fragmols.append(mol)"
   ]
  },
  {
   "cell_type": "code",
   "execution_count": 7,
   "id": "d9841ca3",
   "metadata": {},
   "outputs": [
    {
     "data": {
      "application/3dmoljs_load.v0": "<div id=\"3dmolviewer_16322323824146578\"  style=\"position: relative; width: 640px; height: 480px\">\n        <p id=\"3dmolwarning_16322323824146578\" style=\"background-color:#ffcccc;color:black\">You appear to be running in JupyterLab (or JavaScript failed to load for some other reason).  You need to install the 3dmol extension: <br>\n        <tt>jupyter labextension install jupyterlab_3dmol</tt></p>\n        </div>\n<script>\n\nvar loadScriptAsync = function(uri){\n  return new Promise((resolve, reject) => {\n    var tag = document.createElement('script');\n    tag.src = uri;\n    tag.async = true;\n    tag.onload = () => {\n      resolve();\n    };\n  var firstScriptTag = document.getElementsByTagName('script')[0];\n  firstScriptTag.parentNode.insertBefore(tag, firstScriptTag);\n});\n};\n\nif(typeof $3Dmolpromise === 'undefined') {\n$3Dmolpromise = null;\n  $3Dmolpromise = loadScriptAsync('https://3dmol.org/build/3Dmol.js');\n}\n\nvar viewer_16322323824146578 = null;\nvar warn = document.getElementById(\"3dmolwarning_16322323824146578\");\nif(warn) {\n    warn.parentNode.removeChild(warn);\n}\n$3Dmolpromise.then(function() {\nviewer_16322323824146578 = $3Dmol.createViewer($(\"#3dmolviewer_16322323824146578\"),{backgroundColor:\"white\"});\nviewer_16322323824146578.zoomTo();\n\tviewer_16322323824146578.addModel(\"4fkp_B_LS5.pdb\\n     RDKit          3D\\n\\n 25 27  0  0  1  0  0  0  0  0999 V2000\\n   10.6417   -4.0835   27.8633 N   0  0  0  0  0  0  0  0  0  0  0  0\\n   10.0065   -5.2357   28.1048 C   0  0  0  0  0  0  0  0  0  0  0  0\\n   10.3354   -6.1873   27.1370 C   0  0  2  0  0  0  0  0  0  0  0  0\\n   11.8520   -5.9557   25.0541 C   0  0  0  0  0  0  0  0  0  0  0  0\\n   12.6545   -5.0375   24.3624 C   0  0  0  0  0  0  0  0  0  0  0  0\\n   12.8641   -3.7339   24.8574 C   0  0  0  0  0  0  0  0  0  0  0  0\\n   12.1752   -3.3252   26.0183 C   0  0  0  0  0  0  0  0  0  0  0  0\\n   11.3705   -4.2335   26.7106 C   0  0  0  0  0  0  0  0  0  0  0  0\\n   11.1706   -5.5315   26.2056 C   0  0  0  0  0  0  0  0  0  0  0  0\\n    9.2747   -5.4833   29.0733 O   0  0  0  0  0  0  0  0  0  0  0  0\\n    9.7009   -7.4301   27.0036 C   0  0  0  0  0  0  0  0  0  0  0  0\\n    8.8040   -7.8777   27.8997 N   0  0  0  0  0  0  0  0  0  0  0  0\\n    8.0925   -9.0133   27.7674 C   0  0  0  0  0  0  0  0  0  0  0  0\\n    7.8420   -9.5680   26.4944 C   0  0  0  0  0  0  0  0  0  0  0  0\\n    7.0803  -10.7474   26.3965 C   0  0  0  0  0  0  0  0  0  0  0  0\\n    6.5221  -11.3316   27.5400 C   0  0  0  0  0  0  0  0  0  0  0  0\\n    6.7120  -10.7618   28.8118 C   0  0  0  0  0  0  0  0  0  0  0  0\\n    7.4887   -9.5966   28.8909 C   0  0  0  0  0  0  0  0  0  0  0  0\\n    5.5362  -12.7357   27.3173 S   0  0  0  0  0  0  0  0  0  0  0  0\\n    5.0634  -13.1935   28.6670 O   0  0  0  0  0  0  0  0  0  0  0  0\\n    4.4257  -12.3356   26.4057 O   0  0  0  0  0  0  0  0  0  0  0  0\\n    6.5288  -13.7720   26.5766 N   0  0  0  0  0  0  0  0  0  0  0  0\\n    7.5899  -14.3251   27.1977 C   0  0  0  0  0  0  0  0  0  0  0  0\\n    8.4253  -15.0901   26.5042 N   0  0  0  0  0  0  0  0  0  0  0  0\\n    7.8169  -14.1648   28.5056 N   0  0  0  0  0  0  0  0  0  0  0  0\\n  1  2  1  0\\n  1  8  1  0\\n  2  3  1  0\\n  2 10  2  0\\n  3  9  1  0\\n  3 11  1  6\\n  4  5  1  0\\n  4  9  2  0\\n  5  6  2  0\\n  6  7  1  0\\n  7  8  2  0\\n  8  9  1  0\\n 11 12  2  0\\n 12 13  1  0\\n 13 14  2  0\\n 13 18  1  0\\n 14 15  1  0\\n 15 16  2  0\\n 16 17  1  0\\n 16 19  1  0\\n 17 18  2  0\\n 19 20  2  0\\n 19 21  2  0\\n 19 22  1  0\\n 22 23  2  3\\n 23 24  1  0\\n 23 25  1  0\\nM  END\\n\",\"sdf\");\n\tviewer_16322323824146578.setStyle({\"model\": 0},{\"stick\": {\"colorscheme\": \"lightgreyCarbon\"}});\n\tviewer_16322323824146578.zoomTo();\nviewer_16322323824146578.render();\n});\n</script>",
      "text/html": [
       "<div id=\"3dmolviewer_16322323824146578\"  style=\"position: relative; width: 640px; height: 480px\">\n",
       "        <p id=\"3dmolwarning_16322323824146578\" style=\"background-color:#ffcccc;color:black\">You appear to be running in JupyterLab (or JavaScript failed to load for some other reason).  You need to install the 3dmol extension: <br>\n",
       "        <tt>jupyter labextension install jupyterlab_3dmol</tt></p>\n",
       "        </div>\n",
       "<script>\n",
       "\n",
       "var loadScriptAsync = function(uri){\n",
       "  return new Promise((resolve, reject) => {\n",
       "    var tag = document.createElement('script');\n",
       "    tag.src = uri;\n",
       "    tag.async = true;\n",
       "    tag.onload = () => {\n",
       "      resolve();\n",
       "    };\n",
       "  var firstScriptTag = document.getElementsByTagName('script')[0];\n",
       "  firstScriptTag.parentNode.insertBefore(tag, firstScriptTag);\n",
       "});\n",
       "};\n",
       "\n",
       "if(typeof $3Dmolpromise === 'undefined') {\n",
       "$3Dmolpromise = null;\n",
       "  $3Dmolpromise = loadScriptAsync('https://3dmol.org/build/3Dmol.js');\n",
       "}\n",
       "\n",
       "var viewer_16322323824146578 = null;\n",
       "var warn = document.getElementById(\"3dmolwarning_16322323824146578\");\n",
       "if(warn) {\n",
       "    warn.parentNode.removeChild(warn);\n",
       "}\n",
       "$3Dmolpromise.then(function() {\n",
       "viewer_16322323824146578 = $3Dmol.createViewer($(\"#3dmolviewer_16322323824146578\"),{backgroundColor:\"white\"});\n",
       "viewer_16322323824146578.zoomTo();\n",
       "\tviewer_16322323824146578.addModel(\"4fkp_B_LS5.pdb\\n     RDKit          3D\\n\\n 25 27  0  0  1  0  0  0  0  0999 V2000\\n   10.6417   -4.0835   27.8633 N   0  0  0  0  0  0  0  0  0  0  0  0\\n   10.0065   -5.2357   28.1048 C   0  0  0  0  0  0  0  0  0  0  0  0\\n   10.3354   -6.1873   27.1370 C   0  0  2  0  0  0  0  0  0  0  0  0\\n   11.8520   -5.9557   25.0541 C   0  0  0  0  0  0  0  0  0  0  0  0\\n   12.6545   -5.0375   24.3624 C   0  0  0  0  0  0  0  0  0  0  0  0\\n   12.8641   -3.7339   24.8574 C   0  0  0  0  0  0  0  0  0  0  0  0\\n   12.1752   -3.3252   26.0183 C   0  0  0  0  0  0  0  0  0  0  0  0\\n   11.3705   -4.2335   26.7106 C   0  0  0  0  0  0  0  0  0  0  0  0\\n   11.1706   -5.5315   26.2056 C   0  0  0  0  0  0  0  0  0  0  0  0\\n    9.2747   -5.4833   29.0733 O   0  0  0  0  0  0  0  0  0  0  0  0\\n    9.7009   -7.4301   27.0036 C   0  0  0  0  0  0  0  0  0  0  0  0\\n    8.8040   -7.8777   27.8997 N   0  0  0  0  0  0  0  0  0  0  0  0\\n    8.0925   -9.0133   27.7674 C   0  0  0  0  0  0  0  0  0  0  0  0\\n    7.8420   -9.5680   26.4944 C   0  0  0  0  0  0  0  0  0  0  0  0\\n    7.0803  -10.7474   26.3965 C   0  0  0  0  0  0  0  0  0  0  0  0\\n    6.5221  -11.3316   27.5400 C   0  0  0  0  0  0  0  0  0  0  0  0\\n    6.7120  -10.7618   28.8118 C   0  0  0  0  0  0  0  0  0  0  0  0\\n    7.4887   -9.5966   28.8909 C   0  0  0  0  0  0  0  0  0  0  0  0\\n    5.5362  -12.7357   27.3173 S   0  0  0  0  0  0  0  0  0  0  0  0\\n    5.0634  -13.1935   28.6670 O   0  0  0  0  0  0  0  0  0  0  0  0\\n    4.4257  -12.3356   26.4057 O   0  0  0  0  0  0  0  0  0  0  0  0\\n    6.5288  -13.7720   26.5766 N   0  0  0  0  0  0  0  0  0  0  0  0\\n    7.5899  -14.3251   27.1977 C   0  0  0  0  0  0  0  0  0  0  0  0\\n    8.4253  -15.0901   26.5042 N   0  0  0  0  0  0  0  0  0  0  0  0\\n    7.8169  -14.1648   28.5056 N   0  0  0  0  0  0  0  0  0  0  0  0\\n  1  2  1  0\\n  1  8  1  0\\n  2  3  1  0\\n  2 10  2  0\\n  3  9  1  0\\n  3 11  1  6\\n  4  5  1  0\\n  4  9  2  0\\n  5  6  2  0\\n  6  7  1  0\\n  7  8  2  0\\n  8  9  1  0\\n 11 12  2  0\\n 12 13  1  0\\n 13 14  2  0\\n 13 18  1  0\\n 14 15  1  0\\n 15 16  2  0\\n 16 17  1  0\\n 16 19  1  0\\n 17 18  2  0\\n 19 20  2  0\\n 19 21  2  0\\n 19 22  1  0\\n 22 23  2  3\\n 23 24  1  0\\n 23 25  1  0\\nM  END\\n\",\"sdf\");\n",
       "\tviewer_16322323824146578.setStyle({\"model\": 0},{\"stick\": {\"colorscheme\": \"lightgreyCarbon\"}});\n",
       "\tviewer_16322323824146578.zoomTo();\n",
       "viewer_16322323824146578.render();\n",
       "});\n",
       "</script>"
      ]
     },
     "metadata": {},
     "output_type": "display_data"
    }
   ],
   "source": [
    "molid = 8\n",
    "\n",
    "show_molecule_idx(molid, mols)"
   ]
  },
  {
   "cell_type": "markdown",
   "id": "0f8120f1",
   "metadata": {},
   "source": [
    "## Alignment and Fitting"
   ]
  },
  {
   "cell_type": "code",
   "execution_count": 8,
   "id": "8559a050",
   "metadata": {},
   "outputs": [
    {
     "name": "stderr",
     "output_type": "stream",
     "text": [
      "100%|██████████| 860/860 [03:35<00:00,  3.99it/s]\n"
     ]
    }
   ],
   "source": [
    "alignments = []\n",
    "for fidx, (fragpcd, fragmol) in tqdm.tqdm(enumerate(zip(fragpcds, fragmols)), total=len(fragpcds)):\n",
    "    fit, cfit, tran = fit_and_score((fragpcd, pcds[molid]), voxel_size=0.5, threshold=0.5)\n",
    "    alignments.append((fidx, cfit.fitness, tran))\n",
    "    "
   ]
  },
  {
   "cell_type": "code",
   "execution_count": 9,
   "id": "dc0ca5e8",
   "metadata": {},
   "outputs": [],
   "source": [
    "minfitness = 0.85\n",
    "\n",
    "goodalignments = [a for a in alignments if a[1] >= minfitness]\n",
    "goodalignments.sort(key=lambda t: t[1], reverse=True)"
   ]
  },
  {
   "cell_type": "code",
   "execution_count": 10,
   "id": "38ef05d9",
   "metadata": {},
   "outputs": [
    {
     "data": {
      "text/plain": [
       "[(668, 0.9057017543859649),\n",
       " (756, 0.9002433090024331),\n",
       " (822, 0.8986486486486487),\n",
       " (804, 0.8926380368098159),\n",
       " (191, 0.8865740740740741),\n",
       " (5, 0.8822055137844611),\n",
       " (525, 0.8737864077669902),\n",
       " (454, 0.8732394366197183),\n",
       " (359, 0.8731988472622478),\n",
       " (749, 0.869757174392936),\n",
       " (475, 0.8677685950413223),\n",
       " (374, 0.8618925831202046),\n",
       " (551, 0.8617021276595744),\n",
       " (613, 0.8581907090464548),\n",
       " (157, 0.8574660633484162),\n",
       " (783, 0.8551859099804305),\n",
       " (516, 0.8535714285714285),\n",
       " (690, 0.852760736196319),\n",
       " (233, 0.8509485094850948),\n",
       " (729, 0.85)]"
      ]
     },
     "execution_count": 10,
     "metadata": {},
     "output_type": "execute_result"
    }
   ],
   "source": [
    "[a[0:2] for a in goodalignments]"
   ]
  },
  {
   "cell_type": "code",
   "execution_count": 11,
   "id": "3208fcff",
   "metadata": {},
   "outputs": [],
   "source": [
    "for (idx, fitness, tran) in goodalignments:\n",
    "    transform_and_add_conformer(fragmols[idx], tran, fromConfId=0, toConfId=1)"
   ]
  },
  {
   "cell_type": "code",
   "execution_count": 12,
   "id": "0e2671bc",
   "metadata": {
    "scrolled": true
   },
   "outputs": [
    {
     "data": {
      "application/3dmoljs_load.v0": "<div id=\"3dmolviewer_16322326018484032\"  style=\"position: relative; width: 640px; height: 480px\">\n        <p id=\"3dmolwarning_16322326018484032\" style=\"background-color:#ffcccc;color:black\">You appear to be running in JupyterLab (or JavaScript failed to load for some other reason).  You need to install the 3dmol extension: <br>\n        <tt>jupyter labextension install jupyterlab_3dmol</tt></p>\n        </div>\n<script>\n\nvar loadScriptAsync = function(uri){\n  return new Promise((resolve, reject) => {\n    var tag = document.createElement('script');\n    tag.src = uri;\n    tag.async = true;\n    tag.onload = () => {\n      resolve();\n    };\n  var firstScriptTag = document.getElementsByTagName('script')[0];\n  firstScriptTag.parentNode.insertBefore(tag, firstScriptTag);\n});\n};\n\nif(typeof $3Dmolpromise === 'undefined') {\n$3Dmolpromise = null;\n  $3Dmolpromise = loadScriptAsync('https://3dmol.org/build/3Dmol.js');\n}\n\nvar viewer_16322326018484032 = null;\nvar warn = document.getElementById(\"3dmolwarning_16322326018484032\");\nif(warn) {\n    warn.parentNode.removeChild(warn);\n}\n$3Dmolpromise.then(function() {\nviewer_16322326018484032 = $3Dmol.createViewer($(\"#3dmolviewer_16322326018484032\"),{backgroundColor:\"white\"});\nviewer_16322326018484032.zoomTo();\n\tviewer_16322326018484032.addModel(\"4fkp_B_LS5.pdb\\n     RDKit          3D\\n\\n 25 27  0  0  1  0  0  0  0  0999 V2000\\n   10.6417   -4.0835   27.8633 N   0  0  0  0  0  0  0  0  0  0  0  0\\n   10.0065   -5.2357   28.1048 C   0  0  0  0  0  0  0  0  0  0  0  0\\n   10.3354   -6.1873   27.1370 C   0  0  2  0  0  0  0  0  0  0  0  0\\n   11.8520   -5.9557   25.0541 C   0  0  0  0  0  0  0  0  0  0  0  0\\n   12.6545   -5.0375   24.3624 C   0  0  0  0  0  0  0  0  0  0  0  0\\n   12.8641   -3.7339   24.8574 C   0  0  0  0  0  0  0  0  0  0  0  0\\n   12.1752   -3.3252   26.0183 C   0  0  0  0  0  0  0  0  0  0  0  0\\n   11.3705   -4.2335   26.7106 C   0  0  0  0  0  0  0  0  0  0  0  0\\n   11.1706   -5.5315   26.2056 C   0  0  0  0  0  0  0  0  0  0  0  0\\n    9.2747   -5.4833   29.0733 O   0  0  0  0  0  0  0  0  0  0  0  0\\n    9.7009   -7.4301   27.0036 C   0  0  0  0  0  0  0  0  0  0  0  0\\n    8.8040   -7.8777   27.8997 N   0  0  0  0  0  0  0  0  0  0  0  0\\n    8.0925   -9.0133   27.7674 C   0  0  0  0  0  0  0  0  0  0  0  0\\n    7.8420   -9.5680   26.4944 C   0  0  0  0  0  0  0  0  0  0  0  0\\n    7.0803  -10.7474   26.3965 C   0  0  0  0  0  0  0  0  0  0  0  0\\n    6.5221  -11.3316   27.5400 C   0  0  0  0  0  0  0  0  0  0  0  0\\n    6.7120  -10.7618   28.8118 C   0  0  0  0  0  0  0  0  0  0  0  0\\n    7.4887   -9.5966   28.8909 C   0  0  0  0  0  0  0  0  0  0  0  0\\n    5.5362  -12.7357   27.3173 S   0  0  0  0  0  0  0  0  0  0  0  0\\n    5.0634  -13.1935   28.6670 O   0  0  0  0  0  0  0  0  0  0  0  0\\n    4.4257  -12.3356   26.4057 O   0  0  0  0  0  0  0  0  0  0  0  0\\n    6.5288  -13.7720   26.5766 N   0  0  0  0  0  0  0  0  0  0  0  0\\n    7.5899  -14.3251   27.1977 C   0  0  0  0  0  0  0  0  0  0  0  0\\n    8.4253  -15.0901   26.5042 N   0  0  0  0  0  0  0  0  0  0  0  0\\n    7.8169  -14.1648   28.5056 N   0  0  0  0  0  0  0  0  0  0  0  0\\n  1  2  1  0\\n  1  8  1  0\\n  2  3  1  0\\n  2 10  2  0\\n  3  9  1  0\\n  3 11  1  6\\n  4  5  1  0\\n  4  9  2  0\\n  5  6  2  0\\n  6  7  1  0\\n  7  8  2  0\\n  8  9  1  0\\n 11 12  2  0\\n 12 13  1  0\\n 13 14  2  0\\n 13 18  1  0\\n 14 15  1  0\\n 15 16  2  0\\n 16 17  1  0\\n 16 19  1  0\\n 17 18  2  0\\n 19 20  2  0\\n 19 21  2  0\\n 19 22  1  0\\n 22 23  2  3\\n 23 24  1  0\\n 23 25  1  0\\nM  END\\n\",\"sdf\");\n\tviewer_16322326018484032.addModel(\"\\n     RDKit          3D\\n\\n 13 14  0  0  0  0  0  0  0  0999 V2000\\n    6.4183  -13.0162   26.4880 F   0  0  0  0  0  0  0  0  0  0  0  0\\n    5.5932  -12.1029   27.1826 C   0  0  0  0  0  0  0  0  0  0  0  0\\n    5.1153  -12.6655   28.3124 F   0  0  0  0  0  0  0  0  0  0  0  0\\n    6.4752  -10.9451   27.5596 C   0  0  0  0  0  0  0  0  0  0  0  0\\n    6.9296  -10.5842   28.7605 N   0  0  0  0  0  0  0  0  0  0  0  0\\n    7.6873   -9.5797   28.8670 N   0  0  0  0  0  0  0  0  0  0  0  0\\n    8.0289   -8.8859   27.7937 C   0  0  0  0  0  0  0  0  0  0  0  0\\n    8.8613   -7.7244   27.6995 N   0  0  0  0  0  0  0  0  0  0  0  0\\n    8.8866   -6.5988   28.5952 C   0  0  0  0  0  0  0  0  0  0  0  0\\n   10.0710   -5.7789   28.1227 C   0  0  0  0  0  0  0  0  0  0  0  0\\n   10.2552   -6.1270   26.6694 C   0  0  0  0  0  0  0  0  0  0  0  0\\n    9.8396   -7.5635   26.6413 C   0  0  0  0  0  0  0  0  0  0  0  0\\n    7.1966   -9.7482   26.5669 S   0  0  0  0  0  0  0  0  0  0  0  0\\n  1  2  1  0\\n  2  3  1  0\\n  2  4  1  0\\n  4  5  2  0\\n  5  6  1  0\\n  6  7  2  0\\n  7  8  1  0\\n  8  9  1  0\\n  9 10  1  0\\n 10 11  1  0\\n 11 12  1  0\\n  7 13  1  0\\n 13  4  1  0\\n 12  8  1  0\\nM  END\\n\",\"sdf\");\n\tviewer_16322326018484032.setStyle({\"model\": 0},{\"stick\": {\"colorscheme\": \"lightgreyCarbon\"}});\n\tviewer_16322326018484032.setStyle({\"model\": 1},{\"stick\": {\"colorscheme\": \"purpleCarbon\"}});\n\tviewer_16322326018484032.zoomTo();\nviewer_16322326018484032.render();\n});\n</script>",
      "text/html": [
       "<div id=\"3dmolviewer_16322326018484032\"  style=\"position: relative; width: 640px; height: 480px\">\n",
       "        <p id=\"3dmolwarning_16322326018484032\" style=\"background-color:#ffcccc;color:black\">You appear to be running in JupyterLab (or JavaScript failed to load for some other reason).  You need to install the 3dmol extension: <br>\n",
       "        <tt>jupyter labextension install jupyterlab_3dmol</tt></p>\n",
       "        </div>\n",
       "<script>\n",
       "\n",
       "var loadScriptAsync = function(uri){\n",
       "  return new Promise((resolve, reject) => {\n",
       "    var tag = document.createElement('script');\n",
       "    tag.src = uri;\n",
       "    tag.async = true;\n",
       "    tag.onload = () => {\n",
       "      resolve();\n",
       "    };\n",
       "  var firstScriptTag = document.getElementsByTagName('script')[0];\n",
       "  firstScriptTag.parentNode.insertBefore(tag, firstScriptTag);\n",
       "});\n",
       "};\n",
       "\n",
       "if(typeof $3Dmolpromise === 'undefined') {\n",
       "$3Dmolpromise = null;\n",
       "  $3Dmolpromise = loadScriptAsync('https://3dmol.org/build/3Dmol.js');\n",
       "}\n",
       "\n",
       "var viewer_16322326018484032 = null;\n",
       "var warn = document.getElementById(\"3dmolwarning_16322326018484032\");\n",
       "if(warn) {\n",
       "    warn.parentNode.removeChild(warn);\n",
       "}\n",
       "$3Dmolpromise.then(function() {\n",
       "viewer_16322326018484032 = $3Dmol.createViewer($(\"#3dmolviewer_16322326018484032\"),{backgroundColor:\"white\"});\n",
       "viewer_16322326018484032.zoomTo();\n",
       "\tviewer_16322326018484032.addModel(\"4fkp_B_LS5.pdb\\n     RDKit          3D\\n\\n 25 27  0  0  1  0  0  0  0  0999 V2000\\n   10.6417   -4.0835   27.8633 N   0  0  0  0  0  0  0  0  0  0  0  0\\n   10.0065   -5.2357   28.1048 C   0  0  0  0  0  0  0  0  0  0  0  0\\n   10.3354   -6.1873   27.1370 C   0  0  2  0  0  0  0  0  0  0  0  0\\n   11.8520   -5.9557   25.0541 C   0  0  0  0  0  0  0  0  0  0  0  0\\n   12.6545   -5.0375   24.3624 C   0  0  0  0  0  0  0  0  0  0  0  0\\n   12.8641   -3.7339   24.8574 C   0  0  0  0  0  0  0  0  0  0  0  0\\n   12.1752   -3.3252   26.0183 C   0  0  0  0  0  0  0  0  0  0  0  0\\n   11.3705   -4.2335   26.7106 C   0  0  0  0  0  0  0  0  0  0  0  0\\n   11.1706   -5.5315   26.2056 C   0  0  0  0  0  0  0  0  0  0  0  0\\n    9.2747   -5.4833   29.0733 O   0  0  0  0  0  0  0  0  0  0  0  0\\n    9.7009   -7.4301   27.0036 C   0  0  0  0  0  0  0  0  0  0  0  0\\n    8.8040   -7.8777   27.8997 N   0  0  0  0  0  0  0  0  0  0  0  0\\n    8.0925   -9.0133   27.7674 C   0  0  0  0  0  0  0  0  0  0  0  0\\n    7.8420   -9.5680   26.4944 C   0  0  0  0  0  0  0  0  0  0  0  0\\n    7.0803  -10.7474   26.3965 C   0  0  0  0  0  0  0  0  0  0  0  0\\n    6.5221  -11.3316   27.5400 C   0  0  0  0  0  0  0  0  0  0  0  0\\n    6.7120  -10.7618   28.8118 C   0  0  0  0  0  0  0  0  0  0  0  0\\n    7.4887   -9.5966   28.8909 C   0  0  0  0  0  0  0  0  0  0  0  0\\n    5.5362  -12.7357   27.3173 S   0  0  0  0  0  0  0  0  0  0  0  0\\n    5.0634  -13.1935   28.6670 O   0  0  0  0  0  0  0  0  0  0  0  0\\n    4.4257  -12.3356   26.4057 O   0  0  0  0  0  0  0  0  0  0  0  0\\n    6.5288  -13.7720   26.5766 N   0  0  0  0  0  0  0  0  0  0  0  0\\n    7.5899  -14.3251   27.1977 C   0  0  0  0  0  0  0  0  0  0  0  0\\n    8.4253  -15.0901   26.5042 N   0  0  0  0  0  0  0  0  0  0  0  0\\n    7.8169  -14.1648   28.5056 N   0  0  0  0  0  0  0  0  0  0  0  0\\n  1  2  1  0\\n  1  8  1  0\\n  2  3  1  0\\n  2 10  2  0\\n  3  9  1  0\\n  3 11  1  6\\n  4  5  1  0\\n  4  9  2  0\\n  5  6  2  0\\n  6  7  1  0\\n  7  8  2  0\\n  8  9  1  0\\n 11 12  2  0\\n 12 13  1  0\\n 13 14  2  0\\n 13 18  1  0\\n 14 15  1  0\\n 15 16  2  0\\n 16 17  1  0\\n 16 19  1  0\\n 17 18  2  0\\n 19 20  2  0\\n 19 21  2  0\\n 19 22  1  0\\n 22 23  2  3\\n 23 24  1  0\\n 23 25  1  0\\nM  END\\n\",\"sdf\");\n",
       "\tviewer_16322326018484032.addModel(\"\\n     RDKit          3D\\n\\n 13 14  0  0  0  0  0  0  0  0999 V2000\\n    6.4183  -13.0162   26.4880 F   0  0  0  0  0  0  0  0  0  0  0  0\\n    5.5932  -12.1029   27.1826 C   0  0  0  0  0  0  0  0  0  0  0  0\\n    5.1153  -12.6655   28.3124 F   0  0  0  0  0  0  0  0  0  0  0  0\\n    6.4752  -10.9451   27.5596 C   0  0  0  0  0  0  0  0  0  0  0  0\\n    6.9296  -10.5842   28.7605 N   0  0  0  0  0  0  0  0  0  0  0  0\\n    7.6873   -9.5797   28.8670 N   0  0  0  0  0  0  0  0  0  0  0  0\\n    8.0289   -8.8859   27.7937 C   0  0  0  0  0  0  0  0  0  0  0  0\\n    8.8613   -7.7244   27.6995 N   0  0  0  0  0  0  0  0  0  0  0  0\\n    8.8866   -6.5988   28.5952 C   0  0  0  0  0  0  0  0  0  0  0  0\\n   10.0710   -5.7789   28.1227 C   0  0  0  0  0  0  0  0  0  0  0  0\\n   10.2552   -6.1270   26.6694 C   0  0  0  0  0  0  0  0  0  0  0  0\\n    9.8396   -7.5635   26.6413 C   0  0  0  0  0  0  0  0  0  0  0  0\\n    7.1966   -9.7482   26.5669 S   0  0  0  0  0  0  0  0  0  0  0  0\\n  1  2  1  0\\n  2  3  1  0\\n  2  4  1  0\\n  4  5  2  0\\n  5  6  1  0\\n  6  7  2  0\\n  7  8  1  0\\n  8  9  1  0\\n  9 10  1  0\\n 10 11  1  0\\n 11 12  1  0\\n  7 13  1  0\\n 13  4  1  0\\n 12  8  1  0\\nM  END\\n\",\"sdf\");\n",
       "\tviewer_16322326018484032.setStyle({\"model\": 0},{\"stick\": {\"colorscheme\": \"lightgreyCarbon\"}});\n",
       "\tviewer_16322326018484032.setStyle({\"model\": 1},{\"stick\": {\"colorscheme\": \"purpleCarbon\"}});\n",
       "\tviewer_16322326018484032.zoomTo();\n",
       "viewer_16322326018484032.render();\n",
       "});\n",
       "</script>"
      ]
     },
     "metadata": {},
     "output_type": "display_data"
    }
   ],
   "source": [
    "fragid = goodalignments[0][0]\n",
    "show_two_mols(mols[molid], fragmols[fragid], confId2=1)"
   ]
  },
  {
   "cell_type": "code",
   "execution_count": 13,
   "id": "0694c432",
   "metadata": {},
   "outputs": [
    {
     "data": {
      "application/3dmoljs_load.v0": "<div id=\"3dmolviewer_16322326019003286\"  style=\"position: relative; width: 640px; height: 480px\">\n        <p id=\"3dmolwarning_16322326019003286\" style=\"background-color:#ffcccc;color:black\">You appear to be running in JupyterLab (or JavaScript failed to load for some other reason).  You need to install the 3dmol extension: <br>\n        <tt>jupyter labextension install jupyterlab_3dmol</tt></p>\n        </div>\n<script>\n\nvar loadScriptAsync = function(uri){\n  return new Promise((resolve, reject) => {\n    var tag = document.createElement('script');\n    tag.src = uri;\n    tag.async = true;\n    tag.onload = () => {\n      resolve();\n    };\n  var firstScriptTag = document.getElementsByTagName('script')[0];\n  firstScriptTag.parentNode.insertBefore(tag, firstScriptTag);\n});\n};\n\nif(typeof $3Dmolpromise === 'undefined') {\n$3Dmolpromise = null;\n  $3Dmolpromise = loadScriptAsync('https://3dmol.org/build/3Dmol.js');\n}\n\nvar viewer_16322326019003286 = null;\nvar warn = document.getElementById(\"3dmolwarning_16322326019003286\");\nif(warn) {\n    warn.parentNode.removeChild(warn);\n}\n$3Dmolpromise.then(function() {\nviewer_16322326019003286 = $3Dmol.createViewer($(\"#3dmolviewer_16322326019003286\"),{backgroundColor:\"white\"});\nviewer_16322326019003286.zoomTo();\n\tviewer_16322326019003286.addModel(\"4fkp_B_LS5.pdb\\n     RDKit          3D\\n\\n 25 27  0  0  1  0  0  0  0  0999 V2000\\n   10.6417   -4.0835   27.8633 N   0  0  0  0  0  0  0  0  0  0  0  0\\n   10.0065   -5.2357   28.1048 C   0  0  0  0  0  0  0  0  0  0  0  0\\n   10.3354   -6.1873   27.1370 C   0  0  2  0  0  0  0  0  0  0  0  0\\n   11.8520   -5.9557   25.0541 C   0  0  0  0  0  0  0  0  0  0  0  0\\n   12.6545   -5.0375   24.3624 C   0  0  0  0  0  0  0  0  0  0  0  0\\n   12.8641   -3.7339   24.8574 C   0  0  0  0  0  0  0  0  0  0  0  0\\n   12.1752   -3.3252   26.0183 C   0  0  0  0  0  0  0  0  0  0  0  0\\n   11.3705   -4.2335   26.7106 C   0  0  0  0  0  0  0  0  0  0  0  0\\n   11.1706   -5.5315   26.2056 C   0  0  0  0  0  0  0  0  0  0  0  0\\n    9.2747   -5.4833   29.0733 O   0  0  0  0  0  0  0  0  0  0  0  0\\n    9.7009   -7.4301   27.0036 C   0  0  0  0  0  0  0  0  0  0  0  0\\n    8.8040   -7.8777   27.8997 N   0  0  0  0  0  0  0  0  0  0  0  0\\n    8.0925   -9.0133   27.7674 C   0  0  0  0  0  0  0  0  0  0  0  0\\n    7.8420   -9.5680   26.4944 C   0  0  0  0  0  0  0  0  0  0  0  0\\n    7.0803  -10.7474   26.3965 C   0  0  0  0  0  0  0  0  0  0  0  0\\n    6.5221  -11.3316   27.5400 C   0  0  0  0  0  0  0  0  0  0  0  0\\n    6.7120  -10.7618   28.8118 C   0  0  0  0  0  0  0  0  0  0  0  0\\n    7.4887   -9.5966   28.8909 C   0  0  0  0  0  0  0  0  0  0  0  0\\n    5.5362  -12.7357   27.3173 S   0  0  0  0  0  0  0  0  0  0  0  0\\n    5.0634  -13.1935   28.6670 O   0  0  0  0  0  0  0  0  0  0  0  0\\n    4.4257  -12.3356   26.4057 O   0  0  0  0  0  0  0  0  0  0  0  0\\n    6.5288  -13.7720   26.5766 N   0  0  0  0  0  0  0  0  0  0  0  0\\n    7.5899  -14.3251   27.1977 C   0  0  0  0  0  0  0  0  0  0  0  0\\n    8.4253  -15.0901   26.5042 N   0  0  0  0  0  0  0  0  0  0  0  0\\n    7.8169  -14.1648   28.5056 N   0  0  0  0  0  0  0  0  0  0  0  0\\n  1  2  1  0\\n  1  8  1  0\\n  2  3  1  0\\n  2 10  2  0\\n  3  9  1  0\\n  3 11  1  6\\n  4  5  1  0\\n  4  9  2  0\\n  5  6  2  0\\n  6  7  1  0\\n  7  8  2  0\\n  8  9  1  0\\n 11 12  2  0\\n 12 13  1  0\\n 13 14  2  0\\n 13 18  1  0\\n 14 15  1  0\\n 15 16  2  0\\n 16 17  1  0\\n 16 19  1  0\\n 17 18  2  0\\n 19 20  2  0\\n 19 21  2  0\\n 19 22  1  0\\n 22 23  2  3\\n 23 24  1  0\\n 23 25  1  0\\nM  END\\n\",\"sdf\");\n\tviewer_16322326019003286.addModel(\"\\n     RDKit          3D\\n\\n 14 14  0  0  0  0  0  0  0  0999 V2000\\n    5.9889  -13.3728   26.3125 C   0  0  0  0  0  0  0  0  0  0  0  0\\n    5.9649  -12.6180   27.5845 C   0  0  0  0  0  0  0  0  0  0  0  0\\n    5.3091  -13.0830   28.5419 O   0  0  0  0  0  0  0  0  0  0  0  0\\n    6.6946  -11.3682   27.6925 C   0  0  0  0  0  0  0  0  0  0  0  0\\n    7.4088  -10.8825   26.6164 C   0  0  0  0  0  0  0  0  0  0  0  0\\n    8.0812   -9.6911   26.7796 C   0  0  0  0  0  0  0  0  0  0  0  0\\n    8.0755   -8.9673   27.9543 C   0  0  0  0  0  0  0  0  0  0  0  0\\n    8.7868   -7.7946   27.9865 O   0  0  0  0  0  0  0  0  0  0  0  0\\n    9.5170   -7.2909   26.8980 C   0  0  0  0  0  0  0  0  0  0  0  0\\n   10.1825   -6.0088   27.2243 C   0  0  0  0  0  0  0  0  0  0  0  0\\n   10.8841   -5.3931   26.3895 O   0  0  0  0  0  0  0  0  0  0  0  0\\n   10.0325   -5.4649   28.4847 O   0  0  0  0  0  0  0  0  0  0  0  0\\n    7.3642   -9.4468   29.0326 C   0  0  0  0  0  0  0  0  0  0  0  0\\n    6.6854  -10.6379   28.8865 C   0  0  0  0  0  0  0  0  0  0  0  0\\n  1  2  1  0\\n  2  3  2  0\\n  2  4  1  0\\n  4  5  2  0\\n  5  6  1  0\\n  6  7  2  0\\n  7  8  1  0\\n  8  9  1  0\\n  9 10  1  0\\n 10 11  2  0\\n 10 12  1  0\\n  7 13  1  0\\n 13 14  2  0\\n 14  4  1  0\\nM  END\\n\",\"sdf\");\n\tviewer_16322326019003286.setStyle({\"model\": 0},{\"stick\": {\"colorscheme\": \"lightgreyCarbon\"}});\n\tviewer_16322326019003286.setStyle({\"model\": 1},{\"stick\": {\"colorscheme\": \"purpleCarbon\"}});\n\tviewer_16322326019003286.zoomTo();\nviewer_16322326019003286.render();\n});\n</script>",
      "text/html": [
       "<div id=\"3dmolviewer_16322326019003286\"  style=\"position: relative; width: 640px; height: 480px\">\n",
       "        <p id=\"3dmolwarning_16322326019003286\" style=\"background-color:#ffcccc;color:black\">You appear to be running in JupyterLab (or JavaScript failed to load for some other reason).  You need to install the 3dmol extension: <br>\n",
       "        <tt>jupyter labextension install jupyterlab_3dmol</tt></p>\n",
       "        </div>\n",
       "<script>\n",
       "\n",
       "var loadScriptAsync = function(uri){\n",
       "  return new Promise((resolve, reject) => {\n",
       "    var tag = document.createElement('script');\n",
       "    tag.src = uri;\n",
       "    tag.async = true;\n",
       "    tag.onload = () => {\n",
       "      resolve();\n",
       "    };\n",
       "  var firstScriptTag = document.getElementsByTagName('script')[0];\n",
       "  firstScriptTag.parentNode.insertBefore(tag, firstScriptTag);\n",
       "});\n",
       "};\n",
       "\n",
       "if(typeof $3Dmolpromise === 'undefined') {\n",
       "$3Dmolpromise = null;\n",
       "  $3Dmolpromise = loadScriptAsync('https://3dmol.org/build/3Dmol.js');\n",
       "}\n",
       "\n",
       "var viewer_16322326019003286 = null;\n",
       "var warn = document.getElementById(\"3dmolwarning_16322326019003286\");\n",
       "if(warn) {\n",
       "    warn.parentNode.removeChild(warn);\n",
       "}\n",
       "$3Dmolpromise.then(function() {\n",
       "viewer_16322326019003286 = $3Dmol.createViewer($(\"#3dmolviewer_16322326019003286\"),{backgroundColor:\"white\"});\n",
       "viewer_16322326019003286.zoomTo();\n",
       "\tviewer_16322326019003286.addModel(\"4fkp_B_LS5.pdb\\n     RDKit          3D\\n\\n 25 27  0  0  1  0  0  0  0  0999 V2000\\n   10.6417   -4.0835   27.8633 N   0  0  0  0  0  0  0  0  0  0  0  0\\n   10.0065   -5.2357   28.1048 C   0  0  0  0  0  0  0  0  0  0  0  0\\n   10.3354   -6.1873   27.1370 C   0  0  2  0  0  0  0  0  0  0  0  0\\n   11.8520   -5.9557   25.0541 C   0  0  0  0  0  0  0  0  0  0  0  0\\n   12.6545   -5.0375   24.3624 C   0  0  0  0  0  0  0  0  0  0  0  0\\n   12.8641   -3.7339   24.8574 C   0  0  0  0  0  0  0  0  0  0  0  0\\n   12.1752   -3.3252   26.0183 C   0  0  0  0  0  0  0  0  0  0  0  0\\n   11.3705   -4.2335   26.7106 C   0  0  0  0  0  0  0  0  0  0  0  0\\n   11.1706   -5.5315   26.2056 C   0  0  0  0  0  0  0  0  0  0  0  0\\n    9.2747   -5.4833   29.0733 O   0  0  0  0  0  0  0  0  0  0  0  0\\n    9.7009   -7.4301   27.0036 C   0  0  0  0  0  0  0  0  0  0  0  0\\n    8.8040   -7.8777   27.8997 N   0  0  0  0  0  0  0  0  0  0  0  0\\n    8.0925   -9.0133   27.7674 C   0  0  0  0  0  0  0  0  0  0  0  0\\n    7.8420   -9.5680   26.4944 C   0  0  0  0  0  0  0  0  0  0  0  0\\n    7.0803  -10.7474   26.3965 C   0  0  0  0  0  0  0  0  0  0  0  0\\n    6.5221  -11.3316   27.5400 C   0  0  0  0  0  0  0  0  0  0  0  0\\n    6.7120  -10.7618   28.8118 C   0  0  0  0  0  0  0  0  0  0  0  0\\n    7.4887   -9.5966   28.8909 C   0  0  0  0  0  0  0  0  0  0  0  0\\n    5.5362  -12.7357   27.3173 S   0  0  0  0  0  0  0  0  0  0  0  0\\n    5.0634  -13.1935   28.6670 O   0  0  0  0  0  0  0  0  0  0  0  0\\n    4.4257  -12.3356   26.4057 O   0  0  0  0  0  0  0  0  0  0  0  0\\n    6.5288  -13.7720   26.5766 N   0  0  0  0  0  0  0  0  0  0  0  0\\n    7.5899  -14.3251   27.1977 C   0  0  0  0  0  0  0  0  0  0  0  0\\n    8.4253  -15.0901   26.5042 N   0  0  0  0  0  0  0  0  0  0  0  0\\n    7.8169  -14.1648   28.5056 N   0  0  0  0  0  0  0  0  0  0  0  0\\n  1  2  1  0\\n  1  8  1  0\\n  2  3  1  0\\n  2 10  2  0\\n  3  9  1  0\\n  3 11  1  6\\n  4  5  1  0\\n  4  9  2  0\\n  5  6  2  0\\n  6  7  1  0\\n  7  8  2  0\\n  8  9  1  0\\n 11 12  2  0\\n 12 13  1  0\\n 13 14  2  0\\n 13 18  1  0\\n 14 15  1  0\\n 15 16  2  0\\n 16 17  1  0\\n 16 19  1  0\\n 17 18  2  0\\n 19 20  2  0\\n 19 21  2  0\\n 19 22  1  0\\n 22 23  2  3\\n 23 24  1  0\\n 23 25  1  0\\nM  END\\n\",\"sdf\");\n",
       "\tviewer_16322326019003286.addModel(\"\\n     RDKit          3D\\n\\n 14 14  0  0  0  0  0  0  0  0999 V2000\\n    5.9889  -13.3728   26.3125 C   0  0  0  0  0  0  0  0  0  0  0  0\\n    5.9649  -12.6180   27.5845 C   0  0  0  0  0  0  0  0  0  0  0  0\\n    5.3091  -13.0830   28.5419 O   0  0  0  0  0  0  0  0  0  0  0  0\\n    6.6946  -11.3682   27.6925 C   0  0  0  0  0  0  0  0  0  0  0  0\\n    7.4088  -10.8825   26.6164 C   0  0  0  0  0  0  0  0  0  0  0  0\\n    8.0812   -9.6911   26.7796 C   0  0  0  0  0  0  0  0  0  0  0  0\\n    8.0755   -8.9673   27.9543 C   0  0  0  0  0  0  0  0  0  0  0  0\\n    8.7868   -7.7946   27.9865 O   0  0  0  0  0  0  0  0  0  0  0  0\\n    9.5170   -7.2909   26.8980 C   0  0  0  0  0  0  0  0  0  0  0  0\\n   10.1825   -6.0088   27.2243 C   0  0  0  0  0  0  0  0  0  0  0  0\\n   10.8841   -5.3931   26.3895 O   0  0  0  0  0  0  0  0  0  0  0  0\\n   10.0325   -5.4649   28.4847 O   0  0  0  0  0  0  0  0  0  0  0  0\\n    7.3642   -9.4468   29.0326 C   0  0  0  0  0  0  0  0  0  0  0  0\\n    6.6854  -10.6379   28.8865 C   0  0  0  0  0  0  0  0  0  0  0  0\\n  1  2  1  0\\n  2  3  2  0\\n  2  4  1  0\\n  4  5  2  0\\n  5  6  1  0\\n  6  7  2  0\\n  7  8  1  0\\n  8  9  1  0\\n  9 10  1  0\\n 10 11  2  0\\n 10 12  1  0\\n  7 13  1  0\\n 13 14  2  0\\n 14  4  1  0\\nM  END\\n\",\"sdf\");\n",
       "\tviewer_16322326019003286.setStyle({\"model\": 0},{\"stick\": {\"colorscheme\": \"lightgreyCarbon\"}});\n",
       "\tviewer_16322326019003286.setStyle({\"model\": 1},{\"stick\": {\"colorscheme\": \"purpleCarbon\"}});\n",
       "\tviewer_16322326019003286.zoomTo();\n",
       "viewer_16322326019003286.render();\n",
       "});\n",
       "</script>"
      ]
     },
     "metadata": {},
     "output_type": "display_data"
    }
   ],
   "source": [
    "fragid = goodalignments[1][0]\n",
    "show_two_mols(mols[molid], fragmols[fragid], confId2=1)"
   ]
  },
  {
   "cell_type": "code",
   "execution_count": 14,
   "id": "da067868",
   "metadata": {},
   "outputs": [
    {
     "data": {
      "application/3dmoljs_load.v0": "<div id=\"3dmolviewer_163223260195593\"  style=\"position: relative; width: 640px; height: 480px\">\n        <p id=\"3dmolwarning_163223260195593\" style=\"background-color:#ffcccc;color:black\">You appear to be running in JupyterLab (or JavaScript failed to load for some other reason).  You need to install the 3dmol extension: <br>\n        <tt>jupyter labextension install jupyterlab_3dmol</tt></p>\n        </div>\n<script>\n\nvar loadScriptAsync = function(uri){\n  return new Promise((resolve, reject) => {\n    var tag = document.createElement('script');\n    tag.src = uri;\n    tag.async = true;\n    tag.onload = () => {\n      resolve();\n    };\n  var firstScriptTag = document.getElementsByTagName('script')[0];\n  firstScriptTag.parentNode.insertBefore(tag, firstScriptTag);\n});\n};\n\nif(typeof $3Dmolpromise === 'undefined') {\n$3Dmolpromise = null;\n  $3Dmolpromise = loadScriptAsync('https://3dmol.org/build/3Dmol.js');\n}\n\nvar viewer_163223260195593 = null;\nvar warn = document.getElementById(\"3dmolwarning_163223260195593\");\nif(warn) {\n    warn.parentNode.removeChild(warn);\n}\n$3Dmolpromise.then(function() {\nviewer_163223260195593 = $3Dmol.createViewer($(\"#3dmolviewer_163223260195593\"),{backgroundColor:\"white\"});\nviewer_163223260195593.zoomTo();\n\tviewer_163223260195593.addModel(\"4fkp_B_LS5.pdb\\n     RDKit          3D\\n\\n 25 27  0  0  1  0  0  0  0  0999 V2000\\n   10.6417   -4.0835   27.8633 N   0  0  0  0  0  0  0  0  0  0  0  0\\n   10.0065   -5.2357   28.1048 C   0  0  0  0  0  0  0  0  0  0  0  0\\n   10.3354   -6.1873   27.1370 C   0  0  2  0  0  0  0  0  0  0  0  0\\n   11.8520   -5.9557   25.0541 C   0  0  0  0  0  0  0  0  0  0  0  0\\n   12.6545   -5.0375   24.3624 C   0  0  0  0  0  0  0  0  0  0  0  0\\n   12.8641   -3.7339   24.8574 C   0  0  0  0  0  0  0  0  0  0  0  0\\n   12.1752   -3.3252   26.0183 C   0  0  0  0  0  0  0  0  0  0  0  0\\n   11.3705   -4.2335   26.7106 C   0  0  0  0  0  0  0  0  0  0  0  0\\n   11.1706   -5.5315   26.2056 C   0  0  0  0  0  0  0  0  0  0  0  0\\n    9.2747   -5.4833   29.0733 O   0  0  0  0  0  0  0  0  0  0  0  0\\n    9.7009   -7.4301   27.0036 C   0  0  0  0  0  0  0  0  0  0  0  0\\n    8.8040   -7.8777   27.8997 N   0  0  0  0  0  0  0  0  0  0  0  0\\n    8.0925   -9.0133   27.7674 C   0  0  0  0  0  0  0  0  0  0  0  0\\n    7.8420   -9.5680   26.4944 C   0  0  0  0  0  0  0  0  0  0  0  0\\n    7.0803  -10.7474   26.3965 C   0  0  0  0  0  0  0  0  0  0  0  0\\n    6.5221  -11.3316   27.5400 C   0  0  0  0  0  0  0  0  0  0  0  0\\n    6.7120  -10.7618   28.8118 C   0  0  0  0  0  0  0  0  0  0  0  0\\n    7.4887   -9.5966   28.8909 C   0  0  0  0  0  0  0  0  0  0  0  0\\n    5.5362  -12.7357   27.3173 S   0  0  0  0  0  0  0  0  0  0  0  0\\n    5.0634  -13.1935   28.6670 O   0  0  0  0  0  0  0  0  0  0  0  0\\n    4.4257  -12.3356   26.4057 O   0  0  0  0  0  0  0  0  0  0  0  0\\n    6.5288  -13.7720   26.5766 N   0  0  0  0  0  0  0  0  0  0  0  0\\n    7.5899  -14.3251   27.1977 C   0  0  0  0  0  0  0  0  0  0  0  0\\n    8.4253  -15.0901   26.5042 N   0  0  0  0  0  0  0  0  0  0  0  0\\n    7.8169  -14.1648   28.5056 N   0  0  0  0  0  0  0  0  0  0  0  0\\n  1  2  1  0\\n  1  8  1  0\\n  2  3  1  0\\n  2 10  2  0\\n  3  9  1  0\\n  3 11  1  6\\n  4  5  1  0\\n  4  9  2  0\\n  5  6  2  0\\n  6  7  1  0\\n  7  8  2  0\\n  8  9  1  0\\n 11 12  2  0\\n 12 13  1  0\\n 13 14  2  0\\n 13 18  1  0\\n 14 15  1  0\\n 15 16  2  0\\n 16 17  1  0\\n 16 19  1  0\\n 17 18  2  0\\n 19 20  2  0\\n 19 21  2  0\\n 19 22  1  0\\n 22 23  2  3\\n 23 24  1  0\\n 23 25  1  0\\nM  END\\n\",\"sdf\");\n\tviewer_163223260195593.addModel(\"\\n     RDKit          3D\\n\\n  8  8  0  0  0  0  0  0  0  0999 V2000\\n    6.1525  -13.6677   27.0533 C   0  0  0  0  0  0  0  0  0  0  0  0\\n    5.6301  -12.3277   27.2406 N   0  0  0  0  0  0  0  0  0  0  0  0\\n    6.3866  -11.1930   27.5757 C   0  0  0  0  0  0  0  0  0  0  0  0\\n    6.6926  -10.9544   28.8505 N   0  0  0  0  0  0  0  0  0  0  0  0\\n    7.4043   -9.8560   29.1795 C   0  0  0  0  0  0  0  0  0  0  0  0\\n    7.8371   -8.9492   28.2329 C   0  0  0  0  0  0  0  0  0  0  0  0\\n    7.4996   -9.2287   26.9131 C   0  0  0  0  0  0  0  0  0  0  0  0\\n    6.7781  -10.3523   26.6257 N   0  0  0  0  0  0  0  0  0  0  0  0\\n  1  2  1  0\\n  2  3  1  0\\n  3  4  2  0\\n  4  5  1  0\\n  5  6  2  0\\n  6  7  1  0\\n  7  8  2  0\\n  8  3  1  0\\nM  END\\n\",\"sdf\");\n\tviewer_163223260195593.setStyle({\"model\": 0},{\"stick\": {\"colorscheme\": \"lightgreyCarbon\"}});\n\tviewer_163223260195593.setStyle({\"model\": 1},{\"stick\": {\"colorscheme\": \"purpleCarbon\"}});\n\tviewer_163223260195593.zoomTo();\nviewer_163223260195593.render();\n});\n</script>",
      "text/html": [
       "<div id=\"3dmolviewer_163223260195593\"  style=\"position: relative; width: 640px; height: 480px\">\n",
       "        <p id=\"3dmolwarning_163223260195593\" style=\"background-color:#ffcccc;color:black\">You appear to be running in JupyterLab (or JavaScript failed to load for some other reason).  You need to install the 3dmol extension: <br>\n",
       "        <tt>jupyter labextension install jupyterlab_3dmol</tt></p>\n",
       "        </div>\n",
       "<script>\n",
       "\n",
       "var loadScriptAsync = function(uri){\n",
       "  return new Promise((resolve, reject) => {\n",
       "    var tag = document.createElement('script');\n",
       "    tag.src = uri;\n",
       "    tag.async = true;\n",
       "    tag.onload = () => {\n",
       "      resolve();\n",
       "    };\n",
       "  var firstScriptTag = document.getElementsByTagName('script')[0];\n",
       "  firstScriptTag.parentNode.insertBefore(tag, firstScriptTag);\n",
       "});\n",
       "};\n",
       "\n",
       "if(typeof $3Dmolpromise === 'undefined') {\n",
       "$3Dmolpromise = null;\n",
       "  $3Dmolpromise = loadScriptAsync('https://3dmol.org/build/3Dmol.js');\n",
       "}\n",
       "\n",
       "var viewer_163223260195593 = null;\n",
       "var warn = document.getElementById(\"3dmolwarning_163223260195593\");\n",
       "if(warn) {\n",
       "    warn.parentNode.removeChild(warn);\n",
       "}\n",
       "$3Dmolpromise.then(function() {\n",
       "viewer_163223260195593 = $3Dmol.createViewer($(\"#3dmolviewer_163223260195593\"),{backgroundColor:\"white\"});\n",
       "viewer_163223260195593.zoomTo();\n",
       "\tviewer_163223260195593.addModel(\"4fkp_B_LS5.pdb\\n     RDKit          3D\\n\\n 25 27  0  0  1  0  0  0  0  0999 V2000\\n   10.6417   -4.0835   27.8633 N   0  0  0  0  0  0  0  0  0  0  0  0\\n   10.0065   -5.2357   28.1048 C   0  0  0  0  0  0  0  0  0  0  0  0\\n   10.3354   -6.1873   27.1370 C   0  0  2  0  0  0  0  0  0  0  0  0\\n   11.8520   -5.9557   25.0541 C   0  0  0  0  0  0  0  0  0  0  0  0\\n   12.6545   -5.0375   24.3624 C   0  0  0  0  0  0  0  0  0  0  0  0\\n   12.8641   -3.7339   24.8574 C   0  0  0  0  0  0  0  0  0  0  0  0\\n   12.1752   -3.3252   26.0183 C   0  0  0  0  0  0  0  0  0  0  0  0\\n   11.3705   -4.2335   26.7106 C   0  0  0  0  0  0  0  0  0  0  0  0\\n   11.1706   -5.5315   26.2056 C   0  0  0  0  0  0  0  0  0  0  0  0\\n    9.2747   -5.4833   29.0733 O   0  0  0  0  0  0  0  0  0  0  0  0\\n    9.7009   -7.4301   27.0036 C   0  0  0  0  0  0  0  0  0  0  0  0\\n    8.8040   -7.8777   27.8997 N   0  0  0  0  0  0  0  0  0  0  0  0\\n    8.0925   -9.0133   27.7674 C   0  0  0  0  0  0  0  0  0  0  0  0\\n    7.8420   -9.5680   26.4944 C   0  0  0  0  0  0  0  0  0  0  0  0\\n    7.0803  -10.7474   26.3965 C   0  0  0  0  0  0  0  0  0  0  0  0\\n    6.5221  -11.3316   27.5400 C   0  0  0  0  0  0  0  0  0  0  0  0\\n    6.7120  -10.7618   28.8118 C   0  0  0  0  0  0  0  0  0  0  0  0\\n    7.4887   -9.5966   28.8909 C   0  0  0  0  0  0  0  0  0  0  0  0\\n    5.5362  -12.7357   27.3173 S   0  0  0  0  0  0  0  0  0  0  0  0\\n    5.0634  -13.1935   28.6670 O   0  0  0  0  0  0  0  0  0  0  0  0\\n    4.4257  -12.3356   26.4057 O   0  0  0  0  0  0  0  0  0  0  0  0\\n    6.5288  -13.7720   26.5766 N   0  0  0  0  0  0  0  0  0  0  0  0\\n    7.5899  -14.3251   27.1977 C   0  0  0  0  0  0  0  0  0  0  0  0\\n    8.4253  -15.0901   26.5042 N   0  0  0  0  0  0  0  0  0  0  0  0\\n    7.8169  -14.1648   28.5056 N   0  0  0  0  0  0  0  0  0  0  0  0\\n  1  2  1  0\\n  1  8  1  0\\n  2  3  1  0\\n  2 10  2  0\\n  3  9  1  0\\n  3 11  1  6\\n  4  5  1  0\\n  4  9  2  0\\n  5  6  2  0\\n  6  7  1  0\\n  7  8  2  0\\n  8  9  1  0\\n 11 12  2  0\\n 12 13  1  0\\n 13 14  2  0\\n 13 18  1  0\\n 14 15  1  0\\n 15 16  2  0\\n 16 17  1  0\\n 16 19  1  0\\n 17 18  2  0\\n 19 20  2  0\\n 19 21  2  0\\n 19 22  1  0\\n 22 23  2  3\\n 23 24  1  0\\n 23 25  1  0\\nM  END\\n\",\"sdf\");\n",
       "\tviewer_163223260195593.addModel(\"\\n     RDKit          3D\\n\\n  8  8  0  0  0  0  0  0  0  0999 V2000\\n    6.1525  -13.6677   27.0533 C   0  0  0  0  0  0  0  0  0  0  0  0\\n    5.6301  -12.3277   27.2406 N   0  0  0  0  0  0  0  0  0  0  0  0\\n    6.3866  -11.1930   27.5757 C   0  0  0  0  0  0  0  0  0  0  0  0\\n    6.6926  -10.9544   28.8505 N   0  0  0  0  0  0  0  0  0  0  0  0\\n    7.4043   -9.8560   29.1795 C   0  0  0  0  0  0  0  0  0  0  0  0\\n    7.8371   -8.9492   28.2329 C   0  0  0  0  0  0  0  0  0  0  0  0\\n    7.4996   -9.2287   26.9131 C   0  0  0  0  0  0  0  0  0  0  0  0\\n    6.7781  -10.3523   26.6257 N   0  0  0  0  0  0  0  0  0  0  0  0\\n  1  2  1  0\\n  2  3  1  0\\n  3  4  2  0\\n  4  5  1  0\\n  5  6  2  0\\n  6  7  1  0\\n  7  8  2  0\\n  8  3  1  0\\nM  END\\n\",\"sdf\");\n",
       "\tviewer_163223260195593.setStyle({\"model\": 0},{\"stick\": {\"colorscheme\": \"lightgreyCarbon\"}});\n",
       "\tviewer_163223260195593.setStyle({\"model\": 1},{\"stick\": {\"colorscheme\": \"purpleCarbon\"}});\n",
       "\tviewer_163223260195593.zoomTo();\n",
       "viewer_163223260195593.render();\n",
       "});\n",
       "</script>"
      ]
     },
     "metadata": {},
     "output_type": "display_data"
    }
   ],
   "source": [
    "fragid = goodalignments[2][0]\n",
    "show_two_mols(mols[molid], fragmols[fragid], confId2=1)"
   ]
  },
  {
   "cell_type": "markdown",
   "id": "53e9910e",
   "metadata": {},
   "source": [
    "## Compute and Fit Density Difference"
   ]
  },
  {
   "cell_type": "markdown",
   "id": "f97dfbaa",
   "metadata": {},
   "source": [
    "The aligned conformation is stored as a conformer of the original fragment, therefore one needs to ensure that the density corresponding to the correct conformer is removed."
   ]
  },
  {
   "cell_type": "code",
   "execution_count": 15,
   "id": "f2a3eafb",
   "metadata": {},
   "outputs": [],
   "source": [
    "ligmap = \"../files/ligmap\"\n",
    "typer = molgrid.FileMappedGninaTyper(ligmap)"
   ]
  },
  {
   "cell_type": "code",
   "execution_count": 16,
   "id": "540e70db",
   "metadata": {},
   "outputs": [],
   "source": [
    "obmol = pybel.Molecule(rd_mol_to_ob_mol(mols[molid]))\n",
    "\n",
    "rdfrag = fragmols[goodalignments[0][0]]\n",
    "# Get correct conformer for rdfrag\n",
    "# confId=1 corresponds to the aligned conformers\n",
    "#rdfrag = Chem.MolFromMolBlock(Chem.MolToMolBlock(rdfrag, confId=1))\n",
    "# https://github.com/rdkit/rdkit/discussions/4520\n",
    "crdfrag = Chem.Mol(rdfrag, True) # Copy molecule\n",
    "crdfrag.AddConformer(rdfrag.GetConformer(1), assignId=True) # Add conformer to copy of molecule\n",
    "\n",
    "obfrag = pybel.Molecule(rd_mol_to_ob_mol(crdfrag)) # Best aligned fragment (confId=1)"
   ]
  },
  {
   "cell_type": "code",
   "execution_count": 17,
   "id": "f1ae38ae",
   "metadata": {},
   "outputs": [
    {
     "name": "stderr",
     "output_type": "stream",
     "text": [
      "../../ligan-EVOTEC/fitting.py:115: UserWarning: To copy construct from a tensor, it is recommended to use sourceTensor.clone().detach() or sourceTensor.clone().detach().requires_grad_(True), rather than torch.tensor(sourceTensor).\n",
      "  values = torch.tensor(mgrid.values,device=device)\n"
     ]
    },
    {
     "ename": "RuntimeError",
     "evalue": "Found no NVIDIA driver on your system. Please check that you have an NVIDIA GPU and installed a driver from http://www.nvidia.com/Download/index.aspx",
     "output_type": "error",
     "traceback": [
      "\u001b[0;31m---------------------------------------------------------------------------\u001b[0m",
      "\u001b[0;31mRuntimeError\u001b[0m                              Traceback (most recent call last)",
      "\u001b[0;32m<ipython-input-17-58463f04195c>\u001b[0m in \u001b[0;36m<module>\u001b[0;34m\u001b[0m\n\u001b[1;32m      1\u001b[0m \u001b[0mdiff\u001b[0m\u001b[0;34m,\u001b[0m \u001b[0mc\u001b[0m \u001b[0;34m=\u001b[0m \u001b[0mgrid_diff\u001b[0m\u001b[0;34m(\u001b[0m\u001b[0mobmol\u001b[0m\u001b[0;34m,\u001b[0m \u001b[0mobfrag\u001b[0m\u001b[0;34m,\u001b[0m \u001b[0;36m23.5\u001b[0m\u001b[0;34m,\u001b[0m \u001b[0;36m0.5\u001b[0m\u001b[0;34m,\u001b[0m \u001b[0mtyper\u001b[0m\u001b[0;34m)\u001b[0m\u001b[0;34m\u001b[0m\u001b[0;34m\u001b[0m\u001b[0m\n\u001b[0;32m----> 2\u001b[0;31m \u001b[0mrdmolfit\u001b[0m \u001b[0;34m=\u001b[0m \u001b[0mmolgrid_diff_to_mol\u001b[0m\u001b[0;34m(\u001b[0m\u001b[0mdiff\u001b[0m\u001b[0;34m,\u001b[0m \u001b[0mc\u001b[0m\u001b[0;34m,\u001b[0m \u001b[0;36m0.5\u001b[0m\u001b[0;34m,\u001b[0m \u001b[0mligmap\u001b[0m\u001b[0;34m,\u001b[0m \u001b[0mscaffold\u001b[0m\u001b[0;34m=\u001b[0m\u001b[0;32mNone\u001b[0m\u001b[0;34m)\u001b[0m\u001b[0;34m\u001b[0m\u001b[0;34m\u001b[0m\u001b[0m\n\u001b[0m",
      "\u001b[0;32m~/Documents/git/densitymatch/fit_to_grid.py\u001b[0m in \u001b[0;36mmolgrid_diff_to_mol\u001b[0;34m(diff, center, resolution, ligmap, scaffold, verbose)\u001b[0m\n\u001b[1;32m    212\u001b[0m     \"\"\"\n\u001b[1;32m    213\u001b[0m     \u001b[0;31m# Molecule (fragment) built by fitting atoms into the density difference\u001b[0m\u001b[0;34m\u001b[0m\u001b[0;34m\u001b[0m\u001b[0;34m\u001b[0m\u001b[0m\n\u001b[0;32m--> 214\u001b[0;31m     \u001b[0mrdmol\u001b[0m \u001b[0;34m=\u001b[0m \u001b[0mfit_atoms\u001b[0m\u001b[0;34m(\u001b[0m\u001b[0mdiff\u001b[0m\u001b[0;34m,\u001b[0m \u001b[0mcenter\u001b[0m\u001b[0;34m,\u001b[0m \u001b[0mresolution\u001b[0m\u001b[0;34m,\u001b[0m \u001b[0mligmap\u001b[0m\u001b[0;34m,\u001b[0m \u001b[0mverbose\u001b[0m\u001b[0;34m)\u001b[0m\u001b[0;34m\u001b[0m\u001b[0;34m\u001b[0m\u001b[0m\n\u001b[0m\u001b[1;32m    215\u001b[0m \u001b[0;34m\u001b[0m\u001b[0m\n\u001b[1;32m    216\u001b[0m     \u001b[0;32mif\u001b[0m \u001b[0mscaffold\u001b[0m \u001b[0;32mis\u001b[0m \u001b[0;32mnot\u001b[0m \u001b[0;32mNone\u001b[0m\u001b[0;34m:\u001b[0m\u001b[0;34m\u001b[0m\u001b[0;34m\u001b[0m\u001b[0m\n",
      "\u001b[0;32m~/Documents/git/densitymatch/fit_to_grid.py\u001b[0m in \u001b[0;36mfit_atoms\u001b[0;34m(diff, center, resolution, ligmap, verbose)\u001b[0m\n\u001b[1;32m    163\u001b[0m         \u001b[0miters\u001b[0m\u001b[0;34m=\u001b[0m\u001b[0;36m25\u001b[0m\u001b[0;34m,\u001b[0m\u001b[0;34m\u001b[0m\u001b[0;34m\u001b[0m\u001b[0m\n\u001b[1;32m    164\u001b[0m         \u001b[0mtol\u001b[0m\u001b[0;34m=\u001b[0m\u001b[0;36m0.01\u001b[0m\u001b[0;34m,\u001b[0m\u001b[0;34m\u001b[0m\u001b[0;34m\u001b[0m\u001b[0m\n\u001b[0;32m--> 165\u001b[0;31m         \u001b[0mgrm\u001b[0m\u001b[0;34m=\u001b[0m\u001b[0;36m1.0\u001b[0m\u001b[0;34m,\u001b[0m  \u001b[0;31m# Gaussian radius multiplier?\u001b[0m\u001b[0;34m\u001b[0m\u001b[0;34m\u001b[0m\u001b[0m\n\u001b[0m\u001b[1;32m    166\u001b[0m     )\n\u001b[1;32m    167\u001b[0m \u001b[0;34m\u001b[0m\u001b[0m\n",
      "\u001b[0;32m~/Documents/git/ligan-EVOTEC/fitting.py\u001b[0m in \u001b[0;36msimple_atom_fit\u001b[0;34m(mgrid, types, iters, tol, device, grm)\u001b[0m\n\u001b[1;32m    113\u001b[0m     \u001b[0mnumatoms\u001b[0m \u001b[0;34m=\u001b[0m \u001b[0;36m0\u001b[0m\u001b[0;34m\u001b[0m\u001b[0;34m\u001b[0m\u001b[0m\n\u001b[1;32m    114\u001b[0m     \u001b[0mtcnts\u001b[0m \u001b[0;34m=\u001b[0m \u001b[0;34m{\u001b[0m\u001b[0;34m}\u001b[0m\u001b[0;34m\u001b[0m\u001b[0;34m\u001b[0m\u001b[0m\n\u001b[0;32m--> 115\u001b[0;31m     \u001b[0mvalues\u001b[0m \u001b[0;34m=\u001b[0m \u001b[0mtorch\u001b[0m\u001b[0;34m.\u001b[0m\u001b[0mtensor\u001b[0m\u001b[0;34m(\u001b[0m\u001b[0mmgrid\u001b[0m\u001b[0;34m.\u001b[0m\u001b[0mvalues\u001b[0m\u001b[0;34m,\u001b[0m\u001b[0mdevice\u001b[0m\u001b[0;34m=\u001b[0m\u001b[0mdevice\u001b[0m\u001b[0;34m)\u001b[0m\u001b[0;34m\u001b[0m\u001b[0;34m\u001b[0m\u001b[0m\n\u001b[0m\u001b[1;32m    116\u001b[0m \u001b[0;34m\u001b[0m\u001b[0m\n\u001b[1;32m    117\u001b[0m     \u001b[0;32mfor\u001b[0m \u001b[0;34m(\u001b[0m\u001b[0mt\u001b[0m\u001b[0;34m,\u001b[0m\u001b[0mG\u001b[0m\u001b[0;34m)\u001b[0m \u001b[0;32min\u001b[0m \u001b[0menumerate\u001b[0m\u001b[0;34m(\u001b[0m\u001b[0mvalues\u001b[0m\u001b[0;34m)\u001b[0m\u001b[0;34m:\u001b[0m\u001b[0;34m\u001b[0m\u001b[0;34m\u001b[0m\u001b[0m\n",
      "\u001b[0;32m/usr/local/lib/python3.6/dist-packages/torch/cuda/__init__.py\u001b[0m in \u001b[0;36m_lazy_init\u001b[0;34m()\u001b[0m\n\u001b[1;32m    170\u001b[0m         \u001b[0;31m# This function throws if there's a driver initialization error, no GPUs\u001b[0m\u001b[0;34m\u001b[0m\u001b[0;34m\u001b[0m\u001b[0;34m\u001b[0m\u001b[0m\n\u001b[1;32m    171\u001b[0m         \u001b[0;31m# are found or any other error occurs\u001b[0m\u001b[0;34m\u001b[0m\u001b[0;34m\u001b[0m\u001b[0;34m\u001b[0m\u001b[0m\n\u001b[0;32m--> 172\u001b[0;31m         \u001b[0mtorch\u001b[0m\u001b[0;34m.\u001b[0m\u001b[0m_C\u001b[0m\u001b[0;34m.\u001b[0m\u001b[0m_cuda_init\u001b[0m\u001b[0;34m(\u001b[0m\u001b[0;34m)\u001b[0m\u001b[0;34m\u001b[0m\u001b[0;34m\u001b[0m\u001b[0m\n\u001b[0m\u001b[1;32m    173\u001b[0m         \u001b[0;31m# Some of the queued calls may reentrantly call _lazy_init();\u001b[0m\u001b[0;34m\u001b[0m\u001b[0;34m\u001b[0m\u001b[0;34m\u001b[0m\u001b[0m\n\u001b[1;32m    174\u001b[0m         \u001b[0;31m# we need to just return without initializing in that case.\u001b[0m\u001b[0;34m\u001b[0m\u001b[0;34m\u001b[0m\u001b[0;34m\u001b[0m\u001b[0m\n",
      "\u001b[0;31mRuntimeError\u001b[0m: Found no NVIDIA driver on your system. Please check that you have an NVIDIA GPU and installed a driver from http://www.nvidia.com/Download/index.aspx"
     ]
    }
   ],
   "source": [
    "diff, c = grid_diff(obmol, obfrag, 23.5, 0.5, typer)\n",
    "rdmolfit = molgrid_diff_to_mol(diff, c, 0.5, ligmap, scaffold=None)"
   ]
  },
  {
   "cell_type": "code",
   "execution_count": null,
   "id": "bb316ada",
   "metadata": {},
   "outputs": [],
   "source": [
    "show_two_mols(mols[molid], rdmolfit)"
   ]
  },
  {
   "cell_type": "code",
   "execution_count": null,
   "id": "127a2046",
   "metadata": {},
   "outputs": [],
   "source": [
    "show_molecule_idx(0, [rdmolfit])"
   ]
  },
  {
   "cell_type": "code",
   "execution_count": null,
   "id": "82b1b789",
   "metadata": {},
   "outputs": [],
   "source": [
    "rdmolfit = molgrid_diff_to_mol(diff, c, 0.5, ligmap, scaffold=rdfrag, verbose=True)"
   ]
  }
 ],
 "metadata": {
  "kernelspec": {
   "display_name": "Python 3",
   "language": "python",
   "name": "python3"
  },
  "language_info": {
   "codemirror_mode": {
    "name": "ipython",
    "version": 3
   },
   "file_extension": ".py",
   "mimetype": "text/x-python",
   "name": "python",
   "nbconvert_exporter": "python",
   "pygments_lexer": "ipython3",
   "version": "3.6.9"
  }
 },
 "nbformat": 4,
 "nbformat_minor": 5
}
