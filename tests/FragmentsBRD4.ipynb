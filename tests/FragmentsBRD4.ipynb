{
 "cells": [
  {
   "cell_type": "markdown",
   "metadata": {},
   "source": [
    "# Fit Fragments"
   ]
  },
  {
   "cell_type": "markdown",
   "metadata": {},
   "source": [
    "### Libraries"
   ]
  },
  {
   "cell_type": "code",
   "execution_count": 1,
   "metadata": {},
   "outputs": [],
   "source": [
    "import sys\n",
    "\n",
    "sys.path.append(\"..\")"
   ]
  },
  {
   "cell_type": "code",
   "execution_count": 2,
   "metadata": {},
   "outputs": [
    {
     "name": "stdout",
     "output_type": "stream",
     "text": [
      "Jupyter environment detected. Enabling Open3D WebVisualizer.\n",
      "[Open3D INFO] WebRTC GUI backend enabled.\n",
      "[Open3D INFO] WebRTCWindowSystem: HTTP handshake server disabled.\n"
     ]
    },
    {
     "name": "stderr",
     "output_type": "stream",
     "text": [
      "INFO - 2021-08-10 13:46:25,742 - __init__ - Enabling RDKit 2021.03.3 jupyter extensions\n"
     ]
    }
   ],
   "source": [
    "import open3d as o3d\n",
    "import numpy as np\n",
    "import seaborn as sns\n",
    "import pandas as pd\n",
    "\n",
    "import re, os\n",
    "from io import StringIO\n",
    "\n",
    "import py3Dmol\n",
    "\n",
    "from rdkit import Chem\n",
    "from rdkit.Chem import AllChem\n",
    "from rdkit.Chem import PandasTools\n",
    "from rdkit.Chem.Draw import MolDrawing, DrawingOptions\n",
    "\n",
    "PandasTools.InstallPandasTools()\n",
    "\n",
    "import ipywidgets as widgets\n",
    "from IPython.display import HTML\n",
    "\n",
    "import copy"
   ]
  },
  {
   "cell_type": "code",
   "execution_count": 3,
   "metadata": {},
   "outputs": [],
   "source": [
    "from score_pcd import fit_and_score"
   ]
  },
  {
   "cell_type": "markdown",
   "metadata": {},
   "source": [
    "## SENSAAS"
   ]
  },
  {
   "cell_type": "markdown",
   "metadata": {},
   "source": [
    "### Imatinib (Test)"
   ]
  },
  {
   "cell_type": "code",
   "execution_count": 4,
   "metadata": {},
   "outputs": [
    {
     "name": "stdout",
     "output_type": "stream",
     "text": [
      "\u001b[1;33m[Open3D WARNING] [KDTreeFlann::SetRawData] Failed due to no data.\u001b[0;m\n",
      "\u001b[1;33m[Open3D WARNING] [KDTreeFlann::SetRawData] Failed due to no data.\u001b[0;m\n",
      "\u001b[1;33m[Open3D WARNING] [KDTreeFlann::SetRawData] Failed due to no data.\u001b[0;m\n",
      "\u001b[1;33m[Open3D WARNING] [KDTreeFlann::SetRawData] Failed due to no data.\u001b[0;m\n",
      "\u001b[1;33m[Open3D WARNING] [KDTreeFlann::SetRawData] Failed due to no data.\u001b[0;m\n",
      "\u001b[1;33m[Open3D WARNING] [KDTreeFlann::SetRawData] Failed due to no data.\u001b[0;m\n",
      "\u001b[1;33m[Open3D WARNING] [KDTreeFlann::SetRawData] Failed due to no data.\u001b[0;m\n",
      "\u001b[1;33m[Open3D WARNING] [KDTreeFlann::SetRawData] Failed due to no data.\u001b[0;m\n",
      "\u001b[1;33m[Open3D WARNING] [KDTreeFlann::SetRawData] Failed due to no data.\u001b[0;m\n",
      "\u001b[1;33m[Open3D WARNING] [KDTreeFlann::SetRawData] Failed due to no data.\u001b[0;m\n",
      "\u001b[1;33m[Open3D WARNING] [KDTreeFlann::SetRawData] Failed due to no data.\u001b[0;m\n",
      "\u001b[1;33m[Open3D WARNING] [KDTreeFlann::SetRawData] Failed due to no data.\u001b[0;m\n",
      "ligands/imatinib.sdf 1 - ligands/imatinib_parts.sdf 1 score-source gfit= 0.913 cfit= 0.830 hfit= 0.969 gfit+hfit= 1.882\n",
      "\n",
      "\u001b[1;33m[Open3D WARNING] [KDTreeFlann::SetRawData] Failed due to no data.\u001b[0;m\n",
      "\u001b[1;33m[Open3D WARNING] [KDTreeFlann::SetRawData] Failed due to no data.\u001b[0;m\n",
      "\u001b[1;33m[Open3D WARNING] [KDTreeFlann::SetRawData] Failed due to no data.\u001b[0;m\n",
      "\u001b[1;33m[Open3D WARNING] [KDTreeFlann::SetRawData] Failed due to no data.\u001b[0;m\n",
      "\u001b[1;33m[Open3D WARNING] [KDTreeFlann::SetRawData] Failed due to no data.\u001b[0;m\n",
      "\u001b[1;33m[Open3D WARNING] [KDTreeFlann::SetRawData] Failed due to no data.\u001b[0;m\n",
      "\u001b[1;33m[Open3D WARNING] [KDTreeFlann::SetRawData] Failed due to no data.\u001b[0;m\n",
      "\u001b[1;33m[Open3D WARNING] [KDTreeFlann::SetRawData] Failed due to no data.\u001b[0;m\n",
      "\u001b[1;33m[Open3D WARNING] [KDTreeFlann::SetRawData] Failed due to no data.\u001b[0;m\n",
      "\u001b[1;33m[Open3D WARNING] [KDTreeFlann::SetRawData] Failed due to no data.\u001b[0;m\n",
      "\u001b[1;33m[Open3D WARNING] [KDTreeFlann::SetRawData] Failed due to no data.\u001b[0;m\n",
      "\u001b[1;33m[Open3D WARNING] [KDTreeFlann::SetRawData] Failed due to no data.\u001b[0;m\n",
      "ligands/imatinib.sdf 1 - ligands/imatinib_parts.sdf 2 score-source gfit= 0.722 cfit= 0.681 hfit= 0.714 gfit+hfit= 1.436\n",
      "\n",
      "\u001b[1;33m[Open3D WARNING] [KDTreeFlann::SetRawData] Failed due to no data.\u001b[0;m\n",
      "\u001b[1;33m[Open3D WARNING] [KDTreeFlann::SetRawData] Failed due to no data.\u001b[0;m\n",
      "\u001b[1;33m[Open3D WARNING] [KDTreeFlann::SetRawData] Failed due to no data.\u001b[0;m\n",
      "\u001b[1;33m[Open3D WARNING] [KDTreeFlann::SetRawData] Failed due to no data.\u001b[0;m\n",
      "\u001b[1;33m[Open3D WARNING] [KDTreeFlann::SetRawData] Failed due to no data.\u001b[0;m\n",
      "\u001b[1;33m[Open3D WARNING] [KDTreeFlann::SetRawData] Failed due to no data.\u001b[0;m\n",
      "\u001b[1;33m[Open3D WARNING] [KDTreeFlann::SetRawData] Failed due to no data.\u001b[0;m\n",
      "\u001b[1;33m[Open3D WARNING] [KDTreeFlann::SetRawData] Failed due to no data.\u001b[0;m\n",
      "\u001b[1;33m[Open3D WARNING] [KDTreeFlann::SetRawData] Failed due to no data.\u001b[0;m\n",
      "\u001b[1;33m[Open3D WARNING] [KDTreeFlann::SetRawData] Failed due to no data.\u001b[0;m\n",
      "\u001b[1;33m[Open3D WARNING] [KDTreeFlann::SetRawData] Failed due to no data.\u001b[0;m\n",
      "\u001b[1;33m[Open3D WARNING] [KDTreeFlann::SetRawData] Failed due to no data.\u001b[0;m\n",
      "ligands/imatinib.sdf 1 - ligands/imatinib_parts.sdf 3 score-source gfit= 0.425 cfit= 0.281 hfit= 0.279 gfit+hfit= 0.704\n",
      "\n",
      "gfithfit= 1.882 gfit= 0.913 hfit= 0.969 (target 1 ; source 1 ; outputs: bestsensaas.sdf, catsensaas.sdf and matrix-sensaas.txt)\n"
     ]
    }
   ],
   "source": [
    "%%bash\n",
    "export PATH=${PWD}/../../sensaas:${PATH}\n",
    "python ../../sensaas/meta-sensaas.py ligands/imatinib.sdf ligands/imatinib_parts.sdf"
   ]
  },
  {
   "cell_type": "code",
   "execution_count": 5,
   "metadata": {},
   "outputs": [
    {
     "data": {
      "application/vnd.jupyter.widget-view+json": {
       "model_id": "e7f4fa6646944247a1e3d4f22ce1e395",
       "version_major": 2,
       "version_minor": 0
      },
      "text/plain": [
       "interactive(children=(IntSlider(value=0, description='index', max=2), Output()), _dom_classes=('widget-interac…"
      ]
     },
     "metadata": {},
     "output_type": "display_data"
    }
   ],
   "source": [
    "mols = [mol for mol in Chem.SDMolSupplier(\"catsensaas.sdf\")]\n",
    "imatinib = next(Chem.SDMolSupplier(\"ligands/imatinib.sdf\"))\n",
    "\n",
    "def update(index=0):\n",
    "    p = py3Dmol.view()\n",
    "    p.addModel(Chem.MolToMolBlock(mols[index]), 'sdf')\n",
    "    p.addModel(Chem.MolToMolBlock(imatinib), 'sdf')\n",
    "\n",
    "    p.setStyle({\"model\": 1}, {'stick':{'colorscheme':'lightgreyCarbon'}})\n",
    "    p.setStyle({\"model\": 0}, {'stick':{'colorscheme':'redCarbon'}})\n",
    "\n",
    "    p.zoomTo()\n",
    "\n",
    "    return p\n",
    "    \n",
    "_ = widgets.interact(update, index=widgets.IntSlider(min=0, max=len(mols)-1, step=1, value=0))"
   ]
  },
  {
   "cell_type": "markdown",
   "metadata": {},
   "source": [
    "## BRD4 Inhibitors"
   ]
  },
  {
   "cell_type": "code",
   "execution_count": 6,
   "metadata": {},
   "outputs": [
    {
     "name": "stdout",
     "output_type": "stream",
     "text": [
      "['ligands/BRD4/ligand-1_tran.pcd', 'ligands/BRD4/ligand-2_tran.pcd', 'ligands/BRD4/ligand-3_tran.pcd', 'ligands/BRD4/ligand-4_tran.pcd', 'ligands/BRD4/ligand-5_tran.pcd', 'ligands/BRD4/ligand-6_tran.pcd', 'ligands/BRD4/ligand-7_tran.pcd', 'ligands/BRD4/ligand-8_tran.pcd', 'ligands/BRD4/ligand-9_tran.pcd', 'ligands/BRD4/ligand-10_tran.pcd']\n"
     ]
    }
   ],
   "source": [
    "path = \"ligands/BRD4\"\n",
    "files = [os.path.join(path, f) for f in os.listdir(path) if os.path.splitext(f)[-1] == \".pcd\" and os.path.splitext(f)[0][-4:] == \"tran\"]\n",
    "\n",
    "# Sort BRD4 ligand files by number\n",
    "r = re.compile(\"\\d{1,2}\")\n",
    "files.sort(key=lambda f: int(r.search(os.path.basename(f)).group()))\n",
    "\n",
    "print(files)\n",
    "\n",
    "pcds = []\n",
    "mols = []\n",
    "for f in files:\n",
    "    pcd = o3d.io.read_point_cloud(f)\n",
    "    pcds.append(pcd)\n",
    "\n",
    "    s = Chem.SDMolSupplier(f.replace(\".pcd\", \".sdf\"))\n",
    "    mol = next(s)\n",
    "    mols.append(mol)"
   ]
  },
  {
   "cell_type": "markdown",
   "metadata": {},
   "source": [
    "### Generate Fragments Manyally from Single Bonds"
   ]
  },
  {
   "cell_type": "code",
   "execution_count": 7,
   "metadata": {},
   "outputs": [],
   "source": [
    "molid = 9"
   ]
  },
  {
   "cell_type": "code",
   "execution_count": 8,
   "metadata": {},
   "outputs": [
    {
     "data": {
      "image/png": "[encoded data removed]",
      "text/plain": [
       "<rdkit.Chem.rdchem.Mol at 0x7f0375756a80>"
      ]
     },
     "execution_count": 8,
     "metadata": {},
     "output_type": "execute_result"
    }
   ],
   "source": [
    "DrawingOptions.includeAtomNumbers=True\n",
    "\n",
    "\n",
    "mol1 = copy.deepcopy(mols[molid])\n",
    "mol1.Compute2DCoords()\n",
    "\n",
    "mol1"
   ]
  },
  {
   "cell_type": "code",
   "execution_count": 9,
   "metadata": {},
   "outputs": [],
   "source": [
    "def cut(mol):\n",
    "    \"\"\"\n",
    "    Original source:\n",
    "        Project: guacamol_baselines\n",
    "        Author: BenevolentAI\n",
    "        File: crossover.py\n",
    "        License: MIT License\n",
    "    \"\"\"\n",
    "    if not mol.HasSubstructMatch(Chem.MolFromSmarts('[*]-;!@[*]')):\n",
    "        return None\n",
    "\n",
    "    # List of atom pairs matching SMARTS pattern\n",
    "    bis = mol.GetSubstructMatches(Chem.MolFromSmarts('[*]-;!@[*]'))  # single bond not in ring\n",
    "\n",
    "    fragments = []\n",
    "    for b in bis:\n",
    "        # Bond between atom pair\n",
    "        bs = [mol.GetBondBetweenAtoms(b[0], b[1]).GetIdx()]\n",
    "\n",
    "        #f = Chem.FragmentOnBonds(mol, bs, addDummies=True, dummyLabels=[(1, 1)])\n",
    "        f = Chem.FragmentOnBonds(mol, bs, addDummies=False, dummyLabels=[(1, 1)])\n",
    "\n",
    "        try:\n",
    "            # Pair of fragments\n",
    "            mols = Chem.GetMolFrags(f, asMols=True, sanitizeFrags=True)\n",
    "\n",
    "            # Look for fragments bigger than one heteroatom\n",
    "            if mols[0].GetNumHeavyAtoms() > 1 and mols[1].GetNumHeavyAtoms() > 1:\n",
    "                fragments.append(mols)\n",
    "        except ValueError:\n",
    "            fragments.appen(None)\n",
    "\n",
    "    return fragments\n"
   ]
  },
  {
   "cell_type": "code",
   "execution_count": 10,
   "metadata": {},
   "outputs": [
    {
     "data": {
      "text/plain": [
       "[(<rdkit.Chem.rdchem.Mol at 0x7f0375765870>,\n",
       "  <rdkit.Chem.rdchem.Mol at 0x7f0375765e70>),\n",
       " (<rdkit.Chem.rdchem.Mol at 0x7f03757656f0>,\n",
       "  <rdkit.Chem.rdchem.Mol at 0x7f0375765630>),\n",
       " (<rdkit.Chem.rdchem.Mol at 0x7f0375746750>,\n",
       "  <rdkit.Chem.rdchem.Mol at 0x7f0375746450>)]"
      ]
     },
     "execution_count": 10,
     "metadata": {},
     "output_type": "execute_result"
    }
   ],
   "source": [
    "frags = cut(mol1)\n",
    "frags"
   ]
  },
  {
   "cell_type": "code",
   "execution_count": 11,
   "metadata": {},
   "outputs": [],
   "source": [
    "df = pd.DataFrame(frags, columns=[\"frag1\", \"frag2\"])"
   ]
  },
  {
   "cell_type": "code",
   "execution_count": 12,
   "metadata": {},
   "outputs": [],
   "source": [
    "for idx, row in df.iterrows():\n",
    "    mol1 = row[\"frag1\"]\n",
    "    mol2 = row[\"frag2\"]\n",
    "\n",
    "    with Chem.SDWriter(os.path.join(path, f\"frag_{idx}_1.sdf\")) as w:\n",
    "        w.write(mol1, confId=0)\n",
    "\n",
    "    with Chem.SDWriter(os.path.join(path, f\"frag_{idx}_2.sdf\")) as w:\n",
    "        w.write(mol2, confId=0)"
   ]
  },
  {
   "cell_type": "code",
   "execution_count": 13,
   "metadata": {},
   "outputs": [
    {
     "data": {
      "text/plain": [
       "3"
      ]
     },
     "execution_count": 13,
     "metadata": {},
     "output_type": "execute_result"
    }
   ],
   "source": [
    "n_frags = len(frags)\n",
    "\n",
    "n_frags_minus_one = n_frags - 1\n",
    "\n",
    "n_frags"
   ]
  },
  {
   "cell_type": "code",
   "execution_count": 14,
   "metadata": {},
   "outputs": [
    {
     "name": "stdout",
     "output_type": "stream",
     "text": [
      "frag_0_1.pcd\n",
      "frag_0_1.sdf\n",
      "frag_0_2.pcd\n",
      "frag_0_2.sdf\n",
      "frag_1_1.pcd\n",
      "frag_1_1.sdf\n",
      "frag_1_2.pcd\n",
      "frag_1_2.sdf\n",
      "frag_2_1.pcd\n",
      "frag_2_1.sdf\n",
      "frag_2_2.pcd\n",
      "frag_2_2.sdf\n"
     ]
    }
   ],
   "source": [
    "!ls ligands/BRD4 | grep frag"
   ]
  },
  {
   "cell_type": "code",
   "execution_count": 15,
   "metadata": {},
   "outputs": [],
   "source": [
    "%%bash -s \"$path\" \"$n_frags_minus_one\"\n",
    "\n",
    "# Python variable path passed to bash\n",
    "# Can be accessed with $1\n",
    "\n",
    "# Python variable n_frags passed to bash\n",
    "# Can be accessed with $2\n",
    "\n",
    "# Unfortunately molgrid does not work well with pybel\n",
    "# molgrid_to_pcd needs to run within a Singularity container\n",
    "# (RDKit and molgrid compiled from source!)\n",
    "# See https://github.com/gnina/libmolgrid/issues/62\n",
    "\n",
    "for FRAG in $(seq 0 $2)\n",
    "do\n",
    "    singularity run --nv --app python ../development/densitymatch.sif \\\n",
    "        ../molgrid_to_pcd.py ${PWD}/${1}/frag_${FRAG}_1.sdf -o ${PWD}/${1}/frag_${FRAG}_1.pcd \\\n",
    "            --ligmap ${PWD}/../files/ligmap\n",
    "\n",
    "    singularity run --nv --app python ../development/densitymatch.sif \\\n",
    "        ../molgrid_to_pcd.py ${PWD}/${1}/frag_${FRAG}_2.sdf -o ${PWD}/${1}/frag_${FRAG}_2.pcd \\\n",
    "            --ligmap ${PWD}/../files/ligmap\n",
    "done"
   ]
  },
  {
   "cell_type": "code",
   "execution_count": 16,
   "metadata": {},
   "outputs": [
    {
     "name": "stdout",
     "output_type": "stream",
     "text": [
      "frag_0_1.pcd\n",
      "frag_0_2.pcd\n",
      "frag_1_1.pcd\n",
      "frag_1_2.pcd\n",
      "frag_2_1.pcd\n",
      "frag_2_2.pcd\n"
     ]
    }
   ],
   "source": [
    "!ls ligands/BRD4 | grep \"frag.*\\.pcd\""
   ]
  },
  {
   "cell_type": "code",
   "execution_count": 17,
   "metadata": {},
   "outputs": [
    {
     "name": "stdout",
     "output_type": "stream",
     "text": [
      "['ligands/BRD4/frag_0_1.pcd', 'ligands/BRD4/frag_0_2.pcd', 'ligands/BRD4/frag_1_1.pcd', 'ligands/BRD4/frag_1_2.pcd', 'ligands/BRD4/frag_2_1.pcd', 'ligands/BRD4/frag_2_2.pcd']\n",
      "[PointCloud with 200 points., PointCloud with 772 points., PointCloud with 850 points., PointCloud with 104 points., PointCloud with 818 points., PointCloud with 120 points.]\n"
     ]
    }
   ],
   "source": [
    "fpcds = []\n",
    "fmols = []\n",
    "\n",
    "files = [os.path.join(path, f\"frag_{nf}_{i}.pcd\") for nf in range(n_frags) for i in range(1, 3)]\n",
    "\n",
    "print(files)\n",
    "\n",
    "for f in files:\n",
    "    pcd = o3d.io.read_point_cloud(f)\n",
    "    fpcds.append(pcd)\n",
    "\n",
    "    s = Chem.SDMolSupplier(f.replace(\".pcd\", \".sdf\"))\n",
    "    mol = next(s)\n",
    "    fmols.append(mol)\n",
    "\n",
    "print(fpcds)"
   ]
  },
  {
   "cell_type": "code",
   "execution_count": 18,
   "metadata": {},
   "outputs": [],
   "source": [
    "def align_frag_and_show(cidx, idx):\n",
    "    \"\"\"\n",
    "    Align given conformer with original BRD4 ligand.\n",
    "    \"\"\"\n",
    "    pcd1, pcd2 = fpcds[cidx], pcds[idx]\n",
    "    mol1, mol2 = fmols[cidx], mols[idx]\n",
    "    \n",
    "    fit, cfit, tran = fit_and_score((pcd1, pcd2), voxel_size=0.5, threshold=0.5)\n",
    "\n",
    "    print(cfit.fitness)\n",
    "\n",
    "    # Get coordinates to transform\n",
    "    coords = mol1.GetConformer(0).GetPositions()\n",
    "\n",
    "    # Augment coordinates with ones\n",
    "    coords_aug = np.ones((coords.shape[0], 4))\n",
    "    coords_aug[:,:3] = coords\n",
    "\n",
    "    # Compute new (transformed) coordinates\n",
    "    coords_new = np.matmul(tran, coords_aug.T)[:3,:].T\n",
    "\n",
    "    # Add new coordinates as conformer\n",
    "    n_atoms = mol1.GetNumAtoms()\n",
    "    conf = Chem.Conformer(n_atoms)\n",
    "    for i in range(n_atoms):\n",
    "        conf.SetAtomPosition(i, coords_new[i,:])\n",
    "\n",
    "    _ = mol1.AddConformer(conf, assignId=True)\n",
    "\n",
    "    # Create view\n",
    "    p = py3Dmol.view()\n",
    "    p.addModel(Chem.MolToMolBlock(mol1, confId=0),'sdf')\n",
    "    p.addModel(Chem.MolToMolBlock(mol1, confId=1),'sdf')\n",
    "    p.addModel(Chem.MolToMolBlock(mol2, confId=0),'sdf')\n",
    "\n",
    "    p.setStyle({\"model\": 0}, {'stick':{'colorscheme':'lightgreyCarbon'}})\n",
    "    p.setStyle({\"model\": 1}, {'stick':{'colorscheme':'redCarbon'}})\n",
    "    p.setStyle({\"model\": 2}, {'stick':{'colorscheme':'greyCarbon'}})\n",
    "\n",
    "    p.zoomTo()\n",
    "\n",
    "    return p"
   ]
  },
  {
   "cell_type": "code",
   "execution_count": 19,
   "metadata": {},
   "outputs": [
    {
     "name": "stdout",
     "output_type": "stream",
     "text": [
      "0.8\n"
     ]
    },
    {
     "data": {
      "application/3dmoljs_load.v0": "<div id=\"3dmolviewer_1628599744980087\"  style=\"position: relative; width: 640px; height: 480px\">\n        <p id=\"3dmolwarning_1628599744980087\" style=\"background-color:#ffcccc;color:black\">You appear to be running in JupyterLab (or JavaScript failed to load for some other reason).  You need to install the 3dmol extension: <br>\n        <tt>jupyter labextension install jupyterlab_3dmol</tt></p>\n        </div>\n<script>\n\nvar loadScriptAsync = function(uri){\n  return new Promise((resolve, reject) => {\n    var tag = document.createElement('script');\n    tag.src = uri;\n    tag.async = true;\n    tag.onload = () => {\n      resolve();\n    };\n  var firstScriptTag = document.getElementsByTagName('script')[0];\n  firstScriptTag.parentNode.insertBefore(tag, firstScriptTag);\n});\n};\n\nif(typeof $3Dmolpromise === 'undefined') {\n$3Dmolpromise = null;\n  $3Dmolpromise = loadScriptAsync('https://3dmol.org/build/3Dmol.js');\n}\n\nvar viewer_1628599744980087 = null;\nvar warn = document.getElementById(\"3dmolwarning_1628599744980087\");\nif(warn) {\n    warn.parentNode.removeChild(warn);\n}\n$3Dmolpromise.then(function() {\nviewer_1628599744980087 = $3Dmol.createViewer($(\"#3dmolviewer_1628599744980087\"),{backgroundColor:\"white\"});\nviewer_1628599744980087.zoomTo();\n\tviewer_1628599744980087.addModel(\"\\n     RDKit          2D\\n\\n  7  7  0  0  0  0  0  0  0  0999 V2000\\n    2.7803    1.5214    0.0000 C   0  0  0  0  0  0  0  0  0  0  0  0\\n    2.8641   -1.0754    0.0000 C   0  0  0  0  0  0  0  0  0  0  0  0\\n    4.2796    1.5697    0.0000 C   0  0  0  0  0  0  0  0  0  0  0  0\\n    4.3633   -1.0270    0.0000 C   0  0  0  0  0  0  0  0  0  0  0  0\\n    2.0726    0.1988    0.0000 C   0  0  0  0  0  0  0  0  0  0  0  0\\n    5.0711    0.2956    0.0000 C   0  0  0  0  0  0  0  0  0  0  0  0\\n    6.5703    0.3439    0.0000 Cl  0  0  0  0  0  0  0  0  0  0  0  0\\n  1  3  2  0\\n  1  5  1  0\\n  2  4  1  0\\n  2  5  2  0\\n  3  6  1  0\\n  4  6  2  0\\n  6  7  1  0\\nM  END\\n\",\"sdf\");\n\tviewer_1628599744980087.addModel(\"\\n     RDKit          3D\\n\\n  7  7  0  0  0  0  0  0  0  0999 V2000\\n   15.1994   17.1972    5.1634 C   0  0  0  0  0  0  0  0  0  0  0  0\\n   13.9003   17.8461    3.0089 C   0  0  0  0  0  0  0  0  0  0  0  0\\n   13.9047   17.1006    5.9148 C   0  0  0  0  0  0  0  0  0  0  0  0\\n   12.6058   17.7494    3.7604 C   0  0  0  0  0  0  0  0  0  0  0  0\\n   15.1971   17.5700    3.7104 C   0  0  0  0  0  0  0  0  0  0  0  0\\n   12.6080   17.3767    5.2134 C   0  0  0  0  0  0  0  0  0  0  0  0\\n   11.3134   17.2800    5.9649 Cl  0  0  0  0  0  0  0  0  0  0  0  0\\n  1  3  2  0\\n  1  5  1  0\\n  2  4  1  0\\n  2  5  2  0\\n  3  6  1  0\\n  4  6  2  0\\n  6  7  1  0\\nM  END\\n\",\"sdf\");\n\tviewer_1628599744980087.addModel(\"BRD4, Ligand 10\\n     RDKit          3D\\n\\n 27 30  0  0  1  0  0  0  0  0999 V2000\\n   14.2547   17.0265    5.1962 C   0  0  0  0  0  0  0  0  0  0  0  0\\n   14.7890   18.2659    3.2133 C   0  0  0  0  0  0  0  0  0  0  0  0\\n   15.5101   17.2545    5.7242 C   0  0  0  0  0  0  0  0  0  0  0  0\\n   16.0495   18.4892    3.7360 C   0  0  0  0  0  0  0  0  0  0  0  0\\n   10.7049   14.9465    3.4383 C   0  0  0  0  0  0  0  0  0  0  0  0\\n   13.8894   17.5330    3.9603 C   0  0  0  0  0  0  0  0  0  0  0  0\\n   11.5097   17.0173    4.4542 C   0  0  0  0  0  0  0  0  0  0  0  0\\n   11.2209   17.8654    5.5732 C   0  0  0  0  0  0  0  0  0  0  0  0\\n   16.4051   17.9930    4.9781 C   0  0  0  0  0  0  0  0  0  0  0  0\\n   10.6991   15.8932    4.4549 C   0  0  0  0  0  0  0  0  0  0  0  0\\n   10.8493   15.3757    2.1447 C   0  0  0  0  0  0  0  0  0  0  0  0\\n   10.5329   13.5416    3.3747 C   0  0  0  0  0  0  0  0  0  0  0  0\\n   10.1954   17.3625    6.3565 C   0  0  0  0  0  0  0  0  0  0  0  0\\n   12.5382   17.2447    3.4418 C   0  0  0  0  0  0  0  0  0  0  0  0\\n   11.3411   18.2901   -0.2450 C   0  0  0  0  0  0  0  0  0  0  0  0\\n   11.0674   16.7579    1.6569 C   0  0  0  0  0  0  0  0  0  0  0  0\\n   11.8900   19.1513    5.8577 C   0  0  0  0  0  0  0  0  0  0  0  0\\n   10.3210   12.5661    4.4585 C   0  0  0  0  0  0  0  0  0  0  0  0\\n    9.5948   17.9265    7.5823 C   0  0  0  0  0  0  0  0  0  0  0  0\\n   11.0829   16.8685    0.1516 C   0  0  0  0  0  0  0  0  0  0  0  0\\n   10.5860   13.1448    2.0949 N   0  0  0  0  0  0  0  0  0  0  0  0\\n   12.3971   17.1190    2.1496 N   0  0  0  0  0  0  0  0  0  0  0  0\\n   11.8808   18.3738   -1.5024 N   0  0  0  0  0  0  0  0  0  0  0  0\\n   11.0891   19.2574    0.4605 O   0  0  0  0  0  0  0  0  0  0  0  0\\n   10.7935   14.2899    1.3191 O   0  0  0  0  0  0  0  0  0  0  0  0\\n    9.5965   15.8640    5.7635 S   0  0  0  0  0  0  0  0  0  0  0  0\\n   17.9850   18.2843    5.6252 Cl  0  0  0  0  0  0  0  0  0  0  0  0\\n  1  3  2  0\\n  1  6  1  0\\n  2  4  1  0\\n  2  6  2  0\\n  3  9  1  0\\n  4  9  2  0\\n  5 10  1  0\\n  5 11  2  0\\n  5 12  1  0\\n  6 14  1  0\\n  7  8  1  0\\n  7 10  2  0\\n  7 14  1  0\\n  8 13  2  0\\n  8 17  1  0\\n  9 27  1  0\\n 10 26  1  0\\n 11 16  1  0\\n 11 25  1  0\\n 12 18  1  0\\n 12 21  2  0\\n 13 19  1  0\\n 13 26  1  0\\n 14 22  2  0\\n 15 20  1  0\\n 15 23  1  0\\n 15 24  2  0\\n 16 20  1  0\\n 16 22  1  0\\n 21 25  1  0\\nM  END\\n\",\"sdf\");\n\tviewer_1628599744980087.setStyle({\"model\": 0},{\"stick\": {\"colorscheme\": \"lightgreyCarbon\"}});\n\tviewer_1628599744980087.setStyle({\"model\": 1},{\"stick\": {\"colorscheme\": \"redCarbon\"}});\n\tviewer_1628599744980087.setStyle({\"model\": 2},{\"stick\": {\"colorscheme\": \"greyCarbon\"}});\n\tviewer_1628599744980087.zoomTo();\nviewer_1628599744980087.render();\n});\n</script>",
      "text/html": [
       "<div id=\"3dmolviewer_1628599744980087\"  style=\"position: relative; width: 640px; height: 480px\">\n",
       "        <p id=\"3dmolwarning_1628599744980087\" style=\"background-color:#ffcccc;color:black\">You appear to be running in JupyterLab (or JavaScript failed to load for some other reason).  You need to install the 3dmol extension: <br>\n",
       "        <tt>jupyter labextension install jupyterlab_3dmol</tt></p>\n",
       "        </div>\n",
       "<script>\n",
       "\n",
       "var loadScriptAsync = function(uri){\n",
       "  return new Promise((resolve, reject) => {\n",
       "    var tag = document.createElement('script');\n",
       "    tag.src = uri;\n",
       "    tag.async = true;\n",
       "    tag.onload = () => {\n",
       "      resolve();\n",
       "    };\n",
       "  var firstScriptTag = document.getElementsByTagName('script')[0];\n",
       "  firstScriptTag.parentNode.insertBefore(tag, firstScriptTag);\n",
       "});\n",
       "};\n",
       "\n",
       "if(typeof $3Dmolpromise === 'undefined') {\n",
       "$3Dmolpromise = null;\n",
       "  $3Dmolpromise = loadScriptAsync('https://3dmol.org/build/3Dmol.js');\n",
       "}\n",
       "\n",
       "var viewer_1628599744980087 = null;\n",
       "var warn = document.getElementById(\"3dmolwarning_1628599744980087\");\n",
       "if(warn) {\n",
       "    warn.parentNode.removeChild(warn);\n",
       "}\n",
       "$3Dmolpromise.then(function() {\n",
       "viewer_1628599744980087 = $3Dmol.createViewer($(\"#3dmolviewer_1628599744980087\"),{backgroundColor:\"white\"});\n",
       "viewer_1628599744980087.zoomTo();\n",
       "\tviewer_1628599744980087.addModel(\"\\n     RDKit          2D\\n\\n  7  7  0  0  0  0  0  0  0  0999 V2000\\n    2.7803    1.5214    0.0000 C   0  0  0  0  0  0  0  0  0  0  0  0\\n    2.8641   -1.0754    0.0000 C   0  0  0  0  0  0  0  0  0  0  0  0\\n    4.2796    1.5697    0.0000 C   0  0  0  0  0  0  0  0  0  0  0  0\\n    4.3633   -1.0270    0.0000 C   0  0  0  0  0  0  0  0  0  0  0  0\\n    2.0726    0.1988    0.0000 C   0  0  0  0  0  0  0  0  0  0  0  0\\n    5.0711    0.2956    0.0000 C   0  0  0  0  0  0  0  0  0  0  0  0\\n    6.5703    0.3439    0.0000 Cl  0  0  0  0  0  0  0  0  0  0  0  0\\n  1  3  2  0\\n  1  5  1  0\\n  2  4  1  0\\n  2  5  2  0\\n  3  6  1  0\\n  4  6  2  0\\n  6  7  1  0\\nM  END\\n\",\"sdf\");\n",
       "\tviewer_1628599744980087.addModel(\"\\n     RDKit          3D\\n\\n  7  7  0  0  0  0  0  0  0  0999 V2000\\n   15.1994   17.1972    5.1634 C   0  0  0  0  0  0  0  0  0  0  0  0\\n   13.9003   17.8461    3.0089 C   0  0  0  0  0  0  0  0  0  0  0  0\\n   13.9047   17.1006    5.9148 C   0  0  0  0  0  0  0  0  0  0  0  0\\n   12.6058   17.7494    3.7604 C   0  0  0  0  0  0  0  0  0  0  0  0\\n   15.1971   17.5700    3.7104 C   0  0  0  0  0  0  0  0  0  0  0  0\\n   12.6080   17.3767    5.2134 C   0  0  0  0  0  0  0  0  0  0  0  0\\n   11.3134   17.2800    5.9649 Cl  0  0  0  0  0  0  0  0  0  0  0  0\\n  1  3  2  0\\n  1  5  1  0\\n  2  4  1  0\\n  2  5  2  0\\n  3  6  1  0\\n  4  6  2  0\\n  6  7  1  0\\nM  END\\n\",\"sdf\");\n",
       "\tviewer_1628599744980087.addModel(\"BRD4, Ligand 10\\n     RDKit          3D\\n\\n 27 30  0  0  1  0  0  0  0  0999 V2000\\n   14.2547   17.0265    5.1962 C   0  0  0  0  0  0  0  0  0  0  0  0\\n   14.7890   18.2659    3.2133 C   0  0  0  0  0  0  0  0  0  0  0  0\\n   15.5101   17.2545    5.7242 C   0  0  0  0  0  0  0  0  0  0  0  0\\n   16.0495   18.4892    3.7360 C   0  0  0  0  0  0  0  0  0  0  0  0\\n   10.7049   14.9465    3.4383 C   0  0  0  0  0  0  0  0  0  0  0  0\\n   13.8894   17.5330    3.9603 C   0  0  0  0  0  0  0  0  0  0  0  0\\n   11.5097   17.0173    4.4542 C   0  0  0  0  0  0  0  0  0  0  0  0\\n   11.2209   17.8654    5.5732 C   0  0  0  0  0  0  0  0  0  0  0  0\\n   16.4051   17.9930    4.9781 C   0  0  0  0  0  0  0  0  0  0  0  0\\n   10.6991   15.8932    4.4549 C   0  0  0  0  0  0  0  0  0  0  0  0\\n   10.8493   15.3757    2.1447 C   0  0  0  0  0  0  0  0  0  0  0  0\\n   10.5329   13.5416    3.3747 C   0  0  0  0  0  0  0  0  0  0  0  0\\n   10.1954   17.3625    6.3565 C   0  0  0  0  0  0  0  0  0  0  0  0\\n   12.5382   17.2447    3.4418 C   0  0  0  0  0  0  0  0  0  0  0  0\\n   11.3411   18.2901   -0.2450 C   0  0  0  0  0  0  0  0  0  0  0  0\\n   11.0674   16.7579    1.6569 C   0  0  0  0  0  0  0  0  0  0  0  0\\n   11.8900   19.1513    5.8577 C   0  0  0  0  0  0  0  0  0  0  0  0\\n   10.3210   12.5661    4.4585 C   0  0  0  0  0  0  0  0  0  0  0  0\\n    9.5948   17.9265    7.5823 C   0  0  0  0  0  0  0  0  0  0  0  0\\n   11.0829   16.8685    0.1516 C   0  0  0  0  0  0  0  0  0  0  0  0\\n   10.5860   13.1448    2.0949 N   0  0  0  0  0  0  0  0  0  0  0  0\\n   12.3971   17.1190    2.1496 N   0  0  0  0  0  0  0  0  0  0  0  0\\n   11.8808   18.3738   -1.5024 N   0  0  0  0  0  0  0  0  0  0  0  0\\n   11.0891   19.2574    0.4605 O   0  0  0  0  0  0  0  0  0  0  0  0\\n   10.7935   14.2899    1.3191 O   0  0  0  0  0  0  0  0  0  0  0  0\\n    9.5965   15.8640    5.7635 S   0  0  0  0  0  0  0  0  0  0  0  0\\n   17.9850   18.2843    5.6252 Cl  0  0  0  0  0  0  0  0  0  0  0  0\\n  1  3  2  0\\n  1  6  1  0\\n  2  4  1  0\\n  2  6  2  0\\n  3  9  1  0\\n  4  9  2  0\\n  5 10  1  0\\n  5 11  2  0\\n  5 12  1  0\\n  6 14  1  0\\n  7  8  1  0\\n  7 10  2  0\\n  7 14  1  0\\n  8 13  2  0\\n  8 17  1  0\\n  9 27  1  0\\n 10 26  1  0\\n 11 16  1  0\\n 11 25  1  0\\n 12 18  1  0\\n 12 21  2  0\\n 13 19  1  0\\n 13 26  1  0\\n 14 22  2  0\\n 15 20  1  0\\n 15 23  1  0\\n 15 24  2  0\\n 16 20  1  0\\n 16 22  1  0\\n 21 25  1  0\\nM  END\\n\",\"sdf\");\n",
       "\tviewer_1628599744980087.setStyle({\"model\": 0},{\"stick\": {\"colorscheme\": \"lightgreyCarbon\"}});\n",
       "\tviewer_1628599744980087.setStyle({\"model\": 1},{\"stick\": {\"colorscheme\": \"redCarbon\"}});\n",
       "\tviewer_1628599744980087.setStyle({\"model\": 2},{\"stick\": {\"colorscheme\": \"greyCarbon\"}});\n",
       "\tviewer_1628599744980087.zoomTo();\n",
       "viewer_1628599744980087.render();\n",
       "});\n",
       "</script>"
      ]
     },
     "metadata": {},
     "output_type": "display_data"
    },
    {
     "data": {
      "text/plain": [
       "<py3Dmol.view at 0x7f038d504750>"
      ]
     },
     "execution_count": 19,
     "metadata": {},
     "output_type": "execute_result"
    }
   ],
   "source": [
    "align_frag_and_show(0, 9)"
   ]
  },
  {
   "cell_type": "code",
   "execution_count": 20,
   "metadata": {},
   "outputs": [
    {
     "name": "stdout",
     "output_type": "stream",
     "text": [
      "0.6606217616580311\n"
     ]
    },
    {
     "data": {
      "application/3dmoljs_load.v0": "<div id=\"3dmolviewer_16285997456764123\"  style=\"position: relative; width: 640px; height: 480px\">\n        <p id=\"3dmolwarning_16285997456764123\" style=\"background-color:#ffcccc;color:black\">You appear to be running in JupyterLab (or JavaScript failed to load for some other reason).  You need to install the 3dmol extension: <br>\n        <tt>jupyter labextension install jupyterlab_3dmol</tt></p>\n        </div>\n<script>\n\nvar loadScriptAsync = function(uri){\n  return new Promise((resolve, reject) => {\n    var tag = document.createElement('script');\n    tag.src = uri;\n    tag.async = true;\n    tag.onload = () => {\n      resolve();\n    };\n  var firstScriptTag = document.getElementsByTagName('script')[0];\n  firstScriptTag.parentNode.insertBefore(tag, firstScriptTag);\n});\n};\n\nif(typeof $3Dmolpromise === 'undefined') {\n$3Dmolpromise = null;\n  $3Dmolpromise = loadScriptAsync('https://3dmol.org/build/3Dmol.js');\n}\n\nvar viewer_16285997456764123 = null;\nvar warn = document.getElementById(\"3dmolwarning_16285997456764123\");\nif(warn) {\n    warn.parentNode.removeChild(warn);\n}\n$3Dmolpromise.then(function() {\nviewer_16285997456764123 = $3Dmol.createViewer($(\"#3dmolviewer_16285997456764123\"),{backgroundColor:\"white\"});\nviewer_16285997456764123.zoomTo();\n\tviewer_16285997456764123.addModel(\"\\n     RDKit          2D\\n\\n 20 22  0  0  0  0  0  0  0  0999 V2000\\n   -2.6867   -0.7051    0.0000 C   0  0  0  0  0  0  0  0  0  0  0  0\\n   -0.0335   -1.2213    0.0000 C   0  0  0  0  0  0  0  0  0  0  0  0\\n    0.7770   -2.4835    0.0000 C   0  0  0  0  0  0  0  0  0  0  0  0\\n   -1.4844   -1.6021    0.0000 C   0  0  0  0  0  0  0  0  0  0  0  0\\n   -2.7350    0.7941    0.0000 C   0  0  0  0  0  0  0  0  0  0  0  0\\n   -4.0976   -1.2144    0.0000 C   0  0  0  0  0  0  0  0  0  0  0  0\\n   -0.1730   -3.6443    0.0000 C   0  0  0  0  0  0  0  0  0  0  0  0\\n    0.5734    0.1504    0.0000 C   0  0  0  0  0  0  0  0  0  0  0  0\\n   -0.9077    4.2727    0.0000 C   0  0  0  0  0  0  0  0  0  0  0  0\\n   -1.5931    1.7666    0.0000 C   0  0  0  0  0  0  0  0  0  0  0  0\\n    2.2745   -2.5697    0.0000 C   0  0  0  0  0  0  0  0  0  0  0  0\\n   -4.5148   -2.6552    0.0000 C   0  0  0  0  0  0  0  0  0  0  0  0\\n    0.2078   -5.0952    0.0000 C   0  0  0  0  0  0  0  0  0  0  0  0\\n   -1.9738    3.2175    0.0000 C   0  0  0  0  0  0  0  0  0  0  0  0\\n   -5.0179   -0.0300    0.0000 N   0  0  0  0  0  0  0  0  0  0  0  0\\n   -0.1207    1.4802    0.0000 N   0  0  0  0  0  0  0  0  0  0  0  0\\n   -1.2885    5.7236    0.0000 N   0  0  0  0  0  0  0  0  0  0  0  0\\n    0.5391    3.8770    0.0000 O   0  0  0  0  0  0  0  0  0  0  0  0\\n   -4.1758    1.2113    0.0000 O   0  0  0  0  0  0  0  0  0  0  0  0\\n   -1.5706   -3.0996    0.0000 S   0  0  0  0  0  0  0  0  0  0  0  0\\n  1  4  1  0\\n  1  5  2  0\\n  1  6  1  0\\n  2  3  1  0\\n  2  4  2  0\\n  2  8  1  0\\n  3  7  2  0\\n  3 11  1  0\\n  4 20  1  0\\n  5 10  1  0\\n  5 19  1  0\\n  6 12  1  0\\n  6 15  2  0\\n  7 13  1  0\\n  7 20  1  0\\n  8 16  2  0\\n  9 14  1  0\\n  9 17  1  0\\n  9 18  2  0\\n 10 14  1  0\\n 10 16  1  0\\n 15 19  1  0\\nM  END\\n\",\"sdf\");\n\tviewer_16285997456764123.addModel(\"\\n     RDKit          3D\\n\\n 20 22  0  0  0  0  0  0  0  0999 V2000\\n   11.1099   16.9487    5.3158 C   0  0  0  0  0  0  0  0  0  0  0  0\\n   13.1792   17.4101    3.6391 C   0  0  0  0  0  0  0  0  0  0  0  0\\n   14.2816   18.4269    3.6082 C   0  0  0  0  0  0  0  0  0  0  0  0\\n   12.3299   17.6836    4.8450 C   0  0  0  0  0  0  0  0  0  0  0  0\\n   10.4380   15.7589    4.6970 C   0  0  0  0  0  0  0  0  0  0  0  0\\n   10.3433   17.3248    6.5490 C   0  0  0  0  0  0  0  0  0  0  0  0\\n   14.1136   19.3287    4.7950 C   0  0  0  0  0  0  0  0  0  0  0  0\\n   13.0182   16.3344    2.6063 C   0  0  0  0  0  0  0  0  0  0  0  0\\n   10.2306   13.0365    1.8713 C   0  0  0  0  0  0  0  0  0  0  0  0\\n   10.8199   15.0102    3.4547 C   0  0  0  0  0  0  0  0  0  0  0  0\\n   15.3621   18.5247    2.5725 C   0  0  0  0  0  0  0  0  0  0  0  0\\n   10.6660   18.4591    7.4759 C   0  0  0  0  0  0  0  0  0  0  0  0\\n   14.9968   20.4867    5.1544 C   0  0  0  0  0  0  0  0  0  0  0  0\\n    9.9367   13.8522    3.0953 C   0  0  0  0  0  0  0  0  0  0  0  0\\n    9.1975   16.3676    6.6924 N   0  0  0  0  0  0  0  0  0  0  0  0\\n   11.9682   15.2662    2.5242 N   0  0  0  0  0  0  0  0  0  0  0  0\\n    9.3474   11.8785    1.5119 N   0  0  0  0  0  0  0  0  0  0  0  0\\n   11.4076   13.3787    1.0067 O   0  0  0  0  0  0  0  0  0  0  0  0\\n    9.2560   15.3998    5.5479 O   0  0  0  0  0  0  0  0  0  0  0  0\\n   12.9075   18.8693    5.5594 S   0  0  0  0  0  0  0  0  0  0  0  0\\n  1  4  1  0\\n  1  5  2  0\\n  1  6  1  0\\n  2  3  1  0\\n  2  4  2  0\\n  2  8  1  0\\n  3  7  2  0\\n  3 11  1  0\\n  4 20  1  0\\n  5 10  1  0\\n  5 19  1  0\\n  6 12  1  0\\n  6 15  2  0\\n  7 13  1  0\\n  7 20  1  0\\n  8 16  2  0\\n  9 14  1  0\\n  9 17  1  0\\n  9 18  2  0\\n 10 14  1  0\\n 10 16  1  0\\n 15 19  1  0\\nM  END\\n\",\"sdf\");\n\tviewer_16285997456764123.addModel(\"BRD4, Ligand 10\\n     RDKit          3D\\n\\n 27 30  0  0  1  0  0  0  0  0999 V2000\\n   14.2547   17.0265    5.1962 C   0  0  0  0  0  0  0  0  0  0  0  0\\n   14.7890   18.2659    3.2133 C   0  0  0  0  0  0  0  0  0  0  0  0\\n   15.5101   17.2545    5.7242 C   0  0  0  0  0  0  0  0  0  0  0  0\\n   16.0495   18.4892    3.7360 C   0  0  0  0  0  0  0  0  0  0  0  0\\n   10.7049   14.9465    3.4383 C   0  0  0  0  0  0  0  0  0  0  0  0\\n   13.8894   17.5330    3.9603 C   0  0  0  0  0  0  0  0  0  0  0  0\\n   11.5097   17.0173    4.4542 C   0  0  0  0  0  0  0  0  0  0  0  0\\n   11.2209   17.8654    5.5732 C   0  0  0  0  0  0  0  0  0  0  0  0\\n   16.4051   17.9930    4.9781 C   0  0  0  0  0  0  0  0  0  0  0  0\\n   10.6991   15.8932    4.4549 C   0  0  0  0  0  0  0  0  0  0  0  0\\n   10.8493   15.3757    2.1447 C   0  0  0  0  0  0  0  0  0  0  0  0\\n   10.5329   13.5416    3.3747 C   0  0  0  0  0  0  0  0  0  0  0  0\\n   10.1954   17.3625    6.3565 C   0  0  0  0  0  0  0  0  0  0  0  0\\n   12.5382   17.2447    3.4418 C   0  0  0  0  0  0  0  0  0  0  0  0\\n   11.3411   18.2901   -0.2450 C   0  0  0  0  0  0  0  0  0  0  0  0\\n   11.0674   16.7579    1.6569 C   0  0  0  0  0  0  0  0  0  0  0  0\\n   11.8900   19.1513    5.8577 C   0  0  0  0  0  0  0  0  0  0  0  0\\n   10.3210   12.5661    4.4585 C   0  0  0  0  0  0  0  0  0  0  0  0\\n    9.5948   17.9265    7.5823 C   0  0  0  0  0  0  0  0  0  0  0  0\\n   11.0829   16.8685    0.1516 C   0  0  0  0  0  0  0  0  0  0  0  0\\n   10.5860   13.1448    2.0949 N   0  0  0  0  0  0  0  0  0  0  0  0\\n   12.3971   17.1190    2.1496 N   0  0  0  0  0  0  0  0  0  0  0  0\\n   11.8808   18.3738   -1.5024 N   0  0  0  0  0  0  0  0  0  0  0  0\\n   11.0891   19.2574    0.4605 O   0  0  0  0  0  0  0  0  0  0  0  0\\n   10.7935   14.2899    1.3191 O   0  0  0  0  0  0  0  0  0  0  0  0\\n    9.5965   15.8640    5.7635 S   0  0  0  0  0  0  0  0  0  0  0  0\\n   17.9850   18.2843    5.6252 Cl  0  0  0  0  0  0  0  0  0  0  0  0\\n  1  3  2  0\\n  1  6  1  0\\n  2  4  1  0\\n  2  6  2  0\\n  3  9  1  0\\n  4  9  2  0\\n  5 10  1  0\\n  5 11  2  0\\n  5 12  1  0\\n  6 14  1  0\\n  7  8  1  0\\n  7 10  2  0\\n  7 14  1  0\\n  8 13  2  0\\n  8 17  1  0\\n  9 27  1  0\\n 10 26  1  0\\n 11 16  1  0\\n 11 25  1  0\\n 12 18  1  0\\n 12 21  2  0\\n 13 19  1  0\\n 13 26  1  0\\n 14 22  2  0\\n 15 20  1  0\\n 15 23  1  0\\n 15 24  2  0\\n 16 20  1  0\\n 16 22  1  0\\n 21 25  1  0\\nM  END\\n\",\"sdf\");\n\tviewer_16285997456764123.setStyle({\"model\": 0},{\"stick\": {\"colorscheme\": \"lightgreyCarbon\"}});\n\tviewer_16285997456764123.setStyle({\"model\": 1},{\"stick\": {\"colorscheme\": \"redCarbon\"}});\n\tviewer_16285997456764123.setStyle({\"model\": 2},{\"stick\": {\"colorscheme\": \"greyCarbon\"}});\n\tviewer_16285997456764123.zoomTo();\nviewer_16285997456764123.render();\n});\n</script>",
      "text/html": [
       "<div id=\"3dmolviewer_16285997456764123\"  style=\"position: relative; width: 640px; height: 480px\">\n",
       "        <p id=\"3dmolwarning_16285997456764123\" style=\"background-color:#ffcccc;color:black\">You appear to be running in JupyterLab (or JavaScript failed to load for some other reason).  You need to install the 3dmol extension: <br>\n",
       "        <tt>jupyter labextension install jupyterlab_3dmol</tt></p>\n",
       "        </div>\n",
       "<script>\n",
       "\n",
       "var loadScriptAsync = function(uri){\n",
       "  return new Promise((resolve, reject) => {\n",
       "    var tag = document.createElement('script');\n",
       "    tag.src = uri;\n",
       "    tag.async = true;\n",
       "    tag.onload = () => {\n",
       "      resolve();\n",
       "    };\n",
       "  var firstScriptTag = document.getElementsByTagName('script')[0];\n",
       "  firstScriptTag.parentNode.insertBefore(tag, firstScriptTag);\n",
       "});\n",
       "};\n",
       "\n",
       "if(typeof $3Dmolpromise === 'undefined') {\n",
       "$3Dmolpromise = null;\n",
       "  $3Dmolpromise = loadScriptAsync('https://3dmol.org/build/3Dmol.js');\n",
       "}\n",
       "\n",
       "var viewer_16285997456764123 = null;\n",
       "var warn = document.getElementById(\"3dmolwarning_16285997456764123\");\n",
       "if(warn) {\n",
       "    warn.parentNode.removeChild(warn);\n",
       "}\n",
       "$3Dmolpromise.then(function() {\n",
       "viewer_16285997456764123 = $3Dmol.createViewer($(\"#3dmolviewer_16285997456764123\"),{backgroundColor:\"white\"});\n",
       "viewer_16285997456764123.zoomTo();\n",
       "\tviewer_16285997456764123.addModel(\"\\n     RDKit          2D\\n\\n 20 22  0  0  0  0  0  0  0  0999 V2000\\n   -2.6867   -0.7051    0.0000 C   0  0  0  0  0  0  0  0  0  0  0  0\\n   -0.0335   -1.2213    0.0000 C   0  0  0  0  0  0  0  0  0  0  0  0\\n    0.7770   -2.4835    0.0000 C   0  0  0  0  0  0  0  0  0  0  0  0\\n   -1.4844   -1.6021    0.0000 C   0  0  0  0  0  0  0  0  0  0  0  0\\n   -2.7350    0.7941    0.0000 C   0  0  0  0  0  0  0  0  0  0  0  0\\n   -4.0976   -1.2144    0.0000 C   0  0  0  0  0  0  0  0  0  0  0  0\\n   -0.1730   -3.6443    0.0000 C   0  0  0  0  0  0  0  0  0  0  0  0\\n    0.5734    0.1504    0.0000 C   0  0  0  0  0  0  0  0  0  0  0  0\\n   -0.9077    4.2727    0.0000 C   0  0  0  0  0  0  0  0  0  0  0  0\\n   -1.5931    1.7666    0.0000 C   0  0  0  0  0  0  0  0  0  0  0  0\\n    2.2745   -2.5697    0.0000 C   0  0  0  0  0  0  0  0  0  0  0  0\\n   -4.5148   -2.6552    0.0000 C   0  0  0  0  0  0  0  0  0  0  0  0\\n    0.2078   -5.0952    0.0000 C   0  0  0  0  0  0  0  0  0  0  0  0\\n   -1.9738    3.2175    0.0000 C   0  0  0  0  0  0  0  0  0  0  0  0\\n   -5.0179   -0.0300    0.0000 N   0  0  0  0  0  0  0  0  0  0  0  0\\n   -0.1207    1.4802    0.0000 N   0  0  0  0  0  0  0  0  0  0  0  0\\n   -1.2885    5.7236    0.0000 N   0  0  0  0  0  0  0  0  0  0  0  0\\n    0.5391    3.8770    0.0000 O   0  0  0  0  0  0  0  0  0  0  0  0\\n   -4.1758    1.2113    0.0000 O   0  0  0  0  0  0  0  0  0  0  0  0\\n   -1.5706   -3.0996    0.0000 S   0  0  0  0  0  0  0  0  0  0  0  0\\n  1  4  1  0\\n  1  5  2  0\\n  1  6  1  0\\n  2  3  1  0\\n  2  4  2  0\\n  2  8  1  0\\n  3  7  2  0\\n  3 11  1  0\\n  4 20  1  0\\n  5 10  1  0\\n  5 19  1  0\\n  6 12  1  0\\n  6 15  2  0\\n  7 13  1  0\\n  7 20  1  0\\n  8 16  2  0\\n  9 14  1  0\\n  9 17  1  0\\n  9 18  2  0\\n 10 14  1  0\\n 10 16  1  0\\n 15 19  1  0\\nM  END\\n\",\"sdf\");\n",
       "\tviewer_16285997456764123.addModel(\"\\n     RDKit          3D\\n\\n 20 22  0  0  0  0  0  0  0  0999 V2000\\n   11.1099   16.9487    5.3158 C   0  0  0  0  0  0  0  0  0  0  0  0\\n   13.1792   17.4101    3.6391 C   0  0  0  0  0  0  0  0  0  0  0  0\\n   14.2816   18.4269    3.6082 C   0  0  0  0  0  0  0  0  0  0  0  0\\n   12.3299   17.6836    4.8450 C   0  0  0  0  0  0  0  0  0  0  0  0\\n   10.4380   15.7589    4.6970 C   0  0  0  0  0  0  0  0  0  0  0  0\\n   10.3433   17.3248    6.5490 C   0  0  0  0  0  0  0  0  0  0  0  0\\n   14.1136   19.3287    4.7950 C   0  0  0  0  0  0  0  0  0  0  0  0\\n   13.0182   16.3344    2.6063 C   0  0  0  0  0  0  0  0  0  0  0  0\\n   10.2306   13.0365    1.8713 C   0  0  0  0  0  0  0  0  0  0  0  0\\n   10.8199   15.0102    3.4547 C   0  0  0  0  0  0  0  0  0  0  0  0\\n   15.3621   18.5247    2.5725 C   0  0  0  0  0  0  0  0  0  0  0  0\\n   10.6660   18.4591    7.4759 C   0  0  0  0  0  0  0  0  0  0  0  0\\n   14.9968   20.4867    5.1544 C   0  0  0  0  0  0  0  0  0  0  0  0\\n    9.9367   13.8522    3.0953 C   0  0  0  0  0  0  0  0  0  0  0  0\\n    9.1975   16.3676    6.6924 N   0  0  0  0  0  0  0  0  0  0  0  0\\n   11.9682   15.2662    2.5242 N   0  0  0  0  0  0  0  0  0  0  0  0\\n    9.3474   11.8785    1.5119 N   0  0  0  0  0  0  0  0  0  0  0  0\\n   11.4076   13.3787    1.0067 O   0  0  0  0  0  0  0  0  0  0  0  0\\n    9.2560   15.3998    5.5479 O   0  0  0  0  0  0  0  0  0  0  0  0\\n   12.9075   18.8693    5.5594 S   0  0  0  0  0  0  0  0  0  0  0  0\\n  1  4  1  0\\n  1  5  2  0\\n  1  6  1  0\\n  2  3  1  0\\n  2  4  2  0\\n  2  8  1  0\\n  3  7  2  0\\n  3 11  1  0\\n  4 20  1  0\\n  5 10  1  0\\n  5 19  1  0\\n  6 12  1  0\\n  6 15  2  0\\n  7 13  1  0\\n  7 20  1  0\\n  8 16  2  0\\n  9 14  1  0\\n  9 17  1  0\\n  9 18  2  0\\n 10 14  1  0\\n 10 16  1  0\\n 15 19  1  0\\nM  END\\n\",\"sdf\");\n",
       "\tviewer_16285997456764123.addModel(\"BRD4, Ligand 10\\n     RDKit          3D\\n\\n 27 30  0  0  1  0  0  0  0  0999 V2000\\n   14.2547   17.0265    5.1962 C   0  0  0  0  0  0  0  0  0  0  0  0\\n   14.7890   18.2659    3.2133 C   0  0  0  0  0  0  0  0  0  0  0  0\\n   15.5101   17.2545    5.7242 C   0  0  0  0  0  0  0  0  0  0  0  0\\n   16.0495   18.4892    3.7360 C   0  0  0  0  0  0  0  0  0  0  0  0\\n   10.7049   14.9465    3.4383 C   0  0  0  0  0  0  0  0  0  0  0  0\\n   13.8894   17.5330    3.9603 C   0  0  0  0  0  0  0  0  0  0  0  0\\n   11.5097   17.0173    4.4542 C   0  0  0  0  0  0  0  0  0  0  0  0\\n   11.2209   17.8654    5.5732 C   0  0  0  0  0  0  0  0  0  0  0  0\\n   16.4051   17.9930    4.9781 C   0  0  0  0  0  0  0  0  0  0  0  0\\n   10.6991   15.8932    4.4549 C   0  0  0  0  0  0  0  0  0  0  0  0\\n   10.8493   15.3757    2.1447 C   0  0  0  0  0  0  0  0  0  0  0  0\\n   10.5329   13.5416    3.3747 C   0  0  0  0  0  0  0  0  0  0  0  0\\n   10.1954   17.3625    6.3565 C   0  0  0  0  0  0  0  0  0  0  0  0\\n   12.5382   17.2447    3.4418 C   0  0  0  0  0  0  0  0  0  0  0  0\\n   11.3411   18.2901   -0.2450 C   0  0  0  0  0  0  0  0  0  0  0  0\\n   11.0674   16.7579    1.6569 C   0  0  0  0  0  0  0  0  0  0  0  0\\n   11.8900   19.1513    5.8577 C   0  0  0  0  0  0  0  0  0  0  0  0\\n   10.3210   12.5661    4.4585 C   0  0  0  0  0  0  0  0  0  0  0  0\\n    9.5948   17.9265    7.5823 C   0  0  0  0  0  0  0  0  0  0  0  0\\n   11.0829   16.8685    0.1516 C   0  0  0  0  0  0  0  0  0  0  0  0\\n   10.5860   13.1448    2.0949 N   0  0  0  0  0  0  0  0  0  0  0  0\\n   12.3971   17.1190    2.1496 N   0  0  0  0  0  0  0  0  0  0  0  0\\n   11.8808   18.3738   -1.5024 N   0  0  0  0  0  0  0  0  0  0  0  0\\n   11.0891   19.2574    0.4605 O   0  0  0  0  0  0  0  0  0  0  0  0\\n   10.7935   14.2899    1.3191 O   0  0  0  0  0  0  0  0  0  0  0  0\\n    9.5965   15.8640    5.7635 S   0  0  0  0  0  0  0  0  0  0  0  0\\n   17.9850   18.2843    5.6252 Cl  0  0  0  0  0  0  0  0  0  0  0  0\\n  1  3  2  0\\n  1  6  1  0\\n  2  4  1  0\\n  2  6  2  0\\n  3  9  1  0\\n  4  9  2  0\\n  5 10  1  0\\n  5 11  2  0\\n  5 12  1  0\\n  6 14  1  0\\n  7  8  1  0\\n  7 10  2  0\\n  7 14  1  0\\n  8 13  2  0\\n  8 17  1  0\\n  9 27  1  0\\n 10 26  1  0\\n 11 16  1  0\\n 11 25  1  0\\n 12 18  1  0\\n 12 21  2  0\\n 13 19  1  0\\n 13 26  1  0\\n 14 22  2  0\\n 15 20  1  0\\n 15 23  1  0\\n 15 24  2  0\\n 16 20  1  0\\n 16 22  1  0\\n 21 25  1  0\\nM  END\\n\",\"sdf\");\n",
       "\tviewer_16285997456764123.setStyle({\"model\": 0},{\"stick\": {\"colorscheme\": \"lightgreyCarbon\"}});\n",
       "\tviewer_16285997456764123.setStyle({\"model\": 1},{\"stick\": {\"colorscheme\": \"redCarbon\"}});\n",
       "\tviewer_16285997456764123.setStyle({\"model\": 2},{\"stick\": {\"colorscheme\": \"greyCarbon\"}});\n",
       "\tviewer_16285997456764123.zoomTo();\n",
       "viewer_16285997456764123.render();\n",
       "});\n",
       "</script>"
      ]
     },
     "metadata": {},
     "output_type": "display_data"
    },
    {
     "data": {
      "text/plain": [
       "<py3Dmol.view at 0x7f03e545cd50>"
      ]
     },
     "execution_count": 20,
     "metadata": {},
     "output_type": "execute_result"
    }
   ],
   "source": [
    "align_frag_and_show(1, 9)"
   ]
  },
  {
   "cell_type": "code",
   "execution_count": 21,
   "metadata": {},
   "outputs": [
    {
     "name": "stdout",
     "output_type": "stream",
     "text": [
      "0.5929411764705882\n"
     ]
    },
    {
     "data": {
      "application/3dmoljs_load.v0": "<div id=\"3dmolviewer_16285997464067636\"  style=\"position: relative; width: 640px; height: 480px\">\n        <p id=\"3dmolwarning_16285997464067636\" style=\"background-color:#ffcccc;color:black\">You appear to be running in JupyterLab (or JavaScript failed to load for some other reason).  You need to install the 3dmol extension: <br>\n        <tt>jupyter labextension install jupyterlab_3dmol</tt></p>\n        </div>\n<script>\n\nvar loadScriptAsync = function(uri){\n  return new Promise((resolve, reject) => {\n    var tag = document.createElement('script');\n    tag.src = uri;\n    tag.async = true;\n    tag.onload = () => {\n      resolve();\n    };\n  var firstScriptTag = document.getElementsByTagName('script')[0];\n  firstScriptTag.parentNode.insertBefore(tag, firstScriptTag);\n});\n};\n\nif(typeof $3Dmolpromise === 'undefined') {\n$3Dmolpromise = null;\n  $3Dmolpromise = loadScriptAsync('https://3dmol.org/build/3Dmol.js');\n}\n\nvar viewer_16285997464067636 = null;\nvar warn = document.getElementById(\"3dmolwarning_16285997464067636\");\nif(warn) {\n    warn.parentNode.removeChild(warn);\n}\n$3Dmolpromise.then(function() {\nviewer_16285997464067636 = $3Dmol.createViewer($(\"#3dmolviewer_16285997464067636\"),{backgroundColor:\"white\"});\nviewer_16285997464067636.zoomTo();\n\tviewer_16285997464067636.addModel(\"\\n     RDKit          2D\\n\\n 24 27  0  0  0  0  0  0  0  0999 V2000\\n    2.7803    1.5214    0.0000 C   0  0  0  0  0  0  0  0  0  0  0  0\\n    2.8641   -1.0754    0.0000 C   0  0  0  0  0  0  0  0  0  0  0  0\\n    4.2796    1.5697    0.0000 C   0  0  0  0  0  0  0  0  0  0  0  0\\n    4.3633   -1.0270    0.0000 C   0  0  0  0  0  0  0  0  0  0  0  0\\n   -2.6867   -0.7051    0.0000 C   0  0  0  0  0  0  0  0  0  0  0  0\\n    2.0726    0.1988    0.0000 C   0  0  0  0  0  0  0  0  0  0  0  0\\n   -0.0335   -1.2213    0.0000 C   0  0  0  0  0  0  0  0  0  0  0  0\\n    0.7770   -2.4835    0.0000 C   0  0  0  0  0  0  0  0  0  0  0  0\\n    5.0711    0.2956    0.0000 C   0  0  0  0  0  0  0  0  0  0  0  0\\n   -1.4844   -1.6021    0.0000 C   0  0  0  0  0  0  0  0  0  0  0  0\\n   -2.7350    0.7941    0.0000 C   0  0  0  0  0  0  0  0  0  0  0  0\\n   -4.0976   -1.2144    0.0000 C   0  0  0  0  0  0  0  0  0  0  0  0\\n   -0.1730   -3.6443    0.0000 C   0  0  0  0  0  0  0  0  0  0  0  0\\n    0.5734    0.1504    0.0000 C   0  0  0  0  0  0  0  0  0  0  0  0\\n   -1.5931    1.7666    0.0000 C   0  0  0  0  0  0  0  0  0  0  0  0\\n    2.2745   -2.5697    0.0000 C   0  0  0  0  0  0  0  0  0  0  0  0\\n   -4.5148   -2.6552    0.0000 C   0  0  0  0  0  0  0  0  0  0  0  0\\n    0.2078   -5.0952    0.0000 C   0  0  0  0  0  0  0  0  0  0  0  0\\n   -1.9738    3.2175    0.0000 C   0  0  0  0  0  0  0  0  0  0  0  0\\n   -5.0179   -0.0300    0.0000 N   0  0  0  0  0  0  0  0  0  0  0  0\\n   -0.1207    1.4802    0.0000 N   0  0  0  0  0  0  0  0  0  0  0  0\\n   -4.1758    1.2113    0.0000 O   0  0  0  0  0  0  0  0  0  0  0  0\\n   -1.5706   -3.0996    0.0000 S   0  0  0  0  0  0  0  0  0  0  0  0\\n    6.5703    0.3439    0.0000 Cl  0  0  0  0  0  0  0  0  0  0  0  0\\n  1  3  2  0\\n  1  6  1  0\\n  2  4  1  0\\n  2  6  2  0\\n  3  9  1  0\\n  4  9  2  0\\n  5 10  1  0\\n  5 11  2  0\\n  5 12  1  0\\n  6 14  1  0\\n  7  8  1  0\\n  7 10  2  0\\n  7 14  1  0\\n  8 13  2  0\\n  8 16  1  0\\n  9 24  1  0\\n 10 23  1  0\\n 11 15  1  0\\n 11 22  1  0\\n 12 17  1  0\\n 12 20  2  0\\n 13 18  1  0\\n 13 23  1  0\\n 14 21  2  0\\n 15 19  1  0\\n 15 21  1  0\\n 20 22  1  0\\nM  END\\n\",\"sdf\");\n\tviewer_16285997464067636.addModel(\"\\n     RDKit          3D\\n\\n 24 27  0  0  0  0  0  0  0  0999 V2000\\n   14.7207   19.2633    5.0303 C   0  0  0  0  0  0  0  0  0  0  0  0\\n   14.1024   17.5557    3.1722 C   0  0  0  0  0  0  0  0  0  0  0  0\\n   15.9971   19.5841    4.3106 C   0  0  0  0  0  0  0  0  0  0  0  0\\n   15.3788   17.8767    2.4526 C   0  0  0  0  0  0  0  0  0  0  0  0\\n    9.5225   16.7322    6.2209 C   0  0  0  0  0  0  0  0  0  0  0  0\\n   13.7734   18.2490    4.4611 C   0  0  0  0  0  0  0  0  0  0  0  0\\n   11.6216   16.9007    4.5265 C   0  0  0  0  0  0  0  0  0  0  0  0\\n   11.9699   16.2190    3.2365 C   0  0  0  0  0  0  0  0  0  0  0  0\\n   16.3262   18.8909    3.0218 C   0  0  0  0  0  0  0  0  0  0  0  0\\n   10.2978   16.3684    4.9894 C   0  0  0  0  0  0  0  0  0  0  0  0\\n    9.8795   17.7180    7.2936 C   0  0  0  0  0  0  0  0  0  0  0  0\\n    8.1982   16.1224    6.5738 C   0  0  0  0  0  0  0  0  0  0  0  0\\n   10.8613   15.2655    2.9022 C   0  0  0  0  0  0  0  0  0  0  0  0\\n   12.4970   17.9281    5.1807 C   0  0  0  0  0  0  0  0  0  0  0  0\\n   11.0999   18.5835    7.3997 C   0  0  0  0  0  0  0  0  0  0  0  0\\n   13.2091   16.4503    2.4236 C   0  0  0  0  0  0  0  0  0  0  0  0\\n    7.4644   15.0856    5.7759 C   0  0  0  0  0  0  0  0  0  0  0  0\\n   10.7973   14.3758    1.6962 C   0  0  0  0  0  0  0  0  0  0  0  0\\n   11.1639   19.4733    8.6057 C   0  0  0  0  0  0  0  0  0  0  0  0\\n    7.7368   16.7312    7.8646 N   0  0  0  0  0  0  0  0  0  0  0  0\\n   12.2648   18.6771    6.4595 N   0  0  0  0  0  0  0  0  0  0  0  0\\n    8.7758   17.7174    8.3094 O   0  0  0  0  0  0  0  0  0  0  0  0\\n    9.8279   15.3578    3.9855 S   0  0  0  0  0  0  0  0  0  0  0  0\\n   17.6025   19.2118    2.3021 Cl  0  0  0  0  0  0  0  0  0  0  0  0\\n  1  3  2  0\\n  1  6  1  0\\n  2  4  1  0\\n  2  6  2  0\\n  3  9  1  0\\n  4  9  2  0\\n  5 10  1  0\\n  5 11  2  0\\n  5 12  1  0\\n  6 14  1  0\\n  7  8  1  0\\n  7 10  2  0\\n  7 14  1  0\\n  8 13  2  0\\n  8 16  1  0\\n  9 24  1  0\\n 10 23  1  0\\n 11 15  1  0\\n 11 22  1  0\\n 12 17  1  0\\n 12 20  2  0\\n 13 18  1  0\\n 13 23  1  0\\n 14 21  2  0\\n 15 19  1  0\\n 15 21  1  0\\n 20 22  1  0\\nM  END\\n\",\"sdf\");\n\tviewer_16285997464067636.addModel(\"BRD4, Ligand 10\\n     RDKit          3D\\n\\n 27 30  0  0  1  0  0  0  0  0999 V2000\\n   14.2547   17.0265    5.1962 C   0  0  0  0  0  0  0  0  0  0  0  0\\n   14.7890   18.2659    3.2133 C   0  0  0  0  0  0  0  0  0  0  0  0\\n   15.5101   17.2545    5.7242 C   0  0  0  0  0  0  0  0  0  0  0  0\\n   16.0495   18.4892    3.7360 C   0  0  0  0  0  0  0  0  0  0  0  0\\n   10.7049   14.9465    3.4383 C   0  0  0  0  0  0  0  0  0  0  0  0\\n   13.8894   17.5330    3.9603 C   0  0  0  0  0  0  0  0  0  0  0  0\\n   11.5097   17.0173    4.4542 C   0  0  0  0  0  0  0  0  0  0  0  0\\n   11.2209   17.8654    5.5732 C   0  0  0  0  0  0  0  0  0  0  0  0\\n   16.4051   17.9930    4.9781 C   0  0  0  0  0  0  0  0  0  0  0  0\\n   10.6991   15.8932    4.4549 C   0  0  0  0  0  0  0  0  0  0  0  0\\n   10.8493   15.3757    2.1447 C   0  0  0  0  0  0  0  0  0  0  0  0\\n   10.5329   13.5416    3.3747 C   0  0  0  0  0  0  0  0  0  0  0  0\\n   10.1954   17.3625    6.3565 C   0  0  0  0  0  0  0  0  0  0  0  0\\n   12.5382   17.2447    3.4418 C   0  0  0  0  0  0  0  0  0  0  0  0\\n   11.3411   18.2901   -0.2450 C   0  0  0  0  0  0  0  0  0  0  0  0\\n   11.0674   16.7579    1.6569 C   0  0  0  0  0  0  0  0  0  0  0  0\\n   11.8900   19.1513    5.8577 C   0  0  0  0  0  0  0  0  0  0  0  0\\n   10.3210   12.5661    4.4585 C   0  0  0  0  0  0  0  0  0  0  0  0\\n    9.5948   17.9265    7.5823 C   0  0  0  0  0  0  0  0  0  0  0  0\\n   11.0829   16.8685    0.1516 C   0  0  0  0  0  0  0  0  0  0  0  0\\n   10.5860   13.1448    2.0949 N   0  0  0  0  0  0  0  0  0  0  0  0\\n   12.3971   17.1190    2.1496 N   0  0  0  0  0  0  0  0  0  0  0  0\\n   11.8808   18.3738   -1.5024 N   0  0  0  0  0  0  0  0  0  0  0  0\\n   11.0891   19.2574    0.4605 O   0  0  0  0  0  0  0  0  0  0  0  0\\n   10.7935   14.2899    1.3191 O   0  0  0  0  0  0  0  0  0  0  0  0\\n    9.5965   15.8640    5.7635 S   0  0  0  0  0  0  0  0  0  0  0  0\\n   17.9850   18.2843    5.6252 Cl  0  0  0  0  0  0  0  0  0  0  0  0\\n  1  3  2  0\\n  1  6  1  0\\n  2  4  1  0\\n  2  6  2  0\\n  3  9  1  0\\n  4  9  2  0\\n  5 10  1  0\\n  5 11  2  0\\n  5 12  1  0\\n  6 14  1  0\\n  7  8  1  0\\n  7 10  2  0\\n  7 14  1  0\\n  8 13  2  0\\n  8 17  1  0\\n  9 27  1  0\\n 10 26  1  0\\n 11 16  1  0\\n 11 25  1  0\\n 12 18  1  0\\n 12 21  2  0\\n 13 19  1  0\\n 13 26  1  0\\n 14 22  2  0\\n 15 20  1  0\\n 15 23  1  0\\n 15 24  2  0\\n 16 20  1  0\\n 16 22  1  0\\n 21 25  1  0\\nM  END\\n\",\"sdf\");\n\tviewer_16285997464067636.setStyle({\"model\": 0},{\"stick\": {\"colorscheme\": \"lightgreyCarbon\"}});\n\tviewer_16285997464067636.setStyle({\"model\": 1},{\"stick\": {\"colorscheme\": \"redCarbon\"}});\n\tviewer_16285997464067636.setStyle({\"model\": 2},{\"stick\": {\"colorscheme\": \"greyCarbon\"}});\n\tviewer_16285997464067636.zoomTo();\nviewer_16285997464067636.render();\n});\n</script>",
      "text/html": [
       "<div id=\"3dmolviewer_16285997464067636\"  style=\"position: relative; width: 640px; height: 480px\">\n",
       "        <p id=\"3dmolwarning_16285997464067636\" style=\"background-color:#ffcccc;color:black\">You appear to be running in JupyterLab (or JavaScript failed to load for some other reason).  You need to install the 3dmol extension: <br>\n",
       "        <tt>jupyter labextension install jupyterlab_3dmol</tt></p>\n",
       "        </div>\n",
       "<script>\n",
       "\n",
       "var loadScriptAsync = function(uri){\n",
       "  return new Promise((resolve, reject) => {\n",
       "    var tag = document.createElement('script');\n",
       "    tag.src = uri;\n",
       "    tag.async = true;\n",
       "    tag.onload = () => {\n",
       "      resolve();\n",
       "    };\n",
       "  var firstScriptTag = document.getElementsByTagName('script')[0];\n",
       "  firstScriptTag.parentNode.insertBefore(tag, firstScriptTag);\n",
       "});\n",
       "};\n",
       "\n",
       "if(typeof $3Dmolpromise === 'undefined') {\n",
       "$3Dmolpromise = null;\n",
       "  $3Dmolpromise = loadScriptAsync('https://3dmol.org/build/3Dmol.js');\n",
       "}\n",
       "\n",
       "var viewer_16285997464067636 = null;\n",
       "var warn = document.getElementById(\"3dmolwarning_16285997464067636\");\n",
       "if(warn) {\n",
       "    warn.parentNode.removeChild(warn);\n",
       "}\n",
       "$3Dmolpromise.then(function() {\n",
       "viewer_16285997464067636 = $3Dmol.createViewer($(\"#3dmolviewer_16285997464067636\"),{backgroundColor:\"white\"});\n",
       "viewer_16285997464067636.zoomTo();\n",
       "\tviewer_16285997464067636.addModel(\"\\n     RDKit          2D\\n\\n 24 27  0  0  0  0  0  0  0  0999 V2000\\n    2.7803    1.5214    0.0000 C   0  0  0  0  0  0  0  0  0  0  0  0\\n    2.8641   -1.0754    0.0000 C   0  0  0  0  0  0  0  0  0  0  0  0\\n    4.2796    1.5697    0.0000 C   0  0  0  0  0  0  0  0  0  0  0  0\\n    4.3633   -1.0270    0.0000 C   0  0  0  0  0  0  0  0  0  0  0  0\\n   -2.6867   -0.7051    0.0000 C   0  0  0  0  0  0  0  0  0  0  0  0\\n    2.0726    0.1988    0.0000 C   0  0  0  0  0  0  0  0  0  0  0  0\\n   -0.0335   -1.2213    0.0000 C   0  0  0  0  0  0  0  0  0  0  0  0\\n    0.7770   -2.4835    0.0000 C   0  0  0  0  0  0  0  0  0  0  0  0\\n    5.0711    0.2956    0.0000 C   0  0  0  0  0  0  0  0  0  0  0  0\\n   -1.4844   -1.6021    0.0000 C   0  0  0  0  0  0  0  0  0  0  0  0\\n   -2.7350    0.7941    0.0000 C   0  0  0  0  0  0  0  0  0  0  0  0\\n   -4.0976   -1.2144    0.0000 C   0  0  0  0  0  0  0  0  0  0  0  0\\n   -0.1730   -3.6443    0.0000 C   0  0  0  0  0  0  0  0  0  0  0  0\\n    0.5734    0.1504    0.0000 C   0  0  0  0  0  0  0  0  0  0  0  0\\n   -1.5931    1.7666    0.0000 C   0  0  0  0  0  0  0  0  0  0  0  0\\n    2.2745   -2.5697    0.0000 C   0  0  0  0  0  0  0  0  0  0  0  0\\n   -4.5148   -2.6552    0.0000 C   0  0  0  0  0  0  0  0  0  0  0  0\\n    0.2078   -5.0952    0.0000 C   0  0  0  0  0  0  0  0  0  0  0  0\\n   -1.9738    3.2175    0.0000 C   0  0  0  0  0  0  0  0  0  0  0  0\\n   -5.0179   -0.0300    0.0000 N   0  0  0  0  0  0  0  0  0  0  0  0\\n   -0.1207    1.4802    0.0000 N   0  0  0  0  0  0  0  0  0  0  0  0\\n   -4.1758    1.2113    0.0000 O   0  0  0  0  0  0  0  0  0  0  0  0\\n   -1.5706   -3.0996    0.0000 S   0  0  0  0  0  0  0  0  0  0  0  0\\n    6.5703    0.3439    0.0000 Cl  0  0  0  0  0  0  0  0  0  0  0  0\\n  1  3  2  0\\n  1  6  1  0\\n  2  4  1  0\\n  2  6  2  0\\n  3  9  1  0\\n  4  9  2  0\\n  5 10  1  0\\n  5 11  2  0\\n  5 12  1  0\\n  6 14  1  0\\n  7  8  1  0\\n  7 10  2  0\\n  7 14  1  0\\n  8 13  2  0\\n  8 16  1  0\\n  9 24  1  0\\n 10 23  1  0\\n 11 15  1  0\\n 11 22  1  0\\n 12 17  1  0\\n 12 20  2  0\\n 13 18  1  0\\n 13 23  1  0\\n 14 21  2  0\\n 15 19  1  0\\n 15 21  1  0\\n 20 22  1  0\\nM  END\\n\",\"sdf\");\n",
       "\tviewer_16285997464067636.addModel(\"\\n     RDKit          3D\\n\\n 24 27  0  0  0  0  0  0  0  0999 V2000\\n   14.7207   19.2633    5.0303 C   0  0  0  0  0  0  0  0  0  0  0  0\\n   14.1024   17.5557    3.1722 C   0  0  0  0  0  0  0  0  0  0  0  0\\n   15.9971   19.5841    4.3106 C   0  0  0  0  0  0  0  0  0  0  0  0\\n   15.3788   17.8767    2.4526 C   0  0  0  0  0  0  0  0  0  0  0  0\\n    9.5225   16.7322    6.2209 C   0  0  0  0  0  0  0  0  0  0  0  0\\n   13.7734   18.2490    4.4611 C   0  0  0  0  0  0  0  0  0  0  0  0\\n   11.6216   16.9007    4.5265 C   0  0  0  0  0  0  0  0  0  0  0  0\\n   11.9699   16.2190    3.2365 C   0  0  0  0  0  0  0  0  0  0  0  0\\n   16.3262   18.8909    3.0218 C   0  0  0  0  0  0  0  0  0  0  0  0\\n   10.2978   16.3684    4.9894 C   0  0  0  0  0  0  0  0  0  0  0  0\\n    9.8795   17.7180    7.2936 C   0  0  0  0  0  0  0  0  0  0  0  0\\n    8.1982   16.1224    6.5738 C   0  0  0  0  0  0  0  0  0  0  0  0\\n   10.8613   15.2655    2.9022 C   0  0  0  0  0  0  0  0  0  0  0  0\\n   12.4970   17.9281    5.1807 C   0  0  0  0  0  0  0  0  0  0  0  0\\n   11.0999   18.5835    7.3997 C   0  0  0  0  0  0  0  0  0  0  0  0\\n   13.2091   16.4503    2.4236 C   0  0  0  0  0  0  0  0  0  0  0  0\\n    7.4644   15.0856    5.7759 C   0  0  0  0  0  0  0  0  0  0  0  0\\n   10.7973   14.3758    1.6962 C   0  0  0  0  0  0  0  0  0  0  0  0\\n   11.1639   19.4733    8.6057 C   0  0  0  0  0  0  0  0  0  0  0  0\\n    7.7368   16.7312    7.8646 N   0  0  0  0  0  0  0  0  0  0  0  0\\n   12.2648   18.6771    6.4595 N   0  0  0  0  0  0  0  0  0  0  0  0\\n    8.7758   17.7174    8.3094 O   0  0  0  0  0  0  0  0  0  0  0  0\\n    9.8279   15.3578    3.9855 S   0  0  0  0  0  0  0  0  0  0  0  0\\n   17.6025   19.2118    2.3021 Cl  0  0  0  0  0  0  0  0  0  0  0  0\\n  1  3  2  0\\n  1  6  1  0\\n  2  4  1  0\\n  2  6  2  0\\n  3  9  1  0\\n  4  9  2  0\\n  5 10  1  0\\n  5 11  2  0\\n  5 12  1  0\\n  6 14  1  0\\n  7  8  1  0\\n  7 10  2  0\\n  7 14  1  0\\n  8 13  2  0\\n  8 16  1  0\\n  9 24  1  0\\n 10 23  1  0\\n 11 15  1  0\\n 11 22  1  0\\n 12 17  1  0\\n 12 20  2  0\\n 13 18  1  0\\n 13 23  1  0\\n 14 21  2  0\\n 15 19  1  0\\n 15 21  1  0\\n 20 22  1  0\\nM  END\\n\",\"sdf\");\n",
       "\tviewer_16285997464067636.addModel(\"BRD4, Ligand 10\\n     RDKit          3D\\n\\n 27 30  0  0  1  0  0  0  0  0999 V2000\\n   14.2547   17.0265    5.1962 C   0  0  0  0  0  0  0  0  0  0  0  0\\n   14.7890   18.2659    3.2133 C   0  0  0  0  0  0  0  0  0  0  0  0\\n   15.5101   17.2545    5.7242 C   0  0  0  0  0  0  0  0  0  0  0  0\\n   16.0495   18.4892    3.7360 C   0  0  0  0  0  0  0  0  0  0  0  0\\n   10.7049   14.9465    3.4383 C   0  0  0  0  0  0  0  0  0  0  0  0\\n   13.8894   17.5330    3.9603 C   0  0  0  0  0  0  0  0  0  0  0  0\\n   11.5097   17.0173    4.4542 C   0  0  0  0  0  0  0  0  0  0  0  0\\n   11.2209   17.8654    5.5732 C   0  0  0  0  0  0  0  0  0  0  0  0\\n   16.4051   17.9930    4.9781 C   0  0  0  0  0  0  0  0  0  0  0  0\\n   10.6991   15.8932    4.4549 C   0  0  0  0  0  0  0  0  0  0  0  0\\n   10.8493   15.3757    2.1447 C   0  0  0  0  0  0  0  0  0  0  0  0\\n   10.5329   13.5416    3.3747 C   0  0  0  0  0  0  0  0  0  0  0  0\\n   10.1954   17.3625    6.3565 C   0  0  0  0  0  0  0  0  0  0  0  0\\n   12.5382   17.2447    3.4418 C   0  0  0  0  0  0  0  0  0  0  0  0\\n   11.3411   18.2901   -0.2450 C   0  0  0  0  0  0  0  0  0  0  0  0\\n   11.0674   16.7579    1.6569 C   0  0  0  0  0  0  0  0  0  0  0  0\\n   11.8900   19.1513    5.8577 C   0  0  0  0  0  0  0  0  0  0  0  0\\n   10.3210   12.5661    4.4585 C   0  0  0  0  0  0  0  0  0  0  0  0\\n    9.5948   17.9265    7.5823 C   0  0  0  0  0  0  0  0  0  0  0  0\\n   11.0829   16.8685    0.1516 C   0  0  0  0  0  0  0  0  0  0  0  0\\n   10.5860   13.1448    2.0949 N   0  0  0  0  0  0  0  0  0  0  0  0\\n   12.3971   17.1190    2.1496 N   0  0  0  0  0  0  0  0  0  0  0  0\\n   11.8808   18.3738   -1.5024 N   0  0  0  0  0  0  0  0  0  0  0  0\\n   11.0891   19.2574    0.4605 O   0  0  0  0  0  0  0  0  0  0  0  0\\n   10.7935   14.2899    1.3191 O   0  0  0  0  0  0  0  0  0  0  0  0\\n    9.5965   15.8640    5.7635 S   0  0  0  0  0  0  0  0  0  0  0  0\\n   17.9850   18.2843    5.6252 Cl  0  0  0  0  0  0  0  0  0  0  0  0\\n  1  3  2  0\\n  1  6  1  0\\n  2  4  1  0\\n  2  6  2  0\\n  3  9  1  0\\n  4  9  2  0\\n  5 10  1  0\\n  5 11  2  0\\n  5 12  1  0\\n  6 14  1  0\\n  7  8  1  0\\n  7 10  2  0\\n  7 14  1  0\\n  8 13  2  0\\n  8 17  1  0\\n  9 27  1  0\\n 10 26  1  0\\n 11 16  1  0\\n 11 25  1  0\\n 12 18  1  0\\n 12 21  2  0\\n 13 19  1  0\\n 13 26  1  0\\n 14 22  2  0\\n 15 20  1  0\\n 15 23  1  0\\n 15 24  2  0\\n 16 20  1  0\\n 16 22  1  0\\n 21 25  1  0\\nM  END\\n\",\"sdf\");\n",
       "\tviewer_16285997464067636.setStyle({\"model\": 0},{\"stick\": {\"colorscheme\": \"lightgreyCarbon\"}});\n",
       "\tviewer_16285997464067636.setStyle({\"model\": 1},{\"stick\": {\"colorscheme\": \"redCarbon\"}});\n",
       "\tviewer_16285997464067636.setStyle({\"model\": 2},{\"stick\": {\"colorscheme\": \"greyCarbon\"}});\n",
       "\tviewer_16285997464067636.zoomTo();\n",
       "viewer_16285997464067636.render();\n",
       "});\n",
       "</script>"
      ]
     },
     "metadata": {},
     "output_type": "display_data"
    },
    {
     "data": {
      "text/plain": [
       "<py3Dmol.view at 0x7f0375758050>"
      ]
     },
     "execution_count": 21,
     "metadata": {},
     "output_type": "execute_result"
    }
   ],
   "source": [
    "align_frag_and_show(2, 9)"
   ]
  },
  {
   "cell_type": "code",
   "execution_count": 22,
   "metadata": {},
   "outputs": [
    {
     "name": "stdout",
     "output_type": "stream",
     "text": [
      "0.6503667481662592\n"
     ]
    },
    {
     "data": {
      "application/3dmoljs_load.v0": "<div id=\"3dmolviewer_1628599747170711\"  style=\"position: relative; width: 640px; height: 480px\">\n        <p id=\"3dmolwarning_1628599747170711\" style=\"background-color:#ffcccc;color:black\">You appear to be running in JupyterLab (or JavaScript failed to load for some other reason).  You need to install the 3dmol extension: <br>\n        <tt>jupyter labextension install jupyterlab_3dmol</tt></p>\n        </div>\n<script>\n\nvar loadScriptAsync = function(uri){\n  return new Promise((resolve, reject) => {\n    var tag = document.createElement('script');\n    tag.src = uri;\n    tag.async = true;\n    tag.onload = () => {\n      resolve();\n    };\n  var firstScriptTag = document.getElementsByTagName('script')[0];\n  firstScriptTag.parentNode.insertBefore(tag, firstScriptTag);\n});\n};\n\nif(typeof $3Dmolpromise === 'undefined') {\n$3Dmolpromise = null;\n  $3Dmolpromise = loadScriptAsync('https://3dmol.org/build/3Dmol.js');\n}\n\nvar viewer_1628599747170711 = null;\nvar warn = document.getElementById(\"3dmolwarning_1628599747170711\");\nif(warn) {\n    warn.parentNode.removeChild(warn);\n}\n$3Dmolpromise.then(function() {\nviewer_1628599747170711 = $3Dmol.createViewer($(\"#3dmolviewer_1628599747170711\"),{backgroundColor:\"white\"});\nviewer_1628599747170711.zoomTo();\n\tviewer_1628599747170711.addModel(\"\\n     RDKit          2D\\n\\n 23 26  0  0  0  0  0  0  0  0999 V2000\\n    2.7803    1.5214    0.0000 C   0  0  0  0  0  0  0  0  0  0  0  0\\n    2.8641   -1.0754    0.0000 C   0  0  0  0  0  0  0  0  0  0  0  0\\n    4.2796    1.5697    0.0000 C   0  0  0  0  0  0  0  0  0  0  0  0\\n    4.3633   -1.0270    0.0000 C   0  0  0  0  0  0  0  0  0  0  0  0\\n   -2.6867   -0.7051    0.0000 C   0  0  0  0  0  0  0  0  0  0  0  0\\n    2.0726    0.1988    0.0000 C   0  0  0  0  0  0  0  0  0  0  0  0\\n   -0.0335   -1.2213    0.0000 C   0  0  0  0  0  0  0  0  0  0  0  0\\n    0.7770   -2.4835    0.0000 C   0  0  0  0  0  0  0  0  0  0  0  0\\n    5.0711    0.2956    0.0000 C   0  0  0  0  0  0  0  0  0  0  0  0\\n   -1.4844   -1.6021    0.0000 C   0  0  0  0  0  0  0  0  0  0  0  0\\n   -2.7350    0.7941    0.0000 C   0  0  0  0  0  0  0  0  0  0  0  0\\n   -4.0976   -1.2144    0.0000 C   0  0  0  0  0  0  0  0  0  0  0  0\\n   -0.1730   -3.6443    0.0000 C   0  0  0  0  0  0  0  0  0  0  0  0\\n    0.5734    0.1504    0.0000 C   0  0  0  0  0  0  0  0  0  0  0  0\\n   -1.5931    1.7666    0.0000 C   0  0  0  0  0  0  0  0  0  0  0  0\\n    2.2745   -2.5697    0.0000 C   0  0  0  0  0  0  0  0  0  0  0  0\\n   -4.5148   -2.6552    0.0000 C   0  0  0  0  0  0  0  0  0  0  0  0\\n    0.2078   -5.0952    0.0000 C   0  0  0  0  0  0  0  0  0  0  0  0\\n   -5.0179   -0.0300    0.0000 N   0  0  0  0  0  0  0  0  0  0  0  0\\n   -0.1207    1.4802    0.0000 N   0  0  0  0  0  0  0  0  0  0  0  0\\n   -4.1758    1.2113    0.0000 O   0  0  0  0  0  0  0  0  0  0  0  0\\n   -1.5706   -3.0996    0.0000 S   0  0  0  0  0  0  0  0  0  0  0  0\\n    6.5703    0.3439    0.0000 Cl  0  0  0  0  0  0  0  0  0  0  0  0\\n  1  3  2  0\\n  1  6  1  0\\n  2  4  1  0\\n  2  6  2  0\\n  3  9  1  0\\n  4  9  2  0\\n  5 10  1  0\\n  5 11  2  0\\n  5 12  1  0\\n  6 14  1  0\\n  7  8  1  0\\n  7 10  2  0\\n  7 14  1  0\\n  8 13  2  0\\n  8 16  1  0\\n  9 23  1  0\\n 10 22  1  0\\n 11 15  1  0\\n 11 21  1  0\\n 12 17  1  0\\n 12 19  2  0\\n 13 18  1  0\\n 13 22  1  0\\n 14 20  2  0\\n 15 20  1  0\\n 19 21  1  0\\nM  END\\n\",\"sdf\");\n\tviewer_1628599747170711.addModel(\"\\n     RDKit          3D\\n\\n 23 26  0  0  0  0  0  0  0  0999 V2000\\n   12.3174   16.7913   -0.4556 C   0  0  0  0  0  0  0  0  0  0  0  0\\n   11.3740   14.5195    0.3806 C   0  0  0  0  0  0  0  0  0  0  0  0\\n   12.4982   16.2113   -1.8271 C   0  0  0  0  0  0  0  0  0  0  0  0\\n   11.5548   13.9396   -0.9909 C   0  0  0  0  0  0  0  0  0  0  0  0\\n   10.9061   17.1398    5.2656 C   0  0  0  0  0  0  0  0  0  0  0  0\\n   11.7553   15.9453    0.6483 C   0  0  0  0  0  0  0  0  0  0  0  0\\n   11.0053   15.5951    3.0498 C   0  0  0  0  0  0  0  0  0  0  0  0\\n   10.6305   14.1717    2.7607 C   0  0  0  0  0  0  0  0  0  0  0  0\\n   12.1170   14.7856   -2.0948 C   0  0  0  0  0  0  0  0  0  0  0  0\\n   10.7078   15.8686    4.4944 C   0  0  0  0  0  0  0  0  0  0  0  0\\n   11.4507   18.4514    4.7828 C   0  0  0  0  0  0  0  0  0  0  0  0\\n   10.5658   17.2860    6.7192 C   0  0  0  0  0  0  0  0  0  0  0  0\\n   10.1014   13.5656    4.0267 C   0  0  0  0  0  0  0  0  0  0  0  0\\n   11.5745   16.5252    2.0198 C   0  0  0  0  0  0  0  0  0  0  0  0\\n   11.9316   18.8157    3.4096 C   0  0  0  0  0  0  0  0  0  0  0  0\\n   10.7618   13.4766    1.4381 C   0  0  0  0  0  0  0  0  0  0  0  0\\n    9.9919   16.2177    7.6021 C   0  0  0  0  0  0  0  0  0  0  0  0\\n    9.6106   12.1578    4.1921 C   0  0  0  0  0  0  0  0  0  0  0  0\\n   10.9001   18.6879    7.1348 N   0  0  0  0  0  0  0  0  0  0  0  0\\n   11.9867   17.9586    2.1799 N   0  0  0  0  0  0  0  0  0  0  0  0\\n   11.4470   19.4081    5.9381 O   0  0  0  0  0  0  0  0  0  0  0  0\\n   10.1492   14.6143    5.0981 S   0  0  0  0  0  0  0  0  0  0  0  0\\n   12.2977   14.2056   -3.4663 Cl  0  0  0  0  0  0  0  0  0  0  0  0\\n  1  3  2  0\\n  1  6  1  0\\n  2  4  1  0\\n  2  6  2  0\\n  3  9  1  0\\n  4  9  2  0\\n  5 10  1  0\\n  5 11  2  0\\n  5 12  1  0\\n  6 14  1  0\\n  7  8  1  0\\n  7 10  2  0\\n  7 14  1  0\\n  8 13  2  0\\n  8 16  1  0\\n  9 23  1  0\\n 10 22  1  0\\n 11 15  1  0\\n 11 21  1  0\\n 12 17  1  0\\n 12 19  2  0\\n 13 18  1  0\\n 13 22  1  0\\n 14 20  2  0\\n 15 20  1  0\\n 19 21  1  0\\nM  END\\n\",\"sdf\");\n\tviewer_1628599747170711.addModel(\"BRD4, Ligand 10\\n     RDKit          3D\\n\\n 27 30  0  0  1  0  0  0  0  0999 V2000\\n   14.2547   17.0265    5.1962 C   0  0  0  0  0  0  0  0  0  0  0  0\\n   14.7890   18.2659    3.2133 C   0  0  0  0  0  0  0  0  0  0  0  0\\n   15.5101   17.2545    5.7242 C   0  0  0  0  0  0  0  0  0  0  0  0\\n   16.0495   18.4892    3.7360 C   0  0  0  0  0  0  0  0  0  0  0  0\\n   10.7049   14.9465    3.4383 C   0  0  0  0  0  0  0  0  0  0  0  0\\n   13.8894   17.5330    3.9603 C   0  0  0  0  0  0  0  0  0  0  0  0\\n   11.5097   17.0173    4.4542 C   0  0  0  0  0  0  0  0  0  0  0  0\\n   11.2209   17.8654    5.5732 C   0  0  0  0  0  0  0  0  0  0  0  0\\n   16.4051   17.9930    4.9781 C   0  0  0  0  0  0  0  0  0  0  0  0\\n   10.6991   15.8932    4.4549 C   0  0  0  0  0  0  0  0  0  0  0  0\\n   10.8493   15.3757    2.1447 C   0  0  0  0  0  0  0  0  0  0  0  0\\n   10.5329   13.5416    3.3747 C   0  0  0  0  0  0  0  0  0  0  0  0\\n   10.1954   17.3625    6.3565 C   0  0  0  0  0  0  0  0  0  0  0  0\\n   12.5382   17.2447    3.4418 C   0  0  0  0  0  0  0  0  0  0  0  0\\n   11.3411   18.2901   -0.2450 C   0  0  0  0  0  0  0  0  0  0  0  0\\n   11.0674   16.7579    1.6569 C   0  0  0  0  0  0  0  0  0  0  0  0\\n   11.8900   19.1513    5.8577 C   0  0  0  0  0  0  0  0  0  0  0  0\\n   10.3210   12.5661    4.4585 C   0  0  0  0  0  0  0  0  0  0  0  0\\n    9.5948   17.9265    7.5823 C   0  0  0  0  0  0  0  0  0  0  0  0\\n   11.0829   16.8685    0.1516 C   0  0  0  0  0  0  0  0  0  0  0  0\\n   10.5860   13.1448    2.0949 N   0  0  0  0  0  0  0  0  0  0  0  0\\n   12.3971   17.1190    2.1496 N   0  0  0  0  0  0  0  0  0  0  0  0\\n   11.8808   18.3738   -1.5024 N   0  0  0  0  0  0  0  0  0  0  0  0\\n   11.0891   19.2574    0.4605 O   0  0  0  0  0  0  0  0  0  0  0  0\\n   10.7935   14.2899    1.3191 O   0  0  0  0  0  0  0  0  0  0  0  0\\n    9.5965   15.8640    5.7635 S   0  0  0  0  0  0  0  0  0  0  0  0\\n   17.9850   18.2843    5.6252 Cl  0  0  0  0  0  0  0  0  0  0  0  0\\n  1  3  2  0\\n  1  6  1  0\\n  2  4  1  0\\n  2  6  2  0\\n  3  9  1  0\\n  4  9  2  0\\n  5 10  1  0\\n  5 11  2  0\\n  5 12  1  0\\n  6 14  1  0\\n  7  8  1  0\\n  7 10  2  0\\n  7 14  1  0\\n  8 13  2  0\\n  8 17  1  0\\n  9 27  1  0\\n 10 26  1  0\\n 11 16  1  0\\n 11 25  1  0\\n 12 18  1  0\\n 12 21  2  0\\n 13 19  1  0\\n 13 26  1  0\\n 14 22  2  0\\n 15 20  1  0\\n 15 23  1  0\\n 15 24  2  0\\n 16 20  1  0\\n 16 22  1  0\\n 21 25  1  0\\nM  END\\n\",\"sdf\");\n\tviewer_1628599747170711.setStyle({\"model\": 0},{\"stick\": {\"colorscheme\": \"lightgreyCarbon\"}});\n\tviewer_1628599747170711.setStyle({\"model\": 1},{\"stick\": {\"colorscheme\": \"redCarbon\"}});\n\tviewer_1628599747170711.setStyle({\"model\": 2},{\"stick\": {\"colorscheme\": \"greyCarbon\"}});\n\tviewer_1628599747170711.zoomTo();\nviewer_1628599747170711.render();\n});\n</script>",
      "text/html": [
       "<div id=\"3dmolviewer_1628599747170711\"  style=\"position: relative; width: 640px; height: 480px\">\n",
       "        <p id=\"3dmolwarning_1628599747170711\" style=\"background-color:#ffcccc;color:black\">You appear to be running in JupyterLab (or JavaScript failed to load for some other reason).  You need to install the 3dmol extension: <br>\n",
       "        <tt>jupyter labextension install jupyterlab_3dmol</tt></p>\n",
       "        </div>\n",
       "<script>\n",
       "\n",
       "var loadScriptAsync = function(uri){\n",
       "  return new Promise((resolve, reject) => {\n",
       "    var tag = document.createElement('script');\n",
       "    tag.src = uri;\n",
       "    tag.async = true;\n",
       "    tag.onload = () => {\n",
       "      resolve();\n",
       "    };\n",
       "  var firstScriptTag = document.getElementsByTagName('script')[0];\n",
       "  firstScriptTag.parentNode.insertBefore(tag, firstScriptTag);\n",
       "});\n",
       "};\n",
       "\n",
       "if(typeof $3Dmolpromise === 'undefined') {\n",
       "$3Dmolpromise = null;\n",
       "  $3Dmolpromise = loadScriptAsync('https://3dmol.org/build/3Dmol.js');\n",
       "}\n",
       "\n",
       "var viewer_1628599747170711 = null;\n",
       "var warn = document.getElementById(\"3dmolwarning_1628599747170711\");\n",
       "if(warn) {\n",
       "    warn.parentNode.removeChild(warn);\n",
       "}\n",
       "$3Dmolpromise.then(function() {\n",
       "viewer_1628599747170711 = $3Dmol.createViewer($(\"#3dmolviewer_1628599747170711\"),{backgroundColor:\"white\"});\n",
       "viewer_1628599747170711.zoomTo();\n",
       "\tviewer_1628599747170711.addModel(\"\\n     RDKit          2D\\n\\n 23 26  0  0  0  0  0  0  0  0999 V2000\\n    2.7803    1.5214    0.0000 C   0  0  0  0  0  0  0  0  0  0  0  0\\n    2.8641   -1.0754    0.0000 C   0  0  0  0  0  0  0  0  0  0  0  0\\n    4.2796    1.5697    0.0000 C   0  0  0  0  0  0  0  0  0  0  0  0\\n    4.3633   -1.0270    0.0000 C   0  0  0  0  0  0  0  0  0  0  0  0\\n   -2.6867   -0.7051    0.0000 C   0  0  0  0  0  0  0  0  0  0  0  0\\n    2.0726    0.1988    0.0000 C   0  0  0  0  0  0  0  0  0  0  0  0\\n   -0.0335   -1.2213    0.0000 C   0  0  0  0  0  0  0  0  0  0  0  0\\n    0.7770   -2.4835    0.0000 C   0  0  0  0  0  0  0  0  0  0  0  0\\n    5.0711    0.2956    0.0000 C   0  0  0  0  0  0  0  0  0  0  0  0\\n   -1.4844   -1.6021    0.0000 C   0  0  0  0  0  0  0  0  0  0  0  0\\n   -2.7350    0.7941    0.0000 C   0  0  0  0  0  0  0  0  0  0  0  0\\n   -4.0976   -1.2144    0.0000 C   0  0  0  0  0  0  0  0  0  0  0  0\\n   -0.1730   -3.6443    0.0000 C   0  0  0  0  0  0  0  0  0  0  0  0\\n    0.5734    0.1504    0.0000 C   0  0  0  0  0  0  0  0  0  0  0  0\\n   -1.5931    1.7666    0.0000 C   0  0  0  0  0  0  0  0  0  0  0  0\\n    2.2745   -2.5697    0.0000 C   0  0  0  0  0  0  0  0  0  0  0  0\\n   -4.5148   -2.6552    0.0000 C   0  0  0  0  0  0  0  0  0  0  0  0\\n    0.2078   -5.0952    0.0000 C   0  0  0  0  0  0  0  0  0  0  0  0\\n   -5.0179   -0.0300    0.0000 N   0  0  0  0  0  0  0  0  0  0  0  0\\n   -0.1207    1.4802    0.0000 N   0  0  0  0  0  0  0  0  0  0  0  0\\n   -4.1758    1.2113    0.0000 O   0  0  0  0  0  0  0  0  0  0  0  0\\n   -1.5706   -3.0996    0.0000 S   0  0  0  0  0  0  0  0  0  0  0  0\\n    6.5703    0.3439    0.0000 Cl  0  0  0  0  0  0  0  0  0  0  0  0\\n  1  3  2  0\\n  1  6  1  0\\n  2  4  1  0\\n  2  6  2  0\\n  3  9  1  0\\n  4  9  2  0\\n  5 10  1  0\\n  5 11  2  0\\n  5 12  1  0\\n  6 14  1  0\\n  7  8  1  0\\n  7 10  2  0\\n  7 14  1  0\\n  8 13  2  0\\n  8 16  1  0\\n  9 23  1  0\\n 10 22  1  0\\n 11 15  1  0\\n 11 21  1  0\\n 12 17  1  0\\n 12 19  2  0\\n 13 18  1  0\\n 13 22  1  0\\n 14 20  2  0\\n 15 20  1  0\\n 19 21  1  0\\nM  END\\n\",\"sdf\");\n",
       "\tviewer_1628599747170711.addModel(\"\\n     RDKit          3D\\n\\n 23 26  0  0  0  0  0  0  0  0999 V2000\\n   12.3174   16.7913   -0.4556 C   0  0  0  0  0  0  0  0  0  0  0  0\\n   11.3740   14.5195    0.3806 C   0  0  0  0  0  0  0  0  0  0  0  0\\n   12.4982   16.2113   -1.8271 C   0  0  0  0  0  0  0  0  0  0  0  0\\n   11.5548   13.9396   -0.9909 C   0  0  0  0  0  0  0  0  0  0  0  0\\n   10.9061   17.1398    5.2656 C   0  0  0  0  0  0  0  0  0  0  0  0\\n   11.7553   15.9453    0.6483 C   0  0  0  0  0  0  0  0  0  0  0  0\\n   11.0053   15.5951    3.0498 C   0  0  0  0  0  0  0  0  0  0  0  0\\n   10.6305   14.1717    2.7607 C   0  0  0  0  0  0  0  0  0  0  0  0\\n   12.1170   14.7856   -2.0948 C   0  0  0  0  0  0  0  0  0  0  0  0\\n   10.7078   15.8686    4.4944 C   0  0  0  0  0  0  0  0  0  0  0  0\\n   11.4507   18.4514    4.7828 C   0  0  0  0  0  0  0  0  0  0  0  0\\n   10.5658   17.2860    6.7192 C   0  0  0  0  0  0  0  0  0  0  0  0\\n   10.1014   13.5656    4.0267 C   0  0  0  0  0  0  0  0  0  0  0  0\\n   11.5745   16.5252    2.0198 C   0  0  0  0  0  0  0  0  0  0  0  0\\n   11.9316   18.8157    3.4096 C   0  0  0  0  0  0  0  0  0  0  0  0\\n   10.7618   13.4766    1.4381 C   0  0  0  0  0  0  0  0  0  0  0  0\\n    9.9919   16.2177    7.6021 C   0  0  0  0  0  0  0  0  0  0  0  0\\n    9.6106   12.1578    4.1921 C   0  0  0  0  0  0  0  0  0  0  0  0\\n   10.9001   18.6879    7.1348 N   0  0  0  0  0  0  0  0  0  0  0  0\\n   11.9867   17.9586    2.1799 N   0  0  0  0  0  0  0  0  0  0  0  0\\n   11.4470   19.4081    5.9381 O   0  0  0  0  0  0  0  0  0  0  0  0\\n   10.1492   14.6143    5.0981 S   0  0  0  0  0  0  0  0  0  0  0  0\\n   12.2977   14.2056   -3.4663 Cl  0  0  0  0  0  0  0  0  0  0  0  0\\n  1  3  2  0\\n  1  6  1  0\\n  2  4  1  0\\n  2  6  2  0\\n  3  9  1  0\\n  4  9  2  0\\n  5 10  1  0\\n  5 11  2  0\\n  5 12  1  0\\n  6 14  1  0\\n  7  8  1  0\\n  7 10  2  0\\n  7 14  1  0\\n  8 13  2  0\\n  8 16  1  0\\n  9 23  1  0\\n 10 22  1  0\\n 11 15  1  0\\n 11 21  1  0\\n 12 17  1  0\\n 12 19  2  0\\n 13 18  1  0\\n 13 22  1  0\\n 14 20  2  0\\n 15 20  1  0\\n 19 21  1  0\\nM  END\\n\",\"sdf\");\n",
       "\tviewer_1628599747170711.addModel(\"BRD4, Ligand 10\\n     RDKit          3D\\n\\n 27 30  0  0  1  0  0  0  0  0999 V2000\\n   14.2547   17.0265    5.1962 C   0  0  0  0  0  0  0  0  0  0  0  0\\n   14.7890   18.2659    3.2133 C   0  0  0  0  0  0  0  0  0  0  0  0\\n   15.5101   17.2545    5.7242 C   0  0  0  0  0  0  0  0  0  0  0  0\\n   16.0495   18.4892    3.7360 C   0  0  0  0  0  0  0  0  0  0  0  0\\n   10.7049   14.9465    3.4383 C   0  0  0  0  0  0  0  0  0  0  0  0\\n   13.8894   17.5330    3.9603 C   0  0  0  0  0  0  0  0  0  0  0  0\\n   11.5097   17.0173    4.4542 C   0  0  0  0  0  0  0  0  0  0  0  0\\n   11.2209   17.8654    5.5732 C   0  0  0  0  0  0  0  0  0  0  0  0\\n   16.4051   17.9930    4.9781 C   0  0  0  0  0  0  0  0  0  0  0  0\\n   10.6991   15.8932    4.4549 C   0  0  0  0  0  0  0  0  0  0  0  0\\n   10.8493   15.3757    2.1447 C   0  0  0  0  0  0  0  0  0  0  0  0\\n   10.5329   13.5416    3.3747 C   0  0  0  0  0  0  0  0  0  0  0  0\\n   10.1954   17.3625    6.3565 C   0  0  0  0  0  0  0  0  0  0  0  0\\n   12.5382   17.2447    3.4418 C   0  0  0  0  0  0  0  0  0  0  0  0\\n   11.3411   18.2901   -0.2450 C   0  0  0  0  0  0  0  0  0  0  0  0\\n   11.0674   16.7579    1.6569 C   0  0  0  0  0  0  0  0  0  0  0  0\\n   11.8900   19.1513    5.8577 C   0  0  0  0  0  0  0  0  0  0  0  0\\n   10.3210   12.5661    4.4585 C   0  0  0  0  0  0  0  0  0  0  0  0\\n    9.5948   17.9265    7.5823 C   0  0  0  0  0  0  0  0  0  0  0  0\\n   11.0829   16.8685    0.1516 C   0  0  0  0  0  0  0  0  0  0  0  0\\n   10.5860   13.1448    2.0949 N   0  0  0  0  0  0  0  0  0  0  0  0\\n   12.3971   17.1190    2.1496 N   0  0  0  0  0  0  0  0  0  0  0  0\\n   11.8808   18.3738   -1.5024 N   0  0  0  0  0  0  0  0  0  0  0  0\\n   11.0891   19.2574    0.4605 O   0  0  0  0  0  0  0  0  0  0  0  0\\n   10.7935   14.2899    1.3191 O   0  0  0  0  0  0  0  0  0  0  0  0\\n    9.5965   15.8640    5.7635 S   0  0  0  0  0  0  0  0  0  0  0  0\\n   17.9850   18.2843    5.6252 Cl  0  0  0  0  0  0  0  0  0  0  0  0\\n  1  3  2  0\\n  1  6  1  0\\n  2  4  1  0\\n  2  6  2  0\\n  3  9  1  0\\n  4  9  2  0\\n  5 10  1  0\\n  5 11  2  0\\n  5 12  1  0\\n  6 14  1  0\\n  7  8  1  0\\n  7 10  2  0\\n  7 14  1  0\\n  8 13  2  0\\n  8 17  1  0\\n  9 27  1  0\\n 10 26  1  0\\n 11 16  1  0\\n 11 25  1  0\\n 12 18  1  0\\n 12 21  2  0\\n 13 19  1  0\\n 13 26  1  0\\n 14 22  2  0\\n 15 20  1  0\\n 15 23  1  0\\n 15 24  2  0\\n 16 20  1  0\\n 16 22  1  0\\n 21 25  1  0\\nM  END\\n\",\"sdf\");\n",
       "\tviewer_1628599747170711.setStyle({\"model\": 0},{\"stick\": {\"colorscheme\": \"lightgreyCarbon\"}});\n",
       "\tviewer_1628599747170711.setStyle({\"model\": 1},{\"stick\": {\"colorscheme\": \"redCarbon\"}});\n",
       "\tviewer_1628599747170711.setStyle({\"model\": 2},{\"stick\": {\"colorscheme\": \"greyCarbon\"}});\n",
       "\tviewer_1628599747170711.zoomTo();\n",
       "viewer_1628599747170711.render();\n",
       "});\n",
       "</script>"
      ]
     },
     "metadata": {},
     "output_type": "display_data"
    },
    {
     "data": {
      "text/plain": [
       "<py3Dmol.view at 0x7f037573ed90>"
      ]
     },
     "execution_count": 22,
     "metadata": {},
     "output_type": "execute_result"
    }
   ],
   "source": [
    "align_frag_and_show(4, 9)"
   ]
  },
  {
   "cell_type": "code",
   "execution_count": 23,
   "metadata": {},
   "outputs": [
    {
     "name": "stdout",
     "output_type": "stream",
     "text": [
      "0.8333333333333334\n"
     ]
    },
    {
     "data": {
      "application/3dmoljs_load.v0": "<div id=\"3dmolviewer_16285997478790092\"  style=\"position: relative; width: 640px; height: 480px\">\n        <p id=\"3dmolwarning_16285997478790092\" style=\"background-color:#ffcccc;color:black\">You appear to be running in JupyterLab (or JavaScript failed to load for some other reason).  You need to install the 3dmol extension: <br>\n        <tt>jupyter labextension install jupyterlab_3dmol</tt></p>\n        </div>\n<script>\n\nvar loadScriptAsync = function(uri){\n  return new Promise((resolve, reject) => {\n    var tag = document.createElement('script');\n    tag.src = uri;\n    tag.async = true;\n    tag.onload = () => {\n      resolve();\n    };\n  var firstScriptTag = document.getElementsByTagName('script')[0];\n  firstScriptTag.parentNode.insertBefore(tag, firstScriptTag);\n});\n};\n\nif(typeof $3Dmolpromise === 'undefined') {\n$3Dmolpromise = null;\n  $3Dmolpromise = loadScriptAsync('https://3dmol.org/build/3Dmol.js');\n}\n\nvar viewer_16285997478790092 = null;\nvar warn = document.getElementById(\"3dmolwarning_16285997478790092\");\nif(warn) {\n    warn.parentNode.removeChild(warn);\n}\n$3Dmolpromise.then(function() {\nviewer_16285997478790092 = $3Dmol.createViewer($(\"#3dmolviewer_16285997478790092\"),{backgroundColor:\"white\"});\nviewer_16285997478790092.zoomTo();\n\tviewer_16285997478790092.addModel(\"\\n     RDKit          2D\\n\\n  4  3  0  0  0  0  0  0  0  0999 V2000\\n   -0.9077    4.2727    0.0000 C   0  0  0  0  0  0  0  0  0  0  0  0\\n   -1.9738    3.2175    0.0000 C   0  0  0  0  0  0  0  0  0  0  0  0\\n   -1.2885    5.7236    0.0000 N   0  0  0  0  0  0  0  0  0  0  0  0\\n    0.5391    3.8770    0.0000 O   0  0  0  0  0  0  0  0  0  0  0  0\\n  1  2  1  0\\n  1  3  1  0\\n  1  4  2  0\\nM  END\\n\",\"sdf\");\n\tviewer_16285997478790092.addModel(\"\\n     RDKit          3D\\n\\n  4  3  0  0  0  0  0  0  0  0999 V2000\\n   10.4728   15.4939    4.8929 C   0  0  0  0  0  0  0  0  0  0  0  0\\n    9.2906   15.7130    5.7898 C   0  0  0  0  0  0  0  0  0  0  0  0\\n   10.4487   14.3912    3.8763 N   0  0  0  0  0  0  0  0  0  0  0  0\\n   11.6789   16.3775    5.0127 O   0  0  0  0  0  0  0  0  0  0  0  0\\n  1  2  1  0\\n  1  3  1  0\\n  1  4  2  0\\nM  END\\n\",\"sdf\");\n\tviewer_16285997478790092.addModel(\"BRD4, Ligand 10\\n     RDKit          3D\\n\\n 27 30  0  0  1  0  0  0  0  0999 V2000\\n   14.2547   17.0265    5.1962 C   0  0  0  0  0  0  0  0  0  0  0  0\\n   14.7890   18.2659    3.2133 C   0  0  0  0  0  0  0  0  0  0  0  0\\n   15.5101   17.2545    5.7242 C   0  0  0  0  0  0  0  0  0  0  0  0\\n   16.0495   18.4892    3.7360 C   0  0  0  0  0  0  0  0  0  0  0  0\\n   10.7049   14.9465    3.4383 C   0  0  0  0  0  0  0  0  0  0  0  0\\n   13.8894   17.5330    3.9603 C   0  0  0  0  0  0  0  0  0  0  0  0\\n   11.5097   17.0173    4.4542 C   0  0  0  0  0  0  0  0  0  0  0  0\\n   11.2209   17.8654    5.5732 C   0  0  0  0  0  0  0  0  0  0  0  0\\n   16.4051   17.9930    4.9781 C   0  0  0  0  0  0  0  0  0  0  0  0\\n   10.6991   15.8932    4.4549 C   0  0  0  0  0  0  0  0  0  0  0  0\\n   10.8493   15.3757    2.1447 C   0  0  0  0  0  0  0  0  0  0  0  0\\n   10.5329   13.5416    3.3747 C   0  0  0  0  0  0  0  0  0  0  0  0\\n   10.1954   17.3625    6.3565 C   0  0  0  0  0  0  0  0  0  0  0  0\\n   12.5382   17.2447    3.4418 C   0  0  0  0  0  0  0  0  0  0  0  0\\n   11.3411   18.2901   -0.2450 C   0  0  0  0  0  0  0  0  0  0  0  0\\n   11.0674   16.7579    1.6569 C   0  0  0  0  0  0  0  0  0  0  0  0\\n   11.8900   19.1513    5.8577 C   0  0  0  0  0  0  0  0  0  0  0  0\\n   10.3210   12.5661    4.4585 C   0  0  0  0  0  0  0  0  0  0  0  0\\n    9.5948   17.9265    7.5823 C   0  0  0  0  0  0  0  0  0  0  0  0\\n   11.0829   16.8685    0.1516 C   0  0  0  0  0  0  0  0  0  0  0  0\\n   10.5860   13.1448    2.0949 N   0  0  0  0  0  0  0  0  0  0  0  0\\n   12.3971   17.1190    2.1496 N   0  0  0  0  0  0  0  0  0  0  0  0\\n   11.8808   18.3738   -1.5024 N   0  0  0  0  0  0  0  0  0  0  0  0\\n   11.0891   19.2574    0.4605 O   0  0  0  0  0  0  0  0  0  0  0  0\\n   10.7935   14.2899    1.3191 O   0  0  0  0  0  0  0  0  0  0  0  0\\n    9.5965   15.8640    5.7635 S   0  0  0  0  0  0  0  0  0  0  0  0\\n   17.9850   18.2843    5.6252 Cl  0  0  0  0  0  0  0  0  0  0  0  0\\n  1  3  2  0\\n  1  6  1  0\\n  2  4  1  0\\n  2  6  2  0\\n  3  9  1  0\\n  4  9  2  0\\n  5 10  1  0\\n  5 11  2  0\\n  5 12  1  0\\n  6 14  1  0\\n  7  8  1  0\\n  7 10  2  0\\n  7 14  1  0\\n  8 13  2  0\\n  8 17  1  0\\n  9 27  1  0\\n 10 26  1  0\\n 11 16  1  0\\n 11 25  1  0\\n 12 18  1  0\\n 12 21  2  0\\n 13 19  1  0\\n 13 26  1  0\\n 14 22  2  0\\n 15 20  1  0\\n 15 23  1  0\\n 15 24  2  0\\n 16 20  1  0\\n 16 22  1  0\\n 21 25  1  0\\nM  END\\n\",\"sdf\");\n\tviewer_16285997478790092.setStyle({\"model\": 0},{\"stick\": {\"colorscheme\": \"lightgreyCarbon\"}});\n\tviewer_16285997478790092.setStyle({\"model\": 1},{\"stick\": {\"colorscheme\": \"redCarbon\"}});\n\tviewer_16285997478790092.setStyle({\"model\": 2},{\"stick\": {\"colorscheme\": \"greyCarbon\"}});\n\tviewer_16285997478790092.zoomTo();\nviewer_16285997478790092.render();\n});\n</script>",
      "text/html": [
       "<div id=\"3dmolviewer_16285997478790092\"  style=\"position: relative; width: 640px; height: 480px\">\n",
       "        <p id=\"3dmolwarning_16285997478790092\" style=\"background-color:#ffcccc;color:black\">You appear to be running in JupyterLab (or JavaScript failed to load for some other reason).  You need to install the 3dmol extension: <br>\n",
       "        <tt>jupyter labextension install jupyterlab_3dmol</tt></p>\n",
       "        </div>\n",
       "<script>\n",
       "\n",
       "var loadScriptAsync = function(uri){\n",
       "  return new Promise((resolve, reject) => {\n",
       "    var tag = document.createElement('script');\n",
       "    tag.src = uri;\n",
       "    tag.async = true;\n",
       "    tag.onload = () => {\n",
       "      resolve();\n",
       "    };\n",
       "  var firstScriptTag = document.getElementsByTagName('script')[0];\n",
       "  firstScriptTag.parentNode.insertBefore(tag, firstScriptTag);\n",
       "});\n",
       "};\n",
       "\n",
       "if(typeof $3Dmolpromise === 'undefined') {\n",
       "$3Dmolpromise = null;\n",
       "  $3Dmolpromise = loadScriptAsync('https://3dmol.org/build/3Dmol.js');\n",
       "}\n",
       "\n",
       "var viewer_16285997478790092 = null;\n",
       "var warn = document.getElementById(\"3dmolwarning_16285997478790092\");\n",
       "if(warn) {\n",
       "    warn.parentNode.removeChild(warn);\n",
       "}\n",
       "$3Dmolpromise.then(function() {\n",
       "viewer_16285997478790092 = $3Dmol.createViewer($(\"#3dmolviewer_16285997478790092\"),{backgroundColor:\"white\"});\n",
       "viewer_16285997478790092.zoomTo();\n",
       "\tviewer_16285997478790092.addModel(\"\\n     RDKit          2D\\n\\n  4  3  0  0  0  0  0  0  0  0999 V2000\\n   -0.9077    4.2727    0.0000 C   0  0  0  0  0  0  0  0  0  0  0  0\\n   -1.9738    3.2175    0.0000 C   0  0  0  0  0  0  0  0  0  0  0  0\\n   -1.2885    5.7236    0.0000 N   0  0  0  0  0  0  0  0  0  0  0  0\\n    0.5391    3.8770    0.0000 O   0  0  0  0  0  0  0  0  0  0  0  0\\n  1  2  1  0\\n  1  3  1  0\\n  1  4  2  0\\nM  END\\n\",\"sdf\");\n",
       "\tviewer_16285997478790092.addModel(\"\\n     RDKit          3D\\n\\n  4  3  0  0  0  0  0  0  0  0999 V2000\\n   10.4728   15.4939    4.8929 C   0  0  0  0  0  0  0  0  0  0  0  0\\n    9.2906   15.7130    5.7898 C   0  0  0  0  0  0  0  0  0  0  0  0\\n   10.4487   14.3912    3.8763 N   0  0  0  0  0  0  0  0  0  0  0  0\\n   11.6789   16.3775    5.0127 O   0  0  0  0  0  0  0  0  0  0  0  0\\n  1  2  1  0\\n  1  3  1  0\\n  1  4  2  0\\nM  END\\n\",\"sdf\");\n",
       "\tviewer_16285997478790092.addModel(\"BRD4, Ligand 10\\n     RDKit          3D\\n\\n 27 30  0  0  1  0  0  0  0  0999 V2000\\n   14.2547   17.0265    5.1962 C   0  0  0  0  0  0  0  0  0  0  0  0\\n   14.7890   18.2659    3.2133 C   0  0  0  0  0  0  0  0  0  0  0  0\\n   15.5101   17.2545    5.7242 C   0  0  0  0  0  0  0  0  0  0  0  0\\n   16.0495   18.4892    3.7360 C   0  0  0  0  0  0  0  0  0  0  0  0\\n   10.7049   14.9465    3.4383 C   0  0  0  0  0  0  0  0  0  0  0  0\\n   13.8894   17.5330    3.9603 C   0  0  0  0  0  0  0  0  0  0  0  0\\n   11.5097   17.0173    4.4542 C   0  0  0  0  0  0  0  0  0  0  0  0\\n   11.2209   17.8654    5.5732 C   0  0  0  0  0  0  0  0  0  0  0  0\\n   16.4051   17.9930    4.9781 C   0  0  0  0  0  0  0  0  0  0  0  0\\n   10.6991   15.8932    4.4549 C   0  0  0  0  0  0  0  0  0  0  0  0\\n   10.8493   15.3757    2.1447 C   0  0  0  0  0  0  0  0  0  0  0  0\\n   10.5329   13.5416    3.3747 C   0  0  0  0  0  0  0  0  0  0  0  0\\n   10.1954   17.3625    6.3565 C   0  0  0  0  0  0  0  0  0  0  0  0\\n   12.5382   17.2447    3.4418 C   0  0  0  0  0  0  0  0  0  0  0  0\\n   11.3411   18.2901   -0.2450 C   0  0  0  0  0  0  0  0  0  0  0  0\\n   11.0674   16.7579    1.6569 C   0  0  0  0  0  0  0  0  0  0  0  0\\n   11.8900   19.1513    5.8577 C   0  0  0  0  0  0  0  0  0  0  0  0\\n   10.3210   12.5661    4.4585 C   0  0  0  0  0  0  0  0  0  0  0  0\\n    9.5948   17.9265    7.5823 C   0  0  0  0  0  0  0  0  0  0  0  0\\n   11.0829   16.8685    0.1516 C   0  0  0  0  0  0  0  0  0  0  0  0\\n   10.5860   13.1448    2.0949 N   0  0  0  0  0  0  0  0  0  0  0  0\\n   12.3971   17.1190    2.1496 N   0  0  0  0  0  0  0  0  0  0  0  0\\n   11.8808   18.3738   -1.5024 N   0  0  0  0  0  0  0  0  0  0  0  0\\n   11.0891   19.2574    0.4605 O   0  0  0  0  0  0  0  0  0  0  0  0\\n   10.7935   14.2899    1.3191 O   0  0  0  0  0  0  0  0  0  0  0  0\\n    9.5965   15.8640    5.7635 S   0  0  0  0  0  0  0  0  0  0  0  0\\n   17.9850   18.2843    5.6252 Cl  0  0  0  0  0  0  0  0  0  0  0  0\\n  1  3  2  0\\n  1  6  1  0\\n  2  4  1  0\\n  2  6  2  0\\n  3  9  1  0\\n  4  9  2  0\\n  5 10  1  0\\n  5 11  2  0\\n  5 12  1  0\\n  6 14  1  0\\n  7  8  1  0\\n  7 10  2  0\\n  7 14  1  0\\n  8 13  2  0\\n  8 17  1  0\\n  9 27  1  0\\n 10 26  1  0\\n 11 16  1  0\\n 11 25  1  0\\n 12 18  1  0\\n 12 21  2  0\\n 13 19  1  0\\n 13 26  1  0\\n 14 22  2  0\\n 15 20  1  0\\n 15 23  1  0\\n 15 24  2  0\\n 16 20  1  0\\n 16 22  1  0\\n 21 25  1  0\\nM  END\\n\",\"sdf\");\n",
       "\tviewer_16285997478790092.setStyle({\"model\": 0},{\"stick\": {\"colorscheme\": \"lightgreyCarbon\"}});\n",
       "\tviewer_16285997478790092.setStyle({\"model\": 1},{\"stick\": {\"colorscheme\": \"redCarbon\"}});\n",
       "\tviewer_16285997478790092.setStyle({\"model\": 2},{\"stick\": {\"colorscheme\": \"greyCarbon\"}});\n",
       "\tviewer_16285997478790092.zoomTo();\n",
       "viewer_16285997478790092.render();\n",
       "});\n",
       "</script>"
      ]
     },
     "metadata": {},
     "output_type": "display_data"
    },
    {
     "data": {
      "text/plain": [
       "<py3Dmol.view at 0x7f037f975750>"
      ]
     },
     "execution_count": 23,
     "metadata": {},
     "output_type": "execute_result"
    }
   ],
   "source": [
    "align_frag_and_show(5, 9)"
   ]
  },
  {
   "cell_type": "code",
   "execution_count": 24,
   "metadata": {},
   "outputs": [
    {
     "name": "stdout",
     "output_type": "stream",
     "text": [
      "0.8083333333333333\n"
     ]
    },
    {
     "data": {
      "application/3dmoljs_load.v0": "<div id=\"3dmolviewer_16285997486219873\"  style=\"position: relative; width: 640px; height: 480px\">\n        <p id=\"3dmolwarning_16285997486219873\" style=\"background-color:#ffcccc;color:black\">You appear to be running in JupyterLab (or JavaScript failed to load for some other reason).  You need to install the 3dmol extension: <br>\n        <tt>jupyter labextension install jupyterlab_3dmol</tt></p>\n        </div>\n<script>\n\nvar loadScriptAsync = function(uri){\n  return new Promise((resolve, reject) => {\n    var tag = document.createElement('script');\n    tag.src = uri;\n    tag.async = true;\n    tag.onload = () => {\n      resolve();\n    };\n  var firstScriptTag = document.getElementsByTagName('script')[0];\n  firstScriptTag.parentNode.insertBefore(tag, firstScriptTag);\n});\n};\n\nif(typeof $3Dmolpromise === 'undefined') {\n$3Dmolpromise = null;\n  $3Dmolpromise = loadScriptAsync('https://3dmol.org/build/3Dmol.js');\n}\n\nvar viewer_16285997486219873 = null;\nvar warn = document.getElementById(\"3dmolwarning_16285997486219873\");\nif(warn) {\n    warn.parentNode.removeChild(warn);\n}\n$3Dmolpromise.then(function() {\nviewer_16285997486219873 = $3Dmol.createViewer($(\"#3dmolviewer_16285997486219873\"),{backgroundColor:\"white\"});\nviewer_16285997486219873.zoomTo();\n\tviewer_16285997486219873.addModel(\"\\n     RDKit          2D\\n\\n  4  3  0  0  0  0  0  0  0  0999 V2000\\n   -0.9077    4.2727    0.0000 C   0  0  0  0  0  0  0  0  0  0  0  0\\n   -1.9738    3.2175    0.0000 C   0  0  0  0  0  0  0  0  0  0  0  0\\n   -1.2885    5.7236    0.0000 N   0  0  0  0  0  0  0  0  0  0  0  0\\n    0.5391    3.8770    0.0000 O   0  0  0  0  0  0  0  0  0  0  0  0\\n  1  2  1  0\\n  1  3  1  0\\n  1  4  2  0\\nM  END\\n\",\"sdf\");\n\tviewer_16285997486219873.addModel(\"\\n     RDKit          3D\\n\\n  4  3  0  0  0  0  0  0  0  0999 V2000\\n   10.4728   15.4939    4.8929 C   0  0  0  0  0  0  0  0  0  0  0  0\\n    9.2906   15.7130    5.7898 C   0  0  0  0  0  0  0  0  0  0  0  0\\n   10.4487   14.3912    3.8763 N   0  0  0  0  0  0  0  0  0  0  0  0\\n   11.6789   16.3775    5.0127 O   0  0  0  0  0  0  0  0  0  0  0  0\\n  1  2  1  0\\n  1  3  1  0\\n  1  4  2  0\\nM  END\\n\",\"sdf\");\n\tviewer_16285997486219873.addModel(\"BRD4, Ligand 10\\n     RDKit          3D\\n\\n 27 30  0  0  1  0  0  0  0  0999 V2000\\n   14.2547   17.0265    5.1962 C   0  0  0  0  0  0  0  0  0  0  0  0\\n   14.7890   18.2659    3.2133 C   0  0  0  0  0  0  0  0  0  0  0  0\\n   15.5101   17.2545    5.7242 C   0  0  0  0  0  0  0  0  0  0  0  0\\n   16.0495   18.4892    3.7360 C   0  0  0  0  0  0  0  0  0  0  0  0\\n   10.7049   14.9465    3.4383 C   0  0  0  0  0  0  0  0  0  0  0  0\\n   13.8894   17.5330    3.9603 C   0  0  0  0  0  0  0  0  0  0  0  0\\n   11.5097   17.0173    4.4542 C   0  0  0  0  0  0  0  0  0  0  0  0\\n   11.2209   17.8654    5.5732 C   0  0  0  0  0  0  0  0  0  0  0  0\\n   16.4051   17.9930    4.9781 C   0  0  0  0  0  0  0  0  0  0  0  0\\n   10.6991   15.8932    4.4549 C   0  0  0  0  0  0  0  0  0  0  0  0\\n   10.8493   15.3757    2.1447 C   0  0  0  0  0  0  0  0  0  0  0  0\\n   10.5329   13.5416    3.3747 C   0  0  0  0  0  0  0  0  0  0  0  0\\n   10.1954   17.3625    6.3565 C   0  0  0  0  0  0  0  0  0  0  0  0\\n   12.5382   17.2447    3.4418 C   0  0  0  0  0  0  0  0  0  0  0  0\\n   11.3411   18.2901   -0.2450 C   0  0  0  0  0  0  0  0  0  0  0  0\\n   11.0674   16.7579    1.6569 C   0  0  0  0  0  0  0  0  0  0  0  0\\n   11.8900   19.1513    5.8577 C   0  0  0  0  0  0  0  0  0  0  0  0\\n   10.3210   12.5661    4.4585 C   0  0  0  0  0  0  0  0  0  0  0  0\\n    9.5948   17.9265    7.5823 C   0  0  0  0  0  0  0  0  0  0  0  0\\n   11.0829   16.8685    0.1516 C   0  0  0  0  0  0  0  0  0  0  0  0\\n   10.5860   13.1448    2.0949 N   0  0  0  0  0  0  0  0  0  0  0  0\\n   12.3971   17.1190    2.1496 N   0  0  0  0  0  0  0  0  0  0  0  0\\n   11.8808   18.3738   -1.5024 N   0  0  0  0  0  0  0  0  0  0  0  0\\n   11.0891   19.2574    0.4605 O   0  0  0  0  0  0  0  0  0  0  0  0\\n   10.7935   14.2899    1.3191 O   0  0  0  0  0  0  0  0  0  0  0  0\\n    9.5965   15.8640    5.7635 S   0  0  0  0  0  0  0  0  0  0  0  0\\n   17.9850   18.2843    5.6252 Cl  0  0  0  0  0  0  0  0  0  0  0  0\\n  1  3  2  0\\n  1  6  1  0\\n  2  4  1  0\\n  2  6  2  0\\n  3  9  1  0\\n  4  9  2  0\\n  5 10  1  0\\n  5 11  2  0\\n  5 12  1  0\\n  6 14  1  0\\n  7  8  1  0\\n  7 10  2  0\\n  7 14  1  0\\n  8 13  2  0\\n  8 17  1  0\\n  9 27  1  0\\n 10 26  1  0\\n 11 16  1  0\\n 11 25  1  0\\n 12 18  1  0\\n 12 21  2  0\\n 13 19  1  0\\n 13 26  1  0\\n 14 22  2  0\\n 15 20  1  0\\n 15 23  1  0\\n 15 24  2  0\\n 16 20  1  0\\n 16 22  1  0\\n 21 25  1  0\\nM  END\\n\",\"sdf\");\n\tviewer_16285997486219873.setStyle({\"model\": 0},{\"stick\": {\"colorscheme\": \"lightgreyCarbon\"}});\n\tviewer_16285997486219873.setStyle({\"model\": 1},{\"stick\": {\"colorscheme\": \"redCarbon\"}});\n\tviewer_16285997486219873.setStyle({\"model\": 2},{\"stick\": {\"colorscheme\": \"greyCarbon\"}});\n\tviewer_16285997486219873.zoomTo();\nviewer_16285997486219873.render();\n});\n</script>",
      "text/html": [
       "<div id=\"3dmolviewer_16285997486219873\"  style=\"position: relative; width: 640px; height: 480px\">\n",
       "        <p id=\"3dmolwarning_16285997486219873\" style=\"background-color:#ffcccc;color:black\">You appear to be running in JupyterLab (or JavaScript failed to load for some other reason).  You need to install the 3dmol extension: <br>\n",
       "        <tt>jupyter labextension install jupyterlab_3dmol</tt></p>\n",
       "        </div>\n",
       "<script>\n",
       "\n",
       "var loadScriptAsync = function(uri){\n",
       "  return new Promise((resolve, reject) => {\n",
       "    var tag = document.createElement('script');\n",
       "    tag.src = uri;\n",
       "    tag.async = true;\n",
       "    tag.onload = () => {\n",
       "      resolve();\n",
       "    };\n",
       "  var firstScriptTag = document.getElementsByTagName('script')[0];\n",
       "  firstScriptTag.parentNode.insertBefore(tag, firstScriptTag);\n",
       "});\n",
       "};\n",
       "\n",
       "if(typeof $3Dmolpromise === 'undefined') {\n",
       "$3Dmolpromise = null;\n",
       "  $3Dmolpromise = loadScriptAsync('https://3dmol.org/build/3Dmol.js');\n",
       "}\n",
       "\n",
       "var viewer_16285997486219873 = null;\n",
       "var warn = document.getElementById(\"3dmolwarning_16285997486219873\");\n",
       "if(warn) {\n",
       "    warn.parentNode.removeChild(warn);\n",
       "}\n",
       "$3Dmolpromise.then(function() {\n",
       "viewer_16285997486219873 = $3Dmol.createViewer($(\"#3dmolviewer_16285997486219873\"),{backgroundColor:\"white\"});\n",
       "viewer_16285997486219873.zoomTo();\n",
       "\tviewer_16285997486219873.addModel(\"\\n     RDKit          2D\\n\\n  4  3  0  0  0  0  0  0  0  0999 V2000\\n   -0.9077    4.2727    0.0000 C   0  0  0  0  0  0  0  0  0  0  0  0\\n   -1.9738    3.2175    0.0000 C   0  0  0  0  0  0  0  0  0  0  0  0\\n   -1.2885    5.7236    0.0000 N   0  0  0  0  0  0  0  0  0  0  0  0\\n    0.5391    3.8770    0.0000 O   0  0  0  0  0  0  0  0  0  0  0  0\\n  1  2  1  0\\n  1  3  1  0\\n  1  4  2  0\\nM  END\\n\",\"sdf\");\n",
       "\tviewer_16285997486219873.addModel(\"\\n     RDKit          3D\\n\\n  4  3  0  0  0  0  0  0  0  0999 V2000\\n   10.4728   15.4939    4.8929 C   0  0  0  0  0  0  0  0  0  0  0  0\\n    9.2906   15.7130    5.7898 C   0  0  0  0  0  0  0  0  0  0  0  0\\n   10.4487   14.3912    3.8763 N   0  0  0  0  0  0  0  0  0  0  0  0\\n   11.6789   16.3775    5.0127 O   0  0  0  0  0  0  0  0  0  0  0  0\\n  1  2  1  0\\n  1  3  1  0\\n  1  4  2  0\\nM  END\\n\",\"sdf\");\n",
       "\tviewer_16285997486219873.addModel(\"BRD4, Ligand 10\\n     RDKit          3D\\n\\n 27 30  0  0  1  0  0  0  0  0999 V2000\\n   14.2547   17.0265    5.1962 C   0  0  0  0  0  0  0  0  0  0  0  0\\n   14.7890   18.2659    3.2133 C   0  0  0  0  0  0  0  0  0  0  0  0\\n   15.5101   17.2545    5.7242 C   0  0  0  0  0  0  0  0  0  0  0  0\\n   16.0495   18.4892    3.7360 C   0  0  0  0  0  0  0  0  0  0  0  0\\n   10.7049   14.9465    3.4383 C   0  0  0  0  0  0  0  0  0  0  0  0\\n   13.8894   17.5330    3.9603 C   0  0  0  0  0  0  0  0  0  0  0  0\\n   11.5097   17.0173    4.4542 C   0  0  0  0  0  0  0  0  0  0  0  0\\n   11.2209   17.8654    5.5732 C   0  0  0  0  0  0  0  0  0  0  0  0\\n   16.4051   17.9930    4.9781 C   0  0  0  0  0  0  0  0  0  0  0  0\\n   10.6991   15.8932    4.4549 C   0  0  0  0  0  0  0  0  0  0  0  0\\n   10.8493   15.3757    2.1447 C   0  0  0  0  0  0  0  0  0  0  0  0\\n   10.5329   13.5416    3.3747 C   0  0  0  0  0  0  0  0  0  0  0  0\\n   10.1954   17.3625    6.3565 C   0  0  0  0  0  0  0  0  0  0  0  0\\n   12.5382   17.2447    3.4418 C   0  0  0  0  0  0  0  0  0  0  0  0\\n   11.3411   18.2901   -0.2450 C   0  0  0  0  0  0  0  0  0  0  0  0\\n   11.0674   16.7579    1.6569 C   0  0  0  0  0  0  0  0  0  0  0  0\\n   11.8900   19.1513    5.8577 C   0  0  0  0  0  0  0  0  0  0  0  0\\n   10.3210   12.5661    4.4585 C   0  0  0  0  0  0  0  0  0  0  0  0\\n    9.5948   17.9265    7.5823 C   0  0  0  0  0  0  0  0  0  0  0  0\\n   11.0829   16.8685    0.1516 C   0  0  0  0  0  0  0  0  0  0  0  0\\n   10.5860   13.1448    2.0949 N   0  0  0  0  0  0  0  0  0  0  0  0\\n   12.3971   17.1190    2.1496 N   0  0  0  0  0  0  0  0  0  0  0  0\\n   11.8808   18.3738   -1.5024 N   0  0  0  0  0  0  0  0  0  0  0  0\\n   11.0891   19.2574    0.4605 O   0  0  0  0  0  0  0  0  0  0  0  0\\n   10.7935   14.2899    1.3191 O   0  0  0  0  0  0  0  0  0  0  0  0\\n    9.5965   15.8640    5.7635 S   0  0  0  0  0  0  0  0  0  0  0  0\\n   17.9850   18.2843    5.6252 Cl  0  0  0  0  0  0  0  0  0  0  0  0\\n  1  3  2  0\\n  1  6  1  0\\n  2  4  1  0\\n  2  6  2  0\\n  3  9  1  0\\n  4  9  2  0\\n  5 10  1  0\\n  5 11  2  0\\n  5 12  1  0\\n  6 14  1  0\\n  7  8  1  0\\n  7 10  2  0\\n  7 14  1  0\\n  8 13  2  0\\n  8 17  1  0\\n  9 27  1  0\\n 10 26  1  0\\n 11 16  1  0\\n 11 25  1  0\\n 12 18  1  0\\n 12 21  2  0\\n 13 19  1  0\\n 13 26  1  0\\n 14 22  2  0\\n 15 20  1  0\\n 15 23  1  0\\n 15 24  2  0\\n 16 20  1  0\\n 16 22  1  0\\n 21 25  1  0\\nM  END\\n\",\"sdf\");\n",
       "\tviewer_16285997486219873.setStyle({\"model\": 0},{\"stick\": {\"colorscheme\": \"lightgreyCarbon\"}});\n",
       "\tviewer_16285997486219873.setStyle({\"model\": 1},{\"stick\": {\"colorscheme\": \"redCarbon\"}});\n",
       "\tviewer_16285997486219873.setStyle({\"model\": 2},{\"stick\": {\"colorscheme\": \"greyCarbon\"}});\n",
       "\tviewer_16285997486219873.zoomTo();\n",
       "viewer_16285997486219873.render();\n",
       "});\n",
       "</script>"
      ]
     },
     "metadata": {},
     "output_type": "display_data"
    },
    {
     "data": {
      "text/plain": [
       "<py3Dmol.view at 0x7f0375648e10>"
      ]
     },
     "execution_count": 24,
     "metadata": {},
     "output_type": "execute_result"
    }
   ],
   "source": [
    "align_frag_and_show(5, 9)"
   ]
  }
 ],
 "metadata": {
  "interpreter": {
   "hash": "2170310d8da5d5d0ced416f072c764c73705bd667e97df15cd83672f4e754559"
  },
  "kernelspec": {
   "display_name": "Python 3",
   "language": "python",
   "name": "python3"
  },
  "language_info": {
   "codemirror_mode": {
    "name": "ipython",
    "version": 3
   },
   "file_extension": ".py",
   "mimetype": "text/x-python",
   "name": "python",
   "nbconvert_exporter": "python",
   "pygments_lexer": "ipython3",
   "version": "3.7.10"
  }
 },
 "nbformat": 4,
 "nbformat_minor": 2
}
