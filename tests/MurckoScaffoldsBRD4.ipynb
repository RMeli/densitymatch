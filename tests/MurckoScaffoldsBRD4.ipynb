{
 "cells": [
  {
   "cell_type": "markdown",
   "metadata": {},
   "source": [
    "# Align Murcko Scaffolds"
   ]
  },
  {
   "cell_type": "code",
   "execution_count": 1,
   "metadata": {},
   "outputs": [],
   "source": [
    "%load_ext autoreload\n",
    "%autoreload 2"
   ]
  },
  {
   "cell_type": "markdown",
   "metadata": {},
   "source": [
    "### Libraries"
   ]
  },
  {
   "cell_type": "code",
   "execution_count": 2,
   "metadata": {},
   "outputs": [
    {
     "name": "stdout",
     "output_type": "stream",
     "text": [
      "Jupyter environment detected. Enabling Open3D WebVisualizer.\n",
      "[Open3D INFO] WebRTC GUI backend enabled.\n",
      "[Open3D INFO] WebRTCWindowSystem: HTTP handshake server disabled.\n"
     ]
    },
    {
     "name": "stderr",
     "output_type": "stream",
     "text": [
      "/usr/lib/python3.6/importlib/_bootstrap.py:219: RuntimeWarning: to-Python converter for std::vector<std::__cxx11::basic_string<char, std::char_traits<char>, std::allocator<char> >, std::allocator<std::__cxx11::basic_string<char, std::char_traits<char>, std::allocator<char> > > > already registered; second conversion method ignored.\n",
      "  return f(*args, **kwds)\n",
      "/usr/lib/python3.6/importlib/_bootstrap.py:219: RuntimeWarning: to-Python converter for std::vector<unsigned long, std::allocator<unsigned long> > already registered; second conversion method ignored.\n",
      "  return f(*args, **kwds)\n",
      "INFO - 2021-09-14 11:02:00,650 - __init__ - Enabling RDKit 2021.03.1 jupyter extensions\n"
     ]
    }
   ],
   "source": [
    "import open3d as o3d\n",
    "import numpy as np\n",
    "import seaborn as sns\n",
    "import pandas as pd\n",
    "\n",
    "from numpy.random import default_rng\n",
    "\n",
    "import re, os\n",
    "from io import StringIO\n",
    "\n",
    "import tqdm\n",
    "from tqdm.auto import trange\n",
    "\n",
    "import py3Dmol\n",
    "\n",
    "import molgrid\n",
    "\n",
    "from rdkit import Chem\n",
    "from rdkit.Chem import AllChem\n",
    "from rdkit.Chem import PandasTools\n",
    "from rdkit.Chem.Scaffolds import MurckoScaffold as MS\n",
    "\n",
    "from openbabel import pybel\n",
    "\n",
    "import ipywidgets as widgets\n",
    "\n",
    "import copy"
   ]
  },
  {
   "cell_type": "code",
   "execution_count": 3,
   "metadata": {},
   "outputs": [],
   "source": [
    "from utils import show_molecule_idx, show_all_conformers\n",
    "from utils import AlignShow, translate_and_rotate\n",
    "\n",
    "import sys\n",
    "\n",
    "sys.path.append(\"../../ligan-EVOTEC\")\n",
    "\n",
    "from molgrid_to_pcd import mol_to_grid, grid_to_pcd\n",
    "from molgrid_diff import grid_diff\n",
    "from fit_to_grid import molgrid_diff_to_mol"
   ]
  },
  {
   "cell_type": "code",
   "execution_count": 4,
   "metadata": {},
   "outputs": [
    {
     "name": "stdout",
     "output_type": "stream",
     "text": [
      "['ligands/BRD4/ligand-1_tran.pcd', 'ligands/BRD4/ligand-2_tran.pcd', 'ligands/BRD4/ligand-3_tran.pcd', 'ligands/BRD4/ligand-4_tran.pcd', 'ligands/BRD4/ligand-5_tran.pcd', 'ligands/BRD4/ligand-6_tran.pcd', 'ligands/BRD4/ligand-7_tran.pcd', 'ligands/BRD4/ligand-8_tran.pcd', 'ligands/BRD4/ligand-9_tran.pcd', 'ligands/BRD4/ligand-10_tran.pcd']\n"
     ]
    }
   ],
   "source": [
    "path = \"ligands/BRD4\"\n",
    "files = [\n",
    "    os.path.join(path, f)\n",
    "    for f in os.listdir(path)\n",
    "    if os.path.splitext(f)[-1] == \".pcd\" and os.path.splitext(f)[0][-4:] == \"tran\"\n",
    "]\n",
    "\n",
    "# Sort BRD4 ligand files by number\n",
    "r = re.compile(\"\\d{1,2}\")\n",
    "files.sort(key=lambda f: int(r.search(os.path.basename(f)).group()))\n",
    "\n",
    "print(files)\n",
    "\n",
    "pcds = []\n",
    "mols = []\n",
    "for f in files:\n",
    "    pcd = o3d.io.read_point_cloud(f)\n",
    "    pcds.append(pcd)\n",
    "\n",
    "    s = Chem.SDMolSupplier(f.replace(\".pcd\", \".sdf\"))\n",
    "    mol = next(s)\n",
    "    mols.append(mol)"
   ]
  },
  {
   "cell_type": "code",
   "execution_count": 5,
   "metadata": {},
   "outputs": [
    {
     "data": {
      "application/vnd.jupyter.widget-view+json": {
       "model_id": "4324f49237a244828af21ee85b95648a",
       "version_major": 2,
       "version_minor": 0
      },
      "text/plain": [
       "interactive(children=(IntSlider(value=1, description='index', max=9), Output()), _dom_classes=('widget-interac…"
      ]
     },
     "metadata": {},
     "output_type": "display_data"
    }
   ],
   "source": [
    "_ = widgets.interact(\n",
    "    lambda index: show_molecule_idx(index, mols),\n",
    "    index=widgets.IntSlider(min=0, max=len(mols) - 1, step=1, value=1),\n",
    ")"
   ]
  },
  {
   "cell_type": "code",
   "execution_count": 6,
   "metadata": {},
   "outputs": [],
   "source": [
    "msMols = [MS.GetScaffoldForMol(mol) for mol in mols]"
   ]
  },
  {
   "cell_type": "code",
   "execution_count": 7,
   "metadata": {},
   "outputs": [
    {
     "data": {
      "application/vnd.jupyter.widget-view+json": {
       "model_id": "fcfe7314beb2498c8002da378df88a50",
       "version_major": 2,
       "version_minor": 0
      },
      "text/plain": [
       "interactive(children=(IntSlider(value=1, description='index', max=9), Output()), _dom_classes=('widget-interac…"
      ]
     },
     "metadata": {},
     "output_type": "display_data"
    }
   ],
   "source": [
    "_ = widgets.interact(\n",
    "    lambda index: show_molecule_idx(index, msMols),\n",
    "    index=widgets.IntSlider(min=0, max=len(mols) - 1, step=1, value=1),\n",
    ")"
   ]
  },
  {
   "cell_type": "markdown",
   "metadata": {},
   "source": [
    "Write scaffolds to file:"
   ]
  },
  {
   "cell_type": "code",
   "execution_count": 8,
   "metadata": {},
   "outputs": [],
   "source": [
    "for idx, mol in enumerate(msMols):\n",
    "    # Randomly translate and rotate Murcko scaffolds\n",
    "    translate_and_rotate(mol)\n",
    "\n",
    "    with Chem.SDWriter(os.path.join(path, f\"murcko_{idx}.sdf\")) as w:\n",
    "        w.write(mol, confId=0)"
   ]
  },
  {
   "cell_type": "code",
   "execution_count": 9,
   "metadata": {},
   "outputs": [
    {
     "name": "stdout",
     "output_type": "stream",
     "text": [
      "['ligands/BRD4/murcko_0.sdf', 'ligands/BRD4/murcko_1.sdf', 'ligands/BRD4/murcko_2.sdf', 'ligands/BRD4/murcko_3.sdf', 'ligands/BRD4/murcko_4.sdf', 'ligands/BRD4/murcko_5.sdf', 'ligands/BRD4/murcko_6.sdf', 'ligands/BRD4/murcko_7.sdf', 'ligands/BRD4/murcko_8.sdf', 'ligands/BRD4/murcko_9.sdf']\n"
     ]
    },
    {
     "name": "stderr",
     "output_type": "stream",
     "text": [
      "100%|██████████| 10/10 [00:03<00:00,  3.15it/s]"
     ]
    },
    {
     "name": "stdout",
     "output_type": "stream",
     "text": [
      "[PointCloud with 457 points., PointCloud with 475 points., PointCloud with 382 points., PointCloud with 352 points., PointCloud with 581 points., PointCloud with 496 points., PointCloud with 562 points., PointCloud with 492 points., PointCloud with 609 points., PointCloud with 608 points.]\n"
     ]
    },
    {
     "name": "stderr",
     "output_type": "stream",
     "text": [
      "\n"
     ]
    }
   ],
   "source": [
    "mkpcds = []\n",
    "mkmols = []\n",
    "\n",
    "files = [os.path.join(path, f\"murcko_{i}.sdf\") for i in range(len(mols))]\n",
    "\n",
    "print(files)\n",
    "\n",
    "typer = molgrid.FileMappedGninaTyper(\"../files/ligmap\")\n",
    "\n",
    "for f in tqdm.tqdm(files):\n",
    "    # Load molecule as RDKit molecule\n",
    "    s = Chem.SDMolSupplier(f)\n",
    "    mol = next(s)\n",
    "    mkmols.append(mol)\n",
    "\n",
    "    # Load molecule as OpenBabel molecule\n",
    "    obmol = next(pybel.readfile(\"sdf\", f))\n",
    "\n",
    "    grid, center = mol_to_grid(obmol, 23.5, 0.5, typer)\n",
    "    pcd = grid_to_pcd(\n",
    "        grid,\n",
    "        center,\n",
    "        23.5,\n",
    "        0.5,\n",
    "        typer,\n",
    "    )\n",
    "\n",
    "    # pcd = o3d.io.read_point_cloud(f)\n",
    "    mkpcds.append(pcd)\n",
    "\n",
    "print(mkpcds)"
   ]
  },
  {
   "cell_type": "markdown",
   "metadata": {},
   "source": [
    "## Align Murcko Scaffold with Original Molecule"
   ]
  },
  {
   "cell_type": "markdown",
   "metadata": {},
   "source": [
    "### Reconstruction"
   ]
  },
  {
   "cell_type": "code",
   "execution_count": 10,
   "metadata": {},
   "outputs": [],
   "source": [
    "def reconstruction(fname, verbose=False):\n",
    "    \"\"\"\n",
    "    Reconstruct molecule from file.\n",
    "    Files is assumed to contained the scaffold (confId=0)\n",
    "    aligned to its original molecule (confId=1)\n",
    "    \"\"\"\n",
    "    typer = molgrid.FileMappedGninaTyper(\"../files/ligmap\")\n",
    "\n",
    "    sdfile = pybel.readfile(\"sdf\", fname)\n",
    "    obmol1 = next(sdfile)\n",
    "    obmol2 = next(sdfile)\n",
    "\n",
    "    gdiff, c = grid_diff(obmol1, obmol2, 23.5, 0.5, typer)\n",
    "\n",
    "    # Convert center to numpy array\n",
    "    c = np.array([c[0], c[1], c[2]])\n",
    "\n",
    "    npgdiff = gdiff.cpu().detach().numpy()\n",
    "\n",
    "    # Load Murcko scaffold as RDKit molecule\n",
    "    rdscaffold = next(Chem.SDMolSupplier(fname, removeHs=True))\n",
    "\n",
    "    # Fit atoms into density difference\n",
    "    # Link nearest atom from the fit to the scaffold to build whole molecule\n",
    "    rdmolfinal = molgrid_diff_to_mol(\n",
    "        npgdiff, c, 0.5, \"../files/ligmap\", rdscaffold, verbose=verbose\n",
    "    )\n",
    "\n",
    "    return rdmolfinal"
   ]
  },
  {
   "cell_type": "code",
   "execution_count": 11,
   "metadata": {},
   "outputs": [
    {
     "name": "stdout",
     "output_type": "stream",
     "text": [
      "Score: 0.9387308533916849\n"
     ]
    },
    {
     "data": {
      "application/3dmoljs_load.v0": "<div id=\"3dmolviewer_16316137252631245\"  style=\"position: relative; width: 640px; height: 480px\">\n        <p id=\"3dmolwarning_16316137252631245\" style=\"background-color:#ffcccc;color:black\">You appear to be running in JupyterLab (or JavaScript failed to load for some other reason).  You need to install the 3dmol extension: <br>\n        <tt>jupyter labextension install jupyterlab_3dmol</tt></p>\n        </div>\n<script>\n\nvar loadScriptAsync = function(uri){\n  return new Promise((resolve, reject) => {\n    var tag = document.createElement('script');\n    tag.src = uri;\n    tag.async = true;\n    tag.onload = () => {\n      resolve();\n    };\n  var firstScriptTag = document.getElementsByTagName('script')[0];\n  firstScriptTag.parentNode.insertBefore(tag, firstScriptTag);\n});\n};\n\nif(typeof $3Dmolpromise === 'undefined') {\n$3Dmolpromise = null;\n  $3Dmolpromise = loadScriptAsync('https://3dmol.org/build/3Dmol.js');\n}\n\nvar viewer_16316137252631245 = null;\nvar warn = document.getElementById(\"3dmolwarning_16316137252631245\");\nif(warn) {\n    warn.parentNode.removeChild(warn);\n}\n$3Dmolpromise.then(function() {\nviewer_16316137252631245 = $3Dmol.createViewer($(\"#3dmolviewer_16316137252631245\"),{backgroundColor:\"white\"});\nviewer_16316137252631245.zoomTo();\n\tviewer_16316137252631245.addModel(\"BRD4, Ligand 1\\n     RDKit          3D\\n\\n 15 17  0  0  0  0  0  0  0  0999 V2000\\n    3.2756   -1.5133   20.5026 N   0  0  0  0  0  0  0  0  0  0  0  0\\n    2.8927   -2.4537   18.3238 N   0  0  0  0  0  0  0  0  0  0  0  0\\n    3.3579   -1.9422   21.7887 N   0  0  0  0  0  0  0  0  0  0  0  0\\n    2.9255   -3.6990   20.4056 N   0  0  0  0  0  0  0  0  0  0  0  0\\n    3.4235   -0.2174   19.9915 C   0  0  0  0  0  0  0  0  0  0  0  0\\n    3.3096   -0.0273   18.6663 C   0  0  0  0  0  0  0  0  0  0  0  0\\n    3.0139   -2.6064   19.6729 C   0  0  0  0  0  0  0  0  0  0  0  0\\n    3.0325   -1.2500   17.8527 C   0  0  0  0  0  0  0  0  0  0  0  0\\n    3.1374   -3.2479   21.6675 C   0  0  0  0  0  0  0  0  0  0  0  0\\n    3.6865    0.9372   20.8689 C   0  0  0  0  0  0  0  0  0  0  0  0\\n    4.7349    1.8108   20.5771 C   0  0  0  0  0  0  0  0  0  0  0  0\\n    4.9848    2.9038   21.4074 C   0  0  0  0  0  0  0  0  0  0  0  0\\n    4.1860    3.1231   22.5306 C   0  0  0  0  0  0  0  0  0  0  0  0\\n    3.1390    2.2502   22.8225 C   0  0  0  0  0  0  0  0  0  0  0  0\\n    2.8885    1.1585   21.9921 C   0  0  0  0  0  0  0  0  0  0  0  0\\n  1  3  1  0\\n  1  5  1  0\\n  1  7  1  0\\n  2  7  1  0\\n  2  8  2  0\\n  3  9  2  0\\n  4  7  2  0\\n  4  9  1  0\\n  5  6  2  0\\n  5 10  1  0\\n  6  8  1  0\\n 10 11  2  0\\n 10 15  1  0\\n 11 12  1  0\\n 12 13  2  0\\n 13 14  1  0\\n 14 15  2  0\\nM  END\\n\",\"sdf\");\n\tviewer_16316137252631245.addModel(\"BRD4, Ligand 1\\n     RDKit          3D\\n\\n 15 17  0  0  0  0  0  0  0  0999 V2000\\n   19.9079   -1.0305    4.9869 N   0  0  0  0  0  0  0  0  0  0  0  0\\n   18.2203   -0.6971    3.3080 N   0  0  0  0  0  0  0  0  0  0  0  0\\n   21.2520   -1.2164    5.0465 N   0  0  0  0  0  0  0  0  0  0  0  0\\n   20.5872   -1.0109    2.8780 N   0  0  0  0  0  0  0  0  0  0  0  0\\n   18.9787   -0.9537    6.0325 C   0  0  0  0  0  0  0  0  0  0  0  0\\n   17.6842   -0.7520    5.7345 C   0  0  0  0  0  0  0  0  0  0  0  0\\n   19.5236   -0.9036    3.6498 C   0  0  0  0  0  0  0  0  0  0  0  0\\n   17.3610   -0.6243    4.2809 C   0  0  0  0  0  0  0  0  0  0  0  0\\n   21.5984   -1.1994    3.7628 C   0  0  0  0  0  0  0  0  0  0  0  0\\n   19.3831   -1.1008    7.4420 C   0  0  0  0  0  0  0  0  0  0  0  0\\n   18.9781   -0.1566    8.3864 C   0  0  0  0  0  0  0  0  0  0  0  0\\n   19.3609   -0.2950    9.7209 C   0  0  0  0  0  0  0  0  0  0  0  0\\n   20.1496   -1.3781   10.1112 C   0  0  0  0  0  0  0  0  0  0  0  0\\n   20.5547   -2.3212    9.1679 C   0  0  0  0  0  0  0  0  0  0  0  0\\n   20.1713   -2.1836    7.8344 C   0  0  0  0  0  0  0  0  0  0  0  0\\n  1  3  1  0\\n  1  5  1  0\\n  1  7  1  0\\n  2  7  1  0\\n  2  8  2  0\\n  3  9  2  0\\n  4  7  2  0\\n  4  9  1  0\\n  5  6  2  0\\n  5 10  1  0\\n  6  8  1  0\\n 10 11  2  0\\n 10 15  1  0\\n 11 12  1  0\\n 12 13  2  0\\n 13 14  1  0\\n 14 15  2  0\\nM  END\\n\",\"sdf\");\n\tviewer_16316137252631245.addModel(\"BRD4, Ligand 1\\n     RDKit          3D\\n\\n 16 18  0  0  0  0  0  0  0  0999 V2000\\n   19.9000   -1.0289    4.9926 N   0  0  0  0  0  0  0  0  0  0  0  0\\n   18.1804   -0.6662    3.3526 N   0  0  0  0  0  0  0  0  0  0  0  0\\n   21.2437   -1.2244    5.0223 N   0  0  0  0  0  0  0  0  0  0  0  0\\n   20.5357   -0.9912    2.8704 N   0  0  0  0  0  0  0  0  0  0  0  0\\n   18.9931   -0.9570    6.0580 C   0  0  0  0  0  0  0  0  0  0  0  0\\n   17.6941   -0.7435    5.7890 C   0  0  0  0  0  0  0  0  0  0  0  0\\n   19.4890   -0.8850    3.6652 C   0  0  0  0  0  0  0  0  0  0  0  0\\n   17.3418   -0.5981    4.3439 C   0  0  0  0  0  0  0  0  0  0  0  0\\n   15.8896   -0.3573    4.0168 C   0  0  0  0  0  0  0  0  0  0  0  0\\n   21.5636   -1.1959    3.7320 C   0  0  0  0  0  0  0  0  0  0  0  0\\n   19.4255   -1.1221    7.4572 C   0  0  0  0  0  0  0  0  0  0  0  0\\n   19.0466   -0.1853    8.4197 C   0  0  0  0  0  0  0  0  0  0  0  0\\n   19.4558   -0.3406    9.7444 C   0  0  0  0  0  0  0  0  0  0  0  0\\n   20.2449   -1.4331   10.1069 C   0  0  0  0  0  0  0  0  0  0  0  0\\n   20.6239   -2.3687    9.1454 C   0  0  0  0  0  0  0  0  0  0  0  0\\n   20.2140   -2.2142    7.8217 C   0  0  0  0  0  0  0  0  0  0  0  0\\n  1  3  1  0\\n  1  5  1  0\\n  1  7  1  0\\n  2  7  1  0\\n  2  8  2  0\\n  3 10  2  0\\n  4  7  2  0\\n  4 10  1  0\\n  5  6  2  0\\n  5 11  1  0\\n  6  8  1  0\\n  8  9  1  0\\n 11 12  2  0\\n 11 16  1  0\\n 12 13  1  0\\n 13 14  2  0\\n 14 15  1  0\\n 15 16  2  0\\nM  END\\n\",\"sdf\");\n\tviewer_16316137252631245.setStyle({\"model\": 0},{\"stick\": {\"colorscheme\": \"lightgreyCarbon\"}});\n\tviewer_16316137252631245.setStyle({\"model\": 1},{\"stick\": {\"colorscheme\": \"redCarbon\"}});\n\tviewer_16316137252631245.setStyle({\"model\": 2},{\"stick\": {\"colorscheme\": \"greyCarbon\"}});\n\tviewer_16316137252631245.zoomTo();\nviewer_16316137252631245.render();\n});\n</script>",
      "text/html": [
       "<div id=\"3dmolviewer_16316137252631245\"  style=\"position: relative; width: 640px; height: 480px\">\n",
       "        <p id=\"3dmolwarning_16316137252631245\" style=\"background-color:#ffcccc;color:black\">You appear to be running in JupyterLab (or JavaScript failed to load for some other reason).  You need to install the 3dmol extension: <br>\n",
       "        <tt>jupyter labextension install jupyterlab_3dmol</tt></p>\n",
       "        </div>\n",
       "<script>\n",
       "\n",
       "var loadScriptAsync = function(uri){\n",
       "  return new Promise((resolve, reject) => {\n",
       "    var tag = document.createElement('script');\n",
       "    tag.src = uri;\n",
       "    tag.async = true;\n",
       "    tag.onload = () => {\n",
       "      resolve();\n",
       "    };\n",
       "  var firstScriptTag = document.getElementsByTagName('script')[0];\n",
       "  firstScriptTag.parentNode.insertBefore(tag, firstScriptTag);\n",
       "});\n",
       "};\n",
       "\n",
       "if(typeof $3Dmolpromise === 'undefined') {\n",
       "$3Dmolpromise = null;\n",
       "  $3Dmolpromise = loadScriptAsync('https://3dmol.org/build/3Dmol.js');\n",
       "}\n",
       "\n",
       "var viewer_16316137252631245 = null;\n",
       "var warn = document.getElementById(\"3dmolwarning_16316137252631245\");\n",
       "if(warn) {\n",
       "    warn.parentNode.removeChild(warn);\n",
       "}\n",
       "$3Dmolpromise.then(function() {\n",
       "viewer_16316137252631245 = $3Dmol.createViewer($(\"#3dmolviewer_16316137252631245\"),{backgroundColor:\"white\"});\n",
       "viewer_16316137252631245.zoomTo();\n",
       "\tviewer_16316137252631245.addModel(\"BRD4, Ligand 1\\n     RDKit          3D\\n\\n 15 17  0  0  0  0  0  0  0  0999 V2000\\n    3.2756   -1.5133   20.5026 N   0  0  0  0  0  0  0  0  0  0  0  0\\n    2.8927   -2.4537   18.3238 N   0  0  0  0  0  0  0  0  0  0  0  0\\n    3.3579   -1.9422   21.7887 N   0  0  0  0  0  0  0  0  0  0  0  0\\n    2.9255   -3.6990   20.4056 N   0  0  0  0  0  0  0  0  0  0  0  0\\n    3.4235   -0.2174   19.9915 C   0  0  0  0  0  0  0  0  0  0  0  0\\n    3.3096   -0.0273   18.6663 C   0  0  0  0  0  0  0  0  0  0  0  0\\n    3.0139   -2.6064   19.6729 C   0  0  0  0  0  0  0  0  0  0  0  0\\n    3.0325   -1.2500   17.8527 C   0  0  0  0  0  0  0  0  0  0  0  0\\n    3.1374   -3.2479   21.6675 C   0  0  0  0  0  0  0  0  0  0  0  0\\n    3.6865    0.9372   20.8689 C   0  0  0  0  0  0  0  0  0  0  0  0\\n    4.7349    1.8108   20.5771 C   0  0  0  0  0  0  0  0  0  0  0  0\\n    4.9848    2.9038   21.4074 C   0  0  0  0  0  0  0  0  0  0  0  0\\n    4.1860    3.1231   22.5306 C   0  0  0  0  0  0  0  0  0  0  0  0\\n    3.1390    2.2502   22.8225 C   0  0  0  0  0  0  0  0  0  0  0  0\\n    2.8885    1.1585   21.9921 C   0  0  0  0  0  0  0  0  0  0  0  0\\n  1  3  1  0\\n  1  5  1  0\\n  1  7  1  0\\n  2  7  1  0\\n  2  8  2  0\\n  3  9  2  0\\n  4  7  2  0\\n  4  9  1  0\\n  5  6  2  0\\n  5 10  1  0\\n  6  8  1  0\\n 10 11  2  0\\n 10 15  1  0\\n 11 12  1  0\\n 12 13  2  0\\n 13 14  1  0\\n 14 15  2  0\\nM  END\\n\",\"sdf\");\n",
       "\tviewer_16316137252631245.addModel(\"BRD4, Ligand 1\\n     RDKit          3D\\n\\n 15 17  0  0  0  0  0  0  0  0999 V2000\\n   19.9079   -1.0305    4.9869 N   0  0  0  0  0  0  0  0  0  0  0  0\\n   18.2203   -0.6971    3.3080 N   0  0  0  0  0  0  0  0  0  0  0  0\\n   21.2520   -1.2164    5.0465 N   0  0  0  0  0  0  0  0  0  0  0  0\\n   20.5872   -1.0109    2.8780 N   0  0  0  0  0  0  0  0  0  0  0  0\\n   18.9787   -0.9537    6.0325 C   0  0  0  0  0  0  0  0  0  0  0  0\\n   17.6842   -0.7520    5.7345 C   0  0  0  0  0  0  0  0  0  0  0  0\\n   19.5236   -0.9036    3.6498 C   0  0  0  0  0  0  0  0  0  0  0  0\\n   17.3610   -0.6243    4.2809 C   0  0  0  0  0  0  0  0  0  0  0  0\\n   21.5984   -1.1994    3.7628 C   0  0  0  0  0  0  0  0  0  0  0  0\\n   19.3831   -1.1008    7.4420 C   0  0  0  0  0  0  0  0  0  0  0  0\\n   18.9781   -0.1566    8.3864 C   0  0  0  0  0  0  0  0  0  0  0  0\\n   19.3609   -0.2950    9.7209 C   0  0  0  0  0  0  0  0  0  0  0  0\\n   20.1496   -1.3781   10.1112 C   0  0  0  0  0  0  0  0  0  0  0  0\\n   20.5547   -2.3212    9.1679 C   0  0  0  0  0  0  0  0  0  0  0  0\\n   20.1713   -2.1836    7.8344 C   0  0  0  0  0  0  0  0  0  0  0  0\\n  1  3  1  0\\n  1  5  1  0\\n  1  7  1  0\\n  2  7  1  0\\n  2  8  2  0\\n  3  9  2  0\\n  4  7  2  0\\n  4  9  1  0\\n  5  6  2  0\\n  5 10  1  0\\n  6  8  1  0\\n 10 11  2  0\\n 10 15  1  0\\n 11 12  1  0\\n 12 13  2  0\\n 13 14  1  0\\n 14 15  2  0\\nM  END\\n\",\"sdf\");\n",
       "\tviewer_16316137252631245.addModel(\"BRD4, Ligand 1\\n     RDKit          3D\\n\\n 16 18  0  0  0  0  0  0  0  0999 V2000\\n   19.9000   -1.0289    4.9926 N   0  0  0  0  0  0  0  0  0  0  0  0\\n   18.1804   -0.6662    3.3526 N   0  0  0  0  0  0  0  0  0  0  0  0\\n   21.2437   -1.2244    5.0223 N   0  0  0  0  0  0  0  0  0  0  0  0\\n   20.5357   -0.9912    2.8704 N   0  0  0  0  0  0  0  0  0  0  0  0\\n   18.9931   -0.9570    6.0580 C   0  0  0  0  0  0  0  0  0  0  0  0\\n   17.6941   -0.7435    5.7890 C   0  0  0  0  0  0  0  0  0  0  0  0\\n   19.4890   -0.8850    3.6652 C   0  0  0  0  0  0  0  0  0  0  0  0\\n   17.3418   -0.5981    4.3439 C   0  0  0  0  0  0  0  0  0  0  0  0\\n   15.8896   -0.3573    4.0168 C   0  0  0  0  0  0  0  0  0  0  0  0\\n   21.5636   -1.1959    3.7320 C   0  0  0  0  0  0  0  0  0  0  0  0\\n   19.4255   -1.1221    7.4572 C   0  0  0  0  0  0  0  0  0  0  0  0\\n   19.0466   -0.1853    8.4197 C   0  0  0  0  0  0  0  0  0  0  0  0\\n   19.4558   -0.3406    9.7444 C   0  0  0  0  0  0  0  0  0  0  0  0\\n   20.2449   -1.4331   10.1069 C   0  0  0  0  0  0  0  0  0  0  0  0\\n   20.6239   -2.3687    9.1454 C   0  0  0  0  0  0  0  0  0  0  0  0\\n   20.2140   -2.2142    7.8217 C   0  0  0  0  0  0  0  0  0  0  0  0\\n  1  3  1  0\\n  1  5  1  0\\n  1  7  1  0\\n  2  7  1  0\\n  2  8  2  0\\n  3 10  2  0\\n  4  7  2  0\\n  4 10  1  0\\n  5  6  2  0\\n  5 11  1  0\\n  6  8  1  0\\n  8  9  1  0\\n 11 12  2  0\\n 11 16  1  0\\n 12 13  1  0\\n 13 14  2  0\\n 14 15  1  0\\n 15 16  2  0\\nM  END\\n\",\"sdf\");\n",
       "\tviewer_16316137252631245.setStyle({\"model\": 0},{\"stick\": {\"colorscheme\": \"lightgreyCarbon\"}});\n",
       "\tviewer_16316137252631245.setStyle({\"model\": 1},{\"stick\": {\"colorscheme\": \"redCarbon\"}});\n",
       "\tviewer_16316137252631245.setStyle({\"model\": 2},{\"stick\": {\"colorscheme\": \"greyCarbon\"}});\n",
       "\tviewer_16316137252631245.zoomTo();\n",
       "viewer_16316137252631245.render();\n",
       "});\n",
       "</script>"
      ]
     },
     "metadata": {},
     "output_type": "display_data"
    },
    {
     "data": {
      "text/plain": [
       "<py3Dmol.view at 0x7f1ed0e1be80>"
      ]
     },
     "execution_count": 11,
     "metadata": {},
     "output_type": "execute_result"
    }
   ],
   "source": [
    "molid = 0\n",
    "als = AlignShow([mols[molid], mkmols[molid]], [pcds[molid], mkpcds[molid]])\n",
    "s = als.align(1, 0)\n",
    "print(\"Score:\", s)\n",
    "als.save(1, 0, f\"murcko_self_{molid}.sdf\")\n",
    "als.show(1, 0)"
   ]
  },
  {
   "cell_type": "code",
   "execution_count": 12,
   "metadata": {},
   "outputs": [
    {
     "data": {
      "application/3dmoljs_load.v0": "<div id=\"3dmolviewer_16316137254146023\"  style=\"position: relative; width: 640px; height: 480px\">\n        <p id=\"3dmolwarning_16316137254146023\" style=\"background-color:#ffcccc;color:black\">You appear to be running in JupyterLab (or JavaScript failed to load for some other reason).  You need to install the 3dmol extension: <br>\n        <tt>jupyter labextension install jupyterlab_3dmol</tt></p>\n        </div>\n<script>\n\nvar loadScriptAsync = function(uri){\n  return new Promise((resolve, reject) => {\n    var tag = document.createElement('script');\n    tag.src = uri;\n    tag.async = true;\n    tag.onload = () => {\n      resolve();\n    };\n  var firstScriptTag = document.getElementsByTagName('script')[0];\n  firstScriptTag.parentNode.insertBefore(tag, firstScriptTag);\n});\n};\n\nif(typeof $3Dmolpromise === 'undefined') {\n$3Dmolpromise = null;\n  $3Dmolpromise = loadScriptAsync('https://3dmol.org/build/3Dmol.js');\n}\n\nvar viewer_16316137254146023 = null;\nvar warn = document.getElementById(\"3dmolwarning_16316137254146023\");\nif(warn) {\n    warn.parentNode.removeChild(warn);\n}\n$3Dmolpromise.then(function() {\nviewer_16316137254146023 = $3Dmol.createViewer($(\"#3dmolviewer_16316137254146023\"),{backgroundColor:\"white\"});\nviewer_16316137254146023.zoomTo();\n\tviewer_16316137254146023.addModel(\"\\n     RDKit          3D\\n\\n 16 18  0  0  0  0  0  0  0  0999 V2000\\n   15.8896   -0.3573    4.0168 C   0  0  0  0  0  5  0  0  0  0  0  0\\n   19.9079   -1.0305    4.9869 N   0  0  0  0  0  0  0  0  0  0  0  0\\n   18.2203   -0.6971    3.3080 N   0  0  0  0  0  0  0  0  0  0  0  0\\n   21.2520   -1.2164    5.0465 N   0  0  0  0  0  0  0  0  0  0  0  0\\n   20.5872   -1.0109    2.8780 N   0  0  0  0  0  0  0  0  0  0  0  0\\n   18.9787   -0.9537    6.0325 C   0  0  0  0  0  0  0  0  0  0  0  0\\n   17.6842   -0.7520    5.7345 C   0  0  0  0  0  0  0  0  0  0  0  0\\n   19.5236   -0.9036    3.6498 C   0  0  0  0  0  0  0  0  0  0  0  0\\n   17.3610   -0.6243    4.2809 C   0  0  0  0  0  0  0  0  0  0  0  0\\n   21.5984   -1.1994    3.7628 C   0  0  0  0  0  0  0  0  0  0  0  0\\n   19.3831   -1.1008    7.4420 C   0  0  0  0  0  0  0  0  0  0  0  0\\n   18.9781   -0.1566    8.3864 C   0  0  0  0  0  0  0  0  0  0  0  0\\n   19.3609   -0.2950    9.7209 C   0  0  0  0  0  0  0  0  0  0  0  0\\n   20.1496   -1.3781   10.1112 C   0  0  0  0  0  0  0  0  0  0  0  0\\n   20.5547   -2.3212    9.1679 C   0  0  0  0  0  0  0  0  0  0  0  0\\n   20.1713   -2.1836    7.8344 C   0  0  0  0  0  0  0  0  0  0  0  0\\n  2  4  1  0\\n  2  6  1  0\\n  2  8  1  0\\n  3  8  1  0\\n  3  9  2  0\\n  4 10  2  0\\n  5  8  2  0\\n  5 10  1  0\\n  6  7  2  0\\n  6 11  1  0\\n  7  9  1  0\\n 11 12  2  0\\n 11 16  1  0\\n 12 13  1  0\\n 13 14  2  0\\n 14 15  1  0\\n 15 16  2  0\\n  1  9  1  0\\nM  END\\n\",\"sdf\");\n\tviewer_16316137254146023.setStyle({\"model\": 0},{\"stick\": {\"colorscheme\": \"lightgreyCarbon\"}});\n\tviewer_16316137254146023.zoomTo();\nviewer_16316137254146023.render();\n});\n</script>",
      "text/html": [
       "<div id=\"3dmolviewer_16316137254146023\"  style=\"position: relative; width: 640px; height: 480px\">\n",
       "        <p id=\"3dmolwarning_16316137254146023\" style=\"background-color:#ffcccc;color:black\">You appear to be running in JupyterLab (or JavaScript failed to load for some other reason).  You need to install the 3dmol extension: <br>\n",
       "        <tt>jupyter labextension install jupyterlab_3dmol</tt></p>\n",
       "        </div>\n",
       "<script>\n",
       "\n",
       "var loadScriptAsync = function(uri){\n",
       "  return new Promise((resolve, reject) => {\n",
       "    var tag = document.createElement('script');\n",
       "    tag.src = uri;\n",
       "    tag.async = true;\n",
       "    tag.onload = () => {\n",
       "      resolve();\n",
       "    };\n",
       "  var firstScriptTag = document.getElementsByTagName('script')[0];\n",
       "  firstScriptTag.parentNode.insertBefore(tag, firstScriptTag);\n",
       "});\n",
       "};\n",
       "\n",
       "if(typeof $3Dmolpromise === 'undefined') {\n",
       "$3Dmolpromise = null;\n",
       "  $3Dmolpromise = loadScriptAsync('https://3dmol.org/build/3Dmol.js');\n",
       "}\n",
       "\n",
       "var viewer_16316137254146023 = null;\n",
       "var warn = document.getElementById(\"3dmolwarning_16316137254146023\");\n",
       "if(warn) {\n",
       "    warn.parentNode.removeChild(warn);\n",
       "}\n",
       "$3Dmolpromise.then(function() {\n",
       "viewer_16316137254146023 = $3Dmol.createViewer($(\"#3dmolviewer_16316137254146023\"),{backgroundColor:\"white\"});\n",
       "viewer_16316137254146023.zoomTo();\n",
       "\tviewer_16316137254146023.addModel(\"\\n     RDKit          3D\\n\\n 16 18  0  0  0  0  0  0  0  0999 V2000\\n   15.8896   -0.3573    4.0168 C   0  0  0  0  0  5  0  0  0  0  0  0\\n   19.9079   -1.0305    4.9869 N   0  0  0  0  0  0  0  0  0  0  0  0\\n   18.2203   -0.6971    3.3080 N   0  0  0  0  0  0  0  0  0  0  0  0\\n   21.2520   -1.2164    5.0465 N   0  0  0  0  0  0  0  0  0  0  0  0\\n   20.5872   -1.0109    2.8780 N   0  0  0  0  0  0  0  0  0  0  0  0\\n   18.9787   -0.9537    6.0325 C   0  0  0  0  0  0  0  0  0  0  0  0\\n   17.6842   -0.7520    5.7345 C   0  0  0  0  0  0  0  0  0  0  0  0\\n   19.5236   -0.9036    3.6498 C   0  0  0  0  0  0  0  0  0  0  0  0\\n   17.3610   -0.6243    4.2809 C   0  0  0  0  0  0  0  0  0  0  0  0\\n   21.5984   -1.1994    3.7628 C   0  0  0  0  0  0  0  0  0  0  0  0\\n   19.3831   -1.1008    7.4420 C   0  0  0  0  0  0  0  0  0  0  0  0\\n   18.9781   -0.1566    8.3864 C   0  0  0  0  0  0  0  0  0  0  0  0\\n   19.3609   -0.2950    9.7209 C   0  0  0  0  0  0  0  0  0  0  0  0\\n   20.1496   -1.3781   10.1112 C   0  0  0  0  0  0  0  0  0  0  0  0\\n   20.5547   -2.3212    9.1679 C   0  0  0  0  0  0  0  0  0  0  0  0\\n   20.1713   -2.1836    7.8344 C   0  0  0  0  0  0  0  0  0  0  0  0\\n  2  4  1  0\\n  2  6  1  0\\n  2  8  1  0\\n  3  8  1  0\\n  3  9  2  0\\n  4 10  2  0\\n  5  8  2  0\\n  5 10  1  0\\n  6  7  2  0\\n  6 11  1  0\\n  7  9  1  0\\n 11 12  2  0\\n 11 16  1  0\\n 12 13  1  0\\n 13 14  2  0\\n 14 15  1  0\\n 15 16  2  0\\n  1  9  1  0\\nM  END\\n\",\"sdf\");\n",
       "\tviewer_16316137254146023.setStyle({\"model\": 0},{\"stick\": {\"colorscheme\": \"lightgreyCarbon\"}});\n",
       "\tviewer_16316137254146023.zoomTo();\n",
       "viewer_16316137254146023.render();\n",
       "});\n",
       "</script>"
      ]
     },
     "metadata": {},
     "output_type": "display_data"
    }
   ],
   "source": [
    "rdmol0 = reconstruction(\"murcko_self_0.sdf\")\n",
    "show_all_conformers(rdmol0)"
   ]
  },
  {
   "cell_type": "code",
   "execution_count": 13,
   "metadata": {},
   "outputs": [
    {
     "name": "stdout",
     "output_type": "stream",
     "text": [
      "Score: 0.9473684210526315\n"
     ]
    },
    {
     "data": {
      "application/3dmoljs_load.v0": "<div id=\"3dmolviewer_16316137257950027\"  style=\"position: relative; width: 640px; height: 480px\">\n        <p id=\"3dmolwarning_16316137257950027\" style=\"background-color:#ffcccc;color:black\">You appear to be running in JupyterLab (or JavaScript failed to load for some other reason).  You need to install the 3dmol extension: <br>\n        <tt>jupyter labextension install jupyterlab_3dmol</tt></p>\n        </div>\n<script>\n\nvar loadScriptAsync = function(uri){\n  return new Promise((resolve, reject) => {\n    var tag = document.createElement('script');\n    tag.src = uri;\n    tag.async = true;\n    tag.onload = () => {\n      resolve();\n    };\n  var firstScriptTag = document.getElementsByTagName('script')[0];\n  firstScriptTag.parentNode.insertBefore(tag, firstScriptTag);\n});\n};\n\nif(typeof $3Dmolpromise === 'undefined') {\n$3Dmolpromise = null;\n  $3Dmolpromise = loadScriptAsync('https://3dmol.org/build/3Dmol.js');\n}\n\nvar viewer_16316137257950027 = null;\nvar warn = document.getElementById(\"3dmolwarning_16316137257950027\");\nif(warn) {\n    warn.parentNode.removeChild(warn);\n}\n$3Dmolpromise.then(function() {\nviewer_16316137257950027 = $3Dmol.createViewer($(\"#3dmolviewer_16316137257950027\"),{backgroundColor:\"white\"});\nviewer_16316137257950027.zoomTo();\n\tviewer_16316137257950027.addModel(\"BRD4, Ligand 2\\n     RDKit          3D\\n\\n 15 17  0  0  0  0  0  0  0  0999 V2000\\n   20.0352   -4.0655    1.1045 C   0  0  0  0  0  0  0  0  0  0  0  0\\n   19.9436   -4.8268    2.2379 C   0  0  0  0  0  0  0  0  0  0  0  0\\n   20.7100   -5.9543    2.3754 C   0  0  0  0  0  0  0  0  0  0  0  0\\n   20.8290   -0.4770   -1.1012 C   0  0  0  0  0  0  0  0  0  0  0  0\\n   21.5244   -6.3745    1.3859 C   0  0  0  0  0  0  0  0  0  0  0  0\\n   21.6167   -5.6873    0.2430 C   0  0  0  0  0  0  0  0  0  0  0  0\\n   20.8844   -4.5073    0.0921 C   0  0  0  0  0  0  0  0  0  0  0  0\\n   18.8196   -0.7548   -0.3594 C   0  0  0  0  0  0  0  0  0  0  0  0\\n   17.5305   -0.6864   -0.0297 N   0  0  0  0  0  0  0  0  0  0  0  0\\n   19.5602    0.1199   -1.0933 N   0  0  0  0  0  0  0  0  0  0  0  0\\n   19.1306   -2.9921    0.7359 C   0  0  0  0  0  0  0  0  0  0  0  0\\n   17.0343   -1.7476    0.6872 C   0  0  0  0  0  0  0  0  0  0  0  0\\n   20.9513   -1.6905   -0.4304 N   0  0  0  0  0  0  0  0  0  0  0  0\\n   19.6762   -1.8856    0.0323 N   0  0  0  0  0  0  0  0  0  0  0  0\\n   17.7991   -2.8602    1.0648 C   0  0  0  0  0  0  0  0  0  0  0  0\\n  1  2  2  0\\n  1  7  1  0\\n  1 11  1  0\\n  2  3  1  0\\n  3  5  2  0\\n  4 10  1  0\\n  4 13  2  0\\n  5  6  1  0\\n  6  7  2  0\\n  8  9  1  0\\n  8 10  2  0\\n  8 14  1  0\\n  9 12  2  0\\n 11 14  1  0\\n 11 15  2  0\\n 12 15  1  0\\n 13 14  1  0\\nM  END\\n\",\"sdf\");\n\tviewer_16316137257950027.addModel(\"BRD4, Ligand 2\\n     RDKit          3D\\n\\n 15 17  0  0  0  0  0  0  0  0999 V2000\\n    8.5378    0.2392   17.6951 C   0  0  0  0  0  0  0  0  0  0  0  0\\n    8.7674    1.5882   17.6950 C   0  0  0  0  0  0  0  0  0  0  0  0\\n    8.6497    2.3081   18.8549 C   0  0  0  0  0  0  0  0  0  0  0  0\\n    9.6026   -3.8743   17.1310 C   0  0  0  0  0  0  0  0  0  0  0  0\\n    8.2522    1.7263   20.0049 C   0  0  0  0  0  0  0  0  0  0  0  0\\n    7.9759    0.4191   20.0458 C   0  0  0  0  0  0  0  0  0  0  0  0\\n    8.1334   -0.3508   18.8908 C   0  0  0  0  0  0  0  0  0  0  0  0\\n    8.7975   -2.8210   15.4259 C   0  0  0  0  0  0  0  0  0  0  0  0\\n    8.3274   -2.4151   14.2471 N   0  0  0  0  0  0  0  0  0  0  0  0\\n    9.2378   -4.0564   15.7894 N   0  0  0  0  0  0  0  0  0  0  0  0\\n    8.4056   -0.5924   16.5131 C   0  0  0  0  0  0  0  0  0  0  0  0\\n    7.9081   -1.1088   14.1825 C   0  0  0  0  0  0  0  0  0  0  0  0\\n    9.4119   -2.6017   17.6617 N   0  0  0  0  0  0  0  0  0  0  0  0\\n    8.8857   -1.9268   16.5914 N   0  0  0  0  0  0  0  0  0  0  0  0\\n    7.9468   -0.2222   15.2677 C   0  0  0  0  0  0  0  0  0  0  0  0\\n  1  2  2  0\\n  1  7  1  0\\n  1 11  1  0\\n  2  3  1  0\\n  3  5  2  0\\n  4 10  1  0\\n  4 13  2  0\\n  5  6  1  0\\n  6  7  2  0\\n  8  9  1  0\\n  8 10  2  0\\n  8 14  1  0\\n  9 12  2  0\\n 11 14  1  0\\n 11 15  2  0\\n 12 15  1  0\\n 13 14  1  0\\nM  END\\n\",\"sdf\");\n\tviewer_16316137257950027.addModel(\"BRD4, Ligand 2\\n     RDKit          3D\\n\\n 17 19  0  0  0  0  0  0  0  0999 V2000\\n    8.5427    0.2362   17.7219 C   0  0  0  0  0  0  0  0  0  0  0  0\\n    8.7591    1.5874   17.7168 C   0  0  0  0  0  0  0  0  0  0  0  0\\n    8.6392    2.3096   18.8750 C   0  0  0  0  0  0  0  0  0  0  0  0\\n    9.6452   -3.8684   17.1657 C   0  0  0  0  0  0  0  0  0  0  0  0\\n    8.2522    1.7276   20.0284 C   0  0  0  0  0  0  0  0  0  0  0  0\\n    7.9888    0.4178   20.0743 C   0  0  0  0  0  0  0  0  0  0  0  0\\n    8.1490   -0.3540   18.9210 C   0  0  0  0  0  0  0  0  0  0  0  0\\n    8.8229   -2.8281   15.4608 C   0  0  0  0  0  0  0  0  0  0  0  0\\n    8.3439   -2.4305   14.2828 N   0  0  0  0  0  0  0  0  0  0  0  0\\n    9.2766   -4.0581   15.8262 N   0  0  0  0  0  0  0  0  0  0  0  0\\n    8.4137   -0.6002   16.5429 C   0  0  0  0  0  0  0  0  0  0  0  0\\n   10.1973   -4.9449   17.8777 N   0  0  0  0  0  0  0  0  0  0  0  0\\n    7.9116   -1.1286   14.2160 C   0  0  0  0  0  0  0  0  0  0  0  0\\n    7.3182   -0.5715   12.9086 C   0  0  0  0  0  0  0  0  0  0  0  0\\n    9.4443   -2.5961   17.6934 N   0  0  0  0  0  0  0  0  0  0  0  0\\n    8.9071   -1.9296   16.6233 N   0  0  0  0  0  0  0  0  0  0  0  0\\n    7.9462   -0.2383   15.2983 C   0  0  0  0  0  0  0  0  0  0  0  0\\n  1  2  2  0\\n  1  7  1  0\\n  1 11  1  0\\n  2  3  1  0\\n  3  5  2  0\\n  4 10  1  0\\n  4 12  1  0\\n  4 15  2  0\\n  5  6  1  0\\n  6  7  2  0\\n  8  9  1  0\\n  8 10  2  0\\n  8 16  1  0\\n  9 13  2  0\\n 11 16  1  0\\n 11 17  2  0\\n 13 14  1  0\\n 13 17  1  0\\n 15 16  1  0\\nM  END\\n\",\"sdf\");\n\tviewer_16316137257950027.setStyle({\"model\": 0},{\"stick\": {\"colorscheme\": \"lightgreyCarbon\"}});\n\tviewer_16316137257950027.setStyle({\"model\": 1},{\"stick\": {\"colorscheme\": \"redCarbon\"}});\n\tviewer_16316137257950027.setStyle({\"model\": 2},{\"stick\": {\"colorscheme\": \"greyCarbon\"}});\n\tviewer_16316137257950027.zoomTo();\nviewer_16316137257950027.render();\n});\n</script>",
      "text/html": [
       "<div id=\"3dmolviewer_16316137257950027\"  style=\"position: relative; width: 640px; height: 480px\">\n",
       "        <p id=\"3dmolwarning_16316137257950027\" style=\"background-color:#ffcccc;color:black\">You appear to be running in JupyterLab (or JavaScript failed to load for some other reason).  You need to install the 3dmol extension: <br>\n",
       "        <tt>jupyter labextension install jupyterlab_3dmol</tt></p>\n",
       "        </div>\n",
       "<script>\n",
       "\n",
       "var loadScriptAsync = function(uri){\n",
       "  return new Promise((resolve, reject) => {\n",
       "    var tag = document.createElement('script');\n",
       "    tag.src = uri;\n",
       "    tag.async = true;\n",
       "    tag.onload = () => {\n",
       "      resolve();\n",
       "    };\n",
       "  var firstScriptTag = document.getElementsByTagName('script')[0];\n",
       "  firstScriptTag.parentNode.insertBefore(tag, firstScriptTag);\n",
       "});\n",
       "};\n",
       "\n",
       "if(typeof $3Dmolpromise === 'undefined') {\n",
       "$3Dmolpromise = null;\n",
       "  $3Dmolpromise = loadScriptAsync('https://3dmol.org/build/3Dmol.js');\n",
       "}\n",
       "\n",
       "var viewer_16316137257950027 = null;\n",
       "var warn = document.getElementById(\"3dmolwarning_16316137257950027\");\n",
       "if(warn) {\n",
       "    warn.parentNode.removeChild(warn);\n",
       "}\n",
       "$3Dmolpromise.then(function() {\n",
       "viewer_16316137257950027 = $3Dmol.createViewer($(\"#3dmolviewer_16316137257950027\"),{backgroundColor:\"white\"});\n",
       "viewer_16316137257950027.zoomTo();\n",
       "\tviewer_16316137257950027.addModel(\"BRD4, Ligand 2\\n     RDKit          3D\\n\\n 15 17  0  0  0  0  0  0  0  0999 V2000\\n   20.0352   -4.0655    1.1045 C   0  0  0  0  0  0  0  0  0  0  0  0\\n   19.9436   -4.8268    2.2379 C   0  0  0  0  0  0  0  0  0  0  0  0\\n   20.7100   -5.9543    2.3754 C   0  0  0  0  0  0  0  0  0  0  0  0\\n   20.8290   -0.4770   -1.1012 C   0  0  0  0  0  0  0  0  0  0  0  0\\n   21.5244   -6.3745    1.3859 C   0  0  0  0  0  0  0  0  0  0  0  0\\n   21.6167   -5.6873    0.2430 C   0  0  0  0  0  0  0  0  0  0  0  0\\n   20.8844   -4.5073    0.0921 C   0  0  0  0  0  0  0  0  0  0  0  0\\n   18.8196   -0.7548   -0.3594 C   0  0  0  0  0  0  0  0  0  0  0  0\\n   17.5305   -0.6864   -0.0297 N   0  0  0  0  0  0  0  0  0  0  0  0\\n   19.5602    0.1199   -1.0933 N   0  0  0  0  0  0  0  0  0  0  0  0\\n   19.1306   -2.9921    0.7359 C   0  0  0  0  0  0  0  0  0  0  0  0\\n   17.0343   -1.7476    0.6872 C   0  0  0  0  0  0  0  0  0  0  0  0\\n   20.9513   -1.6905   -0.4304 N   0  0  0  0  0  0  0  0  0  0  0  0\\n   19.6762   -1.8856    0.0323 N   0  0  0  0  0  0  0  0  0  0  0  0\\n   17.7991   -2.8602    1.0648 C   0  0  0  0  0  0  0  0  0  0  0  0\\n  1  2  2  0\\n  1  7  1  0\\n  1 11  1  0\\n  2  3  1  0\\n  3  5  2  0\\n  4 10  1  0\\n  4 13  2  0\\n  5  6  1  0\\n  6  7  2  0\\n  8  9  1  0\\n  8 10  2  0\\n  8 14  1  0\\n  9 12  2  0\\n 11 14  1  0\\n 11 15  2  0\\n 12 15  1  0\\n 13 14  1  0\\nM  END\\n\",\"sdf\");\n",
       "\tviewer_16316137257950027.addModel(\"BRD4, Ligand 2\\n     RDKit          3D\\n\\n 15 17  0  0  0  0  0  0  0  0999 V2000\\n    8.5378    0.2392   17.6951 C   0  0  0  0  0  0  0  0  0  0  0  0\\n    8.7674    1.5882   17.6950 C   0  0  0  0  0  0  0  0  0  0  0  0\\n    8.6497    2.3081   18.8549 C   0  0  0  0  0  0  0  0  0  0  0  0\\n    9.6026   -3.8743   17.1310 C   0  0  0  0  0  0  0  0  0  0  0  0\\n    8.2522    1.7263   20.0049 C   0  0  0  0  0  0  0  0  0  0  0  0\\n    7.9759    0.4191   20.0458 C   0  0  0  0  0  0  0  0  0  0  0  0\\n    8.1334   -0.3508   18.8908 C   0  0  0  0  0  0  0  0  0  0  0  0\\n    8.7975   -2.8210   15.4259 C   0  0  0  0  0  0  0  0  0  0  0  0\\n    8.3274   -2.4151   14.2471 N   0  0  0  0  0  0  0  0  0  0  0  0\\n    9.2378   -4.0564   15.7894 N   0  0  0  0  0  0  0  0  0  0  0  0\\n    8.4056   -0.5924   16.5131 C   0  0  0  0  0  0  0  0  0  0  0  0\\n    7.9081   -1.1088   14.1825 C   0  0  0  0  0  0  0  0  0  0  0  0\\n    9.4119   -2.6017   17.6617 N   0  0  0  0  0  0  0  0  0  0  0  0\\n    8.8857   -1.9268   16.5914 N   0  0  0  0  0  0  0  0  0  0  0  0\\n    7.9468   -0.2222   15.2677 C   0  0  0  0  0  0  0  0  0  0  0  0\\n  1  2  2  0\\n  1  7  1  0\\n  1 11  1  0\\n  2  3  1  0\\n  3  5  2  0\\n  4 10  1  0\\n  4 13  2  0\\n  5  6  1  0\\n  6  7  2  0\\n  8  9  1  0\\n  8 10  2  0\\n  8 14  1  0\\n  9 12  2  0\\n 11 14  1  0\\n 11 15  2  0\\n 12 15  1  0\\n 13 14  1  0\\nM  END\\n\",\"sdf\");\n",
       "\tviewer_16316137257950027.addModel(\"BRD4, Ligand 2\\n     RDKit          3D\\n\\n 17 19  0  0  0  0  0  0  0  0999 V2000\\n    8.5427    0.2362   17.7219 C   0  0  0  0  0  0  0  0  0  0  0  0\\n    8.7591    1.5874   17.7168 C   0  0  0  0  0  0  0  0  0  0  0  0\\n    8.6392    2.3096   18.8750 C   0  0  0  0  0  0  0  0  0  0  0  0\\n    9.6452   -3.8684   17.1657 C   0  0  0  0  0  0  0  0  0  0  0  0\\n    8.2522    1.7276   20.0284 C   0  0  0  0  0  0  0  0  0  0  0  0\\n    7.9888    0.4178   20.0743 C   0  0  0  0  0  0  0  0  0  0  0  0\\n    8.1490   -0.3540   18.9210 C   0  0  0  0  0  0  0  0  0  0  0  0\\n    8.8229   -2.8281   15.4608 C   0  0  0  0  0  0  0  0  0  0  0  0\\n    8.3439   -2.4305   14.2828 N   0  0  0  0  0  0  0  0  0  0  0  0\\n    9.2766   -4.0581   15.8262 N   0  0  0  0  0  0  0  0  0  0  0  0\\n    8.4137   -0.6002   16.5429 C   0  0  0  0  0  0  0  0  0  0  0  0\\n   10.1973   -4.9449   17.8777 N   0  0  0  0  0  0  0  0  0  0  0  0\\n    7.9116   -1.1286   14.2160 C   0  0  0  0  0  0  0  0  0  0  0  0\\n    7.3182   -0.5715   12.9086 C   0  0  0  0  0  0  0  0  0  0  0  0\\n    9.4443   -2.5961   17.6934 N   0  0  0  0  0  0  0  0  0  0  0  0\\n    8.9071   -1.9296   16.6233 N   0  0  0  0  0  0  0  0  0  0  0  0\\n    7.9462   -0.2383   15.2983 C   0  0  0  0  0  0  0  0  0  0  0  0\\n  1  2  2  0\\n  1  7  1  0\\n  1 11  1  0\\n  2  3  1  0\\n  3  5  2  0\\n  4 10  1  0\\n  4 12  1  0\\n  4 15  2  0\\n  5  6  1  0\\n  6  7  2  0\\n  8  9  1  0\\n  8 10  2  0\\n  8 16  1  0\\n  9 13  2  0\\n 11 16  1  0\\n 11 17  2  0\\n 13 14  1  0\\n 13 17  1  0\\n 15 16  1  0\\nM  END\\n\",\"sdf\");\n",
       "\tviewer_16316137257950027.setStyle({\"model\": 0},{\"stick\": {\"colorscheme\": \"lightgreyCarbon\"}});\n",
       "\tviewer_16316137257950027.setStyle({\"model\": 1},{\"stick\": {\"colorscheme\": \"redCarbon\"}});\n",
       "\tviewer_16316137257950027.setStyle({\"model\": 2},{\"stick\": {\"colorscheme\": \"greyCarbon\"}});\n",
       "\tviewer_16316137257950027.zoomTo();\n",
       "viewer_16316137257950027.render();\n",
       "});\n",
       "</script>"
      ]
     },
     "metadata": {},
     "output_type": "display_data"
    },
    {
     "data": {
      "text/plain": [
       "<py3Dmol.view at 0x7f1db0da2668>"
      ]
     },
     "execution_count": 13,
     "metadata": {},
     "output_type": "execute_result"
    }
   ],
   "source": [
    "molid = 1\n",
    "als = AlignShow([mols[molid], mkmols[molid]], [pcds[molid], mkpcds[molid]])\n",
    "s = als.align(1, 0)\n",
    "print(\"Score:\", s)\n",
    "als.save(1, 0, f\"murcko_self_{molid}.sdf\")\n",
    "als.show(1, 0)"
   ]
  },
  {
   "cell_type": "code",
   "execution_count": 14,
   "metadata": {},
   "outputs": [
    {
     "data": {
      "application/3dmoljs_load.v0": "<div id=\"3dmolviewer_16316137259599416\"  style=\"position: relative; width: 640px; height: 480px\">\n        <p id=\"3dmolwarning_16316137259599416\" style=\"background-color:#ffcccc;color:black\">You appear to be running in JupyterLab (or JavaScript failed to load for some other reason).  You need to install the 3dmol extension: <br>\n        <tt>jupyter labextension install jupyterlab_3dmol</tt></p>\n        </div>\n<script>\n\nvar loadScriptAsync = function(uri){\n  return new Promise((resolve, reject) => {\n    var tag = document.createElement('script');\n    tag.src = uri;\n    tag.async = true;\n    tag.onload = () => {\n      resolve();\n    };\n  var firstScriptTag = document.getElementsByTagName('script')[0];\n  firstScriptTag.parentNode.insertBefore(tag, firstScriptTag);\n});\n};\n\nif(typeof $3Dmolpromise === 'undefined') {\n$3Dmolpromise = null;\n  $3Dmolpromise = loadScriptAsync('https://3dmol.org/build/3Dmol.js');\n}\n\nvar viewer_16316137259599416 = null;\nvar warn = document.getElementById(\"3dmolwarning_16316137259599416\");\nif(warn) {\n    warn.parentNode.removeChild(warn);\n}\n$3Dmolpromise.then(function() {\nviewer_16316137259599416 = $3Dmol.createViewer($(\"#3dmolviewer_16316137259599416\"),{backgroundColor:\"white\"});\nviewer_16316137259599416.zoomTo();\n\tviewer_16316137259599416.addModel(\"\\n     RDKit          3D\\n\\n 17 19  0  0  0  0  0  0  0  0999 V2000\\n   10.1973   -4.9449   17.8777 N   0  0  0  0  0  4  0  0  0  0  0  0\\n    7.3182   -0.5715   12.9086 C   0  0  0  0  0  5  0  0  0  0  0  0\\n    8.5378    0.2392   17.6951 C   0  0  0  0  0  0  0  0  0  0  0  0\\n    8.7674    1.5882   17.6950 C   0  0  0  0  0  0  0  0  0  0  0  0\\n    8.6497    2.3081   18.8549 C   0  0  0  0  0  0  0  0  0  0  0  0\\n    9.6026   -3.8743   17.1310 C   0  0  0  0  0  0  0  0  0  0  0  0\\n    8.2522    1.7263   20.0049 C   0  0  0  0  0  0  0  0  0  0  0  0\\n    7.9759    0.4191   20.0458 C   0  0  0  0  0  0  0  0  0  0  0  0\\n    8.1334   -0.3508   18.8908 C   0  0  0  0  0  0  0  0  0  0  0  0\\n    8.7975   -2.8210   15.4259 C   0  0  0  0  0  0  0  0  0  0  0  0\\n    8.3274   -2.4151   14.2471 N   0  0  0  0  0  0  0  0  0  0  0  0\\n    9.2378   -4.0564   15.7894 N   0  0  0  0  0  0  0  0  0  0  0  0\\n    8.4056   -0.5924   16.5131 C   0  0  0  0  0  0  0  0  0  0  0  0\\n    7.9081   -1.1088   14.1825 C   0  0  0  0  0  0  0  0  0  0  0  0\\n    9.4119   -2.6017   17.6617 N   0  0  0  0  0  0  0  0  0  0  0  0\\n    8.8857   -1.9268   16.5914 N   0  0  0  0  0  0  0  0  0  0  0  0\\n    7.9468   -0.2222   15.2677 C   0  0  0  0  0  0  0  0  0  0  0  0\\n  3  4  2  0\\n  3  9  1  0\\n  3 13  1  0\\n  4  5  1  0\\n  5  7  2  0\\n  6 12  1  0\\n  6 15  2  0\\n  7  8  1  0\\n  8  9  2  0\\n 10 11  1  0\\n 10 12  2  0\\n 10 16  1  0\\n 11 14  2  0\\n 13 16  1  0\\n 13 17  2  0\\n 14 17  1  0\\n 15 16  1  0\\n  2 14  1  0\\n  1  6  1  0\\nM  END\\n\",\"sdf\");\n\tviewer_16316137259599416.setStyle({\"model\": 0},{\"stick\": {\"colorscheme\": \"lightgreyCarbon\"}});\n\tviewer_16316137259599416.zoomTo();\nviewer_16316137259599416.render();\n});\n</script>",
      "text/html": [
       "<div id=\"3dmolviewer_16316137259599416\"  style=\"position: relative; width: 640px; height: 480px\">\n",
       "        <p id=\"3dmolwarning_16316137259599416\" style=\"background-color:#ffcccc;color:black\">You appear to be running in JupyterLab (or JavaScript failed to load for some other reason).  You need to install the 3dmol extension: <br>\n",
       "        <tt>jupyter labextension install jupyterlab_3dmol</tt></p>\n",
       "        </div>\n",
       "<script>\n",
       "\n",
       "var loadScriptAsync = function(uri){\n",
       "  return new Promise((resolve, reject) => {\n",
       "    var tag = document.createElement('script');\n",
       "    tag.src = uri;\n",
       "    tag.async = true;\n",
       "    tag.onload = () => {\n",
       "      resolve();\n",
       "    };\n",
       "  var firstScriptTag = document.getElementsByTagName('script')[0];\n",
       "  firstScriptTag.parentNode.insertBefore(tag, firstScriptTag);\n",
       "});\n",
       "};\n",
       "\n",
       "if(typeof $3Dmolpromise === 'undefined') {\n",
       "$3Dmolpromise = null;\n",
       "  $3Dmolpromise = loadScriptAsync('https://3dmol.org/build/3Dmol.js');\n",
       "}\n",
       "\n",
       "var viewer_16316137259599416 = null;\n",
       "var warn = document.getElementById(\"3dmolwarning_16316137259599416\");\n",
       "if(warn) {\n",
       "    warn.parentNode.removeChild(warn);\n",
       "}\n",
       "$3Dmolpromise.then(function() {\n",
       "viewer_16316137259599416 = $3Dmol.createViewer($(\"#3dmolviewer_16316137259599416\"),{backgroundColor:\"white\"});\n",
       "viewer_16316137259599416.zoomTo();\n",
       "\tviewer_16316137259599416.addModel(\"\\n     RDKit          3D\\n\\n 17 19  0  0  0  0  0  0  0  0999 V2000\\n   10.1973   -4.9449   17.8777 N   0  0  0  0  0  4  0  0  0  0  0  0\\n    7.3182   -0.5715   12.9086 C   0  0  0  0  0  5  0  0  0  0  0  0\\n    8.5378    0.2392   17.6951 C   0  0  0  0  0  0  0  0  0  0  0  0\\n    8.7674    1.5882   17.6950 C   0  0  0  0  0  0  0  0  0  0  0  0\\n    8.6497    2.3081   18.8549 C   0  0  0  0  0  0  0  0  0  0  0  0\\n    9.6026   -3.8743   17.1310 C   0  0  0  0  0  0  0  0  0  0  0  0\\n    8.2522    1.7263   20.0049 C   0  0  0  0  0  0  0  0  0  0  0  0\\n    7.9759    0.4191   20.0458 C   0  0  0  0  0  0  0  0  0  0  0  0\\n    8.1334   -0.3508   18.8908 C   0  0  0  0  0  0  0  0  0  0  0  0\\n    8.7975   -2.8210   15.4259 C   0  0  0  0  0  0  0  0  0  0  0  0\\n    8.3274   -2.4151   14.2471 N   0  0  0  0  0  0  0  0  0  0  0  0\\n    9.2378   -4.0564   15.7894 N   0  0  0  0  0  0  0  0  0  0  0  0\\n    8.4056   -0.5924   16.5131 C   0  0  0  0  0  0  0  0  0  0  0  0\\n    7.9081   -1.1088   14.1825 C   0  0  0  0  0  0  0  0  0  0  0  0\\n    9.4119   -2.6017   17.6617 N   0  0  0  0  0  0  0  0  0  0  0  0\\n    8.8857   -1.9268   16.5914 N   0  0  0  0  0  0  0  0  0  0  0  0\\n    7.9468   -0.2222   15.2677 C   0  0  0  0  0  0  0  0  0  0  0  0\\n  3  4  2  0\\n  3  9  1  0\\n  3 13  1  0\\n  4  5  1  0\\n  5  7  2  0\\n  6 12  1  0\\n  6 15  2  0\\n  7  8  1  0\\n  8  9  2  0\\n 10 11  1  0\\n 10 12  2  0\\n 10 16  1  0\\n 11 14  2  0\\n 13 16  1  0\\n 13 17  2  0\\n 14 17  1  0\\n 15 16  1  0\\n  2 14  1  0\\n  1  6  1  0\\nM  END\\n\",\"sdf\");\n",
       "\tviewer_16316137259599416.setStyle({\"model\": 0},{\"stick\": {\"colorscheme\": \"lightgreyCarbon\"}});\n",
       "\tviewer_16316137259599416.zoomTo();\n",
       "viewer_16316137259599416.render();\n",
       "});\n",
       "</script>"
      ]
     },
     "metadata": {},
     "output_type": "display_data"
    }
   ],
   "source": [
    "rdmol1 = reconstruction(\"murcko_self_1.sdf\")\n",
    "show_all_conformers(rdmol1)"
   ]
  },
  {
   "cell_type": "code",
   "execution_count": 15,
   "metadata": {},
   "outputs": [
    {
     "name": "stdout",
     "output_type": "stream",
     "text": [
      "Score: 0.8900523560209425\n"
     ]
    },
    {
     "data": {
      "application/3dmoljs_load.v0": "<div id=\"3dmolviewer_16316137263524036\"  style=\"position: relative; width: 640px; height: 480px\">\n        <p id=\"3dmolwarning_16316137263524036\" style=\"background-color:#ffcccc;color:black\">You appear to be running in JupyterLab (or JavaScript failed to load for some other reason).  You need to install the 3dmol extension: <br>\n        <tt>jupyter labextension install jupyterlab_3dmol</tt></p>\n        </div>\n<script>\n\nvar loadScriptAsync = function(uri){\n  return new Promise((resolve, reject) => {\n    var tag = document.createElement('script');\n    tag.src = uri;\n    tag.async = true;\n    tag.onload = () => {\n      resolve();\n    };\n  var firstScriptTag = document.getElementsByTagName('script')[0];\n  firstScriptTag.parentNode.insertBefore(tag, firstScriptTag);\n});\n};\n\nif(typeof $3Dmolpromise === 'undefined') {\n$3Dmolpromise = null;\n  $3Dmolpromise = loadScriptAsync('https://3dmol.org/build/3Dmol.js');\n}\n\nvar viewer_16316137263524036 = null;\nvar warn = document.getElementById(\"3dmolwarning_16316137263524036\");\nif(warn) {\n    warn.parentNode.removeChild(warn);\n}\n$3Dmolpromise.then(function() {\nviewer_16316137263524036 = $3Dmol.createViewer($(\"#3dmolviewer_16316137263524036\"),{backgroundColor:\"white\"});\nviewer_16316137263524036.zoomTo();\n\tviewer_16316137263524036.addModel(\"BRD4, Ligand 3\\n     RDKit          3D\\n\\n 17 19  0  0  1  0  0  0  0  0999 V2000\\n   17.9811    6.5283   12.9478 C   0  0  0  0  0  0  0  0  0  0  0  0\\n   18.9631    6.7665   11.8287 C   0  0  0  0  0  0  0  0  0  0  0  0\\n   20.2623    6.8001   12.1696 C   0  0  0  0  0  0  0  0  0  0  0  0\\n   17.3238    7.8528   13.3422 C   0  0  0  0  0  0  0  0  0  0  0  0\\n   16.6293    8.5690   12.1810 C   0  0  0  0  0  0  0  0  0  0  0  0\\n   16.0638    7.6308   11.1290 C   0  0  0  0  0  0  0  0  0  0  0  0\\n   14.6886    7.5433   10.9399 C   0  0  0  0  0  0  0  0  0  0  0  0\\n   14.1511    6.6957    9.9800 C   0  0  0  0  0  0  0  0  0  0  0  0\\n   14.9820    5.9241    9.2089 C   0  0  0  0  0  0  0  0  0  0  0  0\\n   16.3446    6.0181    9.3727 C   0  0  0  0  0  0  0  0  0  0  0  0\\n   16.8964    6.8648   10.3380 C   0  0  0  0  0  0  0  0  0  0  0  0\\n   18.3924    6.9299   10.4926 C   0  0  0  0  0  0  0  0  0  0  0  0\\n   19.0396    7.1587    9.3260 C   0  0  0  0  0  0  0  0  0  0  0  0\\n   20.4473    7.2679    9.0288 C   0  0  0  0  0  0  0  0  0  0  0  0\\n   21.4700    7.1877    9.8798 C   0  0  0  0  0  0  0  0  0  0  0  0\\n   21.4346    6.9839   11.3192 C   0  0  0  0  0  0  0  0  0  0  0  0\\n   22.5185    6.9355   11.8942 O   0  0  0  0  0  0  0  0  0  0  0  0\\n  1  2  1  0\\n  1  4  1  0\\n  2  3  2  0\\n  2 12  1  0\\n  3 16  1  0\\n  4  5  1  0\\n  5  6  1  0\\n  6  7  1  0\\n  6 11  2  0\\n  7  8  2  0\\n  8  9  1  0\\n  9 10  2  0\\n 10 11  1  0\\n 11 12  1  0\\n 12 13  2  0\\n 13 14  1  0\\n 14 15  2  0\\n 15 16  1  0\\n 16 17  2  0\\nM  END\\n\",\"sdf\");\n\tviewer_16316137263524036.addModel(\"BRD4, Ligand 3\\n     RDKit          3D\\n\\n 17 19  0  0  1  0  0  0  0  0999 V2000\\n   17.3059    4.1706   13.3223 C   0  0  0  0  0  0  0  0  0  0  0  0\\n   18.4158    3.8225   12.3629 C   0  0  0  0  0  0  0  0  0  0  0  0\\n   19.6232    3.5889   12.9040 C   0  0  0  0  0  0  0  0  0  0  0  0\\n   17.0543    5.6797   13.2878 C   0  0  0  0  0  0  0  0  0  0  0  0\\n   16.7288    6.2211   11.8934 C   0  0  0  0  0  0  0  0  0  0  0  0\\n   16.0049    5.2280   11.0009 C   0  0  0  0  0  0  0  0  0  0  0  0\\n   14.6944    5.4733   10.6046 C   0  0  0  0  0  0  0  0  0  0  0  0\\n   14.0162    4.5808    9.7847 C   0  0  0  0  0  0  0  0  0  0  0  0\\n   14.6386    3.4343    9.3622 C   0  0  0  0  0  0  0  0  0  0  0  0\\n   15.9416    3.1917    9.7306 C   0  0  0  0  0  0  0  0  0  0  0  0\\n   16.6325    4.0809   10.5584 C   0  0  0  0  0  0  0  0  0  0  0  0\\n   18.0538    3.7726   10.9473 C   0  0  0  0  0  0  0  0  0  0  0  0\\n   18.8484    3.4949    9.8873 C   0  0  0  0  0  0  0  0  0  0  0  0\\n   20.2429    3.1309    9.8179 C   0  0  0  0  0  0  0  0  0  0  0  0\\n   21.1047    3.0042   10.8267 C   0  0  0  0  0  0  0  0  0  0  0  0\\n   20.8708    3.2103   12.2470 C   0  0  0  0  0  0  0  0  0  0  0  0\\n   21.8268    3.0225   12.9944 O   0  0  0  0  0  0  0  0  0  0  0  0\\n  1  2  1  0\\n  1  4  1  0\\n  2  3  2  0\\n  2 12  1  0\\n  3 16  1  0\\n  4  5  1  0\\n  5  6  1  0\\n  6  7  1  0\\n  6 11  2  0\\n  7  8  2  0\\n  8  9  1  0\\n  9 10  2  0\\n 10 11  1  0\\n 11 12  1  0\\n 12 13  2  0\\n 13 14  1  0\\n 14 15  2  0\\n 15 16  1  0\\n 16 17  2  0\\nM  END\\n\",\"sdf\");\n\tviewer_16316137263524036.addModel(\"BRD4, Ligand 3\\n     RDKit          3D\\n\\n 28 30  0  0  1  0  0  0  0  0999 V2000\\n   17.7292    2.0020   16.1664 O   0  0  0  0  0  0  0  0  0  0  0  0\\n   17.5719    2.3700   15.0046 C   0  0  0  0  0  0  0  0  0  0  0  0\\n   17.4155    1.3454   13.9485 C   0  0  0  0  0  0  0  0  0  0  0  0\\n   17.5633    3.6662   14.6652 N   0  0  0  0  0  0  0  0  0  0  0  0\\n   17.3041    4.1423   13.3188 C   0  0  0  0  0  0  0  0  0  0  0  0\\n   18.4022    3.8125   12.3396 C   0  0  0  0  0  0  0  0  0  0  0  0\\n   19.6165    3.5704   12.8614 C   0  0  0  0  0  0  0  0  0  0  0  0\\n   17.0510    5.6516   13.3142 C   0  0  0  0  0  0  0  0  0  0  0  0\\n   16.7078    6.2175   11.9338 C   0  0  0  0  0  0  0  0  0  0  0  0\\n   15.9736    5.2397   11.0329 C   0  0  0  0  0  0  0  0  0  0  0  0\\n   14.6581    5.4907   10.6574 C   0  0  0  0  0  0  0  0  0  0  0  0\\n   13.9704    4.6123    9.8302 C   0  0  0  0  0  0  0  0  0  0  0  0\\n   14.5882    3.4741    9.3796 C   0  0  0  0  0  0  0  0  0  0  0  0\\n   15.8959    3.2262    9.7275 C   0  0  0  0  0  0  0  0  0  0  0  0\\n   16.4839    2.0823    9.2669 O   0  0  0  0  0  0  0  0  0  0  0  0\\n   16.7473    1.0353   10.2016 C   0  0  0  0  0  0  0  0  0  0  0  0\\n   13.9386    2.6390    8.5169 O   0  0  0  0  0  0  0  0  0  0  0  0\\n   13.3082    1.4929    8.9833 C   0  0  0  0  0  0  0  0  0  0  0  0\\n   12.6779    4.8161    9.4272 O   0  0  0  0  0  0  0  0  0  0  0  0\\n   11.9266    5.9429    9.8493 C   0  0  0  0  0  0  0  0  0  0  0  0\\n   16.5964    4.1012   10.5622 C   0  0  0  0  0  0  0  0  0  0  0  0\\n   18.0226    3.7874   10.9279 C   0  0  0  0  0  0  0  0  0  0  0  0\\n   18.8042    3.5294    9.8533 C   0  0  0  0  0  0  0  0  0  0  0  0\\n   20.1980    3.1679    9.7601 C   0  0  0  0  0  0  0  0  0  0  0  0\\n   21.0724    3.0241   10.7557 C   0  0  0  0  0  0  0  0  0  0  0  0\\n   20.8560    3.2047   12.1823 C   0  0  0  0  0  0  0  0  0  0  0  0\\n   21.8214    3.0045   12.9143 O   0  0  0  0  0  0  0  0  0  0  0  0\\n   22.2927    2.6565   10.4191 O   0  0  0  0  0  0  0  0  0  0  0  0\\n  1  2  2  0\\n  2  3  1  0\\n  2  4  1  0\\n  4  5  1  0\\n  5  6  1  0\\n  5  8  1  0\\n  6  7  2  0\\n  6 22  1  0\\n  7 26  1  0\\n  8  9  1  0\\n  9 10  1  0\\n 10 11  1  0\\n 10 21  2  0\\n 11 12  2  0\\n 12 13  1  0\\n 12 19  1  0\\n 13 14  2  0\\n 13 17  1  0\\n 14 15  1  0\\n 14 21  1  0\\n 15 16  1  0\\n 17 18  1  0\\n 19 20  1  0\\n 21 22  1  0\\n 22 23  2  0\\n 23 24  1  0\\n 24 25  2  0\\n 25 26  1  0\\n 25 28  1  0\\n 26 27  2  0\\nM  END\\n\",\"sdf\");\n\tviewer_16316137263524036.setStyle({\"model\": 0},{\"stick\": {\"colorscheme\": \"lightgreyCarbon\"}});\n\tviewer_16316137263524036.setStyle({\"model\": 1},{\"stick\": {\"colorscheme\": \"redCarbon\"}});\n\tviewer_16316137263524036.setStyle({\"model\": 2},{\"stick\": {\"colorscheme\": \"greyCarbon\"}});\n\tviewer_16316137263524036.zoomTo();\nviewer_16316137263524036.render();\n});\n</script>",
      "text/html": [
       "<div id=\"3dmolviewer_16316137263524036\"  style=\"position: relative; width: 640px; height: 480px\">\n",
       "        <p id=\"3dmolwarning_16316137263524036\" style=\"background-color:#ffcccc;color:black\">You appear to be running in JupyterLab (or JavaScript failed to load for some other reason).  You need to install the 3dmol extension: <br>\n",
       "        <tt>jupyter labextension install jupyterlab_3dmol</tt></p>\n",
       "        </div>\n",
       "<script>\n",
       "\n",
       "var loadScriptAsync = function(uri){\n",
       "  return new Promise((resolve, reject) => {\n",
       "    var tag = document.createElement('script');\n",
       "    tag.src = uri;\n",
       "    tag.async = true;\n",
       "    tag.onload = () => {\n",
       "      resolve();\n",
       "    };\n",
       "  var firstScriptTag = document.getElementsByTagName('script')[0];\n",
       "  firstScriptTag.parentNode.insertBefore(tag, firstScriptTag);\n",
       "});\n",
       "};\n",
       "\n",
       "if(typeof $3Dmolpromise === 'undefined') {\n",
       "$3Dmolpromise = null;\n",
       "  $3Dmolpromise = loadScriptAsync('https://3dmol.org/build/3Dmol.js');\n",
       "}\n",
       "\n",
       "var viewer_16316137263524036 = null;\n",
       "var warn = document.getElementById(\"3dmolwarning_16316137263524036\");\n",
       "if(warn) {\n",
       "    warn.parentNode.removeChild(warn);\n",
       "}\n",
       "$3Dmolpromise.then(function() {\n",
       "viewer_16316137263524036 = $3Dmol.createViewer($(\"#3dmolviewer_16316137263524036\"),{backgroundColor:\"white\"});\n",
       "viewer_16316137263524036.zoomTo();\n",
       "\tviewer_16316137263524036.addModel(\"BRD4, Ligand 3\\n     RDKit          3D\\n\\n 17 19  0  0  1  0  0  0  0  0999 V2000\\n   17.9811    6.5283   12.9478 C   0  0  0  0  0  0  0  0  0  0  0  0\\n   18.9631    6.7665   11.8287 C   0  0  0  0  0  0  0  0  0  0  0  0\\n   20.2623    6.8001   12.1696 C   0  0  0  0  0  0  0  0  0  0  0  0\\n   17.3238    7.8528   13.3422 C   0  0  0  0  0  0  0  0  0  0  0  0\\n   16.6293    8.5690   12.1810 C   0  0  0  0  0  0  0  0  0  0  0  0\\n   16.0638    7.6308   11.1290 C   0  0  0  0  0  0  0  0  0  0  0  0\\n   14.6886    7.5433   10.9399 C   0  0  0  0  0  0  0  0  0  0  0  0\\n   14.1511    6.6957    9.9800 C   0  0  0  0  0  0  0  0  0  0  0  0\\n   14.9820    5.9241    9.2089 C   0  0  0  0  0  0  0  0  0  0  0  0\\n   16.3446    6.0181    9.3727 C   0  0  0  0  0  0  0  0  0  0  0  0\\n   16.8964    6.8648   10.3380 C   0  0  0  0  0  0  0  0  0  0  0  0\\n   18.3924    6.9299   10.4926 C   0  0  0  0  0  0  0  0  0  0  0  0\\n   19.0396    7.1587    9.3260 C   0  0  0  0  0  0  0  0  0  0  0  0\\n   20.4473    7.2679    9.0288 C   0  0  0  0  0  0  0  0  0  0  0  0\\n   21.4700    7.1877    9.8798 C   0  0  0  0  0  0  0  0  0  0  0  0\\n   21.4346    6.9839   11.3192 C   0  0  0  0  0  0  0  0  0  0  0  0\\n   22.5185    6.9355   11.8942 O   0  0  0  0  0  0  0  0  0  0  0  0\\n  1  2  1  0\\n  1  4  1  0\\n  2  3  2  0\\n  2 12  1  0\\n  3 16  1  0\\n  4  5  1  0\\n  5  6  1  0\\n  6  7  1  0\\n  6 11  2  0\\n  7  8  2  0\\n  8  9  1  0\\n  9 10  2  0\\n 10 11  1  0\\n 11 12  1  0\\n 12 13  2  0\\n 13 14  1  0\\n 14 15  2  0\\n 15 16  1  0\\n 16 17  2  0\\nM  END\\n\",\"sdf\");\n",
       "\tviewer_16316137263524036.addModel(\"BRD4, Ligand 3\\n     RDKit          3D\\n\\n 17 19  0  0  1  0  0  0  0  0999 V2000\\n   17.3059    4.1706   13.3223 C   0  0  0  0  0  0  0  0  0  0  0  0\\n   18.4158    3.8225   12.3629 C   0  0  0  0  0  0  0  0  0  0  0  0\\n   19.6232    3.5889   12.9040 C   0  0  0  0  0  0  0  0  0  0  0  0\\n   17.0543    5.6797   13.2878 C   0  0  0  0  0  0  0  0  0  0  0  0\\n   16.7288    6.2211   11.8934 C   0  0  0  0  0  0  0  0  0  0  0  0\\n   16.0049    5.2280   11.0009 C   0  0  0  0  0  0  0  0  0  0  0  0\\n   14.6944    5.4733   10.6046 C   0  0  0  0  0  0  0  0  0  0  0  0\\n   14.0162    4.5808    9.7847 C   0  0  0  0  0  0  0  0  0  0  0  0\\n   14.6386    3.4343    9.3622 C   0  0  0  0  0  0  0  0  0  0  0  0\\n   15.9416    3.1917    9.7306 C   0  0  0  0  0  0  0  0  0  0  0  0\\n   16.6325    4.0809   10.5584 C   0  0  0  0  0  0  0  0  0  0  0  0\\n   18.0538    3.7726   10.9473 C   0  0  0  0  0  0  0  0  0  0  0  0\\n   18.8484    3.4949    9.8873 C   0  0  0  0  0  0  0  0  0  0  0  0\\n   20.2429    3.1309    9.8179 C   0  0  0  0  0  0  0  0  0  0  0  0\\n   21.1047    3.0042   10.8267 C   0  0  0  0  0  0  0  0  0  0  0  0\\n   20.8708    3.2103   12.2470 C   0  0  0  0  0  0  0  0  0  0  0  0\\n   21.8268    3.0225   12.9944 O   0  0  0  0  0  0  0  0  0  0  0  0\\n  1  2  1  0\\n  1  4  1  0\\n  2  3  2  0\\n  2 12  1  0\\n  3 16  1  0\\n  4  5  1  0\\n  5  6  1  0\\n  6  7  1  0\\n  6 11  2  0\\n  7  8  2  0\\n  8  9  1  0\\n  9 10  2  0\\n 10 11  1  0\\n 11 12  1  0\\n 12 13  2  0\\n 13 14  1  0\\n 14 15  2  0\\n 15 16  1  0\\n 16 17  2  0\\nM  END\\n\",\"sdf\");\n",
       "\tviewer_16316137263524036.addModel(\"BRD4, Ligand 3\\n     RDKit          3D\\n\\n 28 30  0  0  1  0  0  0  0  0999 V2000\\n   17.7292    2.0020   16.1664 O   0  0  0  0  0  0  0  0  0  0  0  0\\n   17.5719    2.3700   15.0046 C   0  0  0  0  0  0  0  0  0  0  0  0\\n   17.4155    1.3454   13.9485 C   0  0  0  0  0  0  0  0  0  0  0  0\\n   17.5633    3.6662   14.6652 N   0  0  0  0  0  0  0  0  0  0  0  0\\n   17.3041    4.1423   13.3188 C   0  0  0  0  0  0  0  0  0  0  0  0\\n   18.4022    3.8125   12.3396 C   0  0  0  0  0  0  0  0  0  0  0  0\\n   19.6165    3.5704   12.8614 C   0  0  0  0  0  0  0  0  0  0  0  0\\n   17.0510    5.6516   13.3142 C   0  0  0  0  0  0  0  0  0  0  0  0\\n   16.7078    6.2175   11.9338 C   0  0  0  0  0  0  0  0  0  0  0  0\\n   15.9736    5.2397   11.0329 C   0  0  0  0  0  0  0  0  0  0  0  0\\n   14.6581    5.4907   10.6574 C   0  0  0  0  0  0  0  0  0  0  0  0\\n   13.9704    4.6123    9.8302 C   0  0  0  0  0  0  0  0  0  0  0  0\\n   14.5882    3.4741    9.3796 C   0  0  0  0  0  0  0  0  0  0  0  0\\n   15.8959    3.2262    9.7275 C   0  0  0  0  0  0  0  0  0  0  0  0\\n   16.4839    2.0823    9.2669 O   0  0  0  0  0  0  0  0  0  0  0  0\\n   16.7473    1.0353   10.2016 C   0  0  0  0  0  0  0  0  0  0  0  0\\n   13.9386    2.6390    8.5169 O   0  0  0  0  0  0  0  0  0  0  0  0\\n   13.3082    1.4929    8.9833 C   0  0  0  0  0  0  0  0  0  0  0  0\\n   12.6779    4.8161    9.4272 O   0  0  0  0  0  0  0  0  0  0  0  0\\n   11.9266    5.9429    9.8493 C   0  0  0  0  0  0  0  0  0  0  0  0\\n   16.5964    4.1012   10.5622 C   0  0  0  0  0  0  0  0  0  0  0  0\\n   18.0226    3.7874   10.9279 C   0  0  0  0  0  0  0  0  0  0  0  0\\n   18.8042    3.5294    9.8533 C   0  0  0  0  0  0  0  0  0  0  0  0\\n   20.1980    3.1679    9.7601 C   0  0  0  0  0  0  0  0  0  0  0  0\\n   21.0724    3.0241   10.7557 C   0  0  0  0  0  0  0  0  0  0  0  0\\n   20.8560    3.2047   12.1823 C   0  0  0  0  0  0  0  0  0  0  0  0\\n   21.8214    3.0045   12.9143 O   0  0  0  0  0  0  0  0  0  0  0  0\\n   22.2927    2.6565   10.4191 O   0  0  0  0  0  0  0  0  0  0  0  0\\n  1  2  2  0\\n  2  3  1  0\\n  2  4  1  0\\n  4  5  1  0\\n  5  6  1  0\\n  5  8  1  0\\n  6  7  2  0\\n  6 22  1  0\\n  7 26  1  0\\n  8  9  1  0\\n  9 10  1  0\\n 10 11  1  0\\n 10 21  2  0\\n 11 12  2  0\\n 12 13  1  0\\n 12 19  1  0\\n 13 14  2  0\\n 13 17  1  0\\n 14 15  1  0\\n 14 21  1  0\\n 15 16  1  0\\n 17 18  1  0\\n 19 20  1  0\\n 21 22  1  0\\n 22 23  2  0\\n 23 24  1  0\\n 24 25  2  0\\n 25 26  1  0\\n 25 28  1  0\\n 26 27  2  0\\nM  END\\n\",\"sdf\");\n",
       "\tviewer_16316137263524036.setStyle({\"model\": 0},{\"stick\": {\"colorscheme\": \"lightgreyCarbon\"}});\n",
       "\tviewer_16316137263524036.setStyle({\"model\": 1},{\"stick\": {\"colorscheme\": \"redCarbon\"}});\n",
       "\tviewer_16316137263524036.setStyle({\"model\": 2},{\"stick\": {\"colorscheme\": \"greyCarbon\"}});\n",
       "\tviewer_16316137263524036.zoomTo();\n",
       "viewer_16316137263524036.render();\n",
       "});\n",
       "</script>"
      ]
     },
     "metadata": {},
     "output_type": "display_data"
    },
    {
     "data": {
      "text/plain": [
       "<py3Dmol.view at 0x7f1daa3ffc88>"
      ]
     },
     "execution_count": 15,
     "metadata": {},
     "output_type": "execute_result"
    }
   ],
   "source": [
    "molid = 2\n",
    "als = AlignShow([mols[molid], mkmols[molid]], [pcds[molid], mkpcds[molid]])\n",
    "s = als.align(1, 0)\n",
    "print(\"Score:\", s)\n",
    "als.save(1, 0, f\"murcko_self_{molid}.sdf\")\n",
    "als.show(1, 0)"
   ]
  },
  {
   "cell_type": "code",
   "execution_count": 16,
   "metadata": {
    "scrolled": true
   },
   "outputs": [
    {
     "data": {
      "application/3dmoljs_load.v0": "<div id=\"3dmolviewer_163161373760536\"  style=\"position: relative; width: 640px; height: 480px\">\n        <p id=\"3dmolwarning_163161373760536\" style=\"background-color:#ffcccc;color:black\">You appear to be running in JupyterLab (or JavaScript failed to load for some other reason).  You need to install the 3dmol extension: <br>\n        <tt>jupyter labextension install jupyterlab_3dmol</tt></p>\n        </div>\n<script>\n\nvar loadScriptAsync = function(uri){\n  return new Promise((resolve, reject) => {\n    var tag = document.createElement('script');\n    tag.src = uri;\n    tag.async = true;\n    tag.onload = () => {\n      resolve();\n    };\n  var firstScriptTag = document.getElementsByTagName('script')[0];\n  firstScriptTag.parentNode.insertBefore(tag, firstScriptTag);\n});\n};\n\nif(typeof $3Dmolpromise === 'undefined') {\n$3Dmolpromise = null;\n  $3Dmolpromise = loadScriptAsync('https://3dmol.org/build/3Dmol.js');\n}\n\nvar viewer_163161373760536 = null;\nvar warn = document.getElementById(\"3dmolwarning_163161373760536\");\nif(warn) {\n    warn.parentNode.removeChild(warn);\n}\n$3Dmolpromise.then(function() {\nviewer_163161373760536 = $3Dmol.createViewer($(\"#3dmolviewer_163161373760536\"),{backgroundColor:\"white\"});\nviewer_163161373760536.zoomTo();\n\tviewer_163161373760536.addModel(\"\\n     RDKit          3D\\n\\n 26 28  0  0  0  0  0  0  0  0999 V2000\\n   22.2927    2.6565   10.4191 O   0  0  0  0  0  2  0  0  0  0  0  0\\n   13.3082    1.4929    8.9833 C   0  0  0  0  0  0  0  0  0  0  0  0\\n   13.9386    2.6390    8.5169 O   0  0  0  0  0  2  0  0  0  0  0  0\\n   11.9266    5.9429    9.8493 C   0  0  0  0  0  0  0  0  0  0  0  0\\n   12.6779    4.8161    9.4272 O   0  0  0  0  0  2  0  0  0  0  0  0\\n   17.4215    1.1722   13.9864 C   0  0  0  0  0  0  0  0  0  0  0  0\\n   16.7473    1.0353   10.2016 C   0  0  0  0  0  4  0  0  0  0  0  0\\n   17.5719    2.3700   15.0046 C   0  0  0  0  0  3  0  0  0  0  0  0\\n   17.7292    2.0020   16.1664 O   0  0  0  0  0  0  0  0  0  0  0  0\\n   17.3059    4.1706   13.3223 C   0  0  0  0  0  0  0  0  0  0  0  0\\n   18.4158    3.8225   12.3629 C   0  0  0  0  0  0  0  0  0  0  0  0\\n   19.6232    3.5889   12.9040 C   0  0  0  0  0  0  0  0  0  0  0  0\\n   17.0543    5.6797   13.2878 C   0  0  0  0  0  0  0  0  0  0  0  0\\n   16.7288    6.2211   11.8934 C   0  0  0  0  0  0  0  0  0  0  0  0\\n   16.0049    5.2280   11.0009 C   0  0  0  0  0  0  0  0  0  0  0  0\\n   14.6944    5.4733   10.6046 C   0  0  0  0  0  0  0  0  0  0  0  0\\n   14.0162    4.5808    9.7847 C   0  0  0  0  0  0  0  0  0  0  0  0\\n   14.6386    3.4343    9.3622 C   0  0  0  0  0  0  0  0  0  0  0  0\\n   15.9416    3.1917    9.7306 C   0  0  0  0  0  0  0  0  0  0  0  0\\n   16.6325    4.0809   10.5584 C   0  0  0  0  0  0  0  0  0  0  0  0\\n   18.0538    3.7726   10.9473 C   0  0  0  0  0  0  0  0  0  0  0  0\\n   18.8484    3.4949    9.8873 C   0  0  0  0  0  0  0  0  0  0  0  0\\n   20.2429    3.1309    9.8179 C   0  0  0  0  0  0  0  0  0  0  0  0\\n   21.1047    3.0042   10.8267 C   0  0  0  0  0  0  0  0  0  0  0  0\\n   20.8708    3.2103   12.2470 C   0  0  0  0  0  0  0  0  0  0  0  0\\n   21.8268    3.0225   12.9944 O   0  0  0  0  0  0  0  0  0  0  0  0\\n  3  2  1  0\\n  5  4  1  0\\n  7  6  1  0\\n  8  6  1  0\\n  9  8  2  0\\n 10 11  1  0\\n 10 13  1  0\\n 11 12  2  0\\n 11 21  1  0\\n 12 25  1  0\\n 13 14  1  0\\n 14 15  1  0\\n 15 16  1  0\\n 15 20  2  0\\n 16 17  2  0\\n 17 18  1  0\\n 18 19  2  0\\n 19 20  1  0\\n 20 21  1  0\\n 21 22  2  0\\n 22 23  1  0\\n 23 24  2  0\\n 24 25  1  0\\n 25 26  2  0\\n  7 19  1  0\\n  5 17  1  0\\n  3 18  1  0\\n  1 24  1  0\\nM  RAD  5   1   2   3   2   5   2   7   2   8   2\\nM  END\\n\",\"sdf\");\n\tviewer_163161373760536.setStyle({\"model\": 0},{\"stick\": {\"colorscheme\": \"lightgreyCarbon\"}});\n\tviewer_163161373760536.zoomTo();\nviewer_163161373760536.render();\n});\n</script>",
      "text/html": [
       "<div id=\"3dmolviewer_163161373760536\"  style=\"position: relative; width: 640px; height: 480px\">\n",
       "        <p id=\"3dmolwarning_163161373760536\" style=\"background-color:#ffcccc;color:black\">You appear to be running in JupyterLab (or JavaScript failed to load for some other reason).  You need to install the 3dmol extension: <br>\n",
       "        <tt>jupyter labextension install jupyterlab_3dmol</tt></p>\n",
       "        </div>\n",
       "<script>\n",
       "\n",
       "var loadScriptAsync = function(uri){\n",
       "  return new Promise((resolve, reject) => {\n",
       "    var tag = document.createElement('script');\n",
       "    tag.src = uri;\n",
       "    tag.async = true;\n",
       "    tag.onload = () => {\n",
       "      resolve();\n",
       "    };\n",
       "  var firstScriptTag = document.getElementsByTagName('script')[0];\n",
       "  firstScriptTag.parentNode.insertBefore(tag, firstScriptTag);\n",
       "});\n",
       "};\n",
       "\n",
       "if(typeof $3Dmolpromise === 'undefined') {\n",
       "$3Dmolpromise = null;\n",
       "  $3Dmolpromise = loadScriptAsync('https://3dmol.org/build/3Dmol.js');\n",
       "}\n",
       "\n",
       "var viewer_163161373760536 = null;\n",
       "var warn = document.getElementById(\"3dmolwarning_163161373760536\");\n",
       "if(warn) {\n",
       "    warn.parentNode.removeChild(warn);\n",
       "}\n",
       "$3Dmolpromise.then(function() {\n",
       "viewer_163161373760536 = $3Dmol.createViewer($(\"#3dmolviewer_163161373760536\"),{backgroundColor:\"white\"});\n",
       "viewer_163161373760536.zoomTo();\n",
       "\tviewer_163161373760536.addModel(\"\\n     RDKit          3D\\n\\n 26 28  0  0  0  0  0  0  0  0999 V2000\\n   22.2927    2.6565   10.4191 O   0  0  0  0  0  2  0  0  0  0  0  0\\n   13.3082    1.4929    8.9833 C   0  0  0  0  0  0  0  0  0  0  0  0\\n   13.9386    2.6390    8.5169 O   0  0  0  0  0  2  0  0  0  0  0  0\\n   11.9266    5.9429    9.8493 C   0  0  0  0  0  0  0  0  0  0  0  0\\n   12.6779    4.8161    9.4272 O   0  0  0  0  0  2  0  0  0  0  0  0\\n   17.4215    1.1722   13.9864 C   0  0  0  0  0  0  0  0  0  0  0  0\\n   16.7473    1.0353   10.2016 C   0  0  0  0  0  4  0  0  0  0  0  0\\n   17.5719    2.3700   15.0046 C   0  0  0  0  0  3  0  0  0  0  0  0\\n   17.7292    2.0020   16.1664 O   0  0  0  0  0  0  0  0  0  0  0  0\\n   17.3059    4.1706   13.3223 C   0  0  0  0  0  0  0  0  0  0  0  0\\n   18.4158    3.8225   12.3629 C   0  0  0  0  0  0  0  0  0  0  0  0\\n   19.6232    3.5889   12.9040 C   0  0  0  0  0  0  0  0  0  0  0  0\\n   17.0543    5.6797   13.2878 C   0  0  0  0  0  0  0  0  0  0  0  0\\n   16.7288    6.2211   11.8934 C   0  0  0  0  0  0  0  0  0  0  0  0\\n   16.0049    5.2280   11.0009 C   0  0  0  0  0  0  0  0  0  0  0  0\\n   14.6944    5.4733   10.6046 C   0  0  0  0  0  0  0  0  0  0  0  0\\n   14.0162    4.5808    9.7847 C   0  0  0  0  0  0  0  0  0  0  0  0\\n   14.6386    3.4343    9.3622 C   0  0  0  0  0  0  0  0  0  0  0  0\\n   15.9416    3.1917    9.7306 C   0  0  0  0  0  0  0  0  0  0  0  0\\n   16.6325    4.0809   10.5584 C   0  0  0  0  0  0  0  0  0  0  0  0\\n   18.0538    3.7726   10.9473 C   0  0  0  0  0  0  0  0  0  0  0  0\\n   18.8484    3.4949    9.8873 C   0  0  0  0  0  0  0  0  0  0  0  0\\n   20.2429    3.1309    9.8179 C   0  0  0  0  0  0  0  0  0  0  0  0\\n   21.1047    3.0042   10.8267 C   0  0  0  0  0  0  0  0  0  0  0  0\\n   20.8708    3.2103   12.2470 C   0  0  0  0  0  0  0  0  0  0  0  0\\n   21.8268    3.0225   12.9944 O   0  0  0  0  0  0  0  0  0  0  0  0\\n  3  2  1  0\\n  5  4  1  0\\n  7  6  1  0\\n  8  6  1  0\\n  9  8  2  0\\n 10 11  1  0\\n 10 13  1  0\\n 11 12  2  0\\n 11 21  1  0\\n 12 25  1  0\\n 13 14  1  0\\n 14 15  1  0\\n 15 16  1  0\\n 15 20  2  0\\n 16 17  2  0\\n 17 18  1  0\\n 18 19  2  0\\n 19 20  1  0\\n 20 21  1  0\\n 21 22  2  0\\n 22 23  1  0\\n 23 24  2  0\\n 24 25  1  0\\n 25 26  2  0\\n  7 19  1  0\\n  5 17  1  0\\n  3 18  1  0\\n  1 24  1  0\\nM  RAD  5   1   2   3   2   5   2   7   2   8   2\\nM  END\\n\",\"sdf\");\n",
       "\tviewer_163161373760536.setStyle({\"model\": 0},{\"stick\": {\"colorscheme\": \"lightgreyCarbon\"}});\n",
       "\tviewer_163161373760536.zoomTo();\n",
       "viewer_163161373760536.render();\n",
       "});\n",
       "</script>"
      ]
     },
     "metadata": {},
     "output_type": "display_data"
    }
   ],
   "source": [
    "rdmol2 = reconstruction(\"murcko_self_2.sdf\")\n",
    "show_all_conformers(rdmol2)"
   ]
  },
  {
   "cell_type": "code",
   "execution_count": 17,
   "metadata": {},
   "outputs": [
    {
     "name": "stdout",
     "output_type": "stream",
     "text": [
      "Score: 0.7727272727272727\n"
     ]
    },
    {
     "data": {
      "application/3dmoljs_load.v0": "<div id=\"3dmolviewer_1631613738281778\"  style=\"position: relative; width: 640px; height: 480px\">\n        <p id=\"3dmolwarning_1631613738281778\" style=\"background-color:#ffcccc;color:black\">You appear to be running in JupyterLab (or JavaScript failed to load for some other reason).  You need to install the 3dmol extension: <br>\n        <tt>jupyter labextension install jupyterlab_3dmol</tt></p>\n        </div>\n<script>\n\nvar loadScriptAsync = function(uri){\n  return new Promise((resolve, reject) => {\n    var tag = document.createElement('script');\n    tag.src = uri;\n    tag.async = true;\n    tag.onload = () => {\n      resolve();\n    };\n  var firstScriptTag = document.getElementsByTagName('script')[0];\n  firstScriptTag.parentNode.insertBefore(tag, firstScriptTag);\n});\n};\n\nif(typeof $3Dmolpromise === 'undefined') {\n$3Dmolpromise = null;\n  $3Dmolpromise = loadScriptAsync('https://3dmol.org/build/3Dmol.js');\n}\n\nvar viewer_1631613738281778 = null;\nvar warn = document.getElementById(\"3dmolwarning_1631613738281778\");\nif(warn) {\n    warn.parentNode.removeChild(warn);\n}\n$3Dmolpromise.then(function() {\nviewer_1631613738281778 = $3Dmol.createViewer($(\"#3dmolviewer_1631613738281778\"),{backgroundColor:\"white\"});\nviewer_1631613738281778.zoomTo();\n\tviewer_1631613738281778.addModel(\"BRD4, Ligand 4\\n     RDKit          3D\\n\\n 11 12  0  0  0  0  0  0  0  0999 V2000\\n    7.6628    3.4023   13.1410 O   0  0  0  0  0  0  0  0  0  0  0  0\\n    7.2583    4.1167   14.1009 C   0  0  0  0  0  0  0  0  0  0  0  0\\n    7.9110    4.0902   15.3781 N   0  0  0  0  0  0  0  0  0  0  0  0\\n    7.2734    4.5779   16.5411 C   0  0  0  0  0  0  0  0  0  0  0  0\\n    7.6652    4.1368   17.8218 C   0  0  0  0  0  0  0  0  0  0  0  0\\n    7.0302    4.5892   18.9495 C   0  0  0  0  0  0  0  0  0  0  0  0\\n    5.9961    5.5005   18.8479 C   0  0  0  0  0  0  0  0  0  0  0  0\\n    5.6372    5.9929   17.5905 C   0  0  0  0  0  0  0  0  0  0  0  0\\n    6.2381    5.5045   16.4195 C   0  0  0  0  0  0  0  0  0  0  0  0\\n    5.9121    5.9776   15.1076 C   0  0  0  0  0  0  0  0  0  0  0  0\\n    6.2105    4.9712   13.9946 N   0  0  0  0  0  0  0  0  0  0  0  0\\n  1  2  2  0\\n  2  3  1  0\\n  2 11  1  0\\n  3  4  1  0\\n  4  5  1  0\\n  4  9  2  0\\n  5  6  2  0\\n  6  7  1  0\\n  7  8  2  0\\n  8  9  1  0\\n  9 10  1  0\\n 10 11  1  0\\nM  END\\n\",\"sdf\");\n\tviewer_1631613738281778.addModel(\"BRD4, Ligand 4\\n     RDKit          3D\\n\\n 11 12  0  0  0  0  0  0  0  0999 V2000\\n   15.8768   12.2807    9.5859 O   0  0  0  0  0  0  0  0  0  0  0  0\\n   14.8057   11.6837    9.2829 C   0  0  0  0  0  0  0  0  0  0  0  0\\n   14.5866   11.1671    7.9627 N   0  0  0  0  0  0  0  0  0  0  0  0\\n   13.2901   10.8394    7.5060 C   0  0  0  0  0  0  0  0  0  0  0  0\\n   12.9945   10.8032    6.1277 C   0  0  0  0  0  0  0  0  0  0  0  0\\n   11.7307   10.5110    5.6839 C   0  0  0  0  0  0  0  0  0  0  0  0\\n   10.7222   10.2339    6.5874 C   0  0  0  0  0  0  0  0  0  0  0  0\\n   11.0143   10.2061    7.9536 C   0  0  0  0  0  0  0  0  0  0  0  0\\n   12.2875   10.5532    8.4324 C   0  0  0  0  0  0  0  0  0  0  0  0\\n   12.6415   10.5363    9.8200 C   0  0  0  0  0  0  0  0  0  0  0  0\\n   13.8066   11.4628   10.1731 N   0  0  0  0  0  0  0  0  0  0  0  0\\n  1  2  2  0\\n  2  3  1  0\\n  2 11  1  0\\n  3  4  1  0\\n  4  5  1  0\\n  4  9  2  0\\n  5  6  2  0\\n  6  7  1  0\\n  7  8  2  0\\n  8  9  1  0\\n  9 10  1  0\\n 10 11  1  0\\nM  END\\n\",\"sdf\");\n\tviewer_1631613738281778.addModel(\"BRD4, Ligand 4\\n     RDKit          3D\\n\\n 13 14  0  0  0  0  0  0  0  0999 V2000\\n   12.0114   10.4184    5.0164 O   0  0  0  0  0  0  0  0  0  0  0  0\\n   12.3713   10.6420    6.2063 C   0  0  0  0  0  0  0  0  0  0  0  0\\n   13.6079   11.3073    6.4999 N   0  0  0  0  0  0  0  0  0  0  0  0\\n   14.1954   11.2369    7.7831 C   0  0  0  0  0  0  0  0  0  0  0  0\\n   15.5781   11.4494    7.9602 C   0  0  0  0  0  0  0  0  0  0  0  0\\n   16.1539   11.3556    9.2008 C   0  0  0  0  0  0  0  0  0  0  0  0\\n   15.3798   11.0606   10.3071 C   0  0  0  0  0  0  0  0  0  0  0  0\\n   16.1895   11.0128   12.0654 Br  0  0  0  0  0  0  0  0  0  0  0  0\\n   13.9991   10.9077   10.1567 C   0  0  0  0  0  0  0  0  0  0  0  0\\n   13.3967   10.9475    8.8893 C   0  0  0  0  0  0  0  0  0  0  0  0\\n   11.9874   10.8023    8.6793 C   0  0  0  0  0  0  0  0  0  0  0  0\\n   11.6180   10.3018    7.2816 N   0  0  0  0  0  0  0  0  0  0  0  0\\n   10.2743    9.7289    7.1258 C   0  0  0  0  0  0  0  0  0  0  0  0\\n  1  2  2  0\\n  2  3  1  0\\n  2 12  1  0\\n  3  4  1  0\\n  4  5  1  0\\n  4 10  2  0\\n  5  6  2  0\\n  6  7  1  0\\n  7  8  1  0\\n  7  9  2  0\\n  9 10  1  0\\n 10 11  1  0\\n 11 12  1  0\\n 12 13  1  0\\nM  END\\n\",\"sdf\");\n\tviewer_1631613738281778.setStyle({\"model\": 0},{\"stick\": {\"colorscheme\": \"lightgreyCarbon\"}});\n\tviewer_1631613738281778.setStyle({\"model\": 1},{\"stick\": {\"colorscheme\": \"redCarbon\"}});\n\tviewer_1631613738281778.setStyle({\"model\": 2},{\"stick\": {\"colorscheme\": \"greyCarbon\"}});\n\tviewer_1631613738281778.zoomTo();\nviewer_1631613738281778.render();\n});\n</script>",
      "text/html": [
       "<div id=\"3dmolviewer_1631613738281778\"  style=\"position: relative; width: 640px; height: 480px\">\n",
       "        <p id=\"3dmolwarning_1631613738281778\" style=\"background-color:#ffcccc;color:black\">You appear to be running in JupyterLab (or JavaScript failed to load for some other reason).  You need to install the 3dmol extension: <br>\n",
       "        <tt>jupyter labextension install jupyterlab_3dmol</tt></p>\n",
       "        </div>\n",
       "<script>\n",
       "\n",
       "var loadScriptAsync = function(uri){\n",
       "  return new Promise((resolve, reject) => {\n",
       "    var tag = document.createElement('script');\n",
       "    tag.src = uri;\n",
       "    tag.async = true;\n",
       "    tag.onload = () => {\n",
       "      resolve();\n",
       "    };\n",
       "  var firstScriptTag = document.getElementsByTagName('script')[0];\n",
       "  firstScriptTag.parentNode.insertBefore(tag, firstScriptTag);\n",
       "});\n",
       "};\n",
       "\n",
       "if(typeof $3Dmolpromise === 'undefined') {\n",
       "$3Dmolpromise = null;\n",
       "  $3Dmolpromise = loadScriptAsync('https://3dmol.org/build/3Dmol.js');\n",
       "}\n",
       "\n",
       "var viewer_1631613738281778 = null;\n",
       "var warn = document.getElementById(\"3dmolwarning_1631613738281778\");\n",
       "if(warn) {\n",
       "    warn.parentNode.removeChild(warn);\n",
       "}\n",
       "$3Dmolpromise.then(function() {\n",
       "viewer_1631613738281778 = $3Dmol.createViewer($(\"#3dmolviewer_1631613738281778\"),{backgroundColor:\"white\"});\n",
       "viewer_1631613738281778.zoomTo();\n",
       "\tviewer_1631613738281778.addModel(\"BRD4, Ligand 4\\n     RDKit          3D\\n\\n 11 12  0  0  0  0  0  0  0  0999 V2000\\n    7.6628    3.4023   13.1410 O   0  0  0  0  0  0  0  0  0  0  0  0\\n    7.2583    4.1167   14.1009 C   0  0  0  0  0  0  0  0  0  0  0  0\\n    7.9110    4.0902   15.3781 N   0  0  0  0  0  0  0  0  0  0  0  0\\n    7.2734    4.5779   16.5411 C   0  0  0  0  0  0  0  0  0  0  0  0\\n    7.6652    4.1368   17.8218 C   0  0  0  0  0  0  0  0  0  0  0  0\\n    7.0302    4.5892   18.9495 C   0  0  0  0  0  0  0  0  0  0  0  0\\n    5.9961    5.5005   18.8479 C   0  0  0  0  0  0  0  0  0  0  0  0\\n    5.6372    5.9929   17.5905 C   0  0  0  0  0  0  0  0  0  0  0  0\\n    6.2381    5.5045   16.4195 C   0  0  0  0  0  0  0  0  0  0  0  0\\n    5.9121    5.9776   15.1076 C   0  0  0  0  0  0  0  0  0  0  0  0\\n    6.2105    4.9712   13.9946 N   0  0  0  0  0  0  0  0  0  0  0  0\\n  1  2  2  0\\n  2  3  1  0\\n  2 11  1  0\\n  3  4  1  0\\n  4  5  1  0\\n  4  9  2  0\\n  5  6  2  0\\n  6  7  1  0\\n  7  8  2  0\\n  8  9  1  0\\n  9 10  1  0\\n 10 11  1  0\\nM  END\\n\",\"sdf\");\n",
       "\tviewer_1631613738281778.addModel(\"BRD4, Ligand 4\\n     RDKit          3D\\n\\n 11 12  0  0  0  0  0  0  0  0999 V2000\\n   15.8768   12.2807    9.5859 O   0  0  0  0  0  0  0  0  0  0  0  0\\n   14.8057   11.6837    9.2829 C   0  0  0  0  0  0  0  0  0  0  0  0\\n   14.5866   11.1671    7.9627 N   0  0  0  0  0  0  0  0  0  0  0  0\\n   13.2901   10.8394    7.5060 C   0  0  0  0  0  0  0  0  0  0  0  0\\n   12.9945   10.8032    6.1277 C   0  0  0  0  0  0  0  0  0  0  0  0\\n   11.7307   10.5110    5.6839 C   0  0  0  0  0  0  0  0  0  0  0  0\\n   10.7222   10.2339    6.5874 C   0  0  0  0  0  0  0  0  0  0  0  0\\n   11.0143   10.2061    7.9536 C   0  0  0  0  0  0  0  0  0  0  0  0\\n   12.2875   10.5532    8.4324 C   0  0  0  0  0  0  0  0  0  0  0  0\\n   12.6415   10.5363    9.8200 C   0  0  0  0  0  0  0  0  0  0  0  0\\n   13.8066   11.4628   10.1731 N   0  0  0  0  0  0  0  0  0  0  0  0\\n  1  2  2  0\\n  2  3  1  0\\n  2 11  1  0\\n  3  4  1  0\\n  4  5  1  0\\n  4  9  2  0\\n  5  6  2  0\\n  6  7  1  0\\n  7  8  2  0\\n  8  9  1  0\\n  9 10  1  0\\n 10 11  1  0\\nM  END\\n\",\"sdf\");\n",
       "\tviewer_1631613738281778.addModel(\"BRD4, Ligand 4\\n     RDKit          3D\\n\\n 13 14  0  0  0  0  0  0  0  0999 V2000\\n   12.0114   10.4184    5.0164 O   0  0  0  0  0  0  0  0  0  0  0  0\\n   12.3713   10.6420    6.2063 C   0  0  0  0  0  0  0  0  0  0  0  0\\n   13.6079   11.3073    6.4999 N   0  0  0  0  0  0  0  0  0  0  0  0\\n   14.1954   11.2369    7.7831 C   0  0  0  0  0  0  0  0  0  0  0  0\\n   15.5781   11.4494    7.9602 C   0  0  0  0  0  0  0  0  0  0  0  0\\n   16.1539   11.3556    9.2008 C   0  0  0  0  0  0  0  0  0  0  0  0\\n   15.3798   11.0606   10.3071 C   0  0  0  0  0  0  0  0  0  0  0  0\\n   16.1895   11.0128   12.0654 Br  0  0  0  0  0  0  0  0  0  0  0  0\\n   13.9991   10.9077   10.1567 C   0  0  0  0  0  0  0  0  0  0  0  0\\n   13.3967   10.9475    8.8893 C   0  0  0  0  0  0  0  0  0  0  0  0\\n   11.9874   10.8023    8.6793 C   0  0  0  0  0  0  0  0  0  0  0  0\\n   11.6180   10.3018    7.2816 N   0  0  0  0  0  0  0  0  0  0  0  0\\n   10.2743    9.7289    7.1258 C   0  0  0  0  0  0  0  0  0  0  0  0\\n  1  2  2  0\\n  2  3  1  0\\n  2 12  1  0\\n  3  4  1  0\\n  4  5  1  0\\n  4 10  2  0\\n  5  6  2  0\\n  6  7  1  0\\n  7  8  1  0\\n  7  9  2  0\\n  9 10  1  0\\n 10 11  1  0\\n 11 12  1  0\\n 12 13  1  0\\nM  END\\n\",\"sdf\");\n",
       "\tviewer_1631613738281778.setStyle({\"model\": 0},{\"stick\": {\"colorscheme\": \"lightgreyCarbon\"}});\n",
       "\tviewer_1631613738281778.setStyle({\"model\": 1},{\"stick\": {\"colorscheme\": \"redCarbon\"}});\n",
       "\tviewer_1631613738281778.setStyle({\"model\": 2},{\"stick\": {\"colorscheme\": \"greyCarbon\"}});\n",
       "\tviewer_1631613738281778.zoomTo();\n",
       "viewer_1631613738281778.render();\n",
       "});\n",
       "</script>"
      ]
     },
     "metadata": {},
     "output_type": "display_data"
    },
    {
     "data": {
      "text/plain": [
       "<py3Dmol.view at 0x7f1daa420518>"
      ]
     },
     "execution_count": 17,
     "metadata": {},
     "output_type": "execute_result"
    }
   ],
   "source": [
    "molid = 3\n",
    "als = AlignShow([mols[molid], mkmols[molid]], [pcds[molid], mkpcds[molid]])\n",
    "s = als.align(1, 0)\n",
    "print(\"Score:\", s)\n",
    "als.save(1, 0, f\"murcko_self_{molid}.sdf\")\n",
    "als.show(1, 0)"
   ]
  },
  {
   "cell_type": "code",
   "execution_count": 18,
   "metadata": {},
   "outputs": [
    {
     "data": {
      "application/3dmoljs_load.v0": "<div id=\"3dmolviewer_16316137476828074\"  style=\"position: relative; width: 640px; height: 480px\">\n        <p id=\"3dmolwarning_16316137476828074\" style=\"background-color:#ffcccc;color:black\">You appear to be running in JupyterLab (or JavaScript failed to load for some other reason).  You need to install the 3dmol extension: <br>\n        <tt>jupyter labextension install jupyterlab_3dmol</tt></p>\n        </div>\n<script>\n\nvar loadScriptAsync = function(uri){\n  return new Promise((resolve, reject) => {\n    var tag = document.createElement('script');\n    tag.src = uri;\n    tag.async = true;\n    tag.onload = () => {\n      resolve();\n    };\n  var firstScriptTag = document.getElementsByTagName('script')[0];\n  firstScriptTag.parentNode.insertBefore(tag, firstScriptTag);\n});\n};\n\nif(typeof $3Dmolpromise === 'undefined') {\n$3Dmolpromise = null;\n  $3Dmolpromise = loadScriptAsync('https://3dmol.org/build/3Dmol.js');\n}\n\nvar viewer_16316137476828074 = null;\nvar warn = document.getElementById(\"3dmolwarning_16316137476828074\");\nif(warn) {\n    warn.parentNode.removeChild(warn);\n}\n$3Dmolpromise.then(function() {\nviewer_16316137476828074 = $3Dmol.createViewer($(\"#3dmolviewer_16316137476828074\"),{backgroundColor:\"white\"});\nviewer_16316137476828074.zoomTo();\n\tviewer_16316137476828074.addModel(\"\\n     RDKit          3D\\n\\n 28 30  0  0  0  0  0  0  0  0999 V2000\\n   13.8409   10.8336   10.3819 C   0  0  0  0  0  4  0  0  0  0  0  0\\n   14.2759   11.1893    9.0398 C   0  0  0  0  0  2  0  0  0  0  0  0\\n   16.3330   11.3343    9.3246 C   0  0  0  0  0  3  0  0  0  0  0  0\\n   15.8137   11.5027    7.8225 C   0  0  0  0  0  0  0  0  0  0  0  0\\n   15.3453   11.0962   10.1394 C   0  0  0  0  0  2  0  0  0  0  0  0\\n   16.1895   11.0128   12.0654 Br  0  0  0  0  0  0  0  0  0  0  0  0\\n   14.7863   11.1496    8.4562 N   0  0  0  0  0  0  0  0  0  0  0  0\\n   11.6746   10.7308    8.2437 C   0  0  0  0  0  0  0  0  0  0  0  0\\n   10.1368    9.6138    6.9967 C   0  0  0  0  0  0  0  0  0  0  0  0\\n   12.4292   10.6309    6.0441 C   0  0  0  0  0  0  0  0  0  0  0  0\\n   11.3027   10.2611    8.1162 C   0  0  0  0  0  0  0  0  0  0  0  0\\n   10.8763   10.2470    7.0980 C   0  0  0  0  0  0  0  0  0  0  0  0\\n   12.7444   10.7374    5.9422 C   0  0  0  0  0  5  0  0  0  0  0  0\\n   11.4599   10.4462    5.8666 C   0  0  0  0  0  0  0  0  0  0  0  0\\n   11.6180   10.3018    7.2816 N   0  0  0  0  0  2  0  0  0  0  0  0\\n   13.3739   11.3402    6.1273 N   0  0  0  0  0  2  0  0  0  0  0  0\\n   12.0114   10.4184    5.0164 O   0  0  0  0  0  0  0  0  0  0  0  0\\n   15.8768   12.2807    9.5859 O   0  0  0  0  0  0  0  0  0  0  0  0\\n   14.8057   11.6837    9.2829 C   0  0  0  0  0  0  0  0  0  0  0  0\\n   14.5866   11.1671    7.9627 N   0  0  0  0  0  0  0  0  0  0  0  0\\n   13.2901   10.8394    7.5060 C   0  0  0  0  0  0  0  0  0  0  0  0\\n   12.9945   10.8032    6.1277 C   0  0  0  0  0  0  0  0  0  0  0  0\\n   11.7307   10.5110    5.6839 C   0  0  0  0  0  0  0  0  0  0  0  0\\n   10.7222   10.2339    6.5874 C   0  0  0  0  0  0  0  0  0  0  0  0\\n   11.0143   10.2061    7.9536 C   0  0  0  0  0  0  0  0  0  0  0  0\\n   12.2875   10.5532    8.4324 C   0  0  0  0  0  0  0  0  0  0  0  0\\n   12.6415   10.5363    9.8200 C   0  0  0  0  0  0  0  0  0  0  0  0\\n   13.8066   11.4628   10.1731 N   0  0  0  0  0  0  0  0  0  0  0  0\\n  4  3  1  0\\n  5  3  1  0\\n  6  5  1  0\\n  7  2  1  0\\n  7  4  1  0\\n 11  8  2  0\\n 12  9  2  0\\n 13 10  1  0\\n 14 10  1  0\\n 14 12  1  0\\n 15 11  1  0\\n 15 12  1  0\\n 16 13  1  0\\n 17 10  1  0\\n 17 14  1  0\\n 18 19  2  0\\n 19 20  1  0\\n 19 28  1  0\\n 20 21  1  0\\n 21 22  1  0\\n 21 26  2  0\\n 22 23  2  0\\n 23 24  1  0\\n 24 25  2  0\\n 25 26  1  0\\n 26 27  1  0\\n 27 28  1  0\\n 13 22  1  0\\n  7 20  1  0\\n  1 28  1  0\\nM  RAD  6   1   2   2   3   3   2   5   3  15   2  16   2\\nM  END\\n\",\"sdf\");\n\tviewer_16316137476828074.setStyle({\"model\": 0},{\"stick\": {\"colorscheme\": \"lightgreyCarbon\"}});\n\tviewer_16316137476828074.zoomTo();\nviewer_16316137476828074.render();\n});\n</script>",
      "text/html": [
       "<div id=\"3dmolviewer_16316137476828074\"  style=\"position: relative; width: 640px; height: 480px\">\n",
       "        <p id=\"3dmolwarning_16316137476828074\" style=\"background-color:#ffcccc;color:black\">You appear to be running in JupyterLab (or JavaScript failed to load for some other reason).  You need to install the 3dmol extension: <br>\n",
       "        <tt>jupyter labextension install jupyterlab_3dmol</tt></p>\n",
       "        </div>\n",
       "<script>\n",
       "\n",
       "var loadScriptAsync = function(uri){\n",
       "  return new Promise((resolve, reject) => {\n",
       "    var tag = document.createElement('script');\n",
       "    tag.src = uri;\n",
       "    tag.async = true;\n",
       "    tag.onload = () => {\n",
       "      resolve();\n",
       "    };\n",
       "  var firstScriptTag = document.getElementsByTagName('script')[0];\n",
       "  firstScriptTag.parentNode.insertBefore(tag, firstScriptTag);\n",
       "});\n",
       "};\n",
       "\n",
       "if(typeof $3Dmolpromise === 'undefined') {\n",
       "$3Dmolpromise = null;\n",
       "  $3Dmolpromise = loadScriptAsync('https://3dmol.org/build/3Dmol.js');\n",
       "}\n",
       "\n",
       "var viewer_16316137476828074 = null;\n",
       "var warn = document.getElementById(\"3dmolwarning_16316137476828074\");\n",
       "if(warn) {\n",
       "    warn.parentNode.removeChild(warn);\n",
       "}\n",
       "$3Dmolpromise.then(function() {\n",
       "viewer_16316137476828074 = $3Dmol.createViewer($(\"#3dmolviewer_16316137476828074\"),{backgroundColor:\"white\"});\n",
       "viewer_16316137476828074.zoomTo();\n",
       "\tviewer_16316137476828074.addModel(\"\\n     RDKit          3D\\n\\n 28 30  0  0  0  0  0  0  0  0999 V2000\\n   13.8409   10.8336   10.3819 C   0  0  0  0  0  4  0  0  0  0  0  0\\n   14.2759   11.1893    9.0398 C   0  0  0  0  0  2  0  0  0  0  0  0\\n   16.3330   11.3343    9.3246 C   0  0  0  0  0  3  0  0  0  0  0  0\\n   15.8137   11.5027    7.8225 C   0  0  0  0  0  0  0  0  0  0  0  0\\n   15.3453   11.0962   10.1394 C   0  0  0  0  0  2  0  0  0  0  0  0\\n   16.1895   11.0128   12.0654 Br  0  0  0  0  0  0  0  0  0  0  0  0\\n   14.7863   11.1496    8.4562 N   0  0  0  0  0  0  0  0  0  0  0  0\\n   11.6746   10.7308    8.2437 C   0  0  0  0  0  0  0  0  0  0  0  0\\n   10.1368    9.6138    6.9967 C   0  0  0  0  0  0  0  0  0  0  0  0\\n   12.4292   10.6309    6.0441 C   0  0  0  0  0  0  0  0  0  0  0  0\\n   11.3027   10.2611    8.1162 C   0  0  0  0  0  0  0  0  0  0  0  0\\n   10.8763   10.2470    7.0980 C   0  0  0  0  0  0  0  0  0  0  0  0\\n   12.7444   10.7374    5.9422 C   0  0  0  0  0  5  0  0  0  0  0  0\\n   11.4599   10.4462    5.8666 C   0  0  0  0  0  0  0  0  0  0  0  0\\n   11.6180   10.3018    7.2816 N   0  0  0  0  0  2  0  0  0  0  0  0\\n   13.3739   11.3402    6.1273 N   0  0  0  0  0  2  0  0  0  0  0  0\\n   12.0114   10.4184    5.0164 O   0  0  0  0  0  0  0  0  0  0  0  0\\n   15.8768   12.2807    9.5859 O   0  0  0  0  0  0  0  0  0  0  0  0\\n   14.8057   11.6837    9.2829 C   0  0  0  0  0  0  0  0  0  0  0  0\\n   14.5866   11.1671    7.9627 N   0  0  0  0  0  0  0  0  0  0  0  0\\n   13.2901   10.8394    7.5060 C   0  0  0  0  0  0  0  0  0  0  0  0\\n   12.9945   10.8032    6.1277 C   0  0  0  0  0  0  0  0  0  0  0  0\\n   11.7307   10.5110    5.6839 C   0  0  0  0  0  0  0  0  0  0  0  0\\n   10.7222   10.2339    6.5874 C   0  0  0  0  0  0  0  0  0  0  0  0\\n   11.0143   10.2061    7.9536 C   0  0  0  0  0  0  0  0  0  0  0  0\\n   12.2875   10.5532    8.4324 C   0  0  0  0  0  0  0  0  0  0  0  0\\n   12.6415   10.5363    9.8200 C   0  0  0  0  0  0  0  0  0  0  0  0\\n   13.8066   11.4628   10.1731 N   0  0  0  0  0  0  0  0  0  0  0  0\\n  4  3  1  0\\n  5  3  1  0\\n  6  5  1  0\\n  7  2  1  0\\n  7  4  1  0\\n 11  8  2  0\\n 12  9  2  0\\n 13 10  1  0\\n 14 10  1  0\\n 14 12  1  0\\n 15 11  1  0\\n 15 12  1  0\\n 16 13  1  0\\n 17 10  1  0\\n 17 14  1  0\\n 18 19  2  0\\n 19 20  1  0\\n 19 28  1  0\\n 20 21  1  0\\n 21 22  1  0\\n 21 26  2  0\\n 22 23  2  0\\n 23 24  1  0\\n 24 25  2  0\\n 25 26  1  0\\n 26 27  1  0\\n 27 28  1  0\\n 13 22  1  0\\n  7 20  1  0\\n  1 28  1  0\\nM  RAD  6   1   2   2   3   3   2   5   3  15   2  16   2\\nM  END\\n\",\"sdf\");\n",
       "\tviewer_16316137476828074.setStyle({\"model\": 0},{\"stick\": {\"colorscheme\": \"lightgreyCarbon\"}});\n",
       "\tviewer_16316137476828074.zoomTo();\n",
       "viewer_16316137476828074.render();\n",
       "});\n",
       "</script>"
      ]
     },
     "metadata": {},
     "output_type": "display_data"
    }
   ],
   "source": [
    "rdmol3 = reconstruction(\"murcko_self_3.sdf\")\n",
    "show_all_conformers(rdmol3)"
   ]
  },
  {
   "cell_type": "code",
   "execution_count": 19,
   "metadata": {},
   "outputs": [
    {
     "name": "stdout",
     "output_type": "stream",
     "text": [
      "Score: 0.919104991394148\n"
     ]
    },
    {
     "data": {
      "application/3dmoljs_load.v0": "<div id=\"3dmolviewer_1631613748459071\"  style=\"position: relative; width: 640px; height: 480px\">\n        <p id=\"3dmolwarning_1631613748459071\" style=\"background-color:#ffcccc;color:black\">You appear to be running in JupyterLab (or JavaScript failed to load for some other reason).  You need to install the 3dmol extension: <br>\n        <tt>jupyter labextension install jupyterlab_3dmol</tt></p>\n        </div>\n<script>\n\nvar loadScriptAsync = function(uri){\n  return new Promise((resolve, reject) => {\n    var tag = document.createElement('script');\n    tag.src = uri;\n    tag.async = true;\n    tag.onload = () => {\n      resolve();\n    };\n  var firstScriptTag = document.getElementsByTagName('script')[0];\n  firstScriptTag.parentNode.insertBefore(tag, firstScriptTag);\n});\n};\n\nif(typeof $3Dmolpromise === 'undefined') {\n$3Dmolpromise = null;\n  $3Dmolpromise = loadScriptAsync('https://3dmol.org/build/3Dmol.js');\n}\n\nvar viewer_1631613748459071 = null;\nvar warn = document.getElementById(\"3dmolwarning_1631613748459071\");\nif(warn) {\n    warn.parentNode.removeChild(warn);\n}\n$3Dmolpromise.then(function() {\nviewer_1631613748459071 = $3Dmol.createViewer($(\"#3dmolviewer_1631613748459071\"),{backgroundColor:\"white\"});\nviewer_1631613748459071.zoomTo();\n\tviewer_1631613748459071.addModel(\"BRD4, Ligand 5\\n     RDKit          3D\\n\\n 20 23  0  0  1  0  0  0  0  0999 V2000\\n    6.5028   -3.5790   16.2284 C   0  0  0  0  0  0  0  0  0  0  0  0\\n    6.3294   -2.6259   17.2446 C   0  0  0  0  0  0  0  0  0  0  0  0\\n    6.2829   -1.2853   16.8832 C   0  0  0  0  0  0  0  0  0  0  0  0\\n    6.3601   -0.8403   15.5574 C   0  0  0  0  0  0  0  0  0  0  0  0\\n    6.5277   -1.8052   14.5482 C   0  0  0  0  0  0  0  0  0  0  0  0\\n    6.5786   -3.1492   14.8948 C   0  0  0  0  0  0  0  0  0  0  0  0\\n    6.7503   -3.9976   13.8111 N   0  0  0  0  0  0  0  0  0  0  0  0\\n    6.2226   -3.9829   12.5578 C   0  0  0  0  0  0  0  0  0  0  0  0\\n    6.7073   -5.0130   11.8608 N   0  0  0  0  0  0  0  0  0  0  0  0\\n    7.5422   -5.6542   12.5951 N   0  0  0  0  0  0  0  0  0  0  0  0\\n    7.5780   -5.0495   13.8048 C   0  0  0  0  0  0  0  0  0  0  0  0\\n    8.3389   -5.5128   15.0079 C   0  0  0  0  0  0  0  0  0  0  0  0\\n    7.2824   -5.8673   15.9935 N   0  0  0  0  0  0  0  0  0  0  0  0\\n    6.5487   -4.9439   16.6534 C   0  0  0  0  0  0  0  0  0  0  0  0\\n    5.5677   -5.4761   17.5692 C   0  0  0  0  0  0  0  0  0  0  0  0\\n    4.3767   -4.8007   17.8215 C   0  0  0  0  0  0  0  0  0  0  0  0\\n    3.3868   -5.3402   18.6447 C   0  0  0  0  0  0  0  0  0  0  0  0\\n    3.5718   -6.5622   19.2859 C   0  0  0  0  0  0  0  0  0  0  0  0\\n    4.7587   -7.2279   19.0509 C   0  0  0  0  0  0  0  0  0  0  0  0\\n    5.7374   -6.6920   18.2191 C   0  0  0  0  0  0  0  0  0  0  0  0\\n  1  2  2  0\\n  1  6  1  0\\n  1 14  1  0\\n  2  3  1  0\\n  3  4  2  0\\n  4  5  1  0\\n  5  6  2  0\\n  6  7  1  0\\n  7  8  1  0\\n  7 11  1  0\\n  8  9  2  0\\n  9 10  1  0\\n 10 11  2  0\\n 11 12  1  0\\n 12 13  1  0\\n 13 14  1  0\\n 14 15  1  0\\n 15 16  2  0\\n 15 20  1  0\\n 16 17  1  0\\n 17 18  2  0\\n 18 19  1  0\\n 19 20  2  0\\nM  END\\n\",\"sdf\");\n\tviewer_1631613748459071.addModel(\"BRD4, Ligand 5\\n     RDKit          3D\\n\\n 20 23  0  0  1  0  0  0  0  0999 V2000\\n    9.4577   -2.6084   15.0220 C   0  0  0  0  0  0  0  0  0  0  0  0\\n    9.2804   -1.7055   16.0824 C   0  0  0  0  0  0  0  0  0  0  0  0\\n    8.9699   -0.3870   15.7740 C   0  0  0  0  0  0  0  0  0  0  0  0\\n    8.7862    0.0768   14.4653 C   0  0  0  0  0  0  0  0  0  0  0  0\\n    8.9607   -0.8387   13.4122 C   0  0  0  0  0  0  0  0  0  0  0  0\\n    9.2740   -2.1597   13.7052 C   0  0  0  0  0  0  0  0  0  0  0  0\\n    9.4234   -2.9590   12.5815 N   0  0  0  0  0  0  0  0  0  0  0  0\\n    8.7277   -3.0187   11.4145 C   0  0  0  0  0  0  0  0  0  0  0  0\\n    9.2667   -3.9499   10.6245 N   0  0  0  0  0  0  0  0  0  0  0  0\\n   10.2888   -4.4537   11.2151 N   0  0  0  0  0  0  0  0  0  0  0  0\\n   10.3989   -3.8623   12.4270 C   0  0  0  0  0  0  0  0  0  0  0  0\\n   11.3868   -4.2069   13.4976 C   0  0  0  0  0  0  0  0  0  0  0  0\\n   10.5510   -4.7374   14.6082 N   0  0  0  0  0  0  0  0  0  0  0  0\\n    9.7805   -3.9516   15.3926 C   0  0  0  0  0  0  0  0  0  0  0  0\\n    9.0369   -4.6444   16.4179 C   0  0  0  0  0  0  0  0  0  0  0  0\\n    7.8015   -4.1738   16.8542 C   0  0  0  0  0  0  0  0  0  0  0  0\\n    7.0372   -4.8745   17.7889 C   0  0  0  0  0  0  0  0  0  0  0  0\\n    7.5038   -6.0561   18.3588 C   0  0  0  0  0  0  0  0  0  0  0  0\\n    8.7362   -6.5179   17.9405 C   0  0  0  0  0  0  0  0  0  0  0  0\\n    9.4889   -5.8226   16.9987 C   0  0  0  0  0  0  0  0  0  0  0  0\\n  1  2  2  0\\n  1  6  1  0\\n  1 14  1  0\\n  2  3  1  0\\n  3  4  2  0\\n  4  5  1  0\\n  5  6  2  0\\n  6  7  1  0\\n  7  8  1  0\\n  7 11  1  0\\n  8  9  2  0\\n  9 10  1  0\\n 10 11  2  0\\n 11 12  1  0\\n 12 13  1  0\\n 13 14  1  0\\n 14 15  1  0\\n 15 16  2  0\\n 15 20  1  0\\n 16 17  1  0\\n 17 18  2  0\\n 18 19  1  0\\n 19 20  2  0\\nM  END\\n\",\"sdf\");\n\tviewer_1631613748459071.addModel(\"BRD4, Ligand 5\\n     RDKit          3D\\n\\n 22 25  0  0  1  0  0  0  0  0999 V2000\\n    9.4392   -2.5893   15.0830 C   0  0  0  0  0  0  0  0  0  0  0  0\\n    9.2705   -1.6939   16.1512 C   0  0  0  0  0  0  0  0  0  0  0  0\\n    8.9800   -0.3683   15.8541 C   0  0  0  0  0  0  0  0  0  0  0  0\\n    8.7590    0.7841   17.1436 Cl  0  0  0  0  0  0  0  0  0  0  0  0\\n    8.8082    0.1103   14.5491 C   0  0  0  0  0  0  0  0  0  0  0  0\\n    8.9739   -0.7977   13.4881 C   0  0  0  0  0  0  0  0  0  0  0  0\\n    9.2672   -2.1257   13.7698 C   0  0  0  0  0  0  0  0  0  0  0  0\\n    9.4097   -2.9165   12.6393 N   0  0  0  0  0  0  0  0  0  0  0  0\\n    8.7179   -2.9553   11.4691 C   0  0  0  0  0  0  0  0  0  0  0  0\\n    7.4762   -2.1366   11.0682 C   0  0  0  0  0  0  0  0  0  0  0  0\\n    9.2467   -3.8867   10.6724 N   0  0  0  0  0  0  0  0  0  0  0  0\\n   10.2592   -4.4105   11.2623 N   0  0  0  0  0  0  0  0  0  0  0  0\\n   10.3729   -3.8322   12.4800 C   0  0  0  0  0  0  0  0  0  0  0  0\\n   11.3515   -4.2008   13.5512 C   0  0  0  0  0  0  0  0  0  0  0  0\\n   10.5038   -4.7297   14.6535 N   0  0  0  0  0  0  0  0  0  0  0  0\\n    9.7414   -3.9403   15.4422 C   0  0  0  0  0  0  0  0  0  0  0  0\\n    8.9840   -4.6321   16.4581 C   0  0  0  0  0  0  0  0  0  0  0  0\\n    7.7535   -4.1481   16.8940 C   0  0  0  0  0  0  0  0  0  0  0  0\\n    6.9757   -4.8465   17.8191 C   0  0  0  0  0  0  0  0  0  0  0  0\\n    7.4232   -6.0399   18.3796 C   0  0  0  0  0  0  0  0  0  0  0  0\\n    8.6505   -6.5153   17.9618 C   0  0  0  0  0  0  0  0  0  0  0  0\\n    9.4168   -5.8219   17.0296 C   0  0  0  0  0  0  0  0  0  0  0  0\\n  1  2  2  0\\n  1  7  1  0\\n  1 16  1  0\\n  2  3  1  0\\n  3  4  1  0\\n  3  5  2  0\\n  5  6  1  0\\n  6  7  2  0\\n  7  8  1  0\\n  8  9  1  0\\n  8 13  1  0\\n  9 10  1  0\\n  9 11  2  0\\n 11 12  1  0\\n 12 13  2  0\\n 13 14  1  0\\n 14 15  1  0\\n 15 16  1  0\\n 16 17  1  0\\n 17 18  2  0\\n 17 22  1  0\\n 18 19  1  0\\n 19 20  2  0\\n 20 21  1  0\\n 21 22  2  0\\nM  END\\n\",\"sdf\");\n\tviewer_1631613748459071.setStyle({\"model\": 0},{\"stick\": {\"colorscheme\": \"lightgreyCarbon\"}});\n\tviewer_1631613748459071.setStyle({\"model\": 1},{\"stick\": {\"colorscheme\": \"redCarbon\"}});\n\tviewer_1631613748459071.setStyle({\"model\": 2},{\"stick\": {\"colorscheme\": \"greyCarbon\"}});\n\tviewer_1631613748459071.zoomTo();\nviewer_1631613748459071.render();\n});\n</script>",
      "text/html": [
       "<div id=\"3dmolviewer_1631613748459071\"  style=\"position: relative; width: 640px; height: 480px\">\n",
       "        <p id=\"3dmolwarning_1631613748459071\" style=\"background-color:#ffcccc;color:black\">You appear to be running in JupyterLab (or JavaScript failed to load for some other reason).  You need to install the 3dmol extension: <br>\n",
       "        <tt>jupyter labextension install jupyterlab_3dmol</tt></p>\n",
       "        </div>\n",
       "<script>\n",
       "\n",
       "var loadScriptAsync = function(uri){\n",
       "  return new Promise((resolve, reject) => {\n",
       "    var tag = document.createElement('script');\n",
       "    tag.src = uri;\n",
       "    tag.async = true;\n",
       "    tag.onload = () => {\n",
       "      resolve();\n",
       "    };\n",
       "  var firstScriptTag = document.getElementsByTagName('script')[0];\n",
       "  firstScriptTag.parentNode.insertBefore(tag, firstScriptTag);\n",
       "});\n",
       "};\n",
       "\n",
       "if(typeof $3Dmolpromise === 'undefined') {\n",
       "$3Dmolpromise = null;\n",
       "  $3Dmolpromise = loadScriptAsync('https://3dmol.org/build/3Dmol.js');\n",
       "}\n",
       "\n",
       "var viewer_1631613748459071 = null;\n",
       "var warn = document.getElementById(\"3dmolwarning_1631613748459071\");\n",
       "if(warn) {\n",
       "    warn.parentNode.removeChild(warn);\n",
       "}\n",
       "$3Dmolpromise.then(function() {\n",
       "viewer_1631613748459071 = $3Dmol.createViewer($(\"#3dmolviewer_1631613748459071\"),{backgroundColor:\"white\"});\n",
       "viewer_1631613748459071.zoomTo();\n",
       "\tviewer_1631613748459071.addModel(\"BRD4, Ligand 5\\n     RDKit          3D\\n\\n 20 23  0  0  1  0  0  0  0  0999 V2000\\n    6.5028   -3.5790   16.2284 C   0  0  0  0  0  0  0  0  0  0  0  0\\n    6.3294   -2.6259   17.2446 C   0  0  0  0  0  0  0  0  0  0  0  0\\n    6.2829   -1.2853   16.8832 C   0  0  0  0  0  0  0  0  0  0  0  0\\n    6.3601   -0.8403   15.5574 C   0  0  0  0  0  0  0  0  0  0  0  0\\n    6.5277   -1.8052   14.5482 C   0  0  0  0  0  0  0  0  0  0  0  0\\n    6.5786   -3.1492   14.8948 C   0  0  0  0  0  0  0  0  0  0  0  0\\n    6.7503   -3.9976   13.8111 N   0  0  0  0  0  0  0  0  0  0  0  0\\n    6.2226   -3.9829   12.5578 C   0  0  0  0  0  0  0  0  0  0  0  0\\n    6.7073   -5.0130   11.8608 N   0  0  0  0  0  0  0  0  0  0  0  0\\n    7.5422   -5.6542   12.5951 N   0  0  0  0  0  0  0  0  0  0  0  0\\n    7.5780   -5.0495   13.8048 C   0  0  0  0  0  0  0  0  0  0  0  0\\n    8.3389   -5.5128   15.0079 C   0  0  0  0  0  0  0  0  0  0  0  0\\n    7.2824   -5.8673   15.9935 N   0  0  0  0  0  0  0  0  0  0  0  0\\n    6.5487   -4.9439   16.6534 C   0  0  0  0  0  0  0  0  0  0  0  0\\n    5.5677   -5.4761   17.5692 C   0  0  0  0  0  0  0  0  0  0  0  0\\n    4.3767   -4.8007   17.8215 C   0  0  0  0  0  0  0  0  0  0  0  0\\n    3.3868   -5.3402   18.6447 C   0  0  0  0  0  0  0  0  0  0  0  0\\n    3.5718   -6.5622   19.2859 C   0  0  0  0  0  0  0  0  0  0  0  0\\n    4.7587   -7.2279   19.0509 C   0  0  0  0  0  0  0  0  0  0  0  0\\n    5.7374   -6.6920   18.2191 C   0  0  0  0  0  0  0  0  0  0  0  0\\n  1  2  2  0\\n  1  6  1  0\\n  1 14  1  0\\n  2  3  1  0\\n  3  4  2  0\\n  4  5  1  0\\n  5  6  2  0\\n  6  7  1  0\\n  7  8  1  0\\n  7 11  1  0\\n  8  9  2  0\\n  9 10  1  0\\n 10 11  2  0\\n 11 12  1  0\\n 12 13  1  0\\n 13 14  1  0\\n 14 15  1  0\\n 15 16  2  0\\n 15 20  1  0\\n 16 17  1  0\\n 17 18  2  0\\n 18 19  1  0\\n 19 20  2  0\\nM  END\\n\",\"sdf\");\n",
       "\tviewer_1631613748459071.addModel(\"BRD4, Ligand 5\\n     RDKit          3D\\n\\n 20 23  0  0  1  0  0  0  0  0999 V2000\\n    9.4577   -2.6084   15.0220 C   0  0  0  0  0  0  0  0  0  0  0  0\\n    9.2804   -1.7055   16.0824 C   0  0  0  0  0  0  0  0  0  0  0  0\\n    8.9699   -0.3870   15.7740 C   0  0  0  0  0  0  0  0  0  0  0  0\\n    8.7862    0.0768   14.4653 C   0  0  0  0  0  0  0  0  0  0  0  0\\n    8.9607   -0.8387   13.4122 C   0  0  0  0  0  0  0  0  0  0  0  0\\n    9.2740   -2.1597   13.7052 C   0  0  0  0  0  0  0  0  0  0  0  0\\n    9.4234   -2.9590   12.5815 N   0  0  0  0  0  0  0  0  0  0  0  0\\n    8.7277   -3.0187   11.4145 C   0  0  0  0  0  0  0  0  0  0  0  0\\n    9.2667   -3.9499   10.6245 N   0  0  0  0  0  0  0  0  0  0  0  0\\n   10.2888   -4.4537   11.2151 N   0  0  0  0  0  0  0  0  0  0  0  0\\n   10.3989   -3.8623   12.4270 C   0  0  0  0  0  0  0  0  0  0  0  0\\n   11.3868   -4.2069   13.4976 C   0  0  0  0  0  0  0  0  0  0  0  0\\n   10.5510   -4.7374   14.6082 N   0  0  0  0  0  0  0  0  0  0  0  0\\n    9.7805   -3.9516   15.3926 C   0  0  0  0  0  0  0  0  0  0  0  0\\n    9.0369   -4.6444   16.4179 C   0  0  0  0  0  0  0  0  0  0  0  0\\n    7.8015   -4.1738   16.8542 C   0  0  0  0  0  0  0  0  0  0  0  0\\n    7.0372   -4.8745   17.7889 C   0  0  0  0  0  0  0  0  0  0  0  0\\n    7.5038   -6.0561   18.3588 C   0  0  0  0  0  0  0  0  0  0  0  0\\n    8.7362   -6.5179   17.9405 C   0  0  0  0  0  0  0  0  0  0  0  0\\n    9.4889   -5.8226   16.9987 C   0  0  0  0  0  0  0  0  0  0  0  0\\n  1  2  2  0\\n  1  6  1  0\\n  1 14  1  0\\n  2  3  1  0\\n  3  4  2  0\\n  4  5  1  0\\n  5  6  2  0\\n  6  7  1  0\\n  7  8  1  0\\n  7 11  1  0\\n  8  9  2  0\\n  9 10  1  0\\n 10 11  2  0\\n 11 12  1  0\\n 12 13  1  0\\n 13 14  1  0\\n 14 15  1  0\\n 15 16  2  0\\n 15 20  1  0\\n 16 17  1  0\\n 17 18  2  0\\n 18 19  1  0\\n 19 20  2  0\\nM  END\\n\",\"sdf\");\n",
       "\tviewer_1631613748459071.addModel(\"BRD4, Ligand 5\\n     RDKit          3D\\n\\n 22 25  0  0  1  0  0  0  0  0999 V2000\\n    9.4392   -2.5893   15.0830 C   0  0  0  0  0  0  0  0  0  0  0  0\\n    9.2705   -1.6939   16.1512 C   0  0  0  0  0  0  0  0  0  0  0  0\\n    8.9800   -0.3683   15.8541 C   0  0  0  0  0  0  0  0  0  0  0  0\\n    8.7590    0.7841   17.1436 Cl  0  0  0  0  0  0  0  0  0  0  0  0\\n    8.8082    0.1103   14.5491 C   0  0  0  0  0  0  0  0  0  0  0  0\\n    8.9739   -0.7977   13.4881 C   0  0  0  0  0  0  0  0  0  0  0  0\\n    9.2672   -2.1257   13.7698 C   0  0  0  0  0  0  0  0  0  0  0  0\\n    9.4097   -2.9165   12.6393 N   0  0  0  0  0  0  0  0  0  0  0  0\\n    8.7179   -2.9553   11.4691 C   0  0  0  0  0  0  0  0  0  0  0  0\\n    7.4762   -2.1366   11.0682 C   0  0  0  0  0  0  0  0  0  0  0  0\\n    9.2467   -3.8867   10.6724 N   0  0  0  0  0  0  0  0  0  0  0  0\\n   10.2592   -4.4105   11.2623 N   0  0  0  0  0  0  0  0  0  0  0  0\\n   10.3729   -3.8322   12.4800 C   0  0  0  0  0  0  0  0  0  0  0  0\\n   11.3515   -4.2008   13.5512 C   0  0  0  0  0  0  0  0  0  0  0  0\\n   10.5038   -4.7297   14.6535 N   0  0  0  0  0  0  0  0  0  0  0  0\\n    9.7414   -3.9403   15.4422 C   0  0  0  0  0  0  0  0  0  0  0  0\\n    8.9840   -4.6321   16.4581 C   0  0  0  0  0  0  0  0  0  0  0  0\\n    7.7535   -4.1481   16.8940 C   0  0  0  0  0  0  0  0  0  0  0  0\\n    6.9757   -4.8465   17.8191 C   0  0  0  0  0  0  0  0  0  0  0  0\\n    7.4232   -6.0399   18.3796 C   0  0  0  0  0  0  0  0  0  0  0  0\\n    8.6505   -6.5153   17.9618 C   0  0  0  0  0  0  0  0  0  0  0  0\\n    9.4168   -5.8219   17.0296 C   0  0  0  0  0  0  0  0  0  0  0  0\\n  1  2  2  0\\n  1  7  1  0\\n  1 16  1  0\\n  2  3  1  0\\n  3  4  1  0\\n  3  5  2  0\\n  5  6  1  0\\n  6  7  2  0\\n  7  8  1  0\\n  8  9  1  0\\n  8 13  1  0\\n  9 10  1  0\\n  9 11  2  0\\n 11 12  1  0\\n 12 13  2  0\\n 13 14  1  0\\n 14 15  1  0\\n 15 16  1  0\\n 16 17  1  0\\n 17 18  2  0\\n 17 22  1  0\\n 18 19  1  0\\n 19 20  2  0\\n 20 21  1  0\\n 21 22  2  0\\nM  END\\n\",\"sdf\");\n",
       "\tviewer_1631613748459071.setStyle({\"model\": 0},{\"stick\": {\"colorscheme\": \"lightgreyCarbon\"}});\n",
       "\tviewer_1631613748459071.setStyle({\"model\": 1},{\"stick\": {\"colorscheme\": \"redCarbon\"}});\n",
       "\tviewer_1631613748459071.setStyle({\"model\": 2},{\"stick\": {\"colorscheme\": \"greyCarbon\"}});\n",
       "\tviewer_1631613748459071.zoomTo();\n",
       "viewer_1631613748459071.render();\n",
       "});\n",
       "</script>"
      ]
     },
     "metadata": {},
     "output_type": "display_data"
    },
    {
     "data": {
      "text/plain": [
       "<py3Dmol.view at 0x7f1daa4209b0>"
      ]
     },
     "execution_count": 19,
     "metadata": {},
     "output_type": "execute_result"
    }
   ],
   "source": [
    "molid = 4\n",
    "als = AlignShow([mols[molid], mkmols[molid]], [pcds[molid], mkpcds[molid]])\n",
    "s = als.align(1, 0)\n",
    "print(\"Score:\", s)\n",
    "als.save(1, 0, f\"murcko_self_{molid}.sdf\")\n",
    "als.show(1, 0)"
   ]
  },
  {
   "cell_type": "code",
   "execution_count": 20,
   "metadata": {},
   "outputs": [
    {
     "data": {
      "application/3dmoljs_load.v0": "<div id=\"3dmolviewer_1631613748700465\"  style=\"position: relative; width: 640px; height: 480px\">\n        <p id=\"3dmolwarning_1631613748700465\" style=\"background-color:#ffcccc;color:black\">You appear to be running in JupyterLab (or JavaScript failed to load for some other reason).  You need to install the 3dmol extension: <br>\n        <tt>jupyter labextension install jupyterlab_3dmol</tt></p>\n        </div>\n<script>\n\nvar loadScriptAsync = function(uri){\n  return new Promise((resolve, reject) => {\n    var tag = document.createElement('script');\n    tag.src = uri;\n    tag.async = true;\n    tag.onload = () => {\n      resolve();\n    };\n  var firstScriptTag = document.getElementsByTagName('script')[0];\n  firstScriptTag.parentNode.insertBefore(tag, firstScriptTag);\n});\n};\n\nif(typeof $3Dmolpromise === 'undefined') {\n$3Dmolpromise = null;\n  $3Dmolpromise = loadScriptAsync('https://3dmol.org/build/3Dmol.js');\n}\n\nvar viewer_1631613748700465 = null;\nvar warn = document.getElementById(\"3dmolwarning_1631613748700465\");\nif(warn) {\n    warn.parentNode.removeChild(warn);\n}\n$3Dmolpromise.then(function() {\nviewer_1631613748700465 = $3Dmol.createViewer($(\"#3dmolviewer_1631613748700465\"),{backgroundColor:\"white\"});\nviewer_1631613748700465.zoomTo();\n\tviewer_1631613748700465.addModel(\"\\n     RDKit          3D\\n\\n 22 25  0  0  0  0  0  0  0  0999 V2000\\n    8.7590    0.7841   17.1436 Cl  0  0  0  0  0  1  0  0  0  0  0  0\\n    7.4762   -2.1366   11.0682 C   0  0  0  0  0  5  0  0  0  0  0  0\\n    9.4577   -2.6084   15.0220 C   0  0  0  0  0  0  0  0  0  0  0  0\\n    9.2804   -1.7055   16.0824 C   0  0  0  0  0  0  0  0  0  0  0  0\\n    8.9699   -0.3870   15.7740 C   0  0  0  0  0  0  0  0  0  0  0  0\\n    8.7862    0.0768   14.4653 C   0  0  0  0  0  0  0  0  0  0  0  0\\n    8.9607   -0.8387   13.4122 C   0  0  0  0  0  0  0  0  0  0  0  0\\n    9.2740   -2.1597   13.7052 C   0  0  0  0  0  0  0  0  0  0  0  0\\n    9.4234   -2.9590   12.5815 N   0  0  0  0  0  0  0  0  0  0  0  0\\n    8.7277   -3.0187   11.4145 C   0  0  0  0  0  0  0  0  0  0  0  0\\n    9.2667   -3.9499   10.6245 N   0  0  0  0  0  0  0  0  0  0  0  0\\n   10.2888   -4.4537   11.2151 N   0  0  0  0  0  0  0  0  0  0  0  0\\n   10.3989   -3.8623   12.4270 C   0  0  0  0  0  0  0  0  0  0  0  0\\n   11.3868   -4.2069   13.4976 C   0  0  0  0  0  0  0  0  0  0  0  0\\n   10.5510   -4.7374   14.6082 N   0  0  0  0  0  0  0  0  0  0  0  0\\n    9.7805   -3.9516   15.3926 C   0  0  0  0  0  0  0  0  0  0  0  0\\n    9.0369   -4.6444   16.4179 C   0  0  0  0  0  0  0  0  0  0  0  0\\n    7.8015   -4.1738   16.8542 C   0  0  0  0  0  0  0  0  0  0  0  0\\n    7.0372   -4.8745   17.7889 C   0  0  0  0  0  0  0  0  0  0  0  0\\n    7.5038   -6.0561   18.3588 C   0  0  0  0  0  0  0  0  0  0  0  0\\n    8.7362   -6.5179   17.9405 C   0  0  0  0  0  0  0  0  0  0  0  0\\n    9.4889   -5.8226   16.9987 C   0  0  0  0  0  0  0  0  0  0  0  0\\n  3  4  2  0\\n  3  8  1  0\\n  3 16  1  0\\n  4  5  1  0\\n  5  6  2  0\\n  6  7  1  0\\n  7  8  2  0\\n  8  9  1  0\\n  9 10  1  0\\n  9 13  1  0\\n 10 11  2  0\\n 11 12  1  0\\n 12 13  2  0\\n 13 14  1  0\\n 14 15  1  0\\n 15 16  1  0\\n 16 17  1  0\\n 17 18  2  0\\n 17 22  1  0\\n 18 19  1  0\\n 19 20  2  0\\n 20 21  1  0\\n 21 22  2  0\\n  2 10  1  0\\n  1  5  1  0\\nM  RAD  1   1   2\\nM  END\\n\",\"sdf\");\n\tviewer_1631613748700465.setStyle({\"model\": 0},{\"stick\": {\"colorscheme\": \"lightgreyCarbon\"}});\n\tviewer_1631613748700465.zoomTo();\nviewer_1631613748700465.render();\n});\n</script>",
      "text/html": [
       "<div id=\"3dmolviewer_1631613748700465\"  style=\"position: relative; width: 640px; height: 480px\">\n",
       "        <p id=\"3dmolwarning_1631613748700465\" style=\"background-color:#ffcccc;color:black\">You appear to be running in JupyterLab (or JavaScript failed to load for some other reason).  You need to install the 3dmol extension: <br>\n",
       "        <tt>jupyter labextension install jupyterlab_3dmol</tt></p>\n",
       "        </div>\n",
       "<script>\n",
       "\n",
       "var loadScriptAsync = function(uri){\n",
       "  return new Promise((resolve, reject) => {\n",
       "    var tag = document.createElement('script');\n",
       "    tag.src = uri;\n",
       "    tag.async = true;\n",
       "    tag.onload = () => {\n",
       "      resolve();\n",
       "    };\n",
       "  var firstScriptTag = document.getElementsByTagName('script')[0];\n",
       "  firstScriptTag.parentNode.insertBefore(tag, firstScriptTag);\n",
       "});\n",
       "};\n",
       "\n",
       "if(typeof $3Dmolpromise === 'undefined') {\n",
       "$3Dmolpromise = null;\n",
       "  $3Dmolpromise = loadScriptAsync('https://3dmol.org/build/3Dmol.js');\n",
       "}\n",
       "\n",
       "var viewer_1631613748700465 = null;\n",
       "var warn = document.getElementById(\"3dmolwarning_1631613748700465\");\n",
       "if(warn) {\n",
       "    warn.parentNode.removeChild(warn);\n",
       "}\n",
       "$3Dmolpromise.then(function() {\n",
       "viewer_1631613748700465 = $3Dmol.createViewer($(\"#3dmolviewer_1631613748700465\"),{backgroundColor:\"white\"});\n",
       "viewer_1631613748700465.zoomTo();\n",
       "\tviewer_1631613748700465.addModel(\"\\n     RDKit          3D\\n\\n 22 25  0  0  0  0  0  0  0  0999 V2000\\n    8.7590    0.7841   17.1436 Cl  0  0  0  0  0  1  0  0  0  0  0  0\\n    7.4762   -2.1366   11.0682 C   0  0  0  0  0  5  0  0  0  0  0  0\\n    9.4577   -2.6084   15.0220 C   0  0  0  0  0  0  0  0  0  0  0  0\\n    9.2804   -1.7055   16.0824 C   0  0  0  0  0  0  0  0  0  0  0  0\\n    8.9699   -0.3870   15.7740 C   0  0  0  0  0  0  0  0  0  0  0  0\\n    8.7862    0.0768   14.4653 C   0  0  0  0  0  0  0  0  0  0  0  0\\n    8.9607   -0.8387   13.4122 C   0  0  0  0  0  0  0  0  0  0  0  0\\n    9.2740   -2.1597   13.7052 C   0  0  0  0  0  0  0  0  0  0  0  0\\n    9.4234   -2.9590   12.5815 N   0  0  0  0  0  0  0  0  0  0  0  0\\n    8.7277   -3.0187   11.4145 C   0  0  0  0  0  0  0  0  0  0  0  0\\n    9.2667   -3.9499   10.6245 N   0  0  0  0  0  0  0  0  0  0  0  0\\n   10.2888   -4.4537   11.2151 N   0  0  0  0  0  0  0  0  0  0  0  0\\n   10.3989   -3.8623   12.4270 C   0  0  0  0  0  0  0  0  0  0  0  0\\n   11.3868   -4.2069   13.4976 C   0  0  0  0  0  0  0  0  0  0  0  0\\n   10.5510   -4.7374   14.6082 N   0  0  0  0  0  0  0  0  0  0  0  0\\n    9.7805   -3.9516   15.3926 C   0  0  0  0  0  0  0  0  0  0  0  0\\n    9.0369   -4.6444   16.4179 C   0  0  0  0  0  0  0  0  0  0  0  0\\n    7.8015   -4.1738   16.8542 C   0  0  0  0  0  0  0  0  0  0  0  0\\n    7.0372   -4.8745   17.7889 C   0  0  0  0  0  0  0  0  0  0  0  0\\n    7.5038   -6.0561   18.3588 C   0  0  0  0  0  0  0  0  0  0  0  0\\n    8.7362   -6.5179   17.9405 C   0  0  0  0  0  0  0  0  0  0  0  0\\n    9.4889   -5.8226   16.9987 C   0  0  0  0  0  0  0  0  0  0  0  0\\n  3  4  2  0\\n  3  8  1  0\\n  3 16  1  0\\n  4  5  1  0\\n  5  6  2  0\\n  6  7  1  0\\n  7  8  2  0\\n  8  9  1  0\\n  9 10  1  0\\n  9 13  1  0\\n 10 11  2  0\\n 11 12  1  0\\n 12 13  2  0\\n 13 14  1  0\\n 14 15  1  0\\n 15 16  1  0\\n 16 17  1  0\\n 17 18  2  0\\n 17 22  1  0\\n 18 19  1  0\\n 19 20  2  0\\n 20 21  1  0\\n 21 22  2  0\\n  2 10  1  0\\n  1  5  1  0\\nM  RAD  1   1   2\\nM  END\\n\",\"sdf\");\n",
       "\tviewer_1631613748700465.setStyle({\"model\": 0},{\"stick\": {\"colorscheme\": \"lightgreyCarbon\"}});\n",
       "\tviewer_1631613748700465.zoomTo();\n",
       "viewer_1631613748700465.render();\n",
       "});\n",
       "</script>"
      ]
     },
     "metadata": {},
     "output_type": "display_data"
    }
   ],
   "source": [
    "rdmol4 = reconstruction(\"murcko_self_4.sdf\")\n",
    "show_all_conformers(rdmol4)"
   ]
  },
  {
   "cell_type": "code",
   "execution_count": 21,
   "metadata": {},
   "outputs": [
    {
     "name": "stdout",
     "output_type": "stream",
     "text": [
      "Score: 0.9153225806451613\n"
     ]
    },
    {
     "data": {
      "application/3dmoljs_load.v0": "<div id=\"3dmolviewer_16316137490644488\"  style=\"position: relative; width: 640px; height: 480px\">\n        <p id=\"3dmolwarning_16316137490644488\" style=\"background-color:#ffcccc;color:black\">You appear to be running in JupyterLab (or JavaScript failed to load for some other reason).  You need to install the 3dmol extension: <br>\n        <tt>jupyter labextension install jupyterlab_3dmol</tt></p>\n        </div>\n<script>\n\nvar loadScriptAsync = function(uri){\n  return new Promise((resolve, reject) => {\n    var tag = document.createElement('script');\n    tag.src = uri;\n    tag.async = true;\n    tag.onload = () => {\n      resolve();\n    };\n  var firstScriptTag = document.getElementsByTagName('script')[0];\n  firstScriptTag.parentNode.insertBefore(tag, firstScriptTag);\n});\n};\n\nif(typeof $3Dmolpromise === 'undefined') {\n$3Dmolpromise = null;\n  $3Dmolpromise = loadScriptAsync('https://3dmol.org/build/3Dmol.js');\n}\n\nvar viewer_16316137490644488 = null;\nvar warn = document.getElementById(\"3dmolwarning_16316137490644488\");\nif(warn) {\n    warn.parentNode.removeChild(warn);\n}\n$3Dmolpromise.then(function() {\nviewer_16316137490644488 = $3Dmol.createViewer($(\"#3dmolviewer_16316137490644488\"),{backgroundColor:\"white\"});\nviewer_16316137490644488.zoomTo();\n\tviewer_16316137490644488.addModel(\"BRD4, Ligand 6\\n     RDKit          3D\\n\\n 17 19  0  0  0  0  0  0  0  0999 V2000\\n    7.5563   15.3201   16.9191 C   0  0  0  0  0  0  0  0  0  0  0  0\\n    6.8144   14.7311   15.9154 C   0  0  0  0  0  0  0  0  0  0  0  0\\n    5.9840   15.5301   15.1352 C   0  0  0  0  0  0  0  0  0  0  0  0\\n    5.0145   19.1267   14.8744 N   0  0  0  0  0  0  0  0  0  0  0  0\\n    5.8670   16.9028   15.3644 C   0  0  0  0  0  0  0  0  0  0  0  0\\n    6.5820   18.8857   16.6925 N   0  0  0  0  0  0  0  0  0  0  0  0\\n    4.9907   17.7279   14.5226 C   0  0  0  0  0  0  0  0  0  0  0  0\\n    5.7979   19.6329   15.9052 C   0  0  0  0  0  0  0  0  0  0  0  0\\n    4.2558   17.3757   13.5886 O   0  0  0  0  0  0  0  0  0  0  0  0\\n    5.6865   21.1172   16.2086 C   0  0  0  0  0  0  0  0  0  0  0  0\\n    4.6259   21.8230   15.6517 C   0  0  0  0  0  0  0  0  0  0  0  0\\n    4.3931   23.1571   16.0072 C   0  0  0  0  0  0  0  0  0  0  0  0\\n    5.2102   23.7470   16.9306 C   0  0  0  0  0  0  0  0  0  0  0  0\\n    6.3022   23.0779   17.5303 C   0  0  0  0  0  0  0  0  0  0  0  0\\n    6.5593   21.7383   17.1493 C   0  0  0  0  0  0  0  0  0  0  0  0\\n    6.6030   17.4998   16.4038 C   0  0  0  0  0  0  0  0  0  0  0  0\\n    7.4554   16.7120   17.2113 C   0  0  0  0  0  0  0  0  0  0  0  0\\n  1  2  2  0\\n  1 17  1  0\\n  2  3  1  0\\n  3  5  2  0\\n  4  7  1  0\\n  4  8  1  0\\n  5  7  1  0\\n  5 16  1  0\\n  6  8  2  0\\n  6 16  1  0\\n  7  9  2  0\\n  8 10  1  0\\n 10 11  2  0\\n 10 15  1  0\\n 11 12  1  0\\n 12 13  2  0\\n 13 14  1  0\\n 14 15  2  0\\n 16 17  2  0\\nM  END\\n\",\"sdf\");\n\tviewer_16316137490644488.addModel(\"BRD4, Ligand 6\\n     RDKit          3D\\n\\n 17 19  0  0  0  0  0  0  0  0999 V2000\\n   17.3065    5.9798   14.8627 C   0  0  0  0  0  0  0  0  0  0  0  0\\n   16.5002    5.9126   13.7446 C   0  0  0  0  0  0  0  0  0  0  0  0\\n   17.0177    6.3142   12.5168 C   0  0  0  0  0  0  0  0  0  0  0  0\\n   20.2169    7.6667   11.1457 N   0  0  0  0  0  0  0  0  0  0  0  0\\n   18.3195    6.8062   12.3997 C   0  0  0  0  0  0  0  0  0  0  0  0\\n   20.4760    7.3488   13.5232 N   0  0  0  0  0  0  0  0  0  0  0  0\\n   18.8475    7.2162   11.0918 C   0  0  0  0  0  0  0  0  0  0  0  0\\n   20.9555    7.6987   12.3230 C   0  0  0  0  0  0  0  0  0  0  0  0\\n   18.2742    7.2285    9.9929 O   0  0  0  0  0  0  0  0  0  0  0  0\\n   22.3695    8.2491   12.2506 C   0  0  0  0  0  0  0  0  0  0  0  0\\n   22.7462    8.9419   11.1055 C   0  0  0  0  0  0  0  0  0  0  0  0\\n   23.9857    9.5898   11.0401 C   0  0  0  0  0  0  0  0  0  0  0  0\\n   24.8092    9.5519   12.1304 C   0  0  0  0  0  0  0  0  0  0  0  0\\n   24.4781    8.8643   13.3209 C   0  0  0  0  0  0  0  0  0  0  0  0\\n   23.2386    8.1817   13.3787 C   0  0  0  0  0  0  0  0  0  0  0  0\\n   19.1335    6.8994   13.5430 C   0  0  0  0  0  0  0  0  0  0  0  0\\n   18.6338    6.4972   14.8031 C   0  0  0  0  0  0  0  0  0  0  0  0\\n  1  2  2  0\\n  1 17  1  0\\n  2  3  1  0\\n  3  5  2  0\\n  4  7  1  0\\n  4  8  1  0\\n  5  7  1  0\\n  5 16  1  0\\n  6  8  2  0\\n  6 16  1  0\\n  7  9  2  0\\n  8 10  1  0\\n 10 11  2  0\\n 10 15  1  0\\n 11 12  1  0\\n 12 13  2  0\\n 13 14  1  0\\n 14 15  2  0\\n 16 17  2  0\\nM  END\\n\",\"sdf\");\n\tviewer_16316137490644488.addModel(\"BRD4, Ligand 6\\n     RDKit          3D\\n\\n 27 29  0  0  0  0  0  0  0  0999 V2000\\n   16.7765    5.5289   16.0307 O   0  0  0  0  0  0  0  0  0  0  0  0\\n   17.6836    5.5423   17.1531 C   0  0  0  0  0  0  0  0  0  0  0  0\\n   17.3007    5.9940   14.8187 C   0  0  0  0  0  0  0  0  0  0  0  0\\n   16.5095    5.9371   13.6894 C   0  0  0  0  0  0  0  0  0  0  0  0\\n   17.0446    6.3465   12.4717 C   0  0  0  0  0  0  0  0  0  0  0  0\\n   20.2652    7.7013   11.1542 N   0  0  0  0  0  0  0  0  0  0  0  0\\n   14.9938    5.5240   11.3175 C   0  0  0  0  0  0  0  0  0  0  0  0\\n   16.2779    6.2846   11.3259 O   0  0  0  0  0  0  0  0  0  0  0  0\\n   18.3490    6.8362   12.3759 C   0  0  0  0  0  0  0  0  0  0  0  0\\n   26.0071   10.3342   12.1903 O   0  0  0  0  0  0  0  0  0  0  0  0\\n   20.4913    7.3653   13.5326 N   0  0  0  0  0  0  0  0  0  0  0  0\\n   18.8957    7.2546   11.0784 C   0  0  0  0  0  0  0  0  0  0  0  0\\n   20.9878    7.7229   12.3416 C   0  0  0  0  0  0  0  0  0  0  0  0\\n   27.7130   12.7129   12.2120 O   0  0  0  0  0  0  0  0  0  0  0  0\\n   18.3374    7.2764    9.9719 O   0  0  0  0  0  0  0  0  0  0  0  0\\n   22.4040    8.2703   12.2924 C   0  0  0  0  0  0  0  0  0  0  0  0\\n   22.7978    8.9707   11.1578 C   0  0  0  0  0  0  0  0  0  0  0  0\\n   24.0396    9.6160   11.1140 C   0  0  0  0  0  0  0  0  0  0  0  0\\n   24.4214   10.3798    9.8650 C   0  0  0  0  0  0  0  0  0  0  0  0\\n   24.8482    9.5680   12.2150 C   0  0  0  0  0  0  0  0  0  0  0  0\\n   25.7627   11.6101   12.8237 C   0  0  0  0  0  0  0  0  0  0  0  0\\n   26.3567   12.6513   11.8383 C   0  0  0  0  0  0  0  0  0  0  0  0\\n   24.4993    8.8725   13.3959 C   0  0  0  0  0  0  0  0  0  0  0  0\\n   25.3965    8.9074   14.6114 C   0  0  0  0  0  0  0  0  0  0  0  0\\n   23.2575    8.1924   13.4317 C   0  0  0  0  0  0  0  0  0  0  0  0\\n   19.1477    6.9189   13.5308 C   0  0  0  0  0  0  0  0  0  0  0  0\\n   18.6299    6.5086   14.7809 C   0  0  0  0  0  0  0  0  0  0  0  0\\n  1  2  1  0\\n  1  3  1  0\\n  3  4  2  0\\n  3 27  1  0\\n  4  5  1  0\\n  5  8  1  0\\n  5  9  2  0\\n  6 12  1  0\\n  6 13  1  0\\n  7  8  1  0\\n  9 12  1  0\\n  9 26  1  0\\n 10 20  1  0\\n 10 21  1  0\\n 11 13  2  0\\n 11 26  1  0\\n 12 15  2  0\\n 13 16  1  0\\n 14 22  1  0\\n 16 17  2  0\\n 16 25  1  0\\n 17 18  1  0\\n 18 19  1  0\\n 18 20  2  0\\n 20 23  1  0\\n 21 22  1  0\\n 23 24  1  0\\n 23 25  2  0\\n 26 27  2  0\\nM  END\\n\",\"sdf\");\n\tviewer_16316137490644488.setStyle({\"model\": 0},{\"stick\": {\"colorscheme\": \"lightgreyCarbon\"}});\n\tviewer_16316137490644488.setStyle({\"model\": 1},{\"stick\": {\"colorscheme\": \"redCarbon\"}});\n\tviewer_16316137490644488.setStyle({\"model\": 2},{\"stick\": {\"colorscheme\": \"greyCarbon\"}});\n\tviewer_16316137490644488.zoomTo();\nviewer_16316137490644488.render();\n});\n</script>",
      "text/html": [
       "<div id=\"3dmolviewer_16316137490644488\"  style=\"position: relative; width: 640px; height: 480px\">\n",
       "        <p id=\"3dmolwarning_16316137490644488\" style=\"background-color:#ffcccc;color:black\">You appear to be running in JupyterLab (or JavaScript failed to load for some other reason).  You need to install the 3dmol extension: <br>\n",
       "        <tt>jupyter labextension install jupyterlab_3dmol</tt></p>\n",
       "        </div>\n",
       "<script>\n",
       "\n",
       "var loadScriptAsync = function(uri){\n",
       "  return new Promise((resolve, reject) => {\n",
       "    var tag = document.createElement('script');\n",
       "    tag.src = uri;\n",
       "    tag.async = true;\n",
       "    tag.onload = () => {\n",
       "      resolve();\n",
       "    };\n",
       "  var firstScriptTag = document.getElementsByTagName('script')[0];\n",
       "  firstScriptTag.parentNode.insertBefore(tag, firstScriptTag);\n",
       "});\n",
       "};\n",
       "\n",
       "if(typeof $3Dmolpromise === 'undefined') {\n",
       "$3Dmolpromise = null;\n",
       "  $3Dmolpromise = loadScriptAsync('https://3dmol.org/build/3Dmol.js');\n",
       "}\n",
       "\n",
       "var viewer_16316137490644488 = null;\n",
       "var warn = document.getElementById(\"3dmolwarning_16316137490644488\");\n",
       "if(warn) {\n",
       "    warn.parentNode.removeChild(warn);\n",
       "}\n",
       "$3Dmolpromise.then(function() {\n",
       "viewer_16316137490644488 = $3Dmol.createViewer($(\"#3dmolviewer_16316137490644488\"),{backgroundColor:\"white\"});\n",
       "viewer_16316137490644488.zoomTo();\n",
       "\tviewer_16316137490644488.addModel(\"BRD4, Ligand 6\\n     RDKit          3D\\n\\n 17 19  0  0  0  0  0  0  0  0999 V2000\\n    7.5563   15.3201   16.9191 C   0  0  0  0  0  0  0  0  0  0  0  0\\n    6.8144   14.7311   15.9154 C   0  0  0  0  0  0  0  0  0  0  0  0\\n    5.9840   15.5301   15.1352 C   0  0  0  0  0  0  0  0  0  0  0  0\\n    5.0145   19.1267   14.8744 N   0  0  0  0  0  0  0  0  0  0  0  0\\n    5.8670   16.9028   15.3644 C   0  0  0  0  0  0  0  0  0  0  0  0\\n    6.5820   18.8857   16.6925 N   0  0  0  0  0  0  0  0  0  0  0  0\\n    4.9907   17.7279   14.5226 C   0  0  0  0  0  0  0  0  0  0  0  0\\n    5.7979   19.6329   15.9052 C   0  0  0  0  0  0  0  0  0  0  0  0\\n    4.2558   17.3757   13.5886 O   0  0  0  0  0  0  0  0  0  0  0  0\\n    5.6865   21.1172   16.2086 C   0  0  0  0  0  0  0  0  0  0  0  0\\n    4.6259   21.8230   15.6517 C   0  0  0  0  0  0  0  0  0  0  0  0\\n    4.3931   23.1571   16.0072 C   0  0  0  0  0  0  0  0  0  0  0  0\\n    5.2102   23.7470   16.9306 C   0  0  0  0  0  0  0  0  0  0  0  0\\n    6.3022   23.0779   17.5303 C   0  0  0  0  0  0  0  0  0  0  0  0\\n    6.5593   21.7383   17.1493 C   0  0  0  0  0  0  0  0  0  0  0  0\\n    6.6030   17.4998   16.4038 C   0  0  0  0  0  0  0  0  0  0  0  0\\n    7.4554   16.7120   17.2113 C   0  0  0  0  0  0  0  0  0  0  0  0\\n  1  2  2  0\\n  1 17  1  0\\n  2  3  1  0\\n  3  5  2  0\\n  4  7  1  0\\n  4  8  1  0\\n  5  7  1  0\\n  5 16  1  0\\n  6  8  2  0\\n  6 16  1  0\\n  7  9  2  0\\n  8 10  1  0\\n 10 11  2  0\\n 10 15  1  0\\n 11 12  1  0\\n 12 13  2  0\\n 13 14  1  0\\n 14 15  2  0\\n 16 17  2  0\\nM  END\\n\",\"sdf\");\n",
       "\tviewer_16316137490644488.addModel(\"BRD4, Ligand 6\\n     RDKit          3D\\n\\n 17 19  0  0  0  0  0  0  0  0999 V2000\\n   17.3065    5.9798   14.8627 C   0  0  0  0  0  0  0  0  0  0  0  0\\n   16.5002    5.9126   13.7446 C   0  0  0  0  0  0  0  0  0  0  0  0\\n   17.0177    6.3142   12.5168 C   0  0  0  0  0  0  0  0  0  0  0  0\\n   20.2169    7.6667   11.1457 N   0  0  0  0  0  0  0  0  0  0  0  0\\n   18.3195    6.8062   12.3997 C   0  0  0  0  0  0  0  0  0  0  0  0\\n   20.4760    7.3488   13.5232 N   0  0  0  0  0  0  0  0  0  0  0  0\\n   18.8475    7.2162   11.0918 C   0  0  0  0  0  0  0  0  0  0  0  0\\n   20.9555    7.6987   12.3230 C   0  0  0  0  0  0  0  0  0  0  0  0\\n   18.2742    7.2285    9.9929 O   0  0  0  0  0  0  0  0  0  0  0  0\\n   22.3695    8.2491   12.2506 C   0  0  0  0  0  0  0  0  0  0  0  0\\n   22.7462    8.9419   11.1055 C   0  0  0  0  0  0  0  0  0  0  0  0\\n   23.9857    9.5898   11.0401 C   0  0  0  0  0  0  0  0  0  0  0  0\\n   24.8092    9.5519   12.1304 C   0  0  0  0  0  0  0  0  0  0  0  0\\n   24.4781    8.8643   13.3209 C   0  0  0  0  0  0  0  0  0  0  0  0\\n   23.2386    8.1817   13.3787 C   0  0  0  0  0  0  0  0  0  0  0  0\\n   19.1335    6.8994   13.5430 C   0  0  0  0  0  0  0  0  0  0  0  0\\n   18.6338    6.4972   14.8031 C   0  0  0  0  0  0  0  0  0  0  0  0\\n  1  2  2  0\\n  1 17  1  0\\n  2  3  1  0\\n  3  5  2  0\\n  4  7  1  0\\n  4  8  1  0\\n  5  7  1  0\\n  5 16  1  0\\n  6  8  2  0\\n  6 16  1  0\\n  7  9  2  0\\n  8 10  1  0\\n 10 11  2  0\\n 10 15  1  0\\n 11 12  1  0\\n 12 13  2  0\\n 13 14  1  0\\n 14 15  2  0\\n 16 17  2  0\\nM  END\\n\",\"sdf\");\n",
       "\tviewer_16316137490644488.addModel(\"BRD4, Ligand 6\\n     RDKit          3D\\n\\n 27 29  0  0  0  0  0  0  0  0999 V2000\\n   16.7765    5.5289   16.0307 O   0  0  0  0  0  0  0  0  0  0  0  0\\n   17.6836    5.5423   17.1531 C   0  0  0  0  0  0  0  0  0  0  0  0\\n   17.3007    5.9940   14.8187 C   0  0  0  0  0  0  0  0  0  0  0  0\\n   16.5095    5.9371   13.6894 C   0  0  0  0  0  0  0  0  0  0  0  0\\n   17.0446    6.3465   12.4717 C   0  0  0  0  0  0  0  0  0  0  0  0\\n   20.2652    7.7013   11.1542 N   0  0  0  0  0  0  0  0  0  0  0  0\\n   14.9938    5.5240   11.3175 C   0  0  0  0  0  0  0  0  0  0  0  0\\n   16.2779    6.2846   11.3259 O   0  0  0  0  0  0  0  0  0  0  0  0\\n   18.3490    6.8362   12.3759 C   0  0  0  0  0  0  0  0  0  0  0  0\\n   26.0071   10.3342   12.1903 O   0  0  0  0  0  0  0  0  0  0  0  0\\n   20.4913    7.3653   13.5326 N   0  0  0  0  0  0  0  0  0  0  0  0\\n   18.8957    7.2546   11.0784 C   0  0  0  0  0  0  0  0  0  0  0  0\\n   20.9878    7.7229   12.3416 C   0  0  0  0  0  0  0  0  0  0  0  0\\n   27.7130   12.7129   12.2120 O   0  0  0  0  0  0  0  0  0  0  0  0\\n   18.3374    7.2764    9.9719 O   0  0  0  0  0  0  0  0  0  0  0  0\\n   22.4040    8.2703   12.2924 C   0  0  0  0  0  0  0  0  0  0  0  0\\n   22.7978    8.9707   11.1578 C   0  0  0  0  0  0  0  0  0  0  0  0\\n   24.0396    9.6160   11.1140 C   0  0  0  0  0  0  0  0  0  0  0  0\\n   24.4214   10.3798    9.8650 C   0  0  0  0  0  0  0  0  0  0  0  0\\n   24.8482    9.5680   12.2150 C   0  0  0  0  0  0  0  0  0  0  0  0\\n   25.7627   11.6101   12.8237 C   0  0  0  0  0  0  0  0  0  0  0  0\\n   26.3567   12.6513   11.8383 C   0  0  0  0  0  0  0  0  0  0  0  0\\n   24.4993    8.8725   13.3959 C   0  0  0  0  0  0  0  0  0  0  0  0\\n   25.3965    8.9074   14.6114 C   0  0  0  0  0  0  0  0  0  0  0  0\\n   23.2575    8.1924   13.4317 C   0  0  0  0  0  0  0  0  0  0  0  0\\n   19.1477    6.9189   13.5308 C   0  0  0  0  0  0  0  0  0  0  0  0\\n   18.6299    6.5086   14.7809 C   0  0  0  0  0  0  0  0  0  0  0  0\\n  1  2  1  0\\n  1  3  1  0\\n  3  4  2  0\\n  3 27  1  0\\n  4  5  1  0\\n  5  8  1  0\\n  5  9  2  0\\n  6 12  1  0\\n  6 13  1  0\\n  7  8  1  0\\n  9 12  1  0\\n  9 26  1  0\\n 10 20  1  0\\n 10 21  1  0\\n 11 13  2  0\\n 11 26  1  0\\n 12 15  2  0\\n 13 16  1  0\\n 14 22  1  0\\n 16 17  2  0\\n 16 25  1  0\\n 17 18  1  0\\n 18 19  1  0\\n 18 20  2  0\\n 20 23  1  0\\n 21 22  1  0\\n 23 24  1  0\\n 23 25  2  0\\n 26 27  2  0\\nM  END\\n\",\"sdf\");\n",
       "\tviewer_16316137490644488.setStyle({\"model\": 0},{\"stick\": {\"colorscheme\": \"lightgreyCarbon\"}});\n",
       "\tviewer_16316137490644488.setStyle({\"model\": 1},{\"stick\": {\"colorscheme\": \"redCarbon\"}});\n",
       "\tviewer_16316137490644488.setStyle({\"model\": 2},{\"stick\": {\"colorscheme\": \"greyCarbon\"}});\n",
       "\tviewer_16316137490644488.zoomTo();\n",
       "viewer_16316137490644488.render();\n",
       "});\n",
       "</script>"
      ]
     },
     "metadata": {},
     "output_type": "display_data"
    },
    {
     "data": {
      "text/plain": [
       "<py3Dmol.view at 0x7f1daa428630>"
      ]
     },
     "execution_count": 21,
     "metadata": {},
     "output_type": "execute_result"
    }
   ],
   "source": [
    "molid = 5\n",
    "als = AlignShow([mols[molid], mkmols[molid]], [pcds[molid], mkpcds[molid]])\n",
    "s = als.align(1, 0)\n",
    "print(\"Score:\", s)\n",
    "als.save(1, 0, f\"murcko_self_{molid}.sdf\")\n",
    "als.show(1, 0)"
   ]
  },
  {
   "cell_type": "code",
   "execution_count": 22,
   "metadata": {
    "scrolled": true
   },
   "outputs": [
    {
     "ename": "RuntimeError",
     "evalue": "Pre-condition Violation\n\tAtomic number not found\n\tViolation occurred on line 151 in file Code/GraphMol/PeriodicTable.h\n\tFailed Expression: atomicNumber < byanum.size()\n\tRDKIT: 2021.03.1\n\tBOOST: 1_65_1\n",
     "output_type": "error",
     "traceback": [
      "\u001b[0;31m---------------------------------------------------------------------------\u001b[0m",
      "\u001b[0;31mRuntimeError\u001b[0m                              Traceback (most recent call last)",
      "\u001b[0;32m<ipython-input-22-7b68fa8ba6a6>\u001b[0m in \u001b[0;36m<module>\u001b[0;34m\u001b[0m\n\u001b[0;32m----> 1\u001b[0;31m \u001b[0mrdmol5\u001b[0m \u001b[0;34m=\u001b[0m \u001b[0mreconstruction\u001b[0m\u001b[0;34m(\u001b[0m\u001b[0;34m\"murcko_self_5.sdf\"\u001b[0m\u001b[0;34m)\u001b[0m\u001b[0;34m\u001b[0m\u001b[0;34m\u001b[0m\u001b[0m\n\u001b[0m\u001b[1;32m      2\u001b[0m \u001b[0mshow_all_conformers\u001b[0m\u001b[0;34m(\u001b[0m\u001b[0mrdmol5\u001b[0m\u001b[0;34m)\u001b[0m\u001b[0;34m\u001b[0m\u001b[0;34m\u001b[0m\u001b[0m\n",
      "\u001b[0;32m<ipython-input-10-ef02c1abe8fa>\u001b[0m in \u001b[0;36mreconstruction\u001b[0;34m(fname, verbose)\u001b[0m\n\u001b[1;32m     23\u001b[0m     \u001b[0;31m# Fit atoms into density difference\u001b[0m\u001b[0;34m\u001b[0m\u001b[0;34m\u001b[0m\u001b[0;34m\u001b[0m\u001b[0m\n\u001b[1;32m     24\u001b[0m     \u001b[0;31m# Link nearest atom from the fit to the scaffold to build whole molecule\u001b[0m\u001b[0;34m\u001b[0m\u001b[0;34m\u001b[0m\u001b[0;34m\u001b[0m\u001b[0m\n\u001b[0;32m---> 25\u001b[0;31m     \u001b[0mrdmolfinal\u001b[0m \u001b[0;34m=\u001b[0m \u001b[0mmolgrid_diff_to_mol\u001b[0m\u001b[0;34m(\u001b[0m\u001b[0mnpgdiff\u001b[0m\u001b[0;34m,\u001b[0m \u001b[0mc\u001b[0m\u001b[0;34m,\u001b[0m \u001b[0;36m0.5\u001b[0m\u001b[0;34m,\u001b[0m \u001b[0;34m\"../files/ligmap\"\u001b[0m\u001b[0;34m,\u001b[0m \u001b[0mrdscaffold\u001b[0m\u001b[0;34m,\u001b[0m \u001b[0mverbose\u001b[0m\u001b[0;34m=\u001b[0m\u001b[0mverbose\u001b[0m\u001b[0;34m)\u001b[0m\u001b[0;34m\u001b[0m\u001b[0;34m\u001b[0m\u001b[0m\n\u001b[0m\u001b[1;32m     26\u001b[0m \u001b[0;34m\u001b[0m\u001b[0m\n\u001b[1;32m     27\u001b[0m     \u001b[0;32mreturn\u001b[0m \u001b[0mrdmolfinal\u001b[0m\u001b[0;34m\u001b[0m\u001b[0;34m\u001b[0m\u001b[0m\n",
      "\u001b[0;32m~/Documents/git/densitymatch/fit_to_grid.py\u001b[0m in \u001b[0;36mmolgrid_diff_to_mol\u001b[0;34m(diff, center, resolution, ligmap, scaffold, verbose)\u001b[0m\n\u001b[1;32m    207\u001b[0m     \"\"\"\n\u001b[1;32m    208\u001b[0m     \u001b[0;31m# Molecule (fragment) built by fitting atoms into the density difference\u001b[0m\u001b[0;34m\u001b[0m\u001b[0;34m\u001b[0m\u001b[0;34m\u001b[0m\u001b[0m\n\u001b[0;32m--> 209\u001b[0;31m     \u001b[0mrdmol\u001b[0m \u001b[0;34m=\u001b[0m \u001b[0mfit_atoms\u001b[0m\u001b[0;34m(\u001b[0m\u001b[0mdiff\u001b[0m\u001b[0;34m,\u001b[0m \u001b[0mcenter\u001b[0m\u001b[0;34m,\u001b[0m \u001b[0mresolution\u001b[0m\u001b[0;34m,\u001b[0m \u001b[0mligmap\u001b[0m\u001b[0;34m,\u001b[0m \u001b[0mverbose\u001b[0m\u001b[0;34m)\u001b[0m\u001b[0;34m\u001b[0m\u001b[0;34m\u001b[0m\u001b[0m\n\u001b[0m\u001b[1;32m    210\u001b[0m \u001b[0;34m\u001b[0m\u001b[0m\n\u001b[1;32m    211\u001b[0m     \u001b[0;32mif\u001b[0m \u001b[0mscaffold\u001b[0m \u001b[0;32mis\u001b[0m \u001b[0;32mnot\u001b[0m \u001b[0;32mNone\u001b[0m\u001b[0;34m:\u001b[0m\u001b[0;34m\u001b[0m\u001b[0;34m\u001b[0m\u001b[0m\n",
      "\u001b[0;32m~/Documents/git/densitymatch/fit_to_grid.py\u001b[0m in \u001b[0;36mfit_atoms\u001b[0;34m(diff, center, resolution, ligmap, verbose)\u001b[0m\n\u001b[1;32m    169\u001b[0m \u001b[0;34m\u001b[0m\u001b[0m\n\u001b[1;32m    170\u001b[0m     \u001b[0;31m# Reconstruct OpenBabel molecule from AtomStruct\u001b[0m\u001b[0;34m\u001b[0m\u001b[0;34m\u001b[0m\u001b[0;34m\u001b[0m\u001b[0m\n\u001b[0;32m--> 171\u001b[0;31m     \u001b[0mobmol\u001b[0m\u001b[0;34m,\u001b[0m \u001b[0mmismatches\u001b[0m\u001b[0;34m,\u001b[0m \u001b[0mvisited\u001b[0m \u001b[0;34m=\u001b[0m \u001b[0mfitting\u001b[0m\u001b[0;34m.\u001b[0m\u001b[0mmake_obmol\u001b[0m\u001b[0;34m(\u001b[0m\u001b[0masmol\u001b[0m\u001b[0;34m)\u001b[0m\u001b[0;34m\u001b[0m\u001b[0;34m\u001b[0m\u001b[0m\n\u001b[0m\u001b[1;32m    172\u001b[0m     \u001b[0;32mif\u001b[0m \u001b[0mverbose\u001b[0m\u001b[0;34m:\u001b[0m\u001b[0;34m\u001b[0m\u001b[0;34m\u001b[0m\u001b[0m\n\u001b[1;32m    173\u001b[0m         \u001b[0mobmol\u001b[0m\u001b[0;34m.\u001b[0m\u001b[0mwrite\u001b[0m\u001b[0;34m(\u001b[0m\u001b[0;34m\"sdf\"\u001b[0m\u001b[0;34m,\u001b[0m \u001b[0;34m\"obmol.sdf\"\u001b[0m\u001b[0;34m,\u001b[0m \u001b[0moverwrite\u001b[0m\u001b[0;34m=\u001b[0m\u001b[0;32mTrue\u001b[0m\u001b[0;34m)\u001b[0m\u001b[0;34m\u001b[0m\u001b[0;34m\u001b[0m\u001b[0m\n",
      "\u001b[0;32m~/Documents/git/ligan-EVOTEC/fitting.py\u001b[0m in \u001b[0;36mmake_obmol\u001b[0;34m(struct, verbose)\u001b[0m\n\u001b[1;32m    551\u001b[0m     \u001b[0mvisited_mols\u001b[0m\u001b[0;34m.\u001b[0m\u001b[0mappend\u001b[0m\u001b[0;34m(\u001b[0m\u001b[0mob\u001b[0m\u001b[0;34m.\u001b[0m\u001b[0mOBMol\u001b[0m\u001b[0;34m(\u001b[0m\u001b[0mmol\u001b[0m\u001b[0;34m)\u001b[0m\u001b[0;34m)\u001b[0m\u001b[0;34m\u001b[0m\u001b[0;34m\u001b[0m\u001b[0m\n\u001b[1;32m    552\u001b[0m \u001b[0;34m\u001b[0m\u001b[0m\n\u001b[0;32m--> 553\u001b[0;31m     \u001b[0mconnect_the_dots\u001b[0m\u001b[0;34m(\u001b[0m\u001b[0mmol\u001b[0m\u001b[0;34m,\u001b[0m \u001b[0matoms\u001b[0m\u001b[0;34m,\u001b[0m \u001b[0mstruct\u001b[0m\u001b[0;34m)\u001b[0m\u001b[0;34m\u001b[0m\u001b[0;34m\u001b[0m\u001b[0m\n\u001b[0m\u001b[1;32m    554\u001b[0m     \u001b[0mfixup\u001b[0m\u001b[0;34m(\u001b[0m\u001b[0matoms\u001b[0m\u001b[0;34m,\u001b[0m \u001b[0mmol\u001b[0m\u001b[0;34m,\u001b[0m \u001b[0mstruct\u001b[0m\u001b[0;34m)\u001b[0m\u001b[0;34m\u001b[0m\u001b[0;34m\u001b[0m\u001b[0m\n\u001b[1;32m    555\u001b[0m     \u001b[0mvisited_mols\u001b[0m\u001b[0;34m.\u001b[0m\u001b[0mappend\u001b[0m\u001b[0;34m(\u001b[0m\u001b[0mob\u001b[0m\u001b[0;34m.\u001b[0m\u001b[0mOBMol\u001b[0m\u001b[0;34m(\u001b[0m\u001b[0mmol\u001b[0m\u001b[0;34m)\u001b[0m\u001b[0;34m)\u001b[0m\u001b[0;34m\u001b[0m\u001b[0;34m\u001b[0m\u001b[0m\n",
      "\u001b[0;32m~/Documents/git/ligan-EVOTEC/fitting.py\u001b[0m in \u001b[0;36mconnect_the_dots\u001b[0;34m(mol, atoms, struct, maxbond)\u001b[0m\n\u001b[1;32m    443\u001b[0m         \u001b[0;31m#since we want the molecule to be valid for both (rdkit is usually lower)\u001b[0m\u001b[0;34m\u001b[0m\u001b[0;34m\u001b[0m\u001b[0;34m\u001b[0m\u001b[0m\n\u001b[1;32m    444\u001b[0m         \u001b[0mmaxb\u001b[0m \u001b[0;34m=\u001b[0m \u001b[0mob\u001b[0m\u001b[0;34m.\u001b[0m\u001b[0mGetMaxBonds\u001b[0m\u001b[0;34m(\u001b[0m\u001b[0ma\u001b[0m\u001b[0;34m.\u001b[0m\u001b[0mGetAtomicNum\u001b[0m\u001b[0;34m(\u001b[0m\u001b[0;34m)\u001b[0m\u001b[0;34m)\u001b[0m\u001b[0;34m\u001b[0m\u001b[0;34m\u001b[0m\u001b[0m\n\u001b[0;32m--> 445\u001b[0;31m         \u001b[0mmaxb\u001b[0m \u001b[0;34m=\u001b[0m \u001b[0mmin\u001b[0m\u001b[0;34m(\u001b[0m\u001b[0mmaxb\u001b[0m\u001b[0;34m,\u001b[0m\u001b[0mpt\u001b[0m\u001b[0;34m.\u001b[0m\u001b[0mGetDefaultValence\u001b[0m\u001b[0;34m(\u001b[0m\u001b[0ma\u001b[0m\u001b[0;34m.\u001b[0m\u001b[0mGetAtomicNum\u001b[0m\u001b[0;34m(\u001b[0m\u001b[0;34m)\u001b[0m\u001b[0;34m)\u001b[0m\u001b[0;34m)\u001b[0m\u001b[0;34m\u001b[0m\u001b[0;34m\u001b[0m\u001b[0m\n\u001b[0m\u001b[1;32m    446\u001b[0m         \u001b[0;32mif\u001b[0m \u001b[0;34m'Donor'\u001b[0m \u001b[0;32min\u001b[0m \u001b[0mtypes\u001b[0m\u001b[0;34m[\u001b[0m\u001b[0mi\u001b[0m\u001b[0;34m]\u001b[0m\u001b[0;34m:\u001b[0m\u001b[0;34m\u001b[0m\u001b[0;34m\u001b[0m\u001b[0m\n\u001b[1;32m    447\u001b[0m             \u001b[0mmaxb\u001b[0m \u001b[0;34m-=\u001b[0m \u001b[0;36m1\u001b[0m \u001b[0;31m#leave room for hydrogen\u001b[0m\u001b[0;34m\u001b[0m\u001b[0;34m\u001b[0m\u001b[0m\n",
      "\u001b[0;31mRuntimeError\u001b[0m: Pre-condition Violation\n\tAtomic number not found\n\tViolation occurred on line 151 in file Code/GraphMol/PeriodicTable.h\n\tFailed Expression: atomicNumber < byanum.size()\n\tRDKIT: 2021.03.1\n\tBOOST: 1_65_1\n"
     ]
    }
   ],
   "source": [
    "rdmol5 = reconstruction(\"murcko_self_5.sdf\")\n",
    "show_all_conformers(rdmol5)"
   ]
  },
  {
   "cell_type": "code",
   "execution_count": 23,
   "metadata": {},
   "outputs": [
    {
     "name": "stdout",
     "output_type": "stream",
     "text": [
      "Score: 0.5516014234875445\n"
     ]
    },
    {
     "data": {
      "application/3dmoljs_load.v0": "<div id=\"3dmolviewer_16316137857776086\"  style=\"position: relative; width: 640px; height: 480px\">\n        <p id=\"3dmolwarning_16316137857776086\" style=\"background-color:#ffcccc;color:black\">You appear to be running in JupyterLab (or JavaScript failed to load for some other reason).  You need to install the 3dmol extension: <br>\n        <tt>jupyter labextension install jupyterlab_3dmol</tt></p>\n        </div>\n<script>\n\nvar loadScriptAsync = function(uri){\n  return new Promise((resolve, reject) => {\n    var tag = document.createElement('script');\n    tag.src = uri;\n    tag.async = true;\n    tag.onload = () => {\n      resolve();\n    };\n  var firstScriptTag = document.getElementsByTagName('script')[0];\n  firstScriptTag.parentNode.insertBefore(tag, firstScriptTag);\n});\n};\n\nif(typeof $3Dmolpromise === 'undefined') {\n$3Dmolpromise = null;\n  $3Dmolpromise = loadScriptAsync('https://3dmol.org/build/3Dmol.js');\n}\n\nvar viewer_16316137857776086 = null;\nvar warn = document.getElementById(\"3dmolwarning_16316137857776086\");\nif(warn) {\n    warn.parentNode.removeChild(warn);\n}\n$3Dmolpromise.then(function() {\nviewer_16316137857776086 = $3Dmol.createViewer($(\"#3dmolviewer_16316137857776086\"),{backgroundColor:\"white\"});\nviewer_16316137857776086.zoomTo();\n\tviewer_16316137857776086.addModel(\"BRD4, Ligand 7\\n     RDKit          3D\\n\\n 20 23  0  0  0  0  0  0  0  0999 V2000\\n   15.3834   -1.3495    0.6426 C   0  0  0  0  0  0  0  0  0  0  0  0\\n   15.9198   -2.2233   -0.2704 C   0  0  0  0  0  0  0  0  0  0  0  0\\n   15.2480   -2.4180   -1.4895 C   0  0  0  0  0  0  0  0  0  0  0  0\\n   15.8344   -3.3889   -2.4670 C   0  0  0  0  0  0  0  0  0  0  0  0\\n   16.3245   -4.7158   -1.9514 C   0  0  0  0  0  0  0  0  0  0  0  0\\n   15.8804   -5.2551   -0.7332 C   0  0  0  0  0  0  0  0  0  0  0  0\\n   16.2874   -6.5272   -0.3215 C   0  0  0  0  0  0  0  0  0  0  0  0\\n   17.1294   -7.2787   -1.1321 C   0  0  0  0  0  0  0  0  0  0  0  0\\n   17.5341   -6.7550   -2.3653 C   0  0  0  0  0  0  0  0  0  0  0  0\\n   17.1512   -5.4922   -2.7641 C   0  0  0  0  0  0  0  0  0  0  0  0\\n   15.7774   -3.1787   -3.7441 N   0  0  0  0  0  0  0  0  0  0  0  0\\n   15.2522   -1.9779   -4.3869 N   0  0  0  0  0  0  0  0  0  0  0  0\\n   13.9267   -1.8095   -4.1488 C   0  0  0  0  0  0  0  0  0  0  0  0\\n   13.3497   -1.8384   -2.9677 N   0  0  0  0  0  0  0  0  0  0  0  0\\n   12.0140   -1.8400   -3.1423 C   0  0  0  0  0  0  0  0  0  0  0  0\\n   11.7706   -1.8847   -4.4453 N   0  0  0  0  0  0  0  0  0  0  0  0\\n   13.0021   -1.8594   -5.1241 N   0  0  0  0  0  0  0  0  0  0  0  0\\n   14.0540   -1.7260   -1.7786 C   0  0  0  0  0  0  0  0  0  0  0  0\\n   13.6062   -0.8070   -0.8102 C   0  0  0  0  0  0  0  0  0  0  0  0\\n   14.2335   -0.6296    0.4025 C   0  0  0  0  0  0  0  0  0  0  0  0\\n  1  2  2  0\\n  1 20  1  0\\n  2  3  1  0\\n  3  4  1  0\\n  3 18  2  0\\n  4  5  1  0\\n  4 11  2  0\\n  5  6  2  0\\n  5 10  1  0\\n  6  7  1  0\\n  7  8  2  0\\n  8  9  1  0\\n  9 10  2  0\\n 11 12  1  0\\n 12 13  1  0\\n 13 14  1  0\\n 13 17  2  0\\n 14 15  1  0\\n 14 18  1  0\\n 15 16  2  0\\n 16 17  1  0\\n 18 19  1  0\\n 19 20  2  0\\nM  END\\n\",\"sdf\");\n\tviewer_16316137857776086.addModel(\"BRD4, Ligand 7\\n     RDKit          3D\\n\\n 20 23  0  0  0  0  0  0  0  0999 V2000\\n    8.4462   15.8446   -3.3370 C   0  0  0  0  0  0  0  0  0  0  0  0\\n    8.9652   14.6833   -3.8534 C   0  0  0  0  0  0  0  0  0  0  0  0\\n    8.8824   13.5097   -3.0844 C   0  0  0  0  0  0  0  0  0  0  0  0\\n    9.4704   12.2552   -3.6523 C   0  0  0  0  0  0  0  0  0  0  0  0\\n   10.8271   12.3305   -4.3008 C   0  0  0  0  0  0  0  0  0  0  0  0\\n   11.7312   13.3690   -4.0252 C   0  0  0  0  0  0  0  0  0  0  0  0\\n   13.0155   13.3667   -4.5766 C   0  0  0  0  0  0  0  0  0  0  0  0\\n   13.4133   12.3171   -5.3957 C   0  0  0  0  0  0  0  0  0  0  0  0\\n   12.5241   11.2625   -5.6321 C   0  0  0  0  0  0  0  0  0  0  0  0\\n   11.2497   11.2728   -5.1067 C   0  0  0  0  0  0  0  0  0  0  0  0\\n    8.9182   11.1004   -3.4531 N   0  0  0  0  0  0  0  0  0  0  0  0\\n    7.6500   10.8697   -2.7679 N   0  0  0  0  0  0  0  0  0  0  0  0\\n    7.7005   11.2380   -1.4626 C   0  0  0  0  0  0  0  0  0  0  0  0\\n    8.1220   12.3977   -1.0085 N   0  0  0  0  0  0  0  0  0  0  0  0\\n    8.2201   12.3235    0.3330 C   0  0  0  0  0  0  0  0  0  0  0  0\\n    7.9240   11.0833    0.6981 N   0  0  0  0  0  0  0  0  0  0  0  0\\n    7.5754   10.3566   -0.4545 N   0  0  0  0  0  0  0  0  0  0  0  0\\n    8.2714   13.5165   -1.8137 C   0  0  0  0  0  0  0  0  0  0  0  0\\n    7.7152   14.7377   -1.3868 C   0  0  0  0  0  0  0  0  0  0  0  0\\n    7.8176   15.9032   -2.1125 C   0  0  0  0  0  0  0  0  0  0  0  0\\n  1  2  2  0\\n  1 20  1  0\\n  2  3  1  0\\n  3  4  1  0\\n  3 18  2  0\\n  4  5  1  0\\n  4 11  2  0\\n  5  6  2  0\\n  5 10  1  0\\n  6  7  1  0\\n  7  8  2  0\\n  8  9  1  0\\n  9 10  2  0\\n 11 12  1  0\\n 12 13  1  0\\n 13 14  1  0\\n 13 17  2  0\\n 14 15  1  0\\n 14 18  1  0\\n 15 16  2  0\\n 16 17  1  0\\n 18 19  1  0\\n 19 20  2  0\\nM  END\\n\",\"sdf\");\n\tviewer_16316137857776086.addModel(\"BRD4, Ligand 7\\n     RDKit          3D\\n\\n 23 26  0  0  0  0  0  0  0  0999 V2000\\n   11.1252   12.1401    1.4548 Cl  0  0  0  0  0  0  0  0  0  0  0  0\\n    9.9182   12.0894    0.1803 C   0  0  0  0  0  0  0  0  0  0  0  0\\n   10.2288   12.5917   -1.0591 C   0  0  0  0  0  0  0  0  0  0  0  0\\n    9.2600   12.5212   -2.0750 C   0  0  0  0  0  0  0  0  0  0  0  0\\n    9.6201   13.0549   -3.4268 C   0  0  0  0  0  0  0  0  0  0  0  0\\n   10.9678   12.7041   -3.9991 C   0  0  0  0  0  0  0  0  0  0  0  0\\n   11.7015   11.5914   -3.5567 C   0  0  0  0  0  0  0  0  0  0  0  0\\n   12.9100   11.2415   -4.1655 C   0  0  0  0  0  0  0  0  0  0  0  0\\n   13.3878   11.9914   -5.2332 C   0  0  0  0  0  0  0  0  0  0  0  0\\n   12.6314   13.0730   -5.6988 C   0  0  0  0  0  0  0  0  0  0  0  0\\n   11.4498   13.4330   -5.0868 C   0  0  0  0  0  0  0  0  0  0  0  0\\n    8.7477   13.6627   -4.1670 N   0  0  0  0  0  0  0  0  0  0  0  0\\n    7.3809   13.9933   -3.7751 N   0  0  0  0  0  0  0  0  0  0  0  0\\n    6.7652   15.2045   -4.2651 C   0  0  0  0  0  0  0  0  0  0  0  0\\n    6.6336   12.8842   -3.5440 C   0  0  0  0  0  0  0  0  0  0  0  0\\n    6.9724   11.8791   -2.7671 N   0  0  0  0  0  0  0  0  0  0  0  0\\n    6.0858   10.8807   -2.9454 C   0  0  0  0  0  0  0  0  0  0  0  0\\n    5.9993    9.5609   -2.2629 C   0  0  0  0  0  0  0  0  0  0  0  0\\n    5.2362   11.2511   -3.8942 N   0  0  0  0  0  0  0  0  0  0  0  0\\n    5.5684   12.5570   -4.2969 N   0  0  0  0  0  0  0  0  0  0  0  0\\n    7.9912   11.9573   -1.8297 C   0  0  0  0  0  0  0  0  0  0  0  0\\n    7.7379   11.5191   -0.5157 C   0  0  0  0  0  0  0  0  0  0  0  0\\n    8.6868   11.5499    0.4815 C   0  0  0  0  0  0  0  0  0  0  0  0\\n  1  2  1  0\\n  2  3  2  0\\n  2 23  1  0\\n  3  4  1  0\\n  4  5  1  0\\n  4 21  2  0\\n  5  6  1  0\\n  5 12  2  0\\n  6  7  2  0\\n  6 11  1  0\\n  7  8  1  0\\n  8  9  2  0\\n  9 10  1  0\\n 10 11  2  0\\n 12 13  1  0\\n 13 14  1  0\\n 13 15  1  0\\n 15 16  1  0\\n 15 20  2  0\\n 16 17  1  0\\n 16 21  1  0\\n 17 18  1  0\\n 17 19  2  0\\n 19 20  1  0\\n 21 22  1  0\\n 22 23  2  0\\nM  END\\n\",\"sdf\");\n\tviewer_16316137857776086.setStyle({\"model\": 0},{\"stick\": {\"colorscheme\": \"lightgreyCarbon\"}});\n\tviewer_16316137857776086.setStyle({\"model\": 1},{\"stick\": {\"colorscheme\": \"redCarbon\"}});\n\tviewer_16316137857776086.setStyle({\"model\": 2},{\"stick\": {\"colorscheme\": \"greyCarbon\"}});\n\tviewer_16316137857776086.zoomTo();\nviewer_16316137857776086.render();\n});\n</script>",
      "text/html": [
       "<div id=\"3dmolviewer_16316137857776086\"  style=\"position: relative; width: 640px; height: 480px\">\n",
       "        <p id=\"3dmolwarning_16316137857776086\" style=\"background-color:#ffcccc;color:black\">You appear to be running in JupyterLab (or JavaScript failed to load for some other reason).  You need to install the 3dmol extension: <br>\n",
       "        <tt>jupyter labextension install jupyterlab_3dmol</tt></p>\n",
       "        </div>\n",
       "<script>\n",
       "\n",
       "var loadScriptAsync = function(uri){\n",
       "  return new Promise((resolve, reject) => {\n",
       "    var tag = document.createElement('script');\n",
       "    tag.src = uri;\n",
       "    tag.async = true;\n",
       "    tag.onload = () => {\n",
       "      resolve();\n",
       "    };\n",
       "  var firstScriptTag = document.getElementsByTagName('script')[0];\n",
       "  firstScriptTag.parentNode.insertBefore(tag, firstScriptTag);\n",
       "});\n",
       "};\n",
       "\n",
       "if(typeof $3Dmolpromise === 'undefined') {\n",
       "$3Dmolpromise = null;\n",
       "  $3Dmolpromise = loadScriptAsync('https://3dmol.org/build/3Dmol.js');\n",
       "}\n",
       "\n",
       "var viewer_16316137857776086 = null;\n",
       "var warn = document.getElementById(\"3dmolwarning_16316137857776086\");\n",
       "if(warn) {\n",
       "    warn.parentNode.removeChild(warn);\n",
       "}\n",
       "$3Dmolpromise.then(function() {\n",
       "viewer_16316137857776086 = $3Dmol.createViewer($(\"#3dmolviewer_16316137857776086\"),{backgroundColor:\"white\"});\n",
       "viewer_16316137857776086.zoomTo();\n",
       "\tviewer_16316137857776086.addModel(\"BRD4, Ligand 7\\n     RDKit          3D\\n\\n 20 23  0  0  0  0  0  0  0  0999 V2000\\n   15.3834   -1.3495    0.6426 C   0  0  0  0  0  0  0  0  0  0  0  0\\n   15.9198   -2.2233   -0.2704 C   0  0  0  0  0  0  0  0  0  0  0  0\\n   15.2480   -2.4180   -1.4895 C   0  0  0  0  0  0  0  0  0  0  0  0\\n   15.8344   -3.3889   -2.4670 C   0  0  0  0  0  0  0  0  0  0  0  0\\n   16.3245   -4.7158   -1.9514 C   0  0  0  0  0  0  0  0  0  0  0  0\\n   15.8804   -5.2551   -0.7332 C   0  0  0  0  0  0  0  0  0  0  0  0\\n   16.2874   -6.5272   -0.3215 C   0  0  0  0  0  0  0  0  0  0  0  0\\n   17.1294   -7.2787   -1.1321 C   0  0  0  0  0  0  0  0  0  0  0  0\\n   17.5341   -6.7550   -2.3653 C   0  0  0  0  0  0  0  0  0  0  0  0\\n   17.1512   -5.4922   -2.7641 C   0  0  0  0  0  0  0  0  0  0  0  0\\n   15.7774   -3.1787   -3.7441 N   0  0  0  0  0  0  0  0  0  0  0  0\\n   15.2522   -1.9779   -4.3869 N   0  0  0  0  0  0  0  0  0  0  0  0\\n   13.9267   -1.8095   -4.1488 C   0  0  0  0  0  0  0  0  0  0  0  0\\n   13.3497   -1.8384   -2.9677 N   0  0  0  0  0  0  0  0  0  0  0  0\\n   12.0140   -1.8400   -3.1423 C   0  0  0  0  0  0  0  0  0  0  0  0\\n   11.7706   -1.8847   -4.4453 N   0  0  0  0  0  0  0  0  0  0  0  0\\n   13.0021   -1.8594   -5.1241 N   0  0  0  0  0  0  0  0  0  0  0  0\\n   14.0540   -1.7260   -1.7786 C   0  0  0  0  0  0  0  0  0  0  0  0\\n   13.6062   -0.8070   -0.8102 C   0  0  0  0  0  0  0  0  0  0  0  0\\n   14.2335   -0.6296    0.4025 C   0  0  0  0  0  0  0  0  0  0  0  0\\n  1  2  2  0\\n  1 20  1  0\\n  2  3  1  0\\n  3  4  1  0\\n  3 18  2  0\\n  4  5  1  0\\n  4 11  2  0\\n  5  6  2  0\\n  5 10  1  0\\n  6  7  1  0\\n  7  8  2  0\\n  8  9  1  0\\n  9 10  2  0\\n 11 12  1  0\\n 12 13  1  0\\n 13 14  1  0\\n 13 17  2  0\\n 14 15  1  0\\n 14 18  1  0\\n 15 16  2  0\\n 16 17  1  0\\n 18 19  1  0\\n 19 20  2  0\\nM  END\\n\",\"sdf\");\n",
       "\tviewer_16316137857776086.addModel(\"BRD4, Ligand 7\\n     RDKit          3D\\n\\n 20 23  0  0  0  0  0  0  0  0999 V2000\\n    8.4462   15.8446   -3.3370 C   0  0  0  0  0  0  0  0  0  0  0  0\\n    8.9652   14.6833   -3.8534 C   0  0  0  0  0  0  0  0  0  0  0  0\\n    8.8824   13.5097   -3.0844 C   0  0  0  0  0  0  0  0  0  0  0  0\\n    9.4704   12.2552   -3.6523 C   0  0  0  0  0  0  0  0  0  0  0  0\\n   10.8271   12.3305   -4.3008 C   0  0  0  0  0  0  0  0  0  0  0  0\\n   11.7312   13.3690   -4.0252 C   0  0  0  0  0  0  0  0  0  0  0  0\\n   13.0155   13.3667   -4.5766 C   0  0  0  0  0  0  0  0  0  0  0  0\\n   13.4133   12.3171   -5.3957 C   0  0  0  0  0  0  0  0  0  0  0  0\\n   12.5241   11.2625   -5.6321 C   0  0  0  0  0  0  0  0  0  0  0  0\\n   11.2497   11.2728   -5.1067 C   0  0  0  0  0  0  0  0  0  0  0  0\\n    8.9182   11.1004   -3.4531 N   0  0  0  0  0  0  0  0  0  0  0  0\\n    7.6500   10.8697   -2.7679 N   0  0  0  0  0  0  0  0  0  0  0  0\\n    7.7005   11.2380   -1.4626 C   0  0  0  0  0  0  0  0  0  0  0  0\\n    8.1220   12.3977   -1.0085 N   0  0  0  0  0  0  0  0  0  0  0  0\\n    8.2201   12.3235    0.3330 C   0  0  0  0  0  0  0  0  0  0  0  0\\n    7.9240   11.0833    0.6981 N   0  0  0  0  0  0  0  0  0  0  0  0\\n    7.5754   10.3566   -0.4545 N   0  0  0  0  0  0  0  0  0  0  0  0\\n    8.2714   13.5165   -1.8137 C   0  0  0  0  0  0  0  0  0  0  0  0\\n    7.7152   14.7377   -1.3868 C   0  0  0  0  0  0  0  0  0  0  0  0\\n    7.8176   15.9032   -2.1125 C   0  0  0  0  0  0  0  0  0  0  0  0\\n  1  2  2  0\\n  1 20  1  0\\n  2  3  1  0\\n  3  4  1  0\\n  3 18  2  0\\n  4  5  1  0\\n  4 11  2  0\\n  5  6  2  0\\n  5 10  1  0\\n  6  7  1  0\\n  7  8  2  0\\n  8  9  1  0\\n  9 10  2  0\\n 11 12  1  0\\n 12 13  1  0\\n 13 14  1  0\\n 13 17  2  0\\n 14 15  1  0\\n 14 18  1  0\\n 15 16  2  0\\n 16 17  1  0\\n 18 19  1  0\\n 19 20  2  0\\nM  END\\n\",\"sdf\");\n",
       "\tviewer_16316137857776086.addModel(\"BRD4, Ligand 7\\n     RDKit          3D\\n\\n 23 26  0  0  0  0  0  0  0  0999 V2000\\n   11.1252   12.1401    1.4548 Cl  0  0  0  0  0  0  0  0  0  0  0  0\\n    9.9182   12.0894    0.1803 C   0  0  0  0  0  0  0  0  0  0  0  0\\n   10.2288   12.5917   -1.0591 C   0  0  0  0  0  0  0  0  0  0  0  0\\n    9.2600   12.5212   -2.0750 C   0  0  0  0  0  0  0  0  0  0  0  0\\n    9.6201   13.0549   -3.4268 C   0  0  0  0  0  0  0  0  0  0  0  0\\n   10.9678   12.7041   -3.9991 C   0  0  0  0  0  0  0  0  0  0  0  0\\n   11.7015   11.5914   -3.5567 C   0  0  0  0  0  0  0  0  0  0  0  0\\n   12.9100   11.2415   -4.1655 C   0  0  0  0  0  0  0  0  0  0  0  0\\n   13.3878   11.9914   -5.2332 C   0  0  0  0  0  0  0  0  0  0  0  0\\n   12.6314   13.0730   -5.6988 C   0  0  0  0  0  0  0  0  0  0  0  0\\n   11.4498   13.4330   -5.0868 C   0  0  0  0  0  0  0  0  0  0  0  0\\n    8.7477   13.6627   -4.1670 N   0  0  0  0  0  0  0  0  0  0  0  0\\n    7.3809   13.9933   -3.7751 N   0  0  0  0  0  0  0  0  0  0  0  0\\n    6.7652   15.2045   -4.2651 C   0  0  0  0  0  0  0  0  0  0  0  0\\n    6.6336   12.8842   -3.5440 C   0  0  0  0  0  0  0  0  0  0  0  0\\n    6.9724   11.8791   -2.7671 N   0  0  0  0  0  0  0  0  0  0  0  0\\n    6.0858   10.8807   -2.9454 C   0  0  0  0  0  0  0  0  0  0  0  0\\n    5.9993    9.5609   -2.2629 C   0  0  0  0  0  0  0  0  0  0  0  0\\n    5.2362   11.2511   -3.8942 N   0  0  0  0  0  0  0  0  0  0  0  0\\n    5.5684   12.5570   -4.2969 N   0  0  0  0  0  0  0  0  0  0  0  0\\n    7.9912   11.9573   -1.8297 C   0  0  0  0  0  0  0  0  0  0  0  0\\n    7.7379   11.5191   -0.5157 C   0  0  0  0  0  0  0  0  0  0  0  0\\n    8.6868   11.5499    0.4815 C   0  0  0  0  0  0  0  0  0  0  0  0\\n  1  2  1  0\\n  2  3  2  0\\n  2 23  1  0\\n  3  4  1  0\\n  4  5  1  0\\n  4 21  2  0\\n  5  6  1  0\\n  5 12  2  0\\n  6  7  2  0\\n  6 11  1  0\\n  7  8  1  0\\n  8  9  2  0\\n  9 10  1  0\\n 10 11  2  0\\n 12 13  1  0\\n 13 14  1  0\\n 13 15  1  0\\n 15 16  1  0\\n 15 20  2  0\\n 16 17  1  0\\n 16 21  1  0\\n 17 18  1  0\\n 17 19  2  0\\n 19 20  1  0\\n 21 22  1  0\\n 22 23  2  0\\nM  END\\n\",\"sdf\");\n",
       "\tviewer_16316137857776086.setStyle({\"model\": 0},{\"stick\": {\"colorscheme\": \"lightgreyCarbon\"}});\n",
       "\tviewer_16316137857776086.setStyle({\"model\": 1},{\"stick\": {\"colorscheme\": \"redCarbon\"}});\n",
       "\tviewer_16316137857776086.setStyle({\"model\": 2},{\"stick\": {\"colorscheme\": \"greyCarbon\"}});\n",
       "\tviewer_16316137857776086.zoomTo();\n",
       "viewer_16316137857776086.render();\n",
       "});\n",
       "</script>"
      ]
     },
     "metadata": {},
     "output_type": "display_data"
    },
    {
     "data": {
      "text/plain": [
       "<py3Dmol.view at 0x7f1daa428e80>"
      ]
     },
     "execution_count": 23,
     "metadata": {},
     "output_type": "execute_result"
    }
   ],
   "source": [
    "molid = 6\n",
    "als = AlignShow([mols[molid], mkmols[molid]], [pcds[molid], mkpcds[molid]])\n",
    "s = als.align(1, 0)\n",
    "print(\"Score:\", s)\n",
    "als.save(1, 0, f\"murcko_self_{molid}.sdf\")\n",
    "als.show(1, 0)"
   ]
  },
  {
   "cell_type": "code",
   "execution_count": 24,
   "metadata": {},
   "outputs": [
    {
     "name": "stderr",
     "output_type": "stream",
     "text": [
      "RDKit ERROR: [11:02:36] \n",
      "RDKit ERROR: \n",
      "RDKit ERROR: ****\n",
      "RDKit ERROR: Pre-condition Violation\n",
      "RDKit ERROR: Atomic number not found\n",
      "RDKit ERROR: Violation occurred on line 151 in file /opt/rdkit/Code/GraphMol/PeriodicTable.h\n",
      "RDKit ERROR: Failed Expression: atomicNumber < byanum.size()\n",
      "RDKit ERROR: ****\n",
      "RDKit ERROR: \n",
      "RDKit ERROR: [11:03:22] Can't kekulize mol.  Unkekulized atoms: 15 17 19 22 23\n",
      "RDKit ERROR: \n"
     ]
    },
    {
     "ename": "KekulizeException",
     "evalue": "Can't kekulize mol.  Unkekulized atoms: 15 17 19 22 23\n",
     "output_type": "error",
     "traceback": [
      "\u001b[0;31m---------------------------------------------------------------------------\u001b[0m",
      "\u001b[0;31mKekulizeException\u001b[0m                         Traceback (most recent call last)",
      "\u001b[0;32m<ipython-input-24-cf3c0d0942e4>\u001b[0m in \u001b[0;36m<module>\u001b[0;34m\u001b[0m\n\u001b[0;32m----> 1\u001b[0;31m \u001b[0mrdmol6\u001b[0m \u001b[0;34m=\u001b[0m \u001b[0mreconstruction\u001b[0m\u001b[0;34m(\u001b[0m\u001b[0;34m\"murcko_self_6.sdf\"\u001b[0m\u001b[0;34m)\u001b[0m\u001b[0;34m\u001b[0m\u001b[0;34m\u001b[0m\u001b[0m\n\u001b[0m\u001b[1;32m      2\u001b[0m \u001b[0mshow_all_conformers\u001b[0m\u001b[0;34m(\u001b[0m\u001b[0mrdmol6\u001b[0m\u001b[0;34m)\u001b[0m\u001b[0;34m\u001b[0m\u001b[0;34m\u001b[0m\u001b[0m\n",
      "\u001b[0;32m<ipython-input-10-ef02c1abe8fa>\u001b[0m in \u001b[0;36mreconstruction\u001b[0;34m(fname, verbose)\u001b[0m\n\u001b[1;32m     23\u001b[0m     \u001b[0;31m# Fit atoms into density difference\u001b[0m\u001b[0;34m\u001b[0m\u001b[0;34m\u001b[0m\u001b[0;34m\u001b[0m\u001b[0m\n\u001b[1;32m     24\u001b[0m     \u001b[0;31m# Link nearest atom from the fit to the scaffold to build whole molecule\u001b[0m\u001b[0;34m\u001b[0m\u001b[0;34m\u001b[0m\u001b[0;34m\u001b[0m\u001b[0m\n\u001b[0;32m---> 25\u001b[0;31m     \u001b[0mrdmolfinal\u001b[0m \u001b[0;34m=\u001b[0m \u001b[0mmolgrid_diff_to_mol\u001b[0m\u001b[0;34m(\u001b[0m\u001b[0mnpgdiff\u001b[0m\u001b[0;34m,\u001b[0m \u001b[0mc\u001b[0m\u001b[0;34m,\u001b[0m \u001b[0;36m0.5\u001b[0m\u001b[0;34m,\u001b[0m \u001b[0;34m\"../files/ligmap\"\u001b[0m\u001b[0;34m,\u001b[0m \u001b[0mrdscaffold\u001b[0m\u001b[0;34m,\u001b[0m \u001b[0mverbose\u001b[0m\u001b[0;34m=\u001b[0m\u001b[0mverbose\u001b[0m\u001b[0;34m)\u001b[0m\u001b[0;34m\u001b[0m\u001b[0;34m\u001b[0m\u001b[0m\n\u001b[0m\u001b[1;32m     26\u001b[0m \u001b[0;34m\u001b[0m\u001b[0m\n\u001b[1;32m     27\u001b[0m     \u001b[0;32mreturn\u001b[0m \u001b[0mrdmolfinal\u001b[0m\u001b[0;34m\u001b[0m\u001b[0;34m\u001b[0m\u001b[0m\n",
      "\u001b[0;32m~/Documents/git/densitymatch/fit_to_grid.py\u001b[0m in \u001b[0;36mmolgrid_diff_to_mol\u001b[0;34m(diff, center, resolution, ligmap, scaffold, verbose)\u001b[0m\n\u001b[1;32m    223\u001b[0m         \u001b[0;31m# Fitted atoms can be in different part of the scaffold\u001b[0m\u001b[0;34m\u001b[0m\u001b[0;34m\u001b[0m\u001b[0;34m\u001b[0m\u001b[0m\n\u001b[1;32m    224\u001b[0m         \u001b[0;31m# They constitute different disconnected components (fragments)\u001b[0m\u001b[0;34m\u001b[0m\u001b[0;34m\u001b[0m\u001b[0;34m\u001b[0m\u001b[0m\n\u001b[0;32m--> 225\u001b[0;31m         \u001b[0;32mfor\u001b[0m \u001b[0mfrag\u001b[0m \u001b[0;32min\u001b[0m \u001b[0mChem\u001b[0m\u001b[0;34m.\u001b[0m\u001b[0mGetMolFrags\u001b[0m\u001b[0;34m(\u001b[0m\u001b[0mrdmol\u001b[0m\u001b[0;34m,\u001b[0m \u001b[0masMols\u001b[0m\u001b[0;34m=\u001b[0m\u001b[0;32mTrue\u001b[0m\u001b[0;34m,\u001b[0m \u001b[0msanitizeFrags\u001b[0m\u001b[0;34m=\u001b[0m\u001b[0;32mTrue\u001b[0m\u001b[0;34m)\u001b[0m\u001b[0;34m:\u001b[0m\u001b[0;34m\u001b[0m\u001b[0;34m\u001b[0m\u001b[0m\n\u001b[0m\u001b[1;32m    226\u001b[0m             \u001b[0;31m# Get all distance between fragment and scaffold (sorted)\u001b[0m\u001b[0;34m\u001b[0m\u001b[0;34m\u001b[0m\u001b[0;34m\u001b[0m\u001b[0m\n\u001b[1;32m    227\u001b[0m             \u001b[0midx1\u001b[0m\u001b[0;34m,\u001b[0m \u001b[0midx2\u001b[0m\u001b[0;34m,\u001b[0m \u001b[0md\u001b[0m \u001b[0;34m=\u001b[0m \u001b[0mnearest_atoms\u001b[0m\u001b[0;34m(\u001b[0m\u001b[0mfrag\u001b[0m\u001b[0;34m,\u001b[0m \u001b[0mrdmolfinal\u001b[0m\u001b[0;34m)\u001b[0m\u001b[0;34m\u001b[0m\u001b[0;34m\u001b[0m\u001b[0m\n",
      "\u001b[0;31mKekulizeException\u001b[0m: Can't kekulize mol.  Unkekulized atoms: 15 17 19 22 23\n"
     ]
    }
   ],
   "source": [
    "rdmol6 = reconstruction(\"murcko_self_6.sdf\")\n",
    "show_all_conformers(rdmol6)"
   ]
  },
  {
   "cell_type": "code",
   "execution_count": 25,
   "metadata": {},
   "outputs": [
    {
     "name": "stdout",
     "output_type": "stream",
     "text": [
      "Score: 0.7012195121951219\n"
     ]
    },
    {
     "data": {
      "application/3dmoljs_load.v0": "<div id=\"3dmolviewer_16316138141672978\"  style=\"position: relative; width: 640px; height: 480px\">\n        <p id=\"3dmolwarning_16316138141672978\" style=\"background-color:#ffcccc;color:black\">You appear to be running in JupyterLab (or JavaScript failed to load for some other reason).  You need to install the 3dmol extension: <br>\n        <tt>jupyter labextension install jupyterlab_3dmol</tt></p>\n        </div>\n<script>\n\nvar loadScriptAsync = function(uri){\n  return new Promise((resolve, reject) => {\n    var tag = document.createElement('script');\n    tag.src = uri;\n    tag.async = true;\n    tag.onload = () => {\n      resolve();\n    };\n  var firstScriptTag = document.getElementsByTagName('script')[0];\n  firstScriptTag.parentNode.insertBefore(tag, firstScriptTag);\n});\n};\n\nif(typeof $3Dmolpromise === 'undefined') {\n$3Dmolpromise = null;\n  $3Dmolpromise = loadScriptAsync('https://3dmol.org/build/3Dmol.js');\n}\n\nvar viewer_16316138141672978 = null;\nvar warn = document.getElementById(\"3dmolwarning_16316138141672978\");\nif(warn) {\n    warn.parentNode.removeChild(warn);\n}\n$3Dmolpromise.then(function() {\nviewer_16316138141672978 = $3Dmol.createViewer($(\"#3dmolviewer_16316138141672978\"),{backgroundColor:\"white\"});\nviewer_16316138141672978.zoomTo();\n\tviewer_16316138141672978.addModel(\"BRD4, Ligand 8\\n     RDKit          3D\\n\\n 17 19  0  0  0  0  0  0  0  0999 V2000\\n   -3.9060   18.2331    7.4381 C   0  0  0  0  0  0  0  0  0  0  0  0\\n   -4.9466   18.7564    8.2228 C   0  0  0  0  0  0  0  0  0  0  0  0\\n   -5.5673   18.0254    9.1763 C   0  0  0  0  0  0  0  0  0  0  0  0\\n   -5.2959   14.5701   10.6403 N   0  0  0  0  0  0  0  0  0  0  0  0\\n   -5.1866   16.7019    9.4509 C   0  0  0  0  0  0  0  0  0  0  0  0\\n   -3.6780   14.8890    8.9051 N   0  0  0  0  0  0  0  0  0  0  0  0\\n   -5.7957   15.8821   10.4584 C   0  0  0  0  0  0  0  0  0  0  0  0\\n   -4.2635   14.1348    9.8680 C   0  0  0  0  0  0  0  0  0  0  0  0\\n   -6.7171   16.2465   11.2179 O   0  0  0  0  0  0  0  0  0  0  0  0\\n   -3.7693   12.7652   10.0861 C   0  0  0  0  0  0  0  0  0  0  0  0\\n   -3.2117   11.9504    9.0786 C   0  0  0  0  0  0  0  0  0  0  0  0\\n   -2.9017   10.6230    9.3411 C   0  0  0  0  0  0  0  0  0  0  0  0\\n   -3.0978   10.0800   10.6398 C   0  0  0  0  0  0  0  0  0  0  0  0\\n   -3.5902   10.8829   11.6592 C   0  0  0  0  0  0  0  0  0  0  0  0\\n   -3.9255   12.1919   11.3955 C   0  0  0  0  0  0  0  0  0  0  0  0\\n   -4.1237   16.2003    8.6431 C   0  0  0  0  0  0  0  0  0  0  0  0\\n   -3.4893   16.9296    7.6510 C   0  0  0  0  0  0  0  0  0  0  0  0\\n  1  2  2  0\\n  1 17  1  0\\n  2  3  1  0\\n  3  5  2  0\\n  4  7  1  0\\n  4  8  1  0\\n  5  7  1  0\\n  5 16  1  0\\n  6  8  2  0\\n  6 16  1  0\\n  7  9  2  0\\n  8 10  1  0\\n 10 11  2  0\\n 10 15  1  0\\n 11 12  1  0\\n 12 13  2  0\\n 13 14  1  0\\n 14 15  2  0\\n 16 17  2  0\\nM  END\\n\",\"sdf\");\n\tviewer_16316138141672978.addModel(\"BRD4, Ligand 8\\n     RDKit          3D\\n\\n 17 19  0  0  0  0  0  0  0  0999 V2000\\n   11.2747   -0.3773   12.1898 C   0  0  0  0  0  0  0  0  0  0  0  0\\n   10.4684   -0.3252   11.0411 C   0  0  0  0  0  0  0  0  0  0  0  0\\n    9.6721    0.7330   10.7674 C   0  0  0  0  0  0  0  0  0  0  0  0\\n    8.8821    4.0800   12.2936 N   0  0  0  0  0  0  0  0  0  0  0  0\\n    9.6257    1.8546   11.6110 C   0  0  0  0  0  0  0  0  0  0  0  0\\n   10.4783    2.8927   13.6249 N   0  0  0  0  0  0  0  0  0  0  0  0\\n    8.8139    3.0120   11.3668 C   0  0  0  0  0  0  0  0  0  0  0  0\\n    9.7084    3.9795   13.3701 C   0  0  0  0  0  0  0  0  0  0  0  0\\n    8.0704    3.1694   10.3763 O   0  0  0  0  0  0  0  0  0  0  0  0\\n    9.7541    5.1101   14.3120 C   0  0  0  0  0  0  0  0  0  0  0  0\\n   10.0055    4.9848   15.6943 C   0  0  0  0  0  0  0  0  0  0  0  0\\n    9.8905    6.0863   16.5312 C   0  0  0  0  0  0  0  0  0  0  0  0\\n    9.5641    7.3639   16.0009 C   0  0  0  0  0  0  0  0  0  0  0  0\\n    9.3711    7.5182   14.6351 C   0  0  0  0  0  0  0  0  0  0  0  0\\n    9.4563    6.4226   13.8057 C   0  0  0  0  0  0  0  0  0  0  0  0\\n   10.4595    1.7757   12.7654 C   0  0  0  0  0  0  0  0  0  0  0  0\\n   11.2674    0.6924   13.0693 C   0  0  0  0  0  0  0  0  0  0  0  0\\n  1  2  2  0\\n  1 17  1  0\\n  2  3  1  0\\n  3  5  2  0\\n  4  7  1  0\\n  4  8  1  0\\n  5  7  1  0\\n  5 16  1  0\\n  6  8  2  0\\n  6 16  1  0\\n  7  9  2  0\\n  8 10  1  0\\n 10 11  2  0\\n 10 15  1  0\\n 11 12  1  0\\n 12 13  2  0\\n 13 14  1  0\\n 14 15  2  0\\n 16 17  2  0\\nM  END\\n\",\"sdf\");\n\tviewer_16316138141672978.addModel(\"BRD4, Ligand 8\\n     RDKit          3D\\n\\n 24 26  0  0  0  0  0  0  0  0999 V2000\\n    9.2401    9.2901   14.9498 O   0  0  0  0  0  0  0  0  0  0  0  0\\n    9.0579    9.8024   13.6475 C   0  0  0  0  0  0  0  0  0  0  0  0\\n    9.4461    7.9523   15.1794 C   0  0  0  0  0  0  0  0  0  0  0  0\\n    9.7538    7.5141   16.4778 C   0  0  0  0  0  0  0  0  0  0  0  0\\n    9.9846    6.2125   16.7629 C   0  0  0  0  0  0  0  0  0  0  0  0\\n   10.1552    2.9502   14.8962 N   0  0  0  0  0  0  0  0  0  0  0  0\\n   10.2323    6.7323   19.1276 C   0  0  0  0  0  0  0  0  0  0  0  0\\n   10.2419    5.7628   18.0530 O   0  0  0  0  0  0  0  0  0  0  0  0\\n    9.9515    5.2251   15.7649 C   0  0  0  0  0  0  0  0  0  0  0  0\\n    9.5744   -0.5417    9.7017 O   0  0  0  0  0  0  0  0  0  0  0  0\\n    9.6352    4.7545   13.4115 N   0  0  0  0  0  0  0  0  0  0  0  0\\n   10.2021    3.8326   16.0023 C   0  0  0  0  0  0  0  0  0  0  0  0\\n    9.8829    3.4443   13.6578 C   0  0  0  0  0  0  0  0  0  0  0  0\\n   10.4941    3.3359   17.1098 O   0  0  0  0  0  0  0  0  0  0  0  0\\n    9.8435    2.4972   12.5313 C   0  0  0  0  0  0  0  0  0  0  0  0\\n    9.0255    2.6489   11.3921 C   0  0  0  0  0  0  0  0  0  0  0  0\\n    8.9472    1.6375   10.4446 C   0  0  0  0  0  0  0  0  0  0  0  0\\n    7.9931    1.8558    9.3143 C   0  0  0  0  0  0  0  0  0  0  0  0\\n    9.7250    0.4563   10.5848 C   0  0  0  0  0  0  0  0  0  0  0  0\\n   10.5803    0.3147   11.6687 C   0  0  0  0  0  0  0  0  0  0  0  0\\n   11.4104   -0.9278   11.7877 C   0  0  0  0  0  0  0  0  0  0  0  0\\n   10.6392    1.3032   12.6253 C   0  0  0  0  0  0  0  0  0  0  0  0\\n    9.6431    5.7006   14.4563 C   0  0  0  0  0  0  0  0  0  0  0  0\\n    9.3871    7.0271   14.1505 C   0  0  0  0  0  0  0  0  0  0  0  0\\n  1  2  1  0\\n  1  3  1  0\\n  3  4  2  0\\n  3 24  1  0\\n  4  5  1  0\\n  5  8  1  0\\n  5  9  2  0\\n  6 12  1  0\\n  6 13  1  0\\n  7  8  1  0\\n  9 12  1  0\\n  9 23  1  0\\n 10 19  1  0\\n 11 13  2  0\\n 11 23  1  0\\n 12 14  2  0\\n 13 15  1  0\\n 15 16  2  0\\n 15 22  1  0\\n 16 17  1  0\\n 17 18  1  0\\n 17 19  2  0\\n 19 20  1  0\\n 20 21  1  0\\n 20 22  2  0\\n 23 24  2  0\\nM  END\\n\",\"sdf\");\n\tviewer_16316138141672978.setStyle({\"model\": 0},{\"stick\": {\"colorscheme\": \"lightgreyCarbon\"}});\n\tviewer_16316138141672978.setStyle({\"model\": 1},{\"stick\": {\"colorscheme\": \"redCarbon\"}});\n\tviewer_16316138141672978.setStyle({\"model\": 2},{\"stick\": {\"colorscheme\": \"greyCarbon\"}});\n\tviewer_16316138141672978.zoomTo();\nviewer_16316138141672978.render();\n});\n</script>",
      "text/html": [
       "<div id=\"3dmolviewer_16316138141672978\"  style=\"position: relative; width: 640px; height: 480px\">\n",
       "        <p id=\"3dmolwarning_16316138141672978\" style=\"background-color:#ffcccc;color:black\">You appear to be running in JupyterLab (or JavaScript failed to load for some other reason).  You need to install the 3dmol extension: <br>\n",
       "        <tt>jupyter labextension install jupyterlab_3dmol</tt></p>\n",
       "        </div>\n",
       "<script>\n",
       "\n",
       "var loadScriptAsync = function(uri){\n",
       "  return new Promise((resolve, reject) => {\n",
       "    var tag = document.createElement('script');\n",
       "    tag.src = uri;\n",
       "    tag.async = true;\n",
       "    tag.onload = () => {\n",
       "      resolve();\n",
       "    };\n",
       "  var firstScriptTag = document.getElementsByTagName('script')[0];\n",
       "  firstScriptTag.parentNode.insertBefore(tag, firstScriptTag);\n",
       "});\n",
       "};\n",
       "\n",
       "if(typeof $3Dmolpromise === 'undefined') {\n",
       "$3Dmolpromise = null;\n",
       "  $3Dmolpromise = loadScriptAsync('https://3dmol.org/build/3Dmol.js');\n",
       "}\n",
       "\n",
       "var viewer_16316138141672978 = null;\n",
       "var warn = document.getElementById(\"3dmolwarning_16316138141672978\");\n",
       "if(warn) {\n",
       "    warn.parentNode.removeChild(warn);\n",
       "}\n",
       "$3Dmolpromise.then(function() {\n",
       "viewer_16316138141672978 = $3Dmol.createViewer($(\"#3dmolviewer_16316138141672978\"),{backgroundColor:\"white\"});\n",
       "viewer_16316138141672978.zoomTo();\n",
       "\tviewer_16316138141672978.addModel(\"BRD4, Ligand 8\\n     RDKit          3D\\n\\n 17 19  0  0  0  0  0  0  0  0999 V2000\\n   -3.9060   18.2331    7.4381 C   0  0  0  0  0  0  0  0  0  0  0  0\\n   -4.9466   18.7564    8.2228 C   0  0  0  0  0  0  0  0  0  0  0  0\\n   -5.5673   18.0254    9.1763 C   0  0  0  0  0  0  0  0  0  0  0  0\\n   -5.2959   14.5701   10.6403 N   0  0  0  0  0  0  0  0  0  0  0  0\\n   -5.1866   16.7019    9.4509 C   0  0  0  0  0  0  0  0  0  0  0  0\\n   -3.6780   14.8890    8.9051 N   0  0  0  0  0  0  0  0  0  0  0  0\\n   -5.7957   15.8821   10.4584 C   0  0  0  0  0  0  0  0  0  0  0  0\\n   -4.2635   14.1348    9.8680 C   0  0  0  0  0  0  0  0  0  0  0  0\\n   -6.7171   16.2465   11.2179 O   0  0  0  0  0  0  0  0  0  0  0  0\\n   -3.7693   12.7652   10.0861 C   0  0  0  0  0  0  0  0  0  0  0  0\\n   -3.2117   11.9504    9.0786 C   0  0  0  0  0  0  0  0  0  0  0  0\\n   -2.9017   10.6230    9.3411 C   0  0  0  0  0  0  0  0  0  0  0  0\\n   -3.0978   10.0800   10.6398 C   0  0  0  0  0  0  0  0  0  0  0  0\\n   -3.5902   10.8829   11.6592 C   0  0  0  0  0  0  0  0  0  0  0  0\\n   -3.9255   12.1919   11.3955 C   0  0  0  0  0  0  0  0  0  0  0  0\\n   -4.1237   16.2003    8.6431 C   0  0  0  0  0  0  0  0  0  0  0  0\\n   -3.4893   16.9296    7.6510 C   0  0  0  0  0  0  0  0  0  0  0  0\\n  1  2  2  0\\n  1 17  1  0\\n  2  3  1  0\\n  3  5  2  0\\n  4  7  1  0\\n  4  8  1  0\\n  5  7  1  0\\n  5 16  1  0\\n  6  8  2  0\\n  6 16  1  0\\n  7  9  2  0\\n  8 10  1  0\\n 10 11  2  0\\n 10 15  1  0\\n 11 12  1  0\\n 12 13  2  0\\n 13 14  1  0\\n 14 15  2  0\\n 16 17  2  0\\nM  END\\n\",\"sdf\");\n",
       "\tviewer_16316138141672978.addModel(\"BRD4, Ligand 8\\n     RDKit          3D\\n\\n 17 19  0  0  0  0  0  0  0  0999 V2000\\n   11.2747   -0.3773   12.1898 C   0  0  0  0  0  0  0  0  0  0  0  0\\n   10.4684   -0.3252   11.0411 C   0  0  0  0  0  0  0  0  0  0  0  0\\n    9.6721    0.7330   10.7674 C   0  0  0  0  0  0  0  0  0  0  0  0\\n    8.8821    4.0800   12.2936 N   0  0  0  0  0  0  0  0  0  0  0  0\\n    9.6257    1.8546   11.6110 C   0  0  0  0  0  0  0  0  0  0  0  0\\n   10.4783    2.8927   13.6249 N   0  0  0  0  0  0  0  0  0  0  0  0\\n    8.8139    3.0120   11.3668 C   0  0  0  0  0  0  0  0  0  0  0  0\\n    9.7084    3.9795   13.3701 C   0  0  0  0  0  0  0  0  0  0  0  0\\n    8.0704    3.1694   10.3763 O   0  0  0  0  0  0  0  0  0  0  0  0\\n    9.7541    5.1101   14.3120 C   0  0  0  0  0  0  0  0  0  0  0  0\\n   10.0055    4.9848   15.6943 C   0  0  0  0  0  0  0  0  0  0  0  0\\n    9.8905    6.0863   16.5312 C   0  0  0  0  0  0  0  0  0  0  0  0\\n    9.5641    7.3639   16.0009 C   0  0  0  0  0  0  0  0  0  0  0  0\\n    9.3711    7.5182   14.6351 C   0  0  0  0  0  0  0  0  0  0  0  0\\n    9.4563    6.4226   13.8057 C   0  0  0  0  0  0  0  0  0  0  0  0\\n   10.4595    1.7757   12.7654 C   0  0  0  0  0  0  0  0  0  0  0  0\\n   11.2674    0.6924   13.0693 C   0  0  0  0  0  0  0  0  0  0  0  0\\n  1  2  2  0\\n  1 17  1  0\\n  2  3  1  0\\n  3  5  2  0\\n  4  7  1  0\\n  4  8  1  0\\n  5  7  1  0\\n  5 16  1  0\\n  6  8  2  0\\n  6 16  1  0\\n  7  9  2  0\\n  8 10  1  0\\n 10 11  2  0\\n 10 15  1  0\\n 11 12  1  0\\n 12 13  2  0\\n 13 14  1  0\\n 14 15  2  0\\n 16 17  2  0\\nM  END\\n\",\"sdf\");\n",
       "\tviewer_16316138141672978.addModel(\"BRD4, Ligand 8\\n     RDKit          3D\\n\\n 24 26  0  0  0  0  0  0  0  0999 V2000\\n    9.2401    9.2901   14.9498 O   0  0  0  0  0  0  0  0  0  0  0  0\\n    9.0579    9.8024   13.6475 C   0  0  0  0  0  0  0  0  0  0  0  0\\n    9.4461    7.9523   15.1794 C   0  0  0  0  0  0  0  0  0  0  0  0\\n    9.7538    7.5141   16.4778 C   0  0  0  0  0  0  0  0  0  0  0  0\\n    9.9846    6.2125   16.7629 C   0  0  0  0  0  0  0  0  0  0  0  0\\n   10.1552    2.9502   14.8962 N   0  0  0  0  0  0  0  0  0  0  0  0\\n   10.2323    6.7323   19.1276 C   0  0  0  0  0  0  0  0  0  0  0  0\\n   10.2419    5.7628   18.0530 O   0  0  0  0  0  0  0  0  0  0  0  0\\n    9.9515    5.2251   15.7649 C   0  0  0  0  0  0  0  0  0  0  0  0\\n    9.5744   -0.5417    9.7017 O   0  0  0  0  0  0  0  0  0  0  0  0\\n    9.6352    4.7545   13.4115 N   0  0  0  0  0  0  0  0  0  0  0  0\\n   10.2021    3.8326   16.0023 C   0  0  0  0  0  0  0  0  0  0  0  0\\n    9.8829    3.4443   13.6578 C   0  0  0  0  0  0  0  0  0  0  0  0\\n   10.4941    3.3359   17.1098 O   0  0  0  0  0  0  0  0  0  0  0  0\\n    9.8435    2.4972   12.5313 C   0  0  0  0  0  0  0  0  0  0  0  0\\n    9.0255    2.6489   11.3921 C   0  0  0  0  0  0  0  0  0  0  0  0\\n    8.9472    1.6375   10.4446 C   0  0  0  0  0  0  0  0  0  0  0  0\\n    7.9931    1.8558    9.3143 C   0  0  0  0  0  0  0  0  0  0  0  0\\n    9.7250    0.4563   10.5848 C   0  0  0  0  0  0  0  0  0  0  0  0\\n   10.5803    0.3147   11.6687 C   0  0  0  0  0  0  0  0  0  0  0  0\\n   11.4104   -0.9278   11.7877 C   0  0  0  0  0  0  0  0  0  0  0  0\\n   10.6392    1.3032   12.6253 C   0  0  0  0  0  0  0  0  0  0  0  0\\n    9.6431    5.7006   14.4563 C   0  0  0  0  0  0  0  0  0  0  0  0\\n    9.3871    7.0271   14.1505 C   0  0  0  0  0  0  0  0  0  0  0  0\\n  1  2  1  0\\n  1  3  1  0\\n  3  4  2  0\\n  3 24  1  0\\n  4  5  1  0\\n  5  8  1  0\\n  5  9  2  0\\n  6 12  1  0\\n  6 13  1  0\\n  7  8  1  0\\n  9 12  1  0\\n  9 23  1  0\\n 10 19  1  0\\n 11 13  2  0\\n 11 23  1  0\\n 12 14  2  0\\n 13 15  1  0\\n 15 16  2  0\\n 15 22  1  0\\n 16 17  1  0\\n 17 18  1  0\\n 17 19  2  0\\n 19 20  1  0\\n 20 21  1  0\\n 20 22  2  0\\n 23 24  2  0\\nM  END\\n\",\"sdf\");\n",
       "\tviewer_16316138141672978.setStyle({\"model\": 0},{\"stick\": {\"colorscheme\": \"lightgreyCarbon\"}});\n",
       "\tviewer_16316138141672978.setStyle({\"model\": 1},{\"stick\": {\"colorscheme\": \"redCarbon\"}});\n",
       "\tviewer_16316138141672978.setStyle({\"model\": 2},{\"stick\": {\"colorscheme\": \"greyCarbon\"}});\n",
       "\tviewer_16316138141672978.zoomTo();\n",
       "viewer_16316138141672978.render();\n",
       "});\n",
       "</script>"
      ]
     },
     "metadata": {},
     "output_type": "display_data"
    },
    {
     "data": {
      "text/plain": [
       "<py3Dmol.view at 0x7f1db0da24a8>"
      ]
     },
     "execution_count": 25,
     "metadata": {},
     "output_type": "execute_result"
    }
   ],
   "source": [
    "molid = 7\n",
    "als = AlignShow([mols[molid], mkmols[molid]], [pcds[molid], mkpcds[molid]])\n",
    "s = als.align(1, 0)\n",
    "print(\"Score:\", s)\n",
    "als.save(1, 0, f\"murcko_self_{molid}.sdf\")\n",
    "als.show(1, 0)"
   ]
  },
  {
   "cell_type": "code",
   "execution_count": 26,
   "metadata": {},
   "outputs": [
    {
     "data": {
      "application/3dmoljs_load.v0": "<div id=\"3dmolviewer_16316138271447659\"  style=\"position: relative; width: 640px; height: 480px\">\n        <p id=\"3dmolwarning_16316138271447659\" style=\"background-color:#ffcccc;color:black\">You appear to be running in JupyterLab (or JavaScript failed to load for some other reason).  You need to install the 3dmol extension: <br>\n        <tt>jupyter labextension install jupyterlab_3dmol</tt></p>\n        </div>\n<script>\n\nvar loadScriptAsync = function(uri){\n  return new Promise((resolve, reject) => {\n    var tag = document.createElement('script');\n    tag.src = uri;\n    tag.async = true;\n    tag.onload = () => {\n      resolve();\n    };\n  var firstScriptTag = document.getElementsByTagName('script')[0];\n  firstScriptTag.parentNode.insertBefore(tag, firstScriptTag);\n});\n};\n\nif(typeof $3Dmolpromise === 'undefined') {\n$3Dmolpromise = null;\n  $3Dmolpromise = loadScriptAsync('https://3dmol.org/build/3Dmol.js');\n}\n\nvar viewer_16316138271447659 = null;\nvar warn = document.getElementById(\"3dmolwarning_16316138271447659\");\nif(warn) {\n    warn.parentNode.removeChild(warn);\n}\n$3Dmolpromise.then(function() {\nviewer_16316138271447659 = $3Dmol.createViewer($(\"#3dmolviewer_16316138271447659\"),{backgroundColor:\"white\"});\nviewer_16316138271447659.zoomTo();\n\tviewer_16316138271447659.addModel(\"\\n     RDKit          3D\\n\\n 39 41  0  0  0  0  0  0  0  0999 V2000\\n    8.6646    2.6222   10.8423 C   0  0  0  0  0  3  0  0  0  0  0  0\\n   10.2323    6.7323   19.1276 C   0  0  0  0  0  0  0  0  0  0  0  0\\n    9.9402    2.4980   12.6874 C   0  0  0  0  0  2  0  0  0  0  0  0\\n    9.8996    5.6318   16.2208 C   0  0  0  0  0  0  0  0  0  0  0  0\\n    9.6989    5.3344   13.9865 C   0  0  0  0  0  0  0  0  0  0  0  0\\n    9.6628    5.8303   14.6352 C   0  0  0  0  0  3  0  0  0  0  0  0\\n   10.0056    6.1654   16.8416 C   0  0  0  0  0  5  0  0  0  0  0  0\\n   10.1887    3.7604   15.9050 C   0  0  0  0  0  0  0  0  0  0  0  0\\n    9.4884    5.0791   13.3744 N   0  0  0  0  0  2  0  0  0  0  0  0\\n   10.6251    2.5687   13.6623 N   0  0  0  0  0  2  0  0  0  0  0  0\\n   10.1949    2.9147   14.9772 N   0  0  0  0  0  0  0  0  0  0  0  0\\n   10.2419    5.7628   18.0530 O   0  0  0  0  0  0  0  0  0  0  0  0\\n   10.4941    3.3359   17.1098 O   0  0  0  0  0  0  0  0  0  0  0  0\\n    9.0579    9.8024   13.6475 C   0  0  0  0  0  0  0  0  0  0  0  0\\n    9.4404    8.0067   15.2005 C   0  0  0  0  0  4  0  0  0  0  0  0\\n    9.2401    9.2901   14.9498 O   0  0  0  0  0  0  0  0  0  0  0  0\\n   11.4104   -0.9278   11.7877 C   0  0  0  0  0  0  0  0  0  0  0  0\\n   10.2759   -0.4070   10.7379 C   0  0  0  0  0  5  0  0  0  0  0  0\\n   11.5960   -0.3775   12.6903 C   0  0  0  0  0  3  0  0  0  0  0  0\\n    9.6900    0.2158   10.3460 C   0  0  0  0  0  0  0  0  0  0  0  0\\n    9.5744   -0.5417    9.7017 O   0  0  0  0  0  0  0  0  0  0  0  0\\n    7.9931    1.8558    9.3143 C   0  0  0  0  0  4  0  0  0  0  0  0\\n   11.2747   -0.3773   12.1898 C   0  0  0  0  0  0  0  0  0  0  0  0\\n   10.4684   -0.3252   11.0411 C   0  0  0  0  0  0  0  0  0  0  0  0\\n    9.6721    0.7330   10.7674 C   0  0  0  0  0  0  0  0  0  0  0  0\\n    8.8821    4.0800   12.2936 N   0  0  0  0  0  0  0  0  0  0  0  0\\n    9.6257    1.8546   11.6110 C   0  0  0  0  0  0  0  0  0  0  0  0\\n   10.4783    2.8927   13.6249 N   0  0  0  0  0  0  0  0  0  0  0  0\\n    8.8139    3.0120   11.3668 C   0  0  0  0  0  0  0  0  0  0  0  0\\n    9.7084    3.9795   13.3701 C   0  0  0  0  0  0  0  0  0  0  0  0\\n    8.0704    3.1694   10.3763 O   0  0  0  0  0  0  0  0  0  0  0  0\\n    9.7541    5.1101   14.3120 C   0  0  0  0  0  0  0  0  0  0  0  0\\n   10.0055    4.9848   15.6943 C   0  0  0  0  0  0  0  0  0  0  0  0\\n    9.8905    6.0863   16.5312 C   0  0  0  0  0  0  0  0  0  0  0  0\\n    9.5641    7.3639   16.0009 C   0  0  0  0  0  0  0  0  0  0  0  0\\n    9.3711    7.5182   14.6351 C   0  0  0  0  0  0  0  0  0  0  0  0\\n    9.4563    6.4226   13.8057 C   0  0  0  0  0  0  0  0  0  0  0  0\\n   10.4595    1.7757   12.7654 C   0  0  0  0  0  0  0  0  0  0  0  0\\n   11.2674    0.6924   13.0693 C   0  0  0  0  0  0  0  0  0  0  0  0\\n  6  4  2  3\\n  6  5  1  0\\n  7  4  1  0\\n  8  4  1  0\\n  9  5  1  0\\n 10  3  1  0\\n 11  8  1  0\\n 11 10  1  0\\n 12  2  1  0\\n 12  7  1  0\\n 13  8  2  0\\n 16 14  1  0\\n 16 15  1  0\\n 18 17  2  0\\n 19 17  1  0\\n 20 18  2  0\\n 21 20  1  0\\n 23 24  2  0\\n 23 39  1  0\\n 24 25  1  0\\n 25 27  2  0\\n 26 29  1  0\\n 26 30  1  0\\n 27 29  1  0\\n 27 38  1  0\\n 28 30  2  0\\n 28 38  1  0\\n 29 31  2  3\\n 30 32  1  0\\n 32 33  2  0\\n 32 37  1  0\\n 33 34  1  0\\n 34 35  2  0\\n 35 36  1  0\\n 36 37  2  0\\n 38 39  2  0\\n 22 31  1  0\\n 18 24  1  0\\n 15 36  1  0\\n  7 34  1  0\\n  1 29  1  0\\nM  RAD  8   1   3   3   3   6   2   9   2  10   2  15   2  19   2  22   2\\nM  END\\n\",\"sdf\");\n\tviewer_16316138271447659.setStyle({\"model\": 0},{\"stick\": {\"colorscheme\": \"lightgreyCarbon\"}});\n\tviewer_16316138271447659.zoomTo();\nviewer_16316138271447659.render();\n});\n</script>",
      "text/html": [
       "<div id=\"3dmolviewer_16316138271447659\"  style=\"position: relative; width: 640px; height: 480px\">\n",
       "        <p id=\"3dmolwarning_16316138271447659\" style=\"background-color:#ffcccc;color:black\">You appear to be running in JupyterLab (or JavaScript failed to load for some other reason).  You need to install the 3dmol extension: <br>\n",
       "        <tt>jupyter labextension install jupyterlab_3dmol</tt></p>\n",
       "        </div>\n",
       "<script>\n",
       "\n",
       "var loadScriptAsync = function(uri){\n",
       "  return new Promise((resolve, reject) => {\n",
       "    var tag = document.createElement('script');\n",
       "    tag.src = uri;\n",
       "    tag.async = true;\n",
       "    tag.onload = () => {\n",
       "      resolve();\n",
       "    };\n",
       "  var firstScriptTag = document.getElementsByTagName('script')[0];\n",
       "  firstScriptTag.parentNode.insertBefore(tag, firstScriptTag);\n",
       "});\n",
       "};\n",
       "\n",
       "if(typeof $3Dmolpromise === 'undefined') {\n",
       "$3Dmolpromise = null;\n",
       "  $3Dmolpromise = loadScriptAsync('https://3dmol.org/build/3Dmol.js');\n",
       "}\n",
       "\n",
       "var viewer_16316138271447659 = null;\n",
       "var warn = document.getElementById(\"3dmolwarning_16316138271447659\");\n",
       "if(warn) {\n",
       "    warn.parentNode.removeChild(warn);\n",
       "}\n",
       "$3Dmolpromise.then(function() {\n",
       "viewer_16316138271447659 = $3Dmol.createViewer($(\"#3dmolviewer_16316138271447659\"),{backgroundColor:\"white\"});\n",
       "viewer_16316138271447659.zoomTo();\n",
       "\tviewer_16316138271447659.addModel(\"\\n     RDKit          3D\\n\\n 39 41  0  0  0  0  0  0  0  0999 V2000\\n    8.6646    2.6222   10.8423 C   0  0  0  0  0  3  0  0  0  0  0  0\\n   10.2323    6.7323   19.1276 C   0  0  0  0  0  0  0  0  0  0  0  0\\n    9.9402    2.4980   12.6874 C   0  0  0  0  0  2  0  0  0  0  0  0\\n    9.8996    5.6318   16.2208 C   0  0  0  0  0  0  0  0  0  0  0  0\\n    9.6989    5.3344   13.9865 C   0  0  0  0  0  0  0  0  0  0  0  0\\n    9.6628    5.8303   14.6352 C   0  0  0  0  0  3  0  0  0  0  0  0\\n   10.0056    6.1654   16.8416 C   0  0  0  0  0  5  0  0  0  0  0  0\\n   10.1887    3.7604   15.9050 C   0  0  0  0  0  0  0  0  0  0  0  0\\n    9.4884    5.0791   13.3744 N   0  0  0  0  0  2  0  0  0  0  0  0\\n   10.6251    2.5687   13.6623 N   0  0  0  0  0  2  0  0  0  0  0  0\\n   10.1949    2.9147   14.9772 N   0  0  0  0  0  0  0  0  0  0  0  0\\n   10.2419    5.7628   18.0530 O   0  0  0  0  0  0  0  0  0  0  0  0\\n   10.4941    3.3359   17.1098 O   0  0  0  0  0  0  0  0  0  0  0  0\\n    9.0579    9.8024   13.6475 C   0  0  0  0  0  0  0  0  0  0  0  0\\n    9.4404    8.0067   15.2005 C   0  0  0  0  0  4  0  0  0  0  0  0\\n    9.2401    9.2901   14.9498 O   0  0  0  0  0  0  0  0  0  0  0  0\\n   11.4104   -0.9278   11.7877 C   0  0  0  0  0  0  0  0  0  0  0  0\\n   10.2759   -0.4070   10.7379 C   0  0  0  0  0  5  0  0  0  0  0  0\\n   11.5960   -0.3775   12.6903 C   0  0  0  0  0  3  0  0  0  0  0  0\\n    9.6900    0.2158   10.3460 C   0  0  0  0  0  0  0  0  0  0  0  0\\n    9.5744   -0.5417    9.7017 O   0  0  0  0  0  0  0  0  0  0  0  0\\n    7.9931    1.8558    9.3143 C   0  0  0  0  0  4  0  0  0  0  0  0\\n   11.2747   -0.3773   12.1898 C   0  0  0  0  0  0  0  0  0  0  0  0\\n   10.4684   -0.3252   11.0411 C   0  0  0  0  0  0  0  0  0  0  0  0\\n    9.6721    0.7330   10.7674 C   0  0  0  0  0  0  0  0  0  0  0  0\\n    8.8821    4.0800   12.2936 N   0  0  0  0  0  0  0  0  0  0  0  0\\n    9.6257    1.8546   11.6110 C   0  0  0  0  0  0  0  0  0  0  0  0\\n   10.4783    2.8927   13.6249 N   0  0  0  0  0  0  0  0  0  0  0  0\\n    8.8139    3.0120   11.3668 C   0  0  0  0  0  0  0  0  0  0  0  0\\n    9.7084    3.9795   13.3701 C   0  0  0  0  0  0  0  0  0  0  0  0\\n    8.0704    3.1694   10.3763 O   0  0  0  0  0  0  0  0  0  0  0  0\\n    9.7541    5.1101   14.3120 C   0  0  0  0  0  0  0  0  0  0  0  0\\n   10.0055    4.9848   15.6943 C   0  0  0  0  0  0  0  0  0  0  0  0\\n    9.8905    6.0863   16.5312 C   0  0  0  0  0  0  0  0  0  0  0  0\\n    9.5641    7.3639   16.0009 C   0  0  0  0  0  0  0  0  0  0  0  0\\n    9.3711    7.5182   14.6351 C   0  0  0  0  0  0  0  0  0  0  0  0\\n    9.4563    6.4226   13.8057 C   0  0  0  0  0  0  0  0  0  0  0  0\\n   10.4595    1.7757   12.7654 C   0  0  0  0  0  0  0  0  0  0  0  0\\n   11.2674    0.6924   13.0693 C   0  0  0  0  0  0  0  0  0  0  0  0\\n  6  4  2  3\\n  6  5  1  0\\n  7  4  1  0\\n  8  4  1  0\\n  9  5  1  0\\n 10  3  1  0\\n 11  8  1  0\\n 11 10  1  0\\n 12  2  1  0\\n 12  7  1  0\\n 13  8  2  0\\n 16 14  1  0\\n 16 15  1  0\\n 18 17  2  0\\n 19 17  1  0\\n 20 18  2  0\\n 21 20  1  0\\n 23 24  2  0\\n 23 39  1  0\\n 24 25  1  0\\n 25 27  2  0\\n 26 29  1  0\\n 26 30  1  0\\n 27 29  1  0\\n 27 38  1  0\\n 28 30  2  0\\n 28 38  1  0\\n 29 31  2  3\\n 30 32  1  0\\n 32 33  2  0\\n 32 37  1  0\\n 33 34  1  0\\n 34 35  2  0\\n 35 36  1  0\\n 36 37  2  0\\n 38 39  2  0\\n 22 31  1  0\\n 18 24  1  0\\n 15 36  1  0\\n  7 34  1  0\\n  1 29  1  0\\nM  RAD  8   1   3   3   3   6   2   9   2  10   2  15   2  19   2  22   2\\nM  END\\n\",\"sdf\");\n",
       "\tviewer_16316138271447659.setStyle({\"model\": 0},{\"stick\": {\"colorscheme\": \"lightgreyCarbon\"}});\n",
       "\tviewer_16316138271447659.zoomTo();\n",
       "viewer_16316138271447659.render();\n",
       "});\n",
       "</script>"
      ]
     },
     "metadata": {},
     "output_type": "display_data"
    }
   ],
   "source": [
    "rdmol7 = reconstruction(\"murcko_self_7.sdf\")\n",
    "show_all_conformers(rdmol7)"
   ]
  },
  {
   "cell_type": "code",
   "execution_count": 27,
   "metadata": {},
   "outputs": [
    {
     "name": "stdout",
     "output_type": "stream",
     "text": [
      "Score: 0.9507389162561576\n"
     ]
    },
    {
     "data": {
      "application/3dmoljs_load.v0": "<div id=\"3dmolviewer_16316138349699914\"  style=\"position: relative; width: 640px; height: 480px\">\n        <p id=\"3dmolwarning_16316138349699914\" style=\"background-color:#ffcccc;color:black\">You appear to be running in JupyterLab (or JavaScript failed to load for some other reason).  You need to install the 3dmol extension: <br>\n        <tt>jupyter labextension install jupyterlab_3dmol</tt></p>\n        </div>\n<script>\n\nvar loadScriptAsync = function(uri){\n  return new Promise((resolve, reject) => {\n    var tag = document.createElement('script');\n    tag.src = uri;\n    tag.async = true;\n    tag.onload = () => {\n      resolve();\n    };\n  var firstScriptTag = document.getElementsByTagName('script')[0];\n  firstScriptTag.parentNode.insertBefore(tag, firstScriptTag);\n});\n};\n\nif(typeof $3Dmolpromise === 'undefined') {\n$3Dmolpromise = null;\n  $3Dmolpromise = loadScriptAsync('https://3dmol.org/build/3Dmol.js');\n}\n\nvar viewer_16316138349699914 = null;\nvar warn = document.getElementById(\"3dmolwarning_16316138349699914\");\nif(warn) {\n    warn.parentNode.removeChild(warn);\n}\n$3Dmolpromise.then(function() {\nviewer_16316138349699914 = $3Dmol.createViewer($(\"#3dmolviewer_16316138349699914\"),{backgroundColor:\"white\"});\nviewer_16316138349699914.zoomTo();\n\tviewer_16316138349699914.addModel(\"BRD4, Ligand 9\\n     RDKit          3D\\n\\n 19 22  0  0  1  0  0  0  0  0999 V2000\\n   18.6780   -5.8192    9.0000 C   0  0  0  0  0  0  0  0  0  0  0  0\\n   20.2773   -6.9888    7.6676 C   0  0  0  0  0  0  0  0  0  0  0  0\\n   19.1145   -4.6074    8.4553 C   0  0  0  0  0  0  0  0  0  0  0  0\\n   20.7022   -5.7872    7.1118 C   0  0  0  0  0  0  0  0  0  0  0  0\\n   21.1775   -3.4192    5.7316 N   0  0  0  0  0  0  0  0  0  0  0  0\\n   18.9954   -0.5456    3.3537 N   0  0  0  0  0  0  0  0  0  0  0  0\\n   20.1022   -1.1924    3.3080 N   0  0  0  0  0  0  0  0  0  0  0  0\\n   19.3483    0.3580    7.7942 S   0  0  0  0  0  0  0  0  0  0  0  0\\n   20.5960   -3.3305    6.9393 C   0  0  0  0  0  0  0  0  0  0  0  0\\n   19.2350   -7.0083    8.5916 C   0  0  0  0  0  0  0  0  0  0  0  0\\n   18.6410   -0.3527    4.6347 C   0  0  0  0  0  0  0  0  0  0  0  0\\n   20.1271   -4.5674    7.5069 C   0  0  0  0  0  0  0  0  0  0  0  0\\n   19.8660   -0.4773    9.2133 C   0  0  0  0  0  0  0  0  0  0  0  0\\n   20.3364   -1.7433    8.8870 C   0  0  0  0  0  0  0  0  0  0  0  0\\n   20.4842   -1.4246    4.5785 C   0  0  0  0  0  0  0  0  0  0  0  0\\n   20.2276   -2.0760    7.5092 C   0  0  0  0  0  0  0  0  0  0  0  0\\n   19.6895   -1.0019    6.7745 C   0  0  0  0  0  0  0  0  0  0  0  0\\n   21.7256   -2.2136    5.0438 C   0  0  0  0  0  0  0  0  0  0  0  0\\n   19.5693   -0.9409    5.4193 N   0  0  0  0  0  0  0  0  0  0  0  0\\n  1  3  2  0\\n  1 10  1  0\\n  2  4  1  0\\n  2 10  2  0\\n  3 12  1  0\\n  4 12  2  0\\n  5  9  2  0\\n  5 18  1  0\\n  6  7  1  0\\n  6 11  2  0\\n  7 15  2  0\\n  8 13  1  0\\n  8 17  1  0\\n  9 12  1  0\\n  9 16  1  0\\n 11 19  1  0\\n 13 14  2  0\\n 14 16  1  0\\n 15 18  1  0\\n 15 19  1  0\\n 16 17  2  0\\n 17 19  1  0\\nM  END\\n\",\"sdf\");\n\tviewer_16316138349699914.addModel(\"BRD4, Ligand 9\\n     RDKit          3D\\n\\n 19 22  0  0  1  0  0  0  0  0999 V2000\\n    9.9625   -1.3145   18.6335 C   0  0  0  0  0  0  0  0  0  0  0  0\\n   11.6601   -2.9714   18.9060 C   0  0  0  0  0  0  0  0  0  0  0  0\\n   10.8860   -0.4764   18.0008 C   0  0  0  0  0  0  0  0  0  0  0  0\\n   12.5765   -2.1472   18.2624 C   0  0  0  0  0  0  0  0  0  0  0  0\\n   14.2105   -0.6459   16.5848 N   0  0  0  0  0  0  0  0  0  0  0  0\\n   14.1900    0.8914   12.5463 N   0  0  0  0  0  0  0  0  0  0  0  0\\n   14.9904    0.2805   13.3410 N   0  0  0  0  0  0  0  0  0  0  0  0\\n   12.6112    3.6732   15.7756 S   0  0  0  0  0  0  0  0  0  0  0  0\\n   13.1692   -0.0230   17.1610 C   0  0  0  0  0  0  0  0  0  0  0  0\\n   10.3362   -2.5668   19.0615 C   0  0  0  0  0  0  0  0  0  0  0  0\\n   13.3317    1.6380   13.2603 C   0  0  0  0  0  0  0  0  0  0  0  0\\n   12.2013   -0.8731   17.8033 C   0  0  0  0  0  0  0  0  0  0  0  0\\n   12.1745    3.5515   17.4411 C   0  0  0  0  0  0  0  0  0  0  0  0\\n   12.4172    2.2678   17.9141 C   0  0  0  0  0  0  0  0  0  0  0  0\\n   14.6565    0.6341   14.5970 C   0  0  0  0  0  0  0  0  0  0  0  0\\n   12.8949    1.3578   16.9319 C   0  0  0  0  0  0  0  0  0  0  0  0\\n   13.0493    1.9981   15.6873 C   0  0  0  0  0  0  0  0  0  0  0  0\\n   15.2946    0.1218   15.9049 C   0  0  0  0  0  0  0  0  0  0  0  0\\n   13.6029    1.4509   14.5698 N   0  0  0  0  0  0  0  0  0  0  0  0\\n  1  3  2  0\\n  1 10  1  0\\n  2  4  1  0\\n  2 10  2  0\\n  3 12  1  0\\n  4 12  2  0\\n  5  9  2  0\\n  5 18  1  0\\n  6  7  1  0\\n  6 11  2  0\\n  7 15  2  0\\n  8 13  1  0\\n  8 17  1  0\\n  9 12  1  0\\n  9 16  1  0\\n 11 19  1  0\\n 13 14  2  0\\n 14 16  1  0\\n 15 18  1  0\\n 15 19  1  0\\n 16 17  2  0\\n 17 19  1  0\\nM  END\\n\",\"sdf\");\n\tviewer_16316138349699914.addModel(\"BRD4, Ligand 9\\n     RDKit          3D\\n\\n 31 34  0  0  1  0  0  0  0  0999 V2000\\n   12.1628    2.4441   12.6701 C   0  0  0  0  0  0  0  0  0  0  0  0\\n   11.5664    4.6996   18.2829 C   0  0  0  0  0  0  0  0  0  0  0  0\\n   12.1115    1.8284   19.4033 C   0  0  0  0  0  0  0  0  0  0  0  0\\n   15.9947   -2.0213   19.8562 C   0  0  0  0  0  0  0  0  0  0  0  0\\n   18.3855   -1.0901   19.8716 C   0  0  0  0  0  0  0  0  0  0  0  0\\n   16.4313    0.3792   20.3432 C   0  0  0  0  0  0  0  0  0  0  0  0\\n   17.4846   -2.3973   17.2039 O   0  0  0  0  0  0  0  0  0  0  0  0\\n    9.1225   -3.6420   19.8708 Cl  0  0  0  0  0  0  0  0  0  0  0  0\\n    9.9231   -1.3735   18.6523 C   0  0  0  0  0  0  0  0  0  0  0  0\\n   11.6281   -3.0227   18.9241 C   0  0  0  0  0  0  0  0  0  0  0  0\\n   10.8430   -0.5304   18.0209 C   0  0  0  0  0  0  0  0  0  0  0  0\\n   12.5410   -2.1936   18.2818 C   0  0  0  0  0  0  0  0  0  0  0  0\\n   16.5061   -0.7509   15.7356 C   0  0  0  0  0  0  0  0  0  0  0  0\\n   14.1691   -0.6832   16.6065 N   0  0  0  0  0  0  0  0  0  0  0  0\\n   14.1436    0.8580   12.5695 N   0  0  0  0  0  0  0  0  0  0  0  0\\n   14.9464    0.2500   13.3641 N   0  0  0  0  0  0  0  0  0  0  0  0\\n   16.6786   -0.5118   18.1351 O   0  0  0  0  0  0  0  0  0  0  0  0\\n   12.5503    3.6293   15.8007 S   0  0  0  0  0  0  0  0  0  0  0  0\\n   16.9338   -1.3024   17.1003 C   0  0  0  0  0  0  0  0  0  0  0  0\\n   13.1245   -0.0657   17.1828 C   0  0  0  0  0  0  0  0  0  0  0  0\\n   10.3023   -2.6244   19.0792 C   0  0  0  0  0  0  0  0  0  0  0  0\\n   13.2815    1.5999   13.2838 C   0  0  0  0  0  0  0  0  0  0  0  0\\n   12.1602   -0.9209   17.8237 C   0  0  0  0  0  0  0  0  0  0  0  0\\n   12.1132    3.5039   17.4659 C   0  0  0  0  0  0  0  0  0  0  0  0\\n   12.3616    2.2209   17.9377 C   0  0  0  0  0  0  0  0  0  0  0  0\\n   14.6102    0.6008   14.6202 C   0  0  0  0  0  0  0  0  0  0  0  0\\n   12.8440    1.3141   16.9549 C   0  0  0  0  0  0  0  0  0  0  0  0\\n   12.9961    1.9564   15.7110 C   0  0  0  0  0  0  0  0  0  0  0  0\\n   15.2499    0.0902   15.9280 C   0  0  0  0  0  0  0  0  0  0  0  0\\n   13.5529    1.4127   14.5933 N   0  0  0  0  0  0  0  0  0  0  0  0\\n   16.8953   -0.8506   19.5546 C   0  0  0  0  0  0  0  0  0  0  0  0\\n  1 22  1  0\\n  2 24  1  0\\n  3 25  1  0\\n  4 31  1  0\\n  5 31  1  0\\n  6 31  1  0\\n  7 19  2  0\\n  8 21  1  0\\n  9 11  2  0\\n  9 21  1  0\\n 10 12  1  0\\n 10 21  2  0\\n 11 23  1  0\\n 12 23  2  0\\n 13 19  1  0\\n 13 29  1  0\\n 14 20  2  0\\n 14 29  1  0\\n 15 16  1  0\\n 15 22  2  0\\n 16 26  2  0\\n 17 19  1  0\\n 17 31  1  0\\n 18 24  1  0\\n 18 28  1  0\\n 20 23  1  0\\n 20 27  1  0\\n 22 30  1  0\\n 24 25  2  0\\n 25 27  1  0\\n 26 29  1  0\\n 26 30  1  0\\n 27 28  2  0\\n 28 30  1  0\\nM  END\\n\",\"sdf\");\n\tviewer_16316138349699914.setStyle({\"model\": 0},{\"stick\": {\"colorscheme\": \"lightgreyCarbon\"}});\n\tviewer_16316138349699914.setStyle({\"model\": 1},{\"stick\": {\"colorscheme\": \"redCarbon\"}});\n\tviewer_16316138349699914.setStyle({\"model\": 2},{\"stick\": {\"colorscheme\": \"greyCarbon\"}});\n\tviewer_16316138349699914.zoomTo();\nviewer_16316138349699914.render();\n});\n</script>",
      "text/html": [
       "<div id=\"3dmolviewer_16316138349699914\"  style=\"position: relative; width: 640px; height: 480px\">\n",
       "        <p id=\"3dmolwarning_16316138349699914\" style=\"background-color:#ffcccc;color:black\">You appear to be running in JupyterLab (or JavaScript failed to load for some other reason).  You need to install the 3dmol extension: <br>\n",
       "        <tt>jupyter labextension install jupyterlab_3dmol</tt></p>\n",
       "        </div>\n",
       "<script>\n",
       "\n",
       "var loadScriptAsync = function(uri){\n",
       "  return new Promise((resolve, reject) => {\n",
       "    var tag = document.createElement('script');\n",
       "    tag.src = uri;\n",
       "    tag.async = true;\n",
       "    tag.onload = () => {\n",
       "      resolve();\n",
       "    };\n",
       "  var firstScriptTag = document.getElementsByTagName('script')[0];\n",
       "  firstScriptTag.parentNode.insertBefore(tag, firstScriptTag);\n",
       "});\n",
       "};\n",
       "\n",
       "if(typeof $3Dmolpromise === 'undefined') {\n",
       "$3Dmolpromise = null;\n",
       "  $3Dmolpromise = loadScriptAsync('https://3dmol.org/build/3Dmol.js');\n",
       "}\n",
       "\n",
       "var viewer_16316138349699914 = null;\n",
       "var warn = document.getElementById(\"3dmolwarning_16316138349699914\");\n",
       "if(warn) {\n",
       "    warn.parentNode.removeChild(warn);\n",
       "}\n",
       "$3Dmolpromise.then(function() {\n",
       "viewer_16316138349699914 = $3Dmol.createViewer($(\"#3dmolviewer_16316138349699914\"),{backgroundColor:\"white\"});\n",
       "viewer_16316138349699914.zoomTo();\n",
       "\tviewer_16316138349699914.addModel(\"BRD4, Ligand 9\\n     RDKit          3D\\n\\n 19 22  0  0  1  0  0  0  0  0999 V2000\\n   18.6780   -5.8192    9.0000 C   0  0  0  0  0  0  0  0  0  0  0  0\\n   20.2773   -6.9888    7.6676 C   0  0  0  0  0  0  0  0  0  0  0  0\\n   19.1145   -4.6074    8.4553 C   0  0  0  0  0  0  0  0  0  0  0  0\\n   20.7022   -5.7872    7.1118 C   0  0  0  0  0  0  0  0  0  0  0  0\\n   21.1775   -3.4192    5.7316 N   0  0  0  0  0  0  0  0  0  0  0  0\\n   18.9954   -0.5456    3.3537 N   0  0  0  0  0  0  0  0  0  0  0  0\\n   20.1022   -1.1924    3.3080 N   0  0  0  0  0  0  0  0  0  0  0  0\\n   19.3483    0.3580    7.7942 S   0  0  0  0  0  0  0  0  0  0  0  0\\n   20.5960   -3.3305    6.9393 C   0  0  0  0  0  0  0  0  0  0  0  0\\n   19.2350   -7.0083    8.5916 C   0  0  0  0  0  0  0  0  0  0  0  0\\n   18.6410   -0.3527    4.6347 C   0  0  0  0  0  0  0  0  0  0  0  0\\n   20.1271   -4.5674    7.5069 C   0  0  0  0  0  0  0  0  0  0  0  0\\n   19.8660   -0.4773    9.2133 C   0  0  0  0  0  0  0  0  0  0  0  0\\n   20.3364   -1.7433    8.8870 C   0  0  0  0  0  0  0  0  0  0  0  0\\n   20.4842   -1.4246    4.5785 C   0  0  0  0  0  0  0  0  0  0  0  0\\n   20.2276   -2.0760    7.5092 C   0  0  0  0  0  0  0  0  0  0  0  0\\n   19.6895   -1.0019    6.7745 C   0  0  0  0  0  0  0  0  0  0  0  0\\n   21.7256   -2.2136    5.0438 C   0  0  0  0  0  0  0  0  0  0  0  0\\n   19.5693   -0.9409    5.4193 N   0  0  0  0  0  0  0  0  0  0  0  0\\n  1  3  2  0\\n  1 10  1  0\\n  2  4  1  0\\n  2 10  2  0\\n  3 12  1  0\\n  4 12  2  0\\n  5  9  2  0\\n  5 18  1  0\\n  6  7  1  0\\n  6 11  2  0\\n  7 15  2  0\\n  8 13  1  0\\n  8 17  1  0\\n  9 12  1  0\\n  9 16  1  0\\n 11 19  1  0\\n 13 14  2  0\\n 14 16  1  0\\n 15 18  1  0\\n 15 19  1  0\\n 16 17  2  0\\n 17 19  1  0\\nM  END\\n\",\"sdf\");\n",
       "\tviewer_16316138349699914.addModel(\"BRD4, Ligand 9\\n     RDKit          3D\\n\\n 19 22  0  0  1  0  0  0  0  0999 V2000\\n    9.9625   -1.3145   18.6335 C   0  0  0  0  0  0  0  0  0  0  0  0\\n   11.6601   -2.9714   18.9060 C   0  0  0  0  0  0  0  0  0  0  0  0\\n   10.8860   -0.4764   18.0008 C   0  0  0  0  0  0  0  0  0  0  0  0\\n   12.5765   -2.1472   18.2624 C   0  0  0  0  0  0  0  0  0  0  0  0\\n   14.2105   -0.6459   16.5848 N   0  0  0  0  0  0  0  0  0  0  0  0\\n   14.1900    0.8914   12.5463 N   0  0  0  0  0  0  0  0  0  0  0  0\\n   14.9904    0.2805   13.3410 N   0  0  0  0  0  0  0  0  0  0  0  0\\n   12.6112    3.6732   15.7756 S   0  0  0  0  0  0  0  0  0  0  0  0\\n   13.1692   -0.0230   17.1610 C   0  0  0  0  0  0  0  0  0  0  0  0\\n   10.3362   -2.5668   19.0615 C   0  0  0  0  0  0  0  0  0  0  0  0\\n   13.3317    1.6380   13.2603 C   0  0  0  0  0  0  0  0  0  0  0  0\\n   12.2013   -0.8731   17.8033 C   0  0  0  0  0  0  0  0  0  0  0  0\\n   12.1745    3.5515   17.4411 C   0  0  0  0  0  0  0  0  0  0  0  0\\n   12.4172    2.2678   17.9141 C   0  0  0  0  0  0  0  0  0  0  0  0\\n   14.6565    0.6341   14.5970 C   0  0  0  0  0  0  0  0  0  0  0  0\\n   12.8949    1.3578   16.9319 C   0  0  0  0  0  0  0  0  0  0  0  0\\n   13.0493    1.9981   15.6873 C   0  0  0  0  0  0  0  0  0  0  0  0\\n   15.2946    0.1218   15.9049 C   0  0  0  0  0  0  0  0  0  0  0  0\\n   13.6029    1.4509   14.5698 N   0  0  0  0  0  0  0  0  0  0  0  0\\n  1  3  2  0\\n  1 10  1  0\\n  2  4  1  0\\n  2 10  2  0\\n  3 12  1  0\\n  4 12  2  0\\n  5  9  2  0\\n  5 18  1  0\\n  6  7  1  0\\n  6 11  2  0\\n  7 15  2  0\\n  8 13  1  0\\n  8 17  1  0\\n  9 12  1  0\\n  9 16  1  0\\n 11 19  1  0\\n 13 14  2  0\\n 14 16  1  0\\n 15 18  1  0\\n 15 19  1  0\\n 16 17  2  0\\n 17 19  1  0\\nM  END\\n\",\"sdf\");\n",
       "\tviewer_16316138349699914.addModel(\"BRD4, Ligand 9\\n     RDKit          3D\\n\\n 31 34  0  0  1  0  0  0  0  0999 V2000\\n   12.1628    2.4441   12.6701 C   0  0  0  0  0  0  0  0  0  0  0  0\\n   11.5664    4.6996   18.2829 C   0  0  0  0  0  0  0  0  0  0  0  0\\n   12.1115    1.8284   19.4033 C   0  0  0  0  0  0  0  0  0  0  0  0\\n   15.9947   -2.0213   19.8562 C   0  0  0  0  0  0  0  0  0  0  0  0\\n   18.3855   -1.0901   19.8716 C   0  0  0  0  0  0  0  0  0  0  0  0\\n   16.4313    0.3792   20.3432 C   0  0  0  0  0  0  0  0  0  0  0  0\\n   17.4846   -2.3973   17.2039 O   0  0  0  0  0  0  0  0  0  0  0  0\\n    9.1225   -3.6420   19.8708 Cl  0  0  0  0  0  0  0  0  0  0  0  0\\n    9.9231   -1.3735   18.6523 C   0  0  0  0  0  0  0  0  0  0  0  0\\n   11.6281   -3.0227   18.9241 C   0  0  0  0  0  0  0  0  0  0  0  0\\n   10.8430   -0.5304   18.0209 C   0  0  0  0  0  0  0  0  0  0  0  0\\n   12.5410   -2.1936   18.2818 C   0  0  0  0  0  0  0  0  0  0  0  0\\n   16.5061   -0.7509   15.7356 C   0  0  0  0  0  0  0  0  0  0  0  0\\n   14.1691   -0.6832   16.6065 N   0  0  0  0  0  0  0  0  0  0  0  0\\n   14.1436    0.8580   12.5695 N   0  0  0  0  0  0  0  0  0  0  0  0\\n   14.9464    0.2500   13.3641 N   0  0  0  0  0  0  0  0  0  0  0  0\\n   16.6786   -0.5118   18.1351 O   0  0  0  0  0  0  0  0  0  0  0  0\\n   12.5503    3.6293   15.8007 S   0  0  0  0  0  0  0  0  0  0  0  0\\n   16.9338   -1.3024   17.1003 C   0  0  0  0  0  0  0  0  0  0  0  0\\n   13.1245   -0.0657   17.1828 C   0  0  0  0  0  0  0  0  0  0  0  0\\n   10.3023   -2.6244   19.0792 C   0  0  0  0  0  0  0  0  0  0  0  0\\n   13.2815    1.5999   13.2838 C   0  0  0  0  0  0  0  0  0  0  0  0\\n   12.1602   -0.9209   17.8237 C   0  0  0  0  0  0  0  0  0  0  0  0\\n   12.1132    3.5039   17.4659 C   0  0  0  0  0  0  0  0  0  0  0  0\\n   12.3616    2.2209   17.9377 C   0  0  0  0  0  0  0  0  0  0  0  0\\n   14.6102    0.6008   14.6202 C   0  0  0  0  0  0  0  0  0  0  0  0\\n   12.8440    1.3141   16.9549 C   0  0  0  0  0  0  0  0  0  0  0  0\\n   12.9961    1.9564   15.7110 C   0  0  0  0  0  0  0  0  0  0  0  0\\n   15.2499    0.0902   15.9280 C   0  0  0  0  0  0  0  0  0  0  0  0\\n   13.5529    1.4127   14.5933 N   0  0  0  0  0  0  0  0  0  0  0  0\\n   16.8953   -0.8506   19.5546 C   0  0  0  0  0  0  0  0  0  0  0  0\\n  1 22  1  0\\n  2 24  1  0\\n  3 25  1  0\\n  4 31  1  0\\n  5 31  1  0\\n  6 31  1  0\\n  7 19  2  0\\n  8 21  1  0\\n  9 11  2  0\\n  9 21  1  0\\n 10 12  1  0\\n 10 21  2  0\\n 11 23  1  0\\n 12 23  2  0\\n 13 19  1  0\\n 13 29  1  0\\n 14 20  2  0\\n 14 29  1  0\\n 15 16  1  0\\n 15 22  2  0\\n 16 26  2  0\\n 17 19  1  0\\n 17 31  1  0\\n 18 24  1  0\\n 18 28  1  0\\n 20 23  1  0\\n 20 27  1  0\\n 22 30  1  0\\n 24 25  2  0\\n 25 27  1  0\\n 26 29  1  0\\n 26 30  1  0\\n 27 28  2  0\\n 28 30  1  0\\nM  END\\n\",\"sdf\");\n",
       "\tviewer_16316138349699914.setStyle({\"model\": 0},{\"stick\": {\"colorscheme\": \"lightgreyCarbon\"}});\n",
       "\tviewer_16316138349699914.setStyle({\"model\": 1},{\"stick\": {\"colorscheme\": \"redCarbon\"}});\n",
       "\tviewer_16316138349699914.setStyle({\"model\": 2},{\"stick\": {\"colorscheme\": \"greyCarbon\"}});\n",
       "\tviewer_16316138349699914.zoomTo();\n",
       "viewer_16316138349699914.render();\n",
       "});\n",
       "</script>"
      ]
     },
     "metadata": {},
     "output_type": "display_data"
    },
    {
     "data": {
      "text/plain": [
       "<py3Dmol.view at 0x7f1db0daa550>"
      ]
     },
     "execution_count": 27,
     "metadata": {},
     "output_type": "execute_result"
    }
   ],
   "source": [
    "molid = 8\n",
    "als = AlignShow([mols[molid], mkmols[molid]], [pcds[molid], mkpcds[molid]])\n",
    "s = als.align(1, 0)\n",
    "print(\"Score:\", s)\n",
    "als.save(1, 0, f\"murcko_self_{molid}.sdf\")\n",
    "als.show(1, 0)"
   ]
  },
  {
   "cell_type": "code",
   "execution_count": 28,
   "metadata": {},
   "outputs": [
    {
     "data": {
      "application/3dmoljs_load.v0": "<div id=\"3dmolviewer_16316138427672184\"  style=\"position: relative; width: 640px; height: 480px\">\n        <p id=\"3dmolwarning_16316138427672184\" style=\"background-color:#ffcccc;color:black\">You appear to be running in JupyterLab (or JavaScript failed to load for some other reason).  You need to install the 3dmol extension: <br>\n        <tt>jupyter labextension install jupyterlab_3dmol</tt></p>\n        </div>\n<script>\n\nvar loadScriptAsync = function(uri){\n  return new Promise((resolve, reject) => {\n    var tag = document.createElement('script');\n    tag.src = uri;\n    tag.async = true;\n    tag.onload = () => {\n      resolve();\n    };\n  var firstScriptTag = document.getElementsByTagName('script')[0];\n  firstScriptTag.parentNode.insertBefore(tag, firstScriptTag);\n});\n};\n\nif(typeof $3Dmolpromise === 'undefined') {\n$3Dmolpromise = null;\n  $3Dmolpromise = loadScriptAsync('https://3dmol.org/build/3Dmol.js');\n}\n\nvar viewer_16316138427672184 = null;\nvar warn = document.getElementById(\"3dmolwarning_16316138427672184\");\nif(warn) {\n    warn.parentNode.removeChild(warn);\n}\n$3Dmolpromise.then(function() {\nviewer_16316138427672184 = $3Dmol.createViewer($(\"#3dmolviewer_16316138427672184\"),{backgroundColor:\"white\"});\nviewer_16316138427672184.zoomTo();\n\tviewer_16316138427672184.addModel(\"\\n     RDKit          3D\\n\\n 31 34  0  0  0  0  0  0  0  0999 V2000\\n    9.1225   -3.6420   19.8708 Cl  0  0  0  0  0  1  0  0  0  0  0  0\\n   12.1628    2.4441   12.6701 C   0  0  0  0  0  5  0  0  0  0  0  0\\n   12.1115    1.8284   19.4033 C   0  0  0  0  0  0  0  0  0  0  0  0\\n   11.5664    4.6996   18.2829 C   0  0  0  0  0  5  0  0  0  0  0  0\\n   16.4313    0.3792   20.3432 C   0  0  0  0  0  0  0  0  0  0  0  0\\n   18.3855   -1.0901   19.8716 C   0  0  0  0  0  0  0  0  0  0  0  0\\n   15.9947   -2.0213   19.8562 C   0  0  0  0  0  0  0  0  0  0  0  0\\n   16.5061   -0.7509   15.7356 C   0  0  0  0  0  5  0  0  0  0  0  0\\n   16.9279   -1.3086   17.1046 C   0  0  0  0  0  0  0  0  0  0  0  0\\n   16.8961   -0.8493   19.5556 C   0  0  0  0  0  0  0  0  0  0  0  0\\n   17.4846   -2.3973   17.2039 O   0  0  0  0  0  0  0  0  0  0  0  0\\n   16.6786   -0.5118   18.1351 O   0  0  0  0  0  0  0  0  0  0  0  0\\n    9.9625   -1.3145   18.6335 C   0  0  0  0  0  0  0  0  0  0  0  0\\n   11.6601   -2.9714   18.9060 C   0  0  0  0  0  0  0  0  0  0  0  0\\n   10.8860   -0.4764   18.0008 C   0  0  0  0  0  0  0  0  0  0  0  0\\n   12.5765   -2.1472   18.2624 C   0  0  0  0  0  0  0  0  0  0  0  0\\n   14.2105   -0.6459   16.5848 N   0  0  0  0  0  0  0  0  0  0  0  0\\n   14.1900    0.8914   12.5463 N   0  0  0  0  0  0  0  0  0  0  0  0\\n   14.9904    0.2805   13.3410 N   0  0  0  0  0  0  0  0  0  0  0  0\\n   12.6112    3.6732   15.7756 S   0  0  0  0  0  0  0  0  0  0  0  0\\n   13.1692   -0.0230   17.1610 C   0  0  0  0  0  0  0  0  0  0  0  0\\n   10.3362   -2.5668   19.0615 C   0  0  0  0  0  0  0  0  0  0  0  0\\n   13.3317    1.6380   13.2603 C   0  0  0  0  0  0  0  0  0  0  0  0\\n   12.2013   -0.8731   17.8033 C   0  0  0  0  0  0  0  0  0  0  0  0\\n   12.1745    3.5515   17.4411 C   0  0  0  0  0  0  0  0  0  0  0  0\\n   12.4172    2.2678   17.9141 C   0  0  0  0  0  0  0  0  0  0  0  0\\n   14.6565    0.6341   14.5970 C   0  0  0  0  0  0  0  0  0  0  0  0\\n   12.8949    1.3578   16.9319 C   0  0  0  0  0  0  0  0  0  0  0  0\\n   13.0493    1.9981   15.6873 C   0  0  0  0  0  0  0  0  0  0  0  0\\n   15.2946    0.1218   15.9049 C   0  0  0  0  0  0  0  0  0  0  0  0\\n   13.6029    1.4509   14.5698 N   0  0  0  0  0  0  0  0  0  0  0  0\\n  4  3  1  0\\n  9  8  1  0\\n 10  5  1  0\\n 10  6  1  0\\n 10  7  1  0\\n 11  9  2  0\\n 12  9  1  0\\n 12 10  1  0\\n 13 15  2  0\\n 13 22  1  0\\n 14 16  1  0\\n 14 22  2  0\\n 15 24  1  0\\n 16 24  2  0\\n 17 21  2  0\\n 17 30  1  0\\n 18 19  1  0\\n 18 23  2  0\\n 19 27  2  0\\n 20 25  1  0\\n 20 29  1  0\\n 21 24  1  0\\n 21 28  1  0\\n 23 31  1  0\\n 25 26  2  0\\n 26 28  1  0\\n 27 30  1  0\\n 27 31  1  0\\n 28 29  2  0\\n 29 31  1  0\\n  8 30  1  0\\n  4 25  1  0\\n  2 23  1  0\\n  1 22  1  0\\nM  RAD  1   1   2\\nM  END\\n\",\"sdf\");\n\tviewer_16316138427672184.setStyle({\"model\": 0},{\"stick\": {\"colorscheme\": \"lightgreyCarbon\"}});\n\tviewer_16316138427672184.zoomTo();\nviewer_16316138427672184.render();\n});\n</script>",
      "text/html": [
       "<div id=\"3dmolviewer_16316138427672184\"  style=\"position: relative; width: 640px; height: 480px\">\n",
       "        <p id=\"3dmolwarning_16316138427672184\" style=\"background-color:#ffcccc;color:black\">You appear to be running in JupyterLab (or JavaScript failed to load for some other reason).  You need to install the 3dmol extension: <br>\n",
       "        <tt>jupyter labextension install jupyterlab_3dmol</tt></p>\n",
       "        </div>\n",
       "<script>\n",
       "\n",
       "var loadScriptAsync = function(uri){\n",
       "  return new Promise((resolve, reject) => {\n",
       "    var tag = document.createElement('script');\n",
       "    tag.src = uri;\n",
       "    tag.async = true;\n",
       "    tag.onload = () => {\n",
       "      resolve();\n",
       "    };\n",
       "  var firstScriptTag = document.getElementsByTagName('script')[0];\n",
       "  firstScriptTag.parentNode.insertBefore(tag, firstScriptTag);\n",
       "});\n",
       "};\n",
       "\n",
       "if(typeof $3Dmolpromise === 'undefined') {\n",
       "$3Dmolpromise = null;\n",
       "  $3Dmolpromise = loadScriptAsync('https://3dmol.org/build/3Dmol.js');\n",
       "}\n",
       "\n",
       "var viewer_16316138427672184 = null;\n",
       "var warn = document.getElementById(\"3dmolwarning_16316138427672184\");\n",
       "if(warn) {\n",
       "    warn.parentNode.removeChild(warn);\n",
       "}\n",
       "$3Dmolpromise.then(function() {\n",
       "viewer_16316138427672184 = $3Dmol.createViewer($(\"#3dmolviewer_16316138427672184\"),{backgroundColor:\"white\"});\n",
       "viewer_16316138427672184.zoomTo();\n",
       "\tviewer_16316138427672184.addModel(\"\\n     RDKit          3D\\n\\n 31 34  0  0  0  0  0  0  0  0999 V2000\\n    9.1225   -3.6420   19.8708 Cl  0  0  0  0  0  1  0  0  0  0  0  0\\n   12.1628    2.4441   12.6701 C   0  0  0  0  0  5  0  0  0  0  0  0\\n   12.1115    1.8284   19.4033 C   0  0  0  0  0  0  0  0  0  0  0  0\\n   11.5664    4.6996   18.2829 C   0  0  0  0  0  5  0  0  0  0  0  0\\n   16.4313    0.3792   20.3432 C   0  0  0  0  0  0  0  0  0  0  0  0\\n   18.3855   -1.0901   19.8716 C   0  0  0  0  0  0  0  0  0  0  0  0\\n   15.9947   -2.0213   19.8562 C   0  0  0  0  0  0  0  0  0  0  0  0\\n   16.5061   -0.7509   15.7356 C   0  0  0  0  0  5  0  0  0  0  0  0\\n   16.9279   -1.3086   17.1046 C   0  0  0  0  0  0  0  0  0  0  0  0\\n   16.8961   -0.8493   19.5556 C   0  0  0  0  0  0  0  0  0  0  0  0\\n   17.4846   -2.3973   17.2039 O   0  0  0  0  0  0  0  0  0  0  0  0\\n   16.6786   -0.5118   18.1351 O   0  0  0  0  0  0  0  0  0  0  0  0\\n    9.9625   -1.3145   18.6335 C   0  0  0  0  0  0  0  0  0  0  0  0\\n   11.6601   -2.9714   18.9060 C   0  0  0  0  0  0  0  0  0  0  0  0\\n   10.8860   -0.4764   18.0008 C   0  0  0  0  0  0  0  0  0  0  0  0\\n   12.5765   -2.1472   18.2624 C   0  0  0  0  0  0  0  0  0  0  0  0\\n   14.2105   -0.6459   16.5848 N   0  0  0  0  0  0  0  0  0  0  0  0\\n   14.1900    0.8914   12.5463 N   0  0  0  0  0  0  0  0  0  0  0  0\\n   14.9904    0.2805   13.3410 N   0  0  0  0  0  0  0  0  0  0  0  0\\n   12.6112    3.6732   15.7756 S   0  0  0  0  0  0  0  0  0  0  0  0\\n   13.1692   -0.0230   17.1610 C   0  0  0  0  0  0  0  0  0  0  0  0\\n   10.3362   -2.5668   19.0615 C   0  0  0  0  0  0  0  0  0  0  0  0\\n   13.3317    1.6380   13.2603 C   0  0  0  0  0  0  0  0  0  0  0  0\\n   12.2013   -0.8731   17.8033 C   0  0  0  0  0  0  0  0  0  0  0  0\\n   12.1745    3.5515   17.4411 C   0  0  0  0  0  0  0  0  0  0  0  0\\n   12.4172    2.2678   17.9141 C   0  0  0  0  0  0  0  0  0  0  0  0\\n   14.6565    0.6341   14.5970 C   0  0  0  0  0  0  0  0  0  0  0  0\\n   12.8949    1.3578   16.9319 C   0  0  0  0  0  0  0  0  0  0  0  0\\n   13.0493    1.9981   15.6873 C   0  0  0  0  0  0  0  0  0  0  0  0\\n   15.2946    0.1218   15.9049 C   0  0  0  0  0  0  0  0  0  0  0  0\\n   13.6029    1.4509   14.5698 N   0  0  0  0  0  0  0  0  0  0  0  0\\n  4  3  1  0\\n  9  8  1  0\\n 10  5  1  0\\n 10  6  1  0\\n 10  7  1  0\\n 11  9  2  0\\n 12  9  1  0\\n 12 10  1  0\\n 13 15  2  0\\n 13 22  1  0\\n 14 16  1  0\\n 14 22  2  0\\n 15 24  1  0\\n 16 24  2  0\\n 17 21  2  0\\n 17 30  1  0\\n 18 19  1  0\\n 18 23  2  0\\n 19 27  2  0\\n 20 25  1  0\\n 20 29  1  0\\n 21 24  1  0\\n 21 28  1  0\\n 23 31  1  0\\n 25 26  2  0\\n 26 28  1  0\\n 27 30  1  0\\n 27 31  1  0\\n 28 29  2  0\\n 29 31  1  0\\n  8 30  1  0\\n  4 25  1  0\\n  2 23  1  0\\n  1 22  1  0\\nM  RAD  1   1   2\\nM  END\\n\",\"sdf\");\n",
       "\tviewer_16316138427672184.setStyle({\"model\": 0},{\"stick\": {\"colorscheme\": \"lightgreyCarbon\"}});\n",
       "\tviewer_16316138427672184.zoomTo();\n",
       "viewer_16316138427672184.render();\n",
       "});\n",
       "</script>"
      ]
     },
     "metadata": {},
     "output_type": "display_data"
    }
   ],
   "source": [
    "rdmol8 = reconstruction(\"murcko_self_8.sdf\")\n",
    "show_all_conformers(rdmol8)"
   ]
  },
  {
   "cell_type": "code",
   "execution_count": 29,
   "metadata": {},
   "outputs": [
    {
     "name": "stdout",
     "output_type": "stream",
     "text": [
      "Score: 0.7796052631578947\n"
     ]
    },
    {
     "data": {
      "application/3dmoljs_load.v0": "<div id=\"3dmolviewer_16316138434131384\"  style=\"position: relative; width: 640px; height: 480px\">\n        <p id=\"3dmolwarning_16316138434131384\" style=\"background-color:#ffcccc;color:black\">You appear to be running in JupyterLab (or JavaScript failed to load for some other reason).  You need to install the 3dmol extension: <br>\n        <tt>jupyter labextension install jupyterlab_3dmol</tt></p>\n        </div>\n<script>\n\nvar loadScriptAsync = function(uri){\n  return new Promise((resolve, reject) => {\n    var tag = document.createElement('script');\n    tag.src = uri;\n    tag.async = true;\n    tag.onload = () => {\n      resolve();\n    };\n  var firstScriptTag = document.getElementsByTagName('script')[0];\n  firstScriptTag.parentNode.insertBefore(tag, firstScriptTag);\n});\n};\n\nif(typeof $3Dmolpromise === 'undefined') {\n$3Dmolpromise = null;\n  $3Dmolpromise = loadScriptAsync('https://3dmol.org/build/3Dmol.js');\n}\n\nvar viewer_16316138434131384 = null;\nvar warn = document.getElementById(\"3dmolwarning_16316138434131384\");\nif(warn) {\n    warn.parentNode.removeChild(warn);\n}\n$3Dmolpromise.then(function() {\nviewer_16316138434131384 = $3Dmol.createViewer($(\"#3dmolviewer_16316138434131384\"),{backgroundColor:\"white\"});\nviewer_16316138434131384.zoomTo();\n\tviewer_16316138434131384.addModel(\"BRD4, Ligand 10\\n     RDKit          3D\\n\\n 19 22  0  0  1  0  0  0  0  0999 V2000\\n   16.3525    5.2356   14.0720 C   0  0  0  0  0  0  0  0  0  0  0  0\\n   16.5876    3.5944   15.8054 C   0  0  0  0  0  0  0  0  0  0  0  0\\n   16.7113    6.2537   14.9332 C   0  0  0  0  0  0  0  0  0  0  0  0\\n   16.9395    4.6128   16.6721 C   0  0  0  0  0  0  0  0  0  0  0  0\\n   13.9306    2.6277   11.3608 C   0  0  0  0  0  0  0  0  0  0  0  0\\n   16.3000    3.9182   14.4951 C   0  0  0  0  0  0  0  0  0  0  0  0\\n   16.1861    3.1650   12.1302 C   0  0  0  0  0  0  0  0  0  0  0  0\\n   17.4475    3.5867   11.5958 C   0  0  0  0  0  0  0  0  0  0  0  0\\n   17.0045    5.9263   16.2408 C   0  0  0  0  0  0  0  0  0  0  0  0\\n   15.2205    3.0931   11.1387 C   0  0  0  0  0  0  0  0  0  0  0  0\\n   13.7539    1.5706   12.2150 C   0  0  0  0  0  0  0  0  0  0  0  0\\n   12.6470    2.9489   10.8542 C   0  0  0  0  0  0  0  0  0  0  0  0\\n   17.3902    3.7934   10.2275 C   0  0  0  0  0  0  0  0  0  0  0  0\\n   15.8965    2.8749   13.5325 C   0  0  0  0  0  0  0  0  0  0  0  0\\n   14.7777    0.8583   13.0153 C   0  0  0  0  0  0  0  0  0  0  0  0\\n   11.7370    2.1254   11.3945 N   0  0  0  0  0  0  0  0  0  0  0  0\\n   15.2370    1.8459   13.9925 N   0  0  0  0  0  0  0  0  0  0  0  0\\n   12.4242    1.2642   12.2562 O   0  0  0  0  0  0  0  0  0  0  0  0\\n   15.8200    3.5048    9.5895 S   0  0  0  0  0  0  0  0  0  0  0  0\\n  1  3  2  0\\n  1  6  1  0\\n  2  4  1  0\\n  2  6  2  0\\n  3  9  1  0\\n  4  9  2  0\\n  5 10  1  0\\n  5 11  2  0\\n  5 12  1  0\\n  6 14  1  0\\n  7  8  1  0\\n  7 10  2  0\\n  7 14  1  0\\n  8 13  2  0\\n 10 19  1  0\\n 11 15  1  0\\n 11 18  1  0\\n 12 16  2  0\\n 13 19  1  0\\n 14 17  2  0\\n 15 17  1  0\\n 16 18  1  0\\nM  END\\n\",\"sdf\");\n\tviewer_16316138434131384.addModel(\"BRD4, Ligand 10\\n     RDKit          3D\\n\\n 19 22  0  0  1  0  0  0  0  0999 V2000\\n    9.8371   16.7315    0.6667 C   0  0  0  0  0  0  0  0  0  0  0  0\\n   11.7367   18.1823    0.4660 C   0  0  0  0  0  0  0  0  0  0  0  0\\n    9.2994   17.2077   -0.5127 C   0  0  0  0  0  0  0  0  0  0  0  0\\n   11.1968   18.6668   -0.7113 C   0  0  0  0  0  0  0  0  0  0  0  0\\n   10.4307   15.8746    5.0177 C   0  0  0  0  0  0  0  0  0  0  0  0\\n   11.0465   17.2021    1.1496 C   0  0  0  0  0  0  0  0  0  0  0  0\\n   11.1431   15.3052    2.7513 C   0  0  0  0  0  0  0  0  0  0  0  0\\n   11.2303   14.1612    1.8922 C   0  0  0  0  0  0  0  0  0  0  0  0\\n    9.9947   18.1829   -1.1973 C   0  0  0  0  0  0  0  0  0  0  0  0\\n   10.5595   14.9775    3.9648 C   0  0  0  0  0  0  0  0  0  0  0  0\\n   11.4507   16.7594    5.2525 C   0  0  0  0  0  0  0  0  0  0  0  0\\n    9.4668   16.1002    6.0313 C   0  0  0  0  0  0  0  0  0  0  0  0\\n   10.7328   13.0180    2.4955 C   0  0  0  0  0  0  0  0  0  0  0  0\\n   11.5642   16.6651    2.4230 C   0  0  0  0  0  0  0  0  0  0  0  0\\n   12.6998   16.9445    4.4769 C   0  0  0  0  0  0  0  0  0  0  0  0\\n    9.8874   17.0900    6.8323 N   0  0  0  0  0  0  0  0  0  0  0  0\\n   12.2585   17.4681    3.1837 N   0  0  0  0  0  0  0  0  0  0  0  0\\n   11.1275   17.5139    6.3433 O   0  0  0  0  0  0  0  0  0  0  0  0\\n   10.1408   13.3221    4.0808 S   0  0  0  0  0  0  0  0  0  0  0  0\\n  1  3  2  0\\n  1  6  1  0\\n  2  4  1  0\\n  2  6  2  0\\n  3  9  1  0\\n  4  9  2  0\\n  5 10  1  0\\n  5 11  2  0\\n  5 12  1  0\\n  6 14  1  0\\n  7  8  1  0\\n  7 10  2  0\\n  7 14  1  0\\n  8 13  2  0\\n 10 19  1  0\\n 11 15  1  0\\n 11 18  1  0\\n 12 16  2  0\\n 13 19  1  0\\n 14 17  2  0\\n 15 17  1  0\\n 16 18  1  0\\nM  END\\n\",\"sdf\");\n\tviewer_16316138434131384.addModel(\"BRD4, Ligand 10\\n     RDKit          3D\\n\\n 27 30  0  0  1  0  0  0  0  0999 V2000\\n   14.2547   17.0265    5.1962 C   0  0  0  0  0  0  0  0  0  0  0  0\\n   14.7890   18.2659    3.2133 C   0  0  0  0  0  0  0  0  0  0  0  0\\n   15.5101   17.2545    5.7242 C   0  0  0  0  0  0  0  0  0  0  0  0\\n   16.0495   18.4892    3.7360 C   0  0  0  0  0  0  0  0  0  0  0  0\\n   10.7049   14.9465    3.4383 C   0  0  0  0  0  0  0  0  0  0  0  0\\n   13.8894   17.5330    3.9603 C   0  0  0  0  0  0  0  0  0  0  0  0\\n   11.5097   17.0173    4.4542 C   0  0  0  0  0  0  0  0  0  0  0  0\\n   11.2209   17.8654    5.5732 C   0  0  0  0  0  0  0  0  0  0  0  0\\n   16.4051   17.9930    4.9781 C   0  0  0  0  0  0  0  0  0  0  0  0\\n   10.6991   15.8932    4.4549 C   0  0  0  0  0  0  0  0  0  0  0  0\\n   10.8493   15.3757    2.1447 C   0  0  0  0  0  0  0  0  0  0  0  0\\n   10.5329   13.5416    3.3747 C   0  0  0  0  0  0  0  0  0  0  0  0\\n   10.1954   17.3625    6.3565 C   0  0  0  0  0  0  0  0  0  0  0  0\\n   12.5382   17.2447    3.4418 C   0  0  0  0  0  0  0  0  0  0  0  0\\n   11.3411   18.2901   -0.2450 C   0  0  0  0  0  0  0  0  0  0  0  0\\n   11.0674   16.7579    1.6569 C   0  0  0  0  0  0  0  0  0  0  0  0\\n   11.8900   19.1513    5.8577 C   0  0  0  0  0  0  0  0  0  0  0  0\\n   10.3210   12.5661    4.4585 C   0  0  0  0  0  0  0  0  0  0  0  0\\n    9.5948   17.9265    7.5823 C   0  0  0  0  0  0  0  0  0  0  0  0\\n   11.0829   16.8685    0.1516 C   0  0  0  0  0  0  0  0  0  0  0  0\\n   10.5860   13.1448    2.0949 N   0  0  0  0  0  0  0  0  0  0  0  0\\n   12.3971   17.1190    2.1496 N   0  0  0  0  0  0  0  0  0  0  0  0\\n   11.8808   18.3738   -1.5024 N   0  0  0  0  0  0  0  0  0  0  0  0\\n   11.0891   19.2574    0.4605 O   0  0  0  0  0  0  0  0  0  0  0  0\\n   10.7935   14.2899    1.3191 O   0  0  0  0  0  0  0  0  0  0  0  0\\n    9.5965   15.8640    5.7635 S   0  0  0  0  0  0  0  0  0  0  0  0\\n   17.9850   18.2843    5.6252 Cl  0  0  0  0  0  0  0  0  0  0  0  0\\n  1  3  2  0\\n  1  6  1  0\\n  2  4  1  0\\n  2  6  2  0\\n  3  9  1  0\\n  4  9  2  0\\n  5 10  1  0\\n  5 11  2  0\\n  5 12  1  0\\n  6 14  1  0\\n  7  8  1  0\\n  7 10  2  0\\n  7 14  1  0\\n  8 13  2  0\\n  8 17  1  0\\n  9 27  1  0\\n 10 26  1  0\\n 11 16  1  0\\n 11 25  1  0\\n 12 18  1  0\\n 12 21  2  0\\n 13 19  1  0\\n 13 26  1  0\\n 14 22  2  0\\n 15 20  1  0\\n 15 23  1  0\\n 15 24  2  0\\n 16 20  1  0\\n 16 22  1  0\\n 21 25  1  0\\nM  END\\n\",\"sdf\");\n\tviewer_16316138434131384.setStyle({\"model\": 0},{\"stick\": {\"colorscheme\": \"lightgreyCarbon\"}});\n\tviewer_16316138434131384.setStyle({\"model\": 1},{\"stick\": {\"colorscheme\": \"redCarbon\"}});\n\tviewer_16316138434131384.setStyle({\"model\": 2},{\"stick\": {\"colorscheme\": \"greyCarbon\"}});\n\tviewer_16316138434131384.zoomTo();\nviewer_16316138434131384.render();\n});\n</script>",
      "text/html": [
       "<div id=\"3dmolviewer_16316138434131384\"  style=\"position: relative; width: 640px; height: 480px\">\n",
       "        <p id=\"3dmolwarning_16316138434131384\" style=\"background-color:#ffcccc;color:black\">You appear to be running in JupyterLab (or JavaScript failed to load for some other reason).  You need to install the 3dmol extension: <br>\n",
       "        <tt>jupyter labextension install jupyterlab_3dmol</tt></p>\n",
       "        </div>\n",
       "<script>\n",
       "\n",
       "var loadScriptAsync = function(uri){\n",
       "  return new Promise((resolve, reject) => {\n",
       "    var tag = document.createElement('script');\n",
       "    tag.src = uri;\n",
       "    tag.async = true;\n",
       "    tag.onload = () => {\n",
       "      resolve();\n",
       "    };\n",
       "  var firstScriptTag = document.getElementsByTagName('script')[0];\n",
       "  firstScriptTag.parentNode.insertBefore(tag, firstScriptTag);\n",
       "});\n",
       "};\n",
       "\n",
       "if(typeof $3Dmolpromise === 'undefined') {\n",
       "$3Dmolpromise = null;\n",
       "  $3Dmolpromise = loadScriptAsync('https://3dmol.org/build/3Dmol.js');\n",
       "}\n",
       "\n",
       "var viewer_16316138434131384 = null;\n",
       "var warn = document.getElementById(\"3dmolwarning_16316138434131384\");\n",
       "if(warn) {\n",
       "    warn.parentNode.removeChild(warn);\n",
       "}\n",
       "$3Dmolpromise.then(function() {\n",
       "viewer_16316138434131384 = $3Dmol.createViewer($(\"#3dmolviewer_16316138434131384\"),{backgroundColor:\"white\"});\n",
       "viewer_16316138434131384.zoomTo();\n",
       "\tviewer_16316138434131384.addModel(\"BRD4, Ligand 10\\n     RDKit          3D\\n\\n 19 22  0  0  1  0  0  0  0  0999 V2000\\n   16.3525    5.2356   14.0720 C   0  0  0  0  0  0  0  0  0  0  0  0\\n   16.5876    3.5944   15.8054 C   0  0  0  0  0  0  0  0  0  0  0  0\\n   16.7113    6.2537   14.9332 C   0  0  0  0  0  0  0  0  0  0  0  0\\n   16.9395    4.6128   16.6721 C   0  0  0  0  0  0  0  0  0  0  0  0\\n   13.9306    2.6277   11.3608 C   0  0  0  0  0  0  0  0  0  0  0  0\\n   16.3000    3.9182   14.4951 C   0  0  0  0  0  0  0  0  0  0  0  0\\n   16.1861    3.1650   12.1302 C   0  0  0  0  0  0  0  0  0  0  0  0\\n   17.4475    3.5867   11.5958 C   0  0  0  0  0  0  0  0  0  0  0  0\\n   17.0045    5.9263   16.2408 C   0  0  0  0  0  0  0  0  0  0  0  0\\n   15.2205    3.0931   11.1387 C   0  0  0  0  0  0  0  0  0  0  0  0\\n   13.7539    1.5706   12.2150 C   0  0  0  0  0  0  0  0  0  0  0  0\\n   12.6470    2.9489   10.8542 C   0  0  0  0  0  0  0  0  0  0  0  0\\n   17.3902    3.7934   10.2275 C   0  0  0  0  0  0  0  0  0  0  0  0\\n   15.8965    2.8749   13.5325 C   0  0  0  0  0  0  0  0  0  0  0  0\\n   14.7777    0.8583   13.0153 C   0  0  0  0  0  0  0  0  0  0  0  0\\n   11.7370    2.1254   11.3945 N   0  0  0  0  0  0  0  0  0  0  0  0\\n   15.2370    1.8459   13.9925 N   0  0  0  0  0  0  0  0  0  0  0  0\\n   12.4242    1.2642   12.2562 O   0  0  0  0  0  0  0  0  0  0  0  0\\n   15.8200    3.5048    9.5895 S   0  0  0  0  0  0  0  0  0  0  0  0\\n  1  3  2  0\\n  1  6  1  0\\n  2  4  1  0\\n  2  6  2  0\\n  3  9  1  0\\n  4  9  2  0\\n  5 10  1  0\\n  5 11  2  0\\n  5 12  1  0\\n  6 14  1  0\\n  7  8  1  0\\n  7 10  2  0\\n  7 14  1  0\\n  8 13  2  0\\n 10 19  1  0\\n 11 15  1  0\\n 11 18  1  0\\n 12 16  2  0\\n 13 19  1  0\\n 14 17  2  0\\n 15 17  1  0\\n 16 18  1  0\\nM  END\\n\",\"sdf\");\n",
       "\tviewer_16316138434131384.addModel(\"BRD4, Ligand 10\\n     RDKit          3D\\n\\n 19 22  0  0  1  0  0  0  0  0999 V2000\\n    9.8371   16.7315    0.6667 C   0  0  0  0  0  0  0  0  0  0  0  0\\n   11.7367   18.1823    0.4660 C   0  0  0  0  0  0  0  0  0  0  0  0\\n    9.2994   17.2077   -0.5127 C   0  0  0  0  0  0  0  0  0  0  0  0\\n   11.1968   18.6668   -0.7113 C   0  0  0  0  0  0  0  0  0  0  0  0\\n   10.4307   15.8746    5.0177 C   0  0  0  0  0  0  0  0  0  0  0  0\\n   11.0465   17.2021    1.1496 C   0  0  0  0  0  0  0  0  0  0  0  0\\n   11.1431   15.3052    2.7513 C   0  0  0  0  0  0  0  0  0  0  0  0\\n   11.2303   14.1612    1.8922 C   0  0  0  0  0  0  0  0  0  0  0  0\\n    9.9947   18.1829   -1.1973 C   0  0  0  0  0  0  0  0  0  0  0  0\\n   10.5595   14.9775    3.9648 C   0  0  0  0  0  0  0  0  0  0  0  0\\n   11.4507   16.7594    5.2525 C   0  0  0  0  0  0  0  0  0  0  0  0\\n    9.4668   16.1002    6.0313 C   0  0  0  0  0  0  0  0  0  0  0  0\\n   10.7328   13.0180    2.4955 C   0  0  0  0  0  0  0  0  0  0  0  0\\n   11.5642   16.6651    2.4230 C   0  0  0  0  0  0  0  0  0  0  0  0\\n   12.6998   16.9445    4.4769 C   0  0  0  0  0  0  0  0  0  0  0  0\\n    9.8874   17.0900    6.8323 N   0  0  0  0  0  0  0  0  0  0  0  0\\n   12.2585   17.4681    3.1837 N   0  0  0  0  0  0  0  0  0  0  0  0\\n   11.1275   17.5139    6.3433 O   0  0  0  0  0  0  0  0  0  0  0  0\\n   10.1408   13.3221    4.0808 S   0  0  0  0  0  0  0  0  0  0  0  0\\n  1  3  2  0\\n  1  6  1  0\\n  2  4  1  0\\n  2  6  2  0\\n  3  9  1  0\\n  4  9  2  0\\n  5 10  1  0\\n  5 11  2  0\\n  5 12  1  0\\n  6 14  1  0\\n  7  8  1  0\\n  7 10  2  0\\n  7 14  1  0\\n  8 13  2  0\\n 10 19  1  0\\n 11 15  1  0\\n 11 18  1  0\\n 12 16  2  0\\n 13 19  1  0\\n 14 17  2  0\\n 15 17  1  0\\n 16 18  1  0\\nM  END\\n\",\"sdf\");\n",
       "\tviewer_16316138434131384.addModel(\"BRD4, Ligand 10\\n     RDKit          3D\\n\\n 27 30  0  0  1  0  0  0  0  0999 V2000\\n   14.2547   17.0265    5.1962 C   0  0  0  0  0  0  0  0  0  0  0  0\\n   14.7890   18.2659    3.2133 C   0  0  0  0  0  0  0  0  0  0  0  0\\n   15.5101   17.2545    5.7242 C   0  0  0  0  0  0  0  0  0  0  0  0\\n   16.0495   18.4892    3.7360 C   0  0  0  0  0  0  0  0  0  0  0  0\\n   10.7049   14.9465    3.4383 C   0  0  0  0  0  0  0  0  0  0  0  0\\n   13.8894   17.5330    3.9603 C   0  0  0  0  0  0  0  0  0  0  0  0\\n   11.5097   17.0173    4.4542 C   0  0  0  0  0  0  0  0  0  0  0  0\\n   11.2209   17.8654    5.5732 C   0  0  0  0  0  0  0  0  0  0  0  0\\n   16.4051   17.9930    4.9781 C   0  0  0  0  0  0  0  0  0  0  0  0\\n   10.6991   15.8932    4.4549 C   0  0  0  0  0  0  0  0  0  0  0  0\\n   10.8493   15.3757    2.1447 C   0  0  0  0  0  0  0  0  0  0  0  0\\n   10.5329   13.5416    3.3747 C   0  0  0  0  0  0  0  0  0  0  0  0\\n   10.1954   17.3625    6.3565 C   0  0  0  0  0  0  0  0  0  0  0  0\\n   12.5382   17.2447    3.4418 C   0  0  0  0  0  0  0  0  0  0  0  0\\n   11.3411   18.2901   -0.2450 C   0  0  0  0  0  0  0  0  0  0  0  0\\n   11.0674   16.7579    1.6569 C   0  0  0  0  0  0  0  0  0  0  0  0\\n   11.8900   19.1513    5.8577 C   0  0  0  0  0  0  0  0  0  0  0  0\\n   10.3210   12.5661    4.4585 C   0  0  0  0  0  0  0  0  0  0  0  0\\n    9.5948   17.9265    7.5823 C   0  0  0  0  0  0  0  0  0  0  0  0\\n   11.0829   16.8685    0.1516 C   0  0  0  0  0  0  0  0  0  0  0  0\\n   10.5860   13.1448    2.0949 N   0  0  0  0  0  0  0  0  0  0  0  0\\n   12.3971   17.1190    2.1496 N   0  0  0  0  0  0  0  0  0  0  0  0\\n   11.8808   18.3738   -1.5024 N   0  0  0  0  0  0  0  0  0  0  0  0\\n   11.0891   19.2574    0.4605 O   0  0  0  0  0  0  0  0  0  0  0  0\\n   10.7935   14.2899    1.3191 O   0  0  0  0  0  0  0  0  0  0  0  0\\n    9.5965   15.8640    5.7635 S   0  0  0  0  0  0  0  0  0  0  0  0\\n   17.9850   18.2843    5.6252 Cl  0  0  0  0  0  0  0  0  0  0  0  0\\n  1  3  2  0\\n  1  6  1  0\\n  2  4  1  0\\n  2  6  2  0\\n  3  9  1  0\\n  4  9  2  0\\n  5 10  1  0\\n  5 11  2  0\\n  5 12  1  0\\n  6 14  1  0\\n  7  8  1  0\\n  7 10  2  0\\n  7 14  1  0\\n  8 13  2  0\\n  8 17  1  0\\n  9 27  1  0\\n 10 26  1  0\\n 11 16  1  0\\n 11 25  1  0\\n 12 18  1  0\\n 12 21  2  0\\n 13 19  1  0\\n 13 26  1  0\\n 14 22  2  0\\n 15 20  1  0\\n 15 23  1  0\\n 15 24  2  0\\n 16 20  1  0\\n 16 22  1  0\\n 21 25  1  0\\nM  END\\n\",\"sdf\");\n",
       "\tviewer_16316138434131384.setStyle({\"model\": 0},{\"stick\": {\"colorscheme\": \"lightgreyCarbon\"}});\n",
       "\tviewer_16316138434131384.setStyle({\"model\": 1},{\"stick\": {\"colorscheme\": \"redCarbon\"}});\n",
       "\tviewer_16316138434131384.setStyle({\"model\": 2},{\"stick\": {\"colorscheme\": \"greyCarbon\"}});\n",
       "\tviewer_16316138434131384.zoomTo();\n",
       "viewer_16316138434131384.render();\n",
       "});\n",
       "</script>"
      ]
     },
     "metadata": {},
     "output_type": "display_data"
    },
    {
     "data": {
      "text/plain": [
       "<py3Dmol.view at 0x7f1db0daa518>"
      ]
     },
     "execution_count": 29,
     "metadata": {},
     "output_type": "execute_result"
    }
   ],
   "source": [
    "molid = 9\n",
    "als = AlignShow([mols[molid], mkmols[molid]], [pcds[molid], mkpcds[molid]])\n",
    "s = als.align(1, 0)\n",
    "print(\"Score:\", s)\n",
    "als.save(1, 0, f\"murcko_self_{molid}.sdf\")\n",
    "als.show(1, 0)"
   ]
  },
  {
   "cell_type": "code",
   "execution_count": 30,
   "metadata": {},
   "outputs": [
    {
     "name": "stderr",
     "output_type": "stream",
     "text": [
      "RDKit ERROR: [11:04:21] Can't kekulize mol.  Unkekulized atoms: 26 27 28 29 34\n",
      "RDKit ERROR: \n"
     ]
    },
    {
     "ename": "KekulizeException",
     "evalue": "Can't kekulize mol.  Unkekulized atoms: 26 27 28 29 34\n",
     "output_type": "error",
     "traceback": [
      "\u001b[0;31m---------------------------------------------------------------------------\u001b[0m",
      "\u001b[0;31mKekulizeException\u001b[0m                         Traceback (most recent call last)",
      "\u001b[0;32m<ipython-input-30-7601e8ee605c>\u001b[0m in \u001b[0;36m<module>\u001b[0;34m\u001b[0m\n\u001b[0;32m----> 1\u001b[0;31m \u001b[0mrdmol9\u001b[0m \u001b[0;34m=\u001b[0m \u001b[0mreconstruction\u001b[0m\u001b[0;34m(\u001b[0m\u001b[0;34m\"murcko_self_9.sdf\"\u001b[0m\u001b[0;34m)\u001b[0m\u001b[0;34m\u001b[0m\u001b[0;34m\u001b[0m\u001b[0m\n\u001b[0m\u001b[1;32m      2\u001b[0m \u001b[0mshow_all_conformers\u001b[0m\u001b[0;34m(\u001b[0m\u001b[0mrdmol9\u001b[0m\u001b[0;34m)\u001b[0m\u001b[0;34m\u001b[0m\u001b[0;34m\u001b[0m\u001b[0m\n",
      "\u001b[0;32m<ipython-input-10-ef02c1abe8fa>\u001b[0m in \u001b[0;36mreconstruction\u001b[0;34m(fname, verbose)\u001b[0m\n\u001b[1;32m     23\u001b[0m     \u001b[0;31m# Fit atoms into density difference\u001b[0m\u001b[0;34m\u001b[0m\u001b[0;34m\u001b[0m\u001b[0;34m\u001b[0m\u001b[0m\n\u001b[1;32m     24\u001b[0m     \u001b[0;31m# Link nearest atom from the fit to the scaffold to build whole molecule\u001b[0m\u001b[0;34m\u001b[0m\u001b[0;34m\u001b[0m\u001b[0;34m\u001b[0m\u001b[0m\n\u001b[0;32m---> 25\u001b[0;31m     \u001b[0mrdmolfinal\u001b[0m \u001b[0;34m=\u001b[0m \u001b[0mmolgrid_diff_to_mol\u001b[0m\u001b[0;34m(\u001b[0m\u001b[0mnpgdiff\u001b[0m\u001b[0;34m,\u001b[0m \u001b[0mc\u001b[0m\u001b[0;34m,\u001b[0m \u001b[0;36m0.5\u001b[0m\u001b[0;34m,\u001b[0m \u001b[0;34m\"../files/ligmap\"\u001b[0m\u001b[0;34m,\u001b[0m \u001b[0mrdscaffold\u001b[0m\u001b[0;34m,\u001b[0m \u001b[0mverbose\u001b[0m\u001b[0;34m=\u001b[0m\u001b[0mverbose\u001b[0m\u001b[0;34m)\u001b[0m\u001b[0;34m\u001b[0m\u001b[0;34m\u001b[0m\u001b[0m\n\u001b[0m\u001b[1;32m     26\u001b[0m \u001b[0;34m\u001b[0m\u001b[0m\n\u001b[1;32m     27\u001b[0m     \u001b[0;32mreturn\u001b[0m \u001b[0mrdmolfinal\u001b[0m\u001b[0;34m\u001b[0m\u001b[0;34m\u001b[0m\u001b[0m\n",
      "\u001b[0;32m~/Documents/git/densitymatch/fit_to_grid.py\u001b[0m in \u001b[0;36mmolgrid_diff_to_mol\u001b[0;34m(diff, center, resolution, ligmap, scaffold, verbose)\u001b[0m\n\u001b[1;32m    239\u001b[0m         \u001b[0mrdmolfinal\u001b[0m\u001b[0;34m,\u001b[0m\u001b[0;34m\u001b[0m\u001b[0;34m\u001b[0m\u001b[0m\n\u001b[1;32m    240\u001b[0m         sanitizeOps=(\n\u001b[0;32m--> 241\u001b[0;31m             \u001b[0mChem\u001b[0m\u001b[0;34m.\u001b[0m\u001b[0mSANITIZE_ALL\u001b[0m \u001b[0;34m^\u001b[0m \u001b[0mChem\u001b[0m\u001b[0;34m.\u001b[0m\u001b[0mSANITIZE_CLEANUP\u001b[0m \u001b[0;34m^\u001b[0m \u001b[0mChem\u001b[0m\u001b[0;34m.\u001b[0m\u001b[0mSANITIZE_PROPERTIES\u001b[0m\u001b[0;34m\u001b[0m\u001b[0;34m\u001b[0m\u001b[0m\n\u001b[0m\u001b[1;32m    242\u001b[0m         ),\n\u001b[1;32m    243\u001b[0m     )\n",
      "\u001b[0;31mKekulizeException\u001b[0m: Can't kekulize mol.  Unkekulized atoms: 26 27 28 29 34\n"
     ]
    }
   ],
   "source": [
    "rdmol9 = reconstruction(\"murcko_self_9.sdf\")\n",
    "show_all_conformers(rdmol9)"
   ]
  }
 ],
 "metadata": {
  "interpreter": {
   "hash": "2170310d8da5d5d0ced416f072c764c73705bd667e97df15cd83672f4e754559"
  },
  "kernelspec": {
   "display_name": "Python 3",
   "language": "python",
   "name": "python3"
  },
  "language_info": {
   "codemirror_mode": {
    "name": "ipython",
    "version": 3
   },
   "file_extension": ".py",
   "mimetype": "text/x-python",
   "name": "python",
   "nbconvert_exporter": "python",
   "pygments_lexer": "ipython3",
   "version": "3.6.9"
  }
 },
 "nbformat": 4,
 "nbformat_minor": 2
}
