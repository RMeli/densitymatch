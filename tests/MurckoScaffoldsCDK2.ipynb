{
 "cells": [
  {
   "cell_type": "markdown",
   "metadata": {},
   "source": [
    "# Align Murcko Scaffolds"
   ]
  },
  {
   "cell_type": "code",
   "execution_count": 1,
   "metadata": {},
   "outputs": [],
   "source": [
    "%load_ext autoreload\n",
    "%autoreload 2"
   ]
  },
  {
   "cell_type": "markdown",
   "metadata": {},
   "source": [
    "### Libraries"
   ]
  },
  {
   "cell_type": "code",
   "execution_count": 2,
   "metadata": {},
   "outputs": [
    {
     "name": "stdout",
     "output_type": "stream",
     "text": [
      "Jupyter environment detected. Enabling Open3D WebVisualizer.\n",
      "[Open3D INFO] WebRTC GUI backend enabled.\n",
      "[Open3D INFO] WebRTCWindowSystem: HTTP handshake server disabled.\n"
     ]
    },
    {
     "name": "stderr",
     "output_type": "stream",
     "text": [
      "INFO - 2021-08-30 16:38:07,138 - __init__ - Enabling RDKit 2021.03.3 jupyter extensions\n"
     ]
    }
   ],
   "source": [
    "import open3d as o3d\n",
    "import numpy as np\n",
    "import seaborn as sns\n",
    "import pandas as pd\n",
    "\n",
    "from numpy.random import default_rng\n",
    "\n",
    "import re, os\n",
    "from io import StringIO\n",
    "\n",
    "from tqdm.auto import trange\n",
    "\n",
    "import py3Dmol\n",
    "\n",
    "from rdkit import Chem\n",
    "from rdkit.Chem import AllChem\n",
    "from rdkit.Chem import PandasTools\n",
    "\n",
    "import ipywidgets as widgets\n",
    "\n",
    "import copy"
   ]
  },
  {
   "cell_type": "code",
   "execution_count": 3,
   "metadata": {},
   "outputs": [],
   "source": [
    "from utils import show_molecule_idx\n",
    "from utils import AlignShow, translate_and_rotate"
   ]
  },
  {
   "cell_type": "code",
   "execution_count": 4,
   "metadata": {},
   "outputs": [],
   "source": [
    "from rdkit.Chem.Scaffolds import MurckoScaffold as MS"
   ]
  },
  {
   "cell_type": "code",
   "execution_count": 5,
   "metadata": {},
   "outputs": [
    {
     "name": "stdout",
     "output_type": "stream",
     "text": [
      "['ligands/CDK2/4ek4_B_1CK_tran.pcd', 'ligands/CDK2/4ek5_B_03K_tran.pcd', 'ligands/CDK2/4fkg_B_4CK_tran.pcd', 'ligands/CDK2/4fki_B_09K_tran.pcd', 'ligands/CDK2/4fkj_B_11K_tran.pcd', 'ligands/CDK2/3sw4_B_18K_tran.pcd', 'ligands/CDK2/3sw7_B_19K_tran.pcd', 'ligands/CDK2/4fko_B_20K_tran.pcd', 'ligands/CDK2/4fkp_B_LS5_tran.pcd', 'ligands/CDK2/4fkq_B_42K_tran.pcd', 'ligands/CDK2/4fkr_B_45K_tran.pcd', 'ligands/CDK2/4fks_B_46K_tran.pcd', 'ligands/CDK2/4fkt_B_48K_tran.pcd', 'ligands/CDK2/4fku_D_60K_tran.pcd', 'ligands/CDK2/4fkv_B_61K_tran.pcd', 'ligands/CDK2/4fkw_B_62K_tran.pcd']\n"
     ]
    }
   ],
   "source": [
    "path = \"ligands/CDK2\"\n",
    "files = [os.path.join(path, f) for f in os.listdir(path) if os.path.splitext(f)[-1] == \".pcd\" and os.path.splitext(f)[0][-4:] == \"tran\"]\n",
    "\n",
    "# Order ligands\n",
    "# This should make the three chemical series pop-up in the PCD fit\n",
    "names = {\n",
    "    \"4ek4_B_1CK\": \"CS1\",\n",
    "    \"4ek5_B_03K\": \"CS3\",\n",
    "    \"4fkg_B_4CK\": \"CS4\",\n",
    "    \"4fki_B_09K\": \"CS9\",\n",
    "    \"4fkj_B_11K\": \"CS11\",\n",
    "    \"3sw4_B_18K\": \"CS18\",\n",
    "    \"3sw7_B_19K\": \"CS19\",\n",
    "    \"4fko_B_20K\": \"CS20\",\n",
    "    \"4fkp_B_LS5\": \"CS241\",\n",
    "    \"4fkq_B_42K\": \"CS242\",\n",
    "    \"4fkr_B_45K\": \"CS245\",\n",
    "    \"4fks_B_46K\": \"CS246\",\n",
    "    \"4fkt_B_48K\": \"CS248\",\n",
    "    \"4fku_D_60K\": \"CS260\",\n",
    "    \"4fkv_B_61K\": \"CS261\",\n",
    "    \"4fkw_B_62K\": \"CS262\",\n",
    "}\n",
    "\n",
    "files.sort(key=lambda f: int(names[os.path.splitext(os.path.basename(f))[0].replace(\"_tran\", \"\")].replace(\"CS\", \"\")))\n",
    "\n",
    "print(files)\n",
    "\n",
    "pcds = []\n",
    "mols = []\n",
    "for f in files:\n",
    "    pcd = o3d.io.read_point_cloud(f)\n",
    "    pcds.append(pcd)\n",
    "\n",
    "    s = Chem.SDMolSupplier(f.replace(\".pcd\", \".sdf\"))\n",
    "    mol = next(s)\n",
    "    mols.append(mol)"
   ]
  },
  {
   "cell_type": "code",
   "execution_count": 6,
   "metadata": {},
   "outputs": [
    {
     "data": {
      "application/vnd.jupyter.widget-view+json": {
       "model_id": "13f3a2cb1ecc46b2bb9ba333861d6511",
       "version_major": 2,
       "version_minor": 0
      },
      "text/plain": [
       "interactive(children=(IntSlider(value=1, description='index', max=15), Output()), _dom_classes=('widget-intera…"
      ]
     },
     "metadata": {},
     "output_type": "display_data"
    }
   ],
   "source": [
    "_ = widgets.interact(lambda index: show_molecule_idx(index, mols), index=widgets.IntSlider(min=0, max=len(mols)-1, step=1, value=1))"
   ]
  },
  {
   "cell_type": "code",
   "execution_count": 7,
   "metadata": {},
   "outputs": [],
   "source": [
    "msMols = [MS.GetScaffoldForMol(mol) for mol in mols]"
   ]
  },
  {
   "cell_type": "code",
   "execution_count": 8,
   "metadata": {},
   "outputs": [
    {
     "data": {
      "application/vnd.jupyter.widget-view+json": {
       "model_id": "11239cea86ef4a9d831ce0fd13bef6eb",
       "version_major": 2,
       "version_minor": 0
      },
      "text/plain": [
       "interactive(children=(IntSlider(value=1, description='index', max=15), Output()), _dom_classes=('widget-intera…"
      ]
     },
     "metadata": {},
     "output_type": "display_data"
    }
   ],
   "source": [
    "_ = widgets.interact(lambda index: show_molecule_idx(index, msMols), index=widgets.IntSlider(min=0, max=len(mols)-1, step=1, value=1))"
   ]
  },
  {
   "cell_type": "markdown",
   "metadata": {},
   "source": [
    "Write scaffolds to file:"
   ]
  },
  {
   "cell_type": "code",
   "execution_count": 9,
   "metadata": {},
   "outputs": [],
   "source": [
    "for idx, mol in enumerate(msMols):    \n",
    "    # Randomly translate and rotate Murcko scaffolds\n",
    "    translate_and_rotate(mol)\n",
    "\n",
    "    with Chem.SDWriter(os.path.join(path, f\"murcko_{idx}.sdf\")) as w:\n",
    "        w.write(mol, confId=0)"
   ]
  },
  {
   "cell_type": "code",
   "execution_count": 10,
   "metadata": {},
   "outputs": [],
   "source": [
    "n_mols_minus_one = len(mols) - 1"
   ]
  },
  {
   "cell_type": "code",
   "execution_count": 11,
   "metadata": {},
   "outputs": [],
   "source": [
    "%%bash -s \"$path\" \"$n_mols_minus_one\"\n",
    "\n",
    "# Python variable path passed to bash\n",
    "# Can be accessed with $1\n",
    "\n",
    "# Python variable n_frags passed to bash\n",
    "# Can be accessed with $2\n",
    "\n",
    "# Unfortunately molgrid does not work well with pybel\n",
    "# molgrid_to_pcd needs to run within a Singularity container\n",
    "# (RDKit and molgrid compiled from source!)\n",
    "# See https://github.com/gnina/libmolgrid/issues/62\n",
    "\n",
    "for SCAFFOLD in $(seq 0 $2)\n",
    "do\n",
    "    singularity run --nv --app python ../development/densitymatch.sif \\\n",
    "        ../molgrid_to_pcd.py ${PWD}/${1}/murcko_${SCAFFOLD}.sdf -o ${PWD}/${1}/murcko_${SCAFFOLD}.pcd \\\n",
    "            --ligmap ${PWD}/../files/ligmap\n",
    "done"
   ]
  },
  {
   "cell_type": "code",
   "execution_count": 12,
   "metadata": {},
   "outputs": [
    {
     "name": "stdout",
     "output_type": "stream",
     "text": [
      "murcko_0.pcd\r\n",
      "murcko_10.pcd\r\n",
      "murcko_11.pcd\r\n",
      "murcko_12.pcd\r\n",
      "murcko_13.pcd\r\n",
      "murcko_14.pcd\r\n",
      "murcko_15.pcd\r\n",
      "murcko_1.pcd\r\n",
      "murcko_2.pcd\r\n",
      "murcko_3.pcd\r\n",
      "murcko_4.pcd\r\n",
      "murcko_5.pcd\r\n",
      "murcko_6.pcd\r\n",
      "murcko_7.pcd\r\n",
      "murcko_8.pcd\r\n",
      "murcko_9.pcd\r\n"
     ]
    }
   ],
   "source": [
    "!ls ligands/CDK2 | grep \"murcko.*\\.pcd\""
   ]
  },
  {
   "cell_type": "code",
   "execution_count": 13,
   "metadata": {},
   "outputs": [
    {
     "name": "stdout",
     "output_type": "stream",
     "text": [
      "['ligands/CDK2/murcko_0.pcd', 'ligands/CDK2/murcko_1.pcd', 'ligands/CDK2/murcko_2.pcd', 'ligands/CDK2/murcko_3.pcd', 'ligands/CDK2/murcko_4.pcd', 'ligands/CDK2/murcko_5.pcd', 'ligands/CDK2/murcko_6.pcd', 'ligands/CDK2/murcko_7.pcd', 'ligands/CDK2/murcko_8.pcd', 'ligands/CDK2/murcko_9.pcd', 'ligands/CDK2/murcko_10.pcd', 'ligands/CDK2/murcko_11.pcd', 'ligands/CDK2/murcko_12.pcd', 'ligands/CDK2/murcko_13.pcd', 'ligands/CDK2/murcko_14.pcd', 'ligands/CDK2/murcko_15.pcd']\n",
      "[PointCloud with 425 points., PointCloud with 490 points., PointCloud with 509 points., PointCloud with 572 points., PointCloud with 858 points., PointCloud with 602 points., PointCloud with 606 points., PointCloud with 597 points., PointCloud with 572 points., PointCloud with 633 points., PointCloud with 934 points., PointCloud with 729 points., PointCloud with 540 points., PointCloud with 541 points., PointCloud with 893 points., PointCloud with 567 points.]\n"
     ]
    }
   ],
   "source": [
    "mkpcds = []\n",
    "mkmols = []\n",
    "\n",
    "files = [os.path.join(path, f\"murcko_{i}.pcd\") for i in range(len(mols))]\n",
    "\n",
    "print(files)\n",
    "\n",
    "for f in files:\n",
    "    pcd = o3d.io.read_point_cloud(f)\n",
    "    mkpcds.append(pcd)\n",
    "\n",
    "    s = Chem.SDMolSupplier(f.replace(\".pcd\", \".sdf\"))\n",
    "    mol = next(s)\n",
    "    mkmols.append(mol)\n",
    "\n",
    "print(mkpcds)"
   ]
  },
  {
   "cell_type": "code",
   "execution_count": 14,
   "metadata": {},
   "outputs": [],
   "source": [
    "molid = 8\n",
    "\n",
    "# Add reference molecule to fragments\n",
    "allmols = [mols[molid]] + mkmols\n",
    "allpcds = [pcds[molid]] + mkpcds"
   ]
  },
  {
   "cell_type": "code",
   "execution_count": 15,
   "metadata": {},
   "outputs": [],
   "source": [
    "als = AlignShow(allmols, allpcds)"
   ]
  },
  {
   "cell_type": "markdown",
   "metadata": {},
   "source": [
    "Look at the best alignment between molecule `molid` (which has been appended at position `0`) any all Murcko's scaffolds."
   ]
  },
  {
   "cell_type": "code",
   "execution_count": 16,
   "metadata": {},
   "outputs": [],
   "source": [
    "s, (i,j) = als.best_with(0) # molid has been appended in position 0"
   ]
  },
  {
   "cell_type": "code",
   "execution_count": 17,
   "metadata": {},
   "outputs": [
    {
     "data": {
      "text/plain": [
       "0.7505800464037123"
      ]
     },
     "execution_count": 17,
     "metadata": {},
     "output_type": "execute_result"
    }
   ],
   "source": [
    "s"
   ]
  },
  {
   "cell_type": "code",
   "execution_count": 18,
   "metadata": {},
   "outputs": [
    {
     "data": {
      "text/plain": [
       "(0, 11)"
      ]
     },
     "execution_count": 18,
     "metadata": {},
     "output_type": "execute_result"
    }
   ],
   "source": [
    "(i, j)"
   ]
  },
  {
   "cell_type": "code",
   "execution_count": 19,
   "metadata": {},
   "outputs": [
    {
     "data": {
      "text/plain": [
       "{(0, 0): 1.0,\n",
       " (0, 1): 0.4547563805104408,\n",
       " (0, 2): 0.45243619489559167,\n",
       " (0, 3): 0.5139211136890951,\n",
       " (0, 4): 0.46867749419953597,\n",
       " (0, 5): 0.5382830626450116,\n",
       " (0, 6): 0.46983758700696054,\n",
       " (0, 7): 0.4176334106728538,\n",
       " (0, 8): 0.5,\n",
       " (0, 9): 0.6299303944315545,\n",
       " (0, 10): 0.505800464037123,\n",
       " (0, 11): 0.7505800464037123,\n",
       " (0, 12): 0.35266821345707655,\n",
       " (0, 13): 0.48607888631090485,\n",
       " (0, 14): 0.6322505800464037,\n",
       " (0, 15): 0.6044083526682135,\n",
       " (0, 16): 0.6276102088167054,\n",
       " (1, 0): 0.8682352941176471,\n",
       " (1, 1): 1.0,\n",
       " (1, 2): 0.9176470588235294,\n",
       " (1, 3): 0.8235294117647058,\n",
       " (1, 4): 0.7388235294117647,\n",
       " (1, 5): 0.76,\n",
       " (1, 6): 0.5764705882352941,\n",
       " (1, 7): 0.7458823529411764,\n",
       " (1, 8): 0.6305882352941177,\n",
       " (1, 9): 0.8564705882352941,\n",
       " (1, 10): 0.7788235294117647,\n",
       " (1, 11): 0.5952941176470589,\n",
       " (1, 12): 0.7552941176470588,\n",
       " (1, 13): 0.8094117647058824,\n",
       " (1, 14): 0.76,\n",
       " (1, 15): 0.7835294117647059,\n",
       " (1, 16): 0.8117647058823529,\n",
       " (2, 0): 0.7673469387755102,\n",
       " (2, 1): 0.8367346938775511,\n",
       " (2, 2): 1.0,\n",
       " (2, 3): 0.9102040816326531,\n",
       " (2, 4): 0.6183673469387755,\n",
       " (2, 5): 0.7795918367346939,\n",
       " (2, 6): 0.6306122448979592,\n",
       " (2, 7): 0.7040816326530612,\n",
       " (2, 8): 0.6530612244897959,\n",
       " (2, 9): 0.7591836734693878,\n",
       " (2, 10): 0.6959183673469388,\n",
       " (2, 11): 0.7244897959183674,\n",
       " (2, 12): 0.7122448979591837,\n",
       " (2, 13): 0.6510204081632653,\n",
       " (2, 14): 0.7591836734693878,\n",
       " (2, 15): 0.5653061224489796,\n",
       " (2, 16): 0.7428571428571429,\n",
       " (3, 0): 0.787819253438114,\n",
       " (3, 1): 0.7269155206286837,\n",
       " (3, 2): 0.899803536345776,\n",
       " (3, 3): 1.0,\n",
       " (3, 4): 0.630648330058939,\n",
       " (3, 5): 0.8192534381139489,\n",
       " (3, 6): 0.7053045186640472,\n",
       " (3, 7): 0.7151277013752456,\n",
       " (3, 8): 0.7229862475442044,\n",
       " (3, 9): 0.8074656188605108,\n",
       " (3, 10): 0.6640471512770137,\n",
       " (3, 11): 0.8271119842829077,\n",
       " (3, 12): 0.6974459724950884,\n",
       " (3, 13): 0.4911591355599214,\n",
       " (3, 14): 0.6974459724950884,\n",
       " (3, 15): 0.7367387033398821,\n",
       " (3, 16): 0.5638506876227898,\n",
       " (4, 0): 0.7237762237762237,\n",
       " (4, 1): 0.5786713286713286,\n",
       " (4, 2): 0.5699300699300699,\n",
       " (4, 3): 0.5891608391608392,\n",
       " (4, 4): 1.0,\n",
       " (4, 5): 0.9440559440559441,\n",
       " (4, 6): 0.49475524475524474,\n",
       " (4, 7): 0.5227272727272727,\n",
       " (4, 8): 0.6276223776223776,\n",
       " (4, 9): 0.6206293706293706,\n",
       " (4, 10): 0.6083916083916084,\n",
       " (4, 11): 0.6171328671328671,\n",
       " (4, 12): 0.6241258741258742,\n",
       " (4, 13): 0.5751748251748252,\n",
       " (4, 14): 0.5891608391608392,\n",
       " (4, 15): 0.5611888111888111,\n",
       " (4, 16): 0.5699300699300699,\n",
       " (5, 0): 0.4627039627039627,\n",
       " (5, 1): 0.3321678321678322,\n",
       " (5, 2): 0.3344988344988345,\n",
       " (5, 3): 0.4813519813519814,\n",
       " (5, 4): 0.6153846153846154,\n",
       " (5, 5): 1.0,\n",
       " (5, 6): 0.4230769230769231,\n",
       " (5, 7): 0.36946386946386944,\n",
       " (5, 8): 0.36013986013986016,\n",
       " (5, 9): 0.45454545454545453,\n",
       " (5, 10): 0.42424242424242425,\n",
       " (5, 11): 0.47086247086247085,\n",
       " (5, 12): 0.4219114219114219,\n",
       " (5, 13): 0.40442890442890445,\n",
       " (5, 14): 0.3275058275058275,\n",
       " (5, 15): 0.47435897435897434,\n",
       " (5, 16): 0.4020979020979021,\n",
       " (6, 0): 0.686046511627907,\n",
       " (6, 1): 0.44019933554817275,\n",
       " (6, 2): 0.6129568106312292,\n",
       " (6, 3): 0.5813953488372093,\n",
       " (6, 4): 0.6079734219269103,\n",
       " (6, 5): 0.579734219269103,\n",
       " (6, 6): 1.0,\n",
       " (6, 7): 0.6445182724252492,\n",
       " (6, 8): 0.9601328903654485,\n",
       " (6, 9): 0.6362126245847176,\n",
       " (6, 10): 0.8023255813953488,\n",
       " (6, 11): 0.6245847176079734,\n",
       " (6, 12): 0.729235880398671,\n",
       " (6, 13): 0.6960132890365448,\n",
       " (6, 14): 0.6395348837209303,\n",
       " (6, 15): 0.6079734219269103,\n",
       " (6, 16): 0.5880398671096345,\n",
       " (7, 0): 0.5561056105610561,\n",
       " (7, 1): 0.5412541254125413,\n",
       " (7, 2): 0.523102310231023,\n",
       " (7, 3): 0.5792079207920792,\n",
       " (7, 4): 0.49834983498349833,\n",
       " (7, 5): 0.5379537953795379,\n",
       " (7, 6): 0.6386138613861386,\n",
       " (7, 7): 1.0,\n",
       " (7, 8): 0.9537953795379538,\n",
       " (7, 9): 0.7244224422442245,\n",
       " (7, 10): 0.6798679867986799,\n",
       " (7, 11): 0.8399339933993399,\n",
       " (7, 12): 0.8168316831683168,\n",
       " (7, 13): 0.6254125412541254,\n",
       " (7, 14): 0.46864686468646866,\n",
       " (7, 15): 0.5627062706270627,\n",
       " (7, 16): 0.7194719471947195,\n",
       " (8, 0): 0.7018425460636516,\n",
       " (8, 1): 0.45896147403685095,\n",
       " (8, 2): 0.5443886097152428,\n",
       " (8, 3): 0.5561139028475712,\n",
       " (8, 4): 0.5896147403685092,\n",
       " (8, 5): 0.48911222780569513,\n",
       " (8, 6): 0.9363484087102177,\n",
       " (8, 7): 0.9564489112227805,\n",
       " (8, 8): 1.0,\n",
       " (8, 9): 0.5996649916247906,\n",
       " (8, 10): 0.5025125628140703,\n",
       " (8, 11): 0.6750418760469011,\n",
       " (8, 12): 0.7202680067001676,\n",
       " (8, 13): 0.592964824120603,\n",
       " (8, 14): 0.6700167504187605,\n",
       " (8, 15): 0.711892797319933,\n",
       " (8, 16): 0.5728643216080402,\n",
       " (9, 0): 0.708041958041958,\n",
       " (9, 1): 0.7115384615384616,\n",
       " (9, 2): 0.5402097902097902,\n",
       " (9, 3): 0.7395104895104895,\n",
       " (9, 4): 0.6083916083916084,\n",
       " (9, 5): 0.6783216783216783,\n",
       " (9, 6): 0.6958041958041958,\n",
       " (9, 7): 0.7709790209790209,\n",
       " (9, 8): 0.5944055944055944,\n",
       " (9, 9): 1.0,\n",
       " (9, 10): 0.7482517482517482,\n",
       " (9, 11): 0.6538461538461539,\n",
       " (9, 12): 0.916083916083916,\n",
       " (9, 13): 0.7290209790209791,\n",
       " (9, 14): 0.9178321678321678,\n",
       " (9, 15): 0.9125874125874126,\n",
       " (9, 16): 0.9388111888111889,\n",
       " (10, 0): 0.7109004739336493,\n",
       " (10, 1): 0.5608214849921012,\n",
       " (10, 2): 0.631911532385466,\n",
       " (10, 3): 0.5402843601895735,\n",
       " (10, 4): 0.6113744075829384,\n",
       " (10, 5): 0.5687203791469194,\n",
       " (10, 6): 0.7551342812006319,\n",
       " (10, 7): 0.6287519747235387,\n",
       " (10, 8): 0.7488151658767772,\n",
       " (10, 9): 0.6808846761453397,\n",
       " (10, 10): 1.0,\n",
       " (10, 11): 0.7535545023696683,\n",
       " (10, 12): 0.9225908372827805,\n",
       " (10, 13): 0.7819905213270142,\n",
       " (10, 14): 0.8293838862559242,\n",
       " (10, 15): 0.6050552922590837,\n",
       " (10, 16): 0.8135860979462876,\n",
       " (11, 0): 0.7141327623126338,\n",
       " (11, 1): 0.3511777301927195,\n",
       " (11, 2): 0.4057815845824411,\n",
       " (11, 3): 0.49464668094218417,\n",
       " (11, 4): 0.291220556745182,\n",
       " (11, 5): 0.550321199143469,\n",
       " (11, 6): 0.30728051391862954,\n",
       " (11, 7): 0.5845824411134903,\n",
       " (11, 8): 0.430406852248394,\n",
       " (11, 9): 0.6038543897216274,\n",
       " (11, 10): 0.5653104925053534,\n",
       " (11, 11): 1.0,\n",
       " (11, 12): 0.7665952890792291,\n",
       " (11, 13): 0.45610278372591007,\n",
       " (11, 14): 0.4346895074946467,\n",
       " (11, 15): 0.39400428265524623,\n",
       " (11, 16): 0.48394004282655245,\n",
       " (12, 0): 0.42661179698216734,\n",
       " (12, 1): 0.4787379972565158,\n",
       " (12, 2): 0.5486968449931413,\n",
       " (12, 3): 0.5253772290809328,\n",
       " (12, 4): 0.6090534979423868,\n",
       " (12, 5): 0.4252400548696845,\n",
       " (12, 6): 0.6598079561042524,\n",
       " (12, 7): 0.7434842249657064,\n",
       " (12, 8): 0.52400548696845,\n",
       " (12, 9): 0.7503429355281207,\n",
       " (12, 10): 0.8916323731138546,\n",
       " (12, 11): 0.9602194787379973,\n",
       " (12, 12): 1.0,\n",
       " (12, 13): 0.6556927297668038,\n",
       " (12, 14): 0.7338820301783264,\n",
       " (12, 15): 0.6598079561042524,\n",
       " (12, 16): 0.6625514403292181,\n",
       " (13, 0): 0.6148148148148148,\n",
       " (13, 1): 0.6518518518518519,\n",
       " (13, 2): 0.6166666666666667,\n",
       " (13, 3): 0.6759259259259259,\n",
       " (13, 4): 0.6407407407407407,\n",
       " (13, 5): 0.5981481481481481,\n",
       " (13, 6): 0.7425925925925926,\n",
       " (13, 7): 0.7018518518518518,\n",
       " (13, 8): 0.6962962962962963,\n",
       " (13, 9): 0.7555555555555555,\n",
       " (13, 10): 0.9222222222222223,\n",
       " (13, 11): 0.7944444444444444,\n",
       " (13, 12): 0.7685185185185185,\n",
       " (13, 13): 1.0,\n",
       " (13, 14): 0.7148148148148148,\n",
       " (13, 15): 0.75,\n",
       " (13, 16): 0.7777777777777778,\n",
       " (14, 0): 0.9316081330868762,\n",
       " (14, 1): 0.6284658040665434,\n",
       " (14, 2): 0.7079482439926063,\n",
       " (14, 3): 0.5730129390018485,\n",
       " (14, 4): 0.6377079482439926,\n",
       " (14, 5): 0.5101663585951941,\n",
       " (14, 6): 0.6876155268022182,\n",
       " (14, 7): 0.744916820702403,\n",
       " (14, 8): 0.7097966728280961,\n",
       " (14, 9): 0.922365988909427,\n",
       " (14, 10): 0.7208872458410351,\n",
       " (14, 11): 0.6229205175600739,\n",
       " (14, 12): 0.911275415896488,\n",
       " (14, 13): 0.7282809611829945,\n",
       " (14, 14): 1.0,\n",
       " (14, 15): 0.5730129390018485,\n",
       " (14, 16): 0.9574861367837338,\n",
       " (15, 0): 0.5722284434490481,\n",
       " (15, 1): 0.3023516237402016,\n",
       " (15, 2): 0.2933930571108623,\n",
       " (15, 3): 0.4232922732362822,\n",
       " (15, 4): 0.43784994400895855,\n",
       " (15, 5): 0.4501679731243001,\n",
       " (15, 6): 0.39417693169092943,\n",
       " (15, 7): 0.39417693169092943,\n",
       " (15, 8): 0.45352743561030234,\n",
       " (15, 9): 0.5655095184770437,\n",
       " (15, 10): 0.44568868980963045,\n",
       " (15, 11): 0.387458006718925,\n",
       " (15, 12): 0.4826427771556551,\n",
       " (15, 13): 0.46472564389697646,\n",
       " (15, 14): 0.46808510638297873,\n",
       " (15, 15): 1.0,\n",
       " (15, 16): 0.5879059350503919,\n",
       " (16, 0): 0.9400352733686067,\n",
       " (16, 1): 0.6631393298059964,\n",
       " (16, 2): 0.6649029982363316,\n",
       " (16, 3): 0.6984126984126984,\n",
       " (16, 4): 0.6225749559082893,\n",
       " (16, 5): 0.5908289241622575,\n",
       " (16, 6): 0.6137566137566137,\n",
       " (16, 7): 0.7583774250440917,\n",
       " (16, 8): 0.6772486772486772,\n",
       " (16, 9): 0.9453262786596119,\n",
       " (16, 10): 0.9206349206349206,\n",
       " (16, 11): 0.6649029982363316,\n",
       " (16, 12): 0.5784832451499118,\n",
       " (16, 13): 0.7513227513227513,\n",
       " (16, 14): 0.9682539682539683,\n",
       " (16, 15): 0.9223985890652557,\n",
       " (16, 16): 1.0}"
      ]
     },
     "execution_count": 19,
     "metadata": {},
     "output_type": "execute_result"
    }
   ],
   "source": [
    "als.scores"
   ]
  },
  {
   "cell_type": "markdown",
   "metadata": {},
   "source": [
    "With this dataset (where ligands come from the same chemical series), the best aligned scaffold is not necessarily `molid` because other scaffold can be similar but larger. The best scaffold is clearly well aligned and has a reasonable score:"
   ]
  },
  {
   "cell_type": "code",
   "execution_count": 20,
   "metadata": {},
   "outputs": [
    {
     "data": {
      "application/vnd.jupyter.widget-view+json": {
       "model_id": "1ec9e1cc960641349970a83ecdcbfff3",
       "version_major": 2,
       "version_minor": 0
      },
      "text/plain": [
       "interactive(children=(IntSlider(value=1, description='index', max=15), Output()), _dom_classes=('widget-intera…"
      ]
     },
     "metadata": {},
     "output_type": "display_data"
    }
   ],
   "source": [
    "_ = widgets.interact(lambda index: als.show(0, index), index=widgets.IntSlider(min=0, max=len(mols)-1, step=1, value=1))"
   ]
  },
  {
   "cell_type": "code",
   "execution_count": 21,
   "metadata": {},
   "outputs": [],
   "source": [
    "als.save(i, j)"
   ]
  }
 ],
 "metadata": {
  "interpreter": {
   "hash": "2170310d8da5d5d0ced416f072c764c73705bd667e97df15cd83672f4e754559"
  },
  "kernelspec": {
   "display_name": "Python 3",
   "language": "python",
   "name": "python3"
  },
  "language_info": {
   "codemirror_mode": {
    "name": "ipython",
    "version": 3
   },
   "file_extension": ".py",
   "mimetype": "text/x-python",
   "name": "python",
   "nbconvert_exporter": "python",
   "pygments_lexer": "ipython3",
   "version": "3.7.10"
  }
 },
 "nbformat": 4,
 "nbformat_minor": 2
}
