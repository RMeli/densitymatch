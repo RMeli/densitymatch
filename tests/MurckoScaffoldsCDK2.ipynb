{
 "cells": [
  {
   "cell_type": "markdown",
   "metadata": {},
   "source": [
    "# Align Murcko Scaffolds"
   ]
  },
  {
   "cell_type": "code",
   "execution_count": 1,
   "metadata": {},
   "outputs": [],
   "source": [
    "%load_ext autoreload\n",
    "%autoreload 2"
   ]
  },
  {
   "cell_type": "markdown",
   "metadata": {},
   "source": [
    "### Libraries"
   ]
  },
  {
   "cell_type": "code",
   "execution_count": 2,
   "metadata": {},
   "outputs": [
    {
     "name": "stdout",
     "output_type": "stream",
     "text": [
      "Jupyter environment detected. Enabling Open3D WebVisualizer.\n",
      "[Open3D INFO] WebRTC GUI backend enabled.\n",
      "[Open3D INFO] WebRTCWindowSystem: HTTP handshake server disabled.\n"
     ]
    },
    {
     "name": "stderr",
     "output_type": "stream",
     "text": [
      "/usr/lib/python3.6/importlib/_bootstrap.py:219: RuntimeWarning: to-Python converter for std::vector<std::__cxx11::basic_string<char, std::char_traits<char>, std::allocator<char> >, std::allocator<std::__cxx11::basic_string<char, std::char_traits<char>, std::allocator<char> > > > already registered; second conversion method ignored.\n",
      "  return f(*args, **kwds)\n",
      "/usr/lib/python3.6/importlib/_bootstrap.py:219: RuntimeWarning: to-Python converter for std::vector<unsigned long, std::allocator<unsigned long> > already registered; second conversion method ignored.\n",
      "  return f(*args, **kwds)\n",
      "INFO - 2021-09-13 18:02:50,012 - __init__ - Enabling RDKit 2021.03.1 jupyter extensions\n"
     ]
    }
   ],
   "source": [
    "import open3d as o3d\n",
    "import numpy as np\n",
    "import seaborn as sns\n",
    "import pandas as pd\n",
    "\n",
    "from numpy.random import default_rng\n",
    "\n",
    "import re, os\n",
    "from io import StringIO\n",
    "\n",
    "import tqdm\n",
    "from tqdm.auto import trange\n",
    "\n",
    "import py3Dmol\n",
    "\n",
    "import molgrid\n",
    "\n",
    "from rdkit import Chem\n",
    "from rdkit.Chem import AllChem\n",
    "from rdkit.Chem import PandasTools\n",
    "from rdkit.Chem.Scaffolds import MurckoScaffold as MS\n",
    "\n",
    "from openbabel import pybel\n",
    "\n",
    "import ipywidgets as widgets\n",
    "\n",
    "import copy"
   ]
  },
  {
   "cell_type": "code",
   "execution_count": 3,
   "metadata": {},
   "outputs": [],
   "source": [
    "from utils import show_molecule_idx, show_all_conformers\n",
    "from utils import AlignShow, translate_and_rotate\n",
    "\n",
    "import sys\n",
    "\n",
    "sys.path.append(\"../../ligan-EVOTEC\")\n",
    "\n",
    "from molgrid_to_pcd import mol_to_grid, grid_to_pcd\n",
    "from molgrid_diff import grid_diff\n",
    "from fit_to_grid import molgrid_diff_to_mol"
   ]
  },
  {
   "cell_type": "code",
   "execution_count": 4,
   "metadata": {},
   "outputs": [
    {
     "name": "stdout",
     "output_type": "stream",
     "text": [
      "['ligands/CDK2/4ek4_B_1CK_tran.pcd', 'ligands/CDK2/4ek5_B_03K_tran.pcd', 'ligands/CDK2/4fkg_B_4CK_tran.pcd', 'ligands/CDK2/4fki_B_09K_tran.pcd', 'ligands/CDK2/4fkj_B_11K_tran.pcd', 'ligands/CDK2/3sw4_B_18K_tran.pcd', 'ligands/CDK2/3sw7_B_19K_tran.pcd', 'ligands/CDK2/4fko_B_20K_tran.pcd', 'ligands/CDK2/4fkp_B_LS5_tran.pcd', 'ligands/CDK2/4fkq_B_42K_tran.pcd', 'ligands/CDK2/4fkr_B_45K_tran.pcd', 'ligands/CDK2/4fks_B_46K_tran.pcd', 'ligands/CDK2/4fkt_B_48K_tran.pcd', 'ligands/CDK2/4fku_D_60K_tran.pcd', 'ligands/CDK2/4fkv_B_61K_tran.pcd', 'ligands/CDK2/4fkw_B_62K_tran.pcd']\n"
     ]
    }
   ],
   "source": [
    "path = \"ligands/CDK2\"\n",
    "files = [\n",
    "    os.path.join(path, f)\n",
    "    for f in os.listdir(path)\n",
    "    if os.path.splitext(f)[-1] == \".pcd\" and os.path.splitext(f)[0][-4:] == \"tran\"\n",
    "]\n",
    "\n",
    "# Order ligands\n",
    "# This should make the three chemical series pop-up in the PCD fit\n",
    "names = {\n",
    "    \"4ek4_B_1CK\": \"CS1\",\n",
    "    \"4ek5_B_03K\": \"CS3\",\n",
    "    \"4fkg_B_4CK\": \"CS4\",\n",
    "    \"4fki_B_09K\": \"CS9\",\n",
    "    \"4fkj_B_11K\": \"CS11\",\n",
    "    \"3sw4_B_18K\": \"CS18\",\n",
    "    \"3sw7_B_19K\": \"CS19\",\n",
    "    \"4fko_B_20K\": \"CS20\",\n",
    "    \"4fkp_B_LS5\": \"CS241\",\n",
    "    \"4fkq_B_42K\": \"CS242\",\n",
    "    \"4fkr_B_45K\": \"CS245\",\n",
    "    \"4fks_B_46K\": \"CS246\",\n",
    "    \"4fkt_B_48K\": \"CS248\",\n",
    "    \"4fku_D_60K\": \"CS260\",\n",
    "    \"4fkv_B_61K\": \"CS261\",\n",
    "    \"4fkw_B_62K\": \"CS262\",\n",
    "}\n",
    "\n",
    "files.sort(\n",
    "    key=lambda f: int(\n",
    "        names[os.path.splitext(os.path.basename(f))[0].replace(\"_tran\", \"\")].replace(\n",
    "            \"CS\", \"\"\n",
    "        )\n",
    "    )\n",
    ")\n",
    "\n",
    "print(files)\n",
    "\n",
    "pcds = []\n",
    "mols = []\n",
    "for f in files:\n",
    "    pcd = o3d.io.read_point_cloud(f)\n",
    "    pcds.append(pcd)\n",
    "\n",
    "    s = Chem.SDMolSupplier(f.replace(\".pcd\", \".sdf\"))\n",
    "    mol = next(s)\n",
    "    mols.append(mol)"
   ]
  },
  {
   "cell_type": "code",
   "execution_count": 5,
   "metadata": {},
   "outputs": [
    {
     "data": {
      "application/vnd.jupyter.widget-view+json": {
       "model_id": "fe4a7034319342249dc0ad24de66cab4",
       "version_major": 2,
       "version_minor": 0
      },
      "text/plain": [
       "interactive(children=(IntSlider(value=1, description='index', max=15), Output()), _dom_classes=('widget-intera…"
      ]
     },
     "metadata": {},
     "output_type": "display_data"
    }
   ],
   "source": [
    "_ = widgets.interact(\n",
    "    lambda index: show_molecule_idx(index, mols),\n",
    "    index=widgets.IntSlider(min=0, max=len(mols) - 1, step=1, value=1),\n",
    ")"
   ]
  },
  {
   "cell_type": "code",
   "execution_count": 6,
   "metadata": {},
   "outputs": [],
   "source": [
    "msMols = [MS.GetScaffoldForMol(mol) for mol in mols]"
   ]
  },
  {
   "cell_type": "code",
   "execution_count": 7,
   "metadata": {},
   "outputs": [
    {
     "data": {
      "application/vnd.jupyter.widget-view+json": {
       "model_id": "99d77e0222224c2b80444de05e443b0c",
       "version_major": 2,
       "version_minor": 0
      },
      "text/plain": [
       "interactive(children=(IntSlider(value=1, description='index', max=15), Output()), _dom_classes=('widget-intera…"
      ]
     },
     "metadata": {},
     "output_type": "display_data"
    }
   ],
   "source": [
    "_ = widgets.interact(\n",
    "    lambda index: show_molecule_idx(index, msMols),\n",
    "    index=widgets.IntSlider(min=0, max=len(mols) - 1, step=1, value=1),\n",
    ")"
   ]
  },
  {
   "cell_type": "markdown",
   "metadata": {},
   "source": [
    "Write scaffolds to file:"
   ]
  },
  {
   "cell_type": "code",
   "execution_count": 8,
   "metadata": {},
   "outputs": [],
   "source": [
    "for idx, mol in enumerate(msMols):\n",
    "    # Randomly translate and rotate Murcko scaffolds\n",
    "    translate_and_rotate(mol)\n",
    "\n",
    "    with Chem.SDWriter(os.path.join(path, f\"murcko_{idx}.sdf\")) as w:\n",
    "        w.write(mol, confId=0)"
   ]
  },
  {
   "cell_type": "code",
   "execution_count": 9,
   "metadata": {},
   "outputs": [
    {
     "name": "stdout",
     "output_type": "stream",
     "text": [
      "['ligands/CDK2/murcko_0.sdf', 'ligands/CDK2/murcko_1.sdf', 'ligands/CDK2/murcko_2.sdf', 'ligands/CDK2/murcko_3.sdf', 'ligands/CDK2/murcko_4.sdf', 'ligands/CDK2/murcko_5.sdf', 'ligands/CDK2/murcko_6.sdf', 'ligands/CDK2/murcko_7.sdf', 'ligands/CDK2/murcko_8.sdf', 'ligands/CDK2/murcko_9.sdf', 'ligands/CDK2/murcko_10.sdf', 'ligands/CDK2/murcko_11.sdf', 'ligands/CDK2/murcko_12.sdf', 'ligands/CDK2/murcko_13.sdf', 'ligands/CDK2/murcko_14.sdf', 'ligands/CDK2/murcko_15.sdf']\n"
     ]
    },
    {
     "name": "stderr",
     "output_type": "stream",
     "text": [
      "100%|██████████| 16/16 [00:03<00:00,  5.00it/s]"
     ]
    },
    {
     "name": "stdout",
     "output_type": "stream",
     "text": [
      "[PointCloud with 425 points., PointCloud with 490 points., PointCloud with 509 points., PointCloud with 572 points., PointCloud with 858 points., PointCloud with 602 points., PointCloud with 606 points., PointCloud with 597 points., PointCloud with 572 points., PointCloud with 633 points., PointCloud with 934 points., PointCloud with 729 points., PointCloud with 540 points., PointCloud with 541 points., PointCloud with 893 points., PointCloud with 567 points.]\n"
     ]
    },
    {
     "name": "stderr",
     "output_type": "stream",
     "text": [
      "\n"
     ]
    }
   ],
   "source": [
    "mkpcds = []\n",
    "mkmols = []\n",
    "\n",
    "files = [os.path.join(path, f\"murcko_{i}.sdf\") for i in range(len(mols))]\n",
    "\n",
    "print(files)\n",
    "\n",
    "typer = molgrid.FileMappedGninaTyper(\"../files/ligmap\")\n",
    "\n",
    "for f in tqdm.tqdm(files):\n",
    "    # Load molecule as RDKit molecule\n",
    "    s = Chem.SDMolSupplier(f)\n",
    "    mol = next(s)\n",
    "    mkmols.append(mol)\n",
    "\n",
    "    # Load molecule as OpenBabel molecule\n",
    "    obmol = next(pybel.readfile(\"sdf\", f))\n",
    "\n",
    "    grid, center = mol_to_grid(obmol, 23.5, 0.5, typer)\n",
    "    pcd = grid_to_pcd(\n",
    "        grid,\n",
    "        center,\n",
    "        23.5,\n",
    "        0.5,\n",
    "        typer,\n",
    "    )\n",
    "\n",
    "    # pcd = o3d.io.read_point_cloud(f)\n",
    "    mkpcds.append(pcd)\n",
    "\n",
    "print(mkpcds)"
   ]
  },
  {
   "cell_type": "code",
   "execution_count": 10,
   "metadata": {},
   "outputs": [],
   "source": [
    "# molid = 8\n",
    "\n",
    "# Add reference molecule to fragments\n",
    "# allmols = [mols[molid]] + mkmols\n",
    "# allpcds = [pcds[molid]] + mkpcds"
   ]
  },
  {
   "cell_type": "markdown",
   "metadata": {},
   "source": [
    "#als = AlignShow(allmols, allpcds)"
   ]
  },
  {
   "cell_type": "markdown",
   "metadata": {},
   "source": [
    "Look at the best alignment between molecule `molid` (which has been appended at position `0`) any all Murcko's scaffolds."
   ]
  },
  {
   "cell_type": "markdown",
   "metadata": {},
   "source": [
    "#s, (i,j) = als.best_with(0) # molid has been appended in position 0"
   ]
  },
  {
   "cell_type": "code",
   "execution_count": 11,
   "metadata": {},
   "outputs": [],
   "source": [
    "# als.scores"
   ]
  },
  {
   "cell_type": "markdown",
   "metadata": {},
   "source": [
    "With this dataset (where ligands come from the same chemical series), the best aligned scaffold is not necessarily `molid` because other scaffold can be similar but larger. The best scaffold is clearly well aligned and has a reasonable score:"
   ]
  },
  {
   "cell_type": "code",
   "execution_count": 12,
   "metadata": {},
   "outputs": [],
   "source": [
    "# _ = widgets.interact(lambda index: als.show(0, index), index=widgets.IntSlider(min=0, max=len(mols)-1, step=1, value=1))"
   ]
  },
  {
   "cell_type": "markdown",
   "metadata": {},
   "source": [
    "## Align Murcko Scaffold with Original Molecule"
   ]
  },
  {
   "cell_type": "markdown",
   "metadata": {},
   "source": [
    "### Reconstruction"
   ]
  },
  {
   "cell_type": "code",
   "execution_count": 13,
   "metadata": {},
   "outputs": [],
   "source": [
    "def reconstruction(fname, verbose=False):\n",
    "    \"\"\"\n",
    "    Reconstruct molecule from file.\n",
    "    Files is assumed to contained the scaffold (confId=0)\n",
    "    aligned to its original molecule (confId=1)\n",
    "    \"\"\"\n",
    "    typer = molgrid.FileMappedGninaTyper(\"../files/ligmap\")\n",
    "\n",
    "    sdfile = pybel.readfile(\"sdf\", fname)\n",
    "    obmol1 = next(sdfile)\n",
    "    obmol2 = next(sdfile)\n",
    "\n",
    "    gdiff, c = grid_diff(obmol1, obmol2, 23.5, 0.5, typer)\n",
    "\n",
    "    # Convert center to numpy array\n",
    "    c = np.array([c[0], c[1], c[2]])\n",
    "\n",
    "    npgdiff = gdiff.cpu().detach().numpy()\n",
    "\n",
    "    # Load Murcko scaffold as RDKit molecule\n",
    "    rdscaffold = next(Chem.SDMolSupplier(fname, removeHs=True))\n",
    "\n",
    "    # Fit atoms into density difference\n",
    "    # Link nearest atom from the fit to the scaffold to build whole molecule\n",
    "    rdmolfinal = molgrid_diff_to_mol(\n",
    "        npgdiff, c, 0.5, \"../files/ligmap\", rdscaffold, verbose=verbose\n",
    "    )\n",
    "\n",
    "    return rdmolfinal"
   ]
  },
  {
   "cell_type": "code",
   "execution_count": 14,
   "metadata": {},
   "outputs": [
    {
     "name": "stdout",
     "output_type": "stream",
     "text": [
      "Score: 0.7858823529411765\n"
     ]
    },
    {
     "data": {
      "application/3dmoljs_load.v0": "<div id=\"3dmolviewer_16315525742993073\"  style=\"position: relative; width: 640px; height: 480px\">\n        <p id=\"3dmolwarning_16315525742993073\" style=\"background-color:#ffcccc;color:black\">You appear to be running in JupyterLab (or JavaScript failed to load for some other reason).  You need to install the 3dmol extension: <br>\n        <tt>jupyter labextension install jupyterlab_3dmol</tt></p>\n        </div>\n<script>\n\nvar loadScriptAsync = function(uri){\n  return new Promise((resolve, reject) => {\n    var tag = document.createElement('script');\n    tag.src = uri;\n    tag.async = true;\n    tag.onload = () => {\n      resolve();\n    };\n  var firstScriptTag = document.getElementsByTagName('script')[0];\n  firstScriptTag.parentNode.insertBefore(tag, firstScriptTag);\n});\n};\n\nif(typeof $3Dmolpromise === 'undefined') {\n$3Dmolpromise = null;\n  $3Dmolpromise = loadScriptAsync('https://3dmol.org/build/3Dmol.js');\n}\n\nvar viewer_16315525742993073 = null;\nvar warn = document.getElementById(\"3dmolwarning_16315525742993073\");\nif(warn) {\n    warn.parentNode.removeChild(warn);\n}\n$3Dmolpromise.then(function() {\nviewer_16315525742993073 = $3Dmol.createViewer($(\"#3dmolviewer_16315525742993073\"),{backgroundColor:\"white\"});\nviewer_16315525742993073.zoomTo();\n\tviewer_16315525742993073.addModel(\"4ek4_B_1CK.pdb\\n     RDKit          3D\\n\\n 14 15  0  0  0  0  0  0  0  0999 V2000\\n    2.3257   30.6859   19.6846 N   0  0  0  0  0  0  0  0  0  0  0  0\\n    0.0303   31.0373   19.5589 N   0  0  0  0  0  0  0  0  0  0  0  0\\n    3.1549   29.7369   20.1076 N   0  0  0  0  0  0  0  0  0  0  0  0\\n   -1.6016   29.4913   19.8035 O   0  0  0  0  0  0  0  0  0  0  0  0\\n   -4.3944   32.0276   17.9020 C   0  0  0  0  0  0  0  0  0  0  0  0\\n   -3.1559   33.8330   18.9691 C   0  0  0  0  0  0  0  0  0  0  0  0\\n   -3.4064   31.1266   18.3226 C   0  0  0  0  0  0  0  0  0  0  0  0\\n   -2.1823   32.9115   19.3783 C   0  0  0  0  0  0  0  0  0  0  0  0\\n    1.1731   29.0299   20.5203 C   0  0  0  0  0  0  0  0  0  0  0  0\\n   -1.2647   30.6313   19.4915 C   0  0  0  0  0  0  0  0  0  0  0  0\\n    2.4967   28.7298   20.6453 C   0  0  0  0  0  0  0  0  0  0  0  0\\n   -4.2755   33.3845   18.2348 C   0  0  0  0  0  0  0  0  0  0  0  0\\n   -2.2652   31.5541   19.0569 C   0  0  0  0  0  0  0  0  0  0  0  0\\n    1.0936   30.2545   19.9272 C   0  0  0  0  0  0  0  0  0  0  0  0\\n  1  3  1  0\\n  1 14  2  0\\n  2 10  1  0\\n  2 14  1  0\\n  3 11  2  0\\n  4 10  2  0\\n  5 12  2  0\\n  5  7  1  0\\n  6  8  2  0\\n  6 12  1  0\\n  7 13  2  0\\n  8 13  1  0\\n  9 14  1  0\\n  9 11  1  0\\n 10 13  1  0\\nM  END\\n\",\"sdf\");\n\tviewer_16315525742993073.addModel(\"4ek4_B_1CK.pdb\\n     RDKit          3D\\n\\n 14 15  0  0  0  0  0  0  0  0999 V2000\\n    9.1206   -7.8016   32.0384 N   0  0  0  0  0  0  0  0  0  0  0  0\\n    7.3013   -8.9641   32.9027 N   0  0  0  0  0  0  0  0  0  0  0  0\\n    9.6806   -6.6041   32.1781 N   0  0  0  0  0  0  0  0  0  0  0  0\\n    6.0798   -8.4241   34.7274 O   0  0  0  0  0  0  0  0  0  0  0  0\\n    4.5675  -12.3612   34.9739 C   0  0  0  0  0  0  0  0  0  0  0  0\\n    4.6756  -12.3242   32.5410 C   0  0  0  0  0  0  0  0  0  0  0  0\\n    5.2491  -11.1367   35.0040 C   0  0  0  0  0  0  0  0  0  0  0  0\\n    5.3553  -11.0997   32.5986 C   0  0  0  0  0  0  0  0  0  0  0  0\\n    7.9572   -6.6133   33.4538 C   0  0  0  0  0  0  0  0  0  0  0  0\\n    6.3622   -9.2338   33.8470 C   0  0  0  0  0  0  0  0  0  0  0  0\\n    8.9902   -5.8455   33.0055 C   0  0  0  0  0  0  0  0  0  0  0  0\\n    4.2696  -12.9532   33.7383 C   0  0  0  0  0  0  0  0  0  0  0  0\\n    5.6755  -10.4863   33.8126 C   0  0  0  0  0  0  0  0  0  0  0  0\\n    8.0561   -7.8220   32.8317 C   0  0  0  0  0  0  0  0  0  0  0  0\\n  1  3  1  0\\n  1 14  2  0\\n  2 10  1  0\\n  2 14  1  0\\n  3 11  2  0\\n  4 10  2  0\\n  5 12  2  0\\n  5  7  1  0\\n  6  8  2  0\\n  6 12  1  0\\n  7 13  2  0\\n  8 13  1  0\\n  9 14  1  0\\n  9 11  1  0\\n 10 13  1  0\\nM  END\\n\",\"sdf\");\n\tviewer_16315525742993073.addModel(\"4ek4_B_1CK.pdb\\n     RDKit          3D\\n\\n 16 17  0  0  0  0  0  0  0  0999 V2000\\n    7.2989   -6.7963   34.0841 N   0  0  0  0  0  0  0  0  0  0  0  0\\n    6.6109   -9.0016   33.8163 N   0  0  0  0  0  0  0  0  0  0  0  0\\n    8.1896   -5.9702   33.5443 N   0  0  0  0  0  0  0  0  0  0  0  0\\n   10.0515   -5.9013   31.8467 C   0  0  0  0  0  0  0  0  0  0  0  0\\n    7.0771  -10.3746   32.0813 O   0  0  0  0  0  0  0  0  0  0  0  0\\n    2.4946  -14.4263   35.0919 Br  0  0  0  0  0  0  0  0  0  0  0  0\\n    3.8818  -12.9262   33.1433 C   0  0  0  0  0  0  0  0  0  0  0  0\\n    4.4408  -12.3165   35.4341 C   0  0  0  0  0  0  0  0  0  0  0  0\\n    4.7838  -11.9560   32.6850 C   0  0  0  0  0  0  0  0  0  0  0  0\\n    5.3370  -11.3538   34.9499 C   0  0  0  0  0  0  0  0  0  0  0  0\\n    8.4369   -7.8531   32.5487 C   0  0  0  0  0  0  0  0  0  0  0  0\\n    6.4450  -10.1513   33.1113 C   0  0  0  0  0  0  0  0  0  0  0  0\\n    8.9168   -6.5801   32.6301 C   0  0  0  0  0  0  0  0  0  0  0  0\\n    3.7165  -13.1156   34.5227 C   0  0  0  0  0  0  0  0  0  0  0  0\\n    5.5199  -11.1331   33.5822 C   0  0  0  0  0  0  0  0  0  0  0  0\\n    7.4370   -7.9645   33.4682 C   0  0  0  0  0  0  0  0  0  0  0  0\\n  1  3  1  0\\n  1 16  2  0\\n  2 12  1  0\\n  2 16  1  0\\n  3 13  2  0\\n  4 13  1  0\\n  5 12  2  0\\n  6 14  1  0\\n  7 14  2  0\\n  7  9  1  0\\n  8 10  2  0\\n  8 14  1  0\\n  9 15  2  0\\n 10 15  1  0\\n 11 16  1  0\\n 11 13  1  0\\n 12 15  1  0\\nM  END\\n\",\"sdf\");\n\tviewer_16315525742993073.setStyle({\"model\": 0},{\"stick\": {\"colorscheme\": \"lightgreyCarbon\"}});\n\tviewer_16315525742993073.setStyle({\"model\": 1},{\"stick\": {\"colorscheme\": \"redCarbon\"}});\n\tviewer_16315525742993073.setStyle({\"model\": 2},{\"stick\": {\"colorscheme\": \"greyCarbon\"}});\n\tviewer_16315525742993073.zoomTo();\nviewer_16315525742993073.render();\n});\n</script>",
      "text/html": [
       "<div id=\"3dmolviewer_16315525742993073\"  style=\"position: relative; width: 640px; height: 480px\">\n",
       "        <p id=\"3dmolwarning_16315525742993073\" style=\"background-color:#ffcccc;color:black\">You appear to be running in JupyterLab (or JavaScript failed to load for some other reason).  You need to install the 3dmol extension: <br>\n",
       "        <tt>jupyter labextension install jupyterlab_3dmol</tt></p>\n",
       "        </div>\n",
       "<script>\n",
       "\n",
       "var loadScriptAsync = function(uri){\n",
       "  return new Promise((resolve, reject) => {\n",
       "    var tag = document.createElement('script');\n",
       "    tag.src = uri;\n",
       "    tag.async = true;\n",
       "    tag.onload = () => {\n",
       "      resolve();\n",
       "    };\n",
       "  var firstScriptTag = document.getElementsByTagName('script')[0];\n",
       "  firstScriptTag.parentNode.insertBefore(tag, firstScriptTag);\n",
       "});\n",
       "};\n",
       "\n",
       "if(typeof $3Dmolpromise === 'undefined') {\n",
       "$3Dmolpromise = null;\n",
       "  $3Dmolpromise = loadScriptAsync('https://3dmol.org/build/3Dmol.js');\n",
       "}\n",
       "\n",
       "var viewer_16315525742993073 = null;\n",
       "var warn = document.getElementById(\"3dmolwarning_16315525742993073\");\n",
       "if(warn) {\n",
       "    warn.parentNode.removeChild(warn);\n",
       "}\n",
       "$3Dmolpromise.then(function() {\n",
       "viewer_16315525742993073 = $3Dmol.createViewer($(\"#3dmolviewer_16315525742993073\"),{backgroundColor:\"white\"});\n",
       "viewer_16315525742993073.zoomTo();\n",
       "\tviewer_16315525742993073.addModel(\"4ek4_B_1CK.pdb\\n     RDKit          3D\\n\\n 14 15  0  0  0  0  0  0  0  0999 V2000\\n    2.3257   30.6859   19.6846 N   0  0  0  0  0  0  0  0  0  0  0  0\\n    0.0303   31.0373   19.5589 N   0  0  0  0  0  0  0  0  0  0  0  0\\n    3.1549   29.7369   20.1076 N   0  0  0  0  0  0  0  0  0  0  0  0\\n   -1.6016   29.4913   19.8035 O   0  0  0  0  0  0  0  0  0  0  0  0\\n   -4.3944   32.0276   17.9020 C   0  0  0  0  0  0  0  0  0  0  0  0\\n   -3.1559   33.8330   18.9691 C   0  0  0  0  0  0  0  0  0  0  0  0\\n   -3.4064   31.1266   18.3226 C   0  0  0  0  0  0  0  0  0  0  0  0\\n   -2.1823   32.9115   19.3783 C   0  0  0  0  0  0  0  0  0  0  0  0\\n    1.1731   29.0299   20.5203 C   0  0  0  0  0  0  0  0  0  0  0  0\\n   -1.2647   30.6313   19.4915 C   0  0  0  0  0  0  0  0  0  0  0  0\\n    2.4967   28.7298   20.6453 C   0  0  0  0  0  0  0  0  0  0  0  0\\n   -4.2755   33.3845   18.2348 C   0  0  0  0  0  0  0  0  0  0  0  0\\n   -2.2652   31.5541   19.0569 C   0  0  0  0  0  0  0  0  0  0  0  0\\n    1.0936   30.2545   19.9272 C   0  0  0  0  0  0  0  0  0  0  0  0\\n  1  3  1  0\\n  1 14  2  0\\n  2 10  1  0\\n  2 14  1  0\\n  3 11  2  0\\n  4 10  2  0\\n  5 12  2  0\\n  5  7  1  0\\n  6  8  2  0\\n  6 12  1  0\\n  7 13  2  0\\n  8 13  1  0\\n  9 14  1  0\\n  9 11  1  0\\n 10 13  1  0\\nM  END\\n\",\"sdf\");\n",
       "\tviewer_16315525742993073.addModel(\"4ek4_B_1CK.pdb\\n     RDKit          3D\\n\\n 14 15  0  0  0  0  0  0  0  0999 V2000\\n    9.1206   -7.8016   32.0384 N   0  0  0  0  0  0  0  0  0  0  0  0\\n    7.3013   -8.9641   32.9027 N   0  0  0  0  0  0  0  0  0  0  0  0\\n    9.6806   -6.6041   32.1781 N   0  0  0  0  0  0  0  0  0  0  0  0\\n    6.0798   -8.4241   34.7274 O   0  0  0  0  0  0  0  0  0  0  0  0\\n    4.5675  -12.3612   34.9739 C   0  0  0  0  0  0  0  0  0  0  0  0\\n    4.6756  -12.3242   32.5410 C   0  0  0  0  0  0  0  0  0  0  0  0\\n    5.2491  -11.1367   35.0040 C   0  0  0  0  0  0  0  0  0  0  0  0\\n    5.3553  -11.0997   32.5986 C   0  0  0  0  0  0  0  0  0  0  0  0\\n    7.9572   -6.6133   33.4538 C   0  0  0  0  0  0  0  0  0  0  0  0\\n    6.3622   -9.2338   33.8470 C   0  0  0  0  0  0  0  0  0  0  0  0\\n    8.9902   -5.8455   33.0055 C   0  0  0  0  0  0  0  0  0  0  0  0\\n    4.2696  -12.9532   33.7383 C   0  0  0  0  0  0  0  0  0  0  0  0\\n    5.6755  -10.4863   33.8126 C   0  0  0  0  0  0  0  0  0  0  0  0\\n    8.0561   -7.8220   32.8317 C   0  0  0  0  0  0  0  0  0  0  0  0\\n  1  3  1  0\\n  1 14  2  0\\n  2 10  1  0\\n  2 14  1  0\\n  3 11  2  0\\n  4 10  2  0\\n  5 12  2  0\\n  5  7  1  0\\n  6  8  2  0\\n  6 12  1  0\\n  7 13  2  0\\n  8 13  1  0\\n  9 14  1  0\\n  9 11  1  0\\n 10 13  1  0\\nM  END\\n\",\"sdf\");\n",
       "\tviewer_16315525742993073.addModel(\"4ek4_B_1CK.pdb\\n     RDKit          3D\\n\\n 16 17  0  0  0  0  0  0  0  0999 V2000\\n    7.2989   -6.7963   34.0841 N   0  0  0  0  0  0  0  0  0  0  0  0\\n    6.6109   -9.0016   33.8163 N   0  0  0  0  0  0  0  0  0  0  0  0\\n    8.1896   -5.9702   33.5443 N   0  0  0  0  0  0  0  0  0  0  0  0\\n   10.0515   -5.9013   31.8467 C   0  0  0  0  0  0  0  0  0  0  0  0\\n    7.0771  -10.3746   32.0813 O   0  0  0  0  0  0  0  0  0  0  0  0\\n    2.4946  -14.4263   35.0919 Br  0  0  0  0  0  0  0  0  0  0  0  0\\n    3.8818  -12.9262   33.1433 C   0  0  0  0  0  0  0  0  0  0  0  0\\n    4.4408  -12.3165   35.4341 C   0  0  0  0  0  0  0  0  0  0  0  0\\n    4.7838  -11.9560   32.6850 C   0  0  0  0  0  0  0  0  0  0  0  0\\n    5.3370  -11.3538   34.9499 C   0  0  0  0  0  0  0  0  0  0  0  0\\n    8.4369   -7.8531   32.5487 C   0  0  0  0  0  0  0  0  0  0  0  0\\n    6.4450  -10.1513   33.1113 C   0  0  0  0  0  0  0  0  0  0  0  0\\n    8.9168   -6.5801   32.6301 C   0  0  0  0  0  0  0  0  0  0  0  0\\n    3.7165  -13.1156   34.5227 C   0  0  0  0  0  0  0  0  0  0  0  0\\n    5.5199  -11.1331   33.5822 C   0  0  0  0  0  0  0  0  0  0  0  0\\n    7.4370   -7.9645   33.4682 C   0  0  0  0  0  0  0  0  0  0  0  0\\n  1  3  1  0\\n  1 16  2  0\\n  2 12  1  0\\n  2 16  1  0\\n  3 13  2  0\\n  4 13  1  0\\n  5 12  2  0\\n  6 14  1  0\\n  7 14  2  0\\n  7  9  1  0\\n  8 10  2  0\\n  8 14  1  0\\n  9 15  2  0\\n 10 15  1  0\\n 11 16  1  0\\n 11 13  1  0\\n 12 15  1  0\\nM  END\\n\",\"sdf\");\n",
       "\tviewer_16315525742993073.setStyle({\"model\": 0},{\"stick\": {\"colorscheme\": \"lightgreyCarbon\"}});\n",
       "\tviewer_16315525742993073.setStyle({\"model\": 1},{\"stick\": {\"colorscheme\": \"redCarbon\"}});\n",
       "\tviewer_16315525742993073.setStyle({\"model\": 2},{\"stick\": {\"colorscheme\": \"greyCarbon\"}});\n",
       "\tviewer_16315525742993073.zoomTo();\n",
       "viewer_16315525742993073.render();\n",
       "});\n",
       "</script>"
      ]
     },
     "metadata": {},
     "output_type": "display_data"
    },
    {
     "data": {
      "text/plain": [
       "<py3Dmol.view at 0x7f8c64d17748>"
      ]
     },
     "execution_count": 14,
     "metadata": {},
     "output_type": "execute_result"
    }
   ],
   "source": [
    "molid = 0\n",
    "als = AlignShow([mols[molid], mkmols[molid]], [pcds[molid], mkpcds[molid]])\n",
    "s = als.align(1, 0)\n",
    "print(\"Score:\", s)\n",
    "als.save(1, 0, f\"murcko_self_{molid}.sdf\")\n",
    "als.show(1, 0)"
   ]
  },
  {
   "cell_type": "code",
   "execution_count": 15,
   "metadata": {},
   "outputs": [
    {
     "data": {
      "application/3dmoljs_load.v0": "<div id=\"3dmolviewer_16315525811288016\"  style=\"position: relative; width: 640px; height: 480px\">\n        <p id=\"3dmolwarning_16315525811288016\" style=\"background-color:#ffcccc;color:black\">You appear to be running in JupyterLab (or JavaScript failed to load for some other reason).  You need to install the 3dmol extension: <br>\n        <tt>jupyter labextension install jupyterlab_3dmol</tt></p>\n        </div>\n<script>\n\nvar loadScriptAsync = function(uri){\n  return new Promise((resolve, reject) => {\n    var tag = document.createElement('script');\n    tag.src = uri;\n    tag.async = true;\n    tag.onload = () => {\n      resolve();\n    };\n  var firstScriptTag = document.getElementsByTagName('script')[0];\n  firstScriptTag.parentNode.insertBefore(tag, firstScriptTag);\n});\n};\n\nif(typeof $3Dmolpromise === 'undefined') {\n$3Dmolpromise = null;\n  $3Dmolpromise = loadScriptAsync('https://3dmol.org/build/3Dmol.js');\n}\n\nvar viewer_16315525811288016 = null;\nvar warn = document.getElementById(\"3dmolwarning_16315525811288016\");\nif(warn) {\n    warn.parentNode.removeChild(warn);\n}\n$3Dmolpromise.then(function() {\nviewer_16315525811288016 = $3Dmol.createViewer($(\"#3dmolviewer_16315525811288016\"),{backgroundColor:\"white\"});\nviewer_16315525811288016.zoomTo();\n\tviewer_16315525811288016.addModel(\"\\n     RDKit          3D\\n\\n 24 25  0  0  0  0  0  0  0  0999 V2000\\n    5.4167  -11.1882   31.9747 C   0  0  0  0  0  5  0  0  0  0  0  0\\n    5.6323   -9.8938   34.2175 C   0  0  0  0  0  3  0  0  0  0  0  0\\n    3.7165  -13.1156   34.5227 C   0  0  0  0  0  0  0  0  0  0  0  0\\n    2.4946  -14.4263   35.0919 Br  0  0  0  0  0  0  0  0  0  0  0  0\\n    7.0863  -10.3926   32.0571 O   0  0  0  0  0  0  0  0  0  0  0  0\\n   10.1570   -5.8364   31.7775 C   0  0  0  0  0  3  0  0  0  0  0  0\\n    9.9097   -6.6686   31.9883 N   0  0  0  0  0  3  0  0  0  0  0  0\\n    8.4811   -7.9500   32.4725 C   0  0  0  0  0  4  0  0  0  0  0  0\\n    7.9278   -5.7738   33.8088 N   0  0  0  0  0  0  0  0  0  0  0  0\\n    7.1978   -6.9263   34.1553 N   0  0  0  0  0  2  0  0  0  0  0  0\\n    9.1206   -7.8016   32.0384 N   0  0  0  0  0  0  0  0  0  0  0  0\\n    7.3013   -8.9641   32.9027 N   0  0  0  0  0  0  0  0  0  0  0  0\\n    9.6806   -6.6041   32.1781 N   0  0  0  0  0  0  0  0  0  0  0  0\\n    6.0798   -8.4241   34.7274 O   0  0  0  0  0  0  0  0  0  0  0  0\\n    4.5675  -12.3612   34.9739 C   0  0  0  0  0  0  0  0  0  0  0  0\\n    4.6756  -12.3242   32.5410 C   0  0  0  0  0  0  0  0  0  0  0  0\\n    5.2491  -11.1367   35.0040 C   0  0  0  0  0  0  0  0  0  0  0  0\\n    5.3553  -11.0997   32.5986 C   0  0  0  0  0  0  0  0  0  0  0  0\\n    7.9572   -6.6133   33.4538 C   0  0  0  0  0  0  0  0  0  0  0  0\\n    6.3622   -9.2338   33.8470 C   0  0  0  0  0  0  0  0  0  0  0  0\\n    8.9902   -5.8455   33.0055 C   0  0  0  0  0  0  0  0  0  0  0  0\\n    4.2696  -12.9532   33.7383 C   0  0  0  0  0  0  0  0  0  0  0  0\\n    5.6755  -10.4863   33.8126 C   0  0  0  0  0  0  0  0  0  0  0  0\\n    8.0561   -7.8220   32.8317 C   0  0  0  0  0  0  0  0  0  0  0  0\\n  2  1  1  0\\n  3  1  1  0\\n  4  3  1  0\\n  5  1  1  0\\n  7  6  2  0\\n 10  8  1  0\\n 10  9  1  0\\n 11 13  1  0\\n 11 24  2  0\\n 12 20  1  0\\n 12 24  1  0\\n 13 21  2  0\\n 14 20  2  0\\n 15 22  2  0\\n 15 17  1  0\\n 16 18  2  0\\n 16 22  1  0\\n 17 23  2  0\\n 18 23  1  0\\n 19 24  1  0\\n 19 21  1  0\\n 20 23  1  0\\n  8 24  1  0\\n  7 13  1  0\\n  1 18  1  0\\nM  RAD  5   2   2   6   2   7   2   8   2  10   2\\nM  END\\n\",\"sdf\");\n\tviewer_16315525811288016.setStyle({\"model\": 0},{\"stick\": {\"colorscheme\": \"lightgreyCarbon\"}});\n\tviewer_16315525811288016.zoomTo();\nviewer_16315525811288016.render();\n});\n</script>",
      "text/html": [
       "<div id=\"3dmolviewer_16315525811288016\"  style=\"position: relative; width: 640px; height: 480px\">\n",
       "        <p id=\"3dmolwarning_16315525811288016\" style=\"background-color:#ffcccc;color:black\">You appear to be running in JupyterLab (or JavaScript failed to load for some other reason).  You need to install the 3dmol extension: <br>\n",
       "        <tt>jupyter labextension install jupyterlab_3dmol</tt></p>\n",
       "        </div>\n",
       "<script>\n",
       "\n",
       "var loadScriptAsync = function(uri){\n",
       "  return new Promise((resolve, reject) => {\n",
       "    var tag = document.createElement('script');\n",
       "    tag.src = uri;\n",
       "    tag.async = true;\n",
       "    tag.onload = () => {\n",
       "      resolve();\n",
       "    };\n",
       "  var firstScriptTag = document.getElementsByTagName('script')[0];\n",
       "  firstScriptTag.parentNode.insertBefore(tag, firstScriptTag);\n",
       "});\n",
       "};\n",
       "\n",
       "if(typeof $3Dmolpromise === 'undefined') {\n",
       "$3Dmolpromise = null;\n",
       "  $3Dmolpromise = loadScriptAsync('https://3dmol.org/build/3Dmol.js');\n",
       "}\n",
       "\n",
       "var viewer_16315525811288016 = null;\n",
       "var warn = document.getElementById(\"3dmolwarning_16315525811288016\");\n",
       "if(warn) {\n",
       "    warn.parentNode.removeChild(warn);\n",
       "}\n",
       "$3Dmolpromise.then(function() {\n",
       "viewer_16315525811288016 = $3Dmol.createViewer($(\"#3dmolviewer_16315525811288016\"),{backgroundColor:\"white\"});\n",
       "viewer_16315525811288016.zoomTo();\n",
       "\tviewer_16315525811288016.addModel(\"\\n     RDKit          3D\\n\\n 24 25  0  0  0  0  0  0  0  0999 V2000\\n    5.4167  -11.1882   31.9747 C   0  0  0  0  0  5  0  0  0  0  0  0\\n    5.6323   -9.8938   34.2175 C   0  0  0  0  0  3  0  0  0  0  0  0\\n    3.7165  -13.1156   34.5227 C   0  0  0  0  0  0  0  0  0  0  0  0\\n    2.4946  -14.4263   35.0919 Br  0  0  0  0  0  0  0  0  0  0  0  0\\n    7.0863  -10.3926   32.0571 O   0  0  0  0  0  0  0  0  0  0  0  0\\n   10.1570   -5.8364   31.7775 C   0  0  0  0  0  3  0  0  0  0  0  0\\n    9.9097   -6.6686   31.9883 N   0  0  0  0  0  3  0  0  0  0  0  0\\n    8.4811   -7.9500   32.4725 C   0  0  0  0  0  4  0  0  0  0  0  0\\n    7.9278   -5.7738   33.8088 N   0  0  0  0  0  0  0  0  0  0  0  0\\n    7.1978   -6.9263   34.1553 N   0  0  0  0  0  2  0  0  0  0  0  0\\n    9.1206   -7.8016   32.0384 N   0  0  0  0  0  0  0  0  0  0  0  0\\n    7.3013   -8.9641   32.9027 N   0  0  0  0  0  0  0  0  0  0  0  0\\n    9.6806   -6.6041   32.1781 N   0  0  0  0  0  0  0  0  0  0  0  0\\n    6.0798   -8.4241   34.7274 O   0  0  0  0  0  0  0  0  0  0  0  0\\n    4.5675  -12.3612   34.9739 C   0  0  0  0  0  0  0  0  0  0  0  0\\n    4.6756  -12.3242   32.5410 C   0  0  0  0  0  0  0  0  0  0  0  0\\n    5.2491  -11.1367   35.0040 C   0  0  0  0  0  0  0  0  0  0  0  0\\n    5.3553  -11.0997   32.5986 C   0  0  0  0  0  0  0  0  0  0  0  0\\n    7.9572   -6.6133   33.4538 C   0  0  0  0  0  0  0  0  0  0  0  0\\n    6.3622   -9.2338   33.8470 C   0  0  0  0  0  0  0  0  0  0  0  0\\n    8.9902   -5.8455   33.0055 C   0  0  0  0  0  0  0  0  0  0  0  0\\n    4.2696  -12.9532   33.7383 C   0  0  0  0  0  0  0  0  0  0  0  0\\n    5.6755  -10.4863   33.8126 C   0  0  0  0  0  0  0  0  0  0  0  0\\n    8.0561   -7.8220   32.8317 C   0  0  0  0  0  0  0  0  0  0  0  0\\n  2  1  1  0\\n  3  1  1  0\\n  4  3  1  0\\n  5  1  1  0\\n  7  6  2  0\\n 10  8  1  0\\n 10  9  1  0\\n 11 13  1  0\\n 11 24  2  0\\n 12 20  1  0\\n 12 24  1  0\\n 13 21  2  0\\n 14 20  2  0\\n 15 22  2  0\\n 15 17  1  0\\n 16 18  2  0\\n 16 22  1  0\\n 17 23  2  0\\n 18 23  1  0\\n 19 24  1  0\\n 19 21  1  0\\n 20 23  1  0\\n  8 24  1  0\\n  7 13  1  0\\n  1 18  1  0\\nM  RAD  5   2   2   6   2   7   2   8   2  10   2\\nM  END\\n\",\"sdf\");\n",
       "\tviewer_16315525811288016.setStyle({\"model\": 0},{\"stick\": {\"colorscheme\": \"lightgreyCarbon\"}});\n",
       "\tviewer_16315525811288016.zoomTo();\n",
       "viewer_16315525811288016.render();\n",
       "});\n",
       "</script>"
      ]
     },
     "metadata": {},
     "output_type": "display_data"
    }
   ],
   "source": [
    "rdmol0 = reconstruction(\"murcko_self_0.sdf\")\n",
    "show_all_conformers(rdmol0)"
   ]
  },
  {
   "cell_type": "code",
   "execution_count": 16,
   "metadata": {},
   "outputs": [
    {
     "name": "stdout",
     "output_type": "stream",
     "text": [
      "Score: 0.9489795918367347\n"
     ]
    },
    {
     "data": {
      "application/3dmoljs_load.v0": "<div id=\"3dmolviewer_16315525814364178\"  style=\"position: relative; width: 640px; height: 480px\">\n        <p id=\"3dmolwarning_16315525814364178\" style=\"background-color:#ffcccc;color:black\">You appear to be running in JupyterLab (or JavaScript failed to load for some other reason).  You need to install the 3dmol extension: <br>\n        <tt>jupyter labextension install jupyterlab_3dmol</tt></p>\n        </div>\n<script>\n\nvar loadScriptAsync = function(uri){\n  return new Promise((resolve, reject) => {\n    var tag = document.createElement('script');\n    tag.src = uri;\n    tag.async = true;\n    tag.onload = () => {\n      resolve();\n    };\n  var firstScriptTag = document.getElementsByTagName('script')[0];\n  firstScriptTag.parentNode.insertBefore(tag, firstScriptTag);\n});\n};\n\nif(typeof $3Dmolpromise === 'undefined') {\n$3Dmolpromise = null;\n  $3Dmolpromise = loadScriptAsync('https://3dmol.org/build/3Dmol.js');\n}\n\nvar viewer_16315525814364178 = null;\nvar warn = document.getElementById(\"3dmolwarning_16315525814364178\");\nif(warn) {\n    warn.parentNode.removeChild(warn);\n}\n$3Dmolpromise.then(function() {\nviewer_16315525814364178 = $3Dmol.createViewer($(\"#3dmolviewer_16315525814364178\"),{backgroundColor:\"white\"});\nviewer_16315525814364178.zoomTo();\n\tviewer_16315525814364178.addModel(\"4ek5_B_03K.pdb\\n     RDKit          3D\\n\\n 17 19  0  0  0  0  0  0  0  0999 V2000\\n   32.3198   10.5005    7.8839 N   0  0  0  0  0  0  0  0  0  0  0  0\\n   31.7731    9.3159   11.0095 N   0  0  0  0  0  0  0  0  0  0  0  0\\n   32.4625    9.5183    9.9821 N   0  0  0  0  0  0  0  0  0  0  0  0\\n   30.4219   11.1923    6.8234 O   0  0  0  0  0  0  0  0  0  0  0  0\\n   32.5045   11.3430    3.1292 C   0  0  0  0  0  0  0  0  0  0  0  0\\n   34.4172   11.9895    4.4323 C   0  0  0  0  0  0  0  0  0  0  0  0\\n   31.8200   11.0337    4.3086 C   0  0  0  0  0  0  0  0  0  0  0  0\\n   33.7392   11.6938    5.6051 C   0  0  0  0  0  0  0  0  0  0  0  0\\n   30.5464   10.4814    9.6176 C   0  0  0  0  0  0  0  0  0  0  0  0\\n   28.0601    9.7296   11.5973 C   0  0  0  0  0  0  0  0  0  0  0  0\\n   28.6058   11.0579   12.1520 C   0  0  0  0  0  0  0  0  0  0  0  0\\n   31.6296   10.9497    6.8210 C   0  0  0  0  0  0  0  0  0  0  0  0\\n   33.8255   11.7822    3.1957 C   0  0  0  0  0  0  0  0  0  0  0  0\\n   32.4298   11.2255    5.5524 C   0  0  0  0  0  0  0  0  0  0  0  0\\n   31.7612   10.2116    9.0883 C   0  0  0  0  0  0  0  0  0  0  0  0\\n   30.5838    9.9143   10.8409 C   0  0  0  0  0  0  0  0  0  0  0  0\\n   29.5444    9.8573   11.9873 C   0  0  0  0  0  0  0  0  0  0  0  0\\n  1 12  1  0\\n  1 15  1  0\\n  2 16  2  0\\n  2  3  1  0\\n  3 15  2  0\\n  4 12  2  0\\n  5  7  2  0\\n  5 13  1  0\\n  6 13  2  0\\n  6  8  1  0\\n  7 14  1  0\\n  8 14  2  0\\n  9 16  1  0\\n  9 15  1  0\\n 10 11  1  0\\n 10 17  1  0\\n 11 17  1  0\\n 12 14  1  0\\n 16 17  1  0\\nM  END\\n\",\"sdf\");\n\tviewer_16315525814364178.addModel(\"4ek5_B_03K.pdb\\n     RDKit          3D\\n\\n 17 19  0  0  0  0  0  0  0  0999 V2000\\n   27.6942   -6.2064   18.4550 N   0  0  0  0  0  0  0  0  0  0  0  0\\n   28.6568   -3.0323   17.7691 N   0  0  0  0  0  0  0  0  0  0  0  0\\n   28.5205   -4.0379   18.5053 N   0  0  0  0  0  0  0  0  0  0  0  0\\n   26.3676   -7.1279   16.8438 O   0  0  0  0  0  0  0  0  0  0  0  0\\n   25.3356  -10.3011   19.4653 C   0  0  0  0  0  0  0  0  0  0  0  0\\n   27.5645  -10.0767   20.3348 C   0  0  0  0  0  0  0  0  0  0  0  0\\n   25.5088   -9.1143   18.7467 C   0  0  0  0  0  0  0  0  0  0  0  0\\n   27.7448   -8.9046   19.6163 C   0  0  0  0  0  0  0  0  0  0  0  0\\n   27.7636   -4.6192   16.5506 C   0  0  0  0  0  0  0  0  0  0  0  0\\n   27.1796   -2.2537   14.3758 C   0  0  0  0  0  0  0  0  0  0  0  0\\n   28.5645   -2.8014   13.9862 C   0  0  0  0  0  0  0  0  0  0  0  0\\n   26.9043   -7.1711   17.9517 C   0  0  0  0  0  0  0  0  0  0  0  0\\n   26.3572  -10.7573   20.2963 C   0  0  0  0  0  0  0  0  0  0  0  0\\n   26.7220   -8.4211   18.8060 C   0  0  0  0  0  0  0  0  0  0  0  0\\n   27.9644   -5.0352   17.8215 C   0  0  0  0  0  0  0  0  0  0  0  0\\n   28.2229   -3.3509   16.5398 C   0  0  0  0  0  0  0  0  0  0  0  0\\n   28.3183   -2.2945   15.4117 C   0  0  0  0  0  0  0  0  0  0  0  0\\n  1 12  1  0\\n  1 15  1  0\\n  2 16  2  0\\n  2  3  1  0\\n  3 15  2  0\\n  4 12  2  0\\n  5  7  2  0\\n  5 13  1  0\\n  6 13  2  0\\n  6  8  1  0\\n  7 14  1  0\\n  8 14  2  0\\n  9 16  1  0\\n  9 15  1  0\\n 10 11  1  0\\n 10 17  1  0\\n 11 17  1  0\\n 12 14  1  0\\n 16 17  1  0\\nM  END\\n\",\"sdf\");\n\tviewer_16315525814364178.addModel(\"4ek5_B_03K.pdb\\n     RDKit          3D\\n\\n 20 22  0  0  0  0  0  0  0  0999 V2000\\n   27.7070   -6.1839   18.4635 N   0  0  0  0  0  0  0  0  0  0  0  0\\n   25.0887  -12.3181   21.6493 N   0  0  0  0  0  0  0  0  0  0  0  0\\n   28.6524   -3.0117   17.7457 N   0  0  0  0  0  0  0  0  0  0  0  0\\n   28.5212   -4.0104   18.4921 N   0  0  0  0  0  0  0  0  0  0  0  0\\n   27.2949  -12.7030   21.3700 O   0  0  0  0  0  0  0  0  0  0  0  0\\n   26.3865   -7.1291   16.8610 O   0  0  0  0  0  0  0  0  0  0  0  0\\n   25.3705  -10.2812   19.5143 C   0  0  0  0  0  0  0  0  0  0  0  0\\n   27.5977  -10.0355   20.3826 C   0  0  0  0  0  0  0  0  0  0  0  0\\n   25.5376   -9.1007   18.7836 C   0  0  0  0  0  0  0  0  0  0  0  0\\n   27.7719   -8.8698   19.6522 C   0  0  0  0  0  0  0  0  0  0  0  0\\n   27.7687   -4.6158   16.5430 C   0  0  0  0  0  0  0  0  0  0  0  0\\n   27.1728   -2.2759   14.3439 C   0  0  0  0  0  0  0  0  0  0  0  0\\n   28.5610   -2.8199   13.9607 C   0  0  0  0  0  0  0  0  0  0  0  0\\n   26.2891  -12.0141   21.1800 C   0  0  0  0  0  0  0  0  0  0  0  0\\n   26.9228   -7.1580   17.9696 C   0  0  0  0  0  0  0  0  0  0  0  0\\n   26.3942  -10.7232   20.3503 C   0  0  0  0  0  0  0  0  0  0  0  0\\n   26.7469   -8.4003   18.8365 C   0  0  0  0  0  0  0  0  0  0  0  0\\n   27.9711   -5.0177   17.8182 C   0  0  0  0  0  0  0  0  0  0  0  0\\n   28.2209   -3.3452   16.5195 C   0  0  0  0  0  0  0  0  0  0  0  0\\n   28.3111   -2.2998   15.3808 C   0  0  0  0  0  0  0  0  0  0  0  0\\n  1 15  1  0\\n  1 18  1  0\\n  2 14  1  0\\n  3 19  2  0\\n  3  4  1  0\\n  4 18  2  0\\n  5 14  2  0\\n  6 15  2  0\\n  7  9  2  0\\n  7 16  1  0\\n  8 16  2  0\\n  8 10  1  0\\n  9 17  1  0\\n 10 17  2  0\\n 11 19  1  0\\n 11 18  1  0\\n 12 13  1  0\\n 12 20  1  0\\n 13 20  1  0\\n 14 16  1  0\\n 15 17  1  0\\n 19 20  1  0\\nM  END\\n\",\"sdf\");\n\tviewer_16315525814364178.setStyle({\"model\": 0},{\"stick\": {\"colorscheme\": \"lightgreyCarbon\"}});\n\tviewer_16315525814364178.setStyle({\"model\": 1},{\"stick\": {\"colorscheme\": \"redCarbon\"}});\n\tviewer_16315525814364178.setStyle({\"model\": 2},{\"stick\": {\"colorscheme\": \"greyCarbon\"}});\n\tviewer_16315525814364178.zoomTo();\nviewer_16315525814364178.render();\n});\n</script>",
      "text/html": [
       "<div id=\"3dmolviewer_16315525814364178\"  style=\"position: relative; width: 640px; height: 480px\">\n",
       "        <p id=\"3dmolwarning_16315525814364178\" style=\"background-color:#ffcccc;color:black\">You appear to be running in JupyterLab (or JavaScript failed to load for some other reason).  You need to install the 3dmol extension: <br>\n",
       "        <tt>jupyter labextension install jupyterlab_3dmol</tt></p>\n",
       "        </div>\n",
       "<script>\n",
       "\n",
       "var loadScriptAsync = function(uri){\n",
       "  return new Promise((resolve, reject) => {\n",
       "    var tag = document.createElement('script');\n",
       "    tag.src = uri;\n",
       "    tag.async = true;\n",
       "    tag.onload = () => {\n",
       "      resolve();\n",
       "    };\n",
       "  var firstScriptTag = document.getElementsByTagName('script')[0];\n",
       "  firstScriptTag.parentNode.insertBefore(tag, firstScriptTag);\n",
       "});\n",
       "};\n",
       "\n",
       "if(typeof $3Dmolpromise === 'undefined') {\n",
       "$3Dmolpromise = null;\n",
       "  $3Dmolpromise = loadScriptAsync('https://3dmol.org/build/3Dmol.js');\n",
       "}\n",
       "\n",
       "var viewer_16315525814364178 = null;\n",
       "var warn = document.getElementById(\"3dmolwarning_16315525814364178\");\n",
       "if(warn) {\n",
       "    warn.parentNode.removeChild(warn);\n",
       "}\n",
       "$3Dmolpromise.then(function() {\n",
       "viewer_16315525814364178 = $3Dmol.createViewer($(\"#3dmolviewer_16315525814364178\"),{backgroundColor:\"white\"});\n",
       "viewer_16315525814364178.zoomTo();\n",
       "\tviewer_16315525814364178.addModel(\"4ek5_B_03K.pdb\\n     RDKit          3D\\n\\n 17 19  0  0  0  0  0  0  0  0999 V2000\\n   32.3198   10.5005    7.8839 N   0  0  0  0  0  0  0  0  0  0  0  0\\n   31.7731    9.3159   11.0095 N   0  0  0  0  0  0  0  0  0  0  0  0\\n   32.4625    9.5183    9.9821 N   0  0  0  0  0  0  0  0  0  0  0  0\\n   30.4219   11.1923    6.8234 O   0  0  0  0  0  0  0  0  0  0  0  0\\n   32.5045   11.3430    3.1292 C   0  0  0  0  0  0  0  0  0  0  0  0\\n   34.4172   11.9895    4.4323 C   0  0  0  0  0  0  0  0  0  0  0  0\\n   31.8200   11.0337    4.3086 C   0  0  0  0  0  0  0  0  0  0  0  0\\n   33.7392   11.6938    5.6051 C   0  0  0  0  0  0  0  0  0  0  0  0\\n   30.5464   10.4814    9.6176 C   0  0  0  0  0  0  0  0  0  0  0  0\\n   28.0601    9.7296   11.5973 C   0  0  0  0  0  0  0  0  0  0  0  0\\n   28.6058   11.0579   12.1520 C   0  0  0  0  0  0  0  0  0  0  0  0\\n   31.6296   10.9497    6.8210 C   0  0  0  0  0  0  0  0  0  0  0  0\\n   33.8255   11.7822    3.1957 C   0  0  0  0  0  0  0  0  0  0  0  0\\n   32.4298   11.2255    5.5524 C   0  0  0  0  0  0  0  0  0  0  0  0\\n   31.7612   10.2116    9.0883 C   0  0  0  0  0  0  0  0  0  0  0  0\\n   30.5838    9.9143   10.8409 C   0  0  0  0  0  0  0  0  0  0  0  0\\n   29.5444    9.8573   11.9873 C   0  0  0  0  0  0  0  0  0  0  0  0\\n  1 12  1  0\\n  1 15  1  0\\n  2 16  2  0\\n  2  3  1  0\\n  3 15  2  0\\n  4 12  2  0\\n  5  7  2  0\\n  5 13  1  0\\n  6 13  2  0\\n  6  8  1  0\\n  7 14  1  0\\n  8 14  2  0\\n  9 16  1  0\\n  9 15  1  0\\n 10 11  1  0\\n 10 17  1  0\\n 11 17  1  0\\n 12 14  1  0\\n 16 17  1  0\\nM  END\\n\",\"sdf\");\n",
       "\tviewer_16315525814364178.addModel(\"4ek5_B_03K.pdb\\n     RDKit          3D\\n\\n 17 19  0  0  0  0  0  0  0  0999 V2000\\n   27.6942   -6.2064   18.4550 N   0  0  0  0  0  0  0  0  0  0  0  0\\n   28.6568   -3.0323   17.7691 N   0  0  0  0  0  0  0  0  0  0  0  0\\n   28.5205   -4.0379   18.5053 N   0  0  0  0  0  0  0  0  0  0  0  0\\n   26.3676   -7.1279   16.8438 O   0  0  0  0  0  0  0  0  0  0  0  0\\n   25.3356  -10.3011   19.4653 C   0  0  0  0  0  0  0  0  0  0  0  0\\n   27.5645  -10.0767   20.3348 C   0  0  0  0  0  0  0  0  0  0  0  0\\n   25.5088   -9.1143   18.7467 C   0  0  0  0  0  0  0  0  0  0  0  0\\n   27.7448   -8.9046   19.6163 C   0  0  0  0  0  0  0  0  0  0  0  0\\n   27.7636   -4.6192   16.5506 C   0  0  0  0  0  0  0  0  0  0  0  0\\n   27.1796   -2.2537   14.3758 C   0  0  0  0  0  0  0  0  0  0  0  0\\n   28.5645   -2.8014   13.9862 C   0  0  0  0  0  0  0  0  0  0  0  0\\n   26.9043   -7.1711   17.9517 C   0  0  0  0  0  0  0  0  0  0  0  0\\n   26.3572  -10.7573   20.2963 C   0  0  0  0  0  0  0  0  0  0  0  0\\n   26.7220   -8.4211   18.8060 C   0  0  0  0  0  0  0  0  0  0  0  0\\n   27.9644   -5.0352   17.8215 C   0  0  0  0  0  0  0  0  0  0  0  0\\n   28.2229   -3.3509   16.5398 C   0  0  0  0  0  0  0  0  0  0  0  0\\n   28.3183   -2.2945   15.4117 C   0  0  0  0  0  0  0  0  0  0  0  0\\n  1 12  1  0\\n  1 15  1  0\\n  2 16  2  0\\n  2  3  1  0\\n  3 15  2  0\\n  4 12  2  0\\n  5  7  2  0\\n  5 13  1  0\\n  6 13  2  0\\n  6  8  1  0\\n  7 14  1  0\\n  8 14  2  0\\n  9 16  1  0\\n  9 15  1  0\\n 10 11  1  0\\n 10 17  1  0\\n 11 17  1  0\\n 12 14  1  0\\n 16 17  1  0\\nM  END\\n\",\"sdf\");\n",
       "\tviewer_16315525814364178.addModel(\"4ek5_B_03K.pdb\\n     RDKit          3D\\n\\n 20 22  0  0  0  0  0  0  0  0999 V2000\\n   27.7070   -6.1839   18.4635 N   0  0  0  0  0  0  0  0  0  0  0  0\\n   25.0887  -12.3181   21.6493 N   0  0  0  0  0  0  0  0  0  0  0  0\\n   28.6524   -3.0117   17.7457 N   0  0  0  0  0  0  0  0  0  0  0  0\\n   28.5212   -4.0104   18.4921 N   0  0  0  0  0  0  0  0  0  0  0  0\\n   27.2949  -12.7030   21.3700 O   0  0  0  0  0  0  0  0  0  0  0  0\\n   26.3865   -7.1291   16.8610 O   0  0  0  0  0  0  0  0  0  0  0  0\\n   25.3705  -10.2812   19.5143 C   0  0  0  0  0  0  0  0  0  0  0  0\\n   27.5977  -10.0355   20.3826 C   0  0  0  0  0  0  0  0  0  0  0  0\\n   25.5376   -9.1007   18.7836 C   0  0  0  0  0  0  0  0  0  0  0  0\\n   27.7719   -8.8698   19.6522 C   0  0  0  0  0  0  0  0  0  0  0  0\\n   27.7687   -4.6158   16.5430 C   0  0  0  0  0  0  0  0  0  0  0  0\\n   27.1728   -2.2759   14.3439 C   0  0  0  0  0  0  0  0  0  0  0  0\\n   28.5610   -2.8199   13.9607 C   0  0  0  0  0  0  0  0  0  0  0  0\\n   26.2891  -12.0141   21.1800 C   0  0  0  0  0  0  0  0  0  0  0  0\\n   26.9228   -7.1580   17.9696 C   0  0  0  0  0  0  0  0  0  0  0  0\\n   26.3942  -10.7232   20.3503 C   0  0  0  0  0  0  0  0  0  0  0  0\\n   26.7469   -8.4003   18.8365 C   0  0  0  0  0  0  0  0  0  0  0  0\\n   27.9711   -5.0177   17.8182 C   0  0  0  0  0  0  0  0  0  0  0  0\\n   28.2209   -3.3452   16.5195 C   0  0  0  0  0  0  0  0  0  0  0  0\\n   28.3111   -2.2998   15.3808 C   0  0  0  0  0  0  0  0  0  0  0  0\\n  1 15  1  0\\n  1 18  1  0\\n  2 14  1  0\\n  3 19  2  0\\n  3  4  1  0\\n  4 18  2  0\\n  5 14  2  0\\n  6 15  2  0\\n  7  9  2  0\\n  7 16  1  0\\n  8 16  2  0\\n  8 10  1  0\\n  9 17  1  0\\n 10 17  2  0\\n 11 19  1  0\\n 11 18  1  0\\n 12 13  1  0\\n 12 20  1  0\\n 13 20  1  0\\n 14 16  1  0\\n 15 17  1  0\\n 19 20  1  0\\nM  END\\n\",\"sdf\");\n",
       "\tviewer_16315525814364178.setStyle({\"model\": 0},{\"stick\": {\"colorscheme\": \"lightgreyCarbon\"}});\n",
       "\tviewer_16315525814364178.setStyle({\"model\": 1},{\"stick\": {\"colorscheme\": \"redCarbon\"}});\n",
       "\tviewer_16315525814364178.setStyle({\"model\": 2},{\"stick\": {\"colorscheme\": \"greyCarbon\"}});\n",
       "\tviewer_16315525814364178.zoomTo();\n",
       "viewer_16315525814364178.render();\n",
       "});\n",
       "</script>"
      ]
     },
     "metadata": {},
     "output_type": "display_data"
    },
    {
     "data": {
      "text/plain": [
       "<py3Dmol.view at 0x7f8c64d174e0>"
      ]
     },
     "execution_count": 16,
     "metadata": {},
     "output_type": "execute_result"
    }
   ],
   "source": [
    "molid = 1\n",
    "als = AlignShow([mols[molid], mkmols[molid]], [pcds[molid], mkpcds[molid]])\n",
    "s = als.align(1, 0)\n",
    "print(\"Score:\", s)\n",
    "als.save(1, 0, f\"murcko_self_{molid}.sdf\")\n",
    "als.show(1, 0)"
   ]
  },
  {
   "cell_type": "code",
   "execution_count": 17,
   "metadata": {},
   "outputs": [
    {
     "data": {
      "application/3dmoljs_load.v0": "<div id=\"3dmolviewer_1631552581622862\"  style=\"position: relative; width: 640px; height: 480px\">\n        <p id=\"3dmolwarning_1631552581622862\" style=\"background-color:#ffcccc;color:black\">You appear to be running in JupyterLab (or JavaScript failed to load for some other reason).  You need to install the 3dmol extension: <br>\n        <tt>jupyter labextension install jupyterlab_3dmol</tt></p>\n        </div>\n<script>\n\nvar loadScriptAsync = function(uri){\n  return new Promise((resolve, reject) => {\n    var tag = document.createElement('script');\n    tag.src = uri;\n    tag.async = true;\n    tag.onload = () => {\n      resolve();\n    };\n  var firstScriptTag = document.getElementsByTagName('script')[0];\n  firstScriptTag.parentNode.insertBefore(tag, firstScriptTag);\n});\n};\n\nif(typeof $3Dmolpromise === 'undefined') {\n$3Dmolpromise = null;\n  $3Dmolpromise = loadScriptAsync('https://3dmol.org/build/3Dmol.js');\n}\n\nvar viewer_1631552581622862 = null;\nvar warn = document.getElementById(\"3dmolwarning_1631552581622862\");\nif(warn) {\n    warn.parentNode.removeChild(warn);\n}\n$3Dmolpromise.then(function() {\nviewer_1631552581622862 = $3Dmol.createViewer($(\"#3dmolviewer_1631552581622862\"),{backgroundColor:\"white\"});\nviewer_1631552581622862.zoomTo();\n\tviewer_1631552581622862.addModel(\"\\n     RDKit          3D\\n\\n 20 22  0  0  0  0  0  0  0  0999 V2000\\n   26.2891  -12.0141   21.1800 C   0  0  0  0  0  5  0  0  0  0  0  0\\n   25.0887  -12.3181   21.6493 N   0  0  0  0  0  0  0  0  0  0  0  0\\n   27.2949  -12.7030   21.3700 O   0  0  0  0  0  0  0  0  0  0  0  0\\n   27.6942   -6.2064   18.4550 N   0  0  0  0  0  0  0  0  0  0  0  0\\n   28.6568   -3.0323   17.7691 N   0  0  0  0  0  0  0  0  0  0  0  0\\n   28.5205   -4.0379   18.5053 N   0  0  0  0  0  0  0  0  0  0  0  0\\n   26.3676   -7.1279   16.8438 O   0  0  0  0  0  0  0  0  0  0  0  0\\n   25.3356  -10.3011   19.4653 C   0  0  0  0  0  0  0  0  0  0  0  0\\n   27.5645  -10.0767   20.3348 C   0  0  0  0  0  0  0  0  0  0  0  0\\n   25.5088   -9.1143   18.7467 C   0  0  0  0  0  0  0  0  0  0  0  0\\n   27.7448   -8.9046   19.6163 C   0  0  0  0  0  0  0  0  0  0  0  0\\n   27.7636   -4.6192   16.5506 C   0  0  0  0  0  0  0  0  0  0  0  0\\n   27.1796   -2.2537   14.3758 C   0  0  0  0  0  0  0  0  0  0  0  0\\n   28.5645   -2.8014   13.9862 C   0  0  0  0  0  0  0  0  0  0  0  0\\n   26.9043   -7.1711   17.9517 C   0  0  0  0  0  0  0  0  0  0  0  0\\n   26.3572  -10.7573   20.2963 C   0  0  0  0  0  0  0  0  0  0  0  0\\n   26.7220   -8.4211   18.8060 C   0  0  0  0  0  0  0  0  0  0  0  0\\n   27.9644   -5.0352   17.8215 C   0  0  0  0  0  0  0  0  0  0  0  0\\n   28.2229   -3.3509   16.5398 C   0  0  0  0  0  0  0  0  0  0  0  0\\n   28.3183   -2.2945   15.4117 C   0  0  0  0  0  0  0  0  0  0  0  0\\n  2  1  1  0\\n  3  1  2  0\\n  4 15  1  0\\n  4 18  1  0\\n  5 19  2  0\\n  5  6  1  0\\n  6 18  2  0\\n  7 15  2  0\\n  8 10  2  0\\n  8 16  1  0\\n  9 16  2  0\\n  9 11  1  0\\n 10 17  1  0\\n 11 17  2  0\\n 12 19  1  0\\n 12 18  1  0\\n 13 14  1  0\\n 13 20  1  0\\n 14 20  1  0\\n 15 17  1  0\\n 19 20  1  0\\n  1 16  1  0\\nM  END\\n\",\"sdf\");\n\tviewer_1631552581622862.setStyle({\"model\": 0},{\"stick\": {\"colorscheme\": \"lightgreyCarbon\"}});\n\tviewer_1631552581622862.zoomTo();\nviewer_1631552581622862.render();\n});\n</script>",
      "text/html": [
       "<div id=\"3dmolviewer_1631552581622862\"  style=\"position: relative; width: 640px; height: 480px\">\n",
       "        <p id=\"3dmolwarning_1631552581622862\" style=\"background-color:#ffcccc;color:black\">You appear to be running in JupyterLab (or JavaScript failed to load for some other reason).  You need to install the 3dmol extension: <br>\n",
       "        <tt>jupyter labextension install jupyterlab_3dmol</tt></p>\n",
       "        </div>\n",
       "<script>\n",
       "\n",
       "var loadScriptAsync = function(uri){\n",
       "  return new Promise((resolve, reject) => {\n",
       "    var tag = document.createElement('script');\n",
       "    tag.src = uri;\n",
       "    tag.async = true;\n",
       "    tag.onload = () => {\n",
       "      resolve();\n",
       "    };\n",
       "  var firstScriptTag = document.getElementsByTagName('script')[0];\n",
       "  firstScriptTag.parentNode.insertBefore(tag, firstScriptTag);\n",
       "});\n",
       "};\n",
       "\n",
       "if(typeof $3Dmolpromise === 'undefined') {\n",
       "$3Dmolpromise = null;\n",
       "  $3Dmolpromise = loadScriptAsync('https://3dmol.org/build/3Dmol.js');\n",
       "}\n",
       "\n",
       "var viewer_1631552581622862 = null;\n",
       "var warn = document.getElementById(\"3dmolwarning_1631552581622862\");\n",
       "if(warn) {\n",
       "    warn.parentNode.removeChild(warn);\n",
       "}\n",
       "$3Dmolpromise.then(function() {\n",
       "viewer_1631552581622862 = $3Dmol.createViewer($(\"#3dmolviewer_1631552581622862\"),{backgroundColor:\"white\"});\n",
       "viewer_1631552581622862.zoomTo();\n",
       "\tviewer_1631552581622862.addModel(\"\\n     RDKit          3D\\n\\n 20 22  0  0  0  0  0  0  0  0999 V2000\\n   26.2891  -12.0141   21.1800 C   0  0  0  0  0  5  0  0  0  0  0  0\\n   25.0887  -12.3181   21.6493 N   0  0  0  0  0  0  0  0  0  0  0  0\\n   27.2949  -12.7030   21.3700 O   0  0  0  0  0  0  0  0  0  0  0  0\\n   27.6942   -6.2064   18.4550 N   0  0  0  0  0  0  0  0  0  0  0  0\\n   28.6568   -3.0323   17.7691 N   0  0  0  0  0  0  0  0  0  0  0  0\\n   28.5205   -4.0379   18.5053 N   0  0  0  0  0  0  0  0  0  0  0  0\\n   26.3676   -7.1279   16.8438 O   0  0  0  0  0  0  0  0  0  0  0  0\\n   25.3356  -10.3011   19.4653 C   0  0  0  0  0  0  0  0  0  0  0  0\\n   27.5645  -10.0767   20.3348 C   0  0  0  0  0  0  0  0  0  0  0  0\\n   25.5088   -9.1143   18.7467 C   0  0  0  0  0  0  0  0  0  0  0  0\\n   27.7448   -8.9046   19.6163 C   0  0  0  0  0  0  0  0  0  0  0  0\\n   27.7636   -4.6192   16.5506 C   0  0  0  0  0  0  0  0  0  0  0  0\\n   27.1796   -2.2537   14.3758 C   0  0  0  0  0  0  0  0  0  0  0  0\\n   28.5645   -2.8014   13.9862 C   0  0  0  0  0  0  0  0  0  0  0  0\\n   26.9043   -7.1711   17.9517 C   0  0  0  0  0  0  0  0  0  0  0  0\\n   26.3572  -10.7573   20.2963 C   0  0  0  0  0  0  0  0  0  0  0  0\\n   26.7220   -8.4211   18.8060 C   0  0  0  0  0  0  0  0  0  0  0  0\\n   27.9644   -5.0352   17.8215 C   0  0  0  0  0  0  0  0  0  0  0  0\\n   28.2229   -3.3509   16.5398 C   0  0  0  0  0  0  0  0  0  0  0  0\\n   28.3183   -2.2945   15.4117 C   0  0  0  0  0  0  0  0  0  0  0  0\\n  2  1  1  0\\n  3  1  2  0\\n  4 15  1  0\\n  4 18  1  0\\n  5 19  2  0\\n  5  6  1  0\\n  6 18  2  0\\n  7 15  2  0\\n  8 10  2  0\\n  8 16  1  0\\n  9 16  2  0\\n  9 11  1  0\\n 10 17  1  0\\n 11 17  2  0\\n 12 19  1  0\\n 12 18  1  0\\n 13 14  1  0\\n 13 20  1  0\\n 14 20  1  0\\n 15 17  1  0\\n 19 20  1  0\\n  1 16  1  0\\nM  END\\n\",\"sdf\");\n",
       "\tviewer_1631552581622862.setStyle({\"model\": 0},{\"stick\": {\"colorscheme\": \"lightgreyCarbon\"}});\n",
       "\tviewer_1631552581622862.zoomTo();\n",
       "viewer_1631552581622862.render();\n",
       "});\n",
       "</script>"
      ]
     },
     "metadata": {},
     "output_type": "display_data"
    }
   ],
   "source": [
    "rdmol1 = reconstruction(\"murcko_self_1.sdf\")\n",
    "show_all_conformers(rdmol1)"
   ]
  },
  {
   "cell_type": "code",
   "execution_count": 18,
   "metadata": {},
   "outputs": [
    {
     "name": "stdout",
     "output_type": "stream",
     "text": [
      "Score: 0.9489194499017681\n"
     ]
    },
    {
     "data": {
      "application/3dmoljs_load.v0": "<div id=\"3dmolviewer_16315525819189284\"  style=\"position: relative; width: 640px; height: 480px\">\n        <p id=\"3dmolwarning_16315525819189284\" style=\"background-color:#ffcccc;color:black\">You appear to be running in JupyterLab (or JavaScript failed to load for some other reason).  You need to install the 3dmol extension: <br>\n        <tt>jupyter labextension install jupyterlab_3dmol</tt></p>\n        </div>\n<script>\n\nvar loadScriptAsync = function(uri){\n  return new Promise((resolve, reject) => {\n    var tag = document.createElement('script');\n    tag.src = uri;\n    tag.async = true;\n    tag.onload = () => {\n      resolve();\n    };\n  var firstScriptTag = document.getElementsByTagName('script')[0];\n  firstScriptTag.parentNode.insertBefore(tag, firstScriptTag);\n});\n};\n\nif(typeof $3Dmolpromise === 'undefined') {\n$3Dmolpromise = null;\n  $3Dmolpromise = loadScriptAsync('https://3dmol.org/build/3Dmol.js');\n}\n\nvar viewer_16315525819189284 = null;\nvar warn = document.getElementById(\"3dmolwarning_16315525819189284\");\nif(warn) {\n    warn.parentNode.removeChild(warn);\n}\n$3Dmolpromise.then(function() {\nviewer_16315525819189284 = $3Dmol.createViewer($(\"#3dmolviewer_16315525819189284\"),{backgroundColor:\"white\"});\nviewer_16315525819189284.zoomTo();\n\tviewer_16315525819189284.addModel(\"4fkg_B_4CK.pdb\\n     RDKit          3D\\n\\n 17 19  0  0  0  0  0  0  0  0999 V2000\\n   28.5561   16.7743   10.3868 N   0  0  0  0  0  0  0  0  0  0  0  0\\n   29.4150   16.2646    9.6334 N   0  0  0  0  0  0  0  0  0  0  0  0\\n   29.8268   16.1036    7.3331 N   0  0  0  0  0  0  0  0  0  0  0  0\\n   28.3614   16.4691    5.6299 O   0  0  0  0  0  0  0  0  0  0  0  0\\n   30.9970   14.5270    2.9047 C   0  0  0  0  0  0  0  0  0  0  0  0\\n   32.8053   15.2558    4.3465 C   0  0  0  0  0  0  0  0  0  0  0  0\\n   30.0559   14.9388    3.8557 C   0  0  0  0  0  0  0  0  0  0  0  0\\n   31.8686   15.6850    5.2887 C   0  0  0  0  0  0  0  0  0  0  0  0\\n   27.9592   17.3076    8.3494 C   0  0  0  0  0  0  0  0  0  0  0  0\\n   25.1431   18.3286    9.6625 C   0  0  0  0  0  0  0  0  0  0  0  0\\n   26.0783   19.5408    9.7051 C   0  0  0  0  0  0  0  0  0  0  0  0\\n   29.4379   16.0391    6.0477 C   0  0  0  0  0  0  0  0  0  0  0  0\\n   32.3658   14.6801    3.1549 C   0  0  0  0  0  0  0  0  0  0  0  0\\n   30.4897   15.5282    5.0536 C   0  0  0  0  0  0  0  0  0  0  0  0\\n   29.0908   16.5598    8.3629 C   0  0  0  0  0  0  0  0  0  0  0  0\\n   27.6430   17.4305    9.6473 C   0  0  0  0  0  0  0  0  0  0  0  0\\n   26.5142   18.2109   10.3419 C   0  0  0  0  0  0  0  0  0  0  0  0\\n  1  2  1  0\\n  1 16  1  0\\n  2 15  2  0\\n  3 15  1  0\\n  3 12  1  0\\n  4 12  2  0\\n  5 13  2  0\\n  5  7  1  0\\n  6  8  2  0\\n  6 13  1  0\\n  7 14  2  0\\n  8 14  1  0\\n  9 15  1  0\\n  9 16  2  0\\n 10 17  1  0\\n 10 11  1  0\\n 11 17  1  0\\n 12 14  1  0\\n 16 17  1  0\\nM  END\\n\",\"sdf\");\n\tviewer_16315525819189284.addModel(\"4fkg_B_4CK.pdb\\n     RDKit          3D\\n\\n 17 19  0  0  0  0  0  0  0  0999 V2000\\n   30.7175   10.1367   10.3129 N   0  0  0  0  0  0  0  0  0  0  0  0\\n   31.4381    9.2367    9.8274 N   0  0  0  0  0  0  0  0  0  0  0  0\\n   31.9419    8.3731    7.7091 N   0  0  0  0  0  0  0  0  0  0  0  0\\n   30.7703    8.6565    5.7780 O   0  0  0  0  0  0  0  0  0  0  0  0\\n   32.8986    5.4355    3.9780 C   0  0  0  0  0  0  0  0  0  0  0  0\\n   34.7374    6.0063    5.4521 C   0  0  0  0  0  0  0  0  0  0  0  0\\n   32.0572    6.3187    4.6648 C   0  0  0  0  0  0  0  0  0  0  0  0\\n   33.9059    6.9022    6.1271 C   0  0  0  0  0  0  0  0  0  0  0  0\\n   30.4462   10.2557    8.1441 C   0  0  0  0  0  0  0  0  0  0  0  0\\n   27.9720   12.3001    8.7732 C   0  0  0  0  0  0  0  0  0  0  0  0\\n   29.2174   13.1851    8.6652 C   0  0  0  0  0  0  0  0  0  0  0  0\\n   31.6409    8.0797    6.4320 C   0  0  0  0  0  0  0  0  0  0  0  0\\n   34.2312    5.2771    4.3767 C   0  0  0  0  0  0  0  0  0  0  0  0\\n   32.5616    7.0637    5.7423 C   0  0  0  0  0  0  0  0  0  0  0  0\\n   31.3037    9.2633    8.4904 C   0  0  0  0  0  0  0  0  0  0  0  0\\n   30.0914   10.7950    9.3200 C   0  0  0  0  0  0  0  0  0  0  0  0\\n   29.1974   12.0028    9.6481 C   0  0  0  0  0  0  0  0  0  0  0  0\\n  1  2  1  0\\n  1 16  1  0\\n  2 15  2  0\\n  3 15  1  0\\n  3 12  1  0\\n  4 12  2  0\\n  5 13  2  0\\n  5  7  1  0\\n  6  8  2  0\\n  6 13  1  0\\n  7 14  2  0\\n  8 14  1  0\\n  9 15  1  0\\n  9 16  2  0\\n 10 17  1  0\\n 10 11  1  0\\n 11 17  1  0\\n 12 14  1  0\\n 16 17  1  0\\nM  END\\n\",\"sdf\");\n\tviewer_16315525819189284.addModel(\"4fkg_B_4CK.pdb\\n     RDKit          3D\\n\\n 20 22  0  0  0  0  0  0  0  0999 V2000\\n   30.6741   10.0922   10.2834 N   0  0  0  0  0  0  0  0  0  0  0  0\\n   31.3968    9.1937    9.7982 N   0  0  0  0  0  0  0  0  0  0  0  0\\n   31.9314    8.3552    7.6773 N   0  0  0  0  0  0  0  0  0  0  0  0\\n   36.4075    4.3294    3.9022 O   0  0  0  0  0  0  0  0  0  0  0  0\\n   30.7953    8.6728    5.7304 O   0  0  0  0  0  0  0  0  0  0  0  0\\n   34.7171    3.6734    2.6434 O   0  0  0  0  0  0  0  0  0  0  0  0\\n   32.9326    5.4615    3.9237 C   0  0  0  0  0  0  0  0  0  0  0  0\\n   34.7493    5.9994    5.4369 C   0  0  0  0  0  0  0  0  0  0  0  0\\n   32.0854    6.3412    4.6078 C   0  0  0  0  0  0  0  0  0  0  0  0\\n   33.9124    6.8919    6.1095 C   0  0  0  0  0  0  0  0  0  0  0  0\\n   30.4412   10.2422    8.1120 C   0  0  0  0  0  0  0  0  0  0  0  0\\n   27.9704   12.2954    8.7260 C   0  0  0  0  0  0  0  0  0  0  0  0\\n   29.2235   13.1729    8.6516 C   0  0  0  0  0  0  0  0  0  0  0  0\\n   35.1993    4.3412    3.5792 C   0  0  0  0  0  0  0  0  0  0  0  0\\n   31.6506    8.0812    6.3913 C   0  0  0  0  0  0  0  0  0  0  0  0\\n   34.2569    5.2884    4.3431 C   0  0  0  0  0  0  0  0  0  0  0  0\\n   32.5761    7.0681    5.7039 C   0  0  0  0  0  0  0  0  0  0  0  0\\n   31.2857    9.2393    8.4595 C   0  0  0  0  0  0  0  0  0  0  0  0\\n   30.0698   10.7682    9.2889 C   0  0  0  0  0  0  0  0  0  0  0  0\\n   29.1784   11.9777    9.6178 C   0  0  0  0  0  0  0  0  0  0  0  0\\n  1  2  1  0\\n  1 19  1  0\\n  2 18  2  0\\n  3 18  1  0\\n  3 15  1  0\\n  4 14  2  0\\n  5 15  2  0\\n  6 14  1  0\\n  7 16  2  0\\n  7  9  1  0\\n  8 10  2  0\\n  8 16  1  0\\n  9 17  2  0\\n 10 17  1  0\\n 11 18  1  0\\n 11 19  2  0\\n 12 20  1  0\\n 12 13  1  0\\n 13 20  1  0\\n 14 16  1  0\\n 15 17  1  0\\n 19 20  1  0\\nM  END\\n\",\"sdf\");\n\tviewer_16315525819189284.setStyle({\"model\": 0},{\"stick\": {\"colorscheme\": \"lightgreyCarbon\"}});\n\tviewer_16315525819189284.setStyle({\"model\": 1},{\"stick\": {\"colorscheme\": \"redCarbon\"}});\n\tviewer_16315525819189284.setStyle({\"model\": 2},{\"stick\": {\"colorscheme\": \"greyCarbon\"}});\n\tviewer_16315525819189284.zoomTo();\nviewer_16315525819189284.render();\n});\n</script>",
      "text/html": [
       "<div id=\"3dmolviewer_16315525819189284\"  style=\"position: relative; width: 640px; height: 480px\">\n",
       "        <p id=\"3dmolwarning_16315525819189284\" style=\"background-color:#ffcccc;color:black\">You appear to be running in JupyterLab (or JavaScript failed to load for some other reason).  You need to install the 3dmol extension: <br>\n",
       "        <tt>jupyter labextension install jupyterlab_3dmol</tt></p>\n",
       "        </div>\n",
       "<script>\n",
       "\n",
       "var loadScriptAsync = function(uri){\n",
       "  return new Promise((resolve, reject) => {\n",
       "    var tag = document.createElement('script');\n",
       "    tag.src = uri;\n",
       "    tag.async = true;\n",
       "    tag.onload = () => {\n",
       "      resolve();\n",
       "    };\n",
       "  var firstScriptTag = document.getElementsByTagName('script')[0];\n",
       "  firstScriptTag.parentNode.insertBefore(tag, firstScriptTag);\n",
       "});\n",
       "};\n",
       "\n",
       "if(typeof $3Dmolpromise === 'undefined') {\n",
       "$3Dmolpromise = null;\n",
       "  $3Dmolpromise = loadScriptAsync('https://3dmol.org/build/3Dmol.js');\n",
       "}\n",
       "\n",
       "var viewer_16315525819189284 = null;\n",
       "var warn = document.getElementById(\"3dmolwarning_16315525819189284\");\n",
       "if(warn) {\n",
       "    warn.parentNode.removeChild(warn);\n",
       "}\n",
       "$3Dmolpromise.then(function() {\n",
       "viewer_16315525819189284 = $3Dmol.createViewer($(\"#3dmolviewer_16315525819189284\"),{backgroundColor:\"white\"});\n",
       "viewer_16315525819189284.zoomTo();\n",
       "\tviewer_16315525819189284.addModel(\"4fkg_B_4CK.pdb\\n     RDKit          3D\\n\\n 17 19  0  0  0  0  0  0  0  0999 V2000\\n   28.5561   16.7743   10.3868 N   0  0  0  0  0  0  0  0  0  0  0  0\\n   29.4150   16.2646    9.6334 N   0  0  0  0  0  0  0  0  0  0  0  0\\n   29.8268   16.1036    7.3331 N   0  0  0  0  0  0  0  0  0  0  0  0\\n   28.3614   16.4691    5.6299 O   0  0  0  0  0  0  0  0  0  0  0  0\\n   30.9970   14.5270    2.9047 C   0  0  0  0  0  0  0  0  0  0  0  0\\n   32.8053   15.2558    4.3465 C   0  0  0  0  0  0  0  0  0  0  0  0\\n   30.0559   14.9388    3.8557 C   0  0  0  0  0  0  0  0  0  0  0  0\\n   31.8686   15.6850    5.2887 C   0  0  0  0  0  0  0  0  0  0  0  0\\n   27.9592   17.3076    8.3494 C   0  0  0  0  0  0  0  0  0  0  0  0\\n   25.1431   18.3286    9.6625 C   0  0  0  0  0  0  0  0  0  0  0  0\\n   26.0783   19.5408    9.7051 C   0  0  0  0  0  0  0  0  0  0  0  0\\n   29.4379   16.0391    6.0477 C   0  0  0  0  0  0  0  0  0  0  0  0\\n   32.3658   14.6801    3.1549 C   0  0  0  0  0  0  0  0  0  0  0  0\\n   30.4897   15.5282    5.0536 C   0  0  0  0  0  0  0  0  0  0  0  0\\n   29.0908   16.5598    8.3629 C   0  0  0  0  0  0  0  0  0  0  0  0\\n   27.6430   17.4305    9.6473 C   0  0  0  0  0  0  0  0  0  0  0  0\\n   26.5142   18.2109   10.3419 C   0  0  0  0  0  0  0  0  0  0  0  0\\n  1  2  1  0\\n  1 16  1  0\\n  2 15  2  0\\n  3 15  1  0\\n  3 12  1  0\\n  4 12  2  0\\n  5 13  2  0\\n  5  7  1  0\\n  6  8  2  0\\n  6 13  1  0\\n  7 14  2  0\\n  8 14  1  0\\n  9 15  1  0\\n  9 16  2  0\\n 10 17  1  0\\n 10 11  1  0\\n 11 17  1  0\\n 12 14  1  0\\n 16 17  1  0\\nM  END\\n\",\"sdf\");\n",
       "\tviewer_16315525819189284.addModel(\"4fkg_B_4CK.pdb\\n     RDKit          3D\\n\\n 17 19  0  0  0  0  0  0  0  0999 V2000\\n   30.7175   10.1367   10.3129 N   0  0  0  0  0  0  0  0  0  0  0  0\\n   31.4381    9.2367    9.8274 N   0  0  0  0  0  0  0  0  0  0  0  0\\n   31.9419    8.3731    7.7091 N   0  0  0  0  0  0  0  0  0  0  0  0\\n   30.7703    8.6565    5.7780 O   0  0  0  0  0  0  0  0  0  0  0  0\\n   32.8986    5.4355    3.9780 C   0  0  0  0  0  0  0  0  0  0  0  0\\n   34.7374    6.0063    5.4521 C   0  0  0  0  0  0  0  0  0  0  0  0\\n   32.0572    6.3187    4.6648 C   0  0  0  0  0  0  0  0  0  0  0  0\\n   33.9059    6.9022    6.1271 C   0  0  0  0  0  0  0  0  0  0  0  0\\n   30.4462   10.2557    8.1441 C   0  0  0  0  0  0  0  0  0  0  0  0\\n   27.9720   12.3001    8.7732 C   0  0  0  0  0  0  0  0  0  0  0  0\\n   29.2174   13.1851    8.6652 C   0  0  0  0  0  0  0  0  0  0  0  0\\n   31.6409    8.0797    6.4320 C   0  0  0  0  0  0  0  0  0  0  0  0\\n   34.2312    5.2771    4.3767 C   0  0  0  0  0  0  0  0  0  0  0  0\\n   32.5616    7.0637    5.7423 C   0  0  0  0  0  0  0  0  0  0  0  0\\n   31.3037    9.2633    8.4904 C   0  0  0  0  0  0  0  0  0  0  0  0\\n   30.0914   10.7950    9.3200 C   0  0  0  0  0  0  0  0  0  0  0  0\\n   29.1974   12.0028    9.6481 C   0  0  0  0  0  0  0  0  0  0  0  0\\n  1  2  1  0\\n  1 16  1  0\\n  2 15  2  0\\n  3 15  1  0\\n  3 12  1  0\\n  4 12  2  0\\n  5 13  2  0\\n  5  7  1  0\\n  6  8  2  0\\n  6 13  1  0\\n  7 14  2  0\\n  8 14  1  0\\n  9 15  1  0\\n  9 16  2  0\\n 10 17  1  0\\n 10 11  1  0\\n 11 17  1  0\\n 12 14  1  0\\n 16 17  1  0\\nM  END\\n\",\"sdf\");\n",
       "\tviewer_16315525819189284.addModel(\"4fkg_B_4CK.pdb\\n     RDKit          3D\\n\\n 20 22  0  0  0  0  0  0  0  0999 V2000\\n   30.6741   10.0922   10.2834 N   0  0  0  0  0  0  0  0  0  0  0  0\\n   31.3968    9.1937    9.7982 N   0  0  0  0  0  0  0  0  0  0  0  0\\n   31.9314    8.3552    7.6773 N   0  0  0  0  0  0  0  0  0  0  0  0\\n   36.4075    4.3294    3.9022 O   0  0  0  0  0  0  0  0  0  0  0  0\\n   30.7953    8.6728    5.7304 O   0  0  0  0  0  0  0  0  0  0  0  0\\n   34.7171    3.6734    2.6434 O   0  0  0  0  0  0  0  0  0  0  0  0\\n   32.9326    5.4615    3.9237 C   0  0  0  0  0  0  0  0  0  0  0  0\\n   34.7493    5.9994    5.4369 C   0  0  0  0  0  0  0  0  0  0  0  0\\n   32.0854    6.3412    4.6078 C   0  0  0  0  0  0  0  0  0  0  0  0\\n   33.9124    6.8919    6.1095 C   0  0  0  0  0  0  0  0  0  0  0  0\\n   30.4412   10.2422    8.1120 C   0  0  0  0  0  0  0  0  0  0  0  0\\n   27.9704   12.2954    8.7260 C   0  0  0  0  0  0  0  0  0  0  0  0\\n   29.2235   13.1729    8.6516 C   0  0  0  0  0  0  0  0  0  0  0  0\\n   35.1993    4.3412    3.5792 C   0  0  0  0  0  0  0  0  0  0  0  0\\n   31.6506    8.0812    6.3913 C   0  0  0  0  0  0  0  0  0  0  0  0\\n   34.2569    5.2884    4.3431 C   0  0  0  0  0  0  0  0  0  0  0  0\\n   32.5761    7.0681    5.7039 C   0  0  0  0  0  0  0  0  0  0  0  0\\n   31.2857    9.2393    8.4595 C   0  0  0  0  0  0  0  0  0  0  0  0\\n   30.0698   10.7682    9.2889 C   0  0  0  0  0  0  0  0  0  0  0  0\\n   29.1784   11.9777    9.6178 C   0  0  0  0  0  0  0  0  0  0  0  0\\n  1  2  1  0\\n  1 19  1  0\\n  2 18  2  0\\n  3 18  1  0\\n  3 15  1  0\\n  4 14  2  0\\n  5 15  2  0\\n  6 14  1  0\\n  7 16  2  0\\n  7  9  1  0\\n  8 10  2  0\\n  8 16  1  0\\n  9 17  2  0\\n 10 17  1  0\\n 11 18  1  0\\n 11 19  2  0\\n 12 20  1  0\\n 12 13  1  0\\n 13 20  1  0\\n 14 16  1  0\\n 15 17  1  0\\n 19 20  1  0\\nM  END\\n\",\"sdf\");\n",
       "\tviewer_16315525819189284.setStyle({\"model\": 0},{\"stick\": {\"colorscheme\": \"lightgreyCarbon\"}});\n",
       "\tviewer_16315525819189284.setStyle({\"model\": 1},{\"stick\": {\"colorscheme\": \"redCarbon\"}});\n",
       "\tviewer_16315525819189284.setStyle({\"model\": 2},{\"stick\": {\"colorscheme\": \"greyCarbon\"}});\n",
       "\tviewer_16315525819189284.zoomTo();\n",
       "viewer_16315525819189284.render();\n",
       "});\n",
       "</script>"
      ]
     },
     "metadata": {},
     "output_type": "display_data"
    },
    {
     "data": {
      "text/plain": [
       "<py3Dmol.view at 0x7f8c64d17898>"
      ]
     },
     "execution_count": 18,
     "metadata": {},
     "output_type": "execute_result"
    }
   ],
   "source": [
    "molid = 2\n",
    "als = AlignShow([mols[molid], mkmols[molid]], [pcds[molid], mkpcds[molid]])\n",
    "s = als.align(1, 0)\n",
    "print(\"Score:\", s)\n",
    "als.save(1, 0, f\"murcko_self_{molid}.sdf\")\n",
    "als.show(1, 0)"
   ]
  },
  {
   "cell_type": "code",
   "execution_count": 19,
   "metadata": {
    "scrolled": true
   },
   "outputs": [
    {
     "data": {
      "application/3dmoljs_load.v0": "<div id=\"3dmolviewer_16315525820972178\"  style=\"position: relative; width: 640px; height: 480px\">\n        <p id=\"3dmolwarning_16315525820972178\" style=\"background-color:#ffcccc;color:black\">You appear to be running in JupyterLab (or JavaScript failed to load for some other reason).  You need to install the 3dmol extension: <br>\n        <tt>jupyter labextension install jupyterlab_3dmol</tt></p>\n        </div>\n<script>\n\nvar loadScriptAsync = function(uri){\n  return new Promise((resolve, reject) => {\n    var tag = document.createElement('script');\n    tag.src = uri;\n    tag.async = true;\n    tag.onload = () => {\n      resolve();\n    };\n  var firstScriptTag = document.getElementsByTagName('script')[0];\n  firstScriptTag.parentNode.insertBefore(tag, firstScriptTag);\n});\n};\n\nif(typeof $3Dmolpromise === 'undefined') {\n$3Dmolpromise = null;\n  $3Dmolpromise = loadScriptAsync('https://3dmol.org/build/3Dmol.js');\n}\n\nvar viewer_16315525820972178 = null;\nvar warn = document.getElementById(\"3dmolwarning_16315525820972178\");\nif(warn) {\n    warn.parentNode.removeChild(warn);\n}\n$3Dmolpromise.then(function() {\nviewer_16315525820972178 = $3Dmol.createViewer($(\"#3dmolviewer_16315525820972178\"),{backgroundColor:\"white\"});\nviewer_16315525820972178.zoomTo();\n\tviewer_16315525820972178.addModel(\"\\n     RDKit          3D\\n\\n 20 22  0  0  0  0  0  0  0  0999 V2000\\n   35.1993    4.3412    3.5792 C   0  0  0  0  0  5  0  0  0  0  0  0\\n   36.4075    4.3294    3.9022 O   0  0  0  0  0  0  0  0  0  0  0  0\\n   34.7171    3.6734    2.6434 O   0  0  0  0  0  0  0  0  0  0  0  0\\n   30.7175   10.1367   10.3129 N   0  0  0  0  0  0  0  0  0  0  0  0\\n   31.4381    9.2367    9.8274 N   0  0  0  0  0  0  0  0  0  0  0  0\\n   31.9419    8.3731    7.7091 N   0  0  0  0  0  0  0  0  0  0  0  0\\n   30.7703    8.6565    5.7780 O   0  0  0  0  0  0  0  0  0  0  0  0\\n   32.8986    5.4355    3.9780 C   0  0  0  0  0  0  0  0  0  0  0  0\\n   34.7374    6.0063    5.4521 C   0  0  0  0  0  0  0  0  0  0  0  0\\n   32.0572    6.3187    4.6648 C   0  0  0  0  0  0  0  0  0  0  0  0\\n   33.9059    6.9022    6.1271 C   0  0  0  0  0  0  0  0  0  0  0  0\\n   30.4462   10.2557    8.1441 C   0  0  0  0  0  0  0  0  0  0  0  0\\n   27.9720   12.3001    8.7732 C   0  0  0  0  0  0  0  0  0  0  0  0\\n   29.2174   13.1851    8.6652 C   0  0  0  0  0  0  0  0  0  0  0  0\\n   31.6409    8.0797    6.4320 C   0  0  0  0  0  0  0  0  0  0  0  0\\n   34.2312    5.2771    4.3767 C   0  0  0  0  0  0  0  0  0  0  0  0\\n   32.5616    7.0637    5.7423 C   0  0  0  0  0  0  0  0  0  0  0  0\\n   31.3037    9.2633    8.4904 C   0  0  0  0  0  0  0  0  0  0  0  0\\n   30.0914   10.7950    9.3200 C   0  0  0  0  0  0  0  0  0  0  0  0\\n   29.1974   12.0028    9.6481 C   0  0  0  0  0  0  0  0  0  0  0  0\\n  2  1  2  0\\n  3  1  1  0\\n  4  5  1  0\\n  4 19  1  0\\n  5 18  2  0\\n  6 18  1  0\\n  6 15  1  0\\n  7 15  2  0\\n  8 16  2  0\\n  8 10  1  0\\n  9 11  2  0\\n  9 16  1  0\\n 10 17  2  0\\n 11 17  1  0\\n 12 18  1  0\\n 12 19  2  0\\n 13 20  1  0\\n 13 14  1  0\\n 14 20  1  0\\n 15 17  1  0\\n 19 20  1  0\\n  1 16  1  0\\nM  END\\n\",\"sdf\");\n\tviewer_16315525820972178.setStyle({\"model\": 0},{\"stick\": {\"colorscheme\": \"lightgreyCarbon\"}});\n\tviewer_16315525820972178.zoomTo();\nviewer_16315525820972178.render();\n});\n</script>",
      "text/html": [
       "<div id=\"3dmolviewer_16315525820972178\"  style=\"position: relative; width: 640px; height: 480px\">\n",
       "        <p id=\"3dmolwarning_16315525820972178\" style=\"background-color:#ffcccc;color:black\">You appear to be running in JupyterLab (or JavaScript failed to load for some other reason).  You need to install the 3dmol extension: <br>\n",
       "        <tt>jupyter labextension install jupyterlab_3dmol</tt></p>\n",
       "        </div>\n",
       "<script>\n",
       "\n",
       "var loadScriptAsync = function(uri){\n",
       "  return new Promise((resolve, reject) => {\n",
       "    var tag = document.createElement('script');\n",
       "    tag.src = uri;\n",
       "    tag.async = true;\n",
       "    tag.onload = () => {\n",
       "      resolve();\n",
       "    };\n",
       "  var firstScriptTag = document.getElementsByTagName('script')[0];\n",
       "  firstScriptTag.parentNode.insertBefore(tag, firstScriptTag);\n",
       "});\n",
       "};\n",
       "\n",
       "if(typeof $3Dmolpromise === 'undefined') {\n",
       "$3Dmolpromise = null;\n",
       "  $3Dmolpromise = loadScriptAsync('https://3dmol.org/build/3Dmol.js');\n",
       "}\n",
       "\n",
       "var viewer_16315525820972178 = null;\n",
       "var warn = document.getElementById(\"3dmolwarning_16315525820972178\");\n",
       "if(warn) {\n",
       "    warn.parentNode.removeChild(warn);\n",
       "}\n",
       "$3Dmolpromise.then(function() {\n",
       "viewer_16315525820972178 = $3Dmol.createViewer($(\"#3dmolviewer_16315525820972178\"),{backgroundColor:\"white\"});\n",
       "viewer_16315525820972178.zoomTo();\n",
       "\tviewer_16315525820972178.addModel(\"\\n     RDKit          3D\\n\\n 20 22  0  0  0  0  0  0  0  0999 V2000\\n   35.1993    4.3412    3.5792 C   0  0  0  0  0  5  0  0  0  0  0  0\\n   36.4075    4.3294    3.9022 O   0  0  0  0  0  0  0  0  0  0  0  0\\n   34.7171    3.6734    2.6434 O   0  0  0  0  0  0  0  0  0  0  0  0\\n   30.7175   10.1367   10.3129 N   0  0  0  0  0  0  0  0  0  0  0  0\\n   31.4381    9.2367    9.8274 N   0  0  0  0  0  0  0  0  0  0  0  0\\n   31.9419    8.3731    7.7091 N   0  0  0  0  0  0  0  0  0  0  0  0\\n   30.7703    8.6565    5.7780 O   0  0  0  0  0  0  0  0  0  0  0  0\\n   32.8986    5.4355    3.9780 C   0  0  0  0  0  0  0  0  0  0  0  0\\n   34.7374    6.0063    5.4521 C   0  0  0  0  0  0  0  0  0  0  0  0\\n   32.0572    6.3187    4.6648 C   0  0  0  0  0  0  0  0  0  0  0  0\\n   33.9059    6.9022    6.1271 C   0  0  0  0  0  0  0  0  0  0  0  0\\n   30.4462   10.2557    8.1441 C   0  0  0  0  0  0  0  0  0  0  0  0\\n   27.9720   12.3001    8.7732 C   0  0  0  0  0  0  0  0  0  0  0  0\\n   29.2174   13.1851    8.6652 C   0  0  0  0  0  0  0  0  0  0  0  0\\n   31.6409    8.0797    6.4320 C   0  0  0  0  0  0  0  0  0  0  0  0\\n   34.2312    5.2771    4.3767 C   0  0  0  0  0  0  0  0  0  0  0  0\\n   32.5616    7.0637    5.7423 C   0  0  0  0  0  0  0  0  0  0  0  0\\n   31.3037    9.2633    8.4904 C   0  0  0  0  0  0  0  0  0  0  0  0\\n   30.0914   10.7950    9.3200 C   0  0  0  0  0  0  0  0  0  0  0  0\\n   29.1974   12.0028    9.6481 C   0  0  0  0  0  0  0  0  0  0  0  0\\n  2  1  2  0\\n  3  1  1  0\\n  4  5  1  0\\n  4 19  1  0\\n  5 18  2  0\\n  6 18  1  0\\n  6 15  1  0\\n  7 15  2  0\\n  8 16  2  0\\n  8 10  1  0\\n  9 11  2  0\\n  9 16  1  0\\n 10 17  2  0\\n 11 17  1  0\\n 12 18  1  0\\n 12 19  2  0\\n 13 20  1  0\\n 13 14  1  0\\n 14 20  1  0\\n 15 17  1  0\\n 19 20  1  0\\n  1 16  1  0\\nM  END\\n\",\"sdf\");\n",
       "\tviewer_16315525820972178.setStyle({\"model\": 0},{\"stick\": {\"colorscheme\": \"lightgreyCarbon\"}});\n",
       "\tviewer_16315525820972178.zoomTo();\n",
       "viewer_16315525820972178.render();\n",
       "});\n",
       "</script>"
      ]
     },
     "metadata": {},
     "output_type": "display_data"
    }
   ],
   "source": [
    "rdmol2 = reconstruction(\"murcko_self_2.sdf\")\n",
    "show_all_conformers(rdmol2)"
   ]
  },
  {
   "cell_type": "code",
   "execution_count": 20,
   "metadata": {},
   "outputs": [
    {
     "name": "stdout",
     "output_type": "stream",
     "text": [
      "Score: 0.9230769230769231\n"
     ]
    },
    {
     "data": {
      "application/3dmoljs_load.v0": "<div id=\"3dmolviewer_1631552582385464\"  style=\"position: relative; width: 640px; height: 480px\">\n        <p id=\"3dmolwarning_1631552582385464\" style=\"background-color:#ffcccc;color:black\">You appear to be running in JupyterLab (or JavaScript failed to load for some other reason).  You need to install the 3dmol extension: <br>\n        <tt>jupyter labextension install jupyterlab_3dmol</tt></p>\n        </div>\n<script>\n\nvar loadScriptAsync = function(uri){\n  return new Promise((resolve, reject) => {\n    var tag = document.createElement('script');\n    tag.src = uri;\n    tag.async = true;\n    tag.onload = () => {\n      resolve();\n    };\n  var firstScriptTag = document.getElementsByTagName('script')[0];\n  firstScriptTag.parentNode.insertBefore(tag, firstScriptTag);\n});\n};\n\nif(typeof $3Dmolpromise === 'undefined') {\n$3Dmolpromise = null;\n  $3Dmolpromise = loadScriptAsync('https://3dmol.org/build/3Dmol.js');\n}\n\nvar viewer_1631552582385464 = null;\nvar warn = document.getElementById(\"3dmolwarning_1631552582385464\");\nif(warn) {\n    warn.parentNode.removeChild(warn);\n}\n$3Dmolpromise.then(function() {\nviewer_1631552582385464 = $3Dmol.createViewer($(\"#3dmolviewer_1631552582385464\"),{backgroundColor:\"white\"});\nviewer_1631552582385464.zoomTo();\n\tviewer_1631552582385464.addModel(\"4fki_B_09K.pdb\\n     RDKit          3D\\n\\n 18 20  0  0  0  0  0  0  0  0999 V2000\\n  -24.2451    0.8758   23.4478 N   0  0  0  0  0  0  0  0  0  0  0  0\\n  -28.2632   -2.8640   24.7347 C   0  0  0  0  0  0  0  0  0  0  0  0\\n  -23.1659    2.7634   24.4372 N   0  0  0  0  0  0  0  0  0  0  0  0\\n  -23.3745   -1.1671   22.8826 O   0  0  0  0  0  0  0  0  0  0  0  0\\n  -27.3338   -3.5795   23.9513 C   0  0  0  0  0  0  0  0  0  0  0  0\\n  -21.9461    3.0599   24.8682 N   0  0  0  0  0  0  0  0  0  0  0  0\\n  -26.4609   -2.8632   23.1121 C   0  0  0  0  0  0  0  0  0  0  0  0\\n  -26.5220   -1.4390   23.0859 C   0  0  0  0  0  0  0  0  0  0  0  0\\n  -27.4294   -0.7677   23.8937 C   0  0  0  0  0  0  0  0  0  0  0  0\\n  -28.3269   -1.4488   24.7413 C   0  0  0  0  0  0  0  0  0  0  0  0\\n  -25.6449   -0.6956   22.1760 C   0  0  0  0  0  0  0  0  0  0  0  0\\n  -24.3003   -0.3791   22.8643 C   0  0  0  0  0  0  0  0  0  0  0  0\\n  -23.1492    1.4367   24.0715 C   0  0  0  0  0  0  0  0  0  0  0  0\\n  -21.0831    1.9645   24.8099 C   0  0  0  0  0  0  0  0  0  0  0  0\\n  -21.8302    0.8761   24.3048 C   0  0  0  0  0  0  0  0  0  0  0  0\\n  -19.6881    2.1051   25.2392 C   0  0  0  0  0  0  0  0  0  0  0  0\\n  -18.9654    0.9079   25.7958 C   0  0  0  0  0  0  0  0  0  0  0  0\\n  -18.5521    1.4926   24.4618 C   0  0  0  0  0  0  0  0  0  0  0  0\\n  1 12  1  0\\n  1 13  1  0\\n  2  5  2  0\\n  2 10  1  0\\n  3 13  2  0\\n  3  6  1  0\\n  4 12  2  0\\n  5  7  1  0\\n  6 14  2  0\\n  7  8  2  0\\n  8 11  1  0\\n  8  9  1  0\\n  9 10  2  0\\n 11 12  1  0\\n 13 15  1  0\\n 14 16  1  0\\n 14 15  1  0\\n 16 18  1  0\\n 16 17  1  0\\n 17 18  1  0\\nM  END\\n\",\"sdf\");\n\tviewer_1631552582385464.addModel(\"4fki_B_09K.pdb\\n     RDKit          3D\\n\\n 18 20  0  0  0  0  0  0  0  0999 V2000\\n   14.4686  -15.0654   26.7064 N   0  0  0  0  0  0  0  0  0  0  0  0\\n   16.3997  -20.3408   27.1835 C   0  0  0  0  0  0  0  0  0  0  0  0\\n   14.6496  -12.9768   27.8517 N   0  0  0  0  0  0  0  0  0  0  0  0\\n   15.1846  -15.6404   24.6070 O   0  0  0  0  0  0  0  0  0  0  0  0\\n   16.3056  -20.1090   25.7953 C   0  0  0  0  0  0  0  0  0  0  0  0\\n   15.1606  -11.7787   27.5965 N   0  0  0  0  0  0  0  0  0  0  0  0\\n   15.4607  -19.0826   25.3352 C   0  0  0  0  0  0  0  0  0  0  0  0\\n   14.7373  -18.2928   26.2763 C   0  0  0  0  0  0  0  0  0  0  0  0\\n   14.8785  -18.5304   27.6365 C   0  0  0  0  0  0  0  0  0  0  0  0\\n   15.7077  -19.5548   28.1375 C   0  0  0  0  0  0  0  0  0  0  0  0\\n   13.8207  -17.2549   25.7941 C   0  0  0  0  0  0  0  0  0  0  0  0\\n   14.5686  -15.9164   25.6183 C   0  0  0  0  0  0  0  0  0  0  0  0\\n   14.9850  -13.7884   26.7920 C   0  0  0  0  0  0  0  0  0  0  0  0\\n   15.8452  -11.7430   26.3807 C   0  0  0  0  0  0  0  0  0  0  0  0\\n   15.7662  -13.0397   25.8237 C   0  0  0  0  0  0  0  0  0  0  0  0\\n   16.4717  -10.4973   25.9270 C   0  0  0  0  0  0  0  0  0  0  0  0\\n   17.6903  -10.5649   25.0463 C   0  0  0  0  0  0  0  0  0  0  0  0\\n   16.3822  -10.0389   24.4946 C   0  0  0  0  0  0  0  0  0  0  0  0\\n  1 12  1  0\\n  1 13  1  0\\n  2  5  2  0\\n  2 10  1  0\\n  3 13  2  0\\n  3  6  1  0\\n  4 12  2  0\\n  5  7  1  0\\n  6 14  2  0\\n  7  8  2  0\\n  8 11  1  0\\n  8  9  1  0\\n  9 10  2  0\\n 11 12  1  0\\n 13 15  1  0\\n 14 16  1  0\\n 14 15  1  0\\n 16 18  1  0\\n 16 17  1  0\\n 17 18  1  0\\nM  END\\n\",\"sdf\");\n\tviewer_1631552582385464.addModel(\"4fki_B_09K.pdb\\n     RDKit          3D\\n\\n 23 25  0  0  0  0  0  0  0  0999 V2000\\n   18.1712  -21.4055   28.6675 C   0  0  0  0  0  0  0  0  0  0  0  0\\n   18.9573  -22.4830   28.6100 F   0  0  0  0  0  0  0  0  0  0  0  0\\n   14.4729  -15.1472   26.7206 N   0  0  0  0  0  0  0  0  0  0  0  0\\n   17.1779  -21.5024   27.7117 O   0  0  0  0  0  0  0  0  0  0  0  0\\n   16.4562  -20.3966   27.2659 C   0  0  0  0  0  0  0  0  0  0  0  0\\n   17.6905  -21.3186   29.8952 F   0  0  0  0  0  0  0  0  0  0  0  0\\n   14.6260  -13.0444   27.8437 N   0  0  0  0  0  0  0  0  0  0  0  0\\n   15.2060  -15.7377   24.6314 O   0  0  0  0  0  0  0  0  0  0  0  0\\n   16.3672  -20.1810   25.8748 C   0  0  0  0  0  0  0  0  0  0  0  0\\n   18.9057  -20.3227   28.4604 F   0  0  0  0  0  0  0  0  0  0  0  0\\n   15.1258  -11.8439   27.5780 N   0  0  0  0  0  0  0  0  0  0  0  0\\n   15.5141  -19.1686   25.3989 C   0  0  0  0  0  0  0  0  0  0  0  0\\n   14.7775  -18.3762   26.3275 C   0  0  0  0  0  0  0  0  0  0  0  0\\n   14.9139  -18.5974   27.6910 C   0  0  0  0  0  0  0  0  0  0  0  0\\n   15.7510  -19.6074   28.2075 C   0  0  0  0  0  0  0  0  0  0  0  0\\n   13.8527  -17.3533   25.8292 C   0  0  0  0  0  0  0  0  0  0  0  0\\n   14.5876  -16.0091   25.6425 C   0  0  0  0  0  0  0  0  0  0  0  0\\n   14.9755  -13.8640   26.7948 C   0  0  0  0  0  0  0  0  0  0  0  0\\n   15.8165  -11.8144   26.3655 C   0  0  0  0  0  0  0  0  0  0  0  0\\n   15.7540  -13.1179   25.8223 C   0  0  0  0  0  0  0  0  0  0  0  0\\n   16.4323  -10.5672   25.9014 C   0  0  0  0  0  0  0  0  0  0  0  0\\n   17.6563  -10.6317   25.0278 C   0  0  0  0  0  0  0  0  0  0  0  0\\n   16.3457  -10.1255   24.4635 C   0  0  0  0  0  0  0  0  0  0  0  0\\n  1  4  1  0\\n  1 10  1  0\\n  1  2  1  0\\n  1  6  1  0\\n  3 17  1  0\\n  3 18  1  0\\n  4  5  1  0\\n  5  9  2  0\\n  5 15  1  0\\n  7 18  2  0\\n  7 11  1  0\\n  8 17  2  0\\n  9 12  1  0\\n 11 19  2  0\\n 12 13  2  0\\n 13 16  1  0\\n 13 14  1  0\\n 14 15  2  0\\n 16 17  1  0\\n 18 20  1  0\\n 19 21  1  0\\n 19 20  1  0\\n 21 23  1  0\\n 21 22  1  0\\n 22 23  1  0\\nM  END\\n\",\"sdf\");\n\tviewer_1631552582385464.setStyle({\"model\": 0},{\"stick\": {\"colorscheme\": \"lightgreyCarbon\"}});\n\tviewer_1631552582385464.setStyle({\"model\": 1},{\"stick\": {\"colorscheme\": \"redCarbon\"}});\n\tviewer_1631552582385464.setStyle({\"model\": 2},{\"stick\": {\"colorscheme\": \"greyCarbon\"}});\n\tviewer_1631552582385464.zoomTo();\nviewer_1631552582385464.render();\n});\n</script>",
      "text/html": [
       "<div id=\"3dmolviewer_1631552582385464\"  style=\"position: relative; width: 640px; height: 480px\">\n",
       "        <p id=\"3dmolwarning_1631552582385464\" style=\"background-color:#ffcccc;color:black\">You appear to be running in JupyterLab (or JavaScript failed to load for some other reason).  You need to install the 3dmol extension: <br>\n",
       "        <tt>jupyter labextension install jupyterlab_3dmol</tt></p>\n",
       "        </div>\n",
       "<script>\n",
       "\n",
       "var loadScriptAsync = function(uri){\n",
       "  return new Promise((resolve, reject) => {\n",
       "    var tag = document.createElement('script');\n",
       "    tag.src = uri;\n",
       "    tag.async = true;\n",
       "    tag.onload = () => {\n",
       "      resolve();\n",
       "    };\n",
       "  var firstScriptTag = document.getElementsByTagName('script')[0];\n",
       "  firstScriptTag.parentNode.insertBefore(tag, firstScriptTag);\n",
       "});\n",
       "};\n",
       "\n",
       "if(typeof $3Dmolpromise === 'undefined') {\n",
       "$3Dmolpromise = null;\n",
       "  $3Dmolpromise = loadScriptAsync('https://3dmol.org/build/3Dmol.js');\n",
       "}\n",
       "\n",
       "var viewer_1631552582385464 = null;\n",
       "var warn = document.getElementById(\"3dmolwarning_1631552582385464\");\n",
       "if(warn) {\n",
       "    warn.parentNode.removeChild(warn);\n",
       "}\n",
       "$3Dmolpromise.then(function() {\n",
       "viewer_1631552582385464 = $3Dmol.createViewer($(\"#3dmolviewer_1631552582385464\"),{backgroundColor:\"white\"});\n",
       "viewer_1631552582385464.zoomTo();\n",
       "\tviewer_1631552582385464.addModel(\"4fki_B_09K.pdb\\n     RDKit          3D\\n\\n 18 20  0  0  0  0  0  0  0  0999 V2000\\n  -24.2451    0.8758   23.4478 N   0  0  0  0  0  0  0  0  0  0  0  0\\n  -28.2632   -2.8640   24.7347 C   0  0  0  0  0  0  0  0  0  0  0  0\\n  -23.1659    2.7634   24.4372 N   0  0  0  0  0  0  0  0  0  0  0  0\\n  -23.3745   -1.1671   22.8826 O   0  0  0  0  0  0  0  0  0  0  0  0\\n  -27.3338   -3.5795   23.9513 C   0  0  0  0  0  0  0  0  0  0  0  0\\n  -21.9461    3.0599   24.8682 N   0  0  0  0  0  0  0  0  0  0  0  0\\n  -26.4609   -2.8632   23.1121 C   0  0  0  0  0  0  0  0  0  0  0  0\\n  -26.5220   -1.4390   23.0859 C   0  0  0  0  0  0  0  0  0  0  0  0\\n  -27.4294   -0.7677   23.8937 C   0  0  0  0  0  0  0  0  0  0  0  0\\n  -28.3269   -1.4488   24.7413 C   0  0  0  0  0  0  0  0  0  0  0  0\\n  -25.6449   -0.6956   22.1760 C   0  0  0  0  0  0  0  0  0  0  0  0\\n  -24.3003   -0.3791   22.8643 C   0  0  0  0  0  0  0  0  0  0  0  0\\n  -23.1492    1.4367   24.0715 C   0  0  0  0  0  0  0  0  0  0  0  0\\n  -21.0831    1.9645   24.8099 C   0  0  0  0  0  0  0  0  0  0  0  0\\n  -21.8302    0.8761   24.3048 C   0  0  0  0  0  0  0  0  0  0  0  0\\n  -19.6881    2.1051   25.2392 C   0  0  0  0  0  0  0  0  0  0  0  0\\n  -18.9654    0.9079   25.7958 C   0  0  0  0  0  0  0  0  0  0  0  0\\n  -18.5521    1.4926   24.4618 C   0  0  0  0  0  0  0  0  0  0  0  0\\n  1 12  1  0\\n  1 13  1  0\\n  2  5  2  0\\n  2 10  1  0\\n  3 13  2  0\\n  3  6  1  0\\n  4 12  2  0\\n  5  7  1  0\\n  6 14  2  0\\n  7  8  2  0\\n  8 11  1  0\\n  8  9  1  0\\n  9 10  2  0\\n 11 12  1  0\\n 13 15  1  0\\n 14 16  1  0\\n 14 15  1  0\\n 16 18  1  0\\n 16 17  1  0\\n 17 18  1  0\\nM  END\\n\",\"sdf\");\n",
       "\tviewer_1631552582385464.addModel(\"4fki_B_09K.pdb\\n     RDKit          3D\\n\\n 18 20  0  0  0  0  0  0  0  0999 V2000\\n   14.4686  -15.0654   26.7064 N   0  0  0  0  0  0  0  0  0  0  0  0\\n   16.3997  -20.3408   27.1835 C   0  0  0  0  0  0  0  0  0  0  0  0\\n   14.6496  -12.9768   27.8517 N   0  0  0  0  0  0  0  0  0  0  0  0\\n   15.1846  -15.6404   24.6070 O   0  0  0  0  0  0  0  0  0  0  0  0\\n   16.3056  -20.1090   25.7953 C   0  0  0  0  0  0  0  0  0  0  0  0\\n   15.1606  -11.7787   27.5965 N   0  0  0  0  0  0  0  0  0  0  0  0\\n   15.4607  -19.0826   25.3352 C   0  0  0  0  0  0  0  0  0  0  0  0\\n   14.7373  -18.2928   26.2763 C   0  0  0  0  0  0  0  0  0  0  0  0\\n   14.8785  -18.5304   27.6365 C   0  0  0  0  0  0  0  0  0  0  0  0\\n   15.7077  -19.5548   28.1375 C   0  0  0  0  0  0  0  0  0  0  0  0\\n   13.8207  -17.2549   25.7941 C   0  0  0  0  0  0  0  0  0  0  0  0\\n   14.5686  -15.9164   25.6183 C   0  0  0  0  0  0  0  0  0  0  0  0\\n   14.9850  -13.7884   26.7920 C   0  0  0  0  0  0  0  0  0  0  0  0\\n   15.8452  -11.7430   26.3807 C   0  0  0  0  0  0  0  0  0  0  0  0\\n   15.7662  -13.0397   25.8237 C   0  0  0  0  0  0  0  0  0  0  0  0\\n   16.4717  -10.4973   25.9270 C   0  0  0  0  0  0  0  0  0  0  0  0\\n   17.6903  -10.5649   25.0463 C   0  0  0  0  0  0  0  0  0  0  0  0\\n   16.3822  -10.0389   24.4946 C   0  0  0  0  0  0  0  0  0  0  0  0\\n  1 12  1  0\\n  1 13  1  0\\n  2  5  2  0\\n  2 10  1  0\\n  3 13  2  0\\n  3  6  1  0\\n  4 12  2  0\\n  5  7  1  0\\n  6 14  2  0\\n  7  8  2  0\\n  8 11  1  0\\n  8  9  1  0\\n  9 10  2  0\\n 11 12  1  0\\n 13 15  1  0\\n 14 16  1  0\\n 14 15  1  0\\n 16 18  1  0\\n 16 17  1  0\\n 17 18  1  0\\nM  END\\n\",\"sdf\");\n",
       "\tviewer_1631552582385464.addModel(\"4fki_B_09K.pdb\\n     RDKit          3D\\n\\n 23 25  0  0  0  0  0  0  0  0999 V2000\\n   18.1712  -21.4055   28.6675 C   0  0  0  0  0  0  0  0  0  0  0  0\\n   18.9573  -22.4830   28.6100 F   0  0  0  0  0  0  0  0  0  0  0  0\\n   14.4729  -15.1472   26.7206 N   0  0  0  0  0  0  0  0  0  0  0  0\\n   17.1779  -21.5024   27.7117 O   0  0  0  0  0  0  0  0  0  0  0  0\\n   16.4562  -20.3966   27.2659 C   0  0  0  0  0  0  0  0  0  0  0  0\\n   17.6905  -21.3186   29.8952 F   0  0  0  0  0  0  0  0  0  0  0  0\\n   14.6260  -13.0444   27.8437 N   0  0  0  0  0  0  0  0  0  0  0  0\\n   15.2060  -15.7377   24.6314 O   0  0  0  0  0  0  0  0  0  0  0  0\\n   16.3672  -20.1810   25.8748 C   0  0  0  0  0  0  0  0  0  0  0  0\\n   18.9057  -20.3227   28.4604 F   0  0  0  0  0  0  0  0  0  0  0  0\\n   15.1258  -11.8439   27.5780 N   0  0  0  0  0  0  0  0  0  0  0  0\\n   15.5141  -19.1686   25.3989 C   0  0  0  0  0  0  0  0  0  0  0  0\\n   14.7775  -18.3762   26.3275 C   0  0  0  0  0  0  0  0  0  0  0  0\\n   14.9139  -18.5974   27.6910 C   0  0  0  0  0  0  0  0  0  0  0  0\\n   15.7510  -19.6074   28.2075 C   0  0  0  0  0  0  0  0  0  0  0  0\\n   13.8527  -17.3533   25.8292 C   0  0  0  0  0  0  0  0  0  0  0  0\\n   14.5876  -16.0091   25.6425 C   0  0  0  0  0  0  0  0  0  0  0  0\\n   14.9755  -13.8640   26.7948 C   0  0  0  0  0  0  0  0  0  0  0  0\\n   15.8165  -11.8144   26.3655 C   0  0  0  0  0  0  0  0  0  0  0  0\\n   15.7540  -13.1179   25.8223 C   0  0  0  0  0  0  0  0  0  0  0  0\\n   16.4323  -10.5672   25.9014 C   0  0  0  0  0  0  0  0  0  0  0  0\\n   17.6563  -10.6317   25.0278 C   0  0  0  0  0  0  0  0  0  0  0  0\\n   16.3457  -10.1255   24.4635 C   0  0  0  0  0  0  0  0  0  0  0  0\\n  1  4  1  0\\n  1 10  1  0\\n  1  2  1  0\\n  1  6  1  0\\n  3 17  1  0\\n  3 18  1  0\\n  4  5  1  0\\n  5  9  2  0\\n  5 15  1  0\\n  7 18  2  0\\n  7 11  1  0\\n  8 17  2  0\\n  9 12  1  0\\n 11 19  2  0\\n 12 13  2  0\\n 13 16  1  0\\n 13 14  1  0\\n 14 15  2  0\\n 16 17  1  0\\n 18 20  1  0\\n 19 21  1  0\\n 19 20  1  0\\n 21 23  1  0\\n 21 22  1  0\\n 22 23  1  0\\nM  END\\n\",\"sdf\");\n",
       "\tviewer_1631552582385464.setStyle({\"model\": 0},{\"stick\": {\"colorscheme\": \"lightgreyCarbon\"}});\n",
       "\tviewer_1631552582385464.setStyle({\"model\": 1},{\"stick\": {\"colorscheme\": \"redCarbon\"}});\n",
       "\tviewer_1631552582385464.setStyle({\"model\": 2},{\"stick\": {\"colorscheme\": \"greyCarbon\"}});\n",
       "\tviewer_1631552582385464.zoomTo();\n",
       "viewer_1631552582385464.render();\n",
       "});\n",
       "</script>"
      ]
     },
     "metadata": {},
     "output_type": "display_data"
    },
    {
     "data": {
      "text/plain": [
       "<py3Dmol.view at 0x7f8c64d32828>"
      ]
     },
     "execution_count": 20,
     "metadata": {},
     "output_type": "execute_result"
    }
   ],
   "source": [
    "molid = 3\n",
    "als = AlignShow([mols[molid], mkmols[molid]], [pcds[molid], mkpcds[molid]])\n",
    "s = als.align(1, 0)\n",
    "print(\"Score:\", s)\n",
    "als.save(1, 0, f\"murcko_self_{molid}.sdf\")\n",
    "als.show(1, 0)"
   ]
  },
  {
   "cell_type": "code",
   "execution_count": 21,
   "metadata": {},
   "outputs": [
    {
     "data": {
      "application/3dmoljs_load.v0": "<div id=\"3dmolviewer_163155258576488\"  style=\"position: relative; width: 640px; height: 480px\">\n        <p id=\"3dmolwarning_163155258576488\" style=\"background-color:#ffcccc;color:black\">You appear to be running in JupyterLab (or JavaScript failed to load for some other reason).  You need to install the 3dmol extension: <br>\n        <tt>jupyter labextension install jupyterlab_3dmol</tt></p>\n        </div>\n<script>\n\nvar loadScriptAsync = function(uri){\n  return new Promise((resolve, reject) => {\n    var tag = document.createElement('script');\n    tag.src = uri;\n    tag.async = true;\n    tag.onload = () => {\n      resolve();\n    };\n  var firstScriptTag = document.getElementsByTagName('script')[0];\n  firstScriptTag.parentNode.insertBefore(tag, firstScriptTag);\n});\n};\n\nif(typeof $3Dmolpromise === 'undefined') {\n$3Dmolpromise = null;\n  $3Dmolpromise = loadScriptAsync('https://3dmol.org/build/3Dmol.js');\n}\n\nvar viewer_163155258576488 = null;\nvar warn = document.getElementById(\"3dmolwarning_163155258576488\");\nif(warn) {\n    warn.parentNode.removeChild(warn);\n}\n$3Dmolpromise.then(function() {\nviewer_163155258576488 = $3Dmol.createViewer($(\"#3dmolviewer_163155258576488\"),{backgroundColor:\"white\"});\nviewer_163155258576488.zoomTo();\n\tviewer_163155258576488.addModel(\"\\n     RDKit          3D\\n\\n 23 25  0  0  0  0  0  0  0  0999 V2000\\n   18.1712  -21.4055   28.6675 C   0  0  0  0  0  0  0  0  0  0  0  0\\n   17.6905  -21.3186   29.8952 F   0  0  0  0  0  0  0  0  0  0  0  0\\n   18.9057  -20.3227   28.4604 F   0  0  0  0  0  0  0  0  0  0  0  0\\n   18.9573  -22.4830   28.6100 F   0  0  0  0  0  0  0  0  0  0  0  0\\n   17.1779  -21.5024   27.7117 O   0  0  0  0  0  2  0  0  0  0  0  0\\n   14.4686  -15.0654   26.7064 N   0  0  0  0  0  0  0  0  0  0  0  0\\n   16.3997  -20.3408   27.1835 C   0  0  0  0  0  0  0  0  0  0  0  0\\n   14.6496  -12.9768   27.8517 N   0  0  0  0  0  0  0  0  0  0  0  0\\n   15.1846  -15.6404   24.6070 O   0  0  0  0  0  0  0  0  0  0  0  0\\n   16.3056  -20.1090   25.7953 C   0  0  0  0  0  0  0  0  0  0  0  0\\n   15.1606  -11.7787   27.5965 N   0  0  0  0  0  0  0  0  0  0  0  0\\n   15.4607  -19.0826   25.3352 C   0  0  0  0  0  0  0  0  0  0  0  0\\n   14.7373  -18.2928   26.2763 C   0  0  0  0  0  0  0  0  0  0  0  0\\n   14.8785  -18.5304   27.6365 C   0  0  0  0  0  0  0  0  0  0  0  0\\n   15.7077  -19.5548   28.1375 C   0  0  0  0  0  0  0  0  0  0  0  0\\n   13.8207  -17.2549   25.7941 C   0  0  0  0  0  0  0  0  0  0  0  0\\n   14.5686  -15.9164   25.6183 C   0  0  0  0  0  0  0  0  0  0  0  0\\n   14.9850  -13.7884   26.7920 C   0  0  0  0  0  0  0  0  0  0  0  0\\n   15.8452  -11.7430   26.3807 C   0  0  0  0  0  0  0  0  0  0  0  0\\n   15.7662  -13.0397   25.8237 C   0  0  0  0  0  0  0  0  0  0  0  0\\n   16.4717  -10.4973   25.9270 C   0  0  0  0  0  0  0  0  0  0  0  0\\n   17.6903  -10.5649   25.0463 C   0  0  0  0  0  0  0  0  0  0  0  0\\n   16.3822  -10.0389   24.4946 C   0  0  0  0  0  0  0  0  0  0  0  0\\n  2  1  1  0\\n  3  1  1  0\\n  4  1  1  0\\n  5  1  1  0\\n  6 17  1  0\\n  6 18  1  0\\n  7 10  2  0\\n  7 15  1  0\\n  8 18  2  0\\n  8 11  1  0\\n  9 17  2  0\\n 10 12  1  0\\n 11 19  2  0\\n 12 13  2  0\\n 13 16  1  0\\n 13 14  1  0\\n 14 15  2  0\\n 16 17  1  0\\n 18 20  1  0\\n 19 21  1  0\\n 19 20  1  0\\n 21 23  1  0\\n 21 22  1  0\\n 22 23  1  0\\n  5  7  1  0\\nM  RAD  1   5   2\\nM  END\\n\",\"sdf\");\n\tviewer_163155258576488.setStyle({\"model\": 0},{\"stick\": {\"colorscheme\": \"lightgreyCarbon\"}});\n\tviewer_163155258576488.zoomTo();\nviewer_163155258576488.render();\n});\n</script>",
      "text/html": [
       "<div id=\"3dmolviewer_163155258576488\"  style=\"position: relative; width: 640px; height: 480px\">\n",
       "        <p id=\"3dmolwarning_163155258576488\" style=\"background-color:#ffcccc;color:black\">You appear to be running in JupyterLab (or JavaScript failed to load for some other reason).  You need to install the 3dmol extension: <br>\n",
       "        <tt>jupyter labextension install jupyterlab_3dmol</tt></p>\n",
       "        </div>\n",
       "<script>\n",
       "\n",
       "var loadScriptAsync = function(uri){\n",
       "  return new Promise((resolve, reject) => {\n",
       "    var tag = document.createElement('script');\n",
       "    tag.src = uri;\n",
       "    tag.async = true;\n",
       "    tag.onload = () => {\n",
       "      resolve();\n",
       "    };\n",
       "  var firstScriptTag = document.getElementsByTagName('script')[0];\n",
       "  firstScriptTag.parentNode.insertBefore(tag, firstScriptTag);\n",
       "});\n",
       "};\n",
       "\n",
       "if(typeof $3Dmolpromise === 'undefined') {\n",
       "$3Dmolpromise = null;\n",
       "  $3Dmolpromise = loadScriptAsync('https://3dmol.org/build/3Dmol.js');\n",
       "}\n",
       "\n",
       "var viewer_163155258576488 = null;\n",
       "var warn = document.getElementById(\"3dmolwarning_163155258576488\");\n",
       "if(warn) {\n",
       "    warn.parentNode.removeChild(warn);\n",
       "}\n",
       "$3Dmolpromise.then(function() {\n",
       "viewer_163155258576488 = $3Dmol.createViewer($(\"#3dmolviewer_163155258576488\"),{backgroundColor:\"white\"});\n",
       "viewer_163155258576488.zoomTo();\n",
       "\tviewer_163155258576488.addModel(\"\\n     RDKit          3D\\n\\n 23 25  0  0  0  0  0  0  0  0999 V2000\\n   18.1712  -21.4055   28.6675 C   0  0  0  0  0  0  0  0  0  0  0  0\\n   17.6905  -21.3186   29.8952 F   0  0  0  0  0  0  0  0  0  0  0  0\\n   18.9057  -20.3227   28.4604 F   0  0  0  0  0  0  0  0  0  0  0  0\\n   18.9573  -22.4830   28.6100 F   0  0  0  0  0  0  0  0  0  0  0  0\\n   17.1779  -21.5024   27.7117 O   0  0  0  0  0  2  0  0  0  0  0  0\\n   14.4686  -15.0654   26.7064 N   0  0  0  0  0  0  0  0  0  0  0  0\\n   16.3997  -20.3408   27.1835 C   0  0  0  0  0  0  0  0  0  0  0  0\\n   14.6496  -12.9768   27.8517 N   0  0  0  0  0  0  0  0  0  0  0  0\\n   15.1846  -15.6404   24.6070 O   0  0  0  0  0  0  0  0  0  0  0  0\\n   16.3056  -20.1090   25.7953 C   0  0  0  0  0  0  0  0  0  0  0  0\\n   15.1606  -11.7787   27.5965 N   0  0  0  0  0  0  0  0  0  0  0  0\\n   15.4607  -19.0826   25.3352 C   0  0  0  0  0  0  0  0  0  0  0  0\\n   14.7373  -18.2928   26.2763 C   0  0  0  0  0  0  0  0  0  0  0  0\\n   14.8785  -18.5304   27.6365 C   0  0  0  0  0  0  0  0  0  0  0  0\\n   15.7077  -19.5548   28.1375 C   0  0  0  0  0  0  0  0  0  0  0  0\\n   13.8207  -17.2549   25.7941 C   0  0  0  0  0  0  0  0  0  0  0  0\\n   14.5686  -15.9164   25.6183 C   0  0  0  0  0  0  0  0  0  0  0  0\\n   14.9850  -13.7884   26.7920 C   0  0  0  0  0  0  0  0  0  0  0  0\\n   15.8452  -11.7430   26.3807 C   0  0  0  0  0  0  0  0  0  0  0  0\\n   15.7662  -13.0397   25.8237 C   0  0  0  0  0  0  0  0  0  0  0  0\\n   16.4717  -10.4973   25.9270 C   0  0  0  0  0  0  0  0  0  0  0  0\\n   17.6903  -10.5649   25.0463 C   0  0  0  0  0  0  0  0  0  0  0  0\\n   16.3822  -10.0389   24.4946 C   0  0  0  0  0  0  0  0  0  0  0  0\\n  2  1  1  0\\n  3  1  1  0\\n  4  1  1  0\\n  5  1  1  0\\n  6 17  1  0\\n  6 18  1  0\\n  7 10  2  0\\n  7 15  1  0\\n  8 18  2  0\\n  8 11  1  0\\n  9 17  2  0\\n 10 12  1  0\\n 11 19  2  0\\n 12 13  2  0\\n 13 16  1  0\\n 13 14  1  0\\n 14 15  2  0\\n 16 17  1  0\\n 18 20  1  0\\n 19 21  1  0\\n 19 20  1  0\\n 21 23  1  0\\n 21 22  1  0\\n 22 23  1  0\\n  5  7  1  0\\nM  RAD  1   5   2\\nM  END\\n\",\"sdf\");\n",
       "\tviewer_163155258576488.setStyle({\"model\": 0},{\"stick\": {\"colorscheme\": \"lightgreyCarbon\"}});\n",
       "\tviewer_163155258576488.zoomTo();\n",
       "viewer_163155258576488.render();\n",
       "});\n",
       "</script>"
      ]
     },
     "metadata": {},
     "output_type": "display_data"
    }
   ],
   "source": [
    "rdmol3 = reconstruction(\"murcko_self_3.sdf\")\n",
    "show_all_conformers(rdmol3)"
   ]
  },
  {
   "cell_type": "code",
   "execution_count": 22,
   "metadata": {},
   "outputs": [
    {
     "name": "stdout",
     "output_type": "stream",
     "text": [
      "Score: 0.9393939393939394\n"
     ]
    },
    {
     "data": {
      "application/3dmoljs_load.v0": "<div id=\"3dmolviewer_16315525860671608\"  style=\"position: relative; width: 640px; height: 480px\">\n        <p id=\"3dmolwarning_16315525860671608\" style=\"background-color:#ffcccc;color:black\">You appear to be running in JupyterLab (or JavaScript failed to load for some other reason).  You need to install the 3dmol extension: <br>\n        <tt>jupyter labextension install jupyterlab_3dmol</tt></p>\n        </div>\n<script>\n\nvar loadScriptAsync = function(uri){\n  return new Promise((resolve, reject) => {\n    var tag = document.createElement('script');\n    tag.src = uri;\n    tag.async = true;\n    tag.onload = () => {\n      resolve();\n    };\n  var firstScriptTag = document.getElementsByTagName('script')[0];\n  firstScriptTag.parentNode.insertBefore(tag, firstScriptTag);\n});\n};\n\nif(typeof $3Dmolpromise === 'undefined') {\n$3Dmolpromise = null;\n  $3Dmolpromise = loadScriptAsync('https://3dmol.org/build/3Dmol.js');\n}\n\nvar viewer_16315525860671608 = null;\nvar warn = document.getElementById(\"3dmolwarning_16315525860671608\");\nif(warn) {\n    warn.parentNode.removeChild(warn);\n}\n$3Dmolpromise.then(function() {\nviewer_16315525860671608 = $3Dmol.createViewer($(\"#3dmolviewer_16315525860671608\"),{backgroundColor:\"white\"});\nviewer_16315525860671608.zoomTo();\n\tviewer_16315525860671608.addModel(\"4fkj_B_11K.pdb\\n     RDKit          3D\\n\\n 26 29  0  0  0  0  0  0  0  0999 V2000\\n   31.3260    0.0714   23.7372 N   0  0  0  0  0  0  0  0  0  0  0  0\\n   32.0436   -0.8745   23.3236 N   0  0  0  0  0  0  0  0  0  0  0  0\\n   33.1730   -1.5309   21.3889 N   0  0  0  0  0  0  0  0  0  0  0  0\\n   42.2449   -1.6718   17.6746 N   0  0  0  0  0  0  0  0  0  0  0  0\\n   33.1486   -0.5448   19.3165 O   0  0  0  0  0  0  0  0  0  0  0  0\\n   36.4997   -2.8928   20.2957 C   0  0  0  0  0  0  0  0  0  0  0  0\\n   36.0621   -1.9799   18.1048 C   0  0  0  0  0  0  0  0  0  0  0  0\\n   37.8680   -2.6977   20.1341 C   0  0  0  0  0  0  0  0  0  0  0  0\\n   37.4345   -1.8012   17.9310 C   0  0  0  0  0  0  0  0  0  0  0  0\\n   31.9552    0.5862   21.6968 C   0  0  0  0  0  0  0  0  0  0  0  0\\n   44.4995   -2.3416   17.4579 C   0  0  0  0  0  0  0  0  0  0  0  0\\n   43.6095   -3.5335   17.0780 C   0  0  0  0  0  0  0  0  0  0  0  0\\n   39.9004   -0.8323   17.8781 C   0  0  0  0  0  0  0  0  0  0  0  0\\n   29.5240    2.8553   21.9381 C   0  0  0  0  0  0  0  0  0  0  0  0\\n   30.7991    3.5930   22.3591 C   0  0  0  0  0  0  0  0  0  0  0  0\\n   43.5752   -1.1266   17.3714 C   0  0  0  0  0  0  0  0  0  0  0  0\\n   42.2033   -2.9402   16.9293 C   0  0  0  0  0  0  0  0  0  0  0  0\\n   41.2270   -0.7699   17.0963 C   0  0  0  0  0  0  0  0  0  0  0  0\\n   34.1050   -2.7282   19.4797 C   0  0  0  0  0  0  0  0  0  0  0  0\\n   39.6801   -1.9862   18.7572 O   0  0  0  0  0  0  0  0  0  0  0  0\\n   33.4386   -1.4785   20.0654 C   0  0  0  0  0  0  0  0  0  0  0  0\\n   35.5981   -2.5127   19.3031 C   0  0  0  0  0  0  0  0  0  0  0  0\\n   38.3372   -2.1605   18.9362 C   0  0  0  0  0  0  0  0  0  0  0  0\\n   32.4961   -0.5922   22.0988 C   0  0  0  0  0  0  0  0  0  0  0  0\\n   31.2682    1.0090   22.7776 C   0  0  0  0  0  0  0  0  0  0  0  0\\n   30.4375    2.2816   23.0468 C   0  0  0  0  0  0  0  0  0  0  0  0\\n  1  2  1  0\\n  1 25  2  0\\n  2 24  2  0\\n  3 24  1  0\\n  3 21  1  0\\n  4 16  1  0\\n  4 17  1  0\\n  4 18  1  0\\n  5 21  2  0\\n  6  8  2  0\\n  6 22  1  0\\n  7  9  1  0\\n  7 22  2  0\\n  8 23  1  0\\n  9 23  2  0\\n 10 24  1  0\\n 10 25  1  0\\n 11 12  1  0\\n 11 16  1  0\\n 12 17  1  0\\n 13 18  1  0\\n 13 20  1  0\\n 14 26  1  0\\n 14 15  1  0\\n 15 26  1  0\\n 19 22  1  0\\n 19 21  1  0\\n 20 23  1  0\\n 25 26  1  0\\nM  END\\n\",\"sdf\");\n\tviewer_16315525860671608.addModel(\"4fkj_B_11K.pdb\\n     RDKit          3D\\n\\n 26 29  0  0  0  0  0  0  0  0999 V2000\\n   34.3007    4.5455   19.3676 N   0  0  0  0  0  0  0  0  0  0  0  0\\n   35.0863    3.7315   18.8191 N   0  0  0  0  0  0  0  0  0  0  0  0\\n   36.0168    3.3014   16.7217 N   0  0  0  0  0  0  0  0  0  0  0  0\\n   44.3909    4.6482   11.8050 N   0  0  0  0  0  0  0  0  0  0  0  0\\n   35.5525    4.3185   14.7173 O   0  0  0  0  0  0  0  0  0  0  0  0\\n   39.3219    2.4951   15.1273 C   0  0  0  0  0  0  0  0  0  0  0  0\\n   38.4475    3.3787   13.0585 C   0  0  0  0  0  0  0  0  0  0  0  0\\n   40.6089    2.9029   14.7897 C   0  0  0  0  0  0  0  0  0  0  0  0\\n   39.7392    3.7712   12.7076 C   0  0  0  0  0  0  0  0  0  0  0  0\\n   34.5512    5.1974   17.2852 C   0  0  0  0  0  0  0  0  0  0  0  0\\n   46.6670    4.3400   11.2543 C   0  0  0  0  0  0  0  0  0  0  0  0\\n   45.9211    3.0338   10.9470 C   0  0  0  0  0  0  0  0  0  0  0  0\\n   41.9996    5.1105   12.3623 C   0  0  0  0  0  0  0  0  0  0  0  0\\n   31.8661    7.0574   17.9545 C   0  0  0  0  0  0  0  0  0  0  0  0\\n   33.0627    7.9736   18.2301 C   0  0  0  0  0  0  0  0  0  0  0  0\\n   45.5682    5.3992   11.3478 C   0  0  0  0  0  0  0  0  0  0  0  0\\n   44.4351    3.4058   11.0173 C   0  0  0  0  0  0  0  0  0  0  0  0\\n   43.1780    5.3948   11.4108 C   0  0  0  0  0  0  0  0  0  0  0  0\\n   36.8387    2.3060   14.6527 C   0  0  0  0  0  0  0  0  0  0  0  0\\n   42.0811    3.9168   13.2116 O   0  0  0  0  0  0  0  0  0  0  0  0\\n   36.0819    3.4241   15.3780 C   0  0  0  0  0  0  0  0  0  0  0  0\\n   38.2425    2.7536   14.2842 C   0  0  0  0  0  0  0  0  0  0  0  0\\n   40.8183    3.5331   13.5639 C   0  0  0  0  0  0  0  0  0  0  0  0\\n   35.3139    4.1079   17.5577 C   0  0  0  0  0  0  0  0  0  0  0  0\\n   33.9682    5.4844   18.4669 C   0  0  0  0  0  0  0  0  0  0  0  0\\n   33.0025    6.6069   18.9023 C   0  0  0  0  0  0  0  0  0  0  0  0\\n  1  2  1  0\\n  1 25  2  0\\n  2 24  2  0\\n  3 24  1  0\\n  3 21  1  0\\n  4 16  1  0\\n  4 17  1  0\\n  4 18  1  0\\n  5 21  2  0\\n  6  8  2  0\\n  6 22  1  0\\n  7  9  1  0\\n  7 22  2  0\\n  8 23  1  0\\n  9 23  2  0\\n 10 24  1  0\\n 10 25  1  0\\n 11 12  1  0\\n 11 16  1  0\\n 12 17  1  0\\n 13 18  1  0\\n 13 20  1  0\\n 14 26  1  0\\n 14 15  1  0\\n 15 26  1  0\\n 19 22  1  0\\n 19 21  1  0\\n 20 23  1  0\\n 25 26  1  0\\nM  END\\n\",\"sdf\");\n\tviewer_16315525860671608.addModel(\"4fkj_B_11K.pdb\\n     RDKit          3D\\n\\n 26 29  0  0  0  0  0  0  0  0999 V2000\\n   34.2614    4.5835   19.3615 N   0  0  0  0  0  0  0  0  0  0  0  0\\n   35.0452    3.7645   18.8179 N   0  0  0  0  0  0  0  0  0  0  0  0\\n   35.9808    3.3244   16.7249 N   0  0  0  0  0  0  0  0  0  0  0  0\\n   44.3775    4.6201   11.8329 N   0  0  0  0  0  0  0  0  0  0  0  0\\n   35.5279    4.3380   14.7161 O   0  0  0  0  0  0  0  0  0  0  0  0\\n   39.2877    2.4989   15.1439 C   0  0  0  0  0  0  0  0  0  0  0  0\\n   38.4243    3.3806   13.0697 C   0  0  0  0  0  0  0  0  0  0  0  0\\n   40.5776    2.9000   14.8096 C   0  0  0  0  0  0  0  0  0  0  0  0\\n   39.7189    3.7664   12.7221 C   0  0  0  0  0  0  0  0  0  0  0  0\\n   34.5219    5.2285   17.2781 C   0  0  0  0  0  0  0  0  0  0  0  0\\n   46.6541    4.3002   11.2908 C   0  0  0  0  0  0  0  0  0  0  0  0\\n   45.9033    2.9964   10.9846 C   0  0  0  0  0  0  0  0  0  0  0  0\\n   41.9864    5.0946   12.3808 C   0  0  0  0  0  0  0  0  0  0  0  0\\n   31.8429    7.1024   17.9332 C   0  0  0  0  0  0  0  0  0  0  0  0\\n   33.0427    8.0140   18.2103 C   0  0  0  0  0  0  0  0  0  0  0  0\\n   45.5597    5.3645   11.3777 C   0  0  0  0  0  0  0  0  0  0  0  0\\n   44.4188    3.3753   11.0488 C   0  0  0  0  0  0  0  0  0  0  0  0\\n   43.1693    5.3710   11.4325 C   0  0  0  0  0  0  0  0  0  0  0  0\\n   36.8052    2.3196   14.6614 C   0  0  0  0  0  0  0  0  0  0  0  0\\n   42.0597    3.9030   13.2337 O   0  0  0  0  0  0  0  0  0  0  0  0\\n   36.0511    3.4431   15.3810 C   0  0  0  0  0  0  0  0  0  0  0  0\\n   38.2124    2.7599   14.2965 C   0  0  0  0  0  0  0  0  0  0  0  0\\n   40.7940    3.5259   13.5827 C   0  0  0  0  0  0  0  0  0  0  0  0\\n   35.2787    4.1364   17.5562 C   0  0  0  0  0  0  0  0  0  0  0  0\\n   33.9361    5.5214   18.4571 C   0  0  0  0  0  0  0  0  0  0  0  0\\n   32.9741    6.6494   18.8861 C   0  0  0  0  0  0  0  0  0  0  0  0\\n  1  2  1  0\\n  1 25  2  0\\n  2 24  2  0\\n  3 24  1  0\\n  3 21  1  0\\n  4 16  1  0\\n  4 17  1  0\\n  4 18  1  0\\n  5 21  2  0\\n  6  8  2  0\\n  6 22  1  0\\n  7  9  1  0\\n  7 22  2  0\\n  8 23  1  0\\n  9 23  2  0\\n 10 24  1  0\\n 10 25  1  0\\n 11 12  1  0\\n 11 16  1  0\\n 12 17  1  0\\n 13 18  1  0\\n 13 20  1  0\\n 14 26  1  0\\n 14 15  1  0\\n 15 26  1  0\\n 19 22  1  0\\n 19 21  1  0\\n 20 23  1  0\\n 25 26  1  0\\nM  END\\n\",\"sdf\");\n\tviewer_16315525860671608.setStyle({\"model\": 0},{\"stick\": {\"colorscheme\": \"lightgreyCarbon\"}});\n\tviewer_16315525860671608.setStyle({\"model\": 1},{\"stick\": {\"colorscheme\": \"redCarbon\"}});\n\tviewer_16315525860671608.setStyle({\"model\": 2},{\"stick\": {\"colorscheme\": \"greyCarbon\"}});\n\tviewer_16315525860671608.zoomTo();\nviewer_16315525860671608.render();\n});\n</script>",
      "text/html": [
       "<div id=\"3dmolviewer_16315525860671608\"  style=\"position: relative; width: 640px; height: 480px\">\n",
       "        <p id=\"3dmolwarning_16315525860671608\" style=\"background-color:#ffcccc;color:black\">You appear to be running in JupyterLab (or JavaScript failed to load for some other reason).  You need to install the 3dmol extension: <br>\n",
       "        <tt>jupyter labextension install jupyterlab_3dmol</tt></p>\n",
       "        </div>\n",
       "<script>\n",
       "\n",
       "var loadScriptAsync = function(uri){\n",
       "  return new Promise((resolve, reject) => {\n",
       "    var tag = document.createElement('script');\n",
       "    tag.src = uri;\n",
       "    tag.async = true;\n",
       "    tag.onload = () => {\n",
       "      resolve();\n",
       "    };\n",
       "  var firstScriptTag = document.getElementsByTagName('script')[0];\n",
       "  firstScriptTag.parentNode.insertBefore(tag, firstScriptTag);\n",
       "});\n",
       "};\n",
       "\n",
       "if(typeof $3Dmolpromise === 'undefined') {\n",
       "$3Dmolpromise = null;\n",
       "  $3Dmolpromise = loadScriptAsync('https://3dmol.org/build/3Dmol.js');\n",
       "}\n",
       "\n",
       "var viewer_16315525860671608 = null;\n",
       "var warn = document.getElementById(\"3dmolwarning_16315525860671608\");\n",
       "if(warn) {\n",
       "    warn.parentNode.removeChild(warn);\n",
       "}\n",
       "$3Dmolpromise.then(function() {\n",
       "viewer_16315525860671608 = $3Dmol.createViewer($(\"#3dmolviewer_16315525860671608\"),{backgroundColor:\"white\"});\n",
       "viewer_16315525860671608.zoomTo();\n",
       "\tviewer_16315525860671608.addModel(\"4fkj_B_11K.pdb\\n     RDKit          3D\\n\\n 26 29  0  0  0  0  0  0  0  0999 V2000\\n   31.3260    0.0714   23.7372 N   0  0  0  0  0  0  0  0  0  0  0  0\\n   32.0436   -0.8745   23.3236 N   0  0  0  0  0  0  0  0  0  0  0  0\\n   33.1730   -1.5309   21.3889 N   0  0  0  0  0  0  0  0  0  0  0  0\\n   42.2449   -1.6718   17.6746 N   0  0  0  0  0  0  0  0  0  0  0  0\\n   33.1486   -0.5448   19.3165 O   0  0  0  0  0  0  0  0  0  0  0  0\\n   36.4997   -2.8928   20.2957 C   0  0  0  0  0  0  0  0  0  0  0  0\\n   36.0621   -1.9799   18.1048 C   0  0  0  0  0  0  0  0  0  0  0  0\\n   37.8680   -2.6977   20.1341 C   0  0  0  0  0  0  0  0  0  0  0  0\\n   37.4345   -1.8012   17.9310 C   0  0  0  0  0  0  0  0  0  0  0  0\\n   31.9552    0.5862   21.6968 C   0  0  0  0  0  0  0  0  0  0  0  0\\n   44.4995   -2.3416   17.4579 C   0  0  0  0  0  0  0  0  0  0  0  0\\n   43.6095   -3.5335   17.0780 C   0  0  0  0  0  0  0  0  0  0  0  0\\n   39.9004   -0.8323   17.8781 C   0  0  0  0  0  0  0  0  0  0  0  0\\n   29.5240    2.8553   21.9381 C   0  0  0  0  0  0  0  0  0  0  0  0\\n   30.7991    3.5930   22.3591 C   0  0  0  0  0  0  0  0  0  0  0  0\\n   43.5752   -1.1266   17.3714 C   0  0  0  0  0  0  0  0  0  0  0  0\\n   42.2033   -2.9402   16.9293 C   0  0  0  0  0  0  0  0  0  0  0  0\\n   41.2270   -0.7699   17.0963 C   0  0  0  0  0  0  0  0  0  0  0  0\\n   34.1050   -2.7282   19.4797 C   0  0  0  0  0  0  0  0  0  0  0  0\\n   39.6801   -1.9862   18.7572 O   0  0  0  0  0  0  0  0  0  0  0  0\\n   33.4386   -1.4785   20.0654 C   0  0  0  0  0  0  0  0  0  0  0  0\\n   35.5981   -2.5127   19.3031 C   0  0  0  0  0  0  0  0  0  0  0  0\\n   38.3372   -2.1605   18.9362 C   0  0  0  0  0  0  0  0  0  0  0  0\\n   32.4961   -0.5922   22.0988 C   0  0  0  0  0  0  0  0  0  0  0  0\\n   31.2682    1.0090   22.7776 C   0  0  0  0  0  0  0  0  0  0  0  0\\n   30.4375    2.2816   23.0468 C   0  0  0  0  0  0  0  0  0  0  0  0\\n  1  2  1  0\\n  1 25  2  0\\n  2 24  2  0\\n  3 24  1  0\\n  3 21  1  0\\n  4 16  1  0\\n  4 17  1  0\\n  4 18  1  0\\n  5 21  2  0\\n  6  8  2  0\\n  6 22  1  0\\n  7  9  1  0\\n  7 22  2  0\\n  8 23  1  0\\n  9 23  2  0\\n 10 24  1  0\\n 10 25  1  0\\n 11 12  1  0\\n 11 16  1  0\\n 12 17  1  0\\n 13 18  1  0\\n 13 20  1  0\\n 14 26  1  0\\n 14 15  1  0\\n 15 26  1  0\\n 19 22  1  0\\n 19 21  1  0\\n 20 23  1  0\\n 25 26  1  0\\nM  END\\n\",\"sdf\");\n",
       "\tviewer_16315525860671608.addModel(\"4fkj_B_11K.pdb\\n     RDKit          3D\\n\\n 26 29  0  0  0  0  0  0  0  0999 V2000\\n   34.3007    4.5455   19.3676 N   0  0  0  0  0  0  0  0  0  0  0  0\\n   35.0863    3.7315   18.8191 N   0  0  0  0  0  0  0  0  0  0  0  0\\n   36.0168    3.3014   16.7217 N   0  0  0  0  0  0  0  0  0  0  0  0\\n   44.3909    4.6482   11.8050 N   0  0  0  0  0  0  0  0  0  0  0  0\\n   35.5525    4.3185   14.7173 O   0  0  0  0  0  0  0  0  0  0  0  0\\n   39.3219    2.4951   15.1273 C   0  0  0  0  0  0  0  0  0  0  0  0\\n   38.4475    3.3787   13.0585 C   0  0  0  0  0  0  0  0  0  0  0  0\\n   40.6089    2.9029   14.7897 C   0  0  0  0  0  0  0  0  0  0  0  0\\n   39.7392    3.7712   12.7076 C   0  0  0  0  0  0  0  0  0  0  0  0\\n   34.5512    5.1974   17.2852 C   0  0  0  0  0  0  0  0  0  0  0  0\\n   46.6670    4.3400   11.2543 C   0  0  0  0  0  0  0  0  0  0  0  0\\n   45.9211    3.0338   10.9470 C   0  0  0  0  0  0  0  0  0  0  0  0\\n   41.9996    5.1105   12.3623 C   0  0  0  0  0  0  0  0  0  0  0  0\\n   31.8661    7.0574   17.9545 C   0  0  0  0  0  0  0  0  0  0  0  0\\n   33.0627    7.9736   18.2301 C   0  0  0  0  0  0  0  0  0  0  0  0\\n   45.5682    5.3992   11.3478 C   0  0  0  0  0  0  0  0  0  0  0  0\\n   44.4351    3.4058   11.0173 C   0  0  0  0  0  0  0  0  0  0  0  0\\n   43.1780    5.3948   11.4108 C   0  0  0  0  0  0  0  0  0  0  0  0\\n   36.8387    2.3060   14.6527 C   0  0  0  0  0  0  0  0  0  0  0  0\\n   42.0811    3.9168   13.2116 O   0  0  0  0  0  0  0  0  0  0  0  0\\n   36.0819    3.4241   15.3780 C   0  0  0  0  0  0  0  0  0  0  0  0\\n   38.2425    2.7536   14.2842 C   0  0  0  0  0  0  0  0  0  0  0  0\\n   40.8183    3.5331   13.5639 C   0  0  0  0  0  0  0  0  0  0  0  0\\n   35.3139    4.1079   17.5577 C   0  0  0  0  0  0  0  0  0  0  0  0\\n   33.9682    5.4844   18.4669 C   0  0  0  0  0  0  0  0  0  0  0  0\\n   33.0025    6.6069   18.9023 C   0  0  0  0  0  0  0  0  0  0  0  0\\n  1  2  1  0\\n  1 25  2  0\\n  2 24  2  0\\n  3 24  1  0\\n  3 21  1  0\\n  4 16  1  0\\n  4 17  1  0\\n  4 18  1  0\\n  5 21  2  0\\n  6  8  2  0\\n  6 22  1  0\\n  7  9  1  0\\n  7 22  2  0\\n  8 23  1  0\\n  9 23  2  0\\n 10 24  1  0\\n 10 25  1  0\\n 11 12  1  0\\n 11 16  1  0\\n 12 17  1  0\\n 13 18  1  0\\n 13 20  1  0\\n 14 26  1  0\\n 14 15  1  0\\n 15 26  1  0\\n 19 22  1  0\\n 19 21  1  0\\n 20 23  1  0\\n 25 26  1  0\\nM  END\\n\",\"sdf\");\n",
       "\tviewer_16315525860671608.addModel(\"4fkj_B_11K.pdb\\n     RDKit          3D\\n\\n 26 29  0  0  0  0  0  0  0  0999 V2000\\n   34.2614    4.5835   19.3615 N   0  0  0  0  0  0  0  0  0  0  0  0\\n   35.0452    3.7645   18.8179 N   0  0  0  0  0  0  0  0  0  0  0  0\\n   35.9808    3.3244   16.7249 N   0  0  0  0  0  0  0  0  0  0  0  0\\n   44.3775    4.6201   11.8329 N   0  0  0  0  0  0  0  0  0  0  0  0\\n   35.5279    4.3380   14.7161 O   0  0  0  0  0  0  0  0  0  0  0  0\\n   39.2877    2.4989   15.1439 C   0  0  0  0  0  0  0  0  0  0  0  0\\n   38.4243    3.3806   13.0697 C   0  0  0  0  0  0  0  0  0  0  0  0\\n   40.5776    2.9000   14.8096 C   0  0  0  0  0  0  0  0  0  0  0  0\\n   39.7189    3.7664   12.7221 C   0  0  0  0  0  0  0  0  0  0  0  0\\n   34.5219    5.2285   17.2781 C   0  0  0  0  0  0  0  0  0  0  0  0\\n   46.6541    4.3002   11.2908 C   0  0  0  0  0  0  0  0  0  0  0  0\\n   45.9033    2.9964   10.9846 C   0  0  0  0  0  0  0  0  0  0  0  0\\n   41.9864    5.0946   12.3808 C   0  0  0  0  0  0  0  0  0  0  0  0\\n   31.8429    7.1024   17.9332 C   0  0  0  0  0  0  0  0  0  0  0  0\\n   33.0427    8.0140   18.2103 C   0  0  0  0  0  0  0  0  0  0  0  0\\n   45.5597    5.3645   11.3777 C   0  0  0  0  0  0  0  0  0  0  0  0\\n   44.4188    3.3753   11.0488 C   0  0  0  0  0  0  0  0  0  0  0  0\\n   43.1693    5.3710   11.4325 C   0  0  0  0  0  0  0  0  0  0  0  0\\n   36.8052    2.3196   14.6614 C   0  0  0  0  0  0  0  0  0  0  0  0\\n   42.0597    3.9030   13.2337 O   0  0  0  0  0  0  0  0  0  0  0  0\\n   36.0511    3.4431   15.3810 C   0  0  0  0  0  0  0  0  0  0  0  0\\n   38.2124    2.7599   14.2965 C   0  0  0  0  0  0  0  0  0  0  0  0\\n   40.7940    3.5259   13.5827 C   0  0  0  0  0  0  0  0  0  0  0  0\\n   35.2787    4.1364   17.5562 C   0  0  0  0  0  0  0  0  0  0  0  0\\n   33.9361    5.5214   18.4571 C   0  0  0  0  0  0  0  0  0  0  0  0\\n   32.9741    6.6494   18.8861 C   0  0  0  0  0  0  0  0  0  0  0  0\\n  1  2  1  0\\n  1 25  2  0\\n  2 24  2  0\\n  3 24  1  0\\n  3 21  1  0\\n  4 16  1  0\\n  4 17  1  0\\n  4 18  1  0\\n  5 21  2  0\\n  6  8  2  0\\n  6 22  1  0\\n  7  9  1  0\\n  7 22  2  0\\n  8 23  1  0\\n  9 23  2  0\\n 10 24  1  0\\n 10 25  1  0\\n 11 12  1  0\\n 11 16  1  0\\n 12 17  1  0\\n 13 18  1  0\\n 13 20  1  0\\n 14 26  1  0\\n 14 15  1  0\\n 15 26  1  0\\n 19 22  1  0\\n 19 21  1  0\\n 20 23  1  0\\n 25 26  1  0\\nM  END\\n\",\"sdf\");\n",
       "\tviewer_16315525860671608.setStyle({\"model\": 0},{\"stick\": {\"colorscheme\": \"lightgreyCarbon\"}});\n",
       "\tviewer_16315525860671608.setStyle({\"model\": 1},{\"stick\": {\"colorscheme\": \"redCarbon\"}});\n",
       "\tviewer_16315525860671608.setStyle({\"model\": 2},{\"stick\": {\"colorscheme\": \"greyCarbon\"}});\n",
       "\tviewer_16315525860671608.zoomTo();\n",
       "viewer_16315525860671608.render();\n",
       "});\n",
       "</script>"
      ]
     },
     "metadata": {},
     "output_type": "display_data"
    },
    {
     "data": {
      "text/plain": [
       "<py3Dmol.view at 0x7f8c64cb6080>"
      ]
     },
     "execution_count": 22,
     "metadata": {},
     "output_type": "execute_result"
    }
   ],
   "source": [
    "molid = 4\n",
    "als = AlignShow([mols[molid], mkmols[molid]], [pcds[molid], mkpcds[molid]])\n",
    "s = als.align(1, 0)\n",
    "print(\"Score:\", s)\n",
    "als.save(1, 0, f\"murcko_self_{molid}.sdf\")\n",
    "als.show(1, 0)"
   ]
  },
  {
   "cell_type": "code",
   "execution_count": 23,
   "metadata": {},
   "outputs": [],
   "source": [
    "# For molecule 4 the molecule itself is already a Murcko scaffold\n",
    "# rdmol4 = reconstruction(\"murcko_self_4.sdf\")\n",
    "# show_all_conformers(rdmol4)"
   ]
  },
  {
   "cell_type": "code",
   "execution_count": 24,
   "metadata": {},
   "outputs": [
    {
     "name": "stdout",
     "output_type": "stream",
     "text": [
      "Score: 0.9518272425249169\n"
     ]
    },
    {
     "data": {
      "application/3dmoljs_load.v0": "<div id=\"3dmolviewer_16315525864379146\"  style=\"position: relative; width: 640px; height: 480px\">\n        <p id=\"3dmolwarning_16315525864379146\" style=\"background-color:#ffcccc;color:black\">You appear to be running in JupyterLab (or JavaScript failed to load for some other reason).  You need to install the 3dmol extension: <br>\n        <tt>jupyter labextension install jupyterlab_3dmol</tt></p>\n        </div>\n<script>\n\nvar loadScriptAsync = function(uri){\n  return new Promise((resolve, reject) => {\n    var tag = document.createElement('script');\n    tag.src = uri;\n    tag.async = true;\n    tag.onload = () => {\n      resolve();\n    };\n  var firstScriptTag = document.getElementsByTagName('script')[0];\n  firstScriptTag.parentNode.insertBefore(tag, firstScriptTag);\n});\n};\n\nif(typeof $3Dmolpromise === 'undefined') {\n$3Dmolpromise = null;\n  $3Dmolpromise = loadScriptAsync('https://3dmol.org/build/3Dmol.js');\n}\n\nvar viewer_16315525864379146 = null;\nvar warn = document.getElementById(\"3dmolwarning_16315525864379146\");\nif(warn) {\n    warn.parentNode.removeChild(warn);\n}\n$3Dmolpromise.then(function() {\nviewer_16315525864379146 = $3Dmol.createViewer($(\"#3dmolviewer_16315525864379146\"),{backgroundColor:\"white\"});\nviewer_16315525864379146.zoomTo();\n\tviewer_16315525864379146.addModel(\"3sw4_B_18K.pdb\\n     RDKit          3D\\n\\n 18 20  0  0  0  0  0  0  0  0999 V2000\\n  -17.7914   24.8406   11.8964 S   0  0  0  0  0  0  0  0  0  0  0  0\\n  -18.3197   22.3224   12.1784 N   0  0  0  0  0  0  0  0  0  0  0  0\\n  -18.2576   22.8284   13.4634 C   0  0  0  0  0  0  0  0  0  0  0  0\\n  -18.1143   23.2478   11.2696 C   0  0  0  0  0  0  0  0  0  0  0  0\\n  -17.5083   27.1629   16.4662 N   0  0  0  0  0  0  0  0  0  0  0  0\\n  -17.9834   24.2050   13.5189 C   0  0  0  0  0  0  0  0  0  0  0  0\\n  -17.3505   28.6785   14.7699 N   0  0  0  0  0  0  0  0  0  0  0  0\\n  -17.8238   25.1695   14.6207 C   0  0  0  0  0  0  0  0  0  0  0  0\\n  -17.8379   24.8232   15.9659 C   0  0  0  0  0  0  0  0  0  0  0  0\\n  -17.6755   26.4346   14.2000 N   0  0  0  0  0  0  0  0  0  0  0  0\\n  -17.6766   25.8835   16.8428 C   0  0  0  0  0  0  0  0  0  0  0  0\\n  -17.5108   27.3845   15.1459 C   0  0  0  0  0  0  0  0  0  0  0  0\\n  -17.2351   29.3450   13.5338 C   0  0  0  0  0  0  0  0  0  0  0  0\\n  -17.3668   30.7317   13.5001 C   0  0  0  0  0  0  0  0  0  0  0  0\\n  -17.2996   31.4133   12.2961 C   0  0  0  0  0  0  0  0  0  0  0  0\\n  -17.0786   30.7038   11.1192 C   0  0  0  0  0  0  0  0  0  0  0  0\\n  -16.9585   29.3116   11.1407 C   0  0  0  0  0  0  0  0  0  0  0  0\\n  -17.0376   28.6426   12.3498 C   0  0  0  0  0  0  0  0  0  0  0  0\\n  1  6  1  0\\n  1  4  1  0\\n  2  3  1  0\\n  2  4  2  0\\n  3  6  2  0\\n  5 11  2  0\\n  5 12  1  0\\n  6  8  1  0\\n  7 12  1  0\\n  7 13  1  0\\n  8  9  2  0\\n  8 10  1  0\\n  9 11  1  0\\n 10 12  2  0\\n 13 14  2  0\\n 13 18  1  0\\n 14 15  1  0\\n 15 16  2  0\\n 16 17  1  0\\n 17 18  2  0\\nM  END\\n\",\"sdf\");\n\tviewer_16315525864379146.addModel(\"3sw4_B_18K.pdb\\n     RDKit          3D\\n\\n 18 20  0  0  0  0  0  0  0  0999 V2000\\n   19.9276   25.8234   -4.1377 S   0  0  0  0  0  0  0  0  0  0  0  0\\n   17.3608   25.8854   -3.8096 N   0  0  0  0  0  0  0  0  0  0  0  0\\n   17.8797   26.6364   -2.7714 C   0  0  0  0  0  0  0  0  0  0  0  0\\n   18.2984   25.4168   -4.6008 C   0  0  0  0  0  0  0  0  0  0  0  0\\n   22.2944   28.5514   -0.4891 N   0  0  0  0  0  0  0  0  0  0  0  0\\n   19.2814   26.7280   -2.7822 C   0  0  0  0  0  0  0  0  0  0  0  0\\n   23.7826   27.8167   -2.0528 N   0  0  0  0  0  0  0  0  0  0  0  0\\n   20.2666   27.3951   -1.9138 C   0  0  0  0  0  0  0  0  0  0  0  0\\n   19.9423   28.0644   -0.7405 C   0  0  0  0  0  0  0  0  0  0  0  0\\n   21.5235   27.3080   -2.3742 N   0  0  0  0  0  0  0  0  0  0  0  0\\n   21.0182   28.6280   -0.0741 C   0  0  0  0  0  0  0  0  0  0  0  0\\n   22.4942   27.8834   -1.6320 C   0  0  0  0  0  0  0  0  0  0  0  0\\n   24.4434   27.1904   -3.1282 C   0  0  0  0  0  0  0  0  0  0  0  0\\n   25.7513   27.5663   -3.4275 C   0  0  0  0  0  0  0  0  0  0  0  0\\n   26.4149   26.9997   -4.5033 C   0  0  0  0  0  0  0  0  0  0  0  0\\n   25.7719   26.0347   -5.2731 C   0  0  0  0  0  0  0  0  0  0  0  0\\n   24.4556   25.6605   -4.9894 C   0  0  0  0  0  0  0  0  0  0  0  0\\n   23.8012   26.2421   -3.9173 C   0  0  0  0  0  0  0  0  0  0  0  0\\n  1  6  1  0\\n  1  4  1  0\\n  2  3  1  0\\n  2  4  2  0\\n  3  6  2  0\\n  5 11  2  0\\n  5 12  1  0\\n  6  8  1  0\\n  7 12  1  0\\n  7 13  1  0\\n  8  9  2  0\\n  8 10  1  0\\n  9 11  1  0\\n 10 12  2  0\\n 13 14  2  0\\n 13 18  1  0\\n 14 15  1  0\\n 15 16  2  0\\n 16 17  1  0\\n 17 18  2  0\\nM  END\\n\",\"sdf\");\n\tviewer_16315525864379146.addModel(\"3sw4_B_18K.pdb\\n     RDKit          3D\\n\\n 23 25  0  0  0  0  0  0  0  0999 V2000\\n   19.8828   25.8019   -4.1379 S   0  0  0  0  0  0  0  0  0  0  0  0\\n   16.9572   27.2699   -1.7377 C   0  0  0  0  0  0  0  0  0  0  0  0\\n   17.3238   25.8919   -3.7595 N   0  0  0  0  0  0  0  0  0  0  0  0\\n   17.8710   26.6400   -2.7338 C   0  0  0  0  0  0  0  0  0  0  0  0\\n   17.9679   24.7231   -5.6850 N   0  0  0  0  0  0  0  0  0  0  0  0\\n   18.2406   25.4113   -4.5676 C   0  0  0  0  0  0  0  0  0  0  0  0\\n   22.3498   28.5144   -0.5445 N   0  0  0  0  0  0  0  0  0  0  0  0\\n   19.2731   26.7169   -2.7725 C   0  0  0  0  0  0  0  0  0  0  0  0\\n   23.7990   27.7599   -2.1352 N   0  0  0  0  0  0  0  0  0  0  0  0\\n   20.2822   27.3758   -1.9256 C   0  0  0  0  0  0  0  0  0  0  0  0\\n   26.4305   25.2509   -6.4783 N   0  0  0  0  0  0  0  0  0  0  0  0\\n   19.9882   28.0515   -0.7481 C   0  0  0  0  0  0  0  0  0  0  0  0\\n   21.5288   27.2742   -2.4105 N   0  0  0  0  0  0  0  0  0  0  0  0\\n   21.0829   28.6055   -0.1047 C   0  0  0  0  0  0  0  0  0  0  0  0\\n   22.5199   27.8412   -1.6892 C   0  0  0  0  0  0  0  0  0  0  0  0\\n   24.4318   27.1237   -3.2216 C   0  0  0  0  0  0  0  0  0  0  0  0\\n   25.7374   27.4850   -3.5477 C   0  0  0  0  0  0  0  0  0  0  0  0\\n   26.3736   26.9087   -4.6348 C   0  0  0  0  0  0  0  0  0  0  0  0\\n   25.7054   25.9485   -5.3891 C   0  0  0  0  0  0  0  0  0  0  0  0\\n   27.4059   24.2446   -5.9593 C   0  0  0  0  0  0  0  0  0  0  0  0\\n   25.5345   24.6553   -7.5125 C   0  0  0  0  0  0  0  0  0  0  0  0\\n   24.3912   25.5890   -5.0783 C   0  0  0  0  0  0  0  0  0  0  0  0\\n   23.7643   26.1803   -3.9952 C   0  0  0  0  0  0  0  0  0  0  0  0\\n  1  8  1  0\\n  1  6  1  0\\n  2  4  1  0\\n  3  4  1  0\\n  3  6  2  0\\n  4  8  2  0\\n  5  6  1  0\\n  7 14  2  0\\n  7 15  1  0\\n  8 10  1  0\\n  9 15  1  0\\n  9 16  1  0\\n 10 12  2  0\\n 10 13  1  0\\n 11 19  1  0\\n 11 20  1  0\\n 11 21  1  0\\n 12 14  1  0\\n 13 15  2  0\\n 16 17  2  0\\n 16 23  1  0\\n 17 18  1  0\\n 18 19  2  0\\n 19 22  1  0\\n 22 23  2  0\\nM  END\\n\",\"sdf\");\n\tviewer_16315525864379146.setStyle({\"model\": 0},{\"stick\": {\"colorscheme\": \"lightgreyCarbon\"}});\n\tviewer_16315525864379146.setStyle({\"model\": 1},{\"stick\": {\"colorscheme\": \"redCarbon\"}});\n\tviewer_16315525864379146.setStyle({\"model\": 2},{\"stick\": {\"colorscheme\": \"greyCarbon\"}});\n\tviewer_16315525864379146.zoomTo();\nviewer_16315525864379146.render();\n});\n</script>",
      "text/html": [
       "<div id=\"3dmolviewer_16315525864379146\"  style=\"position: relative; width: 640px; height: 480px\">\n",
       "        <p id=\"3dmolwarning_16315525864379146\" style=\"background-color:#ffcccc;color:black\">You appear to be running in JupyterLab (or JavaScript failed to load for some other reason).  You need to install the 3dmol extension: <br>\n",
       "        <tt>jupyter labextension install jupyterlab_3dmol</tt></p>\n",
       "        </div>\n",
       "<script>\n",
       "\n",
       "var loadScriptAsync = function(uri){\n",
       "  return new Promise((resolve, reject) => {\n",
       "    var tag = document.createElement('script');\n",
       "    tag.src = uri;\n",
       "    tag.async = true;\n",
       "    tag.onload = () => {\n",
       "      resolve();\n",
       "    };\n",
       "  var firstScriptTag = document.getElementsByTagName('script')[0];\n",
       "  firstScriptTag.parentNode.insertBefore(tag, firstScriptTag);\n",
       "});\n",
       "};\n",
       "\n",
       "if(typeof $3Dmolpromise === 'undefined') {\n",
       "$3Dmolpromise = null;\n",
       "  $3Dmolpromise = loadScriptAsync('https://3dmol.org/build/3Dmol.js');\n",
       "}\n",
       "\n",
       "var viewer_16315525864379146 = null;\n",
       "var warn = document.getElementById(\"3dmolwarning_16315525864379146\");\n",
       "if(warn) {\n",
       "    warn.parentNode.removeChild(warn);\n",
       "}\n",
       "$3Dmolpromise.then(function() {\n",
       "viewer_16315525864379146 = $3Dmol.createViewer($(\"#3dmolviewer_16315525864379146\"),{backgroundColor:\"white\"});\n",
       "viewer_16315525864379146.zoomTo();\n",
       "\tviewer_16315525864379146.addModel(\"3sw4_B_18K.pdb\\n     RDKit          3D\\n\\n 18 20  0  0  0  0  0  0  0  0999 V2000\\n  -17.7914   24.8406   11.8964 S   0  0  0  0  0  0  0  0  0  0  0  0\\n  -18.3197   22.3224   12.1784 N   0  0  0  0  0  0  0  0  0  0  0  0\\n  -18.2576   22.8284   13.4634 C   0  0  0  0  0  0  0  0  0  0  0  0\\n  -18.1143   23.2478   11.2696 C   0  0  0  0  0  0  0  0  0  0  0  0\\n  -17.5083   27.1629   16.4662 N   0  0  0  0  0  0  0  0  0  0  0  0\\n  -17.9834   24.2050   13.5189 C   0  0  0  0  0  0  0  0  0  0  0  0\\n  -17.3505   28.6785   14.7699 N   0  0  0  0  0  0  0  0  0  0  0  0\\n  -17.8238   25.1695   14.6207 C   0  0  0  0  0  0  0  0  0  0  0  0\\n  -17.8379   24.8232   15.9659 C   0  0  0  0  0  0  0  0  0  0  0  0\\n  -17.6755   26.4346   14.2000 N   0  0  0  0  0  0  0  0  0  0  0  0\\n  -17.6766   25.8835   16.8428 C   0  0  0  0  0  0  0  0  0  0  0  0\\n  -17.5108   27.3845   15.1459 C   0  0  0  0  0  0  0  0  0  0  0  0\\n  -17.2351   29.3450   13.5338 C   0  0  0  0  0  0  0  0  0  0  0  0\\n  -17.3668   30.7317   13.5001 C   0  0  0  0  0  0  0  0  0  0  0  0\\n  -17.2996   31.4133   12.2961 C   0  0  0  0  0  0  0  0  0  0  0  0\\n  -17.0786   30.7038   11.1192 C   0  0  0  0  0  0  0  0  0  0  0  0\\n  -16.9585   29.3116   11.1407 C   0  0  0  0  0  0  0  0  0  0  0  0\\n  -17.0376   28.6426   12.3498 C   0  0  0  0  0  0  0  0  0  0  0  0\\n  1  6  1  0\\n  1  4  1  0\\n  2  3  1  0\\n  2  4  2  0\\n  3  6  2  0\\n  5 11  2  0\\n  5 12  1  0\\n  6  8  1  0\\n  7 12  1  0\\n  7 13  1  0\\n  8  9  2  0\\n  8 10  1  0\\n  9 11  1  0\\n 10 12  2  0\\n 13 14  2  0\\n 13 18  1  0\\n 14 15  1  0\\n 15 16  2  0\\n 16 17  1  0\\n 17 18  2  0\\nM  END\\n\",\"sdf\");\n",
       "\tviewer_16315525864379146.addModel(\"3sw4_B_18K.pdb\\n     RDKit          3D\\n\\n 18 20  0  0  0  0  0  0  0  0999 V2000\\n   19.9276   25.8234   -4.1377 S   0  0  0  0  0  0  0  0  0  0  0  0\\n   17.3608   25.8854   -3.8096 N   0  0  0  0  0  0  0  0  0  0  0  0\\n   17.8797   26.6364   -2.7714 C   0  0  0  0  0  0  0  0  0  0  0  0\\n   18.2984   25.4168   -4.6008 C   0  0  0  0  0  0  0  0  0  0  0  0\\n   22.2944   28.5514   -0.4891 N   0  0  0  0  0  0  0  0  0  0  0  0\\n   19.2814   26.7280   -2.7822 C   0  0  0  0  0  0  0  0  0  0  0  0\\n   23.7826   27.8167   -2.0528 N   0  0  0  0  0  0  0  0  0  0  0  0\\n   20.2666   27.3951   -1.9138 C   0  0  0  0  0  0  0  0  0  0  0  0\\n   19.9423   28.0644   -0.7405 C   0  0  0  0  0  0  0  0  0  0  0  0\\n   21.5235   27.3080   -2.3742 N   0  0  0  0  0  0  0  0  0  0  0  0\\n   21.0182   28.6280   -0.0741 C   0  0  0  0  0  0  0  0  0  0  0  0\\n   22.4942   27.8834   -1.6320 C   0  0  0  0  0  0  0  0  0  0  0  0\\n   24.4434   27.1904   -3.1282 C   0  0  0  0  0  0  0  0  0  0  0  0\\n   25.7513   27.5663   -3.4275 C   0  0  0  0  0  0  0  0  0  0  0  0\\n   26.4149   26.9997   -4.5033 C   0  0  0  0  0  0  0  0  0  0  0  0\\n   25.7719   26.0347   -5.2731 C   0  0  0  0  0  0  0  0  0  0  0  0\\n   24.4556   25.6605   -4.9894 C   0  0  0  0  0  0  0  0  0  0  0  0\\n   23.8012   26.2421   -3.9173 C   0  0  0  0  0  0  0  0  0  0  0  0\\n  1  6  1  0\\n  1  4  1  0\\n  2  3  1  0\\n  2  4  2  0\\n  3  6  2  0\\n  5 11  2  0\\n  5 12  1  0\\n  6  8  1  0\\n  7 12  1  0\\n  7 13  1  0\\n  8  9  2  0\\n  8 10  1  0\\n  9 11  1  0\\n 10 12  2  0\\n 13 14  2  0\\n 13 18  1  0\\n 14 15  1  0\\n 15 16  2  0\\n 16 17  1  0\\n 17 18  2  0\\nM  END\\n\",\"sdf\");\n",
       "\tviewer_16315525864379146.addModel(\"3sw4_B_18K.pdb\\n     RDKit          3D\\n\\n 23 25  0  0  0  0  0  0  0  0999 V2000\\n   19.8828   25.8019   -4.1379 S   0  0  0  0  0  0  0  0  0  0  0  0\\n   16.9572   27.2699   -1.7377 C   0  0  0  0  0  0  0  0  0  0  0  0\\n   17.3238   25.8919   -3.7595 N   0  0  0  0  0  0  0  0  0  0  0  0\\n   17.8710   26.6400   -2.7338 C   0  0  0  0  0  0  0  0  0  0  0  0\\n   17.9679   24.7231   -5.6850 N   0  0  0  0  0  0  0  0  0  0  0  0\\n   18.2406   25.4113   -4.5676 C   0  0  0  0  0  0  0  0  0  0  0  0\\n   22.3498   28.5144   -0.5445 N   0  0  0  0  0  0  0  0  0  0  0  0\\n   19.2731   26.7169   -2.7725 C   0  0  0  0  0  0  0  0  0  0  0  0\\n   23.7990   27.7599   -2.1352 N   0  0  0  0  0  0  0  0  0  0  0  0\\n   20.2822   27.3758   -1.9256 C   0  0  0  0  0  0  0  0  0  0  0  0\\n   26.4305   25.2509   -6.4783 N   0  0  0  0  0  0  0  0  0  0  0  0\\n   19.9882   28.0515   -0.7481 C   0  0  0  0  0  0  0  0  0  0  0  0\\n   21.5288   27.2742   -2.4105 N   0  0  0  0  0  0  0  0  0  0  0  0\\n   21.0829   28.6055   -0.1047 C   0  0  0  0  0  0  0  0  0  0  0  0\\n   22.5199   27.8412   -1.6892 C   0  0  0  0  0  0  0  0  0  0  0  0\\n   24.4318   27.1237   -3.2216 C   0  0  0  0  0  0  0  0  0  0  0  0\\n   25.7374   27.4850   -3.5477 C   0  0  0  0  0  0  0  0  0  0  0  0\\n   26.3736   26.9087   -4.6348 C   0  0  0  0  0  0  0  0  0  0  0  0\\n   25.7054   25.9485   -5.3891 C   0  0  0  0  0  0  0  0  0  0  0  0\\n   27.4059   24.2446   -5.9593 C   0  0  0  0  0  0  0  0  0  0  0  0\\n   25.5345   24.6553   -7.5125 C   0  0  0  0  0  0  0  0  0  0  0  0\\n   24.3912   25.5890   -5.0783 C   0  0  0  0  0  0  0  0  0  0  0  0\\n   23.7643   26.1803   -3.9952 C   0  0  0  0  0  0  0  0  0  0  0  0\\n  1  8  1  0\\n  1  6  1  0\\n  2  4  1  0\\n  3  4  1  0\\n  3  6  2  0\\n  4  8  2  0\\n  5  6  1  0\\n  7 14  2  0\\n  7 15  1  0\\n  8 10  1  0\\n  9 15  1  0\\n  9 16  1  0\\n 10 12  2  0\\n 10 13  1  0\\n 11 19  1  0\\n 11 20  1  0\\n 11 21  1  0\\n 12 14  1  0\\n 13 15  2  0\\n 16 17  2  0\\n 16 23  1  0\\n 17 18  1  0\\n 18 19  2  0\\n 19 22  1  0\\n 22 23  2  0\\nM  END\\n\",\"sdf\");\n",
       "\tviewer_16315525864379146.setStyle({\"model\": 0},{\"stick\": {\"colorscheme\": \"lightgreyCarbon\"}});\n",
       "\tviewer_16315525864379146.setStyle({\"model\": 1},{\"stick\": {\"colorscheme\": \"redCarbon\"}});\n",
       "\tviewer_16315525864379146.setStyle({\"model\": 2},{\"stick\": {\"colorscheme\": \"greyCarbon\"}});\n",
       "\tviewer_16315525864379146.zoomTo();\n",
       "viewer_16315525864379146.render();\n",
       "});\n",
       "</script>"
      ]
     },
     "metadata": {},
     "output_type": "display_data"
    },
    {
     "data": {
      "text/plain": [
       "<py3Dmol.view at 0x7f8c6b80a7f0>"
      ]
     },
     "execution_count": 24,
     "metadata": {},
     "output_type": "execute_result"
    }
   ],
   "source": [
    "molid = 5\n",
    "als = AlignShow([mols[molid], mkmols[molid]], [pcds[molid], mkpcds[molid]])\n",
    "s = als.align(1, 0)\n",
    "print(\"Score:\", s)\n",
    "als.save(1, 0, f\"murcko_self_{molid}.sdf\")\n",
    "als.show(1, 0)"
   ]
  },
  {
   "cell_type": "code",
   "execution_count": 25,
   "metadata": {
    "scrolled": true
   },
   "outputs": [
    {
     "data": {
      "application/3dmoljs_load.v0": "<div id=\"3dmolviewer_16315525891958337\"  style=\"position: relative; width: 640px; height: 480px\">\n        <p id=\"3dmolwarning_16315525891958337\" style=\"background-color:#ffcccc;color:black\">You appear to be running in JupyterLab (or JavaScript failed to load for some other reason).  You need to install the 3dmol extension: <br>\n        <tt>jupyter labextension install jupyterlab_3dmol</tt></p>\n        </div>\n<script>\n\nvar loadScriptAsync = function(uri){\n  return new Promise((resolve, reject) => {\n    var tag = document.createElement('script');\n    tag.src = uri;\n    tag.async = true;\n    tag.onload = () => {\n      resolve();\n    };\n  var firstScriptTag = document.getElementsByTagName('script')[0];\n  firstScriptTag.parentNode.insertBefore(tag, firstScriptTag);\n});\n};\n\nif(typeof $3Dmolpromise === 'undefined') {\n$3Dmolpromise = null;\n  $3Dmolpromise = loadScriptAsync('https://3dmol.org/build/3Dmol.js');\n}\n\nvar viewer_16315525891958337 = null;\nvar warn = document.getElementById(\"3dmolwarning_16315525891958337\");\nif(warn) {\n    warn.parentNode.removeChild(warn);\n}\n$3Dmolpromise.then(function() {\nviewer_16315525891958337 = $3Dmol.createViewer($(\"#3dmolviewer_16315525891958337\"),{backgroundColor:\"white\"});\nviewer_16315525891958337.zoomTo();\n\tviewer_16315525891958337.addModel(\"\\n     RDKit          3D\\n\\n 23 25  0  0  0  0  0  0  0  0999 V2000\\n   17.9679   24.7231   -5.6850 N   0  0  0  0  0  4  0  0  0  0  0  0\\n   27.4059   24.2446   -5.9593 C   0  0  0  0  0  0  0  0  0  0  0  0\\n   25.5345   24.6553   -7.5125 C   0  0  0  0  0  0  0  0  0  0  0  0\\n   26.4305   25.2509   -6.4783 N   0  0  0  0  0  3  0  0  0  0  0  0\\n   16.9572   27.2699   -1.7377 C   0  0  0  0  0  5  0  0  0  0  0  0\\n   19.9276   25.8234   -4.1377 S   0  0  0  0  0  0  0  0  0  0  0  0\\n   17.3608   25.8854   -3.8096 N   0  0  0  0  0  0  0  0  0  0  0  0\\n   17.8797   26.6364   -2.7714 C   0  0  0  0  0  0  0  0  0  0  0  0\\n   18.2984   25.4168   -4.6008 C   0  0  0  0  0  0  0  0  0  0  0  0\\n   22.2944   28.5514   -0.4891 N   0  0  0  0  0  0  0  0  0  0  0  0\\n   19.2814   26.7280   -2.7822 C   0  0  0  0  0  0  0  0  0  0  0  0\\n   23.7826   27.8167   -2.0528 N   0  0  0  0  0  0  0  0  0  0  0  0\\n   20.2666   27.3951   -1.9138 C   0  0  0  0  0  0  0  0  0  0  0  0\\n   19.9423   28.0644   -0.7405 C   0  0  0  0  0  0  0  0  0  0  0  0\\n   21.5235   27.3080   -2.3742 N   0  0  0  0  0  0  0  0  0  0  0  0\\n   21.0182   28.6280   -0.0741 C   0  0  0  0  0  0  0  0  0  0  0  0\\n   22.4942   27.8834   -1.6320 C   0  0  0  0  0  0  0  0  0  0  0  0\\n   24.4434   27.1904   -3.1282 C   0  0  0  0  0  0  0  0  0  0  0  0\\n   25.7513   27.5663   -3.4275 C   0  0  0  0  0  0  0  0  0  0  0  0\\n   26.4149   26.9997   -4.5033 C   0  0  0  0  0  0  0  0  0  0  0  0\\n   25.7719   26.0347   -5.2731 C   0  0  0  0  0  0  0  0  0  0  0  0\\n   24.4556   25.6605   -4.9894 C   0  0  0  0  0  0  0  0  0  0  0  0\\n   23.8012   26.2421   -3.9173 C   0  0  0  0  0  0  0  0  0  0  0  0\\n  4  2  1  0\\n  4  3  1  0\\n  6 11  1  0\\n  6  9  1  0\\n  7  8  1  0\\n  7  9  2  0\\n  8 11  2  0\\n 10 16  2  0\\n 10 17  1  0\\n 11 13  1  0\\n 12 17  1  0\\n 12 18  1  0\\n 13 14  2  0\\n 13 15  1  0\\n 14 16  1  0\\n 15 17  2  0\\n 18 19  2  0\\n 18 23  1  0\\n 19 20  1  0\\n 20 21  2  0\\n 21 22  1  0\\n 22 23  2  0\\n  5  8  1  0\\n  4 21  1  0\\n  1  9  1  0\\nM  RAD  1   4   2\\nM  END\\n\",\"sdf\");\n\tviewer_16315525891958337.setStyle({\"model\": 0},{\"stick\": {\"colorscheme\": \"lightgreyCarbon\"}});\n\tviewer_16315525891958337.zoomTo();\nviewer_16315525891958337.render();\n});\n</script>",
      "text/html": [
       "<div id=\"3dmolviewer_16315525891958337\"  style=\"position: relative; width: 640px; height: 480px\">\n",
       "        <p id=\"3dmolwarning_16315525891958337\" style=\"background-color:#ffcccc;color:black\">You appear to be running in JupyterLab (or JavaScript failed to load for some other reason).  You need to install the 3dmol extension: <br>\n",
       "        <tt>jupyter labextension install jupyterlab_3dmol</tt></p>\n",
       "        </div>\n",
       "<script>\n",
       "\n",
       "var loadScriptAsync = function(uri){\n",
       "  return new Promise((resolve, reject) => {\n",
       "    var tag = document.createElement('script');\n",
       "    tag.src = uri;\n",
       "    tag.async = true;\n",
       "    tag.onload = () => {\n",
       "      resolve();\n",
       "    };\n",
       "  var firstScriptTag = document.getElementsByTagName('script')[0];\n",
       "  firstScriptTag.parentNode.insertBefore(tag, firstScriptTag);\n",
       "});\n",
       "};\n",
       "\n",
       "if(typeof $3Dmolpromise === 'undefined') {\n",
       "$3Dmolpromise = null;\n",
       "  $3Dmolpromise = loadScriptAsync('https://3dmol.org/build/3Dmol.js');\n",
       "}\n",
       "\n",
       "var viewer_16315525891958337 = null;\n",
       "var warn = document.getElementById(\"3dmolwarning_16315525891958337\");\n",
       "if(warn) {\n",
       "    warn.parentNode.removeChild(warn);\n",
       "}\n",
       "$3Dmolpromise.then(function() {\n",
       "viewer_16315525891958337 = $3Dmol.createViewer($(\"#3dmolviewer_16315525891958337\"),{backgroundColor:\"white\"});\n",
       "viewer_16315525891958337.zoomTo();\n",
       "\tviewer_16315525891958337.addModel(\"\\n     RDKit          3D\\n\\n 23 25  0  0  0  0  0  0  0  0999 V2000\\n   17.9679   24.7231   -5.6850 N   0  0  0  0  0  4  0  0  0  0  0  0\\n   27.4059   24.2446   -5.9593 C   0  0  0  0  0  0  0  0  0  0  0  0\\n   25.5345   24.6553   -7.5125 C   0  0  0  0  0  0  0  0  0  0  0  0\\n   26.4305   25.2509   -6.4783 N   0  0  0  0  0  3  0  0  0  0  0  0\\n   16.9572   27.2699   -1.7377 C   0  0  0  0  0  5  0  0  0  0  0  0\\n   19.9276   25.8234   -4.1377 S   0  0  0  0  0  0  0  0  0  0  0  0\\n   17.3608   25.8854   -3.8096 N   0  0  0  0  0  0  0  0  0  0  0  0\\n   17.8797   26.6364   -2.7714 C   0  0  0  0  0  0  0  0  0  0  0  0\\n   18.2984   25.4168   -4.6008 C   0  0  0  0  0  0  0  0  0  0  0  0\\n   22.2944   28.5514   -0.4891 N   0  0  0  0  0  0  0  0  0  0  0  0\\n   19.2814   26.7280   -2.7822 C   0  0  0  0  0  0  0  0  0  0  0  0\\n   23.7826   27.8167   -2.0528 N   0  0  0  0  0  0  0  0  0  0  0  0\\n   20.2666   27.3951   -1.9138 C   0  0  0  0  0  0  0  0  0  0  0  0\\n   19.9423   28.0644   -0.7405 C   0  0  0  0  0  0  0  0  0  0  0  0\\n   21.5235   27.3080   -2.3742 N   0  0  0  0  0  0  0  0  0  0  0  0\\n   21.0182   28.6280   -0.0741 C   0  0  0  0  0  0  0  0  0  0  0  0\\n   22.4942   27.8834   -1.6320 C   0  0  0  0  0  0  0  0  0  0  0  0\\n   24.4434   27.1904   -3.1282 C   0  0  0  0  0  0  0  0  0  0  0  0\\n   25.7513   27.5663   -3.4275 C   0  0  0  0  0  0  0  0  0  0  0  0\\n   26.4149   26.9997   -4.5033 C   0  0  0  0  0  0  0  0  0  0  0  0\\n   25.7719   26.0347   -5.2731 C   0  0  0  0  0  0  0  0  0  0  0  0\\n   24.4556   25.6605   -4.9894 C   0  0  0  0  0  0  0  0  0  0  0  0\\n   23.8012   26.2421   -3.9173 C   0  0  0  0  0  0  0  0  0  0  0  0\\n  4  2  1  0\\n  4  3  1  0\\n  6 11  1  0\\n  6  9  1  0\\n  7  8  1  0\\n  7  9  2  0\\n  8 11  2  0\\n 10 16  2  0\\n 10 17  1  0\\n 11 13  1  0\\n 12 17  1  0\\n 12 18  1  0\\n 13 14  2  0\\n 13 15  1  0\\n 14 16  1  0\\n 15 17  2  0\\n 18 19  2  0\\n 18 23  1  0\\n 19 20  1  0\\n 20 21  2  0\\n 21 22  1  0\\n 22 23  2  0\\n  5  8  1  0\\n  4 21  1  0\\n  1  9  1  0\\nM  RAD  1   4   2\\nM  END\\n\",\"sdf\");\n",
       "\tviewer_16315525891958337.setStyle({\"model\": 0},{\"stick\": {\"colorscheme\": \"lightgreyCarbon\"}});\n",
       "\tviewer_16315525891958337.zoomTo();\n",
       "viewer_16315525891958337.render();\n",
       "});\n",
       "</script>"
      ]
     },
     "metadata": {},
     "output_type": "display_data"
    }
   ],
   "source": [
    "rdmol5 = reconstruction(\"murcko_self_5.sdf\")\n",
    "show_all_conformers(rdmol5)"
   ]
  },
  {
   "cell_type": "code",
   "execution_count": 26,
   "metadata": {},
   "outputs": [
    {
     "name": "stdout",
     "output_type": "stream",
     "text": [
      "Score: 0.9356435643564357\n"
     ]
    },
    {
     "data": {
      "application/3dmoljs_load.v0": "<div id=\"3dmolviewer_16315525895586078\"  style=\"position: relative; width: 640px; height: 480px\">\n        <p id=\"3dmolwarning_16315525895586078\" style=\"background-color:#ffcccc;color:black\">You appear to be running in JupyterLab (or JavaScript failed to load for some other reason).  You need to install the 3dmol extension: <br>\n        <tt>jupyter labextension install jupyterlab_3dmol</tt></p>\n        </div>\n<script>\n\nvar loadScriptAsync = function(uri){\n  return new Promise((resolve, reject) => {\n    var tag = document.createElement('script');\n    tag.src = uri;\n    tag.async = true;\n    tag.onload = () => {\n      resolve();\n    };\n  var firstScriptTag = document.getElementsByTagName('script')[0];\n  firstScriptTag.parentNode.insertBefore(tag, firstScriptTag);\n});\n};\n\nif(typeof $3Dmolpromise === 'undefined') {\n$3Dmolpromise = null;\n  $3Dmolpromise = loadScriptAsync('https://3dmol.org/build/3Dmol.js');\n}\n\nvar viewer_16315525895586078 = null;\nvar warn = document.getElementById(\"3dmolwarning_16315525895586078\");\nif(warn) {\n    warn.parentNode.removeChild(warn);\n}\n$3Dmolpromise.then(function() {\nviewer_16315525895586078 = $3Dmol.createViewer($(\"#3dmolviewer_16315525895586078\"),{backgroundColor:\"white\"});\nviewer_16315525895586078.zoomTo();\n\tviewer_16315525895586078.addModel(\"3sw7_B_19K.pdb\\n     RDKit          3D\\n\\n 18 20  0  0  0  0  0  0  0  0999 V2000\\n   10.9931  -19.6186   26.8181 S   0  0  0  0  0  0  0  0  0  0  0  0\\n   12.9681  -18.4079   25.7089 N   0  0  0  0  0  0  0  0  0  0  0  0\\n   12.0466  -19.2983   25.4732 C   0  0  0  0  0  0  0  0  0  0  0  0\\n   10.1076  -17.8210   31.5521 N   0  0  0  0  0  0  0  0  0  0  0  0\\n   12.8998  -17.9067   26.9980 C   0  0  0  0  0  0  0  0  0  0  0  0\\n    8.9358  -19.7633   31.1674 N   0  0  0  0  0  0  0  0  0  0  0  0\\n   11.8474  -18.4334   27.7714 C   0  0  0  0  0  0  0  0  0  0  0  0\\n   11.2804  -18.1285   29.0991 C   0  0  0  0  0  0  0  0  0  0  0  0\\n   10.3903  -19.0408   29.5192 N   0  0  0  0  0  0  0  0  0  0  0  0\\n   11.6415  -17.0249   29.8634 C   0  0  0  0  0  0  0  0  0  0  0  0\\n   11.0012  -16.9296   31.0877 C   0  0  0  0  0  0  0  0  0  0  0  0\\n    9.8298  -18.8431   30.7307 C   0  0  0  0  0  0  0  0  0  0  0  0\\n    8.3360  -20.8987   30.5774 C   0  0  0  0  0  0  0  0  0  0  0  0\\n    8.4611  -21.1415   29.2161 C   0  0  0  0  0  0  0  0  0  0  0  0\\n    7.8927  -22.2649   28.6479 C   0  0  0  0  0  0  0  0  0  0  0  0\\n    7.1757  -23.1832   29.3941 C   0  0  0  0  0  0  0  0  0  0  0  0\\n    7.0154  -22.9123   30.8319 C   0  0  0  0  0  0  0  0  0  0  0  0\\n    7.6276  -21.7952   31.3720 C   0  0  0  0  0  0  0  0  0  0  0  0\\n  1  3  1  0\\n  1  7  1  0\\n  2  3  2  0\\n  2  5  1  0\\n  4 12  2  0\\n  4 11  1  0\\n  5  7  2  0\\n  6 13  1  0\\n  6 12  1  0\\n  7  8  1  0\\n  8  9  2  0\\n  8 10  1  0\\n  9 12  1  0\\n 10 11  2  0\\n 13 18  1  0\\n 13 14  2  0\\n 14 15  1  0\\n 15 16  2  0\\n 16 17  1  0\\n 17 18  2  0\\nM  END\\n\",\"sdf\");\n\tviewer_16315525895586078.addModel(\"3sw7_B_19K.pdb\\n     RDKit          3D\\n\\n 18 20  0  0  0  0  0  0  0  0999 V2000\\n   32.6146  -10.2140    5.1505 S   0  0  0  0  0  0  0  0  0  0  0  0\\n   32.4895   -7.6566    5.3526 N   0  0  0  0  0  0  0  0  0  0  0  0\\n   32.3164   -8.6289    4.5027 C   0  0  0  0  0  0  0  0  0  0  0  0\\n   33.6802  -12.4056    9.6769 N   0  0  0  0  0  0  0  0  0  0  0  0\\n   32.8768   -8.1110    6.6020 C   0  0  0  0  0  0  0  0  0  0  0  0\\n   33.8782  -13.9174    7.9538 N   0  0  0  0  0  0  0  0  0  0  0  0\\n   32.9767   -9.5118    6.7058 C   0  0  0  0  0  0  0  0  0  0  0  0\\n   33.1986  -10.4581    7.8161 C   0  0  0  0  0  0  0  0  0  0  0  0\\n   33.4213  -11.7162    7.4057 N   0  0  0  0  0  0  0  0  0  0  0  0\\n   33.2062  -10.0939    9.1576 C   0  0  0  0  0  0  0  0  0  0  0  0\\n   33.4469  -11.1323   10.0418 C   0  0  0  0  0  0  0  0  0  0  0  0\\n   33.6441  -12.6454    8.3586 C   0  0  0  0  0  0  0  0  0  0  0  0\\n   33.8423  -14.5647    6.6982 C   0  0  0  0  0  0  0  0  0  0  0  0\\n   33.3006  -13.9314    5.5877 C   0  0  0  0  0  0  0  0  0  0  0  0\\n   33.2887  -14.5592    4.3573 C   0  0  0  0  0  0  0  0  0  0  0  0\\n   33.8001  -15.8320    4.1767 C   0  0  0  0  0  0  0  0  0  0  0  0\\n   34.3471  -16.5177    5.3586 C   0  0  0  0  0  0  0  0  0  0  0  0\\n   34.3732  -15.8445    6.5672 C   0  0  0  0  0  0  0  0  0  0  0  0\\n  1  3  1  0\\n  1  7  1  0\\n  2  3  2  0\\n  2  5  1  0\\n  4 12  2  0\\n  4 11  1  0\\n  5  7  2  0\\n  6 13  1  0\\n  6 12  1  0\\n  7  8  1  0\\n  8  9  2  0\\n  8 10  1  0\\n  9 12  1  0\\n 10 11  2  0\\n 13 18  1  0\\n 13 14  2  0\\n 14 15  1  0\\n 15 16  2  0\\n 16 17  1  0\\n 17 18  2  0\\nM  END\\n\",\"sdf\");\n\tviewer_16315525895586078.addModel(\"3sw7_B_19K.pdb\\n     RDKit          3D\\n\\n 26 28  0  0  0  0  0  0  0  0999 V2000\\n   32.5993  -10.2594    5.1091 S   0  0  0  0  0  0  0  0  0  0  0  0\\n   31.8554   -8.4955    3.0263 C   0  0  0  0  0  0  0  0  0  0  0  0\\n   32.4428   -7.7020    5.2879 N   0  0  0  0  0  0  0  0  0  0  0  0\\n   35.7713  -18.1603    6.3159 O   0  0  0  0  0  0  0  0  0  0  0  0\\n   32.2815   -8.6840    4.4470 C   0  0  0  0  0  0  0  0  0  0  0  0\\n   33.6926  -12.3963    9.6549 N   0  0  0  0  0  0  0  0  0  0  0  0\\n   32.8359   -8.1401    6.5413 C   0  0  0  0  0  0  0  0  0  0  0  0\\n   33.9088  -13.9212    7.9456 N   0  0  0  0  0  0  0  0  0  0  0  0\\n   33.1574   -7.1177    7.5799 C   0  0  0  0  0  0  0  0  0  0  0  0\\n   33.8466  -16.3849    2.7912 N   0  0  0  0  0  0  0  0  0  0  0  0\\n   32.9531   -9.5386    6.6579 C   0  0  0  0  0  0  0  0  0  0  0  0\\n   35.0257  -17.8772    5.3897 N   0  0  0  0  0  0  0  0  0  0  0  0\\n   33.1867  -10.4719    7.7766 C   0  0  0  0  0  0  0  0  0  0  0  0\\n   33.4248  -11.7309    7.3776 N   0  0  0  0  0  0  0  0  0  0  0  0\\n   33.1901  -10.0954    9.1148 C   0  0  0  0  0  0  0  0  0  0  0  0\\n   33.4438  -11.1228   10.0083 C   0  0  0  0  0  0  0  0  0  0  0  0\\n   33.6592  -12.6485    8.3389 C   0  0  0  0  0  0  0  0  0  0  0  0\\n   33.8806  -14.5804    6.6959 C   0  0  0  0  0  0  0  0  0  0  0  0\\n   33.3310  -13.9639    5.5799 C   0  0  0  0  0  0  0  0  0  0  0  0\\n   33.3266  -14.6029    4.3553 C   0  0  0  0  0  0  0  0  0  0  0  0\\n   33.8535  -15.8709    4.1861 C   0  0  0  0  0  0  0  0  0  0  0  0\\n   32.9342  -17.5493    2.5955 C   0  0  0  0  0  0  0  0  0  0  0  0\\n   35.2125  -16.6413    2.2438 C   0  0  0  0  0  0  0  0  0  0  0  0\\n   34.4091  -16.5391    5.3740 C   0  0  0  0  0  0  0  0  0  0  0  0\\n   34.4272  -15.8547    6.5764 C   0  0  0  0  0  0  0  0  0  0  0  0\\n   34.9062  -18.5880    4.4080 O   0  0  0  0  0  0  0  0  0  0  0  0\\n  1  5  1  0\\n  1 11  1  0\\n  2  5  1  0\\n  3  5  2  0\\n  3  7  1  0\\n  4 12  2  0\\n  6 17  2  0\\n  6 16  1  0\\n  7 11  2  0\\n  7  9  1  0\\n  8 18  1  0\\n  8 17  1  0\\n 10 22  1  0\\n 10 23  1  0\\n 10 21  1  0\\n 11 13  1  0\\n 12 24  1  0\\n 12 26  1  0\\n 13 14  2  0\\n 13 15  1  0\\n 14 17  1  0\\n 15 16  2  0\\n 18 25  1  0\\n 18 19  2  0\\n 19 20  1  0\\n 20 21  2  0\\n 21 24  1  0\\n 24 25  2  0\\nM  CHG  2  12   1  26  -1\\nM  END\\n\",\"sdf\");\n\tviewer_16315525895586078.setStyle({\"model\": 0},{\"stick\": {\"colorscheme\": \"lightgreyCarbon\"}});\n\tviewer_16315525895586078.setStyle({\"model\": 1},{\"stick\": {\"colorscheme\": \"redCarbon\"}});\n\tviewer_16315525895586078.setStyle({\"model\": 2},{\"stick\": {\"colorscheme\": \"greyCarbon\"}});\n\tviewer_16315525895586078.zoomTo();\nviewer_16315525895586078.render();\n});\n</script>",
      "text/html": [
       "<div id=\"3dmolviewer_16315525895586078\"  style=\"position: relative; width: 640px; height: 480px\">\n",
       "        <p id=\"3dmolwarning_16315525895586078\" style=\"background-color:#ffcccc;color:black\">You appear to be running in JupyterLab (or JavaScript failed to load for some other reason).  You need to install the 3dmol extension: <br>\n",
       "        <tt>jupyter labextension install jupyterlab_3dmol</tt></p>\n",
       "        </div>\n",
       "<script>\n",
       "\n",
       "var loadScriptAsync = function(uri){\n",
       "  return new Promise((resolve, reject) => {\n",
       "    var tag = document.createElement('script');\n",
       "    tag.src = uri;\n",
       "    tag.async = true;\n",
       "    tag.onload = () => {\n",
       "      resolve();\n",
       "    };\n",
       "  var firstScriptTag = document.getElementsByTagName('script')[0];\n",
       "  firstScriptTag.parentNode.insertBefore(tag, firstScriptTag);\n",
       "});\n",
       "};\n",
       "\n",
       "if(typeof $3Dmolpromise === 'undefined') {\n",
       "$3Dmolpromise = null;\n",
       "  $3Dmolpromise = loadScriptAsync('https://3dmol.org/build/3Dmol.js');\n",
       "}\n",
       "\n",
       "var viewer_16315525895586078 = null;\n",
       "var warn = document.getElementById(\"3dmolwarning_16315525895586078\");\n",
       "if(warn) {\n",
       "    warn.parentNode.removeChild(warn);\n",
       "}\n",
       "$3Dmolpromise.then(function() {\n",
       "viewer_16315525895586078 = $3Dmol.createViewer($(\"#3dmolviewer_16315525895586078\"),{backgroundColor:\"white\"});\n",
       "viewer_16315525895586078.zoomTo();\n",
       "\tviewer_16315525895586078.addModel(\"3sw7_B_19K.pdb\\n     RDKit          3D\\n\\n 18 20  0  0  0  0  0  0  0  0999 V2000\\n   10.9931  -19.6186   26.8181 S   0  0  0  0  0  0  0  0  0  0  0  0\\n   12.9681  -18.4079   25.7089 N   0  0  0  0  0  0  0  0  0  0  0  0\\n   12.0466  -19.2983   25.4732 C   0  0  0  0  0  0  0  0  0  0  0  0\\n   10.1076  -17.8210   31.5521 N   0  0  0  0  0  0  0  0  0  0  0  0\\n   12.8998  -17.9067   26.9980 C   0  0  0  0  0  0  0  0  0  0  0  0\\n    8.9358  -19.7633   31.1674 N   0  0  0  0  0  0  0  0  0  0  0  0\\n   11.8474  -18.4334   27.7714 C   0  0  0  0  0  0  0  0  0  0  0  0\\n   11.2804  -18.1285   29.0991 C   0  0  0  0  0  0  0  0  0  0  0  0\\n   10.3903  -19.0408   29.5192 N   0  0  0  0  0  0  0  0  0  0  0  0\\n   11.6415  -17.0249   29.8634 C   0  0  0  0  0  0  0  0  0  0  0  0\\n   11.0012  -16.9296   31.0877 C   0  0  0  0  0  0  0  0  0  0  0  0\\n    9.8298  -18.8431   30.7307 C   0  0  0  0  0  0  0  0  0  0  0  0\\n    8.3360  -20.8987   30.5774 C   0  0  0  0  0  0  0  0  0  0  0  0\\n    8.4611  -21.1415   29.2161 C   0  0  0  0  0  0  0  0  0  0  0  0\\n    7.8927  -22.2649   28.6479 C   0  0  0  0  0  0  0  0  0  0  0  0\\n    7.1757  -23.1832   29.3941 C   0  0  0  0  0  0  0  0  0  0  0  0\\n    7.0154  -22.9123   30.8319 C   0  0  0  0  0  0  0  0  0  0  0  0\\n    7.6276  -21.7952   31.3720 C   0  0  0  0  0  0  0  0  0  0  0  0\\n  1  3  1  0\\n  1  7  1  0\\n  2  3  2  0\\n  2  5  1  0\\n  4 12  2  0\\n  4 11  1  0\\n  5  7  2  0\\n  6 13  1  0\\n  6 12  1  0\\n  7  8  1  0\\n  8  9  2  0\\n  8 10  1  0\\n  9 12  1  0\\n 10 11  2  0\\n 13 18  1  0\\n 13 14  2  0\\n 14 15  1  0\\n 15 16  2  0\\n 16 17  1  0\\n 17 18  2  0\\nM  END\\n\",\"sdf\");\n",
       "\tviewer_16315525895586078.addModel(\"3sw7_B_19K.pdb\\n     RDKit          3D\\n\\n 18 20  0  0  0  0  0  0  0  0999 V2000\\n   32.6146  -10.2140    5.1505 S   0  0  0  0  0  0  0  0  0  0  0  0\\n   32.4895   -7.6566    5.3526 N   0  0  0  0  0  0  0  0  0  0  0  0\\n   32.3164   -8.6289    4.5027 C   0  0  0  0  0  0  0  0  0  0  0  0\\n   33.6802  -12.4056    9.6769 N   0  0  0  0  0  0  0  0  0  0  0  0\\n   32.8768   -8.1110    6.6020 C   0  0  0  0  0  0  0  0  0  0  0  0\\n   33.8782  -13.9174    7.9538 N   0  0  0  0  0  0  0  0  0  0  0  0\\n   32.9767   -9.5118    6.7058 C   0  0  0  0  0  0  0  0  0  0  0  0\\n   33.1986  -10.4581    7.8161 C   0  0  0  0  0  0  0  0  0  0  0  0\\n   33.4213  -11.7162    7.4057 N   0  0  0  0  0  0  0  0  0  0  0  0\\n   33.2062  -10.0939    9.1576 C   0  0  0  0  0  0  0  0  0  0  0  0\\n   33.4469  -11.1323   10.0418 C   0  0  0  0  0  0  0  0  0  0  0  0\\n   33.6441  -12.6454    8.3586 C   0  0  0  0  0  0  0  0  0  0  0  0\\n   33.8423  -14.5647    6.6982 C   0  0  0  0  0  0  0  0  0  0  0  0\\n   33.3006  -13.9314    5.5877 C   0  0  0  0  0  0  0  0  0  0  0  0\\n   33.2887  -14.5592    4.3573 C   0  0  0  0  0  0  0  0  0  0  0  0\\n   33.8001  -15.8320    4.1767 C   0  0  0  0  0  0  0  0  0  0  0  0\\n   34.3471  -16.5177    5.3586 C   0  0  0  0  0  0  0  0  0  0  0  0\\n   34.3732  -15.8445    6.5672 C   0  0  0  0  0  0  0  0  0  0  0  0\\n  1  3  1  0\\n  1  7  1  0\\n  2  3  2  0\\n  2  5  1  0\\n  4 12  2  0\\n  4 11  1  0\\n  5  7  2  0\\n  6 13  1  0\\n  6 12  1  0\\n  7  8  1  0\\n  8  9  2  0\\n  8 10  1  0\\n  9 12  1  0\\n 10 11  2  0\\n 13 18  1  0\\n 13 14  2  0\\n 14 15  1  0\\n 15 16  2  0\\n 16 17  1  0\\n 17 18  2  0\\nM  END\\n\",\"sdf\");\n",
       "\tviewer_16315525895586078.addModel(\"3sw7_B_19K.pdb\\n     RDKit          3D\\n\\n 26 28  0  0  0  0  0  0  0  0999 V2000\\n   32.5993  -10.2594    5.1091 S   0  0  0  0  0  0  0  0  0  0  0  0\\n   31.8554   -8.4955    3.0263 C   0  0  0  0  0  0  0  0  0  0  0  0\\n   32.4428   -7.7020    5.2879 N   0  0  0  0  0  0  0  0  0  0  0  0\\n   35.7713  -18.1603    6.3159 O   0  0  0  0  0  0  0  0  0  0  0  0\\n   32.2815   -8.6840    4.4470 C   0  0  0  0  0  0  0  0  0  0  0  0\\n   33.6926  -12.3963    9.6549 N   0  0  0  0  0  0  0  0  0  0  0  0\\n   32.8359   -8.1401    6.5413 C   0  0  0  0  0  0  0  0  0  0  0  0\\n   33.9088  -13.9212    7.9456 N   0  0  0  0  0  0  0  0  0  0  0  0\\n   33.1574   -7.1177    7.5799 C   0  0  0  0  0  0  0  0  0  0  0  0\\n   33.8466  -16.3849    2.7912 N   0  0  0  0  0  0  0  0  0  0  0  0\\n   32.9531   -9.5386    6.6579 C   0  0  0  0  0  0  0  0  0  0  0  0\\n   35.0257  -17.8772    5.3897 N   0  0  0  0  0  0  0  0  0  0  0  0\\n   33.1867  -10.4719    7.7766 C   0  0  0  0  0  0  0  0  0  0  0  0\\n   33.4248  -11.7309    7.3776 N   0  0  0  0  0  0  0  0  0  0  0  0\\n   33.1901  -10.0954    9.1148 C   0  0  0  0  0  0  0  0  0  0  0  0\\n   33.4438  -11.1228   10.0083 C   0  0  0  0  0  0  0  0  0  0  0  0\\n   33.6592  -12.6485    8.3389 C   0  0  0  0  0  0  0  0  0  0  0  0\\n   33.8806  -14.5804    6.6959 C   0  0  0  0  0  0  0  0  0  0  0  0\\n   33.3310  -13.9639    5.5799 C   0  0  0  0  0  0  0  0  0  0  0  0\\n   33.3266  -14.6029    4.3553 C   0  0  0  0  0  0  0  0  0  0  0  0\\n   33.8535  -15.8709    4.1861 C   0  0  0  0  0  0  0  0  0  0  0  0\\n   32.9342  -17.5493    2.5955 C   0  0  0  0  0  0  0  0  0  0  0  0\\n   35.2125  -16.6413    2.2438 C   0  0  0  0  0  0  0  0  0  0  0  0\\n   34.4091  -16.5391    5.3740 C   0  0  0  0  0  0  0  0  0  0  0  0\\n   34.4272  -15.8547    6.5764 C   0  0  0  0  0  0  0  0  0  0  0  0\\n   34.9062  -18.5880    4.4080 O   0  0  0  0  0  0  0  0  0  0  0  0\\n  1  5  1  0\\n  1 11  1  0\\n  2  5  1  0\\n  3  5  2  0\\n  3  7  1  0\\n  4 12  2  0\\n  6 17  2  0\\n  6 16  1  0\\n  7 11  2  0\\n  7  9  1  0\\n  8 18  1  0\\n  8 17  1  0\\n 10 22  1  0\\n 10 23  1  0\\n 10 21  1  0\\n 11 13  1  0\\n 12 24  1  0\\n 12 26  1  0\\n 13 14  2  0\\n 13 15  1  0\\n 14 17  1  0\\n 15 16  2  0\\n 18 25  1  0\\n 18 19  2  0\\n 19 20  1  0\\n 20 21  2  0\\n 21 24  1  0\\n 24 25  2  0\\nM  CHG  2  12   1  26  -1\\nM  END\\n\",\"sdf\");\n",
       "\tviewer_16315525895586078.setStyle({\"model\": 0},{\"stick\": {\"colorscheme\": \"lightgreyCarbon\"}});\n",
       "\tviewer_16315525895586078.setStyle({\"model\": 1},{\"stick\": {\"colorscheme\": \"redCarbon\"}});\n",
       "\tviewer_16315525895586078.setStyle({\"model\": 2},{\"stick\": {\"colorscheme\": \"greyCarbon\"}});\n",
       "\tviewer_16315525895586078.zoomTo();\n",
       "viewer_16315525895586078.render();\n",
       "});\n",
       "</script>"
      ]
     },
     "metadata": {},
     "output_type": "display_data"
    },
    {
     "data": {
      "text/plain": [
       "<py3Dmol.view at 0x7f8d8c6b3160>"
      ]
     },
     "execution_count": 26,
     "metadata": {},
     "output_type": "execute_result"
    }
   ],
   "source": [
    "molid = 6\n",
    "als = AlignShow([mols[molid], mkmols[molid]], [pcds[molid], mkpcds[molid]])\n",
    "s = als.align(1, 0)\n",
    "print(\"Score:\", s)\n",
    "als.save(1, 0, f\"murcko_self_{molid}.sdf\")\n",
    "als.show(1, 0)"
   ]
  },
  {
   "cell_type": "code",
   "execution_count": 27,
   "metadata": {},
   "outputs": [
    {
     "data": {
      "application/3dmoljs_load.v0": "<div id=\"3dmolviewer_16315525941613867\"  style=\"position: relative; width: 640px; height: 480px\">\n        <p id=\"3dmolwarning_16315525941613867\" style=\"background-color:#ffcccc;color:black\">You appear to be running in JupyterLab (or JavaScript failed to load for some other reason).  You need to install the 3dmol extension: <br>\n        <tt>jupyter labextension install jupyterlab_3dmol</tt></p>\n        </div>\n<script>\n\nvar loadScriptAsync = function(uri){\n  return new Promise((resolve, reject) => {\n    var tag = document.createElement('script');\n    tag.src = uri;\n    tag.async = true;\n    tag.onload = () => {\n      resolve();\n    };\n  var firstScriptTag = document.getElementsByTagName('script')[0];\n  firstScriptTag.parentNode.insertBefore(tag, firstScriptTag);\n});\n};\n\nif(typeof $3Dmolpromise === 'undefined') {\n$3Dmolpromise = null;\n  $3Dmolpromise = loadScriptAsync('https://3dmol.org/build/3Dmol.js');\n}\n\nvar viewer_16315525941613867 = null;\nvar warn = document.getElementById(\"3dmolwarning_16315525941613867\");\nif(warn) {\n    warn.parentNode.removeChild(warn);\n}\n$3Dmolpromise.then(function() {\nviewer_16315525941613867 = $3Dmol.createViewer($(\"#3dmolviewer_16315525941613867\"),{backgroundColor:\"white\"});\nviewer_16315525941613867.zoomTo();\n\tviewer_16315525941613867.addModel(\"\\n     RDKit          3D\\n\\n 26 28  0  0  0  0  0  0  0  0999 V2000\\n   35.0257  -17.8772    5.3897 N   0  0  0  0  0  3  0  0  0  0  0  0\\n   34.9062  -18.5880    4.4080 O   0  0  0  0  0  1  0  0  0  0  0  0\\n   35.7713  -18.1603    6.3159 O   0  0  0  0  0  1  0  0  0  0  0  0\\n   32.9342  -17.5493    2.5955 C   0  0  0  0  0  0  0  0  0  0  0  0\\n   35.2125  -16.6413    2.2438 C   0  0  0  0  0  0  0  0  0  0  0  0\\n   33.8466  -16.3849    2.7912 N   0  0  0  0  0  3  0  0  0  0  0  0\\n   33.1574   -7.1177    7.5799 C   0  0  0  0  0  5  0  0  0  0  0  0\\n   31.8554   -8.4955    3.0263 C   0  0  0  0  0  5  0  0  0  0  0  0\\n   32.6146  -10.2140    5.1505 S   0  0  0  0  0  0  0  0  0  0  0  0\\n   32.4895   -7.6566    5.3526 N   0  0  0  0  0  0  0  0  0  0  0  0\\n   32.3164   -8.6289    4.5027 C   0  0  0  0  0  0  0  0  0  0  0  0\\n   33.6802  -12.4056    9.6769 N   0  0  0  0  0  0  0  0  0  0  0  0\\n   32.8768   -8.1110    6.6020 C   0  0  0  0  0  0  0  0  0  0  0  0\\n   33.8782  -13.9174    7.9538 N   0  0  0  0  0  0  0  0  0  0  0  0\\n   32.9767   -9.5118    6.7058 C   0  0  0  0  0  0  0  0  0  0  0  0\\n   33.1986  -10.4581    7.8161 C   0  0  0  0  0  0  0  0  0  0  0  0\\n   33.4213  -11.7162    7.4057 N   0  0  0  0  0  0  0  0  0  0  0  0\\n   33.2062  -10.0939    9.1576 C   0  0  0  0  0  0  0  0  0  0  0  0\\n   33.4469  -11.1323   10.0418 C   0  0  0  0  0  0  0  0  0  0  0  0\\n   33.6441  -12.6454    8.3586 C   0  0  0  0  0  0  0  0  0  0  0  0\\n   33.8423  -14.5647    6.6982 C   0  0  0  0  0  0  0  0  0  0  0  0\\n   33.3006  -13.9314    5.5877 C   0  0  0  0  0  0  0  0  0  0  0  0\\n   33.2887  -14.5592    4.3573 C   0  0  0  0  0  0  0  0  0  0  0  0\\n   33.8001  -15.8320    4.1767 C   0  0  0  0  0  0  0  0  0  0  0  0\\n   34.3471  -16.5177    5.3586 C   0  0  0  0  0  0  0  0  0  0  0  0\\n   34.3732  -15.8445    6.5672 C   0  0  0  0  0  0  0  0  0  0  0  0\\n  2  1  1  0\\n  3  1  1  0\\n  6  4  1  0\\n  6  5  1  0\\n  9 11  1  0\\n  9 15  1  0\\n 10 11  2  0\\n 10 13  1  0\\n 12 20  2  0\\n 12 19  1  0\\n 13 15  2  0\\n 14 21  1  0\\n 14 20  1  0\\n 15 16  1  0\\n 16 17  2  0\\n 16 18  1  0\\n 17 20  1  0\\n 18 19  2  0\\n 21 26  1  0\\n 21 22  2  0\\n 22 23  1  0\\n 23 24  2  0\\n 24 25  1  0\\n 25 26  2  0\\n  8 11  1  0\\n  7 13  1  0\\n  6 24  1  0\\n  1 25  1  0\\nM  RAD  4   1   2   2   2   3   2   6   2\\nM  END\\n\",\"sdf\");\n\tviewer_16315525941613867.setStyle({\"model\": 0},{\"stick\": {\"colorscheme\": \"lightgreyCarbon\"}});\n\tviewer_16315525941613867.zoomTo();\nviewer_16315525941613867.render();\n});\n</script>",
      "text/html": [
       "<div id=\"3dmolviewer_16315525941613867\"  style=\"position: relative; width: 640px; height: 480px\">\n",
       "        <p id=\"3dmolwarning_16315525941613867\" style=\"background-color:#ffcccc;color:black\">You appear to be running in JupyterLab (or JavaScript failed to load for some other reason).  You need to install the 3dmol extension: <br>\n",
       "        <tt>jupyter labextension install jupyterlab_3dmol</tt></p>\n",
       "        </div>\n",
       "<script>\n",
       "\n",
       "var loadScriptAsync = function(uri){\n",
       "  return new Promise((resolve, reject) => {\n",
       "    var tag = document.createElement('script');\n",
       "    tag.src = uri;\n",
       "    tag.async = true;\n",
       "    tag.onload = () => {\n",
       "      resolve();\n",
       "    };\n",
       "  var firstScriptTag = document.getElementsByTagName('script')[0];\n",
       "  firstScriptTag.parentNode.insertBefore(tag, firstScriptTag);\n",
       "});\n",
       "};\n",
       "\n",
       "if(typeof $3Dmolpromise === 'undefined') {\n",
       "$3Dmolpromise = null;\n",
       "  $3Dmolpromise = loadScriptAsync('https://3dmol.org/build/3Dmol.js');\n",
       "}\n",
       "\n",
       "var viewer_16315525941613867 = null;\n",
       "var warn = document.getElementById(\"3dmolwarning_16315525941613867\");\n",
       "if(warn) {\n",
       "    warn.parentNode.removeChild(warn);\n",
       "}\n",
       "$3Dmolpromise.then(function() {\n",
       "viewer_16315525941613867 = $3Dmol.createViewer($(\"#3dmolviewer_16315525941613867\"),{backgroundColor:\"white\"});\n",
       "viewer_16315525941613867.zoomTo();\n",
       "\tviewer_16315525941613867.addModel(\"\\n     RDKit          3D\\n\\n 26 28  0  0  0  0  0  0  0  0999 V2000\\n   35.0257  -17.8772    5.3897 N   0  0  0  0  0  3  0  0  0  0  0  0\\n   34.9062  -18.5880    4.4080 O   0  0  0  0  0  1  0  0  0  0  0  0\\n   35.7713  -18.1603    6.3159 O   0  0  0  0  0  1  0  0  0  0  0  0\\n   32.9342  -17.5493    2.5955 C   0  0  0  0  0  0  0  0  0  0  0  0\\n   35.2125  -16.6413    2.2438 C   0  0  0  0  0  0  0  0  0  0  0  0\\n   33.8466  -16.3849    2.7912 N   0  0  0  0  0  3  0  0  0  0  0  0\\n   33.1574   -7.1177    7.5799 C   0  0  0  0  0  5  0  0  0  0  0  0\\n   31.8554   -8.4955    3.0263 C   0  0  0  0  0  5  0  0  0  0  0  0\\n   32.6146  -10.2140    5.1505 S   0  0  0  0  0  0  0  0  0  0  0  0\\n   32.4895   -7.6566    5.3526 N   0  0  0  0  0  0  0  0  0  0  0  0\\n   32.3164   -8.6289    4.5027 C   0  0  0  0  0  0  0  0  0  0  0  0\\n   33.6802  -12.4056    9.6769 N   0  0  0  0  0  0  0  0  0  0  0  0\\n   32.8768   -8.1110    6.6020 C   0  0  0  0  0  0  0  0  0  0  0  0\\n   33.8782  -13.9174    7.9538 N   0  0  0  0  0  0  0  0  0  0  0  0\\n   32.9767   -9.5118    6.7058 C   0  0  0  0  0  0  0  0  0  0  0  0\\n   33.1986  -10.4581    7.8161 C   0  0  0  0  0  0  0  0  0  0  0  0\\n   33.4213  -11.7162    7.4057 N   0  0  0  0  0  0  0  0  0  0  0  0\\n   33.2062  -10.0939    9.1576 C   0  0  0  0  0  0  0  0  0  0  0  0\\n   33.4469  -11.1323   10.0418 C   0  0  0  0  0  0  0  0  0  0  0  0\\n   33.6441  -12.6454    8.3586 C   0  0  0  0  0  0  0  0  0  0  0  0\\n   33.8423  -14.5647    6.6982 C   0  0  0  0  0  0  0  0  0  0  0  0\\n   33.3006  -13.9314    5.5877 C   0  0  0  0  0  0  0  0  0  0  0  0\\n   33.2887  -14.5592    4.3573 C   0  0  0  0  0  0  0  0  0  0  0  0\\n   33.8001  -15.8320    4.1767 C   0  0  0  0  0  0  0  0  0  0  0  0\\n   34.3471  -16.5177    5.3586 C   0  0  0  0  0  0  0  0  0  0  0  0\\n   34.3732  -15.8445    6.5672 C   0  0  0  0  0  0  0  0  0  0  0  0\\n  2  1  1  0\\n  3  1  1  0\\n  6  4  1  0\\n  6  5  1  0\\n  9 11  1  0\\n  9 15  1  0\\n 10 11  2  0\\n 10 13  1  0\\n 12 20  2  0\\n 12 19  1  0\\n 13 15  2  0\\n 14 21  1  0\\n 14 20  1  0\\n 15 16  1  0\\n 16 17  2  0\\n 16 18  1  0\\n 17 20  1  0\\n 18 19  2  0\\n 21 26  1  0\\n 21 22  2  0\\n 22 23  1  0\\n 23 24  2  0\\n 24 25  1  0\\n 25 26  2  0\\n  8 11  1  0\\n  7 13  1  0\\n  6 24  1  0\\n  1 25  1  0\\nM  RAD  4   1   2   2   2   3   2   6   2\\nM  END\\n\",\"sdf\");\n",
       "\tviewer_16315525941613867.setStyle({\"model\": 0},{\"stick\": {\"colorscheme\": \"lightgreyCarbon\"}});\n",
       "\tviewer_16315525941613867.zoomTo();\n",
       "viewer_16315525941613867.render();\n",
       "});\n",
       "</script>"
      ]
     },
     "metadata": {},
     "output_type": "display_data"
    }
   ],
   "source": [
    "rdmol6 = reconstruction(\"murcko_self_6.sdf\")\n",
    "show_all_conformers(rdmol6)"
   ]
  },
  {
   "cell_type": "code",
   "execution_count": 28,
   "metadata": {},
   "outputs": [
    {
     "name": "stdout",
     "output_type": "stream",
     "text": [
      "Score: 0.6030150753768844\n"
     ]
    },
    {
     "data": {
      "application/3dmoljs_load.v0": "<div id=\"3dmolviewer_16315525944841883\"  style=\"position: relative; width: 640px; height: 480px\">\n        <p id=\"3dmolwarning_16315525944841883\" style=\"background-color:#ffcccc;color:black\">You appear to be running in JupyterLab (or JavaScript failed to load for some other reason).  You need to install the 3dmol extension: <br>\n        <tt>jupyter labextension install jupyterlab_3dmol</tt></p>\n        </div>\n<script>\n\nvar loadScriptAsync = function(uri){\n  return new Promise((resolve, reject) => {\n    var tag = document.createElement('script');\n    tag.src = uri;\n    tag.async = true;\n    tag.onload = () => {\n      resolve();\n    };\n  var firstScriptTag = document.getElementsByTagName('script')[0];\n  firstScriptTag.parentNode.insertBefore(tag, firstScriptTag);\n});\n};\n\nif(typeof $3Dmolpromise === 'undefined') {\n$3Dmolpromise = null;\n  $3Dmolpromise = loadScriptAsync('https://3dmol.org/build/3Dmol.js');\n}\n\nvar viewer_16315525944841883 = null;\nvar warn = document.getElementById(\"3dmolwarning_16315525944841883\");\nif(warn) {\n    warn.parentNode.removeChild(warn);\n}\n$3Dmolpromise.then(function() {\nviewer_16315525944841883 = $3Dmol.createViewer($(\"#3dmolviewer_16315525944841883\"),{backgroundColor:\"white\"});\nviewer_16315525944841883.zoomTo();\n\tviewer_16315525944841883.addModel(\"4fko_B_20K.pdb\\n     RDKit          3D\\n\\n 18 20  0  0  1  0  0  0  0  0999 V2000\\n   25.6002   15.4922   -1.4214 S   0  0  0  0  0  0  0  0  0  0  0  0\\n   23.4353   16.5793   -2.2732 N   0  0  0  0  0  0  0  0  0  0  0  0\\n   24.2850   15.6314   -2.5481 C   0  0  0  0  0  0  0  0  0  0  0  0\\n   27.0113   17.4876    3.0875 N   0  0  0  0  0  0  0  0  0  0  0  0\\n   23.7789   17.2896   -1.1353 C   0  0  0  0  0  0  0  0  0  0  0  0\\n   28.6588   16.1570    2.2581 N   0  0  0  0  0  0  0  0  0  0  0  0\\n   24.9357   16.8181   -0.5080 C   0  0  0  0  0  0  0  0  0  0  0  0\\n   26.8087   16.5402    0.8978 N   0  0  0  0  0  0  0  0  0  0  0  0\\n   25.6082   17.1253    0.7682 C   0  0  0  0  0  0  0  0  0  0  0  0\\n   25.0479   17.9156    1.7628 C   0  0  0  0  0  0  0  0  0  0  0  0\\n   25.8038   18.0440    2.9139 C   0  0  0  0  0  0  0  0  0  0  0  0\\n   27.4573   16.7436    2.0713 C   0  0  0  0  0  0  0  0  0  0  0  0\\n   29.3825   15.2203    1.4975 C   0  0  0  0  0  0  0  0  0  0  0  0\\n   28.8496   14.5043    0.4309 C   0  0  0  0  0  0  0  0  0  0  0  0\\n   29.6440   13.6473   -0.3091 C   0  0  0  0  0  0  0  0  0  0  0  0\\n   30.9879   13.5015   -0.0007 C   0  0  0  0  0  0  0  0  0  0  0  0\\n   31.5045   14.2181    1.0542 C   0  0  0  0  0  0  0  0  0  0  0  0\\n   30.7217   15.0498    1.8236 C   0  0  0  0  0  0  0  0  0  0  0  0\\n  1  3  1  0\\n  1  7  1  0\\n  2  3  2  0\\n  2  5  1  0\\n  4 11  2  0\\n  4 12  1  0\\n  5  7  2  0\\n  6 12  1  0\\n  6 13  1  0\\n  8  9  1  0\\n  8 12  2  0\\n  9  7  1  0\\n  9 10  2  0\\n 10 11  1  0\\n 13 14  2  0\\n 13 18  1  0\\n 14 15  1  0\\n 15 16  2  0\\n 16 17  1  0\\n 17 18  2  0\\nM  END\\n\",\"sdf\");\n\tviewer_16315525944841883.addModel(\"4fko_B_20K.pdb\\n     RDKit          3D\\n\\n 18 20  0  0  1  0  0  0  0  0999 V2000\\n   17.4126   21.9438  -14.5441 S   0  0  0  0  0  0  0  0  0  0  0  0\\n   16.0757   22.2946  -16.7083 N   0  0  0  0  0  0  0  0  0  0  0  0\\n   17.2664   21.9942  -16.2746 C   0  0  0  0  0  0  0  0  0  0  0  0\\n   14.3623   22.2231  -10.4307 N   0  0  0  0  0  0  0  0  0  0  0  0\\n   15.1771   22.5269  -15.6807 C   0  0  0  0  0  0  0  0  0  0  0  0\\n   16.5462   22.1758   -9.7974 N   0  0  0  0  0  0  0  0  0  0  0  0\\n   15.7256   22.3548  -14.4066 C   0  0  0  0  0  0  0  0  0  0  0  0\\n   16.0978   22.3029  -12.0784 N   0  0  0  0  0  0  0  0  0  0  0  0\\n   15.1652   22.3379  -13.0424 C   0  0  0  0  0  0  0  0  0  0  0  0\\n   13.8039   22.3248  -12.7696 C   0  0  0  0  0  0  0  0  0  0  0  0\\n   13.4687   22.2507  -11.4298 C   0  0  0  0  0  0  0  0  0  0  0  0\\n   15.6458   22.2359  -10.8015 C   0  0  0  0  0  0  0  0  0  0  0  0\\n   17.9465   22.0386   -9.7896 C   0  0  0  0  0  0  0  0  0  0  0  0\\n   18.7019   21.6938  -10.9053 C   0  0  0  0  0  0  0  0  0  0  0  0\\n   20.0821   21.6412  -10.8326 C   0  0  0  0  0  0  0  0  0  0  0  0\\n   20.7297   21.9440   -9.6446 C   0  0  0  0  0  0  0  0  0  0  0  0\\n   19.9719   22.2876   -8.5487 C   0  0  0  0  0  0  0  0  0  0  0  0\\n   18.5957   22.3120   -8.5926 C   0  0  0  0  0  0  0  0  0  0  0  0\\n  1  3  1  0\\n  1  7  1  0\\n  2  3  2  0\\n  2  5  1  0\\n  4 11  2  0\\n  4 12  1  0\\n  5  7  2  0\\n  6 12  1  0\\n  6 13  1  0\\n  8  9  1  0\\n  8 12  2  0\\n  9  7  1  0\\n  9 10  2  0\\n 10 11  1  0\\n 13 14  2  0\\n 13 18  1  0\\n 14 15  1  0\\n 15 16  2  0\\n 16 17  1  0\\n 17 18  2  0\\nM  END\\n\",\"sdf\");\n\tviewer_16315525944841883.addModel(\"4fko_B_20K.pdb\\n     RDKit          3D\\n\\n 24 26  0  0  1  0  0  0  0  0999 V2000\\n   15.5918   22.2014  -11.5753 S   0  0  0  0  0  0  0  0  0  0  0  0\\n   21.1020   22.6619  -17.6426 Cl  0  0  0  0  0  0  0  0  0  0  0  0\\n   12.7831   22.3464  -11.4424 C   0  0  0  0  0  0  0  0  0  0  0  0\\n   14.2176   22.6260   -9.4480 N   0  0  0  0  0  0  0  0  0  0  0  0\\n   14.0901   22.3981  -10.7239 C   0  0  0  0  0  0  0  0  0  0  0  0\\n   20.5897   21.8154  -10.4916 N   0  0  0  0  0  0  0  0  0  0  0  0\\n   15.5415   22.6780   -9.0455 C   0  0  0  0  0  0  0  0  0  0  0  0\\n   20.2707   21.9119  -12.7414 N   0  0  0  0  0  0  0  0  0  0  0  0\\n   15.8565   23.0399   -7.6326 C   0  0  0  0  0  0  0  0  0  0  0  0\\n   18.1529   22.0324  -18.0076 N   0  0  0  0  0  0  0  0  0  0  0  0\\n   16.4516   22.4402  -10.0795 C   0  0  0  0  0  0  0  0  0  0  0  0\\n   18.4026   22.2076  -11.3838 N   0  0  0  0  0  0  0  0  0  0  0  0\\n   17.9125   22.2453  -10.1353 C   0  0  0  0  0  0  0  0  0  0  0  0\\n   18.7107   22.0811   -9.0112 C   0  0  0  0  0  0  0  0  0  0  0  0\\n   20.0511   21.8526   -9.2643 C   0  0  0  0  0  0  0  0  0  0  0  0\\n   19.7342   21.9811  -11.5044 C   0  0  0  0  0  0  0  0  0  0  0  0\\n   19.6924   21.9046  -14.0240 C   0  0  0  0  0  0  0  0  0  0  0  0\\n   18.3331   21.7359  -14.2649 C   0  0  0  0  0  0  0  0  0  0  0  0\\n   17.8321   21.8047  -15.5523 C   0  0  0  0  0  0  0  0  0  0  0  0\\n   18.6821   22.0548  -16.6188 C   0  0  0  0  0  0  0  0  0  0  0  0\\n   16.6889   22.3011  -18.0955 C   0  0  0  0  0  0  0  0  0  0  0  0\\n   18.5176   20.7812  -18.7336 C   0  0  0  0  0  0  0  0  0  0  0  0\\n   20.0243   22.2238  -16.3675 C   0  0  0  0  0  0  0  0  0  0  0  0\\n   20.5463   22.1249  -15.0970 C   0  0  0  0  0  0  0  0  0  0  0  0\\n  1  5  1  0\\n  1 11  1  0\\n  2 23  1  0\\n  3  5  1  0\\n  4  5  2  0\\n  4  7  1  0\\n  6 15  2  0\\n  6 16  1  0\\n  7  9  1  0\\n  7 11  2  0\\n  8 16  1  0\\n  8 17  1  0\\n 10 21  1  0\\n 10 22  1  0\\n 10 20  1  0\\n 12 13  1  0\\n 12 16  2  0\\n 13 11  1  0\\n 13 14  2  0\\n 14 15  1  0\\n 17 18  2  0\\n 17 24  1  0\\n 18 19  1  0\\n 19 20  2  0\\n 20 23  1  0\\n 23 24  2  0\\nM  END\\n\",\"sdf\");\n\tviewer_16315525944841883.setStyle({\"model\": 0},{\"stick\": {\"colorscheme\": \"lightgreyCarbon\"}});\n\tviewer_16315525944841883.setStyle({\"model\": 1},{\"stick\": {\"colorscheme\": \"redCarbon\"}});\n\tviewer_16315525944841883.setStyle({\"model\": 2},{\"stick\": {\"colorscheme\": \"greyCarbon\"}});\n\tviewer_16315525944841883.zoomTo();\nviewer_16315525944841883.render();\n});\n</script>",
      "text/html": [
       "<div id=\"3dmolviewer_16315525944841883\"  style=\"position: relative; width: 640px; height: 480px\">\n",
       "        <p id=\"3dmolwarning_16315525944841883\" style=\"background-color:#ffcccc;color:black\">You appear to be running in JupyterLab (or JavaScript failed to load for some other reason).  You need to install the 3dmol extension: <br>\n",
       "        <tt>jupyter labextension install jupyterlab_3dmol</tt></p>\n",
       "        </div>\n",
       "<script>\n",
       "\n",
       "var loadScriptAsync = function(uri){\n",
       "  return new Promise((resolve, reject) => {\n",
       "    var tag = document.createElement('script');\n",
       "    tag.src = uri;\n",
       "    tag.async = true;\n",
       "    tag.onload = () => {\n",
       "      resolve();\n",
       "    };\n",
       "  var firstScriptTag = document.getElementsByTagName('script')[0];\n",
       "  firstScriptTag.parentNode.insertBefore(tag, firstScriptTag);\n",
       "});\n",
       "};\n",
       "\n",
       "if(typeof $3Dmolpromise === 'undefined') {\n",
       "$3Dmolpromise = null;\n",
       "  $3Dmolpromise = loadScriptAsync('https://3dmol.org/build/3Dmol.js');\n",
       "}\n",
       "\n",
       "var viewer_16315525944841883 = null;\n",
       "var warn = document.getElementById(\"3dmolwarning_16315525944841883\");\n",
       "if(warn) {\n",
       "    warn.parentNode.removeChild(warn);\n",
       "}\n",
       "$3Dmolpromise.then(function() {\n",
       "viewer_16315525944841883 = $3Dmol.createViewer($(\"#3dmolviewer_16315525944841883\"),{backgroundColor:\"white\"});\n",
       "viewer_16315525944841883.zoomTo();\n",
       "\tviewer_16315525944841883.addModel(\"4fko_B_20K.pdb\\n     RDKit          3D\\n\\n 18 20  0  0  1  0  0  0  0  0999 V2000\\n   25.6002   15.4922   -1.4214 S   0  0  0  0  0  0  0  0  0  0  0  0\\n   23.4353   16.5793   -2.2732 N   0  0  0  0  0  0  0  0  0  0  0  0\\n   24.2850   15.6314   -2.5481 C   0  0  0  0  0  0  0  0  0  0  0  0\\n   27.0113   17.4876    3.0875 N   0  0  0  0  0  0  0  0  0  0  0  0\\n   23.7789   17.2896   -1.1353 C   0  0  0  0  0  0  0  0  0  0  0  0\\n   28.6588   16.1570    2.2581 N   0  0  0  0  0  0  0  0  0  0  0  0\\n   24.9357   16.8181   -0.5080 C   0  0  0  0  0  0  0  0  0  0  0  0\\n   26.8087   16.5402    0.8978 N   0  0  0  0  0  0  0  0  0  0  0  0\\n   25.6082   17.1253    0.7682 C   0  0  0  0  0  0  0  0  0  0  0  0\\n   25.0479   17.9156    1.7628 C   0  0  0  0  0  0  0  0  0  0  0  0\\n   25.8038   18.0440    2.9139 C   0  0  0  0  0  0  0  0  0  0  0  0\\n   27.4573   16.7436    2.0713 C   0  0  0  0  0  0  0  0  0  0  0  0\\n   29.3825   15.2203    1.4975 C   0  0  0  0  0  0  0  0  0  0  0  0\\n   28.8496   14.5043    0.4309 C   0  0  0  0  0  0  0  0  0  0  0  0\\n   29.6440   13.6473   -0.3091 C   0  0  0  0  0  0  0  0  0  0  0  0\\n   30.9879   13.5015   -0.0007 C   0  0  0  0  0  0  0  0  0  0  0  0\\n   31.5045   14.2181    1.0542 C   0  0  0  0  0  0  0  0  0  0  0  0\\n   30.7217   15.0498    1.8236 C   0  0  0  0  0  0  0  0  0  0  0  0\\n  1  3  1  0\\n  1  7  1  0\\n  2  3  2  0\\n  2  5  1  0\\n  4 11  2  0\\n  4 12  1  0\\n  5  7  2  0\\n  6 12  1  0\\n  6 13  1  0\\n  8  9  1  0\\n  8 12  2  0\\n  9  7  1  0\\n  9 10  2  0\\n 10 11  1  0\\n 13 14  2  0\\n 13 18  1  0\\n 14 15  1  0\\n 15 16  2  0\\n 16 17  1  0\\n 17 18  2  0\\nM  END\\n\",\"sdf\");\n",
       "\tviewer_16315525944841883.addModel(\"4fko_B_20K.pdb\\n     RDKit          3D\\n\\n 18 20  0  0  1  0  0  0  0  0999 V2000\\n   17.4126   21.9438  -14.5441 S   0  0  0  0  0  0  0  0  0  0  0  0\\n   16.0757   22.2946  -16.7083 N   0  0  0  0  0  0  0  0  0  0  0  0\\n   17.2664   21.9942  -16.2746 C   0  0  0  0  0  0  0  0  0  0  0  0\\n   14.3623   22.2231  -10.4307 N   0  0  0  0  0  0  0  0  0  0  0  0\\n   15.1771   22.5269  -15.6807 C   0  0  0  0  0  0  0  0  0  0  0  0\\n   16.5462   22.1758   -9.7974 N   0  0  0  0  0  0  0  0  0  0  0  0\\n   15.7256   22.3548  -14.4066 C   0  0  0  0  0  0  0  0  0  0  0  0\\n   16.0978   22.3029  -12.0784 N   0  0  0  0  0  0  0  0  0  0  0  0\\n   15.1652   22.3379  -13.0424 C   0  0  0  0  0  0  0  0  0  0  0  0\\n   13.8039   22.3248  -12.7696 C   0  0  0  0  0  0  0  0  0  0  0  0\\n   13.4687   22.2507  -11.4298 C   0  0  0  0  0  0  0  0  0  0  0  0\\n   15.6458   22.2359  -10.8015 C   0  0  0  0  0  0  0  0  0  0  0  0\\n   17.9465   22.0386   -9.7896 C   0  0  0  0  0  0  0  0  0  0  0  0\\n   18.7019   21.6938  -10.9053 C   0  0  0  0  0  0  0  0  0  0  0  0\\n   20.0821   21.6412  -10.8326 C   0  0  0  0  0  0  0  0  0  0  0  0\\n   20.7297   21.9440   -9.6446 C   0  0  0  0  0  0  0  0  0  0  0  0\\n   19.9719   22.2876   -8.5487 C   0  0  0  0  0  0  0  0  0  0  0  0\\n   18.5957   22.3120   -8.5926 C   0  0  0  0  0  0  0  0  0  0  0  0\\n  1  3  1  0\\n  1  7  1  0\\n  2  3  2  0\\n  2  5  1  0\\n  4 11  2  0\\n  4 12  1  0\\n  5  7  2  0\\n  6 12  1  0\\n  6 13  1  0\\n  8  9  1  0\\n  8 12  2  0\\n  9  7  1  0\\n  9 10  2  0\\n 10 11  1  0\\n 13 14  2  0\\n 13 18  1  0\\n 14 15  1  0\\n 15 16  2  0\\n 16 17  1  0\\n 17 18  2  0\\nM  END\\n\",\"sdf\");\n",
       "\tviewer_16315525944841883.addModel(\"4fko_B_20K.pdb\\n     RDKit          3D\\n\\n 24 26  0  0  1  0  0  0  0  0999 V2000\\n   15.5918   22.2014  -11.5753 S   0  0  0  0  0  0  0  0  0  0  0  0\\n   21.1020   22.6619  -17.6426 Cl  0  0  0  0  0  0  0  0  0  0  0  0\\n   12.7831   22.3464  -11.4424 C   0  0  0  0  0  0  0  0  0  0  0  0\\n   14.2176   22.6260   -9.4480 N   0  0  0  0  0  0  0  0  0  0  0  0\\n   14.0901   22.3981  -10.7239 C   0  0  0  0  0  0  0  0  0  0  0  0\\n   20.5897   21.8154  -10.4916 N   0  0  0  0  0  0  0  0  0  0  0  0\\n   15.5415   22.6780   -9.0455 C   0  0  0  0  0  0  0  0  0  0  0  0\\n   20.2707   21.9119  -12.7414 N   0  0  0  0  0  0  0  0  0  0  0  0\\n   15.8565   23.0399   -7.6326 C   0  0  0  0  0  0  0  0  0  0  0  0\\n   18.1529   22.0324  -18.0076 N   0  0  0  0  0  0  0  0  0  0  0  0\\n   16.4516   22.4402  -10.0795 C   0  0  0  0  0  0  0  0  0  0  0  0\\n   18.4026   22.2076  -11.3838 N   0  0  0  0  0  0  0  0  0  0  0  0\\n   17.9125   22.2453  -10.1353 C   0  0  0  0  0  0  0  0  0  0  0  0\\n   18.7107   22.0811   -9.0112 C   0  0  0  0  0  0  0  0  0  0  0  0\\n   20.0511   21.8526   -9.2643 C   0  0  0  0  0  0  0  0  0  0  0  0\\n   19.7342   21.9811  -11.5044 C   0  0  0  0  0  0  0  0  0  0  0  0\\n   19.6924   21.9046  -14.0240 C   0  0  0  0  0  0  0  0  0  0  0  0\\n   18.3331   21.7359  -14.2649 C   0  0  0  0  0  0  0  0  0  0  0  0\\n   17.8321   21.8047  -15.5523 C   0  0  0  0  0  0  0  0  0  0  0  0\\n   18.6821   22.0548  -16.6188 C   0  0  0  0  0  0  0  0  0  0  0  0\\n   16.6889   22.3011  -18.0955 C   0  0  0  0  0  0  0  0  0  0  0  0\\n   18.5176   20.7812  -18.7336 C   0  0  0  0  0  0  0  0  0  0  0  0\\n   20.0243   22.2238  -16.3675 C   0  0  0  0  0  0  0  0  0  0  0  0\\n   20.5463   22.1249  -15.0970 C   0  0  0  0  0  0  0  0  0  0  0  0\\n  1  5  1  0\\n  1 11  1  0\\n  2 23  1  0\\n  3  5  1  0\\n  4  5  2  0\\n  4  7  1  0\\n  6 15  2  0\\n  6 16  1  0\\n  7  9  1  0\\n  7 11  2  0\\n  8 16  1  0\\n  8 17  1  0\\n 10 21  1  0\\n 10 22  1  0\\n 10 20  1  0\\n 12 13  1  0\\n 12 16  2  0\\n 13 11  1  0\\n 13 14  2  0\\n 14 15  1  0\\n 17 18  2  0\\n 17 24  1  0\\n 18 19  1  0\\n 19 20  2  0\\n 20 23  1  0\\n 23 24  2  0\\nM  END\\n\",\"sdf\");\n",
       "\tviewer_16315525944841883.setStyle({\"model\": 0},{\"stick\": {\"colorscheme\": \"lightgreyCarbon\"}});\n",
       "\tviewer_16315525944841883.setStyle({\"model\": 1},{\"stick\": {\"colorscheme\": \"redCarbon\"}});\n",
       "\tviewer_16315525944841883.setStyle({\"model\": 2},{\"stick\": {\"colorscheme\": \"greyCarbon\"}});\n",
       "\tviewer_16315525944841883.zoomTo();\n",
       "viewer_16315525944841883.render();\n",
       "});\n",
       "</script>"
      ]
     },
     "metadata": {},
     "output_type": "display_data"
    },
    {
     "data": {
      "text/plain": [
       "<py3Dmol.view at 0x7f8c64d32c18>"
      ]
     },
     "execution_count": 28,
     "metadata": {},
     "output_type": "execute_result"
    }
   ],
   "source": [
    "molid = 7\n",
    "als = AlignShow([mols[molid], mkmols[molid]], [pcds[molid], mkpcds[molid]])\n",
    "s = als.align(1, 0)\n",
    "print(\"Score:\", s)\n",
    "als.save(1, 0, f\"murcko_self_{molid}.sdf\")\n",
    "als.show(1, 0)"
   ]
  },
  {
   "cell_type": "code",
   "execution_count": 29,
   "metadata": {},
   "outputs": [
    {
     "name": "stderr",
     "output_type": "stream",
     "text": [
      "RDKit ERROR: [18:03:26] Can't kekulize mol.  Unkekulized atoms: 28 29 30 32 34\n",
      "RDKit ERROR: \n"
     ]
    },
    {
     "ename": "KekulizeException",
     "evalue": "Can't kekulize mol.  Unkekulized atoms: 28 29 30 32 34\n",
     "output_type": "error",
     "traceback": [
      "\u001b[0;31m---------------------------------------------------------------------------\u001b[0m",
      "\u001b[0;31mKekulizeException\u001b[0m                         Traceback (most recent call last)",
      "\u001b[0;32m<ipython-input-29-42ce3172db6c>\u001b[0m in \u001b[0;36m<module>\u001b[0;34m\u001b[0m\n\u001b[0;32m----> 1\u001b[0;31m \u001b[0mrdmol7\u001b[0m \u001b[0;34m=\u001b[0m \u001b[0mreconstruction\u001b[0m\u001b[0;34m(\u001b[0m\u001b[0;34m\"murcko_self_7.sdf\"\u001b[0m\u001b[0;34m)\u001b[0m\u001b[0;34m\u001b[0m\u001b[0;34m\u001b[0m\u001b[0m\n\u001b[0m\u001b[1;32m      2\u001b[0m \u001b[0mshow_all_conformers\u001b[0m\u001b[0;34m(\u001b[0m\u001b[0mrdmol7\u001b[0m\u001b[0;34m)\u001b[0m\u001b[0;34m\u001b[0m\u001b[0;34m\u001b[0m\u001b[0m\n",
      "\u001b[0;32m<ipython-input-13-ef02c1abe8fa>\u001b[0m in \u001b[0;36mreconstruction\u001b[0;34m(fname, verbose)\u001b[0m\n\u001b[1;32m     23\u001b[0m     \u001b[0;31m# Fit atoms into density difference\u001b[0m\u001b[0;34m\u001b[0m\u001b[0;34m\u001b[0m\u001b[0;34m\u001b[0m\u001b[0m\n\u001b[1;32m     24\u001b[0m     \u001b[0;31m# Link nearest atom from the fit to the scaffold to build whole molecule\u001b[0m\u001b[0;34m\u001b[0m\u001b[0;34m\u001b[0m\u001b[0;34m\u001b[0m\u001b[0m\n\u001b[0;32m---> 25\u001b[0;31m     \u001b[0mrdmolfinal\u001b[0m \u001b[0;34m=\u001b[0m \u001b[0mmolgrid_diff_to_mol\u001b[0m\u001b[0;34m(\u001b[0m\u001b[0mnpgdiff\u001b[0m\u001b[0;34m,\u001b[0m \u001b[0mc\u001b[0m\u001b[0;34m,\u001b[0m \u001b[0;36m0.5\u001b[0m\u001b[0;34m,\u001b[0m \u001b[0;34m\"../files/ligmap\"\u001b[0m\u001b[0;34m,\u001b[0m \u001b[0mrdscaffold\u001b[0m\u001b[0;34m,\u001b[0m \u001b[0mverbose\u001b[0m\u001b[0;34m=\u001b[0m\u001b[0mverbose\u001b[0m\u001b[0;34m)\u001b[0m\u001b[0;34m\u001b[0m\u001b[0;34m\u001b[0m\u001b[0m\n\u001b[0m\u001b[1;32m     26\u001b[0m \u001b[0;34m\u001b[0m\u001b[0m\n\u001b[1;32m     27\u001b[0m     \u001b[0;32mreturn\u001b[0m \u001b[0mrdmolfinal\u001b[0m\u001b[0;34m\u001b[0m\u001b[0;34m\u001b[0m\u001b[0m\n",
      "\u001b[0;32m~/Documents/git/densitymatch/fit_to_grid.py\u001b[0m in \u001b[0;36mmolgrid_diff_to_mol\u001b[0;34m(diff, center, resolution, ligmap, scaffold, verbose)\u001b[0m\n\u001b[1;32m    239\u001b[0m         \u001b[0mrdmolfinal\u001b[0m\u001b[0;34m,\u001b[0m\u001b[0;34m\u001b[0m\u001b[0;34m\u001b[0m\u001b[0m\n\u001b[1;32m    240\u001b[0m         sanitizeOps=(\n\u001b[0;32m--> 241\u001b[0;31m             \u001b[0mChem\u001b[0m\u001b[0;34m.\u001b[0m\u001b[0mSANITIZE_ALL\u001b[0m \u001b[0;34m^\u001b[0m \u001b[0mChem\u001b[0m\u001b[0;34m.\u001b[0m\u001b[0mSANITIZE_CLEANUP\u001b[0m \u001b[0;34m^\u001b[0m \u001b[0mChem\u001b[0m\u001b[0;34m.\u001b[0m\u001b[0mSANITIZE_PROPERTIES\u001b[0m\u001b[0;34m\u001b[0m\u001b[0;34m\u001b[0m\u001b[0m\n\u001b[0m\u001b[1;32m    242\u001b[0m         ),\n\u001b[1;32m    243\u001b[0m     )\n",
      "\u001b[0;31mKekulizeException\u001b[0m: Can't kekulize mol.  Unkekulized atoms: 28 29 30 32 34\n"
     ]
    }
   ],
   "source": [
    "rdmol7 = reconstruction(\"murcko_self_7.sdf\")\n",
    "show_all_conformers(rdmol7)"
   ]
  },
  {
   "cell_type": "code",
   "execution_count": 30,
   "metadata": {},
   "outputs": [
    {
     "name": "stdout",
     "output_type": "stream",
     "text": [
      "Score: 0.7097902097902098\n"
     ]
    },
    {
     "data": {
      "application/3dmoljs_load.v0": "<div id=\"3dmolviewer_16315526599944015\"  style=\"position: relative; width: 640px; height: 480px\">\n        <p id=\"3dmolwarning_16315526599944015\" style=\"background-color:#ffcccc;color:black\">You appear to be running in JupyterLab (or JavaScript failed to load for some other reason).  You need to install the 3dmol extension: <br>\n        <tt>jupyter labextension install jupyterlab_3dmol</tt></p>\n        </div>\n<script>\n\nvar loadScriptAsync = function(uri){\n  return new Promise((resolve, reject) => {\n    var tag = document.createElement('script');\n    tag.src = uri;\n    tag.async = true;\n    tag.onload = () => {\n      resolve();\n    };\n  var firstScriptTag = document.getElementsByTagName('script')[0];\n  firstScriptTag.parentNode.insertBefore(tag, firstScriptTag);\n});\n};\n\nif(typeof $3Dmolpromise === 'undefined') {\n$3Dmolpromise = null;\n  $3Dmolpromise = loadScriptAsync('https://3dmol.org/build/3Dmol.js');\n}\n\nvar viewer_16315526599944015 = null;\nvar warn = document.getElementById(\"3dmolwarning_16315526599944015\");\nif(warn) {\n    warn.parentNode.removeChild(warn);\n}\n$3Dmolpromise.then(function() {\nviewer_16315526599944015 = $3Dmol.createViewer($(\"#3dmolviewer_16315526599944015\"),{backgroundColor:\"white\"});\nviewer_16315526599944015.zoomTo();\n\tviewer_16315526599944015.addModel(\"4fkp_B_LS5.pdb\\n     RDKit          3D\\n\\n 18 20  0  0  1  0  0  0  0  0999 V2000\\n   24.2102  -11.4934   14.4683 N   0  0  0  0  0  0  0  0  0  0  0  0\\n   23.8092  -12.7693   14.4444 C   0  0  0  0  0  0  0  0  0  0  0  0\\n   23.5788  -13.1847   13.1311 C   0  0  2  0  0  0  0  0  0  0  0  0\\n   23.7516  -11.8393   10.9283 C   0  0  0  0  0  0  0  0  0  0  0  0\\n   24.0561  -10.5660   10.4267 C   0  0  0  0  0  0  0  0  0  0  0  0\\n   24.4880   -9.5299   11.2801 C   0  0  0  0  0  0  0  0  0  0  0  0\\n   24.5203   -9.7597   12.6713 C   0  0  0  0  0  0  0  0  0  0  0  0\\n   24.2142  -11.0249   13.1787 C   0  0  0  0  0  0  0  0  0  0  0  0\\n   23.7851  -12.0499   12.3156 C   0  0  0  0  0  0  0  0  0  0  0  0\\n   23.7073  -13.5268   15.4194 O   0  0  0  0  0  0  0  0  0  0  0  0\\n   22.9794  -14.4026   12.7815 C   0  0  0  0  0  0  0  0  0  0  0  0\\n   22.7005  -15.3524   13.6915 N   0  0  0  0  0  0  0  0  0  0  0  0\\n   22.0358  -16.4931   13.4268 C   0  0  0  0  0  0  0  0  0  0  0  0\\n   21.1497  -16.5788   12.3320 C   0  0  0  0  0  0  0  0  0  0  0  0\\n   20.4611  -17.7837   12.0980 C   0  0  0  0  0  0  0  0  0  0  0  0\\n   20.6016  -18.8662   12.9748 C   0  0  0  0  0  0  0  0  0  0  0  0\\n   21.4357  -18.7811   14.1042 C   0  0  0  0  0  0  0  0  0  0  0  0\\n   22.1271  -17.5784   14.3105 C   0  0  0  0  0  0  0  0  0  0  0  0\\n  1  2  1  0\\n  1  8  1  0\\n  2  3  1  0\\n  2 10  2  0\\n  3  9  1  0\\n  3 11  1  1\\n  4  5  1  0\\n  4  9  2  0\\n  5  6  2  0\\n  6  7  1  0\\n  7  8  2  0\\n  8  9  1  0\\n 11 12  2  0\\n 12 13  1  0\\n 13 14  2  0\\n 13 18  1  0\\n 14 15  1  0\\n 15 16  2  0\\n 16 17  1  0\\n 17 18  2  0\\nM  END\\n\",\"sdf\");\n\tviewer_16315526599944015.addModel(\"4fkp_B_LS5.pdb\\n     RDKit          3D\\n\\n 18 20  0  0  1  0  0  0  0  0999 V2000\\n    7.2744   -9.7710   27.4615 N   0  0  0  0  0  0  0  0  0  0  0  0\\n    8.2487   -9.0530   26.8918 C   0  0  0  0  0  0  0  0  0  0  0  0\\n    8.8444   -8.2069   27.8297 C   0  0  2  0  0  0  0  0  0  0  0  0\\n    8.2608   -7.8497   30.3245 C   0  0  0  0  0  0  0  0  0  0  0  0\\n    7.3786   -8.2715   31.3291 C   0  0  0  0  0  0  0  0  0  0  0  0\\n    6.4264   -9.2828   31.0863 C   0  0  0  0  0  0  0  0  0  0  0  0\\n    6.3032   -9.8060   29.7824 C   0  0  0  0  0  0  0  0  0  0  0  0\\n    7.1762   -9.3875   28.7752 C   0  0  0  0  0  0  0  0  0  0  0  0\\n    8.1221   -8.3778   29.0315 C   0  0  0  0  0  0  0  0  0  0  0  0\\n    8.6401   -9.1433   25.7199 O   0  0  0  0  0  0  0  0  0  0  0  0\\n    9.7678   -7.2012   27.5121 C   0  0  0  0  0  0  0  0  0  0  0  0\\n   10.2746   -7.0571   26.2750 N   0  0  0  0  0  0  0  0  0  0  0  0\\n   11.0830   -6.0505   25.8925 C   0  0  0  0  0  0  0  0  0  0  0  0\\n   11.0728   -4.8139   26.5721 C   0  0  0  0  0  0  0  0  0  0  0  0\\n   11.9209   -3.7808   26.1318 C   0  0  0  0  0  0  0  0  0  0  0  0\\n   12.7203   -3.9513   24.9950 C   0  0  0  0  0  0  0  0  0  0  0  0\\n   12.7019   -5.1563   24.2696 C   0  0  0  0  0  0  0  0  0  0  0  0\\n   11.8635   -6.1801   24.7344 C   0  0  0  0  0  0  0  0  0  0  0  0\\n  1  2  1  0\\n  1  8  1  0\\n  2  3  1  0\\n  2 10  2  0\\n  3  9  1  0\\n  3 11  1  6\\n  4  5  1  0\\n  4  9  2  0\\n  5  6  2  0\\n  6  7  1  0\\n  7  8  2  0\\n  8  9  1  0\\n 11 12  2  0\\n 12 13  1  0\\n 13 14  2  0\\n 13 18  1  0\\n 14 15  1  0\\n 15 16  2  0\\n 16 17  1  0\\n 17 18  2  0\\nM  END\\n\",\"sdf\");\n\tviewer_16315526599944015.addModel(\"4fkp_B_LS5.pdb\\n     RDKit          3D\\n\\n 25 27  0  0  1  0  0  0  0  0999 V2000\\n   10.6417   -4.0835   27.8633 N   0  0  0  0  0  0  0  0  0  0  0  0\\n   10.0065   -5.2357   28.1048 C   0  0  0  0  0  0  0  0  0  0  0  0\\n   10.3354   -6.1873   27.1370 C   0  0  2  0  0  0  0  0  0  0  0  0\\n   11.8520   -5.9557   25.0541 C   0  0  0  0  0  0  0  0  0  0  0  0\\n   12.6545   -5.0375   24.3624 C   0  0  0  0  0  0  0  0  0  0  0  0\\n   12.8641   -3.7339   24.8574 C   0  0  0  0  0  0  0  0  0  0  0  0\\n   12.1752   -3.3252   26.0183 C   0  0  0  0  0  0  0  0  0  0  0  0\\n   11.3705   -4.2335   26.7106 C   0  0  0  0  0  0  0  0  0  0  0  0\\n   11.1706   -5.5315   26.2056 C   0  0  0  0  0  0  0  0  0  0  0  0\\n    9.2747   -5.4833   29.0733 O   0  0  0  0  0  0  0  0  0  0  0  0\\n    9.7009   -7.4301   27.0036 C   0  0  0  0  0  0  0  0  0  0  0  0\\n    8.8040   -7.8777   27.8997 N   0  0  0  0  0  0  0  0  0  0  0  0\\n    8.0925   -9.0133   27.7674 C   0  0  0  0  0  0  0  0  0  0  0  0\\n    7.8420   -9.5680   26.4944 C   0  0  0  0  0  0  0  0  0  0  0  0\\n    7.0803  -10.7474   26.3965 C   0  0  0  0  0  0  0  0  0  0  0  0\\n    6.5221  -11.3316   27.5400 C   0  0  0  0  0  0  0  0  0  0  0  0\\n    6.7120  -10.7618   28.8118 C   0  0  0  0  0  0  0  0  0  0  0  0\\n    7.4887   -9.5966   28.8909 C   0  0  0  0  0  0  0  0  0  0  0  0\\n    5.5362  -12.7357   27.3173 S   0  0  0  0  0  0  0  0  0  0  0  0\\n    5.0634  -13.1935   28.6670 O   0  0  0  0  0  0  0  0  0  0  0  0\\n    4.4257  -12.3356   26.4057 O   0  0  0  0  0  0  0  0  0  0  0  0\\n    6.5288  -13.7720   26.5766 N   0  0  0  0  0  0  0  0  0  0  0  0\\n    7.5899  -14.3251   27.1977 C   0  0  0  0  0  0  0  0  0  0  0  0\\n    8.4253  -15.0901   26.5042 N   0  0  0  0  0  0  0  0  0  0  0  0\\n    7.8169  -14.1648   28.5056 N   0  0  0  0  0  0  0  0  0  0  0  0\\n  1  2  1  0\\n  1  8  1  0\\n  2  3  1  0\\n  2 10  2  0\\n  3  9  1  0\\n  3 11  1  6\\n  4  5  1  0\\n  4  9  2  0\\n  5  6  2  0\\n  6  7  1  0\\n  7  8  2  0\\n  8  9  1  0\\n 11 12  2  0\\n 12 13  1  0\\n 13 14  2  0\\n 13 18  1  0\\n 14 15  1  0\\n 15 16  2  0\\n 16 17  1  0\\n 16 19  1  0\\n 17 18  2  0\\n 19 20  2  0\\n 19 21  2  0\\n 19 22  1  0\\n 22 23  2  3\\n 23 24  1  0\\n 23 25  1  0\\nM  END\\n\",\"sdf\");\n\tviewer_16315526599944015.setStyle({\"model\": 0},{\"stick\": {\"colorscheme\": \"lightgreyCarbon\"}});\n\tviewer_16315526599944015.setStyle({\"model\": 1},{\"stick\": {\"colorscheme\": \"redCarbon\"}});\n\tviewer_16315526599944015.setStyle({\"model\": 2},{\"stick\": {\"colorscheme\": \"greyCarbon\"}});\n\tviewer_16315526599944015.zoomTo();\nviewer_16315526599944015.render();\n});\n</script>",
      "text/html": [
       "<div id=\"3dmolviewer_16315526599944015\"  style=\"position: relative; width: 640px; height: 480px\">\n",
       "        <p id=\"3dmolwarning_16315526599944015\" style=\"background-color:#ffcccc;color:black\">You appear to be running in JupyterLab (or JavaScript failed to load for some other reason).  You need to install the 3dmol extension: <br>\n",
       "        <tt>jupyter labextension install jupyterlab_3dmol</tt></p>\n",
       "        </div>\n",
       "<script>\n",
       "\n",
       "var loadScriptAsync = function(uri){\n",
       "  return new Promise((resolve, reject) => {\n",
       "    var tag = document.createElement('script');\n",
       "    tag.src = uri;\n",
       "    tag.async = true;\n",
       "    tag.onload = () => {\n",
       "      resolve();\n",
       "    };\n",
       "  var firstScriptTag = document.getElementsByTagName('script')[0];\n",
       "  firstScriptTag.parentNode.insertBefore(tag, firstScriptTag);\n",
       "});\n",
       "};\n",
       "\n",
       "if(typeof $3Dmolpromise === 'undefined') {\n",
       "$3Dmolpromise = null;\n",
       "  $3Dmolpromise = loadScriptAsync('https://3dmol.org/build/3Dmol.js');\n",
       "}\n",
       "\n",
       "var viewer_16315526599944015 = null;\n",
       "var warn = document.getElementById(\"3dmolwarning_16315526599944015\");\n",
       "if(warn) {\n",
       "    warn.parentNode.removeChild(warn);\n",
       "}\n",
       "$3Dmolpromise.then(function() {\n",
       "viewer_16315526599944015 = $3Dmol.createViewer($(\"#3dmolviewer_16315526599944015\"),{backgroundColor:\"white\"});\n",
       "viewer_16315526599944015.zoomTo();\n",
       "\tviewer_16315526599944015.addModel(\"4fkp_B_LS5.pdb\\n     RDKit          3D\\n\\n 18 20  0  0  1  0  0  0  0  0999 V2000\\n   24.2102  -11.4934   14.4683 N   0  0  0  0  0  0  0  0  0  0  0  0\\n   23.8092  -12.7693   14.4444 C   0  0  0  0  0  0  0  0  0  0  0  0\\n   23.5788  -13.1847   13.1311 C   0  0  2  0  0  0  0  0  0  0  0  0\\n   23.7516  -11.8393   10.9283 C   0  0  0  0  0  0  0  0  0  0  0  0\\n   24.0561  -10.5660   10.4267 C   0  0  0  0  0  0  0  0  0  0  0  0\\n   24.4880   -9.5299   11.2801 C   0  0  0  0  0  0  0  0  0  0  0  0\\n   24.5203   -9.7597   12.6713 C   0  0  0  0  0  0  0  0  0  0  0  0\\n   24.2142  -11.0249   13.1787 C   0  0  0  0  0  0  0  0  0  0  0  0\\n   23.7851  -12.0499   12.3156 C   0  0  0  0  0  0  0  0  0  0  0  0\\n   23.7073  -13.5268   15.4194 O   0  0  0  0  0  0  0  0  0  0  0  0\\n   22.9794  -14.4026   12.7815 C   0  0  0  0  0  0  0  0  0  0  0  0\\n   22.7005  -15.3524   13.6915 N   0  0  0  0  0  0  0  0  0  0  0  0\\n   22.0358  -16.4931   13.4268 C   0  0  0  0  0  0  0  0  0  0  0  0\\n   21.1497  -16.5788   12.3320 C   0  0  0  0  0  0  0  0  0  0  0  0\\n   20.4611  -17.7837   12.0980 C   0  0  0  0  0  0  0  0  0  0  0  0\\n   20.6016  -18.8662   12.9748 C   0  0  0  0  0  0  0  0  0  0  0  0\\n   21.4357  -18.7811   14.1042 C   0  0  0  0  0  0  0  0  0  0  0  0\\n   22.1271  -17.5784   14.3105 C   0  0  0  0  0  0  0  0  0  0  0  0\\n  1  2  1  0\\n  1  8  1  0\\n  2  3  1  0\\n  2 10  2  0\\n  3  9  1  0\\n  3 11  1  1\\n  4  5  1  0\\n  4  9  2  0\\n  5  6  2  0\\n  6  7  1  0\\n  7  8  2  0\\n  8  9  1  0\\n 11 12  2  0\\n 12 13  1  0\\n 13 14  2  0\\n 13 18  1  0\\n 14 15  1  0\\n 15 16  2  0\\n 16 17  1  0\\n 17 18  2  0\\nM  END\\n\",\"sdf\");\n",
       "\tviewer_16315526599944015.addModel(\"4fkp_B_LS5.pdb\\n     RDKit          3D\\n\\n 18 20  0  0  1  0  0  0  0  0999 V2000\\n    7.2744   -9.7710   27.4615 N   0  0  0  0  0  0  0  0  0  0  0  0\\n    8.2487   -9.0530   26.8918 C   0  0  0  0  0  0  0  0  0  0  0  0\\n    8.8444   -8.2069   27.8297 C   0  0  2  0  0  0  0  0  0  0  0  0\\n    8.2608   -7.8497   30.3245 C   0  0  0  0  0  0  0  0  0  0  0  0\\n    7.3786   -8.2715   31.3291 C   0  0  0  0  0  0  0  0  0  0  0  0\\n    6.4264   -9.2828   31.0863 C   0  0  0  0  0  0  0  0  0  0  0  0\\n    6.3032   -9.8060   29.7824 C   0  0  0  0  0  0  0  0  0  0  0  0\\n    7.1762   -9.3875   28.7752 C   0  0  0  0  0  0  0  0  0  0  0  0\\n    8.1221   -8.3778   29.0315 C   0  0  0  0  0  0  0  0  0  0  0  0\\n    8.6401   -9.1433   25.7199 O   0  0  0  0  0  0  0  0  0  0  0  0\\n    9.7678   -7.2012   27.5121 C   0  0  0  0  0  0  0  0  0  0  0  0\\n   10.2746   -7.0571   26.2750 N   0  0  0  0  0  0  0  0  0  0  0  0\\n   11.0830   -6.0505   25.8925 C   0  0  0  0  0  0  0  0  0  0  0  0\\n   11.0728   -4.8139   26.5721 C   0  0  0  0  0  0  0  0  0  0  0  0\\n   11.9209   -3.7808   26.1318 C   0  0  0  0  0  0  0  0  0  0  0  0\\n   12.7203   -3.9513   24.9950 C   0  0  0  0  0  0  0  0  0  0  0  0\\n   12.7019   -5.1563   24.2696 C   0  0  0  0  0  0  0  0  0  0  0  0\\n   11.8635   -6.1801   24.7344 C   0  0  0  0  0  0  0  0  0  0  0  0\\n  1  2  1  0\\n  1  8  1  0\\n  2  3  1  0\\n  2 10  2  0\\n  3  9  1  0\\n  3 11  1  6\\n  4  5  1  0\\n  4  9  2  0\\n  5  6  2  0\\n  6  7  1  0\\n  7  8  2  0\\n  8  9  1  0\\n 11 12  2  0\\n 12 13  1  0\\n 13 14  2  0\\n 13 18  1  0\\n 14 15  1  0\\n 15 16  2  0\\n 16 17  1  0\\n 17 18  2  0\\nM  END\\n\",\"sdf\");\n",
       "\tviewer_16315526599944015.addModel(\"4fkp_B_LS5.pdb\\n     RDKit          3D\\n\\n 25 27  0  0  1  0  0  0  0  0999 V2000\\n   10.6417   -4.0835   27.8633 N   0  0  0  0  0  0  0  0  0  0  0  0\\n   10.0065   -5.2357   28.1048 C   0  0  0  0  0  0  0  0  0  0  0  0\\n   10.3354   -6.1873   27.1370 C   0  0  2  0  0  0  0  0  0  0  0  0\\n   11.8520   -5.9557   25.0541 C   0  0  0  0  0  0  0  0  0  0  0  0\\n   12.6545   -5.0375   24.3624 C   0  0  0  0  0  0  0  0  0  0  0  0\\n   12.8641   -3.7339   24.8574 C   0  0  0  0  0  0  0  0  0  0  0  0\\n   12.1752   -3.3252   26.0183 C   0  0  0  0  0  0  0  0  0  0  0  0\\n   11.3705   -4.2335   26.7106 C   0  0  0  0  0  0  0  0  0  0  0  0\\n   11.1706   -5.5315   26.2056 C   0  0  0  0  0  0  0  0  0  0  0  0\\n    9.2747   -5.4833   29.0733 O   0  0  0  0  0  0  0  0  0  0  0  0\\n    9.7009   -7.4301   27.0036 C   0  0  0  0  0  0  0  0  0  0  0  0\\n    8.8040   -7.8777   27.8997 N   0  0  0  0  0  0  0  0  0  0  0  0\\n    8.0925   -9.0133   27.7674 C   0  0  0  0  0  0  0  0  0  0  0  0\\n    7.8420   -9.5680   26.4944 C   0  0  0  0  0  0  0  0  0  0  0  0\\n    7.0803  -10.7474   26.3965 C   0  0  0  0  0  0  0  0  0  0  0  0\\n    6.5221  -11.3316   27.5400 C   0  0  0  0  0  0  0  0  0  0  0  0\\n    6.7120  -10.7618   28.8118 C   0  0  0  0  0  0  0  0  0  0  0  0\\n    7.4887   -9.5966   28.8909 C   0  0  0  0  0  0  0  0  0  0  0  0\\n    5.5362  -12.7357   27.3173 S   0  0  0  0  0  0  0  0  0  0  0  0\\n    5.0634  -13.1935   28.6670 O   0  0  0  0  0  0  0  0  0  0  0  0\\n    4.4257  -12.3356   26.4057 O   0  0  0  0  0  0  0  0  0  0  0  0\\n    6.5288  -13.7720   26.5766 N   0  0  0  0  0  0  0  0  0  0  0  0\\n    7.5899  -14.3251   27.1977 C   0  0  0  0  0  0  0  0  0  0  0  0\\n    8.4253  -15.0901   26.5042 N   0  0  0  0  0  0  0  0  0  0  0  0\\n    7.8169  -14.1648   28.5056 N   0  0  0  0  0  0  0  0  0  0  0  0\\n  1  2  1  0\\n  1  8  1  0\\n  2  3  1  0\\n  2 10  2  0\\n  3  9  1  0\\n  3 11  1  6\\n  4  5  1  0\\n  4  9  2  0\\n  5  6  2  0\\n  6  7  1  0\\n  7  8  2  0\\n  8  9  1  0\\n 11 12  2  0\\n 12 13  1  0\\n 13 14  2  0\\n 13 18  1  0\\n 14 15  1  0\\n 15 16  2  0\\n 16 17  1  0\\n 16 19  1  0\\n 17 18  2  0\\n 19 20  2  0\\n 19 21  2  0\\n 19 22  1  0\\n 22 23  2  3\\n 23 24  1  0\\n 23 25  1  0\\nM  END\\n\",\"sdf\");\n",
       "\tviewer_16315526599944015.setStyle({\"model\": 0},{\"stick\": {\"colorscheme\": \"lightgreyCarbon\"}});\n",
       "\tviewer_16315526599944015.setStyle({\"model\": 1},{\"stick\": {\"colorscheme\": \"redCarbon\"}});\n",
       "\tviewer_16315526599944015.setStyle({\"model\": 2},{\"stick\": {\"colorscheme\": \"greyCarbon\"}});\n",
       "\tviewer_16315526599944015.zoomTo();\n",
       "viewer_16315526599944015.render();\n",
       "});\n",
       "</script>"
      ]
     },
     "metadata": {},
     "output_type": "display_data"
    },
    {
     "data": {
      "text/plain": [
       "<py3Dmol.view at 0x7f8c64d32d30>"
      ]
     },
     "execution_count": 30,
     "metadata": {},
     "output_type": "execute_result"
    }
   ],
   "source": [
    "molid = 8\n",
    "als = AlignShow([mols[molid], mkmols[molid]], [pcds[molid], mkpcds[molid]])\n",
    "s = als.align(1, 0)\n",
    "print(\"Score:\", s)\n",
    "als.save(1, 0, f\"murcko_self_{molid}.sdf\")\n",
    "als.show(1, 0)"
   ]
  },
  {
   "cell_type": "code",
   "execution_count": 31,
   "metadata": {},
   "outputs": [
    {
     "name": "stderr",
     "output_type": "stream",
     "text": [
      "RDKit ERROR: [18:04:35] Can't kekulize mol.  Unkekulized atoms: 27 28 29 30 32\n",
      "RDKit ERROR: \n"
     ]
    },
    {
     "ename": "KekulizeException",
     "evalue": "Can't kekulize mol.  Unkekulized atoms: 27 28 29 30 32\n",
     "output_type": "error",
     "traceback": [
      "\u001b[0;31m---------------------------------------------------------------------------\u001b[0m",
      "\u001b[0;31mKekulizeException\u001b[0m                         Traceback (most recent call last)",
      "\u001b[0;32m<ipython-input-31-4f61540526b3>\u001b[0m in \u001b[0;36m<module>\u001b[0;34m\u001b[0m\n\u001b[0;32m----> 1\u001b[0;31m \u001b[0mrdmol8\u001b[0m \u001b[0;34m=\u001b[0m \u001b[0mreconstruction\u001b[0m\u001b[0;34m(\u001b[0m\u001b[0;34m\"murcko_self_8.sdf\"\u001b[0m\u001b[0;34m)\u001b[0m\u001b[0;34m\u001b[0m\u001b[0;34m\u001b[0m\u001b[0m\n\u001b[0m\u001b[1;32m      2\u001b[0m \u001b[0mshow_all_conformers\u001b[0m\u001b[0;34m(\u001b[0m\u001b[0mrdmol8\u001b[0m\u001b[0;34m)\u001b[0m\u001b[0;34m\u001b[0m\u001b[0;34m\u001b[0m\u001b[0m\n",
      "\u001b[0;32m<ipython-input-13-ef02c1abe8fa>\u001b[0m in \u001b[0;36mreconstruction\u001b[0;34m(fname, verbose)\u001b[0m\n\u001b[1;32m     23\u001b[0m     \u001b[0;31m# Fit atoms into density difference\u001b[0m\u001b[0;34m\u001b[0m\u001b[0;34m\u001b[0m\u001b[0;34m\u001b[0m\u001b[0m\n\u001b[1;32m     24\u001b[0m     \u001b[0;31m# Link nearest atom from the fit to the scaffold to build whole molecule\u001b[0m\u001b[0;34m\u001b[0m\u001b[0;34m\u001b[0m\u001b[0;34m\u001b[0m\u001b[0m\n\u001b[0;32m---> 25\u001b[0;31m     \u001b[0mrdmolfinal\u001b[0m \u001b[0;34m=\u001b[0m \u001b[0mmolgrid_diff_to_mol\u001b[0m\u001b[0;34m(\u001b[0m\u001b[0mnpgdiff\u001b[0m\u001b[0;34m,\u001b[0m \u001b[0mc\u001b[0m\u001b[0;34m,\u001b[0m \u001b[0;36m0.5\u001b[0m\u001b[0;34m,\u001b[0m \u001b[0;34m\"../files/ligmap\"\u001b[0m\u001b[0;34m,\u001b[0m \u001b[0mrdscaffold\u001b[0m\u001b[0;34m,\u001b[0m \u001b[0mverbose\u001b[0m\u001b[0;34m=\u001b[0m\u001b[0mverbose\u001b[0m\u001b[0;34m)\u001b[0m\u001b[0;34m\u001b[0m\u001b[0;34m\u001b[0m\u001b[0m\n\u001b[0m\u001b[1;32m     26\u001b[0m \u001b[0;34m\u001b[0m\u001b[0m\n\u001b[1;32m     27\u001b[0m     \u001b[0;32mreturn\u001b[0m \u001b[0mrdmolfinal\u001b[0m\u001b[0;34m\u001b[0m\u001b[0;34m\u001b[0m\u001b[0m\n",
      "\u001b[0;32m~/Documents/git/densitymatch/fit_to_grid.py\u001b[0m in \u001b[0;36mmolgrid_diff_to_mol\u001b[0;34m(diff, center, resolution, ligmap, scaffold, verbose)\u001b[0m\n\u001b[1;32m    239\u001b[0m         \u001b[0mrdmolfinal\u001b[0m\u001b[0;34m,\u001b[0m\u001b[0;34m\u001b[0m\u001b[0;34m\u001b[0m\u001b[0m\n\u001b[1;32m    240\u001b[0m         sanitizeOps=(\n\u001b[0;32m--> 241\u001b[0;31m             \u001b[0mChem\u001b[0m\u001b[0;34m.\u001b[0m\u001b[0mSANITIZE_ALL\u001b[0m \u001b[0;34m^\u001b[0m \u001b[0mChem\u001b[0m\u001b[0;34m.\u001b[0m\u001b[0mSANITIZE_CLEANUP\u001b[0m \u001b[0;34m^\u001b[0m \u001b[0mChem\u001b[0m\u001b[0;34m.\u001b[0m\u001b[0mSANITIZE_PROPERTIES\u001b[0m\u001b[0;34m\u001b[0m\u001b[0;34m\u001b[0m\u001b[0m\n\u001b[0m\u001b[1;32m    242\u001b[0m         ),\n\u001b[1;32m    243\u001b[0m     )\n",
      "\u001b[0;31mKekulizeException\u001b[0m: Can't kekulize mol.  Unkekulized atoms: 27 28 29 30 32\n"
     ]
    }
   ],
   "source": [
    "rdmol8 = reconstruction(\"murcko_self_8.sdf\")\n",
    "show_all_conformers(rdmol8)"
   ]
  },
  {
   "cell_type": "code",
   "execution_count": 32,
   "metadata": {},
   "outputs": [
    {
     "name": "stdout",
     "output_type": "stream",
     "text": [
      "Score: 0.5165876777251185\n"
     ]
    },
    {
     "data": {
      "application/3dmoljs_load.v0": "<div id=\"3dmolviewer_16315527123590863\"  style=\"position: relative; width: 640px; height: 480px\">\n        <p id=\"3dmolwarning_16315527123590863\" style=\"background-color:#ffcccc;color:black\">You appear to be running in JupyterLab (or JavaScript failed to load for some other reason).  You need to install the 3dmol extension: <br>\n        <tt>jupyter labextension install jupyterlab_3dmol</tt></p>\n        </div>\n<script>\n\nvar loadScriptAsync = function(uri){\n  return new Promise((resolve, reject) => {\n    var tag = document.createElement('script');\n    tag.src = uri;\n    tag.async = true;\n    tag.onload = () => {\n      resolve();\n    };\n  var firstScriptTag = document.getElementsByTagName('script')[0];\n  firstScriptTag.parentNode.insertBefore(tag, firstScriptTag);\n});\n};\n\nif(typeof $3Dmolpromise === 'undefined') {\n$3Dmolpromise = null;\n  $3Dmolpromise = loadScriptAsync('https://3dmol.org/build/3Dmol.js');\n}\n\nvar viewer_16315527123590863 = null;\nvar warn = document.getElementById(\"3dmolwarning_16315527123590863\");\nif(warn) {\n    warn.parentNode.removeChild(warn);\n}\n$3Dmolpromise.then(function() {\nviewer_16315527123590863 = $3Dmol.createViewer($(\"#3dmolviewer_16315527123590863\"),{backgroundColor:\"white\"});\nviewer_16315527123590863.zoomTo();\n\tviewer_16315527123590863.addModel(\"4fkq_B_42K.pdb\\n     RDKit          3D\\n\\n 21 24  0  0  1  0  0  0  0  0999 V2000\\n    3.1452   33.0418   -2.0757 N   0  0  0  0  0  0  0  0  0  0  0  0\\n    2.6172   30.7140    2.8159 N   0  0  0  0  0  0  0  0  0  0  0  0\\n    1.3721   30.8012    2.8436 N   0  0  0  0  0  0  0  0  0  0  0  0\\n    0.8930   31.3189    1.8050 N   0  0  0  0  0  0  0  0  0  0  0  0\\n   -0.2551   32.8020   -1.1744 N   0  0  0  0  0  0  0  0  0  0  0  0\\n   -0.9639   33.1748   -2.1370 N   0  0  0  0  0  0  0  0  0  0  0  0\\n    1.3868   33.7683   -3.3462 O   0  0  0  0  0  0  0  0  0  0  0  0\\n   -2.9754   32.2418   -1.2125 C   0  0  0  0  0  0  0  0  0  0  0  0\\n   -3.0533   33.7075   -3.1449 C   0  0  0  0  0  0  0  0  0  0  0  0\\n   -4.3683   32.1016   -1.2658 C   0  0  0  0  0  0  0  0  0  0  0  0\\n   -4.4410   33.5757   -3.1990 C   0  0  0  0  0  0  0  0  0  0  0  0\\n    4.3185   31.4488    1.1195 C   0  0  0  0  0  0  0  0  0  0  0  0\\n    4.4212   32.0552   -0.1542 C   0  0  0  0  0  0  0  0  0  0  0  0\\n   -2.3155   33.0741   -2.1354 C   0  0  0  0  0  0  0  0  0  0  0  0\\n   -5.0892   32.7672   -2.2613 C   0  0  0  0  0  0  0  0  0  0  0  0\\n    1.8529   33.3070   -2.2883 C   0  0  0  0  0  0  0  0  0  0  0  0\\n    1.1017   32.8620   -1.2018 C   0  0  0  0  0  0  0  0  0  0  0  0\\n    3.0541   31.2909    1.6830 C   0  0  1  0  0  0  0  0  0  0  0  0\\n    3.2739   32.4855   -0.8519 C   0  0  0  0  0  0  0  0  0  0  0  0\\n    1.9030   31.6529    0.9728 C   0  0  0  0  0  0  0  0  0  0  0  0\\n    2.0038   32.3137   -0.2766 C   0  0  0  0  0  0  0  0  0  0  0  0\\n  1 16  1  0\\n  1 19  1  0\\n  2  3  2  0\\n  2 18  1  0\\n  3  4  1  0\\n  4 20  2  0\\n  5  6  1  0\\n  5 17  2  0\\n  6 14  1  0\\n  7 16  2  0\\n  8 10  2  0\\n  8 14  1  0\\n  9 11  1  0\\n  9 14  2  0\\n 10 15  1  0\\n 11 15  2  0\\n 12 13  2  0\\n 13 19  1  0\\n 16 17  1  0\\n 17 21  1  0\\n 18 12  1  6\\n 18 20  1  0\\n 19 21  2  0\\n 20 21  1  0\\nM  END\\n\",\"sdf\");\n\tviewer_16315527123590863.addModel(\"4fkq_B_42K.pdb\\n     RDKit          3D\\n\\n 21 24  0  0  1  0  0  0  0  0999 V2000\\n   17.1602  -10.6967   27.4988 N   0  0  0  0  0  0  0  0  0  0  0  0\\n   19.9474   -8.5200   23.3613 N   0  0  0  0  0  0  0  0  0  0  0  0\\n   19.8335   -7.3428   23.7613 N   0  0  0  0  0  0  0  0  0  0  0  0\\n   19.2042   -7.2508   24.8438 N   0  0  0  0  0  0  0  0  0  0  0  0\\n   17.4064   -7.1991   27.8703 N   0  0  0  0  0  0  0  0  0  0  0  0\\n   16.9233   -6.8671   28.9768 N   0  0  0  0  0  0  0  0  0  0  0  0\\n   16.2696   -9.4848   29.2228 O   0  0  0  0  0  0  0  0  0  0  0  0\\n   17.8946   -4.6709   28.9120 C   0  0  0  0  0  0  0  0  0  0  0  0\\n   16.2434   -5.2557   30.5913 C   0  0  0  0  0  0  0  0  0  0  0  0\\n   17.9954   -3.3863   29.4621 C   0  0  0  0  0  0  0  0  0  0  0  0\\n   16.3359   -3.9763   31.1394 C   0  0  0  0  0  0  0  0  0  0  0  0\\n   19.0894  -10.6979   24.2736 C   0  0  0  0  0  0  0  0  0  0  0  0\\n   18.3625  -11.2321   25.3630 C   0  0  0  0  0  0  0  0  0  0  0  0\\n   16.9912   -5.6016   29.4573 C   0  0  0  0  0  0  0  0  0  0  0  0\\n   17.2174   -3.0510   30.5738 C   0  0  0  0  0  0  0  0  0  0  0  0\\n   16.8444   -9.5572   28.1212 C   0  0  0  0  0  0  0  0  0  0  0  0\\n   17.3766   -8.4789   27.4162 C   0  0  0  0  0  0  0  0  0  0  0  0\\n   19.2719   -9.3183   24.2059 C   0  0  1  0  0  0  0  0  0  0  0  0\\n   17.8379  -10.3961   26.3700 C   0  0  0  0  0  0  0  0  0  0  0  0\\n   18.8138   -8.4839   25.2328 C   0  0  0  0  0  0  0  0  0  0  0  0\\n   18.0352   -9.0072   26.2948 C   0  0  0  0  0  0  0  0  0  0  0  0\\n  1 16  1  0\\n  1 19  1  0\\n  2  3  2  0\\n  2 18  1  0\\n  3  4  1  0\\n  4 20  2  0\\n  5  6  1  0\\n  5 17  2  0\\n  6 14  1  0\\n  7 16  2  0\\n  8 10  2  0\\n  8 14  1  0\\n  9 11  1  0\\n  9 14  2  0\\n 10 15  1  0\\n 11 15  2  0\\n 12 13  2  0\\n 13 19  1  0\\n 16 17  1  0\\n 17 21  1  0\\n 18 12  1  1\\n 18 20  1  0\\n 19 21  2  0\\n 20 21  1  0\\nM  END\\n\",\"sdf\");\n\tviewer_16315527123590863.addModel(\"4fkq_B_42K.pdb\\n     RDKit          3D\\n\\n 25 28  0  0  1  0  0  0  0  0999 V2000\\n   16.7760   -8.5868   28.5622 N   0  0  0  0  0  0  0  0  0  0  0  0\\n   19.6149   -6.9243   24.2260 N   0  0  0  0  0  0  0  0  0  0  0  0\\n   19.7584   -8.0677   23.7456 N   0  0  0  0  0  0  0  0  0  0  0  0\\n   19.2030   -8.9613   24.4306 N   0  0  0  0  0  0  0  0  0  0  0  0\\n   17.5955  -11.3202   26.4912 N   0  0  0  0  0  0  0  0  0  0  0  0\\n   17.0376  -12.3517   26.9302 N   0  0  0  0  0  0  0  0  0  0  0  0\\n   17.6507  -17.4866   22.6868 N   0  0  0  0  0  0  0  0  0  0  0  0\\n   16.2161  -10.7674   28.9687 O   0  0  0  0  0  0  0  0  0  0  0  0\\n   17.2732  -18.6112   24.9895 O   0  0  0  0  0  0  0  0  0  0  0  0\\n   15.4061  -17.6867   23.7623 O   0  0  0  0  0  0  0  0  0  0  0  0\\n   17.4157  -13.5977   24.9113 C   0  0  0  0  0  0  0  0  0  0  0  0\\n   16.6100  -14.6931   26.9211 C   0  0  0  0  0  0  0  0  0  0  0  0\\n   17.3758  -14.8218   24.2311 C   0  0  0  0  0  0  0  0  0  0  0  0\\n   16.5737  -15.9155   26.2500 C   0  0  0  0  0  0  0  0  0  0  0  0\\n   18.5020   -6.1085   26.3255 C   0  0  0  0  0  0  0  0  0  0  0  0\\n   17.7650   -6.5728   27.4399 C   0  0  0  0  0  0  0  0  0  0  0  0\\n   17.0627  -13.5362   26.2720 C   0  0  0  0  0  0  0  0  0  0  0  0\\n   16.9514  -15.9701   24.9056 C   0  0  0  0  0  0  0  0  0  0  0  0\\n   16.8192   -9.8987   28.3123 C   0  0  0  0  0  0  0  0  0  0  0  0\\n   17.5262  -10.1247   27.1325 C   0  0  0  0  0  0  0  0  0  0  0  0\\n   18.9597   -7.0383   25.3943 C   0  0  1  0  0  0  0  0  0  0  0  0\\n   17.4853   -7.9444   27.6093 C   0  0  0  0  0  0  0  0  0  0  0  0\\n   18.6324   -8.3942   25.5155 C   0  0  0  0  0  0  0  0  0  0  0  0\\n   17.9456   -8.8714   26.6593 C   0  0  0  0  0  0  0  0  0  0  0  0\\n   16.8398  -17.5050   24.0883 S   0  0  0  0  0  0  0  0  0  0  0  0\\n  1 19  1  0\\n  1 22  1  0\\n  2  3  2  0\\n  2 21  1  0\\n  3  4  1  0\\n  4 23  2  0\\n  5  6  1  0\\n  5 20  2  0\\n  6 17  1  0\\n  7 25  1  0\\n  8 19  2  0\\n  9 25  2  0\\n 10 25  2  0\\n 11 13  2  0\\n 11 17  1  0\\n 12 14  1  0\\n 12 17  2  0\\n 13 18  1  0\\n 14 18  2  0\\n 15 16  2  0\\n 16 22  1  0\\n 18 25  1  0\\n 19 20  1  0\\n 20 24  1  0\\n 21 15  1  6\\n 21 23  1  0\\n 22 24  2  0\\n 23 24  1  0\\nM  END\\n\",\"sdf\");\n\tviewer_16315527123590863.setStyle({\"model\": 0},{\"stick\": {\"colorscheme\": \"lightgreyCarbon\"}});\n\tviewer_16315527123590863.setStyle({\"model\": 1},{\"stick\": {\"colorscheme\": \"redCarbon\"}});\n\tviewer_16315527123590863.setStyle({\"model\": 2},{\"stick\": {\"colorscheme\": \"greyCarbon\"}});\n\tviewer_16315527123590863.zoomTo();\nviewer_16315527123590863.render();\n});\n</script>",
      "text/html": [
       "<div id=\"3dmolviewer_16315527123590863\"  style=\"position: relative; width: 640px; height: 480px\">\n",
       "        <p id=\"3dmolwarning_16315527123590863\" style=\"background-color:#ffcccc;color:black\">You appear to be running in JupyterLab (or JavaScript failed to load for some other reason).  You need to install the 3dmol extension: <br>\n",
       "        <tt>jupyter labextension install jupyterlab_3dmol</tt></p>\n",
       "        </div>\n",
       "<script>\n",
       "\n",
       "var loadScriptAsync = function(uri){\n",
       "  return new Promise((resolve, reject) => {\n",
       "    var tag = document.createElement('script');\n",
       "    tag.src = uri;\n",
       "    tag.async = true;\n",
       "    tag.onload = () => {\n",
       "      resolve();\n",
       "    };\n",
       "  var firstScriptTag = document.getElementsByTagName('script')[0];\n",
       "  firstScriptTag.parentNode.insertBefore(tag, firstScriptTag);\n",
       "});\n",
       "};\n",
       "\n",
       "if(typeof $3Dmolpromise === 'undefined') {\n",
       "$3Dmolpromise = null;\n",
       "  $3Dmolpromise = loadScriptAsync('https://3dmol.org/build/3Dmol.js');\n",
       "}\n",
       "\n",
       "var viewer_16315527123590863 = null;\n",
       "var warn = document.getElementById(\"3dmolwarning_16315527123590863\");\n",
       "if(warn) {\n",
       "    warn.parentNode.removeChild(warn);\n",
       "}\n",
       "$3Dmolpromise.then(function() {\n",
       "viewer_16315527123590863 = $3Dmol.createViewer($(\"#3dmolviewer_16315527123590863\"),{backgroundColor:\"white\"});\n",
       "viewer_16315527123590863.zoomTo();\n",
       "\tviewer_16315527123590863.addModel(\"4fkq_B_42K.pdb\\n     RDKit          3D\\n\\n 21 24  0  0  1  0  0  0  0  0999 V2000\\n    3.1452   33.0418   -2.0757 N   0  0  0  0  0  0  0  0  0  0  0  0\\n    2.6172   30.7140    2.8159 N   0  0  0  0  0  0  0  0  0  0  0  0\\n    1.3721   30.8012    2.8436 N   0  0  0  0  0  0  0  0  0  0  0  0\\n    0.8930   31.3189    1.8050 N   0  0  0  0  0  0  0  0  0  0  0  0\\n   -0.2551   32.8020   -1.1744 N   0  0  0  0  0  0  0  0  0  0  0  0\\n   -0.9639   33.1748   -2.1370 N   0  0  0  0  0  0  0  0  0  0  0  0\\n    1.3868   33.7683   -3.3462 O   0  0  0  0  0  0  0  0  0  0  0  0\\n   -2.9754   32.2418   -1.2125 C   0  0  0  0  0  0  0  0  0  0  0  0\\n   -3.0533   33.7075   -3.1449 C   0  0  0  0  0  0  0  0  0  0  0  0\\n   -4.3683   32.1016   -1.2658 C   0  0  0  0  0  0  0  0  0  0  0  0\\n   -4.4410   33.5757   -3.1990 C   0  0  0  0  0  0  0  0  0  0  0  0\\n    4.3185   31.4488    1.1195 C   0  0  0  0  0  0  0  0  0  0  0  0\\n    4.4212   32.0552   -0.1542 C   0  0  0  0  0  0  0  0  0  0  0  0\\n   -2.3155   33.0741   -2.1354 C   0  0  0  0  0  0  0  0  0  0  0  0\\n   -5.0892   32.7672   -2.2613 C   0  0  0  0  0  0  0  0  0  0  0  0\\n    1.8529   33.3070   -2.2883 C   0  0  0  0  0  0  0  0  0  0  0  0\\n    1.1017   32.8620   -1.2018 C   0  0  0  0  0  0  0  0  0  0  0  0\\n    3.0541   31.2909    1.6830 C   0  0  1  0  0  0  0  0  0  0  0  0\\n    3.2739   32.4855   -0.8519 C   0  0  0  0  0  0  0  0  0  0  0  0\\n    1.9030   31.6529    0.9728 C   0  0  0  0  0  0  0  0  0  0  0  0\\n    2.0038   32.3137   -0.2766 C   0  0  0  0  0  0  0  0  0  0  0  0\\n  1 16  1  0\\n  1 19  1  0\\n  2  3  2  0\\n  2 18  1  0\\n  3  4  1  0\\n  4 20  2  0\\n  5  6  1  0\\n  5 17  2  0\\n  6 14  1  0\\n  7 16  2  0\\n  8 10  2  0\\n  8 14  1  0\\n  9 11  1  0\\n  9 14  2  0\\n 10 15  1  0\\n 11 15  2  0\\n 12 13  2  0\\n 13 19  1  0\\n 16 17  1  0\\n 17 21  1  0\\n 18 12  1  6\\n 18 20  1  0\\n 19 21  2  0\\n 20 21  1  0\\nM  END\\n\",\"sdf\");\n",
       "\tviewer_16315527123590863.addModel(\"4fkq_B_42K.pdb\\n     RDKit          3D\\n\\n 21 24  0  0  1  0  0  0  0  0999 V2000\\n   17.1602  -10.6967   27.4988 N   0  0  0  0  0  0  0  0  0  0  0  0\\n   19.9474   -8.5200   23.3613 N   0  0  0  0  0  0  0  0  0  0  0  0\\n   19.8335   -7.3428   23.7613 N   0  0  0  0  0  0  0  0  0  0  0  0\\n   19.2042   -7.2508   24.8438 N   0  0  0  0  0  0  0  0  0  0  0  0\\n   17.4064   -7.1991   27.8703 N   0  0  0  0  0  0  0  0  0  0  0  0\\n   16.9233   -6.8671   28.9768 N   0  0  0  0  0  0  0  0  0  0  0  0\\n   16.2696   -9.4848   29.2228 O   0  0  0  0  0  0  0  0  0  0  0  0\\n   17.8946   -4.6709   28.9120 C   0  0  0  0  0  0  0  0  0  0  0  0\\n   16.2434   -5.2557   30.5913 C   0  0  0  0  0  0  0  0  0  0  0  0\\n   17.9954   -3.3863   29.4621 C   0  0  0  0  0  0  0  0  0  0  0  0\\n   16.3359   -3.9763   31.1394 C   0  0  0  0  0  0  0  0  0  0  0  0\\n   19.0894  -10.6979   24.2736 C   0  0  0  0  0  0  0  0  0  0  0  0\\n   18.3625  -11.2321   25.3630 C   0  0  0  0  0  0  0  0  0  0  0  0\\n   16.9912   -5.6016   29.4573 C   0  0  0  0  0  0  0  0  0  0  0  0\\n   17.2174   -3.0510   30.5738 C   0  0  0  0  0  0  0  0  0  0  0  0\\n   16.8444   -9.5572   28.1212 C   0  0  0  0  0  0  0  0  0  0  0  0\\n   17.3766   -8.4789   27.4162 C   0  0  0  0  0  0  0  0  0  0  0  0\\n   19.2719   -9.3183   24.2059 C   0  0  1  0  0  0  0  0  0  0  0  0\\n   17.8379  -10.3961   26.3700 C   0  0  0  0  0  0  0  0  0  0  0  0\\n   18.8138   -8.4839   25.2328 C   0  0  0  0  0  0  0  0  0  0  0  0\\n   18.0352   -9.0072   26.2948 C   0  0  0  0  0  0  0  0  0  0  0  0\\n  1 16  1  0\\n  1 19  1  0\\n  2  3  2  0\\n  2 18  1  0\\n  3  4  1  0\\n  4 20  2  0\\n  5  6  1  0\\n  5 17  2  0\\n  6 14  1  0\\n  7 16  2  0\\n  8 10  2  0\\n  8 14  1  0\\n  9 11  1  0\\n  9 14  2  0\\n 10 15  1  0\\n 11 15  2  0\\n 12 13  2  0\\n 13 19  1  0\\n 16 17  1  0\\n 17 21  1  0\\n 18 12  1  1\\n 18 20  1  0\\n 19 21  2  0\\n 20 21  1  0\\nM  END\\n\",\"sdf\");\n",
       "\tviewer_16315527123590863.addModel(\"4fkq_B_42K.pdb\\n     RDKit          3D\\n\\n 25 28  0  0  1  0  0  0  0  0999 V2000\\n   16.7760   -8.5868   28.5622 N   0  0  0  0  0  0  0  0  0  0  0  0\\n   19.6149   -6.9243   24.2260 N   0  0  0  0  0  0  0  0  0  0  0  0\\n   19.7584   -8.0677   23.7456 N   0  0  0  0  0  0  0  0  0  0  0  0\\n   19.2030   -8.9613   24.4306 N   0  0  0  0  0  0  0  0  0  0  0  0\\n   17.5955  -11.3202   26.4912 N   0  0  0  0  0  0  0  0  0  0  0  0\\n   17.0376  -12.3517   26.9302 N   0  0  0  0  0  0  0  0  0  0  0  0\\n   17.6507  -17.4866   22.6868 N   0  0  0  0  0  0  0  0  0  0  0  0\\n   16.2161  -10.7674   28.9687 O   0  0  0  0  0  0  0  0  0  0  0  0\\n   17.2732  -18.6112   24.9895 O   0  0  0  0  0  0  0  0  0  0  0  0\\n   15.4061  -17.6867   23.7623 O   0  0  0  0  0  0  0  0  0  0  0  0\\n   17.4157  -13.5977   24.9113 C   0  0  0  0  0  0  0  0  0  0  0  0\\n   16.6100  -14.6931   26.9211 C   0  0  0  0  0  0  0  0  0  0  0  0\\n   17.3758  -14.8218   24.2311 C   0  0  0  0  0  0  0  0  0  0  0  0\\n   16.5737  -15.9155   26.2500 C   0  0  0  0  0  0  0  0  0  0  0  0\\n   18.5020   -6.1085   26.3255 C   0  0  0  0  0  0  0  0  0  0  0  0\\n   17.7650   -6.5728   27.4399 C   0  0  0  0  0  0  0  0  0  0  0  0\\n   17.0627  -13.5362   26.2720 C   0  0  0  0  0  0  0  0  0  0  0  0\\n   16.9514  -15.9701   24.9056 C   0  0  0  0  0  0  0  0  0  0  0  0\\n   16.8192   -9.8987   28.3123 C   0  0  0  0  0  0  0  0  0  0  0  0\\n   17.5262  -10.1247   27.1325 C   0  0  0  0  0  0  0  0  0  0  0  0\\n   18.9597   -7.0383   25.3943 C   0  0  1  0  0  0  0  0  0  0  0  0\\n   17.4853   -7.9444   27.6093 C   0  0  0  0  0  0  0  0  0  0  0  0\\n   18.6324   -8.3942   25.5155 C   0  0  0  0  0  0  0  0  0  0  0  0\\n   17.9456   -8.8714   26.6593 C   0  0  0  0  0  0  0  0  0  0  0  0\\n   16.8398  -17.5050   24.0883 S   0  0  0  0  0  0  0  0  0  0  0  0\\n  1 19  1  0\\n  1 22  1  0\\n  2  3  2  0\\n  2 21  1  0\\n  3  4  1  0\\n  4 23  2  0\\n  5  6  1  0\\n  5 20  2  0\\n  6 17  1  0\\n  7 25  1  0\\n  8 19  2  0\\n  9 25  2  0\\n 10 25  2  0\\n 11 13  2  0\\n 11 17  1  0\\n 12 14  1  0\\n 12 17  2  0\\n 13 18  1  0\\n 14 18  2  0\\n 15 16  2  0\\n 16 22  1  0\\n 18 25  1  0\\n 19 20  1  0\\n 20 24  1  0\\n 21 15  1  6\\n 21 23  1  0\\n 22 24  2  0\\n 23 24  1  0\\nM  END\\n\",\"sdf\");\n",
       "\tviewer_16315527123590863.setStyle({\"model\": 0},{\"stick\": {\"colorscheme\": \"lightgreyCarbon\"}});\n",
       "\tviewer_16315527123590863.setStyle({\"model\": 1},{\"stick\": {\"colorscheme\": \"redCarbon\"}});\n",
       "\tviewer_16315527123590863.setStyle({\"model\": 2},{\"stick\": {\"colorscheme\": \"greyCarbon\"}});\n",
       "\tviewer_16315527123590863.zoomTo();\n",
       "viewer_16315527123590863.render();\n",
       "});\n",
       "</script>"
      ]
     },
     "metadata": {},
     "output_type": "display_data"
    },
    {
     "data": {
      "text/plain": [
       "<py3Dmol.view at 0x7f8c64cb6518>"
      ]
     },
     "execution_count": 32,
     "metadata": {},
     "output_type": "execute_result"
    }
   ],
   "source": [
    "molid = 9\n",
    "als = AlignShow([mols[molid], mkmols[molid]], [pcds[molid], mkpcds[molid]])\n",
    "s = als.align(1, 0)\n",
    "print(\"Score:\", s)\n",
    "als.save(1, 0, f\"murcko_self_{molid}.sdf\")\n",
    "als.show(1, 0)"
   ]
  },
  {
   "cell_type": "code",
   "execution_count": 33,
   "metadata": {},
   "outputs": [
    {
     "name": "stdout",
     "output_type": "stream",
     "text": [
      "Too many atoms?\n"
     ]
    },
    {
     "data": {
      "application/3dmoljs_load.v0": "<div id=\"3dmolviewer_16315527283541172\"  style=\"position: relative; width: 640px; height: 480px\">\n        <p id=\"3dmolwarning_16315527283541172\" style=\"background-color:#ffcccc;color:black\">You appear to be running in JupyterLab (or JavaScript failed to load for some other reason).  You need to install the 3dmol extension: <br>\n        <tt>jupyter labextension install jupyterlab_3dmol</tt></p>\n        </div>\n<script>\n\nvar loadScriptAsync = function(uri){\n  return new Promise((resolve, reject) => {\n    var tag = document.createElement('script');\n    tag.src = uri;\n    tag.async = true;\n    tag.onload = () => {\n      resolve();\n    };\n  var firstScriptTag = document.getElementsByTagName('script')[0];\n  firstScriptTag.parentNode.insertBefore(tag, firstScriptTag);\n});\n};\n\nif(typeof $3Dmolpromise === 'undefined') {\n$3Dmolpromise = null;\n  $3Dmolpromise = loadScriptAsync('https://3dmol.org/build/3Dmol.js');\n}\n\nvar viewer_16315527283541172 = null;\nvar warn = document.getElementById(\"3dmolwarning_16315527283541172\");\nif(warn) {\n    warn.parentNode.removeChild(warn);\n}\n$3Dmolpromise.then(function() {\nviewer_16315527283541172 = $3Dmol.createViewer($(\"#3dmolviewer_16315527283541172\"),{backgroundColor:\"white\"});\nviewer_16315527283541172.zoomTo();\n\tviewer_16315527283541172.addModel(\"\\n     RDKit          3D\\n\\n 46 51  0  0  0  0  0  0  0  0999 V2000\\n   17.0292   -6.2978   29.0639 N   0  0  0  0  0  2  0  0  0  0  0  0\\n   17.7676   -6.7431   27.4298 C   0  0  0  0  0  4  0  0  0  0  0  0\\n   18.4646   -6.0547   26.3952 C   0  0  0  0  0  0  0  0  0  0  0  0\\n   18.7895   -6.8771   25.7329 C   0  0  0  0  0  0  0  0  0  0  0  0\\n   18.4264  -10.0704   25.2708 C   0  0  0  0  0  0  0  0  0  0  0  0\\n   18.3285  -11.7577   25.4130 C   0  0  0  0  0  0  0  0  0  0  0  0\\n   19.3596  -10.8410   23.8769 C   0  0  0  0  0  0  0  0  0  0  0  0\\n   18.1483  -10.4020   25.7169 C   0  0  0  0  0  0  0  0  0  0  0  0\\n   19.4538   -9.2989   23.9357 C   0  0  0  0  0  5  0  0  0  0  0  0\\n   16.6100  -14.6931   26.9211 C   0  0  0  0  0  0  0  0  0  0  0  0\\n   17.3758  -14.8218   24.2311 C   0  0  0  0  0  0  0  0  0  0  0  0\\n   17.4157  -13.5977   24.9113 C   0  0  0  0  0  0  0  0  0  0  0  0\\n   16.5737  -15.9155   26.2500 C   0  0  0  0  0  0  0  0  0  0  0  0\\n   17.0627  -13.5362   26.2720 C   0  0  0  0  0  0  0  0  0  0  0  0\\n   16.9514  -15.9701   24.9056 C   0  0  0  0  0  0  0  0  0  0  0  0\\n   17.5851  -11.3386   26.5037 N   0  0  0  0  0  0  0  0  0  0  0  0\\n   19.1329   -9.0829   24.5073 N   0  0  0  0  0  0  0  0  0  0  0  0\\n   16.9376  -12.9241   26.7743 N   0  0  0  0  0  0  0  0  0  0  0  0\\n   16.4901   -8.7238   28.7597 N   0  0  0  0  0  2  0  0  0  0  0  0\\n   17.4373  -10.5528   27.3619 N   0  0  0  0  0  0  0  0  0  0  0  0\\n   17.6507  -17.4866   22.6868 N   0  0  0  0  0  0  0  0  0  0  0  0\\n   17.2732  -18.6112   24.9894 O   0  0  0  0  0  0  0  0  0  0  0  0\\n   15.4061  -17.6867   23.7623 O   0  0  0  0  0  0  0  0  0  0  0  0\\n   16.2175  -10.7352   28.9758 O   0  0  0  0  0  0  0  0  0  0  0  0\\n   16.8398  -17.5050   24.0883 S   0  0  0  0  0  6  0  0  0  0  0  0\\n   17.1602  -10.6967   27.4988 N   0  0  0  0  0  0  0  0  0  0  0  0\\n   19.9474   -8.5200   23.3613 N   0  0  0  0  0  0  0  0  0  0  0  0\\n   19.8335   -7.3428   23.7613 N   0  0  0  0  0  0  0  0  0  0  0  0\\n   19.2042   -7.2508   24.8438 N   0  0  0  0  0  0  0  0  0  0  0  0\\n   17.4064   -7.1991   27.8703 N   0  0  0  0  0  0  0  0  0  0  0  0\\n   16.9233   -6.8671   28.9768 N   0  0  0  0  0  0  0  0  0  0  0  0\\n   16.2696   -9.4848   29.2228 O   0  0  0  0  0  0  0  0  0  0  0  0\\n   17.8946   -4.6709   28.9120 C   0  0  0  0  0  0  0  0  0  0  0  0\\n   16.2434   -5.2557   30.5913 C   0  0  0  0  0  0  0  0  0  0  0  0\\n   17.9954   -3.3863   29.4621 C   0  0  0  0  0  0  0  0  0  0  0  0\\n   16.3359   -3.9763   31.1394 C   0  0  0  0  0  0  0  0  0  0  0  0\\n   19.0894  -10.6979   24.2736 C   0  0  0  0  0  0  0  0  0  0  0  0\\n   18.3625  -11.2321   25.3630 C   0  0  0  0  0  0  0  0  0  0  0  0\\n   16.9912   -5.6016   29.4573 C   0  0  0  0  0  0  0  0  0  0  0  0\\n   17.2174   -3.0510   30.5738 C   0  0  0  0  0  0  0  0  0  0  0  0\\n   16.8444   -9.5572   28.1212 C   0  0  0  0  0  0  0  0  0  0  0  0\\n   17.3766   -8.4789   27.4162 C   0  0  0  0  0  0  0  0  0  0  0  0\\n   19.2719   -9.3183   24.2059 C   0  0  1  0  0  0  0  0  0  0  0  0\\n   17.8379  -10.3961   26.3700 C   0  0  0  0  0  0  0  0  0  0  0  0\\n   18.8138   -8.4839   25.2328 C   0  0  0  0  0  0  0  0  0  0  0  0\\n   18.0352   -9.0072   26.2948 C   0  0  0  0  0  0  0  0  0  0  0  0\\n  3  2  1  0\\n  4  3  1  0\\n  7  5  1  0\\n  8  5  1  0\\n  8  6  1  0\\n  9  7  1  0\\n 12 11  1  0\\n 13 10  2  0\\n 14 10  1  0\\n 14 12  2  0\\n 15 11  2  0\\n 15 13  1  0\\n 16  8  1  0\\n 17  5  1  0\\n 17  9  1  0\\n 18 14  1  0\\n 18 16  1  0\\n 20 16  1  0\\n 24 19  1  0\\n 24 20  1  0\\n 25 15  1  0\\n 25 21  1  0\\n 25 22  2  0\\n 25 23  2  0\\n 26 41  1  0\\n 26 44  1  0\\n 27 28  2  0\\n 27 43  1  0\\n 28 29  1  0\\n 29 45  2  0\\n 30 31  1  0\\n 30 42  2  0\\n 31 39  1  0\\n 32 41  2  0\\n 33 35  2  0\\n 33 39  1  0\\n 34 36  1  0\\n 34 39  2  0\\n 35 40  1  0\\n 36 40  2  0\\n 37 38  2  0\\n 38 44  1  0\\n 41 42  1  0\\n 42 46  1  0\\n 43 37  1  0\\n 43 45  1  0\\n 44 46  2  0\\n 45 46  1  0\\n 43  9  1  6\\n  2 30  1  0\\n  1 31  1  0\\nM  RAD  3   1   3   2   2  19   2\\nM  END\\n\",\"sdf\");\n\tviewer_16315527283541172.setStyle({\"model\": 0},{\"stick\": {\"colorscheme\": \"lightgreyCarbon\"}});\n\tviewer_16315527283541172.zoomTo();\nviewer_16315527283541172.render();\n});\n</script>",
      "text/html": [
       "<div id=\"3dmolviewer_16315527283541172\"  style=\"position: relative; width: 640px; height: 480px\">\n",
       "        <p id=\"3dmolwarning_16315527283541172\" style=\"background-color:#ffcccc;color:black\">You appear to be running in JupyterLab (or JavaScript failed to load for some other reason).  You need to install the 3dmol extension: <br>\n",
       "        <tt>jupyter labextension install jupyterlab_3dmol</tt></p>\n",
       "        </div>\n",
       "<script>\n",
       "\n",
       "var loadScriptAsync = function(uri){\n",
       "  return new Promise((resolve, reject) => {\n",
       "    var tag = document.createElement('script');\n",
       "    tag.src = uri;\n",
       "    tag.async = true;\n",
       "    tag.onload = () => {\n",
       "      resolve();\n",
       "    };\n",
       "  var firstScriptTag = document.getElementsByTagName('script')[0];\n",
       "  firstScriptTag.parentNode.insertBefore(tag, firstScriptTag);\n",
       "});\n",
       "};\n",
       "\n",
       "if(typeof $3Dmolpromise === 'undefined') {\n",
       "$3Dmolpromise = null;\n",
       "  $3Dmolpromise = loadScriptAsync('https://3dmol.org/build/3Dmol.js');\n",
       "}\n",
       "\n",
       "var viewer_16315527283541172 = null;\n",
       "var warn = document.getElementById(\"3dmolwarning_16315527283541172\");\n",
       "if(warn) {\n",
       "    warn.parentNode.removeChild(warn);\n",
       "}\n",
       "$3Dmolpromise.then(function() {\n",
       "viewer_16315527283541172 = $3Dmol.createViewer($(\"#3dmolviewer_16315527283541172\"),{backgroundColor:\"white\"});\n",
       "viewer_16315527283541172.zoomTo();\n",
       "\tviewer_16315527283541172.addModel(\"\\n     RDKit          3D\\n\\n 46 51  0  0  0  0  0  0  0  0999 V2000\\n   17.0292   -6.2978   29.0639 N   0  0  0  0  0  2  0  0  0  0  0  0\\n   17.7676   -6.7431   27.4298 C   0  0  0  0  0  4  0  0  0  0  0  0\\n   18.4646   -6.0547   26.3952 C   0  0  0  0  0  0  0  0  0  0  0  0\\n   18.7895   -6.8771   25.7329 C   0  0  0  0  0  0  0  0  0  0  0  0\\n   18.4264  -10.0704   25.2708 C   0  0  0  0  0  0  0  0  0  0  0  0\\n   18.3285  -11.7577   25.4130 C   0  0  0  0  0  0  0  0  0  0  0  0\\n   19.3596  -10.8410   23.8769 C   0  0  0  0  0  0  0  0  0  0  0  0\\n   18.1483  -10.4020   25.7169 C   0  0  0  0  0  0  0  0  0  0  0  0\\n   19.4538   -9.2989   23.9357 C   0  0  0  0  0  5  0  0  0  0  0  0\\n   16.6100  -14.6931   26.9211 C   0  0  0  0  0  0  0  0  0  0  0  0\\n   17.3758  -14.8218   24.2311 C   0  0  0  0  0  0  0  0  0  0  0  0\\n   17.4157  -13.5977   24.9113 C   0  0  0  0  0  0  0  0  0  0  0  0\\n   16.5737  -15.9155   26.2500 C   0  0  0  0  0  0  0  0  0  0  0  0\\n   17.0627  -13.5362   26.2720 C   0  0  0  0  0  0  0  0  0  0  0  0\\n   16.9514  -15.9701   24.9056 C   0  0  0  0  0  0  0  0  0  0  0  0\\n   17.5851  -11.3386   26.5037 N   0  0  0  0  0  0  0  0  0  0  0  0\\n   19.1329   -9.0829   24.5073 N   0  0  0  0  0  0  0  0  0  0  0  0\\n   16.9376  -12.9241   26.7743 N   0  0  0  0  0  0  0  0  0  0  0  0\\n   16.4901   -8.7238   28.7597 N   0  0  0  0  0  2  0  0  0  0  0  0\\n   17.4373  -10.5528   27.3619 N   0  0  0  0  0  0  0  0  0  0  0  0\\n   17.6507  -17.4866   22.6868 N   0  0  0  0  0  0  0  0  0  0  0  0\\n   17.2732  -18.6112   24.9894 O   0  0  0  0  0  0  0  0  0  0  0  0\\n   15.4061  -17.6867   23.7623 O   0  0  0  0  0  0  0  0  0  0  0  0\\n   16.2175  -10.7352   28.9758 O   0  0  0  0  0  0  0  0  0  0  0  0\\n   16.8398  -17.5050   24.0883 S   0  0  0  0  0  6  0  0  0  0  0  0\\n   17.1602  -10.6967   27.4988 N   0  0  0  0  0  0  0  0  0  0  0  0\\n   19.9474   -8.5200   23.3613 N   0  0  0  0  0  0  0  0  0  0  0  0\\n   19.8335   -7.3428   23.7613 N   0  0  0  0  0  0  0  0  0  0  0  0\\n   19.2042   -7.2508   24.8438 N   0  0  0  0  0  0  0  0  0  0  0  0\\n   17.4064   -7.1991   27.8703 N   0  0  0  0  0  0  0  0  0  0  0  0\\n   16.9233   -6.8671   28.9768 N   0  0  0  0  0  0  0  0  0  0  0  0\\n   16.2696   -9.4848   29.2228 O   0  0  0  0  0  0  0  0  0  0  0  0\\n   17.8946   -4.6709   28.9120 C   0  0  0  0  0  0  0  0  0  0  0  0\\n   16.2434   -5.2557   30.5913 C   0  0  0  0  0  0  0  0  0  0  0  0\\n   17.9954   -3.3863   29.4621 C   0  0  0  0  0  0  0  0  0  0  0  0\\n   16.3359   -3.9763   31.1394 C   0  0  0  0  0  0  0  0  0  0  0  0\\n   19.0894  -10.6979   24.2736 C   0  0  0  0  0  0  0  0  0  0  0  0\\n   18.3625  -11.2321   25.3630 C   0  0  0  0  0  0  0  0  0  0  0  0\\n   16.9912   -5.6016   29.4573 C   0  0  0  0  0  0  0  0  0  0  0  0\\n   17.2174   -3.0510   30.5738 C   0  0  0  0  0  0  0  0  0  0  0  0\\n   16.8444   -9.5572   28.1212 C   0  0  0  0  0  0  0  0  0  0  0  0\\n   17.3766   -8.4789   27.4162 C   0  0  0  0  0  0  0  0  0  0  0  0\\n   19.2719   -9.3183   24.2059 C   0  0  1  0  0  0  0  0  0  0  0  0\\n   17.8379  -10.3961   26.3700 C   0  0  0  0  0  0  0  0  0  0  0  0\\n   18.8138   -8.4839   25.2328 C   0  0  0  0  0  0  0  0  0  0  0  0\\n   18.0352   -9.0072   26.2948 C   0  0  0  0  0  0  0  0  0  0  0  0\\n  3  2  1  0\\n  4  3  1  0\\n  7  5  1  0\\n  8  5  1  0\\n  8  6  1  0\\n  9  7  1  0\\n 12 11  1  0\\n 13 10  2  0\\n 14 10  1  0\\n 14 12  2  0\\n 15 11  2  0\\n 15 13  1  0\\n 16  8  1  0\\n 17  5  1  0\\n 17  9  1  0\\n 18 14  1  0\\n 18 16  1  0\\n 20 16  1  0\\n 24 19  1  0\\n 24 20  1  0\\n 25 15  1  0\\n 25 21  1  0\\n 25 22  2  0\\n 25 23  2  0\\n 26 41  1  0\\n 26 44  1  0\\n 27 28  2  0\\n 27 43  1  0\\n 28 29  1  0\\n 29 45  2  0\\n 30 31  1  0\\n 30 42  2  0\\n 31 39  1  0\\n 32 41  2  0\\n 33 35  2  0\\n 33 39  1  0\\n 34 36  1  0\\n 34 39  2  0\\n 35 40  1  0\\n 36 40  2  0\\n 37 38  2  0\\n 38 44  1  0\\n 41 42  1  0\\n 42 46  1  0\\n 43 37  1  0\\n 43 45  1  0\\n 44 46  2  0\\n 45 46  1  0\\n 43  9  1  6\\n  2 30  1  0\\n  1 31  1  0\\nM  RAD  3   1   3   2   2  19   2\\nM  END\\n\",\"sdf\");\n",
       "\tviewer_16315527283541172.setStyle({\"model\": 0},{\"stick\": {\"colorscheme\": \"lightgreyCarbon\"}});\n",
       "\tviewer_16315527283541172.zoomTo();\n",
       "viewer_16315527283541172.render();\n",
       "});\n",
       "</script>"
      ]
     },
     "metadata": {},
     "output_type": "display_data"
    }
   ],
   "source": [
    "rdmol9 = reconstruction(\"murcko_self_9.sdf\")\n",
    "show_all_conformers(rdmol9)"
   ]
  }
 ],
 "metadata": {
  "interpreter": {
   "hash": "2170310d8da5d5d0ced416f072c764c73705bd667e97df15cd83672f4e754559"
  },
  "kernelspec": {
   "display_name": "Python 3",
   "language": "python",
   "name": "python3"
  },
  "language_info": {
   "codemirror_mode": {
    "name": "ipython",
    "version": 3
   },
   "file_extension": ".py",
   "mimetype": "text/x-python",
   "name": "python",
   "nbconvert_exporter": "python",
   "pygments_lexer": "ipython3",
   "version": "3.6.9"
  }
 },
 "nbformat": 4,
 "nbformat_minor": 2
}
