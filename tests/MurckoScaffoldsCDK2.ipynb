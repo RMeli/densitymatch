{
 "cells": [
  {
   "cell_type": "markdown",
   "metadata": {},
   "source": [
    "# Align Murcko Scaffolds"
   ]
  },
  {
   "cell_type": "code",
   "execution_count": 1,
   "metadata": {},
   "outputs": [],
   "source": [
    "%load_ext autoreload\n",
    "%autoreload 2"
   ]
  },
  {
   "cell_type": "markdown",
   "metadata": {},
   "source": [
    "### Libraries"
   ]
  },
  {
   "cell_type": "code",
   "execution_count": 2,
   "metadata": {},
   "outputs": [
    {
     "name": "stdout",
     "output_type": "stream",
     "text": [
      "Jupyter environment detected. Enabling Open3D WebVisualizer.\n",
      "[Open3D INFO] WebRTC GUI backend enabled.\n",
      "[Open3D INFO] WebRTCWindowSystem: HTTP handshake server disabled.\n"
     ]
    },
    {
     "name": "stderr",
     "output_type": "stream",
     "text": [
      "INFO - 2021-08-24 10:12:35,310 - __init__ - Enabling RDKit 2021.03.3 jupyter extensions\n"
     ]
    }
   ],
   "source": [
    "import open3d as o3d\n",
    "import numpy as np\n",
    "import seaborn as sns\n",
    "import pandas as pd\n",
    "\n",
    "from numpy.random import default_rng\n",
    "\n",
    "import re, os\n",
    "from io import StringIO\n",
    "\n",
    "from tqdm.auto import trange\n",
    "\n",
    "import py3Dmol\n",
    "\n",
    "from rdkit import Chem\n",
    "from rdkit.Chem import AllChem\n",
    "from rdkit.Chem import PandasTools\n",
    "\n",
    "import ipywidgets as widgets\n",
    "\n",
    "import copy"
   ]
  },
  {
   "cell_type": "code",
   "execution_count": 3,
   "metadata": {},
   "outputs": [],
   "source": [
    "from utils import show_molecule_idx\n",
    "from utils import AlignShow, translate_and_rotate"
   ]
  },
  {
   "cell_type": "code",
   "execution_count": 4,
   "metadata": {},
   "outputs": [],
   "source": [
    "from rdkit.Chem.Scaffolds import MurckoScaffold as MS"
   ]
  },
  {
   "cell_type": "code",
   "execution_count": 5,
   "metadata": {},
   "outputs": [
    {
     "name": "stdout",
     "output_type": "stream",
     "text": [
      "['ligands/CDK2/4ek4_B_1CK_tran.pcd', 'ligands/CDK2/4ek5_B_03K_tran.pcd', 'ligands/CDK2/4fkg_B_4CK_tran.pcd', 'ligands/CDK2/4fki_B_09K_tran.pcd', 'ligands/CDK2/4fkj_B_11K_tran.pcd', 'ligands/CDK2/3sw4_B_18K_tran.pcd', 'ligands/CDK2/3sw7_B_19K_tran.pcd', 'ligands/CDK2/4fko_B_20K_tran.pcd', 'ligands/CDK2/4fkp_B_LS5_tran.pcd', 'ligands/CDK2/4fkq_B_42K_tran.pcd', 'ligands/CDK2/4fkr_B_45K_tran.pcd', 'ligands/CDK2/4fks_B_46K_tran.pcd', 'ligands/CDK2/4fkt_B_48K_tran.pcd', 'ligands/CDK2/4fku_D_60K_tran.pcd', 'ligands/CDK2/4fkv_B_61K_tran.pcd', 'ligands/CDK2/4fkw_B_62K_tran.pcd']\n"
     ]
    }
   ],
   "source": [
    "path = \"ligands/CDK2\"\n",
    "files = [os.path.join(path, f) for f in os.listdir(path) if os.path.splitext(f)[-1] == \".pcd\" and os.path.splitext(f)[0][-4:] == \"tran\"]\n",
    "\n",
    "# Order ligands\n",
    "# This should make the three chemical series pop-up in the PCD fit\n",
    "names = {\n",
    "    \"4ek4_B_1CK\": \"CS1\",\n",
    "    \"4ek5_B_03K\": \"CS3\",\n",
    "    \"4fkg_B_4CK\": \"CS4\",\n",
    "    \"4fki_B_09K\": \"CS9\",\n",
    "    \"4fkj_B_11K\": \"CS11\",\n",
    "    \"3sw4_B_18K\": \"CS18\",\n",
    "    \"3sw7_B_19K\": \"CS19\",\n",
    "    \"4fko_B_20K\": \"CS20\",\n",
    "    \"4fkp_B_LS5\": \"CS241\",\n",
    "    \"4fkq_B_42K\": \"CS242\",\n",
    "    \"4fkr_B_45K\": \"CS245\",\n",
    "    \"4fks_B_46K\": \"CS246\",\n",
    "    \"4fkt_B_48K\": \"CS248\",\n",
    "    \"4fku_D_60K\": \"CS260\",\n",
    "    \"4fkv_B_61K\": \"CS261\",\n",
    "    \"4fkw_B_62K\": \"CS262\",\n",
    "}\n",
    "\n",
    "files.sort(key=lambda f: int(names[os.path.splitext(os.path.basename(f))[0].replace(\"_tran\", \"\")].replace(\"CS\", \"\")))\n",
    "\n",
    "print(files)\n",
    "\n",
    "pcds = []\n",
    "mols = []\n",
    "for f in files:\n",
    "    pcd = o3d.io.read_point_cloud(f)\n",
    "    pcds.append(pcd)\n",
    "\n",
    "    s = Chem.SDMolSupplier(f.replace(\".pcd\", \".sdf\"))\n",
    "    mol = next(s)\n",
    "    mols.append(mol)"
   ]
  },
  {
   "cell_type": "code",
   "execution_count": 6,
   "metadata": {},
   "outputs": [
    {
     "data": {
      "application/vnd.jupyter.widget-view+json": {
       "model_id": "adf5c56ee0694c5184ae4cfeed595afd",
       "version_major": 2,
       "version_minor": 0
      },
      "text/plain": [
       "interactive(children=(IntSlider(value=1, description='index', max=15), Output()), _dom_classes=('widget-intera…"
      ]
     },
     "metadata": {},
     "output_type": "display_data"
    }
   ],
   "source": [
    "_ = widgets.interact(lambda index: show_molecule_idx(index, mols), index=widgets.IntSlider(min=0, max=len(mols)-1, step=1, value=1))"
   ]
  },
  {
   "cell_type": "code",
   "execution_count": 7,
   "metadata": {},
   "outputs": [],
   "source": [
    "msMols = [MS.GetScaffoldForMol(mol) for mol in mols]"
   ]
  },
  {
   "cell_type": "code",
   "execution_count": 8,
   "metadata": {},
   "outputs": [
    {
     "data": {
      "application/vnd.jupyter.widget-view+json": {
       "model_id": "cb914375d2de4f4e9f47babd37448d37",
       "version_major": 2,
       "version_minor": 0
      },
      "text/plain": [
       "interactive(children=(IntSlider(value=1, description='index', max=15), Output()), _dom_classes=('widget-intera…"
      ]
     },
     "metadata": {},
     "output_type": "display_data"
    }
   ],
   "source": [
    "_ = widgets.interact(lambda index: show_molecule_idx(index, msMols), index=widgets.IntSlider(min=0, max=len(mols)-1, step=1, value=1))"
   ]
  },
  {
   "cell_type": "markdown",
   "metadata": {},
   "source": [
    "Write scaffolds to file:"
   ]
  },
  {
   "cell_type": "code",
   "execution_count": 9,
   "metadata": {},
   "outputs": [],
   "source": [
    "for idx, mol in enumerate(msMols):    \n",
    "    # Randomly translate and rotate Murcko scaffolds\n",
    "    translate_and_rotate(mol)\n",
    "\n",
    "    with Chem.SDWriter(os.path.join(path, f\"murcko_{idx}.sdf\")) as w:\n",
    "        w.write(mol, confId=0)"
   ]
  },
  {
   "cell_type": "code",
   "execution_count": 10,
   "metadata": {},
   "outputs": [],
   "source": [
    "n_mols_minus_one = len(mols) - 1"
   ]
  },
  {
   "cell_type": "code",
   "execution_count": 11,
   "metadata": {},
   "outputs": [],
   "source": [
    "%%bash -s \"$path\" \"$n_mols_minus_one\"\n",
    "\n",
    "# Python variable path passed to bash\n",
    "# Can be accessed with $1\n",
    "\n",
    "# Python variable n_frags passed to bash\n",
    "# Can be accessed with $2\n",
    "\n",
    "# Unfortunately molgrid does not work well with pybel\n",
    "# molgrid_to_pcd needs to run within a Singularity container\n",
    "# (RDKit and molgrid compiled from source!)\n",
    "# See https://github.com/gnina/libmolgrid/issues/62\n",
    "\n",
    "for SCAFFOLD in $(seq 0 $2)\n",
    "do\n",
    "    singularity run --nv --app python ../development/densitymatch.sif \\\n",
    "        ../molgrid_to_pcd.py ${PWD}/${1}/murcko_${SCAFFOLD}.sdf -o ${PWD}/${1}/murcko_${SCAFFOLD}.pcd \\\n",
    "            --ligmap ${PWD}/../files/ligmap\n",
    "done"
   ]
  },
  {
   "cell_type": "code",
   "execution_count": 12,
   "metadata": {},
   "outputs": [
    {
     "name": "stdout",
     "output_type": "stream",
     "text": [
      "murcko_0.pcd\r\n",
      "murcko_10.pcd\r\n",
      "murcko_11.pcd\r\n",
      "murcko_12.pcd\r\n",
      "murcko_13.pcd\r\n",
      "murcko_14.pcd\r\n",
      "murcko_15.pcd\r\n",
      "murcko_1.pcd\r\n",
      "murcko_2.pcd\r\n",
      "murcko_3.pcd\r\n",
      "murcko_4.pcd\r\n",
      "murcko_5.pcd\r\n",
      "murcko_6.pcd\r\n",
      "murcko_7.pcd\r\n",
      "murcko_8.pcd\r\n",
      "murcko_9.pcd\r\n"
     ]
    }
   ],
   "source": [
    "!ls ligands/CDK2 | grep \"murcko.*\\.pcd\""
   ]
  },
  {
   "cell_type": "code",
   "execution_count": 13,
   "metadata": {},
   "outputs": [
    {
     "name": "stdout",
     "output_type": "stream",
     "text": [
      "['ligands/CDK2/murcko_0.pcd', 'ligands/CDK2/murcko_1.pcd', 'ligands/CDK2/murcko_2.pcd', 'ligands/CDK2/murcko_3.pcd', 'ligands/CDK2/murcko_4.pcd', 'ligands/CDK2/murcko_5.pcd', 'ligands/CDK2/murcko_6.pcd', 'ligands/CDK2/murcko_7.pcd', 'ligands/CDK2/murcko_8.pcd', 'ligands/CDK2/murcko_9.pcd', 'ligands/CDK2/murcko_10.pcd', 'ligands/CDK2/murcko_11.pcd', 'ligands/CDK2/murcko_12.pcd', 'ligands/CDK2/murcko_13.pcd', 'ligands/CDK2/murcko_14.pcd', 'ligands/CDK2/murcko_15.pcd']\n",
      "[PointCloud with 425 points., PointCloud with 490 points., PointCloud with 509 points., PointCloud with 572 points., PointCloud with 858 points., PointCloud with 602 points., PointCloud with 606 points., PointCloud with 597 points., PointCloud with 572 points., PointCloud with 633 points., PointCloud with 934 points., PointCloud with 729 points., PointCloud with 540 points., PointCloud with 541 points., PointCloud with 893 points., PointCloud with 567 points.]\n"
     ]
    }
   ],
   "source": [
    "mkpcds = []\n",
    "mkmols = []\n",
    "\n",
    "files = [os.path.join(path, f\"murcko_{i}.pcd\") for i in range(len(mols))]\n",
    "\n",
    "print(files)\n",
    "\n",
    "for f in files:\n",
    "    pcd = o3d.io.read_point_cloud(f)\n",
    "    mkpcds.append(pcd)\n",
    "\n",
    "    s = Chem.SDMolSupplier(f.replace(\".pcd\", \".sdf\"))\n",
    "    mol = next(s)\n",
    "    mkmols.append(mol)\n",
    "\n",
    "print(mkpcds)"
   ]
  },
  {
   "cell_type": "code",
   "execution_count": 14,
   "metadata": {},
   "outputs": [],
   "source": [
    "molid = 8\n",
    "\n",
    "# Add reference molecule to fragments\n",
    "allmols = [mols[molid]] + mkmols\n",
    "allpcds = [pcds[molid]] + mkpcds"
   ]
  },
  {
   "cell_type": "code",
   "execution_count": 15,
   "metadata": {},
   "outputs": [],
   "source": [
    "als = AlignShow(allmols, allpcds)"
   ]
  },
  {
   "cell_type": "markdown",
   "metadata": {},
   "source": [
    "Look at the best alignment between molecule `molid` (which has been appended at position `0`) any all Murcko's scaffolds."
   ]
  },
  {
   "cell_type": "code",
   "execution_count": 18,
   "metadata": {},
   "outputs": [],
   "source": [
    "s, (i,j) = als.best_with(0) # molid has been appended in position 0"
   ]
  },
  {
   "cell_type": "code",
   "execution_count": 19,
   "metadata": {},
   "outputs": [
    {
     "data": {
      "text/plain": [
       "0.7517401392111369"
      ]
     },
     "execution_count": 19,
     "metadata": {},
     "output_type": "execute_result"
    }
   ],
   "source": [
    "s"
   ]
  },
  {
   "cell_type": "code",
   "execution_count": 20,
   "metadata": {},
   "outputs": [
    {
     "data": {
      "text/plain": [
       "(0, 11)"
      ]
     },
     "execution_count": 20,
     "metadata": {},
     "output_type": "execute_result"
    }
   ],
   "source": [
    "(i, j)"
   ]
  },
  {
   "cell_type": "code",
   "execution_count": 21,
   "metadata": {},
   "outputs": [
    {
     "data": {
      "text/plain": [
       "{(0, 0): 1.0,\n",
       " (0, 1): 0.4617169373549884,\n",
       " (0, 2): 0.40835266821345706,\n",
       " (0, 3): 0.5139211136890951,\n",
       " (0, 4): 0.5417633410672854,\n",
       " (0, 5): 0.58584686774942,\n",
       " (0, 6): 0.425754060324826,\n",
       " (0, 7): 0.41531322505800466,\n",
       " (0, 8): 0.5,\n",
       " (0, 9): 0.6299303944315545,\n",
       " (0, 10): 0.45591647331786544,\n",
       " (0, 11): 0.7517401392111369,\n",
       " (0, 12): 0.5591647331786543,\n",
       " (0, 13): 0.3909512761020882,\n",
       " (0, 14): 0.6334106728538283,\n",
       " (0, 15): 0.6044083526682135,\n",
       " (0, 16): 0.6241299303944315,\n",
       " (1, 0): 0.7505882352941177,\n",
       " (1, 1): 1.0,\n",
       " (1, 2): 0.9176470588235294,\n",
       " (1, 3): 0.8235294117647058,\n",
       " (1, 4): 0.7364705882352941,\n",
       " (1, 5): 0.7647058823529411,\n",
       " (1, 6): 0.6517647058823529,\n",
       " (1, 7): 0.7458823529411764,\n",
       " (1, 8): 0.7576470588235295,\n",
       " (1, 9): 0.8564705882352941,\n",
       " (1, 10): 0.6823529411764706,\n",
       " (1, 11): 0.5952941176470589,\n",
       " (1, 12): 0.7552941176470588,\n",
       " (1, 13): 0.8211764705882353,\n",
       " (1, 14): 0.7717647058823529,\n",
       " (1, 15): 0.7788235294117647,\n",
       " (1, 16): 0.8164705882352942,\n",
       " (2, 0): 0.7673469387755102,\n",
       " (2, 1): 0.8367346938775511,\n",
       " (2, 2): 1.0,\n",
       " (2, 3): 0.9102040816326531,\n",
       " (2, 4): 0.6571428571428571,\n",
       " (2, 5): 0.7816326530612245,\n",
       " (2, 6): 0.5857142857142857,\n",
       " (2, 7): 0.6265306122448979,\n",
       " (2, 8): 0.636734693877551,\n",
       " (2, 9): 0.7612244897959184,\n",
       " (2, 10): 0.6244897959183674,\n",
       " (2, 11): 0.6693877551020408,\n",
       " (2, 12): 0.5551020408163265,\n",
       " (2, 13): 0.6489795918367347,\n",
       " (2, 14): 0.753061224489796,\n",
       " (2, 15): 0.6877551020408164,\n",
       " (2, 16): 0.7428571428571429,\n",
       " (3, 0): 0.7858546168958742,\n",
       " (3, 1): 0.7269155206286837,\n",
       " (3, 2): 0.8939096267190569,\n",
       " (3, 3): 1.0,\n",
       " (3, 4): 0.6699410609037328,\n",
       " (3, 5): 0.8133595284872298,\n",
       " (3, 6): 0.7013752455795678,\n",
       " (3, 7): 0.7190569744597249,\n",
       " (3, 8): 0.7229862475442044,\n",
       " (3, 9): 0.6738703339882122,\n",
       " (3, 10): 0.7367387033398821,\n",
       " (3, 11): 0.8349705304518664,\n",
       " (3, 12): 0.7013752455795678,\n",
       " (3, 13): 0.6444007858546169,\n",
       " (3, 14): 0.6817288801571709,\n",
       " (3, 15): 0.6601178781925344,\n",
       " (3, 16): 0.7190569744597249,\n",
       " (4, 0): 0.6730769230769231,\n",
       " (4, 1): 0.5821678321678322,\n",
       " (4, 2): 0.5716783216783217,\n",
       " (4, 3): 0.5891608391608392,\n",
       " (4, 4): 1.0,\n",
       " (4, 5): 0.9440559440559441,\n",
       " (4, 6): 0.5909090909090909,\n",
       " (4, 7): 0.5104895104895105,\n",
       " (4, 8): 0.583916083916084,\n",
       " (4, 9): 0.6486013986013986,\n",
       " (4, 10): 0.6136363636363636,\n",
       " (4, 11): 0.4020979020979021,\n",
       " (4, 12): 0.5804195804195804,\n",
       " (4, 13): 0.5856643356643356,\n",
       " (4, 14): 0.5891608391608392,\n",
       " (4, 15): 0.5926573426573427,\n",
       " (4, 16): 0.5664335664335665,\n",
       " (5, 0): 0.5046620046620046,\n",
       " (5, 1): 0.38344988344988346,\n",
       " (5, 2): 0.4696969696969697,\n",
       " (5, 3): 0.4813519813519814,\n",
       " (5, 4): 0.6188811188811189,\n",
       " (5, 5): 1.0,\n",
       " (5, 6): 0.4172494172494173,\n",
       " (5, 7): 0.40326340326340326,\n",
       " (5, 8): 0.36013986013986016,\n",
       " (5, 9): 0.44988344988344986,\n",
       " (5, 10): 0.4230769230769231,\n",
       " (5, 11): 0.5524475524475524,\n",
       " (5, 12): 0.4219114219114219,\n",
       " (5, 13): 0.4020979020979021,\n",
       " (5, 14): 0.3298368298368298,\n",
       " (5, 15): 0.3997668997668998,\n",
       " (5, 16): 0.4020979020979021,\n",
       " (6, 0): 0.5598006644518272,\n",
       " (6, 1): 0.5049833887043189,\n",
       " (6, 2): 0.6146179401993356,\n",
       " (6, 3): 0.47674418604651164,\n",
       " (6, 4): 0.632890365448505,\n",
       " (6, 5): 0.5897009966777409,\n",
       " (6, 6): 1.0,\n",
       " (6, 7): 0.6445182724252492,\n",
       " (6, 8): 0.9601328903654485,\n",
       " (6, 9): 0.6362126245847176,\n",
       " (6, 10): 0.8039867109634552,\n",
       " (6, 11): 0.6993355481727574,\n",
       " (6, 12): 0.729235880398671,\n",
       " (6, 13): 0.6893687707641196,\n",
       " (6, 14): 0.6345514950166113,\n",
       " (6, 15): 0.553156146179402,\n",
       " (6, 16): 0.584717607973422,\n",
       " (7, 0): 0.6023102310231023,\n",
       " (7, 1): 0.5742574257425742,\n",
       " (7, 2): 0.5577557755775577,\n",
       " (7, 3): 0.5577557755775577,\n",
       " (7, 4): 0.5016501650165016,\n",
       " (7, 5): 0.6254125412541254,\n",
       " (7, 6): 0.6221122112211221,\n",
       " (7, 7): 1.0,\n",
       " (7, 8): 0.9537953795379538,\n",
       " (7, 9): 0.735973597359736,\n",
       " (7, 10): 0.6782178217821783,\n",
       " (7, 11): 0.8382838283828383,\n",
       " (7, 12): 0.8168316831683168,\n",
       " (7, 13): 0.5742574257425742,\n",
       " (7, 14): 0.5099009900990099,\n",
       " (7, 15): 0.7673267326732673,\n",
       " (7, 16): 0.7194719471947195,\n",
       " (8, 0): 0.7068676716917923,\n",
       " (8, 1): 0.4623115577889447,\n",
       " (8, 2): 0.5343383584589615,\n",
       " (8, 3): 0.5745393634840871,\n",
       " (8, 4): 0.5862646566164154,\n",
       " (8, 5): 0.5309882747068677,\n",
       " (8, 6): 0.9363484087102177,\n",
       " (8, 7): 0.9564489112227805,\n",
       " (8, 8): 1.0,\n",
       " (8, 9): 0.5896147403685092,\n",
       " (8, 10): 0.8190954773869347,\n",
       " (8, 11): 0.8375209380234506,\n",
       " (8, 12): 0.7202680067001676,\n",
       " (8, 13): 0.6164154103852596,\n",
       " (8, 14): 0.5460636515912898,\n",
       " (8, 15): 0.5728643216080402,\n",
       " (8, 16): 0.661641541038526,\n",
       " (9, 0): 0.9493006993006993,\n",
       " (9, 1): 0.6730769230769231,\n",
       " (9, 2): 0.5454545454545454,\n",
       " (9, 3): 0.6171328671328671,\n",
       " (9, 4): 0.6083916083916084,\n",
       " (9, 5): 0.6748251748251748,\n",
       " (9, 6): 0.6748251748251748,\n",
       " (9, 7): 0.7657342657342657,\n",
       " (9, 8): 0.7692307692307693,\n",
       " (9, 9): 1.0,\n",
       " (9, 10): 0.7465034965034965,\n",
       " (9, 11): 0.6538461538461539,\n",
       " (9, 12): 0.916083916083916,\n",
       " (9, 13): 0.7255244755244755,\n",
       " (9, 14): 0.9178321678321678,\n",
       " (9, 15): 0.9125874125874126,\n",
       " (9, 16): 0.9405594405594405,\n",
       " (10, 0): 0.6856240126382307,\n",
       " (10, 1): 0.5608214849921012,\n",
       " (10, 2): 0.5513428120063191,\n",
       " (10, 3): 0.6240126382306477,\n",
       " (10, 4): 0.584518167456556,\n",
       " (10, 5): 0.5687203791469194,\n",
       " (10, 6): 0.7551342812006319,\n",
       " (10, 7): 0.5466034755134281,\n",
       " (10, 8): 0.7488151658767772,\n",
       " (10, 9): 0.6808846761453397,\n",
       " (10, 10): 1.0,\n",
       " (10, 11): 0.9320695102685624,\n",
       " (10, 12): 0.9225908372827805,\n",
       " (10, 13): 0.7819905213270142,\n",
       " (10, 14): 0.8293838862559242,\n",
       " (10, 15): 0.6255924170616114,\n",
       " (10, 16): 0.8088467614533965,\n",
       " (11, 0): 0.7162740899357601,\n",
       " (11, 1): 0.37044967880085655,\n",
       " (11, 2): 0.4004282655246253,\n",
       " (11, 3): 0.40364025695931477,\n",
       " (11, 4): 0.36509635974304067,\n",
       " (11, 5): 0.44967880085653106,\n",
       " (11, 6): 0.4892933618843683,\n",
       " (11, 7): 0.5995717344753747,\n",
       " (11, 8): 0.4989293361884368,\n",
       " (11, 9): 0.6038543897216274,\n",
       " (11, 10): 0.5653104925053534,\n",
       " (11, 11): 1.0,\n",
       " (11, 12): 0.7665952890792291,\n",
       " (11, 13): 0.45610278372591007,\n",
       " (11, 14): 0.5417558886509636,\n",
       " (11, 15): 0.6252676659528907,\n",
       " (11, 16): 0.43790149892933616,\n",
       " (12, 0): 0.5267489711934157,\n",
       " (12, 1): 0.48010973936899864,\n",
       " (12, 2): 0.5569272976680384,\n",
       " (12, 3): 0.5363511659807956,\n",
       " (12, 4): 0.5528120713305898,\n",
       " (12, 5): 0.5116598079561042,\n",
       " (12, 6): 0.5761316872427984,\n",
       " (12, 7): 0.7434842249657064,\n",
       " (12, 8): 0.6310013717421125,\n",
       " (12, 9): 0.7517146776406035,\n",
       " (12, 10): 0.8930041152263375,\n",
       " (12, 11): 0.9602194787379973,\n",
       " (12, 12): 1.0,\n",
       " (12, 13): 0.6529492455418381,\n",
       " (12, 14): 0.7338820301783264,\n",
       " (12, 15): 0.5528120713305898,\n",
       " (12, 16): 0.5075445816186557,\n",
       " (13, 0): 0.6,\n",
       " (13, 1): 0.687037037037037,\n",
       " (13, 2): 0.6074074074074074,\n",
       " (13, 3): 0.48333333333333334,\n",
       " (13, 4): 0.6407407407407407,\n",
       " (13, 5): 0.6851851851851852,\n",
       " (13, 6): 0.6166666666666667,\n",
       " (13, 7): 0.7018518518518518,\n",
       " (13, 8): 0.687037037037037,\n",
       " (13, 9): 0.7555555555555555,\n",
       " (13, 10): 0.9222222222222223,\n",
       " (13, 11): 0.6240740740740741,\n",
       " (13, 12): 0.7722222222222223,\n",
       " (13, 13): 1.0,\n",
       " (13, 14): 0.7166666666666667,\n",
       " (13, 15): 0.7537037037037037,\n",
       " (13, 16): 0.774074074074074,\n",
       " (14, 0): 0.9279112754158965,\n",
       " (14, 1): 0.6210720887245841,\n",
       " (14, 2): 0.5951940850277264,\n",
       " (14, 3): 0.5785582255083179,\n",
       " (14, 4): 0.6321626617375231,\n",
       " (14, 5): 0.5101663585951941,\n",
       " (14, 6): 0.6987060998151571,\n",
       " (14, 7): 0.532347504621072,\n",
       " (14, 8): 0.7042513863216266,\n",
       " (14, 9): 0.922365988909427,\n",
       " (14, 10): 0.7097966728280961,\n",
       " (14, 11): 0.5970425138632163,\n",
       " (14, 12): 0.911275415896488,\n",
       " (14, 13): 0.7282809611829945,\n",
       " (14, 14): 1.0,\n",
       " (14, 15): 0.9186691312384473,\n",
       " (14, 16): 0.9574861367837338,\n",
       " (15, 0): 0.5722284434490481,\n",
       " (15, 1): 0.393057110862262,\n",
       " (15, 2): 0.284434490481523,\n",
       " (15, 3): 0.40313549832026874,\n",
       " (15, 4): 0.3964165733482643,\n",
       " (15, 5): 0.44568868980963045,\n",
       " (15, 6): 0.39529675251959684,\n",
       " (15, 7): 0.5207166853303471,\n",
       " (15, 8): 0.5139977603583427,\n",
       " (15, 9): 0.5655095184770437,\n",
       " (15, 10): 0.44568868980963045,\n",
       " (15, 11): 0.620380739081747,\n",
       " (15, 12): 0.5677491601343785,\n",
       " (15, 13): 0.46360582306830905,\n",
       " (15, 14): 0.5789473684210527,\n",
       " (15, 15): 1.0,\n",
       " (15, 16): 0.5879059350503919,\n",
       " (16, 0): 0.9400352733686067,\n",
       " (16, 1): 0.49206349206349204,\n",
       " (16, 2): 0.6666666666666666,\n",
       " (16, 3): 0.6966490299823633,\n",
       " (16, 4): 0.6243386243386243,\n",
       " (16, 5): 0.6296296296296297,\n",
       " (16, 6): 0.5238095238095238,\n",
       " (16, 7): 0.7583774250440917,\n",
       " (16, 8): 0.6807760141093474,\n",
       " (16, 9): 0.9453262786596119,\n",
       " (16, 10): 0.9223985890652557,\n",
       " (16, 11): 0.5749559082892416,\n",
       " (16, 12): 0.6402116402116402,\n",
       " (16, 13): 0.7477954144620811,\n",
       " (16, 14): 0.9682539682539683,\n",
       " (16, 15): 0.9241622574955908,\n",
       " (16, 16): 1.0}"
      ]
     },
     "execution_count": 21,
     "metadata": {},
     "output_type": "execute_result"
    }
   ],
   "source": [
    "als.scores"
   ]
  },
  {
   "cell_type": "markdown",
   "metadata": {},
   "source": [
    "With this dataset (where ligands come from the same chemical series), the best aligned scaffold is not necessarily `molid` because other scaffold can be similar but larger. The best scaffold is clearly well aligned and has a reasonable score:"
   ]
  },
  {
   "cell_type": "code",
   "execution_count": 30,
   "metadata": {},
   "outputs": [
    {
     "data": {
      "application/vnd.jupyter.widget-view+json": {
       "model_id": "9ea8960dcbb9471bb1fddd2d8760845b",
       "version_major": 2,
       "version_minor": 0
      },
      "text/plain": [
       "interactive(children=(IntSlider(value=1, description='index', max=15), Output()), _dom_classes=('widget-intera…"
      ]
     },
     "metadata": {},
     "output_type": "display_data"
    }
   ],
   "source": [
    "_ = widgets.interact(lambda index: als.show(0, index), index=widgets.IntSlider(min=0, max=len(mols)-1, step=1, value=1))"
   ]
  },
  {
   "cell_type": "code",
   "execution_count": 29,
   "metadata": {},
   "outputs": [],
   "source": [
    "als.save(i, j)"
   ]
  },
  {
   "cell_type": "code",
   "execution_count": null,
   "metadata": {},
   "outputs": [],
   "source": []
  }
 ],
 "metadata": {
  "interpreter": {
   "hash": "2170310d8da5d5d0ced416f072c764c73705bd667e97df15cd83672f4e754559"
  },
  "kernelspec": {
   "display_name": "Python 3",
   "language": "python",
   "name": "python3"
  },
  "language_info": {
   "codemirror_mode": {
    "name": "ipython",
    "version": 3
   },
   "file_extension": ".py",
   "mimetype": "text/x-python",
   "name": "python",
   "nbconvert_exporter": "python",
   "pygments_lexer": "ipython3",
   "version": "3.7.10"
  }
 },
 "nbformat": 4,
 "nbformat_minor": 2
}
