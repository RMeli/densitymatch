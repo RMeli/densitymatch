{
 "cells": [
  {
   "cell_type": "markdown",
   "source": [
    "# Align Murcko Scaffolds"
   ],
   "metadata": {}
  },
  {
   "cell_type": "code",
   "execution_count": 1,
   "source": [
    "%load_ext autoreload\n",
    "%autoreload 2"
   ],
   "outputs": [],
   "metadata": {}
  },
  {
   "cell_type": "markdown",
   "source": [
    "### Libraries"
   ],
   "metadata": {}
  },
  {
   "cell_type": "code",
   "execution_count": 2,
   "source": [
    "import open3d as o3d\n",
    "import numpy as np\n",
    "import seaborn as sns\n",
    "import pandas as pd\n",
    "\n",
    "from numpy.random import default_rng\n",
    "\n",
    "import re, os\n",
    "from io import StringIO\n",
    "\n",
    "from tqdm.auto import trange\n",
    "\n",
    "import py3Dmol\n",
    "\n",
    "from rdkit import Chem\n",
    "from rdkit.Chem import AllChem\n",
    "from rdkit.Chem import PandasTools\n",
    "\n",
    "import ipywidgets as widgets\n",
    "\n",
    "import copy"
   ],
   "outputs": [
    {
     "output_type": "stream",
     "name": "stdout",
     "text": [
      "Jupyter environment detected. Enabling Open3D WebVisualizer.\n",
      "[Open3D INFO] WebRTC GUI backend enabled.\n",
      "[Open3D INFO] WebRTCWindowSystem: HTTP handshake server disabled.\n"
     ]
    },
    {
     "output_type": "stream",
     "name": "stderr",
     "text": [
      "INFO - 2021-09-07 11:31:40,716 - __init__ - Enabling RDKit 2021.03.3 jupyter extensions\n"
     ]
    }
   ],
   "metadata": {}
  },
  {
   "cell_type": "code",
   "execution_count": 3,
   "source": [
    "from utils import show_molecule_idx\n",
    "from utils import AlignShow, translate_and_rotate"
   ],
   "outputs": [],
   "metadata": {}
  },
  {
   "cell_type": "code",
   "execution_count": 4,
   "source": [
    "from rdkit.Chem.Scaffolds import MurckoScaffold as MS"
   ],
   "outputs": [],
   "metadata": {}
  },
  {
   "cell_type": "code",
   "execution_count": 5,
   "source": [
    "path = \"ligands/CDK2\"\n",
    "files = [os.path.join(path, f) for f in os.listdir(path) if os.path.splitext(f)[-1] == \".pcd\" and os.path.splitext(f)[0][-4:] == \"tran\"]\n",
    "\n",
    "# Order ligands\n",
    "# This should make the three chemical series pop-up in the PCD fit\n",
    "names = {\n",
    "    \"4ek4_B_1CK\": \"CS1\",\n",
    "    \"4ek5_B_03K\": \"CS3\",\n",
    "    \"4fkg_B_4CK\": \"CS4\",\n",
    "    \"4fki_B_09K\": \"CS9\",\n",
    "    \"4fkj_B_11K\": \"CS11\",\n",
    "    \"3sw4_B_18K\": \"CS18\",\n",
    "    \"3sw7_B_19K\": \"CS19\",\n",
    "    \"4fko_B_20K\": \"CS20\",\n",
    "    \"4fkp_B_LS5\": \"CS241\",\n",
    "    \"4fkq_B_42K\": \"CS242\",\n",
    "    \"4fkr_B_45K\": \"CS245\",\n",
    "    \"4fks_B_46K\": \"CS246\",\n",
    "    \"4fkt_B_48K\": \"CS248\",\n",
    "    \"4fku_D_60K\": \"CS260\",\n",
    "    \"4fkv_B_61K\": \"CS261\",\n",
    "    \"4fkw_B_62K\": \"CS262\",\n",
    "}\n",
    "\n",
    "files.sort(key=lambda f: int(names[os.path.splitext(os.path.basename(f))[0].replace(\"_tran\", \"\")].replace(\"CS\", \"\")))\n",
    "\n",
    "print(files)\n",
    "\n",
    "pcds = []\n",
    "mols = []\n",
    "for f in files:\n",
    "    pcd = o3d.io.read_point_cloud(f)\n",
    "    pcds.append(pcd)\n",
    "\n",
    "    s = Chem.SDMolSupplier(f.replace(\".pcd\", \".sdf\"))\n",
    "    mol = next(s)\n",
    "    mols.append(mol)"
   ],
   "outputs": [
    {
     "output_type": "stream",
     "name": "stdout",
     "text": [
      "['ligands/CDK2/4ek4_B_1CK_tran.pcd', 'ligands/CDK2/4ek5_B_03K_tran.pcd', 'ligands/CDK2/4fkg_B_4CK_tran.pcd', 'ligands/CDK2/4fki_B_09K_tran.pcd', 'ligands/CDK2/4fkj_B_11K_tran.pcd', 'ligands/CDK2/3sw4_B_18K_tran.pcd', 'ligands/CDK2/3sw7_B_19K_tran.pcd', 'ligands/CDK2/4fko_B_20K_tran.pcd', 'ligands/CDK2/4fkp_B_LS5_tran.pcd', 'ligands/CDK2/4fkq_B_42K_tran.pcd', 'ligands/CDK2/4fkr_B_45K_tran.pcd', 'ligands/CDK2/4fks_B_46K_tran.pcd', 'ligands/CDK2/4fkt_B_48K_tran.pcd', 'ligands/CDK2/4fku_D_60K_tran.pcd', 'ligands/CDK2/4fkv_B_61K_tran.pcd', 'ligands/CDK2/4fkw_B_62K_tran.pcd']\n"
     ]
    }
   ],
   "metadata": {}
  },
  {
   "cell_type": "code",
   "execution_count": 6,
   "source": [
    "_ = widgets.interact(lambda index: show_molecule_idx(index, mols), index=widgets.IntSlider(min=0, max=len(mols)-1, step=1, value=1))"
   ],
   "outputs": [
    {
     "output_type": "display_data",
     "data": {
      "application/vnd.jupyter.widget-view+json": {
       "version_major": 2,
       "version_minor": 0,
       "model_id": "4ad2a239762c4b8baebd680834280529"
      },
      "text/plain": [
       "interactive(children=(IntSlider(value=1, description='index', max=15), Output()), _dom_classes=('widget-intera…"
      ]
     },
     "metadata": {}
    }
   ],
   "metadata": {}
  },
  {
   "cell_type": "code",
   "execution_count": 7,
   "source": [
    "msMols = [MS.GetScaffoldForMol(mol) for mol in mols]"
   ],
   "outputs": [],
   "metadata": {}
  },
  {
   "cell_type": "code",
   "execution_count": 8,
   "source": [
    "_ = widgets.interact(lambda index: show_molecule_idx(index, msMols), index=widgets.IntSlider(min=0, max=len(mols)-1, step=1, value=1))"
   ],
   "outputs": [
    {
     "output_type": "display_data",
     "data": {
      "application/vnd.jupyter.widget-view+json": {
       "version_major": 2,
       "version_minor": 0,
       "model_id": "a74eefae418645d48da079590cb752b7"
      },
      "text/plain": [
       "interactive(children=(IntSlider(value=1, description='index', max=15), Output()), _dom_classes=('widget-intera…"
      ]
     },
     "metadata": {}
    }
   ],
   "metadata": {}
  },
  {
   "cell_type": "markdown",
   "source": [
    "Write scaffolds to file:"
   ],
   "metadata": {}
  },
  {
   "cell_type": "code",
   "execution_count": 9,
   "source": [
    "for idx, mol in enumerate(msMols):    \n",
    "    # Randomly translate and rotate Murcko scaffolds\n",
    "    translate_and_rotate(mol)\n",
    "\n",
    "    with Chem.SDWriter(os.path.join(path, f\"murcko_{idx}.sdf\")) as w:\n",
    "        w.write(mol, confId=0)"
   ],
   "outputs": [],
   "metadata": {}
  },
  {
   "cell_type": "code",
   "execution_count": 10,
   "source": [
    "n_mols_minus_one = len(mols) - 1"
   ],
   "outputs": [],
   "metadata": {}
  },
  {
   "cell_type": "code",
   "execution_count": 11,
   "source": [
    "%%bash -s \"$path\" \"$n_mols_minus_one\"\n",
    "\n",
    "# Python variable path passed to bash\n",
    "# Can be accessed with $1\n",
    "\n",
    "# Python variable n_frags passed to bash\n",
    "# Can be accessed with $2\n",
    "\n",
    "# Unfortunately molgrid does not work well with pybel\n",
    "# molgrid_to_pcd needs to run within a Singularity container\n",
    "# (RDKit and molgrid compiled from source!)\n",
    "# See https://github.com/gnina/libmolgrid/issues/62\n",
    "\n",
    "for SCAFFOLD in $(seq 0 $2)\n",
    "do\n",
    "    singularity run --nv --app python ../development/densitymatch.sif \\\n",
    "        ../molgrid_to_pcd.py ${PWD}/${1}/murcko_${SCAFFOLD}.sdf -o ${PWD}/${1}/murcko_${SCAFFOLD}.pcd \\\n",
    "            --ligmap ${PWD}/../files/ligmap\n",
    "done"
   ],
   "outputs": [],
   "metadata": {}
  },
  {
   "cell_type": "code",
   "execution_count": 12,
   "source": [
    "!ls ligands/CDK2 | grep \"murcko.*\\.pcd\""
   ],
   "outputs": [
    {
     "output_type": "stream",
     "name": "stdout",
     "text": [
      "murcko_0.pcd\n",
      "murcko_10.pcd\n",
      "murcko_11.pcd\n",
      "murcko_12.pcd\n",
      "murcko_13.pcd\n",
      "murcko_14.pcd\n",
      "murcko_15.pcd\n",
      "murcko_1.pcd\n",
      "murcko_2.pcd\n",
      "murcko_3.pcd\n",
      "murcko_4.pcd\n",
      "murcko_5.pcd\n",
      "murcko_6.pcd\n",
      "murcko_7.pcd\n",
      "murcko_8.pcd\n",
      "murcko_9.pcd\n"
     ]
    }
   ],
   "metadata": {}
  },
  {
   "cell_type": "code",
   "execution_count": 13,
   "source": [
    "mkpcds = []\n",
    "mkmols = []\n",
    "\n",
    "files = [os.path.join(path, f\"murcko_{i}.pcd\") for i in range(len(mols))]\n",
    "\n",
    "print(files)\n",
    "\n",
    "for f in files:\n",
    "    pcd = o3d.io.read_point_cloud(f)\n",
    "    mkpcds.append(pcd)\n",
    "\n",
    "    s = Chem.SDMolSupplier(f.replace(\".pcd\", \".sdf\"))\n",
    "    mol = next(s)\n",
    "    mkmols.append(mol)\n",
    "\n",
    "print(mkpcds)"
   ],
   "outputs": [
    {
     "output_type": "stream",
     "name": "stdout",
     "text": [
      "['ligands/CDK2/murcko_0.pcd', 'ligands/CDK2/murcko_1.pcd', 'ligands/CDK2/murcko_2.pcd', 'ligands/CDK2/murcko_3.pcd', 'ligands/CDK2/murcko_4.pcd', 'ligands/CDK2/murcko_5.pcd', 'ligands/CDK2/murcko_6.pcd', 'ligands/CDK2/murcko_7.pcd', 'ligands/CDK2/murcko_8.pcd', 'ligands/CDK2/murcko_9.pcd', 'ligands/CDK2/murcko_10.pcd', 'ligands/CDK2/murcko_11.pcd', 'ligands/CDK2/murcko_12.pcd', 'ligands/CDK2/murcko_13.pcd', 'ligands/CDK2/murcko_14.pcd', 'ligands/CDK2/murcko_15.pcd']\n",
      "[PointCloud with 425 points., PointCloud with 490 points., PointCloud with 509 points., PointCloud with 572 points., PointCloud with 858 points., PointCloud with 602 points., PointCloud with 606 points., PointCloud with 597 points., PointCloud with 572 points., PointCloud with 633 points., PointCloud with 934 points., PointCloud with 729 points., PointCloud with 540 points., PointCloud with 541 points., PointCloud with 893 points., PointCloud with 567 points.]\n"
     ]
    }
   ],
   "metadata": {}
  },
  {
   "cell_type": "code",
   "execution_count": 14,
   "source": [
    "molid = 8\n",
    "\n",
    "# Add reference molecule to fragments\n",
    "allmols = [mols[molid]] + mkmols\n",
    "allpcds = [pcds[molid]] + mkpcds"
   ],
   "outputs": [],
   "metadata": {}
  },
  {
   "cell_type": "code",
   "execution_count": 15,
   "source": [
    "als = AlignShow(allmols, allpcds)"
   ],
   "outputs": [],
   "metadata": {}
  },
  {
   "cell_type": "markdown",
   "source": [
    "Look at the best alignment between molecule `molid` (which has been appended at position `0`) any all Murcko's scaffolds."
   ],
   "metadata": {}
  },
  {
   "cell_type": "code",
   "execution_count": 16,
   "source": [
    "s, (i,j) = als.best_with(0) # molid has been appended in position 0"
   ],
   "outputs": [],
   "metadata": {}
  },
  {
   "cell_type": "code",
   "execution_count": 17,
   "source": [
    "s"
   ],
   "outputs": [
    {
     "output_type": "execute_result",
     "data": {
      "text/plain": [
       "0.7482598607888631"
      ]
     },
     "metadata": {},
     "execution_count": 17
    }
   ],
   "metadata": {}
  },
  {
   "cell_type": "code",
   "execution_count": 18,
   "source": [
    "(i, j)"
   ],
   "outputs": [
    {
     "output_type": "execute_result",
     "data": {
      "text/plain": [
       "(0, 11)"
      ]
     },
     "metadata": {},
     "execution_count": 18
    }
   ],
   "metadata": {}
  },
  {
   "cell_type": "code",
   "execution_count": 19,
   "source": [
    "als.scores"
   ],
   "outputs": [
    {
     "output_type": "execute_result",
     "data": {
      "text/plain": [
       "{(0, 0): 1.0,\n",
       " (0, 1): 0.3990719257540603,\n",
       " (0, 2): 0.45243619489559167,\n",
       " (0, 3): 0.4617169373549884,\n",
       " (0, 4): 0.5220417633410673,\n",
       " (0, 5): 0.5498839907192575,\n",
       " (0, 6): 0.46983758700696054,\n",
       " (0, 7): 0.41531322505800466,\n",
       " (0, 8): 0.4965197215777262,\n",
       " (0, 9): 0.4396751740139211,\n",
       " (0, 10): 0.5104408352668214,\n",
       " (0, 11): 0.7482598607888631,\n",
       " (0, 12): 0.345707656612529,\n",
       " (0, 13): 0.48607888631090485,\n",
       " (0, 14): 0.6299303944315545,\n",
       " (0, 15): 0.3839907192575406,\n",
       " (0, 16): 0.6276102088167054,\n",
       " (1, 0): 0.8635294117647059,\n",
       " (1, 1): 1.0,\n",
       " (1, 2): 0.7811764705882352,\n",
       " (1, 3): 0.8211764705882353,\n",
       " (1, 4): 0.7411764705882353,\n",
       " (1, 5): 0.76,\n",
       " (1, 6): 0.6564705882352941,\n",
       " (1, 7): 0.6423529411764706,\n",
       " (1, 8): 0.8023529411764706,\n",
       " (1, 9): 0.851764705882353,\n",
       " (1, 10): 0.6282352941176471,\n",
       " (1, 11): 0.6941176470588235,\n",
       " (1, 12): 0.7576470588235295,\n",
       " (1, 13): 0.8305882352941176,\n",
       " (1, 14): 0.7717647058823529,\n",
       " (1, 15): 0.6423529411764706,\n",
       " (1, 16): 0.8164705882352942,\n",
       " (2, 0): 0.7673469387755102,\n",
       " (2, 1): 0.8367346938775511,\n",
       " (2, 2): 1.0,\n",
       " (2, 3): 0.9102040816326531,\n",
       " (2, 4): 0.6183673469387755,\n",
       " (2, 5): 0.7816326530612245,\n",
       " (2, 6): 0.5836734693877551,\n",
       " (2, 7): 0.7020408163265306,\n",
       " (2, 8): 0.6387755102040816,\n",
       " (2, 9): 0.7612244897959184,\n",
       " (2, 10): 0.7857142857142857,\n",
       " (2, 11): 0.8448979591836735,\n",
       " (2, 12): 0.7387755102040816,\n",
       " (2, 13): 0.6510204081632653,\n",
       " (2, 14): 0.763265306122449,\n",
       " (2, 15): 0.5530612244897959,\n",
       " (2, 16): 0.7428571428571429,\n",
       " (3, 0): 0.7779960707269156,\n",
       " (3, 1): 0.7465618860510805,\n",
       " (3, 2): 0.899803536345776,\n",
       " (3, 3): 1.0,\n",
       " (3, 4): 0.6738703339882122,\n",
       " (3, 5): 0.6660117878192534,\n",
       " (3, 6): 0.7013752455795678,\n",
       " (3, 7): 0.7131630648330058,\n",
       " (3, 8): 0.7229862475442044,\n",
       " (3, 9): 0.8172888015717092,\n",
       " (3, 10): 0.6640471512770137,\n",
       " (3, 11): 0.8330058939096268,\n",
       " (3, 12): 0.6326129666011788,\n",
       " (3, 13): 0.6444007858546169,\n",
       " (3, 14): 0.6915520628683693,\n",
       " (3, 15): 0.68762278978389,\n",
       " (3, 16): 0.7387033398821218,\n",
       " (4, 0): 0.736013986013986,\n",
       " (4, 1): 0.5821678321678322,\n",
       " (4, 2): 0.5821678321678322,\n",
       " (4, 3): 0.5891608391608392,\n",
       " (4, 4): 1.0,\n",
       " (4, 5): 0.9440559440559441,\n",
       " (4, 6): 0.48951048951048953,\n",
       " (4, 7): 0.5262237762237763,\n",
       " (4, 8): 0.6188811188811189,\n",
       " (4, 9): 0.6241258741258742,\n",
       " (4, 10): 0.6066433566433567,\n",
       " (4, 11): 0.5437062937062938,\n",
       " (4, 12): 0.6241258741258742,\n",
       " (4, 13): 0.5786713286713286,\n",
       " (4, 14): 0.5909090909090909,\n",
       " (4, 15): 0.6328671328671329,\n",
       " (4, 16): 0.5664335664335665,\n",
       " (5, 0): 0.5174825174825175,\n",
       " (5, 1): 0.3881118881118881,\n",
       " (5, 2): 0.3356643356643357,\n",
       " (5, 3): 0.4813519813519814,\n",
       " (5, 4): 0.6212121212121212,\n",
       " (5, 5): 1.0,\n",
       " (5, 6): 0.4172494172494173,\n",
       " (5, 7): 0.34382284382284384,\n",
       " (5, 8): 0.29953379953379955,\n",
       " (5, 9): 0.44638694638694637,\n",
       " (5, 10): 0.4230769230769231,\n",
       " (5, 11): 0.43006993006993005,\n",
       " (5, 12): 0.40792540792540793,\n",
       " (5, 13): 0.40093240093240096,\n",
       " (5, 14): 0.32867132867132864,\n",
       " (5, 15): 0.358974358974359,\n",
       " (5, 16): 0.3997668997668998,\n",
       " (6, 0): 0.6827242524916943,\n",
       " (6, 1): 0.5049833887043189,\n",
       " (6, 2): 0.5382059800664452,\n",
       " (6, 3): 0.5813953488372093,\n",
       " (6, 4): 0.6079734219269103,\n",
       " (6, 5): 0.5631229235880398,\n",
       " (6, 6): 1.0,\n",
       " (6, 7): 0.6445182724252492,\n",
       " (6, 8): 0.9601328903654485,\n",
       " (6, 9): 0.6362126245847176,\n",
       " (6, 10): 0.7724252491694352,\n",
       " (6, 11): 0.6112956810631229,\n",
       " (6, 12): 0.729235880398671,\n",
       " (6, 13): 0.6960132890365448,\n",
       " (6, 14): 0.6378737541528239,\n",
       " (6, 15): 0.4900332225913621,\n",
       " (6, 16): 0.5598006644518272,\n",
       " (7, 0): 0.523102310231023,\n",
       " (7, 1): 0.5462046204620462,\n",
       " (7, 2): 0.5643564356435643,\n",
       " (7, 3): 0.5792079207920792,\n",
       " (7, 4): 0.49834983498349833,\n",
       " (7, 5): 0.5808580858085809,\n",
       " (7, 6): 0.6237623762376238,\n",
       " (7, 7): 1.0,\n",
       " (7, 8): 0.9537953795379538,\n",
       " (7, 9): 0.7293729372937293,\n",
       " (7, 10): 0.6765676567656765,\n",
       " (7, 11): 0.8399339933993399,\n",
       " (7, 12): 0.8168316831683168,\n",
       " (7, 13): 0.6303630363036303,\n",
       " (7, 14): 0.5033003300330033,\n",
       " (7, 15): 0.7673267326732673,\n",
       " (7, 16): 0.7227722772277227,\n",
       " (8, 0): 0.7068676716917923,\n",
       " (8, 1): 0.4656616415410385,\n",
       " (8, 2): 0.5343383584589615,\n",
       " (8, 3): 0.5661641541038526,\n",
       " (8, 4): 0.5879396984924623,\n",
       " (8, 5): 0.5879396984924623,\n",
       " (8, 6): 0.9363484087102177,\n",
       " (8, 7): 0.9564489112227805,\n",
       " (8, 8): 1.0,\n",
       " (8, 9): 0.5963149078726968,\n",
       " (8, 10): 0.8190954773869347,\n",
       " (8, 11): 0.8375209380234506,\n",
       " (8, 12): 0.8090452261306532,\n",
       " (8, 13): 0.6030150753768844,\n",
       " (8, 14): 0.6683417085427136,\n",
       " (8, 15): 0.711892797319933,\n",
       " (8, 16): 0.6716917922948074,\n",
       " (9, 0): 0.9493006993006993,\n",
       " (9, 1): 0.6905594405594405,\n",
       " (9, 2): 0.5804195804195804,\n",
       " (9, 3): 0.7412587412587412,\n",
       " (9, 4): 0.6223776223776224,\n",
       " (9, 5): 0.6538461538461539,\n",
       " (9, 6): 0.6730769230769231,\n",
       " (9, 7): 0.7657342657342657,\n",
       " (9, 8): 0.6171328671328671,\n",
       " (9, 9): 1.0,\n",
       " (9, 10): 0.9108391608391608,\n",
       " (9, 11): 0.6590909090909091,\n",
       " (9, 12): 0.9143356643356644,\n",
       " (9, 13): 0.7307692307692307,\n",
       " (9, 14): 0.9178321678321678,\n",
       " (9, 15): 0.9125874125874126,\n",
       " (9, 16): 0.9353146853146853,\n",
       " (10, 0): 0.7109004739336493,\n",
       " (10, 1): 0.47709320695102686,\n",
       " (10, 2): 0.6287519747235387,\n",
       " (10, 3): 0.5434439178515008,\n",
       " (10, 4): 0.6113744075829384,\n",
       " (10, 5): 0.5781990521327014,\n",
       " (10, 6): 0.7551342812006319,\n",
       " (10, 7): 0.6224328593996841,\n",
       " (10, 8): 0.641390205371248,\n",
       " (10, 9): 0.6808846761453397,\n",
       " (10, 10): 1.0,\n",
       " (10, 11): 0.5244865718799369,\n",
       " (10, 12): 0.9225908372827805,\n",
       " (10, 13): 0.7819905213270142,\n",
       " (10, 14): 0.8293838862559242,\n",
       " (10, 15): 0.6097946287519748,\n",
       " (10, 16): 0.6777251184834123,\n",
       " (11, 0): 0.7098501070663812,\n",
       " (11, 1): 0.37366167023554603,\n",
       " (11, 2): 0.43254817987152033,\n",
       " (11, 3): 0.43576017130620986,\n",
       " (11, 4): 0.29014989293361887,\n",
       " (11, 5): 0.4025695931477516,\n",
       " (11, 6): 0.4689507494646681,\n",
       " (11, 7): 0.5877944325481799,\n",
       " (11, 8): 0.5,\n",
       " (11, 9): 0.6006423982869379,\n",
       " (11, 10): 0.46466809421841543,\n",
       " (11, 11): 1.0,\n",
       " (11, 12): 0.7665952890792291,\n",
       " (11, 13): 0.4668094218415418,\n",
       " (11, 14): 0.4229122055674518,\n",
       " (11, 15): 0.6252676659528907,\n",
       " (11, 16): 0.6081370449678801,\n",
       " (12, 0): 0.42661179698216734,\n",
       " (12, 1): 0.4773662551440329,\n",
       " (12, 2): 0.5486968449931413,\n",
       " (12, 3): 0.5267489711934157,\n",
       " (12, 4): 0.5541838134430727,\n",
       " (12, 5): 0.5363511659807956,\n",
       " (12, 6): 0.6570644718792867,\n",
       " (12, 7): 0.7434842249657064,\n",
       " (12, 8): 0.6433470507544582,\n",
       " (12, 9): 0.7517146776406035,\n",
       " (12, 10): 0.8930041152263375,\n",
       " (12, 11): 0.9602194787379973,\n",
       " (12, 12): 1.0,\n",
       " (12, 13): 0.654320987654321,\n",
       " (12, 14): 0.7338820301783264,\n",
       " (12, 15): 0.6748971193415638,\n",
       " (12, 16): 0.551440329218107,\n",
       " (13, 0): 0.6018518518518519,\n",
       " (13, 1): 0.6851851851851852,\n",
       " (13, 2): 0.6074074074074074,\n",
       " (13, 3): 0.4888888888888889,\n",
       " (13, 4): 0.6277777777777778,\n",
       " (13, 5): 0.5962962962962963,\n",
       " (13, 6): 0.7425925925925926,\n",
       " (13, 7): 0.5611111111111111,\n",
       " (13, 8): 0.6925925925925925,\n",
       " (13, 9): 0.7814814814814814,\n",
       " (13, 10): 0.9222222222222223,\n",
       " (13, 11): 0.7462962962962963,\n",
       " (13, 12): 0.7685185185185185,\n",
       " (13, 13): 1.0,\n",
       " (13, 14): 0.7148148148148148,\n",
       " (13, 15): 0.7462962962962963,\n",
       " (13, 16): 0.7777777777777778,\n",
       " (14, 0): 0.9279112754158965,\n",
       " (14, 1): 0.5249537892791127,\n",
       " (14, 2): 0.6025878003696857,\n",
       " (14, 3): 0.5785582255083179,\n",
       " (14, 4): 0.6321626617375231,\n",
       " (14, 5): 0.5009242144177449,\n",
       " (14, 6): 0.6876155268022182,\n",
       " (14, 7): 0.5988909426987061,\n",
       " (14, 8): 0.7042513863216266,\n",
       " (14, 9): 0.922365988909427,\n",
       " (14, 10): 0.7578558225508318,\n",
       " (14, 11): 0.9094269870609981,\n",
       " (14, 12): 0.7818853974121996,\n",
       " (14, 13): 0.7282809611829945,\n",
       " (14, 14): 1.0,\n",
       " (14, 15): 0.6118299445471349,\n",
       " (14, 16): 0.9593345656192237,\n",
       " (15, 0): 0.4087346024636058,\n",
       " (15, 1): 0.3202687569988802,\n",
       " (15, 2): 0.4165733482642777,\n",
       " (15, 3): 0.40313549832026874,\n",
       " (15, 4): 0.43784994400895855,\n",
       " (15, 5): 0.3516237402015677,\n",
       " (15, 6): 0.3964165733482643,\n",
       " (15, 7): 0.5195968645016797,\n",
       " (15, 8): 0.4221724524076148,\n",
       " (15, 9): 0.5655095184770437,\n",
       " (15, 10): 0.44568868980963045,\n",
       " (15, 11): 0.620380739081747,\n",
       " (15, 12): 0.6416573348264277,\n",
       " (15, 13): 0.4568868980963046,\n",
       " (15, 14): 0.4400895856662934,\n",
       " (15, 15): 1.0,\n",
       " (15, 16): 0.5879059350503919,\n",
       " (16, 0): 0.9400352733686067,\n",
       " (16, 1): 0.5608465608465608,\n",
       " (16, 2): 0.6649029982363316,\n",
       " (16, 3): 0.656084656084656,\n",
       " (16, 4): 0.6190476190476191,\n",
       " (16, 5): 0.5908289241622575,\n",
       " (16, 6): 0.6137566137566137,\n",
       " (16, 7): 0.7530864197530864,\n",
       " (16, 8): 0.6772486772486772,\n",
       " (16, 9): 0.9453262786596119,\n",
       " (16, 10): 0.9223985890652557,\n",
       " (16, 11): 0.9294532627865961,\n",
       " (16, 12): 0.783068783068783,\n",
       " (16, 13): 0.7513227513227513,\n",
       " (16, 14): 0.9682539682539683,\n",
       " (16, 15): 0.9223985890652557,\n",
       " (16, 16): 1.0}"
      ]
     },
     "metadata": {},
     "execution_count": 19
    }
   ],
   "metadata": {}
  },
  {
   "cell_type": "markdown",
   "source": [
    "With this dataset (where ligands come from the same chemical series), the best aligned scaffold is not necessarily `molid` because other scaffold can be similar but larger. The best scaffold is clearly well aligned and has a reasonable score:"
   ],
   "metadata": {}
  },
  {
   "cell_type": "code",
   "execution_count": 20,
   "source": [
    "_ = widgets.interact(lambda index: als.show(0, index), index=widgets.IntSlider(min=0, max=len(mols)-1, step=1, value=1))"
   ],
   "outputs": [
    {
     "output_type": "display_data",
     "data": {
      "application/vnd.jupyter.widget-view+json": {
       "version_major": 2,
       "version_minor": 0,
       "model_id": "c7fdad06ee7946ee90512489e190c1ee"
      },
      "text/plain": [
       "interactive(children=(IntSlider(value=1, description='index', max=15), Output()), _dom_classes=('widget-intera…"
      ]
     },
     "metadata": {}
    }
   ],
   "metadata": {}
  },
  {
   "cell_type": "code",
   "execution_count": 21,
   "source": [
    "als.save(i, j)\n",
    "als.save(i, i)\n",
    "als.save(j, j)"
   ],
   "outputs": [],
   "metadata": {}
  }
 ],
 "metadata": {
  "interpreter": {
   "hash": "2170310d8da5d5d0ced416f072c764c73705bd667e97df15cd83672f4e754559"
  },
  "kernelspec": {
   "name": "python3",
   "display_name": "Python 3.7.10 64-bit ('densitymatch': conda)"
  },
  "language_info": {
   "codemirror_mode": {
    "name": "ipython",
    "version": 3
   },
   "file_extension": ".py",
   "mimetype": "text/x-python",
   "name": "python",
   "nbconvert_exporter": "python",
   "pygments_lexer": "ipython3",
   "version": "3.7.10"
  }
 },
 "nbformat": 4,
 "nbformat_minor": 2
}