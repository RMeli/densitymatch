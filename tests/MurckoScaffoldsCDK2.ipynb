{
 "cells": [
  {
   "cell_type": "markdown",
   "metadata": {},
   "source": [
    "# Align Murcko Scaffolds"
   ]
  },
  {
   "cell_type": "code",
   "execution_count": 1,
   "metadata": {},
   "outputs": [],
   "source": [
    "%load_ext autoreload\n",
    "%autoreload 2"
   ]
  },
  {
   "cell_type": "markdown",
   "metadata": {},
   "source": [
    "### Libraries"
   ]
  },
  {
   "cell_type": "code",
   "execution_count": 2,
   "metadata": {},
   "outputs": [
    {
     "name": "stdout",
     "output_type": "stream",
     "text": [
      "Jupyter environment detected. Enabling Open3D WebVisualizer.\n",
      "[Open3D INFO] WebRTC GUI backend enabled.\n",
      "[Open3D INFO] WebRTCWindowSystem: HTTP handshake server disabled.\n"
     ]
    },
    {
     "name": "stderr",
     "output_type": "stream",
     "text": [
      "INFO - 2021-09-07 16:53:37,748 - __init__ - Enabling RDKit 2021.03.3 jupyter extensions\n"
     ]
    }
   ],
   "source": [
    "import open3d as o3d\n",
    "import numpy as np\n",
    "import seaborn as sns\n",
    "import pandas as pd\n",
    "\n",
    "from numpy.random import default_rng\n",
    "\n",
    "import re, os\n",
    "from io import StringIO\n",
    "\n",
    "from tqdm.auto import trange\n",
    "\n",
    "import py3Dmol\n",
    "\n",
    "from rdkit import Chem\n",
    "from rdkit.Chem import AllChem\n",
    "from rdkit.Chem import PandasTools\n",
    "\n",
    "import ipywidgets as widgets\n",
    "\n",
    "import copy"
   ]
  },
  {
   "cell_type": "code",
   "execution_count": 3,
   "metadata": {},
   "outputs": [],
   "source": [
    "from utils import show_molecule_idx\n",
    "from utils import AlignShow, translate_and_rotate"
   ]
  },
  {
   "cell_type": "code",
   "execution_count": 4,
   "metadata": {},
   "outputs": [],
   "source": [
    "from rdkit.Chem.Scaffolds import MurckoScaffold as MS"
   ]
  },
  {
   "cell_type": "code",
   "execution_count": 5,
   "metadata": {},
   "outputs": [
    {
     "name": "stdout",
     "output_type": "stream",
     "text": [
      "['ligands/CDK2/4ek4_B_1CK_tran.pcd', 'ligands/CDK2/4ek5_B_03K_tran.pcd', 'ligands/CDK2/4fkg_B_4CK_tran.pcd', 'ligands/CDK2/4fki_B_09K_tran.pcd', 'ligands/CDK2/4fkj_B_11K_tran.pcd', 'ligands/CDK2/3sw4_B_18K_tran.pcd', 'ligands/CDK2/3sw7_B_19K_tran.pcd', 'ligands/CDK2/4fko_B_20K_tran.pcd', 'ligands/CDK2/4fkp_B_LS5_tran.pcd', 'ligands/CDK2/4fkq_B_42K_tran.pcd', 'ligands/CDK2/4fkr_B_45K_tran.pcd', 'ligands/CDK2/4fks_B_46K_tran.pcd', 'ligands/CDK2/4fkt_B_48K_tran.pcd', 'ligands/CDK2/4fku_D_60K_tran.pcd', 'ligands/CDK2/4fkv_B_61K_tran.pcd', 'ligands/CDK2/4fkw_B_62K_tran.pcd']\n"
     ]
    }
   ],
   "source": [
    "path = \"ligands/CDK2\"\n",
    "files = [os.path.join(path, f) for f in os.listdir(path) if os.path.splitext(f)[-1] == \".pcd\" and os.path.splitext(f)[0][-4:] == \"tran\"]\n",
    "\n",
    "# Order ligands\n",
    "# This should make the three chemical series pop-up in the PCD fit\n",
    "names = {\n",
    "    \"4ek4_B_1CK\": \"CS1\",\n",
    "    \"4ek5_B_03K\": \"CS3\",\n",
    "    \"4fkg_B_4CK\": \"CS4\",\n",
    "    \"4fki_B_09K\": \"CS9\",\n",
    "    \"4fkj_B_11K\": \"CS11\",\n",
    "    \"3sw4_B_18K\": \"CS18\",\n",
    "    \"3sw7_B_19K\": \"CS19\",\n",
    "    \"4fko_B_20K\": \"CS20\",\n",
    "    \"4fkp_B_LS5\": \"CS241\",\n",
    "    \"4fkq_B_42K\": \"CS242\",\n",
    "    \"4fkr_B_45K\": \"CS245\",\n",
    "    \"4fks_B_46K\": \"CS246\",\n",
    "    \"4fkt_B_48K\": \"CS248\",\n",
    "    \"4fku_D_60K\": \"CS260\",\n",
    "    \"4fkv_B_61K\": \"CS261\",\n",
    "    \"4fkw_B_62K\": \"CS262\",\n",
    "}\n",
    "\n",
    "files.sort(key=lambda f: int(names[os.path.splitext(os.path.basename(f))[0].replace(\"_tran\", \"\")].replace(\"CS\", \"\")))\n",
    "\n",
    "print(files)\n",
    "\n",
    "pcds = []\n",
    "mols = []\n",
    "for f in files:\n",
    "    pcd = o3d.io.read_point_cloud(f)\n",
    "    pcds.append(pcd)\n",
    "\n",
    "    s = Chem.SDMolSupplier(f.replace(\".pcd\", \".sdf\"))\n",
    "    mol = next(s)\n",
    "    mols.append(mol)"
   ]
  },
  {
   "cell_type": "code",
   "execution_count": 6,
   "metadata": {},
   "outputs": [
    {
     "data": {
      "application/vnd.jupyter.widget-view+json": {
       "model_id": "0f53c36dd09c4fbf8f83aba93866acf7",
       "version_major": 2,
       "version_minor": 0
      },
      "text/plain": [
       "interactive(children=(IntSlider(value=1, description='index', max=15), Output()), _dom_classes=('widget-intera…"
      ]
     },
     "metadata": {},
     "output_type": "display_data"
    }
   ],
   "source": [
    "_ = widgets.interact(lambda index: show_molecule_idx(index, mols), index=widgets.IntSlider(min=0, max=len(mols)-1, step=1, value=1))"
   ]
  },
  {
   "cell_type": "code",
   "execution_count": 7,
   "metadata": {},
   "outputs": [],
   "source": [
    "msMols = [MS.GetScaffoldForMol(mol) for mol in mols]"
   ]
  },
  {
   "cell_type": "code",
   "execution_count": 8,
   "metadata": {},
   "outputs": [
    {
     "data": {
      "application/vnd.jupyter.widget-view+json": {
       "model_id": "596a8fe56b47474f949cd06ed6d405ea",
       "version_major": 2,
       "version_minor": 0
      },
      "text/plain": [
       "interactive(children=(IntSlider(value=1, description='index', max=15), Output()), _dom_classes=('widget-intera…"
      ]
     },
     "metadata": {},
     "output_type": "display_data"
    }
   ],
   "source": [
    "_ = widgets.interact(lambda index: show_molecule_idx(index, msMols), index=widgets.IntSlider(min=0, max=len(mols)-1, step=1, value=1))"
   ]
  },
  {
   "cell_type": "markdown",
   "metadata": {},
   "source": [
    "Write scaffolds to file:"
   ]
  },
  {
   "cell_type": "code",
   "execution_count": 9,
   "metadata": {},
   "outputs": [],
   "source": [
    "for idx, mol in enumerate(msMols):    \n",
    "    # Randomly translate and rotate Murcko scaffolds\n",
    "    translate_and_rotate(mol)\n",
    "\n",
    "    with Chem.SDWriter(os.path.join(path, f\"murcko_{idx}.sdf\")) as w:\n",
    "        w.write(mol, confId=0)"
   ]
  },
  {
   "cell_type": "code",
   "execution_count": 10,
   "metadata": {},
   "outputs": [],
   "source": [
    "n_mols_minus_one = len(mols) - 1"
   ]
  },
  {
   "cell_type": "code",
   "execution_count": 11,
   "metadata": {},
   "outputs": [],
   "source": [
    "%%bash -s \"$path\" \"$n_mols_minus_one\"\n",
    "\n",
    "# Python variable path passed to bash\n",
    "# Can be accessed with $1\n",
    "\n",
    "# Python variable n_frags passed to bash\n",
    "# Can be accessed with $2\n",
    "\n",
    "# Unfortunately molgrid does not work well with pybel\n",
    "# molgrid_to_pcd needs to run within a Singularity container\n",
    "# (RDKit and molgrid compiled from source!)\n",
    "# See https://github.com/gnina/libmolgrid/issues/62\n",
    "\n",
    "for SCAFFOLD in $(seq 0 $2)\n",
    "do\n",
    "    singularity run --nv --app python ../development/densitymatch.sif \\\n",
    "        ../molgrid_to_pcd.py ${PWD}/${1}/murcko_${SCAFFOLD}.sdf -o ${PWD}/${1}/murcko_${SCAFFOLD}.pcd \\\n",
    "            --ligmap ${PWD}/../files/ligmap\n",
    "done"
   ]
  },
  {
   "cell_type": "code",
   "execution_count": 12,
   "metadata": {},
   "outputs": [
    {
     "name": "stdout",
     "output_type": "stream",
     "text": [
      "murcko_0.pcd\r\n",
      "murcko_10.pcd\r\n",
      "murcko_11.pcd\r\n",
      "murcko_12.pcd\r\n",
      "murcko_13.pcd\r\n",
      "murcko_14.pcd\r\n",
      "murcko_15.pcd\r\n",
      "murcko_1.pcd\r\n",
      "murcko_2.pcd\r\n",
      "murcko_3.pcd\r\n",
      "murcko_4.pcd\r\n",
      "murcko_5.pcd\r\n",
      "murcko_6.pcd\r\n",
      "murcko_7.pcd\r\n",
      "murcko_8.pcd\r\n",
      "murcko_9.pcd\r\n"
     ]
    }
   ],
   "source": [
    "!ls ligands/CDK2 | grep \"murcko.*\\.pcd\""
   ]
  },
  {
   "cell_type": "code",
   "execution_count": 13,
   "metadata": {},
   "outputs": [
    {
     "name": "stdout",
     "output_type": "stream",
     "text": [
      "['ligands/CDK2/murcko_0.pcd', 'ligands/CDK2/murcko_1.pcd', 'ligands/CDK2/murcko_2.pcd', 'ligands/CDK2/murcko_3.pcd', 'ligands/CDK2/murcko_4.pcd', 'ligands/CDK2/murcko_5.pcd', 'ligands/CDK2/murcko_6.pcd', 'ligands/CDK2/murcko_7.pcd', 'ligands/CDK2/murcko_8.pcd', 'ligands/CDK2/murcko_9.pcd', 'ligands/CDK2/murcko_10.pcd', 'ligands/CDK2/murcko_11.pcd', 'ligands/CDK2/murcko_12.pcd', 'ligands/CDK2/murcko_13.pcd', 'ligands/CDK2/murcko_14.pcd', 'ligands/CDK2/murcko_15.pcd']\n",
      "[PointCloud with 425 points., PointCloud with 490 points., PointCloud with 509 points., PointCloud with 572 points., PointCloud with 858 points., PointCloud with 602 points., PointCloud with 606 points., PointCloud with 597 points., PointCloud with 572 points., PointCloud with 633 points., PointCloud with 934 points., PointCloud with 729 points., PointCloud with 540 points., PointCloud with 541 points., PointCloud with 893 points., PointCloud with 567 points.]\n"
     ]
    }
   ],
   "source": [
    "mkpcds = []\n",
    "mkmols = []\n",
    "\n",
    "files = [os.path.join(path, f\"murcko_{i}.pcd\") for i in range(len(mols))]\n",
    "\n",
    "print(files)\n",
    "\n",
    "for f in files:\n",
    "    pcd = o3d.io.read_point_cloud(f)\n",
    "    mkpcds.append(pcd)\n",
    "\n",
    "    s = Chem.SDMolSupplier(f.replace(\".pcd\", \".sdf\"))\n",
    "    mol = next(s)\n",
    "    mkmols.append(mol)\n",
    "\n",
    "print(mkpcds)"
   ]
  },
  {
   "cell_type": "code",
   "execution_count": 14,
   "metadata": {},
   "outputs": [],
   "source": [
    "molid = 8\n",
    "\n",
    "# Add reference molecule to fragments\n",
    "allmols = [mols[molid]] + mkmols\n",
    "allpcds = [pcds[molid]] + mkpcds"
   ]
  },
  {
   "cell_type": "code",
   "execution_count": 15,
   "metadata": {},
   "outputs": [],
   "source": [
    "als = AlignShow(allmols, allpcds)"
   ]
  },
  {
   "cell_type": "markdown",
   "metadata": {},
   "source": [
    "Look at the best alignment between molecule `molid` (which has been appended at position `0`) any all Murcko's scaffolds."
   ]
  },
  {
   "cell_type": "code",
   "execution_count": 16,
   "metadata": {},
   "outputs": [],
   "source": [
    "s, (i,j) = als.best_with(0) # molid has been appended in position 0"
   ]
  },
  {
   "cell_type": "code",
   "execution_count": 17,
   "metadata": {},
   "outputs": [
    {
     "data": {
      "text/plain": [
       "0.7505800464037123"
      ]
     },
     "execution_count": 17,
     "metadata": {},
     "output_type": "execute_result"
    }
   ],
   "source": [
    "s"
   ]
  },
  {
   "cell_type": "code",
   "execution_count": 18,
   "metadata": {},
   "outputs": [
    {
     "data": {
      "text/plain": [
       "(0, 11)"
      ]
     },
     "execution_count": 18,
     "metadata": {},
     "output_type": "execute_result"
    }
   ],
   "source": [
    "(i, j)"
   ]
  },
  {
   "cell_type": "code",
   "execution_count": 19,
   "metadata": {},
   "outputs": [
    {
     "data": {
      "text/plain": [
       "{(0, 0): 1.0,\n",
       " (0, 1): 0.4582366589327146,\n",
       " (0, 2): 0.45243619489559167,\n",
       " (0, 3): 0.44895591647331784,\n",
       " (0, 4): 0.5290023201856149,\n",
       " (0, 5): 0.5556844547563805,\n",
       " (0, 6): 0.39559164733178653,\n",
       " (0, 7): 0.41879350348027844,\n",
       " (0, 8): 0.5,\n",
       " (0, 9): 0.4396751740139211,\n",
       " (0, 10): 0.5232018561484919,\n",
       " (0, 11): 0.7505800464037123,\n",
       " (0, 12): 0.34454756380510443,\n",
       " (0, 13): 0.48607888631090485,\n",
       " (0, 14): 0.6322505800464037,\n",
       " (0, 15): 0.3990719257540603,\n",
       " (0, 16): 0.6241299303944315,\n",
       " (1, 0): 0.8658823529411764,\n",
       " (1, 1): 1.0,\n",
       " (1, 2): 0.9223529411764706,\n",
       " (1, 3): 0.8211764705882353,\n",
       " (1, 4): 0.7552941176470588,\n",
       " (1, 5): 0.6635294117647059,\n",
       " (1, 6): 0.6541176470588236,\n",
       " (1, 7): 0.6329411764705882,\n",
       " (1, 8): 0.6070588235294118,\n",
       " (1, 9): 0.8564705882352941,\n",
       " (1, 10): 0.76,\n",
       " (1, 11): 0.5952941176470589,\n",
       " (1, 12): 0.8258823529411765,\n",
       " (1, 13): 0.8094117647058824,\n",
       " (1, 14): 0.7717647058823529,\n",
       " (1, 15): 0.6070588235294118,\n",
       " (1, 16): 0.8117647058823529,\n",
       " (2, 0): 0.7673469387755102,\n",
       " (2, 1): 0.8367346938775511,\n",
       " (2, 2): 1.0,\n",
       " (2, 3): 0.9102040816326531,\n",
       " (2, 4): 0.6387755102040816,\n",
       " (2, 5): 0.7795918367346939,\n",
       " (2, 6): 0.563265306122449,\n",
       " (2, 7): 0.7040816326530612,\n",
       " (2, 8): 0.636734693877551,\n",
       " (2, 9): 0.7591836734693878,\n",
       " (2, 10): 0.6959183673469388,\n",
       " (2, 11): 0.8448979591836735,\n",
       " (2, 12): 0.7489795918367347,\n",
       " (2, 13): 0.6428571428571429,\n",
       " (2, 14): 0.7591836734693878,\n",
       " (2, 15): 0.5489795918367347,\n",
       " (2, 16): 0.7428571428571429,\n",
       " (3, 0): 0.7092337917485265,\n",
       " (3, 1): 0.7465618860510805,\n",
       " (3, 2): 0.899803536345776,\n",
       " (3, 3): 1.0,\n",
       " (3, 4): 0.6954813359528488,\n",
       " (3, 5): 0.8192534381139489,\n",
       " (3, 6): 0.7033398821218074,\n",
       " (3, 7): 0.7406679764243614,\n",
       " (3, 8): 0.7229862475442044,\n",
       " (3, 9): 0.8172888015717092,\n",
       " (3, 10): 0.6640471512770137,\n",
       " (3, 11): 0.825147347740668,\n",
       " (3, 12): 0.6915520628683693,\n",
       " (3, 13): 0.6424361493123772,\n",
       " (3, 14): 0.6974459724950884,\n",
       " (3, 15): 0.6836935166994106,\n",
       " (3, 16): 0.7387033398821218,\n",
       " (4, 0): 0.6835664335664335,\n",
       " (4, 1): 0.5751748251748252,\n",
       " (4, 2): 0.5821678321678322,\n",
       " (4, 3): 0.5576923076923077,\n",
       " (4, 4): 1.0,\n",
       " (4, 5): 0.9440559440559441,\n",
       " (4, 6): 0.5646853146853147,\n",
       " (4, 7): 0.527972027972028,\n",
       " (4, 8): 0.6223776223776224,\n",
       " (4, 9): 0.6066433566433567,\n",
       " (4, 10): 0.6048951048951049,\n",
       " (4, 11): 0.6171328671328671,\n",
       " (4, 12): 0.6153846153846154,\n",
       " (4, 13): 0.5769230769230769,\n",
       " (4, 14): 0.5786713286713286,\n",
       " (4, 15): 0.5629370629370629,\n",
       " (4, 16): 0.583916083916084,\n",
       " (5, 0): 0.47086247086247085,\n",
       " (5, 1): 0.3333333333333333,\n",
       " (5, 2): 0.3822843822843823,\n",
       " (5, 3): 0.4801864801864802,\n",
       " (5, 4): 0.6188811188811189,\n",
       " (5, 5): 1.0,\n",
       " (5, 6): 0.38694638694638694,\n",
       " (5, 7): 0.4020979020979021,\n",
       " (5, 8): 0.29953379953379955,\n",
       " (5, 9): 0.4114219114219114,\n",
       " (5, 10): 0.4114219114219114,\n",
       " (5, 11): 0.2925407925407925,\n",
       " (5, 12): 0.43123543123543123,\n",
       " (5, 13): 0.4020979020979021,\n",
       " (5, 14): 0.32634032634032634,\n",
       " (5, 15): 0.4160839160839161,\n",
       " (5, 16): 0.3997668997668998,\n",
       " (6, 0): 0.5598006644518272,\n",
       " (6, 1): 0.42857142857142855,\n",
       " (6, 2): 0.6112956810631229,\n",
       " (6, 3): 0.5813953488372093,\n",
       " (6, 4): 0.6029900332225914,\n",
       " (6, 5): 0.5598006644518272,\n",
       " (6, 6): 1.0,\n",
       " (6, 7): 0.6445182724252492,\n",
       " (6, 8): 0.9601328903654485,\n",
       " (6, 9): 0.6362126245847176,\n",
       " (6, 10): 0.7724252491694352,\n",
       " (6, 11): 0.6029900332225914,\n",
       " (6, 12): 0.7242524916943521,\n",
       " (6, 13): 0.5598006644518272,\n",
       " (6, 14): 0.6345514950166113,\n",
       " (6, 15): 0.5132890365448505,\n",
       " (6, 16): 0.5880398671096345,\n",
       " (7, 0): 0.6039603960396039,\n",
       " (7, 1): 0.5412541254125413,\n",
       " (7, 2): 0.5825082508250825,\n",
       " (7, 3): 0.5808580858085809,\n",
       " (7, 4): 0.5016501650165016,\n",
       " (7, 5): 0.5379537953795379,\n",
       " (7, 6): 0.6254125412541254,\n",
       " (7, 7): 1.0,\n",
       " (7, 8): 0.9537953795379538,\n",
       " (7, 9): 0.7244224422442245,\n",
       " (7, 10): 0.6765676567656765,\n",
       " (7, 11): 0.8399339933993399,\n",
       " (7, 12): 0.8168316831683168,\n",
       " (7, 13): 0.6287128712871287,\n",
       " (7, 14): 0.5066006600660066,\n",
       " (7, 15): 0.5264026402640264,\n",
       " (7, 16): 0.7194719471947195,\n",
       " (8, 0): 0.7135678391959799,\n",
       " (8, 1): 0.45896147403685095,\n",
       " (8, 2): 0.5477386934673367,\n",
       " (8, 3): 0.5644891122278057,\n",
       " (8, 4): 0.592964824120603,\n",
       " (8, 5): 0.5845896147403685,\n",
       " (8, 6): 0.9363484087102177,\n",
       " (8, 7): 0.9564489112227805,\n",
       " (8, 8): 1.0,\n",
       " (8, 9): 0.576214405360134,\n",
       " (8, 10): 0.6884422110552764,\n",
       " (8, 11): 0.6716917922948074,\n",
       " (8, 12): 0.7135678391959799,\n",
       " (8, 13): 0.6080402010050251,\n",
       " (8, 14): 0.6700167504187605,\n",
       " (8, 15): 0.711892797319933,\n",
       " (8, 16): 0.6716917922948074,\n",
       " (9, 0): 0.9493006993006993,\n",
       " (9, 1): 0.7132867132867133,\n",
       " (9, 2): 0.5454545454545454,\n",
       " (9, 3): 0.7412587412587412,\n",
       " (9, 4): 0.6818181818181818,\n",
       " (9, 5): 0.5576923076923077,\n",
       " (9, 6): 0.6748251748251748,\n",
       " (9, 7): 0.7657342657342657,\n",
       " (9, 8): 0.6171328671328671,\n",
       " (9, 9): 1.0,\n",
       " (9, 10): 0.7325174825174825,\n",
       " (9, 11): 0.9195804195804196,\n",
       " (9, 12): 0.916083916083916,\n",
       " (9, 13): 0.7062937062937062,\n",
       " (9, 14): 0.916083916083916,\n",
       " (9, 15): 0.9125874125874126,\n",
       " (9, 16): 0.9388111888111889,\n",
       " (10, 0): 0.717219589257504,\n",
       " (10, 1): 0.5229067930489731,\n",
       " (10, 2): 0.6287519747235387,\n",
       " (10, 3): 0.5387045813586098,\n",
       " (10, 4): 0.6161137440758294,\n",
       " (10, 5): 0.5987361769352291,\n",
       " (10, 6): 0.7567140600315956,\n",
       " (10, 7): 0.6303317535545023,\n",
       " (10, 8): 0.7535545023696683,\n",
       " (10, 9): 0.6808846761453397,\n",
       " (10, 10): 1.0,\n",
       " (10, 11): 0.7361769352290679,\n",
       " (10, 12): 0.9273301737756714,\n",
       " (10, 13): 0.7819905213270142,\n",
       " (10, 14): 0.8293838862559242,\n",
       " (10, 15): 0.6192733017377567,\n",
       " (10, 16): 0.8088467614533965,\n",
       " (11, 0): 0.7119914346895075,\n",
       " (11, 1): 0.3693790149892934,\n",
       " (11, 2): 0.49571734475374735,\n",
       " (11, 3): 0.40364025695931477,\n",
       " (11, 4): 0.41862955032119914,\n",
       " (11, 5): 0.4657387580299786,\n",
       " (11, 6): 0.4668094218415418,\n",
       " (11, 7): 0.5867237687366167,\n",
       " (11, 8): 0.5910064239828694,\n",
       " (11, 9): 0.6038543897216274,\n",
       " (11, 10): 0.5653104925053534,\n",
       " (11, 11): 1.0,\n",
       " (11, 12): 0.7665952890792291,\n",
       " (11, 13): 0.5974304068522484,\n",
       " (11, 14): 0.582441113490364,\n",
       " (11, 15): 0.5171306209850107,\n",
       " (11, 16): 0.6049250535331906,\n",
       " (12, 0): 0.53360768175583,\n",
       " (12, 1): 0.48010973936899864,\n",
       " (12, 2): 0.5363511659807956,\n",
       " (12, 3): 0.5294924554183813,\n",
       " (12, 4): 0.551440329218107,\n",
       " (12, 5): 0.5569272976680384,\n",
       " (12, 6): 0.6598079561042524,\n",
       " (12, 7): 0.7407407407407407,\n",
       " (12, 8): 0.6021947873799726,\n",
       " (12, 9): 0.7517146776406035,\n",
       " (12, 10): 0.8930041152263375,\n",
       " (12, 11): 0.9588477366255144,\n",
       " (12, 12): 1.0,\n",
       " (12, 13): 0.6556927297668038,\n",
       " (12, 14): 0.7338820301783264,\n",
       " (12, 15): 0.6748971193415638,\n",
       " (12, 16): 0.6625514403292181,\n",
       " (13, 0): 0.6,\n",
       " (13, 1): 0.687037037037037,\n",
       " (13, 2): 0.6129629629629629,\n",
       " (13, 3): 0.6759259259259259,\n",
       " (13, 4): 0.6259259259259259,\n",
       " (13, 5): 0.6018518518518519,\n",
       " (13, 6): 0.7592592592592593,\n",
       " (13, 7): 0.7148148148148148,\n",
       " (13, 8): 0.6962962962962963,\n",
       " (13, 9): 0.7555555555555555,\n",
       " (13, 10): 0.9222222222222223,\n",
       " (13, 11): 0.7944444444444444,\n",
       " (13, 12): 0.7685185185185185,\n",
       " (13, 13): 1.0,\n",
       " (13, 14): 0.7166666666666667,\n",
       " (13, 15): 0.7574074074074074,\n",
       " (13, 16): 0.7759259259259259,\n",
       " (14, 0): 0.9279112754158965,\n",
       " (14, 1): 0.6173752310536045,\n",
       " (14, 2): 0.7153419593345656,\n",
       " (14, 3): 0.5822550831792976,\n",
       " (14, 4): 0.6377079482439926,\n",
       " (14, 5): 0.5009242144177449,\n",
       " (14, 6): 0.6876155268022182,\n",
       " (14, 7): 0.7042513863216266,\n",
       " (14, 8): 0.7042513863216266,\n",
       " (14, 9): 0.922365988909427,\n",
       " (14, 10): 0.7541589648798521,\n",
       " (14, 11): 0.7652495378927912,\n",
       " (14, 12): 0.911275415896488,\n",
       " (14, 13): 0.7282809611829945,\n",
       " (14, 14): 1.0,\n",
       " (14, 15): 0.722735674676525,\n",
       " (14, 16): 0.9593345656192237,\n",
       " (15, 0): 0.5722284434490481,\n",
       " (15, 1): 0.3908174692049272,\n",
       " (15, 2): 0.4165733482642777,\n",
       " (15, 3): 0.40201567749160133,\n",
       " (15, 4): 0.3258678611422172,\n",
       " (15, 5): 0.4143337066069429,\n",
       " (15, 6): 0.42105263157894735,\n",
       " (15, 7): 0.5195968645016797,\n",
       " (15, 8): 0.4221724524076148,\n",
       " (15, 9): 0.5655095184770437,\n",
       " (15, 10): 0.44568868980963045,\n",
       " (15, 11): 0.5722284434490481,\n",
       " (15, 12): 0.4826427771556551,\n",
       " (15, 13): 0.45464725643896975,\n",
       " (15, 14): 0.47144456886898095,\n",
       " (15, 15): 1.0,\n",
       " (15, 16): 0.5879059350503919,\n",
       " (16, 0): 0.9365079365079365,\n",
       " (16, 1): 0.5608465608465608,\n",
       " (16, 2): 0.6684303350970018,\n",
       " (16, 3): 0.6878306878306878,\n",
       " (16, 4): 0.6261022927689595,\n",
       " (16, 5): 0.6419753086419753,\n",
       " (16, 6): 0.6137566137566137,\n",
       " (16, 7): 0.7583774250440917,\n",
       " (16, 8): 0.6807760141093474,\n",
       " (16, 9): 0.9453262786596119,\n",
       " (16, 10): 0.9206349206349206,\n",
       " (16, 11): 0.9294532627865961,\n",
       " (16, 12): 0.63668430335097,\n",
       " (16, 13): 0.7513227513227513,\n",
       " (16, 14): 0.9682539682539683,\n",
       " (16, 15): 0.9223985890652557,\n",
       " (16, 16): 1.0}"
      ]
     },
     "execution_count": 19,
     "metadata": {},
     "output_type": "execute_result"
    }
   ],
   "source": [
    "als.scores"
   ]
  },
  {
   "cell_type": "markdown",
   "metadata": {},
   "source": [
    "With this dataset (where ligands come from the same chemical series), the best aligned scaffold is not necessarily `molid` because other scaffold can be similar but larger. The best scaffold is clearly well aligned and has a reasonable score:"
   ]
  },
  {
   "cell_type": "code",
   "execution_count": 20,
   "metadata": {},
   "outputs": [
    {
     "data": {
      "application/vnd.jupyter.widget-view+json": {
       "model_id": "4a06ec374d4643f5918fd1231f4bad47",
       "version_major": 2,
       "version_minor": 0
      },
      "text/plain": [
       "interactive(children=(IntSlider(value=1, description='index', max=15), Output()), _dom_classes=('widget-intera…"
      ]
     },
     "metadata": {},
     "output_type": "display_data"
    }
   ],
   "source": [
    "_ = widgets.interact(lambda index: als.show(0, index), index=widgets.IntSlider(min=0, max=len(mols)-1, step=1, value=1))"
   ]
  },
  {
   "cell_type": "markdown",
   "metadata": {},
   "source": [
    "## Align Murcko Scaffold with Original Molecule"
   ]
  },
  {
   "cell_type": "code",
   "execution_count": 27,
   "metadata": {},
   "outputs": [
    {
     "data": {
      "application/3dmoljs_load.v0": "<div id=\"3dmolviewer_16310308359175296\"  style=\"position: relative; width: 640px; height: 480px\">\n        <p id=\"3dmolwarning_16310308359175296\" style=\"background-color:#ffcccc;color:black\">You appear to be running in JupyterLab (or JavaScript failed to load for some other reason).  You need to install the 3dmol extension: <br>\n        <tt>jupyter labextension install jupyterlab_3dmol</tt></p>\n        </div>\n<script>\n\nvar loadScriptAsync = function(uri){\n  return new Promise((resolve, reject) => {\n    var tag = document.createElement('script');\n    tag.src = uri;\n    tag.async = true;\n    tag.onload = () => {\n      resolve();\n    };\n  var firstScriptTag = document.getElementsByTagName('script')[0];\n  firstScriptTag.parentNode.insertBefore(tag, firstScriptTag);\n});\n};\n\nif(typeof $3Dmolpromise === 'undefined') {\n$3Dmolpromise = null;\n  $3Dmolpromise = loadScriptAsync('https://3dmol.org/build/3Dmol.js');\n}\n\nvar viewer_16310308359175296 = null;\nvar warn = document.getElementById(\"3dmolwarning_16310308359175296\");\nif(warn) {\n    warn.parentNode.removeChild(warn);\n}\n$3Dmolpromise.then(function() {\nviewer_16310308359175296 = $3Dmol.createViewer($(\"#3dmolviewer_16310308359175296\"),{backgroundColor:\"white\"});\nviewer_16310308359175296.zoomTo();\n\tviewer_16310308359175296.addModel(\"4fkp_B_LS5.pdb\\n     RDKit          3D\\n\\n 18 20  0  0  1  0  0  0  0  0999 V2000\\n   24.2102  -11.4934   14.4683 N   0  0  0  0  0  0  0  0  0  0  0  0\\n   23.8092  -12.7693   14.4444 C   0  0  0  0  0  0  0  0  0  0  0  0\\n   23.5788  -13.1847   13.1311 C   0  0  2  0  0  0  0  0  0  0  0  0\\n   23.7516  -11.8393   10.9283 C   0  0  0  0  0  0  0  0  0  0  0  0\\n   24.0561  -10.5660   10.4267 C   0  0  0  0  0  0  0  0  0  0  0  0\\n   24.4880   -9.5299   11.2801 C   0  0  0  0  0  0  0  0  0  0  0  0\\n   24.5203   -9.7597   12.6713 C   0  0  0  0  0  0  0  0  0  0  0  0\\n   24.2142  -11.0249   13.1787 C   0  0  0  0  0  0  0  0  0  0  0  0\\n   23.7851  -12.0499   12.3156 C   0  0  0  0  0  0  0  0  0  0  0  0\\n   23.7073  -13.5268   15.4194 O   0  0  0  0  0  0  0  0  0  0  0  0\\n   22.9794  -14.4026   12.7815 C   0  0  0  0  0  0  0  0  0  0  0  0\\n   22.7005  -15.3524   13.6915 N   0  0  0  0  0  0  0  0  0  0  0  0\\n   22.0358  -16.4931   13.4268 C   0  0  0  0  0  0  0  0  0  0  0  0\\n   21.1497  -16.5788   12.3320 C   0  0  0  0  0  0  0  0  0  0  0  0\\n   20.4611  -17.7837   12.0980 C   0  0  0  0  0  0  0  0  0  0  0  0\\n   20.6016  -18.8662   12.9748 C   0  0  0  0  0  0  0  0  0  0  0  0\\n   21.4357  -18.7811   14.1042 C   0  0  0  0  0  0  0  0  0  0  0  0\\n   22.1271  -17.5784   14.3105 C   0  0  0  0  0  0  0  0  0  0  0  0\\n  1  2  1  0\\n  1  8  1  0\\n  2  3  1  0\\n  2 10  2  0\\n  3  9  1  0\\n  3 11  1  1\\n  4  5  1  0\\n  4  9  2  0\\n  5  6  2  0\\n  6  7  1  0\\n  7  8  2  0\\n  8  9  1  0\\n 11 12  2  0\\n 12 13  1  0\\n 13 14  2  0\\n 13 18  1  0\\n 14 15  1  0\\n 15 16  2  0\\n 16 17  1  0\\n 17 18  2  0\\nM  END\\n\",\"sdf\");\n\tviewer_16310308359175296.addModel(\"4fkp_B_LS5.pdb\\n     RDKit          3D\\n\\n 18 20  0  0  1  0  0  0  0  0999 V2000\\n   10.6661   -4.0584   27.8223 N   0  0  0  0  0  0  0  0  0  0  0  0\\n   10.0318   -5.2103   28.0673 C   0  0  0  0  0  0  0  0  0  0  0  0\\n   10.3629   -6.1652   27.1036 C   0  0  2  0  0  0  0  0  0  0  0  0\\n   11.8821   -5.9400   25.0219 C   0  0  0  0  0  0  0  0  0  0  0  0\\n   12.6847   -5.0237   24.3277 C   0  0  0  0  0  0  0  0  0  0  0  0\\n   12.8923   -3.7180   24.8180 C   0  0  0  0  0  0  0  0  0  0  0  0\\n   12.2014   -3.3055   25.9764 C   0  0  0  0  0  0  0  0  0  0  0  0\\n   11.3966   -4.2120   26.6711 C   0  0  0  0  0  0  0  0  0  0  0  0\\n   11.1987   -5.5121   26.1707 C   0  0  0  0  0  0  0  0  0  0  0  0\\n    9.2989   -5.4550   29.0357 O   0  0  0  0  0  0  0  0  0  0  0  0\\n    9.7300   -7.4092   26.9740 C   0  0  0  0  0  0  0  0  0  0  0  0\\n    8.8322   -7.8543   27.8706 N   0  0  0  0  0  0  0  0  0  0  0  0\\n    8.1221   -8.9910   27.7417 C   0  0  0  0  0  0  0  0  0  0  0  0\\n    7.8739   -9.5509   26.4704 C   0  0  0  0  0  0  0  0  0  0  0  0\\n    7.1135  -10.7314   26.3760 C   0  0  0  0  0  0  0  0  0  0  0  0\\n    6.5543  -11.3119   27.5209 C   0  0  0  0  0  0  0  0  0  0  0  0\\n    6.7419  -10.7370   28.7909 C   0  0  0  0  0  0  0  0  0  0  0  0\\n    7.5173   -9.5707   28.8665 C   0  0  0  0  0  0  0  0  0  0  0  0\\n  1  2  1  0\\n  1  8  1  0\\n  2  3  1  0\\n  2 10  2  0\\n  3  9  1  0\\n  3 11  1  6\\n  4  5  1  0\\n  4  9  2  0\\n  5  6  2  0\\n  6  7  1  0\\n  7  8  2  0\\n  8  9  1  0\\n 11 12  2  0\\n 12 13  1  0\\n 13 14  2  0\\n 13 18  1  0\\n 14 15  1  0\\n 15 16  2  0\\n 16 17  1  0\\n 17 18  2  0\\nM  END\\n\",\"sdf\");\n\tviewer_16310308359175296.addModel(\"4fkp_B_LS5.pdb\\n     RDKit          3D\\n\\n 25 27  0  0  1  0  0  0  0  0999 V2000\\n   10.6417   -4.0835   27.8633 N   0  0  0  0  0  0  0  0  0  0  0  0\\n   10.0065   -5.2357   28.1048 C   0  0  0  0  0  0  0  0  0  0  0  0\\n   10.3354   -6.1873   27.1370 C   0  0  2  0  0  0  0  0  0  0  0  0\\n   11.8520   -5.9557   25.0541 C   0  0  0  0  0  0  0  0  0  0  0  0\\n   12.6545   -5.0375   24.3624 C   0  0  0  0  0  0  0  0  0  0  0  0\\n   12.8641   -3.7339   24.8574 C   0  0  0  0  0  0  0  0  0  0  0  0\\n   12.1752   -3.3252   26.0183 C   0  0  0  0  0  0  0  0  0  0  0  0\\n   11.3705   -4.2335   26.7106 C   0  0  0  0  0  0  0  0  0  0  0  0\\n   11.1706   -5.5315   26.2056 C   0  0  0  0  0  0  0  0  0  0  0  0\\n    9.2747   -5.4833   29.0733 O   0  0  0  0  0  0  0  0  0  0  0  0\\n    9.7009   -7.4301   27.0036 C   0  0  0  0  0  0  0  0  0  0  0  0\\n    8.8040   -7.8777   27.8997 N   0  0  0  0  0  0  0  0  0  0  0  0\\n    8.0925   -9.0133   27.7674 C   0  0  0  0  0  0  0  0  0  0  0  0\\n    7.8420   -9.5680   26.4944 C   0  0  0  0  0  0  0  0  0  0  0  0\\n    7.0803  -10.7474   26.3965 C   0  0  0  0  0  0  0  0  0  0  0  0\\n    6.5221  -11.3316   27.5400 C   0  0  0  0  0  0  0  0  0  0  0  0\\n    6.7120  -10.7618   28.8118 C   0  0  0  0  0  0  0  0  0  0  0  0\\n    7.4887   -9.5966   28.8909 C   0  0  0  0  0  0  0  0  0  0  0  0\\n    5.5362  -12.7357   27.3173 S   0  0  0  0  0  0  0  0  0  0  0  0\\n    5.0634  -13.1935   28.6670 O   0  0  0  0  0  0  0  0  0  0  0  0\\n    4.4257  -12.3356   26.4057 O   0  0  0  0  0  0  0  0  0  0  0  0\\n    6.5288  -13.7720   26.5766 N   0  0  0  0  0  0  0  0  0  0  0  0\\n    7.5899  -14.3251   27.1977 C   0  0  0  0  0  0  0  0  0  0  0  0\\n    8.4253  -15.0901   26.5042 N   0  0  0  0  0  0  0  0  0  0  0  0\\n    7.8169  -14.1648   28.5056 N   0  0  0  0  0  0  0  0  0  0  0  0\\n  1  2  1  0\\n  1  8  1  0\\n  2  3  1  0\\n  2 10  2  0\\n  3  9  1  0\\n  3 11  1  6\\n  4  5  1  0\\n  4  9  2  0\\n  5  6  2  0\\n  6  7  1  0\\n  7  8  2  0\\n  8  9  1  0\\n 11 12  2  0\\n 12 13  1  0\\n 13 14  2  0\\n 13 18  1  0\\n 14 15  1  0\\n 15 16  2  0\\n 16 17  1  0\\n 16 19  1  0\\n 17 18  2  0\\n 19 20  2  0\\n 19 21  2  0\\n 19 22  1  0\\n 22 23  2  3\\n 23 24  1  0\\n 23 25  1  0\\nM  END\\n\",\"sdf\");\n\tviewer_16310308359175296.setStyle({\"model\": 0},{\"stick\": {\"colorscheme\": \"lightgreyCarbon\"}});\n\tviewer_16310308359175296.setStyle({\"model\": 1},{\"stick\": {\"colorscheme\": \"redCarbon\"}});\n\tviewer_16310308359175296.setStyle({\"model\": 2},{\"stick\": {\"colorscheme\": \"greyCarbon\"}});\n\tviewer_16310308359175296.zoomTo();\nviewer_16310308359175296.render();\n});\n</script>",
      "text/html": [
       "<div id=\"3dmolviewer_16310308359175296\"  style=\"position: relative; width: 640px; height: 480px\">\n",
       "        <p id=\"3dmolwarning_16310308359175296\" style=\"background-color:#ffcccc;color:black\">You appear to be running in JupyterLab (or JavaScript failed to load for some other reason).  You need to install the 3dmol extension: <br>\n",
       "        <tt>jupyter labextension install jupyterlab_3dmol</tt></p>\n",
       "        </div>\n",
       "<script>\n",
       "\n",
       "var loadScriptAsync = function(uri){\n",
       "  return new Promise((resolve, reject) => {\n",
       "    var tag = document.createElement('script');\n",
       "    tag.src = uri;\n",
       "    tag.async = true;\n",
       "    tag.onload = () => {\n",
       "      resolve();\n",
       "    };\n",
       "  var firstScriptTag = document.getElementsByTagName('script')[0];\n",
       "  firstScriptTag.parentNode.insertBefore(tag, firstScriptTag);\n",
       "});\n",
       "};\n",
       "\n",
       "if(typeof $3Dmolpromise === 'undefined') {\n",
       "$3Dmolpromise = null;\n",
       "  $3Dmolpromise = loadScriptAsync('https://3dmol.org/build/3Dmol.js');\n",
       "}\n",
       "\n",
       "var viewer_16310308359175296 = null;\n",
       "var warn = document.getElementById(\"3dmolwarning_16310308359175296\");\n",
       "if(warn) {\n",
       "    warn.parentNode.removeChild(warn);\n",
       "}\n",
       "$3Dmolpromise.then(function() {\n",
       "viewer_16310308359175296 = $3Dmol.createViewer($(\"#3dmolviewer_16310308359175296\"),{backgroundColor:\"white\"});\n",
       "viewer_16310308359175296.zoomTo();\n",
       "\tviewer_16310308359175296.addModel(\"4fkp_B_LS5.pdb\\n     RDKit          3D\\n\\n 18 20  0  0  1  0  0  0  0  0999 V2000\\n   24.2102  -11.4934   14.4683 N   0  0  0  0  0  0  0  0  0  0  0  0\\n   23.8092  -12.7693   14.4444 C   0  0  0  0  0  0  0  0  0  0  0  0\\n   23.5788  -13.1847   13.1311 C   0  0  2  0  0  0  0  0  0  0  0  0\\n   23.7516  -11.8393   10.9283 C   0  0  0  0  0  0  0  0  0  0  0  0\\n   24.0561  -10.5660   10.4267 C   0  0  0  0  0  0  0  0  0  0  0  0\\n   24.4880   -9.5299   11.2801 C   0  0  0  0  0  0  0  0  0  0  0  0\\n   24.5203   -9.7597   12.6713 C   0  0  0  0  0  0  0  0  0  0  0  0\\n   24.2142  -11.0249   13.1787 C   0  0  0  0  0  0  0  0  0  0  0  0\\n   23.7851  -12.0499   12.3156 C   0  0  0  0  0  0  0  0  0  0  0  0\\n   23.7073  -13.5268   15.4194 O   0  0  0  0  0  0  0  0  0  0  0  0\\n   22.9794  -14.4026   12.7815 C   0  0  0  0  0  0  0  0  0  0  0  0\\n   22.7005  -15.3524   13.6915 N   0  0  0  0  0  0  0  0  0  0  0  0\\n   22.0358  -16.4931   13.4268 C   0  0  0  0  0  0  0  0  0  0  0  0\\n   21.1497  -16.5788   12.3320 C   0  0  0  0  0  0  0  0  0  0  0  0\\n   20.4611  -17.7837   12.0980 C   0  0  0  0  0  0  0  0  0  0  0  0\\n   20.6016  -18.8662   12.9748 C   0  0  0  0  0  0  0  0  0  0  0  0\\n   21.4357  -18.7811   14.1042 C   0  0  0  0  0  0  0  0  0  0  0  0\\n   22.1271  -17.5784   14.3105 C   0  0  0  0  0  0  0  0  0  0  0  0\\n  1  2  1  0\\n  1  8  1  0\\n  2  3  1  0\\n  2 10  2  0\\n  3  9  1  0\\n  3 11  1  1\\n  4  5  1  0\\n  4  9  2  0\\n  5  6  2  0\\n  6  7  1  0\\n  7  8  2  0\\n  8  9  1  0\\n 11 12  2  0\\n 12 13  1  0\\n 13 14  2  0\\n 13 18  1  0\\n 14 15  1  0\\n 15 16  2  0\\n 16 17  1  0\\n 17 18  2  0\\nM  END\\n\",\"sdf\");\n",
       "\tviewer_16310308359175296.addModel(\"4fkp_B_LS5.pdb\\n     RDKit          3D\\n\\n 18 20  0  0  1  0  0  0  0  0999 V2000\\n   10.6661   -4.0584   27.8223 N   0  0  0  0  0  0  0  0  0  0  0  0\\n   10.0318   -5.2103   28.0673 C   0  0  0  0  0  0  0  0  0  0  0  0\\n   10.3629   -6.1652   27.1036 C   0  0  2  0  0  0  0  0  0  0  0  0\\n   11.8821   -5.9400   25.0219 C   0  0  0  0  0  0  0  0  0  0  0  0\\n   12.6847   -5.0237   24.3277 C   0  0  0  0  0  0  0  0  0  0  0  0\\n   12.8923   -3.7180   24.8180 C   0  0  0  0  0  0  0  0  0  0  0  0\\n   12.2014   -3.3055   25.9764 C   0  0  0  0  0  0  0  0  0  0  0  0\\n   11.3966   -4.2120   26.6711 C   0  0  0  0  0  0  0  0  0  0  0  0\\n   11.1987   -5.5121   26.1707 C   0  0  0  0  0  0  0  0  0  0  0  0\\n    9.2989   -5.4550   29.0357 O   0  0  0  0  0  0  0  0  0  0  0  0\\n    9.7300   -7.4092   26.9740 C   0  0  0  0  0  0  0  0  0  0  0  0\\n    8.8322   -7.8543   27.8706 N   0  0  0  0  0  0  0  0  0  0  0  0\\n    8.1221   -8.9910   27.7417 C   0  0  0  0  0  0  0  0  0  0  0  0\\n    7.8739   -9.5509   26.4704 C   0  0  0  0  0  0  0  0  0  0  0  0\\n    7.1135  -10.7314   26.3760 C   0  0  0  0  0  0  0  0  0  0  0  0\\n    6.5543  -11.3119   27.5209 C   0  0  0  0  0  0  0  0  0  0  0  0\\n    6.7419  -10.7370   28.7909 C   0  0  0  0  0  0  0  0  0  0  0  0\\n    7.5173   -9.5707   28.8665 C   0  0  0  0  0  0  0  0  0  0  0  0\\n  1  2  1  0\\n  1  8  1  0\\n  2  3  1  0\\n  2 10  2  0\\n  3  9  1  0\\n  3 11  1  6\\n  4  5  1  0\\n  4  9  2  0\\n  5  6  2  0\\n  6  7  1  0\\n  7  8  2  0\\n  8  9  1  0\\n 11 12  2  0\\n 12 13  1  0\\n 13 14  2  0\\n 13 18  1  0\\n 14 15  1  0\\n 15 16  2  0\\n 16 17  1  0\\n 17 18  2  0\\nM  END\\n\",\"sdf\");\n",
       "\tviewer_16310308359175296.addModel(\"4fkp_B_LS5.pdb\\n     RDKit          3D\\n\\n 25 27  0  0  1  0  0  0  0  0999 V2000\\n   10.6417   -4.0835   27.8633 N   0  0  0  0  0  0  0  0  0  0  0  0\\n   10.0065   -5.2357   28.1048 C   0  0  0  0  0  0  0  0  0  0  0  0\\n   10.3354   -6.1873   27.1370 C   0  0  2  0  0  0  0  0  0  0  0  0\\n   11.8520   -5.9557   25.0541 C   0  0  0  0  0  0  0  0  0  0  0  0\\n   12.6545   -5.0375   24.3624 C   0  0  0  0  0  0  0  0  0  0  0  0\\n   12.8641   -3.7339   24.8574 C   0  0  0  0  0  0  0  0  0  0  0  0\\n   12.1752   -3.3252   26.0183 C   0  0  0  0  0  0  0  0  0  0  0  0\\n   11.3705   -4.2335   26.7106 C   0  0  0  0  0  0  0  0  0  0  0  0\\n   11.1706   -5.5315   26.2056 C   0  0  0  0  0  0  0  0  0  0  0  0\\n    9.2747   -5.4833   29.0733 O   0  0  0  0  0  0  0  0  0  0  0  0\\n    9.7009   -7.4301   27.0036 C   0  0  0  0  0  0  0  0  0  0  0  0\\n    8.8040   -7.8777   27.8997 N   0  0  0  0  0  0  0  0  0  0  0  0\\n    8.0925   -9.0133   27.7674 C   0  0  0  0  0  0  0  0  0  0  0  0\\n    7.8420   -9.5680   26.4944 C   0  0  0  0  0  0  0  0  0  0  0  0\\n    7.0803  -10.7474   26.3965 C   0  0  0  0  0  0  0  0  0  0  0  0\\n    6.5221  -11.3316   27.5400 C   0  0  0  0  0  0  0  0  0  0  0  0\\n    6.7120  -10.7618   28.8118 C   0  0  0  0  0  0  0  0  0  0  0  0\\n    7.4887   -9.5966   28.8909 C   0  0  0  0  0  0  0  0  0  0  0  0\\n    5.5362  -12.7357   27.3173 S   0  0  0  0  0  0  0  0  0  0  0  0\\n    5.0634  -13.1935   28.6670 O   0  0  0  0  0  0  0  0  0  0  0  0\\n    4.4257  -12.3356   26.4057 O   0  0  0  0  0  0  0  0  0  0  0  0\\n    6.5288  -13.7720   26.5766 N   0  0  0  0  0  0  0  0  0  0  0  0\\n    7.5899  -14.3251   27.1977 C   0  0  0  0  0  0  0  0  0  0  0  0\\n    8.4253  -15.0901   26.5042 N   0  0  0  0  0  0  0  0  0  0  0  0\\n    7.8169  -14.1648   28.5056 N   0  0  0  0  0  0  0  0  0  0  0  0\\n  1  2  1  0\\n  1  8  1  0\\n  2  3  1  0\\n  2 10  2  0\\n  3  9  1  0\\n  3 11  1  6\\n  4  5  1  0\\n  4  9  2  0\\n  5  6  2  0\\n  6  7  1  0\\n  7  8  2  0\\n  8  9  1  0\\n 11 12  2  0\\n 12 13  1  0\\n 13 14  2  0\\n 13 18  1  0\\n 14 15  1  0\\n 15 16  2  0\\n 16 17  1  0\\n 16 19  1  0\\n 17 18  2  0\\n 19 20  2  0\\n 19 21  2  0\\n 19 22  1  0\\n 22 23  2  3\\n 23 24  1  0\\n 23 25  1  0\\nM  END\\n\",\"sdf\");\n",
       "\tviewer_16310308359175296.setStyle({\"model\": 0},{\"stick\": {\"colorscheme\": \"lightgreyCarbon\"}});\n",
       "\tviewer_16310308359175296.setStyle({\"model\": 1},{\"stick\": {\"colorscheme\": \"redCarbon\"}});\n",
       "\tviewer_16310308359175296.setStyle({\"model\": 2},{\"stick\": {\"colorscheme\": \"greyCarbon\"}});\n",
       "\tviewer_16310308359175296.zoomTo();\n",
       "viewer_16310308359175296.render();\n",
       "});\n",
       "</script>"
      ]
     },
     "metadata": {},
     "output_type": "display_data"
    },
    {
     "data": {
      "text/plain": [
       "<py3Dmol.view at 0x7fd5bca37850>"
      ]
     },
     "execution_count": 27,
     "metadata": {},
     "output_type": "execute_result"
    }
   ],
   "source": [
    "# Molecule 8 with its own scaffold\n",
    "als = AlignShow([mols[8], mkmols[8]], [pcds[8], mkpcds[8]])\n",
    "als.save(1, 0)\n",
    "als.show(1, 0)"
   ]
  },
  {
   "cell_type": "code",
   "execution_count": null,
   "metadata": {},
   "outputs": [],
   "source": []
  }
 ],
 "metadata": {
  "interpreter": {
   "hash": "2170310d8da5d5d0ced416f072c764c73705bd667e97df15cd83672f4e754559"
  },
  "kernelspec": {
   "display_name": "Python 3",
   "language": "python",
   "name": "python3"
  },
  "language_info": {
   "codemirror_mode": {
    "name": "ipython",
    "version": 3
   },
   "file_extension": ".py",
   "mimetype": "text/x-python",
   "name": "python",
   "nbconvert_exporter": "python",
   "pygments_lexer": "ipython3",
   "version": "3.7.10"
  }
 },
 "nbformat": 4,
 "nbformat_minor": 2
}
