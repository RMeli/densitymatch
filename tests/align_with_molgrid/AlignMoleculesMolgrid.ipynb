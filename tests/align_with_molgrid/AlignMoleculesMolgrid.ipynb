{
 "cells": [
  {
   "cell_type": "markdown",
   "metadata": {},
   "source": [
    "# Align Molecules"
   ]
  },
  {
   "cell_type": "markdown",
   "metadata": {},
   "source": [
    "In this notebook we explire if we can use SENSAAS with point clouds from `libmolgrid`-generated densities in order to align molecules (as opposed to the molecular surfaces SENSAAS computes)."
   ]
  },
  {
   "cell_type": "code",
   "execution_count": 1,
   "metadata": {},
   "outputs": [
    {
     "data": {
      "text/html": [
       "\n",
       "                <script type=\"application/javascript\" id=\"jupyter_black\">\n",
       "                (function() {\n",
       "                    if (window.IPython === undefined) {\n",
       "                        return\n",
       "                    }\n",
       "                    var msg = \"WARNING: it looks like you might have loaded \" +\n",
       "                        \"jupyter_black in a non-lab notebook with \" +\n",
       "                        \"`is_lab=True`. Please double check, and if \" +\n",
       "                        \"loading with `%load_ext` please review the README!\"\n",
       "                    console.log(msg)\n",
       "                    alert(msg)\n",
       "                })()\n",
       "                </script>\n",
       "                "
      ],
      "text/plain": [
       "<IPython.core.display.HTML object>"
      ]
     },
     "metadata": {},
     "output_type": "display_data"
    }
   ],
   "source": [
    "%load_ext autoreload\n",
    "%autoreload 2\n",
    "%load_ext jupyter_black"
   ]
  },
  {
   "cell_type": "code",
   "execution_count": 2,
   "metadata": {},
   "outputs": [],
   "source": [
    "# sensaas: sensaas coloring method for PCDs\n",
    "# molgrid: libmolgrid coloring method for PCDs\n",
    "method = \"molgrid\""
   ]
  },
  {
   "cell_type": "code",
   "execution_count": 3,
   "metadata": {},
   "outputs": [],
   "source": [
    "dir = f\"failed-{method}/\"\n",
    "for f in os.listdir(dir):\n",
    "    os.remove(os.path.join(dir, f))"
   ]
  },
  {
   "cell_type": "markdown",
   "metadata": {},
   "source": [
    "### Libraries"
   ]
  },
  {
   "cell_type": "code",
   "execution_count": 4,
   "metadata": {},
   "outputs": [],
   "source": [
    "import sys\n",
    "\n",
    "sys.path.append(\"../../\")\n",
    "sys.path.append(\"../\")"
   ]
  },
  {
   "cell_type": "code",
   "execution_count": 5,
   "metadata": {},
   "outputs": [
    {
     "name": "stdout",
     "output_type": "stream",
     "text": [
      "Jupyter environment detected. Enabling Open3D WebVisualizer.\n",
      "[Open3D INFO] WebRTC GUI backend enabled.\n",
      "[Open3D INFO] WebRTCWindowSystem: HTTP handshake server disabled.\n"
     ]
    }
   ],
   "source": [
    "import open3d as o3d\n",
    "import pandas as pd\n",
    "from collections import defaultdict\n",
    "\n",
    "import re, os\n",
    "from rdkit import Chem"
   ]
  },
  {
   "cell_type": "code",
   "execution_count": 6,
   "metadata": {},
   "outputs": [],
   "source": [
    "from utils import align_and_show"
   ]
  },
  {
   "cell_type": "markdown",
   "metadata": {},
   "source": [
    "Store RMSD before and after alignment (for both BRD4 and CDK2)"
   ]
  },
  {
   "cell_type": "code",
   "execution_count": 7,
   "metadata": {},
   "outputs": [],
   "source": [
    "rmsds = defaultdict(list)"
   ]
  },
  {
   "cell_type": "markdown",
   "metadata": {},
   "source": [
    "## BRD4 Inhibitors"
   ]
  },
  {
   "cell_type": "code",
   "execution_count": 8,
   "metadata": {},
   "outputs": [],
   "source": [
    "path = \"../ligands/BRD4\""
   ]
  },
  {
   "cell_type": "markdown",
   "metadata": {},
   "source": [
    "Loda original BRD4 inhibitors together with their point cloud representation (pre-computed):"
   ]
  },
  {
   "cell_type": "code",
   "execution_count": 9,
   "metadata": {},
   "outputs": [
    {
     "name": "stdout",
     "output_type": "stream",
     "text": [
      "['../ligands/BRD4/ligand-1_molgrid.pcd', '../ligands/BRD4/ligand-2_molgrid.pcd', '../ligands/BRD4/ligand-3_molgrid.pcd', '../ligands/BRD4/ligand-4_molgrid.pcd', '../ligands/BRD4/ligand-5_molgrid.pcd', '../ligands/BRD4/ligand-6_molgrid.pcd', '../ligands/BRD4/ligand-7_molgrid.pcd', '../ligands/BRD4/ligand-8_molgrid.pcd', '../ligands/BRD4/ligand-9_molgrid.pcd', '../ligands/BRD4/ligand-10_molgrid.pcd']\n"
     ]
    }
   ],
   "source": [
    "files = []\n",
    "for f in os.listdir(path):\n",
    "    fname, ext = os.path.splitext(f)\n",
    "    if ext == \".pcd\" and method in f and not \"tran\" in f:\n",
    "        files.append(os.path.join(path, f))\n",
    "\n",
    "# Sort BRD4 ligand files by number\n",
    "r = re.compile(\"\\d{1,2}\")\n",
    "files.sort(key=lambda f: int(r.search(os.path.basename(f)).group()))\n",
    "\n",
    "print(files)\n",
    "\n",
    "pcds = []\n",
    "mols = []\n",
    "for f in files:\n",
    "    pcd = o3d.io.read_point_cloud(f)\n",
    "    pcds.append(pcd)\n",
    "\n",
    "    s = Chem.SDMolSupplier(f.replace(\".pcd\", \".sdf\").replace(f\"_{method}\", \"\"))\n",
    "    mol = next(s)\n",
    "    mols.append(mol)"
   ]
  },
  {
   "cell_type": "markdown",
   "metadata": {},
   "source": [
    "Load translated and rotated BRD4 inhibitors with their point-cloud representation (pre-computed):"
   ]
  },
  {
   "cell_type": "code",
   "execution_count": 10,
   "metadata": {},
   "outputs": [
    {
     "name": "stdout",
     "output_type": "stream",
     "text": [
      "['../ligands/BRD4/ligand-1_tran_molgrid.pcd', '../ligands/BRD4/ligand-2_tran_molgrid.pcd', '../ligands/BRD4/ligand-3_tran_molgrid.pcd', '../ligands/BRD4/ligand-4_tran_molgrid.pcd', '../ligands/BRD4/ligand-5_tran_molgrid.pcd', '../ligands/BRD4/ligand-6_tran_molgrid.pcd', '../ligands/BRD4/ligand-7_tran_molgrid.pcd', '../ligands/BRD4/ligand-8_tran_molgrid.pcd', '../ligands/BRD4/ligand-9_tran_molgrid.pcd', '../ligands/BRD4/ligand-10_tran_molgrid.pcd']\n"
     ]
    }
   ],
   "source": [
    "files = []\n",
    "for f in os.listdir(path):\n",
    "    fname, ext = os.path.splitext(f)\n",
    "    if ext == \".pcd\" and f\"tran_{method}\" in fname:\n",
    "        files.append(os.path.join(path, f))\n",
    "\n",
    "# Sort BRD4 ligand files by number\n",
    "r = re.compile(\"\\d{1,2}\")\n",
    "files.sort(key=lambda f: int(r.search(os.path.basename(f)).group()))\n",
    "\n",
    "print(files)\n",
    "\n",
    "tpcds = []\n",
    "tmols = []\n",
    "for f in files:\n",
    "    pcd = o3d.io.read_point_cloud(f)\n",
    "    tpcds.append(pcd)\n",
    "\n",
    "    s = Chem.SDMolSupplier(f.replace(\".pcd\", \".sdf\").replace(f\"_{method}\", \"\"))\n",
    "    mol = next(s)\n",
    "    tmols.append(mol)"
   ]
  },
  {
   "cell_type": "code",
   "execution_count": 11,
   "metadata": {},
   "outputs": [],
   "source": [
    "for i, f in enumerate(files):\n",
    "    rmsd_i, rmsd_f, _, _ = align_and_show(mols[i], pcds[i], tmols[i], tpcds[i])\n",
    "    rmsds[\"system\"].append(\"BRD4\")\n",
    "    rmsds[\"lig\"].append(os.path.splitext(os.path.basename(f))[0].replace(\"_tran\", \"\"))\n",
    "    rmsds[\"RMSDi\"].append(rmsd_i)\n",
    "    rmsds[\"RMSDf\"].append(rmsd_f)\n",
    "    rmsds[\"idx\"].append(i)"
   ]
  },
  {
   "cell_type": "markdown",
   "metadata": {},
   "source": [
    "### Failures"
   ]
  },
  {
   "cell_type": "code",
   "execution_count": 12,
   "metadata": {},
   "outputs": [],
   "source": [
    "df = pd.DataFrame(rmsds)"
   ]
  },
  {
   "cell_type": "code",
   "execution_count": 13,
   "metadata": {},
   "outputs": [
    {
     "data": {
      "text/html": [
       "<div>\n",
       "<style scoped>\n",
       "    .dataframe tbody tr th:only-of-type {\n",
       "        vertical-align: middle;\n",
       "    }\n",
       "\n",
       "    .dataframe tbody tr th {\n",
       "        vertical-align: top;\n",
       "    }\n",
       "\n",
       "    .dataframe thead th {\n",
       "        text-align: right;\n",
       "    }\n",
       "</style>\n",
       "<table border=\"1\" class=\"dataframe\">\n",
       "  <thead>\n",
       "    <tr style=\"text-align: right;\">\n",
       "      <th></th>\n",
       "      <th>system</th>\n",
       "      <th>lig</th>\n",
       "      <th>RMSDi</th>\n",
       "      <th>RMSDf</th>\n",
       "      <th>idx</th>\n",
       "    </tr>\n",
       "  </thead>\n",
       "  <tbody>\n",
       "  </tbody>\n",
       "</table>\n",
       "</div>"
      ],
      "text/plain": [
       "Empty DataFrame\n",
       "Columns: [system, lig, RMSDi, RMSDf, idx]\n",
       "Index: []"
      ]
     },
     "execution_count": 13,
     "metadata": {},
     "output_type": "execute_result"
    }
   ],
   "source": [
    "df[df.RMSDf > 2.0]"
   ]
  },
  {
   "cell_type": "code",
   "execution_count": 14,
   "metadata": {},
   "outputs": [],
   "source": [
    "for _, (i, lig) in df[df.RMSDf > 0.1][[\"idx\", \"lig\"]].iterrows():\n",
    "    _, _, p, tmol = align_and_show(mols[i], pcds[i], tmols[i], tpcds[i])\n",
    "\n",
    "    with Chem.SDWriter(f\"failed/{lig}_alignfail.sdf\") as w:\n",
    "        w.write(tmol, confId=1)\n",
    "\n",
    "    display(p)"
   ]
  },
  {
   "cell_type": "markdown",
   "metadata": {},
   "source": [
    "## CDK2 Inhibitors"
   ]
  },
  {
   "cell_type": "code",
   "execution_count": 15,
   "metadata": {},
   "outputs": [],
   "source": [
    "path = \"../ligands/CDK2\""
   ]
  },
  {
   "cell_type": "code",
   "execution_count": 16,
   "metadata": {},
   "outputs": [
    {
     "name": "stdout",
     "output_type": "stream",
     "text": [
      "['../ligands/CDK2/4ek4_B_1CK_molgrid.pcd', '../ligands/CDK2/4ek5_B_03K_molgrid.pcd', '../ligands/CDK2/4fkg_B_4CK_molgrid.pcd', '../ligands/CDK2/4fki_B_09K_molgrid.pcd', '../ligands/CDK2/4fkj_B_11K_molgrid.pcd', '../ligands/CDK2/3sw4_B_18K_molgrid.pcd', '../ligands/CDK2/3sw7_B_19K_molgrid.pcd', '../ligands/CDK2/4fko_B_20K_molgrid.pcd', '../ligands/CDK2/4fkp_B_LS5_molgrid.pcd', '../ligands/CDK2/4fkq_B_42K_molgrid.pcd', '../ligands/CDK2/4fkr_B_45K_molgrid.pcd', '../ligands/CDK2/4fks_B_46K_molgrid.pcd', '../ligands/CDK2/4fkt_B_48K_molgrid.pcd', '../ligands/CDK2/4fku_D_60K_molgrid.pcd', '../ligands/CDK2/4fkv_B_61K_molgrid.pcd', '../ligands/CDK2/4fkw_B_62K_molgrid.pcd']\n"
     ]
    }
   ],
   "source": [
    "files = []\n",
    "for f in os.listdir(path):\n",
    "    fname, ext = os.path.splitext(f)\n",
    "    if ext == \".pcd\" and method in f and not \"tran\" in f:\n",
    "        files.append(os.path.join(path, f))\n",
    "\n",
    "# Order ligands\n",
    "# This should make the three chemical series pop-up in the PCD fit\n",
    "names = {\n",
    "    \"4ek4_B_1CK\": \"CS1\",\n",
    "    \"4ek5_B_03K\": \"CS3\",\n",
    "    \"4fkg_B_4CK\": \"CS4\",\n",
    "    \"4fki_B_09K\": \"CS9\",\n",
    "    \"4fkj_B_11K\": \"CS11\",\n",
    "    \"3sw4_B_18K\": \"CS18\",\n",
    "    \"3sw7_B_19K\": \"CS19\",\n",
    "    \"4fko_B_20K\": \"CS20\",\n",
    "    \"4fkp_B_LS5\": \"CS241\",\n",
    "    \"4fkq_B_42K\": \"CS242\",\n",
    "    \"4fkr_B_45K\": \"CS245\",\n",
    "    \"4fks_B_46K\": \"CS246\",\n",
    "    \"4fkt_B_48K\": \"CS248\",\n",
    "    \"4fku_D_60K\": \"CS260\",\n",
    "    \"4fkv_B_61K\": \"CS261\",\n",
    "    \"4fkw_B_62K\": \"CS262\",\n",
    "}\n",
    "\n",
    "files.sort(\n",
    "    key=lambda f: int(\n",
    "        names[\n",
    "            os.path.splitext(os.path.basename(f))[0].replace(f\"_{method}\", \"\")\n",
    "        ].replace(\"CS\", \"\")\n",
    "    )\n",
    ")\n",
    "\n",
    "print(files)\n",
    "\n",
    "pcds = []\n",
    "mols = []\n",
    "for f in files:\n",
    "    pcd = o3d.io.read_point_cloud(f)\n",
    "    pcds.append(pcd)\n",
    "\n",
    "    s = Chem.SDMolSupplier(f.replace(\".pcd\", \".sdf\").replace(f\"_{method}\", \"\"))\n",
    "    mol = next(s)\n",
    "    mols.append(mol)"
   ]
  },
  {
   "cell_type": "code",
   "execution_count": 17,
   "metadata": {},
   "outputs": [
    {
     "name": "stdout",
     "output_type": "stream",
     "text": [
      "['../ligands/CDK2/4ek4_B_1CK_tran_molgrid.pcd', '../ligands/CDK2/4ek5_B_03K_tran_molgrid.pcd', '../ligands/CDK2/4fkg_B_4CK_tran_molgrid.pcd', '../ligands/CDK2/4fki_B_09K_tran_molgrid.pcd', '../ligands/CDK2/4fkj_B_11K_tran_molgrid.pcd', '../ligands/CDK2/3sw4_B_18K_tran_molgrid.pcd', '../ligands/CDK2/3sw7_B_19K_tran_molgrid.pcd', '../ligands/CDK2/4fko_B_20K_tran_molgrid.pcd', '../ligands/CDK2/4fkp_B_LS5_tran_molgrid.pcd', '../ligands/CDK2/4fkq_B_42K_tran_molgrid.pcd', '../ligands/CDK2/4fkr_B_45K_tran_molgrid.pcd', '../ligands/CDK2/4fks_B_46K_tran_molgrid.pcd', '../ligands/CDK2/4fkt_B_48K_tran_molgrid.pcd', '../ligands/CDK2/4fku_D_60K_tran_molgrid.pcd', '../ligands/CDK2/4fkv_B_61K_tran_molgrid.pcd', '../ligands/CDK2/4fkw_B_62K_tran_molgrid.pcd']\n"
     ]
    }
   ],
   "source": [
    "files = []\n",
    "for f in os.listdir(path):\n",
    "    fname, ext = os.path.splitext(f)\n",
    "    if ext == \".pcd\" and f\"tran_{method}\" in fname:\n",
    "        files.append(os.path.join(path, f))\n",
    "\n",
    "# Order ligands\n",
    "# This should make the three chemical series pop-up in the PCD fit\n",
    "names = {\n",
    "    \"4ek4_B_1CK\": \"CS1\",\n",
    "    \"4ek5_B_03K\": \"CS3\",\n",
    "    \"4fkg_B_4CK\": \"CS4\",\n",
    "    \"4fki_B_09K\": \"CS9\",\n",
    "    \"4fkj_B_11K\": \"CS11\",\n",
    "    \"3sw4_B_18K\": \"CS18\",\n",
    "    \"3sw7_B_19K\": \"CS19\",\n",
    "    \"4fko_B_20K\": \"CS20\",\n",
    "    \"4fkp_B_LS5\": \"CS241\",\n",
    "    \"4fkq_B_42K\": \"CS242\",\n",
    "    \"4fkr_B_45K\": \"CS245\",\n",
    "    \"4fks_B_46K\": \"CS246\",\n",
    "    \"4fkt_B_48K\": \"CS248\",\n",
    "    \"4fku_D_60K\": \"CS260\",\n",
    "    \"4fkv_B_61K\": \"CS261\",\n",
    "    \"4fkw_B_62K\": \"CS262\",\n",
    "}\n",
    "\n",
    "files.sort(\n",
    "    key=lambda f: int(\n",
    "        names[\n",
    "            os.path.splitext(os.path.basename(f))[0].replace(f\"_tran_{method}\", \"\")\n",
    "        ].replace(\"CS\", \"\")\n",
    "    )\n",
    ")\n",
    "\n",
    "print(files)\n",
    "\n",
    "tpcds = []\n",
    "tmols = []\n",
    "for f in files:\n",
    "    pcd = o3d.io.read_point_cloud(f)\n",
    "    tpcds.append(pcd)\n",
    "\n",
    "    s = Chem.SDMolSupplier(f.replace(\".pcd\", \".sdf\").replace(f\"_{method}\", \"\"))\n",
    "    mol = next(s)\n",
    "    tmols.append(mol)"
   ]
  },
  {
   "cell_type": "code",
   "execution_count": 18,
   "metadata": {},
   "outputs": [],
   "source": [
    "for i, f in enumerate(files):\n",
    "    rmsd_i, rmsd_f, _, _ = align_and_show(mols[i], pcds[i], tmols[i], tpcds[i])\n",
    "    rmsds[\"system\"].append(\"CDK2\")\n",
    "    rmsds[\"lig\"].append(\n",
    "        names[os.path.splitext(os.path.basename(f))[0].replace(f\"_tran_{method}\", \"\")]\n",
    "    )\n",
    "    rmsds[\"RMSDi\"].append(rmsd_i)\n",
    "    rmsds[\"RMSDf\"].append(rmsd_f)\n",
    "    rmsds[\"idx\"].append(i)"
   ]
  },
  {
   "cell_type": "markdown",
   "metadata": {},
   "source": [
    "### Failures"
   ]
  },
  {
   "cell_type": "code",
   "execution_count": 19,
   "metadata": {},
   "outputs": [],
   "source": [
    "df = pd.DataFrame(rmsds)\n",
    "df = df[df.system == \"CDK2\"]"
   ]
  },
  {
   "cell_type": "code",
   "execution_count": 20,
   "metadata": {},
   "outputs": [
    {
     "data": {
      "application/3dmoljs_load.v0": "<div id=\"3dmolviewer_1649367746276703\"  style=\"position: relative; width: 640px; height: 480px\">\n        <p id=\"3dmolwarning_1649367746276703\" style=\"background-color:#ffcccc;color:black\">You appear to be running in JupyterLab (or JavaScript failed to load for some other reason).  You need to install the 3dmol extension: <br>\n        <tt>jupyter labextension install jupyterlab_3dmol</tt></p>\n        </div>\n<script>\n\nvar loadScriptAsync = function(uri){\n  return new Promise((resolve, reject) => {\n    var tag = document.createElement('script');\n    tag.src = uri;\n    tag.async = true;\n    tag.onload = () => {\n      resolve();\n    };\n  var firstScriptTag = document.getElementsByTagName('script')[0];\n  firstScriptTag.parentNode.insertBefore(tag, firstScriptTag);\n});\n};\n\nif(typeof $3Dmolpromise === 'undefined') {\n$3Dmolpromise = null;\n  $3Dmolpromise = loadScriptAsync('https://3dmol.org/build/3Dmol.js');\n}\n\nvar viewer_1649367746276703 = null;\nvar warn = document.getElementById(\"3dmolwarning_1649367746276703\");\nif(warn) {\n    warn.parentNode.removeChild(warn);\n}\n$3Dmolpromise.then(function() {\nviewer_1649367746276703 = $3Dmol.createViewer($(\"#3dmolviewer_1649367746276703\"),{backgroundColor:\"white\"});\nviewer_1649367746276703.zoomTo();\n\tviewer_1649367746276703.addModel(\"3sw4_B_18K.pdb\\n     RDKit          3D\\n\\n 23 25  0  0  0  0  0  0  0  0999 V2000\\n   -0.1370   -8.0210   26.5240 S   0  0  0  0  0  0  0  0  0  0  0  0\\n    2.4750   -4.9350   26.1650 C   0  0  0  0  0  0  0  0  0  0  0  0\\n    2.1130   -7.2840   25.4780 N   0  0  0  0  0  0  0  0  0  0  0  0\\n    1.6540   -6.1800   26.1720 C   0  0  0  0  0  0  0  0  0  0  0  0\\n    1.5550   -9.5230   25.0730 N   0  0  0  0  0  0  0  0  0  0  0  0\\n    1.3000   -8.3100   25.5830 C   0  0  0  0  0  0  0  0  0  0  0  0\\n   -2.2070   -4.2040   29.2630 N   0  0  0  0  0  0  0  0  0  0  0  0\\n    0.4280   -6.3890   26.8250 C   0  0  0  0  0  0  0  0  0  0  0  0\\n   -3.4170   -6.1230   29.4940 N   0  0  0  0  0  0  0  0  0  0  0  0\\n   -0.4380   -5.5430   27.6640 C   0  0  0  0  0  0  0  0  0  0  0  0\\n   -5.6910  -11.3010   29.1790 N   0  0  0  0  0  0  0  0  0  0  0  0\\n   -0.2010   -4.1980   27.9180 C   0  0  0  0  0  0  0  0  0  0  0  0\\n   -1.4850   -6.2040   28.1800 N   0  0  0  0  0  0  0  0  0  0  0  0\\n   -1.1350   -3.5860   28.7380 C   0  0  0  0  0  0  0  0  0  0  0  0\\n   -2.3390   -5.5000   28.9540 C   0  0  0  0  0  0  0  0  0  0  0  0\\n   -3.9660   -7.4170   29.3970 C   0  0  0  0  0  0  0  0  0  0  0  0\\n   -4.9340   -7.8100   30.3190 C   0  0  0  0  0  0  0  0  0  0  0  0\\n   -5.4640   -9.0890   30.2770 C   0  0  0  0  0  0  0  0  0  0  0  0\\n   -5.0370   -9.9750   29.2920 C   0  0  0  0  0  0  0  0  0  0  0  0\\n   -7.0590  -11.2120   28.5840 C   0  0  0  0  0  0  0  0  0  0  0  0\\n   -4.8600  -12.3240   28.4790 C   0  0  0  0  0  0  0  0  0  0  0  0\\n   -4.0570   -9.5950   28.3710 C   0  0  0  0  0  0  0  0  0  0  0  0\\n   -3.5290   -8.3170   28.4310 C   0  0  0  0  0  0  0  0  0  0  0  0\\n  1  8  1  0\\n  1  6  1  0\\n  2  4  1  0\\n  3  4  1  0\\n  3  6  2  0\\n  4  8  2  0\\n  5  6  1  0\\n  7 14  2  0\\n  7 15  1  0\\n  8 10  1  0\\n  9 15  1  0\\n  9 16  1  0\\n 10 12  2  0\\n 10 13  1  0\\n 11 19  1  0\\n 11 20  1  0\\n 11 21  1  0\\n 12 14  1  0\\n 13 15  2  0\\n 16 17  2  0\\n 16 23  1  0\\n 17 18  1  0\\n 18 19  2  0\\n 19 22  1  0\\n 22 23  2  0\\nM  END\\n\",\"sdf\");\n\tviewer_1649367746276703.addModel(\"3sw4_B_18K.pdb\\n     RDKit          3D\\n\\n 23 25  0  0  0  0  0  0  0  0999 V2000\\n   18.7160   22.6688  -11.5409 S   0  0  0  0  0  0  0  0  0  0  0  0\\n   22.4685   23.7601  -10.4443 C   0  0  0  0  0  0  0  0  0  0  0  0\\n   21.2217   22.4947  -12.1662 N   0  0  0  0  0  0  0  0  0  0  0  0\\n   21.1851   23.2578  -11.0140 C   0  0  0  0  0  0  0  0  0  0  0  0\\n   19.7942   21.2928  -13.5825 N   0  0  0  0  0  0  0  0  0  0  0  0\\n   20.0247   22.1093  -12.5449 C   0  0  0  0  0  0  0  0  0  0  0  0\\n   18.0990   25.4133   -7.2463 N   0  0  0  0  0  0  0  0  0  0  0  0\\n   19.8905   23.4605  -10.5079 C   0  0  0  0  0  0  0  0  0  0  0  0\\n   16.1179   24.5169   -7.9330 N   0  0  0  0  0  0  0  0  0  0  0  0\\n   19.3527   24.1812   -9.3413 C   0  0  0  0  0  0  0  0  0  0  0  0\\n   11.8338   21.9829  -10.6362 N   0  0  0  0  0  0  0  0  0  0  0  0\\n   20.1238   24.9496   -8.4784 C   0  0  0  0  0  0  0  0  0  0  0  0\\n   18.0319   24.0137   -9.1777 N   0  0  0  0  0  0  0  0  0  0  0  0\\n   19.4232   25.5398   -7.4391 C   0  0  0  0  0  0  0  0  0  0  0  0\\n   17.4530   24.6503   -8.1368 C   0  0  0  0  0  0  0  0  0  0  0  0\\n   15.0679   23.8814   -8.6251 C   0  0  0  0  0  0  0  0  0  0  0  0\\n   13.8468   23.6996   -7.9791 C   0  0  0  0  0  0  0  0  0  0  0  0\\n   12.8075   23.0421   -8.6163 C   0  0  0  0  0  0  0  0  0  0  0  0\\n   12.9847   22.5810   -9.9176 C   0  0  0  0  0  0  0  0  0  0  0  0\\n   10.8415   23.0101  -11.0762 C   0  0  0  0  0  0  0  0  0  0  0  0\\n   12.2275   21.0898  -11.7651 C   0  0  0  0  0  0  0  0  0  0  0  0\\n   14.2098   22.7464  -10.5694 C   0  0  0  0  0  0  0  0  0  0  0  0\\n   15.2429   23.3966   -9.9168 C   0  0  0  0  0  0  0  0  0  0  0  0\\n  1  8  1  0\\n  1  6  1  0\\n  2  4  1  0\\n  3  4  1  0\\n  3  6  2  0\\n  4  8  2  0\\n  5  6  1  0\\n  7 14  2  0\\n  7 15  1  0\\n  8 10  1  0\\n  9 15  1  0\\n  9 16  1  0\\n 10 12  2  0\\n 10 13  1  0\\n 11 19  1  0\\n 11 20  1  0\\n 11 21  1  0\\n 12 14  1  0\\n 13 15  2  0\\n 16 17  2  0\\n 16 23  1  0\\n 17 18  1  0\\n 18 19  2  0\\n 19 22  1  0\\n 22 23  2  0\\nM  END\\n\",\"sdf\");\n\tviewer_1649367746276703.addModel(\"3sw4_B_18K.pdb\\n     RDKit          3D\\n\\n 23 25  0  0  0  0  0  0  0  0999 V2000\\n   14.4651   22.7298  -10.1481 S   0  0  0  0  0  0  0  0  0  0  0  0\\n   11.5395   24.1977   -7.7479 C   0  0  0  0  0  0  0  0  0  0  0  0\\n   11.9061   22.8197   -9.7697 N   0  0  0  0  0  0  0  0  0  0  0  0\\n   12.4533   23.5679   -8.7440 C   0  0  0  0  0  0  0  0  0  0  0  0\\n   12.5502   21.6509  -11.6952 N   0  0  0  0  0  0  0  0  0  0  0  0\\n   12.8229   22.3391  -10.5778 C   0  0  0  0  0  0  0  0  0  0  0  0\\n   16.9321   25.4422   -6.5546 N   0  0  0  0  0  0  0  0  0  0  0  0\\n   13.8554   23.6448   -8.7827 C   0  0  0  0  0  0  0  0  0  0  0  0\\n   18.3814   24.6878   -8.1454 N   0  0  0  0  0  0  0  0  0  0  0  0\\n   14.8645   24.3036   -7.9358 C   0  0  0  0  0  0  0  0  0  0  0  0\\n   21.0129   22.1788  -12.4885 N   0  0  0  0  0  0  0  0  0  0  0  0\\n   14.5705   24.9794   -6.7583 C   0  0  0  0  0  0  0  0  0  0  0  0\\n   16.1111   24.2020   -8.4207 N   0  0  0  0  0  0  0  0  0  0  0  0\\n   15.6652   25.5333   -6.1149 C   0  0  0  0  0  0  0  0  0  0  0  0\\n   17.1022   24.7691   -7.6994 C   0  0  0  0  0  0  0  0  0  0  0  0\\n   19.0141   24.0516   -9.2318 C   0  0  0  0  0  0  0  0  0  0  0  0\\n   20.3197   24.4128   -9.5579 C   0  0  0  0  0  0  0  0  0  0  0  0\\n   20.9559   23.8366  -10.6449 C   0  0  0  0  0  0  0  0  0  0  0  0\\n   20.2877   22.8763  -11.3993 C   0  0  0  0  0  0  0  0  0  0  0  0\\n   21.9882   21.1725  -11.9695 C   0  0  0  0  0  0  0  0  0  0  0  0\\n   20.1168   21.5832  -13.5226 C   0  0  0  0  0  0  0  0  0  0  0  0\\n   18.9735   22.5168  -11.0885 C   0  0  0  0  0  0  0  0  0  0  0  0\\n   18.3466   23.1081  -10.0054 C   0  0  0  0  0  0  0  0  0  0  0  0\\n  1  8  1  0\\n  1  6  1  0\\n  2  4  1  0\\n  3  4  1  0\\n  3  6  2  0\\n  4  8  2  0\\n  5  6  1  0\\n  7 14  2  0\\n  7 15  1  0\\n  8 10  1  0\\n  9 15  1  0\\n  9 16  1  0\\n 10 12  2  0\\n 10 13  1  0\\n 11 19  1  0\\n 11 20  1  0\\n 11 21  1  0\\n 12 14  1  0\\n 13 15  2  0\\n 16 17  2  0\\n 16 23  1  0\\n 17 18  1  0\\n 18 19  2  0\\n 19 22  1  0\\n 22 23  2  0\\nM  END\\n\",\"sdf\");\n\tviewer_1649367746276703.setStyle({\"model\": 0},{\"stick\": {\"colorscheme\": \"lightgreyCarbon\"}});\n\tviewer_1649367746276703.setStyle({\"model\": 1},{\"stick\": {\"colorscheme\": \"purpleCarbon\"}});\n\tviewer_1649367746276703.setStyle({\"model\": 2},{\"stick\": {\"colorscheme\": \"greyCarbon\"}});\n\tviewer_1649367746276703.zoomTo();\nviewer_1649367746276703.render();\n});\n</script>",
      "text/html": [
       "<div id=\"3dmolviewer_1649367746276703\"  style=\"position: relative; width: 640px; height: 480px\">\n",
       "        <p id=\"3dmolwarning_1649367746276703\" style=\"background-color:#ffcccc;color:black\">You appear to be running in JupyterLab (or JavaScript failed to load for some other reason).  You need to install the 3dmol extension: <br>\n",
       "        <tt>jupyter labextension install jupyterlab_3dmol</tt></p>\n",
       "        </div>\n",
       "<script>\n",
       "\n",
       "var loadScriptAsync = function(uri){\n",
       "  return new Promise((resolve, reject) => {\n",
       "    var tag = document.createElement('script');\n",
       "    tag.src = uri;\n",
       "    tag.async = true;\n",
       "    tag.onload = () => {\n",
       "      resolve();\n",
       "    };\n",
       "  var firstScriptTag = document.getElementsByTagName('script')[0];\n",
       "  firstScriptTag.parentNode.insertBefore(tag, firstScriptTag);\n",
       "});\n",
       "};\n",
       "\n",
       "if(typeof $3Dmolpromise === 'undefined') {\n",
       "$3Dmolpromise = null;\n",
       "  $3Dmolpromise = loadScriptAsync('https://3dmol.org/build/3Dmol.js');\n",
       "}\n",
       "\n",
       "var viewer_1649367746276703 = null;\n",
       "var warn = document.getElementById(\"3dmolwarning_1649367746276703\");\n",
       "if(warn) {\n",
       "    warn.parentNode.removeChild(warn);\n",
       "}\n",
       "$3Dmolpromise.then(function() {\n",
       "viewer_1649367746276703 = $3Dmol.createViewer($(\"#3dmolviewer_1649367746276703\"),{backgroundColor:\"white\"});\n",
       "viewer_1649367746276703.zoomTo();\n",
       "\tviewer_1649367746276703.addModel(\"3sw4_B_18K.pdb\\n     RDKit          3D\\n\\n 23 25  0  0  0  0  0  0  0  0999 V2000\\n   -0.1370   -8.0210   26.5240 S   0  0  0  0  0  0  0  0  0  0  0  0\\n    2.4750   -4.9350   26.1650 C   0  0  0  0  0  0  0  0  0  0  0  0\\n    2.1130   -7.2840   25.4780 N   0  0  0  0  0  0  0  0  0  0  0  0\\n    1.6540   -6.1800   26.1720 C   0  0  0  0  0  0  0  0  0  0  0  0\\n    1.5550   -9.5230   25.0730 N   0  0  0  0  0  0  0  0  0  0  0  0\\n    1.3000   -8.3100   25.5830 C   0  0  0  0  0  0  0  0  0  0  0  0\\n   -2.2070   -4.2040   29.2630 N   0  0  0  0  0  0  0  0  0  0  0  0\\n    0.4280   -6.3890   26.8250 C   0  0  0  0  0  0  0  0  0  0  0  0\\n   -3.4170   -6.1230   29.4940 N   0  0  0  0  0  0  0  0  0  0  0  0\\n   -0.4380   -5.5430   27.6640 C   0  0  0  0  0  0  0  0  0  0  0  0\\n   -5.6910  -11.3010   29.1790 N   0  0  0  0  0  0  0  0  0  0  0  0\\n   -0.2010   -4.1980   27.9180 C   0  0  0  0  0  0  0  0  0  0  0  0\\n   -1.4850   -6.2040   28.1800 N   0  0  0  0  0  0  0  0  0  0  0  0\\n   -1.1350   -3.5860   28.7380 C   0  0  0  0  0  0  0  0  0  0  0  0\\n   -2.3390   -5.5000   28.9540 C   0  0  0  0  0  0  0  0  0  0  0  0\\n   -3.9660   -7.4170   29.3970 C   0  0  0  0  0  0  0  0  0  0  0  0\\n   -4.9340   -7.8100   30.3190 C   0  0  0  0  0  0  0  0  0  0  0  0\\n   -5.4640   -9.0890   30.2770 C   0  0  0  0  0  0  0  0  0  0  0  0\\n   -5.0370   -9.9750   29.2920 C   0  0  0  0  0  0  0  0  0  0  0  0\\n   -7.0590  -11.2120   28.5840 C   0  0  0  0  0  0  0  0  0  0  0  0\\n   -4.8600  -12.3240   28.4790 C   0  0  0  0  0  0  0  0  0  0  0  0\\n   -4.0570   -9.5950   28.3710 C   0  0  0  0  0  0  0  0  0  0  0  0\\n   -3.5290   -8.3170   28.4310 C   0  0  0  0  0  0  0  0  0  0  0  0\\n  1  8  1  0\\n  1  6  1  0\\n  2  4  1  0\\n  3  4  1  0\\n  3  6  2  0\\n  4  8  2  0\\n  5  6  1  0\\n  7 14  2  0\\n  7 15  1  0\\n  8 10  1  0\\n  9 15  1  0\\n  9 16  1  0\\n 10 12  2  0\\n 10 13  1  0\\n 11 19  1  0\\n 11 20  1  0\\n 11 21  1  0\\n 12 14  1  0\\n 13 15  2  0\\n 16 17  2  0\\n 16 23  1  0\\n 17 18  1  0\\n 18 19  2  0\\n 19 22  1  0\\n 22 23  2  0\\nM  END\\n\",\"sdf\");\n",
       "\tviewer_1649367746276703.addModel(\"3sw4_B_18K.pdb\\n     RDKit          3D\\n\\n 23 25  0  0  0  0  0  0  0  0999 V2000\\n   18.7160   22.6688  -11.5409 S   0  0  0  0  0  0  0  0  0  0  0  0\\n   22.4685   23.7601  -10.4443 C   0  0  0  0  0  0  0  0  0  0  0  0\\n   21.2217   22.4947  -12.1662 N   0  0  0  0  0  0  0  0  0  0  0  0\\n   21.1851   23.2578  -11.0140 C   0  0  0  0  0  0  0  0  0  0  0  0\\n   19.7942   21.2928  -13.5825 N   0  0  0  0  0  0  0  0  0  0  0  0\\n   20.0247   22.1093  -12.5449 C   0  0  0  0  0  0  0  0  0  0  0  0\\n   18.0990   25.4133   -7.2463 N   0  0  0  0  0  0  0  0  0  0  0  0\\n   19.8905   23.4605  -10.5079 C   0  0  0  0  0  0  0  0  0  0  0  0\\n   16.1179   24.5169   -7.9330 N   0  0  0  0  0  0  0  0  0  0  0  0\\n   19.3527   24.1812   -9.3413 C   0  0  0  0  0  0  0  0  0  0  0  0\\n   11.8338   21.9829  -10.6362 N   0  0  0  0  0  0  0  0  0  0  0  0\\n   20.1238   24.9496   -8.4784 C   0  0  0  0  0  0  0  0  0  0  0  0\\n   18.0319   24.0137   -9.1777 N   0  0  0  0  0  0  0  0  0  0  0  0\\n   19.4232   25.5398   -7.4391 C   0  0  0  0  0  0  0  0  0  0  0  0\\n   17.4530   24.6503   -8.1368 C   0  0  0  0  0  0  0  0  0  0  0  0\\n   15.0679   23.8814   -8.6251 C   0  0  0  0  0  0  0  0  0  0  0  0\\n   13.8468   23.6996   -7.9791 C   0  0  0  0  0  0  0  0  0  0  0  0\\n   12.8075   23.0421   -8.6163 C   0  0  0  0  0  0  0  0  0  0  0  0\\n   12.9847   22.5810   -9.9176 C   0  0  0  0  0  0  0  0  0  0  0  0\\n   10.8415   23.0101  -11.0762 C   0  0  0  0  0  0  0  0  0  0  0  0\\n   12.2275   21.0898  -11.7651 C   0  0  0  0  0  0  0  0  0  0  0  0\\n   14.2098   22.7464  -10.5694 C   0  0  0  0  0  0  0  0  0  0  0  0\\n   15.2429   23.3966   -9.9168 C   0  0  0  0  0  0  0  0  0  0  0  0\\n  1  8  1  0\\n  1  6  1  0\\n  2  4  1  0\\n  3  4  1  0\\n  3  6  2  0\\n  4  8  2  0\\n  5  6  1  0\\n  7 14  2  0\\n  7 15  1  0\\n  8 10  1  0\\n  9 15  1  0\\n  9 16  1  0\\n 10 12  2  0\\n 10 13  1  0\\n 11 19  1  0\\n 11 20  1  0\\n 11 21  1  0\\n 12 14  1  0\\n 13 15  2  0\\n 16 17  2  0\\n 16 23  1  0\\n 17 18  1  0\\n 18 19  2  0\\n 19 22  1  0\\n 22 23  2  0\\nM  END\\n\",\"sdf\");\n",
       "\tviewer_1649367746276703.addModel(\"3sw4_B_18K.pdb\\n     RDKit          3D\\n\\n 23 25  0  0  0  0  0  0  0  0999 V2000\\n   14.4651   22.7298  -10.1481 S   0  0  0  0  0  0  0  0  0  0  0  0\\n   11.5395   24.1977   -7.7479 C   0  0  0  0  0  0  0  0  0  0  0  0\\n   11.9061   22.8197   -9.7697 N   0  0  0  0  0  0  0  0  0  0  0  0\\n   12.4533   23.5679   -8.7440 C   0  0  0  0  0  0  0  0  0  0  0  0\\n   12.5502   21.6509  -11.6952 N   0  0  0  0  0  0  0  0  0  0  0  0\\n   12.8229   22.3391  -10.5778 C   0  0  0  0  0  0  0  0  0  0  0  0\\n   16.9321   25.4422   -6.5546 N   0  0  0  0  0  0  0  0  0  0  0  0\\n   13.8554   23.6448   -8.7827 C   0  0  0  0  0  0  0  0  0  0  0  0\\n   18.3814   24.6878   -8.1454 N   0  0  0  0  0  0  0  0  0  0  0  0\\n   14.8645   24.3036   -7.9358 C   0  0  0  0  0  0  0  0  0  0  0  0\\n   21.0129   22.1788  -12.4885 N   0  0  0  0  0  0  0  0  0  0  0  0\\n   14.5705   24.9794   -6.7583 C   0  0  0  0  0  0  0  0  0  0  0  0\\n   16.1111   24.2020   -8.4207 N   0  0  0  0  0  0  0  0  0  0  0  0\\n   15.6652   25.5333   -6.1149 C   0  0  0  0  0  0  0  0  0  0  0  0\\n   17.1022   24.7691   -7.6994 C   0  0  0  0  0  0  0  0  0  0  0  0\\n   19.0141   24.0516   -9.2318 C   0  0  0  0  0  0  0  0  0  0  0  0\\n   20.3197   24.4128   -9.5579 C   0  0  0  0  0  0  0  0  0  0  0  0\\n   20.9559   23.8366  -10.6449 C   0  0  0  0  0  0  0  0  0  0  0  0\\n   20.2877   22.8763  -11.3993 C   0  0  0  0  0  0  0  0  0  0  0  0\\n   21.9882   21.1725  -11.9695 C   0  0  0  0  0  0  0  0  0  0  0  0\\n   20.1168   21.5832  -13.5226 C   0  0  0  0  0  0  0  0  0  0  0  0\\n   18.9735   22.5168  -11.0885 C   0  0  0  0  0  0  0  0  0  0  0  0\\n   18.3466   23.1081  -10.0054 C   0  0  0  0  0  0  0  0  0  0  0  0\\n  1  8  1  0\\n  1  6  1  0\\n  2  4  1  0\\n  3  4  1  0\\n  3  6  2  0\\n  4  8  2  0\\n  5  6  1  0\\n  7 14  2  0\\n  7 15  1  0\\n  8 10  1  0\\n  9 15  1  0\\n  9 16  1  0\\n 10 12  2  0\\n 10 13  1  0\\n 11 19  1  0\\n 11 20  1  0\\n 11 21  1  0\\n 12 14  1  0\\n 13 15  2  0\\n 16 17  2  0\\n 16 23  1  0\\n 17 18  1  0\\n 18 19  2  0\\n 19 22  1  0\\n 22 23  2  0\\nM  END\\n\",\"sdf\");\n",
       "\tviewer_1649367746276703.setStyle({\"model\": 0},{\"stick\": {\"colorscheme\": \"lightgreyCarbon\"}});\n",
       "\tviewer_1649367746276703.setStyle({\"model\": 1},{\"stick\": {\"colorscheme\": \"purpleCarbon\"}});\n",
       "\tviewer_1649367746276703.setStyle({\"model\": 2},{\"stick\": {\"colorscheme\": \"greyCarbon\"}});\n",
       "\tviewer_1649367746276703.zoomTo();\n",
       "viewer_1649367746276703.render();\n",
       "});\n",
       "</script>"
      ]
     },
     "metadata": {},
     "output_type": "display_data"
    },
    {
     "data": {
      "text/plain": [
       "<py3Dmol.view at 0x7fdf432c89d0>"
      ]
     },
     "metadata": {},
     "output_type": "display_data"
    }
   ],
   "source": [
    "for _, (i, lig) in df[df.RMSDf > 0.1][[\"idx\", \"lig\"]].iterrows():\n",
    "    _, _, p, tmol = align_and_show(mols[i], pcds[i], tmols[i], tpcds[i])\n",
    "\n",
    "    with Chem.SDWriter(f\"failed-{method}/{lig}_alignfail.sdf\") as w:\n",
    "        w.write(tmol, confId=1)\n",
    "\n",
    "    display(p)"
   ]
  },
  {
   "cell_type": "markdown",
   "metadata": {},
   "source": [
    "## Show Results"
   ]
  },
  {
   "cell_type": "code",
   "execution_count": 21,
   "metadata": {},
   "outputs": [
    {
     "data": {
      "text/html": [
       "<div>\n",
       "<style scoped>\n",
       "    .dataframe tbody tr th:only-of-type {\n",
       "        vertical-align: middle;\n",
       "    }\n",
       "\n",
       "    .dataframe tbody tr th {\n",
       "        vertical-align: top;\n",
       "    }\n",
       "\n",
       "    .dataframe thead th {\n",
       "        text-align: right;\n",
       "    }\n",
       "</style>\n",
       "<table border=\"1\" class=\"dataframe\">\n",
       "  <thead>\n",
       "    <tr style=\"text-align: right;\">\n",
       "      <th></th>\n",
       "      <th>system</th>\n",
       "      <th>lig</th>\n",
       "      <th>RMSDi</th>\n",
       "      <th>RMSDf</th>\n",
       "      <th>idx</th>\n",
       "    </tr>\n",
       "  </thead>\n",
       "  <tbody>\n",
       "    <tr>\n",
       "      <th>0</th>\n",
       "      <td>BRD4</td>\n",
       "      <td>ligand-1_molgrid</td>\n",
       "      <td>14.533324</td>\n",
       "      <td>0.089485</td>\n",
       "      <td>0</td>\n",
       "    </tr>\n",
       "    <tr>\n",
       "      <th>1</th>\n",
       "      <td>BRD4</td>\n",
       "      <td>ligand-2_molgrid</td>\n",
       "      <td>3.482161</td>\n",
       "      <td>0.059879</td>\n",
       "      <td>1</td>\n",
       "    </tr>\n",
       "    <tr>\n",
       "      <th>2</th>\n",
       "      <td>BRD4</td>\n",
       "      <td>ligand-3_molgrid</td>\n",
       "      <td>16.627933</td>\n",
       "      <td>0.025493</td>\n",
       "      <td>2</td>\n",
       "    </tr>\n",
       "    <tr>\n",
       "      <th>3</th>\n",
       "      <td>BRD4</td>\n",
       "      <td>ligand-4_molgrid</td>\n",
       "      <td>16.260454</td>\n",
       "      <td>0.088715</td>\n",
       "      <td>3</td>\n",
       "    </tr>\n",
       "    <tr>\n",
       "      <th>4</th>\n",
       "      <td>BRD4</td>\n",
       "      <td>ligand-5_molgrid</td>\n",
       "      <td>7.331523</td>\n",
       "      <td>0.034777</td>\n",
       "      <td>4</td>\n",
       "    </tr>\n",
       "    <tr>\n",
       "      <th>5</th>\n",
       "      <td>BRD4</td>\n",
       "      <td>ligand-6_molgrid</td>\n",
       "      <td>19.503197</td>\n",
       "      <td>0.033594</td>\n",
       "      <td>5</td>\n",
       "    </tr>\n",
       "    <tr>\n",
       "      <th>6</th>\n",
       "      <td>BRD4</td>\n",
       "      <td>ligand-7_molgrid</td>\n",
       "      <td>21.968921</td>\n",
       "      <td>0.019354</td>\n",
       "      <td>6</td>\n",
       "    </tr>\n",
       "    <tr>\n",
       "      <th>7</th>\n",
       "      <td>BRD4</td>\n",
       "      <td>ligand-8_molgrid</td>\n",
       "      <td>3.888344</td>\n",
       "      <td>0.035938</td>\n",
       "      <td>7</td>\n",
       "    </tr>\n",
       "    <tr>\n",
       "      <th>8</th>\n",
       "      <td>BRD4</td>\n",
       "      <td>ligand-9_molgrid</td>\n",
       "      <td>7.502592</td>\n",
       "      <td>0.040493</td>\n",
       "      <td>8</td>\n",
       "    </tr>\n",
       "    <tr>\n",
       "      <th>9</th>\n",
       "      <td>BRD4</td>\n",
       "      <td>ligand-10_molgrid</td>\n",
       "      <td>23.961168</td>\n",
       "      <td>0.030577</td>\n",
       "      <td>9</td>\n",
       "    </tr>\n",
       "    <tr>\n",
       "      <th>10</th>\n",
       "      <td>CDK2</td>\n",
       "      <td>CS1</td>\n",
       "      <td>7.760494</td>\n",
       "      <td>0.022488</td>\n",
       "      <td>0</td>\n",
       "    </tr>\n",
       "    <tr>\n",
       "      <th>11</th>\n",
       "      <td>CDK2</td>\n",
       "      <td>CS3</td>\n",
       "      <td>33.737529</td>\n",
       "      <td>0.058423</td>\n",
       "      <td>1</td>\n",
       "    </tr>\n",
       "    <tr>\n",
       "      <th>12</th>\n",
       "      <td>CDK2</td>\n",
       "      <td>CS4</td>\n",
       "      <td>45.846264</td>\n",
       "      <td>0.041539</td>\n",
       "      <td>2</td>\n",
       "    </tr>\n",
       "    <tr>\n",
       "      <th>13</th>\n",
       "      <td>CDK2</td>\n",
       "      <td>CS9</td>\n",
       "      <td>21.323958</td>\n",
       "      <td>0.034376</td>\n",
       "      <td>3</td>\n",
       "    </tr>\n",
       "    <tr>\n",
       "      <th>14</th>\n",
       "      <td>CDK2</td>\n",
       "      <td>CS11</td>\n",
       "      <td>45.383193</td>\n",
       "      <td>0.036652</td>\n",
       "      <td>4</td>\n",
       "    </tr>\n",
       "    <tr>\n",
       "      <th>15</th>\n",
       "      <td>CDK2</td>\n",
       "      <td>CS18</td>\n",
       "      <td>52.592470</td>\n",
       "      <td>6.748063</td>\n",
       "      <td>5</td>\n",
       "    </tr>\n",
       "    <tr>\n",
       "      <th>16</th>\n",
       "      <td>CDK2</td>\n",
       "      <td>CS19</td>\n",
       "      <td>40.704179</td>\n",
       "      <td>0.036546</td>\n",
       "      <td>6</td>\n",
       "    </tr>\n",
       "    <tr>\n",
       "      <th>17</th>\n",
       "      <td>CDK2</td>\n",
       "      <td>CS20</td>\n",
       "      <td>53.752687</td>\n",
       "      <td>0.022165</td>\n",
       "      <td>7</td>\n",
       "    </tr>\n",
       "    <tr>\n",
       "      <th>18</th>\n",
       "      <td>CDK2</td>\n",
       "      <td>CS241</td>\n",
       "      <td>9.984236</td>\n",
       "      <td>0.050583</td>\n",
       "      <td>8</td>\n",
       "    </tr>\n",
       "    <tr>\n",
       "      <th>19</th>\n",
       "      <td>CDK2</td>\n",
       "      <td>CS242</td>\n",
       "      <td>18.092393</td>\n",
       "      <td>0.036137</td>\n",
       "      <td>9</td>\n",
       "    </tr>\n",
       "    <tr>\n",
       "      <th>20</th>\n",
       "      <td>CDK2</td>\n",
       "      <td>CS245</td>\n",
       "      <td>8.534871</td>\n",
       "      <td>0.050068</td>\n",
       "      <td>10</td>\n",
       "    </tr>\n",
       "    <tr>\n",
       "      <th>21</th>\n",
       "      <td>CDK2</td>\n",
       "      <td>CS246</td>\n",
       "      <td>47.377596</td>\n",
       "      <td>0.048617</td>\n",
       "      <td>11</td>\n",
       "    </tr>\n",
       "    <tr>\n",
       "      <th>22</th>\n",
       "      <td>CDK2</td>\n",
       "      <td>CS248</td>\n",
       "      <td>22.949335</td>\n",
       "      <td>0.045623</td>\n",
       "      <td>12</td>\n",
       "    </tr>\n",
       "    <tr>\n",
       "      <th>23</th>\n",
       "      <td>CDK2</td>\n",
       "      <td>CS260</td>\n",
       "      <td>19.277600</td>\n",
       "      <td>0.047206</td>\n",
       "      <td>13</td>\n",
       "    </tr>\n",
       "    <tr>\n",
       "      <th>24</th>\n",
       "      <td>CDK2</td>\n",
       "      <td>CS261</td>\n",
       "      <td>52.709319</td>\n",
       "      <td>0.047291</td>\n",
       "      <td>14</td>\n",
       "    </tr>\n",
       "    <tr>\n",
       "      <th>25</th>\n",
       "      <td>CDK2</td>\n",
       "      <td>CS262</td>\n",
       "      <td>8.985574</td>\n",
       "      <td>0.022366</td>\n",
       "      <td>15</td>\n",
       "    </tr>\n",
       "  </tbody>\n",
       "</table>\n",
       "</div>"
      ],
      "text/plain": [
       "   system                lig      RMSDi     RMSDf  idx\n",
       "0    BRD4   ligand-1_molgrid  14.533324  0.089485    0\n",
       "1    BRD4   ligand-2_molgrid   3.482161  0.059879    1\n",
       "2    BRD4   ligand-3_molgrid  16.627933  0.025493    2\n",
       "3    BRD4   ligand-4_molgrid  16.260454  0.088715    3\n",
       "4    BRD4   ligand-5_molgrid   7.331523  0.034777    4\n",
       "5    BRD4   ligand-6_molgrid  19.503197  0.033594    5\n",
       "6    BRD4   ligand-7_molgrid  21.968921  0.019354    6\n",
       "7    BRD4   ligand-8_molgrid   3.888344  0.035938    7\n",
       "8    BRD4   ligand-9_molgrid   7.502592  0.040493    8\n",
       "9    BRD4  ligand-10_molgrid  23.961168  0.030577    9\n",
       "10   CDK2                CS1   7.760494  0.022488    0\n",
       "11   CDK2                CS3  33.737529  0.058423    1\n",
       "12   CDK2                CS4  45.846264  0.041539    2\n",
       "13   CDK2                CS9  21.323958  0.034376    3\n",
       "14   CDK2               CS11  45.383193  0.036652    4\n",
       "15   CDK2               CS18  52.592470  6.748063    5\n",
       "16   CDK2               CS19  40.704179  0.036546    6\n",
       "17   CDK2               CS20  53.752687  0.022165    7\n",
       "18   CDK2              CS241   9.984236  0.050583    8\n",
       "19   CDK2              CS242  18.092393  0.036137    9\n",
       "20   CDK2              CS245   8.534871  0.050068   10\n",
       "21   CDK2              CS246  47.377596  0.048617   11\n",
       "22   CDK2              CS248  22.949335  0.045623   12\n",
       "23   CDK2              CS260  19.277600  0.047206   13\n",
       "24   CDK2              CS261  52.709319  0.047291   14\n",
       "25   CDK2              CS262   8.985574  0.022366   15"
      ]
     },
     "execution_count": 21,
     "metadata": {},
     "output_type": "execute_result"
    }
   ],
   "source": [
    "df = pd.DataFrame(rmsds)\n",
    "df"
   ]
  },
  {
   "cell_type": "code",
   "execution_count": 22,
   "metadata": {},
   "outputs": [
    {
     "data": {
      "text/html": [
       "<div>\n",
       "<style scoped>\n",
       "    .dataframe tbody tr th:only-of-type {\n",
       "        vertical-align: middle;\n",
       "    }\n",
       "\n",
       "    .dataframe tbody tr th {\n",
       "        vertical-align: top;\n",
       "    }\n",
       "\n",
       "    .dataframe thead th {\n",
       "        text-align: right;\n",
       "    }\n",
       "</style>\n",
       "<table border=\"1\" class=\"dataframe\">\n",
       "  <thead>\n",
       "    <tr style=\"text-align: right;\">\n",
       "      <th></th>\n",
       "      <th>system</th>\n",
       "      <th>lig</th>\n",
       "      <th>RMSDi</th>\n",
       "      <th>RMSDf</th>\n",
       "      <th>idx</th>\n",
       "    </tr>\n",
       "  </thead>\n",
       "  <tbody>\n",
       "    <tr>\n",
       "      <th>15</th>\n",
       "      <td>CDK2</td>\n",
       "      <td>CS18</td>\n",
       "      <td>52.59247</td>\n",
       "      <td>6.748063</td>\n",
       "      <td>5</td>\n",
       "    </tr>\n",
       "  </tbody>\n",
       "</table>\n",
       "</div>"
      ],
      "text/plain": [
       "   system   lig     RMSDi     RMSDf  idx\n",
       "15   CDK2  CS18  52.59247  6.748063    5"
      ]
     },
     "execution_count": 22,
     "metadata": {},
     "output_type": "execute_result"
    }
   ],
   "source": [
    "df[df.RMSDf > 2.0]"
   ]
  },
  {
   "cell_type": "code",
   "execution_count": 23,
   "metadata": {},
   "outputs": [],
   "source": [
    "df.to_csv(f\"rmsds-{method}.csv\", index=False, float_format=\"%.5f\")"
   ]
  }
 ],
 "metadata": {
  "interpreter": {
   "hash": "2170310d8da5d5d0ced416f072c764c73705bd667e97df15cd83672f4e754559"
  },
  "kernelspec": {
   "display_name": "Python 3",
   "language": "python",
   "name": "python3"
  },
  "language_info": {
   "codemirror_mode": {
    "name": "ipython",
    "version": 3
   },
   "file_extension": ".py",
   "mimetype": "text/x-python",
   "name": "python",
   "nbconvert_exporter": "python",
   "pygments_lexer": "ipython3",
   "version": "3.9.12"
  }
 },
 "nbformat": 4,
 "nbformat_minor": 2
}
