{
 "cells": [
  {
   "cell_type": "markdown",
   "metadata": {},
   "source": [
    "# Align Molecules"
   ]
  },
  {
   "cell_type": "markdown",
   "metadata": {},
   "source": [
    "In this notebook we explire if we can use SENSAAS with point clouds from `libmolgrid`-generated densities in order to align molecules (as opposed to the molecular surfaces SENSAAS computes)."
   ]
  },
  {
   "cell_type": "code",
   "execution_count": 1,
   "metadata": {},
   "outputs": [
    {
     "data": {
      "text/html": [
       "\n",
       "                <script type=\"application/javascript\" id=\"jupyter_black\">\n",
       "                (function() {\n",
       "                    if (window.IPython === undefined) {\n",
       "                        return\n",
       "                    }\n",
       "                    var msg = \"WARNING: it looks like you might have loaded \" +\n",
       "                        \"jupyter_black in a non-lab notebook with \" +\n",
       "                        \"`is_lab=True`. Please double check, and if \" +\n",
       "                        \"loading with `%load_ext` please review the README!\"\n",
       "                    console.log(msg)\n",
       "                    alert(msg)\n",
       "                })()\n",
       "                </script>\n",
       "                "
      ],
      "text/plain": [
       "<IPython.core.display.HTML object>"
      ]
     },
     "metadata": {},
     "output_type": "display_data"
    }
   ],
   "source": [
    "%load_ext autoreload\n",
    "%autoreload 2\n",
    "%load_ext jupyter_black"
   ]
  },
  {
   "cell_type": "code",
   "execution_count": 2,
   "metadata": {},
   "outputs": [],
   "source": [
    "# sensaas: sensaas coloring method for PCDs\n",
    "# libmolgrid: libmolgrid coloring method for PCDs\n",
    "method = \"sensaas\""
   ]
  },
  {
   "cell_type": "code",
   "execution_count": 3,
   "metadata": {},
   "outputs": [],
   "source": [
    "dir = f\"failed-{method}/\"\n",
    "for f in os.listdir(dir):\n",
    "    os.remove(os.path.join(dir, f))"
   ]
  },
  {
   "cell_type": "markdown",
   "metadata": {},
   "source": [
    "### Libraries"
   ]
  },
  {
   "cell_type": "code",
   "execution_count": 4,
   "metadata": {},
   "outputs": [],
   "source": [
    "import sys\n",
    "\n",
    "sys.path.append(\"../../\")\n",
    "sys.path.append(\"../\")"
   ]
  },
  {
   "cell_type": "code",
   "execution_count": 5,
   "metadata": {},
   "outputs": [
    {
     "name": "stdout",
     "output_type": "stream",
     "text": [
      "Jupyter environment detected. Enabling Open3D WebVisualizer.\n",
      "[Open3D INFO] WebRTC GUI backend enabled.\n",
      "[Open3D INFO] WebRTCWindowSystem: HTTP handshake server disabled.\n"
     ]
    }
   ],
   "source": [
    "import open3d as o3d\n",
    "import pandas as pd\n",
    "from collections import defaultdict\n",
    "\n",
    "import re, os\n",
    "from rdkit import Chem"
   ]
  },
  {
   "cell_type": "code",
   "execution_count": 6,
   "metadata": {},
   "outputs": [],
   "source": [
    "from utils import align_and_show"
   ]
  },
  {
   "cell_type": "markdown",
   "metadata": {},
   "source": [
    "Store RMSD before and after alignment (for both BRD4 and CDK2)"
   ]
  },
  {
   "cell_type": "code",
   "execution_count": 7,
   "metadata": {},
   "outputs": [],
   "source": [
    "rmsds = defaultdict(list)"
   ]
  },
  {
   "cell_type": "markdown",
   "metadata": {},
   "source": [
    "## BRD4 Inhibitors"
   ]
  },
  {
   "cell_type": "code",
   "execution_count": 8,
   "metadata": {},
   "outputs": [],
   "source": [
    "path = \"../ligands/BRD4\""
   ]
  },
  {
   "cell_type": "markdown",
   "metadata": {},
   "source": [
    "Loda original BRD4 inhibitors together with their point cloud representation (pre-computed):"
   ]
  },
  {
   "cell_type": "code",
   "execution_count": 9,
   "metadata": {},
   "outputs": [
    {
     "name": "stdout",
     "output_type": "stream",
     "text": [
      "['../ligands/BRD4/ligand-1_sensaas.pcd', '../ligands/BRD4/ligand-2_sensaas.pcd', '../ligands/BRD4/ligand-3_sensaas.pcd', '../ligands/BRD4/ligand-4_sensaas.pcd', '../ligands/BRD4/ligand-5_sensaas.pcd', '../ligands/BRD4/ligand-6_sensaas.pcd', '../ligands/BRD4/ligand-7_sensaas.pcd', '../ligands/BRD4/ligand-8_sensaas.pcd', '../ligands/BRD4/ligand-9_sensaas.pcd', '../ligands/BRD4/ligand-10_sensaas.pcd']\n"
     ]
    }
   ],
   "source": [
    "files = []\n",
    "for f in os.listdir(path):\n",
    "    fname, ext = os.path.splitext(f)\n",
    "    if ext == \".pcd\" and method in f and not \"tran\" in f:\n",
    "        files.append(os.path.join(path, f))\n",
    "\n",
    "# Sort BRD4 ligand files by number\n",
    "r = re.compile(\"\\d{1,2}\")\n",
    "files.sort(key=lambda f: int(r.search(os.path.basename(f)).group()))\n",
    "\n",
    "print(files)\n",
    "\n",
    "pcds = []\n",
    "mols = []\n",
    "for f in files:\n",
    "    pcd = o3d.io.read_point_cloud(f)\n",
    "    pcds.append(pcd)\n",
    "\n",
    "    s = Chem.SDMolSupplier(f.replace(\".pcd\", \".sdf\").replace(f\"_{method}\", \"\"))\n",
    "    mol = next(s)\n",
    "    mols.append(mol)"
   ]
  },
  {
   "cell_type": "markdown",
   "metadata": {},
   "source": [
    "Load translated and rotated BRD4 inhibitors with their point-cloud representation (pre-computed):"
   ]
  },
  {
   "cell_type": "code",
   "execution_count": 10,
   "metadata": {},
   "outputs": [
    {
     "name": "stdout",
     "output_type": "stream",
     "text": [
      "['../ligands/BRD4/ligand-1_tran_sensaas.pcd', '../ligands/BRD4/ligand-2_tran_sensaas.pcd', '../ligands/BRD4/ligand-3_tran_sensaas.pcd', '../ligands/BRD4/ligand-4_tran_sensaas.pcd', '../ligands/BRD4/ligand-5_tran_sensaas.pcd', '../ligands/BRD4/ligand-6_tran_sensaas.pcd', '../ligands/BRD4/ligand-7_tran_sensaas.pcd', '../ligands/BRD4/ligand-8_tran_sensaas.pcd', '../ligands/BRD4/ligand-9_tran_sensaas.pcd', '../ligands/BRD4/ligand-10_tran_sensaas.pcd']\n"
     ]
    }
   ],
   "source": [
    "files = []\n",
    "for f in os.listdir(path):\n",
    "    fname, ext = os.path.splitext(f)\n",
    "    if ext == \".pcd\" and f\"tran_{method}\" in fname:\n",
    "        files.append(os.path.join(path, f))\n",
    "\n",
    "# Sort BRD4 ligand files by number\n",
    "r = re.compile(\"\\d{1,2}\")\n",
    "files.sort(key=lambda f: int(r.search(os.path.basename(f)).group()))\n",
    "\n",
    "print(files)\n",
    "\n",
    "tpcds = []\n",
    "tmols = []\n",
    "for f in files:\n",
    "    pcd = o3d.io.read_point_cloud(f)\n",
    "    tpcds.append(pcd)\n",
    "\n",
    "    s = Chem.SDMolSupplier(f.replace(\".pcd\", \".sdf\").replace(f\"_{method}\", \"\"))\n",
    "    mol = next(s)\n",
    "    tmols.append(mol)"
   ]
  },
  {
   "cell_type": "code",
   "execution_count": 11,
   "metadata": {},
   "outputs": [],
   "source": [
    "for i, f in enumerate(files):\n",
    "    rmsd_i, rmsd_f, _, _ = align_and_show(mols[i], pcds[i], tmols[i], tpcds[i])\n",
    "    rmsds[\"system\"].append(\"BRD4\")\n",
    "    rmsds[\"lig\"].append(os.path.splitext(os.path.basename(f))[0].replace(\"_tran\", \"\"))\n",
    "    rmsds[\"RMSDi\"].append(rmsd_i)\n",
    "    rmsds[\"RMSDf\"].append(rmsd_f)\n",
    "    rmsds[\"idx\"].append(i)"
   ]
  },
  {
   "cell_type": "markdown",
   "metadata": {},
   "source": [
    "### Failures"
   ]
  },
  {
   "cell_type": "code",
   "execution_count": 12,
   "metadata": {},
   "outputs": [],
   "source": [
    "df = pd.DataFrame(rmsds)"
   ]
  },
  {
   "cell_type": "code",
   "execution_count": 13,
   "metadata": {},
   "outputs": [
    {
     "data": {
      "text/html": [
       "<div>\n",
       "<style scoped>\n",
       "    .dataframe tbody tr th:only-of-type {\n",
       "        vertical-align: middle;\n",
       "    }\n",
       "\n",
       "    .dataframe tbody tr th {\n",
       "        vertical-align: top;\n",
       "    }\n",
       "\n",
       "    .dataframe thead th {\n",
       "        text-align: right;\n",
       "    }\n",
       "</style>\n",
       "<table border=\"1\" class=\"dataframe\">\n",
       "  <thead>\n",
       "    <tr style=\"text-align: right;\">\n",
       "      <th></th>\n",
       "      <th>system</th>\n",
       "      <th>lig</th>\n",
       "      <th>RMSDi</th>\n",
       "      <th>RMSDf</th>\n",
       "      <th>idx</th>\n",
       "    </tr>\n",
       "  </thead>\n",
       "  <tbody>\n",
       "  </tbody>\n",
       "</table>\n",
       "</div>"
      ],
      "text/plain": [
       "Empty DataFrame\n",
       "Columns: [system, lig, RMSDi, RMSDf, idx]\n",
       "Index: []"
      ]
     },
     "execution_count": 13,
     "metadata": {},
     "output_type": "execute_result"
    }
   ],
   "source": [
    "df[df.RMSDf > 2.0]"
   ]
  },
  {
   "cell_type": "code",
   "execution_count": 14,
   "metadata": {},
   "outputs": [],
   "source": [
    "for _, (i, lig) in df[df.RMSDf > 0.1][[\"idx\", \"lig\"]].iterrows():\n",
    "    _, _, p, tmol = align_and_show(mols[i], pcds[i], tmols[i], tpcds[i])\n",
    "\n",
    "    with Chem.SDWriter(f\"failed/{lig}_alignfail.sdf\") as w:\n",
    "        w.write(tmol, confId=1)\n",
    "\n",
    "    display(p)"
   ]
  },
  {
   "cell_type": "markdown",
   "metadata": {},
   "source": [
    "## CDK2 Inhibitors"
   ]
  },
  {
   "cell_type": "code",
   "execution_count": 15,
   "metadata": {},
   "outputs": [],
   "source": [
    "path = \"../ligands/CDK2\""
   ]
  },
  {
   "cell_type": "code",
   "execution_count": 16,
   "metadata": {},
   "outputs": [
    {
     "name": "stdout",
     "output_type": "stream",
     "text": [
      "['../ligands/CDK2/4ek4_B_1CK_sensaas.pcd', '../ligands/CDK2/4ek5_B_03K_sensaas.pcd', '../ligands/CDK2/4fkg_B_4CK_sensaas.pcd', '../ligands/CDK2/4fki_B_09K_sensaas.pcd', '../ligands/CDK2/4fkj_B_11K_sensaas.pcd', '../ligands/CDK2/3sw4_B_18K_sensaas.pcd', '../ligands/CDK2/3sw7_B_19K_sensaas.pcd', '../ligands/CDK2/4fko_B_20K_sensaas.pcd', '../ligands/CDK2/4fkp_B_LS5_sensaas.pcd', '../ligands/CDK2/4fkq_B_42K_sensaas.pcd', '../ligands/CDK2/4fkr_B_45K_sensaas.pcd', '../ligands/CDK2/4fks_B_46K_sensaas.pcd', '../ligands/CDK2/4fkt_B_48K_sensaas.pcd', '../ligands/CDK2/4fku_D_60K_sensaas.pcd', '../ligands/CDK2/4fkv_B_61K_sensaas.pcd', '../ligands/CDK2/4fkw_B_62K_sensaas.pcd']\n"
     ]
    }
   ],
   "source": [
    "files = []\n",
    "for f in os.listdir(path):\n",
    "    fname, ext = os.path.splitext(f)\n",
    "    if ext == \".pcd\" and method in f and not \"tran\" in f:\n",
    "        files.append(os.path.join(path, f))\n",
    "\n",
    "# Order ligands\n",
    "# This should make the three chemical series pop-up in the PCD fit\n",
    "names = {\n",
    "    \"4ek4_B_1CK\": \"CS1\",\n",
    "    \"4ek5_B_03K\": \"CS3\",\n",
    "    \"4fkg_B_4CK\": \"CS4\",\n",
    "    \"4fki_B_09K\": \"CS9\",\n",
    "    \"4fkj_B_11K\": \"CS11\",\n",
    "    \"3sw4_B_18K\": \"CS18\",\n",
    "    \"3sw7_B_19K\": \"CS19\",\n",
    "    \"4fko_B_20K\": \"CS20\",\n",
    "    \"4fkp_B_LS5\": \"CS241\",\n",
    "    \"4fkq_B_42K\": \"CS242\",\n",
    "    \"4fkr_B_45K\": \"CS245\",\n",
    "    \"4fks_B_46K\": \"CS246\",\n",
    "    \"4fkt_B_48K\": \"CS248\",\n",
    "    \"4fku_D_60K\": \"CS260\",\n",
    "    \"4fkv_B_61K\": \"CS261\",\n",
    "    \"4fkw_B_62K\": \"CS262\",\n",
    "}\n",
    "\n",
    "files.sort(\n",
    "    key=lambda f: int(\n",
    "        names[\n",
    "            os.path.splitext(os.path.basename(f))[0].replace(f\"_{method}\", \"\")\n",
    "        ].replace(\"CS\", \"\")\n",
    "    )\n",
    ")\n",
    "\n",
    "print(files)\n",
    "\n",
    "pcds = []\n",
    "mols = []\n",
    "for f in files:\n",
    "    pcd = o3d.io.read_point_cloud(f)\n",
    "    pcds.append(pcd)\n",
    "\n",
    "    s = Chem.SDMolSupplier(f.replace(\".pcd\", \".sdf\").replace(f\"_{method}\", \"\"))\n",
    "    mol = next(s)\n",
    "    mols.append(mol)"
   ]
  },
  {
   "cell_type": "code",
   "execution_count": 17,
   "metadata": {},
   "outputs": [
    {
     "name": "stdout",
     "output_type": "stream",
     "text": [
      "['../ligands/CDK2/4ek4_B_1CK_tran_sensaas.pcd', '../ligands/CDK2/4ek5_B_03K_tran_sensaas.pcd', '../ligands/CDK2/4fkg_B_4CK_tran_sensaas.pcd', '../ligands/CDK2/4fki_B_09K_tran_sensaas.pcd', '../ligands/CDK2/4fkj_B_11K_tran_sensaas.pcd', '../ligands/CDK2/3sw4_B_18K_tran_sensaas.pcd', '../ligands/CDK2/3sw7_B_19K_tran_sensaas.pcd', '../ligands/CDK2/4fko_B_20K_tran_sensaas.pcd', '../ligands/CDK2/4fkp_B_LS5_tran_sensaas.pcd', '../ligands/CDK2/4fkq_B_42K_tran_sensaas.pcd', '../ligands/CDK2/4fkr_B_45K_tran_sensaas.pcd', '../ligands/CDK2/4fks_B_46K_tran_sensaas.pcd', '../ligands/CDK2/4fkt_B_48K_tran_sensaas.pcd', '../ligands/CDK2/4fku_D_60K_tran_sensaas.pcd', '../ligands/CDK2/4fkv_B_61K_tran_sensaas.pcd', '../ligands/CDK2/4fkw_B_62K_tran_sensaas.pcd']\n"
     ]
    }
   ],
   "source": [
    "files = []\n",
    "for f in os.listdir(path):\n",
    "    fname, ext = os.path.splitext(f)\n",
    "    if ext == \".pcd\" and f\"tran_{method}\" in fname:\n",
    "        files.append(os.path.join(path, f))\n",
    "\n",
    "# Order ligands\n",
    "# This should make the three chemical series pop-up in the PCD fit\n",
    "names = {\n",
    "    \"4ek4_B_1CK\": \"CS1\",\n",
    "    \"4ek5_B_03K\": \"CS3\",\n",
    "    \"4fkg_B_4CK\": \"CS4\",\n",
    "    \"4fki_B_09K\": \"CS9\",\n",
    "    \"4fkj_B_11K\": \"CS11\",\n",
    "    \"3sw4_B_18K\": \"CS18\",\n",
    "    \"3sw7_B_19K\": \"CS19\",\n",
    "    \"4fko_B_20K\": \"CS20\",\n",
    "    \"4fkp_B_LS5\": \"CS241\",\n",
    "    \"4fkq_B_42K\": \"CS242\",\n",
    "    \"4fkr_B_45K\": \"CS245\",\n",
    "    \"4fks_B_46K\": \"CS246\",\n",
    "    \"4fkt_B_48K\": \"CS248\",\n",
    "    \"4fku_D_60K\": \"CS260\",\n",
    "    \"4fkv_B_61K\": \"CS261\",\n",
    "    \"4fkw_B_62K\": \"CS262\",\n",
    "}\n",
    "\n",
    "files.sort(\n",
    "    key=lambda f: int(\n",
    "        names[\n",
    "            os.path.splitext(os.path.basename(f))[0].replace(f\"_tran_{method}\", \"\")\n",
    "        ].replace(\"CS\", \"\")\n",
    "    )\n",
    ")\n",
    "\n",
    "print(files)\n",
    "\n",
    "tpcds = []\n",
    "tmols = []\n",
    "for f in files:\n",
    "    pcd = o3d.io.read_point_cloud(f)\n",
    "    tpcds.append(pcd)\n",
    "\n",
    "    s = Chem.SDMolSupplier(f.replace(\".pcd\", \".sdf\").replace(f\"_{method}\", \"\"))\n",
    "    mol = next(s)\n",
    "    tmols.append(mol)"
   ]
  },
  {
   "cell_type": "code",
   "execution_count": 18,
   "metadata": {},
   "outputs": [],
   "source": [
    "for i, f in enumerate(files):\n",
    "    rmsd_i, rmsd_f, _, _ = align_and_show(mols[i], pcds[i], tmols[i], tpcds[i])\n",
    "    rmsds[\"system\"].append(\"CDK2\")\n",
    "    rmsds[\"lig\"].append(\n",
    "        names[os.path.splitext(os.path.basename(f))[0].replace(f\"_tran_{method}\", \"\")]\n",
    "    )\n",
    "    rmsds[\"RMSDi\"].append(rmsd_i)\n",
    "    rmsds[\"RMSDf\"].append(rmsd_f)\n",
    "    rmsds[\"idx\"].append(i)"
   ]
  },
  {
   "cell_type": "markdown",
   "metadata": {},
   "source": [
    "### Failures"
   ]
  },
  {
   "cell_type": "code",
   "execution_count": 19,
   "metadata": {},
   "outputs": [],
   "source": [
    "df = pd.DataFrame(rmsds)\n",
    "df = df[df.system == \"CDK2\"]"
   ]
  },
  {
   "cell_type": "code",
   "execution_count": 20,
   "metadata": {},
   "outputs": [
    {
     "data": {
      "application/3dmoljs_load.v0": "<div id=\"3dmolviewer_16493676254154596\"  style=\"position: relative; width: 640px; height: 480px\">\n        <p id=\"3dmolwarning_16493676254154596\" style=\"background-color:#ffcccc;color:black\">You appear to be running in JupyterLab (or JavaScript failed to load for some other reason).  You need to install the 3dmol extension: <br>\n        <tt>jupyter labextension install jupyterlab_3dmol</tt></p>\n        </div>\n<script>\n\nvar loadScriptAsync = function(uri){\n  return new Promise((resolve, reject) => {\n    var tag = document.createElement('script');\n    tag.src = uri;\n    tag.async = true;\n    tag.onload = () => {\n      resolve();\n    };\n  var firstScriptTag = document.getElementsByTagName('script')[0];\n  firstScriptTag.parentNode.insertBefore(tag, firstScriptTag);\n});\n};\n\nif(typeof $3Dmolpromise === 'undefined') {\n$3Dmolpromise = null;\n  $3Dmolpromise = loadScriptAsync('https://3dmol.org/build/3Dmol.js');\n}\n\nvar viewer_16493676254154596 = null;\nvar warn = document.getElementById(\"3dmolwarning_16493676254154596\");\nif(warn) {\n    warn.parentNode.removeChild(warn);\n}\n$3Dmolpromise.then(function() {\nviewer_16493676254154596 = $3Dmol.createViewer($(\"#3dmolviewer_16493676254154596\"),{backgroundColor:\"white\"});\nviewer_16493676254154596.zoomTo();\n\tviewer_16493676254154596.addModel(\"3sw4_B_18K.pdb\\n     RDKit          3D\\n\\n 23 25  0  0  0  0  0  0  0  0999 V2000\\n   -0.1370   -8.0210   26.5240 S   0  0  0  0  0  0  0  0  0  0  0  0\\n    2.4750   -4.9350   26.1650 C   0  0  0  0  0  0  0  0  0  0  0  0\\n    2.1130   -7.2840   25.4780 N   0  0  0  0  0  0  0  0  0  0  0  0\\n    1.6540   -6.1800   26.1720 C   0  0  0  0  0  0  0  0  0  0  0  0\\n    1.5550   -9.5230   25.0730 N   0  0  0  0  0  0  0  0  0  0  0  0\\n    1.3000   -8.3100   25.5830 C   0  0  0  0  0  0  0  0  0  0  0  0\\n   -2.2070   -4.2040   29.2630 N   0  0  0  0  0  0  0  0  0  0  0  0\\n    0.4280   -6.3890   26.8250 C   0  0  0  0  0  0  0  0  0  0  0  0\\n   -3.4170   -6.1230   29.4940 N   0  0  0  0  0  0  0  0  0  0  0  0\\n   -0.4380   -5.5430   27.6640 C   0  0  0  0  0  0  0  0  0  0  0  0\\n   -5.6910  -11.3010   29.1790 N   0  0  0  0  0  0  0  0  0  0  0  0\\n   -0.2010   -4.1980   27.9180 C   0  0  0  0  0  0  0  0  0  0  0  0\\n   -1.4850   -6.2040   28.1800 N   0  0  0  0  0  0  0  0  0  0  0  0\\n   -1.1350   -3.5860   28.7380 C   0  0  0  0  0  0  0  0  0  0  0  0\\n   -2.3390   -5.5000   28.9540 C   0  0  0  0  0  0  0  0  0  0  0  0\\n   -3.9660   -7.4170   29.3970 C   0  0  0  0  0  0  0  0  0  0  0  0\\n   -4.9340   -7.8100   30.3190 C   0  0  0  0  0  0  0  0  0  0  0  0\\n   -5.4640   -9.0890   30.2770 C   0  0  0  0  0  0  0  0  0  0  0  0\\n   -5.0370   -9.9750   29.2920 C   0  0  0  0  0  0  0  0  0  0  0  0\\n   -7.0590  -11.2120   28.5840 C   0  0  0  0  0  0  0  0  0  0  0  0\\n   -4.8600  -12.3240   28.4790 C   0  0  0  0  0  0  0  0  0  0  0  0\\n   -4.0570   -9.5950   28.3710 C   0  0  0  0  0  0  0  0  0  0  0  0\\n   -3.5290   -8.3170   28.4310 C   0  0  0  0  0  0  0  0  0  0  0  0\\n  1  8  1  0\\n  1  6  1  0\\n  2  4  1  0\\n  3  4  1  0\\n  3  6  2  0\\n  4  8  2  0\\n  5  6  1  0\\n  7 14  2  0\\n  7 15  1  0\\n  8 10  1  0\\n  9 15  1  0\\n  9 16  1  0\\n 10 12  2  0\\n 10 13  1  0\\n 11 19  1  0\\n 11 20  1  0\\n 11 21  1  0\\n 12 14  1  0\\n 13 15  2  0\\n 16 17  2  0\\n 16 23  1  0\\n 17 18  1  0\\n 18 19  2  0\\n 19 22  1  0\\n 22 23  2  0\\nM  END\\n\",\"sdf\");\n\tviewer_16493676254154596.addModel(\"3sw4_B_18K.pdb\\n     RDKit          3D\\n\\n 23 25  0  0  0  0  0  0  0  0999 V2000\\n   18.6829   23.0029  -11.2467 S   0  0  0  0  0  0  0  0  0  0  0  0\\n   22.3250   24.1818   -9.8976 C   0  0  0  0  0  0  0  0  0  0  0  0\\n   21.2220   22.9655  -11.7482 N   0  0  0  0  0  0  0  0  0  0  0  0\\n   21.0947   23.6607  -10.5601 C   0  0  0  0  0  0  0  0  0  0  0  0\\n   19.9206   21.7881  -13.3002 N   0  0  0  0  0  0  0  0  0  0  0  0\\n   20.0633   22.5538  -12.2094 C   0  0  0  0  0  0  0  0  0  0  0  0\\n   17.7332   25.4751   -6.8486 N   0  0  0  0  0  0  0  0  0  0  0  0\\n   19.7688   23.7822  -10.1123 C   0  0  0  0  0  0  0  0  0  0  0  0\\n   15.8297   24.5392   -7.6857 N   0  0  0  0  0  0  0  0  0  0  0  0\\n   19.1425   24.4141   -8.9384 C   0  0  0  0  0  0  0  0  0  0  0  0\\n   11.8001   21.9897  -10.7424 N   0  0  0  0  0  0  0  0  0  0  0  0\\n   19.8355   25.1634   -7.9961 C   0  0  0  0  0  0  0  0  0  0  0  0\\n   17.8236   24.1844   -8.8536 N   0  0  0  0  0  0  0  0  0  0  0  0\\n   19.0587   25.6657   -6.9647 C   0  0  0  0  0  0  0  0  0  0  0  0\\n   17.1663   24.7378   -7.8117 C   0  0  0  0  0  0  0  0  0  0  0  0\\n   14.8442   23.9016   -8.4651 C   0  0  0  0  0  0  0  0  0  0  0  0\\n   13.6013   23.6347   -7.8948 C   0  0  0  0  0  0  0  0  0  0  0  0\\n   12.6246   22.9725   -8.6201 C   0  0  0  0  0  0  0  0  0  0  0  0\\n   12.8866   22.5925   -9.9333 C   0  0  0  0  0  0  0  0  0  0  0  0\\n   10.7876   22.9990  -11.1779 C   0  0  0  0  0  0  0  0  0  0  0  0\\n   12.2882   21.1779  -11.8957 C   0  0  0  0  0  0  0  0  0  0  0  0\\n   14.1346   22.8437  -10.5101 C   0  0  0  0  0  0  0  0  0  0  0  0\\n   15.1045   23.4975   -9.7701 C   0  0  0  0  0  0  0  0  0  0  0  0\\n  1  8  1  0\\n  1  6  1  0\\n  2  4  1  0\\n  3  4  1  0\\n  3  6  2  0\\n  4  8  2  0\\n  5  6  1  0\\n  7 14  2  0\\n  7 15  1  0\\n  8 10  1  0\\n  9 15  1  0\\n  9 16  1  0\\n 10 12  2  0\\n 10 13  1  0\\n 11 19  1  0\\n 11 20  1  0\\n 11 21  1  0\\n 12 14  1  0\\n 13 15  2  0\\n 16 17  2  0\\n 16 23  1  0\\n 17 18  1  0\\n 18 19  2  0\\n 19 22  1  0\\n 22 23  2  0\\nM  END\\n\",\"sdf\");\n\tviewer_16493676254154596.addModel(\"3sw4_B_18K.pdb\\n     RDKit          3D\\n\\n 23 25  0  0  0  0  0  0  0  0999 V2000\\n   14.4651   22.7298  -10.1481 S   0  0  0  0  0  0  0  0  0  0  0  0\\n   11.5395   24.1977   -7.7479 C   0  0  0  0  0  0  0  0  0  0  0  0\\n   11.9061   22.8197   -9.7697 N   0  0  0  0  0  0  0  0  0  0  0  0\\n   12.4533   23.5679   -8.7440 C   0  0  0  0  0  0  0  0  0  0  0  0\\n   12.5502   21.6509  -11.6952 N   0  0  0  0  0  0  0  0  0  0  0  0\\n   12.8229   22.3391  -10.5778 C   0  0  0  0  0  0  0  0  0  0  0  0\\n   16.9321   25.4422   -6.5546 N   0  0  0  0  0  0  0  0  0  0  0  0\\n   13.8554   23.6448   -8.7827 C   0  0  0  0  0  0  0  0  0  0  0  0\\n   18.3814   24.6878   -8.1454 N   0  0  0  0  0  0  0  0  0  0  0  0\\n   14.8645   24.3036   -7.9358 C   0  0  0  0  0  0  0  0  0  0  0  0\\n   21.0129   22.1788  -12.4885 N   0  0  0  0  0  0  0  0  0  0  0  0\\n   14.5705   24.9794   -6.7583 C   0  0  0  0  0  0  0  0  0  0  0  0\\n   16.1111   24.2020   -8.4207 N   0  0  0  0  0  0  0  0  0  0  0  0\\n   15.6652   25.5333   -6.1149 C   0  0  0  0  0  0  0  0  0  0  0  0\\n   17.1022   24.7691   -7.6994 C   0  0  0  0  0  0  0  0  0  0  0  0\\n   19.0141   24.0516   -9.2318 C   0  0  0  0  0  0  0  0  0  0  0  0\\n   20.3197   24.4128   -9.5579 C   0  0  0  0  0  0  0  0  0  0  0  0\\n   20.9559   23.8366  -10.6449 C   0  0  0  0  0  0  0  0  0  0  0  0\\n   20.2877   22.8763  -11.3993 C   0  0  0  0  0  0  0  0  0  0  0  0\\n   21.9882   21.1725  -11.9695 C   0  0  0  0  0  0  0  0  0  0  0  0\\n   20.1168   21.5832  -13.5226 C   0  0  0  0  0  0  0  0  0  0  0  0\\n   18.9735   22.5168  -11.0885 C   0  0  0  0  0  0  0  0  0  0  0  0\\n   18.3466   23.1081  -10.0054 C   0  0  0  0  0  0  0  0  0  0  0  0\\n  1  8  1  0\\n  1  6  1  0\\n  2  4  1  0\\n  3  4  1  0\\n  3  6  2  0\\n  4  8  2  0\\n  5  6  1  0\\n  7 14  2  0\\n  7 15  1  0\\n  8 10  1  0\\n  9 15  1  0\\n  9 16  1  0\\n 10 12  2  0\\n 10 13  1  0\\n 11 19  1  0\\n 11 20  1  0\\n 11 21  1  0\\n 12 14  1  0\\n 13 15  2  0\\n 16 17  2  0\\n 16 23  1  0\\n 17 18  1  0\\n 18 19  2  0\\n 19 22  1  0\\n 22 23  2  0\\nM  END\\n\",\"sdf\");\n\tviewer_16493676254154596.setStyle({\"model\": 0},{\"stick\": {\"colorscheme\": \"lightgreyCarbon\"}});\n\tviewer_16493676254154596.setStyle({\"model\": 1},{\"stick\": {\"colorscheme\": \"purpleCarbon\"}});\n\tviewer_16493676254154596.setStyle({\"model\": 2},{\"stick\": {\"colorscheme\": \"greyCarbon\"}});\n\tviewer_16493676254154596.zoomTo();\nviewer_16493676254154596.render();\n});\n</script>",
      "text/html": [
       "<div id=\"3dmolviewer_16493676254154596\"  style=\"position: relative; width: 640px; height: 480px\">\n",
       "        <p id=\"3dmolwarning_16493676254154596\" style=\"background-color:#ffcccc;color:black\">You appear to be running in JupyterLab (or JavaScript failed to load for some other reason).  You need to install the 3dmol extension: <br>\n",
       "        <tt>jupyter labextension install jupyterlab_3dmol</tt></p>\n",
       "        </div>\n",
       "<script>\n",
       "\n",
       "var loadScriptAsync = function(uri){\n",
       "  return new Promise((resolve, reject) => {\n",
       "    var tag = document.createElement('script');\n",
       "    tag.src = uri;\n",
       "    tag.async = true;\n",
       "    tag.onload = () => {\n",
       "      resolve();\n",
       "    };\n",
       "  var firstScriptTag = document.getElementsByTagName('script')[0];\n",
       "  firstScriptTag.parentNode.insertBefore(tag, firstScriptTag);\n",
       "});\n",
       "};\n",
       "\n",
       "if(typeof $3Dmolpromise === 'undefined') {\n",
       "$3Dmolpromise = null;\n",
       "  $3Dmolpromise = loadScriptAsync('https://3dmol.org/build/3Dmol.js');\n",
       "}\n",
       "\n",
       "var viewer_16493676254154596 = null;\n",
       "var warn = document.getElementById(\"3dmolwarning_16493676254154596\");\n",
       "if(warn) {\n",
       "    warn.parentNode.removeChild(warn);\n",
       "}\n",
       "$3Dmolpromise.then(function() {\n",
       "viewer_16493676254154596 = $3Dmol.createViewer($(\"#3dmolviewer_16493676254154596\"),{backgroundColor:\"white\"});\n",
       "viewer_16493676254154596.zoomTo();\n",
       "\tviewer_16493676254154596.addModel(\"3sw4_B_18K.pdb\\n     RDKit          3D\\n\\n 23 25  0  0  0  0  0  0  0  0999 V2000\\n   -0.1370   -8.0210   26.5240 S   0  0  0  0  0  0  0  0  0  0  0  0\\n    2.4750   -4.9350   26.1650 C   0  0  0  0  0  0  0  0  0  0  0  0\\n    2.1130   -7.2840   25.4780 N   0  0  0  0  0  0  0  0  0  0  0  0\\n    1.6540   -6.1800   26.1720 C   0  0  0  0  0  0  0  0  0  0  0  0\\n    1.5550   -9.5230   25.0730 N   0  0  0  0  0  0  0  0  0  0  0  0\\n    1.3000   -8.3100   25.5830 C   0  0  0  0  0  0  0  0  0  0  0  0\\n   -2.2070   -4.2040   29.2630 N   0  0  0  0  0  0  0  0  0  0  0  0\\n    0.4280   -6.3890   26.8250 C   0  0  0  0  0  0  0  0  0  0  0  0\\n   -3.4170   -6.1230   29.4940 N   0  0  0  0  0  0  0  0  0  0  0  0\\n   -0.4380   -5.5430   27.6640 C   0  0  0  0  0  0  0  0  0  0  0  0\\n   -5.6910  -11.3010   29.1790 N   0  0  0  0  0  0  0  0  0  0  0  0\\n   -0.2010   -4.1980   27.9180 C   0  0  0  0  0  0  0  0  0  0  0  0\\n   -1.4850   -6.2040   28.1800 N   0  0  0  0  0  0  0  0  0  0  0  0\\n   -1.1350   -3.5860   28.7380 C   0  0  0  0  0  0  0  0  0  0  0  0\\n   -2.3390   -5.5000   28.9540 C   0  0  0  0  0  0  0  0  0  0  0  0\\n   -3.9660   -7.4170   29.3970 C   0  0  0  0  0  0  0  0  0  0  0  0\\n   -4.9340   -7.8100   30.3190 C   0  0  0  0  0  0  0  0  0  0  0  0\\n   -5.4640   -9.0890   30.2770 C   0  0  0  0  0  0  0  0  0  0  0  0\\n   -5.0370   -9.9750   29.2920 C   0  0  0  0  0  0  0  0  0  0  0  0\\n   -7.0590  -11.2120   28.5840 C   0  0  0  0  0  0  0  0  0  0  0  0\\n   -4.8600  -12.3240   28.4790 C   0  0  0  0  0  0  0  0  0  0  0  0\\n   -4.0570   -9.5950   28.3710 C   0  0  0  0  0  0  0  0  0  0  0  0\\n   -3.5290   -8.3170   28.4310 C   0  0  0  0  0  0  0  0  0  0  0  0\\n  1  8  1  0\\n  1  6  1  0\\n  2  4  1  0\\n  3  4  1  0\\n  3  6  2  0\\n  4  8  2  0\\n  5  6  1  0\\n  7 14  2  0\\n  7 15  1  0\\n  8 10  1  0\\n  9 15  1  0\\n  9 16  1  0\\n 10 12  2  0\\n 10 13  1  0\\n 11 19  1  0\\n 11 20  1  0\\n 11 21  1  0\\n 12 14  1  0\\n 13 15  2  0\\n 16 17  2  0\\n 16 23  1  0\\n 17 18  1  0\\n 18 19  2  0\\n 19 22  1  0\\n 22 23  2  0\\nM  END\\n\",\"sdf\");\n",
       "\tviewer_16493676254154596.addModel(\"3sw4_B_18K.pdb\\n     RDKit          3D\\n\\n 23 25  0  0  0  0  0  0  0  0999 V2000\\n   18.6829   23.0029  -11.2467 S   0  0  0  0  0  0  0  0  0  0  0  0\\n   22.3250   24.1818   -9.8976 C   0  0  0  0  0  0  0  0  0  0  0  0\\n   21.2220   22.9655  -11.7482 N   0  0  0  0  0  0  0  0  0  0  0  0\\n   21.0947   23.6607  -10.5601 C   0  0  0  0  0  0  0  0  0  0  0  0\\n   19.9206   21.7881  -13.3002 N   0  0  0  0  0  0  0  0  0  0  0  0\\n   20.0633   22.5538  -12.2094 C   0  0  0  0  0  0  0  0  0  0  0  0\\n   17.7332   25.4751   -6.8486 N   0  0  0  0  0  0  0  0  0  0  0  0\\n   19.7688   23.7822  -10.1123 C   0  0  0  0  0  0  0  0  0  0  0  0\\n   15.8297   24.5392   -7.6857 N   0  0  0  0  0  0  0  0  0  0  0  0\\n   19.1425   24.4141   -8.9384 C   0  0  0  0  0  0  0  0  0  0  0  0\\n   11.8001   21.9897  -10.7424 N   0  0  0  0  0  0  0  0  0  0  0  0\\n   19.8355   25.1634   -7.9961 C   0  0  0  0  0  0  0  0  0  0  0  0\\n   17.8236   24.1844   -8.8536 N   0  0  0  0  0  0  0  0  0  0  0  0\\n   19.0587   25.6657   -6.9647 C   0  0  0  0  0  0  0  0  0  0  0  0\\n   17.1663   24.7378   -7.8117 C   0  0  0  0  0  0  0  0  0  0  0  0\\n   14.8442   23.9016   -8.4651 C   0  0  0  0  0  0  0  0  0  0  0  0\\n   13.6013   23.6347   -7.8948 C   0  0  0  0  0  0  0  0  0  0  0  0\\n   12.6246   22.9725   -8.6201 C   0  0  0  0  0  0  0  0  0  0  0  0\\n   12.8866   22.5925   -9.9333 C   0  0  0  0  0  0  0  0  0  0  0  0\\n   10.7876   22.9990  -11.1779 C   0  0  0  0  0  0  0  0  0  0  0  0\\n   12.2882   21.1779  -11.8957 C   0  0  0  0  0  0  0  0  0  0  0  0\\n   14.1346   22.8437  -10.5101 C   0  0  0  0  0  0  0  0  0  0  0  0\\n   15.1045   23.4975   -9.7701 C   0  0  0  0  0  0  0  0  0  0  0  0\\n  1  8  1  0\\n  1  6  1  0\\n  2  4  1  0\\n  3  4  1  0\\n  3  6  2  0\\n  4  8  2  0\\n  5  6  1  0\\n  7 14  2  0\\n  7 15  1  0\\n  8 10  1  0\\n  9 15  1  0\\n  9 16  1  0\\n 10 12  2  0\\n 10 13  1  0\\n 11 19  1  0\\n 11 20  1  0\\n 11 21  1  0\\n 12 14  1  0\\n 13 15  2  0\\n 16 17  2  0\\n 16 23  1  0\\n 17 18  1  0\\n 18 19  2  0\\n 19 22  1  0\\n 22 23  2  0\\nM  END\\n\",\"sdf\");\n",
       "\tviewer_16493676254154596.addModel(\"3sw4_B_18K.pdb\\n     RDKit          3D\\n\\n 23 25  0  0  0  0  0  0  0  0999 V2000\\n   14.4651   22.7298  -10.1481 S   0  0  0  0  0  0  0  0  0  0  0  0\\n   11.5395   24.1977   -7.7479 C   0  0  0  0  0  0  0  0  0  0  0  0\\n   11.9061   22.8197   -9.7697 N   0  0  0  0  0  0  0  0  0  0  0  0\\n   12.4533   23.5679   -8.7440 C   0  0  0  0  0  0  0  0  0  0  0  0\\n   12.5502   21.6509  -11.6952 N   0  0  0  0  0  0  0  0  0  0  0  0\\n   12.8229   22.3391  -10.5778 C   0  0  0  0  0  0  0  0  0  0  0  0\\n   16.9321   25.4422   -6.5546 N   0  0  0  0  0  0  0  0  0  0  0  0\\n   13.8554   23.6448   -8.7827 C   0  0  0  0  0  0  0  0  0  0  0  0\\n   18.3814   24.6878   -8.1454 N   0  0  0  0  0  0  0  0  0  0  0  0\\n   14.8645   24.3036   -7.9358 C   0  0  0  0  0  0  0  0  0  0  0  0\\n   21.0129   22.1788  -12.4885 N   0  0  0  0  0  0  0  0  0  0  0  0\\n   14.5705   24.9794   -6.7583 C   0  0  0  0  0  0  0  0  0  0  0  0\\n   16.1111   24.2020   -8.4207 N   0  0  0  0  0  0  0  0  0  0  0  0\\n   15.6652   25.5333   -6.1149 C   0  0  0  0  0  0  0  0  0  0  0  0\\n   17.1022   24.7691   -7.6994 C   0  0  0  0  0  0  0  0  0  0  0  0\\n   19.0141   24.0516   -9.2318 C   0  0  0  0  0  0  0  0  0  0  0  0\\n   20.3197   24.4128   -9.5579 C   0  0  0  0  0  0  0  0  0  0  0  0\\n   20.9559   23.8366  -10.6449 C   0  0  0  0  0  0  0  0  0  0  0  0\\n   20.2877   22.8763  -11.3993 C   0  0  0  0  0  0  0  0  0  0  0  0\\n   21.9882   21.1725  -11.9695 C   0  0  0  0  0  0  0  0  0  0  0  0\\n   20.1168   21.5832  -13.5226 C   0  0  0  0  0  0  0  0  0  0  0  0\\n   18.9735   22.5168  -11.0885 C   0  0  0  0  0  0  0  0  0  0  0  0\\n   18.3466   23.1081  -10.0054 C   0  0  0  0  0  0  0  0  0  0  0  0\\n  1  8  1  0\\n  1  6  1  0\\n  2  4  1  0\\n  3  4  1  0\\n  3  6  2  0\\n  4  8  2  0\\n  5  6  1  0\\n  7 14  2  0\\n  7 15  1  0\\n  8 10  1  0\\n  9 15  1  0\\n  9 16  1  0\\n 10 12  2  0\\n 10 13  1  0\\n 11 19  1  0\\n 11 20  1  0\\n 11 21  1  0\\n 12 14  1  0\\n 13 15  2  0\\n 16 17  2  0\\n 16 23  1  0\\n 17 18  1  0\\n 18 19  2  0\\n 19 22  1  0\\n 22 23  2  0\\nM  END\\n\",\"sdf\");\n",
       "\tviewer_16493676254154596.setStyle({\"model\": 0},{\"stick\": {\"colorscheme\": \"lightgreyCarbon\"}});\n",
       "\tviewer_16493676254154596.setStyle({\"model\": 1},{\"stick\": {\"colorscheme\": \"purpleCarbon\"}});\n",
       "\tviewer_16493676254154596.setStyle({\"model\": 2},{\"stick\": {\"colorscheme\": \"greyCarbon\"}});\n",
       "\tviewer_16493676254154596.zoomTo();\n",
       "viewer_16493676254154596.render();\n",
       "});\n",
       "</script>"
      ]
     },
     "metadata": {},
     "output_type": "display_data"
    },
    {
     "data": {
      "text/plain": [
       "<py3Dmol.view at 0x7f49fb8a9430>"
      ]
     },
     "metadata": {},
     "output_type": "display_data"
    },
    {
     "data": {
      "application/3dmoljs_load.v0": "<div id=\"3dmolviewer_16493676257752972\"  style=\"position: relative; width: 640px; height: 480px\">\n        <p id=\"3dmolwarning_16493676257752972\" style=\"background-color:#ffcccc;color:black\">You appear to be running in JupyterLab (or JavaScript failed to load for some other reason).  You need to install the 3dmol extension: <br>\n        <tt>jupyter labextension install jupyterlab_3dmol</tt></p>\n        </div>\n<script>\n\nvar loadScriptAsync = function(uri){\n  return new Promise((resolve, reject) => {\n    var tag = document.createElement('script');\n    tag.src = uri;\n    tag.async = true;\n    tag.onload = () => {\n      resolve();\n    };\n  var firstScriptTag = document.getElementsByTagName('script')[0];\n  firstScriptTag.parentNode.insertBefore(tag, firstScriptTag);\n});\n};\n\nif(typeof $3Dmolpromise === 'undefined') {\n$3Dmolpromise = null;\n  $3Dmolpromise = loadScriptAsync('https://3dmol.org/build/3Dmol.js');\n}\n\nvar viewer_16493676257752972 = null;\nvar warn = document.getElementById(\"3dmolwarning_16493676257752972\");\nif(warn) {\n    warn.parentNode.removeChild(warn);\n}\n$3Dmolpromise.then(function() {\nviewer_16493676257752972 = $3Dmol.createViewer($(\"#3dmolviewer_16493676257752972\"),{backgroundColor:\"white\"});\nviewer_16493676257752972.zoomTo();\n\tviewer_16493676257752972.addModel(\"4fko_B_20K.pdb\\n     RDKit          3D\\n\\n 24 26  0  0  1  0  0  0  0  0999 V2000\\n   -0.4030   -7.8710   26.1380 S   0  0  0  0  0  0  0  0  0  0  0  0\\n   -6.3020   -9.4460   31.6250 Cl  0  0  0  0  0  0  0  0  0  0  0  0\\n    0.9760   -9.4080   24.2240 C   0  0  0  0  0  0  0  0  0  0  0  0\\n    1.8050   -7.2130   25.0040 N   0  0  0  0  0  0  0  0  0  0  0  0\\n    0.9050   -8.1540   25.0300 C   0  0  0  0  0  0  0  0  0  0  0  0\\n   -2.1040   -4.1070   29.1780 N   0  0  0  0  0  0  0  0  0  0  0  0\\n    1.5270   -6.1850   25.8890 C   0  0  0  0  0  0  0  0  0  0  0  0\\n   -3.3290   -5.9970   29.4940 N   0  0  0  0  0  0  0  0  0  0  0  0\\n    2.5200   -5.0840   26.0570 C   0  0  0  0  0  0  0  0  0  0  0  0\\n   -5.6780  -11.1570   29.1940 N   0  0  0  0  0  0  0  0  0  0  0  0\\n    0.3300   -6.3570   26.5900 C   0  0  0  0  0  0  0  0  0  0  0  0\\n   -1.4800   -6.1450   28.0870 N   0  0  0  0  0  0  0  0  0  0  0  0\\n   -0.4560   -5.5050   27.5020 C   0  0  0  0  0  0  0  0  0  0  0  0\\n   -0.1920   -4.1590   27.7170 C   0  0  0  0  0  0  0  0  0  0  0  0\\n   -1.0730   -3.5100   28.5630 C   0  0  0  0  0  0  0  0  0  0  0  0\\n   -2.2720   -5.4030   28.9000 C   0  0  0  0  0  0  0  0  0  0  0  0\\n   -3.8980   -7.2760   29.3520 C   0  0  0  0  0  0  0  0  0  0  0  0\\n   -3.5780   -8.1620   28.3290 C   0  0  0  0  0  0  0  0  0  0  0  0\\n   -4.1340   -9.4280   28.2940 C   0  0  0  0  0  0  0  0  0  0  0  0\\n   -5.0110   -9.8320   29.2890 C   0  0  0  0  0  0  0  0  0  0  0  0\\n   -4.9340  -12.1440   28.3600 C   0  0  0  0  0  0  0  0  0  0  0  0\\n   -7.1010  -11.0460   28.7600 C   0  0  0  0  0  0  0  0  0  0  0  0\\n   -5.3170   -8.9480   30.2980 C   0  0  0  0  0  0  0  0  0  0  0  0\\n   -4.8000   -7.6720   30.3310 C   0  0  0  0  0  0  0  0  0  0  0  0\\n  1  5  1  0\\n  1 11  1  0\\n  2 23  1  0\\n  3  5  1  0\\n  4  5  2  0\\n  4  7  1  0\\n  6 15  2  0\\n  6 16  1  0\\n  7  9  1  0\\n  7 11  2  0\\n  8 16  1  0\\n  8 17  1  0\\n 10 21  1  0\\n 10 22  1  0\\n 10 20  1  0\\n 12 13  1  0\\n 12 16  2  0\\n 13 11  1  0\\n 13 14  2  0\\n 14 15  1  0\\n 17 18  2  0\\n 17 24  1  0\\n 18 19  1  0\\n 19 20  2  0\\n 20 23  1  0\\n 23 24  2  0\\nM  END\\n\",\"sdf\");\n\tviewer_16493676257752972.addModel(\"4fko_B_20K.pdb\\n     RDKit          3D\\n\\n 24 26  0  0  1  0  0  0  0  0999 V2000\\n   18.4788   20.7222  -11.1393 S   0  0  0  0  0  0  0  0  0  0  0  0\\n   14.7437   19.3930  -18.3274 Cl  0  0  0  0  0  0  0  0  0  0  0  0\\n   21.1475   20.6080  -10.2489 C   0  0  0  0  0  0  0  0  0  0  0  0\\n   19.2309   20.6060   -8.6868 N   0  0  0  0  0  0  0  0  0  0  0  0\\n   19.6966   20.6529   -9.9021 C   0  0  0  0  0  0  0  0  0  0  0  0\\n   13.3876   21.2376  -11.4809 N   0  0  0  0  0  0  0  0  0  0  0  0\\n   17.8468   20.6060   -8.6460 C   0  0  0  0  0  0  0  0  0  0  0  0\\n   14.2830   20.8272  -13.5309 N   0  0  0  0  0  0  0  0  0  0  0  0\\n   17.1598   20.4449   -7.3313 C   0  0  0  0  0  0  0  0  0  0  0  0\\n   17.7045   19.9762  -17.9809 N   0  0  0  0  0  0  0  0  0  0  0  0\\n   17.2488   20.6927   -9.9065 C   0  0  0  0  0  0  0  0  0  0  0  0\\n   15.7178   20.7323  -11.6999 N   0  0  0  0  0  0  0  0  0  0  0  0\\n   15.8612   20.8723  -10.3732 C   0  0  0  0  0  0  0  0  0  0  0  0\\n   14.8018   21.1897   -9.5339 C   0  0  0  0  0  0  0  0  0  0  0  0\\n   13.5834   21.3752  -10.1617 C   0  0  0  0  0  0  0  0  0  0  0  0\\n   14.4731   20.9345  -12.1985 C   0  0  0  0  0  0  0  0  0  0  0  0\\n   15.1779   20.6565  -14.6032 C   0  0  0  0  0  0  0  0  0  0  0  0\\n   16.5575   20.7948  -14.4963 C   0  0  0  0  0  0  0  0  0  0  0  0\\n   17.3765   20.5478  -15.5831 C   0  0  0  0  0  0  0  0  0  0  0  0\\n   16.8286   20.1471  -16.7921 C   0  0  0  0  0  0  0  0  0  0  0  0\\n   19.1304   19.7035  -17.6404 C   0  0  0  0  0  0  0  0  0  0  0  0\\n   17.5856   21.1116  -18.9412 C   0  0  0  0  0  0  0  0  0  0  0  0\\n   15.4627   20.0100  -16.8846 C   0  0  0  0  0  0  0  0  0  0  0  0\\n   14.6289   20.2844  -15.8234 C   0  0  0  0  0  0  0  0  0  0  0  0\\n  1  5  1  0\\n  1 11  1  0\\n  2 23  1  0\\n  3  5  1  0\\n  4  5  2  0\\n  4  7  1  0\\n  6 15  2  0\\n  6 16  1  0\\n  7  9  1  0\\n  7 11  2  0\\n  8 16  1  0\\n  8 17  1  0\\n 10 21  1  0\\n 10 22  1  0\\n 10 20  1  0\\n 12 13  1  0\\n 12 16  2  0\\n 13 11  1  0\\n 13 14  2  0\\n 14 15  1  0\\n 17 18  2  0\\n 17 24  1  0\\n 18 19  1  0\\n 19 20  2  0\\n 20 23  1  0\\n 23 24  2  0\\nM  END\\n\",\"sdf\");\n\tviewer_16493676257752972.addModel(\"4fko_B_20K.pdb\\n     RDKit          3D\\n\\n 24 26  0  0  1  0  0  0  0  0999 V2000\\n   14.6135   20.8021  -11.6269 S   0  0  0  0  0  0  0  0  0  0  0  0\\n   20.1237   21.2626  -17.6941 Cl  0  0  0  0  0  0  0  0  0  0  0  0\\n   11.8048   20.9471  -11.4939 C   0  0  0  0  0  0  0  0  0  0  0  0\\n   13.2393   21.2266   -9.4995 N   0  0  0  0  0  0  0  0  0  0  0  0\\n   13.1118   20.9987  -10.7754 C   0  0  0  0  0  0  0  0  0  0  0  0\\n   19.6114   20.4160  -10.5431 N   0  0  0  0  0  0  0  0  0  0  0  0\\n   14.5632   21.2786   -9.0971 C   0  0  0  0  0  0  0  0  0  0  0  0\\n   19.2925   20.5125  -12.7929 N   0  0  0  0  0  0  0  0  0  0  0  0\\n   14.8782   21.6406   -7.6842 C   0  0  0  0  0  0  0  0  0  0  0  0\\n   17.1746   20.6330  -18.0592 N   0  0  0  0  0  0  0  0  0  0  0  0\\n   15.4733   21.0409  -10.1310 C   0  0  0  0  0  0  0  0  0  0  0  0\\n   17.4244   20.8083  -11.4353 N   0  0  0  0  0  0  0  0  0  0  0  0\\n   16.9342   20.8459  -10.1868 C   0  0  0  0  0  0  0  0  0  0  0  0\\n   17.7324   20.6817   -9.0627 C   0  0  0  0  0  0  0  0  0  0  0  0\\n   19.0728   20.4532   -9.3159 C   0  0  0  0  0  0  0  0  0  0  0  0\\n   18.7559   20.5818  -11.5559 C   0  0  0  0  0  0  0  0  0  0  0  0\\n   18.7141   20.5053  -14.0756 C   0  0  0  0  0  0  0  0  0  0  0  0\\n   17.3549   20.3366  -14.3165 C   0  0  0  0  0  0  0  0  0  0  0  0\\n   16.8538   20.4053  -15.6038 C   0  0  0  0  0  0  0  0  0  0  0  0\\n   17.7038   20.6554  -16.6703 C   0  0  0  0  0  0  0  0  0  0  0  0\\n   15.7106   20.9017  -18.1470 C   0  0  0  0  0  0  0  0  0  0  0  0\\n   17.5393   19.3818  -18.7852 C   0  0  0  0  0  0  0  0  0  0  0  0\\n   19.0460   20.8244  -16.4191 C   0  0  0  0  0  0  0  0  0  0  0  0\\n   19.5680   20.7256  -15.1485 C   0  0  0  0  0  0  0  0  0  0  0  0\\n  1  5  1  0\\n  1 11  1  0\\n  2 23  1  0\\n  3  5  1  0\\n  4  5  2  0\\n  4  7  1  0\\n  6 15  2  0\\n  6 16  1  0\\n  7  9  1  0\\n  7 11  2  0\\n  8 16  1  0\\n  8 17  1  0\\n 10 21  1  0\\n 10 22  1  0\\n 10 20  1  0\\n 12 13  1  0\\n 12 16  2  0\\n 13 11  1  0\\n 13 14  2  0\\n 14 15  1  0\\n 17 18  2  0\\n 17 24  1  0\\n 18 19  1  0\\n 19 20  2  0\\n 20 23  1  0\\n 23 24  2  0\\nM  END\\n\",\"sdf\");\n\tviewer_16493676257752972.setStyle({\"model\": 0},{\"stick\": {\"colorscheme\": \"lightgreyCarbon\"}});\n\tviewer_16493676257752972.setStyle({\"model\": 1},{\"stick\": {\"colorscheme\": \"purpleCarbon\"}});\n\tviewer_16493676257752972.setStyle({\"model\": 2},{\"stick\": {\"colorscheme\": \"greyCarbon\"}});\n\tviewer_16493676257752972.zoomTo();\nviewer_16493676257752972.render();\n});\n</script>",
      "text/html": [
       "<div id=\"3dmolviewer_16493676257752972\"  style=\"position: relative; width: 640px; height: 480px\">\n",
       "        <p id=\"3dmolwarning_16493676257752972\" style=\"background-color:#ffcccc;color:black\">You appear to be running in JupyterLab (or JavaScript failed to load for some other reason).  You need to install the 3dmol extension: <br>\n",
       "        <tt>jupyter labextension install jupyterlab_3dmol</tt></p>\n",
       "        </div>\n",
       "<script>\n",
       "\n",
       "var loadScriptAsync = function(uri){\n",
       "  return new Promise((resolve, reject) => {\n",
       "    var tag = document.createElement('script');\n",
       "    tag.src = uri;\n",
       "    tag.async = true;\n",
       "    tag.onload = () => {\n",
       "      resolve();\n",
       "    };\n",
       "  var firstScriptTag = document.getElementsByTagName('script')[0];\n",
       "  firstScriptTag.parentNode.insertBefore(tag, firstScriptTag);\n",
       "});\n",
       "};\n",
       "\n",
       "if(typeof $3Dmolpromise === 'undefined') {\n",
       "$3Dmolpromise = null;\n",
       "  $3Dmolpromise = loadScriptAsync('https://3dmol.org/build/3Dmol.js');\n",
       "}\n",
       "\n",
       "var viewer_16493676257752972 = null;\n",
       "var warn = document.getElementById(\"3dmolwarning_16493676257752972\");\n",
       "if(warn) {\n",
       "    warn.parentNode.removeChild(warn);\n",
       "}\n",
       "$3Dmolpromise.then(function() {\n",
       "viewer_16493676257752972 = $3Dmol.createViewer($(\"#3dmolviewer_16493676257752972\"),{backgroundColor:\"white\"});\n",
       "viewer_16493676257752972.zoomTo();\n",
       "\tviewer_16493676257752972.addModel(\"4fko_B_20K.pdb\\n     RDKit          3D\\n\\n 24 26  0  0  1  0  0  0  0  0999 V2000\\n   -0.4030   -7.8710   26.1380 S   0  0  0  0  0  0  0  0  0  0  0  0\\n   -6.3020   -9.4460   31.6250 Cl  0  0  0  0  0  0  0  0  0  0  0  0\\n    0.9760   -9.4080   24.2240 C   0  0  0  0  0  0  0  0  0  0  0  0\\n    1.8050   -7.2130   25.0040 N   0  0  0  0  0  0  0  0  0  0  0  0\\n    0.9050   -8.1540   25.0300 C   0  0  0  0  0  0  0  0  0  0  0  0\\n   -2.1040   -4.1070   29.1780 N   0  0  0  0  0  0  0  0  0  0  0  0\\n    1.5270   -6.1850   25.8890 C   0  0  0  0  0  0  0  0  0  0  0  0\\n   -3.3290   -5.9970   29.4940 N   0  0  0  0  0  0  0  0  0  0  0  0\\n    2.5200   -5.0840   26.0570 C   0  0  0  0  0  0  0  0  0  0  0  0\\n   -5.6780  -11.1570   29.1940 N   0  0  0  0  0  0  0  0  0  0  0  0\\n    0.3300   -6.3570   26.5900 C   0  0  0  0  0  0  0  0  0  0  0  0\\n   -1.4800   -6.1450   28.0870 N   0  0  0  0  0  0  0  0  0  0  0  0\\n   -0.4560   -5.5050   27.5020 C   0  0  0  0  0  0  0  0  0  0  0  0\\n   -0.1920   -4.1590   27.7170 C   0  0  0  0  0  0  0  0  0  0  0  0\\n   -1.0730   -3.5100   28.5630 C   0  0  0  0  0  0  0  0  0  0  0  0\\n   -2.2720   -5.4030   28.9000 C   0  0  0  0  0  0  0  0  0  0  0  0\\n   -3.8980   -7.2760   29.3520 C   0  0  0  0  0  0  0  0  0  0  0  0\\n   -3.5780   -8.1620   28.3290 C   0  0  0  0  0  0  0  0  0  0  0  0\\n   -4.1340   -9.4280   28.2940 C   0  0  0  0  0  0  0  0  0  0  0  0\\n   -5.0110   -9.8320   29.2890 C   0  0  0  0  0  0  0  0  0  0  0  0\\n   -4.9340  -12.1440   28.3600 C   0  0  0  0  0  0  0  0  0  0  0  0\\n   -7.1010  -11.0460   28.7600 C   0  0  0  0  0  0  0  0  0  0  0  0\\n   -5.3170   -8.9480   30.2980 C   0  0  0  0  0  0  0  0  0  0  0  0\\n   -4.8000   -7.6720   30.3310 C   0  0  0  0  0  0  0  0  0  0  0  0\\n  1  5  1  0\\n  1 11  1  0\\n  2 23  1  0\\n  3  5  1  0\\n  4  5  2  0\\n  4  7  1  0\\n  6 15  2  0\\n  6 16  1  0\\n  7  9  1  0\\n  7 11  2  0\\n  8 16  1  0\\n  8 17  1  0\\n 10 21  1  0\\n 10 22  1  0\\n 10 20  1  0\\n 12 13  1  0\\n 12 16  2  0\\n 13 11  1  0\\n 13 14  2  0\\n 14 15  1  0\\n 17 18  2  0\\n 17 24  1  0\\n 18 19  1  0\\n 19 20  2  0\\n 20 23  1  0\\n 23 24  2  0\\nM  END\\n\",\"sdf\");\n",
       "\tviewer_16493676257752972.addModel(\"4fko_B_20K.pdb\\n     RDKit          3D\\n\\n 24 26  0  0  1  0  0  0  0  0999 V2000\\n   18.4788   20.7222  -11.1393 S   0  0  0  0  0  0  0  0  0  0  0  0\\n   14.7437   19.3930  -18.3274 Cl  0  0  0  0  0  0  0  0  0  0  0  0\\n   21.1475   20.6080  -10.2489 C   0  0  0  0  0  0  0  0  0  0  0  0\\n   19.2309   20.6060   -8.6868 N   0  0  0  0  0  0  0  0  0  0  0  0\\n   19.6966   20.6529   -9.9021 C   0  0  0  0  0  0  0  0  0  0  0  0\\n   13.3876   21.2376  -11.4809 N   0  0  0  0  0  0  0  0  0  0  0  0\\n   17.8468   20.6060   -8.6460 C   0  0  0  0  0  0  0  0  0  0  0  0\\n   14.2830   20.8272  -13.5309 N   0  0  0  0  0  0  0  0  0  0  0  0\\n   17.1598   20.4449   -7.3313 C   0  0  0  0  0  0  0  0  0  0  0  0\\n   17.7045   19.9762  -17.9809 N   0  0  0  0  0  0  0  0  0  0  0  0\\n   17.2488   20.6927   -9.9065 C   0  0  0  0  0  0  0  0  0  0  0  0\\n   15.7178   20.7323  -11.6999 N   0  0  0  0  0  0  0  0  0  0  0  0\\n   15.8612   20.8723  -10.3732 C   0  0  0  0  0  0  0  0  0  0  0  0\\n   14.8018   21.1897   -9.5339 C   0  0  0  0  0  0  0  0  0  0  0  0\\n   13.5834   21.3752  -10.1617 C   0  0  0  0  0  0  0  0  0  0  0  0\\n   14.4731   20.9345  -12.1985 C   0  0  0  0  0  0  0  0  0  0  0  0\\n   15.1779   20.6565  -14.6032 C   0  0  0  0  0  0  0  0  0  0  0  0\\n   16.5575   20.7948  -14.4963 C   0  0  0  0  0  0  0  0  0  0  0  0\\n   17.3765   20.5478  -15.5831 C   0  0  0  0  0  0  0  0  0  0  0  0\\n   16.8286   20.1471  -16.7921 C   0  0  0  0  0  0  0  0  0  0  0  0\\n   19.1304   19.7035  -17.6404 C   0  0  0  0  0  0  0  0  0  0  0  0\\n   17.5856   21.1116  -18.9412 C   0  0  0  0  0  0  0  0  0  0  0  0\\n   15.4627   20.0100  -16.8846 C   0  0  0  0  0  0  0  0  0  0  0  0\\n   14.6289   20.2844  -15.8234 C   0  0  0  0  0  0  0  0  0  0  0  0\\n  1  5  1  0\\n  1 11  1  0\\n  2 23  1  0\\n  3  5  1  0\\n  4  5  2  0\\n  4  7  1  0\\n  6 15  2  0\\n  6 16  1  0\\n  7  9  1  0\\n  7 11  2  0\\n  8 16  1  0\\n  8 17  1  0\\n 10 21  1  0\\n 10 22  1  0\\n 10 20  1  0\\n 12 13  1  0\\n 12 16  2  0\\n 13 11  1  0\\n 13 14  2  0\\n 14 15  1  0\\n 17 18  2  0\\n 17 24  1  0\\n 18 19  1  0\\n 19 20  2  0\\n 20 23  1  0\\n 23 24  2  0\\nM  END\\n\",\"sdf\");\n",
       "\tviewer_16493676257752972.addModel(\"4fko_B_20K.pdb\\n     RDKit          3D\\n\\n 24 26  0  0  1  0  0  0  0  0999 V2000\\n   14.6135   20.8021  -11.6269 S   0  0  0  0  0  0  0  0  0  0  0  0\\n   20.1237   21.2626  -17.6941 Cl  0  0  0  0  0  0  0  0  0  0  0  0\\n   11.8048   20.9471  -11.4939 C   0  0  0  0  0  0  0  0  0  0  0  0\\n   13.2393   21.2266   -9.4995 N   0  0  0  0  0  0  0  0  0  0  0  0\\n   13.1118   20.9987  -10.7754 C   0  0  0  0  0  0  0  0  0  0  0  0\\n   19.6114   20.4160  -10.5431 N   0  0  0  0  0  0  0  0  0  0  0  0\\n   14.5632   21.2786   -9.0971 C   0  0  0  0  0  0  0  0  0  0  0  0\\n   19.2925   20.5125  -12.7929 N   0  0  0  0  0  0  0  0  0  0  0  0\\n   14.8782   21.6406   -7.6842 C   0  0  0  0  0  0  0  0  0  0  0  0\\n   17.1746   20.6330  -18.0592 N   0  0  0  0  0  0  0  0  0  0  0  0\\n   15.4733   21.0409  -10.1310 C   0  0  0  0  0  0  0  0  0  0  0  0\\n   17.4244   20.8083  -11.4353 N   0  0  0  0  0  0  0  0  0  0  0  0\\n   16.9342   20.8459  -10.1868 C   0  0  0  0  0  0  0  0  0  0  0  0\\n   17.7324   20.6817   -9.0627 C   0  0  0  0  0  0  0  0  0  0  0  0\\n   19.0728   20.4532   -9.3159 C   0  0  0  0  0  0  0  0  0  0  0  0\\n   18.7559   20.5818  -11.5559 C   0  0  0  0  0  0  0  0  0  0  0  0\\n   18.7141   20.5053  -14.0756 C   0  0  0  0  0  0  0  0  0  0  0  0\\n   17.3549   20.3366  -14.3165 C   0  0  0  0  0  0  0  0  0  0  0  0\\n   16.8538   20.4053  -15.6038 C   0  0  0  0  0  0  0  0  0  0  0  0\\n   17.7038   20.6554  -16.6703 C   0  0  0  0  0  0  0  0  0  0  0  0\\n   15.7106   20.9017  -18.1470 C   0  0  0  0  0  0  0  0  0  0  0  0\\n   17.5393   19.3818  -18.7852 C   0  0  0  0  0  0  0  0  0  0  0  0\\n   19.0460   20.8244  -16.4191 C   0  0  0  0  0  0  0  0  0  0  0  0\\n   19.5680   20.7256  -15.1485 C   0  0  0  0  0  0  0  0  0  0  0  0\\n  1  5  1  0\\n  1 11  1  0\\n  2 23  1  0\\n  3  5  1  0\\n  4  5  2  0\\n  4  7  1  0\\n  6 15  2  0\\n  6 16  1  0\\n  7  9  1  0\\n  7 11  2  0\\n  8 16  1  0\\n  8 17  1  0\\n 10 21  1  0\\n 10 22  1  0\\n 10 20  1  0\\n 12 13  1  0\\n 12 16  2  0\\n 13 11  1  0\\n 13 14  2  0\\n 14 15  1  0\\n 17 18  2  0\\n 17 24  1  0\\n 18 19  1  0\\n 19 20  2  0\\n 20 23  1  0\\n 23 24  2  0\\nM  END\\n\",\"sdf\");\n",
       "\tviewer_16493676257752972.setStyle({\"model\": 0},{\"stick\": {\"colorscheme\": \"lightgreyCarbon\"}});\n",
       "\tviewer_16493676257752972.setStyle({\"model\": 1},{\"stick\": {\"colorscheme\": \"purpleCarbon\"}});\n",
       "\tviewer_16493676257752972.setStyle({\"model\": 2},{\"stick\": {\"colorscheme\": \"greyCarbon\"}});\n",
       "\tviewer_16493676257752972.zoomTo();\n",
       "viewer_16493676257752972.render();\n",
       "});\n",
       "</script>"
      ]
     },
     "metadata": {},
     "output_type": "display_data"
    },
    {
     "data": {
      "text/plain": [
       "<py3Dmol.view at 0x7f49fb8a9490>"
      ]
     },
     "metadata": {},
     "output_type": "display_data"
    }
   ],
   "source": [
    "for _, (i, lig) in df[df.RMSDf > 0.1][[\"idx\", \"lig\"]].iterrows():\n",
    "    _, _, p, tmol = align_and_show(mols[i], pcds[i], tmols[i], tpcds[i])\n",
    "\n",
    "    with Chem.SDWriter(f\"failed-{method}/{lig}_alignfail.sdf\") as w:\n",
    "        w.write(tmol, confId=1)\n",
    "\n",
    "    display(p)"
   ]
  },
  {
   "cell_type": "markdown",
   "metadata": {},
   "source": [
    "## Show Results"
   ]
  },
  {
   "cell_type": "code",
   "execution_count": 21,
   "metadata": {},
   "outputs": [
    {
     "data": {
      "text/html": [
       "<div>\n",
       "<style scoped>\n",
       "    .dataframe tbody tr th:only-of-type {\n",
       "        vertical-align: middle;\n",
       "    }\n",
       "\n",
       "    .dataframe tbody tr th {\n",
       "        vertical-align: top;\n",
       "    }\n",
       "\n",
       "    .dataframe thead th {\n",
       "        text-align: right;\n",
       "    }\n",
       "</style>\n",
       "<table border=\"1\" class=\"dataframe\">\n",
       "  <thead>\n",
       "    <tr style=\"text-align: right;\">\n",
       "      <th></th>\n",
       "      <th>system</th>\n",
       "      <th>lig</th>\n",
       "      <th>RMSDi</th>\n",
       "      <th>RMSDf</th>\n",
       "      <th>idx</th>\n",
       "    </tr>\n",
       "  </thead>\n",
       "  <tbody>\n",
       "    <tr>\n",
       "      <th>0</th>\n",
       "      <td>BRD4</td>\n",
       "      <td>ligand-1_sensaas</td>\n",
       "      <td>14.533324</td>\n",
       "      <td>0.095448</td>\n",
       "      <td>0</td>\n",
       "    </tr>\n",
       "    <tr>\n",
       "      <th>1</th>\n",
       "      <td>BRD4</td>\n",
       "      <td>ligand-2_sensaas</td>\n",
       "      <td>3.482161</td>\n",
       "      <td>0.060450</td>\n",
       "      <td>1</td>\n",
       "    </tr>\n",
       "    <tr>\n",
       "      <th>2</th>\n",
       "      <td>BRD4</td>\n",
       "      <td>ligand-3_sensaas</td>\n",
       "      <td>16.627933</td>\n",
       "      <td>0.024109</td>\n",
       "      <td>2</td>\n",
       "    </tr>\n",
       "    <tr>\n",
       "      <th>3</th>\n",
       "      <td>BRD4</td>\n",
       "      <td>ligand-4_sensaas</td>\n",
       "      <td>16.260454</td>\n",
       "      <td>0.089246</td>\n",
       "      <td>3</td>\n",
       "    </tr>\n",
       "    <tr>\n",
       "      <th>4</th>\n",
       "      <td>BRD4</td>\n",
       "      <td>ligand-5_sensaas</td>\n",
       "      <td>7.331523</td>\n",
       "      <td>0.035889</td>\n",
       "      <td>4</td>\n",
       "    </tr>\n",
       "    <tr>\n",
       "      <th>5</th>\n",
       "      <td>BRD4</td>\n",
       "      <td>ligand-6_sensaas</td>\n",
       "      <td>19.503197</td>\n",
       "      <td>0.034171</td>\n",
       "      <td>5</td>\n",
       "    </tr>\n",
       "    <tr>\n",
       "      <th>6</th>\n",
       "      <td>BRD4</td>\n",
       "      <td>ligand-7_sensaas</td>\n",
       "      <td>21.968921</td>\n",
       "      <td>0.023673</td>\n",
       "      <td>6</td>\n",
       "    </tr>\n",
       "    <tr>\n",
       "      <th>7</th>\n",
       "      <td>BRD4</td>\n",
       "      <td>ligand-8_sensaas</td>\n",
       "      <td>3.888344</td>\n",
       "      <td>0.035036</td>\n",
       "      <td>7</td>\n",
       "    </tr>\n",
       "    <tr>\n",
       "      <th>8</th>\n",
       "      <td>BRD4</td>\n",
       "      <td>ligand-9_sensaas</td>\n",
       "      <td>7.502592</td>\n",
       "      <td>0.040503</td>\n",
       "      <td>8</td>\n",
       "    </tr>\n",
       "    <tr>\n",
       "      <th>9</th>\n",
       "      <td>BRD4</td>\n",
       "      <td>ligand-10_sensaas</td>\n",
       "      <td>23.961168</td>\n",
       "      <td>0.030305</td>\n",
       "      <td>9</td>\n",
       "    </tr>\n",
       "    <tr>\n",
       "      <th>10</th>\n",
       "      <td>CDK2</td>\n",
       "      <td>CS1</td>\n",
       "      <td>7.760494</td>\n",
       "      <td>0.023107</td>\n",
       "      <td>0</td>\n",
       "    </tr>\n",
       "    <tr>\n",
       "      <th>11</th>\n",
       "      <td>CDK2</td>\n",
       "      <td>CS3</td>\n",
       "      <td>33.737529</td>\n",
       "      <td>0.065926</td>\n",
       "      <td>1</td>\n",
       "    </tr>\n",
       "    <tr>\n",
       "      <th>12</th>\n",
       "      <td>CDK2</td>\n",
       "      <td>CS4</td>\n",
       "      <td>45.846264</td>\n",
       "      <td>0.057639</td>\n",
       "      <td>2</td>\n",
       "    </tr>\n",
       "    <tr>\n",
       "      <th>13</th>\n",
       "      <td>CDK2</td>\n",
       "      <td>CS9</td>\n",
       "      <td>21.323958</td>\n",
       "      <td>0.035193</td>\n",
       "      <td>3</td>\n",
       "    </tr>\n",
       "    <tr>\n",
       "      <th>14</th>\n",
       "      <td>CDK2</td>\n",
       "      <td>CS11</td>\n",
       "      <td>45.383193</td>\n",
       "      <td>0.036503</td>\n",
       "      <td>4</td>\n",
       "    </tr>\n",
       "    <tr>\n",
       "      <th>15</th>\n",
       "      <td>CDK2</td>\n",
       "      <td>CS18</td>\n",
       "      <td>52.592470</td>\n",
       "      <td>6.692207</td>\n",
       "      <td>5</td>\n",
       "    </tr>\n",
       "    <tr>\n",
       "      <th>16</th>\n",
       "      <td>CDK2</td>\n",
       "      <td>CS19</td>\n",
       "      <td>40.704179</td>\n",
       "      <td>0.036640</td>\n",
       "      <td>6</td>\n",
       "    </tr>\n",
       "    <tr>\n",
       "      <th>17</th>\n",
       "      <td>CDK2</td>\n",
       "      <td>CS20</td>\n",
       "      <td>53.752687</td>\n",
       "      <td>4.243488</td>\n",
       "      <td>7</td>\n",
       "    </tr>\n",
       "    <tr>\n",
       "      <th>18</th>\n",
       "      <td>CDK2</td>\n",
       "      <td>CS241</td>\n",
       "      <td>9.984236</td>\n",
       "      <td>0.050882</td>\n",
       "      <td>8</td>\n",
       "    </tr>\n",
       "    <tr>\n",
       "      <th>19</th>\n",
       "      <td>CDK2</td>\n",
       "      <td>CS242</td>\n",
       "      <td>18.092393</td>\n",
       "      <td>0.036347</td>\n",
       "      <td>9</td>\n",
       "    </tr>\n",
       "    <tr>\n",
       "      <th>20</th>\n",
       "      <td>CDK2</td>\n",
       "      <td>CS245</td>\n",
       "      <td>8.534871</td>\n",
       "      <td>0.048611</td>\n",
       "      <td>10</td>\n",
       "    </tr>\n",
       "    <tr>\n",
       "      <th>21</th>\n",
       "      <td>CDK2</td>\n",
       "      <td>CS246</td>\n",
       "      <td>47.377596</td>\n",
       "      <td>0.049922</td>\n",
       "      <td>11</td>\n",
       "    </tr>\n",
       "    <tr>\n",
       "      <th>22</th>\n",
       "      <td>CDK2</td>\n",
       "      <td>CS248</td>\n",
       "      <td>22.949335</td>\n",
       "      <td>0.045616</td>\n",
       "      <td>12</td>\n",
       "    </tr>\n",
       "    <tr>\n",
       "      <th>23</th>\n",
       "      <td>CDK2</td>\n",
       "      <td>CS260</td>\n",
       "      <td>19.277600</td>\n",
       "      <td>0.042876</td>\n",
       "      <td>13</td>\n",
       "    </tr>\n",
       "    <tr>\n",
       "      <th>24</th>\n",
       "      <td>CDK2</td>\n",
       "      <td>CS261</td>\n",
       "      <td>52.709319</td>\n",
       "      <td>0.047306</td>\n",
       "      <td>14</td>\n",
       "    </tr>\n",
       "    <tr>\n",
       "      <th>25</th>\n",
       "      <td>CDK2</td>\n",
       "      <td>CS262</td>\n",
       "      <td>8.985574</td>\n",
       "      <td>0.019884</td>\n",
       "      <td>15</td>\n",
       "    </tr>\n",
       "  </tbody>\n",
       "</table>\n",
       "</div>"
      ],
      "text/plain": [
       "   system                lig      RMSDi     RMSDf  idx\n",
       "0    BRD4   ligand-1_sensaas  14.533324  0.095448    0\n",
       "1    BRD4   ligand-2_sensaas   3.482161  0.060450    1\n",
       "2    BRD4   ligand-3_sensaas  16.627933  0.024109    2\n",
       "3    BRD4   ligand-4_sensaas  16.260454  0.089246    3\n",
       "4    BRD4   ligand-5_sensaas   7.331523  0.035889    4\n",
       "5    BRD4   ligand-6_sensaas  19.503197  0.034171    5\n",
       "6    BRD4   ligand-7_sensaas  21.968921  0.023673    6\n",
       "7    BRD4   ligand-8_sensaas   3.888344  0.035036    7\n",
       "8    BRD4   ligand-9_sensaas   7.502592  0.040503    8\n",
       "9    BRD4  ligand-10_sensaas  23.961168  0.030305    9\n",
       "10   CDK2                CS1   7.760494  0.023107    0\n",
       "11   CDK2                CS3  33.737529  0.065926    1\n",
       "12   CDK2                CS4  45.846264  0.057639    2\n",
       "13   CDK2                CS9  21.323958  0.035193    3\n",
       "14   CDK2               CS11  45.383193  0.036503    4\n",
       "15   CDK2               CS18  52.592470  6.692207    5\n",
       "16   CDK2               CS19  40.704179  0.036640    6\n",
       "17   CDK2               CS20  53.752687  4.243488    7\n",
       "18   CDK2              CS241   9.984236  0.050882    8\n",
       "19   CDK2              CS242  18.092393  0.036347    9\n",
       "20   CDK2              CS245   8.534871  0.048611   10\n",
       "21   CDK2              CS246  47.377596  0.049922   11\n",
       "22   CDK2              CS248  22.949335  0.045616   12\n",
       "23   CDK2              CS260  19.277600  0.042876   13\n",
       "24   CDK2              CS261  52.709319  0.047306   14\n",
       "25   CDK2              CS262   8.985574  0.019884   15"
      ]
     },
     "execution_count": 21,
     "metadata": {},
     "output_type": "execute_result"
    }
   ],
   "source": [
    "df = pd.DataFrame(rmsds)\n",
    "df"
   ]
  },
  {
   "cell_type": "code",
   "execution_count": 22,
   "metadata": {},
   "outputs": [
    {
     "data": {
      "text/html": [
       "<div>\n",
       "<style scoped>\n",
       "    .dataframe tbody tr th:only-of-type {\n",
       "        vertical-align: middle;\n",
       "    }\n",
       "\n",
       "    .dataframe tbody tr th {\n",
       "        vertical-align: top;\n",
       "    }\n",
       "\n",
       "    .dataframe thead th {\n",
       "        text-align: right;\n",
       "    }\n",
       "</style>\n",
       "<table border=\"1\" class=\"dataframe\">\n",
       "  <thead>\n",
       "    <tr style=\"text-align: right;\">\n",
       "      <th></th>\n",
       "      <th>system</th>\n",
       "      <th>lig</th>\n",
       "      <th>RMSDi</th>\n",
       "      <th>RMSDf</th>\n",
       "      <th>idx</th>\n",
       "    </tr>\n",
       "  </thead>\n",
       "  <tbody>\n",
       "    <tr>\n",
       "      <th>15</th>\n",
       "      <td>CDK2</td>\n",
       "      <td>CS18</td>\n",
       "      <td>52.592470</td>\n",
       "      <td>6.692207</td>\n",
       "      <td>5</td>\n",
       "    </tr>\n",
       "    <tr>\n",
       "      <th>17</th>\n",
       "      <td>CDK2</td>\n",
       "      <td>CS20</td>\n",
       "      <td>53.752687</td>\n",
       "      <td>4.243488</td>\n",
       "      <td>7</td>\n",
       "    </tr>\n",
       "  </tbody>\n",
       "</table>\n",
       "</div>"
      ],
      "text/plain": [
       "   system   lig      RMSDi     RMSDf  idx\n",
       "15   CDK2  CS18  52.592470  6.692207    5\n",
       "17   CDK2  CS20  53.752687  4.243488    7"
      ]
     },
     "execution_count": 22,
     "metadata": {},
     "output_type": "execute_result"
    }
   ],
   "source": [
    "df[df.RMSDf > 2.0]"
   ]
  },
  {
   "cell_type": "code",
   "execution_count": 23,
   "metadata": {},
   "outputs": [],
   "source": [
    "df.to_csv(f\"rmsds-{method}.csv\", index=False, float_format=\"%.5f\")"
   ]
  }
 ],
 "metadata": {
  "interpreter": {
   "hash": "2170310d8da5d5d0ced416f072c764c73705bd667e97df15cd83672f4e754559"
  },
  "kernelspec": {
   "display_name": "Python 3",
   "language": "python",
   "name": "python3"
  },
  "language_info": {
   "codemirror_mode": {
    "name": "ipython",
    "version": 3
   },
   "file_extension": ".py",
   "mimetype": "text/x-python",
   "name": "python",
   "nbconvert_exporter": "python",
   "pygments_lexer": "ipython3",
   "version": "3.9.12"
  }
 },
 "nbformat": 4,
 "nbformat_minor": 2
}
