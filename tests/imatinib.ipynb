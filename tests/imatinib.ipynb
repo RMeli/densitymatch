{
 "cells": [
  {
   "cell_type": "markdown",
   "metadata": {},
   "source": [
    "# Imatinib"
   ]
  },
  {
   "cell_type": "code",
   "execution_count": 1,
   "metadata": {},
   "outputs": [],
   "source": [
    "%load_ext autoreload\n",
    "%autoreload 2"
   ]
  },
  {
   "cell_type": "markdown",
   "metadata": {},
   "source": [
    "### Libraries"
   ]
  },
  {
   "cell_type": "code",
   "execution_count": 2,
   "metadata": {},
   "outputs": [],
   "source": [
    "import sys\n",
    "sys.path.append(\"..\")"
   ]
  },
  {
   "cell_type": "code",
   "execution_count": 3,
   "metadata": {},
   "outputs": [
    {
     "name": "stdout",
     "output_type": "stream",
     "text": [
      "Jupyter environment detected. Enabling Open3D WebVisualizer.\n",
      "[Open3D INFO] WebRTC GUI backend enabled.\n",
      "[Open3D INFO] WebRTCWindowSystem: HTTP handshake server disabled.\n"
     ]
    },
    {
     "name": "stderr",
     "output_type": "stream",
     "text": [
      "INFO - 2021-08-20 11:16:52,300 - __init__ - Enabling RDKit 2021.03.3 jupyter extensions\n"
     ]
    }
   ],
   "source": [
    "import open3d as o3d\n",
    "import numpy as np\n",
    "import seaborn as sns\n",
    "import pandas as pd\n",
    "\n",
    "import re, os\n",
    "from io import StringIO\n",
    "\n",
    "from tqdm.auto import trange\n",
    "\n",
    "from rdkit import Chem\n",
    "from rdkit.Chem import AllChem\n",
    "from rdkit.Chem import PandasTools\n",
    "\n",
    "import ipywidgets as widgets"
   ]
  },
  {
   "cell_type": "code",
   "execution_count": 4,
   "metadata": {},
   "outputs": [],
   "source": [
    "from utils import show_molecule_idx\n",
    "from utils import AlignShow\n",
    "from score_pcd import fit_and_score"
   ]
  },
  {
   "cell_type": "markdown",
   "metadata": {},
   "source": [
    "## Create Point Clouds"
   ]
  },
  {
   "cell_type": "markdown",
   "metadata": {},
   "source": [
    "Create PCD files for imatinib using Singularity container:"
   ]
  },
  {
   "cell_type": "code",
   "execution_count": 5,
   "metadata": {},
   "outputs": [],
   "source": [
    "%%bash\n",
    "\n",
    "singularity run --nv --app python ../development/densitymatch.sif \\\n",
    "    ../molgrid_to_pcd.py ../files/imatinib.sdf -m ../files/ligmap -r 0.5 -o ligands/imatinib.pcd\n",
    "singularity run --nv --app python ../development/densitymatch.sif \\\n",
    "    ../molgrid_to_pcd.py ../files/imatinib_moved.sdf -m ../files/ligmap -r 0.5 -o ligands/imatinib_moved.pcd\n",
    "singularity run --nv --app python ../development/densitymatch.sif \\\n",
    "    ../molgrid_to_pcd.py ../files/imatinib_part.sdf -m ../files/ligmap -r 0.5 -o ligands/imatinib_part.pcd"
   ]
  },
  {
   "cell_type": "markdown",
   "metadata": {},
   "source": [
    "Using a Singularity container to run `molgrid_to_pcd.py` is needed because of a [`openbabel`/`molgrid` incomparibility from PyPI](https://github.com/gnina/libmolgrid/issues/62). `molgrid` and `openbabel` in the Singularity container are both installed form source."
   ]
  },
  {
   "cell_type": "markdown",
   "metadata": {},
   "source": [
    "## Imatinib Alignment"
   ]
  },
  {
   "cell_type": "markdown",
   "metadata": {},
   "source": [
    "Load SDF and PCD files for imatibib (original coordinates and moved coordinates):"
   ]
  },
  {
   "cell_type": "code",
   "execution_count": 6,
   "metadata": {},
   "outputs": [],
   "source": [
    "files = [\"imatinib.pcd\", \"imatinib_moved.pcd\"]\n",
    "\n",
    "pcds = []\n",
    "mols = []\n",
    "for f in files:\n",
    "    pcd = o3d.io.read_point_cloud(os.path.join(\"ligands\", f))\n",
    "    pcds.append(pcd)\n",
    "\n",
    "    s = Chem.SDMolSupplier(os.path.join(\"../files\",f.replace(\".pcd\", \".sdf\")))\n",
    "    mol = next(s)\n",
    "    mols.append(mol)"
   ]
  },
  {
   "cell_type": "code",
   "execution_count": 7,
   "metadata": {},
   "outputs": [
    {
     "name": "stdout",
     "output_type": "stream",
     "text": [
      "[PointCloud with 1284 points., PointCloud with 1239 points.] [<rdkit.Chem.rdchem.Mol object at 0x7f8487763a80>, <rdkit.Chem.rdchem.Mol object at 0x7f8487763f30>]\n"
     ]
    }
   ],
   "source": [
    "print(pcds, mols)"
   ]
  },
  {
   "cell_type": "markdown",
   "metadata": {},
   "source": [
    "We can visualize the molecules using `py3Dmol`:"
   ]
  },
  {
   "cell_type": "code",
   "execution_count": 8,
   "metadata": {},
   "outputs": [
    {
     "data": {
      "application/vnd.jupyter.widget-view+json": {
       "model_id": "c480eff192434f7684d1b773ccdb08d7",
       "version_major": 2,
       "version_minor": 0
      },
      "text/plain": [
       "interactive(children=(IntSlider(value=0, description='index', max=1), Output()), _dom_classes=('widget-interac…"
      ]
     },
     "metadata": {},
     "output_type": "display_data"
    }
   ],
   "source": [
    "_ = widgets.interact(lambda index: show_molecule_idx(index, mols), index=widgets.IntSlider(min=0, max=len(mols)-1, step=1, value=0))"
   ]
  },
  {
   "cell_type": "markdown",
   "metadata": {},
   "source": [
    "We can now fit the imatinib (as point cloud) into imatinib and score the alignmenment:"
   ]
  },
  {
   "cell_type": "code",
   "execution_count": 9,
   "metadata": {},
   "outputs": [],
   "source": [
    "gfit, cfit, tran = fit_and_score(pcds, voxel_size=0.5, threshold=0.5)"
   ]
  },
  {
   "cell_type": "code",
   "execution_count": 10,
   "metadata": {},
   "outputs": [
    {
     "name": "stdout",
     "output_type": "stream",
     "text": [
      "GFIT: 0.8886292834890965\n",
      "CFIT: 0.9587227414330218\n",
      "transformation:\n",
      " [[ -0.22349726  -0.96928013  -0.10268889   4.2042644 ]\n",
      " [ -0.72704401   0.09561122   0.67990109   0.47138654]\n",
      " [ -0.64919641   0.22661538  -0.72607816 -10.65679689]\n",
      " [  0.           0.           0.           1.        ]]\n"
     ]
    }
   ],
   "source": [
    "print(\"GFIT:\", gfit.fitness)\n",
    "print(\"CFIT:\", cfit.fitness)\n",
    "print(\"transformation:\\n\", tran)"
   ]
  },
  {
   "cell_type": "markdown",
   "metadata": {},
   "source": [
    "The alignment also returns a $4\\times 4$ representing the affine transformation (rotation and translation) needed to superimpose the two point clouds (and molecules). The affine transformation is defined by the following $4\\times 4$ matrix:\n",
    "$$\n",
    "    A = \\begin{pmatrix}\n",
    "        r_{00} & r_{01} & r_{02} & t_0 \\\\\n",
    "        r_{10} & r_{11} & r_{12} & t_1 \\\\\n",
    "        r_{20} & r_{21} & r_{22} & t_2 \\\\\n",
    "        0 & 0 & 0 & 1 \\\\\n",
    "    \\end{pmatrix}\n",
    "$$\n",
    "For an affine tranfromation $A$ represented in this way, the transformed points $\\mathbf{x}'$ are given by:\n",
    "$$\n",
    "    \\begin{pmatrix}\n",
    "        x' \\\\ y' \\\\ z' \\\\ 1\n",
    "    \\end{pmatrix} = \n",
    "    A \\begin{pmatrix}\n",
    "        x \\\\ y \\\\ z \\\\ 1\n",
    "    \\end{pmatrix}\n",
    "$$"
   ]
  },
  {
   "cell_type": "markdown",
   "metadata": {},
   "source": [
    "We can now transform the corrdinates of the RDKit molecules in order to check the superimposition:"
   ]
  },
  {
   "cell_type": "code",
   "execution_count": 11,
   "metadata": {},
   "outputs": [],
   "source": [
    "# Molecule to transform\n",
    "molid = 0"
   ]
  },
  {
   "cell_type": "code",
   "execution_count": 12,
   "metadata": {},
   "outputs": [],
   "source": [
    "\n",
    "# Select coordinates to transform\n",
    "coords = mols[molid].GetConformer(0).GetPositions()\n",
    "\n",
    "# Augment coordinates with ones\n",
    "coords_aug = np.ones((coords.shape[0], 4))\n",
    "coords_aug[:,:3] = coords\n",
    "\n",
    "# Transform coordinates (using broadcasting)\n",
    "coords_new = np.matmul(tran, coords_aug.T)[:3,:].T"
   ]
  },
  {
   "cell_type": "code",
   "execution_count": 13,
   "metadata": {},
   "outputs": [],
   "source": [
    "# Add new coordinates as additional conformer\n",
    "n_atoms = mols[molid].GetNumAtoms()\n",
    "conf = Chem.Conformer(n_atoms)\n",
    "for i in range(n_atoms):\n",
    "    conf.SetAtomPosition(i, coords_new[i,:])\n",
    "\n",
    "_ = mols[molid].AddConformer(conf, assignId=True)"
   ]
  },
  {
   "cell_type": "markdown",
   "metadata": {},
   "source": [
    "All this functionality is included in `AlignShow`, which also allow post-alignment visualization:"
   ]
  },
  {
   "cell_type": "code",
   "execution_count": 14,
   "metadata": {},
   "outputs": [],
   "source": [
    "als = AlignShow(mols, pcds)"
   ]
  },
  {
   "cell_type": "markdown",
   "metadata": {},
   "source": [
    "We can now visually check the alignment:"
   ]
  },
  {
   "cell_type": "code",
   "execution_count": 15,
   "metadata": {},
   "outputs": [
    {
     "data": {
      "application/3dmoljs_load.v0": "<div id=\"3dmolviewer_16294546804740129\"  style=\"position: relative; width: 640px; height: 480px\">\n        <p id=\"3dmolwarning_16294546804740129\" style=\"background-color:#ffcccc;color:black\">You appear to be running in JupyterLab (or JavaScript failed to load for some other reason).  You need to install the 3dmol extension: <br>\n        <tt>jupyter labextension install jupyterlab_3dmol</tt></p>\n        </div>\n<script>\n\nvar loadScriptAsync = function(uri){\n  return new Promise((resolve, reject) => {\n    var tag = document.createElement('script');\n    tag.src = uri;\n    tag.async = true;\n    tag.onload = () => {\n      resolve();\n    };\n  var firstScriptTag = document.getElementsByTagName('script')[0];\n  firstScriptTag.parentNode.insertBefore(tag, firstScriptTag);\n});\n};\n\nif(typeof $3Dmolpromise === 'undefined') {\n$3Dmolpromise = null;\n  $3Dmolpromise = loadScriptAsync('https://3dmol.org/build/3Dmol.js');\n}\n\nvar viewer_16294546804740129 = null;\nvar warn = document.getElementById(\"3dmolwarning_16294546804740129\");\nif(warn) {\n    warn.parentNode.removeChild(warn);\n}\n$3Dmolpromise.then(function() {\nviewer_16294546804740129 = $3Dmol.createViewer($(\"#3dmolviewer_16294546804740129\"),{backgroundColor:\"white\"});\nviewer_16294546804740129.zoomTo();\n\tviewer_16294546804740129.addModel(\"_c001_1\\n     RDKit          3D\\n\\n 37 41  0  0  0  0  0  0  0  0999 V2000\\n   -1.2179    8.1018   -2.1410 O   0  0  0  0  0  0  0  0  0  0  0  0\\n    0.3676    1.2879   -1.7965 N   0  0  0  0  0  0  0  0  0  0  0  0\\n    1.3947   -0.7922   -0.0542 N   0  0  0  0  0  0  0  0  0  0  0  0\\n   -3.0926    7.5844   -1.0684 N   0  0  0  0  0  0  0  0  0  0  0  0\\n   -2.8327   12.2049   -2.4379 N   0  0  0  0  0  0  0  0  0  0  0  0\\n   -0.6075   11.5915   -2.0762 N   0  0  0  0  0  0  0  0  0  0  0  0\\n   -1.0979   13.2930   -3.5650 N   0  0  0  0  0  0  0  0  0  0  0  0\\n    2.2680    9.5870    0.2886 N   0  0  0  0  0  0  0  0  0  0  0  0\\n   -0.1805    1.0409   -0.4571 C   0  0  0  0  0  0  0  0  0  0  0  0\\n    0.8427   -0.0038   -2.3075 C   0  0  0  0  0  0  0  0  0  0  0  0\\n    0.9196    0.4995    0.4568 C   0  0  0  0  0  0  0  0  0  0  0  0\\n    1.9427   -0.5451   -1.3936 C   0  0  0  0  0  0  0  0  0  0  0  0\\n   -0.7610    1.6891   -2.6470 C   0  0  0  0  0  0  0  0  0  0  0  0\\n    2.5232   -1.1934    0.7963 C   0  0  0  0  0  0  0  0  0  0  0  0\\n   -1.0783    3.1427   -2.4078 C   0  0  0  0  0  0  0  0  0  0  0  0\\n   -0.0533    4.0700   -2.3451 C   0  0  0  0  0  0  0  0  0  0  0  0\\n   -2.3936    3.5450   -2.2578 C   0  0  0  0  0  0  0  0  0  0  0  0\\n   -0.3368    5.4024   -2.1265 C   0  0  0  0  0  0  0  0  0  0  0  0\\n   -2.6910    4.8742   -2.0391 C   0  0  0  0  0  0  0  0  0  0  0  0\\n   -1.6613    5.8141   -1.9690 C   0  0  0  0  0  0  0  0  0  0  0  0\\n   -1.9724    7.2399   -1.7340 C   0  0  0  0  0  0  0  0  0  0  0  0\\n   -3.3869    8.9333   -0.8460 C   0  0  0  0  0  0  0  0  0  0  0  0\\n   -3.2574   11.2327   -1.5274 C   0  0  0  0  0  0  0  0  0  0  0  0\\n   -2.9633    9.8950   -1.7519 C   0  0  0  0  0  0  0  0  0  0  0  0\\n   -3.9748   11.6044   -0.3971 C   0  0  0  0  0  0  0  0  0  0  0  0\\n   -4.1090    9.3113    0.2796 C   0  0  0  0  0  0  0  0  0  0  0  0\\n   -4.4002   10.6435    0.5000 C   0  0  0  0  0  0  0  0  0  0  0  0\\n   -4.2944   13.0567   -0.1524 C   0  0  0  0  0  0  0  0  0  0  0  0\\n   -1.4817   12.3667   -2.6987 C   0  0  0  0  0  0  0  0  0  0  0  0\\n    0.6971   11.7219   -2.3049 C   0  0  0  0  0  0  0  0  0  0  0  0\\n    1.6745   10.8520   -1.6068 C   0  0  0  0  0  0  0  0  0  0  0  0\\n    1.1318   12.6910   -3.2133 C   0  0  0  0  0  0  0  0  0  0  0  0\\n    0.1833   13.4785   -3.8411 C   0  0  0  0  0  0  0  0  0  0  0  0\\n    2.8861   10.5128   -2.2166 C   0  0  0  0  0  0  0  0  0  0  0  0\\n    1.4005   10.3598   -0.3324 C   0  0  0  0  0  0  0  0  0  0  0  0\\n    3.7646    9.6985   -1.5231 C   0  0  0  0  0  0  0  0  0  0  0  0\\n    3.4189    9.2505   -0.2610 C   0  0  0  0  0  0  0  0  0  0  0  0\\n  1 21  2  0\\n  2  9  1  0\\n  2 10  1  0\\n  2 13  1  0\\n  3 11  1  0\\n  3 12  1  0\\n  3 14  1  0\\n  4 21  1  0\\n  4 22  1  0\\n  5 23  1  0\\n  5 29  1  0\\n  6 29  2  0\\n  6 30  1  0\\n  7 29  1  0\\n  7 33  2  0\\n  8 35  2  0\\n  8 37  1  0\\n  9 11  1  0\\n 10 12  1  0\\n 13 15  1  0\\n 15 16  2  0\\n 15 17  1  0\\n 16 18  1  0\\n 17 19  2  0\\n 18 20  2  0\\n 19 20  1  0\\n 20 21  1  0\\n 22 24  2  0\\n 22 26  1  0\\n 23 24  1  0\\n 23 25  2  0\\n 25 27  1  0\\n 25 28  1  0\\n 26 27  2  0\\n 30 31  1  0\\n 30 32  2  0\\n 31 34  2  0\\n 31 35  1  0\\n 32 33  1  0\\n 34 36  1  0\\n 36 37  2  0\\nM  END\\n\",\"sdf\");\n\tviewer_16294546804740129.addModel(\"_c001_1\\n     RDKit          3D\\n\\n 37 41  0  0  0  0  0  0  0  0999 V2000\\n   -3.1566    0.6758   -6.4756 O   0  0  0  0  0  0  0  0  0  0  0  0\\n    3.0583   -0.8942   -9.2992 N   0  0  0  0  0  0  0  0  0  0  0  0\\n    4.6660   -0.6552  -11.7024 N   0  0  0  0  0  0  0  0  0  0  0  0\\n   -2.3462    2.7186   -6.1546 N   0  0  0  0  0  0  0  0  0  0  0  0\\n   -6.7423    2.0403   -4.2819 N   0  0  0  0  0  0  0  0  0  0  0  0\\n   -6.6822    0.6097   -6.1281 N   0  0  0  0  0  0  0  0  0  0  0  0\\n   -8.0689    0.1167   -4.3432 N   0  0  0  0  0  0  0  0  0  0  0  0\\n   -5.6248   -0.0647  -10.1662 N   0  0  0  0  0  0  0  0  0  0  0  0\\n    3.2826    0.3914   -9.9718 C   0  0  0  0  0  0  0  0  0  0  0  0\\n    4.2566   -1.7105   -9.5293 C   0  0  0  0  0  0  0  0  0  0  0  0\\n    3.4677    0.1611  -11.4723 C   0  0  0  0  0  0  0  0  0  0  0  0\\n    4.4415   -1.9407  -11.0297 C   0  0  0  0  0  0  0  0  0  0  0  0\\n    3.0090   -0.6135   -7.8581 C   0  0  0  0  0  0  0  0  0  0  0  0\\n    4.7153   -0.9358  -13.1435 C   0  0  0  0  0  0  0  0  0  0  0  0\\n    1.6464   -0.0812   -7.4963 C   0  0  0  0  0  0  0  0  0  0  0  0\\n    0.5120   -0.6952   -7.9971 C   0  0  0  0  0  0  0  0  0  0  0  0\\n    1.5350    1.0155   -6.6602 C   0  0  0  0  0  0  0  0  0  0  0  0\\n   -0.7385   -0.2130   -7.6699 C   0  0  0  0  0  0  0  0  0  0  0  0\\n    0.2906    1.5075   -6.3247 C   0  0  0  0  0  0  0  0  0  0  0  0\\n   -0.8577    0.8964   -6.8311 C   0  0  0  0  0  0  0  0  0  0  0  0\\n   -2.1943    1.4187   -6.4766 C   0  0  0  0  0  0  0  0  0  0  0  0\\n   -3.6108    3.2127   -5.8193 C   0  0  0  0  0  0  0  0  0  0  0  0\\n   -5.7985    2.8752   -4.8876 C   0  0  0  0  0  0  0  0  0  0  0  0\\n   -4.5446    2.3808   -5.2187 C   0  0  0  0  0  0  0  0  0  0  0  0\\n   -6.1145    4.2008   -5.1583 C   0  0  0  0  0  0  0  0  0  0  0  0\\n   -3.9314    4.5392   -6.0822 C   0  0  0  0  0  0  0  0  0  0  0  0\\n   -5.1802    5.0281   -5.7513 C   0  0  0  0  0  0  0  0  0  0  0  0\\n   -7.4759    4.7384   -4.7994 C   0  0  0  0  0  0  0  0  0  0  0  0\\n   -7.1742    0.8962   -4.9329 C   0  0  0  0  0  0  0  0  0  0  0  0\\n   -7.0767   -0.4818   -6.7795 C   0  0  0  0  0  0  0  0  0  0  0  0\\n   -6.5236   -0.8009   -8.1180 C   0  0  0  0  0  0  0  0  0  0  0  0\\n   -8.0199   -1.3228   -6.1825 C   0  0  0  0  0  0  0  0  0  0  0  0\\n   -8.5067   -0.9848   -4.9324 C   0  0  0  0  0  0  0  0  0  0  0  0\\n   -6.4030   -2.1289   -8.5387 C   0  0  0  0  0  0  0  0  0  0  0  0\\n   -6.1162    0.2177   -8.9770 C   0  0  0  0  0  0  0  0  0  0  0  0\\n   -5.8813   -2.3739   -9.7970 C   0  0  0  0  0  0  0  0  0  0  0  0\\n   -5.4994   -1.3073  -10.5905 C   0  0  0  0  0  0  0  0  0  0  0  0\\n  1 21  2  0\\n  2  9  1  0\\n  2 10  1  0\\n  2 13  1  0\\n  3 11  1  0\\n  3 12  1  0\\n  3 14  1  0\\n  4 21  1  0\\n  4 22  1  0\\n  5 23  1  0\\n  5 29  1  0\\n  6 29  2  0\\n  6 30  1  0\\n  7 29  1  0\\n  7 33  2  0\\n  8 35  2  0\\n  8 37  1  0\\n  9 11  1  0\\n 10 12  1  0\\n 13 15  1  0\\n 15 16  2  0\\n 15 17  1  0\\n 16 18  1  0\\n 17 19  2  0\\n 18 20  2  0\\n 19 20  1  0\\n 20 21  1  0\\n 22 24  2  0\\n 22 26  1  0\\n 23 24  1  0\\n 23 25  2  0\\n 25 27  1  0\\n 25 28  1  0\\n 26 27  2  0\\n 30 31  1  0\\n 30 32  2  0\\n 31 34  2  0\\n 31 35  1  0\\n 32 33  1  0\\n 34 36  1  0\\n 36 37  2  0\\nM  END\\n\",\"sdf\");\n\tviewer_16294546804740129.addModel(\"_c001_1\\n     RDKit          3D\\n\\n 37 41  0  0  1  0  0  0  0  0999 V2000\\n    3.0731   -0.8924   -9.3134 N   0  0  0  0  0  0  0  0  0  0  0  0\\n    4.6874   -0.6326  -11.7100 N   0  0  0  0  0  0  0  0  0  0  0  0\\n   -2.3355    2.6968   -6.1489 N   0  0  0  0  0  0  0  0  0  0  0  0\\n   -6.7373    2.0060   -4.2943 N   0  0  0  0  0  0  0  0  0  0  0  0\\n   -6.6740    0.5929   -6.1538 N   0  0  0  0  0  0  0  0  0  0  0  0\\n   -8.0660    0.0846   -4.3772 N   0  0  0  0  0  0  0  0  0  0  0  0\\n   -5.6067   -0.0445  -10.1952 N   0  0  0  0  0  0  0  0  0  0  0  0\\n    3.3007    0.3992   -9.9732 C   0  0  0  0  0  0  0  0  0  0  0  0\\n    4.2710   -1.7079   -9.5481 C   0  0  0  0  0  0  0  0  0  0  0  0\\n    3.4894    0.1830  -11.4753 C   0  0  0  0  0  0  0  0  0  0  0  0\\n    4.4597   -1.9241  -11.0500 C   0  0  0  0  0  0  0  0  0  0  0  0\\n    3.0203   -0.6253   -7.8698 C   0  0  0  0  0  0  0  0  0  0  0  0\\n    4.7402   -0.8995  -13.1535 C   0  0  0  0  0  0  0  0  0  0  0  0\\n    1.6574   -0.0949   -7.5066 C   0  0  0  0  0  0  0  0  0  0  0  0\\n    0.5236   -0.7027   -8.0162 C   0  0  0  0  0  0  0  0  0  0  0  0\\n    1.5450    0.9940   -6.6604 C   0  0  0  0  0  0  0  0  0  0  0  0\\n   -0.7272   -0.2222   -7.6877 C   0  0  0  0  0  0  0  0  0  0  0  0\\n    0.3004    1.4843   -6.3235 C   0  0  0  0  0  0  0  0  0  0  0  0\\n   -0.8474    0.8793   -6.8387 C   0  0  0  0  0  0  0  0  0  0  0  0\\n   -2.1843    1.3998   -6.4828 C   0  0  0  0  0  0  0  0  0  0  0  0\\n   -3.6004    3.1892   -5.8123 C   0  0  0  0  0  0  0  0  0  0  0  0\\n   -5.7910    2.8454   -4.8895 C   0  0  0  0  0  0  0  0  0  0  0  0\\n   -4.5367    2.3527   -5.2220 C   0  0  0  0  0  0  0  0  0  0  0  0\\n   -6.1047    4.1739   -5.1485 C   0  0  0  0  0  0  0  0  0  0  0  0\\n   -3.9187    4.5185   -6.0634 C   0  0  0  0  0  0  0  0  0  0  0  0\\n   -5.1679    5.0057   -5.7311 C   0  0  0  0  0  0  0  0  0  0  0  0\\n   -7.4664    4.7097   -4.7881 C   0  0  0  0  0  0  0  0  0  0  0  0\\n   -7.1689    0.8686   -4.9572 C   0  0  0  0  0  0  0  0  0  0  0  0\\n   -7.0680   -0.4919   -6.8165 C   0  0  0  0  0  0  0  0  0  0  0  0\\n   -6.5118   -0.7990   -8.1565 C   0  0  0  0  0  0  0  0  0  0  0  0\\n   -8.0137   -1.3375   -6.2300 C   0  0  0  0  0  0  0  0  0  0  0  0\\n   -8.5035   -1.0107   -4.9781 C   0  0  0  0  0  0  0  0  0  0  0  0\\n   -6.3916   -2.1231   -8.5894 C   0  0  0  0  0  0  0  0  0  0  0  0\\n   -6.1009    0.2272   -9.0047 C   0  0  0  0  0  0  0  0  0  0  0  0\\n   -5.8668   -2.3568   -9.8487 C   0  0  0  0  0  0  0  0  0  0  0  0\\n   -5.4816   -1.2832  -10.6310 C   0  0  0  0  0  0  0  0  0  0  0  0\\n   -3.1474    0.6581   -6.4914 O   0  0  0  0  0  0  0  0  0  0  0  0\\n  1  8  1  0\\n  1  9  1  0\\n  1 12  1  0\\n  2 10  1  0\\n  2 11  1  0\\n  2 13  1  0\\n  3 20  1  0\\n  3 21  1  0\\n  4 22  1  0\\n  4 28  1  0\\n  5 28  2  0\\n  5 29  1  0\\n  6 28  1  0\\n  6 32  2  0\\n  7 34  2  0\\n  7 36  1  0\\n  8 10  1  0\\n  9 11  1  0\\n 12 14  1  0\\n 14 15  2  0\\n 14 16  1  0\\n 15 17  1  0\\n 16 18  2  0\\n 17 19  2  0\\n 18 19  1  0\\n 19 20  1  0\\n 21 23  2  0\\n 21 25  1  0\\n 22 23  1  0\\n 22 24  2  0\\n 24 26  1  0\\n 24 27  1  0\\n 25 26  2  0\\n 29 30  1  0\\n 29 31  2  0\\n 30 33  2  0\\n 30 34  1  0\\n 31 32  1  0\\n 33 35  1  0\\n 35 36  2  0\\n 37 20  2  0\\nM  END\\n\",\"sdf\");\n\tviewer_16294546804740129.setStyle({\"model\": 0},{\"stick\": {\"colorscheme\": \"lightgreyCarbon\"}});\n\tviewer_16294546804740129.setStyle({\"model\": 1},{\"stick\": {\"colorscheme\": \"redCarbon\"}});\n\tviewer_16294546804740129.setStyle({\"model\": 2},{\"stick\": {\"colorscheme\": \"greyCarbon\"}});\n\tviewer_16294546804740129.zoomTo();\nviewer_16294546804740129.render();\n});\n</script>",
      "text/html": [
       "<div id=\"3dmolviewer_16294546804740129\"  style=\"position: relative; width: 640px; height: 480px\">\n",
       "        <p id=\"3dmolwarning_16294546804740129\" style=\"background-color:#ffcccc;color:black\">You appear to be running in JupyterLab (or JavaScript failed to load for some other reason).  You need to install the 3dmol extension: <br>\n",
       "        <tt>jupyter labextension install jupyterlab_3dmol</tt></p>\n",
       "        </div>\n",
       "<script>\n",
       "\n",
       "var loadScriptAsync = function(uri){\n",
       "  return new Promise((resolve, reject) => {\n",
       "    var tag = document.createElement('script');\n",
       "    tag.src = uri;\n",
       "    tag.async = true;\n",
       "    tag.onload = () => {\n",
       "      resolve();\n",
       "    };\n",
       "  var firstScriptTag = document.getElementsByTagName('script')[0];\n",
       "  firstScriptTag.parentNode.insertBefore(tag, firstScriptTag);\n",
       "});\n",
       "};\n",
       "\n",
       "if(typeof $3Dmolpromise === 'undefined') {\n",
       "$3Dmolpromise = null;\n",
       "  $3Dmolpromise = loadScriptAsync('https://3dmol.org/build/3Dmol.js');\n",
       "}\n",
       "\n",
       "var viewer_16294546804740129 = null;\n",
       "var warn = document.getElementById(\"3dmolwarning_16294546804740129\");\n",
       "if(warn) {\n",
       "    warn.parentNode.removeChild(warn);\n",
       "}\n",
       "$3Dmolpromise.then(function() {\n",
       "viewer_16294546804740129 = $3Dmol.createViewer($(\"#3dmolviewer_16294546804740129\"),{backgroundColor:\"white\"});\n",
       "viewer_16294546804740129.zoomTo();\n",
       "\tviewer_16294546804740129.addModel(\"_c001_1\\n     RDKit          3D\\n\\n 37 41  0  0  0  0  0  0  0  0999 V2000\\n   -1.2179    8.1018   -2.1410 O   0  0  0  0  0  0  0  0  0  0  0  0\\n    0.3676    1.2879   -1.7965 N   0  0  0  0  0  0  0  0  0  0  0  0\\n    1.3947   -0.7922   -0.0542 N   0  0  0  0  0  0  0  0  0  0  0  0\\n   -3.0926    7.5844   -1.0684 N   0  0  0  0  0  0  0  0  0  0  0  0\\n   -2.8327   12.2049   -2.4379 N   0  0  0  0  0  0  0  0  0  0  0  0\\n   -0.6075   11.5915   -2.0762 N   0  0  0  0  0  0  0  0  0  0  0  0\\n   -1.0979   13.2930   -3.5650 N   0  0  0  0  0  0  0  0  0  0  0  0\\n    2.2680    9.5870    0.2886 N   0  0  0  0  0  0  0  0  0  0  0  0\\n   -0.1805    1.0409   -0.4571 C   0  0  0  0  0  0  0  0  0  0  0  0\\n    0.8427   -0.0038   -2.3075 C   0  0  0  0  0  0  0  0  0  0  0  0\\n    0.9196    0.4995    0.4568 C   0  0  0  0  0  0  0  0  0  0  0  0\\n    1.9427   -0.5451   -1.3936 C   0  0  0  0  0  0  0  0  0  0  0  0\\n   -0.7610    1.6891   -2.6470 C   0  0  0  0  0  0  0  0  0  0  0  0\\n    2.5232   -1.1934    0.7963 C   0  0  0  0  0  0  0  0  0  0  0  0\\n   -1.0783    3.1427   -2.4078 C   0  0  0  0  0  0  0  0  0  0  0  0\\n   -0.0533    4.0700   -2.3451 C   0  0  0  0  0  0  0  0  0  0  0  0\\n   -2.3936    3.5450   -2.2578 C   0  0  0  0  0  0  0  0  0  0  0  0\\n   -0.3368    5.4024   -2.1265 C   0  0  0  0  0  0  0  0  0  0  0  0\\n   -2.6910    4.8742   -2.0391 C   0  0  0  0  0  0  0  0  0  0  0  0\\n   -1.6613    5.8141   -1.9690 C   0  0  0  0  0  0  0  0  0  0  0  0\\n   -1.9724    7.2399   -1.7340 C   0  0  0  0  0  0  0  0  0  0  0  0\\n   -3.3869    8.9333   -0.8460 C   0  0  0  0  0  0  0  0  0  0  0  0\\n   -3.2574   11.2327   -1.5274 C   0  0  0  0  0  0  0  0  0  0  0  0\\n   -2.9633    9.8950   -1.7519 C   0  0  0  0  0  0  0  0  0  0  0  0\\n   -3.9748   11.6044   -0.3971 C   0  0  0  0  0  0  0  0  0  0  0  0\\n   -4.1090    9.3113    0.2796 C   0  0  0  0  0  0  0  0  0  0  0  0\\n   -4.4002   10.6435    0.5000 C   0  0  0  0  0  0  0  0  0  0  0  0\\n   -4.2944   13.0567   -0.1524 C   0  0  0  0  0  0  0  0  0  0  0  0\\n   -1.4817   12.3667   -2.6987 C   0  0  0  0  0  0  0  0  0  0  0  0\\n    0.6971   11.7219   -2.3049 C   0  0  0  0  0  0  0  0  0  0  0  0\\n    1.6745   10.8520   -1.6068 C   0  0  0  0  0  0  0  0  0  0  0  0\\n    1.1318   12.6910   -3.2133 C   0  0  0  0  0  0  0  0  0  0  0  0\\n    0.1833   13.4785   -3.8411 C   0  0  0  0  0  0  0  0  0  0  0  0\\n    2.8861   10.5128   -2.2166 C   0  0  0  0  0  0  0  0  0  0  0  0\\n    1.4005   10.3598   -0.3324 C   0  0  0  0  0  0  0  0  0  0  0  0\\n    3.7646    9.6985   -1.5231 C   0  0  0  0  0  0  0  0  0  0  0  0\\n    3.4189    9.2505   -0.2610 C   0  0  0  0  0  0  0  0  0  0  0  0\\n  1 21  2  0\\n  2  9  1  0\\n  2 10  1  0\\n  2 13  1  0\\n  3 11  1  0\\n  3 12  1  0\\n  3 14  1  0\\n  4 21  1  0\\n  4 22  1  0\\n  5 23  1  0\\n  5 29  1  0\\n  6 29  2  0\\n  6 30  1  0\\n  7 29  1  0\\n  7 33  2  0\\n  8 35  2  0\\n  8 37  1  0\\n  9 11  1  0\\n 10 12  1  0\\n 13 15  1  0\\n 15 16  2  0\\n 15 17  1  0\\n 16 18  1  0\\n 17 19  2  0\\n 18 20  2  0\\n 19 20  1  0\\n 20 21  1  0\\n 22 24  2  0\\n 22 26  1  0\\n 23 24  1  0\\n 23 25  2  0\\n 25 27  1  0\\n 25 28  1  0\\n 26 27  2  0\\n 30 31  1  0\\n 30 32  2  0\\n 31 34  2  0\\n 31 35  1  0\\n 32 33  1  0\\n 34 36  1  0\\n 36 37  2  0\\nM  END\\n\",\"sdf\");\n",
       "\tviewer_16294546804740129.addModel(\"_c001_1\\n     RDKit          3D\\n\\n 37 41  0  0  0  0  0  0  0  0999 V2000\\n   -3.1566    0.6758   -6.4756 O   0  0  0  0  0  0  0  0  0  0  0  0\\n    3.0583   -0.8942   -9.2992 N   0  0  0  0  0  0  0  0  0  0  0  0\\n    4.6660   -0.6552  -11.7024 N   0  0  0  0  0  0  0  0  0  0  0  0\\n   -2.3462    2.7186   -6.1546 N   0  0  0  0  0  0  0  0  0  0  0  0\\n   -6.7423    2.0403   -4.2819 N   0  0  0  0  0  0  0  0  0  0  0  0\\n   -6.6822    0.6097   -6.1281 N   0  0  0  0  0  0  0  0  0  0  0  0\\n   -8.0689    0.1167   -4.3432 N   0  0  0  0  0  0  0  0  0  0  0  0\\n   -5.6248   -0.0647  -10.1662 N   0  0  0  0  0  0  0  0  0  0  0  0\\n    3.2826    0.3914   -9.9718 C   0  0  0  0  0  0  0  0  0  0  0  0\\n    4.2566   -1.7105   -9.5293 C   0  0  0  0  0  0  0  0  0  0  0  0\\n    3.4677    0.1611  -11.4723 C   0  0  0  0  0  0  0  0  0  0  0  0\\n    4.4415   -1.9407  -11.0297 C   0  0  0  0  0  0  0  0  0  0  0  0\\n    3.0090   -0.6135   -7.8581 C   0  0  0  0  0  0  0  0  0  0  0  0\\n    4.7153   -0.9358  -13.1435 C   0  0  0  0  0  0  0  0  0  0  0  0\\n    1.6464   -0.0812   -7.4963 C   0  0  0  0  0  0  0  0  0  0  0  0\\n    0.5120   -0.6952   -7.9971 C   0  0  0  0  0  0  0  0  0  0  0  0\\n    1.5350    1.0155   -6.6602 C   0  0  0  0  0  0  0  0  0  0  0  0\\n   -0.7385   -0.2130   -7.6699 C   0  0  0  0  0  0  0  0  0  0  0  0\\n    0.2906    1.5075   -6.3247 C   0  0  0  0  0  0  0  0  0  0  0  0\\n   -0.8577    0.8964   -6.8311 C   0  0  0  0  0  0  0  0  0  0  0  0\\n   -2.1943    1.4187   -6.4766 C   0  0  0  0  0  0  0  0  0  0  0  0\\n   -3.6108    3.2127   -5.8193 C   0  0  0  0  0  0  0  0  0  0  0  0\\n   -5.7985    2.8752   -4.8876 C   0  0  0  0  0  0  0  0  0  0  0  0\\n   -4.5446    2.3808   -5.2187 C   0  0  0  0  0  0  0  0  0  0  0  0\\n   -6.1145    4.2008   -5.1583 C   0  0  0  0  0  0  0  0  0  0  0  0\\n   -3.9314    4.5392   -6.0822 C   0  0  0  0  0  0  0  0  0  0  0  0\\n   -5.1802    5.0281   -5.7513 C   0  0  0  0  0  0  0  0  0  0  0  0\\n   -7.4759    4.7384   -4.7994 C   0  0  0  0  0  0  0  0  0  0  0  0\\n   -7.1742    0.8962   -4.9329 C   0  0  0  0  0  0  0  0  0  0  0  0\\n   -7.0767   -0.4818   -6.7795 C   0  0  0  0  0  0  0  0  0  0  0  0\\n   -6.5236   -0.8009   -8.1180 C   0  0  0  0  0  0  0  0  0  0  0  0\\n   -8.0199   -1.3228   -6.1825 C   0  0  0  0  0  0  0  0  0  0  0  0\\n   -8.5067   -0.9848   -4.9324 C   0  0  0  0  0  0  0  0  0  0  0  0\\n   -6.4030   -2.1289   -8.5387 C   0  0  0  0  0  0  0  0  0  0  0  0\\n   -6.1162    0.2177   -8.9770 C   0  0  0  0  0  0  0  0  0  0  0  0\\n   -5.8813   -2.3739   -9.7970 C   0  0  0  0  0  0  0  0  0  0  0  0\\n   -5.4994   -1.3073  -10.5905 C   0  0  0  0  0  0  0  0  0  0  0  0\\n  1 21  2  0\\n  2  9  1  0\\n  2 10  1  0\\n  2 13  1  0\\n  3 11  1  0\\n  3 12  1  0\\n  3 14  1  0\\n  4 21  1  0\\n  4 22  1  0\\n  5 23  1  0\\n  5 29  1  0\\n  6 29  2  0\\n  6 30  1  0\\n  7 29  1  0\\n  7 33  2  0\\n  8 35  2  0\\n  8 37  1  0\\n  9 11  1  0\\n 10 12  1  0\\n 13 15  1  0\\n 15 16  2  0\\n 15 17  1  0\\n 16 18  1  0\\n 17 19  2  0\\n 18 20  2  0\\n 19 20  1  0\\n 20 21  1  0\\n 22 24  2  0\\n 22 26  1  0\\n 23 24  1  0\\n 23 25  2  0\\n 25 27  1  0\\n 25 28  1  0\\n 26 27  2  0\\n 30 31  1  0\\n 30 32  2  0\\n 31 34  2  0\\n 31 35  1  0\\n 32 33  1  0\\n 34 36  1  0\\n 36 37  2  0\\nM  END\\n\",\"sdf\");\n",
       "\tviewer_16294546804740129.addModel(\"_c001_1\\n     RDKit          3D\\n\\n 37 41  0  0  1  0  0  0  0  0999 V2000\\n    3.0731   -0.8924   -9.3134 N   0  0  0  0  0  0  0  0  0  0  0  0\\n    4.6874   -0.6326  -11.7100 N   0  0  0  0  0  0  0  0  0  0  0  0\\n   -2.3355    2.6968   -6.1489 N   0  0  0  0  0  0  0  0  0  0  0  0\\n   -6.7373    2.0060   -4.2943 N   0  0  0  0  0  0  0  0  0  0  0  0\\n   -6.6740    0.5929   -6.1538 N   0  0  0  0  0  0  0  0  0  0  0  0\\n   -8.0660    0.0846   -4.3772 N   0  0  0  0  0  0  0  0  0  0  0  0\\n   -5.6067   -0.0445  -10.1952 N   0  0  0  0  0  0  0  0  0  0  0  0\\n    3.3007    0.3992   -9.9732 C   0  0  0  0  0  0  0  0  0  0  0  0\\n    4.2710   -1.7079   -9.5481 C   0  0  0  0  0  0  0  0  0  0  0  0\\n    3.4894    0.1830  -11.4753 C   0  0  0  0  0  0  0  0  0  0  0  0\\n    4.4597   -1.9241  -11.0500 C   0  0  0  0  0  0  0  0  0  0  0  0\\n    3.0203   -0.6253   -7.8698 C   0  0  0  0  0  0  0  0  0  0  0  0\\n    4.7402   -0.8995  -13.1535 C   0  0  0  0  0  0  0  0  0  0  0  0\\n    1.6574   -0.0949   -7.5066 C   0  0  0  0  0  0  0  0  0  0  0  0\\n    0.5236   -0.7027   -8.0162 C   0  0  0  0  0  0  0  0  0  0  0  0\\n    1.5450    0.9940   -6.6604 C   0  0  0  0  0  0  0  0  0  0  0  0\\n   -0.7272   -0.2222   -7.6877 C   0  0  0  0  0  0  0  0  0  0  0  0\\n    0.3004    1.4843   -6.3235 C   0  0  0  0  0  0  0  0  0  0  0  0\\n   -0.8474    0.8793   -6.8387 C   0  0  0  0  0  0  0  0  0  0  0  0\\n   -2.1843    1.3998   -6.4828 C   0  0  0  0  0  0  0  0  0  0  0  0\\n   -3.6004    3.1892   -5.8123 C   0  0  0  0  0  0  0  0  0  0  0  0\\n   -5.7910    2.8454   -4.8895 C   0  0  0  0  0  0  0  0  0  0  0  0\\n   -4.5367    2.3527   -5.2220 C   0  0  0  0  0  0  0  0  0  0  0  0\\n   -6.1047    4.1739   -5.1485 C   0  0  0  0  0  0  0  0  0  0  0  0\\n   -3.9187    4.5185   -6.0634 C   0  0  0  0  0  0  0  0  0  0  0  0\\n   -5.1679    5.0057   -5.7311 C   0  0  0  0  0  0  0  0  0  0  0  0\\n   -7.4664    4.7097   -4.7881 C   0  0  0  0  0  0  0  0  0  0  0  0\\n   -7.1689    0.8686   -4.9572 C   0  0  0  0  0  0  0  0  0  0  0  0\\n   -7.0680   -0.4919   -6.8165 C   0  0  0  0  0  0  0  0  0  0  0  0\\n   -6.5118   -0.7990   -8.1565 C   0  0  0  0  0  0  0  0  0  0  0  0\\n   -8.0137   -1.3375   -6.2300 C   0  0  0  0  0  0  0  0  0  0  0  0\\n   -8.5035   -1.0107   -4.9781 C   0  0  0  0  0  0  0  0  0  0  0  0\\n   -6.3916   -2.1231   -8.5894 C   0  0  0  0  0  0  0  0  0  0  0  0\\n   -6.1009    0.2272   -9.0047 C   0  0  0  0  0  0  0  0  0  0  0  0\\n   -5.8668   -2.3568   -9.8487 C   0  0  0  0  0  0  0  0  0  0  0  0\\n   -5.4816   -1.2832  -10.6310 C   0  0  0  0  0  0  0  0  0  0  0  0\\n   -3.1474    0.6581   -6.4914 O   0  0  0  0  0  0  0  0  0  0  0  0\\n  1  8  1  0\\n  1  9  1  0\\n  1 12  1  0\\n  2 10  1  0\\n  2 11  1  0\\n  2 13  1  0\\n  3 20  1  0\\n  3 21  1  0\\n  4 22  1  0\\n  4 28  1  0\\n  5 28  2  0\\n  5 29  1  0\\n  6 28  1  0\\n  6 32  2  0\\n  7 34  2  0\\n  7 36  1  0\\n  8 10  1  0\\n  9 11  1  0\\n 12 14  1  0\\n 14 15  2  0\\n 14 16  1  0\\n 15 17  1  0\\n 16 18  2  0\\n 17 19  2  0\\n 18 19  1  0\\n 19 20  1  0\\n 21 23  2  0\\n 21 25  1  0\\n 22 23  1  0\\n 22 24  2  0\\n 24 26  1  0\\n 24 27  1  0\\n 25 26  2  0\\n 29 30  1  0\\n 29 31  2  0\\n 30 33  2  0\\n 30 34  1  0\\n 31 32  1  0\\n 33 35  1  0\\n 35 36  2  0\\n 37 20  2  0\\nM  END\\n\",\"sdf\");\n",
       "\tviewer_16294546804740129.setStyle({\"model\": 0},{\"stick\": {\"colorscheme\": \"lightgreyCarbon\"}});\n",
       "\tviewer_16294546804740129.setStyle({\"model\": 1},{\"stick\": {\"colorscheme\": \"redCarbon\"}});\n",
       "\tviewer_16294546804740129.setStyle({\"model\": 2},{\"stick\": {\"colorscheme\": \"greyCarbon\"}});\n",
       "\tviewer_16294546804740129.zoomTo();\n",
       "viewer_16294546804740129.render();\n",
       "});\n",
       "</script>"
      ]
     },
     "metadata": {},
     "output_type": "display_data"
    },
    {
     "data": {
      "text/plain": [
       "<py3Dmol.view at 0x7f848acc0a10>"
      ]
     },
     "execution_count": 15,
     "metadata": {},
     "output_type": "execute_result"
    }
   ],
   "source": [
    "als.show(0, 1)"
   ]
  },
  {
   "cell_type": "code",
   "execution_count": 16,
   "metadata": {},
   "outputs": [
    {
     "data": {
      "application/3dmoljs_load.v0": "<div id=\"3dmolviewer_16294546806767275\"  style=\"position: relative; width: 640px; height: 480px\">\n        <p id=\"3dmolwarning_16294546806767275\" style=\"background-color:#ffcccc;color:black\">You appear to be running in JupyterLab (or JavaScript failed to load for some other reason).  You need to install the 3dmol extension: <br>\n        <tt>jupyter labextension install jupyterlab_3dmol</tt></p>\n        </div>\n<script>\n\nvar loadScriptAsync = function(uri){\n  return new Promise((resolve, reject) => {\n    var tag = document.createElement('script');\n    tag.src = uri;\n    tag.async = true;\n    tag.onload = () => {\n      resolve();\n    };\n  var firstScriptTag = document.getElementsByTagName('script')[0];\n  firstScriptTag.parentNode.insertBefore(tag, firstScriptTag);\n});\n};\n\nif(typeof $3Dmolpromise === 'undefined') {\n$3Dmolpromise = null;\n  $3Dmolpromise = loadScriptAsync('https://3dmol.org/build/3Dmol.js');\n}\n\nvar viewer_16294546806767275 = null;\nvar warn = document.getElementById(\"3dmolwarning_16294546806767275\");\nif(warn) {\n    warn.parentNode.removeChild(warn);\n}\n$3Dmolpromise.then(function() {\nviewer_16294546806767275 = $3Dmol.createViewer($(\"#3dmolviewer_16294546806767275\"),{backgroundColor:\"white\"});\nviewer_16294546806767275.zoomTo();\n\tviewer_16294546806767275.addModel(\"_c001_1\\n     RDKit          3D\\n\\n 37 41  0  0  1  0  0  0  0  0999 V2000\\n    3.0731   -0.8924   -9.3134 N   0  0  0  0  0  0  0  0  0  0  0  0\\n    4.6874   -0.6326  -11.7100 N   0  0  0  0  0  0  0  0  0  0  0  0\\n   -2.3355    2.6968   -6.1489 N   0  0  0  0  0  0  0  0  0  0  0  0\\n   -6.7373    2.0060   -4.2943 N   0  0  0  0  0  0  0  0  0  0  0  0\\n   -6.6740    0.5929   -6.1538 N   0  0  0  0  0  0  0  0  0  0  0  0\\n   -8.0660    0.0846   -4.3772 N   0  0  0  0  0  0  0  0  0  0  0  0\\n   -5.6067   -0.0445  -10.1952 N   0  0  0  0  0  0  0  0  0  0  0  0\\n    3.3007    0.3992   -9.9732 C   0  0  0  0  0  0  0  0  0  0  0  0\\n    4.2710   -1.7079   -9.5481 C   0  0  0  0  0  0  0  0  0  0  0  0\\n    3.4894    0.1830  -11.4753 C   0  0  0  0  0  0  0  0  0  0  0  0\\n    4.4597   -1.9241  -11.0500 C   0  0  0  0  0  0  0  0  0  0  0  0\\n    3.0203   -0.6253   -7.8698 C   0  0  0  0  0  0  0  0  0  0  0  0\\n    4.7402   -0.8995  -13.1535 C   0  0  0  0  0  0  0  0  0  0  0  0\\n    1.6574   -0.0949   -7.5066 C   0  0  0  0  0  0  0  0  0  0  0  0\\n    0.5236   -0.7027   -8.0162 C   0  0  0  0  0  0  0  0  0  0  0  0\\n    1.5450    0.9940   -6.6604 C   0  0  0  0  0  0  0  0  0  0  0  0\\n   -0.7272   -0.2222   -7.6877 C   0  0  0  0  0  0  0  0  0  0  0  0\\n    0.3004    1.4843   -6.3235 C   0  0  0  0  0  0  0  0  0  0  0  0\\n   -0.8474    0.8793   -6.8387 C   0  0  0  0  0  0  0  0  0  0  0  0\\n   -2.1843    1.3998   -6.4828 C   0  0  0  0  0  0  0  0  0  0  0  0\\n   -3.6004    3.1892   -5.8123 C   0  0  0  0  0  0  0  0  0  0  0  0\\n   -5.7910    2.8454   -4.8895 C   0  0  0  0  0  0  0  0  0  0  0  0\\n   -4.5367    2.3527   -5.2220 C   0  0  0  0  0  0  0  0  0  0  0  0\\n   -6.1047    4.1739   -5.1485 C   0  0  0  0  0  0  0  0  0  0  0  0\\n   -3.9187    4.5185   -6.0634 C   0  0  0  0  0  0  0  0  0  0  0  0\\n   -5.1679    5.0057   -5.7311 C   0  0  0  0  0  0  0  0  0  0  0  0\\n   -7.4664    4.7097   -4.7881 C   0  0  0  0  0  0  0  0  0  0  0  0\\n   -7.1689    0.8686   -4.9572 C   0  0  0  0  0  0  0  0  0  0  0  0\\n   -7.0680   -0.4919   -6.8165 C   0  0  0  0  0  0  0  0  0  0  0  0\\n   -6.5118   -0.7990   -8.1565 C   0  0  0  0  0  0  0  0  0  0  0  0\\n   -8.0137   -1.3375   -6.2300 C   0  0  0  0  0  0  0  0  0  0  0  0\\n   -8.5035   -1.0107   -4.9781 C   0  0  0  0  0  0  0  0  0  0  0  0\\n   -6.3916   -2.1231   -8.5894 C   0  0  0  0  0  0  0  0  0  0  0  0\\n   -6.1009    0.2272   -9.0047 C   0  0  0  0  0  0  0  0  0  0  0  0\\n   -5.8668   -2.3568   -9.8487 C   0  0  0  0  0  0  0  0  0  0  0  0\\n   -5.4816   -1.2832  -10.6310 C   0  0  0  0  0  0  0  0  0  0  0  0\\n   -3.1474    0.6581   -6.4914 O   0  0  0  0  0  0  0  0  0  0  0  0\\n  1  8  1  0\\n  1  9  1  0\\n  1 12  1  0\\n  2 10  1  0\\n  2 11  1  0\\n  2 13  1  0\\n  3 20  1  0\\n  3 21  1  0\\n  4 22  1  0\\n  4 28  1  0\\n  5 28  2  0\\n  5 29  1  0\\n  6 28  1  0\\n  6 32  2  0\\n  7 34  2  0\\n  7 36  1  0\\n  8 10  1  0\\n  9 11  1  0\\n 12 14  1  0\\n 14 15  2  0\\n 14 16  1  0\\n 15 17  1  0\\n 16 18  2  0\\n 17 19  2  0\\n 18 19  1  0\\n 19 20  1  0\\n 21 23  2  0\\n 21 25  1  0\\n 22 23  1  0\\n 22 24  2  0\\n 24 26  1  0\\n 24 27  1  0\\n 25 26  2  0\\n 29 30  1  0\\n 29 31  2  0\\n 30 33  2  0\\n 30 34  1  0\\n 31 32  1  0\\n 33 35  1  0\\n 35 36  2  0\\n 37 20  2  0\\nM  END\\n\",\"sdf\");\n\tviewer_16294546806767275.addModel(\"_c001_1\\n     RDKit          3D\\n\\n 37 41  0  0  1  0  0  0  0  0999 V2000\\n    0.3637    1.2867   -1.7683 N   0  0  0  0  0  0  0  0  0  0  0  0\\n    1.3790   -0.7914   -0.0168 N   0  0  0  0  0  0  0  0  0  0  0  0\\n   -3.0707    7.6006   -1.0689 N   0  0  0  0  0  0  0  0  0  0  0  0\\n   -2.7886   12.2150   -2.4547 N   0  0  0  0  0  0  0  0  0  0  0  0\\n   -0.5667   11.5934   -2.0870 N   0  0  0  0  0  0  0  0  0  0  0  0\\n   -1.0473   13.2916   -3.5829 N   0  0  0  0  0  0  0  0  0  0  0  0\\n    2.2962    9.5852    0.2899 N   0  0  0  0  0  0  0  0  0  0  0  0\\n   -0.1877    1.0470   -0.4290 C   0  0  0  0  0  0  0  0  0  0  0  0\\n    0.8341   -0.0088   -2.2738 C   0  0  0  0  0  0  0  0  0  0  0  0\\n    0.9085    0.5042    0.4888 C   0  0  0  0  0  0  0  0  0  0  0  0\\n    1.9302   -0.5515   -1.3562 C   0  0  0  0  0  0  0  0  0  0  0  0\\n   -0.7618    1.6897   -2.6222 C   0  0  0  0  0  0  0  0  0  0  0  0\\n    2.5043   -1.1943    0.8371 C   0  0  0  0  0  0  0  0  0  0  0  0\\n   -1.0732    3.1455   -2.3888 C   0  0  0  0  0  0  0  0  0  0  0  0\\n   -0.0443    4.0687   -2.3277 C   0  0  0  0  0  0  0  0  0  0  0  0\\n   -2.3870    3.5540   -2.2425 C   0  0  0  0  0  0  0  0  0  0  0  0\\n   -0.3225    5.4030   -2.1144 C   0  0  0  0  0  0  0  0  0  0  0  0\\n   -2.6791    4.8852   -2.0291 C   0  0  0  0  0  0  0  0  0  0  0  0\\n   -1.6454    5.8210   -1.9607 C   0  0  0  0  0  0  0  0  0  0  0  0\\n   -1.9508    7.2489   -1.7314 C   0  0  0  0  0  0  0  0  0  0  0  0\\n   -3.3595    8.9516   -0.8520 C   0  0  0  0  0  0  0  0  0  0  0  0\\n   -3.2190   11.2480   -1.5415 C   0  0  0  0  0  0  0  0  0  0  0  0\\n   -2.9303    9.9081   -1.7606 C   0  0  0  0  0  0  0  0  0  0  0  0\\n   -3.9367   11.6268   -0.4137 C   0  0  0  0  0  0  0  0  0  0  0  0\\n   -4.0819    9.3367    0.2711 C   0  0  0  0  0  0  0  0  0  0  0  0\\n   -4.3678   10.6710    0.4861 C   0  0  0  0  0  0  0  0  0  0  0  0\\n   -4.2505   13.0813   -0.1748 C   0  0  0  0  0  0  0  0  0  0  0  0\\n   -1.4365   12.3701   -2.7138 C   0  0  0  0  0  0  0  0  0  0  0  0\\n    0.7388   11.7174   -2.3139 C   0  0  0  0  0  0  0  0  0  0  0  0\\n    1.7113   10.8458   -1.6111 C   0  0  0  0  0  0  0  0  0  0  0  0\\n    1.1793   12.6812   -3.2252 C   0  0  0  0  0  0  0  0  0  0  0  0\\n    0.2352   13.4705   -3.8574 C   0  0  0  0  0  0  0  0  0  0  0  0\\n    2.9225   10.4992   -2.2176 C   0  0  0  0  0  0  0  0  0  0  0  0\\n    1.4330   10.3594   -0.3354 C   0  0  0  0  0  0  0  0  0  0  0  0\\n    3.7963    9.6836   -1.5197 C   0  0  0  0  0  0  0  0  0  0  0  0\\n    3.4465    9.2417   -0.2566 C   0  0  0  0  0  0  0  0  0  0  0  0\\n   -1.1919    8.1061   -2.1402 O   0  0  0  0  0  0  0  0  0  0  0  0\\n  1  8  1  0\\n  1  9  1  0\\n  1 12  1  0\\n  2 10  1  0\\n  2 11  1  0\\n  2 13  1  0\\n  3 20  1  0\\n  3 21  1  0\\n  4 22  1  0\\n  4 28  1  0\\n  5 28  2  0\\n  5 29  1  0\\n  6 28  1  0\\n  6 32  2  0\\n  7 34  2  0\\n  7 36  1  0\\n  8 10  1  0\\n  9 11  1  0\\n 12 14  1  0\\n 14 15  2  0\\n 14 16  1  0\\n 15 17  1  0\\n 16 18  2  0\\n 17 19  2  0\\n 18 19  1  0\\n 19 20  1  0\\n 21 23  2  0\\n 21 25  1  0\\n 22 23  1  0\\n 22 24  2  0\\n 24 26  1  0\\n 24 27  1  0\\n 25 26  2  0\\n 29 30  1  0\\n 29 31  2  0\\n 30 33  2  0\\n 30 34  1  0\\n 31 32  1  0\\n 33 35  1  0\\n 35 36  2  0\\n 37 20  2  0\\nM  END\\n\",\"sdf\");\n\tviewer_16294546806767275.addModel(\"_c001_1\\n     RDKit          3D\\n\\n 37 41  0  0  0  0  0  0  0  0999 V2000\\n   -1.2179    8.1018   -2.1410 O   0  0  0  0  0  0  0  0  0  0  0  0\\n    0.3676    1.2879   -1.7965 N   0  0  0  0  0  0  0  0  0  0  0  0\\n    1.3947   -0.7922   -0.0542 N   0  0  0  0  0  0  0  0  0  0  0  0\\n   -3.0926    7.5844   -1.0684 N   0  0  0  0  0  0  0  0  0  0  0  0\\n   -2.8327   12.2049   -2.4379 N   0  0  0  0  0  0  0  0  0  0  0  0\\n   -0.6075   11.5915   -2.0762 N   0  0  0  0  0  0  0  0  0  0  0  0\\n   -1.0979   13.2930   -3.5650 N   0  0  0  0  0  0  0  0  0  0  0  0\\n    2.2680    9.5870    0.2886 N   0  0  0  0  0  0  0  0  0  0  0  0\\n   -0.1805    1.0409   -0.4571 C   0  0  0  0  0  0  0  0  0  0  0  0\\n    0.8427   -0.0038   -2.3075 C   0  0  0  0  0  0  0  0  0  0  0  0\\n    0.9196    0.4995    0.4568 C   0  0  0  0  0  0  0  0  0  0  0  0\\n    1.9427   -0.5451   -1.3936 C   0  0  0  0  0  0  0  0  0  0  0  0\\n   -0.7610    1.6891   -2.6470 C   0  0  0  0  0  0  0  0  0  0  0  0\\n    2.5232   -1.1934    0.7963 C   0  0  0  0  0  0  0  0  0  0  0  0\\n   -1.0783    3.1427   -2.4078 C   0  0  0  0  0  0  0  0  0  0  0  0\\n   -0.0533    4.0700   -2.3451 C   0  0  0  0  0  0  0  0  0  0  0  0\\n   -2.3936    3.5450   -2.2578 C   0  0  0  0  0  0  0  0  0  0  0  0\\n   -0.3368    5.4024   -2.1265 C   0  0  0  0  0  0  0  0  0  0  0  0\\n   -2.6910    4.8742   -2.0391 C   0  0  0  0  0  0  0  0  0  0  0  0\\n   -1.6613    5.8141   -1.9690 C   0  0  0  0  0  0  0  0  0  0  0  0\\n   -1.9724    7.2399   -1.7340 C   0  0  0  0  0  0  0  0  0  0  0  0\\n   -3.3869    8.9333   -0.8460 C   0  0  0  0  0  0  0  0  0  0  0  0\\n   -3.2574   11.2327   -1.5274 C   0  0  0  0  0  0  0  0  0  0  0  0\\n   -2.9633    9.8950   -1.7519 C   0  0  0  0  0  0  0  0  0  0  0  0\\n   -3.9748   11.6044   -0.3971 C   0  0  0  0  0  0  0  0  0  0  0  0\\n   -4.1090    9.3113    0.2796 C   0  0  0  0  0  0  0  0  0  0  0  0\\n   -4.4002   10.6435    0.5000 C   0  0  0  0  0  0  0  0  0  0  0  0\\n   -4.2944   13.0567   -0.1524 C   0  0  0  0  0  0  0  0  0  0  0  0\\n   -1.4817   12.3667   -2.6987 C   0  0  0  0  0  0  0  0  0  0  0  0\\n    0.6971   11.7219   -2.3049 C   0  0  0  0  0  0  0  0  0  0  0  0\\n    1.6745   10.8520   -1.6068 C   0  0  0  0  0  0  0  0  0  0  0  0\\n    1.1318   12.6910   -3.2133 C   0  0  0  0  0  0  0  0  0  0  0  0\\n    0.1833   13.4785   -3.8411 C   0  0  0  0  0  0  0  0  0  0  0  0\\n    2.8861   10.5128   -2.2166 C   0  0  0  0  0  0  0  0  0  0  0  0\\n    1.4005   10.3598   -0.3324 C   0  0  0  0  0  0  0  0  0  0  0  0\\n    3.7646    9.6985   -1.5231 C   0  0  0  0  0  0  0  0  0  0  0  0\\n    3.4189    9.2505   -0.2610 C   0  0  0  0  0  0  0  0  0  0  0  0\\n  1 21  2  0\\n  2  9  1  0\\n  2 10  1  0\\n  2 13  1  0\\n  3 11  1  0\\n  3 12  1  0\\n  3 14  1  0\\n  4 21  1  0\\n  4 22  1  0\\n  5 23  1  0\\n  5 29  1  0\\n  6 29  2  0\\n  6 30  1  0\\n  7 29  1  0\\n  7 33  2  0\\n  8 35  2  0\\n  8 37  1  0\\n  9 11  1  0\\n 10 12  1  0\\n 13 15  1  0\\n 15 16  2  0\\n 15 17  1  0\\n 16 18  1  0\\n 17 19  2  0\\n 18 20  2  0\\n 19 20  1  0\\n 20 21  1  0\\n 22 24  2  0\\n 22 26  1  0\\n 23 24  1  0\\n 23 25  2  0\\n 25 27  1  0\\n 25 28  1  0\\n 26 27  2  0\\n 30 31  1  0\\n 30 32  2  0\\n 31 34  2  0\\n 31 35  1  0\\n 32 33  1  0\\n 34 36  1  0\\n 36 37  2  0\\nM  END\\n\",\"sdf\");\n\tviewer_16294546806767275.setStyle({\"model\": 0},{\"stick\": {\"colorscheme\": \"lightgreyCarbon\"}});\n\tviewer_16294546806767275.setStyle({\"model\": 1},{\"stick\": {\"colorscheme\": \"redCarbon\"}});\n\tviewer_16294546806767275.setStyle({\"model\": 2},{\"stick\": {\"colorscheme\": \"greyCarbon\"}});\n\tviewer_16294546806767275.zoomTo();\nviewer_16294546806767275.render();\n});\n</script>",
      "text/html": [
       "<div id=\"3dmolviewer_16294546806767275\"  style=\"position: relative; width: 640px; height: 480px\">\n",
       "        <p id=\"3dmolwarning_16294546806767275\" style=\"background-color:#ffcccc;color:black\">You appear to be running in JupyterLab (or JavaScript failed to load for some other reason).  You need to install the 3dmol extension: <br>\n",
       "        <tt>jupyter labextension install jupyterlab_3dmol</tt></p>\n",
       "        </div>\n",
       "<script>\n",
       "\n",
       "var loadScriptAsync = function(uri){\n",
       "  return new Promise((resolve, reject) => {\n",
       "    var tag = document.createElement('script');\n",
       "    tag.src = uri;\n",
       "    tag.async = true;\n",
       "    tag.onload = () => {\n",
       "      resolve();\n",
       "    };\n",
       "  var firstScriptTag = document.getElementsByTagName('script')[0];\n",
       "  firstScriptTag.parentNode.insertBefore(tag, firstScriptTag);\n",
       "});\n",
       "};\n",
       "\n",
       "if(typeof $3Dmolpromise === 'undefined') {\n",
       "$3Dmolpromise = null;\n",
       "  $3Dmolpromise = loadScriptAsync('https://3dmol.org/build/3Dmol.js');\n",
       "}\n",
       "\n",
       "var viewer_16294546806767275 = null;\n",
       "var warn = document.getElementById(\"3dmolwarning_16294546806767275\");\n",
       "if(warn) {\n",
       "    warn.parentNode.removeChild(warn);\n",
       "}\n",
       "$3Dmolpromise.then(function() {\n",
       "viewer_16294546806767275 = $3Dmol.createViewer($(\"#3dmolviewer_16294546806767275\"),{backgroundColor:\"white\"});\n",
       "viewer_16294546806767275.zoomTo();\n",
       "\tviewer_16294546806767275.addModel(\"_c001_1\\n     RDKit          3D\\n\\n 37 41  0  0  1  0  0  0  0  0999 V2000\\n    3.0731   -0.8924   -9.3134 N   0  0  0  0  0  0  0  0  0  0  0  0\\n    4.6874   -0.6326  -11.7100 N   0  0  0  0  0  0  0  0  0  0  0  0\\n   -2.3355    2.6968   -6.1489 N   0  0  0  0  0  0  0  0  0  0  0  0\\n   -6.7373    2.0060   -4.2943 N   0  0  0  0  0  0  0  0  0  0  0  0\\n   -6.6740    0.5929   -6.1538 N   0  0  0  0  0  0  0  0  0  0  0  0\\n   -8.0660    0.0846   -4.3772 N   0  0  0  0  0  0  0  0  0  0  0  0\\n   -5.6067   -0.0445  -10.1952 N   0  0  0  0  0  0  0  0  0  0  0  0\\n    3.3007    0.3992   -9.9732 C   0  0  0  0  0  0  0  0  0  0  0  0\\n    4.2710   -1.7079   -9.5481 C   0  0  0  0  0  0  0  0  0  0  0  0\\n    3.4894    0.1830  -11.4753 C   0  0  0  0  0  0  0  0  0  0  0  0\\n    4.4597   -1.9241  -11.0500 C   0  0  0  0  0  0  0  0  0  0  0  0\\n    3.0203   -0.6253   -7.8698 C   0  0  0  0  0  0  0  0  0  0  0  0\\n    4.7402   -0.8995  -13.1535 C   0  0  0  0  0  0  0  0  0  0  0  0\\n    1.6574   -0.0949   -7.5066 C   0  0  0  0  0  0  0  0  0  0  0  0\\n    0.5236   -0.7027   -8.0162 C   0  0  0  0  0  0  0  0  0  0  0  0\\n    1.5450    0.9940   -6.6604 C   0  0  0  0  0  0  0  0  0  0  0  0\\n   -0.7272   -0.2222   -7.6877 C   0  0  0  0  0  0  0  0  0  0  0  0\\n    0.3004    1.4843   -6.3235 C   0  0  0  0  0  0  0  0  0  0  0  0\\n   -0.8474    0.8793   -6.8387 C   0  0  0  0  0  0  0  0  0  0  0  0\\n   -2.1843    1.3998   -6.4828 C   0  0  0  0  0  0  0  0  0  0  0  0\\n   -3.6004    3.1892   -5.8123 C   0  0  0  0  0  0  0  0  0  0  0  0\\n   -5.7910    2.8454   -4.8895 C   0  0  0  0  0  0  0  0  0  0  0  0\\n   -4.5367    2.3527   -5.2220 C   0  0  0  0  0  0  0  0  0  0  0  0\\n   -6.1047    4.1739   -5.1485 C   0  0  0  0  0  0  0  0  0  0  0  0\\n   -3.9187    4.5185   -6.0634 C   0  0  0  0  0  0  0  0  0  0  0  0\\n   -5.1679    5.0057   -5.7311 C   0  0  0  0  0  0  0  0  0  0  0  0\\n   -7.4664    4.7097   -4.7881 C   0  0  0  0  0  0  0  0  0  0  0  0\\n   -7.1689    0.8686   -4.9572 C   0  0  0  0  0  0  0  0  0  0  0  0\\n   -7.0680   -0.4919   -6.8165 C   0  0  0  0  0  0  0  0  0  0  0  0\\n   -6.5118   -0.7990   -8.1565 C   0  0  0  0  0  0  0  0  0  0  0  0\\n   -8.0137   -1.3375   -6.2300 C   0  0  0  0  0  0  0  0  0  0  0  0\\n   -8.5035   -1.0107   -4.9781 C   0  0  0  0  0  0  0  0  0  0  0  0\\n   -6.3916   -2.1231   -8.5894 C   0  0  0  0  0  0  0  0  0  0  0  0\\n   -6.1009    0.2272   -9.0047 C   0  0  0  0  0  0  0  0  0  0  0  0\\n   -5.8668   -2.3568   -9.8487 C   0  0  0  0  0  0  0  0  0  0  0  0\\n   -5.4816   -1.2832  -10.6310 C   0  0  0  0  0  0  0  0  0  0  0  0\\n   -3.1474    0.6581   -6.4914 O   0  0  0  0  0  0  0  0  0  0  0  0\\n  1  8  1  0\\n  1  9  1  0\\n  1 12  1  0\\n  2 10  1  0\\n  2 11  1  0\\n  2 13  1  0\\n  3 20  1  0\\n  3 21  1  0\\n  4 22  1  0\\n  4 28  1  0\\n  5 28  2  0\\n  5 29  1  0\\n  6 28  1  0\\n  6 32  2  0\\n  7 34  2  0\\n  7 36  1  0\\n  8 10  1  0\\n  9 11  1  0\\n 12 14  1  0\\n 14 15  2  0\\n 14 16  1  0\\n 15 17  1  0\\n 16 18  2  0\\n 17 19  2  0\\n 18 19  1  0\\n 19 20  1  0\\n 21 23  2  0\\n 21 25  1  0\\n 22 23  1  0\\n 22 24  2  0\\n 24 26  1  0\\n 24 27  1  0\\n 25 26  2  0\\n 29 30  1  0\\n 29 31  2  0\\n 30 33  2  0\\n 30 34  1  0\\n 31 32  1  0\\n 33 35  1  0\\n 35 36  2  0\\n 37 20  2  0\\nM  END\\n\",\"sdf\");\n",
       "\tviewer_16294546806767275.addModel(\"_c001_1\\n     RDKit          3D\\n\\n 37 41  0  0  1  0  0  0  0  0999 V2000\\n    0.3637    1.2867   -1.7683 N   0  0  0  0  0  0  0  0  0  0  0  0\\n    1.3790   -0.7914   -0.0168 N   0  0  0  0  0  0  0  0  0  0  0  0\\n   -3.0707    7.6006   -1.0689 N   0  0  0  0  0  0  0  0  0  0  0  0\\n   -2.7886   12.2150   -2.4547 N   0  0  0  0  0  0  0  0  0  0  0  0\\n   -0.5667   11.5934   -2.0870 N   0  0  0  0  0  0  0  0  0  0  0  0\\n   -1.0473   13.2916   -3.5829 N   0  0  0  0  0  0  0  0  0  0  0  0\\n    2.2962    9.5852    0.2899 N   0  0  0  0  0  0  0  0  0  0  0  0\\n   -0.1877    1.0470   -0.4290 C   0  0  0  0  0  0  0  0  0  0  0  0\\n    0.8341   -0.0088   -2.2738 C   0  0  0  0  0  0  0  0  0  0  0  0\\n    0.9085    0.5042    0.4888 C   0  0  0  0  0  0  0  0  0  0  0  0\\n    1.9302   -0.5515   -1.3562 C   0  0  0  0  0  0  0  0  0  0  0  0\\n   -0.7618    1.6897   -2.6222 C   0  0  0  0  0  0  0  0  0  0  0  0\\n    2.5043   -1.1943    0.8371 C   0  0  0  0  0  0  0  0  0  0  0  0\\n   -1.0732    3.1455   -2.3888 C   0  0  0  0  0  0  0  0  0  0  0  0\\n   -0.0443    4.0687   -2.3277 C   0  0  0  0  0  0  0  0  0  0  0  0\\n   -2.3870    3.5540   -2.2425 C   0  0  0  0  0  0  0  0  0  0  0  0\\n   -0.3225    5.4030   -2.1144 C   0  0  0  0  0  0  0  0  0  0  0  0\\n   -2.6791    4.8852   -2.0291 C   0  0  0  0  0  0  0  0  0  0  0  0\\n   -1.6454    5.8210   -1.9607 C   0  0  0  0  0  0  0  0  0  0  0  0\\n   -1.9508    7.2489   -1.7314 C   0  0  0  0  0  0  0  0  0  0  0  0\\n   -3.3595    8.9516   -0.8520 C   0  0  0  0  0  0  0  0  0  0  0  0\\n   -3.2190   11.2480   -1.5415 C   0  0  0  0  0  0  0  0  0  0  0  0\\n   -2.9303    9.9081   -1.7606 C   0  0  0  0  0  0  0  0  0  0  0  0\\n   -3.9367   11.6268   -0.4137 C   0  0  0  0  0  0  0  0  0  0  0  0\\n   -4.0819    9.3367    0.2711 C   0  0  0  0  0  0  0  0  0  0  0  0\\n   -4.3678   10.6710    0.4861 C   0  0  0  0  0  0  0  0  0  0  0  0\\n   -4.2505   13.0813   -0.1748 C   0  0  0  0  0  0  0  0  0  0  0  0\\n   -1.4365   12.3701   -2.7138 C   0  0  0  0  0  0  0  0  0  0  0  0\\n    0.7388   11.7174   -2.3139 C   0  0  0  0  0  0  0  0  0  0  0  0\\n    1.7113   10.8458   -1.6111 C   0  0  0  0  0  0  0  0  0  0  0  0\\n    1.1793   12.6812   -3.2252 C   0  0  0  0  0  0  0  0  0  0  0  0\\n    0.2352   13.4705   -3.8574 C   0  0  0  0  0  0  0  0  0  0  0  0\\n    2.9225   10.4992   -2.2176 C   0  0  0  0  0  0  0  0  0  0  0  0\\n    1.4330   10.3594   -0.3354 C   0  0  0  0  0  0  0  0  0  0  0  0\\n    3.7963    9.6836   -1.5197 C   0  0  0  0  0  0  0  0  0  0  0  0\\n    3.4465    9.2417   -0.2566 C   0  0  0  0  0  0  0  0  0  0  0  0\\n   -1.1919    8.1061   -2.1402 O   0  0  0  0  0  0  0  0  0  0  0  0\\n  1  8  1  0\\n  1  9  1  0\\n  1 12  1  0\\n  2 10  1  0\\n  2 11  1  0\\n  2 13  1  0\\n  3 20  1  0\\n  3 21  1  0\\n  4 22  1  0\\n  4 28  1  0\\n  5 28  2  0\\n  5 29  1  0\\n  6 28  1  0\\n  6 32  2  0\\n  7 34  2  0\\n  7 36  1  0\\n  8 10  1  0\\n  9 11  1  0\\n 12 14  1  0\\n 14 15  2  0\\n 14 16  1  0\\n 15 17  1  0\\n 16 18  2  0\\n 17 19  2  0\\n 18 19  1  0\\n 19 20  1  0\\n 21 23  2  0\\n 21 25  1  0\\n 22 23  1  0\\n 22 24  2  0\\n 24 26  1  0\\n 24 27  1  0\\n 25 26  2  0\\n 29 30  1  0\\n 29 31  2  0\\n 30 33  2  0\\n 30 34  1  0\\n 31 32  1  0\\n 33 35  1  0\\n 35 36  2  0\\n 37 20  2  0\\nM  END\\n\",\"sdf\");\n",
       "\tviewer_16294546806767275.addModel(\"_c001_1\\n     RDKit          3D\\n\\n 37 41  0  0  0  0  0  0  0  0999 V2000\\n   -1.2179    8.1018   -2.1410 O   0  0  0  0  0  0  0  0  0  0  0  0\\n    0.3676    1.2879   -1.7965 N   0  0  0  0  0  0  0  0  0  0  0  0\\n    1.3947   -0.7922   -0.0542 N   0  0  0  0  0  0  0  0  0  0  0  0\\n   -3.0926    7.5844   -1.0684 N   0  0  0  0  0  0  0  0  0  0  0  0\\n   -2.8327   12.2049   -2.4379 N   0  0  0  0  0  0  0  0  0  0  0  0\\n   -0.6075   11.5915   -2.0762 N   0  0  0  0  0  0  0  0  0  0  0  0\\n   -1.0979   13.2930   -3.5650 N   0  0  0  0  0  0  0  0  0  0  0  0\\n    2.2680    9.5870    0.2886 N   0  0  0  0  0  0  0  0  0  0  0  0\\n   -0.1805    1.0409   -0.4571 C   0  0  0  0  0  0  0  0  0  0  0  0\\n    0.8427   -0.0038   -2.3075 C   0  0  0  0  0  0  0  0  0  0  0  0\\n    0.9196    0.4995    0.4568 C   0  0  0  0  0  0  0  0  0  0  0  0\\n    1.9427   -0.5451   -1.3936 C   0  0  0  0  0  0  0  0  0  0  0  0\\n   -0.7610    1.6891   -2.6470 C   0  0  0  0  0  0  0  0  0  0  0  0\\n    2.5232   -1.1934    0.7963 C   0  0  0  0  0  0  0  0  0  0  0  0\\n   -1.0783    3.1427   -2.4078 C   0  0  0  0  0  0  0  0  0  0  0  0\\n   -0.0533    4.0700   -2.3451 C   0  0  0  0  0  0  0  0  0  0  0  0\\n   -2.3936    3.5450   -2.2578 C   0  0  0  0  0  0  0  0  0  0  0  0\\n   -0.3368    5.4024   -2.1265 C   0  0  0  0  0  0  0  0  0  0  0  0\\n   -2.6910    4.8742   -2.0391 C   0  0  0  0  0  0  0  0  0  0  0  0\\n   -1.6613    5.8141   -1.9690 C   0  0  0  0  0  0  0  0  0  0  0  0\\n   -1.9724    7.2399   -1.7340 C   0  0  0  0  0  0  0  0  0  0  0  0\\n   -3.3869    8.9333   -0.8460 C   0  0  0  0  0  0  0  0  0  0  0  0\\n   -3.2574   11.2327   -1.5274 C   0  0  0  0  0  0  0  0  0  0  0  0\\n   -2.9633    9.8950   -1.7519 C   0  0  0  0  0  0  0  0  0  0  0  0\\n   -3.9748   11.6044   -0.3971 C   0  0  0  0  0  0  0  0  0  0  0  0\\n   -4.1090    9.3113    0.2796 C   0  0  0  0  0  0  0  0  0  0  0  0\\n   -4.4002   10.6435    0.5000 C   0  0  0  0  0  0  0  0  0  0  0  0\\n   -4.2944   13.0567   -0.1524 C   0  0  0  0  0  0  0  0  0  0  0  0\\n   -1.4817   12.3667   -2.6987 C   0  0  0  0  0  0  0  0  0  0  0  0\\n    0.6971   11.7219   -2.3049 C   0  0  0  0  0  0  0  0  0  0  0  0\\n    1.6745   10.8520   -1.6068 C   0  0  0  0  0  0  0  0  0  0  0  0\\n    1.1318   12.6910   -3.2133 C   0  0  0  0  0  0  0  0  0  0  0  0\\n    0.1833   13.4785   -3.8411 C   0  0  0  0  0  0  0  0  0  0  0  0\\n    2.8861   10.5128   -2.2166 C   0  0  0  0  0  0  0  0  0  0  0  0\\n    1.4005   10.3598   -0.3324 C   0  0  0  0  0  0  0  0  0  0  0  0\\n    3.7646    9.6985   -1.5231 C   0  0  0  0  0  0  0  0  0  0  0  0\\n    3.4189    9.2505   -0.2610 C   0  0  0  0  0  0  0  0  0  0  0  0\\n  1 21  2  0\\n  2  9  1  0\\n  2 10  1  0\\n  2 13  1  0\\n  3 11  1  0\\n  3 12  1  0\\n  3 14  1  0\\n  4 21  1  0\\n  4 22  1  0\\n  5 23  1  0\\n  5 29  1  0\\n  6 29  2  0\\n  6 30  1  0\\n  7 29  1  0\\n  7 33  2  0\\n  8 35  2  0\\n  8 37  1  0\\n  9 11  1  0\\n 10 12  1  0\\n 13 15  1  0\\n 15 16  2  0\\n 15 17  1  0\\n 16 18  1  0\\n 17 19  2  0\\n 18 20  2  0\\n 19 20  1  0\\n 20 21  1  0\\n 22 24  2  0\\n 22 26  1  0\\n 23 24  1  0\\n 23 25  2  0\\n 25 27  1  0\\n 25 28  1  0\\n 26 27  2  0\\n 30 31  1  0\\n 30 32  2  0\\n 31 34  2  0\\n 31 35  1  0\\n 32 33  1  0\\n 34 36  1  0\\n 36 37  2  0\\nM  END\\n\",\"sdf\");\n",
       "\tviewer_16294546806767275.setStyle({\"model\": 0},{\"stick\": {\"colorscheme\": \"lightgreyCarbon\"}});\n",
       "\tviewer_16294546806767275.setStyle({\"model\": 1},{\"stick\": {\"colorscheme\": \"redCarbon\"}});\n",
       "\tviewer_16294546806767275.setStyle({\"model\": 2},{\"stick\": {\"colorscheme\": \"greyCarbon\"}});\n",
       "\tviewer_16294546806767275.zoomTo();\n",
       "viewer_16294546806767275.render();\n",
       "});\n",
       "</script>"
      ]
     },
     "metadata": {},
     "output_type": "display_data"
    },
    {
     "data": {
      "text/plain": [
       "<py3Dmol.view at 0x7f848ba038d0>"
      ]
     },
     "execution_count": 16,
     "metadata": {},
     "output_type": "execute_result"
    }
   ],
   "source": [
    "als.show(1, 0)"
   ]
  },
  {
   "cell_type": "markdown",
   "metadata": {},
   "source": [
    "## Imatininib Alignment with Subset"
   ]
  },
  {
   "cell_type": "markdown",
   "metadata": {},
   "source": [
    "We can now try to align a subset (a small fragment) of imatinib into the whole molecule:"
   ]
  },
  {
   "cell_type": "code",
   "execution_count": 17,
   "metadata": {},
   "outputs": [],
   "source": [
    "files = [\"imatinib.pcd\", \"imatinib_part.pcd\"]\n",
    "\n",
    "pcds = []\n",
    "mols = []\n",
    "for f in files:\n",
    "    pcd = o3d.io.read_point_cloud(os.path.join(\"ligands\", f))\n",
    "    pcds.append(pcd)\n",
    "\n",
    "    s = Chem.SDMolSupplier(os.path.join(\"../files\",f.replace(\".pcd\", \".sdf\")))\n",
    "    mol = next(s)\n",
    "    mols.append(mol)"
   ]
  },
  {
   "cell_type": "code",
   "execution_count": 18,
   "metadata": {},
   "outputs": [
    {
     "name": "stdout",
     "output_type": "stream",
     "text": [
      "[PointCloud with 1284 points., PointCloud with 477 points.] [<rdkit.Chem.rdchem.Mol object at 0x7f8487763ee0>, <rdkit.Chem.rdchem.Mol object at 0x7f848762a350>]\n"
     ]
    }
   ],
   "source": [
    "print(pcds, mols)"
   ]
  },
  {
   "cell_type": "code",
   "execution_count": 19,
   "metadata": {},
   "outputs": [
    {
     "data": {
      "application/3dmoljs_load.v0": "<div id=\"3dmolviewer_16294546809245267\"  style=\"position: relative; width: 640px; height: 480px\">\n        <p id=\"3dmolwarning_16294546809245267\" style=\"background-color:#ffcccc;color:black\">You appear to be running in JupyterLab (or JavaScript failed to load for some other reason).  You need to install the 3dmol extension: <br>\n        <tt>jupyter labextension install jupyterlab_3dmol</tt></p>\n        </div>\n<script>\n\nvar loadScriptAsync = function(uri){\n  return new Promise((resolve, reject) => {\n    var tag = document.createElement('script');\n    tag.src = uri;\n    tag.async = true;\n    tag.onload = () => {\n      resolve();\n    };\n  var firstScriptTag = document.getElementsByTagName('script')[0];\n  firstScriptTag.parentNode.insertBefore(tag, firstScriptTag);\n});\n};\n\nif(typeof $3Dmolpromise === 'undefined') {\n$3Dmolpromise = null;\n  $3Dmolpromise = loadScriptAsync('https://3dmol.org/build/3Dmol.js');\n}\n\nvar viewer_16294546809245267 = null;\nvar warn = document.getElementById(\"3dmolwarning_16294546809245267\");\nif(warn) {\n    warn.parentNode.removeChild(warn);\n}\n$3Dmolpromise.then(function() {\nviewer_16294546809245267 = $3Dmol.createViewer($(\"#3dmolviewer_16294546809245267\"),{backgroundColor:\"white\"});\nviewer_16294546809245267.zoomTo();\n\tviewer_16294546809245267.addModel(\"Nc2nccc(c1cccnc1)n2\\n     RDKit          3D\\n\\n 13 14  0  0  0  0  0  0  0  0999 V2000\\n   -1.3578   -1.3525    0.5139 C   0  0  0  0  0  0  0  0  0  0  0  0\\n   -0.9404   -0.1352   -0.0316 C   0  0  0  0  0  0  0  0  0  0  0  0\\n   -1.9661    0.7714   -0.3417 C   0  0  0  0  0  0  0  0  0  0  0  0\\n   -3.3031    0.4390   -0.1174 C   0  0  0  0  0  0  0  0  0  0  0  0\\n   -3.5915   -0.8025    0.4189 C   0  0  0  0  0  0  0  0  0  0  0  0\\n   -2.6492   -1.7089    0.7406 N   0  0  0  0  0  0  0  0  0  0  0  0\\n    0.4885    0.1547   -0.2485 C   0  0  0  0  0  0  0  0  0  0  0  0\\n    1.3458   -0.4860    0.5782 N   0  0  0  0  0  0  0  0  0  0  0  0\\n    2.6518   -0.2622    0.4151 C   0  0  0  0  0  0  0  0  0  0  0  0\\n    3.1758    0.5686   -0.4862 N   0  0  0  0  0  0  0  0  0  0  0  0\\n    2.3064    1.1857   -1.3021 C   0  0  0  0  0  0  0  0  0  0  0  0\\n    0.9448    1.0147   -1.2292 C   0  0  0  0  0  0  0  0  0  0  0  0\\n    3.5204   -0.9035    1.2717 N   0  0  0  0  0  0  0  0  0  0  0  0\\n  1  2  2  0\\n  2  3  1  0\\n  3  4  2  0\\n  4  5  1  0\\n  5  6  2  0\\n  6  1  1  0\\n  2  7  1  0\\n  8  9  2  0\\n  9 10  1  0\\n 10 11  2  0\\n 11 12  1  0\\n  7 12  2  0\\n  7  8  1  0\\n  9 13  1  0\\nM  END\\n\",\"sdf\");\n\tviewer_16294546809245267.addModel(\"Nc2nccc(c1cccnc1)n2\\n     RDKit          3D\\n\\n 13 14  0  0  0  0  0  0  0  0999 V2000\\n    1.3609   10.3342   -0.4179 C   0  0  0  0  0  0  0  0  0  0  0  0\\n    1.6736   10.8765   -1.6676 C   0  0  0  0  0  0  0  0  0  0  0  0\\n    2.9188   10.5004   -2.1951 C   0  0  0  0  0  0  0  0  0  0  0  0\\n    3.7664    9.6493   -1.4840 C   0  0  0  0  0  0  0  0  0  0  0  0\\n    3.3489    9.1849   -0.2503 C   0  0  0  0  0  0  0  0  0  0  0  0\\n    2.1639    9.5076    0.3018 N   0  0  0  0  0  0  0  0  0  0  0  0\\n    0.7366   11.7742   -2.3669 C   0  0  0  0  0  0  0  0  0  0  0  0\\n   -0.5713   11.5958   -2.0730 N   0  0  0  0  0  0  0  0  0  0  0  0\\n   -1.4584   12.3912   -2.6753 C   0  0  0  0  0  0  0  0  0  0  0  0\\n   -1.1543   13.3333   -3.5680 N   0  0  0  0  0  0  0  0  0  0  0  0\\n    0.1506   13.4989   -3.8365 C   0  0  0  0  0  0  0  0  0  0  0  0\\n    1.1453   12.7447   -3.2616 C   0  0  0  0  0  0  0  0  0  0  0  0\\n   -2.7914   12.1935   -2.3862 N   0  0  0  0  0  0  0  0  0  0  0  0\\n  1  2  2  0\\n  2  3  1  0\\n  3  4  2  0\\n  4  5  1  0\\n  5  6  2  0\\n  6  1  1  0\\n  2  7  1  0\\n  8  9  2  0\\n  9 10  1  0\\n 10 11  2  0\\n 11 12  1  0\\n  7 12  2  0\\n  7  8  1  0\\n  9 13  1  0\\nM  END\\n\",\"sdf\");\n\tviewer_16294546809245267.addModel(\"_c001_1\\n     RDKit          3D\\n\\n 37 41  0  0  0  0  0  0  0  0999 V2000\\n   -1.2179    8.1018   -2.1410 O   0  0  0  0  0  0  0  0  0  0  0  0\\n    0.3676    1.2879   -1.7965 N   0  0  0  0  0  0  0  0  0  0  0  0\\n    1.3947   -0.7922   -0.0542 N   0  0  0  0  0  0  0  0  0  0  0  0\\n   -3.0926    7.5844   -1.0684 N   0  0  0  0  0  0  0  0  0  0  0  0\\n   -2.8327   12.2049   -2.4379 N   0  0  0  0  0  0  0  0  0  0  0  0\\n   -0.6075   11.5915   -2.0762 N   0  0  0  0  0  0  0  0  0  0  0  0\\n   -1.0979   13.2930   -3.5650 N   0  0  0  0  0  0  0  0  0  0  0  0\\n    2.2680    9.5870    0.2886 N   0  0  0  0  0  0  0  0  0  0  0  0\\n   -0.1805    1.0409   -0.4571 C   0  0  0  0  0  0  0  0  0  0  0  0\\n    0.8427   -0.0038   -2.3075 C   0  0  0  0  0  0  0  0  0  0  0  0\\n    0.9196    0.4995    0.4568 C   0  0  0  0  0  0  0  0  0  0  0  0\\n    1.9427   -0.5451   -1.3936 C   0  0  0  0  0  0  0  0  0  0  0  0\\n   -0.7610    1.6891   -2.6470 C   0  0  0  0  0  0  0  0  0  0  0  0\\n    2.5232   -1.1934    0.7963 C   0  0  0  0  0  0  0  0  0  0  0  0\\n   -1.0783    3.1427   -2.4078 C   0  0  0  0  0  0  0  0  0  0  0  0\\n   -0.0533    4.0700   -2.3451 C   0  0  0  0  0  0  0  0  0  0  0  0\\n   -2.3936    3.5450   -2.2578 C   0  0  0  0  0  0  0  0  0  0  0  0\\n   -0.3368    5.4024   -2.1265 C   0  0  0  0  0  0  0  0  0  0  0  0\\n   -2.6910    4.8742   -2.0391 C   0  0  0  0  0  0  0  0  0  0  0  0\\n   -1.6613    5.8141   -1.9690 C   0  0  0  0  0  0  0  0  0  0  0  0\\n   -1.9724    7.2399   -1.7340 C   0  0  0  0  0  0  0  0  0  0  0  0\\n   -3.3869    8.9333   -0.8460 C   0  0  0  0  0  0  0  0  0  0  0  0\\n   -3.2574   11.2327   -1.5274 C   0  0  0  0  0  0  0  0  0  0  0  0\\n   -2.9633    9.8950   -1.7519 C   0  0  0  0  0  0  0  0  0  0  0  0\\n   -3.9748   11.6044   -0.3971 C   0  0  0  0  0  0  0  0  0  0  0  0\\n   -4.1090    9.3113    0.2796 C   0  0  0  0  0  0  0  0  0  0  0  0\\n   -4.4002   10.6435    0.5000 C   0  0  0  0  0  0  0  0  0  0  0  0\\n   -4.2944   13.0567   -0.1524 C   0  0  0  0  0  0  0  0  0  0  0  0\\n   -1.4817   12.3667   -2.6987 C   0  0  0  0  0  0  0  0  0  0  0  0\\n    0.6971   11.7219   -2.3049 C   0  0  0  0  0  0  0  0  0  0  0  0\\n    1.6745   10.8520   -1.6068 C   0  0  0  0  0  0  0  0  0  0  0  0\\n    1.1318   12.6910   -3.2133 C   0  0  0  0  0  0  0  0  0  0  0  0\\n    0.1833   13.4785   -3.8411 C   0  0  0  0  0  0  0  0  0  0  0  0\\n    2.8861   10.5128   -2.2166 C   0  0  0  0  0  0  0  0  0  0  0  0\\n    1.4005   10.3598   -0.3324 C   0  0  0  0  0  0  0  0  0  0  0  0\\n    3.7646    9.6985   -1.5231 C   0  0  0  0  0  0  0  0  0  0  0  0\\n    3.4189    9.2505   -0.2610 C   0  0  0  0  0  0  0  0  0  0  0  0\\n  1 21  2  0\\n  2  9  1  0\\n  2 10  1  0\\n  2 13  1  0\\n  3 11  1  0\\n  3 12  1  0\\n  3 14  1  0\\n  4 21  1  0\\n  4 22  1  0\\n  5 23  1  0\\n  5 29  1  0\\n  6 29  2  0\\n  6 30  1  0\\n  7 29  1  0\\n  7 33  2  0\\n  8 35  2  0\\n  8 37  1  0\\n  9 11  1  0\\n 10 12  1  0\\n 13 15  1  0\\n 15 16  2  0\\n 15 17  1  0\\n 16 18  1  0\\n 17 19  2  0\\n 18 20  2  0\\n 19 20  1  0\\n 20 21  1  0\\n 22 24  2  0\\n 22 26  1  0\\n 23 24  1  0\\n 23 25  2  0\\n 25 27  1  0\\n 25 28  1  0\\n 26 27  2  0\\n 30 31  1  0\\n 30 32  2  0\\n 31 34  2  0\\n 31 35  1  0\\n 32 33  1  0\\n 34 36  1  0\\n 36 37  2  0\\nM  END\\n\",\"sdf\");\n\tviewer_16294546809245267.setStyle({\"model\": 0},{\"stick\": {\"colorscheme\": \"lightgreyCarbon\"}});\n\tviewer_16294546809245267.setStyle({\"model\": 1},{\"stick\": {\"colorscheme\": \"redCarbon\"}});\n\tviewer_16294546809245267.setStyle({\"model\": 2},{\"stick\": {\"colorscheme\": \"greyCarbon\"}});\n\tviewer_16294546809245267.zoomTo();\nviewer_16294546809245267.render();\n});\n</script>",
      "text/html": [
       "<div id=\"3dmolviewer_16294546809245267\"  style=\"position: relative; width: 640px; height: 480px\">\n",
       "        <p id=\"3dmolwarning_16294546809245267\" style=\"background-color:#ffcccc;color:black\">You appear to be running in JupyterLab (or JavaScript failed to load for some other reason).  You need to install the 3dmol extension: <br>\n",
       "        <tt>jupyter labextension install jupyterlab_3dmol</tt></p>\n",
       "        </div>\n",
       "<script>\n",
       "\n",
       "var loadScriptAsync = function(uri){\n",
       "  return new Promise((resolve, reject) => {\n",
       "    var tag = document.createElement('script');\n",
       "    tag.src = uri;\n",
       "    tag.async = true;\n",
       "    tag.onload = () => {\n",
       "      resolve();\n",
       "    };\n",
       "  var firstScriptTag = document.getElementsByTagName('script')[0];\n",
       "  firstScriptTag.parentNode.insertBefore(tag, firstScriptTag);\n",
       "});\n",
       "};\n",
       "\n",
       "if(typeof $3Dmolpromise === 'undefined') {\n",
       "$3Dmolpromise = null;\n",
       "  $3Dmolpromise = loadScriptAsync('https://3dmol.org/build/3Dmol.js');\n",
       "}\n",
       "\n",
       "var viewer_16294546809245267 = null;\n",
       "var warn = document.getElementById(\"3dmolwarning_16294546809245267\");\n",
       "if(warn) {\n",
       "    warn.parentNode.removeChild(warn);\n",
       "}\n",
       "$3Dmolpromise.then(function() {\n",
       "viewer_16294546809245267 = $3Dmol.createViewer($(\"#3dmolviewer_16294546809245267\"),{backgroundColor:\"white\"});\n",
       "viewer_16294546809245267.zoomTo();\n",
       "\tviewer_16294546809245267.addModel(\"Nc2nccc(c1cccnc1)n2\\n     RDKit          3D\\n\\n 13 14  0  0  0  0  0  0  0  0999 V2000\\n   -1.3578   -1.3525    0.5139 C   0  0  0  0  0  0  0  0  0  0  0  0\\n   -0.9404   -0.1352   -0.0316 C   0  0  0  0  0  0  0  0  0  0  0  0\\n   -1.9661    0.7714   -0.3417 C   0  0  0  0  0  0  0  0  0  0  0  0\\n   -3.3031    0.4390   -0.1174 C   0  0  0  0  0  0  0  0  0  0  0  0\\n   -3.5915   -0.8025    0.4189 C   0  0  0  0  0  0  0  0  0  0  0  0\\n   -2.6492   -1.7089    0.7406 N   0  0  0  0  0  0  0  0  0  0  0  0\\n    0.4885    0.1547   -0.2485 C   0  0  0  0  0  0  0  0  0  0  0  0\\n    1.3458   -0.4860    0.5782 N   0  0  0  0  0  0  0  0  0  0  0  0\\n    2.6518   -0.2622    0.4151 C   0  0  0  0  0  0  0  0  0  0  0  0\\n    3.1758    0.5686   -0.4862 N   0  0  0  0  0  0  0  0  0  0  0  0\\n    2.3064    1.1857   -1.3021 C   0  0  0  0  0  0  0  0  0  0  0  0\\n    0.9448    1.0147   -1.2292 C   0  0  0  0  0  0  0  0  0  0  0  0\\n    3.5204   -0.9035    1.2717 N   0  0  0  0  0  0  0  0  0  0  0  0\\n  1  2  2  0\\n  2  3  1  0\\n  3  4  2  0\\n  4  5  1  0\\n  5  6  2  0\\n  6  1  1  0\\n  2  7  1  0\\n  8  9  2  0\\n  9 10  1  0\\n 10 11  2  0\\n 11 12  1  0\\n  7 12  2  0\\n  7  8  1  0\\n  9 13  1  0\\nM  END\\n\",\"sdf\");\n",
       "\tviewer_16294546809245267.addModel(\"Nc2nccc(c1cccnc1)n2\\n     RDKit          3D\\n\\n 13 14  0  0  0  0  0  0  0  0999 V2000\\n    1.3609   10.3342   -0.4179 C   0  0  0  0  0  0  0  0  0  0  0  0\\n    1.6736   10.8765   -1.6676 C   0  0  0  0  0  0  0  0  0  0  0  0\\n    2.9188   10.5004   -2.1951 C   0  0  0  0  0  0  0  0  0  0  0  0\\n    3.7664    9.6493   -1.4840 C   0  0  0  0  0  0  0  0  0  0  0  0\\n    3.3489    9.1849   -0.2503 C   0  0  0  0  0  0  0  0  0  0  0  0\\n    2.1639    9.5076    0.3018 N   0  0  0  0  0  0  0  0  0  0  0  0\\n    0.7366   11.7742   -2.3669 C   0  0  0  0  0  0  0  0  0  0  0  0\\n   -0.5713   11.5958   -2.0730 N   0  0  0  0  0  0  0  0  0  0  0  0\\n   -1.4584   12.3912   -2.6753 C   0  0  0  0  0  0  0  0  0  0  0  0\\n   -1.1543   13.3333   -3.5680 N   0  0  0  0  0  0  0  0  0  0  0  0\\n    0.1506   13.4989   -3.8365 C   0  0  0  0  0  0  0  0  0  0  0  0\\n    1.1453   12.7447   -3.2616 C   0  0  0  0  0  0  0  0  0  0  0  0\\n   -2.7914   12.1935   -2.3862 N   0  0  0  0  0  0  0  0  0  0  0  0\\n  1  2  2  0\\n  2  3  1  0\\n  3  4  2  0\\n  4  5  1  0\\n  5  6  2  0\\n  6  1  1  0\\n  2  7  1  0\\n  8  9  2  0\\n  9 10  1  0\\n 10 11  2  0\\n 11 12  1  0\\n  7 12  2  0\\n  7  8  1  0\\n  9 13  1  0\\nM  END\\n\",\"sdf\");\n",
       "\tviewer_16294546809245267.addModel(\"_c001_1\\n     RDKit          3D\\n\\n 37 41  0  0  0  0  0  0  0  0999 V2000\\n   -1.2179    8.1018   -2.1410 O   0  0  0  0  0  0  0  0  0  0  0  0\\n    0.3676    1.2879   -1.7965 N   0  0  0  0  0  0  0  0  0  0  0  0\\n    1.3947   -0.7922   -0.0542 N   0  0  0  0  0  0  0  0  0  0  0  0\\n   -3.0926    7.5844   -1.0684 N   0  0  0  0  0  0  0  0  0  0  0  0\\n   -2.8327   12.2049   -2.4379 N   0  0  0  0  0  0  0  0  0  0  0  0\\n   -0.6075   11.5915   -2.0762 N   0  0  0  0  0  0  0  0  0  0  0  0\\n   -1.0979   13.2930   -3.5650 N   0  0  0  0  0  0  0  0  0  0  0  0\\n    2.2680    9.5870    0.2886 N   0  0  0  0  0  0  0  0  0  0  0  0\\n   -0.1805    1.0409   -0.4571 C   0  0  0  0  0  0  0  0  0  0  0  0\\n    0.8427   -0.0038   -2.3075 C   0  0  0  0  0  0  0  0  0  0  0  0\\n    0.9196    0.4995    0.4568 C   0  0  0  0  0  0  0  0  0  0  0  0\\n    1.9427   -0.5451   -1.3936 C   0  0  0  0  0  0  0  0  0  0  0  0\\n   -0.7610    1.6891   -2.6470 C   0  0  0  0  0  0  0  0  0  0  0  0\\n    2.5232   -1.1934    0.7963 C   0  0  0  0  0  0  0  0  0  0  0  0\\n   -1.0783    3.1427   -2.4078 C   0  0  0  0  0  0  0  0  0  0  0  0\\n   -0.0533    4.0700   -2.3451 C   0  0  0  0  0  0  0  0  0  0  0  0\\n   -2.3936    3.5450   -2.2578 C   0  0  0  0  0  0  0  0  0  0  0  0\\n   -0.3368    5.4024   -2.1265 C   0  0  0  0  0  0  0  0  0  0  0  0\\n   -2.6910    4.8742   -2.0391 C   0  0  0  0  0  0  0  0  0  0  0  0\\n   -1.6613    5.8141   -1.9690 C   0  0  0  0  0  0  0  0  0  0  0  0\\n   -1.9724    7.2399   -1.7340 C   0  0  0  0  0  0  0  0  0  0  0  0\\n   -3.3869    8.9333   -0.8460 C   0  0  0  0  0  0  0  0  0  0  0  0\\n   -3.2574   11.2327   -1.5274 C   0  0  0  0  0  0  0  0  0  0  0  0\\n   -2.9633    9.8950   -1.7519 C   0  0  0  0  0  0  0  0  0  0  0  0\\n   -3.9748   11.6044   -0.3971 C   0  0  0  0  0  0  0  0  0  0  0  0\\n   -4.1090    9.3113    0.2796 C   0  0  0  0  0  0  0  0  0  0  0  0\\n   -4.4002   10.6435    0.5000 C   0  0  0  0  0  0  0  0  0  0  0  0\\n   -4.2944   13.0567   -0.1524 C   0  0  0  0  0  0  0  0  0  0  0  0\\n   -1.4817   12.3667   -2.6987 C   0  0  0  0  0  0  0  0  0  0  0  0\\n    0.6971   11.7219   -2.3049 C   0  0  0  0  0  0  0  0  0  0  0  0\\n    1.6745   10.8520   -1.6068 C   0  0  0  0  0  0  0  0  0  0  0  0\\n    1.1318   12.6910   -3.2133 C   0  0  0  0  0  0  0  0  0  0  0  0\\n    0.1833   13.4785   -3.8411 C   0  0  0  0  0  0  0  0  0  0  0  0\\n    2.8861   10.5128   -2.2166 C   0  0  0  0  0  0  0  0  0  0  0  0\\n    1.4005   10.3598   -0.3324 C   0  0  0  0  0  0  0  0  0  0  0  0\\n    3.7646    9.6985   -1.5231 C   0  0  0  0  0  0  0  0  0  0  0  0\\n    3.4189    9.2505   -0.2610 C   0  0  0  0  0  0  0  0  0  0  0  0\\n  1 21  2  0\\n  2  9  1  0\\n  2 10  1  0\\n  2 13  1  0\\n  3 11  1  0\\n  3 12  1  0\\n  3 14  1  0\\n  4 21  1  0\\n  4 22  1  0\\n  5 23  1  0\\n  5 29  1  0\\n  6 29  2  0\\n  6 30  1  0\\n  7 29  1  0\\n  7 33  2  0\\n  8 35  2  0\\n  8 37  1  0\\n  9 11  1  0\\n 10 12  1  0\\n 13 15  1  0\\n 15 16  2  0\\n 15 17  1  0\\n 16 18  1  0\\n 17 19  2  0\\n 18 20  2  0\\n 19 20  1  0\\n 20 21  1  0\\n 22 24  2  0\\n 22 26  1  0\\n 23 24  1  0\\n 23 25  2  0\\n 25 27  1  0\\n 25 28  1  0\\n 26 27  2  0\\n 30 31  1  0\\n 30 32  2  0\\n 31 34  2  0\\n 31 35  1  0\\n 32 33  1  0\\n 34 36  1  0\\n 36 37  2  0\\nM  END\\n\",\"sdf\");\n",
       "\tviewer_16294546809245267.setStyle({\"model\": 0},{\"stick\": {\"colorscheme\": \"lightgreyCarbon\"}});\n",
       "\tviewer_16294546809245267.setStyle({\"model\": 1},{\"stick\": {\"colorscheme\": \"redCarbon\"}});\n",
       "\tviewer_16294546809245267.setStyle({\"model\": 2},{\"stick\": {\"colorscheme\": \"greyCarbon\"}});\n",
       "\tviewer_16294546809245267.zoomTo();\n",
       "viewer_16294546809245267.render();\n",
       "});\n",
       "</script>"
      ]
     },
     "metadata": {},
     "output_type": "display_data"
    },
    {
     "data": {
      "text/plain": [
       "<py3Dmol.view at 0x7f8487634690>"
      ]
     },
     "execution_count": 19,
     "metadata": {},
     "output_type": "execute_result"
    }
   ],
   "source": [
    "als = AlignShow(mols, pcds)\n",
    "als.show(1, 0)"
   ]
  },
  {
   "cell_type": "markdown",
   "metadata": {},
   "source": [
    "Unfortunately the point cloud alignment is non-deterministic (it is impossible to set a random seed, see [open3d/#288](https://github.com/intel-isl/Open3D/issues/288) and [open3d/#1263](https://github.com/intel-isl/Open3D/issues/1263)) and therefore sometimes the alignment is extremely good while other times it is not."
   ]
  }
 ],
 "metadata": {
  "interpreter": {
   "hash": "2170310d8da5d5d0ced416f072c764c73705bd667e97df15cd83672f4e754559"
  },
  "kernelspec": {
   "display_name": "Python 3",
   "language": "python",
   "name": "python3"
  },
  "language_info": {
   "codemirror_mode": {
    "name": "ipython",
    "version": 3
   },
   "file_extension": ".py",
   "mimetype": "text/x-python",
   "name": "python",
   "nbconvert_exporter": "python",
   "pygments_lexer": "ipython3",
   "version": "3.7.10"
  }
 },
 "nbformat": 4,
 "nbformat_minor": 2
}
