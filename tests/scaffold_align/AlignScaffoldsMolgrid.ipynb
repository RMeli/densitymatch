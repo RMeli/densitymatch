{
 "cells": [
  {
   "cell_type": "markdown",
   "metadata": {},
   "source": [
    "# Align Murcko Scaffold to Molecule"
   ]
  },
  {
   "cell_type": "markdown",
   "metadata": {},
   "source": [
    "In this notebook we explire if we can use SENSAAS with point clouds from `libmolgrid`-generated densities in order to align Murcko scaffolds to their original molecule."
   ]
  },
  {
   "cell_type": "code",
   "execution_count": 1,
   "metadata": {},
   "outputs": [
    {
     "data": {
      "text/html": [
       "\n",
       "                <script type=\"application/javascript\" id=\"jupyter_black\">\n",
       "                (function() {\n",
       "                    if (window.IPython === undefined) {\n",
       "                        return\n",
       "                    }\n",
       "                    var msg = \"WARNING: it looks like you might have loaded \" +\n",
       "                        \"jupyter_black in a non-lab notebook with \" +\n",
       "                        \"`is_lab=True`. Please double check, and if \" +\n",
       "                        \"loading with `%load_ext` please review the README!\"\n",
       "                    console.log(msg)\n",
       "                    alert(msg)\n",
       "                })()\n",
       "                </script>\n",
       "                "
      ],
      "text/plain": [
       "<IPython.core.display.HTML object>"
      ]
     },
     "metadata": {},
     "output_type": "display_data"
    }
   ],
   "source": [
    "%load_ext autoreload\n",
    "%autoreload 2\n",
    "%load_ext jupyter_black"
   ]
  },
  {
   "cell_type": "code",
   "execution_count": 2,
   "metadata": {},
   "outputs": [],
   "source": [
    "# sensaas: sensaas coloring method for PCDs\n",
    "# molgrid: libmolgrid coloring method for PCDs\n",
    "method = \"molgrid\""
   ]
  },
  {
   "cell_type": "code",
   "execution_count": 3,
   "metadata": {},
   "outputs": [],
   "source": [
    "# Threshold to show failures\n",
    "rmsd_threshold = 0.25"
   ]
  },
  {
   "cell_type": "code",
   "execution_count": 4,
   "metadata": {},
   "outputs": [],
   "source": [
    "dir = f\"failed-{method}/\"\n",
    "for f in os.listdir(dir):\n",
    "    os.remove(os.path.join(dir, f))"
   ]
  },
  {
   "cell_type": "markdown",
   "metadata": {},
   "source": [
    "### Libraries"
   ]
  },
  {
   "cell_type": "code",
   "execution_count": 5,
   "metadata": {},
   "outputs": [],
   "source": [
    "import sys\n",
    "\n",
    "sys.path.append(\"../../\")\n",
    "sys.path.append(\"../\")"
   ]
  },
  {
   "cell_type": "code",
   "execution_count": 6,
   "metadata": {},
   "outputs": [
    {
     "name": "stdout",
     "output_type": "stream",
     "text": [
      "Jupyter environment detected. Enabling Open3D WebVisualizer.\n",
      "[Open3D INFO] WebRTC GUI backend enabled.\n",
      "[Open3D INFO] WebRTCWindowSystem: HTTP handshake server disabled.\n"
     ]
    }
   ],
   "source": [
    "import open3d as o3d\n",
    "import pandas as pd\n",
    "from collections import defaultdict\n",
    "\n",
    "import re, os\n",
    "from rdkit import Chem"
   ]
  },
  {
   "cell_type": "code",
   "execution_count": 7,
   "metadata": {},
   "outputs": [],
   "source": [
    "from utils import align_and_show_scaffold, show_scaffold"
   ]
  },
  {
   "cell_type": "markdown",
   "metadata": {},
   "source": [
    "Store RMSD before and after alignment (for both BRD4 and CDK2)"
   ]
  },
  {
   "cell_type": "code",
   "execution_count": 8,
   "metadata": {},
   "outputs": [],
   "source": [
    "rmsds = defaultdict(list)"
   ]
  },
  {
   "cell_type": "markdown",
   "metadata": {},
   "source": [
    "## BRD4 Inhibitors"
   ]
  },
  {
   "cell_type": "code",
   "execution_count": 9,
   "metadata": {},
   "outputs": [],
   "source": [
    "path = \"../ligands/BRD4\""
   ]
  },
  {
   "cell_type": "markdown",
   "metadata": {},
   "source": [
    "Loda original BRD4 inhibitors together with their point cloud representation (pre-computed):"
   ]
  },
  {
   "cell_type": "code",
   "execution_count": 10,
   "metadata": {},
   "outputs": [
    {
     "name": "stdout",
     "output_type": "stream",
     "text": [
      "['../ligands/BRD4/ligand-1_molgrid.pcd', '../ligands/BRD4/ligand-2_molgrid.pcd', '../ligands/BRD4/ligand-3_molgrid.pcd', '../ligands/BRD4/ligand-4_molgrid.pcd', '../ligands/BRD4/ligand-5_molgrid.pcd', '../ligands/BRD4/ligand-6_molgrid.pcd', '../ligands/BRD4/ligand-7_molgrid.pcd', '../ligands/BRD4/ligand-8_molgrid.pcd', '../ligands/BRD4/ligand-9_molgrid.pcd', '../ligands/BRD4/ligand-10_molgrid.pcd']\n"
     ]
    }
   ],
   "source": [
    "files = []\n",
    "for f in os.listdir(path):\n",
    "    fname, ext = os.path.splitext(f)\n",
    "    if ext == \".pcd\" and method in f and not \"tran\" in f:\n",
    "        files.append(os.path.join(path, f))\n",
    "\n",
    "# Sort BRD4 ligand files by number\n",
    "r = re.compile(\"\\d{1,2}\")\n",
    "files.sort(key=lambda f: int(r.search(os.path.basename(f)).group()))\n",
    "\n",
    "print(files)\n",
    "\n",
    "pcds = []\n",
    "mols = []\n",
    "for f in files:\n",
    "    pcd = o3d.io.read_point_cloud(f)\n",
    "    pcds.append(pcd)\n",
    "\n",
    "    s = Chem.SDMolSupplier(f.replace(\".pcd\", \".sdf\").replace(f\"_{method}\", \"\"))\n",
    "    mol = next(s)\n",
    "    mols.append(mol)"
   ]
  },
  {
   "cell_type": "markdown",
   "metadata": {},
   "source": [
    "Load original BRD4 Murcko scaffolds:"
   ]
  },
  {
   "cell_type": "code",
   "execution_count": 11,
   "metadata": {},
   "outputs": [
    {
     "name": "stdout",
     "output_type": "stream",
     "text": [
      "['../ligands/BRD4/ligand-1_murcko.sdf', '../ligands/BRD4/ligand-2_murcko.sdf', '../ligands/BRD4/ligand-3_murcko.sdf', '../ligands/BRD4/ligand-4_murcko.sdf', '../ligands/BRD4/ligand-5_murcko.sdf', '../ligands/BRD4/ligand-6_murcko.sdf', '../ligands/BRD4/ligand-7_murcko.sdf', '../ligands/BRD4/ligand-8_murcko.sdf', '../ligands/BRD4/ligand-9_murcko.sdf', '../ligands/BRD4/ligand-10_murcko.sdf']\n"
     ]
    }
   ],
   "source": [
    "files = []\n",
    "for f in os.listdir(path):\n",
    "    fname, ext = os.path.splitext(f)\n",
    "    if ext == \".sdf\" and \"murcko\" in f and not \"tran\" in f:\n",
    "        files.append(os.path.join(path, f))\n",
    "\n",
    "# Sort BRD4 ligand files by number\n",
    "r = re.compile(\"\\d{1,2}\")\n",
    "files.sort(key=lambda f: int(r.search(os.path.basename(f)).group()))\n",
    "\n",
    "print(files)\n",
    "\n",
    "MSmols = []\n",
    "for f in files:\n",
    "    # Original Murko scaffold PCDs are not needed\n",
    "    s = Chem.SDMolSupplier(f.replace(\".pcd\", \".sdf\").replace(f\"_{method}\", \"\"))\n",
    "    mol = next(s)\n",
    "    MSmols.append(mol)"
   ]
  },
  {
   "cell_type": "markdown",
   "metadata": {},
   "source": [
    "Load translated and rotated BRD4 Murcko scaffolds with their point-cloud representation (pre-computed):"
   ]
  },
  {
   "cell_type": "code",
   "execution_count": 12,
   "metadata": {},
   "outputs": [
    {
     "name": "stdout",
     "output_type": "stream",
     "text": [
      "['../ligands/BRD4/ligand-1_murcko_tran_molgrid.pcd', '../ligands/BRD4/ligand-2_murcko_tran_molgrid.pcd', '../ligands/BRD4/ligand-3_murcko_tran_molgrid.pcd', '../ligands/BRD4/ligand-4_murcko_tran_molgrid.pcd', '../ligands/BRD4/ligand-5_murcko_tran_molgrid.pcd', '../ligands/BRD4/ligand-6_murcko_tran_molgrid.pcd', '../ligands/BRD4/ligand-7_murcko_tran_molgrid.pcd', '../ligands/BRD4/ligand-8_murcko_tran_molgrid.pcd', '../ligands/BRD4/ligand-9_murcko_tran_molgrid.pcd', '../ligands/BRD4/ligand-10_murcko_tran_molgrid.pcd']\n"
     ]
    }
   ],
   "source": [
    "files = []\n",
    "for f in os.listdir(path):\n",
    "    fname, ext = os.path.splitext(f)\n",
    "    if ext == \".pcd\" and f\"_murcko_tran_{method}\" in fname:\n",
    "        files.append(os.path.join(path, f))\n",
    "\n",
    "# Sort BRD4 ligand files by number\n",
    "r = re.compile(\"\\d{1,2}\")\n",
    "files.sort(key=lambda f: int(r.search(os.path.basename(f)).group()))\n",
    "\n",
    "print(files)\n",
    "\n",
    "tMSpcds = []\n",
    "tMSmols = []\n",
    "for f in files:\n",
    "    pcd = o3d.io.read_point_cloud(f)\n",
    "    tMSpcds.append(pcd)\n",
    "\n",
    "    s = Chem.SDMolSupplier(f.replace(\".pcd\", \".sdf\").replace(f\"_{method}\", \"\"))\n",
    "    mol = next(s)\n",
    "    tMSmols.append(mol)"
   ]
  },
  {
   "cell_type": "code",
   "execution_count": 13,
   "metadata": {},
   "outputs": [],
   "source": [
    "for i, f in enumerate(files):\n",
    "    rmsd_i, rmsd_f, _, _ = align_and_show_scaffold(\n",
    "        mols[i], pcds[i], tMSmols[i], tMSpcds[i], MSmols[i]\n",
    "    )\n",
    "    rmsds[\"system\"].append(\"BRD4\")\n",
    "    rmsds[\"lig\"].append(\n",
    "        os.path.splitext(os.path.basename(f))[0].replace(f\"_murcko_tran_{method}\", \"\")\n",
    "    )\n",
    "    rmsds[\"RMSDi\"].append(rmsd_i)\n",
    "    rmsds[\"RMSDf\"].append(rmsd_f)\n",
    "    rmsds[\"idx\"].append(i)"
   ]
  },
  {
   "cell_type": "markdown",
   "metadata": {},
   "source": [
    "### Failures"
   ]
  },
  {
   "cell_type": "code",
   "execution_count": 14,
   "metadata": {},
   "outputs": [],
   "source": [
    "df = pd.DataFrame(rmsds)"
   ]
  },
  {
   "cell_type": "code",
   "execution_count": 15,
   "metadata": {},
   "outputs": [
    {
     "data": {
      "text/html": [
       "<div>\n",
       "<style scoped>\n",
       "    .dataframe tbody tr th:only-of-type {\n",
       "        vertical-align: middle;\n",
       "    }\n",
       "\n",
       "    .dataframe tbody tr th {\n",
       "        vertical-align: top;\n",
       "    }\n",
       "\n",
       "    .dataframe thead th {\n",
       "        text-align: right;\n",
       "    }\n",
       "</style>\n",
       "<table border=\"1\" class=\"dataframe\">\n",
       "  <thead>\n",
       "    <tr style=\"text-align: right;\">\n",
       "      <th></th>\n",
       "      <th>system</th>\n",
       "      <th>lig</th>\n",
       "      <th>RMSDi</th>\n",
       "      <th>RMSDf</th>\n",
       "      <th>idx</th>\n",
       "    </tr>\n",
       "  </thead>\n",
       "  <tbody>\n",
       "    <tr>\n",
       "      <th>2</th>\n",
       "      <td>BRD4</td>\n",
       "      <td>ligand-3</td>\n",
       "      <td>16.842481</td>\n",
       "      <td>5.467946</td>\n",
       "      <td>2</td>\n",
       "    </tr>\n",
       "    <tr>\n",
       "      <th>5</th>\n",
       "      <td>BRD4</td>\n",
       "      <td>ligand-6</td>\n",
       "      <td>18.104774</td>\n",
       "      <td>6.226867</td>\n",
       "      <td>5</td>\n",
       "    </tr>\n",
       "  </tbody>\n",
       "</table>\n",
       "</div>"
      ],
      "text/plain": [
       "  system       lig      RMSDi     RMSDf  idx\n",
       "2   BRD4  ligand-3  16.842481  5.467946    2\n",
       "5   BRD4  ligand-6  18.104774  6.226867    5"
      ]
     },
     "execution_count": 15,
     "metadata": {},
     "output_type": "execute_result"
    }
   ],
   "source": [
    "df[df.RMSDf > rmsd_threshold]"
   ]
  },
  {
   "cell_type": "code",
   "execution_count": 16,
   "metadata": {},
   "outputs": [
    {
     "data": {
      "application/3dmoljs_load.v0": "<div id=\"3dmolviewer_1649433664076566\"  style=\"position: relative; width: 640px; height: 480px\">\n        <p id=\"3dmolwarning_1649433664076566\" style=\"background-color:#ffcccc;color:black\">You appear to be running in JupyterLab (or JavaScript failed to load for some other reason).  You need to install the 3dmol extension: <br>\n        <tt>jupyter labextension install jupyterlab_3dmol</tt></p>\n        </div>\n<script>\n\nvar loadScriptAsync = function(uri){\n  return new Promise((resolve, reject) => {\n    var tag = document.createElement('script');\n    tag.src = uri;\n    tag.async = true;\n    tag.onload = () => {\n      resolve();\n    };\n  var firstScriptTag = document.getElementsByTagName('script')[0];\n  firstScriptTag.parentNode.insertBefore(tag, firstScriptTag);\n});\n};\n\nif(typeof $3Dmolpromise === 'undefined') {\n$3Dmolpromise = null;\n  $3Dmolpromise = loadScriptAsync('https://3dmol.org/build/3Dmol.js');\n}\n\nvar viewer_1649433664076566 = null;\nvar warn = document.getElementById(\"3dmolwarning_1649433664076566\");\nif(warn) {\n    warn.parentNode.removeChild(warn);\n}\n$3Dmolpromise.then(function() {\nviewer_1649433664076566 = $3Dmol.createViewer($(\"#3dmolviewer_1649433664076566\"),{backgroundColor:\"white\"});\nviewer_1649433664076566.zoomTo();\n\tviewer_1649433664076566.addModel(\"BRD4, Ligand 3\\n     RDKit          3D\\n\\n 28 30  0  0  1  0  0  0  0  0999 V2000\\n   -2.5980   -1.6620   17.4180 O   0  0  0  0  0  0  0  0  0  0  0  0\\n   -1.5620   -1.8410   16.7820 C   0  0  0  0  0  0  0  0  0  0  0  0\\n   -1.0610   -3.2230   16.6120 C   0  0  0  0  0  0  0  0  0  0  0  0\\n   -0.8630   -0.8230   16.2620 N   0  0  0  0  0  0  0  0  0  0  0  0\\n    0.3210   -0.9980   15.4410 C   0  0  0  0  0  0  0  0  0  0  0  0\\n    1.5100   -1.5290   16.2010 C   0  0  0  0  0  0  0  0  0  0  0  0\\n    1.5040   -1.3380   17.5310 C   0  0  0  0  0  0  0  0  0  0  0  0\\n    0.7010    0.3120   14.7470 C   0  0  0  0  0  0  0  0  0  0  0  0\\n    1.9070    0.1900   13.8120 C   0  0  0  0  0  0  0  0  0  0  0  0\\n    2.0470   -1.1760   13.1630 C   0  0  0  0  0  0  0  0  0  0  0  0\\n    1.8890   -1.3140   11.7880 C   0  0  0  0  0  0  0  0  0  0  0  0\\n    2.0180   -2.5530   11.1740 C   0  0  0  0  0  0  0  0  0  0  0  0\\n    2.2970   -3.6630   11.9290 C   0  0  0  0  0  0  0  0  0  0  0  0\\n    2.4760   -3.5350   13.2870 C   0  0  0  0  0  0  0  0  0  0  0  0\\n    2.7490   -4.6590   14.0140 O   0  0  0  0  0  0  0  0  0  0  0  0\\n    1.7330   -5.1660   14.8800 C   0  0  0  0  0  0  0  0  0  0  0  0\\n    2.4860   -4.8720   11.3240 O   0  0  0  0  0  0  0  0  0  0  0  0\\n    1.4570   -5.8030   11.2690 C   0  0  0  0  0  0  0  0  0  0  0  0\\n    1.8780   -2.7410    9.8250 O   0  0  0  0  0  0  0  0  0  0  0  0\\n    1.5630   -1.6740    8.9450 C   0  0  0  0  0  0  0  0  0  0  0  0\\n    2.3450   -2.2940   13.9160 C   0  0  0  0  0  0  0  0  0  0  0  0\\n    2.5380   -2.1990   15.4060 C   0  0  0  0  0  0  0  0  0  0  0  0\\n    3.6970   -2.7550   15.8300 C   0  0  0  0  0  0  0  0  0  0  0  0\\n    4.2500   -2.8990   17.1550 C   0  0  0  0  0  0  0  0  0  0  0  0\\n    3.7300   -2.4760   18.3070 C   0  0  0  0  0  0  0  0  0  0  0  0\\n    2.4870   -1.7540   18.5270 C   0  0  0  0  0  0  0  0  0  0  0  0\\n    2.2110   -1.4770   19.6910 O   0  0  0  0  0  0  0  0  0  0  0  0\\n    4.4140   -2.7540   19.3990 O   0  0  0  0  0  0  0  0  0  0  0  0\\n  1  2  2  0\\n  2  3  1  0\\n  2  4  1  0\\n  4  5  1  0\\n  5  6  1  0\\n  5  8  1  0\\n  6  7  2  0\\n  6 22  1  0\\n  7 26  1  0\\n  8  9  1  0\\n  9 10  1  0\\n 10 11  1  0\\n 10 21  2  0\\n 11 12  2  0\\n 12 13  1  0\\n 12 19  1  0\\n 13 14  2  0\\n 13 17  1  0\\n 14 15  1  0\\n 14 21  1  0\\n 15 16  1  0\\n 17 18  1  0\\n 19 20  1  0\\n 21 22  1  0\\n 22 23  2  0\\n 23 24  1  0\\n 24 25  2  0\\n 25 26  1  0\\n 25 28  1  0\\n 26 27  2  0\\nM  END\\n\",\"sdf\");\n\tviewer_1649433664076566.addModel(\"BRD4, Ligand 3\\n     RDKit          3D\\n\\n 17 19  0  0  1  0  0  0  0  0999 V2000\\n    2.6465   -4.1318   15.7097 C   0  0  0  0  0  0  0  0  0  0  0  0\\n    2.4646   -3.4490   14.3778 C   0  0  0  0  0  0  0  0  0  0  0  0\\n    2.6132   -4.2179   13.2859 C   0  0  0  0  0  0  0  0  0  0  0  0\\n    4.0271   -3.7903   16.2752 C   0  0  0  0  0  0  0  0  0  0  0  0\\n    4.2827   -2.2877   16.4189 C   0  0  0  0  0  0  0  0  0  0  0  0\\n    3.0322   -1.4754   16.7070 C   0  0  0  0  0  0  0  0  0  0  0  0\\n    2.8879   -0.8276   17.9294 C   0  0  0  0  0  0  0  0  0  0  0  0\\n    1.7549   -0.0754   18.2110 C   0  0  0  0  0  0  0  0  0  0  0  0\\n    0.7554    0.0280   17.2781 C   0  0  0  0  0  0  0  0  0  0  0  0\\n    0.8966   -0.5912   16.0578 C   0  0  0  0  0  0  0  0  0  0  0  0\\n    2.0305   -1.3534   15.7648 C   0  0  0  0  0  0  0  0  0  0  0  0\\n    2.1410   -2.0239   14.4215 C   0  0  0  0  0  0  0  0  0  0  0  0\\n    1.9346   -1.1780   13.3850 C   0  0  0  0  0  0  0  0  0  0  0  0\\n    1.9248   -1.4092   11.9607 C   0  0  0  0  0  0  0  0  0  0  0  0\\n    2.1506   -2.5548   11.3180 C   0  0  0  0  0  0  0  0  0  0  0  0\\n    2.4757   -3.8569   11.8780 C   0  0  0  0  0  0  0  0  0  0  0  0\\n    2.6323   -4.7755   11.0784 O   0  0  0  0  0  0  0  0  0  0  0  0\\n  1  2  1  0\\n  1  4  1  0\\n  2  3  2  0\\n  2 12  1  0\\n  3 16  1  0\\n  4  5  1  0\\n  5  6  1  0\\n  6  7  1  0\\n  6 11  2  0\\n  7  8  2  0\\n  8  9  1  0\\n  9 10  2  0\\n 10 11  1  0\\n 11 12  1  0\\n 12 13  2  0\\n 13 14  1  0\\n 14 15  2  0\\n 15 16  1  0\\n 16 17  2  0\\nM  END\\n\",\"sdf\");\n\tviewer_1649433664076566.addModel(\"BRD4, Ligand 3\\n     RDKit          3D\\n\\n 17 19  0  0  1  0  0  0  0  0999 V2000\\n   14.8225   -2.6526    7.0670 C   0  0  0  0  0  0  0  0  0  0  0  0\\n   15.9205   -2.9824    6.0878 C   0  0  0  0  0  0  0  0  0  0  0  0\\n   17.1348   -3.2244    6.6096 C   0  0  0  0  0  0  0  0  0  0  0  0\\n   14.5694   -1.1432    7.0624 C   0  0  0  0  0  0  0  0  0  0  0  0\\n   14.2261   -0.5773    5.6820 C   0  0  0  0  0  0  0  0  0  0  0  0\\n   13.4919   -1.5551    4.7811 C   0  0  0  0  0  0  0  0  0  0  0  0\\n   12.1764   -1.3042    4.4056 C   0  0  0  0  0  0  0  0  0  0  0  0\\n   11.4887   -2.1826    3.5783 C   0  0  0  0  0  0  0  0  0  0  0  0\\n   12.1065   -3.3207    3.1277 C   0  0  0  0  0  0  0  0  0  0  0  0\\n   13.4142   -3.5686    3.4757 C   0  0  0  0  0  0  0  0  0  0  0  0\\n   14.1147   -2.6937    4.3103 C   0  0  0  0  0  0  0  0  0  0  0  0\\n   15.5409   -3.0075    4.6761 C   0  0  0  0  0  0  0  0  0  0  0  0\\n   16.3225   -3.2654    3.6014 C   0  0  0  0  0  0  0  0  0  0  0  0\\n   17.7163   -3.6270    3.5082 C   0  0  0  0  0  0  0  0  0  0  0  0\\n   18.5907   -3.7708    4.5038 C   0  0  0  0  0  0  0  0  0  0  0  0\\n   18.3743   -3.5902    5.9305 C   0  0  0  0  0  0  0  0  0  0  0  0\\n   19.3397   -3.7904    6.6624 O   0  0  0  0  0  0  0  0  0  0  0  0\\n  1  2  1  0\\n  1  4  1  0\\n  2  3  2  0\\n  2 12  1  0\\n  3 16  1  0\\n  4  5  1  0\\n  5  6  1  0\\n  6  7  1  0\\n  6 11  2  0\\n  7  8  2  0\\n  8  9  1  0\\n  9 10  2  0\\n 10 11  1  0\\n 11 12  1  0\\n 12 13  2  0\\n 13 14  1  0\\n 14 15  2  0\\n 15 16  1  0\\n 16 17  2  0\\nM  END\\n\",\"sdf\");\n\tviewer_1649433664076566.setStyle({\"model\": 0},{\"stick\": {\"colorscheme\": \"lightgreyCarbon\"}});\n\tviewer_1649433664076566.setStyle({\"model\": 1},{\"stick\": {\"colorscheme\": \"purpleCarbon\"}});\n\tviewer_1649433664076566.setStyle({\"model\": 2},{\"stick\": {\"colorscheme\": \"greyCarbon\"}});\n\tviewer_1649433664076566.zoomTo();\nviewer_1649433664076566.render();\n});\n</script>",
      "text/html": [
       "<div id=\"3dmolviewer_1649433664076566\"  style=\"position: relative; width: 640px; height: 480px\">\n",
       "        <p id=\"3dmolwarning_1649433664076566\" style=\"background-color:#ffcccc;color:black\">You appear to be running in JupyterLab (or JavaScript failed to load for some other reason).  You need to install the 3dmol extension: <br>\n",
       "        <tt>jupyter labextension install jupyterlab_3dmol</tt></p>\n",
       "        </div>\n",
       "<script>\n",
       "\n",
       "var loadScriptAsync = function(uri){\n",
       "  return new Promise((resolve, reject) => {\n",
       "    var tag = document.createElement('script');\n",
       "    tag.src = uri;\n",
       "    tag.async = true;\n",
       "    tag.onload = () => {\n",
       "      resolve();\n",
       "    };\n",
       "  var firstScriptTag = document.getElementsByTagName('script')[0];\n",
       "  firstScriptTag.parentNode.insertBefore(tag, firstScriptTag);\n",
       "});\n",
       "};\n",
       "\n",
       "if(typeof $3Dmolpromise === 'undefined') {\n",
       "$3Dmolpromise = null;\n",
       "  $3Dmolpromise = loadScriptAsync('https://3dmol.org/build/3Dmol.js');\n",
       "}\n",
       "\n",
       "var viewer_1649433664076566 = null;\n",
       "var warn = document.getElementById(\"3dmolwarning_1649433664076566\");\n",
       "if(warn) {\n",
       "    warn.parentNode.removeChild(warn);\n",
       "}\n",
       "$3Dmolpromise.then(function() {\n",
       "viewer_1649433664076566 = $3Dmol.createViewer($(\"#3dmolviewer_1649433664076566\"),{backgroundColor:\"white\"});\n",
       "viewer_1649433664076566.zoomTo();\n",
       "\tviewer_1649433664076566.addModel(\"BRD4, Ligand 3\\n     RDKit          3D\\n\\n 28 30  0  0  1  0  0  0  0  0999 V2000\\n   -2.5980   -1.6620   17.4180 O   0  0  0  0  0  0  0  0  0  0  0  0\\n   -1.5620   -1.8410   16.7820 C   0  0  0  0  0  0  0  0  0  0  0  0\\n   -1.0610   -3.2230   16.6120 C   0  0  0  0  0  0  0  0  0  0  0  0\\n   -0.8630   -0.8230   16.2620 N   0  0  0  0  0  0  0  0  0  0  0  0\\n    0.3210   -0.9980   15.4410 C   0  0  0  0  0  0  0  0  0  0  0  0\\n    1.5100   -1.5290   16.2010 C   0  0  0  0  0  0  0  0  0  0  0  0\\n    1.5040   -1.3380   17.5310 C   0  0  0  0  0  0  0  0  0  0  0  0\\n    0.7010    0.3120   14.7470 C   0  0  0  0  0  0  0  0  0  0  0  0\\n    1.9070    0.1900   13.8120 C   0  0  0  0  0  0  0  0  0  0  0  0\\n    2.0470   -1.1760   13.1630 C   0  0  0  0  0  0  0  0  0  0  0  0\\n    1.8890   -1.3140   11.7880 C   0  0  0  0  0  0  0  0  0  0  0  0\\n    2.0180   -2.5530   11.1740 C   0  0  0  0  0  0  0  0  0  0  0  0\\n    2.2970   -3.6630   11.9290 C   0  0  0  0  0  0  0  0  0  0  0  0\\n    2.4760   -3.5350   13.2870 C   0  0  0  0  0  0  0  0  0  0  0  0\\n    2.7490   -4.6590   14.0140 O   0  0  0  0  0  0  0  0  0  0  0  0\\n    1.7330   -5.1660   14.8800 C   0  0  0  0  0  0  0  0  0  0  0  0\\n    2.4860   -4.8720   11.3240 O   0  0  0  0  0  0  0  0  0  0  0  0\\n    1.4570   -5.8030   11.2690 C   0  0  0  0  0  0  0  0  0  0  0  0\\n    1.8780   -2.7410    9.8250 O   0  0  0  0  0  0  0  0  0  0  0  0\\n    1.5630   -1.6740    8.9450 C   0  0  0  0  0  0  0  0  0  0  0  0\\n    2.3450   -2.2940   13.9160 C   0  0  0  0  0  0  0  0  0  0  0  0\\n    2.5380   -2.1990   15.4060 C   0  0  0  0  0  0  0  0  0  0  0  0\\n    3.6970   -2.7550   15.8300 C   0  0  0  0  0  0  0  0  0  0  0  0\\n    4.2500   -2.8990   17.1550 C   0  0  0  0  0  0  0  0  0  0  0  0\\n    3.7300   -2.4760   18.3070 C   0  0  0  0  0  0  0  0  0  0  0  0\\n    2.4870   -1.7540   18.5270 C   0  0  0  0  0  0  0  0  0  0  0  0\\n    2.2110   -1.4770   19.6910 O   0  0  0  0  0  0  0  0  0  0  0  0\\n    4.4140   -2.7540   19.3990 O   0  0  0  0  0  0  0  0  0  0  0  0\\n  1  2  2  0\\n  2  3  1  0\\n  2  4  1  0\\n  4  5  1  0\\n  5  6  1  0\\n  5  8  1  0\\n  6  7  2  0\\n  6 22  1  0\\n  7 26  1  0\\n  8  9  1  0\\n  9 10  1  0\\n 10 11  1  0\\n 10 21  2  0\\n 11 12  2  0\\n 12 13  1  0\\n 12 19  1  0\\n 13 14  2  0\\n 13 17  1  0\\n 14 15  1  0\\n 14 21  1  0\\n 15 16  1  0\\n 17 18  1  0\\n 19 20  1  0\\n 21 22  1  0\\n 22 23  2  0\\n 23 24  1  0\\n 24 25  2  0\\n 25 26  1  0\\n 25 28  1  0\\n 26 27  2  0\\nM  END\\n\",\"sdf\");\n",
       "\tviewer_1649433664076566.addModel(\"BRD4, Ligand 3\\n     RDKit          3D\\n\\n 17 19  0  0  1  0  0  0  0  0999 V2000\\n    2.6465   -4.1318   15.7097 C   0  0  0  0  0  0  0  0  0  0  0  0\\n    2.4646   -3.4490   14.3778 C   0  0  0  0  0  0  0  0  0  0  0  0\\n    2.6132   -4.2179   13.2859 C   0  0  0  0  0  0  0  0  0  0  0  0\\n    4.0271   -3.7903   16.2752 C   0  0  0  0  0  0  0  0  0  0  0  0\\n    4.2827   -2.2877   16.4189 C   0  0  0  0  0  0  0  0  0  0  0  0\\n    3.0322   -1.4754   16.7070 C   0  0  0  0  0  0  0  0  0  0  0  0\\n    2.8879   -0.8276   17.9294 C   0  0  0  0  0  0  0  0  0  0  0  0\\n    1.7549   -0.0754   18.2110 C   0  0  0  0  0  0  0  0  0  0  0  0\\n    0.7554    0.0280   17.2781 C   0  0  0  0  0  0  0  0  0  0  0  0\\n    0.8966   -0.5912   16.0578 C   0  0  0  0  0  0  0  0  0  0  0  0\\n    2.0305   -1.3534   15.7648 C   0  0  0  0  0  0  0  0  0  0  0  0\\n    2.1410   -2.0239   14.4215 C   0  0  0  0  0  0  0  0  0  0  0  0\\n    1.9346   -1.1780   13.3850 C   0  0  0  0  0  0  0  0  0  0  0  0\\n    1.9248   -1.4092   11.9607 C   0  0  0  0  0  0  0  0  0  0  0  0\\n    2.1506   -2.5548   11.3180 C   0  0  0  0  0  0  0  0  0  0  0  0\\n    2.4757   -3.8569   11.8780 C   0  0  0  0  0  0  0  0  0  0  0  0\\n    2.6323   -4.7755   11.0784 O   0  0  0  0  0  0  0  0  0  0  0  0\\n  1  2  1  0\\n  1  4  1  0\\n  2  3  2  0\\n  2 12  1  0\\n  3 16  1  0\\n  4  5  1  0\\n  5  6  1  0\\n  6  7  1  0\\n  6 11  2  0\\n  7  8  2  0\\n  8  9  1  0\\n  9 10  2  0\\n 10 11  1  0\\n 11 12  1  0\\n 12 13  2  0\\n 13 14  1  0\\n 14 15  2  0\\n 15 16  1  0\\n 16 17  2  0\\nM  END\\n\",\"sdf\");\n",
       "\tviewer_1649433664076566.addModel(\"BRD4, Ligand 3\\n     RDKit          3D\\n\\n 17 19  0  0  1  0  0  0  0  0999 V2000\\n   14.8225   -2.6526    7.0670 C   0  0  0  0  0  0  0  0  0  0  0  0\\n   15.9205   -2.9824    6.0878 C   0  0  0  0  0  0  0  0  0  0  0  0\\n   17.1348   -3.2244    6.6096 C   0  0  0  0  0  0  0  0  0  0  0  0\\n   14.5694   -1.1432    7.0624 C   0  0  0  0  0  0  0  0  0  0  0  0\\n   14.2261   -0.5773    5.6820 C   0  0  0  0  0  0  0  0  0  0  0  0\\n   13.4919   -1.5551    4.7811 C   0  0  0  0  0  0  0  0  0  0  0  0\\n   12.1764   -1.3042    4.4056 C   0  0  0  0  0  0  0  0  0  0  0  0\\n   11.4887   -2.1826    3.5783 C   0  0  0  0  0  0  0  0  0  0  0  0\\n   12.1065   -3.3207    3.1277 C   0  0  0  0  0  0  0  0  0  0  0  0\\n   13.4142   -3.5686    3.4757 C   0  0  0  0  0  0  0  0  0  0  0  0\\n   14.1147   -2.6937    4.3103 C   0  0  0  0  0  0  0  0  0  0  0  0\\n   15.5409   -3.0075    4.6761 C   0  0  0  0  0  0  0  0  0  0  0  0\\n   16.3225   -3.2654    3.6014 C   0  0  0  0  0  0  0  0  0  0  0  0\\n   17.7163   -3.6270    3.5082 C   0  0  0  0  0  0  0  0  0  0  0  0\\n   18.5907   -3.7708    4.5038 C   0  0  0  0  0  0  0  0  0  0  0  0\\n   18.3743   -3.5902    5.9305 C   0  0  0  0  0  0  0  0  0  0  0  0\\n   19.3397   -3.7904    6.6624 O   0  0  0  0  0  0  0  0  0  0  0  0\\n  1  2  1  0\\n  1  4  1  0\\n  2  3  2  0\\n  2 12  1  0\\n  3 16  1  0\\n  4  5  1  0\\n  5  6  1  0\\n  6  7  1  0\\n  6 11  2  0\\n  7  8  2  0\\n  8  9  1  0\\n  9 10  2  0\\n 10 11  1  0\\n 11 12  1  0\\n 12 13  2  0\\n 13 14  1  0\\n 14 15  2  0\\n 15 16  1  0\\n 16 17  2  0\\nM  END\\n\",\"sdf\");\n",
       "\tviewer_1649433664076566.setStyle({\"model\": 0},{\"stick\": {\"colorscheme\": \"lightgreyCarbon\"}});\n",
       "\tviewer_1649433664076566.setStyle({\"model\": 1},{\"stick\": {\"colorscheme\": \"purpleCarbon\"}});\n",
       "\tviewer_1649433664076566.setStyle({\"model\": 2},{\"stick\": {\"colorscheme\": \"greyCarbon\"}});\n",
       "\tviewer_1649433664076566.zoomTo();\n",
       "viewer_1649433664076566.render();\n",
       "});\n",
       "</script>"
      ]
     },
     "metadata": {},
     "output_type": "display_data"
    },
    {
     "data": {
      "text/plain": [
       "<py3Dmol.view at 0x7f230708e520>"
      ]
     },
     "metadata": {},
     "output_type": "display_data"
    },
    {
     "data": {
      "application/3dmoljs_load.v0": "<div id=\"3dmolviewer_1649433664082171\"  style=\"position: relative; width: 640px; height: 480px\">\n        <p id=\"3dmolwarning_1649433664082171\" style=\"background-color:#ffcccc;color:black\">You appear to be running in JupyterLab (or JavaScript failed to load for some other reason).  You need to install the 3dmol extension: <br>\n        <tt>jupyter labextension install jupyterlab_3dmol</tt></p>\n        </div>\n<script>\n\nvar loadScriptAsync = function(uri){\n  return new Promise((resolve, reject) => {\n    var tag = document.createElement('script');\n    tag.src = uri;\n    tag.async = true;\n    tag.onload = () => {\n      resolve();\n    };\n  var firstScriptTag = document.getElementsByTagName('script')[0];\n  firstScriptTag.parentNode.insertBefore(tag, firstScriptTag);\n});\n};\n\nif(typeof $3Dmolpromise === 'undefined') {\n$3Dmolpromise = null;\n  $3Dmolpromise = loadScriptAsync('https://3dmol.org/build/3Dmol.js');\n}\n\nvar viewer_1649433664082171 = null;\nvar warn = document.getElementById(\"3dmolwarning_1649433664082171\");\nif(warn) {\n    warn.parentNode.removeChild(warn);\n}\n$3Dmolpromise.then(function() {\nviewer_1649433664082171 = $3Dmol.createViewer($(\"#3dmolviewer_1649433664082171\"),{backgroundColor:\"white\"});\nviewer_1649433664082171.zoomTo();\n\tviewer_1649433664082171.addModel(\"BRD4, Ligand 6\\n     RDKit          3D\\n\\n 27 29  0  0  0  0  0  0  0  0999 V2000\\n    2.5440    1.0790   12.3730 O   0  0  0  0  0  0  0  0  0  0  0  0\\n    2.6960    1.5850   13.7160 C   0  0  0  0  0  0  0  0  0  0  0  0\\n    2.5440   -0.3150   12.2440 C   0  0  0  0  0  0  0  0  0  0  0  0\\n    2.3270   -0.8650   10.9970 C   0  0  0  0  0  0  0  0  0  0  0  0\\n    2.2710   -2.2500   10.8730 C   0  0  0  0  0  0  0  0  0  0  0  0\\n    2.5640   -5.2610   13.0620 N   0  0  0  0  0  0  0  0  0  0  0  0\\n    1.5670   -1.9880    8.4960 C   0  0  0  0  0  0  0  0  0  0  0  0\\n    2.0400   -2.8230    9.6390 O   0  0  0  0  0  0  0  0  0  0  0  0\\n    2.4560   -3.0890   11.9740 C   0  0  0  0  0  0  0  0  0  0  0  0\\n    4.2340   -7.9140   18.6430 O   0  0  0  0  0  0  0  0  0  0  0  0\\n    2.8670   -3.2920   14.4230 N   0  0  0  0  0  0  0  0  0  0  0  0\\n    2.3840   -4.5480   11.8210 C   0  0  0  0  0  0  0  0  0  0  0  0\\n    2.7770   -4.6200   14.2770 C   0  0  0  0  0  0  0  0  0  0  0  0\\n    6.1530   -9.4750   20.2080 O   0  0  0  0  0  0  0  0  0  0  0  0\\n    2.2030   -5.2120   10.7900 O   0  0  0  0  0  0  0  0  0  0  0  0\\n    3.0080   -5.4910   15.5000 C   0  0  0  0  0  0  0  0  0  0  0  0\\n    3.2760   -6.8410   15.3030 C   0  0  0  0  0  0  0  0  0  0  0  0\\n    3.6340   -7.6610   16.3800 C   0  0  0  0  0  0  0  0  0  0  0  0\\n    3.9320   -9.1210   16.1180 C   0  0  0  0  0  0  0  0  0  0  0  0\\n    3.7410   -7.1070   17.6250 C   0  0  0  0  0  0  0  0  0  0  0  0\\n    5.6580   -7.7100   18.7820 C   0  0  0  0  0  0  0  0  0  0  0  0\\n    6.2500   -9.1430   18.8430 C   0  0  0  0  0  0  0  0  0  0  0  0\\n    3.4820   -5.7410   17.8840 C   0  0  0  0  0  0  0  0  0  0  0  0\\n    3.6820   -5.1610   19.2650 C   0  0  0  0  0  0  0  0  0  0  0  0\\n    3.0890   -4.9160   16.8020 C   0  0  0  0  0  0  0  0  0  0  0  0\\n    2.7030   -2.5300   13.2410 C   0  0  0  0  0  0  0  0  0  0  0  0\\n    2.7640   -1.1260   13.3960 C   0  0  0  0  0  0  0  0  0  0  0  0\\n  1  2  1  0\\n  1  3  1  0\\n  3  4  2  0\\n  3 27  1  0\\n  4  5  1  0\\n  5  8  1  0\\n  5  9  2  0\\n  6 12  1  0\\n  6 13  1  0\\n  7  8  1  0\\n  9 12  1  0\\n  9 26  1  0\\n 10 20  1  0\\n 10 21  1  0\\n 11 13  2  0\\n 11 26  1  0\\n 12 15  2  0\\n 13 16  1  0\\n 14 22  1  0\\n 16 17  2  0\\n 16 25  1  0\\n 17 18  1  0\\n 18 19  1  0\\n 18 20  2  0\\n 20 23  1  0\\n 21 22  1  0\\n 23 24  1  0\\n 23 25  2  0\\n 26 27  2  0\\nM  END\\n\",\"sdf\");\n\tviewer_1649433664082171.addModel(\"BRD4, Ligand 6\\n     RDKit          3D\\n\\n 17 19  0  0  0  0  0  0  0  0999 V2000\\n    3.5616   -7.7899   15.8093 C   0  0  0  0  0  0  0  0  0  0  0  0\\n    3.6578   -7.1723   17.0398 C   0  0  0  0  0  0  0  0  0  0  0  0\\n    3.4685   -5.7958   17.1182 C   0  0  0  0  0  0  0  0  0  0  0  0\\n    2.7193   -2.9475   14.8227 N   0  0  0  0  0  0  0  0  0  0  0  0\\n    3.2117   -5.0287   15.9798 C   0  0  0  0  0  0  0  0  0  0  0  0\\n    2.8480   -4.9713   13.5156 N   0  0  0  0  0  0  0  0  0  0  0  0\\n    3.0066   -3.5784   16.0878 C   0  0  0  0  0  0  0  0  0  0  0  0\\n    2.6402   -3.6532   13.6278 C   0  0  0  0  0  0  0  0  0  0  0  0\\n    3.0584   -2.8604   17.0970 O   0  0  0  0  0  0  0  0  0  0  0  0\\n    2.3867   -2.8588   12.3579 C   0  0  0  0  0  0  0  0  0  0  0  0\\n    2.5301   -1.4769   12.4088 C   0  0  0  0  0  0  0  0  0  0  0  0\\n    2.4467   -0.7082   11.2414 C   0  0  0  0  0  0  0  0  0  0  0  0\\n    2.2475   -1.3415   10.0465 C   0  0  0  0  0  0  0  0  0  0  0  0\\n    2.0962   -2.7432    9.9346 C   0  0  0  0  0  0  0  0  0  0  0  0\\n    2.1486   -3.5200   11.1175 C   0  0  0  0  0  0  0  0  0  0  0  0\\n    3.1391   -5.6536   14.7217 C   0  0  0  0  0  0  0  0  0  0  0  0\\n    3.3264   -7.0508   14.6129 C   0  0  0  0  0  0  0  0  0  0  0  0\\n  1  2  2  0\\n  1 17  1  0\\n  2  3  1  0\\n  3  5  2  0\\n  4  7  1  0\\n  4  8  1  0\\n  5  7  1  0\\n  5 16  1  0\\n  6  8  2  0\\n  6 16  1  0\\n  7  9  2  0\\n  8 10  1  0\\n 10 11  2  0\\n 10 15  1  0\\n 11 12  1  0\\n 12 13  2  0\\n 13 14  1  0\\n 14 15  2  0\\n 16 17  2  0\\nM  END\\n\",\"sdf\");\n\tviewer_1649433664082171.addModel(\"BRD4, Ligand 6\\n     RDKit          3D\\n\\n 17 19  0  0  0  0  0  0  0  0999 V2000\\n   12.3988    3.8074    8.9929 C   0  0  0  0  0  0  0  0  0  0  0  0\\n   11.6076    3.7505    7.8635 C   0  0  0  0  0  0  0  0  0  0  0  0\\n   12.1427    4.1600    6.6459 C   0  0  0  0  0  0  0  0  0  0  0  0\\n   15.3633    5.5148    5.3284 N   0  0  0  0  0  0  0  0  0  0  0  0\\n   13.4471    4.6496    6.5500 C   0  0  0  0  0  0  0  0  0  0  0  0\\n   15.5895    5.1787    7.7068 N   0  0  0  0  0  0  0  0  0  0  0  0\\n   13.9938    5.0680    5.2526 C   0  0  0  0  0  0  0  0  0  0  0  0\\n   16.0859    5.5363    6.5157 C   0  0  0  0  0  0  0  0  0  0  0  0\\n   13.4355    5.0899    4.1461 O   0  0  0  0  0  0  0  0  0  0  0  0\\n   17.5022    6.0837    6.4666 C   0  0  0  0  0  0  0  0  0  0  0  0\\n   17.8960    6.7841    5.3320 C   0  0  0  0  0  0  0  0  0  0  0  0\\n   19.1378    7.4295    5.2881 C   0  0  0  0  0  0  0  0  0  0  0  0\\n   19.9464    7.3814    6.3892 C   0  0  0  0  0  0  0  0  0  0  0  0\\n   19.5974    6.6859    7.5701 C   0  0  0  0  0  0  0  0  0  0  0  0\\n   18.3557    6.0058    7.6058 C   0  0  0  0  0  0  0  0  0  0  0  0\\n   14.2458    4.7323    7.7050 C   0  0  0  0  0  0  0  0  0  0  0  0\\n   13.7280    4.3221    8.9551 C   0  0  0  0  0  0  0  0  0  0  0  0\\n  1  2  2  0\\n  1 17  1  0\\n  2  3  1  0\\n  3  5  2  0\\n  4  7  1  0\\n  4  8  1  0\\n  5  7  1  0\\n  5 16  1  0\\n  6  8  2  0\\n  6 16  1  0\\n  7  9  2  0\\n  8 10  1  0\\n 10 11  2  0\\n 10 15  1  0\\n 11 12  1  0\\n 12 13  2  0\\n 13 14  1  0\\n 14 15  2  0\\n 16 17  2  0\\nM  END\\n\",\"sdf\");\n\tviewer_1649433664082171.setStyle({\"model\": 0},{\"stick\": {\"colorscheme\": \"lightgreyCarbon\"}});\n\tviewer_1649433664082171.setStyle({\"model\": 1},{\"stick\": {\"colorscheme\": \"purpleCarbon\"}});\n\tviewer_1649433664082171.setStyle({\"model\": 2},{\"stick\": {\"colorscheme\": \"greyCarbon\"}});\n\tviewer_1649433664082171.zoomTo();\nviewer_1649433664082171.render();\n});\n</script>",
      "text/html": [
       "<div id=\"3dmolviewer_1649433664082171\"  style=\"position: relative; width: 640px; height: 480px\">\n",
       "        <p id=\"3dmolwarning_1649433664082171\" style=\"background-color:#ffcccc;color:black\">You appear to be running in JupyterLab (or JavaScript failed to load for some other reason).  You need to install the 3dmol extension: <br>\n",
       "        <tt>jupyter labextension install jupyterlab_3dmol</tt></p>\n",
       "        </div>\n",
       "<script>\n",
       "\n",
       "var loadScriptAsync = function(uri){\n",
       "  return new Promise((resolve, reject) => {\n",
       "    var tag = document.createElement('script');\n",
       "    tag.src = uri;\n",
       "    tag.async = true;\n",
       "    tag.onload = () => {\n",
       "      resolve();\n",
       "    };\n",
       "  var firstScriptTag = document.getElementsByTagName('script')[0];\n",
       "  firstScriptTag.parentNode.insertBefore(tag, firstScriptTag);\n",
       "});\n",
       "};\n",
       "\n",
       "if(typeof $3Dmolpromise === 'undefined') {\n",
       "$3Dmolpromise = null;\n",
       "  $3Dmolpromise = loadScriptAsync('https://3dmol.org/build/3Dmol.js');\n",
       "}\n",
       "\n",
       "var viewer_1649433664082171 = null;\n",
       "var warn = document.getElementById(\"3dmolwarning_1649433664082171\");\n",
       "if(warn) {\n",
       "    warn.parentNode.removeChild(warn);\n",
       "}\n",
       "$3Dmolpromise.then(function() {\n",
       "viewer_1649433664082171 = $3Dmol.createViewer($(\"#3dmolviewer_1649433664082171\"),{backgroundColor:\"white\"});\n",
       "viewer_1649433664082171.zoomTo();\n",
       "\tviewer_1649433664082171.addModel(\"BRD4, Ligand 6\\n     RDKit          3D\\n\\n 27 29  0  0  0  0  0  0  0  0999 V2000\\n    2.5440    1.0790   12.3730 O   0  0  0  0  0  0  0  0  0  0  0  0\\n    2.6960    1.5850   13.7160 C   0  0  0  0  0  0  0  0  0  0  0  0\\n    2.5440   -0.3150   12.2440 C   0  0  0  0  0  0  0  0  0  0  0  0\\n    2.3270   -0.8650   10.9970 C   0  0  0  0  0  0  0  0  0  0  0  0\\n    2.2710   -2.2500   10.8730 C   0  0  0  0  0  0  0  0  0  0  0  0\\n    2.5640   -5.2610   13.0620 N   0  0  0  0  0  0  0  0  0  0  0  0\\n    1.5670   -1.9880    8.4960 C   0  0  0  0  0  0  0  0  0  0  0  0\\n    2.0400   -2.8230    9.6390 O   0  0  0  0  0  0  0  0  0  0  0  0\\n    2.4560   -3.0890   11.9740 C   0  0  0  0  0  0  0  0  0  0  0  0\\n    4.2340   -7.9140   18.6430 O   0  0  0  0  0  0  0  0  0  0  0  0\\n    2.8670   -3.2920   14.4230 N   0  0  0  0  0  0  0  0  0  0  0  0\\n    2.3840   -4.5480   11.8210 C   0  0  0  0  0  0  0  0  0  0  0  0\\n    2.7770   -4.6200   14.2770 C   0  0  0  0  0  0  0  0  0  0  0  0\\n    6.1530   -9.4750   20.2080 O   0  0  0  0  0  0  0  0  0  0  0  0\\n    2.2030   -5.2120   10.7900 O   0  0  0  0  0  0  0  0  0  0  0  0\\n    3.0080   -5.4910   15.5000 C   0  0  0  0  0  0  0  0  0  0  0  0\\n    3.2760   -6.8410   15.3030 C   0  0  0  0  0  0  0  0  0  0  0  0\\n    3.6340   -7.6610   16.3800 C   0  0  0  0  0  0  0  0  0  0  0  0\\n    3.9320   -9.1210   16.1180 C   0  0  0  0  0  0  0  0  0  0  0  0\\n    3.7410   -7.1070   17.6250 C   0  0  0  0  0  0  0  0  0  0  0  0\\n    5.6580   -7.7100   18.7820 C   0  0  0  0  0  0  0  0  0  0  0  0\\n    6.2500   -9.1430   18.8430 C   0  0  0  0  0  0  0  0  0  0  0  0\\n    3.4820   -5.7410   17.8840 C   0  0  0  0  0  0  0  0  0  0  0  0\\n    3.6820   -5.1610   19.2650 C   0  0  0  0  0  0  0  0  0  0  0  0\\n    3.0890   -4.9160   16.8020 C   0  0  0  0  0  0  0  0  0  0  0  0\\n    2.7030   -2.5300   13.2410 C   0  0  0  0  0  0  0  0  0  0  0  0\\n    2.7640   -1.1260   13.3960 C   0  0  0  0  0  0  0  0  0  0  0  0\\n  1  2  1  0\\n  1  3  1  0\\n  3  4  2  0\\n  3 27  1  0\\n  4  5  1  0\\n  5  8  1  0\\n  5  9  2  0\\n  6 12  1  0\\n  6 13  1  0\\n  7  8  1  0\\n  9 12  1  0\\n  9 26  1  0\\n 10 20  1  0\\n 10 21  1  0\\n 11 13  2  0\\n 11 26  1  0\\n 12 15  2  0\\n 13 16  1  0\\n 14 22  1  0\\n 16 17  2  0\\n 16 25  1  0\\n 17 18  1  0\\n 18 19  1  0\\n 18 20  2  0\\n 20 23  1  0\\n 21 22  1  0\\n 23 24  1  0\\n 23 25  2  0\\n 26 27  2  0\\nM  END\\n\",\"sdf\");\n",
       "\tviewer_1649433664082171.addModel(\"BRD4, Ligand 6\\n     RDKit          3D\\n\\n 17 19  0  0  0  0  0  0  0  0999 V2000\\n    3.5616   -7.7899   15.8093 C   0  0  0  0  0  0  0  0  0  0  0  0\\n    3.6578   -7.1723   17.0398 C   0  0  0  0  0  0  0  0  0  0  0  0\\n    3.4685   -5.7958   17.1182 C   0  0  0  0  0  0  0  0  0  0  0  0\\n    2.7193   -2.9475   14.8227 N   0  0  0  0  0  0  0  0  0  0  0  0\\n    3.2117   -5.0287   15.9798 C   0  0  0  0  0  0  0  0  0  0  0  0\\n    2.8480   -4.9713   13.5156 N   0  0  0  0  0  0  0  0  0  0  0  0\\n    3.0066   -3.5784   16.0878 C   0  0  0  0  0  0  0  0  0  0  0  0\\n    2.6402   -3.6532   13.6278 C   0  0  0  0  0  0  0  0  0  0  0  0\\n    3.0584   -2.8604   17.0970 O   0  0  0  0  0  0  0  0  0  0  0  0\\n    2.3867   -2.8588   12.3579 C   0  0  0  0  0  0  0  0  0  0  0  0\\n    2.5301   -1.4769   12.4088 C   0  0  0  0  0  0  0  0  0  0  0  0\\n    2.4467   -0.7082   11.2414 C   0  0  0  0  0  0  0  0  0  0  0  0\\n    2.2475   -1.3415   10.0465 C   0  0  0  0  0  0  0  0  0  0  0  0\\n    2.0962   -2.7432    9.9346 C   0  0  0  0  0  0  0  0  0  0  0  0\\n    2.1486   -3.5200   11.1175 C   0  0  0  0  0  0  0  0  0  0  0  0\\n    3.1391   -5.6536   14.7217 C   0  0  0  0  0  0  0  0  0  0  0  0\\n    3.3264   -7.0508   14.6129 C   0  0  0  0  0  0  0  0  0  0  0  0\\n  1  2  2  0\\n  1 17  1  0\\n  2  3  1  0\\n  3  5  2  0\\n  4  7  1  0\\n  4  8  1  0\\n  5  7  1  0\\n  5 16  1  0\\n  6  8  2  0\\n  6 16  1  0\\n  7  9  2  0\\n  8 10  1  0\\n 10 11  2  0\\n 10 15  1  0\\n 11 12  1  0\\n 12 13  2  0\\n 13 14  1  0\\n 14 15  2  0\\n 16 17  2  0\\nM  END\\n\",\"sdf\");\n",
       "\tviewer_1649433664082171.addModel(\"BRD4, Ligand 6\\n     RDKit          3D\\n\\n 17 19  0  0  0  0  0  0  0  0999 V2000\\n   12.3988    3.8074    8.9929 C   0  0  0  0  0  0  0  0  0  0  0  0\\n   11.6076    3.7505    7.8635 C   0  0  0  0  0  0  0  0  0  0  0  0\\n   12.1427    4.1600    6.6459 C   0  0  0  0  0  0  0  0  0  0  0  0\\n   15.3633    5.5148    5.3284 N   0  0  0  0  0  0  0  0  0  0  0  0\\n   13.4471    4.6496    6.5500 C   0  0  0  0  0  0  0  0  0  0  0  0\\n   15.5895    5.1787    7.7068 N   0  0  0  0  0  0  0  0  0  0  0  0\\n   13.9938    5.0680    5.2526 C   0  0  0  0  0  0  0  0  0  0  0  0\\n   16.0859    5.5363    6.5157 C   0  0  0  0  0  0  0  0  0  0  0  0\\n   13.4355    5.0899    4.1461 O   0  0  0  0  0  0  0  0  0  0  0  0\\n   17.5022    6.0837    6.4666 C   0  0  0  0  0  0  0  0  0  0  0  0\\n   17.8960    6.7841    5.3320 C   0  0  0  0  0  0  0  0  0  0  0  0\\n   19.1378    7.4295    5.2881 C   0  0  0  0  0  0  0  0  0  0  0  0\\n   19.9464    7.3814    6.3892 C   0  0  0  0  0  0  0  0  0  0  0  0\\n   19.5974    6.6859    7.5701 C   0  0  0  0  0  0  0  0  0  0  0  0\\n   18.3557    6.0058    7.6058 C   0  0  0  0  0  0  0  0  0  0  0  0\\n   14.2458    4.7323    7.7050 C   0  0  0  0  0  0  0  0  0  0  0  0\\n   13.7280    4.3221    8.9551 C   0  0  0  0  0  0  0  0  0  0  0  0\\n  1  2  2  0\\n  1 17  1  0\\n  2  3  1  0\\n  3  5  2  0\\n  4  7  1  0\\n  4  8  1  0\\n  5  7  1  0\\n  5 16  1  0\\n  6  8  2  0\\n  6 16  1  0\\n  7  9  2  0\\n  8 10  1  0\\n 10 11  2  0\\n 10 15  1  0\\n 11 12  1  0\\n 12 13  2  0\\n 13 14  1  0\\n 14 15  2  0\\n 16 17  2  0\\nM  END\\n\",\"sdf\");\n",
       "\tviewer_1649433664082171.setStyle({\"model\": 0},{\"stick\": {\"colorscheme\": \"lightgreyCarbon\"}});\n",
       "\tviewer_1649433664082171.setStyle({\"model\": 1},{\"stick\": {\"colorscheme\": \"purpleCarbon\"}});\n",
       "\tviewer_1649433664082171.setStyle({\"model\": 2},{\"stick\": {\"colorscheme\": \"greyCarbon\"}});\n",
       "\tviewer_1649433664082171.zoomTo();\n",
       "viewer_1649433664082171.render();\n",
       "});\n",
       "</script>"
      ]
     },
     "metadata": {},
     "output_type": "display_data"
    },
    {
     "data": {
      "text/plain": [
       "<py3Dmol.view at 0x7f230708e850>"
      ]
     },
     "metadata": {},
     "output_type": "display_data"
    }
   ],
   "source": [
    "for _, (i, lig) in df[df.RMSDf > rmsd_threshold][[\"idx\", \"lig\"]].iterrows():\n",
    "    p = show_scaffold(mols[i], tMSmols[i])\n",
    "\n",
    "    with Chem.SDWriter(f\"failed-{method}/{lig}_alignfail.sdf\") as w:\n",
    "        w.write(tMSmols[i], confId=1)\n",
    "\n",
    "    display(p)"
   ]
  },
  {
   "cell_type": "markdown",
   "metadata": {},
   "source": [
    "## CDK2 Inhibitors"
   ]
  },
  {
   "cell_type": "code",
   "execution_count": 17,
   "metadata": {},
   "outputs": [],
   "source": [
    "path = \"../ligands/CDK2\""
   ]
  },
  {
   "cell_type": "markdown",
   "metadata": {},
   "source": [
    "Loda original CDK2 inhibitors together with their point cloud representation (pre-computed):"
   ]
  },
  {
   "cell_type": "code",
   "execution_count": 18,
   "metadata": {},
   "outputs": [
    {
     "name": "stdout",
     "output_type": "stream",
     "text": [
      "['../ligands/CDK2/4ek4_B_1CK_molgrid.pcd', '../ligands/CDK2/4ek5_B_03K_molgrid.pcd', '../ligands/CDK2/4fkg_B_4CK_molgrid.pcd', '../ligands/CDK2/4fki_B_09K_molgrid.pcd', '../ligands/CDK2/4fkj_B_11K_molgrid.pcd', '../ligands/CDK2/3sw4_B_18K_molgrid.pcd', '../ligands/CDK2/3sw7_B_19K_molgrid.pcd', '../ligands/CDK2/4fko_B_20K_molgrid.pcd', '../ligands/CDK2/4fkp_B_LS5_molgrid.pcd', '../ligands/CDK2/4fkq_B_42K_molgrid.pcd', '../ligands/CDK2/4fkr_B_45K_molgrid.pcd', '../ligands/CDK2/4fks_B_46K_molgrid.pcd', '../ligands/CDK2/4fkt_B_48K_molgrid.pcd', '../ligands/CDK2/4fku_D_60K_molgrid.pcd', '../ligands/CDK2/4fkv_B_61K_molgrid.pcd', '../ligands/CDK2/4fkw_B_62K_molgrid.pcd']\n"
     ]
    }
   ],
   "source": [
    "files = []\n",
    "for f in os.listdir(path):\n",
    "    fname, ext = os.path.splitext(f)\n",
    "    if ext == \".pcd\" and method in f and not \"tran\" in f:\n",
    "        files.append(os.path.join(path, f))\n",
    "\n",
    "# Order ligands\n",
    "# This should make the three chemical series pop-up in the PCD fit\n",
    "names = {\n",
    "    \"4ek4_B_1CK\": \"CS1\",\n",
    "    \"4ek5_B_03K\": \"CS3\",\n",
    "    \"4fkg_B_4CK\": \"CS4\",\n",
    "    \"4fki_B_09K\": \"CS9\",\n",
    "    \"4fkj_B_11K\": \"CS11\",\n",
    "    \"3sw4_B_18K\": \"CS18\",\n",
    "    \"3sw7_B_19K\": \"CS19\",\n",
    "    \"4fko_B_20K\": \"CS20\",\n",
    "    \"4fkp_B_LS5\": \"CS241\",\n",
    "    \"4fkq_B_42K\": \"CS242\",\n",
    "    \"4fkr_B_45K\": \"CS245\",\n",
    "    \"4fks_B_46K\": \"CS246\",\n",
    "    \"4fkt_B_48K\": \"CS248\",\n",
    "    \"4fku_D_60K\": \"CS260\",\n",
    "    \"4fkv_B_61K\": \"CS261\",\n",
    "    \"4fkw_B_62K\": \"CS262\",\n",
    "}\n",
    "\n",
    "files.sort(\n",
    "    key=lambda f: int(\n",
    "        names[\n",
    "            os.path.splitext(os.path.basename(f))[0].replace(f\"_{method}\", \"\")\n",
    "        ].replace(\"CS\", \"\")\n",
    "    )\n",
    ")\n",
    "\n",
    "print(files)\n",
    "\n",
    "pcds = []\n",
    "mols = []\n",
    "for f in files:\n",
    "    pcd = o3d.io.read_point_cloud(f)\n",
    "    pcds.append(pcd)\n",
    "\n",
    "    s = Chem.SDMolSupplier(f.replace(\".pcd\", \".sdf\").replace(f\"_{method}\", \"\"))\n",
    "    mol = next(s)\n",
    "    mols.append(mol)"
   ]
  },
  {
   "cell_type": "markdown",
   "metadata": {},
   "source": [
    "Load original CDK2 Murcko scaffolds:"
   ]
  },
  {
   "cell_type": "code",
   "execution_count": 19,
   "metadata": {},
   "outputs": [
    {
     "name": "stdout",
     "output_type": "stream",
     "text": [
      "['../ligands/CDK2/4ek4_B_1CK_murcko.sdf', '../ligands/CDK2/4ek5_B_03K_murcko.sdf', '../ligands/CDK2/4fkg_B_4CK_murcko.sdf', '../ligands/CDK2/4fki_B_09K_murcko.sdf', '../ligands/CDK2/4fkj_B_11K_murcko.sdf', '../ligands/CDK2/3sw4_B_18K_murcko.sdf', '../ligands/CDK2/3sw7_B_19K_murcko.sdf', '../ligands/CDK2/4fko_B_20K_murcko.sdf', '../ligands/CDK2/4fkp_B_LS5_murcko.sdf', '../ligands/CDK2/4fkq_B_42K_murcko.sdf', '../ligands/CDK2/4fkr_B_45K_murcko.sdf', '../ligands/CDK2/4fks_B_46K_murcko.sdf', '../ligands/CDK2/4fkt_B_48K_murcko.sdf', '../ligands/CDK2/4fku_D_60K_murcko.sdf', '../ligands/CDK2/4fkv_B_61K_murcko.sdf', '../ligands/CDK2/4fkw_B_62K_murcko.sdf']\n"
     ]
    }
   ],
   "source": [
    "files = []\n",
    "for f in os.listdir(path):\n",
    "    fname, ext = os.path.splitext(f)\n",
    "    if ext == \".sdf\" and \"murcko\" in f and not \"tran\" in f:\n",
    "        files.append(os.path.join(path, f))\n",
    "\n",
    "# Order ligands\n",
    "# This should make the three chemical series pop-up in the PCD fit\n",
    "names = {\n",
    "    \"4ek4_B_1CK\": \"CS1\",\n",
    "    \"4ek5_B_03K\": \"CS3\",\n",
    "    \"4fkg_B_4CK\": \"CS4\",\n",
    "    \"4fki_B_09K\": \"CS9\",\n",
    "    \"4fkj_B_11K\": \"CS11\",\n",
    "    \"3sw4_B_18K\": \"CS18\",\n",
    "    \"3sw7_B_19K\": \"CS19\",\n",
    "    \"4fko_B_20K\": \"CS20\",\n",
    "    \"4fkp_B_LS5\": \"CS241\",\n",
    "    \"4fkq_B_42K\": \"CS242\",\n",
    "    \"4fkr_B_45K\": \"CS245\",\n",
    "    \"4fks_B_46K\": \"CS246\",\n",
    "    \"4fkt_B_48K\": \"CS248\",\n",
    "    \"4fku_D_60K\": \"CS260\",\n",
    "    \"4fkv_B_61K\": \"CS261\",\n",
    "    \"4fkw_B_62K\": \"CS262\",\n",
    "}\n",
    "\n",
    "files.sort(\n",
    "    key=lambda f: int(\n",
    "        names[os.path.splitext(os.path.basename(f))[0].replace(f\"_murcko\", \"\")].replace(\n",
    "            \"CS\", \"\"\n",
    "        )\n",
    "    )\n",
    ")\n",
    "\n",
    "print(files)\n",
    "\n",
    "MSmols = []\n",
    "for f in files:\n",
    "    s = Chem.SDMolSupplier(f.replace(\".pcd\", \".sdf\").replace(f\"_{method}\", \"\"))\n",
    "    mol = next(s)\n",
    "    MSmols.append(mol)"
   ]
  },
  {
   "cell_type": "markdown",
   "metadata": {},
   "source": [
    "Load translated and rotated CDK2 Murcko scaffolds with their point-cloud representation (pre-computed):"
   ]
  },
  {
   "cell_type": "code",
   "execution_count": 20,
   "metadata": {},
   "outputs": [
    {
     "name": "stdout",
     "output_type": "stream",
     "text": [
      "['../ligands/CDK2/4ek4_B_1CK_murcko_tran_molgrid.pcd', '../ligands/CDK2/4ek5_B_03K_murcko_tran_molgrid.pcd', '../ligands/CDK2/4fkg_B_4CK_murcko_tran_molgrid.pcd', '../ligands/CDK2/4fki_B_09K_murcko_tran_molgrid.pcd', '../ligands/CDK2/4fkj_B_11K_murcko_tran_molgrid.pcd', '../ligands/CDK2/3sw4_B_18K_murcko_tran_molgrid.pcd', '../ligands/CDK2/3sw7_B_19K_murcko_tran_molgrid.pcd', '../ligands/CDK2/4fko_B_20K_murcko_tran_molgrid.pcd', '../ligands/CDK2/4fkp_B_LS5_murcko_tran_molgrid.pcd', '../ligands/CDK2/4fkq_B_42K_murcko_tran_molgrid.pcd', '../ligands/CDK2/4fkr_B_45K_murcko_tran_molgrid.pcd', '../ligands/CDK2/4fks_B_46K_murcko_tran_molgrid.pcd', '../ligands/CDK2/4fkt_B_48K_murcko_tran_molgrid.pcd', '../ligands/CDK2/4fku_D_60K_murcko_tran_molgrid.pcd', '../ligands/CDK2/4fkv_B_61K_murcko_tran_molgrid.pcd', '../ligands/CDK2/4fkw_B_62K_murcko_tran_molgrid.pcd']\n"
     ]
    }
   ],
   "source": [
    "files = []\n",
    "for f in os.listdir(path):\n",
    "    fname, ext = os.path.splitext(f)\n",
    "    if ext == \".pcd\" and f\"_murcko_tran_{method}\" in fname:\n",
    "        files.append(os.path.join(path, f))\n",
    "\n",
    "# Order ligands\n",
    "# This should make the three chemical series pop-up in the PCD fit\n",
    "names = {\n",
    "    \"4ek4_B_1CK\": \"CS1\",\n",
    "    \"4ek5_B_03K\": \"CS3\",\n",
    "    \"4fkg_B_4CK\": \"CS4\",\n",
    "    \"4fki_B_09K\": \"CS9\",\n",
    "    \"4fkj_B_11K\": \"CS11\",\n",
    "    \"3sw4_B_18K\": \"CS18\",\n",
    "    \"3sw7_B_19K\": \"CS19\",\n",
    "    \"4fko_B_20K\": \"CS20\",\n",
    "    \"4fkp_B_LS5\": \"CS241\",\n",
    "    \"4fkq_B_42K\": \"CS242\",\n",
    "    \"4fkr_B_45K\": \"CS245\",\n",
    "    \"4fks_B_46K\": \"CS246\",\n",
    "    \"4fkt_B_48K\": \"CS248\",\n",
    "    \"4fku_D_60K\": \"CS260\",\n",
    "    \"4fkv_B_61K\": \"CS261\",\n",
    "    \"4fkw_B_62K\": \"CS262\",\n",
    "}\n",
    "\n",
    "files.sort(\n",
    "    key=lambda f: int(\n",
    "        names[\n",
    "            os.path.splitext(os.path.basename(f))[0].replace(\n",
    "                f\"_murcko_tran_{method}\", \"\"\n",
    "            )\n",
    "        ].replace(\"CS\", \"\")\n",
    "    )\n",
    ")\n",
    "\n",
    "print(files)\n",
    "\n",
    "tMSpcds = []\n",
    "tMSmols = []\n",
    "for f in files:\n",
    "    pcd = o3d.io.read_point_cloud(f)\n",
    "    tMSpcds.append(pcd)\n",
    "\n",
    "    s = Chem.SDMolSupplier(f.replace(\".pcd\", \".sdf\").replace(f\"_{method}\", \"\"))\n",
    "    mol = next(s)\n",
    "    tMSmols.append(mol)"
   ]
  },
  {
   "cell_type": "code",
   "execution_count": 21,
   "metadata": {},
   "outputs": [],
   "source": [
    "for i, f in enumerate(files):\n",
    "    rmsd_i, rmsd_f, _, _ = align_and_show_scaffold(\n",
    "        mols[i], pcds[i], tMSmols[i], tMSpcds[i], MSmols[i]\n",
    "    )\n",
    "    rmsds[\"system\"].append(\"CDK2\")\n",
    "    rmsds[\"lig\"].append(\n",
    "        names[\n",
    "            os.path.splitext(os.path.basename(f))[0].replace(\n",
    "                f\"_murcko_tran_{method}\", \"\"\n",
    "            )\n",
    "        ]\n",
    "    )\n",
    "    rmsds[\"RMSDi\"].append(rmsd_i)\n",
    "    rmsds[\"RMSDf\"].append(rmsd_f)\n",
    "    rmsds[\"idx\"].append(i)"
   ]
  },
  {
   "cell_type": "markdown",
   "metadata": {},
   "source": [
    "### Failures"
   ]
  },
  {
   "cell_type": "code",
   "execution_count": 22,
   "metadata": {},
   "outputs": [],
   "source": [
    "df = pd.DataFrame(rmsds)\n",
    "df = df[df.system == \"CDK2\"]"
   ]
  },
  {
   "cell_type": "code",
   "execution_count": 23,
   "metadata": {},
   "outputs": [
    {
     "data": {
      "text/html": [
       "<div>\n",
       "<style scoped>\n",
       "    .dataframe tbody tr th:only-of-type {\n",
       "        vertical-align: middle;\n",
       "    }\n",
       "\n",
       "    .dataframe tbody tr th {\n",
       "        vertical-align: top;\n",
       "    }\n",
       "\n",
       "    .dataframe thead th {\n",
       "        text-align: right;\n",
       "    }\n",
       "</style>\n",
       "<table border=\"1\" class=\"dataframe\">\n",
       "  <thead>\n",
       "    <tr style=\"text-align: right;\">\n",
       "      <th></th>\n",
       "      <th>system</th>\n",
       "      <th>lig</th>\n",
       "      <th>RMSDi</th>\n",
       "      <th>RMSDf</th>\n",
       "      <th>idx</th>\n",
       "    </tr>\n",
       "  </thead>\n",
       "  <tbody>\n",
       "    <tr>\n",
       "      <th>17</th>\n",
       "      <td>CDK2</td>\n",
       "      <td>CS20</td>\n",
       "      <td>52.549371</td>\n",
       "      <td>3.734318</td>\n",
       "      <td>7</td>\n",
       "    </tr>\n",
       "  </tbody>\n",
       "</table>\n",
       "</div>"
      ],
      "text/plain": [
       "   system   lig      RMSDi     RMSDf  idx\n",
       "17   CDK2  CS20  52.549371  3.734318    7"
      ]
     },
     "execution_count": 23,
     "metadata": {},
     "output_type": "execute_result"
    }
   ],
   "source": [
    "df[df.RMSDf >= rmsd_threshold]"
   ]
  },
  {
   "cell_type": "code",
   "execution_count": 24,
   "metadata": {},
   "outputs": [
    {
     "data": {
      "application/3dmoljs_load.v0": "<div id=\"3dmolviewer_16494336702620194\"  style=\"position: relative; width: 640px; height: 480px\">\n        <p id=\"3dmolwarning_16494336702620194\" style=\"background-color:#ffcccc;color:black\">You appear to be running in JupyterLab (or JavaScript failed to load for some other reason).  You need to install the 3dmol extension: <br>\n        <tt>jupyter labextension install jupyterlab_3dmol</tt></p>\n        </div>\n<script>\n\nvar loadScriptAsync = function(uri){\n  return new Promise((resolve, reject) => {\n    var tag = document.createElement('script');\n    tag.src = uri;\n    tag.async = true;\n    tag.onload = () => {\n      resolve();\n    };\n  var firstScriptTag = document.getElementsByTagName('script')[0];\n  firstScriptTag.parentNode.insertBefore(tag, firstScriptTag);\n});\n};\n\nif(typeof $3Dmolpromise === 'undefined') {\n$3Dmolpromise = null;\n  $3Dmolpromise = loadScriptAsync('https://3dmol.org/build/3Dmol.js');\n}\n\nvar viewer_16494336702620194 = null;\nvar warn = document.getElementById(\"3dmolwarning_16494336702620194\");\nif(warn) {\n    warn.parentNode.removeChild(warn);\n}\n$3Dmolpromise.then(function() {\nviewer_16494336702620194 = $3Dmol.createViewer($(\"#3dmolviewer_16494336702620194\"),{backgroundColor:\"white\"});\nviewer_16494336702620194.zoomTo();\n\tviewer_16494336702620194.addModel(\"4fko_B_20K.pdb\\n     RDKit          3D\\n\\n 24 26  0  0  1  0  0  0  0  0999 V2000\\n   -0.4030   -7.8710   26.1380 S   0  0  0  0  0  0  0  0  0  0  0  0\\n   -6.3020   -9.4460   31.6250 Cl  0  0  0  0  0  0  0  0  0  0  0  0\\n    0.9760   -9.4080   24.2240 C   0  0  0  0  0  0  0  0  0  0  0  0\\n    1.8050   -7.2130   25.0040 N   0  0  0  0  0  0  0  0  0  0  0  0\\n    0.9050   -8.1540   25.0300 C   0  0  0  0  0  0  0  0  0  0  0  0\\n   -2.1040   -4.1070   29.1780 N   0  0  0  0  0  0  0  0  0  0  0  0\\n    1.5270   -6.1850   25.8890 C   0  0  0  0  0  0  0  0  0  0  0  0\\n   -3.3290   -5.9970   29.4940 N   0  0  0  0  0  0  0  0  0  0  0  0\\n    2.5200   -5.0840   26.0570 C   0  0  0  0  0  0  0  0  0  0  0  0\\n   -5.6780  -11.1570   29.1940 N   0  0  0  0  0  0  0  0  0  0  0  0\\n    0.3300   -6.3570   26.5900 C   0  0  0  0  0  0  0  0  0  0  0  0\\n   -1.4800   -6.1450   28.0870 N   0  0  0  0  0  0  0  0  0  0  0  0\\n   -0.4560   -5.5050   27.5020 C   0  0  0  0  0  0  0  0  0  0  0  0\\n   -0.1920   -4.1590   27.7170 C   0  0  0  0  0  0  0  0  0  0  0  0\\n   -1.0730   -3.5100   28.5630 C   0  0  0  0  0  0  0  0  0  0  0  0\\n   -2.2720   -5.4030   28.9000 C   0  0  0  0  0  0  0  0  0  0  0  0\\n   -3.8980   -7.2760   29.3520 C   0  0  0  0  0  0  0  0  0  0  0  0\\n   -3.5780   -8.1620   28.3290 C   0  0  0  0  0  0  0  0  0  0  0  0\\n   -4.1340   -9.4280   28.2940 C   0  0  0  0  0  0  0  0  0  0  0  0\\n   -5.0110   -9.8320   29.2890 C   0  0  0  0  0  0  0  0  0  0  0  0\\n   -4.9340  -12.1440   28.3600 C   0  0  0  0  0  0  0  0  0  0  0  0\\n   -7.1010  -11.0460   28.7600 C   0  0  0  0  0  0  0  0  0  0  0  0\\n   -5.3170   -8.9480   30.2980 C   0  0  0  0  0  0  0  0  0  0  0  0\\n   -4.8000   -7.6720   30.3310 C   0  0  0  0  0  0  0  0  0  0  0  0\\n  1  5  1  0\\n  1 11  1  0\\n  2 23  1  0\\n  3  5  1  0\\n  4  5  2  0\\n  4  7  1  0\\n  6 15  2  0\\n  6 16  1  0\\n  7  9  1  0\\n  7 11  2  0\\n  8 16  1  0\\n  8 17  1  0\\n 10 21  1  0\\n 10 22  1  0\\n 10 20  1  0\\n 12 13  1  0\\n 12 16  2  0\\n 13 11  1  0\\n 13 14  2  0\\n 14 15  1  0\\n 17 18  2  0\\n 17 24  1  0\\n 18 19  1  0\\n 19 20  2  0\\n 20 23  1  0\\n 23 24  2  0\\nM  END\\n\",\"sdf\");\n\tviewer_16494336702620194.addModel(\"4fko_B_20K.pdb\\n     RDKit          3D\\n\\n 18 20  0  0  1  0  0  0  0  0999 V2000\\n   -2.1817   -4.8350   29.3652 S   0  0  0  0  0  0  0  0  0  0  0  0\\n   -0.6859   -2.8860   28.6179 N   0  0  0  0  0  0  0  0  0  0  0  0\\n   -1.5269   -3.2361   29.5486 C   0  0  0  0  0  0  0  0  0  0  0  0\\n   -1.4799   -8.9442   26.3778 N   0  0  0  0  0  0  0  0  0  0  0  0\\n   -0.5065   -3.8727   27.6631 C   0  0  0  0  0  0  0  0  0  0  0  0\\n   -3.2663   -9.2568   27.7503 N   0  0  0  0  0  0  0  0  0  0  0  0\\n   -1.2324   -5.0395   27.9192 C   0  0  0  0  0  0  0  0  0  0  0  0\\n   -2.2515   -7.1616   27.7778 N   0  0  0  0  0  0  0  0  0  0  0  0\\n   -1.2659   -6.3814   27.3082 C   0  0  0  0  0  0  0  0  0  0  0  0\\n   -0.3499   -6.8192   26.3611 C   0  0  0  0  0  0  0  0  0  0  0  0\\n   -0.5070   -8.1291   25.9459 C   0  0  0  0  0  0  0  0  0  0  0  0\\n   -2.3059   -8.4262   27.2913 C   0  0  0  0  0  0  0  0  0  0  0  0\\n   -4.2156   -9.1269   28.7807 C   0  0  0  0  0  0  0  0  0  0  0  0\\n   -4.1940   -8.1180   29.7375 C   0  0  0  0  0  0  0  0  0  0  0  0\\n   -5.2001   -8.0207   30.6815 C   0  0  0  0  0  0  0  0  0  0  0  0\\n   -6.2509   -8.9253   30.6761 C   0  0  0  0  0  0  0  0  0  0  0  0\\n   -6.2635   -9.9168   29.7223 C   0  0  0  0  0  0  0  0  0  0  0  0\\n   -5.2531  -10.0501   28.7959 C   0  0  0  0  0  0  0  0  0  0  0  0\\n  1  3  1  0\\n  1  7  1  0\\n  2  3  2  0\\n  2  5  1  0\\n  4 11  2  0\\n  4 12  1  0\\n  5  7  2  0\\n  6 12  1  0\\n  6 13  1  0\\n  8  9  1  0\\n  8 12  2  0\\n  9  7  1  0\\n  9 10  2  0\\n 10 11  1  0\\n 13 14  2  0\\n 13 18  1  0\\n 14 15  1  0\\n 15 16  2  0\\n 16 17  1  0\\n 17 18  2  0\\nM  END\\n\",\"sdf\");\n\tviewer_16494336702620194.addModel(\"4fko_B_20K.pdb\\n     RDKit          3D\\n\\n 18 20  0  0  1  0  0  0  0  0999 V2000\\n   14.6135   20.8021  -11.6269 S   0  0  0  0  0  0  0  0  0  0  0  0\\n   13.2393   21.2266   -9.4995 N   0  0  0  0  0  0  0  0  0  0  0  0\\n   13.1118   20.9987  -10.7754 C   0  0  0  0  0  0  0  0  0  0  0  0\\n   19.6114   20.4160  -10.5431 N   0  0  0  0  0  0  0  0  0  0  0  0\\n   14.5632   21.2786   -9.0971 C   0  0  0  0  0  0  0  0  0  0  0  0\\n   19.2925   20.5125  -12.7929 N   0  0  0  0  0  0  0  0  0  0  0  0\\n   15.4733   21.0409  -10.1310 C   0  0  0  0  0  0  0  0  0  0  0  0\\n   17.4244   20.8083  -11.4353 N   0  0  0  0  0  0  0  0  0  0  0  0\\n   16.9342   20.8459  -10.1868 C   0  0  0  0  0  0  0  0  0  0  0  0\\n   17.7324   20.6817   -9.0627 C   0  0  0  0  0  0  0  0  0  0  0  0\\n   19.0728   20.4532   -9.3159 C   0  0  0  0  0  0  0  0  0  0  0  0\\n   18.7559   20.5818  -11.5559 C   0  0  0  0  0  0  0  0  0  0  0  0\\n   18.7141   20.5053  -14.0756 C   0  0  0  0  0  0  0  0  0  0  0  0\\n   17.3549   20.3366  -14.3165 C   0  0  0  0  0  0  0  0  0  0  0  0\\n   16.8538   20.4053  -15.6038 C   0  0  0  0  0  0  0  0  0  0  0  0\\n   17.7038   20.6554  -16.6703 C   0  0  0  0  0  0  0  0  0  0  0  0\\n   19.0460   20.8244  -16.4191 C   0  0  0  0  0  0  0  0  0  0  0  0\\n   19.5680   20.7256  -15.1485 C   0  0  0  0  0  0  0  0  0  0  0  0\\n  1  3  1  0\\n  1  7  1  0\\n  2  3  2  0\\n  2  5  1  0\\n  4 11  2  0\\n  4 12  1  0\\n  5  7  2  0\\n  6 12  1  0\\n  6 13  1  0\\n  8  9  1  0\\n  8 12  2  0\\n  9  7  1  0\\n  9 10  2  0\\n 10 11  1  0\\n 13 14  2  0\\n 13 18  1  0\\n 14 15  1  0\\n 15 16  2  0\\n 16 17  1  0\\n 17 18  2  0\\nM  END\\n\",\"sdf\");\n\tviewer_16494336702620194.setStyle({\"model\": 0},{\"stick\": {\"colorscheme\": \"lightgreyCarbon\"}});\n\tviewer_16494336702620194.setStyle({\"model\": 1},{\"stick\": {\"colorscheme\": \"purpleCarbon\"}});\n\tviewer_16494336702620194.setStyle({\"model\": 2},{\"stick\": {\"colorscheme\": \"greyCarbon\"}});\n\tviewer_16494336702620194.zoomTo();\nviewer_16494336702620194.render();\n});\n</script>",
      "text/html": [
       "<div id=\"3dmolviewer_16494336702620194\"  style=\"position: relative; width: 640px; height: 480px\">\n",
       "        <p id=\"3dmolwarning_16494336702620194\" style=\"background-color:#ffcccc;color:black\">You appear to be running in JupyterLab (or JavaScript failed to load for some other reason).  You need to install the 3dmol extension: <br>\n",
       "        <tt>jupyter labextension install jupyterlab_3dmol</tt></p>\n",
       "        </div>\n",
       "<script>\n",
       "\n",
       "var loadScriptAsync = function(uri){\n",
       "  return new Promise((resolve, reject) => {\n",
       "    var tag = document.createElement('script');\n",
       "    tag.src = uri;\n",
       "    tag.async = true;\n",
       "    tag.onload = () => {\n",
       "      resolve();\n",
       "    };\n",
       "  var firstScriptTag = document.getElementsByTagName('script')[0];\n",
       "  firstScriptTag.parentNode.insertBefore(tag, firstScriptTag);\n",
       "});\n",
       "};\n",
       "\n",
       "if(typeof $3Dmolpromise === 'undefined') {\n",
       "$3Dmolpromise = null;\n",
       "  $3Dmolpromise = loadScriptAsync('https://3dmol.org/build/3Dmol.js');\n",
       "}\n",
       "\n",
       "var viewer_16494336702620194 = null;\n",
       "var warn = document.getElementById(\"3dmolwarning_16494336702620194\");\n",
       "if(warn) {\n",
       "    warn.parentNode.removeChild(warn);\n",
       "}\n",
       "$3Dmolpromise.then(function() {\n",
       "viewer_16494336702620194 = $3Dmol.createViewer($(\"#3dmolviewer_16494336702620194\"),{backgroundColor:\"white\"});\n",
       "viewer_16494336702620194.zoomTo();\n",
       "\tviewer_16494336702620194.addModel(\"4fko_B_20K.pdb\\n     RDKit          3D\\n\\n 24 26  0  0  1  0  0  0  0  0999 V2000\\n   -0.4030   -7.8710   26.1380 S   0  0  0  0  0  0  0  0  0  0  0  0\\n   -6.3020   -9.4460   31.6250 Cl  0  0  0  0  0  0  0  0  0  0  0  0\\n    0.9760   -9.4080   24.2240 C   0  0  0  0  0  0  0  0  0  0  0  0\\n    1.8050   -7.2130   25.0040 N   0  0  0  0  0  0  0  0  0  0  0  0\\n    0.9050   -8.1540   25.0300 C   0  0  0  0  0  0  0  0  0  0  0  0\\n   -2.1040   -4.1070   29.1780 N   0  0  0  0  0  0  0  0  0  0  0  0\\n    1.5270   -6.1850   25.8890 C   0  0  0  0  0  0  0  0  0  0  0  0\\n   -3.3290   -5.9970   29.4940 N   0  0  0  0  0  0  0  0  0  0  0  0\\n    2.5200   -5.0840   26.0570 C   0  0  0  0  0  0  0  0  0  0  0  0\\n   -5.6780  -11.1570   29.1940 N   0  0  0  0  0  0  0  0  0  0  0  0\\n    0.3300   -6.3570   26.5900 C   0  0  0  0  0  0  0  0  0  0  0  0\\n   -1.4800   -6.1450   28.0870 N   0  0  0  0  0  0  0  0  0  0  0  0\\n   -0.4560   -5.5050   27.5020 C   0  0  0  0  0  0  0  0  0  0  0  0\\n   -0.1920   -4.1590   27.7170 C   0  0  0  0  0  0  0  0  0  0  0  0\\n   -1.0730   -3.5100   28.5630 C   0  0  0  0  0  0  0  0  0  0  0  0\\n   -2.2720   -5.4030   28.9000 C   0  0  0  0  0  0  0  0  0  0  0  0\\n   -3.8980   -7.2760   29.3520 C   0  0  0  0  0  0  0  0  0  0  0  0\\n   -3.5780   -8.1620   28.3290 C   0  0  0  0  0  0  0  0  0  0  0  0\\n   -4.1340   -9.4280   28.2940 C   0  0  0  0  0  0  0  0  0  0  0  0\\n   -5.0110   -9.8320   29.2890 C   0  0  0  0  0  0  0  0  0  0  0  0\\n   -4.9340  -12.1440   28.3600 C   0  0  0  0  0  0  0  0  0  0  0  0\\n   -7.1010  -11.0460   28.7600 C   0  0  0  0  0  0  0  0  0  0  0  0\\n   -5.3170   -8.9480   30.2980 C   0  0  0  0  0  0  0  0  0  0  0  0\\n   -4.8000   -7.6720   30.3310 C   0  0  0  0  0  0  0  0  0  0  0  0\\n  1  5  1  0\\n  1 11  1  0\\n  2 23  1  0\\n  3  5  1  0\\n  4  5  2  0\\n  4  7  1  0\\n  6 15  2  0\\n  6 16  1  0\\n  7  9  1  0\\n  7 11  2  0\\n  8 16  1  0\\n  8 17  1  0\\n 10 21  1  0\\n 10 22  1  0\\n 10 20  1  0\\n 12 13  1  0\\n 12 16  2  0\\n 13 11  1  0\\n 13 14  2  0\\n 14 15  1  0\\n 17 18  2  0\\n 17 24  1  0\\n 18 19  1  0\\n 19 20  2  0\\n 20 23  1  0\\n 23 24  2  0\\nM  END\\n\",\"sdf\");\n",
       "\tviewer_16494336702620194.addModel(\"4fko_B_20K.pdb\\n     RDKit          3D\\n\\n 18 20  0  0  1  0  0  0  0  0999 V2000\\n   -2.1817   -4.8350   29.3652 S   0  0  0  0  0  0  0  0  0  0  0  0\\n   -0.6859   -2.8860   28.6179 N   0  0  0  0  0  0  0  0  0  0  0  0\\n   -1.5269   -3.2361   29.5486 C   0  0  0  0  0  0  0  0  0  0  0  0\\n   -1.4799   -8.9442   26.3778 N   0  0  0  0  0  0  0  0  0  0  0  0\\n   -0.5065   -3.8727   27.6631 C   0  0  0  0  0  0  0  0  0  0  0  0\\n   -3.2663   -9.2568   27.7503 N   0  0  0  0  0  0  0  0  0  0  0  0\\n   -1.2324   -5.0395   27.9192 C   0  0  0  0  0  0  0  0  0  0  0  0\\n   -2.2515   -7.1616   27.7778 N   0  0  0  0  0  0  0  0  0  0  0  0\\n   -1.2659   -6.3814   27.3082 C   0  0  0  0  0  0  0  0  0  0  0  0\\n   -0.3499   -6.8192   26.3611 C   0  0  0  0  0  0  0  0  0  0  0  0\\n   -0.5070   -8.1291   25.9459 C   0  0  0  0  0  0  0  0  0  0  0  0\\n   -2.3059   -8.4262   27.2913 C   0  0  0  0  0  0  0  0  0  0  0  0\\n   -4.2156   -9.1269   28.7807 C   0  0  0  0  0  0  0  0  0  0  0  0\\n   -4.1940   -8.1180   29.7375 C   0  0  0  0  0  0  0  0  0  0  0  0\\n   -5.2001   -8.0207   30.6815 C   0  0  0  0  0  0  0  0  0  0  0  0\\n   -6.2509   -8.9253   30.6761 C   0  0  0  0  0  0  0  0  0  0  0  0\\n   -6.2635   -9.9168   29.7223 C   0  0  0  0  0  0  0  0  0  0  0  0\\n   -5.2531  -10.0501   28.7959 C   0  0  0  0  0  0  0  0  0  0  0  0\\n  1  3  1  0\\n  1  7  1  0\\n  2  3  2  0\\n  2  5  1  0\\n  4 11  2  0\\n  4 12  1  0\\n  5  7  2  0\\n  6 12  1  0\\n  6 13  1  0\\n  8  9  1  0\\n  8 12  2  0\\n  9  7  1  0\\n  9 10  2  0\\n 10 11  1  0\\n 13 14  2  0\\n 13 18  1  0\\n 14 15  1  0\\n 15 16  2  0\\n 16 17  1  0\\n 17 18  2  0\\nM  END\\n\",\"sdf\");\n",
       "\tviewer_16494336702620194.addModel(\"4fko_B_20K.pdb\\n     RDKit          3D\\n\\n 18 20  0  0  1  0  0  0  0  0999 V2000\\n   14.6135   20.8021  -11.6269 S   0  0  0  0  0  0  0  0  0  0  0  0\\n   13.2393   21.2266   -9.4995 N   0  0  0  0  0  0  0  0  0  0  0  0\\n   13.1118   20.9987  -10.7754 C   0  0  0  0  0  0  0  0  0  0  0  0\\n   19.6114   20.4160  -10.5431 N   0  0  0  0  0  0  0  0  0  0  0  0\\n   14.5632   21.2786   -9.0971 C   0  0  0  0  0  0  0  0  0  0  0  0\\n   19.2925   20.5125  -12.7929 N   0  0  0  0  0  0  0  0  0  0  0  0\\n   15.4733   21.0409  -10.1310 C   0  0  0  0  0  0  0  0  0  0  0  0\\n   17.4244   20.8083  -11.4353 N   0  0  0  0  0  0  0  0  0  0  0  0\\n   16.9342   20.8459  -10.1868 C   0  0  0  0  0  0  0  0  0  0  0  0\\n   17.7324   20.6817   -9.0627 C   0  0  0  0  0  0  0  0  0  0  0  0\\n   19.0728   20.4532   -9.3159 C   0  0  0  0  0  0  0  0  0  0  0  0\\n   18.7559   20.5818  -11.5559 C   0  0  0  0  0  0  0  0  0  0  0  0\\n   18.7141   20.5053  -14.0756 C   0  0  0  0  0  0  0  0  0  0  0  0\\n   17.3549   20.3366  -14.3165 C   0  0  0  0  0  0  0  0  0  0  0  0\\n   16.8538   20.4053  -15.6038 C   0  0  0  0  0  0  0  0  0  0  0  0\\n   17.7038   20.6554  -16.6703 C   0  0  0  0  0  0  0  0  0  0  0  0\\n   19.0460   20.8244  -16.4191 C   0  0  0  0  0  0  0  0  0  0  0  0\\n   19.5680   20.7256  -15.1485 C   0  0  0  0  0  0  0  0  0  0  0  0\\n  1  3  1  0\\n  1  7  1  0\\n  2  3  2  0\\n  2  5  1  0\\n  4 11  2  0\\n  4 12  1  0\\n  5  7  2  0\\n  6 12  1  0\\n  6 13  1  0\\n  8  9  1  0\\n  8 12  2  0\\n  9  7  1  0\\n  9 10  2  0\\n 10 11  1  0\\n 13 14  2  0\\n 13 18  1  0\\n 14 15  1  0\\n 15 16  2  0\\n 16 17  1  0\\n 17 18  2  0\\nM  END\\n\",\"sdf\");\n",
       "\tviewer_16494336702620194.setStyle({\"model\": 0},{\"stick\": {\"colorscheme\": \"lightgreyCarbon\"}});\n",
       "\tviewer_16494336702620194.setStyle({\"model\": 1},{\"stick\": {\"colorscheme\": \"purpleCarbon\"}});\n",
       "\tviewer_16494336702620194.setStyle({\"model\": 2},{\"stick\": {\"colorscheme\": \"greyCarbon\"}});\n",
       "\tviewer_16494336702620194.zoomTo();\n",
       "viewer_16494336702620194.render();\n",
       "});\n",
       "</script>"
      ]
     },
     "metadata": {},
     "output_type": "display_data"
    },
    {
     "data": {
      "text/plain": [
       "<py3Dmol.view at 0x7f230708e100>"
      ]
     },
     "metadata": {},
     "output_type": "display_data"
    }
   ],
   "source": [
    "for _, (i, lig) in df[df.RMSDf > rmsd_threshold][[\"idx\", \"lig\"]].iterrows():\n",
    "    p = show_scaffold(mols[i], tMSmols[i])\n",
    "\n",
    "    with Chem.SDWriter(f\"failed-{method}/{lig}_alignfail.sdf\") as w:\n",
    "        w.write(tMSmols[i], confId=1)\n",
    "\n",
    "    display(p)"
   ]
  },
  {
   "cell_type": "markdown",
   "metadata": {},
   "source": [
    "## Show Results"
   ]
  },
  {
   "cell_type": "code",
   "execution_count": 25,
   "metadata": {},
   "outputs": [
    {
     "data": {
      "text/html": [
       "<div>\n",
       "<style scoped>\n",
       "    .dataframe tbody tr th:only-of-type {\n",
       "        vertical-align: middle;\n",
       "    }\n",
       "\n",
       "    .dataframe tbody tr th {\n",
       "        vertical-align: top;\n",
       "    }\n",
       "\n",
       "    .dataframe thead th {\n",
       "        text-align: right;\n",
       "    }\n",
       "</style>\n",
       "<table border=\"1\" class=\"dataframe\">\n",
       "  <thead>\n",
       "    <tr style=\"text-align: right;\">\n",
       "      <th></th>\n",
       "      <th>system</th>\n",
       "      <th>lig</th>\n",
       "      <th>RMSDi</th>\n",
       "      <th>RMSDf</th>\n",
       "      <th>idx</th>\n",
       "    </tr>\n",
       "  </thead>\n",
       "  <tbody>\n",
       "    <tr>\n",
       "      <th>0</th>\n",
       "      <td>BRD4</td>\n",
       "      <td>ligand-1</td>\n",
       "      <td>14.741494</td>\n",
       "      <td>0.068554</td>\n",
       "      <td>0</td>\n",
       "    </tr>\n",
       "    <tr>\n",
       "      <th>1</th>\n",
       "      <td>BRD4</td>\n",
       "      <td>ligand-2</td>\n",
       "      <td>3.476632</td>\n",
       "      <td>0.036455</td>\n",
       "      <td>1</td>\n",
       "    </tr>\n",
       "    <tr>\n",
       "      <th>2</th>\n",
       "      <td>BRD4</td>\n",
       "      <td>ligand-3</td>\n",
       "      <td>16.842481</td>\n",
       "      <td>5.467946</td>\n",
       "      <td>2</td>\n",
       "    </tr>\n",
       "    <tr>\n",
       "      <th>3</th>\n",
       "      <td>BRD4</td>\n",
       "      <td>ligand-4</td>\n",
       "      <td>16.532072</td>\n",
       "      <td>0.169241</td>\n",
       "      <td>3</td>\n",
       "    </tr>\n",
       "    <tr>\n",
       "      <th>4</th>\n",
       "      <td>BRD4</td>\n",
       "      <td>ligand-5</td>\n",
       "      <td>7.522788</td>\n",
       "      <td>0.055970</td>\n",
       "      <td>4</td>\n",
       "    </tr>\n",
       "    <tr>\n",
       "      <th>5</th>\n",
       "      <td>BRD4</td>\n",
       "      <td>ligand-6</td>\n",
       "      <td>18.104774</td>\n",
       "      <td>6.226867</td>\n",
       "      <td>5</td>\n",
       "    </tr>\n",
       "    <tr>\n",
       "      <th>6</th>\n",
       "      <td>BRD4</td>\n",
       "      <td>ligand-7</td>\n",
       "      <td>22.284243</td>\n",
       "      <td>0.059618</td>\n",
       "      <td>6</td>\n",
       "    </tr>\n",
       "    <tr>\n",
       "      <th>7</th>\n",
       "      <td>BRD4</td>\n",
       "      <td>ligand-8</td>\n",
       "      <td>3.884586</td>\n",
       "      <td>0.092889</td>\n",
       "      <td>7</td>\n",
       "    </tr>\n",
       "    <tr>\n",
       "      <th>8</th>\n",
       "      <td>BRD4</td>\n",
       "      <td>ligand-9</td>\n",
       "      <td>7.182288</td>\n",
       "      <td>0.094402</td>\n",
       "      <td>8</td>\n",
       "    </tr>\n",
       "    <tr>\n",
       "      <th>9</th>\n",
       "      <td>BRD4</td>\n",
       "      <td>ligand-10</td>\n",
       "      <td>23.021753</td>\n",
       "      <td>0.091005</td>\n",
       "      <td>9</td>\n",
       "    </tr>\n",
       "    <tr>\n",
       "      <th>10</th>\n",
       "      <td>CDK2</td>\n",
       "      <td>CS1</td>\n",
       "      <td>7.746557</td>\n",
       "      <td>0.158146</td>\n",
       "      <td>0</td>\n",
       "    </tr>\n",
       "    <tr>\n",
       "      <th>11</th>\n",
       "      <td>CDK2</td>\n",
       "      <td>CS3</td>\n",
       "      <td>33.223370</td>\n",
       "      <td>0.059701</td>\n",
       "      <td>1</td>\n",
       "    </tr>\n",
       "    <tr>\n",
       "      <th>12</th>\n",
       "      <td>CDK2</td>\n",
       "      <td>CS4</td>\n",
       "      <td>44.136952</td>\n",
       "      <td>0.074718</td>\n",
       "      <td>2</td>\n",
       "    </tr>\n",
       "    <tr>\n",
       "      <th>13</th>\n",
       "      <td>CDK2</td>\n",
       "      <td>CS9</td>\n",
       "      <td>20.057555</td>\n",
       "      <td>0.095640</td>\n",
       "      <td>3</td>\n",
       "    </tr>\n",
       "    <tr>\n",
       "      <th>14</th>\n",
       "      <td>CDK2</td>\n",
       "      <td>CS11</td>\n",
       "      <td>45.383193</td>\n",
       "      <td>0.052214</td>\n",
       "      <td>4</td>\n",
       "    </tr>\n",
       "    <tr>\n",
       "      <th>15</th>\n",
       "      <td>CDK2</td>\n",
       "      <td>CS18</td>\n",
       "      <td>51.884261</td>\n",
       "      <td>0.040523</td>\n",
       "      <td>5</td>\n",
       "    </tr>\n",
       "    <tr>\n",
       "      <th>16</th>\n",
       "      <td>CDK2</td>\n",
       "      <td>CS19</td>\n",
       "      <td>39.207742</td>\n",
       "      <td>0.065726</td>\n",
       "      <td>6</td>\n",
       "    </tr>\n",
       "    <tr>\n",
       "      <th>17</th>\n",
       "      <td>CDK2</td>\n",
       "      <td>CS20</td>\n",
       "      <td>52.549371</td>\n",
       "      <td>3.734318</td>\n",
       "      <td>7</td>\n",
       "    </tr>\n",
       "    <tr>\n",
       "      <th>18</th>\n",
       "      <td>CDK2</td>\n",
       "      <td>CS241</td>\n",
       "      <td>9.439092</td>\n",
       "      <td>0.081779</td>\n",
       "      <td>8</td>\n",
       "    </tr>\n",
       "    <tr>\n",
       "      <th>19</th>\n",
       "      <td>CDK2</td>\n",
       "      <td>CS242</td>\n",
       "      <td>16.977486</td>\n",
       "      <td>0.034129</td>\n",
       "      <td>9</td>\n",
       "    </tr>\n",
       "    <tr>\n",
       "      <th>20</th>\n",
       "      <td>CDK2</td>\n",
       "      <td>CS245</td>\n",
       "      <td>8.534871</td>\n",
       "      <td>0.045853</td>\n",
       "      <td>10</td>\n",
       "    </tr>\n",
       "    <tr>\n",
       "      <th>21</th>\n",
       "      <td>CDK2</td>\n",
       "      <td>CS246</td>\n",
       "      <td>46.302326</td>\n",
       "      <td>0.075893</td>\n",
       "      <td>11</td>\n",
       "    </tr>\n",
       "    <tr>\n",
       "      <th>22</th>\n",
       "      <td>CDK2</td>\n",
       "      <td>CS248</td>\n",
       "      <td>21.833633</td>\n",
       "      <td>0.067379</td>\n",
       "      <td>12</td>\n",
       "    </tr>\n",
       "    <tr>\n",
       "      <th>23</th>\n",
       "      <td>CDK2</td>\n",
       "      <td>CS260</td>\n",
       "      <td>19.393635</td>\n",
       "      <td>0.087186</td>\n",
       "      <td>13</td>\n",
       "    </tr>\n",
       "    <tr>\n",
       "      <th>24</th>\n",
       "      <td>CDK2</td>\n",
       "      <td>CS261</td>\n",
       "      <td>51.522771</td>\n",
       "      <td>0.066942</td>\n",
       "      <td>14</td>\n",
       "    </tr>\n",
       "    <tr>\n",
       "      <th>25</th>\n",
       "      <td>CDK2</td>\n",
       "      <td>CS262</td>\n",
       "      <td>9.114243</td>\n",
       "      <td>0.081292</td>\n",
       "      <td>15</td>\n",
       "    </tr>\n",
       "  </tbody>\n",
       "</table>\n",
       "</div>"
      ],
      "text/plain": [
       "   system        lig      RMSDi     RMSDf  idx\n",
       "0    BRD4   ligand-1  14.741494  0.068554    0\n",
       "1    BRD4   ligand-2   3.476632  0.036455    1\n",
       "2    BRD4   ligand-3  16.842481  5.467946    2\n",
       "3    BRD4   ligand-4  16.532072  0.169241    3\n",
       "4    BRD4   ligand-5   7.522788  0.055970    4\n",
       "5    BRD4   ligand-6  18.104774  6.226867    5\n",
       "6    BRD4   ligand-7  22.284243  0.059618    6\n",
       "7    BRD4   ligand-8   3.884586  0.092889    7\n",
       "8    BRD4   ligand-9   7.182288  0.094402    8\n",
       "9    BRD4  ligand-10  23.021753  0.091005    9\n",
       "10   CDK2        CS1   7.746557  0.158146    0\n",
       "11   CDK2        CS3  33.223370  0.059701    1\n",
       "12   CDK2        CS4  44.136952  0.074718    2\n",
       "13   CDK2        CS9  20.057555  0.095640    3\n",
       "14   CDK2       CS11  45.383193  0.052214    4\n",
       "15   CDK2       CS18  51.884261  0.040523    5\n",
       "16   CDK2       CS19  39.207742  0.065726    6\n",
       "17   CDK2       CS20  52.549371  3.734318    7\n",
       "18   CDK2      CS241   9.439092  0.081779    8\n",
       "19   CDK2      CS242  16.977486  0.034129    9\n",
       "20   CDK2      CS245   8.534871  0.045853   10\n",
       "21   CDK2      CS246  46.302326  0.075893   11\n",
       "22   CDK2      CS248  21.833633  0.067379   12\n",
       "23   CDK2      CS260  19.393635  0.087186   13\n",
       "24   CDK2      CS261  51.522771  0.066942   14\n",
       "25   CDK2      CS262   9.114243  0.081292   15"
      ]
     },
     "execution_count": 25,
     "metadata": {},
     "output_type": "execute_result"
    }
   ],
   "source": [
    "df = pd.DataFrame(rmsds)\n",
    "df"
   ]
  },
  {
   "cell_type": "code",
   "execution_count": 26,
   "metadata": {},
   "outputs": [
    {
     "data": {
      "text/html": [
       "<div>\n",
       "<style scoped>\n",
       "    .dataframe tbody tr th:only-of-type {\n",
       "        vertical-align: middle;\n",
       "    }\n",
       "\n",
       "    .dataframe tbody tr th {\n",
       "        vertical-align: top;\n",
       "    }\n",
       "\n",
       "    .dataframe thead th {\n",
       "        text-align: right;\n",
       "    }\n",
       "</style>\n",
       "<table border=\"1\" class=\"dataframe\">\n",
       "  <thead>\n",
       "    <tr style=\"text-align: right;\">\n",
       "      <th></th>\n",
       "      <th>system</th>\n",
       "      <th>lig</th>\n",
       "      <th>RMSDi</th>\n",
       "      <th>RMSDf</th>\n",
       "      <th>idx</th>\n",
       "    </tr>\n",
       "  </thead>\n",
       "  <tbody>\n",
       "    <tr>\n",
       "      <th>2</th>\n",
       "      <td>BRD4</td>\n",
       "      <td>ligand-3</td>\n",
       "      <td>16.842481</td>\n",
       "      <td>5.467946</td>\n",
       "      <td>2</td>\n",
       "    </tr>\n",
       "    <tr>\n",
       "      <th>5</th>\n",
       "      <td>BRD4</td>\n",
       "      <td>ligand-6</td>\n",
       "      <td>18.104774</td>\n",
       "      <td>6.226867</td>\n",
       "      <td>5</td>\n",
       "    </tr>\n",
       "    <tr>\n",
       "      <th>17</th>\n",
       "      <td>CDK2</td>\n",
       "      <td>CS20</td>\n",
       "      <td>52.549371</td>\n",
       "      <td>3.734318</td>\n",
       "      <td>7</td>\n",
       "    </tr>\n",
       "  </tbody>\n",
       "</table>\n",
       "</div>"
      ],
      "text/plain": [
       "   system       lig      RMSDi     RMSDf  idx\n",
       "2    BRD4  ligand-3  16.842481  5.467946    2\n",
       "5    BRD4  ligand-6  18.104774  6.226867    5\n",
       "17   CDK2      CS20  52.549371  3.734318    7"
      ]
     },
     "execution_count": 26,
     "metadata": {},
     "output_type": "execute_result"
    }
   ],
   "source": [
    "df[df.RMSDf > rmsd_threshold]"
   ]
  },
  {
   "cell_type": "code",
   "execution_count": 27,
   "metadata": {},
   "outputs": [],
   "source": [
    "df.to_csv(f\"alig_scaffolds_rmsds_{method}.csv\", index=False, float_format=\"%.5f\")"
   ]
  }
 ],
 "metadata": {
  "interpreter": {
   "hash": "2170310d8da5d5d0ced416f072c764c73705bd667e97df15cd83672f4e754559"
  },
  "kernelspec": {
   "display_name": "Python 3",
   "language": "python",
   "name": "python3"
  },
  "language_info": {
   "codemirror_mode": {
    "name": "ipython",
    "version": 3
   },
   "file_extension": ".py",
   "mimetype": "text/x-python",
   "name": "python",
   "nbconvert_exporter": "python",
   "pygments_lexer": "ipython3",
   "version": "3.9.12"
  }
 },
 "nbformat": 4,
 "nbformat_minor": 2
}
