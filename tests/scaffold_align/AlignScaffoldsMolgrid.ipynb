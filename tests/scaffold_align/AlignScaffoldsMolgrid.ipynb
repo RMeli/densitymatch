{
 "cells": [
  {
   "cell_type": "markdown",
   "metadata": {},
   "source": [
    "# Align Murcko Scaffold to Molecule"
   ]
  },
  {
   "cell_type": "markdown",
   "metadata": {},
   "source": [
    "In this notebook we explire if we can use SENSAAS with point clouds from `libmolgrid`-generated densities in order to align Murcko scaffolds to their original molecule."
   ]
  },
  {
   "cell_type": "code",
   "execution_count": 1,
   "metadata": {},
   "outputs": [
    {
     "data": {
      "text/html": [
       "\n",
       "                <script type=\"application/javascript\" id=\"jupyter_black\">\n",
       "                (function() {\n",
       "                    if (window.IPython === undefined) {\n",
       "                        return\n",
       "                    }\n",
       "                    var msg = \"WARNING: it looks like you might have loaded \" +\n",
       "                        \"jupyter_black in a non-lab notebook with \" +\n",
       "                        \"`is_lab=True`. Please double check, and if \" +\n",
       "                        \"loading with `%load_ext` please review the README!\"\n",
       "                    console.log(msg)\n",
       "                    alert(msg)\n",
       "                })()\n",
       "                </script>\n",
       "                "
      ],
      "text/plain": [
       "<IPython.core.display.HTML object>"
      ]
     },
     "metadata": {},
     "output_type": "display_data"
    }
   ],
   "source": [
    "%load_ext autoreload\n",
    "%autoreload 2\n",
    "%load_ext jupyter_black"
   ]
  },
  {
   "cell_type": "code",
   "execution_count": 2,
   "metadata": {},
   "outputs": [],
   "source": [
    "# sensaas: sensaas coloring method for PCDs\n",
    "# molgrid: libmolgrid coloring method for PCDs\n",
    "method = \"molgrid\""
   ]
  },
  {
   "cell_type": "code",
   "execution_count": 3,
   "metadata": {},
   "outputs": [],
   "source": [
    "# Threshold to show failures\n",
    "rmsd_threshold = 0.25\n",
    "\n",
    "# Repeat alignment for each scaffold to get some statistics\n",
    "repeats = 25"
   ]
  },
  {
   "cell_type": "code",
   "execution_count": 4,
   "metadata": {},
   "outputs": [],
   "source": [
    "dir = f\"failed-{method}/\"\n",
    "for f in os.listdir(dir):\n",
    "    os.remove(os.path.join(dir, f))"
   ]
  },
  {
   "cell_type": "markdown",
   "metadata": {},
   "source": [
    "### Libraries"
   ]
  },
  {
   "cell_type": "code",
   "execution_count": 5,
   "metadata": {},
   "outputs": [],
   "source": [
    "import sys\n",
    "\n",
    "sys.path.append(\"../../\")\n",
    "sys.path.append(\"../\")"
   ]
  },
  {
   "cell_type": "code",
   "execution_count": 6,
   "metadata": {},
   "outputs": [
    {
     "name": "stdout",
     "output_type": "stream",
     "text": [
      "Jupyter environment detected. Enabling Open3D WebVisualizer.\n",
      "[Open3D INFO] WebRTC GUI backend enabled.\n",
      "[Open3D INFO] WebRTCWindowSystem: HTTP handshake server disabled.\n"
     ]
    }
   ],
   "source": [
    "import open3d as o3d\n",
    "import pandas as pd\n",
    "from collections import defaultdict\n",
    "\n",
    "import re, os\n",
    "from rdkit import Chem"
   ]
  },
  {
   "cell_type": "code",
   "execution_count": 7,
   "metadata": {},
   "outputs": [],
   "source": [
    "from utils import align_and_show_scaffold, show_scaffold"
   ]
  },
  {
   "cell_type": "markdown",
   "metadata": {},
   "source": [
    "Store RMSD before and after alignment (for both BRD4 and CDK2)"
   ]
  },
  {
   "cell_type": "code",
   "execution_count": 8,
   "metadata": {},
   "outputs": [],
   "source": [
    "rmsds = defaultdict(list)\n",
    "rmsdreps = defaultdict(list)"
   ]
  },
  {
   "cell_type": "markdown",
   "metadata": {},
   "source": [
    "## BRD4 Inhibitors"
   ]
  },
  {
   "cell_type": "code",
   "execution_count": 9,
   "metadata": {},
   "outputs": [],
   "source": [
    "path = \"../ligands/BRD4\""
   ]
  },
  {
   "cell_type": "markdown",
   "metadata": {},
   "source": [
    "Loda original BRD4 inhibitors together with their point cloud representation (pre-computed):"
   ]
  },
  {
   "cell_type": "code",
   "execution_count": 10,
   "metadata": {},
   "outputs": [
    {
     "name": "stdout",
     "output_type": "stream",
     "text": [
      "['../ligands/BRD4/ligand-1_molgrid.pcd', '../ligands/BRD4/ligand-2_molgrid.pcd', '../ligands/BRD4/ligand-3_molgrid.pcd', '../ligands/BRD4/ligand-4_molgrid.pcd', '../ligands/BRD4/ligand-5_molgrid.pcd', '../ligands/BRD4/ligand-6_molgrid.pcd', '../ligands/BRD4/ligand-7_molgrid.pcd', '../ligands/BRD4/ligand-8_molgrid.pcd', '../ligands/BRD4/ligand-9_molgrid.pcd', '../ligands/BRD4/ligand-10_molgrid.pcd']\n"
     ]
    }
   ],
   "source": [
    "files = []\n",
    "for f in os.listdir(path):\n",
    "    fname, ext = os.path.splitext(f)\n",
    "    if ext == \".pcd\" and method in f and not \"tran\" in f:\n",
    "        files.append(os.path.join(path, f))\n",
    "\n",
    "# Sort BRD4 ligand files by number\n",
    "r = re.compile(\"\\d{1,2}\")\n",
    "files.sort(key=lambda f: int(r.search(os.path.basename(f)).group()))\n",
    "\n",
    "print(files)\n",
    "\n",
    "pcds = []\n",
    "mols = []\n",
    "for f in files:\n",
    "    pcd = o3d.io.read_point_cloud(f)\n",
    "    pcds.append(pcd)\n",
    "\n",
    "    s = Chem.SDMolSupplier(f.replace(\".pcd\", \".sdf\").replace(f\"_{method}\", \"\"))\n",
    "    mol = next(s)\n",
    "    mols.append(mol)"
   ]
  },
  {
   "cell_type": "markdown",
   "metadata": {},
   "source": [
    "Load original BRD4 Murcko scaffolds:"
   ]
  },
  {
   "cell_type": "code",
   "execution_count": 11,
   "metadata": {},
   "outputs": [
    {
     "name": "stdout",
     "output_type": "stream",
     "text": [
      "['../ligands/BRD4/ligand-1_murcko.sdf', '../ligands/BRD4/ligand-2_murcko.sdf', '../ligands/BRD4/ligand-3_murcko.sdf', '../ligands/BRD4/ligand-4_murcko.sdf', '../ligands/BRD4/ligand-5_murcko.sdf', '../ligands/BRD4/ligand-6_murcko.sdf', '../ligands/BRD4/ligand-7_murcko.sdf', '../ligands/BRD4/ligand-8_murcko.sdf', '../ligands/BRD4/ligand-9_murcko.sdf', '../ligands/BRD4/ligand-10_murcko.sdf']\n"
     ]
    }
   ],
   "source": [
    "files = []\n",
    "for f in os.listdir(path):\n",
    "    fname, ext = os.path.splitext(f)\n",
    "    if ext == \".sdf\" and \"murcko\" in f and not \"tran\" in f:\n",
    "        files.append(os.path.join(path, f))\n",
    "\n",
    "# Sort BRD4 ligand files by number\n",
    "r = re.compile(\"\\d{1,2}\")\n",
    "files.sort(key=lambda f: int(r.search(os.path.basename(f)).group()))\n",
    "\n",
    "print(files)\n",
    "\n",
    "MSmols = []\n",
    "for f in files:\n",
    "    # Original Murko scaffold PCDs are not needed\n",
    "    s = Chem.SDMolSupplier(f.replace(\".pcd\", \".sdf\").replace(f\"_{method}\", \"\"))\n",
    "    mol = next(s)\n",
    "    MSmols.append(mol)"
   ]
  },
  {
   "cell_type": "markdown",
   "metadata": {},
   "source": [
    "Load translated and rotated BRD4 Murcko scaffolds with their point-cloud representation (pre-computed):"
   ]
  },
  {
   "cell_type": "code",
   "execution_count": 12,
   "metadata": {},
   "outputs": [
    {
     "name": "stdout",
     "output_type": "stream",
     "text": [
      "['../ligands/BRD4/ligand-1_murcko_tran_molgrid.pcd', '../ligands/BRD4/ligand-2_murcko_tran_molgrid.pcd', '../ligands/BRD4/ligand-3_murcko_tran_molgrid.pcd', '../ligands/BRD4/ligand-4_murcko_tran_molgrid.pcd', '../ligands/BRD4/ligand-5_murcko_tran_molgrid.pcd', '../ligands/BRD4/ligand-6_murcko_tran_molgrid.pcd', '../ligands/BRD4/ligand-7_murcko_tran_molgrid.pcd', '../ligands/BRD4/ligand-8_murcko_tran_molgrid.pcd', '../ligands/BRD4/ligand-9_murcko_tran_molgrid.pcd', '../ligands/BRD4/ligand-10_murcko_tran_molgrid.pcd']\n"
     ]
    }
   ],
   "source": [
    "files = []\n",
    "for f in os.listdir(path):\n",
    "    fname, ext = os.path.splitext(f)\n",
    "    if ext == \".pcd\" and f\"_murcko_tran_{method}\" in fname:\n",
    "        files.append(os.path.join(path, f))\n",
    "\n",
    "# Sort BRD4 ligand files by number\n",
    "r = re.compile(\"\\d{1,2}\")\n",
    "files.sort(key=lambda f: int(r.search(os.path.basename(f)).group()))\n",
    "\n",
    "print(files)\n",
    "\n",
    "tMSpcds = []\n",
    "tMSmols = []\n",
    "for f in files:\n",
    "    pcd = o3d.io.read_point_cloud(f)\n",
    "    tMSpcds.append(pcd)\n",
    "\n",
    "    s = Chem.SDMolSupplier(f.replace(\".pcd\", \".sdf\").replace(f\"_{method}\", \"\"))\n",
    "    mol = next(s)\n",
    "    tMSmols.append(mol)"
   ]
  },
  {
   "cell_type": "code",
   "execution_count": 13,
   "metadata": {},
   "outputs": [],
   "source": [
    "for i, f in enumerate(files):\n",
    "    rmsd_i, rmsd_f, _, _ = align_and_show_scaffold(\n",
    "        mols[i], pcds[i], tMSmols[i], tMSpcds[i], MSmols[i]\n",
    "    )\n",
    "    rmsds[\"system\"].append(\"BRD4\")\n",
    "    rmsds[\"lig\"].append(\n",
    "        os.path.splitext(os.path.basename(f))[0].replace(f\"_murcko_tran_{method}\", \"\")\n",
    "    )\n",
    "    rmsds[\"RMSDi\"].append(rmsd_i)\n",
    "    rmsds[\"RMSDf\"].append(rmsd_f)\n",
    "    rmsds[\"idx\"].append(i)"
   ]
  },
  {
   "cell_type": "markdown",
   "metadata": {},
   "source": [
    "### Failures"
   ]
  },
  {
   "cell_type": "code",
   "execution_count": 14,
   "metadata": {},
   "outputs": [],
   "source": [
    "df = pd.DataFrame(rmsds)"
   ]
  },
  {
   "cell_type": "code",
   "execution_count": 15,
   "metadata": {},
   "outputs": [
    {
     "data": {
      "text/html": [
       "<div>\n",
       "<style scoped>\n",
       "    .dataframe tbody tr th:only-of-type {\n",
       "        vertical-align: middle;\n",
       "    }\n",
       "\n",
       "    .dataframe tbody tr th {\n",
       "        vertical-align: top;\n",
       "    }\n",
       "\n",
       "    .dataframe thead th {\n",
       "        text-align: right;\n",
       "    }\n",
       "</style>\n",
       "<table border=\"1\" class=\"dataframe\">\n",
       "  <thead>\n",
       "    <tr style=\"text-align: right;\">\n",
       "      <th></th>\n",
       "      <th>system</th>\n",
       "      <th>lig</th>\n",
       "      <th>RMSDi</th>\n",
       "      <th>RMSDf</th>\n",
       "      <th>idx</th>\n",
       "    </tr>\n",
       "  </thead>\n",
       "  <tbody>\n",
       "    <tr>\n",
       "      <th>2</th>\n",
       "      <td>BRD4</td>\n",
       "      <td>ligand-3</td>\n",
       "      <td>16.842481</td>\n",
       "      <td>5.173501</td>\n",
       "      <td>2</td>\n",
       "    </tr>\n",
       "    <tr>\n",
       "      <th>5</th>\n",
       "      <td>BRD4</td>\n",
       "      <td>ligand-6</td>\n",
       "      <td>18.104774</td>\n",
       "      <td>2.351306</td>\n",
       "      <td>5</td>\n",
       "    </tr>\n",
       "  </tbody>\n",
       "</table>\n",
       "</div>"
      ],
      "text/plain": [
       "  system       lig      RMSDi     RMSDf  idx\n",
       "2   BRD4  ligand-3  16.842481  5.173501    2\n",
       "5   BRD4  ligand-6  18.104774  2.351306    5"
      ]
     },
     "execution_count": 15,
     "metadata": {},
     "output_type": "execute_result"
    }
   ],
   "source": [
    "df[df.RMSDf > rmsd_threshold]"
   ]
  },
  {
   "cell_type": "code",
   "execution_count": 16,
   "metadata": {},
   "outputs": [
    {
     "data": {
      "application/3dmoljs_load.v0": "<div id=\"3dmolviewer_16496845509251926\"  style=\"position: relative; width: 640px; height: 480px\">\n        <p id=\"3dmolwarning_16496845509251926\" style=\"background-color:#ffcccc;color:black\">You appear to be running in JupyterLab (or JavaScript failed to load for some other reason).  You need to install the 3dmol extension: <br>\n        <tt>jupyter labextension install jupyterlab_3dmol</tt></p>\n        </div>\n<script>\n\nvar loadScriptAsync = function(uri){\n  return new Promise((resolve, reject) => {\n    var tag = document.createElement('script');\n    tag.src = uri;\n    tag.async = true;\n    tag.onload = () => {\n      resolve();\n    };\n  var firstScriptTag = document.getElementsByTagName('script')[0];\n  firstScriptTag.parentNode.insertBefore(tag, firstScriptTag);\n});\n};\n\nif(typeof $3Dmolpromise === 'undefined') {\n$3Dmolpromise = null;\n  $3Dmolpromise = loadScriptAsync('https://3dmol.org/build/3Dmol.js');\n}\n\nvar viewer_16496845509251926 = null;\nvar warn = document.getElementById(\"3dmolwarning_16496845509251926\");\nif(warn) {\n    warn.parentNode.removeChild(warn);\n}\n$3Dmolpromise.then(function() {\nviewer_16496845509251926 = $3Dmol.createViewer($(\"#3dmolviewer_16496845509251926\"),{backgroundColor:\"white\"});\nviewer_16496845509251926.zoomTo();\n\tviewer_16496845509251926.addModel(\"BRD4, Ligand 3\\n     RDKit          3D\\n\\n 28 30  0  0  1  0  0  0  0  0999 V2000\\n   -2.5980   -1.6620   17.4180 O   0  0  0  0  0  0  0  0  0  0  0  0\\n   -1.5620   -1.8410   16.7820 C   0  0  0  0  0  0  0  0  0  0  0  0\\n   -1.0610   -3.2230   16.6120 C   0  0  0  0  0  0  0  0  0  0  0  0\\n   -0.8630   -0.8230   16.2620 N   0  0  0  0  0  0  0  0  0  0  0  0\\n    0.3210   -0.9980   15.4410 C   0  0  0  0  0  0  0  0  0  0  0  0\\n    1.5100   -1.5290   16.2010 C   0  0  0  0  0  0  0  0  0  0  0  0\\n    1.5040   -1.3380   17.5310 C   0  0  0  0  0  0  0  0  0  0  0  0\\n    0.7010    0.3120   14.7470 C   0  0  0  0  0  0  0  0  0  0  0  0\\n    1.9070    0.1900   13.8120 C   0  0  0  0  0  0  0  0  0  0  0  0\\n    2.0470   -1.1760   13.1630 C   0  0  0  0  0  0  0  0  0  0  0  0\\n    1.8890   -1.3140   11.7880 C   0  0  0  0  0  0  0  0  0  0  0  0\\n    2.0180   -2.5530   11.1740 C   0  0  0  0  0  0  0  0  0  0  0  0\\n    2.2970   -3.6630   11.9290 C   0  0  0  0  0  0  0  0  0  0  0  0\\n    2.4760   -3.5350   13.2870 C   0  0  0  0  0  0  0  0  0  0  0  0\\n    2.7490   -4.6590   14.0140 O   0  0  0  0  0  0  0  0  0  0  0  0\\n    1.7330   -5.1660   14.8800 C   0  0  0  0  0  0  0  0  0  0  0  0\\n    2.4860   -4.8720   11.3240 O   0  0  0  0  0  0  0  0  0  0  0  0\\n    1.4570   -5.8030   11.2690 C   0  0  0  0  0  0  0  0  0  0  0  0\\n    1.8780   -2.7410    9.8250 O   0  0  0  0  0  0  0  0  0  0  0  0\\n    1.5630   -1.6740    8.9450 C   0  0  0  0  0  0  0  0  0  0  0  0\\n    2.3450   -2.2940   13.9160 C   0  0  0  0  0  0  0  0  0  0  0  0\\n    2.5380   -2.1990   15.4060 C   0  0  0  0  0  0  0  0  0  0  0  0\\n    3.6970   -2.7550   15.8300 C   0  0  0  0  0  0  0  0  0  0  0  0\\n    4.2500   -2.8990   17.1550 C   0  0  0  0  0  0  0  0  0  0  0  0\\n    3.7300   -2.4760   18.3070 C   0  0  0  0  0  0  0  0  0  0  0  0\\n    2.4870   -1.7540   18.5270 C   0  0  0  0  0  0  0  0  0  0  0  0\\n    2.2110   -1.4770   19.6910 O   0  0  0  0  0  0  0  0  0  0  0  0\\n    4.4140   -2.7540   19.3990 O   0  0  0  0  0  0  0  0  0  0  0  0\\n  1  2  2  0\\n  2  3  1  0\\n  2  4  1  0\\n  4  5  1  0\\n  5  6  1  0\\n  5  8  1  0\\n  6  7  2  0\\n  6 22  1  0\\n  7 26  1  0\\n  8  9  1  0\\n  9 10  1  0\\n 10 11  1  0\\n 10 21  2  0\\n 11 12  2  0\\n 12 13  1  0\\n 12 19  1  0\\n 13 14  2  0\\n 13 17  1  0\\n 14 15  1  0\\n 14 21  1  0\\n 15 16  1  0\\n 17 18  1  0\\n 19 20  1  0\\n 21 22  1  0\\n 22 23  2  0\\n 23 24  1  0\\n 24 25  2  0\\n 25 26  1  0\\n 25 28  1  0\\n 26 27  2  0\\nM  END\\n\",\"sdf\");\n\tviewer_16496845509251926.addModel(\"BRD4, Ligand 3\\n     RDKit          3D\\n\\n 17 19  0  0  1  0  0  0  0  0999 V2000\\n    2.0344    0.2016   13.9004 C   0  0  0  0  0  0  0  0  0  0  0  0\\n    2.0673   -1.0617   13.0782 C   0  0  0  0  0  0  0  0  0  0  0  0\\n    1.8562   -0.9225   11.7586 C   0  0  0  0  0  0  0  0  0  0  0  0\\n    0.6959    0.2984   14.6362 C   0  0  0  0  0  0  0  0  0  0  0  0\\n    0.3883   -0.9108   15.5233 C   0  0  0  0  0  0  0  0  0  0  0  0\\n    1.6227   -1.5748   16.1084 C   0  0  0  0  0  0  0  0  0  0  0  0\\n    1.8463   -1.5444   17.4808 C   0  0  0  0  0  0  0  0  0  0  0  0\\n    2.9658   -2.1499   18.0367 C   0  0  0  0  0  0  0  0  0  0  0  0\\n    3.8731   -2.7819   17.2259 C   0  0  0  0  0  0  0  0  0  0  0  0\\n    3.6514   -2.8362   15.8692 C   0  0  0  0  0  0  0  0  0  0  0  0\\n    2.5305   -2.2276   15.2986 C   0  0  0  0  0  0  0  0  0  0  0  0\\n    2.3307   -2.3008   13.8083 C   0  0  0  0  0  0  0  0  0  0  0  0\\n    2.4069   -3.5616   13.3215 C   0  0  0  0  0  0  0  0  0  0  0  0\\n    2.3005   -4.0650   11.9734 C   0  0  0  0  0  0  0  0  0  0  0  0\\n    2.0689   -3.3716   10.8589 C   0  0  0  0  0  0  0  0  0  0  0  0\\n    1.8522   -1.9410   10.7126 C   0  0  0  0  0  0  0  0  0  0  0  0\\n    1.6657   -1.5273    9.5717 O   0  0  0  0  0  0  0  0  0  0  0  0\\n  1  2  1  0\\n  1  4  1  0\\n  2  3  2  0\\n  2 12  1  0\\n  3 16  1  0\\n  4  5  1  0\\n  5  6  1  0\\n  6  7  1  0\\n  6 11  2  0\\n  7  8  2  0\\n  8  9  1  0\\n  9 10  2  0\\n 10 11  1  0\\n 11 12  1  0\\n 12 13  2  0\\n 13 14  1  0\\n 14 15  2  0\\n 15 16  1  0\\n 16 17  2  0\\nM  END\\n\",\"sdf\");\n\tviewer_16496845509251926.addModel(\"BRD4, Ligand 3\\n     RDKit          3D\\n\\n 17 19  0  0  1  0  0  0  0  0999 V2000\\n   14.8225   -2.6526    7.0670 C   0  0  0  0  0  0  0  0  0  0  0  0\\n   15.9205   -2.9824    6.0878 C   0  0  0  0  0  0  0  0  0  0  0  0\\n   17.1348   -3.2244    6.6096 C   0  0  0  0  0  0  0  0  0  0  0  0\\n   14.5694   -1.1432    7.0624 C   0  0  0  0  0  0  0  0  0  0  0  0\\n   14.2261   -0.5773    5.6820 C   0  0  0  0  0  0  0  0  0  0  0  0\\n   13.4919   -1.5551    4.7811 C   0  0  0  0  0  0  0  0  0  0  0  0\\n   12.1764   -1.3042    4.4056 C   0  0  0  0  0  0  0  0  0  0  0  0\\n   11.4887   -2.1826    3.5783 C   0  0  0  0  0  0  0  0  0  0  0  0\\n   12.1065   -3.3207    3.1277 C   0  0  0  0  0  0  0  0  0  0  0  0\\n   13.4142   -3.5686    3.4757 C   0  0  0  0  0  0  0  0  0  0  0  0\\n   14.1147   -2.6937    4.3103 C   0  0  0  0  0  0  0  0  0  0  0  0\\n   15.5409   -3.0075    4.6761 C   0  0  0  0  0  0  0  0  0  0  0  0\\n   16.3225   -3.2654    3.6014 C   0  0  0  0  0  0  0  0  0  0  0  0\\n   17.7163   -3.6270    3.5082 C   0  0  0  0  0  0  0  0  0  0  0  0\\n   18.5907   -3.7708    4.5038 C   0  0  0  0  0  0  0  0  0  0  0  0\\n   18.3743   -3.5902    5.9305 C   0  0  0  0  0  0  0  0  0  0  0  0\\n   19.3397   -3.7904    6.6624 O   0  0  0  0  0  0  0  0  0  0  0  0\\n  1  2  1  0\\n  1  4  1  0\\n  2  3  2  0\\n  2 12  1  0\\n  3 16  1  0\\n  4  5  1  0\\n  5  6  1  0\\n  6  7  1  0\\n  6 11  2  0\\n  7  8  2  0\\n  8  9  1  0\\n  9 10  2  0\\n 10 11  1  0\\n 11 12  1  0\\n 12 13  2  0\\n 13 14  1  0\\n 14 15  2  0\\n 15 16  1  0\\n 16 17  2  0\\nM  END\\n\",\"sdf\");\n\tviewer_16496845509251926.setStyle({\"model\": 0},{\"stick\": {\"colorscheme\": \"lightgreyCarbon\"}});\n\tviewer_16496845509251926.setStyle({\"model\": 1},{\"stick\": {\"colorscheme\": \"purpleCarbon\"}});\n\tviewer_16496845509251926.setStyle({\"model\": 2},{\"stick\": {\"colorscheme\": \"greyCarbon\"}});\n\tviewer_16496845509251926.zoomTo();\nviewer_16496845509251926.render();\n});\n</script>",
      "text/html": [
       "<div id=\"3dmolviewer_16496845509251926\"  style=\"position: relative; width: 640px; height: 480px\">\n",
       "        <p id=\"3dmolwarning_16496845509251926\" style=\"background-color:#ffcccc;color:black\">You appear to be running in JupyterLab (or JavaScript failed to load for some other reason).  You need to install the 3dmol extension: <br>\n",
       "        <tt>jupyter labextension install jupyterlab_3dmol</tt></p>\n",
       "        </div>\n",
       "<script>\n",
       "\n",
       "var loadScriptAsync = function(uri){\n",
       "  return new Promise((resolve, reject) => {\n",
       "    var tag = document.createElement('script');\n",
       "    tag.src = uri;\n",
       "    tag.async = true;\n",
       "    tag.onload = () => {\n",
       "      resolve();\n",
       "    };\n",
       "  var firstScriptTag = document.getElementsByTagName('script')[0];\n",
       "  firstScriptTag.parentNode.insertBefore(tag, firstScriptTag);\n",
       "});\n",
       "};\n",
       "\n",
       "if(typeof $3Dmolpromise === 'undefined') {\n",
       "$3Dmolpromise = null;\n",
       "  $3Dmolpromise = loadScriptAsync('https://3dmol.org/build/3Dmol.js');\n",
       "}\n",
       "\n",
       "var viewer_16496845509251926 = null;\n",
       "var warn = document.getElementById(\"3dmolwarning_16496845509251926\");\n",
       "if(warn) {\n",
       "    warn.parentNode.removeChild(warn);\n",
       "}\n",
       "$3Dmolpromise.then(function() {\n",
       "viewer_16496845509251926 = $3Dmol.createViewer($(\"#3dmolviewer_16496845509251926\"),{backgroundColor:\"white\"});\n",
       "viewer_16496845509251926.zoomTo();\n",
       "\tviewer_16496845509251926.addModel(\"BRD4, Ligand 3\\n     RDKit          3D\\n\\n 28 30  0  0  1  0  0  0  0  0999 V2000\\n   -2.5980   -1.6620   17.4180 O   0  0  0  0  0  0  0  0  0  0  0  0\\n   -1.5620   -1.8410   16.7820 C   0  0  0  0  0  0  0  0  0  0  0  0\\n   -1.0610   -3.2230   16.6120 C   0  0  0  0  0  0  0  0  0  0  0  0\\n   -0.8630   -0.8230   16.2620 N   0  0  0  0  0  0  0  0  0  0  0  0\\n    0.3210   -0.9980   15.4410 C   0  0  0  0  0  0  0  0  0  0  0  0\\n    1.5100   -1.5290   16.2010 C   0  0  0  0  0  0  0  0  0  0  0  0\\n    1.5040   -1.3380   17.5310 C   0  0  0  0  0  0  0  0  0  0  0  0\\n    0.7010    0.3120   14.7470 C   0  0  0  0  0  0  0  0  0  0  0  0\\n    1.9070    0.1900   13.8120 C   0  0  0  0  0  0  0  0  0  0  0  0\\n    2.0470   -1.1760   13.1630 C   0  0  0  0  0  0  0  0  0  0  0  0\\n    1.8890   -1.3140   11.7880 C   0  0  0  0  0  0  0  0  0  0  0  0\\n    2.0180   -2.5530   11.1740 C   0  0  0  0  0  0  0  0  0  0  0  0\\n    2.2970   -3.6630   11.9290 C   0  0  0  0  0  0  0  0  0  0  0  0\\n    2.4760   -3.5350   13.2870 C   0  0  0  0  0  0  0  0  0  0  0  0\\n    2.7490   -4.6590   14.0140 O   0  0  0  0  0  0  0  0  0  0  0  0\\n    1.7330   -5.1660   14.8800 C   0  0  0  0  0  0  0  0  0  0  0  0\\n    2.4860   -4.8720   11.3240 O   0  0  0  0  0  0  0  0  0  0  0  0\\n    1.4570   -5.8030   11.2690 C   0  0  0  0  0  0  0  0  0  0  0  0\\n    1.8780   -2.7410    9.8250 O   0  0  0  0  0  0  0  0  0  0  0  0\\n    1.5630   -1.6740    8.9450 C   0  0  0  0  0  0  0  0  0  0  0  0\\n    2.3450   -2.2940   13.9160 C   0  0  0  0  0  0  0  0  0  0  0  0\\n    2.5380   -2.1990   15.4060 C   0  0  0  0  0  0  0  0  0  0  0  0\\n    3.6970   -2.7550   15.8300 C   0  0  0  0  0  0  0  0  0  0  0  0\\n    4.2500   -2.8990   17.1550 C   0  0  0  0  0  0  0  0  0  0  0  0\\n    3.7300   -2.4760   18.3070 C   0  0  0  0  0  0  0  0  0  0  0  0\\n    2.4870   -1.7540   18.5270 C   0  0  0  0  0  0  0  0  0  0  0  0\\n    2.2110   -1.4770   19.6910 O   0  0  0  0  0  0  0  0  0  0  0  0\\n    4.4140   -2.7540   19.3990 O   0  0  0  0  0  0  0  0  0  0  0  0\\n  1  2  2  0\\n  2  3  1  0\\n  2  4  1  0\\n  4  5  1  0\\n  5  6  1  0\\n  5  8  1  0\\n  6  7  2  0\\n  6 22  1  0\\n  7 26  1  0\\n  8  9  1  0\\n  9 10  1  0\\n 10 11  1  0\\n 10 21  2  0\\n 11 12  2  0\\n 12 13  1  0\\n 12 19  1  0\\n 13 14  2  0\\n 13 17  1  0\\n 14 15  1  0\\n 14 21  1  0\\n 15 16  1  0\\n 17 18  1  0\\n 19 20  1  0\\n 21 22  1  0\\n 22 23  2  0\\n 23 24  1  0\\n 24 25  2  0\\n 25 26  1  0\\n 25 28  1  0\\n 26 27  2  0\\nM  END\\n\",\"sdf\");\n",
       "\tviewer_16496845509251926.addModel(\"BRD4, Ligand 3\\n     RDKit          3D\\n\\n 17 19  0  0  1  0  0  0  0  0999 V2000\\n    2.0344    0.2016   13.9004 C   0  0  0  0  0  0  0  0  0  0  0  0\\n    2.0673   -1.0617   13.0782 C   0  0  0  0  0  0  0  0  0  0  0  0\\n    1.8562   -0.9225   11.7586 C   0  0  0  0  0  0  0  0  0  0  0  0\\n    0.6959    0.2984   14.6362 C   0  0  0  0  0  0  0  0  0  0  0  0\\n    0.3883   -0.9108   15.5233 C   0  0  0  0  0  0  0  0  0  0  0  0\\n    1.6227   -1.5748   16.1084 C   0  0  0  0  0  0  0  0  0  0  0  0\\n    1.8463   -1.5444   17.4808 C   0  0  0  0  0  0  0  0  0  0  0  0\\n    2.9658   -2.1499   18.0367 C   0  0  0  0  0  0  0  0  0  0  0  0\\n    3.8731   -2.7819   17.2259 C   0  0  0  0  0  0  0  0  0  0  0  0\\n    3.6514   -2.8362   15.8692 C   0  0  0  0  0  0  0  0  0  0  0  0\\n    2.5305   -2.2276   15.2986 C   0  0  0  0  0  0  0  0  0  0  0  0\\n    2.3307   -2.3008   13.8083 C   0  0  0  0  0  0  0  0  0  0  0  0\\n    2.4069   -3.5616   13.3215 C   0  0  0  0  0  0  0  0  0  0  0  0\\n    2.3005   -4.0650   11.9734 C   0  0  0  0  0  0  0  0  0  0  0  0\\n    2.0689   -3.3716   10.8589 C   0  0  0  0  0  0  0  0  0  0  0  0\\n    1.8522   -1.9410   10.7126 C   0  0  0  0  0  0  0  0  0  0  0  0\\n    1.6657   -1.5273    9.5717 O   0  0  0  0  0  0  0  0  0  0  0  0\\n  1  2  1  0\\n  1  4  1  0\\n  2  3  2  0\\n  2 12  1  0\\n  3 16  1  0\\n  4  5  1  0\\n  5  6  1  0\\n  6  7  1  0\\n  6 11  2  0\\n  7  8  2  0\\n  8  9  1  0\\n  9 10  2  0\\n 10 11  1  0\\n 11 12  1  0\\n 12 13  2  0\\n 13 14  1  0\\n 14 15  2  0\\n 15 16  1  0\\n 16 17  2  0\\nM  END\\n\",\"sdf\");\n",
       "\tviewer_16496845509251926.addModel(\"BRD4, Ligand 3\\n     RDKit          3D\\n\\n 17 19  0  0  1  0  0  0  0  0999 V2000\\n   14.8225   -2.6526    7.0670 C   0  0  0  0  0  0  0  0  0  0  0  0\\n   15.9205   -2.9824    6.0878 C   0  0  0  0  0  0  0  0  0  0  0  0\\n   17.1348   -3.2244    6.6096 C   0  0  0  0  0  0  0  0  0  0  0  0\\n   14.5694   -1.1432    7.0624 C   0  0  0  0  0  0  0  0  0  0  0  0\\n   14.2261   -0.5773    5.6820 C   0  0  0  0  0  0  0  0  0  0  0  0\\n   13.4919   -1.5551    4.7811 C   0  0  0  0  0  0  0  0  0  0  0  0\\n   12.1764   -1.3042    4.4056 C   0  0  0  0  0  0  0  0  0  0  0  0\\n   11.4887   -2.1826    3.5783 C   0  0  0  0  0  0  0  0  0  0  0  0\\n   12.1065   -3.3207    3.1277 C   0  0  0  0  0  0  0  0  0  0  0  0\\n   13.4142   -3.5686    3.4757 C   0  0  0  0  0  0  0  0  0  0  0  0\\n   14.1147   -2.6937    4.3103 C   0  0  0  0  0  0  0  0  0  0  0  0\\n   15.5409   -3.0075    4.6761 C   0  0  0  0  0  0  0  0  0  0  0  0\\n   16.3225   -3.2654    3.6014 C   0  0  0  0  0  0  0  0  0  0  0  0\\n   17.7163   -3.6270    3.5082 C   0  0  0  0  0  0  0  0  0  0  0  0\\n   18.5907   -3.7708    4.5038 C   0  0  0  0  0  0  0  0  0  0  0  0\\n   18.3743   -3.5902    5.9305 C   0  0  0  0  0  0  0  0  0  0  0  0\\n   19.3397   -3.7904    6.6624 O   0  0  0  0  0  0  0  0  0  0  0  0\\n  1  2  1  0\\n  1  4  1  0\\n  2  3  2  0\\n  2 12  1  0\\n  3 16  1  0\\n  4  5  1  0\\n  5  6  1  0\\n  6  7  1  0\\n  6 11  2  0\\n  7  8  2  0\\n  8  9  1  0\\n  9 10  2  0\\n 10 11  1  0\\n 11 12  1  0\\n 12 13  2  0\\n 13 14  1  0\\n 14 15  2  0\\n 15 16  1  0\\n 16 17  2  0\\nM  END\\n\",\"sdf\");\n",
       "\tviewer_16496845509251926.setStyle({\"model\": 0},{\"stick\": {\"colorscheme\": \"lightgreyCarbon\"}});\n",
       "\tviewer_16496845509251926.setStyle({\"model\": 1},{\"stick\": {\"colorscheme\": \"purpleCarbon\"}});\n",
       "\tviewer_16496845509251926.setStyle({\"model\": 2},{\"stick\": {\"colorscheme\": \"greyCarbon\"}});\n",
       "\tviewer_16496845509251926.zoomTo();\n",
       "viewer_16496845509251926.render();\n",
       "});\n",
       "</script>"
      ]
     },
     "metadata": {},
     "output_type": "display_data"
    },
    {
     "data": {
      "text/plain": [
       "<py3Dmol.view at 0x7f40ff03b820>"
      ]
     },
     "metadata": {},
     "output_type": "display_data"
    },
    {
     "data": {
      "application/3dmoljs_load.v0": "<div id=\"3dmolviewer_1649684550931529\"  style=\"position: relative; width: 640px; height: 480px\">\n        <p id=\"3dmolwarning_1649684550931529\" style=\"background-color:#ffcccc;color:black\">You appear to be running in JupyterLab (or JavaScript failed to load for some other reason).  You need to install the 3dmol extension: <br>\n        <tt>jupyter labextension install jupyterlab_3dmol</tt></p>\n        </div>\n<script>\n\nvar loadScriptAsync = function(uri){\n  return new Promise((resolve, reject) => {\n    var tag = document.createElement('script');\n    tag.src = uri;\n    tag.async = true;\n    tag.onload = () => {\n      resolve();\n    };\n  var firstScriptTag = document.getElementsByTagName('script')[0];\n  firstScriptTag.parentNode.insertBefore(tag, firstScriptTag);\n});\n};\n\nif(typeof $3Dmolpromise === 'undefined') {\n$3Dmolpromise = null;\n  $3Dmolpromise = loadScriptAsync('https://3dmol.org/build/3Dmol.js');\n}\n\nvar viewer_1649684550931529 = null;\nvar warn = document.getElementById(\"3dmolwarning_1649684550931529\");\nif(warn) {\n    warn.parentNode.removeChild(warn);\n}\n$3Dmolpromise.then(function() {\nviewer_1649684550931529 = $3Dmol.createViewer($(\"#3dmolviewer_1649684550931529\"),{backgroundColor:\"white\"});\nviewer_1649684550931529.zoomTo();\n\tviewer_1649684550931529.addModel(\"BRD4, Ligand 6\\n     RDKit          3D\\n\\n 27 29  0  0  0  0  0  0  0  0999 V2000\\n    2.5440    1.0790   12.3730 O   0  0  0  0  0  0  0  0  0  0  0  0\\n    2.6960    1.5850   13.7160 C   0  0  0  0  0  0  0  0  0  0  0  0\\n    2.5440   -0.3150   12.2440 C   0  0  0  0  0  0  0  0  0  0  0  0\\n    2.3270   -0.8650   10.9970 C   0  0  0  0  0  0  0  0  0  0  0  0\\n    2.2710   -2.2500   10.8730 C   0  0  0  0  0  0  0  0  0  0  0  0\\n    2.5640   -5.2610   13.0620 N   0  0  0  0  0  0  0  0  0  0  0  0\\n    1.5670   -1.9880    8.4960 C   0  0  0  0  0  0  0  0  0  0  0  0\\n    2.0400   -2.8230    9.6390 O   0  0  0  0  0  0  0  0  0  0  0  0\\n    2.4560   -3.0890   11.9740 C   0  0  0  0  0  0  0  0  0  0  0  0\\n    4.2340   -7.9140   18.6430 O   0  0  0  0  0  0  0  0  0  0  0  0\\n    2.8670   -3.2920   14.4230 N   0  0  0  0  0  0  0  0  0  0  0  0\\n    2.3840   -4.5480   11.8210 C   0  0  0  0  0  0  0  0  0  0  0  0\\n    2.7770   -4.6200   14.2770 C   0  0  0  0  0  0  0  0  0  0  0  0\\n    6.1530   -9.4750   20.2080 O   0  0  0  0  0  0  0  0  0  0  0  0\\n    2.2030   -5.2120   10.7900 O   0  0  0  0  0  0  0  0  0  0  0  0\\n    3.0080   -5.4910   15.5000 C   0  0  0  0  0  0  0  0  0  0  0  0\\n    3.2760   -6.8410   15.3030 C   0  0  0  0  0  0  0  0  0  0  0  0\\n    3.6340   -7.6610   16.3800 C   0  0  0  0  0  0  0  0  0  0  0  0\\n    3.9320   -9.1210   16.1180 C   0  0  0  0  0  0  0  0  0  0  0  0\\n    3.7410   -7.1070   17.6250 C   0  0  0  0  0  0  0  0  0  0  0  0\\n    5.6580   -7.7100   18.7820 C   0  0  0  0  0  0  0  0  0  0  0  0\\n    6.2500   -9.1430   18.8430 C   0  0  0  0  0  0  0  0  0  0  0  0\\n    3.4820   -5.7410   17.8840 C   0  0  0  0  0  0  0  0  0  0  0  0\\n    3.6820   -5.1610   19.2650 C   0  0  0  0  0  0  0  0  0  0  0  0\\n    3.0890   -4.9160   16.8020 C   0  0  0  0  0  0  0  0  0  0  0  0\\n    2.7030   -2.5300   13.2410 C   0  0  0  0  0  0  0  0  0  0  0  0\\n    2.7640   -1.1260   13.3960 C   0  0  0  0  0  0  0  0  0  0  0  0\\n  1  2  1  0\\n  1  3  1  0\\n  3  4  2  0\\n  3 27  1  0\\n  4  5  1  0\\n  5  8  1  0\\n  5  9  2  0\\n  6 12  1  0\\n  6 13  1  0\\n  7  8  1  0\\n  9 12  1  0\\n  9 26  1  0\\n 10 20  1  0\\n 10 21  1  0\\n 11 13  2  0\\n 11 26  1  0\\n 12 15  2  0\\n 13 16  1  0\\n 14 22  1  0\\n 16 17  2  0\\n 16 25  1  0\\n 17 18  1  0\\n 18 19  1  0\\n 18 20  2  0\\n 20 23  1  0\\n 21 22  1  0\\n 23 24  1  0\\n 23 25  2  0\\n 26 27  2  0\\nM  END\\n\",\"sdf\");\n\tviewer_1649684550931529.addModel(\"BRD4, Ligand 6\\n     RDKit          3D\\n\\n 17 19  0  0  0  0  0  0  0  0999 V2000\\n    1.9969   -3.4501    9.7171 C   0  0  0  0  0  0  0  0  0  0  0  0\\n    1.9782   -2.0905    9.9540 C   0  0  0  0  0  0  0  0  0  0  0  0\\n    2.2346   -1.6284   11.2413 C   0  0  0  0  0  0  0  0  0  0  0  0\\n    3.0256   -3.0403   14.6065 N   0  0  0  0  0  0  0  0  0  0  0  0\\n    2.4821   -2.5088   12.2967 C   0  0  0  0  0  0  0  0  0  0  0  0\\n    2.7510   -4.8671   13.0545 N   0  0  0  0  0  0  0  0  0  0  0  0\\n    2.7590   -1.9979   13.6456 C   0  0  0  0  0  0  0  0  0  0  0  0\\n    3.0246   -4.3904   14.2756 C   0  0  0  0  0  0  0  0  0  0  0  0\\n    2.7805   -0.8233   14.0411 O   0  0  0  0  0  0  0  0  0  0  0  0\\n    3.2648   -5.3886   15.3954 C   0  0  0  0  0  0  0  0  0  0  0  0\\n    3.1884   -4.9342   16.7071 C   0  0  0  0  0  0  0  0  0  0  0  0\\n    3.2618   -5.8330   17.7782 C   0  0  0  0  0  0  0  0  0  0  0  0\\n    3.3840   -7.1683   17.5126 C   0  0  0  0  0  0  0  0  0  0  0  0\\n    3.4650   -7.6872   16.1995 C   0  0  0  0  0  0  0  0  0  0  0  0\\n    3.4228   -6.7774   15.1150 C   0  0  0  0  0  0  0  0  0  0  0  0\\n    2.4759   -3.8957   12.0618 C   0  0  0  0  0  0  0  0  0  0  0  0\\n    2.2193   -4.3930   10.7633 C   0  0  0  0  0  0  0  0  0  0  0  0\\n  1  2  2  0\\n  1 17  1  0\\n  2  3  1  0\\n  3  5  2  0\\n  4  7  1  0\\n  4  8  1  0\\n  5  7  1  0\\n  5 16  1  0\\n  6  8  2  0\\n  6 16  1  0\\n  7  9  2  0\\n  8 10  1  0\\n 10 11  2  0\\n 10 15  1  0\\n 11 12  1  0\\n 12 13  2  0\\n 13 14  1  0\\n 14 15  2  0\\n 16 17  2  0\\nM  END\\n\",\"sdf\");\n\tviewer_1649684550931529.addModel(\"BRD4, Ligand 6\\n     RDKit          3D\\n\\n 17 19  0  0  0  0  0  0  0  0999 V2000\\n   12.3988    3.8074    8.9929 C   0  0  0  0  0  0  0  0  0  0  0  0\\n   11.6076    3.7505    7.8635 C   0  0  0  0  0  0  0  0  0  0  0  0\\n   12.1427    4.1600    6.6459 C   0  0  0  0  0  0  0  0  0  0  0  0\\n   15.3633    5.5148    5.3284 N   0  0  0  0  0  0  0  0  0  0  0  0\\n   13.4471    4.6496    6.5500 C   0  0  0  0  0  0  0  0  0  0  0  0\\n   15.5895    5.1787    7.7068 N   0  0  0  0  0  0  0  0  0  0  0  0\\n   13.9938    5.0680    5.2526 C   0  0  0  0  0  0  0  0  0  0  0  0\\n   16.0859    5.5363    6.5157 C   0  0  0  0  0  0  0  0  0  0  0  0\\n   13.4355    5.0899    4.1461 O   0  0  0  0  0  0  0  0  0  0  0  0\\n   17.5022    6.0837    6.4666 C   0  0  0  0  0  0  0  0  0  0  0  0\\n   17.8960    6.7841    5.3320 C   0  0  0  0  0  0  0  0  0  0  0  0\\n   19.1378    7.4295    5.2881 C   0  0  0  0  0  0  0  0  0  0  0  0\\n   19.9464    7.3814    6.3892 C   0  0  0  0  0  0  0  0  0  0  0  0\\n   19.5974    6.6859    7.5701 C   0  0  0  0  0  0  0  0  0  0  0  0\\n   18.3557    6.0058    7.6058 C   0  0  0  0  0  0  0  0  0  0  0  0\\n   14.2458    4.7323    7.7050 C   0  0  0  0  0  0  0  0  0  0  0  0\\n   13.7280    4.3221    8.9551 C   0  0  0  0  0  0  0  0  0  0  0  0\\n  1  2  2  0\\n  1 17  1  0\\n  2  3  1  0\\n  3  5  2  0\\n  4  7  1  0\\n  4  8  1  0\\n  5  7  1  0\\n  5 16  1  0\\n  6  8  2  0\\n  6 16  1  0\\n  7  9  2  0\\n  8 10  1  0\\n 10 11  2  0\\n 10 15  1  0\\n 11 12  1  0\\n 12 13  2  0\\n 13 14  1  0\\n 14 15  2  0\\n 16 17  2  0\\nM  END\\n\",\"sdf\");\n\tviewer_1649684550931529.setStyle({\"model\": 0},{\"stick\": {\"colorscheme\": \"lightgreyCarbon\"}});\n\tviewer_1649684550931529.setStyle({\"model\": 1},{\"stick\": {\"colorscheme\": \"purpleCarbon\"}});\n\tviewer_1649684550931529.setStyle({\"model\": 2},{\"stick\": {\"colorscheme\": \"greyCarbon\"}});\n\tviewer_1649684550931529.zoomTo();\nviewer_1649684550931529.render();\n});\n</script>",
      "text/html": [
       "<div id=\"3dmolviewer_1649684550931529\"  style=\"position: relative; width: 640px; height: 480px\">\n",
       "        <p id=\"3dmolwarning_1649684550931529\" style=\"background-color:#ffcccc;color:black\">You appear to be running in JupyterLab (or JavaScript failed to load for some other reason).  You need to install the 3dmol extension: <br>\n",
       "        <tt>jupyter labextension install jupyterlab_3dmol</tt></p>\n",
       "        </div>\n",
       "<script>\n",
       "\n",
       "var loadScriptAsync = function(uri){\n",
       "  return new Promise((resolve, reject) => {\n",
       "    var tag = document.createElement('script');\n",
       "    tag.src = uri;\n",
       "    tag.async = true;\n",
       "    tag.onload = () => {\n",
       "      resolve();\n",
       "    };\n",
       "  var firstScriptTag = document.getElementsByTagName('script')[0];\n",
       "  firstScriptTag.parentNode.insertBefore(tag, firstScriptTag);\n",
       "});\n",
       "};\n",
       "\n",
       "if(typeof $3Dmolpromise === 'undefined') {\n",
       "$3Dmolpromise = null;\n",
       "  $3Dmolpromise = loadScriptAsync('https://3dmol.org/build/3Dmol.js');\n",
       "}\n",
       "\n",
       "var viewer_1649684550931529 = null;\n",
       "var warn = document.getElementById(\"3dmolwarning_1649684550931529\");\n",
       "if(warn) {\n",
       "    warn.parentNode.removeChild(warn);\n",
       "}\n",
       "$3Dmolpromise.then(function() {\n",
       "viewer_1649684550931529 = $3Dmol.createViewer($(\"#3dmolviewer_1649684550931529\"),{backgroundColor:\"white\"});\n",
       "viewer_1649684550931529.zoomTo();\n",
       "\tviewer_1649684550931529.addModel(\"BRD4, Ligand 6\\n     RDKit          3D\\n\\n 27 29  0  0  0  0  0  0  0  0999 V2000\\n    2.5440    1.0790   12.3730 O   0  0  0  0  0  0  0  0  0  0  0  0\\n    2.6960    1.5850   13.7160 C   0  0  0  0  0  0  0  0  0  0  0  0\\n    2.5440   -0.3150   12.2440 C   0  0  0  0  0  0  0  0  0  0  0  0\\n    2.3270   -0.8650   10.9970 C   0  0  0  0  0  0  0  0  0  0  0  0\\n    2.2710   -2.2500   10.8730 C   0  0  0  0  0  0  0  0  0  0  0  0\\n    2.5640   -5.2610   13.0620 N   0  0  0  0  0  0  0  0  0  0  0  0\\n    1.5670   -1.9880    8.4960 C   0  0  0  0  0  0  0  0  0  0  0  0\\n    2.0400   -2.8230    9.6390 O   0  0  0  0  0  0  0  0  0  0  0  0\\n    2.4560   -3.0890   11.9740 C   0  0  0  0  0  0  0  0  0  0  0  0\\n    4.2340   -7.9140   18.6430 O   0  0  0  0  0  0  0  0  0  0  0  0\\n    2.8670   -3.2920   14.4230 N   0  0  0  0  0  0  0  0  0  0  0  0\\n    2.3840   -4.5480   11.8210 C   0  0  0  0  0  0  0  0  0  0  0  0\\n    2.7770   -4.6200   14.2770 C   0  0  0  0  0  0  0  0  0  0  0  0\\n    6.1530   -9.4750   20.2080 O   0  0  0  0  0  0  0  0  0  0  0  0\\n    2.2030   -5.2120   10.7900 O   0  0  0  0  0  0  0  0  0  0  0  0\\n    3.0080   -5.4910   15.5000 C   0  0  0  0  0  0  0  0  0  0  0  0\\n    3.2760   -6.8410   15.3030 C   0  0  0  0  0  0  0  0  0  0  0  0\\n    3.6340   -7.6610   16.3800 C   0  0  0  0  0  0  0  0  0  0  0  0\\n    3.9320   -9.1210   16.1180 C   0  0  0  0  0  0  0  0  0  0  0  0\\n    3.7410   -7.1070   17.6250 C   0  0  0  0  0  0  0  0  0  0  0  0\\n    5.6580   -7.7100   18.7820 C   0  0  0  0  0  0  0  0  0  0  0  0\\n    6.2500   -9.1430   18.8430 C   0  0  0  0  0  0  0  0  0  0  0  0\\n    3.4820   -5.7410   17.8840 C   0  0  0  0  0  0  0  0  0  0  0  0\\n    3.6820   -5.1610   19.2650 C   0  0  0  0  0  0  0  0  0  0  0  0\\n    3.0890   -4.9160   16.8020 C   0  0  0  0  0  0  0  0  0  0  0  0\\n    2.7030   -2.5300   13.2410 C   0  0  0  0  0  0  0  0  0  0  0  0\\n    2.7640   -1.1260   13.3960 C   0  0  0  0  0  0  0  0  0  0  0  0\\n  1  2  1  0\\n  1  3  1  0\\n  3  4  2  0\\n  3 27  1  0\\n  4  5  1  0\\n  5  8  1  0\\n  5  9  2  0\\n  6 12  1  0\\n  6 13  1  0\\n  7  8  1  0\\n  9 12  1  0\\n  9 26  1  0\\n 10 20  1  0\\n 10 21  1  0\\n 11 13  2  0\\n 11 26  1  0\\n 12 15  2  0\\n 13 16  1  0\\n 14 22  1  0\\n 16 17  2  0\\n 16 25  1  0\\n 17 18  1  0\\n 18 19  1  0\\n 18 20  2  0\\n 20 23  1  0\\n 21 22  1  0\\n 23 24  1  0\\n 23 25  2  0\\n 26 27  2  0\\nM  END\\n\",\"sdf\");\n",
       "\tviewer_1649684550931529.addModel(\"BRD4, Ligand 6\\n     RDKit          3D\\n\\n 17 19  0  0  0  0  0  0  0  0999 V2000\\n    1.9969   -3.4501    9.7171 C   0  0  0  0  0  0  0  0  0  0  0  0\\n    1.9782   -2.0905    9.9540 C   0  0  0  0  0  0  0  0  0  0  0  0\\n    2.2346   -1.6284   11.2413 C   0  0  0  0  0  0  0  0  0  0  0  0\\n    3.0256   -3.0403   14.6065 N   0  0  0  0  0  0  0  0  0  0  0  0\\n    2.4821   -2.5088   12.2967 C   0  0  0  0  0  0  0  0  0  0  0  0\\n    2.7510   -4.8671   13.0545 N   0  0  0  0  0  0  0  0  0  0  0  0\\n    2.7590   -1.9979   13.6456 C   0  0  0  0  0  0  0  0  0  0  0  0\\n    3.0246   -4.3904   14.2756 C   0  0  0  0  0  0  0  0  0  0  0  0\\n    2.7805   -0.8233   14.0411 O   0  0  0  0  0  0  0  0  0  0  0  0\\n    3.2648   -5.3886   15.3954 C   0  0  0  0  0  0  0  0  0  0  0  0\\n    3.1884   -4.9342   16.7071 C   0  0  0  0  0  0  0  0  0  0  0  0\\n    3.2618   -5.8330   17.7782 C   0  0  0  0  0  0  0  0  0  0  0  0\\n    3.3840   -7.1683   17.5126 C   0  0  0  0  0  0  0  0  0  0  0  0\\n    3.4650   -7.6872   16.1995 C   0  0  0  0  0  0  0  0  0  0  0  0\\n    3.4228   -6.7774   15.1150 C   0  0  0  0  0  0  0  0  0  0  0  0\\n    2.4759   -3.8957   12.0618 C   0  0  0  0  0  0  0  0  0  0  0  0\\n    2.2193   -4.3930   10.7633 C   0  0  0  0  0  0  0  0  0  0  0  0\\n  1  2  2  0\\n  1 17  1  0\\n  2  3  1  0\\n  3  5  2  0\\n  4  7  1  0\\n  4  8  1  0\\n  5  7  1  0\\n  5 16  1  0\\n  6  8  2  0\\n  6 16  1  0\\n  7  9  2  0\\n  8 10  1  0\\n 10 11  2  0\\n 10 15  1  0\\n 11 12  1  0\\n 12 13  2  0\\n 13 14  1  0\\n 14 15  2  0\\n 16 17  2  0\\nM  END\\n\",\"sdf\");\n",
       "\tviewer_1649684550931529.addModel(\"BRD4, Ligand 6\\n     RDKit          3D\\n\\n 17 19  0  0  0  0  0  0  0  0999 V2000\\n   12.3988    3.8074    8.9929 C   0  0  0  0  0  0  0  0  0  0  0  0\\n   11.6076    3.7505    7.8635 C   0  0  0  0  0  0  0  0  0  0  0  0\\n   12.1427    4.1600    6.6459 C   0  0  0  0  0  0  0  0  0  0  0  0\\n   15.3633    5.5148    5.3284 N   0  0  0  0  0  0  0  0  0  0  0  0\\n   13.4471    4.6496    6.5500 C   0  0  0  0  0  0  0  0  0  0  0  0\\n   15.5895    5.1787    7.7068 N   0  0  0  0  0  0  0  0  0  0  0  0\\n   13.9938    5.0680    5.2526 C   0  0  0  0  0  0  0  0  0  0  0  0\\n   16.0859    5.5363    6.5157 C   0  0  0  0  0  0  0  0  0  0  0  0\\n   13.4355    5.0899    4.1461 O   0  0  0  0  0  0  0  0  0  0  0  0\\n   17.5022    6.0837    6.4666 C   0  0  0  0  0  0  0  0  0  0  0  0\\n   17.8960    6.7841    5.3320 C   0  0  0  0  0  0  0  0  0  0  0  0\\n   19.1378    7.4295    5.2881 C   0  0  0  0  0  0  0  0  0  0  0  0\\n   19.9464    7.3814    6.3892 C   0  0  0  0  0  0  0  0  0  0  0  0\\n   19.5974    6.6859    7.5701 C   0  0  0  0  0  0  0  0  0  0  0  0\\n   18.3557    6.0058    7.6058 C   0  0  0  0  0  0  0  0  0  0  0  0\\n   14.2458    4.7323    7.7050 C   0  0  0  0  0  0  0  0  0  0  0  0\\n   13.7280    4.3221    8.9551 C   0  0  0  0  0  0  0  0  0  0  0  0\\n  1  2  2  0\\n  1 17  1  0\\n  2  3  1  0\\n  3  5  2  0\\n  4  7  1  0\\n  4  8  1  0\\n  5  7  1  0\\n  5 16  1  0\\n  6  8  2  0\\n  6 16  1  0\\n  7  9  2  0\\n  8 10  1  0\\n 10 11  2  0\\n 10 15  1  0\\n 11 12  1  0\\n 12 13  2  0\\n 13 14  1  0\\n 14 15  2  0\\n 16 17  2  0\\nM  END\\n\",\"sdf\");\n",
       "\tviewer_1649684550931529.setStyle({\"model\": 0},{\"stick\": {\"colorscheme\": \"lightgreyCarbon\"}});\n",
       "\tviewer_1649684550931529.setStyle({\"model\": 1},{\"stick\": {\"colorscheme\": \"purpleCarbon\"}});\n",
       "\tviewer_1649684550931529.setStyle({\"model\": 2},{\"stick\": {\"colorscheme\": \"greyCarbon\"}});\n",
       "\tviewer_1649684550931529.zoomTo();\n",
       "viewer_1649684550931529.render();\n",
       "});\n",
       "</script>"
      ]
     },
     "metadata": {},
     "output_type": "display_data"
    },
    {
     "data": {
      "text/plain": [
       "<py3Dmol.view at 0x7f40ff03b0d0>"
      ]
     },
     "metadata": {},
     "output_type": "display_data"
    }
   ],
   "source": [
    "for _, (i, lig) in df[df.RMSDf > rmsd_threshold][[\"idx\", \"lig\"]].iterrows():\n",
    "    p = show_scaffold(mols[i], tMSmols[i])\n",
    "\n",
    "    with Chem.SDWriter(f\"failed-{method}/{lig}_alignfail.sdf\") as w:\n",
    "        w.write(tMSmols[i], confId=1)\n",
    "\n",
    "    display(p)"
   ]
  },
  {
   "cell_type": "markdown",
   "metadata": {},
   "source": [
    "### Repeats"
   ]
  },
  {
   "cell_type": "markdown",
   "metadata": {},
   "source": [
    "Repeat calculations multiple times in order to gather some statistics:"
   ]
  },
  {
   "cell_type": "code",
   "execution_count": 17,
   "metadata": {},
   "outputs": [],
   "source": [
    "for _ in range(repeats):\n",
    "    for i, f in enumerate(files):\n",
    "        rmsd_i, rmsd_f, _, _ = align_and_show_scaffold(\n",
    "            mols[i], pcds[i], tMSmols[i], tMSpcds[i], MSmols[i]\n",
    "        )\n",
    "        rmsdreps[\"system\"].append(\"BRD4\")\n",
    "        rmsdreps[\"lig\"].append(\n",
    "            os.path.splitext(os.path.basename(f))[0].replace(\n",
    "                f\"_murcko_tran_{method}\", \"\"\n",
    "            )\n",
    "        )\n",
    "        rmsdreps[\"RMSDi\"].append(rmsd_i)\n",
    "        rmsdreps[\"RMSDf\"].append(rmsd_f)\n",
    "        rmsdreps[\"idx\"].append(i)"
   ]
  },
  {
   "cell_type": "markdown",
   "metadata": {},
   "source": [
    "## CDK2 Inhibitors"
   ]
  },
  {
   "cell_type": "code",
   "execution_count": 18,
   "metadata": {},
   "outputs": [],
   "source": [
    "path = \"../ligands/CDK2\""
   ]
  },
  {
   "cell_type": "markdown",
   "metadata": {},
   "source": [
    "Loda original CDK2 inhibitors together with their point cloud representation (pre-computed):"
   ]
  },
  {
   "cell_type": "code",
   "execution_count": 19,
   "metadata": {},
   "outputs": [
    {
     "name": "stdout",
     "output_type": "stream",
     "text": [
      "['../ligands/CDK2/4ek4_B_1CK_molgrid.pcd', '../ligands/CDK2/4ek5_B_03K_molgrid.pcd', '../ligands/CDK2/4fkg_B_4CK_molgrid.pcd', '../ligands/CDK2/4fki_B_09K_molgrid.pcd', '../ligands/CDK2/4fkj_B_11K_molgrid.pcd', '../ligands/CDK2/3sw4_B_18K_molgrid.pcd', '../ligands/CDK2/3sw7_B_19K_molgrid.pcd', '../ligands/CDK2/4fko_B_20K_molgrid.pcd', '../ligands/CDK2/4fkp_B_LS5_molgrid.pcd', '../ligands/CDK2/4fkq_B_42K_molgrid.pcd', '../ligands/CDK2/4fkr_B_45K_molgrid.pcd', '../ligands/CDK2/4fks_B_46K_molgrid.pcd', '../ligands/CDK2/4fkt_B_48K_molgrid.pcd', '../ligands/CDK2/4fku_D_60K_molgrid.pcd', '../ligands/CDK2/4fkv_B_61K_molgrid.pcd', '../ligands/CDK2/4fkw_B_62K_molgrid.pcd']\n"
     ]
    }
   ],
   "source": [
    "files = []\n",
    "for f in os.listdir(path):\n",
    "    fname, ext = os.path.splitext(f)\n",
    "    if ext == \".pcd\" and method in f and not \"tran\" in f:\n",
    "        files.append(os.path.join(path, f))\n",
    "\n",
    "# Order ligands\n",
    "# This should make the three chemical series pop-up in the PCD fit\n",
    "names = {\n",
    "    \"4ek4_B_1CK\": \"CS1\",\n",
    "    \"4ek5_B_03K\": \"CS3\",\n",
    "    \"4fkg_B_4CK\": \"CS4\",\n",
    "    \"4fki_B_09K\": \"CS9\",\n",
    "    \"4fkj_B_11K\": \"CS11\",\n",
    "    \"3sw4_B_18K\": \"CS18\",\n",
    "    \"3sw7_B_19K\": \"CS19\",\n",
    "    \"4fko_B_20K\": \"CS20\",\n",
    "    \"4fkp_B_LS5\": \"CS241\",\n",
    "    \"4fkq_B_42K\": \"CS242\",\n",
    "    \"4fkr_B_45K\": \"CS245\",\n",
    "    \"4fks_B_46K\": \"CS246\",\n",
    "    \"4fkt_B_48K\": \"CS248\",\n",
    "    \"4fku_D_60K\": \"CS260\",\n",
    "    \"4fkv_B_61K\": \"CS261\",\n",
    "    \"4fkw_B_62K\": \"CS262\",\n",
    "}\n",
    "\n",
    "files.sort(\n",
    "    key=lambda f: int(\n",
    "        names[\n",
    "            os.path.splitext(os.path.basename(f))[0].replace(f\"_{method}\", \"\")\n",
    "        ].replace(\"CS\", \"\")\n",
    "    )\n",
    ")\n",
    "\n",
    "print(files)\n",
    "\n",
    "pcds = []\n",
    "mols = []\n",
    "for f in files:\n",
    "    pcd = o3d.io.read_point_cloud(f)\n",
    "    pcds.append(pcd)\n",
    "\n",
    "    s = Chem.SDMolSupplier(f.replace(\".pcd\", \".sdf\").replace(f\"_{method}\", \"\"))\n",
    "    mol = next(s)\n",
    "    mols.append(mol)"
   ]
  },
  {
   "cell_type": "markdown",
   "metadata": {},
   "source": [
    "Load original CDK2 Murcko scaffolds:"
   ]
  },
  {
   "cell_type": "code",
   "execution_count": 20,
   "metadata": {},
   "outputs": [
    {
     "name": "stdout",
     "output_type": "stream",
     "text": [
      "['../ligands/CDK2/4ek4_B_1CK_murcko.sdf', '../ligands/CDK2/4ek5_B_03K_murcko.sdf', '../ligands/CDK2/4fkg_B_4CK_murcko.sdf', '../ligands/CDK2/4fki_B_09K_murcko.sdf', '../ligands/CDK2/4fkj_B_11K_murcko.sdf', '../ligands/CDK2/3sw4_B_18K_murcko.sdf', '../ligands/CDK2/3sw7_B_19K_murcko.sdf', '../ligands/CDK2/4fko_B_20K_murcko.sdf', '../ligands/CDK2/4fkp_B_LS5_murcko.sdf', '../ligands/CDK2/4fkq_B_42K_murcko.sdf', '../ligands/CDK2/4fkr_B_45K_murcko.sdf', '../ligands/CDK2/4fks_B_46K_murcko.sdf', '../ligands/CDK2/4fkt_B_48K_murcko.sdf', '../ligands/CDK2/4fku_D_60K_murcko.sdf', '../ligands/CDK2/4fkv_B_61K_murcko.sdf', '../ligands/CDK2/4fkw_B_62K_murcko.sdf']\n"
     ]
    }
   ],
   "source": [
    "files = []\n",
    "for f in os.listdir(path):\n",
    "    fname, ext = os.path.splitext(f)\n",
    "    if ext == \".sdf\" and \"murcko\" in f and not \"tran\" in f:\n",
    "        files.append(os.path.join(path, f))\n",
    "\n",
    "# Order ligands\n",
    "# This should make the three chemical series pop-up in the PCD fit\n",
    "names = {\n",
    "    \"4ek4_B_1CK\": \"CS1\",\n",
    "    \"4ek5_B_03K\": \"CS3\",\n",
    "    \"4fkg_B_4CK\": \"CS4\",\n",
    "    \"4fki_B_09K\": \"CS9\",\n",
    "    \"4fkj_B_11K\": \"CS11\",\n",
    "    \"3sw4_B_18K\": \"CS18\",\n",
    "    \"3sw7_B_19K\": \"CS19\",\n",
    "    \"4fko_B_20K\": \"CS20\",\n",
    "    \"4fkp_B_LS5\": \"CS241\",\n",
    "    \"4fkq_B_42K\": \"CS242\",\n",
    "    \"4fkr_B_45K\": \"CS245\",\n",
    "    \"4fks_B_46K\": \"CS246\",\n",
    "    \"4fkt_B_48K\": \"CS248\",\n",
    "    \"4fku_D_60K\": \"CS260\",\n",
    "    \"4fkv_B_61K\": \"CS261\",\n",
    "    \"4fkw_B_62K\": \"CS262\",\n",
    "}\n",
    "\n",
    "files.sort(\n",
    "    key=lambda f: int(\n",
    "        names[os.path.splitext(os.path.basename(f))[0].replace(f\"_murcko\", \"\")].replace(\n",
    "            \"CS\", \"\"\n",
    "        )\n",
    "    )\n",
    ")\n",
    "\n",
    "print(files)\n",
    "\n",
    "MSmols = []\n",
    "for f in files:\n",
    "    s = Chem.SDMolSupplier(f.replace(\".pcd\", \".sdf\").replace(f\"_{method}\", \"\"))\n",
    "    mol = next(s)\n",
    "    MSmols.append(mol)"
   ]
  },
  {
   "cell_type": "markdown",
   "metadata": {},
   "source": [
    "Load translated and rotated CDK2 Murcko scaffolds with their point-cloud representation (pre-computed):"
   ]
  },
  {
   "cell_type": "code",
   "execution_count": 21,
   "metadata": {},
   "outputs": [
    {
     "name": "stdout",
     "output_type": "stream",
     "text": [
      "['../ligands/CDK2/4ek4_B_1CK_murcko_tran_molgrid.pcd', '../ligands/CDK2/4ek5_B_03K_murcko_tran_molgrid.pcd', '../ligands/CDK2/4fkg_B_4CK_murcko_tran_molgrid.pcd', '../ligands/CDK2/4fki_B_09K_murcko_tran_molgrid.pcd', '../ligands/CDK2/4fkj_B_11K_murcko_tran_molgrid.pcd', '../ligands/CDK2/3sw4_B_18K_murcko_tran_molgrid.pcd', '../ligands/CDK2/3sw7_B_19K_murcko_tran_molgrid.pcd', '../ligands/CDK2/4fko_B_20K_murcko_tran_molgrid.pcd', '../ligands/CDK2/4fkp_B_LS5_murcko_tran_molgrid.pcd', '../ligands/CDK2/4fkq_B_42K_murcko_tran_molgrid.pcd', '../ligands/CDK2/4fkr_B_45K_murcko_tran_molgrid.pcd', '../ligands/CDK2/4fks_B_46K_murcko_tran_molgrid.pcd', '../ligands/CDK2/4fkt_B_48K_murcko_tran_molgrid.pcd', '../ligands/CDK2/4fku_D_60K_murcko_tran_molgrid.pcd', '../ligands/CDK2/4fkv_B_61K_murcko_tran_molgrid.pcd', '../ligands/CDK2/4fkw_B_62K_murcko_tran_molgrid.pcd']\n"
     ]
    }
   ],
   "source": [
    "files = []\n",
    "for f in os.listdir(path):\n",
    "    fname, ext = os.path.splitext(f)\n",
    "    if ext == \".pcd\" and f\"_murcko_tran_{method}\" in fname:\n",
    "        files.append(os.path.join(path, f))\n",
    "\n",
    "# Order ligands\n",
    "# This should make the three chemical series pop-up in the PCD fit\n",
    "names = {\n",
    "    \"4ek4_B_1CK\": \"CS1\",\n",
    "    \"4ek5_B_03K\": \"CS3\",\n",
    "    \"4fkg_B_4CK\": \"CS4\",\n",
    "    \"4fki_B_09K\": \"CS9\",\n",
    "    \"4fkj_B_11K\": \"CS11\",\n",
    "    \"3sw4_B_18K\": \"CS18\",\n",
    "    \"3sw7_B_19K\": \"CS19\",\n",
    "    \"4fko_B_20K\": \"CS20\",\n",
    "    \"4fkp_B_LS5\": \"CS241\",\n",
    "    \"4fkq_B_42K\": \"CS242\",\n",
    "    \"4fkr_B_45K\": \"CS245\",\n",
    "    \"4fks_B_46K\": \"CS246\",\n",
    "    \"4fkt_B_48K\": \"CS248\",\n",
    "    \"4fku_D_60K\": \"CS260\",\n",
    "    \"4fkv_B_61K\": \"CS261\",\n",
    "    \"4fkw_B_62K\": \"CS262\",\n",
    "}\n",
    "\n",
    "files.sort(\n",
    "    key=lambda f: int(\n",
    "        names[\n",
    "            os.path.splitext(os.path.basename(f))[0].replace(\n",
    "                f\"_murcko_tran_{method}\", \"\"\n",
    "            )\n",
    "        ].replace(\"CS\", \"\")\n",
    "    )\n",
    ")\n",
    "\n",
    "print(files)\n",
    "\n",
    "tMSpcds = []\n",
    "tMSmols = []\n",
    "for f in files:\n",
    "    pcd = o3d.io.read_point_cloud(f)\n",
    "    tMSpcds.append(pcd)\n",
    "\n",
    "    s = Chem.SDMolSupplier(f.replace(\".pcd\", \".sdf\").replace(f\"_{method}\", \"\"))\n",
    "    mol = next(s)\n",
    "    tMSmols.append(mol)"
   ]
  },
  {
   "cell_type": "code",
   "execution_count": 22,
   "metadata": {},
   "outputs": [],
   "source": [
    "for i, f in enumerate(files):\n",
    "    rmsd_i, rmsd_f, _, _ = align_and_show_scaffold(\n",
    "        mols[i], pcds[i], tMSmols[i], tMSpcds[i], MSmols[i]\n",
    "    )\n",
    "    rmsds[\"system\"].append(\"CDK2\")\n",
    "    rmsds[\"lig\"].append(\n",
    "        names[\n",
    "            os.path.splitext(os.path.basename(f))[0].replace(\n",
    "                f\"_murcko_tran_{method}\", \"\"\n",
    "            )\n",
    "        ]\n",
    "    )\n",
    "    rmsds[\"RMSDi\"].append(rmsd_i)\n",
    "    rmsds[\"RMSDf\"].append(rmsd_f)\n",
    "    rmsds[\"idx\"].append(i)"
   ]
  },
  {
   "cell_type": "markdown",
   "metadata": {},
   "source": [
    "### Failures"
   ]
  },
  {
   "cell_type": "code",
   "execution_count": 23,
   "metadata": {},
   "outputs": [],
   "source": [
    "df = pd.DataFrame(rmsds)\n",
    "df = df[df.system == \"CDK2\"]"
   ]
  },
  {
   "cell_type": "code",
   "execution_count": 24,
   "metadata": {},
   "outputs": [
    {
     "data": {
      "text/html": [
       "<div>\n",
       "<style scoped>\n",
       "    .dataframe tbody tr th:only-of-type {\n",
       "        vertical-align: middle;\n",
       "    }\n",
       "\n",
       "    .dataframe tbody tr th {\n",
       "        vertical-align: top;\n",
       "    }\n",
       "\n",
       "    .dataframe thead th {\n",
       "        text-align: right;\n",
       "    }\n",
       "</style>\n",
       "<table border=\"1\" class=\"dataframe\">\n",
       "  <thead>\n",
       "    <tr style=\"text-align: right;\">\n",
       "      <th></th>\n",
       "      <th>system</th>\n",
       "      <th>lig</th>\n",
       "      <th>RMSDi</th>\n",
       "      <th>RMSDf</th>\n",
       "      <th>idx</th>\n",
       "    </tr>\n",
       "  </thead>\n",
       "  <tbody>\n",
       "    <tr>\n",
       "      <th>17</th>\n",
       "      <td>CDK2</td>\n",
       "      <td>CS20</td>\n",
       "      <td>52.549371</td>\n",
       "      <td>5.477436</td>\n",
       "      <td>7</td>\n",
       "    </tr>\n",
       "    <tr>\n",
       "      <th>23</th>\n",
       "      <td>CDK2</td>\n",
       "      <td>CS260</td>\n",
       "      <td>19.393635</td>\n",
       "      <td>6.821876</td>\n",
       "      <td>13</td>\n",
       "    </tr>\n",
       "    <tr>\n",
       "      <th>24</th>\n",
       "      <td>CDK2</td>\n",
       "      <td>CS261</td>\n",
       "      <td>51.522771</td>\n",
       "      <td>6.602887</td>\n",
       "      <td>14</td>\n",
       "    </tr>\n",
       "  </tbody>\n",
       "</table>\n",
       "</div>"
      ],
      "text/plain": [
       "   system    lig      RMSDi     RMSDf  idx\n",
       "17   CDK2   CS20  52.549371  5.477436    7\n",
       "23   CDK2  CS260  19.393635  6.821876   13\n",
       "24   CDK2  CS261  51.522771  6.602887   14"
      ]
     },
     "execution_count": 24,
     "metadata": {},
     "output_type": "execute_result"
    }
   ],
   "source": [
    "df[df.RMSDf >= rmsd_threshold]"
   ]
  },
  {
   "cell_type": "code",
   "execution_count": 25,
   "metadata": {},
   "outputs": [
    {
     "data": {
      "application/3dmoljs_load.v0": "<div id=\"3dmolviewer_164968461637083\"  style=\"position: relative; width: 640px; height: 480px\">\n        <p id=\"3dmolwarning_164968461637083\" style=\"background-color:#ffcccc;color:black\">You appear to be running in JupyterLab (or JavaScript failed to load for some other reason).  You need to install the 3dmol extension: <br>\n        <tt>jupyter labextension install jupyterlab_3dmol</tt></p>\n        </div>\n<script>\n\nvar loadScriptAsync = function(uri){\n  return new Promise((resolve, reject) => {\n    var tag = document.createElement('script');\n    tag.src = uri;\n    tag.async = true;\n    tag.onload = () => {\n      resolve();\n    };\n  var firstScriptTag = document.getElementsByTagName('script')[0];\n  firstScriptTag.parentNode.insertBefore(tag, firstScriptTag);\n});\n};\n\nif(typeof $3Dmolpromise === 'undefined') {\n$3Dmolpromise = null;\n  $3Dmolpromise = loadScriptAsync('https://3dmol.org/build/3Dmol.js');\n}\n\nvar viewer_164968461637083 = null;\nvar warn = document.getElementById(\"3dmolwarning_164968461637083\");\nif(warn) {\n    warn.parentNode.removeChild(warn);\n}\n$3Dmolpromise.then(function() {\nviewer_164968461637083 = $3Dmol.createViewer($(\"#3dmolviewer_164968461637083\"),{backgroundColor:\"white\"});\nviewer_164968461637083.zoomTo();\n\tviewer_164968461637083.addModel(\"4fko_B_20K.pdb\\n     RDKit          3D\\n\\n 24 26  0  0  1  0  0  0  0  0999 V2000\\n   -0.4030   -7.8710   26.1380 S   0  0  0  0  0  0  0  0  0  0  0  0\\n   -6.3020   -9.4460   31.6250 Cl  0  0  0  0  0  0  0  0  0  0  0  0\\n    0.9760   -9.4080   24.2240 C   0  0  0  0  0  0  0  0  0  0  0  0\\n    1.8050   -7.2130   25.0040 N   0  0  0  0  0  0  0  0  0  0  0  0\\n    0.9050   -8.1540   25.0300 C   0  0  0  0  0  0  0  0  0  0  0  0\\n   -2.1040   -4.1070   29.1780 N   0  0  0  0  0  0  0  0  0  0  0  0\\n    1.5270   -6.1850   25.8890 C   0  0  0  0  0  0  0  0  0  0  0  0\\n   -3.3290   -5.9970   29.4940 N   0  0  0  0  0  0  0  0  0  0  0  0\\n    2.5200   -5.0840   26.0570 C   0  0  0  0  0  0  0  0  0  0  0  0\\n   -5.6780  -11.1570   29.1940 N   0  0  0  0  0  0  0  0  0  0  0  0\\n    0.3300   -6.3570   26.5900 C   0  0  0  0  0  0  0  0  0  0  0  0\\n   -1.4800   -6.1450   28.0870 N   0  0  0  0  0  0  0  0  0  0  0  0\\n   -0.4560   -5.5050   27.5020 C   0  0  0  0  0  0  0  0  0  0  0  0\\n   -0.1920   -4.1590   27.7170 C   0  0  0  0  0  0  0  0  0  0  0  0\\n   -1.0730   -3.5100   28.5630 C   0  0  0  0  0  0  0  0  0  0  0  0\\n   -2.2720   -5.4030   28.9000 C   0  0  0  0  0  0  0  0  0  0  0  0\\n   -3.8980   -7.2760   29.3520 C   0  0  0  0  0  0  0  0  0  0  0  0\\n   -3.5780   -8.1620   28.3290 C   0  0  0  0  0  0  0  0  0  0  0  0\\n   -4.1340   -9.4280   28.2940 C   0  0  0  0  0  0  0  0  0  0  0  0\\n   -5.0110   -9.8320   29.2890 C   0  0  0  0  0  0  0  0  0  0  0  0\\n   -4.9340  -12.1440   28.3600 C   0  0  0  0  0  0  0  0  0  0  0  0\\n   -7.1010  -11.0460   28.7600 C   0  0  0  0  0  0  0  0  0  0  0  0\\n   -5.3170   -8.9480   30.2980 C   0  0  0  0  0  0  0  0  0  0  0  0\\n   -4.8000   -7.6720   30.3310 C   0  0  0  0  0  0  0  0  0  0  0  0\\n  1  5  1  0\\n  1 11  1  0\\n  2 23  1  0\\n  3  5  1  0\\n  4  5  2  0\\n  4  7  1  0\\n  6 15  2  0\\n  6 16  1  0\\n  7  9  1  0\\n  7 11  2  0\\n  8 16  1  0\\n  8 17  1  0\\n 10 21  1  0\\n 10 22  1  0\\n 10 20  1  0\\n 12 13  1  0\\n 12 16  2  0\\n 13 11  1  0\\n 13 14  2  0\\n 14 15  1  0\\n 17 18  2  0\\n 17 24  1  0\\n 18 19  1  0\\n 19 20  2  0\\n 20 23  1  0\\n 23 24  2  0\\nM  END\\n\",\"sdf\");\n\tviewer_164968461637083.addModel(\"4fko_B_20K.pdb\\n     RDKit          3D\\n\\n 18 20  0  0  1  0  0  0  0  0999 V2000\\n   -2.9582   -8.2169   28.4472 S   0  0  0  0  0  0  0  0  0  0  0  0\\n   -4.9345   -7.8759   30.0510 N   0  0  0  0  0  0  0  0  0  0  0  0\\n   -4.3194   -8.7929   29.3605 C   0  0  0  0  0  0  0  0  0  0  0  0\\n   -0.2407   -3.8981   27.9308 N   0  0  0  0  0  0  0  0  0  0  0  0\\n   -4.3707   -6.6212   29.8922 C   0  0  0  0  0  0  0  0  0  0  0  0\\n    0.4398   -5.4500   26.4138 N   0  0  0  0  0  0  0  0  0  0  0  0\\n   -3.2479   -6.6123   29.0598 C   0  0  0  0  0  0  0  0  0  0  0  0\\n   -1.4132   -5.9753   27.7218 N   0  0  0  0  0  0  0  0  0  0  0  0\\n   -2.2414   -5.5938   28.7062 C   0  0  0  0  0  0  0  0  0  0  0  0\\n   -2.1298   -4.3669   29.3465 C   0  0  0  0  0  0  0  0  0  0  0  0\\n   -1.0878   -3.5660   28.9155 C   0  0  0  0  0  0  0  0  0  0  0  0\\n   -0.4327   -5.1018   27.3835 C   0  0  0  0  0  0  0  0  0  0  0  0\\n    0.6416   -6.6517   25.7102 C   0  0  0  0  0  0  0  0  0  0  0  0\\n    0.0723   -7.8691   26.0679 C   0  0  0  0  0  0  0  0  0  0  0  0\\n    0.2676   -8.9943   25.2877 C   0  0  0  0  0  0  0  0  0  0  0  0\\n    1.0269   -8.9168   24.1302 C   0  0  0  0  0  0  0  0  0  0  0  0\\n    1.5819   -7.7062   23.7846 C   0  0  0  0  0  0  0  0  0  0  0  0\\n    1.4268   -6.5833   24.5667 C   0  0  0  0  0  0  0  0  0  0  0  0\\n  1  3  1  0\\n  1  7  1  0\\n  2  3  2  0\\n  2  5  1  0\\n  4 11  2  0\\n  4 12  1  0\\n  5  7  2  0\\n  6 12  1  0\\n  6 13  1  0\\n  8  9  1  0\\n  8 12  2  0\\n  9  7  1  0\\n  9 10  2  0\\n 10 11  1  0\\n 13 14  2  0\\n 13 18  1  0\\n 14 15  1  0\\n 15 16  2  0\\n 16 17  1  0\\n 17 18  2  0\\nM  END\\n\",\"sdf\");\n\tviewer_164968461637083.addModel(\"4fko_B_20K.pdb\\n     RDKit          3D\\n\\n 18 20  0  0  1  0  0  0  0  0999 V2000\\n   14.6135   20.8021  -11.6269 S   0  0  0  0  0  0  0  0  0  0  0  0\\n   13.2393   21.2266   -9.4995 N   0  0  0  0  0  0  0  0  0  0  0  0\\n   13.1118   20.9987  -10.7754 C   0  0  0  0  0  0  0  0  0  0  0  0\\n   19.6114   20.4160  -10.5431 N   0  0  0  0  0  0  0  0  0  0  0  0\\n   14.5632   21.2786   -9.0971 C   0  0  0  0  0  0  0  0  0  0  0  0\\n   19.2925   20.5125  -12.7929 N   0  0  0  0  0  0  0  0  0  0  0  0\\n   15.4733   21.0409  -10.1310 C   0  0  0  0  0  0  0  0  0  0  0  0\\n   17.4244   20.8083  -11.4353 N   0  0  0  0  0  0  0  0  0  0  0  0\\n   16.9342   20.8459  -10.1868 C   0  0  0  0  0  0  0  0  0  0  0  0\\n   17.7324   20.6817   -9.0627 C   0  0  0  0  0  0  0  0  0  0  0  0\\n   19.0728   20.4532   -9.3159 C   0  0  0  0  0  0  0  0  0  0  0  0\\n   18.7559   20.5818  -11.5559 C   0  0  0  0  0  0  0  0  0  0  0  0\\n   18.7141   20.5053  -14.0756 C   0  0  0  0  0  0  0  0  0  0  0  0\\n   17.3549   20.3366  -14.3165 C   0  0  0  0  0  0  0  0  0  0  0  0\\n   16.8538   20.4053  -15.6038 C   0  0  0  0  0  0  0  0  0  0  0  0\\n   17.7038   20.6554  -16.6703 C   0  0  0  0  0  0  0  0  0  0  0  0\\n   19.0460   20.8244  -16.4191 C   0  0  0  0  0  0  0  0  0  0  0  0\\n   19.5680   20.7256  -15.1485 C   0  0  0  0  0  0  0  0  0  0  0  0\\n  1  3  1  0\\n  1  7  1  0\\n  2  3  2  0\\n  2  5  1  0\\n  4 11  2  0\\n  4 12  1  0\\n  5  7  2  0\\n  6 12  1  0\\n  6 13  1  0\\n  8  9  1  0\\n  8 12  2  0\\n  9  7  1  0\\n  9 10  2  0\\n 10 11  1  0\\n 13 14  2  0\\n 13 18  1  0\\n 14 15  1  0\\n 15 16  2  0\\n 16 17  1  0\\n 17 18  2  0\\nM  END\\n\",\"sdf\");\n\tviewer_164968461637083.setStyle({\"model\": 0},{\"stick\": {\"colorscheme\": \"lightgreyCarbon\"}});\n\tviewer_164968461637083.setStyle({\"model\": 1},{\"stick\": {\"colorscheme\": \"purpleCarbon\"}});\n\tviewer_164968461637083.setStyle({\"model\": 2},{\"stick\": {\"colorscheme\": \"greyCarbon\"}});\n\tviewer_164968461637083.zoomTo();\nviewer_164968461637083.render();\n});\n</script>",
      "text/html": [
       "<div id=\"3dmolviewer_164968461637083\"  style=\"position: relative; width: 640px; height: 480px\">\n",
       "        <p id=\"3dmolwarning_164968461637083\" style=\"background-color:#ffcccc;color:black\">You appear to be running in JupyterLab (or JavaScript failed to load for some other reason).  You need to install the 3dmol extension: <br>\n",
       "        <tt>jupyter labextension install jupyterlab_3dmol</tt></p>\n",
       "        </div>\n",
       "<script>\n",
       "\n",
       "var loadScriptAsync = function(uri){\n",
       "  return new Promise((resolve, reject) => {\n",
       "    var tag = document.createElement('script');\n",
       "    tag.src = uri;\n",
       "    tag.async = true;\n",
       "    tag.onload = () => {\n",
       "      resolve();\n",
       "    };\n",
       "  var firstScriptTag = document.getElementsByTagName('script')[0];\n",
       "  firstScriptTag.parentNode.insertBefore(tag, firstScriptTag);\n",
       "});\n",
       "};\n",
       "\n",
       "if(typeof $3Dmolpromise === 'undefined') {\n",
       "$3Dmolpromise = null;\n",
       "  $3Dmolpromise = loadScriptAsync('https://3dmol.org/build/3Dmol.js');\n",
       "}\n",
       "\n",
       "var viewer_164968461637083 = null;\n",
       "var warn = document.getElementById(\"3dmolwarning_164968461637083\");\n",
       "if(warn) {\n",
       "    warn.parentNode.removeChild(warn);\n",
       "}\n",
       "$3Dmolpromise.then(function() {\n",
       "viewer_164968461637083 = $3Dmol.createViewer($(\"#3dmolviewer_164968461637083\"),{backgroundColor:\"white\"});\n",
       "viewer_164968461637083.zoomTo();\n",
       "\tviewer_164968461637083.addModel(\"4fko_B_20K.pdb\\n     RDKit          3D\\n\\n 24 26  0  0  1  0  0  0  0  0999 V2000\\n   -0.4030   -7.8710   26.1380 S   0  0  0  0  0  0  0  0  0  0  0  0\\n   -6.3020   -9.4460   31.6250 Cl  0  0  0  0  0  0  0  0  0  0  0  0\\n    0.9760   -9.4080   24.2240 C   0  0  0  0  0  0  0  0  0  0  0  0\\n    1.8050   -7.2130   25.0040 N   0  0  0  0  0  0  0  0  0  0  0  0\\n    0.9050   -8.1540   25.0300 C   0  0  0  0  0  0  0  0  0  0  0  0\\n   -2.1040   -4.1070   29.1780 N   0  0  0  0  0  0  0  0  0  0  0  0\\n    1.5270   -6.1850   25.8890 C   0  0  0  0  0  0  0  0  0  0  0  0\\n   -3.3290   -5.9970   29.4940 N   0  0  0  0  0  0  0  0  0  0  0  0\\n    2.5200   -5.0840   26.0570 C   0  0  0  0  0  0  0  0  0  0  0  0\\n   -5.6780  -11.1570   29.1940 N   0  0  0  0  0  0  0  0  0  0  0  0\\n    0.3300   -6.3570   26.5900 C   0  0  0  0  0  0  0  0  0  0  0  0\\n   -1.4800   -6.1450   28.0870 N   0  0  0  0  0  0  0  0  0  0  0  0\\n   -0.4560   -5.5050   27.5020 C   0  0  0  0  0  0  0  0  0  0  0  0\\n   -0.1920   -4.1590   27.7170 C   0  0  0  0  0  0  0  0  0  0  0  0\\n   -1.0730   -3.5100   28.5630 C   0  0  0  0  0  0  0  0  0  0  0  0\\n   -2.2720   -5.4030   28.9000 C   0  0  0  0  0  0  0  0  0  0  0  0\\n   -3.8980   -7.2760   29.3520 C   0  0  0  0  0  0  0  0  0  0  0  0\\n   -3.5780   -8.1620   28.3290 C   0  0  0  0  0  0  0  0  0  0  0  0\\n   -4.1340   -9.4280   28.2940 C   0  0  0  0  0  0  0  0  0  0  0  0\\n   -5.0110   -9.8320   29.2890 C   0  0  0  0  0  0  0  0  0  0  0  0\\n   -4.9340  -12.1440   28.3600 C   0  0  0  0  0  0  0  0  0  0  0  0\\n   -7.1010  -11.0460   28.7600 C   0  0  0  0  0  0  0  0  0  0  0  0\\n   -5.3170   -8.9480   30.2980 C   0  0  0  0  0  0  0  0  0  0  0  0\\n   -4.8000   -7.6720   30.3310 C   0  0  0  0  0  0  0  0  0  0  0  0\\n  1  5  1  0\\n  1 11  1  0\\n  2 23  1  0\\n  3  5  1  0\\n  4  5  2  0\\n  4  7  1  0\\n  6 15  2  0\\n  6 16  1  0\\n  7  9  1  0\\n  7 11  2  0\\n  8 16  1  0\\n  8 17  1  0\\n 10 21  1  0\\n 10 22  1  0\\n 10 20  1  0\\n 12 13  1  0\\n 12 16  2  0\\n 13 11  1  0\\n 13 14  2  0\\n 14 15  1  0\\n 17 18  2  0\\n 17 24  1  0\\n 18 19  1  0\\n 19 20  2  0\\n 20 23  1  0\\n 23 24  2  0\\nM  END\\n\",\"sdf\");\n",
       "\tviewer_164968461637083.addModel(\"4fko_B_20K.pdb\\n     RDKit          3D\\n\\n 18 20  0  0  1  0  0  0  0  0999 V2000\\n   -2.9582   -8.2169   28.4472 S   0  0  0  0  0  0  0  0  0  0  0  0\\n   -4.9345   -7.8759   30.0510 N   0  0  0  0  0  0  0  0  0  0  0  0\\n   -4.3194   -8.7929   29.3605 C   0  0  0  0  0  0  0  0  0  0  0  0\\n   -0.2407   -3.8981   27.9308 N   0  0  0  0  0  0  0  0  0  0  0  0\\n   -4.3707   -6.6212   29.8922 C   0  0  0  0  0  0  0  0  0  0  0  0\\n    0.4398   -5.4500   26.4138 N   0  0  0  0  0  0  0  0  0  0  0  0\\n   -3.2479   -6.6123   29.0598 C   0  0  0  0  0  0  0  0  0  0  0  0\\n   -1.4132   -5.9753   27.7218 N   0  0  0  0  0  0  0  0  0  0  0  0\\n   -2.2414   -5.5938   28.7062 C   0  0  0  0  0  0  0  0  0  0  0  0\\n   -2.1298   -4.3669   29.3465 C   0  0  0  0  0  0  0  0  0  0  0  0\\n   -1.0878   -3.5660   28.9155 C   0  0  0  0  0  0  0  0  0  0  0  0\\n   -0.4327   -5.1018   27.3835 C   0  0  0  0  0  0  0  0  0  0  0  0\\n    0.6416   -6.6517   25.7102 C   0  0  0  0  0  0  0  0  0  0  0  0\\n    0.0723   -7.8691   26.0679 C   0  0  0  0  0  0  0  0  0  0  0  0\\n    0.2676   -8.9943   25.2877 C   0  0  0  0  0  0  0  0  0  0  0  0\\n    1.0269   -8.9168   24.1302 C   0  0  0  0  0  0  0  0  0  0  0  0\\n    1.5819   -7.7062   23.7846 C   0  0  0  0  0  0  0  0  0  0  0  0\\n    1.4268   -6.5833   24.5667 C   0  0  0  0  0  0  0  0  0  0  0  0\\n  1  3  1  0\\n  1  7  1  0\\n  2  3  2  0\\n  2  5  1  0\\n  4 11  2  0\\n  4 12  1  0\\n  5  7  2  0\\n  6 12  1  0\\n  6 13  1  0\\n  8  9  1  0\\n  8 12  2  0\\n  9  7  1  0\\n  9 10  2  0\\n 10 11  1  0\\n 13 14  2  0\\n 13 18  1  0\\n 14 15  1  0\\n 15 16  2  0\\n 16 17  1  0\\n 17 18  2  0\\nM  END\\n\",\"sdf\");\n",
       "\tviewer_164968461637083.addModel(\"4fko_B_20K.pdb\\n     RDKit          3D\\n\\n 18 20  0  0  1  0  0  0  0  0999 V2000\\n   14.6135   20.8021  -11.6269 S   0  0  0  0  0  0  0  0  0  0  0  0\\n   13.2393   21.2266   -9.4995 N   0  0  0  0  0  0  0  0  0  0  0  0\\n   13.1118   20.9987  -10.7754 C   0  0  0  0  0  0  0  0  0  0  0  0\\n   19.6114   20.4160  -10.5431 N   0  0  0  0  0  0  0  0  0  0  0  0\\n   14.5632   21.2786   -9.0971 C   0  0  0  0  0  0  0  0  0  0  0  0\\n   19.2925   20.5125  -12.7929 N   0  0  0  0  0  0  0  0  0  0  0  0\\n   15.4733   21.0409  -10.1310 C   0  0  0  0  0  0  0  0  0  0  0  0\\n   17.4244   20.8083  -11.4353 N   0  0  0  0  0  0  0  0  0  0  0  0\\n   16.9342   20.8459  -10.1868 C   0  0  0  0  0  0  0  0  0  0  0  0\\n   17.7324   20.6817   -9.0627 C   0  0  0  0  0  0  0  0  0  0  0  0\\n   19.0728   20.4532   -9.3159 C   0  0  0  0  0  0  0  0  0  0  0  0\\n   18.7559   20.5818  -11.5559 C   0  0  0  0  0  0  0  0  0  0  0  0\\n   18.7141   20.5053  -14.0756 C   0  0  0  0  0  0  0  0  0  0  0  0\\n   17.3549   20.3366  -14.3165 C   0  0  0  0  0  0  0  0  0  0  0  0\\n   16.8538   20.4053  -15.6038 C   0  0  0  0  0  0  0  0  0  0  0  0\\n   17.7038   20.6554  -16.6703 C   0  0  0  0  0  0  0  0  0  0  0  0\\n   19.0460   20.8244  -16.4191 C   0  0  0  0  0  0  0  0  0  0  0  0\\n   19.5680   20.7256  -15.1485 C   0  0  0  0  0  0  0  0  0  0  0  0\\n  1  3  1  0\\n  1  7  1  0\\n  2  3  2  0\\n  2  5  1  0\\n  4 11  2  0\\n  4 12  1  0\\n  5  7  2  0\\n  6 12  1  0\\n  6 13  1  0\\n  8  9  1  0\\n  8 12  2  0\\n  9  7  1  0\\n  9 10  2  0\\n 10 11  1  0\\n 13 14  2  0\\n 13 18  1  0\\n 14 15  1  0\\n 15 16  2  0\\n 16 17  1  0\\n 17 18  2  0\\nM  END\\n\",\"sdf\");\n",
       "\tviewer_164968461637083.setStyle({\"model\": 0},{\"stick\": {\"colorscheme\": \"lightgreyCarbon\"}});\n",
       "\tviewer_164968461637083.setStyle({\"model\": 1},{\"stick\": {\"colorscheme\": \"purpleCarbon\"}});\n",
       "\tviewer_164968461637083.setStyle({\"model\": 2},{\"stick\": {\"colorscheme\": \"greyCarbon\"}});\n",
       "\tviewer_164968461637083.zoomTo();\n",
       "viewer_164968461637083.render();\n",
       "});\n",
       "</script>"
      ]
     },
     "metadata": {},
     "output_type": "display_data"
    },
    {
     "data": {
      "text/plain": [
       "<py3Dmol.view at 0x7f41a9c66c10>"
      ]
     },
     "metadata": {},
     "output_type": "display_data"
    },
    {
     "data": {
      "application/3dmoljs_load.v0": "<div id=\"3dmolviewer_16496846163760552\"  style=\"position: relative; width: 640px; height: 480px\">\n        <p id=\"3dmolwarning_16496846163760552\" style=\"background-color:#ffcccc;color:black\">You appear to be running in JupyterLab (or JavaScript failed to load for some other reason).  You need to install the 3dmol extension: <br>\n        <tt>jupyter labextension install jupyterlab_3dmol</tt></p>\n        </div>\n<script>\n\nvar loadScriptAsync = function(uri){\n  return new Promise((resolve, reject) => {\n    var tag = document.createElement('script');\n    tag.src = uri;\n    tag.async = true;\n    tag.onload = () => {\n      resolve();\n    };\n  var firstScriptTag = document.getElementsByTagName('script')[0];\n  firstScriptTag.parentNode.insertBefore(tag, firstScriptTag);\n});\n};\n\nif(typeof $3Dmolpromise === 'undefined') {\n$3Dmolpromise = null;\n  $3Dmolpromise = loadScriptAsync('https://3dmol.org/build/3Dmol.js');\n}\n\nvar viewer_16496846163760552 = null;\nvar warn = document.getElementById(\"3dmolwarning_16496846163760552\");\nif(warn) {\n    warn.parentNode.removeChild(warn);\n}\n$3Dmolpromise.then(function() {\nviewer_16496846163760552 = $3Dmol.createViewer($(\"#3dmolviewer_16496846163760552\"),{backgroundColor:\"white\"});\nviewer_16496846163760552.zoomTo();\n\tviewer_16496846163760552.addModel(\"4fku_D_60K.pdb\\n     RDKit          3D\\n\\n 25 27  0  0  0  0  0  0  0  0999 V2000\\n   -6.5210  -11.2940   28.5120 S   0  0  0  0  0  0  0  0  0  0  0  0\\n   -5.2430  -10.1010   28.7100 C   0  0  0  0  0  0  0  0  0  0  0  0\\n   -5.9890  -12.4620   27.5410 N   0  0  0  0  0  0  0  0  0  0  0  0\\n   -6.7880  -11.8910   29.7870 O   0  0  0  0  0  0  0  0  0  0  0  0\\n   -5.3490   -9.1920   29.7430 C   0  0  0  0  0  0  0  0  0  0  0  0\\n   -2.5430   -6.9730   29.0430 N   0  0  0  0  0  0  0  0  0  0  0  0\\n   -7.6070  -10.6500   27.8680 O   0  0  0  0  0  0  0  0  0  0  0  0\\n   -4.4530   -8.1530   29.8290 C   0  0  0  0  0  0  0  0  0  0  0  0\\n   -1.4210   -6.8820   28.2420 N   0  0  0  0  0  0  0  0  0  0  0  0\\n   -1.9200   -4.4840   29.9930 O   0  0  0  0  0  0  0  0  0  0  0  0\\n   -3.4520   -8.0060   28.8830 C   0  0  0  0  0  0  0  0  0  0  0  0\\n   -0.0690   -3.6730   28.8370 N   0  0  0  0  0  0  0  0  0  0  0  0\\n    4.2030   -5.7750   24.5690 O   0  0  0  0  0  0  0  0  0  0  0  0\\n   -0.7240   -5.8010   28.3230 C   0  0  0  0  0  0  0  0  0  0  0  0\\n    2.7970   -7.4930   24.7620 O   0  0  0  0  0  0  0  0  0  0  0  0\\n   -1.0070   -4.5990   29.1690 C   0  0  0  0  0  0  0  0  0  0  0  0\\n    0.8260   -4.1650   27.8840 C   0  0  0  0  0  0  0  0  0  0  0  0\\n    1.9090   -3.5320   27.2870 C   0  0  0  0  0  0  0  0  0  0  0  0\\n    2.6710   -4.2510   26.3810 C   0  0  0  0  0  0  0  0  0  0  0  0\\n    2.3620   -5.5700   26.0520 C   0  0  0  0  0  0  0  0  0  0  0  0\\n    3.1940   -6.3050   25.0470 C   0  0  0  0  0  0  0  0  0  0  0  0\\n    1.2530   -6.1870   26.6340 C   0  0  0  0  0  0  0  0  0  0  0  0\\n    0.4720   -5.4870   27.5560 C   0  0  0  0  0  0  0  0  0  0  0  0\\n   -3.3370   -8.9390   27.8610 C   0  0  0  0  0  0  0  0  0  0  0  0\\n   -4.2180   -9.9990   27.7840 C   0  0  0  0  0  0  0  0  0  0  0  0\\n  1  3  1  0\\n  1  4  2  0\\n  1  7  2  0\\n  1  2  1  0\\n  2  5  2  0\\n  2 25  1  0\\n  5  8  1  0\\n  6 11  1  0\\n  6  9  1  0\\n  8 11  2  0\\n  9 14  2  0\\n 10 16  2  0\\n 11 24  1  0\\n 12 16  1  0\\n 12 17  1  0\\n 13 21  2  0\\n 14 23  1  0\\n 14 16  1  0\\n 15 21  1  0\\n 17 23  2  0\\n 17 18  1  0\\n 18 19  2  0\\n 19 20  1  0\\n 20 21  1  0\\n 20 22  2  0\\n 22 23  1  0\\n 24 25  2  0\\nM  END\\n\",\"sdf\");\n\tviewer_16496846163760552.addModel(\"4fku_D_60K.pdb\\n     RDKit          3D\\n\\n 18 20  0  0  0  0  0  0  0  0999 V2000\\n    2.3519   -4.4735   26.5971 C   0  0  0  0  0  0  0  0  0  0  0  0\\n    2.2021   -5.7476   26.0886 C   0  0  0  0  0  0  0  0  0  0  0  0\\n   -0.8210   -6.8563   27.7971 N   0  0  0  0  0  0  0  0  0  0  0  0\\n    1.1357   -6.5180   26.4875 C   0  0  0  0  0  0  0  0  0  0  0  0\\n   -1.6697   -6.4884   28.8235 N   0  0  0  0  0  0  0  0  0  0  0  0\\n   -2.4996   -8.9648   27.3253 O   0  0  0  0  0  0  0  0  0  0  0  0\\n    0.2064   -6.0225   27.3873 C   0  0  0  0  0  0  0  0  0  0  0  0\\n   -4.3371   -8.8031   28.7458 N   0  0  0  0  0  0  0  0  0  0  0  0\\n   -2.7079   -7.2253   29.0237 C   0  0  0  0  0  0  0  0  0  0  0  0\\n   -3.1298   -8.4314   28.2441 C   0  0  0  0  0  0  0  0  0  0  0  0\\n   -4.7299   -7.9818   29.8052 C   0  0  0  0  0  0  0  0  0  0  0  0\\n   -5.8894   -8.0279   30.5691 C   0  0  0  0  0  0  0  0  0  0  0  0\\n   -6.0351   -7.1098   31.5958 C   0  0  0  0  0  0  0  0  0  0  0  0\\n   -5.0618   -6.1465   31.8573 C   0  0  0  0  0  0  0  0  0  0  0  0\\n   -3.9145   -6.0886   31.0638 C   0  0  0  0  0  0  0  0  0  0  0  0\\n   -3.7393   -7.0070   30.0266 C   0  0  0  0  0  0  0  0  0  0  0  0\\n    0.3780   -4.7488   27.9131 C   0  0  0  0  0  0  0  0  0  0  0  0\\n    1.4609   -3.9802   27.5360 C   0  0  0  0  0  0  0  0  0  0  0  0\\n  1  2  2  0\\n  1 18  1  0\\n  2  4  1  0\\n  3  7  1  0\\n  3  5  1  0\\n  4  7  2  0\\n  5  9  2  0\\n  6 10  2  0\\n  7 17  1  0\\n  8 10  1  0\\n  8 11  1  0\\n  9 16  1  0\\n  9 10  1  0\\n 11 16  2  0\\n 11 12  1  0\\n 12 13  2  0\\n 13 14  1  0\\n 14 15  2  0\\n 15 16  1  0\\n 17 18  2  0\\nM  END\\n\",\"sdf\");\n\tviewer_16496846163760552.addModel(\"4fku_D_60K.pdb\\n     RDKit          3D\\n\\n 18 20  0  0  0  0  0  0  0  0999 V2000\\n    6.6927  -23.3237   19.1533 C   0  0  0  0  0  0  0  0  0  0  0  0\\n    6.9637  -23.1462   20.4948 C   0  0  0  0  0  0  0  0  0  0  0  0\\n    9.4126  -20.4483   20.3859 N   0  0  0  0  0  0  0  0  0  0  0  0\\n    7.8580  -22.1780   20.8855 C   0  0  0  0  0  0  0  0  0  0  0  0\\n   10.1975  -19.7471   19.4908 N   0  0  0  0  0  0  0  0  0  0  0  0\\n   10.3752  -18.7945   22.3415 O   0  0  0  0  0  0  0  0  0  0  0  0\\n    8.4811  -21.3740   19.9453 C   0  0  0  0  0  0  0  0  0  0  0  0\\n   11.7406  -17.1811   21.3653 N   0  0  0  0  0  0  0  0  0  0  0  0\\n   10.9039  -18.7764   19.9595 C   0  0  0  0  0  0  0  0  0  0  0  0\\n   10.9513  -18.2876   21.3735 C   0  0  0  0  0  0  0  0  0  0  0  0\\n   12.2477  -16.9194   20.0903 C   0  0  0  0  0  0  0  0  0  0  0  0\\n   13.0770  -15.8871   19.6698 C   0  0  0  0  0  0  0  0  0  0  0  0\\n   13.4701  -15.8613   18.3420 C   0  0  0  0  0  0  0  0  0  0  0  0\\n   13.0391  -16.8276   17.4342 C   0  0  0  0  0  0  0  0  0  0  0  0\\n   12.1806  -17.8431   17.8597 C   0  0  0  0  0  0  0  0  0  0  0  0\\n   11.7747  -17.8965   19.1948 C   0  0  0  0  0  0  0  0  0  0  0  0\\n    8.2217  -21.5757   18.5961 C   0  0  0  0  0  0  0  0  0  0  0  0\\n    7.3441  -22.5634   18.1961 C   0  0  0  0  0  0  0  0  0  0  0  0\\n  1  2  2  0\\n  1 18  1  0\\n  2  4  1  0\\n  3  7  1  0\\n  3  5  1  0\\n  4  7  2  0\\n  5  9  2  0\\n  6 10  2  0\\n  7 17  1  0\\n  8 10  1  0\\n  8 11  1  0\\n  9 16  1  0\\n  9 10  1  0\\n 11 16  2  0\\n 11 12  1  0\\n 12 13  2  0\\n 13 14  1  0\\n 14 15  2  0\\n 15 16  1  0\\n 17 18  2  0\\nM  END\\n\",\"sdf\");\n\tviewer_16496846163760552.setStyle({\"model\": 0},{\"stick\": {\"colorscheme\": \"lightgreyCarbon\"}});\n\tviewer_16496846163760552.setStyle({\"model\": 1},{\"stick\": {\"colorscheme\": \"purpleCarbon\"}});\n\tviewer_16496846163760552.setStyle({\"model\": 2},{\"stick\": {\"colorscheme\": \"greyCarbon\"}});\n\tviewer_16496846163760552.zoomTo();\nviewer_16496846163760552.render();\n});\n</script>",
      "text/html": [
       "<div id=\"3dmolviewer_16496846163760552\"  style=\"position: relative; width: 640px; height: 480px\">\n",
       "        <p id=\"3dmolwarning_16496846163760552\" style=\"background-color:#ffcccc;color:black\">You appear to be running in JupyterLab (or JavaScript failed to load for some other reason).  You need to install the 3dmol extension: <br>\n",
       "        <tt>jupyter labextension install jupyterlab_3dmol</tt></p>\n",
       "        </div>\n",
       "<script>\n",
       "\n",
       "var loadScriptAsync = function(uri){\n",
       "  return new Promise((resolve, reject) => {\n",
       "    var tag = document.createElement('script');\n",
       "    tag.src = uri;\n",
       "    tag.async = true;\n",
       "    tag.onload = () => {\n",
       "      resolve();\n",
       "    };\n",
       "  var firstScriptTag = document.getElementsByTagName('script')[0];\n",
       "  firstScriptTag.parentNode.insertBefore(tag, firstScriptTag);\n",
       "});\n",
       "};\n",
       "\n",
       "if(typeof $3Dmolpromise === 'undefined') {\n",
       "$3Dmolpromise = null;\n",
       "  $3Dmolpromise = loadScriptAsync('https://3dmol.org/build/3Dmol.js');\n",
       "}\n",
       "\n",
       "var viewer_16496846163760552 = null;\n",
       "var warn = document.getElementById(\"3dmolwarning_16496846163760552\");\n",
       "if(warn) {\n",
       "    warn.parentNode.removeChild(warn);\n",
       "}\n",
       "$3Dmolpromise.then(function() {\n",
       "viewer_16496846163760552 = $3Dmol.createViewer($(\"#3dmolviewer_16496846163760552\"),{backgroundColor:\"white\"});\n",
       "viewer_16496846163760552.zoomTo();\n",
       "\tviewer_16496846163760552.addModel(\"4fku_D_60K.pdb\\n     RDKit          3D\\n\\n 25 27  0  0  0  0  0  0  0  0999 V2000\\n   -6.5210  -11.2940   28.5120 S   0  0  0  0  0  0  0  0  0  0  0  0\\n   -5.2430  -10.1010   28.7100 C   0  0  0  0  0  0  0  0  0  0  0  0\\n   -5.9890  -12.4620   27.5410 N   0  0  0  0  0  0  0  0  0  0  0  0\\n   -6.7880  -11.8910   29.7870 O   0  0  0  0  0  0  0  0  0  0  0  0\\n   -5.3490   -9.1920   29.7430 C   0  0  0  0  0  0  0  0  0  0  0  0\\n   -2.5430   -6.9730   29.0430 N   0  0  0  0  0  0  0  0  0  0  0  0\\n   -7.6070  -10.6500   27.8680 O   0  0  0  0  0  0  0  0  0  0  0  0\\n   -4.4530   -8.1530   29.8290 C   0  0  0  0  0  0  0  0  0  0  0  0\\n   -1.4210   -6.8820   28.2420 N   0  0  0  0  0  0  0  0  0  0  0  0\\n   -1.9200   -4.4840   29.9930 O   0  0  0  0  0  0  0  0  0  0  0  0\\n   -3.4520   -8.0060   28.8830 C   0  0  0  0  0  0  0  0  0  0  0  0\\n   -0.0690   -3.6730   28.8370 N   0  0  0  0  0  0  0  0  0  0  0  0\\n    4.2030   -5.7750   24.5690 O   0  0  0  0  0  0  0  0  0  0  0  0\\n   -0.7240   -5.8010   28.3230 C   0  0  0  0  0  0  0  0  0  0  0  0\\n    2.7970   -7.4930   24.7620 O   0  0  0  0  0  0  0  0  0  0  0  0\\n   -1.0070   -4.5990   29.1690 C   0  0  0  0  0  0  0  0  0  0  0  0\\n    0.8260   -4.1650   27.8840 C   0  0  0  0  0  0  0  0  0  0  0  0\\n    1.9090   -3.5320   27.2870 C   0  0  0  0  0  0  0  0  0  0  0  0\\n    2.6710   -4.2510   26.3810 C   0  0  0  0  0  0  0  0  0  0  0  0\\n    2.3620   -5.5700   26.0520 C   0  0  0  0  0  0  0  0  0  0  0  0\\n    3.1940   -6.3050   25.0470 C   0  0  0  0  0  0  0  0  0  0  0  0\\n    1.2530   -6.1870   26.6340 C   0  0  0  0  0  0  0  0  0  0  0  0\\n    0.4720   -5.4870   27.5560 C   0  0  0  0  0  0  0  0  0  0  0  0\\n   -3.3370   -8.9390   27.8610 C   0  0  0  0  0  0  0  0  0  0  0  0\\n   -4.2180   -9.9990   27.7840 C   0  0  0  0  0  0  0  0  0  0  0  0\\n  1  3  1  0\\n  1  4  2  0\\n  1  7  2  0\\n  1  2  1  0\\n  2  5  2  0\\n  2 25  1  0\\n  5  8  1  0\\n  6 11  1  0\\n  6  9  1  0\\n  8 11  2  0\\n  9 14  2  0\\n 10 16  2  0\\n 11 24  1  0\\n 12 16  1  0\\n 12 17  1  0\\n 13 21  2  0\\n 14 23  1  0\\n 14 16  1  0\\n 15 21  1  0\\n 17 23  2  0\\n 17 18  1  0\\n 18 19  2  0\\n 19 20  1  0\\n 20 21  1  0\\n 20 22  2  0\\n 22 23  1  0\\n 24 25  2  0\\nM  END\\n\",\"sdf\");\n",
       "\tviewer_16496846163760552.addModel(\"4fku_D_60K.pdb\\n     RDKit          3D\\n\\n 18 20  0  0  0  0  0  0  0  0999 V2000\\n    2.3519   -4.4735   26.5971 C   0  0  0  0  0  0  0  0  0  0  0  0\\n    2.2021   -5.7476   26.0886 C   0  0  0  0  0  0  0  0  0  0  0  0\\n   -0.8210   -6.8563   27.7971 N   0  0  0  0  0  0  0  0  0  0  0  0\\n    1.1357   -6.5180   26.4875 C   0  0  0  0  0  0  0  0  0  0  0  0\\n   -1.6697   -6.4884   28.8235 N   0  0  0  0  0  0  0  0  0  0  0  0\\n   -2.4996   -8.9648   27.3253 O   0  0  0  0  0  0  0  0  0  0  0  0\\n    0.2064   -6.0225   27.3873 C   0  0  0  0  0  0  0  0  0  0  0  0\\n   -4.3371   -8.8031   28.7458 N   0  0  0  0  0  0  0  0  0  0  0  0\\n   -2.7079   -7.2253   29.0237 C   0  0  0  0  0  0  0  0  0  0  0  0\\n   -3.1298   -8.4314   28.2441 C   0  0  0  0  0  0  0  0  0  0  0  0\\n   -4.7299   -7.9818   29.8052 C   0  0  0  0  0  0  0  0  0  0  0  0\\n   -5.8894   -8.0279   30.5691 C   0  0  0  0  0  0  0  0  0  0  0  0\\n   -6.0351   -7.1098   31.5958 C   0  0  0  0  0  0  0  0  0  0  0  0\\n   -5.0618   -6.1465   31.8573 C   0  0  0  0  0  0  0  0  0  0  0  0\\n   -3.9145   -6.0886   31.0638 C   0  0  0  0  0  0  0  0  0  0  0  0\\n   -3.7393   -7.0070   30.0266 C   0  0  0  0  0  0  0  0  0  0  0  0\\n    0.3780   -4.7488   27.9131 C   0  0  0  0  0  0  0  0  0  0  0  0\\n    1.4609   -3.9802   27.5360 C   0  0  0  0  0  0  0  0  0  0  0  0\\n  1  2  2  0\\n  1 18  1  0\\n  2  4  1  0\\n  3  7  1  0\\n  3  5  1  0\\n  4  7  2  0\\n  5  9  2  0\\n  6 10  2  0\\n  7 17  1  0\\n  8 10  1  0\\n  8 11  1  0\\n  9 16  1  0\\n  9 10  1  0\\n 11 16  2  0\\n 11 12  1  0\\n 12 13  2  0\\n 13 14  1  0\\n 14 15  2  0\\n 15 16  1  0\\n 17 18  2  0\\nM  END\\n\",\"sdf\");\n",
       "\tviewer_16496846163760552.addModel(\"4fku_D_60K.pdb\\n     RDKit          3D\\n\\n 18 20  0  0  0  0  0  0  0  0999 V2000\\n    6.6927  -23.3237   19.1533 C   0  0  0  0  0  0  0  0  0  0  0  0\\n    6.9637  -23.1462   20.4948 C   0  0  0  0  0  0  0  0  0  0  0  0\\n    9.4126  -20.4483   20.3859 N   0  0  0  0  0  0  0  0  0  0  0  0\\n    7.8580  -22.1780   20.8855 C   0  0  0  0  0  0  0  0  0  0  0  0\\n   10.1975  -19.7471   19.4908 N   0  0  0  0  0  0  0  0  0  0  0  0\\n   10.3752  -18.7945   22.3415 O   0  0  0  0  0  0  0  0  0  0  0  0\\n    8.4811  -21.3740   19.9453 C   0  0  0  0  0  0  0  0  0  0  0  0\\n   11.7406  -17.1811   21.3653 N   0  0  0  0  0  0  0  0  0  0  0  0\\n   10.9039  -18.7764   19.9595 C   0  0  0  0  0  0  0  0  0  0  0  0\\n   10.9513  -18.2876   21.3735 C   0  0  0  0  0  0  0  0  0  0  0  0\\n   12.2477  -16.9194   20.0903 C   0  0  0  0  0  0  0  0  0  0  0  0\\n   13.0770  -15.8871   19.6698 C   0  0  0  0  0  0  0  0  0  0  0  0\\n   13.4701  -15.8613   18.3420 C   0  0  0  0  0  0  0  0  0  0  0  0\\n   13.0391  -16.8276   17.4342 C   0  0  0  0  0  0  0  0  0  0  0  0\\n   12.1806  -17.8431   17.8597 C   0  0  0  0  0  0  0  0  0  0  0  0\\n   11.7747  -17.8965   19.1948 C   0  0  0  0  0  0  0  0  0  0  0  0\\n    8.2217  -21.5757   18.5961 C   0  0  0  0  0  0  0  0  0  0  0  0\\n    7.3441  -22.5634   18.1961 C   0  0  0  0  0  0  0  0  0  0  0  0\\n  1  2  2  0\\n  1 18  1  0\\n  2  4  1  0\\n  3  7  1  0\\n  3  5  1  0\\n  4  7  2  0\\n  5  9  2  0\\n  6 10  2  0\\n  7 17  1  0\\n  8 10  1  0\\n  8 11  1  0\\n  9 16  1  0\\n  9 10  1  0\\n 11 16  2  0\\n 11 12  1  0\\n 12 13  2  0\\n 13 14  1  0\\n 14 15  2  0\\n 15 16  1  0\\n 17 18  2  0\\nM  END\\n\",\"sdf\");\n",
       "\tviewer_16496846163760552.setStyle({\"model\": 0},{\"stick\": {\"colorscheme\": \"lightgreyCarbon\"}});\n",
       "\tviewer_16496846163760552.setStyle({\"model\": 1},{\"stick\": {\"colorscheme\": \"purpleCarbon\"}});\n",
       "\tviewer_16496846163760552.setStyle({\"model\": 2},{\"stick\": {\"colorscheme\": \"greyCarbon\"}});\n",
       "\tviewer_16496846163760552.zoomTo();\n",
       "viewer_16496846163760552.render();\n",
       "});\n",
       "</script>"
      ]
     },
     "metadata": {},
     "output_type": "display_data"
    },
    {
     "data": {
      "text/plain": [
       "<py3Dmol.view at 0x7f41a9c66940>"
      ]
     },
     "metadata": {},
     "output_type": "display_data"
    },
    {
     "data": {
      "application/3dmoljs_load.v0": "<div id=\"3dmolviewer_16496846163814762\"  style=\"position: relative; width: 640px; height: 480px\">\n        <p id=\"3dmolwarning_16496846163814762\" style=\"background-color:#ffcccc;color:black\">You appear to be running in JupyterLab (or JavaScript failed to load for some other reason).  You need to install the 3dmol extension: <br>\n        <tt>jupyter labextension install jupyterlab_3dmol</tt></p>\n        </div>\n<script>\n\nvar loadScriptAsync = function(uri){\n  return new Promise((resolve, reject) => {\n    var tag = document.createElement('script');\n    tag.src = uri;\n    tag.async = true;\n    tag.onload = () => {\n      resolve();\n    };\n  var firstScriptTag = document.getElementsByTagName('script')[0];\n  firstScriptTag.parentNode.insertBefore(tag, firstScriptTag);\n});\n};\n\nif(typeof $3Dmolpromise === 'undefined') {\n$3Dmolpromise = null;\n  $3Dmolpromise = loadScriptAsync('https://3dmol.org/build/3Dmol.js');\n}\n\nvar viewer_16496846163814762 = null;\nvar warn = document.getElementById(\"3dmolwarning_16496846163814762\");\nif(warn) {\n    warn.parentNode.removeChild(warn);\n}\n$3Dmolpromise.then(function() {\nviewer_16496846163814762 = $3Dmol.createViewer($(\"#3dmolviewer_16496846163814762\"),{backgroundColor:\"white\"});\nviewer_16496846163814762.zoomTo();\n\tviewer_16496846163814762.addModel(\"4fkv_B_61K.pdb\\n     RDKit          3D\\n\\n 32 35  0  0  0  0  0  0  0  0999 V2000\\n    0.1040  -11.7670   25.4810 N   0  0  0  0  0  0  0  0  0  0  0  0\\n   -6.7530  -11.2890   28.6900 S   0  0  0  0  0  0  0  0  0  0  0  0\\n    1.4370  -11.9990   23.8080 N   0  0  0  0  0  0  0  0  0  0  0  0\\n    2.4100   -8.0860   24.6750 N   0  0  0  0  0  0  0  0  0  0  0  0\\n   -0.0880   -3.8990   28.7750 N   0  0  0  0  0  0  0  0  0  0  0  0\\n   -1.6440   -7.0440   28.4880 N   0  0  0  0  0  0  0  0  0  0  0  0\\n   -6.2040  -12.5530   27.8180 N   0  0  0  0  0  0  0  0  0  0  0  0\\n   -2.7060   -7.0630   29.1480 N   0  0  0  0  0  0  0  0  0  0  0  0\\n    4.1570   -6.6600   24.9190 O   0  0  0  0  0  0  0  0  0  0  0  0\\n   -1.9200   -4.5540   29.9590 O   0  0  0  0  0  0  0  0  0  0  0  0\\n   -7.1680  -11.6900   30.0690 O   0  0  0  0  0  0  0  0  0  0  0  0\\n   -7.9080  -10.6370   28.0050 O   0  0  0  0  0  0  0  0  0  0  0  0\\n   -3.5920   -8.9340   27.9730 C   0  0  0  0  0  0  0  0  0  0  0  0\\n   -4.6010   -8.1960   30.0410 C   0  0  0  0  0  0  0  0  0  0  0  0\\n   -4.5600   -9.9310   27.8470 C   0  0  0  0  0  0  0  0  0  0  0  0\\n   -5.5650   -9.2120   29.9400 C   0  0  0  0  0  0  0  0  0  0  0  0\\n    2.5610   -4.8190   26.3180 C   0  0  0  0  0  0  0  0  0  0  0  0\\n    1.8620   -4.0160   27.2260 C   0  0  0  0  0  0  0  0  0  0  0  0\\n    0.2850  -12.4120   24.3310 C   0  0  0  0  0  0  0  0  0  0  0  0\\n    1.1500  -10.9630   25.6750 C   0  0  0  0  0  0  0  0  0  0  0  0\\n    0.9920   -6.6270   26.7420 C   0  0  0  0  0  0  0  0  0  0  0  0\\n    3.1170   -9.0130   23.7620 C   0  0  0  0  0  0  0  0  0  0  0  0\\n    3.3020  -10.3740   24.4430 C   0  0  0  0  0  0  0  0  0  0  0  0\\n    2.9830   -6.9790   25.1360 C   0  0  0  0  0  0  0  0  0  0  0  0\\n   -3.5970   -8.0690   29.0770 C   0  0  0  0  0  0  0  0  0  0  0  0\\n    2.1440   -6.1330   26.1020 C   0  0  0  0  0  0  0  0  0  0  0  0\\n    1.9710  -11.1000   24.6380 C   0  0  0  0  0  0  0  0  0  0  0  0\\n   -5.5360  -10.0670   28.8360 C   0  0  0  0  0  0  0  0  0  0  0  0\\n   -1.0100   -4.7850   29.1550 C   0  0  0  0  0  0  0  0  0  0  0  0\\n   -0.7950   -6.0010   28.5010 C   0  0  0  0  0  0  0  0  0  0  0  0\\n    0.7190   -4.4930   27.8700 C   0  0  0  0  0  0  0  0  0  0  0  0\\n    0.2740   -5.7960   27.6230 C   0  0  0  0  0  0  0  0  0  0  0  0\\n  1 20  2  0\\n  1 19  1  0\\n  2 28  1  0\\n  2 12  2  0\\n  2 11  2  0\\n  2  7  1  0\\n  3 27  2  0\\n  3 19  1  0\\n  4 24  1  0\\n  4 22  1  0\\n  5 31  1  0\\n  5 29  1  0\\n  6 30  2  0\\n  6  8  1  0\\n  8 25  1  0\\n  9 24  2  0\\n 10 29  2  0\\n 13 25  2  0\\n 13 15  1  0\\n 14 25  1  0\\n 14 16  2  0\\n 15 28  2  0\\n 16 28  1  0\\n 17 18  1  0\\n 17 26  2  0\\n 18 31  2  0\\n 20 27  1  0\\n 21 32  2  0\\n 21 26  1  0\\n 22 23  1  0\\n 23 27  1  0\\n 24 26  1  0\\n 29 30  1  0\\n 30 32  1  0\\n 31 32  1  0\\nM  END\\n\",\"sdf\");\n\tviewer_16496846163814762.addModel(\"4fkv_B_61K.pdb\\n     RDKit          3D\\n\\n 28 31  0  0  0  0  0  0  0  0999 V2000\\n   -3.3907   -9.9712   27.6232 N   0  0  0  0  0  0  0  0  0  0  0  0\\n   -4.2327   -9.0246   29.3624 N   0  0  0  0  0  0  0  0  0  0  0  0\\n   -1.1321   -6.3628   28.8044 N   0  0  0  0  0  0  0  0  0  0  0  0\\n    3.8351   -6.4073   24.8160 N   0  0  0  0  0  0  0  0  0  0  0  0\\n    1.6963   -9.2038   24.8058 N   0  0  0  0  0  0  0  0  0  0  0  0\\n    2.1664  -10.1053   24.0777 N   0  0  0  0  0  0  0  0  0  0  0  0\\n   -0.6199   -4.1535   28.7638 O   0  0  0  0  0  0  0  0  0  0  0  0\\n    4.0896   -8.2315   23.4764 O   0  0  0  0  0  0  0  0  0  0  0  0\\n    0.8499  -11.8198   25.0743 C   0  0  0  0  0  0  0  0  0  0  0  0\\n    2.0125  -12.2206   22.9942 C   0  0  0  0  0  0  0  0  0  0  0  0\\n    0.3808  -13.1339   25.0748 C   0  0  0  0  0  0  0  0  0  0  0  0\\n    1.5254  -13.5373   22.9689 C   0  0  0  0  0  0  0  0  0  0  0  0\\n    1.7735   -4.6529   27.3797 C   0  0  0  0  0  0  0  0  0  0  0  0\\n    2.8266   -4.8477   26.4792 C   0  0  0  0  0  0  0  0  0  0  0  0\\n   -4.0795  -10.1913   28.7405 C   0  0  0  0  0  0  0  0  0  0  0  0\\n   -3.1275   -8.6661   27.5482 C   0  0  0  0  0  0  0  0  0  0  0  0\\n    0.8579   -6.8132   26.7430 C   0  0  0  0  0  0  0  0  0  0  0  0\\n   -2.3000   -6.2157   29.7027 C   0  0  0  0  0  0  0  0  0  0  0  0\\n   -3.5839   -6.5888   28.9524 C   0  0  0  0  0  0  0  0  0  0  0  0\\n   -0.3808   -5.3249   28.4511 C   0  0  0  0  0  0  0  0  0  0  0  0\\n    1.6568  -11.3498   24.0279 C   0  0  0  0  0  0  0  0  0  0  0  0\\n    0.7743   -5.6211   27.4863 C   0  0  0  0  0  0  0  0  0  0  0  0\\n   -3.6408   -8.0811   28.6262 C   0  0  0  0  0  0  0  0  0  0  0  0\\n    0.7168  -13.9815   24.0175 C   0  0  0  0  0  0  0  0  0  0  0  0\\n    3.4587   -7.5881   24.3225 C   0  0  0  0  0  0  0  0  0  0  0  0\\n    2.2562   -7.9856   24.9128 C   0  0  0  0  0  0  0  0  0  0  0  0\\n    2.9216   -6.0241   25.7335 C   0  0  0  0  0  0  0  0  0  0  0  0\\n    1.9438   -7.0150   25.8698 C   0  0  0  0  0  0  0  0  0  0  0  0\\n  1 16  2  0\\n  1 15  1  0\\n  2 23  2  0\\n  2 15  1  0\\n  3 20  1  0\\n  3 18  1  0\\n  4 27  1  0\\n  4 25  1  0\\n  5 26  2  0\\n  5  6  1  0\\n  6 21  1  0\\n  7 20  2  0\\n  8 25  2  0\\n  9 21  2  0\\n  9 11  1  0\\n 10 21  1  0\\n 10 12  2  0\\n 11 24  2  0\\n 12 24  1  0\\n 13 14  1  0\\n 13 22  2  0\\n 14 27  2  0\\n 16 23  1  0\\n 17 28  2  0\\n 17 22  1  0\\n 18 19  1  0\\n 19 23  1  0\\n 20 22  1  0\\n 25 26  1  0\\n 26 28  1  0\\n 27 28  1  0\\nM  END\\n\",\"sdf\");\n\tviewer_16496846163814762.addModel(\"4fkv_B_61K.pdb\\n     RDKit          3D\\n\\n 28 31  0  0  0  0  0  0  0  0999 V2000\\n   12.0108   22.0131  -14.1863 N   0  0  0  0  0  0  0  0  0  0  0  0\\n    9.9975   21.2626  -14.0717 N   0  0  0  0  0  0  0  0  0  0  0  0\\n   10.0008   23.2223  -10.4427 N   0  0  0  0  0  0  0  0  0  0  0  0\\n   14.6429   26.1364   -7.1961 N   0  0  0  0  0  0  0  0  0  0  0  0\\n   15.5105   24.5029  -10.1917 N   0  0  0  0  0  0  0  0  0  0  0  0\\n   16.7523   24.5008  -10.3393 N   0  0  0  0  0  0  0  0  0  0  0  0\\n    8.7742   24.5970   -9.1196 O   0  0  0  0  0  0  0  0  0  0  0  0\\n   16.7452   26.0543   -8.0683 O   0  0  0  0  0  0  0  0  0  0  0  0\\n   16.7247   22.7111  -11.9085 C   0  0  0  0  0  0  0  0  0  0  0  0\\n   18.7124   24.0537  -11.6161 C   0  0  0  0  0  0  0  0  0  0  0  0\\n   17.3881   21.9184  -12.8457 C   0  0  0  0  0  0  0  0  0  0  0  0\\n   19.3832   23.2804  -12.5772 C   0  0  0  0  0  0  0  0  0  0  0  0\\n   11.0361   25.2837   -7.6011 C   0  0  0  0  0  0  0  0  0  0  0  0\\n   12.1763   25.8303   -7.0020 C   0  0  0  0  0  0  0  0  0  0  0  0\\n   11.2069   21.0258  -14.5742 C   0  0  0  0  0  0  0  0  0  0  0  0\\n   11.2956   22.8668  -13.4530 C   0  0  0  0  0  0  0  0  0  0  0  0\\n   12.4110   24.4873   -9.4412 C   0  0  0  0  0  0  0  0  0  0  0  0\\n    8.8387   22.6524  -11.1620 C   0  0  0  0  0  0  0  0  0  0  0  0\\n    8.8885   23.0621  -12.6385 C   0  0  0  0  0  0  0  0  0  0  0  0\\n    9.8566   24.1109   -9.4650 C   0  0  0  0  0  0  0  0  0  0  0  0\\n   17.3769   23.7922  -11.2978 C   0  0  0  0  0  0  0  0  0  0  0  0\\n   11.1504   24.6416   -8.8347 C   0  0  0  0  0  0  0  0  0  0  0  0\\n   10.0529   22.4002  -13.3752 C   0  0  0  0  0  0  0  0  0  0  0  0\\n   18.7115   22.2136  -13.1784 C   0  0  0  0  0  0  0  0  0  0  0  0\\n   15.5351   25.8107   -8.1328 C   0  0  0  0  0  0  0  0  0  0  0  0\\n   14.8962   25.1484   -9.1843 C   0  0  0  0  0  0  0  0  0  0  0  0\\n   13.4330   25.6872   -7.5928 C   0  0  0  0  0  0  0  0  0  0  0  0\\n   13.5566   25.0069   -8.8088 C   0  0  0  0  0  0  0  0  0  0  0  0\\n  1 16  2  0\\n  1 15  1  0\\n  2 23  2  0\\n  2 15  1  0\\n  3 20  1  0\\n  3 18  1  0\\n  4 27  1  0\\n  4 25  1  0\\n  5 26  2  0\\n  5  6  1  0\\n  6 21  1  0\\n  7 20  2  0\\n  8 25  2  0\\n  9 21  2  0\\n  9 11  1  0\\n 10 21  1  0\\n 10 12  2  0\\n 11 24  2  0\\n 12 24  1  0\\n 13 14  1  0\\n 13 22  2  0\\n 14 27  2  0\\n 16 23  1  0\\n 17 28  2  0\\n 17 22  1  0\\n 18 19  1  0\\n 19 23  1  0\\n 20 22  1  0\\n 25 26  1  0\\n 26 28  1  0\\n 27 28  1  0\\nM  END\\n\",\"sdf\");\n\tviewer_16496846163814762.setStyle({\"model\": 0},{\"stick\": {\"colorscheme\": \"lightgreyCarbon\"}});\n\tviewer_16496846163814762.setStyle({\"model\": 1},{\"stick\": {\"colorscheme\": \"purpleCarbon\"}});\n\tviewer_16496846163814762.setStyle({\"model\": 2},{\"stick\": {\"colorscheme\": \"greyCarbon\"}});\n\tviewer_16496846163814762.zoomTo();\nviewer_16496846163814762.render();\n});\n</script>",
      "text/html": [
       "<div id=\"3dmolviewer_16496846163814762\"  style=\"position: relative; width: 640px; height: 480px\">\n",
       "        <p id=\"3dmolwarning_16496846163814762\" style=\"background-color:#ffcccc;color:black\">You appear to be running in JupyterLab (or JavaScript failed to load for some other reason).  You need to install the 3dmol extension: <br>\n",
       "        <tt>jupyter labextension install jupyterlab_3dmol</tt></p>\n",
       "        </div>\n",
       "<script>\n",
       "\n",
       "var loadScriptAsync = function(uri){\n",
       "  return new Promise((resolve, reject) => {\n",
       "    var tag = document.createElement('script');\n",
       "    tag.src = uri;\n",
       "    tag.async = true;\n",
       "    tag.onload = () => {\n",
       "      resolve();\n",
       "    };\n",
       "  var firstScriptTag = document.getElementsByTagName('script')[0];\n",
       "  firstScriptTag.parentNode.insertBefore(tag, firstScriptTag);\n",
       "});\n",
       "};\n",
       "\n",
       "if(typeof $3Dmolpromise === 'undefined') {\n",
       "$3Dmolpromise = null;\n",
       "  $3Dmolpromise = loadScriptAsync('https://3dmol.org/build/3Dmol.js');\n",
       "}\n",
       "\n",
       "var viewer_16496846163814762 = null;\n",
       "var warn = document.getElementById(\"3dmolwarning_16496846163814762\");\n",
       "if(warn) {\n",
       "    warn.parentNode.removeChild(warn);\n",
       "}\n",
       "$3Dmolpromise.then(function() {\n",
       "viewer_16496846163814762 = $3Dmol.createViewer($(\"#3dmolviewer_16496846163814762\"),{backgroundColor:\"white\"});\n",
       "viewer_16496846163814762.zoomTo();\n",
       "\tviewer_16496846163814762.addModel(\"4fkv_B_61K.pdb\\n     RDKit          3D\\n\\n 32 35  0  0  0  0  0  0  0  0999 V2000\\n    0.1040  -11.7670   25.4810 N   0  0  0  0  0  0  0  0  0  0  0  0\\n   -6.7530  -11.2890   28.6900 S   0  0  0  0  0  0  0  0  0  0  0  0\\n    1.4370  -11.9990   23.8080 N   0  0  0  0  0  0  0  0  0  0  0  0\\n    2.4100   -8.0860   24.6750 N   0  0  0  0  0  0  0  0  0  0  0  0\\n   -0.0880   -3.8990   28.7750 N   0  0  0  0  0  0  0  0  0  0  0  0\\n   -1.6440   -7.0440   28.4880 N   0  0  0  0  0  0  0  0  0  0  0  0\\n   -6.2040  -12.5530   27.8180 N   0  0  0  0  0  0  0  0  0  0  0  0\\n   -2.7060   -7.0630   29.1480 N   0  0  0  0  0  0  0  0  0  0  0  0\\n    4.1570   -6.6600   24.9190 O   0  0  0  0  0  0  0  0  0  0  0  0\\n   -1.9200   -4.5540   29.9590 O   0  0  0  0  0  0  0  0  0  0  0  0\\n   -7.1680  -11.6900   30.0690 O   0  0  0  0  0  0  0  0  0  0  0  0\\n   -7.9080  -10.6370   28.0050 O   0  0  0  0  0  0  0  0  0  0  0  0\\n   -3.5920   -8.9340   27.9730 C   0  0  0  0  0  0  0  0  0  0  0  0\\n   -4.6010   -8.1960   30.0410 C   0  0  0  0  0  0  0  0  0  0  0  0\\n   -4.5600   -9.9310   27.8470 C   0  0  0  0  0  0  0  0  0  0  0  0\\n   -5.5650   -9.2120   29.9400 C   0  0  0  0  0  0  0  0  0  0  0  0\\n    2.5610   -4.8190   26.3180 C   0  0  0  0  0  0  0  0  0  0  0  0\\n    1.8620   -4.0160   27.2260 C   0  0  0  0  0  0  0  0  0  0  0  0\\n    0.2850  -12.4120   24.3310 C   0  0  0  0  0  0  0  0  0  0  0  0\\n    1.1500  -10.9630   25.6750 C   0  0  0  0  0  0  0  0  0  0  0  0\\n    0.9920   -6.6270   26.7420 C   0  0  0  0  0  0  0  0  0  0  0  0\\n    3.1170   -9.0130   23.7620 C   0  0  0  0  0  0  0  0  0  0  0  0\\n    3.3020  -10.3740   24.4430 C   0  0  0  0  0  0  0  0  0  0  0  0\\n    2.9830   -6.9790   25.1360 C   0  0  0  0  0  0  0  0  0  0  0  0\\n   -3.5970   -8.0690   29.0770 C   0  0  0  0  0  0  0  0  0  0  0  0\\n    2.1440   -6.1330   26.1020 C   0  0  0  0  0  0  0  0  0  0  0  0\\n    1.9710  -11.1000   24.6380 C   0  0  0  0  0  0  0  0  0  0  0  0\\n   -5.5360  -10.0670   28.8360 C   0  0  0  0  0  0  0  0  0  0  0  0\\n   -1.0100   -4.7850   29.1550 C   0  0  0  0  0  0  0  0  0  0  0  0\\n   -0.7950   -6.0010   28.5010 C   0  0  0  0  0  0  0  0  0  0  0  0\\n    0.7190   -4.4930   27.8700 C   0  0  0  0  0  0  0  0  0  0  0  0\\n    0.2740   -5.7960   27.6230 C   0  0  0  0  0  0  0  0  0  0  0  0\\n  1 20  2  0\\n  1 19  1  0\\n  2 28  1  0\\n  2 12  2  0\\n  2 11  2  0\\n  2  7  1  0\\n  3 27  2  0\\n  3 19  1  0\\n  4 24  1  0\\n  4 22  1  0\\n  5 31  1  0\\n  5 29  1  0\\n  6 30  2  0\\n  6  8  1  0\\n  8 25  1  0\\n  9 24  2  0\\n 10 29  2  0\\n 13 25  2  0\\n 13 15  1  0\\n 14 25  1  0\\n 14 16  2  0\\n 15 28  2  0\\n 16 28  1  0\\n 17 18  1  0\\n 17 26  2  0\\n 18 31  2  0\\n 20 27  1  0\\n 21 32  2  0\\n 21 26  1  0\\n 22 23  1  0\\n 23 27  1  0\\n 24 26  1  0\\n 29 30  1  0\\n 30 32  1  0\\n 31 32  1  0\\nM  END\\n\",\"sdf\");\n",
       "\tviewer_16496846163814762.addModel(\"4fkv_B_61K.pdb\\n     RDKit          3D\\n\\n 28 31  0  0  0  0  0  0  0  0999 V2000\\n   -3.3907   -9.9712   27.6232 N   0  0  0  0  0  0  0  0  0  0  0  0\\n   -4.2327   -9.0246   29.3624 N   0  0  0  0  0  0  0  0  0  0  0  0\\n   -1.1321   -6.3628   28.8044 N   0  0  0  0  0  0  0  0  0  0  0  0\\n    3.8351   -6.4073   24.8160 N   0  0  0  0  0  0  0  0  0  0  0  0\\n    1.6963   -9.2038   24.8058 N   0  0  0  0  0  0  0  0  0  0  0  0\\n    2.1664  -10.1053   24.0777 N   0  0  0  0  0  0  0  0  0  0  0  0\\n   -0.6199   -4.1535   28.7638 O   0  0  0  0  0  0  0  0  0  0  0  0\\n    4.0896   -8.2315   23.4764 O   0  0  0  0  0  0  0  0  0  0  0  0\\n    0.8499  -11.8198   25.0743 C   0  0  0  0  0  0  0  0  0  0  0  0\\n    2.0125  -12.2206   22.9942 C   0  0  0  0  0  0  0  0  0  0  0  0\\n    0.3808  -13.1339   25.0748 C   0  0  0  0  0  0  0  0  0  0  0  0\\n    1.5254  -13.5373   22.9689 C   0  0  0  0  0  0  0  0  0  0  0  0\\n    1.7735   -4.6529   27.3797 C   0  0  0  0  0  0  0  0  0  0  0  0\\n    2.8266   -4.8477   26.4792 C   0  0  0  0  0  0  0  0  0  0  0  0\\n   -4.0795  -10.1913   28.7405 C   0  0  0  0  0  0  0  0  0  0  0  0\\n   -3.1275   -8.6661   27.5482 C   0  0  0  0  0  0  0  0  0  0  0  0\\n    0.8579   -6.8132   26.7430 C   0  0  0  0  0  0  0  0  0  0  0  0\\n   -2.3000   -6.2157   29.7027 C   0  0  0  0  0  0  0  0  0  0  0  0\\n   -3.5839   -6.5888   28.9524 C   0  0  0  0  0  0  0  0  0  0  0  0\\n   -0.3808   -5.3249   28.4511 C   0  0  0  0  0  0  0  0  0  0  0  0\\n    1.6568  -11.3498   24.0279 C   0  0  0  0  0  0  0  0  0  0  0  0\\n    0.7743   -5.6211   27.4863 C   0  0  0  0  0  0  0  0  0  0  0  0\\n   -3.6408   -8.0811   28.6262 C   0  0  0  0  0  0  0  0  0  0  0  0\\n    0.7168  -13.9815   24.0175 C   0  0  0  0  0  0  0  0  0  0  0  0\\n    3.4587   -7.5881   24.3225 C   0  0  0  0  0  0  0  0  0  0  0  0\\n    2.2562   -7.9856   24.9128 C   0  0  0  0  0  0  0  0  0  0  0  0\\n    2.9216   -6.0241   25.7335 C   0  0  0  0  0  0  0  0  0  0  0  0\\n    1.9438   -7.0150   25.8698 C   0  0  0  0  0  0  0  0  0  0  0  0\\n  1 16  2  0\\n  1 15  1  0\\n  2 23  2  0\\n  2 15  1  0\\n  3 20  1  0\\n  3 18  1  0\\n  4 27  1  0\\n  4 25  1  0\\n  5 26  2  0\\n  5  6  1  0\\n  6 21  1  0\\n  7 20  2  0\\n  8 25  2  0\\n  9 21  2  0\\n  9 11  1  0\\n 10 21  1  0\\n 10 12  2  0\\n 11 24  2  0\\n 12 24  1  0\\n 13 14  1  0\\n 13 22  2  0\\n 14 27  2  0\\n 16 23  1  0\\n 17 28  2  0\\n 17 22  1  0\\n 18 19  1  0\\n 19 23  1  0\\n 20 22  1  0\\n 25 26  1  0\\n 26 28  1  0\\n 27 28  1  0\\nM  END\\n\",\"sdf\");\n",
       "\tviewer_16496846163814762.addModel(\"4fkv_B_61K.pdb\\n     RDKit          3D\\n\\n 28 31  0  0  0  0  0  0  0  0999 V2000\\n   12.0108   22.0131  -14.1863 N   0  0  0  0  0  0  0  0  0  0  0  0\\n    9.9975   21.2626  -14.0717 N   0  0  0  0  0  0  0  0  0  0  0  0\\n   10.0008   23.2223  -10.4427 N   0  0  0  0  0  0  0  0  0  0  0  0\\n   14.6429   26.1364   -7.1961 N   0  0  0  0  0  0  0  0  0  0  0  0\\n   15.5105   24.5029  -10.1917 N   0  0  0  0  0  0  0  0  0  0  0  0\\n   16.7523   24.5008  -10.3393 N   0  0  0  0  0  0  0  0  0  0  0  0\\n    8.7742   24.5970   -9.1196 O   0  0  0  0  0  0  0  0  0  0  0  0\\n   16.7452   26.0543   -8.0683 O   0  0  0  0  0  0  0  0  0  0  0  0\\n   16.7247   22.7111  -11.9085 C   0  0  0  0  0  0  0  0  0  0  0  0\\n   18.7124   24.0537  -11.6161 C   0  0  0  0  0  0  0  0  0  0  0  0\\n   17.3881   21.9184  -12.8457 C   0  0  0  0  0  0  0  0  0  0  0  0\\n   19.3832   23.2804  -12.5772 C   0  0  0  0  0  0  0  0  0  0  0  0\\n   11.0361   25.2837   -7.6011 C   0  0  0  0  0  0  0  0  0  0  0  0\\n   12.1763   25.8303   -7.0020 C   0  0  0  0  0  0  0  0  0  0  0  0\\n   11.2069   21.0258  -14.5742 C   0  0  0  0  0  0  0  0  0  0  0  0\\n   11.2956   22.8668  -13.4530 C   0  0  0  0  0  0  0  0  0  0  0  0\\n   12.4110   24.4873   -9.4412 C   0  0  0  0  0  0  0  0  0  0  0  0\\n    8.8387   22.6524  -11.1620 C   0  0  0  0  0  0  0  0  0  0  0  0\\n    8.8885   23.0621  -12.6385 C   0  0  0  0  0  0  0  0  0  0  0  0\\n    9.8566   24.1109   -9.4650 C   0  0  0  0  0  0  0  0  0  0  0  0\\n   17.3769   23.7922  -11.2978 C   0  0  0  0  0  0  0  0  0  0  0  0\\n   11.1504   24.6416   -8.8347 C   0  0  0  0  0  0  0  0  0  0  0  0\\n   10.0529   22.4002  -13.3752 C   0  0  0  0  0  0  0  0  0  0  0  0\\n   18.7115   22.2136  -13.1784 C   0  0  0  0  0  0  0  0  0  0  0  0\\n   15.5351   25.8107   -8.1328 C   0  0  0  0  0  0  0  0  0  0  0  0\\n   14.8962   25.1484   -9.1843 C   0  0  0  0  0  0  0  0  0  0  0  0\\n   13.4330   25.6872   -7.5928 C   0  0  0  0  0  0  0  0  0  0  0  0\\n   13.5566   25.0069   -8.8088 C   0  0  0  0  0  0  0  0  0  0  0  0\\n  1 16  2  0\\n  1 15  1  0\\n  2 23  2  0\\n  2 15  1  0\\n  3 20  1  0\\n  3 18  1  0\\n  4 27  1  0\\n  4 25  1  0\\n  5 26  2  0\\n  5  6  1  0\\n  6 21  1  0\\n  7 20  2  0\\n  8 25  2  0\\n  9 21  2  0\\n  9 11  1  0\\n 10 21  1  0\\n 10 12  2  0\\n 11 24  2  0\\n 12 24  1  0\\n 13 14  1  0\\n 13 22  2  0\\n 14 27  2  0\\n 16 23  1  0\\n 17 28  2  0\\n 17 22  1  0\\n 18 19  1  0\\n 19 23  1  0\\n 20 22  1  0\\n 25 26  1  0\\n 26 28  1  0\\n 27 28  1  0\\nM  END\\n\",\"sdf\");\n",
       "\tviewer_16496846163814762.setStyle({\"model\": 0},{\"stick\": {\"colorscheme\": \"lightgreyCarbon\"}});\n",
       "\tviewer_16496846163814762.setStyle({\"model\": 1},{\"stick\": {\"colorscheme\": \"purpleCarbon\"}});\n",
       "\tviewer_16496846163814762.setStyle({\"model\": 2},{\"stick\": {\"colorscheme\": \"greyCarbon\"}});\n",
       "\tviewer_16496846163814762.zoomTo();\n",
       "viewer_16496846163814762.render();\n",
       "});\n",
       "</script>"
      ]
     },
     "metadata": {},
     "output_type": "display_data"
    },
    {
     "data": {
      "text/plain": [
       "<py3Dmol.view at 0x7f41a9778820>"
      ]
     },
     "metadata": {},
     "output_type": "display_data"
    }
   ],
   "source": [
    "for _, (i, lig) in df[df.RMSDf > rmsd_threshold][[\"idx\", \"lig\"]].iterrows():\n",
    "    p = show_scaffold(mols[i], tMSmols[i])\n",
    "\n",
    "    with Chem.SDWriter(f\"failed-{method}/{lig}_alignfail.sdf\") as w:\n",
    "        w.write(tMSmols[i], confId=1)\n",
    "\n",
    "    display(p)"
   ]
  },
  {
   "cell_type": "markdown",
   "metadata": {},
   "source": [
    "### Repeats"
   ]
  },
  {
   "cell_type": "markdown",
   "metadata": {},
   "source": [
    "Repeat alignments in order to gather some statistics:"
   ]
  },
  {
   "cell_type": "code",
   "execution_count": 26,
   "metadata": {},
   "outputs": [],
   "source": [
    "for _ in range(repeats):\n",
    "    for i, f in enumerate(files):\n",
    "        rmsd_i, rmsd_f, _, _ = align_and_show_scaffold(\n",
    "            mols[i], pcds[i], tMSmols[i], tMSpcds[i], MSmols[i]\n",
    "        )\n",
    "        rmsdreps[\"system\"].append(\"CDK2\")\n",
    "        rmsdreps[\"lig\"].append(\n",
    "            names[\n",
    "                os.path.splitext(os.path.basename(f))[0].replace(\n",
    "                    f\"_murcko_tran_{method}\", \"\"\n",
    "                )\n",
    "            ]\n",
    "        )\n",
    "        rmsdreps[\"RMSDi\"].append(rmsd_i)\n",
    "        rmsdreps[\"RMSDf\"].append(rmsd_f)\n",
    "        rmsdreps[\"idx\"].append(i)"
   ]
  },
  {
   "cell_type": "markdown",
   "metadata": {},
   "source": [
    "## Show Results"
   ]
  },
  {
   "cell_type": "code",
   "execution_count": 27,
   "metadata": {},
   "outputs": [
    {
     "data": {
      "text/html": [
       "<div>\n",
       "<style scoped>\n",
       "    .dataframe tbody tr th:only-of-type {\n",
       "        vertical-align: middle;\n",
       "    }\n",
       "\n",
       "    .dataframe tbody tr th {\n",
       "        vertical-align: top;\n",
       "    }\n",
       "\n",
       "    .dataframe thead th {\n",
       "        text-align: right;\n",
       "    }\n",
       "</style>\n",
       "<table border=\"1\" class=\"dataframe\">\n",
       "  <thead>\n",
       "    <tr style=\"text-align: right;\">\n",
       "      <th></th>\n",
       "      <th>system</th>\n",
       "      <th>lig</th>\n",
       "      <th>RMSDi</th>\n",
       "      <th>RMSDf</th>\n",
       "      <th>idx</th>\n",
       "    </tr>\n",
       "  </thead>\n",
       "  <tbody>\n",
       "    <tr>\n",
       "      <th>0</th>\n",
       "      <td>BRD4</td>\n",
       "      <td>ligand-1</td>\n",
       "      <td>14.741494</td>\n",
       "      <td>0.068554</td>\n",
       "      <td>0</td>\n",
       "    </tr>\n",
       "    <tr>\n",
       "      <th>1</th>\n",
       "      <td>BRD4</td>\n",
       "      <td>ligand-2</td>\n",
       "      <td>3.476632</td>\n",
       "      <td>0.036256</td>\n",
       "      <td>1</td>\n",
       "    </tr>\n",
       "    <tr>\n",
       "      <th>2</th>\n",
       "      <td>BRD4</td>\n",
       "      <td>ligand-3</td>\n",
       "      <td>16.842481</td>\n",
       "      <td>5.173501</td>\n",
       "      <td>2</td>\n",
       "    </tr>\n",
       "    <tr>\n",
       "      <th>3</th>\n",
       "      <td>BRD4</td>\n",
       "      <td>ligand-4</td>\n",
       "      <td>16.532072</td>\n",
       "      <td>0.213407</td>\n",
       "      <td>3</td>\n",
       "    </tr>\n",
       "    <tr>\n",
       "      <th>4</th>\n",
       "      <td>BRD4</td>\n",
       "      <td>ligand-5</td>\n",
       "      <td>7.522788</td>\n",
       "      <td>0.054146</td>\n",
       "      <td>4</td>\n",
       "    </tr>\n",
       "    <tr>\n",
       "      <th>5</th>\n",
       "      <td>BRD4</td>\n",
       "      <td>ligand-6</td>\n",
       "      <td>18.104774</td>\n",
       "      <td>2.351306</td>\n",
       "      <td>5</td>\n",
       "    </tr>\n",
       "    <tr>\n",
       "      <th>6</th>\n",
       "      <td>BRD4</td>\n",
       "      <td>ligand-7</td>\n",
       "      <td>22.284243</td>\n",
       "      <td>0.059618</td>\n",
       "      <td>6</td>\n",
       "    </tr>\n",
       "    <tr>\n",
       "      <th>7</th>\n",
       "      <td>BRD4</td>\n",
       "      <td>ligand-8</td>\n",
       "      <td>3.884586</td>\n",
       "      <td>0.094765</td>\n",
       "      <td>7</td>\n",
       "    </tr>\n",
       "    <tr>\n",
       "      <th>8</th>\n",
       "      <td>BRD4</td>\n",
       "      <td>ligand-9</td>\n",
       "      <td>7.182288</td>\n",
       "      <td>0.095866</td>\n",
       "      <td>8</td>\n",
       "    </tr>\n",
       "    <tr>\n",
       "      <th>9</th>\n",
       "      <td>BRD4</td>\n",
       "      <td>ligand-10</td>\n",
       "      <td>23.021753</td>\n",
       "      <td>0.091005</td>\n",
       "      <td>9</td>\n",
       "    </tr>\n",
       "    <tr>\n",
       "      <th>10</th>\n",
       "      <td>CDK2</td>\n",
       "      <td>CS1</td>\n",
       "      <td>7.746557</td>\n",
       "      <td>0.158146</td>\n",
       "      <td>0</td>\n",
       "    </tr>\n",
       "    <tr>\n",
       "      <th>11</th>\n",
       "      <td>CDK2</td>\n",
       "      <td>CS3</td>\n",
       "      <td>33.223370</td>\n",
       "      <td>0.059373</td>\n",
       "      <td>1</td>\n",
       "    </tr>\n",
       "    <tr>\n",
       "      <th>12</th>\n",
       "      <td>CDK2</td>\n",
       "      <td>CS4</td>\n",
       "      <td>44.136952</td>\n",
       "      <td>0.074718</td>\n",
       "      <td>2</td>\n",
       "    </tr>\n",
       "    <tr>\n",
       "      <th>13</th>\n",
       "      <td>CDK2</td>\n",
       "      <td>CS9</td>\n",
       "      <td>20.057555</td>\n",
       "      <td>0.095178</td>\n",
       "      <td>3</td>\n",
       "    </tr>\n",
       "    <tr>\n",
       "      <th>14</th>\n",
       "      <td>CDK2</td>\n",
       "      <td>CS11</td>\n",
       "      <td>45.383193</td>\n",
       "      <td>0.048936</td>\n",
       "      <td>4</td>\n",
       "    </tr>\n",
       "    <tr>\n",
       "      <th>15</th>\n",
       "      <td>CDK2</td>\n",
       "      <td>CS18</td>\n",
       "      <td>51.884261</td>\n",
       "      <td>0.040523</td>\n",
       "      <td>5</td>\n",
       "    </tr>\n",
       "    <tr>\n",
       "      <th>16</th>\n",
       "      <td>CDK2</td>\n",
       "      <td>CS19</td>\n",
       "      <td>39.207742</td>\n",
       "      <td>0.065085</td>\n",
       "      <td>6</td>\n",
       "    </tr>\n",
       "    <tr>\n",
       "      <th>17</th>\n",
       "      <td>CDK2</td>\n",
       "      <td>CS20</td>\n",
       "      <td>52.549371</td>\n",
       "      <td>5.477436</td>\n",
       "      <td>7</td>\n",
       "    </tr>\n",
       "    <tr>\n",
       "      <th>18</th>\n",
       "      <td>CDK2</td>\n",
       "      <td>CS241</td>\n",
       "      <td>9.439092</td>\n",
       "      <td>0.067396</td>\n",
       "      <td>8</td>\n",
       "    </tr>\n",
       "    <tr>\n",
       "      <th>19</th>\n",
       "      <td>CDK2</td>\n",
       "      <td>CS242</td>\n",
       "      <td>16.977486</td>\n",
       "      <td>0.034129</td>\n",
       "      <td>9</td>\n",
       "    </tr>\n",
       "    <tr>\n",
       "      <th>20</th>\n",
       "      <td>CDK2</td>\n",
       "      <td>CS245</td>\n",
       "      <td>8.534871</td>\n",
       "      <td>0.039084</td>\n",
       "      <td>10</td>\n",
       "    </tr>\n",
       "    <tr>\n",
       "      <th>21</th>\n",
       "      <td>CDK2</td>\n",
       "      <td>CS246</td>\n",
       "      <td>46.302326</td>\n",
       "      <td>0.075893</td>\n",
       "      <td>11</td>\n",
       "    </tr>\n",
       "    <tr>\n",
       "      <th>22</th>\n",
       "      <td>CDK2</td>\n",
       "      <td>CS248</td>\n",
       "      <td>21.833633</td>\n",
       "      <td>0.067379</td>\n",
       "      <td>12</td>\n",
       "    </tr>\n",
       "    <tr>\n",
       "      <th>23</th>\n",
       "      <td>CDK2</td>\n",
       "      <td>CS260</td>\n",
       "      <td>19.393635</td>\n",
       "      <td>6.821876</td>\n",
       "      <td>13</td>\n",
       "    </tr>\n",
       "    <tr>\n",
       "      <th>24</th>\n",
       "      <td>CDK2</td>\n",
       "      <td>CS261</td>\n",
       "      <td>51.522771</td>\n",
       "      <td>6.602887</td>\n",
       "      <td>14</td>\n",
       "    </tr>\n",
       "    <tr>\n",
       "      <th>25</th>\n",
       "      <td>CDK2</td>\n",
       "      <td>CS262</td>\n",
       "      <td>9.114243</td>\n",
       "      <td>0.085448</td>\n",
       "      <td>15</td>\n",
       "    </tr>\n",
       "  </tbody>\n",
       "</table>\n",
       "</div>"
      ],
      "text/plain": [
       "   system        lig      RMSDi     RMSDf  idx\n",
       "0    BRD4   ligand-1  14.741494  0.068554    0\n",
       "1    BRD4   ligand-2   3.476632  0.036256    1\n",
       "2    BRD4   ligand-3  16.842481  5.173501    2\n",
       "3    BRD4   ligand-4  16.532072  0.213407    3\n",
       "4    BRD4   ligand-5   7.522788  0.054146    4\n",
       "5    BRD4   ligand-6  18.104774  2.351306    5\n",
       "6    BRD4   ligand-7  22.284243  0.059618    6\n",
       "7    BRD4   ligand-8   3.884586  0.094765    7\n",
       "8    BRD4   ligand-9   7.182288  0.095866    8\n",
       "9    BRD4  ligand-10  23.021753  0.091005    9\n",
       "10   CDK2        CS1   7.746557  0.158146    0\n",
       "11   CDK2        CS3  33.223370  0.059373    1\n",
       "12   CDK2        CS4  44.136952  0.074718    2\n",
       "13   CDK2        CS9  20.057555  0.095178    3\n",
       "14   CDK2       CS11  45.383193  0.048936    4\n",
       "15   CDK2       CS18  51.884261  0.040523    5\n",
       "16   CDK2       CS19  39.207742  0.065085    6\n",
       "17   CDK2       CS20  52.549371  5.477436    7\n",
       "18   CDK2      CS241   9.439092  0.067396    8\n",
       "19   CDK2      CS242  16.977486  0.034129    9\n",
       "20   CDK2      CS245   8.534871  0.039084   10\n",
       "21   CDK2      CS246  46.302326  0.075893   11\n",
       "22   CDK2      CS248  21.833633  0.067379   12\n",
       "23   CDK2      CS260  19.393635  6.821876   13\n",
       "24   CDK2      CS261  51.522771  6.602887   14\n",
       "25   CDK2      CS262   9.114243  0.085448   15"
      ]
     },
     "execution_count": 27,
     "metadata": {},
     "output_type": "execute_result"
    }
   ],
   "source": [
    "df = pd.DataFrame(rmsds)\n",
    "df"
   ]
  },
  {
   "cell_type": "code",
   "execution_count": 28,
   "metadata": {},
   "outputs": [
    {
     "data": {
      "text/html": [
       "<div>\n",
       "<style scoped>\n",
       "    .dataframe tbody tr th:only-of-type {\n",
       "        vertical-align: middle;\n",
       "    }\n",
       "\n",
       "    .dataframe tbody tr th {\n",
       "        vertical-align: top;\n",
       "    }\n",
       "\n",
       "    .dataframe thead th {\n",
       "        text-align: right;\n",
       "    }\n",
       "</style>\n",
       "<table border=\"1\" class=\"dataframe\">\n",
       "  <thead>\n",
       "    <tr style=\"text-align: right;\">\n",
       "      <th></th>\n",
       "      <th>system</th>\n",
       "      <th>lig</th>\n",
       "      <th>RMSDi</th>\n",
       "      <th>RMSDf</th>\n",
       "      <th>idx</th>\n",
       "    </tr>\n",
       "  </thead>\n",
       "  <tbody>\n",
       "    <tr>\n",
       "      <th>2</th>\n",
       "      <td>BRD4</td>\n",
       "      <td>ligand-3</td>\n",
       "      <td>16.842481</td>\n",
       "      <td>5.173501</td>\n",
       "      <td>2</td>\n",
       "    </tr>\n",
       "    <tr>\n",
       "      <th>5</th>\n",
       "      <td>BRD4</td>\n",
       "      <td>ligand-6</td>\n",
       "      <td>18.104774</td>\n",
       "      <td>2.351306</td>\n",
       "      <td>5</td>\n",
       "    </tr>\n",
       "    <tr>\n",
       "      <th>17</th>\n",
       "      <td>CDK2</td>\n",
       "      <td>CS20</td>\n",
       "      <td>52.549371</td>\n",
       "      <td>5.477436</td>\n",
       "      <td>7</td>\n",
       "    </tr>\n",
       "    <tr>\n",
       "      <th>23</th>\n",
       "      <td>CDK2</td>\n",
       "      <td>CS260</td>\n",
       "      <td>19.393635</td>\n",
       "      <td>6.821876</td>\n",
       "      <td>13</td>\n",
       "    </tr>\n",
       "    <tr>\n",
       "      <th>24</th>\n",
       "      <td>CDK2</td>\n",
       "      <td>CS261</td>\n",
       "      <td>51.522771</td>\n",
       "      <td>6.602887</td>\n",
       "      <td>14</td>\n",
       "    </tr>\n",
       "  </tbody>\n",
       "</table>\n",
       "</div>"
      ],
      "text/plain": [
       "   system       lig      RMSDi     RMSDf  idx\n",
       "2    BRD4  ligand-3  16.842481  5.173501    2\n",
       "5    BRD4  ligand-6  18.104774  2.351306    5\n",
       "17   CDK2      CS20  52.549371  5.477436    7\n",
       "23   CDK2     CS260  19.393635  6.821876   13\n",
       "24   CDK2     CS261  51.522771  6.602887   14"
      ]
     },
     "execution_count": 28,
     "metadata": {},
     "output_type": "execute_result"
    }
   ],
   "source": [
    "df[df.RMSDf > rmsd_threshold]"
   ]
  },
  {
   "cell_type": "code",
   "execution_count": 29,
   "metadata": {},
   "outputs": [],
   "source": [
    "df.to_csv(f\"alig_scaffolds_rmsds_{method}.csv\", index=False, float_format=\"%.5f\")"
   ]
  },
  {
   "cell_type": "markdown",
   "metadata": {},
   "source": [
    "### Repeats"
   ]
  },
  {
   "cell_type": "code",
   "execution_count": 30,
   "metadata": {},
   "outputs": [],
   "source": [
    "df = pd.DataFrame(rmsdreps)"
   ]
  },
  {
   "cell_type": "code",
   "execution_count": 31,
   "metadata": {},
   "outputs": [],
   "source": [
    "df.to_csv(\n",
    "    f\"alig_scaffolds_rmsds_{method}_repeats.csv\", index=False, float_format=\"%.5f\"\n",
    ")"
   ]
  }
 ],
 "metadata": {
  "interpreter": {
   "hash": "2170310d8da5d5d0ced416f072c764c73705bd667e97df15cd83672f4e754559"
  },
  "kernelspec": {
   "display_name": "Python 3",
   "language": "python",
   "name": "python3"
  },
  "language_info": {
   "codemirror_mode": {
    "name": "ipython",
    "version": 3
   },
   "file_extension": ".py",
   "mimetype": "text/x-python",
   "name": "python",
   "nbconvert_exporter": "python",
   "pygments_lexer": "ipython3",
   "version": "3.9.12"
  }
 },
 "nbformat": 4,
 "nbformat_minor": 2
}
